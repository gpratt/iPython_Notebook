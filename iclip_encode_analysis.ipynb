{
 "metadata": {
  "name": "iclip_encode_analysis"
 },
 "nbformat": 3,
 "nbformat_minor": 0,
 "worksheets": [
  {
   "cells": [
    {
     "cell_type": "code",
     "collapsed": false,
     "input": [
      "import pandas as pd\n",
      "\n",
      "import pybedtools\n",
      "\n",
      "import os\n",
      "\n",
      "from collections import Counter"
     ],
     "language": "python",
     "metadata": {},
     "outputs": [],
     "prompt_number": 97
    },
    {
     "cell_type": "code",
     "collapsed": false,
     "input": [
      "x = pd.read_csv(\"/nas3/gpratt/good.txt\", delimiter=\"\\t\", header=0, names=[\"barcode\", \"counts\"])"
     ],
     "language": "python",
     "metadata": {},
     "outputs": [],
     "prompt_number": 63
    },
    {
     "cell_type": "code",
     "collapsed": false,
     "input": [
      "plot(sorted(x.counts))"
     ],
     "language": "python",
     "metadata": {},
     "outputs": [
      {
       "output_type": "pyout",
       "prompt_number": 65,
       "text": [
        "[<matplotlib.lines.Line2D at 0x2aab1cafd410>]"
       ]
      },
      {
       "output_type": "display_data",
       "png": "[encoded data removed]"
      }
     ],
     "prompt_number": 65
    },
    {
     "cell_type": "code",
     "collapsed": false,
     "input": [
      "!head /nas3/gpratt/good.txt"
     ],
     "language": "python",
     "metadata": {},
     "outputs": [
      {
       "output_type": "stream",
       "stream": "stdout",
       "text": [
        "ATCTAACCG\t817373\r\n",
        "TCTAACCCC\t476108\r\n",
        "AAAAACCAA\t455430\r\n",
        "TCTAACCTC\t407004\r\n",
        "AATAACCAA\t380696\r\n",
        "AAAAACCAT\t379167\r\n",
        "AACAACCAA\t363201\r\n",
        "TAAAACCAA\t350842\r\n",
        "AAAAACCCA\t328818\r\n",
        "ATAAACCAA\t324980\r\n"
       ]
      }
     ],
     "prompt_number": 66
    },
    {
     "cell_type": "code",
     "collapsed": false,
     "input": [
      "hist(sorted(x.counts[x.counts > 1000]))"
     ],
     "language": "python",
     "metadata": {},
     "outputs": [
      {
       "output_type": "pyout",
       "prompt_number": 69,
       "text": [
        "(array([918, 236, 120,  77,  46,  26,  14,   4,   1,   2]),\n",
        " array([   1013. ,   48522.5,   96032. ,  143541.5,  191051. ,  238560.5,\n",
        "        286070. ,  333579.5,  381089. ,  428598.5,  476108. ]),\n",
        " <a list of 10 Patch objects>)"
       ]
      },
      {
       "output_type": "display_data",
       "png": "[encoded data removed]"
      }
     ],
     "prompt_number": 69
    },
    {
     "cell_type": "code",
     "collapsed": false,
     "input": [
      "beds = !ls /nas3/gpratt/projects/encode/data/*.rmDup.peaks.bed\n",
      "print \n",
      "beds = {os.path.basename(bed).split(\".\")[0] : pybedtools.BedTool(bed) for bed in beds}"
     ],
     "language": "python",
     "metadata": {},
     "outputs": [
      {
       "output_type": "stream",
       "stream": "stdout",
       "text": [
        "\n"
       ]
      }
     ],
     "prompt_number": 111
    },
    {
     "cell_type": "code",
     "collapsed": false,
     "input": [
      "jaccard_dict = {}\n",
      "for name1, bed1 in beds.items():\n",
      "    jaccard_dict[name1] = {}\n",
      "    for name2, bed2 in beds.items():\n",
      "        jaccard_dict[name1][name2] = len(bed1.intersect(bed2, u=True))\n",
      "\n",
      "jaccard_frame = pd.DataFrame(jaccard_dict)"
     ],
     "language": "python",
     "metadata": {},
     "outputs": [],
     "prompt_number": 121
    },
    {
     "cell_type": "code",
     "collapsed": false,
     "input": [
      "import scipy.spatial\n",
      "import scipy.cluster"
     ],
     "language": "python",
     "metadata": {},
     "outputs": [],
     "prompt_number": 127
    },
    {
     "cell_type": "code",
     "collapsed": false,
     "input": [
      "figsize(6,6)\n",
      "y_events = scipy.spatial.distance.pdist(jaccard_frame)\n",
      "Z_events = scipy.cluster.hierarchy.linkage(y_events)\n",
      "d_events = scipy.cluster.hierarchy.dendrogram(Z_events, orientation='right', distance_sort='descending', no_labels=True)\n",
      "event_order = d_events['leaves'][::-1]\n",
      "title(\"clustering of samples by jacard correlation\") "
     ],
     "language": "python",
     "metadata": {},
     "outputs": [
      {
       "output_type": "pyout",
       "prompt_number": 128,
       "text": [
        "<matplotlib.text.Text at 0x2aabc488e910>"
       ]
      },
      {
       "output_type": "display_data",
       "png": "[encoded data removed]"
      }
     ],
     "prompt_number": 128
    },
    {
     "cell_type": "code",
     "collapsed": false,
     "input": [
      "figsize(6,6)\n",
      "matshow(jaccard_frame.as_matrix()[event_order,:][:,event_order], interpolation=\"nearest\")\n",
      "yticks(arange(len(jaccard_frame.index)), [ jaccard_frame.index[i] for i in event_order] )\n",
      "xticks(arange(len(jaccard_frame.columns)) + .5,[ jaccard_frame.columns[i] for i in event_order] , rotation=45)\n",
      "title(\"Jaccard similarity between all samples\")"
     ],
     "language": "python",
     "metadata": {},
     "outputs": [
      {
       "output_type": "pyout",
       "prompt_number": 129,
       "text": [
        "<matplotlib.text.Text at 0x2aabbf396450>"
       ]
      },
      {
       "output_type": "display_data",
       "png": "[encoded data removed]"
      }
     ],
     "prompt_number": 129
    },
    {
     "cell_type": "code",
     "collapsed": false,
     "input": [
      "HTML(jaccard_frame.to_html())"
     ],
     "language": "python",
     "metadata": {},
     "outputs": [
      {
       "html": [
        "<table border=\"1\" class=\"dataframe\">\n",
        "  <thead>\n",
        "    <tr style=\"text-align: right;\">\n",
        "      <th></th>\n",
        "      <th>H1_L002_R1</th>\n",
        "      <th>H3_L004_R1</th>\n",
        "      <th>L2_L003_R1</th>\n",
        "      <th>L3_L008_R1</th>\n",
        "      <th>M2_L001_R1</th>\n",
        "      <th>M3_L007_R1</th>\n",
        "    </tr>\n",
        "  </thead>\n",
        "  <tbody>\n",
        "    <tr>\n",
        "      <th>H1_L002_R1</th>\n",
        "      <td> 4039</td>\n",
        "      <td> 1293</td>\n",
        "      <td> 1989</td>\n",
        "      <td> 1384</td>\n",
        "      <td> 2410</td>\n",
        "      <td> 1749</td>\n",
        "    </tr>\n",
        "    <tr>\n",
        "      <th>H3_L004_R1</th>\n",
        "      <td> 1308</td>\n",
        "      <td> 3378</td>\n",
        "      <td> 1543</td>\n",
        "      <td> 1796</td>\n",
        "      <td> 1999</td>\n",
        "      <td> 2207</td>\n",
        "    </tr>\n",
        "    <tr>\n",
        "      <th>L2_L003_R1</th>\n",
        "      <td> 1975</td>\n",
        "      <td> 1506</td>\n",
        "      <td> 6649</td>\n",
        "      <td> 1920</td>\n",
        "      <td> 3308</td>\n",
        "      <td> 2135</td>\n",
        "    </tr>\n",
        "    <tr>\n",
        "      <th>L3_L008_R1</th>\n",
        "      <td> 1405</td>\n",
        "      <td> 1799</td>\n",
        "      <td> 1959</td>\n",
        "      <td> 5009</td>\n",
        "      <td> 2353</td>\n",
        "      <td> 2601</td>\n",
        "    </tr>\n",
        "    <tr>\n",
        "      <th>M2_L001_R1</th>\n",
        "      <td> 2453</td>\n",
        "      <td> 1995</td>\n",
        "      <td> 3401</td>\n",
        "      <td> 2349</td>\n",
        "      <td> 8624</td>\n",
        "      <td> 3248</td>\n",
        "    </tr>\n",
        "    <tr>\n",
        "      <th>M3_L007_R1</th>\n",
        "      <td> 1790</td>\n",
        "      <td> 2233</td>\n",
        "      <td> 2244</td>\n",
        "      <td> 2641</td>\n",
        "      <td> 3305</td>\n",
        "      <td> 6644</td>\n",
        "    </tr>\n",
        "  </tbody>\n",
        "</table>"
       ],
       "output_type": "pyout",
       "prompt_number": 135,
       "text": [
        "<IPython.core.display.HTML at 0x2aabbc8b5790>"
       ]
      }
     ],
     "prompt_number": 135
    },
    {
     "cell_type": "code",
     "collapsed": false,
     "input": [
      "from IPython.display import HTML"
     ],
     "language": "python",
     "metadata": {},
     "outputs": [],
     "prompt_number": 134
    },
    {
     "cell_type": "code",
     "collapsed": false,
     "input": [
      "path = \"/nas3/gpratt/projects/upf1/data/\"\n",
      "bams = \"\"\"318_UPF11_NoIndex_L004_R1.fastq.Aligned.out.sam.bam.sorted.bam  \n",
      "319_UPF12_NoIndex_L005_R1.fastq.Aligned.out.sam.bam.sorted.bam  \n",
      "320_UPF13_NoIndex_L006_R1.fastq.Aligned.out.sam.bam.sorted.bam  \n",
      "321_Luc1_NoIndex_L007_R1.fastq.Aligned.out.sam.bam.sorted.bam   \n",
      "322_Luc2_NoIndex_L008_R1.fastq.Aligned.out.sam.bam.sorted.bam\n",
      "323_Luc3_NoIndex_L001_R1.fastq.Aligned.out.sam.bam.sorted.bam\"\"\".strip().split()\n",
      "\n",
      "bam_dict = {name.split(\".\")[0] : pysam.Samfile(path + name) for name in bams}\n",
      "\n",
      "\n",
      "\n",
      "\n",
      "info_dict = {'mapped' : {}, 'unmapped' : {}}\n",
      "for name, bam in bam_dict.items():\n",
      "    info_dict['mapped'][name] = bam.mapped\n",
      "    info_dict['unmapped'][name] = bam.unmapped\n",
      "\n",
      "x =pd.DataFrame(info_dict)"
     ],
     "language": "python",
     "metadata": {},
     "outputs": []
    },
    {
     "cell_type": "code",
     "collapsed": false,
     "input": [
      "!less M2_L001_R1.bc.polyATrim.adapterTrim.rmRep.samLog.final.out"
     ],
     "language": "python",
     "metadata": {},
     "outputs": [
      {
       "output_type": "stream",
       "stream": "stdout",
       "text": [
        "\u001b7\u001b[?47h\u001b[?1h\u001b=\u001b[41;1H\u001b[K                                 Started job on |       Jul 19 13:22:46\r\n",
        "                             Started mapping on |       Jul 19 13:23:41\r\n",
        "                                    Finished on |       Jul 19 13:29:22\r\n",
        "       Mapping speed, Million of reads per hour |       1287.84\r\n",
        "\r\n",
        "                          Number of input reads |       121987528\r\n",
        "                      Average input read length |       40\r\n",
        "                                    UNIQUE READS:\r\n",
        "                   Uniquely mapped reads number |       83613178\r\n",
        "                        Uniquely mapped reads % |       68.54%\r\n",
        "                          Average mapped length |       37.26\r\n",
        "                       Number of splices: Total |       1436337\r\n",
        "            Number of splices: Annotated (sjdb) |       0\r\n",
        "                       Number of splices: GT/AG |       1334543\r\n",
        "                       Number of splices: GC/AG |       23790\r\n",
        "                       Number of splices: AT/AC |       1505\r\n",
        "               Number of splices: Non-canonical |       76499\r\n",
        "                      Mismatch rate per base, % |       0.71%\r\n",
        "                         Deletion rate per base |       0.08%\r\n",
        "                        Deletion average length |       1.62\r\n",
        "                        Insertion rate per base |       0.00%\r\n",
        "                       Insertion average length |       1.25\r\n",
        "                             MULTI-MAPPING READS:\r\n",
        "        Number of reads mapped to multiple loci |       0\r\n",
        "             % of reads mapped to multiple loci |       0.00%\r\n",
        "        Number of reads mapped to too many loci |       14691616\r\n",
        "             % of reads mapped to too many loci |       12.04%\r\n",
        "                                  UNMAPPED READS:\r\n",
        "       % of reads unmapped: too many mismatches |       0.00%\r\n",
        "                 % of reads unmapped: too short |       19.35%\r\n",
        "                     % of reads unmapped: other |       0.06%\r\n",
        "\u001b[41;1H\u001b[K\u001b[7mM2_L001_R1.bc.polyATrim.adapterTrim.rmRep.samLog.final.out (END) \u001b[m"
       ]
      },
      {
       "output_type": "stream",
       "stream": "stdout",
       "text": [
        "\u0007\u001b[41;1H\u001b[K\u001b[7m(END) \u001b[m\u001b[41;1H\u0007\u001b[41;1H\u001b[K\u001b[7m(END) \u001b[m"
       ]
      }
     ],
     "prompt_number": 149
    },
    {
     "cell_type": "code",
     "collapsed": false,
     "input": [
      "cd /nas3/gpratt/projects/encode/data/"
     ],
     "language": "python",
     "metadata": {},
     "outputs": [
      {
       "output_type": "stream",
       "stream": "stdout",
       "text": [
        "/nas/nas0/gpratt/projects/encode/data\n"
       ]
      }
     ],
     "prompt_number": 136
    },
    {
     "cell_type": "code",
     "collapsed": false,
     "input": [
      "def parse_star_file(star_file):\n",
      "    star_dict = {}\n",
      "\n",
      "    star_dict[\"Started job on\"] = star_file.next().strip().split(\"|\")[1].strip()\n",
      "    star_dict[\"Started mapping on\"] = star_file.next().strip().split(\"|\")[1].strip()\n",
      "    star_dict[\"Finished on\"] = star_file.next().strip().split(\"|\")[1].strip()\n",
      "    star_dict[\"Mapping speed, Million of reads per hour\"] = star_file.next().strip().split(\"|\")[1].strip()\n",
      "    star_file.next()\n",
      "    star_dict[\"Number of input reads\"] = star_file.next().strip().split(\"|\")[1].strip()\n",
      "    star_dict[\"Average input read length\"] = star_file.next().strip().split(\"|\")[1].strip()\n",
      "    star_file.next()\n",
      "    star_dict[\"Uniquely mapped reads number\"] = star_file.next().strip().split(\"|\")[1].strip()\n",
      "    star_dict[\"Uniquely mapped reads %\"] = star_file.next().strip().split(\"|\")[1].strip()\n",
      "    star_dict[\"Average mapped length\"] = star_file.next().strip().split(\"|\")[1].strip()\n",
      "    star_dict[\"Number of splices: Total\"] = star_file.next().strip().split(\"|\")[1].strip()\n",
      "    star_dict[\"Number of splices: Annotated (sjdb)\"] = star_file.next().strip().split(\"|\")[1].strip()\n",
      "    star_dict[\"Number of splices: GT/AG\"] = star_file.next().strip().split(\"|\")[1].strip()\n",
      "    star_dict[\"Number of splices: GC/AG\"] = star_file.next().strip().split(\"|\")[1].strip()\n",
      "    star_dict[\"Number of splices: AT/AC\"] = star_file.next().strip().split(\"|\")[1].strip()\n",
      "    star_dict[\"Number of splices: Non-canonical\"] = star_file.next().strip().split(\"|\")[1].strip()\n",
      "    star_dict[\"Mismatch rate per base, percent\"] = star_file.next().strip().split(\"|\")[1].strip()\n",
      "    star_dict[\"Deletion rate per base\"] = star_file.next().strip().split(\"|\")[1].strip()\n",
      "    star_dict[\"Deletion average length\"] = star_file.next().strip().split(\"|\")[1].strip()\n",
      "    star_dict[\"Insertion rate per base\"] = star_file.next().strip().split(\"|\")[1].strip()\n",
      "    star_dict[\"Insertion average length\"] = star_file.next().strip().split(\"|\")[1].strip()\n",
      "    star_file.next()\n",
      "    star_dict[\"Number of reads mapped to multiple loci\"] = star_file.next().strip().split(\"|\")[1].strip()\n",
      "    star_dict[\"% of reads mapped to multiple loci\"] = star_file.next().strip().split(\"|\")[1].strip()\n",
      "    star_dict[\"Number of reads mapped to too many loci\"] = star_file.next().strip().split(\"|\")[1].strip()\n",
      "    star_dict[\"% of reads mapped to too many loci\"] = star_file.next().strip().split(\"|\")[1].strip()\n",
      "    star_file.next()\n",
      "    star_dict[\"% of reads unmapped: too many mismatches\"] = star_file.next().strip().split(\"|\")[1].strip()\n",
      "    star_dict[\"% of reads unmapped: too short\"] = star_file.next().strip().split(\"|\")[1].strip()\n",
      "    star_dict[\"% of reads unmapped: other\"] = star_file.next().strip().split(\"|\")[1].strip()\n",
      "    return star_dict"
     ],
     "language": "python",
     "metadata": {},
     "outputs": [],
     "prompt_number": 184
    },
    {
     "cell_type": "code",
     "collapsed": false,
     "input": [
      "star_files = {bed : parse_star_file(open(bed + \".bc.polyATrim.adapterTrim.rmRep.samLog.final.out\")) for bed in beds}"
     ],
     "language": "python",
     "metadata": {},
     "outputs": [],
     "prompt_number": 185
    },
    {
     "cell_type": "code",
     "collapsed": false,
     "input": [
      "HTML(pd.DataFrame(star_files).to_html())"
     ],
     "language": "python",
     "metadata": {},
     "outputs": [
      {
       "html": [
        "<table border=\"1\" class=\"dataframe\">\n",
        "  <thead>\n",
        "    <tr style=\"text-align: right;\">\n",
        "      <th></th>\n",
        "      <th>H1_L002_R1</th>\n",
        "      <th>H3_L004_R1</th>\n",
        "      <th>L2_L003_R1</th>\n",
        "      <th>L3_L008_R1</th>\n",
        "      <th>M2_L001_R1</th>\n",
        "      <th>M3_L007_R1</th>\n",
        "    </tr>\n",
        "  </thead>\n",
        "  <tbody>\n",
        "    <tr>\n",
        "      <th>% of reads mapped to multiple loci</th>\n",
        "      <td>           0.00%</td>\n",
        "      <td>           0.00%</td>\n",
        "      <td>           0.00%</td>\n",
        "      <td>           0.00%</td>\n",
        "      <td>           0.00%</td>\n",
        "      <td>           0.00%</td>\n",
        "    </tr>\n",
        "    <tr>\n",
        "      <th>% of reads mapped to too many loci</th>\n",
        "      <td>           9.86%</td>\n",
        "      <td>           8.77%</td>\n",
        "      <td>           5.36%</td>\n",
        "      <td>           6.52%</td>\n",
        "      <td>          12.04%</td>\n",
        "      <td>          12.83%</td>\n",
        "    </tr>\n",
        "    <tr>\n",
        "      <th>% of reads unmapped: other</th>\n",
        "      <td>           0.54%</td>\n",
        "      <td>           0.06%</td>\n",
        "      <td>           0.00%</td>\n",
        "      <td>           0.01%</td>\n",
        "      <td>           0.06%</td>\n",
        "      <td>           0.07%</td>\n",
        "    </tr>\n",
        "    <tr>\n",
        "      <th>% of reads unmapped: too many mismatches</th>\n",
        "      <td>           0.00%</td>\n",
        "      <td>           0.00%</td>\n",
        "      <td>           0.00%</td>\n",
        "      <td>           0.00%</td>\n",
        "      <td>           0.00%</td>\n",
        "      <td>           0.00%</td>\n",
        "    </tr>\n",
        "    <tr>\n",
        "      <th>% of reads unmapped: too short</th>\n",
        "      <td>          29.34%</td>\n",
        "      <td>          50.14%</td>\n",
        "      <td>          73.45%</td>\n",
        "      <td>          71.34%</td>\n",
        "      <td>          19.35%</td>\n",
        "      <td>          26.13%</td>\n",
        "    </tr>\n",
        "    <tr>\n",
        "      <th>Average input read length</th>\n",
        "      <td>              39</td>\n",
        "      <td>              39</td>\n",
        "      <td>              40</td>\n",
        "      <td>              39</td>\n",
        "      <td>              40</td>\n",
        "      <td>              40</td>\n",
        "    </tr>\n",
        "    <tr>\n",
        "      <th>Average mapped length</th>\n",
        "      <td>           38.31</td>\n",
        "      <td>           38.07</td>\n",
        "      <td>           30.02</td>\n",
        "      <td>           30.99</td>\n",
        "      <td>           37.26</td>\n",
        "      <td>           37.98</td>\n",
        "    </tr>\n",
        "    <tr>\n",
        "      <th>Deletion average length</th>\n",
        "      <td>            1.62</td>\n",
        "      <td>            1.55</td>\n",
        "      <td>            1.51</td>\n",
        "      <td>            1.51</td>\n",
        "      <td>            1.62</td>\n",
        "      <td>            1.59</td>\n",
        "    </tr>\n",
        "    <tr>\n",
        "      <th>Deletion rate per base</th>\n",
        "      <td>           0.09%</td>\n",
        "      <td>           0.10%</td>\n",
        "      <td>           0.01%</td>\n",
        "      <td>           0.04%</td>\n",
        "      <td>           0.08%</td>\n",
        "      <td>           0.13%</td>\n",
        "    </tr>\n",
        "    <tr>\n",
        "      <th>Finished on</th>\n",
        "      <td> Jul 21 07:26:17</td>\n",
        "      <td> Jul 19 13:37:43</td>\n",
        "      <td> Jul 21 07:34:55</td>\n",
        "      <td> Jul 19 09:59:05</td>\n",
        "      <td> Jul 19 13:29:22</td>\n",
        "      <td> Jul 20 03:00:56</td>\n",
        "    </tr>\n",
        "    <tr>\n",
        "      <th>Insertion average length</th>\n",
        "      <td>            1.10</td>\n",
        "      <td>            1.04</td>\n",
        "      <td>            1.15</td>\n",
        "      <td>            1.11</td>\n",
        "      <td>            1.25</td>\n",
        "      <td>            1.15</td>\n",
        "    </tr>\n",
        "    <tr>\n",
        "      <th>Insertion rate per base</th>\n",
        "      <td>           0.00%</td>\n",
        "      <td>           0.01%</td>\n",
        "      <td>           0.00%</td>\n",
        "      <td>           0.00%</td>\n",
        "      <td>           0.00%</td>\n",
        "      <td>           0.00%</td>\n",
        "    </tr>\n",
        "    <tr>\n",
        "      <th>Mapping speed, Million of reads per hour</th>\n",
        "      <td>         1372.35</td>\n",
        "      <td>         1176.64</td>\n",
        "      <td>          781.04</td>\n",
        "      <td>          783.77</td>\n",
        "      <td>         1287.84</td>\n",
        "      <td>          934.75</td>\n",
        "    </tr>\n",
        "    <tr>\n",
        "      <th>Mismatch rate per base, percent</th>\n",
        "      <td>           1.18%</td>\n",
        "      <td>           1.03%</td>\n",
        "      <td>           1.53%</td>\n",
        "      <td>           1.52%</td>\n",
        "      <td>           0.71%</td>\n",
        "      <td>           0.73%</td>\n",
        "    </tr>\n",
        "    <tr>\n",
        "      <th>Number of input reads</th>\n",
        "      <td>       100638882</td>\n",
        "      <td>       145445533</td>\n",
        "      <td>       166403904</td>\n",
        "      <td>        28520388</td>\n",
        "      <td>       121987528</td>\n",
        "      <td>       134240027</td>\n",
        "    </tr>\n",
        "    <tr>\n",
        "      <th>Number of reads mapped to multiple loci</th>\n",
        "      <td>               0</td>\n",
        "      <td>               0</td>\n",
        "      <td>               0</td>\n",
        "      <td>               0</td>\n",
        "      <td>               0</td>\n",
        "      <td>               0</td>\n",
        "    </tr>\n",
        "    <tr>\n",
        "      <th>Number of reads mapped to too many loci</th>\n",
        "      <td>         9923801</td>\n",
        "      <td>        12758020</td>\n",
        "      <td>         8925365</td>\n",
        "      <td>         1858220</td>\n",
        "      <td>        14691616</td>\n",
        "      <td>        17220310</td>\n",
        "    </tr>\n",
        "    <tr>\n",
        "      <th>Number of splices: AT/AC</th>\n",
        "      <td>            1374</td>\n",
        "      <td>            1690</td>\n",
        "      <td>             149</td>\n",
        "      <td>              26</td>\n",
        "      <td>            1505</td>\n",
        "      <td>            1640</td>\n",
        "    </tr>\n",
        "    <tr>\n",
        "      <th>Number of splices: Annotated (sjdb)</th>\n",
        "      <td>               0</td>\n",
        "      <td>               0</td>\n",
        "      <td>               0</td>\n",
        "      <td>               0</td>\n",
        "      <td>               0</td>\n",
        "      <td>               0</td>\n",
        "    </tr>\n",
        "    <tr>\n",
        "      <th>Number of splices: GC/AG</th>\n",
        "      <td>           11071</td>\n",
        "      <td>           12560</td>\n",
        "      <td>           19243</td>\n",
        "      <td>            3274</td>\n",
        "      <td>           23790</td>\n",
        "      <td>           16694</td>\n",
        "    </tr>\n",
        "    <tr>\n",
        "      <th>Number of splices: GT/AG</th>\n",
        "      <td>         1203923</td>\n",
        "      <td>          955461</td>\n",
        "      <td>          349805</td>\n",
        "      <td>           63186</td>\n",
        "      <td>         1334543</td>\n",
        "      <td>         1114743</td>\n",
        "    </tr>\n",
        "    <tr>\n",
        "      <th>Number of splices: Non-canonical</th>\n",
        "      <td>           54102</td>\n",
        "      <td>          140123</td>\n",
        "      <td>           33557</td>\n",
        "      <td>            6122</td>\n",
        "      <td>           76499</td>\n",
        "      <td>          129783</td>\n",
        "    </tr>\n",
        "    <tr>\n",
        "      <th>Number of splices: Total</th>\n",
        "      <td>         1270470</td>\n",
        "      <td>         1109834</td>\n",
        "      <td>          402754</td>\n",
        "      <td>           72608</td>\n",
        "      <td>         1436337</td>\n",
        "      <td>         1262860</td>\n",
        "    </tr>\n",
        "    <tr>\n",
        "      <th>Started job on</th>\n",
        "      <td> Jul 21 07:20:32</td>\n",
        "      <td> Jul 19 13:28:43</td>\n",
        "      <td> Jul 21 07:20:34</td>\n",
        "      <td> Jul 19 09:56:02</td>\n",
        "      <td> Jul 19 13:22:46</td>\n",
        "      <td> Jul 20 02:51:26</td>\n",
        "    </tr>\n",
        "    <tr>\n",
        "      <th>Started mapping on</th>\n",
        "      <td> Jul 21 07:21:53</td>\n",
        "      <td> Jul 19 13:30:18</td>\n",
        "      <td> Jul 21 07:22:08</td>\n",
        "      <td> Jul 19 09:56:54</td>\n",
        "      <td> Jul 19 13:23:41</td>\n",
        "      <td> Jul 20 02:52:19</td>\n",
        "    </tr>\n",
        "    <tr>\n",
        "      <th>Uniquely mapped reads %</th>\n",
        "      <td>          60.26%</td>\n",
        "      <td>          41.03%</td>\n",
        "      <td>          21.18%</td>\n",
        "      <td>          22.14%</td>\n",
        "      <td>          68.54%</td>\n",
        "      <td>          60.97%</td>\n",
        "    </tr>\n",
        "    <tr>\n",
        "      <th>Uniquely mapped reads number</th>\n",
        "      <td>        60641483</td>\n",
        "      <td>        59669072</td>\n",
        "      <td>        35244744</td>\n",
        "      <td>         6313026</td>\n",
        "      <td>        83613178</td>\n",
        "      <td>        81842990</td>\n",
        "    </tr>\n",
        "  </tbody>\n",
        "</table>"
       ],
       "output_type": "pyout",
       "prompt_number": 186,
       "text": [
        "<IPython.core.display.HTML at 0x2aabea69add0>"
       ]
      }
     ],
     "prompt_number": 186
    },
    {
     "cell_type": "code",
     "collapsed": false,
     "input": [
      "def barcode_parse(file_name, barcodes): \n",
      "    \n",
      "    \"\"\"\n",
      "    file_name: metrics file (from barcode splitting) to open\n",
      "    barcodes: list of strs, barcode names\n",
      "    \"\"\"\n",
      "    \n",
      "    in_count = 0\n",
      "    out_count = 0\n",
      "    barcode_count = Counter()\n",
      "    with open(file_name) as barcode_metrics: \n",
      "        for line in barcode_metrics:\n",
      "            line = line.strip().split()\n",
      "            sequence = line[0]\n",
      "            count = int(line[1])\n",
      "            barcode = sequence[3:7]\n",
      "            barcode_count[barcode] += count\n",
      "        \n",
      "    in_count = sum(barcode_count[barcode] for barcode in barcodes)\n",
      "    \n",
      "    print \"total\", in_count / float(sum(barcode_count.values()))\n",
      "    for barcode in barcodes:\n",
      "        print barcode, barcode_count[barcode] / float(sum(barcode_count.values()))\n",
      "    print\n",
      "    print \"Top 5 barcodes\"\n",
      "    print\n",
      "    for key,value in  barcode_count.most_common(5):\n",
      "        print key, \"{:,}\".format(value)"
     ],
     "language": "python",
     "metadata": {},
     "outputs": []
    },
    {
     "cell_type": "markdown",
     "metadata": {},
     "source": [
      "H1: GGTT AACC R11  \n",
      "H1: GTGG CCAC R12\n",
      " \n",
      "M2: CTAA TTAG R07  \n",
      "M2: GTGG CCAC R12\n",
      "\n",
      "L2: CTAA TTAG R07  \n",
      "L2: GTGG CCAC R12\n",
      "\n",
      "H3: GGTT AACC R11   \n",
      "H3: GTGG CCAC R12\n",
      "\n",
      "M3: AGGT ACCT R04  \n",
      "M3: TCCG CGGA R13  \n",
      "M3: CTAA TTAG R07 \n",
      "\n",
      "L3: CATT AATG R08  \n",
      "L3: GCCA TGGC R09  \n",
      "L3: GACC GGTC R10  "
     ]
    },
    {
     "cell_type": "code",
     "collapsed": false,
     "input": [
      "barcode_parse(\"H1_L002_R1.bc.metrics\", [\"AACC\", \"CCAC\"])"
     ],
     "language": "python",
     "metadata": {},
     "outputs": [
      {
       "output_type": "stream",
       "stream": "stdout",
       "text": [
        "total 0.730683538757\n",
        "AACC 0.718825814116\n",
        "CCAC 0.0118577246415\n",
        "\n",
        "Top 5 barcodes\n",
        "\n",
        "AACC 81,761,879\n",
        "GTCG 4,529,567\n",
        "TATG 3,682,852\n",
        "GAGC 3,410,341\n",
        "CCCG 2,713,272\n"
       ]
      }
     ],
     "prompt_number": 248
    },
    {
     "cell_type": "code",
     "collapsed": false,
     "input": [
      "barcode_parse(\"M2_L001_R1.bc.metrics\", [\"TTAG\", \"CCAC\"])"
     ],
     "language": "python",
     "metadata": {},
     "outputs": [
      {
       "output_type": "stream",
       "stream": "stdout",
       "text": [
        "total 0.855059571692\n",
        "TTAG 0.389316787779\n",
        "CCAC 0.465742783913\n",
        "\n",
        "Top 5 barcodes\n",
        "\n",
        "CCAC 62,746,640\n",
        "TTAG 52,450,239\n",
        "TATG 2,617,254\n",
        "CCCG 2,505,293\n",
        "GTCG 2,032,992\n"
       ]
      }
     ],
     "prompt_number": 253
    },
    {
     "cell_type": "code",
     "collapsed": false,
     "input": [
      "barcode_parse(\"L2_L003_R1.bc.metrics\", [\"TTAG\", \"CCAC\"])"
     ],
     "language": "python",
     "metadata": {},
     "outputs": [
      {
       "output_type": "stream",
       "stream": "stdout",
       "text": [
        "total 0.922449779958\n",
        "TTAG 0.437560416379\n",
        "CCAC 0.484889363579\n",
        "\n",
        "Top 5 barcodes\n",
        "\n",
        "CCAC 82,017,587\n",
        "TTAG 74,012,037\n",
        "NCAC 1,937,902\n",
        "NTAG 1,645,480\n",
        "TTAC 1,312,498\n"
       ]
      }
     ],
     "prompt_number": 249
    },
    {
     "cell_type": "code",
     "collapsed": false,
     "input": [
      "barcode_parse(\"H3_L004_R1.bc.metrics\", [\"AACC\", \"CCAC\", \"ACCT\", \"CGGA\", \"TTAG\", \"AATG\", \"TGGC\", \"GGTC\"])"
     ],
     "language": "python",
     "metadata": {},
     "outputs": [
      {
       "output_type": "stream",
       "stream": "stdout",
       "text": [
        "total 0.746539512178\n",
        "AACC 0.108391796778\n",
        "CCAC 0.0550631621162\n",
        "ACCT 0.163661352044\n",
        "CGGA 0.0505404742062\n",
        "TTAG 0.113178070788\n",
        "AATG 0.0485533900519\n",
        "TGGC 0.0656907879887\n",
        "GGTC 0.141460478205\n",
        "\n",
        "Top 5 barcodes\n",
        "\n",
        "ACCT 29,677,292\n",
        "GGTC 25,651,529\n",
        "TTAG 20,522,980\n",
        "AACC 19,655,068\n",
        "TGGC 11,911,943\n"
       ]
      }
     ],
     "prompt_number": 255
    },
    {
     "cell_type": "markdown",
     "metadata": {},
     "source": [
      "This isn't really working..."
     ]
    },
    {
     "cell_type": "code",
     "collapsed": false,
     "input": [
      "barcode_parse(\"M3_L007_R1.bc.metrics\", [\"AACC\", \"CCAC\", \"ACCT\", \"CGGA\", \"TTAG\", \"AATG\", \"TGGC\", \"GGTC\"])"
     ],
     "language": "python",
     "metadata": {},
     "outputs": [
      {
       "output_type": "stream",
       "stream": "stdout",
       "text": [
        "total 0.90761417069\n",
        "AACC 0.0139939011806\n",
        "CCAC 0.0268845419235\n",
        "ACCT 0.20978640038\n",
        "CGGA 0.104849937157\n",
        "TTAG 0.162887173765\n",
        "AATG 0.0885794508541\n",
        "TGGC 0.0780348659811\n",
        "GGTC 0.222597899448\n",
        "\n",
        "Top 5 barcodes\n",
        "\n",
        "GGTC 35,630,661\n",
        "ACCT 33,579,958\n",
        "TTAG 26,072,922\n",
        "CGGA 16,783,054\n",
        "AATG 14,178,680\n"
       ]
      }
     ],
     "prompt_number": 256
    },
    {
     "cell_type": "code",
     "collapsed": false,
     "input": [
      "barcode_parse(\"L3_L008_R1.bc.metrics\", [\"AACC\", \"CCAC\", \"ACCT\", \"CGGA\", \"TTAG\", \"AATG\", \"TGGC\", \"GGTC\"])"
     ],
     "language": "python",
     "metadata": {},
     "outputs": [
      {
       "output_type": "stream",
       "stream": "stdout",
       "text": [
        "total 0.941516577397\n",
        "AACC 0.16983373884\n",
        "CCAC 0.0820344135235\n",
        "ACCT 0.0980725111123\n",
        "CGGA 0.115093927191\n",
        "TTAG 0.201071212397\n",
        "AATG 0.0998075074934\n",
        "TGGC 0.0678680051763\n",
        "GGTC 0.107735261664\n",
        "\n",
        "Top 5 barcodes\n",
        "\n",
        "TTAG 6,054,516\n",
        "AACC 5,113,915\n",
        "CGGA 3,465,628\n",
        "GGTC 3,244,049\n",
        "AATG 3,005,334\n"
       ]
      }
     ],
     "prompt_number": 257
    },
    {
     "cell_type": "code",
     "collapsed": false,
     "input": [],
     "language": "python",
     "metadata": {},
     "outputs": []
    }
   ],
   "metadata": {}
  }
 ]
}