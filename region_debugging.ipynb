{
 "metadata": {
  "name": "",
  "signature": "sha256:bc63364c654552dd92fe4f3cefee49cafe762cc2282c35b75228451fca2ac245"
 },
 "nbformat": 3,
 "nbformat_minor": 0,
 "worksheets": [
  {
   "cells": [
    {
     "cell_type": "code",
     "collapsed": false,
     "input": [
      "from clipper.src import get_genomic_regions \n",
      "import gffutils\n",
      "import pybedtools"
     ],
     "language": "python",
     "metadata": {},
     "outputs": [],
     "prompt_number": 80
    },
    {
     "cell_type": "code",
     "collapsed": false,
     "input": [
      "%load_ext autoreload\n",
      "%autoreload 2\n",
      "reload(get_genomic_regions)"
     ],
     "language": "python",
     "metadata": {},
     "outputs": [
      {
       "output_type": "stream",
       "stream": "stdout",
       "text": [
        "The autoreload extension is already loaded. To reload it, use:\n",
        "  %reload_ext autoreload\n"
       ]
      },
      {
       "metadata": {},
       "output_type": "pyout",
       "prompt_number": 81,
       "text": [
        "<module 'clipper.src.get_genomic_regions' from '/Users/gpratt/bioinformatics/yeolab/clipper/clipper/src/get_genomic_regions.pyc'>"
       ]
      }
     ],
     "prompt_number": 81
    },
    {
     "cell_type": "code",
     "collapsed": false,
     "input": [
      "regions = get_genomic_regions.GenomicFeatures(\"hg19\", \n",
      "            gffutils.FeatureDB(\"/Users/gpratt/bioinformatics/genomes/hg19/gencode.v17.annotation.gtf.db\"))"
     ],
     "language": "python",
     "metadata": {},
     "outputs": [],
     "prompt_number": 82
    },
    {
     "cell_type": "code",
     "collapsed": false,
     "input": [
      "db = gffutils.FeatureDB(\"/Users/gpratt/bioinformatics/genomes/hg19/gencode.v17.annotation.gtf.db\")"
     ],
     "language": "python",
     "metadata": {},
     "outputs": [],
     "prompt_number": 54
    },
    {
     "cell_type": "code",
     "collapsed": false,
     "input": [
      "for interval in regions._db.features_of_type('gene'):\n",
      "    if interval.attributes['gene_id'][0] == \"ENSG00000131591.13\":\n",
      "        print \"found\"\n",
      "        break "
     ],
     "language": "python",
     "metadata": {},
     "outputs": [
      {
       "output_type": "stream",
       "stream": "stdout",
       "text": [
        "found\n"
       ]
      }
     ],
     "prompt_number": 47
    },
    {
     "cell_type": "code",
     "collapsed": false,
     "input": [
      "db.merge??"
     ],
     "language": "python",
     "metadata": {},
     "outputs": [],
     "prompt_number": 73
    },
    {
     "cell_type": "code",
     "collapsed": false,
     "input": [
      "def interval_key(interval):\n",
      "    return interval.start"
     ],
     "language": "python",
     "metadata": {},
     "outputs": [],
     "prompt_number": 74
    },
    {
     "cell_type": "code",
     "collapsed": false,
     "input": [
      "list(db.merge(sorted(db.children(mrna, featuretype=\"exon\"), key=interval_key)))"
     ],
     "language": "python",
     "metadata": {},
     "outputs": [
      {
       "metadata": {},
       "output_type": "pyout",
       "prompt_number": 77,
       "text": [
        "[<Feature exon (chr1:1017198-1018367[-]) at 0x14f308550>,\n",
        " <Feature exon (chr1:1019295-1019763[-]) at 0x14f308590>,\n",
        " <Feature exon (chr1:1019861-1019886[-]) at 0x14f3083d0>,\n",
        " <Feature exon (chr1:1021258-1021392[-]) at 0x14f308610>,\n",
        " <Feature exon (chr1:1022519-1022584[-]) at 0x14f308650>,\n",
        " <Feature exon (chr1:1022882-1022977[-]) at 0x14f308690>,\n",
        " <Feature exon (chr1:1025733-1025808[-]) at 0x14f3081d0>,\n",
        " <Feature exon (chr1:1026852-1026945[-]) at 0x14f308890>,\n",
        " <Feature exon (chr1:1027371-1027483[-]) at 0x1716114d0>,\n",
        " <Feature exon (chr1:1051440-1051736[-]) at 0x14f308450>]"
       ]
      }
     ],
     "prompt_number": 77
    },
    {
     "cell_type": "code",
     "collapsed": false,
     "input": [
      "mrna.st"
     ],
     "language": "python",
     "metadata": {},
     "outputs": []
    },
    {
     "cell_type": "code",
     "collapsed": false,
     "input": [
      "list(db.merge(db.children(mrna, featuretype=\"exon\")))"
     ],
     "language": "python",
     "metadata": {},
     "outputs": [
      {
       "metadata": {},
       "output_type": "pyout",
       "prompt_number": 71,
       "text": [
        "[<Feature exon (chr1:1051440-1051736[-]) at 0x14f3085d0>]"
       ]
      }
     ],
     "prompt_number": 71
    },
    {
     "cell_type": "code",
     "collapsed": false,
     "input": [
      "pybedtools.BedTool(map(regions._to_bed, db.children(mrna, featuretype=\"exon\"))).saveas(\"oddness.bed\")"
     ],
     "language": "python",
     "metadata": {},
     "outputs": [
      {
       "metadata": {},
       "output_type": "pyout",
       "prompt_number": 67,
       "text": [
        "<BedTool(oddness.bed)>"
       ]
      }
     ],
     "prompt_number": 67
    },
    {
     "cell_type": "code",
     "collapsed": false,
     "input": [
      "for mrna in db.children(interval, featuretype=\"transcript\"):\n",
      "    for exon in list(db.children(mrna, featuretype=\"exon\")):\n",
      "        print exon\n",
      "    break"
     ],
     "language": "python",
     "metadata": {},
     "outputs": [
      {
       "output_type": "stream",
       "stream": "stdout",
       "text": [
        "chr1\tENSEMBL\texon\t1051440\t1051736\t.\t-\t.\ttranscript_status \"KNOWN\"; gene_status \"KNOWN\"; havana_gene \"OTTHUMG00000000745.8\"; level \"3\"; transcript_type \"protein_coding\"; tag \"basic\"; gene_id \"ENSG00000131591.13\"; exon_number \"1\"; transcript_id \"ENST00000294576.5\"; gene_type \"protein_coding\"; transcript_name \"C1orf159-201\"; gene_name \"C1orf159\";\n",
        "chr1\tENSEMBL\texon\t1027371\t1027483\t.\t-\t.\ttranscript_status \"KNOWN\"; gene_status \"KNOWN\"; havana_gene \"OTTHUMG00000000745.8\"; level \"3\"; transcript_type \"protein_coding\"; tag \"basic\"; gene_id \"ENSG00000131591.13\"; exon_number \"2\"; transcript_id \"ENST00000294576.5\"; gene_type \"protein_coding\"; transcript_name \"C1orf159-201\"; gene_name \"C1orf159\";\n",
        "chr1\tENSEMBL\texon\t1026852\t1026945\t.\t-\t.\ttranscript_status \"KNOWN\"; gene_status \"KNOWN\"; havana_gene \"OTTHUMG00000000745.8\"; level \"3\"; transcript_type \"protein_coding\"; tag \"basic\"; gene_id \"ENSG00000131591.13\"; exon_number \"3\"; transcript_id \"ENST00000294576.5\"; gene_type \"protein_coding\"; transcript_name \"C1orf159-201\"; gene_name \"C1orf159\";\n",
        "chr1\tENSEMBL\texon\t1025733\t1025808\t.\t-\t.\ttranscript_status \"KNOWN\"; gene_status \"KNOWN\"; havana_gene \"OTTHUMG00000000745.8\"; level \"3\"; transcript_type \"protein_coding\"; tag \"basic\"; gene_id \"ENSG00000131591.13\"; exon_number \"4\"; transcript_id \"ENST00000294576.5\"; gene_type \"protein_coding\"; transcript_name \"C1orf159-201\"; gene_name \"C1orf159\";\n",
        "chr1\tENSEMBL\texon\t1022882\t1022977\t.\t-\t.\ttranscript_status \"KNOWN\"; gene_status \"KNOWN\"; havana_gene \"OTTHUMG00000000745.8\"; level \"3\"; transcript_type \"protein_coding\"; tag \"basic\"; gene_id \"ENSG00000131591.13\"; exon_number \"5\"; transcript_id \"ENST00000294576.5\"; gene_type \"protein_coding\"; transcript_name \"C1orf159-201\"; gene_name \"C1orf159\";\n",
        "chr1\tENSEMBL\texon\t1022519\t1022584\t.\t-\t.\ttranscript_status \"KNOWN\"; gene_status \"KNOWN\"; havana_gene \"OTTHUMG00000000745.8\"; level \"3\"; transcript_type \"protein_coding\"; tag \"basic\"; gene_id \"ENSG00000131591.13\"; exon_number \"6\"; transcript_id \"ENST00000294576.5\"; gene_type \"protein_coding\"; transcript_name \"C1orf159-201\"; gene_name \"C1orf159\";\n",
        "chr1\tENSEMBL\texon\t1021258\t1021392\t.\t-\t.\ttranscript_status \"KNOWN\"; gene_status \"KNOWN\"; havana_gene \"OTTHUMG00000000745.8\"; level \"3\"; transcript_type \"protein_coding\"; tag \"basic\"; gene_id \"ENSG00000131591.13\"; exon_number \"7\"; transcript_id \"ENST00000294576.5\"; gene_type \"protein_coding\"; transcript_name \"C1orf159-201\"; gene_name \"C1orf159\";\n",
        "chr1\tENSEMBL\texon\t1019861\t1019886\t.\t-\t.\ttranscript_status \"KNOWN\"; gene_status \"KNOWN\"; havana_gene \"OTTHUMG00000000745.8\"; level \"3\"; transcript_type \"protein_coding\"; tag \"basic\"; gene_id \"ENSG00000131591.13\"; exon_number \"8\"; transcript_id \"ENST00000294576.5\"; gene_type \"protein_coding\"; transcript_name \"C1orf159-201\"; gene_name \"C1orf159\";\n",
        "chr1\tENSEMBL\texon\t1019295\t1019763\t.\t-\t.\ttranscript_status \"KNOWN\"; gene_status \"KNOWN\"; havana_gene \"OTTHUMG00000000745.8\"; level \"3\"; transcript_type \"protein_coding\"; tag \"basic\"; gene_id \"ENSG00000131591.13\"; exon_number \"9\"; transcript_id \"ENST00000294576.5\"; gene_type \"protein_coding\"; transcript_name \"C1orf159-201\"; gene_name \"C1orf159\";\n",
        "chr1\tENSEMBL\texon\t1017198\t1018367\t.\t-\t.\ttranscript_status \"KNOWN\"; gene_status \"KNOWN\"; havana_gene \"OTTHUMG00000000745.8\"; level \"3\"; transcript_type \"protein_coding\"; tag \"basic\"; gene_id \"ENSG00000131591.13\"; exon_number \"10\"; transcript_id \"ENST00000294576.5\"; gene_type \"protein_coding\"; transcript_name \"C1orf159-201\"; gene_name \"C1orf159\";\n"
       ]
      }
     ],
     "prompt_number": 65
    },
    {
     "cell_type": "code",
     "collapsed": false,
     "input": [
      "cds, dist_introns, exons, five_prime_utrs, introns, prox_introns, three_prime_utrs = regions._gene_regions(interval)"
     ],
     "language": "python",
     "metadata": {},
     "outputs": [],
     "prompt_number": 83
    },
    {
     "cell_type": "code",
     "collapsed": false,
     "input": [
      "results = {\n",
      "           \"five_prime_utrs\": five_prime_utrs,\n",
      "           \"three_prime_utrs\": three_prime_utrs,\n",
      "           \"cds\": cds,\n",
      "           \"proxintron\": prox_introns,\n",
      "           \"distintron\": dist_introns,\n",
      "           \"exons\": exons,\n",
      "           \"introns\": introns}"
     ],
     "language": "python",
     "metadata": {},
     "outputs": [],
     "prompt_number": 88
    },
    {
     "cell_type": "code",
     "collapsed": false,
     "input": [
      "import os"
     ],
     "language": "python",
     "metadata": {},
     "outputs": [],
     "prompt_number": 89
    },
    {
     "cell_type": "code",
     "collapsed": false,
     "input": [
      "region_and_species = os.path.join(\".\", regions._species)\n",
      "for name, intervals in results.items():\n",
      "    intervals = pybedtools.BedTool(map(regions._to_bed, intervals)).remove_invalid().sort().each(regions._fix_chrom)\n",
      "\n",
      "    if name in [\"prox_introns\", \"dist_introns\"]:\n",
      "        results[name] = intervals.saveas(region_and_species + \"_%s%d.bed\" % (name, \n",
      "                                                                             prox_size))\n",
      "    else:\n",
      "        results[name] = intervals.saveas(region_and_species + \"_%s.bed\" % (name))"
     ],
     "language": "python",
     "metadata": {},
     "outputs": [],
     "prompt_number": 90
    },
    {
     "cell_type": "code",
     "collapsed": false,
     "input": [
      "%%prun -s cumulative "
     ],
     "language": "python",
     "metadata": {},
     "outputs": [],
     "prompt_number": 24
    },
    {
     "cell_type": "code",
     "collapsed": false,
     "input": [
      "results = regions.get_genomic_regions(flush_cashe=True)"
     ],
     "language": "python",
     "metadata": {},
     "outputs": [
      {
       "output_type": "stream",
       "stream": "stdout",
       "text": [
        "\n",
        "processed 0 genes\n",
        "processed 2000 genes"
       ]
      },
      {
       "output_type": "stream",
       "stream": "stdout",
       "text": [
        "\n",
        "processed 4000 genes"
       ]
      },
      {
       "output_type": "stream",
       "stream": "stdout",
       "text": [
        "\n",
        "processed 6000 genes"
       ]
      },
      {
       "output_type": "stream",
       "stream": "stdout",
       "text": [
        "\n",
        "processed 8000 genes"
       ]
      },
      {
       "output_type": "stream",
       "stream": "stdout",
       "text": [
        "\n",
        "processed 10000 genes"
       ]
      },
      {
       "output_type": "stream",
       "stream": "stdout",
       "text": [
        "\n",
        "processed 12000 genes"
       ]
      },
      {
       "output_type": "stream",
       "stream": "stdout",
       "text": [
        "\n",
        "processed 14000 genes"
       ]
      },
      {
       "output_type": "stream",
       "stream": "stdout",
       "text": [
        "\n",
        "processed 16000 genes"
       ]
      },
      {
       "output_type": "stream",
       "stream": "stdout",
       "text": [
        "\n",
        "processed 18000 genes"
       ]
      },
      {
       "output_type": "stream",
       "stream": "stdout",
       "text": [
        "\n",
        "processed 20000 genes"
       ]
      },
      {
       "output_type": "stream",
       "stream": "stdout",
       "text": [
        "\n",
        "processed 22000 genes"
       ]
      },
      {
       "output_type": "stream",
       "stream": "stdout",
       "text": [
        "\n",
        "processed 24000 genes"
       ]
      },
      {
       "output_type": "stream",
       "stream": "stdout",
       "text": [
        "\n",
        "processed 26000 genes"
       ]
      },
      {
       "output_type": "stream",
       "stream": "stdout",
       "text": [
        "\n",
        "processed 28000 genes"
       ]
      },
      {
       "output_type": "stream",
       "stream": "stdout",
       "text": [
        "\n",
        "processed 30000 genes"
       ]
      },
      {
       "output_type": "stream",
       "stream": "stdout",
       "text": [
        "\n",
        "processed 32000 genes"
       ]
      },
      {
       "output_type": "stream",
       "stream": "stdout",
       "text": [
        "\n",
        "processed 34000 genes"
       ]
      },
      {
       "output_type": "stream",
       "stream": "stdout",
       "text": [
        "\n",
        "processed 36000 genes"
       ]
      },
      {
       "output_type": "stream",
       "stream": "stdout",
       "text": [
        "\n",
        "processed 38000 genes"
       ]
      },
      {
       "output_type": "stream",
       "stream": "stdout",
       "text": [
        "\n",
        "processed 40000 genes"
       ]
      },
      {
       "output_type": "stream",
       "stream": "stdout",
       "text": [
        "\n",
        "processed 42000 genes"
       ]
      },
      {
       "output_type": "stream",
       "stream": "stdout",
       "text": [
        "\n",
        "processed 44000 genes"
       ]
      },
      {
       "output_type": "stream",
       "stream": "stdout",
       "text": [
        "\n",
        "processed 46000 genes"
       ]
      },
      {
       "output_type": "stream",
       "stream": "stdout",
       "text": [
        "\n",
        "processed 48000 genes"
       ]
      },
      {
       "output_type": "stream",
       "stream": "stdout",
       "text": [
        "\n",
        "processed 50000 genes"
       ]
      },
      {
       "output_type": "stream",
       "stream": "stdout",
       "text": [
        "\n",
        "processed 52000 genes"
       ]
      },
      {
       "output_type": "stream",
       "stream": "stdout",
       "text": [
        "\n",
        "processed 54000 genes"
       ]
      },
      {
       "output_type": "stream",
       "stream": "stdout",
       "text": [
        "\n",
        "processed 56000 genes"
       ]
      },
      {
       "output_type": "stream",
       "stream": "stdout",
       "text": [
        "\n"
       ]
      }
     ],
     "prompt_number": 91
    },
    {
     "cell_type": "code",
     "collapsed": false,
     "input": [
      "len(results['proxintron'])"
     ],
     "language": "python",
     "metadata": {},
     "outputs": [
      {
       "metadata": {},
       "output_type": "pyout",
       "prompt_number": 39,
       "text": [
        "227"
       ]
      }
     ],
     "prompt_number": 39
    },
    {
     "cell_type": "code",
     "collapsed": false,
     "input": [],
     "language": "python",
     "metadata": {},
     "outputs": []
    }
   ],
   "metadata": {}
  }
 ]
}