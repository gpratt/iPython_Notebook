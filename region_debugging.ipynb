{
 "metadata": {
  "name": ""
 },
 "nbformat": 3,
 "nbformat_minor": 0,
 "worksheets": [
  {
   "cells": [
    {
     "cell_type": "code",
     "collapsed": false,
     "input": [
      "from clipper.src import CLIP_analysisfrom clipper.src import CLIP_analysis"
     ],
     "language": "python",
     "metadata": {},
     "outputs": [
      {
       "output_type": "stream",
       "stream": "stderr",
       "text": [
        "/nas3/yeolab/Software/Python-2.7.5/lib/python2.7/site-packages/matplotlib-1.4.x-py2.7-linux-x86_64.egg/matplotlib/__init__.py:1146: UserWarning:  This call to matplotlib.use() has no effect\n",
        "because the backend has already been chosen;\n",
        "matplotlib.use() must be called *before* pylab, matplotlib.pyplot,\n",
        "or matplotlib.backends is imported for the first time.\n",
        "\n",
        "  warnings.warn(_use_error_msg)\n"
       ]
      }
     ],
     "prompt_number": 1
    },
    {
     "cell_type": "code",
     "collapsed": false,
     "input": [
      "regions = CLIP_analysis.get_genomic_regions(\"/nas3/gpratt/clipper/clipper/data/regions/\", \"hg19\", None)"
     ],
     "language": "python",
     "metadata": {},
     "outputs": [
      {
       "output_type": "stream",
       "stream": "stdout",
       "text": [
        "/nas3/gpratt/clipper/clipper/data/regions/hg19_genes.bed\n"
       ]
      }
     ],
     "prompt_number": 2
    },
    {
     "cell_type": "code",
     "collapsed": false,
     "input": [
      "regions"
     ],
     "language": "python",
     "metadata": {},
     "outputs": [
      {
       "metadata": {},
       "output_type": "pyout",
       "prompt_number": 3,
       "text": [
        "{'cds': <BedTool(/nas3/gpratt/clipper/clipper/data/regions/hg19_cds.bed)>,\n",
        " 'exons': <BedTool(/nas3/gpratt/clipper/clipper/data/regions/hg19_exons.bed)>,\n",
        " 'five_prime_utrs': <BedTool(/nas3/gpratt/clipper/clipper/data/regions/hg19_five_prime_utrs.bed)>,\n",
        " 'genes': <BedTool(/nas3/gpratt/clipper/clipper/data/regions/hg19_genes.bed)>,\n",
        " 'introns': <BedTool(/nas3/gpratt/clipper/clipper/data/regions/hg19_introns.bed)>,\n",
        " 'three_prime_utrs': <BedTool(/nas3/gpratt/clipper/clipper/data/regions/hg19_three_prime_utrs.bed)>}"
       ]
      }
     ],
     "prompt_number": 3
    },
    {
     "cell_type": "code",
     "collapsed": false,
     "input": [
      ")a = regions['cds'].cat(regions['five_prime_utrs']).cat(regions['three_prime_utrs'])"
     ],
     "language": "python",
     "metadata": {},
     "outputs": [],
     "prompt_number": 11
    },
    {
     "cell_type": "code",
     "collapsed": false,
     "input": [
      "foo = regions['exons'] - a"
     ],
     "language": "python",
     "metadata": {},
     "outputs": [],
     "prompt_number": 14
    },
    {
     "cell_type": "code",
     "collapsed": false,
     "input": [
      "len(foo)"
     ],
     "language": "python",
     "metadata": {},
     "outputs": [
      {
       "metadata": {},
       "output_type": "pyout",
       "prompt_number": 15,
       "text": [
        "90172"
       ]
      }
     ],
     "prompt_number": 15
    },
    {
     "cell_type": "code",
     "collapsed": false,
     "input": [
      "len(a)len(a)"
     ],
     "language": "python",
     "metadata": {},
     "outputs": [
      {
       "metadata": {},
       "output_type": "pyout",
       "prompt_number": 16,
       "text": [
        "268353"
       ]
      }
     ],
     "prompt_number": 16
    },
    {
     "cell_type": "code",
     "collapsed": false,
     "input": [
      "for interval in foo[:10]:\n",
      "    print interval"
     ],
     "language": "python",
     "metadata": {},
     "outputs": [
      {
       "output_type": "stream",
       "stream": "stdout",
       "text": [
        "chr1\t11869\t12227\tENSG00000223972.4\t0\t+\n",
        "\n",
        "chr1\t12595\t12721\tENSG00000223972.4\t0\t+\n",
        "\n",
        "chr1\t12975\t13052\tENSG00000223972.4\t0\t+\n",
        "\n",
        "chr1\t13221\t14412\tENSG00000223972.4\t0\t+\n",
        "\n",
        "chr1\t14363\t14829\tENSG00000227232.4\t0\t-\n",
        "\n",
        "chr1\t14970\t15038\tENSG00000227232.4\t0\t-\n",
        "\n",
        "chr1\t15796\t15947\tENSG00000227232.4\t0\t-\n",
        "\n",
        "chr1\t16607\t16765\tENSG00000227232.4\t0\t-\n",
        "\n",
        "chr1\t16854\t17055\tENSG00000227232.4\t0\t-\n",
        "\n",
        "chr1\t17233\t17368\tENSG00000227232.4\t0\t-\n",
        "\n"
       ]
      }
     ],
     "prompt_number": 18
    },
    {
     "cell_type": "code",
     "collapsed": false,
     "input": [
      "odd_genes = odd_genes = list({interval.name for interval in foo})"
     ],
     "language": "python",
     "metadata": {},
     "outputs": [],
     "prompt_number": 19
    },
    {
     "cell_type": "code",
     "collapsed": false,
     "input": [
      "0]odd_genes[:20]"
     ],
     "language": "python",
     "metadata": {},
     "outputs": [
      {
       "metadata": {},
       "output_type": "pyout",
       "prompt_number": 20,
       "text": [
        "['ENSG00000242268.2',\n",
        " 'ENSG00000270112.1',\n",
        " 'ENSG00000078237.4',\n",
        " 'ENSG00000263642.1',\n",
        " 'ENSG00000225275.4',\n",
        " 'ENSG00000269416.1',\n",
        " 'ENSG00000231981.3',\n",
        " 'ENSG00000201788.1',\n",
        " 'ENSG00000240423.1',\n",
        " 'ENSG00000271616.1',\n",
        " 'ENSG00000264310.1',\n",
        " 'ENSG00000236040.1',\n",
        " 'ENSG00000231105.1',\n",
        " 'ENSG00000136895.14',\n",
        " 'ENSG00000231112.1',\n",
        " 'ENSG00000271100.1',\n",
        " 'ENSG00000264981.1',\n",
        " 'ENSG00000145016.9',\n",
        " 'ENSG00000233540.1',\n",
        " 'ENSG00000252650.1']"
       ]
      }
     ],
     "prompt_number": 20
    },
    {
     "cell_type": "code",
     "collapsed": false,
     "input": [],
     "language": "python",
     "metadata": {},
     "outputs": []
    }
   ],
   "metadata": {}
  }
 ]
}