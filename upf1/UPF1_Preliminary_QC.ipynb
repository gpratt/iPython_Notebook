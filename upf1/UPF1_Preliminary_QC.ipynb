{
 "metadata": {
  "name": "",
  "signature": "sha256:e8094b1e3defd17b6e38e553c7ceb5334860f62f44c555cf355bfdda7cf8984f"
 },
 "nbformat": 3,
 "nbformat_minor": 0,
 "worksheets": [
  {
   "cells": [
    {
     "cell_type": "code",
     "collapsed": false,
     "input": [
      "from collections import defaultdict, Counter\n",
      "import glob\n",
      "import os\n",
      "\n",
      "import pybedtools\n",
      "import pysam\n",
      "import pandas as pd\n",
      "\n",
      "from IPython.core.display import HTML, Latex\n",
      "\n",
      "from gscripts.general.parsers import clipseq_metrics, commas\n",
      "analysis_dir = \"/nas3/gpratt/projects/upf1/analysis/v3\"\n",
      "img_dir = \"/nas3/gpratt/Dropbox/UPF1/Upf1_paper/computational_figures/clipseq\""
     ],
     "language": "python",
     "metadata": {},
     "outputs": [],
     "prompt_number": 63
    },
    {
     "cell_type": "code",
     "collapsed": false,
     "input": [
      "%load_ext autoreload\n",
      "%autoreload 2"
     ],
     "language": "python",
     "metadata": {},
     "outputs": [],
     "prompt_number": 2
    },
    {
     "cell_type": "code",
     "collapsed": false,
     "input": [
      "reload(parsers)\n"
     ],
     "language": "python",
     "metadata": {},
     "outputs": [
      {
       "metadata": {},
       "output_type": "pyout",
       "prompt_number": 50,
       "text": [
        "<module 'gscripts.general.parsers' from '/nas/nas0/gpratt/virtualenvs/default/lib/python2.7/site-packages/gscripts-0.1.6-py2.7.egg/gscripts/general/parsers.pyc'>"
       ]
      }
     ],
     "prompt_number": 50
    },
    {
     "cell_type": "code",
     "collapsed": false,
     "input": [
      "combined_df = clipseq_metrics(analysis_dir)\n",
      "combined_df = combined_df.drop([\"289_FlagControl_NoIndex_L005_R1\",\n",
      "                  \"290_FlagDEAA_NoIndex_L006_R1\",\n",
      "                  \"291_FlagK498A_NoIndex_L007_R1\",\n",
      "                  \"K498A\",\n",
      "                  \"WT\",\n",
      "                  \"DEAA\",\n",
      "                  \"FJM_W2_NoIndex_L003_R1\"\n",
      "                  ])\n",
      "\n",
      "combined_df = combined_df.rename({\"FJM_W1_NoIndex_L001_R1\" : \"WT_rep1\", \n",
      "                                  \"FM_UPF_1_NoIndex_L004_R1\" : \"DEAA_rep1\",\n",
      "                                  \"FM_UPF_2_NoIndex_L005_R1\" : \"DEAA_rep2\",\n",
      "                                  \"FM_UPF_3_NoIndex_L006_R1\" : \"KA_rep1\",\n",
      "                                  \"FM_UPF_4_NoIndex_L007_R1\" : \"KA_rep2\",\n",
      "                                  \"WT_NoIndex_L006_R1\" : \"WT_rep2\"})"
     ],
     "language": "python",
     "metadata": {},
     "outputs": [],
     "prompt_number": 59
    },
    {
     "cell_type": "code",
     "collapsed": false,
     "input": [
      "filtered_df = combined_df[[\"Input Reads\",\n",
      "                            \"Reads After Triming\",\n",
      "                            \"Reads Passing Quality Filter\", \n",
      "                            \"Uniquely Mapped Reads\",\n",
      "                            \"Usable Reads\",\n",
      "                            #\"Num Peaks\"\n",
      "                            ]]\n",
      "\n",
      "filtered_df = filtered_df.astype(int)\n",
      "filtered_df.to_csv(os.path.join(img_dir, \"clipseq_stats.csv\"), formatters= {column : parsers.commas for column in filtered_df.columns})\n",
      "HTML(filtered_df.to_html(formatters= {column : parsers.commas for column in filtered_df.columns}))\n"
     ],
     "language": "python",
     "metadata": {},
     "outputs": [
      {
       "html": [
        "<table border=\"1\" class=\"dataframe\">\n",
        "  <thead>\n",
        "    <tr style=\"text-align: right;\">\n",
        "      <th></th>\n",
        "      <th>Input Reads</th>\n",
        "      <th>Reads After Triming</th>\n",
        "      <th>Reads Passing Quality Filter</th>\n",
        "      <th>Uniquely Mapped Reads</th>\n",
        "      <th>Usable Reads</th>\n",
        "    </tr>\n",
        "  </thead>\n",
        "  <tbody>\n",
        "    <tr>\n",
        "      <th>WT_rep1</th>\n",
        "      <td>130,352,798</td>\n",
        "      <td> 95,333,848</td>\n",
        "      <td> 60,739,472</td>\n",
        "      <td> 45,440,016</td>\n",
        "      <td>3,953,713</td>\n",
        "    </tr>\n",
        "    <tr>\n",
        "      <th>DEAA_rep1</th>\n",
        "      <td>211,080,719</td>\n",
        "      <td>145,016,831</td>\n",
        "      <td>117,004,404</td>\n",
        "      <td> 92,605,860</td>\n",
        "      <td>1,739,659</td>\n",
        "    </tr>\n",
        "    <tr>\n",
        "      <th>DEAA_rep2</th>\n",
        "      <td>219,091,652</td>\n",
        "      <td>161,502,960</td>\n",
        "      <td>132,736,283</td>\n",
        "      <td>107,269,572</td>\n",
        "      <td>2,082,917</td>\n",
        "    </tr>\n",
        "    <tr>\n",
        "      <th>KA_rep1</th>\n",
        "      <td>242,392,944</td>\n",
        "      <td>152,091,072</td>\n",
        "      <td>117,319,998</td>\n",
        "      <td> 90,783,358</td>\n",
        "      <td>1,703,452</td>\n",
        "    </tr>\n",
        "    <tr>\n",
        "      <th>KA_rep2</th>\n",
        "      <td>217,474,440</td>\n",
        "      <td>168,920,928</td>\n",
        "      <td>140,164,156</td>\n",
        "      <td>114,090,084</td>\n",
        "      <td>1,668,647</td>\n",
        "    </tr>\n",
        "    <tr>\n",
        "      <th>WT_rep2</th>\n",
        "      <td>216,219,416</td>\n",
        "      <td>164,798,455</td>\n",
        "      <td>114,336,689</td>\n",
        "      <td> 93,684,573</td>\n",
        "      <td>  313,639</td>\n",
        "    </tr>\n",
        "  </tbody>\n",
        "</table>"
       ],
       "metadata": {},
       "output_type": "pyout",
       "prompt_number": 69,
       "text": [
        "<IPython.core.display.HTML at 0x1b54f590>"
       ]
      }
     ],
     "prompt_number": 69
    },
    {
     "cell_type": "code",
     "collapsed": false,
     "input": [
      "merged = filtered_df.groupby({\"WT_rep1\" : \"WT\", \n",
      "                     \"DEAA_rep1\" : \"DEAA\",\n",
      "                     \"DEAA_rep2\" : \"DEAA\",\n",
      "                     \"KA_rep1\" : \"KA\",\n",
      "                     \"KA_rep2\" : \"KA\",\n",
      "                     \"WT_rep2\" : \"WT\"}).sum()\n",
      "\n",
      "HTML(merged.to_html(formatters= {column : parsers.commas for column in filtered_df.columns}))"
     ],
     "language": "python",
     "metadata": {},
     "outputs": [
      {
       "html": [
        "<table border=\"1\" class=\"dataframe\">\n",
        "  <thead>\n",
        "    <tr style=\"text-align: right;\">\n",
        "      <th></th>\n",
        "      <th>Input Reads</th>\n",
        "      <th>Reads After Triming</th>\n",
        "      <th>Reads Passing Quality Filter</th>\n",
        "      <th>Uniquely Mapped Reads</th>\n",
        "      <th>Usable Reads</th>\n",
        "    </tr>\n",
        "  </thead>\n",
        "  <tbody>\n",
        "    <tr>\n",
        "      <th>DEAA</th>\n",
        "      <td>430,172,371</td>\n",
        "      <td>306,519,791</td>\n",
        "      <td>249,740,687</td>\n",
        "      <td>199,875,432</td>\n",
        "      <td>3,822,576</td>\n",
        "    </tr>\n",
        "    <tr>\n",
        "      <th>KA</th>\n",
        "      <td>459,867,384</td>\n",
        "      <td>321,012,000</td>\n",
        "      <td>257,484,154</td>\n",
        "      <td>204,873,442</td>\n",
        "      <td>3,372,099</td>\n",
        "    </tr>\n",
        "    <tr>\n",
        "      <th>WT</th>\n",
        "      <td>346,572,214</td>\n",
        "      <td>260,132,303</td>\n",
        "      <td>175,076,161</td>\n",
        "      <td>139,124,589</td>\n",
        "      <td>4,267,352</td>\n",
        "    </tr>\n",
        "  </tbody>\n",
        "</table>"
       ],
       "metadata": {},
       "output_type": "pyout",
       "prompt_number": 66,
       "text": [
        "<IPython.core.display.HTML at 0x1b50d0d0>"
       ]
      }
     ],
     "prompt_number": 66
    },
    {
     "cell_type": "code",
     "collapsed": false,
     "input": [],
     "language": "python",
     "metadata": {},
     "outputs": []
    }
   ],
   "metadata": {}
  }
 ]
}