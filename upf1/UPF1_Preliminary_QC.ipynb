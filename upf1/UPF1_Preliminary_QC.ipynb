{
 "metadata": {
  "name": ""
 },
 "nbformat": 3,
 "nbformat_minor": 0,
 "worksheets": [
  {
   "cells": [
    {
     "cell_type": "code",
     "collapsed": false,
     "input": [
      "from collections import defaultdict, Counter\n",
      "import glob\n",
      "import os\n",
      "\n",
      "import pybedtools\n",
      "import pysam\n",
      "import pandas as pd\n",
      "\n",
      "from IPython.core.display import HTML, Latex\n",
      "\n",
      "from gscripts.general.parsers import clipseq_metrics\n",
      "analysis_dir = \"/nas3/gpratt/projects/upf1/analysis/v3\""
     ],
     "language": "python",
     "metadata": {},
     "outputs": [],
     "prompt_number": 1
    },
    {
     "cell_type": "code",
     "collapsed": false,
     "input": [
      "def parse_rm_duped_metrics_file(rmDup_file):\n",
      "    try:\n",
      "        total_count = 0\n",
      "        removed_count = 0 \n",
      "        df = pd.read_csv(rmDup_file, sep=\"\\t\")\n",
      "        sum(df.total_count) - sum(df.removed_count)\n",
      "            \n",
      "        return {\"total_count\" : sum(df.total_count), \n",
      "                    \"removed_count\" : sum(df.removed_count), \n",
      "                    \"Usable Reads\" : sum(df.total_count) - sum(df.removed_count)}\n",
      "    except:\n",
      "        return {\"total_count\" : None, \n",
      "                    \"removed_count\" : None, \n",
      "                    \"Usable Reads\" : None}"
     ],
     "language": "python",
     "metadata": {},
     "outputs": [],
     "prompt_number": 2
    },
    {
     "cell_type": "code",
     "collapsed": false,
     "input": [
      "combined_df = clipseq_metrics(analysis_dir)"
     ],
     "language": "python",
     "metadata": {},
     "outputs": [],
     "prompt_number": 3
    },
    {
     "cell_type": "code",
     "collapsed": false,
     "input": [
      "filtered_df = combined_df[[\"Number of input reads\", \n",
      "                            \"Uniquely mapped reads number\",\n",
      "                            \"Uniquely mapped reads %\",\n",
      "                            \"Usable Reads\",\n",
      "                            \"spot\",\n",
      "                            \"Num Peaks\"]]\n",
      "\n",
      "\n",
      "HTML(filtered_df.to_html(formatters={\"Number of input reads\" : commas,\n",
      "                             \"Uniquely mapped reads number\" : commas,\n",
      "                             \"Usable Reads\" : commas,\n",
      "                             \"Num Peaks\": commas} ))"
     ],
     "language": "python",
     "metadata": {},
     "outputs": [
      {
       "ename": "NameError",
       "evalue": "name 'commas' is not defined",
       "output_type": "pyerr",
       "traceback": [
        "\u001b[1;31m---------------------------------------------------------------------------\u001b[0m\n\u001b[1;31mNameError\u001b[0m                                 Traceback (most recent call last)",
        "\u001b[1;32m<ipython-input-4-2fb6d3c099e3>\u001b[0m in \u001b[0;36m<module>\u001b[1;34m()\u001b[0m\n\u001b[0;32m      7\u001b[0m \u001b[1;33m\u001b[0m\u001b[0m\n\u001b[0;32m      8\u001b[0m \u001b[1;33m\u001b[0m\u001b[0m\n\u001b[1;32m----> 9\u001b[1;33m HTML(filtered_df.to_html(formatters={\"Number of input reads\" : commas,\n\u001b[0m\u001b[0;32m     10\u001b[0m                              \u001b[1;34m\"Uniquely mapped reads number\"\u001b[0m \u001b[1;33m:\u001b[0m \u001b[0mcommas\u001b[0m\u001b[1;33m,\u001b[0m\u001b[1;33m\u001b[0m\u001b[0m\n\u001b[0;32m     11\u001b[0m                              \u001b[1;34m\"Usable Reads\"\u001b[0m \u001b[1;33m:\u001b[0m \u001b[0mcommas\u001b[0m\u001b[1;33m,\u001b[0m\u001b[1;33m\u001b[0m\u001b[0m\n",
        "\u001b[1;31mNameError\u001b[0m: name 'commas' is not defined"
       ]
      }
     ],
     "prompt_number": 4
    },
    {
     "cell_type": "code",
     "collapsed": false,
     "input": [],
     "language": "python",
     "metadata": {},
     "outputs": []
    }
   ],
   "metadata": {}
  }
 ]
}