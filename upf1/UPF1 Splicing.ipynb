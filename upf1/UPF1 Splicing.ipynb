{
 "metadata": {
  "name": ""
 },
 "nbformat": 3,
 "nbformat_minor": 0,
 "worksheets": [
  {
   "cells": [
    {
     "cell_type": "code",
     "collapsed": false,
     "input": [
      "!run_events_analysis.py --compute-genes-psi /nas3/gpratt/projects/upf1/data/Homo_sapiens.GRCh37.65.indexed/ /nas3/gpratt/projects/upf1/analysis/rna_seq/333_LxLuc2_NoIndex_L001_R1.fastq.norep.Aligned.out.sam.bam.sorted.bam --output-dir 333_LxLuc2_NoIndex_L001_R1/ --read-len 35"
     ],
     "language": "python",
     "metadata": {},
     "outputs": [],
     "prompt_number": "*"
    },
    {
     "cell_type": "code",
     "collapsed": false,
     "input": [
      "!run_events_analysis.py --compute-genes-psi /nas3/gpratt/projects/upf1/data/Homo_sapiens.GRCh37.65.indexed/ /nas3/gpratt/projects/upf1/analysis/rna_seq/334_LxLuc3_NoIndex_L002_R1.fastq.norep.Aligned.out.sam.bam.sorted.bam --output-dir 334_LxLuc3_NoIndex_L002_R1/ --read-len 35"
     ],
     "language": "python",
     "metadata": {},
     "outputs": [],
     "prompt_number": "*"
    },
    {
     "cell_type": "code",
     "collapsed": false,
     "input": [
      "!run_events_analysis.py --compute-genes-psi /nas3/gpratt/projects/upf1/data/Homo_sapiens.GRCh37.65.indexed/ /nas3/gpratt/projects/upf1/analysis/rna_seq/335_LxUPF12_NoIndex_L003_R1.fastq.norep.Aligned.out.sam.bam.sorted.bam --output-dir 335_LxUPF12_NoIndex_L003_R1/ --read-len 35"
     ],
     "language": "python",
     "metadata": {},
     "outputs": [],
     "prompt_number": "*"
    },
    {
     "cell_type": "code",
     "collapsed": false,
     "input": [
      "!run_events_analysis.py --compute-genes-psi /nas3/gpratt/projects/upf1/data/Homo_sapiens.GRCh37.65.indexed/ /nas3/gpratt/projects/upf1/analysis/rna_seq/336_LxUPF13_NoIndex_L004_R1.fastq.norep.Aligned.out.sam.bam.sorted.bam --output-dir 336_LxUPF13_NoIndex_L004_R1/ --read-len 35"
     ],
     "language": "python",
     "metadata": {},
     "outputs": [],
     "prompt_number": "*"
    },
    {
     "cell_type": "code",
     "collapsed": false,
     "input": [
      "!run_miso.py --summarize-samples 333_LxLuc2_NoIndex_L001_R1/ 333_LxLuc2_NoIndex_L001_R1_summary/"
     ],
     "language": "python",
     "metadata": {},
     "outputs": [],
     "prompt_number": "*"
    },
    {
     "cell_type": "code",
     "collapsed": false,
     "input": [
      "!run_miso.py --summarize-samples 334_LxLuc3_NoIndex_L002_R1/ 334_LxLuc3_NoIndex_L002_R1_summary/"
     ],
     "language": "python",
     "metadata": {},
     "outputs": [],
     "prompt_number": "*"
    },
    {
     "cell_type": "code",
     "collapsed": false,
     "input": [
      "!run_miso.py --summarize-samples 335_LxUPF12_NoIndex_L003_R1/ 335_LxUPF12_NoIndex_L003_R1_summary/"
     ],
     "language": "python",
     "metadata": {},
     "outputs": [],
     "prompt_number": "*"
    },
    {
     "cell_type": "code",
     "collapsed": false,
     "input": [
      "!run_miso.py --summarize-samples 336_LxUPF13_NoIndex_L004_R1/ 336_LxUPF13_NoIndex_L004_R1_summary/"
     ],
     "language": "python",
     "metadata": {},
     "outputs": [],
     "prompt_number": "*"
    },
    {
     "cell_type": "markdown",
     "metadata": {},
     "source": [
      "This is unnessessary, talk to mike / olga about how to actually run MISO"
     ]
    }
   ],
   "metadata": {}
  }
 ]
}