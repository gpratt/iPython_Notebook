{
 "metadata": {
  "name": "",
  "signature": "sha256:812381f4a5f7fb7acda2db511a9cc765242f4c3503616df85941be863e95e608"
 },
 "nbformat": 3,
 "nbformat_minor": 0,
 "worksheets": [
  {
   "cells": [
    {
     "cell_type": "code",
     "collapsed": false,
     "input": [
      "from collections import defaultdict\n",
      "import csv\n",
      "import os\n",
      "import cPickle as pickle\n",
      "\n",
      "from Bio import SeqIO\n",
      "import brewer2mpl\n",
      "from brewer2mpl import qualitative\n",
      "from bx.bbi.bigwig_file import BigWigFile\n",
      "import gffutils\n",
      "from IPython.display import Image\n",
      "import matplotlib.pyplot as plt\n",
      "import pybedtools\n",
      "import pandas as pd\n",
      "import matplotlib_venn\n",
      "import numpy as np\n",
      "import seaborn as sns\n",
      "import pysam\n",
      "from clipper.src import get_genomic_regions \n",
      "import clipper.src.CLIP_analysis as CLIP_analysis\n",
      "import gscripts.general.pybedtools_helpers as helpers\n",
      "from gscripts.general.pybedtools_helpers import small_peaks, shuffle_and_adjust, closest_by_feature, get_three_prime_end, get_five_prime_end, convert_to_mRNA_position, adjust_after_shuffle\n",
      "from gscripts.general import dataviz\n",
      "#from gscripts.general.region_helpers import get_regions, generate_region_dict\n",
      "\n",
      "path = \"/nas3/gpratt/projects/upf1/scripts/\"\n",
      "img_dir =  \"/nas3/gpratt/Dropbox/UPF1/Upf1_paper/computational_figures/clipseq\""
     ],
     "language": "python",
     "metadata": {},
     "outputs": [],
     "prompt_number": 34
    },
    {
     "cell_type": "code",
     "collapsed": false,
     "input": [
      "ax."
     ],
     "language": "python",
     "metadata": {},
     "outputs": []
    },
    {
     "cell_type": "code",
     "collapsed": false,
     "input": [
      "#Define colors specifically\n",
      "colors = qualitative.Dark2[4].mpl_colors\n",
      "color_dict = {name : color for name, color in zip([\"DEAA\", \"K498A\", \"Wild Type\", \"FLAG\"], colors)}\n",
      "color_dict['WT'] = color_dict['Wild Type']\n",
      "#define order of layout\n",
      "def order(x):\n",
      "    order_dict = {\"WT\" : 1, \"Wild Type\" : 1, \"FLAG\" : 2, \"K498A\" : 3, \"DEAA\" : 4}\n",
      "    return order_dict[x]"
     ],
     "language": "python",
     "metadata": {},
     "outputs": [],
     "prompt_number": 2
    },
    {
     "cell_type": "code",
     "collapsed": false,
     "input": [
      "def generate_distribution(dist):\n",
      "    count, bins = np.histogram(dist, range=(0, 1.0), \n",
      "                                    bins=50, \n",
      "                                    density=True\n",
      "                                    )\n",
      "    return count, [(bins[x] + bins[x+1]) / 2 for x in range(len(bins) - 1)]"
     ],
     "language": "python",
     "metadata": {},
     "outputs": [],
     "prompt_number": 3
    },
    {
     "cell_type": "code",
     "collapsed": false,
     "input": [
      "def name_to_chrom(interval):\n",
      "    interval.chrom = interval.name\n",
      "    return interval"
     ],
     "language": "python",
     "metadata": {},
     "outputs": [],
     "prompt_number": 4
    },
    {
     "cell_type": "code",
     "collapsed": false,
     "input": [
      "def adjust_offsets(interval):\n",
      "    interval[6] = str(interval.start)\n",
      "    interval[7] = str(interval.end)\n",
      "    return interval"
     ],
     "language": "python",
     "metadata": {},
     "outputs": [],
     "prompt_number": 5
    },
    {
     "cell_type": "code",
     "collapsed": false,
     "input": [
      "def get_distributions(bedtool, region_dict):\n",
      "    \n",
      "    \"\"\"\n",
      "    \n",
      "    Gets distributions from RNA_position function\n",
      "\n",
      "    bedtool - clipper bed file to generate distributions from\n",
      "    region_dict - generate_region_dict dict defining regions \n",
      "\n",
      "    \"\"\"\n",
      "    \n",
      "    exon_distributions = []\n",
      "    total_distributions = []\n",
      "    num_errors = []\n",
      "    num_missed = []\n",
      "    for interval in bedtool:\n",
      "        try: \n",
      "            #will need to redefine this to use intervals\n",
      "            exon, total = CLIP_analysis.RNA_position(interval, region_dict)\n",
      "  \n",
      "            if total is not None:\n",
      "                total_distributions.append(total)\n",
      "                exon_distributions.append(exon)\n",
      "            else:\n",
      "                num_missed.append(interval)\n",
      "        except:\n",
      "            num_errors.append(interval)\n",
      "\n",
      "    return exon_distributions, total_distributions, num_errors, num_missed"
     ],
     "language": "python",
     "metadata": {},
     "outputs": [],
     "prompt_number": 6
    },
    {
     "cell_type": "code",
     "collapsed": false,
     "input": [
      "#probably should quantify how much data I'm loosing...\n",
      "def plot_distance_from_region_combined(closest_bed):\n",
      "    \"\"\" wraps intersect bed, where region of interest is the thing to plot the distance from, and bedtool is the distance \n",
      "        returns closest bed object, plots everything on one plot\n",
      "        This is useful to add to clip_analysis\n",
      "    \"\"\"\n",
      "    \n",
      "    for name, closest in sorted(closest_bed.items()):\n",
      "        \n",
      "        full_data = array([ int(interval[-1]) for interval in closest if interval[-2] != \".\"])\n",
      "        y, x =  numpy.histogram(full_data, range=(-200, 200), bins=25, normed=True)\n",
      "        x = [(x[n] + x[n+1]) / 2 for n in range(len(x) - 1)]\n",
      "        plot(x,y, label=name, alpha=.7)\n",
      "    legend(loc=0)"
     ],
     "language": "python",
     "metadata": {},
     "outputs": [],
     "prompt_number": 7
    },
    {
     "cell_type": "code",
     "collapsed": false,
     "input": [
      "def rename_to_gene_from_dict(interval, transcript_gene_dict):\n",
      "    interval[2] = transcript_gene_dict[interval.attrs['Parent']]\n",
      "    interval.name = transcript_gene_dict[interval.attrs['Parent']]\n",
      "    return interval\n",
      "\n",
      "def get_single_gene_name(interval):\n",
      "    interval.name = interval.name.split(\";\")[0]\n",
      "    return interval"
     ],
     "language": "python",
     "metadata": {},
     "outputs": [],
     "prompt_number": 8
    },
    {
     "cell_type": "code",
     "collapsed": false,
     "input": [
      "def make_ucsc_chr(interval):\n",
      "    interval.chrom = \"chr\" + interval.chrom\n",
      "    return interval\n",
      "\n",
      "def strip_chr(interval):\n",
      "    interval.chrom = interval.chrom[2:]\n",
      "    return interval\n",
      "\n",
      "def rename_to_gene(interval):\n",
      "    interval.name = interval.attrs['Parent']\n",
      "    interval[2] = interval.attrs['Parent']\n",
      "    return interval\n",
      "\n",
      "def get_first_gene(interval):\n",
      "    interval.name = interval.name.split(\";\")[0]\n",
      "    interval[3] = interval.name.split(\";\")[0]\n",
      "    return interval"
     ],
     "language": "python",
     "metadata": {},
     "outputs": [],
     "prompt_number": 9
    },
    {
     "cell_type": "code",
     "collapsed": false,
     "input": [
      "pickled_files = {}\n",
      "path = \"/nas3/gpratt/projects/upf1/analysis/v4\"\n",
      "pickled_files['WT'] = pickle.load(open(os.path.join(path, \"WT.peaks.bed.clip_analysis.pickle\")))\n",
      "pickled_files['DEAA'] = pickle.load(open(os.path.join(path, \"DEAA.peaks.bed.clip_analysis.pickle\")))\n",
      "pickled_files['K498A'] = pickle.load(open(os.path.join(path, \"K498A.peaks.bed.clip_analysis.pickle\")))"
     ],
     "language": "python",
     "metadata": {},
     "outputs": [],
     "prompt_number": 10
    },
    {
     "cell_type": "markdown",
     "metadata": {},
     "source": [
      "Make regions"
     ]
    },
    {
     "cell_type": "code",
     "collapsed": false,
     "input": [
      "transcriptome = pybedtools.BedTool(\"/nas3/gpratt/clipper/clipper/data/regions/hg19_exons.bed\")"
     ],
     "language": "python",
     "metadata": {},
     "outputs": [],
     "prompt_number": 11
    },
    {
     "cell_type": "code",
     "collapsed": false,
     "input": [
      "human_db = \"/nas3/gpratt/gencode/gencode.v17.annotation.gtf.db\"\n",
      "db = gffutils.FeatureDB(human_db)\n",
      "\n",
      "Features = get_genomic_regions.GenomicFeatures(\"hg19\", db)\n",
      "\n",
      "(cds, distintron, exons, five_prime_utrs, genes, introns, proxintron, three_prime_utrs,\n",
      " ) = Features.get_genomic_regions().values()\n",
      "\n",
      "(five_prime_ends, poly_a_sites, start_codons, \n",
      " stop_codons, three_prime_ends, transcription_start_sites) = Features.get_feature_locations().values()"
     ],
     "language": "python",
     "metadata": {},
     "outputs": [],
     "prompt_number": 12
    },
    {
     "cell_type": "code",
     "collapsed": false,
     "input": [
      "nmd_targets = set([])\n",
      "\n",
      "for transcript in db.features_of_type('transcript'):\n",
      "    if transcript.attributes['transcript_type'] == \"nonsense_mediated_decay\":\n",
      "        nmd_targets.add(transcript.attributes['gene_id'])"
     ],
     "language": "python",
     "metadata": {},
     "outputs": [],
     "prompt_number": 13
    },
    {
     "cell_type": "code",
     "collapsed": false,
     "input": [
      "path = \"/nas3/gpratt/projects/upf1/analysis/v4\"\n",
      "bams = { 'DEAA' : pysam.Samfile(os.path.join(path, \"DEAA.bam\"), 'rb'),\n",
      "         'K498A': pysam.Samfile(os.path.join(path, \"K498A.bam\"), 'rb'),\n",
      "         'WT'   : pysam.Samfile(os.path.join(path, \"WT.bam\"), 'rb')\n",
      "         }\n",
      "\n",
      "beds = { 'DEAA' : pybedtools.BedTool(os.path.join(path, \"DEAA.peaks.bed\")),\n",
      "         'K498A': pybedtools.BedTool(os.path.join(path, 'K498A.peaks.bed')),\n",
      "         'WT'   : pybedtools.BedTool(os.path.join(path, 'WT.peaks.bed'))\n",
      "         }"
     ],
     "language": "python",
     "metadata": {},
     "outputs": [],
     "prompt_number": 14
    },
    {
     "cell_type": "code",
     "collapsed": false,
     "input": [
      "beds_center = {name : bedtool.each(small_peaks).saveas() for name, bedtool in beds.items()}"
     ],
     "language": "python",
     "metadata": {},
     "outputs": [],
     "prompt_number": 15
    },
    {
     "cell_type": "code",
     "collapsed": false,
     "input": [
      "for n in range(5):\n",
      "    beds_center[\"control_\" + str(n)] = shuffle_and_adjust(beds_center['DEAA'], transcriptome).each(adjust_offsets).saveas()"
     ],
     "language": "python",
     "metadata": {},
     "outputs": [],
     "prompt_number": 16
    },
    {
     "cell_type": "code",
     "collapsed": false,
     "input": [
      "def to_bed(x):\n",
      "    return x.chrom, x.start, x.stop, x.attributes['gene_id'], \"0\", x.strand"
     ],
     "language": "python",
     "metadata": {},
     "outputs": [],
     "prompt_number": 17
    },
    {
     "cell_type": "code",
     "collapsed": false,
     "input": [
      "only_five_prime_utr = exons.intersect(five_prime_utrs, s=True).intersect(three_prime_utrs, s=True, v=True).intersect(cds, s=True, v=True).saveas()\n",
      "only_cds = exons.intersect(cds, s=True).intersect(three_prime_utrs, s=True, v=True).intersect(five_prime_utrs, s=True, v=True).saveas()\n",
      "only_three_prime_utr = exons.intersect(three_prime_utrs, s=True).intersect(cds, s=True, v=True).intersect(five_prime_utrs, s=True, v=True).saveas()\n",
      "five_prime_utr_cds = exons.intersect(five_prime_utrs, s=True).intersect(three_prime_utrs, s=True, v=True).intersect(cds, s=True).saveas()\n",
      "#five_prime_utr_cds_three_prime_utr = exons.intersect(five_prime_utrs, s=True).intersect(three_prime_utrs, s=True).intersect(cds, s=True)\n",
      "cds_three_prime_utr = exons.intersect(three_prime_utrs, s=True).intersect(cds, s=True).intersect(five_prime_utrs, s=True, v=True).saveas()\n",
      "\n",
      "five_prime_ends_three_prime_utr = five_prime_ends.intersect(three_prime_utrs, s=True, u=True).saveas()\n",
      "five_prime_ends_cds = five_prime_ends.intersect(cds, s=True, u=True).saveas()"
     ],
     "language": "python",
     "metadata": {},
     "outputs": [],
     "prompt_number": 18
    },
    {
     "cell_type": "code",
     "collapsed": false,
     "input": [
      "def generate_region_dict(bedtool):\n",
      "    region_dict = defaultdict(list)\n",
      "    \n",
      "    for interval in bedtool:\n",
      "        region_dict[interval.name].append(interval)\n",
      "    \n",
      "    for gene in region_dict.keys():\n",
      "        if region_dict[gene][0].strand == \"-\":\n",
      "            region_dict[gene].reverse()\n",
      "            \n",
      "    return region_dict"
     ],
     "language": "python",
     "metadata": {},
     "outputs": [],
     "prompt_number": 19
    },
    {
     "cell_type": "code",
     "collapsed": false,
     "input": [
      "def RNA_position(interval, location_dict):\n",
      "    \n",
      "    \"\"\"\n",
      "    \n",
      "    makes mrna and pre-mrna peak_center figure \n",
      "    interval - single interval\n",
      "    \n",
      "    location_dict = dict{gene_id : {strand : \"+/-\", regions : list((start,stop)\n",
      "    as_structure_dict - from build AS structure dict \n",
      "    \n",
      "    will return distribution across entire region + just across specific region\n",
      "    Might be able to use my ribo-seq stuff for genic -> transcriptomic location conversion\n",
      "    \n",
      "    this is based off as structure, which provides sequences ordered with first exon being the first exon on the gene, not \n",
      "    first in the chromosome (like gff does) THIS WILL NOT WORK WITH RAW GFF DATA\n",
      "    \n",
      "    \"\"\"\n",
      "    \n",
      "    #think about turning the location_dict into a gff file\n",
      "    #gets thickstart and stop\n",
      "    peak_center = (int(interval[6]) + int(interval[7])) / 2\n",
      "        \n",
      "    try:\n",
      "        gene = interval.name.split(\"_\")[0]\n",
      "    except:\n",
      "        #takes first gene if there are multiple overlapping \n",
      "        gene = interval.name.split(\";\")[0].split(\"_\")[0]\n",
      "    \n",
      "    if gene not in location_dict:\n",
      "        raise KeyError(gene + \" not in current as stucture dict ignoring cluster \")\n",
      "    \n",
      "    if not interval.strand == location_dict[gene][0].strand:\n",
      "        raise ValueError(\"strands not the same, there is some issue with gene annotations\")\n",
      "    \n",
      "    total_length = float(sum(region.length for region in location_dict[gene]))\n",
      "    \n",
      "    running_length = 0\n",
      "    \n",
      "    #reverses list if negative strand so running count can work\n",
      "    #if location_dict[gene]['strand'] == \"-\":\n",
      "    #    location_dict[gene]['regions'].reverse()\n",
      "        \n",
      "    for region in location_dict[gene]:\n",
      "        length = float(region.length) \n",
      "\n",
      "        if peak_center >= int(region.start) and peak_center <= int(region.stop):\n",
      "            if interval.strand == \"+\":\n",
      "                total_location = running_length + (peak_center - region.start)\n",
      "                total_fraction = np.round((total_location / total_length), 3)\n",
      "\n",
      "                individual_fraction = (peak_center - region.start) / length\n",
      "\n",
      "            elif interval.strand == \"-\":\n",
      "                total_location = running_length + (region.stop - peak_center)\n",
      "                total_fraction = total_location / total_length\n",
      "                individual_fraction = (region.stop - peak_center) / length\n",
      "                \n",
      "            else:\n",
      "                raise ValueError(\"Strand not correct strand is %s\" % interval.strand)\n",
      "\n",
      "            #probably not nessessary\n",
      "            if total_fraction < 0 or total_fraction > 1:\n",
      "                raise ValueError(\"total_fraction is bad: %f, gene %s, total_length: %s, total_location: %s\" % (total_fraction, \n",
      "                                                                                                               gene, \n",
      "                                                                                                              total_length,\n",
      "                                                                                                               total_location))\n",
      "            return individual_fraction, total_fraction\n",
      "        \n",
      "        running_length += length\n",
      "        \n",
      "    return None, None #clusters fall outside of regions integrated"
     ],
     "language": "python",
     "metadata": {},
     "outputs": [],
     "prompt_number": 20
    },
    {
     "cell_type": "code",
     "collapsed": false,
     "input": [
      "def get_distributions(bedtool, region_dict):\n",
      "    \n",
      "    \"\"\"\n",
      "    \n",
      "    Gets distributions from RNA_position function\n",
      "\n",
      "    bedtool - clipper bed file to generate distributions from\n",
      "    region_dict - generate_region_dict dict defining regions \n",
      "\n",
      "    \"\"\"\n",
      "    \n",
      "    exon_distributions = []\n",
      "    total_distributions = []\n",
      "    num_errors = []\n",
      "    num_missed = []\n",
      "    for interval in bedtool:\n",
      "        try: \n",
      "            #will need to redefine this to use intervals\n",
      "            exon, total = RNA_position(interval, region_dict)\n",
      "  \n",
      "            if total is not None:\n",
      "                total_distributions.append(total)\n",
      "                exon_distributions.append(exon)\n",
      "            else:\n",
      "                num_missed.append(interval)\n",
      "        except Exception as e:\n",
      "            num_errors.append(interval)\n",
      "\n",
      "    return exon_distributions, total_distributions, num_errors, num_missed"
     ],
     "language": "python",
     "metadata": {},
     "outputs": [],
     "prompt_number": 21
    },
    {
     "cell_type": "code",
     "collapsed": false,
     "input": [
      "exon_dict = generate_region_dict(transcriptome)\n",
      "exon_distributions = {key : get_distributions(beds_center[key], exon_dict) for key in beds_center}"
     ],
     "language": "python",
     "metadata": {},
     "outputs": [],
     "prompt_number": 22
    },
    {
     "cell_type": "code",
     "collapsed": false,
     "input": [
      "regions = {\"five_prime_utrs\": five_prime_utrs, \"cds\" : cds, \"three_prime_utrs\" : three_prime_utrs, \n",
      "                \"transcriptome\" : transcriptome, \"only_five_prime_utr\" : only_five_prime_utr, \n",
      "                \"only_cds\" : only_cds, \"only_three_prime_utr\" : only_three_prime_utr, \n",
      "                \"five_prime_utr_cds\" : five_prime_utr_cds, \"cds_three_prime_utr\" : cds_three_prime_utr}\n",
      "\n",
      "actual_distributions = {}\n",
      "for name, region in regions.items(): \n",
      "    region_dict = generate_region_dict(region)\n",
      "    actual_distributions[name] = {key : get_distributions(beds_center[key], region_dict) for key in beds_center}"
     ],
     "language": "python",
     "metadata": {},
     "outputs": [],
     "prompt_number": 23
    },
    {
     "cell_type": "code",
     "collapsed": false,
     "input": [
      "#need to factor this out / test (if important, low pri for now...)\n",
      "gff = pybedtools.BedTool(\"/nas3/yeolab/Genome/ensembl/Homo_sapiens.GRCh37.65.gff\").filter(lambda x: x.chrom in [str(x) for x in range(1,23)] + ['X', 'Y']).each(make_ucsc_chr).saveas()\n",
      "five_prime_utrs = gff.filter(lambda x: x[2] == \"five_prime_UTR\").saveas()\n",
      "five_prime_utrs.sequence(fi=\"/nas3/yeolab/Genome/ucsc/hg19/chromosomes/all.fa\", s=True, fo=\"five_prime_utr.fasta\")\n",
      "\n",
      "sequences = SeqIO.parse(open(\"five_prime_utr.fasta\"), 'fasta')\n",
      "five_prime_utr_dict = defaultdict(list)\n",
      "\n",
      "for five_prime_utr, sequence in zip(five_prime_utrs, sequences):\n",
      "    five_prime_utr_dict[five_prime_utr.attrs['Parent']].append((five_prime_utr, sequence))\n",
      "\n",
      "for five_prime_utr in five_prime_utr_dict.values():\n",
      "    if five_prime_utr[0][0].strand == \"-\":\n",
      "        five_prime_utr.reverse()\n",
      "        \n",
      "\n",
      "uorf_annotations = \"\"\n",
      "#By visual examination everything is correct, need to check in detail before publishing...\n",
      "#should check number of annotations to see how well they match up with other reports...\n",
      "for five_prine_utr in five_prime_utr_dict.values():\n",
      "    for reading_frame in range(3):\n",
      "        first = True\n",
      "        in_uORF = False\n",
      "        offset = \"\"\n",
      "        offset_size = 0\n",
      "        for interval, sequence in five_prine_utr:\n",
      "            #does offsetting for all reading frames, but scanning starts at the first exon, so only offset that one\n",
      "            if first:\n",
      "                exon = sequence.seq[reading_frame:]\n",
      "                first = False\n",
      "            else:\n",
      "                exon = sequence.seq\n",
      "                \n",
      "            for x, amino_acid in enumerate((offset + exon).translate()):\n",
      "                if interval.strand == \"+\":\n",
      "                    start_of_codon = interval.start + offset_size + reading_frame + (x * 3)\n",
      "                    end_of_codon = interval.start + offset_size + reading_frame + ((x + 1) * 3)\n",
      "                else:\n",
      "                    end_of_codon = interval.end - offset_size - reading_frame - (x * 3) \n",
      "                    start_of_codon = interval.end - offset_size  - reading_frame - ((x + 1) * 3)\n",
      "                    \n",
      "                if amino_acid == \"M\" and not in_uORF:\n",
      "                    start_annotation = \"\\t\".join([interval.chrom, \"protein_coding\", \"uORF_start\", str(start_of_codon), str(end_of_codon), \".\", interval.strand, \".\", \"ID=uORF_start:%s;Parent=%s\" % (interval.attrs['Parent'], interval.attrs['Parent'])])\n",
      "                    uorf_start = x\n",
      "                    in_uORF = True\n",
      "                \n",
      "                if amino_acid == \"*\" and in_uORF:\n",
      "                    in_uORF = False \n",
      "                    stop_annotation = \"\\t\".join([interval.chrom, \"protein_coding\", \"uORF_end\", str(start_of_codon), str(end_of_codon), \".\", interval.strand, \".\", \"ID=uORF_end:%s;Parent=%s\" % (interval.attrs['Parent'], interval.attrs['Parent'])])\n",
      "\n",
      "                    if x - uorf_start > 30:\n",
      "                        uorf_annotations += start_annotation + \"\\n\"\n",
      "                        uorf_annotations += stop_annotation + \"\\n\"\n",
      "     \n",
      "            offset_size = len(sequence.seq) % 3\n",
      "            offset = sequence.seq[offset_size * -1:]\n",
      "            \n",
      "uorf_annotations = pybedtools.BedTool(uorf_annotations, from_string=True).saveas()"
     ],
     "language": "python",
     "metadata": {},
     "outputs": [
      {
       "output_type": "stream",
       "stream": "stderr",
       "text": [
        "/nas/nas0/yeolab/Software/lib/python2.7/site-packages/Bio/Seq.py:1976: BiopythonWarning: Partial codon, len(sequence) not a multiple of three. Explicitly trim the sequence or add trailing N before translation. This may become an error in future.\n",
        "  BiopythonWarning)\n"
       ]
      }
     ],
     "prompt_number": 24
    },
    {
     "cell_type": "code",
     "collapsed": false,
     "input": [
      "%matplotlib inline"
     ],
     "language": "python",
     "metadata": {},
     "outputs": [],
     "prompt_number": 25
    },
    {
     "cell_type": "code",
     "collapsed": false,
     "input": [
      "with dataviz.Figure(os.path.join(img_dir, \"intersecting_peaks.jpg\"), figsize=(6,6)) as fig:\n",
      "    ax = fig.add_subplot(1,1,1)\n",
      "    sizes = {'100' : len(beds['DEAA'] - beds['K498A'] - beds['WT']), \n",
      "             '010' : len(beds['K498A'] - beds['DEAA'] - beds['WT']),  \n",
      "             '110' : len(beds['DEAA'] + beds['K498A'] - beds['WT']), \n",
      "             '001' : len(beds['WT'] - beds['K498A'] - beds['DEAA']), \n",
      "             '101' : len(beds['DEAA'] + beds['WT'] - beds['K498A']), \n",
      "             '011' : len(beds['WT'] + beds['K498A'] - beds['DEAA']), \n",
      "             '111' : len(beds['WT'] + beds['K498A'] + beds['DEAA'])}\n",
      "\n",
      "    v = matplotlib_venn.venn3(sizes, set_labels=['DEAA', 'K498A', 'Wild Type'], set_colors=[color_dict['DEAA'], \n",
      "                                                                                            color_dict['K498A'],\n",
      "                                                                                            color_dict['Wild Type']],\n",
      "                              ax=ax)\n",
      "\n",
      "    ax.set_title(\"Intersecting Peaks\")\n"
     ],
     "language": "python",
     "metadata": {},
     "outputs": [
      {
       "output_type": "stream",
       "stream": "stderr",
       "text": [
        "/nas3/yeolab/Software/lib/python2.7/site-packages/matplotlib-1.4.x-py2.7-linux-x86_64.egg/matplotlib/font_manager.py:1240: UserWarning: findfont: Font family ['Helvetica'] not found. Falling back to Bitstream Vera Sans\n",
        "  (prop.get_family(), self.defaultFamily[fontext]))\n"
       ]
      },
      {
       "metadata": {},
       "output_type": "display_data",
       "png": "[encoded data removed]",
       "text": [
        "<matplotlib.figure.Figure at 0x2aab082e4750>"
       ]
      }
     ],
     "prompt_number": 29
    },
    {
     "cell_type": "code",
     "collapsed": false,
     "input": [
      "print len(beds['DEAA']), len(beds['K498A']), len(beds['WT'])"
     ],
     "language": "python",
     "metadata": {},
     "outputs": [
      {
       "output_type": "stream",
       "stream": "stdout",
       "text": [
        "11933 "
       ]
      },
      {
       "output_type": "stream",
       "stream": "stdout",
       "text": [
        "8286 3985\n"
       ]
      }
     ],
     "prompt_number": 30
    },
    {
     "cell_type": "code",
     "collapsed": false,
     "input": [
      "def get_genes(interval):\n",
      "    return interval.name.split(\"_\")[0]"
     ],
     "language": "python",
     "metadata": {},
     "outputs": [],
     "prompt_number": 31
    },
    {
     "cell_type": "code",
     "collapsed": false,
     "input": [
      "with dataviz.Figure(os.path.join(img_dir, \"intersecting_genes.jpg\"), figsize=(6,6)) as fig:\n",
      "    ax = fig.add_subplot(1,1,1)\n",
      "\n",
      "    H =  {get_genes(interval) for interval in beds['DEAA']}\n",
      "    M =  {get_genes(interval) for interval in beds['K498A']}\n",
      "    L =  {get_genes(interval) for interval in beds['WT']}\n",
      "\n",
      "    matplotlib_venn.venn3(\n",
      "                {\"001\" : len(L - (M | H)),\n",
      "                 \"010\" : len(M - (L | H)),\n",
      "                 \"011\" : len((L & M) -  H),\n",
      "                 \"100\" : len(H - (L | M)),\n",
      "                 \"101\" : len((H & L) - M),\n",
      "                 \"110\" : len((H & M) - L),\n",
      "                 \"111\" : len(H & M & L),\n",
      "                },\n",
      "                set_labels = (\"DEAA\", \"K498A\", \"Wild Type\"),\n",
      "                set_colors=[color_dict['DEAA'], \n",
      "                            color_dict['K498A'],\n",
      "                            color_dict['Wild Type']],\n",
      "                ax=ax)\n",
      "    ax.set_title(\"Overlapping Genes\")"
     ],
     "language": "python",
     "metadata": {},
     "outputs": [
      {
       "metadata": {},
       "output_type": "display_data",
       "png": "[encoded data removed]",
       "text": [
        "<matplotlib.figure.Figure at 0x2aab0821ea10>"
       ]
      }
     ],
     "prompt_number": 32
    },
    {
     "cell_type": "markdown",
     "metadata": {},
     "source": [
      "Figure 1\n",
      "This venn diagram of peaks overlapping with each peaks in different samples.\n",
      "\n",
      "Observations: WT is mostly a subset of the mutatnts, and the mutants overlap at a rate of about 50%\n",
      "\n",
      "Also we could look at the overlap of genes assocated with peaks, but I feel this figure is strong enouh as is.  If we don't get more peaks from WT we may have to spin it like that "
     ]
    },
    {
     "cell_type": "code",
     "collapsed": false,
     "input": [
      "with dataviz.Figure(os.path.join(img_dir, \"peak_distributions.svg\"), figsize=(6,6)) as fig:\n",
      "    ax = fig.add_subplot(111)\n",
      "    ind = np.arange(5)\n",
      "\n",
      "    width = .20\n",
      "    \n",
      "    K498A_region = np.array(pickled_files['K498A']['region_sizes'].values())\n",
      "    DEAA_region = np.array(pickled_files['DEAA']['region_sizes'].values())\n",
      "    WT_region = np.array(pickled_files['WT']['region_sizes'].values())\n",
      "    genic_region = np.array(pickled_files['WT']['genic_region_sizes'].values())\n",
      "\n",
      "    K498A_region = K498A_region / (sum(K498A_region) * 1.0)\n",
      "    DEAA_region = DEAA_region / (sum(DEAA_region) * 1.0)\n",
      "    WT_region = WT_region / (sum(WT_region) * 1.0)\n",
      "    genic_region = genic_region / (sum(genic_region) * 1.0)\n",
      "\n",
      "    ax.bar(ind + (width * 0), K498A_region, width, color=color_dict['K498A'], label=\"K498A\") \n",
      "    ax.bar(ind + (width * 1), DEAA_region, width, color= color_dict['DEAA'], label=\"DEAA\")\n",
      "    ax.bar(ind + (width * 2), WT_region, width, color=color_dict['Wild Type'], label=\"Wild Type\")\n",
      "    ax.bar(ind + (width * 3), genic_region, width, color=color_dict['FLAG'], label=\"Genic\")\n",
      "    ax.set_ylabel('Percent in Region')\n",
      "    ax.set_xticks(ind+width * 3)\n",
      "    ax.set_xticklabels([\"5' UTR\", \"Proximal\\n Intron\", \"Exon\", \"Distal\\n Intron\", \"3' UTR\"])\n",
      "    ax.set_title(\"Distribution of Peaks within Genic Regions\")\n",
      "    ax.legend(loc=0)"
     ],
     "language": "python",
     "metadata": {},
     "outputs": [
      {
       "metadata": {},
       "output_type": "display_data",
       "png": "[encoded data removed]",
       "text": [
        "<matplotlib.figure.Figure at 0x2647bfd0>"
       ]
      }
     ],
     "prompt_number": 37
    },
    {
     "cell_type": "code",
     "collapsed": false,
     "input": [
      "with dataviz.Figure(os.path.join(img_dir, \"peak_distributions.svg\"), figsize=(6,6)) as fig:\n",
      "    ax = fig.add_subplot(111)\n",
      "    ind = np.arange(3)\n",
      "\n",
      "    width = .20\n",
      "\n",
      "    for x, sample in enumerate(sorted(pickled_files.keys(), key=order)):\n",
      "        region = np.array([pickled_files[sample]['region_sizes']['five_prime_utrs'], \n",
      "                          pickled_files[sample]['region_sizes']['cds'],\n",
      "                          pickled_files[sample]['region_sizes']['three_prime_utrs'],\n",
      "                          ])\n",
      "\n",
      "        region = region / (sum(region) * 1.0)\n",
      "        ax.bar(ind + (width * x), region, width, color=color_dict[sample], label=sample, alpha=.7) \n",
      "\n",
      "\n",
      "    genic_region = np.array([pickled_files['WT']['genic_region_sizes']['five_prime_utrs'], \n",
      "                          pickled_files['WT']['genic_region_sizes']['cds'],\n",
      "                          pickled_files['WT']['genic_region_sizes']['three_prime_utrs'], \n",
      "                          ])\n",
      "\n",
      "    genic_region = genic_region / (sum(genic_region) * 1.0)\n",
      "    ax.bar(ind + (width * (x + 1)), genic_region, width, color=color_dict['FLAG'], label=\"Background\")\n",
      "\n",
      "    ax.set_ylabel('Percent in Region', fontsize=18)\n",
      "    ax.set_xticks(ind+width * 2)\n",
      "    ax.set_xticklabels([\"5' UTR\",  \"Exon\", \"3' UTR\"], fontsize=18)\n",
      "    ax.set_title(\"Distribution of Peaks Within Genic Regions\", fontsize=20)\n",
      "    [tick.set_fontsize(14) for tick in ax.get_yticklabels()]\n",
      "    ax.legend(loc=0)"
     ],
     "language": "python",
     "metadata": {},
     "outputs": [
      {
       "metadata": {},
       "output_type": "display_data",
       "png": "[encoded data removed]",
       "text": [
        "<matplotlib.figure.Figure at 0x2aaaac5c4750>"
       ]
      }
     ],
     "prompt_number": 40
    },
    {
     "cell_type": "markdown",
     "metadata": {},
     "source": [
      "Figure 3\n",
      "\n",
      "Location of peak binding in genomic regions.  5' UTR, proximal intron, exon, distal intron and 3' UTR.\n",
      "\n",
      "Most binding occurs in 3' UTR, but interestingly the mutants have a significant binding within exons, something that the WT doesn't have.  "
     ]
    },
    {
     "cell_type": "code",
     "collapsed": false,
     "input": [
      "with dataviz.Figure(os.path.join(img_dir, \"peak_distributions.svg\"), figsize=(6,6)) as fig:\n",
      "    ax = fig.add_subplot(111)\n",
      "\n",
      "    k498a_count, bins = generate_distribution(pickled_files['K498A']['mRNA_positions'])\n",
      "    DEAA_count, bins = generate_distribution(pickled_files['DEAA']['mRNA_positions'])\n",
      "    WT_count, bins = generate_distribution(pickled_files['WT']['mRNA_positions'])\n",
      "\n",
      "    ax.plot(bins, k498a_count, label=\"K498A\")\n",
      "    ax.plot(bins, DEAA_count, label=\"DEAA\")\n",
      "    ax.plot(bins, WT_count, label=\"WT\")\n",
      "    ax.set_title(\"Distribution of Peaks across mRNA\")\n",
      "    ax.legend(loc=0)"
     ],
     "language": "python",
     "metadata": {},
     "outputs": [
      {
       "metadata": {},
       "output_type": "display_data",
       "png": "[encoded data removed]",
       "text": [
        "<matplotlib.figure.Figure at 0x2aaaac5d1450>"
       ]
      }
     ],
     "prompt_number": 42
    },
    {
     "cell_type": "markdown",
     "metadata": {},
     "source": [
      "Figure 4: Distribution of peaks across processed mRNA\n",
      "\n",
      "Observations: WT appears to be in 3' UTR, but not at the end of the transcript. "
     ]
    },
    {
     "cell_type": "markdown",
     "metadata": {},
     "source": [
      "Table 2\n",
      "\n",
      "Observe the delta values, represnting enrichment vs background, higher is better.\n",
      "\n",
      "In the two mutants the poly-a signal is highly enriched, where as in the WT it isn't.  "
     ]
    },
    {
     "cell_type": "markdown",
     "metadata": {},
     "source": [
      "Lots of binding may be in non-coding genes, should explore this"
     ]
    },
    {
     "cell_type": "code",
     "collapsed": false,
     "input": [
      "import random\n",
      "\n",
      "def get_distance_and_sn_histograms(closest_dict, selected_samples):\n",
      "    \n",
      "    \"\"\"\n",
      "    \n",
      "    Generates all histograms and returns dict of histograms\n",
      "    closet_dict -- dict structure to generate from\n",
      "    selected_samples -- samples to plot \n",
      "\n",
      "    \"\"\"\n",
      "    \n",
      "    result_dict = defaultdict(dict)\n",
      "    bin_range = (-200, 200)\n",
      "    num_bins = 25\n",
      "    #get all the shuffled distances\n",
      "    shuffled = []\n",
      "    for name, item in [(name, item) for name, item in closest_dict.items() if \"control\" in name]:\n",
      "        shuffled += [ int(result[-1]) for result in item]\n",
      "    \n",
      "    for sample in selected_samples:\n",
      "        \n",
      "        sample_distances = array([ int(result[-1]) for result in closest_dict[sample]])\n",
      "        sample_distances_control = random.sample(shuffled, len(sample_distances))\n",
      "        \n",
      "        result_dict['sample_y'][sample]  = numpy.histogram(sample_distances, \n",
      "                                                           range=bin_range, \n",
      "                                                           bins=num_bins)[0]\n",
      "        result_dict['sample_y_control'][sample]  = numpy.histogram(sample_distances_control, \n",
      "                                                                   range=bin_range, \n",
      "                                                                   bins=num_bins)[0]\n",
      "        result_dict['sample_y_normed'][sample] = numpy.histogram(sample_distances, \n",
      "                                                                 range=bin_range, \n",
      "                                                                 bins=num_bins, \n",
      "                                                                 normed=True)[0]\n",
      "        result_dict['sample_y_control_normed'][sample] = numpy.histogram(sample_distances_control, \n",
      "                                                                         range=bin_range, \n",
      "                                                                         bins=num_bins, \n",
      "                                                                         normed=True)[0]\n",
      "\n",
      "        result_dict['sample_sn'][sample] = result_dict['sample_y'][sample].astype(float) / result_dict['sample_y_control'][sample]\n",
      "        result_dict['sample_sn_normed'][sample] = result_dict['sample_y_normed'][sample] / result_dict['sample_y_control_normed'][sample]\n",
      "        \n",
      "    bins  = numpy.histogram(sample_distances, range=bin_range, bins=num_bins)[1]\n",
      "    result_dict['x'] = [(bins[n] + bins[n+1]) / 2 for n in range(len(bins) - 1)]\n",
      "    return result_dict\n",
      "\n",
      "def plot_sample_hist(result_dict, dist_name, ax):\n",
      "    for sample, sample_y in sorted(result_dict['sample_y'].items(), key=lambda x: order(x[0])):\n",
      "        ax.plot(result_dict['x'], sample_y, label=sample, linewidth=3, alpha=.7, color=color_dict[sample])\n",
      "        ax.plot(result_dict['x'], \n",
      "                result_dict['sample_y_control'][sample],\n",
      "                label=sample + \" Shuffled\", \n",
      "                linewidth=3, \n",
      "                alpha=.7, \n",
      "                color=color_dict[sample],\n",
      "                linestyle=\"--\")\n",
      "    \n",
      "    ax.set_xlabel(\"Distance from Feature (bp)\", fontsize=18)\n",
      "    ax.set_ylabel(\"Number of Events\", fontsize=18)\n",
      "    [tick.set_fontsize(14) for tick in ax.get_xticklabels()]\n",
      "    [tick.set_fontsize(14) for tick in ax.get_yticklabels()]\n",
      "    ax.set_title(\"Distribution of Peaks Around\\n\" + dist_name, fontsize=20)  \n",
      "    ax.legend(loc=0, fontsize=18)\n",
      "    return ax\n",
      "\n",
      "def plot_sn_sample(result_dict, dist_name, ax):\n",
      "    for sample, sample_sn in sorted(result_dict['sample_sn'].items(), key=lambda x: order(x[0])):\n",
      "        ax.plot(result_dict['x'], sample_sn, label=sample,  linewidth=3, alpha=.7, color=color_dict[sample])\n",
      "    \n",
      "    ax.set_xlabel(\"Distance from Feature (bp)\", fontsize=18)\n",
      "    ax.set_ylabel(\"Signal To Noise Ratio\", fontsize=18)\n",
      "    [tick.set_fontsize(14) for tick in ax.get_xticklabels()]\n",
      "    [tick.set_fontsize(14) for tick in ax.get_yticklabels()]\n",
      "    ax.set_title(\"Signal To Noise of Peaks Around\\n\" + dist_name, fontsize=20)\n",
      "    ax.legend(loc=0, fontsize=18)\n",
      "    return ax\n",
      "\n",
      "\n",
      "def plot_normed_sample_hist(result_dict, dist_name, ax):\n",
      "    for sample, sample_y_normed in sorted(result_dict['sample_y_normed'].items(), key=lambda x: order(x[0])):\n",
      "        ax.plot(result_dict['x'], sample_y_normed, label=sample, linewidth=3, alpha=.7, color=color_dict[sample])\n",
      "        ax.plot(result_dict['x'], \n",
      "                result_dict['sample_y_control_normed'][sample],\n",
      "                label=sample + \" Shuffled\", \n",
      "                linewidth=3, \n",
      "                alpha=.7, \n",
      "                color=color_dict[sample],\n",
      "                linestyle=\"--\")\n",
      "\n",
      "    ax.set_xlabel(\"Distance from Feature (bp)\", fontsize=18)\n",
      "    ax.set_ylabel(\"Normalized Number of Events\", fontsize=18)\n",
      "    [tick.set_fontsize(14) for tick in ax.get_xticklabels()]\n",
      "    [tick.set_fontsize(14) for tick in ax.get_yticklabels()]\n",
      "    ax.set_title(\"Normalized Distribution of Peaks Around\\n\" + dist_name, fontsize=20)  \n",
      "    ax.legend(loc=0, fontsize=18)\n",
      "    return ax\n",
      "\n",
      "def plot_normed_sn_sample(result_dict, dist_name, ax):\n",
      "    for sample, sample_sn_normed in sorted(result_dict['sample_sn_normed'].items(), key=lambda x: order(x[0])):\n",
      "        ax.plot(result_dict['x'], sample_sn_normed, label=sample,  linewidth=3, alpha=.7, color=color_dict[sample])\n",
      "    \n",
      "    ax.set_xlabel(\"Distance from Feature (bp)\", fontsize=18)\n",
      "    ax.set_ylabel(\"Normalized Signal to Noise\", fontsize=18)\n",
      "    [tick.set_fontsize(14) for tick in ax.get_xticklabels()]\n",
      "    [tick.set_fontsize(14) for tick in ax.get_yticklabels()]\n",
      "    ax.set_title(\"Normalized Signal To Noise of Peaks Around\\n\" + dist_name, fontsize=20)\n",
      "    ax.legend(loc=0, fontsize=18)\n",
      "    \n",
      "def plot_distance_and_sn(closest_dict, dist_name, plotter):\n",
      "\n",
      "    \"\"\"\n",
      "    \n",
      "    Take a dict of name : bedfile (that has had closest bed run on it) and prints out the distribution 200bp away\n",
      "    from the closest results\n",
      "\n",
      "    \"\"\"\n",
      "    result_dict = get_distance_and_sn_histograms(closest_dict, plotter)\n",
      "   \n",
      "    fig = plt.figure(figsize=(15,15))\n",
      "    \n",
      "    ax = fig.add_subplot(2,2,1)\n",
      "    ax = plot_sample_hist(result_dict, dist_name, ax)\n",
      "    \n",
      "    ax = fig.add_subplot(2,2,2)\n",
      "    ax = plot_sn_sample(result_dict, dist_name, ax)\n",
      "    \n",
      "    \n",
      "    ax = fig.add_subplot(2,2,3)\n",
      "    ax = plot_normed_sample_hist(result_dict, dist_name, ax)\n",
      "    \n",
      "    ax = fig.add_subplot(2,2,4)\n",
      "    ax = plot_normed_sn_sample(result_dict, dist_name, ax)\n",
      "    fig.tight_layout()\n",
      "    return fig"
     ],
     "language": "python",
     "metadata": {},
     "outputs": [
      {
       "output_type": "stream",
       "stream": "stdout",
       "text": [
        "\n"
       ]
      }
     ],
     "prompt_number": 44
    },
    {
     "cell_type": "code",
     "collapsed": false,
     "input": [
      "beds_center_transcripts = {name : bedtool.each(name_to_chrom).saveas(\"transcript_\" + name) for name, bedtool in beds_center.items()}"
     ],
     "language": "python",
     "metadata": {},
     "outputs": [],
     "prompt_number": 45
    },
    {
     "cell_type": "code",
     "collapsed": false,
     "input": [
      "poly_a_sites_transcripts = poly_a_sites.each(name_to_chrom).saveas(\"poly_a_sites_transcripts.bed\")\n",
      "stop_codons_transcripts = stop_codons.each(name_to_chrom).saveas(\"stop_codons_transcripts.bed\")\n",
      "#uorf_ends_transcripts = uorf_ends.each(name_to_chrom).saveas(\"uorf_ends_transcripts.bed\")\n",
      "three_prime_ends_transcripts = three_prime_ends.each(name_to_chrom).saveas(\"three_prime_ends_transcripts.bed\")\n",
      "five_prime_ends_transcripts = five_prime_ends.each(name_to_chrom).saveas(\"five_prime_ends_transcripts.bed\")\n",
      "five_prime_ends_three_prime_utr_transcripts = five_prime_ends_three_prime_utr.each(name_to_chrom).saveas(\"five_prime_ends_three_prime_utr_transcripts.bed\")\n",
      "five_prime_ends_cds_transcripts = five_prime_ends_cds.each(name_to_chrom).saveas(\"five_prime_ends_cds_transcripts.bed\") "
     ],
     "language": "python",
     "metadata": {},
     "outputs": [],
     "prompt_number": 46
    },
    {
     "cell_type": "code",
     "collapsed": false,
     "input": [
      "beds_center_transcripts_mrna = {name : bedtool.each(convert_to_mRNA_position, exon_dict).filter(lambda x: x.chrom != \"none\").saveas(\"mrna_\" + name) for name, bedtool in beds_center_transcripts.items()}"
     ],
     "language": "python",
     "metadata": {},
     "outputs": [],
     "prompt_number": 47
    },
    {
     "cell_type": "code",
     "collapsed": false,
     "input": [
      "poly_a_sites_transcripts_mrna = poly_a_sites_transcripts.each(convert_to_mRNA_position, exon_dict).remove_invalid().filter(lambda x: x.chrom != \"none\").saveas(\"poly_a_sites_transcripts_mrna.bed\")\n",
      "stop_codons_transcripts_mrna = stop_codons_transcripts.each(convert_to_mRNA_position, exon_dict).remove_invalid().filter(lambda x: x.chrom != \"none\").saveas(\"stop_codons_transcripts_mrna.bed\")\n",
      "#uorf_ends_transcripts_mrna = uorf_ends_transcripts.each(convert_to_mRNA_position, exon_dict).filter(lambda x: x.chrom != \"none\").saveas(\"uorf_ends_transcripts_mrna.bed\")\n",
      "three_prime_ends_transcripts_mrna = three_prime_ends_transcripts.each(convert_to_mRNA_position, exon_dict).remove_invalid().filter(lambda x: x.chrom != \"none\").saveas(\"three_prime_ends_transcripts_mrna.bed\")\n",
      "five_prime_ends_transcripts_mrna = five_prime_ends_transcripts.each(convert_to_mRNA_position, exon_dict).remove_invalid().filter(lambda x: x.chrom != \"none\").saveas(\"five_prime_ends_transcripts_mrna.bed\")\n",
      "five_prime_ends_three_prime_utr_transcripts_mrna = five_prime_ends_three_prime_utr_transcripts.each(convert_to_mRNA_position, exon_dict).remove_invalid().filter(lambda x: x.chrom != \"none\").saveas(\"five_prime_ends_three_prime_utr_transcripts_mrna.bed\")\n",
      "five_prime_ends_cds_transcripts_mrna = five_prime_ends_cds_transcripts.each(convert_to_mRNA_position, exon_dict).remove_invalid().filter(lambda x: x.chrom != \"none\").saveas(\"five_prime_ends_cds_transcripts_mrna.bed\") "
     ],
     "language": "python",
     "metadata": {},
     "outputs": []
    },
    {
     "cell_type": "code",
     "collapsed": false,
     "input": [
      "transcription_stop_closest = {name : bedtool.closest(poly_a_sites_transcripts, s=True, D=\"b\", t=\"first\", id=True).filter(lambda x: x[-2] != \".\").saveas(\"polya_\" + name) for name, bedtool in beds_center_transcripts.items()}\n",
      "stop_codons_closest = {name : bedtool.closest(stop_codons_transcripts, s=True, D=\"b\", t=\"first\").filter(lambda x: x[-2] != \".\").saveas(\"tss_\" + name) for name, bedtool in beds_center_transcripts.items()}\n",
      "\n",
      "three_prime_ends_closest = {name : bedtool.closest(three_prime_ends_transcripts, s=True, D=\"b\", t=\"first\").filter(lambda x: x[-2] != \".\").saveas(\"three_prime_\" + name) for name, bedtool in beds_center_transcripts.items()}\n",
      "five_prime_ends_closest = {name : bedtool.closest(five_prime_ends_transcripts, s=True, D=\"b\", t=\"first\").filter(lambda x: x[-2] != \".\").saveas(\"five_prime\" + name) for name, bedtool in beds_center_transcripts.items()}\n",
      "five_prime_ends_three_prime_utr_closest = {name : bedtool.closest(five_prime_ends_three_prime_utr_transcripts, s=True, D=\"b\", t=\"first\").filter(lambda x: x[-2] != \".\").saveas(\"five_prime_three_prime_utr\" + name) for name, bedtool in beds_center_transcripts.items()}\n",
      "five_prime_ends_cds_closest = {name : bedtool.closest(five_prime_ends_cds_transcripts_mrna, s=True, D=\"b\", t=\"first\").filter(lambda x: x[-2] != \".\").saveas(\"five_prime_three_prime_utr\" + name) for name, bedtool in beds_center_transcripts.items()}"
     ],
     "language": "python",
     "metadata": {},
     "outputs": []
    },
    {
     "cell_type": "code",
     "collapsed": false,
     "input": [
      "def invert_neg(interval):\n",
      "    interval[-1] = str(int(interval[-1]) * -1)\n",
      "    return interval"
     ],
     "language": "python",
     "metadata": {},
     "outputs": []
    },
    {
     "cell_type": "code",
     "collapsed": false,
     "input": [
      "transcription_stop_closest_mrna = {name : bedtool.closest(poly_a_sites_transcripts_mrna, s=True, D=\"ref\", t=\"first\").filter(lambda x: x[-2] != \".\").each(invert_neg).saveas() for name, bedtool in beds_center_transcripts_mrna.items()}\n",
      "stop_codons_closest_mrna = {name : bedtool.closest(stop_codons_transcripts_mrna, s=True, D=\"ref\", t=\"first\").filter(lambda x: x[-2] != \".\").each(invert_neg).saveas() for name, bedtool in beds_center_transcripts_mrna.items()}\n",
      "#uorf_ends_codons_closest_mrna = {name : bedtool.closest(uorf_ends_transcripts_mrna, s=True, D=\"ref\", t=\"first\").filter(lambda x: x[-2] != \".\").each(invert_neg).saveas() for name, bedtool in beds_center_transcripts_mrna.items()}\n",
      "three_prime_ends_closest_mrna = {name : bedtool.closest(three_prime_ends_transcripts_mrna, s=True, D=\"ref\", t=\"first\").filter(lambda x: x[-2] != \".\").each(invert_neg).saveas() for name, bedtool in beds_center_transcripts_mrna.items()}\n",
      "five_prime_ends_closest_mrna = {name : bedtool.closest(five_prime_ends_transcripts_mrna, s=True, D=\"ref\", t=\"first\").filter(lambda x: x[-2] != \".\").each(invert_neg).saveas() for name, bedtool in beds_center_transcripts_mrna.items()}\n",
      "five_prime_ends_three_prime_utr_closest_mrna = {name : bedtool.closest(five_prime_ends_three_prime_utr_transcripts_mrna, s=True, D=\"ref\", t=\"first\").filter(lambda x: x[-2] != \".\").each(invert_neg).saveas() for name, bedtool in beds_center_transcripts_mrna.items()}\n",
      "five_prime_ends_cds_closest_mrna = {name : bedtool.closest(five_prime_ends_cds_transcripts_mrna, s=True, D=\"ref\", t=\"first\").filter(lambda x: x[-2] != \".\").each(invert_neg).saveas() for name, bedtool in beds_center_transcripts_mrna.items()}"
     ],
     "language": "python",
     "metadata": {},
     "outputs": []
    },
    {
     "cell_type": "code",
     "collapsed": false,
     "input": [
      "rip_targets = {line.strip() for line in open(\"/nas/nas0/gpratt/projects/upf1/analysis/ripseq/upf1_rip_targets.txt\")}\n",
      "rip_non_targets = {line.strip() for line in open(\"/nas/nas0/gpratt/projects/upf1/analysis/ripseq/upf1_rip_non_targets.txt\")}"
     ],
     "language": "python",
     "metadata": {},
     "outputs": []
    },
    {
     "cell_type": "code",
     "collapsed": false,
     "input": [
      "result = plot_distance_and_sn(transcription_stop_closest, \"Transcription Stop Sites\", ['WT', 'K498A', 'DEAA'])"
     ],
     "language": "python",
     "metadata": {},
     "outputs": []
    },
    {
     "cell_type": "code",
     "collapsed": false,
     "input": [
      "figsize(15,15)\n",
      "transcription_stop_closest_nmd = {name : bedtool.filter(lambda x: x.name.strip().split(\"_\")[0] in nmd_targets).saveas() if name in ['WT', 'K498A', 'DEAA'] else bedtool for \n",
      "                                  name, bedtool in transcription_stop_closest.items()}\n",
      "result = plot_distance_and_sn(transcription_stop_closest_nmd, \"Transcription Stop Sites\", ['WT', 'K498A', 'DEAA'])"
     ],
     "language": "python",
     "metadata": {},
     "outputs": []
    },
    {
     "cell_type": "code",
     "collapsed": false,
     "input": [
      "figsize(15,15)\n",
      "transcription_stop_closest_nmd = {name : bedtool.filter(lambda x: x.name.strip().split(\"_\")[0] in rip_targets).saveas() if name in ['WT', 'K498A', 'DEAA'] else bedtool for \n",
      "                                  name, bedtool in transcription_stop_closest.items()}\n",
      "result = plot_distance_and_sn(transcription_stop_closest_nmd, \"Transcription Stop Sites\", ['WT', 'K498A', 'DEAA']) "
     ],
     "language": "python",
     "metadata": {},
     "outputs": []
    },
    {
     "cell_type": "code",
     "collapsed": false,
     "input": [
      "figsize(15,15)\n",
      "transcription_stop_closest_nmd = {name : bedtool.filter(lambda x: x.name.strip().split(\"_\")[0] not in nmd_targets).saveas() if name in ['WT', 'K498A', 'DEAA'] else bedtool for \n",
      "                                  name, bedtool in transcription_stop_closest.items()}\n",
      "result = plot_distance_and_sn(transcription_stop_closest_nmd, \"Transcription Stop Sites\", ['WT', 'K498A', 'DEAA'])"
     ],
     "language": "python",
     "metadata": {},
     "outputs": []
    },
    {
     "cell_type": "code",
     "collapsed": false,
     "input": [
      "figsize(15,15)\n",
      "result = plot_distance_and_sn(stop_codons_closest, \"Stop Codons\", ['WT', 'K498A', 'DEAA'])"
     ],
     "language": "python",
     "metadata": {},
     "outputs": []
    },
    {
     "cell_type": "code",
     "collapsed": false,
     "input": [
      "figsize(15,15)\n",
      "stop_codons_closest_nmd = {name : bedtool.filter(lambda x: x.name.strip().split(\"_\")[0] in nmd_targets).saveas() if name in ['WT', 'K498A', 'DEAA'] else bedtool for \n",
      "                                  name, bedtool in stop_codons_closest.items()}\n",
      "result = plot_distance_and_sn(stop_codons_closest_nmd, \"Transcription Stop Sites\", ['WT', 'K498A', 'DEAA'])"
     ],
     "language": "python",
     "metadata": {},
     "outputs": []
    },
    {
     "cell_type": "code",
     "collapsed": false,
     "input": [
      "figsize(15,15)\n",
      "stop_codons_closest_nmd = {name : bedtool.filter(lambda x: x.name.strip().split(\"_\")[0] not in nmd_targets).saveas() if name in ['WT', 'K498A', 'DEAA'] else bedtool for \n",
      "                                  name, bedtool in stop_codons_closest.items()}\n",
      "result = plot_distance_and_sn(stop_codons_closest_nmd, \"Transcription Stop Sites\", ['WT', 'K498A', 'DEAA'])"
     ],
     "language": "python",
     "metadata": {},
     "outputs": []
    },
    {
     "cell_type": "code",
     "collapsed": false,
     "input": [
      "figsize(15,15)\n",
      "stop_codons_closest_nmd = {name : bedtool.filter(lambda x: x.name.strip().split(\"_\")[0] in rip_targets).saveas() if name in ['WT', 'K498A', 'DEAA'] else bedtool for \n",
      "                                  name, bedtool in stop_codons_closest.items()}\n",
      "result = plot_distance_and_sn(stop_codons_closest_nmd, \"Transcription Stop Sites\", ['WT', 'K498A', 'DEAA'])"
     ],
     "language": "python",
     "metadata": {},
     "outputs": []
    },
    {
     "cell_type": "code",
     "collapsed": false,
     "input": [
      "#figsize(15,15)\n",
      "#plot_distance_and_sn(uorf_ends_codons_closest, \"uORF Stop Codons\")"
     ],
     "language": "python",
     "metadata": {},
     "outputs": []
    },
    {
     "cell_type": "code",
     "collapsed": false,
     "input": [
      "figsize(15,15)\n",
      "result = plot_distance_and_sn(three_prime_ends_closest, \"3' end of exon\", ['WT', 'K498A', 'DEAA'])"
     ],
     "language": "python",
     "metadata": {},
     "outputs": []
    },
    {
     "cell_type": "code",
     "collapsed": false,
     "input": [
      "figsize(15,15)\n",
      "three_prime_ends_closest_nmd = {name : bedtool.filter(lambda x: x.name.strip().split(\"_\")[0] in nmd_targets).saveas() if name in ['WT', 'K498A', 'DEAA'] else bedtool for \n",
      "                                  name, bedtool in three_prime_ends_closest.items()}\n",
      "result = plot_distance_and_sn(three_prime_ends_closest_nmd, \"Transcription Stop Sites\", ['WT', 'K498A', 'DEAA'])"
     ],
     "language": "python",
     "metadata": {},
     "outputs": [
      {
       "ename": "NameError",
       "evalue": "name 'figsize' is not defined",
       "output_type": "pyerr",
       "traceback": [
        "\u001b[1;31m---------------------------------------------------------------------------\u001b[0m\n\u001b[1;31mNameError\u001b[0m                                 Traceback (most recent call last)",
        "\u001b[1;32m<ipython-input-27-4e1724e3b589>\u001b[0m in \u001b[0;36m<module>\u001b[1;34m()\u001b[0m\n\u001b[1;32m----> 1\u001b[1;33m \u001b[0mfigsize\u001b[0m\u001b[1;33m(\u001b[0m\u001b[1;36m15\u001b[0m\u001b[1;33m,\u001b[0m\u001b[1;36m15\u001b[0m\u001b[1;33m)\u001b[0m\u001b[1;33m\u001b[0m\u001b[0m\n\u001b[0m\u001b[0;32m      2\u001b[0m three_prime_ends_closest_nmd = {name : bedtool.filter(lambda x: x.name.strip().split(\"_\")[0] in nmd_targets).saveas() if name in ['WT', 'K498A', 'DEAA'] else bedtool for \n\u001b[0;32m      3\u001b[0m                                   name, bedtool in three_prime_ends_closest.items()}\n\u001b[0;32m      4\u001b[0m \u001b[0mresult\u001b[0m \u001b[1;33m=\u001b[0m \u001b[0mplot_distance_and_sn\u001b[0m\u001b[1;33m(\u001b[0m\u001b[0mthree_prime_ends_closest_nmd\u001b[0m\u001b[1;33m,\u001b[0m \u001b[1;34m\"Transcription Stop Sites\"\u001b[0m\u001b[1;33m,\u001b[0m \u001b[1;33m[\u001b[0m\u001b[1;34m'WT'\u001b[0m\u001b[1;33m,\u001b[0m \u001b[1;34m'K498A'\u001b[0m\u001b[1;33m,\u001b[0m \u001b[1;34m'DEAA'\u001b[0m\u001b[1;33m]\u001b[0m\u001b[1;33m)\u001b[0m\u001b[1;33m\u001b[0m\u001b[0m\n",
        "\u001b[1;31mNameError\u001b[0m: name 'figsize' is not defined"
       ]
      }
     ],
     "prompt_number": 27
    },
    {
     "cell_type": "code",
     "collapsed": false,
     "input": [
      "figsize(15,15)\n",
      "three_prime_ends_closest_nmd = {name : bedtool.filter(lambda x: x.name.strip().split(\"_\")[0] not in nmd_targets).saveas() if name in ['WT', 'K498A', 'DEAA'] else bedtool for \n",
      "                                  name, bedtool in three_prime_ends_closest.items()}\n",
      "result = plot_distance_and_sn(three_prime_ends_closest_nmd, \"Transcription Stop Sites\", ['WT', 'K498A', 'DEAA'])"
     ],
     "language": "python",
     "metadata": {},
     "outputs": []
    },
    {
     "cell_type": "code",
     "collapsed": false,
     "input": [
      "figsize(15,15)\n",
      "plot_distance_and_sn(five_prime_ends_closest, \"5' end of exon\", ['WT', 'K498A', 'DEAA'])"
     ],
     "language": "python",
     "metadata": {},
     "outputs": []
    },
    {
     "cell_type": "code",
     "collapsed": false,
     "input": [
      "figsize(15,15)\n",
      "five_prime_ends_closest_nmd = {name : bedtool.filter(lambda x: x.name.strip().split(\"_\")[0] in nmd_targets).saveas() if name in ['WT', 'K498A', 'DEAA'] else bedtool for \n",
      "                                  name, bedtool in five_prime_ends_closest.items()}\n",
      "plot_distance_and_sn(five_prime_ends_closest_nmd, \"Transcription Stop Sites\", ['WT', 'K498A', 'DEAA'])"
     ],
     "language": "python",
     "metadata": {},
     "outputs": []
    },
    {
     "cell_type": "code",
     "collapsed": false,
     "input": [
      "figsize(15,15)\n",
      "five_prime_ends_closest_nmd = {name : bedtool.filter(lambda x: x.name.strip().split(\"_\")[0] not in nmd_targets).saveas() if name in ['WT', 'K498A', 'DEAA'] else bedtool for \n",
      "                                  name, bedtool in five_prime_ends_closest.items()}\n",
      "plot_distance_and_sn(five_prime_ends_closest_nmd, \"Transcription Stop Sites\", ['WT', 'K498A', 'DEAA'])"
     ],
     "language": "python",
     "metadata": {},
     "outputs": []
    },
    {
     "cell_type": "code",
     "collapsed": false,
     "input": [
      "len(five_prime_ends_three_prime_utr_closest['DEAA'])"
     ],
     "language": "python",
     "metadata": {},
     "outputs": []
    },
    {
     "cell_type": "code",
     "collapsed": false,
     "input": [
      "figsize(20,15)\n",
      "plot_distance_and_sn(five_prime_ends_three_prime_utr_closest, \"5' end of exon in 3' utr\",  ['WT', 'K498A', 'DEAA'])  "
     ],
     "language": "python",
     "metadata": {},
     "outputs": []
    },
    {
     "cell_type": "code",
     "collapsed": false,
     "input": [
      "figsize(15,15)\n",
      "five_prime_ends_three_prime_utr_closest_nmd = {name : bedtool.filter(lambda x: x.name.strip().split(\"_\")[0] in nmd_targets).saveas() if name in ['WT', 'K498A', 'DEAA'] else bedtool for \n",
      "                                  name, bedtool in five_prime_ends_three_prime_utr_closest.items()}\n",
      "plot_distance_and_sn(five_prime_ends_three_prime_utr_closest_nmd, \"Transcription Stop Sites\", ['WT', 'K498A', 'DEAA'])"
     ],
     "language": "python",
     "metadata": {},
     "outputs": []
    },
    {
     "cell_type": "markdown",
     "metadata": {},
     "source": [
      "Here is a detour looking at dual binding events.  We are seeing if there is binding at the stop codons and the TSS at the same time.  Major take away is, yes it happens, but there are only a few hundred events, so I'm not sure how critical it is.  "
     ]
    },
    {
     "cell_type": "code",
     "collapsed": false,
     "input": [
      "def filter_end(interval):\n",
      "    return -50 < int(interval[-1]) < 0 \n",
      "def filter_stop(interval):\n",
      "    return  0 < int(interval[-1]) < 70"
     ],
     "language": "python",
     "metadata": {},
     "outputs": []
    },
    {
     "cell_type": "code",
     "collapsed": false,
     "input": [
      "def plot_dual_events(stop_codons, transcription_stop_sites):\n",
      "    stop_codons = stop_codons.filter(filter_end).saveas()\n",
      "    transcription_stop_sites = transcription_stop_sites.filter(filter_stop).saveas()\n",
      "    dual_events = stop_codons.closest(transcription_stop_sites, s=True, d=True)\n",
      "    lengths = []\n",
      "    for interval in dual_events:\n",
      "        lengths.append(int(interval[-1]))\n",
      "    lengths = array(lengths)\n",
      "    print len(stop_codons), len(transcription_stop_sites)\n",
      "    print len(lengths[(lengths > 0)])\n",
      "    print len(lengths[(lengths > 0)]) / float(len(transcription_stop_sites)), len(stop_codons) / float(len(beds['WT']))\n",
      "    hist(lengths[(lengths > 0)])"
     ],
     "language": "python",
     "metadata": {},
     "outputs": []
    },
    {
     "cell_type": "code",
     "collapsed": false,
     "input": [
      "plot_dual_events(transcription_stop_closest_mrna['WT'], stop_codons_closest_mrna['WT'])"
     ],
     "language": "python",
     "metadata": {},
     "outputs": []
    },
    {
     "cell_type": "code",
     "collapsed": false,
     "input": [
      "plot_dual_events(transcription_stop_closest_mrna['DEAA'], stop_codons_closest_mrna['DEAA'])"
     ],
     "language": "python",
     "metadata": {},
     "outputs": []
    },
    {
     "cell_type": "code",
     "collapsed": false,
     "input": [
      "plot_dual_events(transcription_stop_closest_mrna['K498A'], stop_codons_closest_mrna['K498A'])"
     ],
     "language": "python",
     "metadata": {},
     "outputs": []
    },
    {
     "cell_type": "code",
     "collapsed": false,
     "input": [
      "figsize(15,15)\n",
      "result = plot_distance_and_sn(transcription_stop_closest_mrna, \"Transcription Stop Sites\", ['WT', 'K498A', 'DEAA'])"
     ],
     "language": "python",
     "metadata": {},
     "outputs": []
    },
    {
     "cell_type": "code",
     "collapsed": false,
     "input": [
      "result_dict = get_distance_and_sn_histograms(transcription_stop_closest_mrna, ['WT', 'K498A', 'DEAA'])\n",
      "   \n",
      "fig = plt.figure(figsize=(10,10))\n",
      "\n",
      "ax = fig.add_subplot(1,1,1)\n",
      "ax = plot_sample_hist(result_dict, \"3' End of Transcripts\", ax)\n",
      "ax.axvline(-25)\n",
      "#ax.plot([-25, -25], [0,800], linewidth=2, alpha=.5, linestyle=\":\")\n",
      "sns.despine(fig, linestyle=\":\")\n",
      "fig.savefig(os.path.join(img_dir, \"distribution_of_peaks_around_transcription_stop_sites.svg\"))\n"
     ],
     "language": "python",
     "metadata": {},
     "outputs": []
    },
    {
     "cell_type": "code",
     "collapsed": false,
     "input": [
      "figsize(15,15)\n",
      "transcription_stop_closest_mrna_nmd = {name : bedtool.filter(lambda x: x.name.strip().split(\"_\")[0] in nmd_targets).saveas() if name in ['WT', 'K498A', 'DEAA'] else bedtool for \n",
      "                                  name, bedtool in transcription_stop_closest_mrna.items()}\n",
      "plot_distance_and_sn(transcription_stop_closest_mrna_nmd, \"Transcription Stop Sites\", ['WT', 'K498A', 'DEAA'])"
     ],
     "language": "python",
     "metadata": {},
     "outputs": []
    },
    {
     "cell_type": "code",
     "collapsed": false,
     "input": [
      "figsize(15,15)\n",
      "transcription_stop_closest_mrna_nmd = {name : bedtool.filter(lambda x: x.name.strip().split(\"_\")[0] not in nmd_targets).saveas() if name in ['WT', 'K498A', 'DEAA'] else bedtool for \n",
      "                                  name, bedtool in transcription_stop_closest_mrna.items()}\n",
      "plot_distance_and_sn(transcription_stop_closest_mrna_nmd, \"Transcription Stop Sites\", ['WT', 'K498A', 'DEAA'])"
     ],
     "language": "python",
     "metadata": {},
     "outputs": []
    },
    {
     "cell_type": "code",
     "collapsed": false,
     "input": [
      "figsize(15,15)\n",
      "transcription_stop_closest_mrna_nmd = {name : bedtool.filter(lambda x: x.name.strip().split(\"_\")[0] in rip_targets).saveas() if name in ['WT', 'K498A', 'DEAA'] else bedtool for \n",
      "                                  name, bedtool in transcription_stop_closest_mrna.items()}\n",
      "result = plot_distance_and_sn(transcription_stop_closest_mrna_nmd, \"Transcription Stop Sites\", ['WT', 'K498A', 'DEAA'])\n",
      "sns.despine(result)\n",
      "result.savefig(os.path.join(img_dir, \"taret_peaks_around_transcription_stop_sites.svg\"))"
     ],
     "language": "python",
     "metadata": {},
     "outputs": []
    },
    {
     "cell_type": "code",
     "collapsed": false,
     "input": [
      "figsize(15,15)\n",
      "transcription_stop_closest_mrna_nmd = {name : bedtool.filter(lambda x: x.name.strip().split(\"_\")[0] in rip_non_targets).saveas() if name in ['WT', 'K498A', 'DEAA'] else bedtool for \n",
      "                                  name, bedtool in transcription_stop_closest_mrna.items()}\n",
      "result = plot_distance_and_sn(transcription_stop_closest_mrna_nmd, \"Transcription Stop Sites\", ['WT', 'K498A', 'DEAA'])\n",
      "sns.despine(result)\n",
      "result.savefig(os.path.join(img_dir, \"non_taret_peaks_around_transcription_stop_sites.svg\"))"
     ],
     "language": "python",
     "metadata": {},
     "outputs": []
    },
    {
     "cell_type": "code",
     "collapsed": false,
     "input": [
      "figsize(15,15)\n",
      "result = plot_distance_and_sn(stop_codons_closest_mrna, \"Stop Codons\", ['WT', 'K498A', 'DEAA'])"
     ],
     "language": "python",
     "metadata": {},
     "outputs": []
    },
    {
     "cell_type": "code",
     "collapsed": false,
     "input": [
      "result_dict = get_distance_and_sn_histograms(stop_codons_closest_mrna, ['WT', 'K498A', 'DEAA'])\n",
      "   \n",
      "fig = plt.figure(figsize=(10,10))\n",
      "\n",
      "ax = fig.add_subplot(1,1,1)\n",
      "ax = plot_sample_hist(result_dict, \"Stop Codons\", ax)\n",
      "ax.plot([50, 50], [0,400], linewidth=2, alpha=.5, linestyle=\":\")\n",
      "sns.despine(fig)\n",
      "fig.savefig(os.path.join(img_dir, \"distribution_of_peaks_around_stop_codons.svg\"))"
     ],
     "language": "python",
     "metadata": {},
     "outputs": []
    },
    {
     "cell_type": "code",
     "collapsed": false,
     "input": [
      "figsize(15,15)\n",
      "stop_codons_closest_mrna_nmd = {name : bedtool.filter(lambda x: x.name.strip().split(\"_\")[0] in nmd_targets).saveas() if name in ['WT', 'K498A', 'DEAA'] else bedtool for \n",
      "                                  name, bedtool in stop_codons_closest_mrna.items()}\n",
      "plot_distance_and_sn(stop_codons_closest_mrna_nmd, \"Transcription Stop Sites\", ['WT', 'K498A', 'DEAA'])"
     ],
     "language": "python",
     "metadata": {},
     "outputs": []
    },
    {
     "cell_type": "code",
     "collapsed": false,
     "input": [
      "figsize(15,15)\n",
      "stop_codons_closest_mrna_nmd = {name : bedtool.filter(lambda x: x.name.strip().split(\"_\")[0] not in nmd_targets).saveas() if name in ['WT', 'K498A', 'DEAA'] else bedtool for \n",
      "                                  name, bedtool in stop_codons_closest_mrna.items()}\n",
      "plot_distance_and_sn(stop_codons_closest_mrna_nmd, \"Transcription Stop Sites\", ['WT', 'K498A', 'DEAA'])"
     ],
     "language": "python",
     "metadata": {},
     "outputs": []
    },
    {
     "cell_type": "code",
     "collapsed": false,
     "input": [
      "figsize(10,10)\n",
      "stop_codons_closest_mrna_nmd = {name : bedtool.filter(lambda x: x.name.strip().split(\"_\")[0] in rip_targets).saveas() if name in ['WT', 'K498A', 'DEAA'] else bedtool for \n",
      "                                  name, bedtool in stop_codons_closest_mrna.items()}\n",
      "result = plot_distance_and_sn(stop_codons_closest_mrna_nmd, \"Transcription Stop Sites\", ['WT', 'K498A', 'DEAA'])\n",
      "result.savefig(os.path.join(img_dir, \"target_peaks_around_translation_stop_sites.svg\"))"
     ],
     "language": "python",
     "metadata": {},
     "outputs": []
    },
    {
     "cell_type": "code",
     "collapsed": false,
     "input": [
      "figsize(10,10)\n",
      "stop_codons_closest_mrna_nmd = {name : bedtool.filter(lambda x: x.name.strip().split(\"_\")[0] in rip_non_targets).saveas() if name in ['WT', 'K498A', 'DEAA'] else bedtool for \n",
      "                                  name, bedtool in stop_codons_closest_mrna.items()}\n",
      "plot_distance_and_sn(stop_codons_closest_mrna_nmd, \"Transcription Stop Sites\", ['WT', 'K498A', 'DEAA'])\n",
      "result.savefig(os.path.join(img_dir, \"non_target_peaks_around_translation_stop_sites.svg\"))"
     ],
     "language": "python",
     "metadata": {},
     "outputs": []
    },
    {
     "cell_type": "code",
     "collapsed": false,
     "input": [
      "#figsize(15,15)\n",
      "#plot_distance_and_sn(uorf_ends_codons_closest_mrna, \"uORF Stop Codons\")"
     ],
     "language": "python",
     "metadata": {},
     "outputs": []
    },
    {
     "cell_type": "code",
     "collapsed": false,
     "input": [
      "figsize(15,15)\n",
      "plot_distance_and_sn(three_prime_ends_closest_mrna, \"3' end of exon\", ['WT', 'K498A', 'DEAA'])"
     ],
     "language": "python",
     "metadata": {},
     "outputs": []
    },
    {
     "cell_type": "code",
     "collapsed": false,
     "input": [
      "figsize(15,15)\n",
      "three_prime_ends_closest_mrna_nmd = {name : bedtool.filter(lambda x: x.name.strip().split(\"_\")[0] in nmd_targets).saveas() if name in ['WT', 'K498A', 'DEAA'] else bedtool for \n",
      "                                  name, bedtool in three_prime_ends_closest_mrna.items()}\n",
      "plot_distance_and_sn(three_prime_ends_closest_mrna_nmd, \"Transcription Stop Sites\", ['WT', 'K498A', 'DEAA'])"
     ],
     "language": "python",
     "metadata": {},
     "outputs": []
    },
    {
     "cell_type": "code",
     "collapsed": false,
     "input": [
      "figsize(15,15)\n",
      "three_prime_ends_closest_mrna_nmd = {name : bedtool.filter(lambda x: x.name.strip().split(\"_\")[0] not in nmd_targets).saveas() if name in ['WT', 'K498A', 'DEAA'] else bedtool for \n",
      "                                  name, bedtool in three_prime_ends_closest_mrna.items()}\n",
      "plot_distance_and_sn(three_prime_ends_closest_mrna_nmd, \"Transcription Stop Sites\", ['WT', 'K498A', 'DEAA'])"
     ],
     "language": "python",
     "metadata": {},
     "outputs": []
    },
    {
     "cell_type": "code",
     "collapsed": false,
     "input": [
      "figsize(15,15)\n",
      "plot_distance_and_sn(five_prime_ends_closest_mrna, \"5' end of exon\", ['WT', 'K498A', 'DEAA'])"
     ],
     "language": "python",
     "metadata": {},
     "outputs": []
    },
    {
     "cell_type": "code",
     "collapsed": false,
     "input": [
      "figsize(15,15)\n",
      "five_prime_ends_closest_mrna_nmd = {name : bedtool.filter(lambda x: x.name.strip().split(\"_\")[0] in nmd_targets).saveas() if name in ['WT', 'K498A', 'DEAA'] else bedtool for \n",
      "                                  name, bedtool in five_prime_ends_closest_mrna.items()}\n",
      "plot_distance_and_sn(five_prime_ends_closest_mrna_nmd, \"Transcription Stop Sites\", ['WT', 'K498A', 'DEAA'])"
     ],
     "language": "python",
     "metadata": {},
     "outputs": []
    },
    {
     "cell_type": "code",
     "collapsed": false,
     "input": [
      "figsize(15,15)\n",
      "five_prime_ends_closest_mrna_nmd = {name : bedtool.filter(lambda x: x.name.strip().split(\"_\")[0] not in nmd_targets).saveas() if name in ['WT', 'K498A', 'DEAA'] else bedtool for \n",
      "                                  name, bedtool in five_prime_ends_closest_mrna.items()}\n",
      "plot_distance_and_sn(five_prime_ends_closest_mrna_nmd, \"Transcription Stop Sites\", ['WT', 'K498A', 'DEAA'])"
     ],
     "language": "python",
     "metadata": {},
     "outputs": []
    },
    {
     "cell_type": "code",
     "collapsed": false,
     "input": [
      "figsize(20,15)\n",
      "plot_distance_and_sn(five_prime_ends_three_prime_utr_closest_mrna, \"5' end of exon in 3' utr\",  ['WT', 'K498A', 'DEAA']) "
     ],
     "language": "python",
     "metadata": {},
     "outputs": []
    },
    {
     "cell_type": "code",
     "collapsed": false,
     "input": [
      "figsize(15,15)\n",
      "five_prime_ends_three_prime_utr_closest_mrna_nmd = {name : bedtool.filter(lambda x: x.name.strip().split(\"_\")[0] in nmd_targets).saveas() if name in ['WT', 'K498A', 'DEAA'] else bedtool for \n",
      "                                  name, bedtool in five_prime_ends_three_prime_utr_closest_mrna.items()}\n",
      "plot_distance_and_sn(five_prime_ends_three_prime_utr_closest_mrna_nmd, \"Transcription Stop Sites\", ['WT', 'K498A', 'DEAA'])"
     ],
     "language": "python",
     "metadata": {},
     "outputs": []
    },
    {
     "cell_type": "code",
     "collapsed": false,
     "input": [
      "figsize(15,15)\n",
      "five_prime_ends_three_prime_utr_closest_mrna_nmd = {name : bedtool.filter(lambda x: x.name.strip().split(\"_\")[0] not in nmd_targets).saveas() if name in ['WT', 'K498A', 'DEAA'] else bedtool for \n",
      "                                  name, bedtool in five_prime_ends_three_prime_utr_closest_mrna.items()}\n",
      "plot_distance_and_sn(five_prime_ends_three_prime_utr_closest_mrna_nmd, \"Transcription Stop Sites\", ['WT', 'K498A', 'DEAA'])"
     ],
     "language": "python",
     "metadata": {},
     "outputs": []
    },
    {
     "cell_type": "markdown",
     "metadata": {},
     "source": [
      "The plots below show normal distributions of peaks across genome (no splicing accounted for)"
     ]
    },
    {
     "cell_type": "code",
     "collapsed": false,
     "input": [
      "#individual normal targets\n",
      "figsize(30,30)\n",
      "for x, (name, distribution_dict) in enumerate(actual_distributions.items()):\n",
      "    \n",
      "    subplot(3,3, x + 1)\n",
      "    for sample in distribution_dict:\n",
      "        sample_count, bins = generate_distribution(distribution_dict[sample][0])\n",
      "\n",
      "        if \"control\" not in sample and \"nmd_target\" not in sample:\n",
      "            plot(bins, sample_count, label=sample + \" \" + str(len(distribution_dict[sample][0])), linewidth=3, alpha=.7)\n",
      "    \n",
      "    sample_shuffled_count, bins = generate_distribution(concatenate(array([distribution_dict[distribuiton][0] for distribuiton in distribution_dict if \"control\" in distribuiton])))\n",
      "    plot(bins, sample_shuffled_count, label=\"control\", linewidth=3, alpha=.7)\n",
      "    title(\"Distribution of Peaks across \" + name + \" individual exons\")\n",
      "    legend(loc=0)"
     ],
     "language": "python",
     "metadata": {},
     "outputs": []
    },
    {
     "cell_type": "markdown",
     "metadata": {},
     "source": [
      "The plots below show normal distributions of peaks across transcriptome ( accounted for)"
     ]
    },
    {
     "cell_type": "code",
     "collapsed": false,
     "input": [
      "#stitched normal targets\n",
      "figsize(30,30)\n",
      "for x, (name, distribution_dict) in enumerate(actual_distributions.items()):\n",
      "    \n",
      "    subplot(3,3, x + 1)\n",
      "    for sample in distribution_dict:\n",
      "        sample_count, bins = generate_distribution(distribution_dict[sample][1])\n",
      "\n",
      "        if \"control\" not in sample and \"nmd_target\" not in sample:\n",
      "            plot(bins, sample_count, label=sample + \" \" + str(len(distribution_dict[sample][1])), linewidth=3, alpha=.7)\n",
      "    \n",
      "    sample_shuffled_count, bins = generate_distribution(concatenate(array([distribution_dict[distribuiton][1] for distribuiton in distribution_dict if \"control\" in distribuiton])))\n",
      "    plot(bins, sample_shuffled_count, label=\"control\", linewidth=3, alpha=.7)\n",
      "    title(\"Distribution of Peaks across \" + name + \" total\")\n",
      "    legend(loc=0)"
     ],
     "language": "python",
     "metadata": {},
     "outputs": []
    },
    {
     "cell_type": "markdown",
     "metadata": {},
     "source": [
      "The plots below show normal distributions of peaks across genome (no splicing accounted for), for NMD targets"
     ]
    },
    {
     "cell_type": "code",
     "collapsed": false,
     "input": [
      "#individual nmd targets\n",
      "figsize(30,30)\n",
      "for x, (name, distribution_dict) in enumerate(actual_distributions.items()):\n",
      "    \n",
      "    subplot(3,3, x + 1)\n",
      "    for sample in distribution_dict:\n",
      "        sample_count, bins = generate_distribution(distribution_dict[sample][0])\n",
      "\n",
      "        if \"control\" not in sample and \"nmd_target\" in sample:\n",
      "            plot(bins, sample_count, label=sample + \" \" + str(len(distribution_dict[sample][0])), linewidth=3, alpha=.7)\n",
      "    \n",
      "    sample_shuffled_count, bins = generate_distribution(concatenate(array([distribution_dict[distribuiton][0] for distribuiton in distribution_dict if \"control\" in distribuiton])))\n",
      "    plot(bins, sample_shuffled_count, label=\"control\", linewidth=3, alpha=.7)\n",
      "    title(\"Distribution of Peaks across \" + name + \" individual exons\")\n",
      "    legend(loc=0)"
     ],
     "language": "python",
     "metadata": {},
     "outputs": []
    },
    {
     "cell_type": "markdown",
     "metadata": {},
     "source": [
      "The plots below show normal distributions of peaks across transcriptome (splicing accounted for), for NMD targets"
     ]
    },
    {
     "cell_type": "code",
     "collapsed": false,
     "input": [
      "len(actual_distributions['five_prime_utrs'][\"DEAA_nmd_target\"][1]) + len(actual_distributions['cds'][\"DEAA_nmd_target\"][1]) + len(actual_distributions['three_prime_utrs'][\"DEAA_nmd_target\"][1])"
     ],
     "language": "python",
     "metadata": {},
     "outputs": []
    },
    {
     "cell_type": "code",
     "collapsed": false,
     "input": [
      "(len(actual_distributions['five_prime_utr_cds'][\"DEAA_nmd_target\"][1]) + \n",
      " len(actual_distributions['only_five_prime_utr'][\"DEAA_nmd_target\"][1]) + \n",
      " len(actual_distributions['only_three_prime_utr'][\"DEAA_nmd_target\"][1]) +\n",
      " len(actual_distributions['only_cds'][\"DEAA_nmd_target\"][1]) +\n",
      " len(actual_distributions['cds_three_prime_utr'][\"DEAA_nmd_target\"][1]))"
     ],
     "language": "python",
     "metadata": {},
     "outputs": []
    },
    {
     "cell_type": "code",
     "collapsed": false,
     "input": [
      "len(actual_distributions['transcriptome'][\"DEAA_nmd_target\"][1])"
     ],
     "language": "python",
     "metadata": {},
     "outputs": []
    },
    {
     "cell_type": "code",
     "collapsed": false,
     "input": [
      "#stitched nmd targets\n",
      "\n",
      "figsize(30,30)\n",
      "for x, (name, distribution_dict) in enumerate(actual_distributions.items()):\n",
      "    \n",
      "    subplot(3,3, x + 1)\n",
      "    for sample in distribution_dict:\n",
      "        sample_count, bins = generate_distribution(distribution_dict[sample][1])\n",
      "\n",
      "        if \"control\" not in sample and \"nmd_target\" in sample:\n",
      "            plot(bins, sample_count, label=sample + \" \" + str(len(distribution_dict[sample][1])), linewidth=3, alpha=.7)\n",
      "    \n",
      "    sample_shuffled_count, bins = generate_distribution(concatenate(array([distribution_dict[distribuiton][1] for distribuiton in distribution_dict if \"control\" in distribuiton])))\n",
      "    plot(bins, sample_shuffled_count, label=\"control\", linewidth=3, alpha=.7)\n",
      "    title(\"Distribution of Peaks across \" + name + \" total\")\n",
      "    legend(loc=0)"
     ],
     "language": "python",
     "metadata": {},
     "outputs": []
    },
    {
     "cell_type": "markdown",
     "metadata": {},
     "source": [
      "This has the interesting side effect of filtering out pseudogenes and other things that aren't coding (~9k)"
     ]
    },
    {
     "cell_type": "code",
     "collapsed": false,
     "input": [
      "human_db = \"/nas3/yeolab/Genome/ensembl/gtf/gencode.v17.annotation.gtf.db\"\n",
      "db = gffutils.FeatureDB(human_db)"
     ],
     "language": "python",
     "metadata": {},
     "outputs": []
    },
    {
     "cell_type": "code",
     "collapsed": false,
     "input": [
      "def to_bed(x):\n",
      "    return x.chrom, x.start, x.stop, x.attributes['gene_id'], \"0\", x.strand\n",
      "    \n",
      "genes = db.features_of_type('gene')\n",
      "three_prime_utrs = []\n",
      "five_prime_utrs = []\n",
      "cds = []\n",
      "for gene in genes:\n",
      "    mrnas = list(db.children(gene, featuretype='mRNA'))\n",
      "    transcripts = list(db.children(gene, featuretype='transcript'))\n",
      "\n",
      "    gene_three_prime_utrs = []\n",
      "    gene_five_prime_utrs = []\n",
      "    gene_cds = []\n",
      "    for mrna in mrnas:\n",
      "\n",
      "        utrs = db.children(mrna, featuretype='UTR')\n",
      "        cdss = list(db.children(mrna, featuretype='CDS'))\n",
      "        gene_cds += cdss\n",
      "        for utr in utrs:\n",
      "            if utr.strand == \"+\":\n",
      "                if utr.stop < cds[0].start:\n",
      "                    utr.featuretype = \"five_prime_utr\"\n",
      "                    gene_five_prime_utrs.append(utr)\n",
      "                else:\n",
      "                    utr.featuretype = \"three_prime_utr\"\n",
      "                    gene_three_prime_utrs.append(utr)\n",
      "            elif utr.strand == \"-\":\n",
      "                if utr.stop < cds[0].start:\n",
      "                    utr.featuretype = \"three_prime_utr\"\n",
      "                    gene_three_prime_utrs.append(utr)\n",
      "                else:\n",
      "                    utr.featuretype = \"five_prime_utr\"\n",
      "                    gene_five_prime_utrs.append(utr)\n",
      "    \n",
      "    if len(gene_cds) > 0:\n",
      "        gene_cds = list(db.merge_features(gene_cds))\n",
      "        \n",
      "    if len(gene_five_prime_utrs) > 0:\n",
      "        gene_five_prime_utrs  = list(db.merge_features(gene_five_prime_utrs))\n",
      "        \n",
      "    if len(gene_three_prime_utrs) > 0:\n",
      "        #print gene_three_prime_utrs\n",
      "        gene_three_prime_utrs = list(db.merge_features(gene_three_prime_utrs))\n",
      "    \n",
      "    cds_tmp = []\n",
      "    for cur_cds in gene_cds:\n",
      "        cur_cds.attributes['gene_id'] = gene.id\n",
      "        cds_tmp.append(cur_cds)\n",
      "        \n",
      "    five_prime_tmp = []\n",
      "    for gene_five_prime_utr in gene_five_prime_utrs:\n",
      "        gene_five_prime_utr.attributes['gene_id'] = gene.id\n",
      "        five_prime_tmp.append(gene_five_prime_utr)\n",
      "        \n",
      "    three_prime_tmp = []\n",
      "    for gene_three_prime_utr in gene_three_prime_utrs:\n",
      "        gene_three_prime_utr.attributes['gene_id'] = gene.id\n",
      "        three_prime_tmp.append(gene_three_prime_utr)\n",
      "        \n",
      "    cds += cds_tmp\n",
      "    five_prime_utrs += five_prime_tmp\n",
      "    three_prime_utrs += three_prime_tmp\n",
      "    \n",
      "UTR5 = pybedtools.BedTool(map(to_bed, five_prime_utrs)).saveas()\n",
      "UTR3 = pybedtools.BedTool(map(to_bed, three_prime_utrs)).saveas()\n",
      "CDS = pybedtools.BedTool(map(to_bed, cds)).saveas()"
     ],
     "language": "python",
     "metadata": {},
     "outputs": []
    },
    {
     "cell_type": "code",
     "collapsed": false,
     "input": [
      "def special_dict():\n",
      "    return {\"nmd_transcripts\" : 0} \n",
      "\n",
      "nmd_counts = defaultdict(special_dict)\n",
      "for transcript in db.features_of_type('transcript'):\n",
      "    if transcript.attributes['transcript_type'] == \"nonsense_mediated_decay\":\n",
      "        nmd_counts[transcript.attributes['gene_id']][\"nmd_transcripts\"] += 1\n",
      "#adds nmd annotations based off of litetrature information\n",
      "\n",
      "gene_annotations = pd.DataFrame(nmd_counts).transpose().fillna(0)"
     ],
     "language": "python",
     "metadata": {},
     "outputs": []
    },
    {
     "cell_type": "markdown",
     "metadata": {},
     "source": [
      "#Homer Analysis\n",
      "Code to generate this run from /home/gpratt/projects/upf1/analysis/ad-hoc/homer on tscc  \n",
      "        annotatePeaks.pl ../../v3/DEAA.peaks.bed hg19 -m ../../v3/homer/DEAA.peaks.bed/utr3/homerMotifs.all.motifs -size 1000 -hist 10 > DEAA.hist  \n",
      "        annotatePeaks.pl ../../v3/WT.peaks.bed hg19 -m ../../v3/homer/WT.peaks.bed/utr3/homerMotifs.all.motifs -size 1000 -hist 10 > WT.hist  \n",
      "        annotatePeaks.pl ../../v3/K498A.peaks.bed hg19 -m ../../v3/homer/K498A.peaks.bed/utr3/homerMotifs.all.motifs -size 1000 -hist 10 > K498A.hist  \n",
      " "
     ]
    },
    {
     "cell_type": "code",
     "collapsed": false,
     "input": [
      "cd /nas3/gpratt/projects/upf1/analysis/notebook/"
     ],
     "language": "python",
     "metadata": {},
     "outputs": []
    },
    {
     "cell_type": "code",
     "collapsed": false,
     "input": [
      "WT = pd.read_csv(\"WT.hist\", sep=\"\\t\", index_col=0)\n",
      "WT_true = pd.read_csv(\"WT_true.hist\", sep=\"\\t\", index_col=0)\n",
      "DEAA = pd.read_csv(\"DEAA.hist\", sep=\"\\t\", index_col=0)\n",
      "K498A = pd.read_csv(\"K498A.hist\", sep=\"\\t\", index_col=0)"
     ],
     "language": "python",
     "metadata": {},
     "outputs": []
    },
    {
     "cell_type": "code",
     "collapsed": false,
     "input": [
      "with dataviz.Figure(os.path.join(img_dir, \"peak_dist_from_ugu.svg\"), figsize=(10,10)) as fig:\n",
      "    ax = fig.add_subplot(1,1,1)\n",
      "    ax.plot(WT_true.index, WT_true[\"1-ACTGTA total sites\"], label=\"WT UGU\", linewidth=3, alpha=.7, color=color_dict['WT'])\n",
      "    ax.plot(K498A.index, K498A[\"1-TGTAHA total sites\"], label=\"K498A UGU\", linewidth=3, alpha=.7, color=color_dict['K498A'])\n",
      "    ax.plot(DEAA.index, DEAA[\"1-ACTGTA total sites\"], label=\"DEAA UGU\", linewidth=3, alpha=.7, color=color_dict['DEAA'])\n",
      "\n",
      "    ax.set_xlabel(\"Distance from Feature (bp)\", fontsize=18)\n",
      "    ax.set_ylabel(\"Occurance Frequency\", fontsize=18)\n",
      "    ax.set_title(\"Distance of Peaks from Nearest UGU Motif\")\n",
      "    ax.set_xlim((min(WT.index | DEAA.index | K498A.index),\n",
      "                 max(WT.index | DEAA.index | K498A.index)))\n",
      "    ax.legend()"
     ],
     "language": "python",
     "metadata": {},
     "outputs": []
    },
    {
     "cell_type": "code",
     "collapsed": false,
     "input": [
      "with dataviz.Figure(os.path.join(img_dir, \"peak_dist_from_aauaaa.svg\"), figsize=(10,10)) as fig:\n",
      "    ax = fig.add_subplot(1,1,1)\n",
      "    ax.plot(DEAA.index, DEAA[\"3-AATAAA total sites\"], label=\"DEAA AAUAAA\", \n",
      "            linewidth=3, alpha=.7, color=color_dict['DEAA'])\n",
      "    ax.plot(K498A.index, K498A[\"5-AATAAA total sites\"], label=\"K498A AAUAA\",\n",
      "            linewidth=3, alpha=.7, color=color_dict['K498A'])\n",
      "    #ax.plot(WT.index, WT[\"5-AATAAA total sites\"], label=\"WT AAUAA\",\n",
      "    #        linewidth=3, alpha=.7, color=color_dict['WT'])\n",
      "\n",
      "    ax.set_title(\"Distance of Peaks from Nearest AAUAAA Motif\")\n",
      "    ax.set_xlabel(\"Distance from Feature (bp)\", fontsize=18)\n",
      "    ax.set_ylabel(\"Occurance Frequency\", fontsize=18)\n",
      "    ax.set_xlim((min(WT.index | DEAA.index | K498A.index),\n",
      "                 max(WT.index | DEAA.index | K498A.index)))\n",
      "    ax.plot([50, 50], [0,.006], linewidth=2, alpha=.5, linestyle=\":\")\n",
      "    ax.legend()"
     ],
     "language": "python",
     "metadata": {},
     "outputs": []
    },
    {
     "cell_type": "markdown",
     "metadata": {},
     "source": [
      "#Overlap of wt enriched peaks and CLIP-seq target"
     ]
    },
    {
     "cell_type": "code",
     "collapsed": false,
     "input": [],
     "language": "python",
     "metadata": {},
     "outputs": []
    }
   ],
   "metadata": {}
  }
 ]
}