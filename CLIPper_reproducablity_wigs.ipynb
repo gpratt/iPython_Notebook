{
 "metadata": {
  "name": ""
 },
 "nbformat": 3,
 "nbformat_minor": 0,
 "worksheets": [
  {
   "cells": [
    {
     "cell_type": "code",
     "collapsed": false,
     "input": [
      "from collections import defaultdict\n",
      "import glob\n",
      "from itertools import combinations\n",
      "from itertools import groupby\n",
      "import os\n",
      "import random as rand\n",
      "\n",
      "import numpy as np\n",
      "import pandas as pd\n",
      "from IPython.core.display import HTML\n",
      "\n",
      "from gscripts.general.dataviz import Figure\n",
      "\n",
      "img_dir = \"/nas3/gpratt/Dropbox/Presentations/notebooks/CLIPper_reproducablity_wigs\""
     ],
     "language": "python",
     "metadata": {},
     "outputs": [],
     "prompt_number": 1
    },
    {
     "cell_type": "code",
     "collapsed": false,
     "input": [
      "def plot_cdf(cdf_list, **kwargs):\n",
      "    import statsmodels.api as sm\n",
      "    cdf = sm.distributions.ECDF(cdf_list)\n",
      "    cdf_linspace = np.linspace(min(cdf_list), max(cdf_list))\n",
      "    if kwargs['ax'] is not None:\n",
      "        ax = kwargs['ax']\n",
      "        del kwargs['ax']\n",
      "        ax.plot(cdf_linspace, cdf(cdf_linspace), **kwargs)\n",
      "    else:\n",
      "        plot(cdf_linspace, cdf(cdf_linspace), **kwargs)"
     ],
     "language": "python",
     "metadata": {},
     "outputs": [],
     "prompt_number": 2
    },
    {
     "cell_type": "code",
     "collapsed": false,
     "input": [
      "def correlate_wigs(a, b):\n",
      "    x = !wigCorrelate $a $b\n",
      "    sample1, sample2, correlation = x[0].split()\n",
      "    return sample1, sample2, float(correlation)\n",
      "\n",
      "def wig_correlation_combinations(wigs):\n",
      "    combination_dict = defaultdict(dict)\n",
      "    for wig1, wig2 in combinations(wigs, 2):\n",
      "        sample1, sample2, correlation = correlate_wigs(wig1, wig2)\n",
      "        sample1 = os.path.basename(sample1)\n",
      "        sample2 = os.path.basename(sample2)\n",
      "        combination_dict[sample1][sample2] = correlation\n",
      "    return pd.DataFrame(combination_dict)"
     ],
     "language": "python",
     "metadata": {},
     "outputs": [],
     "prompt_number": "*"
    },
    {
     "cell_type": "code",
     "collapsed": false,
     "input": [
      "rnaseq_wigs = glob.glob(\"/nas3/gpratt/projects/clipper/reproducablity/rnaseq/*\")\n",
      "rnaseq_df = wig_correlation_combinations(rnaseq_wigs)"
     ],
     "language": "python",
     "metadata": {},
     "outputs": [],
     "prompt_number": "*"
    },
    {
     "cell_type": "code",
     "collapsed": false,
     "input": [
      "HTML(rnaseq_df.to_html())"
     ],
     "language": "python",
     "metadata": {},
     "outputs": [],
     "prompt_number": "*"
    },
    {
     "cell_type": "code",
     "collapsed": false,
     "input": [
      "figsize(15,15)\n",
      "matshow(rnaseq_df, aspect='auto', origin='lower', cmap=cm.RdBu)\n",
      "\n",
      "row_names = [name.split(\".\")[0] + \".\" + name.split(\".\")[-2] for name in rnaseq_df.index]\n",
      "column_names = row_names = [name.split(\".\")[0] + \".\" + name.split(\".\")[-2] for name in rnaseq_df.columns]\n",
      "xticks(range(len(row_names)), column_names, rotation=90)\n",
      "yticks(range(len(column_names)), row_names )\n",
      "\n",
      "clim(-1,1)\n",
      "colorbar()"
     ],
     "language": "python",
     "metadata": {},
     "outputs": [],
     "prompt_number": "*"
    },
    {
     "cell_type": "code",
     "collapsed": false,
     "input": [
      "clipseq_wigs = glob.glob(\"/nas3/gpratt/projects/clipper/reproducablity/upf1/*\")\n",
      "clipseq_df = wig_correlation_combinations(clipseq_wigs)"
     ],
     "language": "python",
     "metadata": {},
     "outputs": [],
     "prompt_number": "*"
    },
    {
     "cell_type": "code",
     "collapsed": false,
     "input": [
      "figsize(15,15)\n",
      "matshow(clipseq_df, aspect='auto', origin='lower', cmap=cm.RdBu)\n",
      "\n",
      "row_names = [name.split(\".\")[0] + \".\" + name.split(\".\")[-2] for name in clipseq_df.index]\n",
      "column_names = row_names = [name.split(\".\")[0] + \".\" + name.split(\".\")[-2] for name in clipseq_df.columns]\n",
      "xticks(range(len(row_names)), column_names, rotation=90)\n",
      "yticks(range(len(column_names)), row_names )\n",
      "\n",
      "clim(-1,1)\n",
      "colorbar()"
     ],
     "language": "python",
     "metadata": {},
     "outputs": [],
     "prompt_number": "*"
    },
    {
     "cell_type": "code",
     "collapsed": false,
     "input": [
      "positive_coors = glob.glob(\"/nas3/gpratt/projects/clipper/reproducablity/encode_datasets/IMP*_[A-B].pos.bw\")\n",
      "negative_coors = glob.glob(\"/nas3/gpratt/projects/clipper/reproducablity/encode_datasets/IMP*_[A-B].neg.norm.bw\")\n",
      "all_coors = glob.glob(\"/nas3/gpratt/projects/clipper/reproducablity/encode_datasets/IMP*_[A-B].*.bw\")"
     ],
     "language": "python",
     "metadata": {},
     "outputs": [],
     "prompt_number": "*"
    },
    {
     "cell_type": "code",
     "collapsed": false,
     "input": [
      "def correlate_wigs_groubpy(wigs, key=lambda x: x.split(\"_\")[0]):\n",
      "    rsq_values = []\n",
      "    groups = groupby(sorted(wigs, key=key), key=key)\n",
      "    for name, items in groups:\n",
      "        for a,b in combinations(list(items), 2): \n",
      "            try:\n",
      "                sample1, sample2, correlation = correlate_wigs(a, b)\n",
      "                sample1 = os.path.basename(sample1)\n",
      "                sample2 = os.path.basename(sample2)\n",
      "                rsq_values.append(float(correlation))\n",
      "            except ValueError as e:\n",
      "                print e\n",
      "                print a,b\n",
      "                pass\n",
      "    return rsq_values"
     ],
     "language": "python",
     "metadata": {},
     "outputs": [],
     "prompt_number": "*"
    },
    {
     "cell_type": "code",
     "collapsed": false,
     "input": [
      "positive_rsq_values = correlate_wigs_groubpy(positive_coors)\n",
      "negative_rsq_values = correlate_wigs_groubpy(negative_coors)\n",
      "null_rsq_values = correlate_wigs_groubpy(all_coors,  key=lambda x: x.split(\".\")[0])"
     ],
     "language": "python",
     "metadata": {},
     "outputs": [],
     "prompt_number": "*"
    },
    {
     "cell_type": "code",
     "collapsed": false,
     "input": [
      "def correlated_wigs_random(wigs, ntimes=200):\n",
      "    random_rsq_values = []\n",
      "    for x in range(ntimes):\n",
      "        try:\n",
      "            a,b = rand.sample(wigs, 2)\n",
      "\n",
      "            if os.path.basename(a).split(\"_\")[0] == os.path.basename(b).split(\"_\")[0]:\n",
      "                continue\n",
      "            sample1, sample2, correlation = correlate_wigs(a, b)\n",
      "            random_rsq_values.append(float(correlation))\n",
      "        except ValueError:\n",
      "            print a,b\n",
      "            pass\n",
      "            \n",
      "    return random_rsq_values"
     ],
     "language": "python",
     "metadata": {},
     "outputs": [],
     "prompt_number": "*"
    },
    {
     "cell_type": "code",
     "collapsed": false,
     "input": [
      "random_rsq_values = correlated_wigs_random(negative_coors) + correlated_wigs_random(positive_coors)"
     ],
     "language": "python",
     "metadata": {},
     "outputs": [],
     "prompt_number": "*"
    },
    {
     "cell_type": "code",
     "collapsed": false,
     "input": [
      "with Figure(os.path.join(img_dir, \"encode_clip_wiggle_correlation.svg\"), figsize=(6,6)) as fig:\n",
      "    ax = fig.add_subplot(1,1,1)\n",
      "    plot_cdf(random_rsq_values, ax=ax, linewidth=3, label=\"Random\")\n",
      "    plot_cdf(positive_rsq_values, ax=ax, label=\"Positive Strand\", linewidth=3)\n",
      "    plot_cdf(negative_rsq_values, ax=ax, label=\"Negative Strand\", linewidth=3)\n",
      "    plot_cdf(null_rsq_values, ax=ax, label=\"Null\", linewidth=3)\n",
      "    ax.set_title(\"ENCODE CLIP-seq\\nWiggle Correlation\")\n",
      "    ax.set_ylabel(\"Cumulative Fraction\")\n",
      "    ax.set_xlabel(\"R Squared Values\")\n",
      "    ax.legend(loc=0)"
     ],
     "language": "python",
     "metadata": {},
     "outputs": [],
     "prompt_number": "*"
    },
    {
     "cell_type": "code",
     "collapsed": false,
     "input": [
      "encode_coors = glob.glob(\"/nas3/gpratt/projects/public_encode/data/*.bigWig\")"
     ],
     "language": "python",
     "metadata": {},
     "outputs": [],
     "prompt_number": "*"
    },
    {
     "cell_type": "code",
     "collapsed": false,
     "input": [
      "encode_rsq_values = correlate_wigs_groubpy(encode_coors, key=lambda x: os.path.basename(x)[:-14])"
     ],
     "language": "python",
     "metadata": {},
     "outputs": [],
     "prompt_number": "*"
    },
    {
     "cell_type": "code",
     "collapsed": false,
     "input": [
      "encode_random_rsq_values = correlated_wigs_random(encode_coors, 400)"
     ],
     "language": "python",
     "metadata": {},
     "outputs": [],
     "prompt_number": "*"
    },
    {
     "cell_type": "code",
     "collapsed": false,
     "input": [
      "with Figure(os.path.join(img_dir, \"encode_chip_wiggle_correlation.svg\"), figsize=(10,10)) as fig:\n",
      "    ax = fig.add_subplot(1,1,1)\n",
      "    plot_cdf(encode_rsq_values, ax=ax, linewidth=3, label=\"Real\")\n",
      "    plot_cdf(encode_random_rsq_values, ax=ax, linewidth=3,  label=\"Random\")\n",
      "    ax.set_title(\"ENCODE ChIP-seq Wiggle Correlation\")\n",
      "    ax.set_ylabel(\"Cumulative Fraction\")\n",
      "    ax.set_xlabel(\"R Squared Values\")\n",
      "    ax.legend()"
     ],
     "language": "python",
     "metadata": {},
     "outputs": [],
     "prompt_number": "*"
    },
    {
     "cell_type": "code",
     "collapsed": false,
     "input": [
      "public_path = \"/nas3/gpratt/projects/public_clip/v2/\"\n",
      "public_clip_list = pd.read_csv(\"/nas3/gpratt/projects/public_clip/v1/public_clip_list.csv\", index_col=0)\n",
      "public_clip_list = public_clip_list[public_clip_list[\"CLIP-seq?\"] == \"Yes\"]\n",
      "\n",
      "#this gets me samples that have their bw files generated\n",
      "extant_bws = glob.glob(os.path.join(public_path, \"*\"))\n",
      "real_samples = {os.path.basename(name).split(\".\")[0] for name in extant_bws}\n",
      "public_clip_list = public_clip_list.ix[real_samples]"
     ],
     "language": "python",
     "metadata": {},
     "outputs": [],
     "prompt_number": "*"
    },
    {
     "cell_type": "code",
     "collapsed": false,
     "input": [
      "a = os.path.join(public_path, a + bw_tail)\n",
      "b = os.path.join(public_path, b + bw_tail)"
     ],
     "language": "python",
     "metadata": {},
     "outputs": [],
     "prompt_number": "*"
    },
    {
     "cell_type": "code",
     "collapsed": false,
     "input": [
      "!wigCorrelate $a $b"
     ],
     "language": "python",
     "metadata": {},
     "outputs": [],
     "prompt_number": "*"
    },
    {
     "cell_type": "code",
     "collapsed": false,
     "input": [
      "public_rsq_values = []\n",
      "groups = public_clip_list.groupby([\"Cell Type\", \"Antibody\", \"Modification\"])\n",
      "bw_tail = \".polyATrim.adapterTrim.rmRep.sorted.rg.rmDup.pos.bw\"\n",
      "for group in groups:\n",
      "    for a,b in combinations(group[1].index, 2):\n",
      "        sample1, sample2, correlation = correlate_wigs(os.path.join(public_path, a + bw_tail), \n",
      "                                                       os.path.join(public_path, b + bw_tail))\n",
      "        \n",
      "        public_rsq_values.append(float(correlation))"
     ],
     "language": "python",
     "metadata": {},
     "outputs": [],
     "prompt_number": "*"
    },
    {
     "cell_type": "code",
     "collapsed": false,
     "input": [
      "a = os.path.join(public_path, a + bw_tail)\n",
      "b = os.path.join(public_path, b + bw_tail)\n"
     ],
     "language": "python",
     "metadata": {},
     "outputs": [],
     "prompt_number": "*"
    },
    {
     "cell_type": "code",
     "collapsed": false,
     "input": [
      "bw_tail"
     ],
     "language": "python",
     "metadata": {},
     "outputs": [],
     "prompt_number": "*"
    },
    {
     "cell_type": "code",
     "collapsed": false,
     "input": [
      "foo = os.path.join(public_path, a + bw_tail)\n",
      "bar = os.path.join(public_path, b + bw_tail)\n",
      "!wigCorrelate $foo $bar"
     ],
     "language": "python",
     "metadata": {},
     "outputs": [],
     "prompt_number": "*"
    },
    {
     "cell_type": "code",
     "collapsed": false,
     "input": [
      "public_random_rsq_values = []\n",
      "bw_tail = \".polyATrim.adapterTrim.rmRep.sorted.rg.rmDup.pos.bw\"\n",
      "for x in range(2000):\n",
      "    a,b = rand.sample(public_clip_list.index, 2)\n",
      "    sample1, sample2, correlation = correlate_wigs(os.path.join(public_path, a.split(\".\")[0] + bw_tail), \n",
      "                                                       os.path.join(public_path, b.split(\".\")[0] + bw_tail))\n",
      "    public_random_rsq_values.append(float(correlation))"
     ],
     "language": "python",
     "metadata": {},
     "outputs": [],
     "prompt_number": "*"
    },
    {
     "cell_type": "code",
     "collapsed": false,
     "input": [
      "public_rsq_values = array(public_rsq_values)\n",
      "public_random_rsq_values = array(public_random_rsq_values)"
     ],
     "language": "python",
     "metadata": {},
     "outputs": [],
     "prompt_number": "*"
    },
    {
     "cell_type": "code",
     "collapsed": false,
     "input": [
      "with Figure(os.path.join(img_dir, \"public_clip_wiggle_correlation.svg\"), figsize=(10,10)) as fig:\n",
      "    ax = fig.add_subplot(1,1,1)\n",
      "    plot_cdf(public_rsq_values, ax=ax, linewidth=3,  label=\"Real\")\n",
      "    plot_cdf(public_random_rsq_values, ax=ax, linewidth=3,  label=\"Random\")\n",
      "    ax.set_title(\"Public CLIP Wiggle Correlation\")\n",
      "    ax.set_ylabel(\"Cumulative Fraction\")\n",
      "    ax.set_xlabel(\"R Squared Values\")\n",
      "    ax.legend()"
     ],
     "language": "python",
     "metadata": {},
     "outputs": [],
     "prompt_number": "*"
    },
    {
     "cell_type": "code",
     "collapsed": false,
     "input": [
      "precentile_25 = percentile(public_rsq_values, 25)\n",
      "print precentile_25, sum(public_random_rsq_values > precentile_25) / float(len(public_random_rsq_values))\n",
      "percentile_50 = percentile(public_rsq_values, 50)\n",
      "print percentile_50, sum(public_random_rsq_values > percentile_50) / float(len(public_random_rsq_values))\n"
     ],
     "language": "python",
     "metadata": {},
     "outputs": [],
     "prompt_number": "*"
    },
    {
     "cell_type": "markdown",
     "metadata": {},
     "source": [
      "Kind of mixing my methods here, these are highly technical, not bioligical replicates.  With apparently a very high amount of reproducablity.\n",
      "\n",
      "Might be able to use a mixture model / logstic regression to classify if technical replicates are reproducable or not"
     ]
    }
   ],
   "metadata": {}
  }
 ]
}