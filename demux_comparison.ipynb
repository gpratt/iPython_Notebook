{
 "metadata": {
  "name": "",
  "signature": "sha256:ff9019de785dd5e804d021254bb86acd6e87bc490d561b9925e952dc5e65fdf7"
 },
 "nbformat": 3,
 "nbformat_minor": 0,
 "worksheets": [
  {
   "cells": [
    {
     "cell_type": "code",
     "collapsed": false,
     "input": [
      "import screed\n",
      "from collections import defaultdict"
     ],
     "language": "python",
     "metadata": {},
     "outputs": [],
     "prompt_number": 1
    },
    {
     "cell_type": "code",
     "collapsed": false,
     "input": [
      "!mkdir -p /nas3/gpratt/projects/eric_iclip_test/data/20150225_encode_CLIP/\n",
      "!scp tscc-login.sdsc.edu:/projects/ps-yeolab/seqdata/20150225_encode_CLIP/*/*R[1-2].fastq.gz /nas3/gpratt/projects/eric_iclip_test/data/20150225_encode_CLIP/"
     ],
     "language": "python",
     "metadata": {},
     "outputs": [
      {
       "output_type": "stream",
       "stream": "stdout",
       "text": [
        "\r",
        "2F-input_S11_L001_R1.fastq.gz                   0%    0     0.0KB/s   --:-- ETA"
       ]
      },
      {
       "output_type": "stream",
       "stream": "stdout",
       "text": [
        "\r",
        "2F-input_S11_L001_R1.fastq.gz                   5%   35MB  34.8MB/s   00:16 ETA"
       ]
      },
      {
       "output_type": "stream",
       "stream": "stdout",
       "text": [
        "\r",
        "2F-input_S11_L001_R1.fastq.gz                  12%   75MB  35.4MB/s   00:15 ETA"
       ]
      },
      {
       "output_type": "stream",
       "stream": "stdout",
       "text": [
        "\r",
        "2F-input_S11_L001_R1.fastq.gz                  17%  109MB  35.2MB/s   00:14 ETA"
       ]
      },
      {
       "output_type": "stream",
       "stream": "stdout",
       "text": [
        "\r",
        "2F-input_S11_L001_R1.fastq.gz                  24%  149MB  35.7MB/s   00:12 ETA"
       ]
      },
      {
       "output_type": "stream",
       "stream": "stdout",
       "text": [
        "\r",
        "2F-input_S11_L001_R1.fastq.gz                  31%  190MB  36.2MB/s   00:11 ETA"
       ]
      },
      {
       "output_type": "stream",
       "stream": "stdout",
       "text": [
        "\r",
        "2F-input_S11_L001_R1.fastq.gz                  37%  230MB  36.6MB/s   00:10 ETA"
       ]
      },
      {
       "output_type": "stream",
       "stream": "stdout",
       "text": [
        "\r",
        "2F-input_S11_L001_R1.fastq.gz                  44%  270MB  36.9MB/s   00:09 ETA"
       ]
      },
      {
       "output_type": "stream",
       "stream": "stdout",
       "text": [
        "\r",
        "2F-input_S11_L001_R1.fastq.gz                  50%  310MB  37.3MB/s   00:08 ETA"
       ]
      },
      {
       "output_type": "stream",
       "stream": "stdout",
       "text": [
        "\r",
        "2F-input_S11_L001_R1.fastq.gz                  56%  344MB  36.9MB/s   00:07 ETA"
       ]
      },
      {
       "output_type": "stream",
       "stream": "stdout",
       "text": [
        "\r",
        "2F-input_S11_L001_R1.fastq.gz                  62%  384MB  37.3MB/s   00:06 ETA"
       ]
      },
      {
       "output_type": "stream",
       "stream": "stdout",
       "text": [
        "\r",
        "2F-input_S11_L001_R1.fastq.gz                  69%  426MB  37.8MB/s   00:04 ETA"
       ]
      },
      {
       "output_type": "stream",
       "stream": "stdout",
       "text": [
        "\r",
        "2F-input_S11_L001_R1.fastq.gz                  76%  469MB  38.2MB/s   00:03 ETA"
       ]
      },
      {
       "output_type": "stream",
       "stream": "stdout",
       "text": [
        "\r",
        "2F-input_S11_L001_R1.fastq.gz                  83%  511MB  38.6MB/s   00:02 ETA"
       ]
      },
      {
       "output_type": "stream",
       "stream": "stdout",
       "text": [
        "\r",
        "2F-input_S11_L001_R1.fastq.gz                  90%  553MB  39.0MB/s   00:01 ETA"
       ]
      },
      {
       "output_type": "stream",
       "stream": "stdout",
       "text": [
        "\r",
        "2F-input_S11_L001_R1.fastq.gz                  97%  595MB  39.3MB/s   00:00 ETA"
       ]
      },
      {
       "output_type": "stream",
       "stream": "stdout",
       "text": [
        "\r",
        "2F-input_S11_L001_R1.fastq.gz                 100%  610MB  40.7MB/s   00:15    \r\n"
       ]
      },
      {
       "output_type": "stream",
       "stream": "stdout",
       "text": [
        "\r",
        "2F-input_S11_L001_R2.fastq.gz                   0%    0     0.0KB/s   --:-- ETA"
       ]
      },
      {
       "output_type": "stream",
       "stream": "stdout",
       "text": [
        "\r",
        "2F-input_S11_L001_R2.fastq.gz                   4%   30MB  30.1MB/s   00:19 ETA"
       ]
      },
      {
       "output_type": "stream",
       "stream": "stdout",
       "text": [
        "\r",
        "2F-input_S11_L001_R2.fastq.gz                  11%   70MB  31.0MB/s   00:17 ETA"
       ]
      },
      {
       "output_type": "stream",
       "stream": "stdout",
       "text": [
        "\r",
        "2F-input_S11_L001_R2.fastq.gz                  17%  109MB  31.9MB/s   00:16 ETA"
       ]
      },
      {
       "output_type": "stream",
       "stream": "stdout",
       "text": [
        "\r",
        "2F-input_S11_L001_R2.fastq.gz                  23%  149MB  32.7MB/s   00:14 ETA"
       ]
      },
      {
       "output_type": "stream",
       "stream": "stdout",
       "text": [
        "\r",
        "2F-input_S11_L001_R2.fastq.gz                  30%  190MB  33.5MB/s   00:12 ETA"
       ]
      },
      {
       "output_type": "stream",
       "stream": "stdout",
       "text": [
        "\r",
        "2F-input_S11_L001_R2.fastq.gz                  36%  230MB  34.2MB/s   00:11 ETA"
       ]
      },
      {
       "output_type": "stream",
       "stream": "stdout",
       "text": [
        "\r",
        "2F-input_S11_L001_R2.fastq.gz                  43%  271MB  34.9MB/s   00:10 ETA"
       ]
      },
      {
       "output_type": "stream",
       "stream": "stdout",
       "text": [
        "\r",
        "2F-input_S11_L001_R2.fastq.gz                  50%  312MB  35.5MB/s   00:08 ETA"
       ]
      },
      {
       "output_type": "stream",
       "stream": "stdout",
       "text": [
        "\r",
        "2F-input_S11_L001_R2.fastq.gz                  56%  353MB  36.0MB/s   00:07 ETA"
       ]
      },
      {
       "output_type": "stream",
       "stream": "stdout",
       "text": [
        "\r",
        "2F-input_S11_L001_R2.fastq.gz                  63%  395MB  36.6MB/s   00:06 ETA"
       ]
      },
      {
       "output_type": "stream",
       "stream": "stdout",
       "text": [
        "\r",
        "2F-input_S11_L001_R2.fastq.gz                  70%  437MB  37.1MB/s   00:05 ETA"
       ]
      },
      {
       "output_type": "stream",
       "stream": "stdout",
       "text": [
        "\r",
        "2F-input_S11_L001_R2.fastq.gz                  76%  478MB  37.6MB/s   00:03 ETA"
       ]
      },
      {
       "output_type": "stream",
       "stream": "stdout",
       "text": [
        "\r",
        "2F-input_S11_L001_R2.fastq.gz                  83%  520MB  38.0MB/s   00:02 ETA"
       ]
      },
      {
       "output_type": "stream",
       "stream": "stdout",
       "text": [
        "\r",
        "2F-input_S11_L001_R2.fastq.gz                  90%  562MB  38.4MB/s   00:01 ETA"
       ]
      },
      {
       "output_type": "stream",
       "stream": "stdout",
       "text": [
        "\r",
        "2F-input_S11_L001_R2.fastq.gz                  96%  604MB  38.7MB/s   00:00 ETA"
       ]
      },
      {
       "output_type": "stream",
       "stream": "stdout",
       "text": [
        "\r",
        "2F-input_S11_L001_R2.fastq.gz                 100%  623MB  41.6MB/s   00:15    \r\n"
       ]
      },
      {
       "output_type": "stream",
       "stream": "stdout",
       "text": [
        "\r",
        "2F-V5_S10_L001_R1.fastq.gz                      0%    0     0.0KB/s   --:-- ETA"
       ]
      },
      {
       "output_type": "stream",
       "stream": "stdout",
       "text": [
        "\r",
        "2F-V5_S10_L001_R1.fastq.gz                     13%   36MB  36.0MB/s   00:06 ETA"
       ]
      },
      {
       "output_type": "stream",
       "stream": "stdout",
       "text": [
        "\r",
        "2F-V5_S10_L001_R1.fastq.gz                     29%   78MB  36.6MB/s   00:05 ETA"
       ]
      },
      {
       "output_type": "stream",
       "stream": "stdout",
       "text": [
        "\r",
        "2F-V5_S10_L001_R1.fastq.gz                     45%  121MB  37.2MB/s   00:03 ETA"
       ]
      },
      {
       "output_type": "stream",
       "stream": "stdout",
       "text": [
        "\r",
        "2F-V5_S10_L001_R1.fastq.gz                     62%  163MB  37.7MB/s   00:02 ETA"
       ]
      },
      {
       "output_type": "stream",
       "stream": "stdout",
       "text": [
        "\r",
        "2F-V5_S10_L001_R1.fastq.gz                     78%  205MB  38.2MB/s   00:01 ETA"
       ]
      },
      {
       "output_type": "stream",
       "stream": "stdout",
       "text": [
        "\r",
        "2F-V5_S10_L001_R1.fastq.gz                     94%  248MB  38.6MB/s   00:00 ETA"
       ]
      },
      {
       "output_type": "stream",
       "stream": "stdout",
       "text": [
        "\r",
        "2F-V5_S10_L001_R1.fastq.gz                    100%  262MB  43.7MB/s   00:06    \r\n"
       ]
      },
      {
       "output_type": "stream",
       "stream": "stdout",
       "text": [
        "\r",
        "2F-V5_S10_L001_R2.fastq.gz                      0%    0     0.0KB/s   --:-- ETA"
       ]
      },
      {
       "output_type": "stream",
       "stream": "stdout",
       "text": [
        "\r",
        "2F-V5_S10_L001_R2.fastq.gz                     14%   39MB  38.9MB/s   00:06 ETA"
       ]
      },
      {
       "output_type": "stream",
       "stream": "stdout",
       "text": [
        "\r",
        "2F-V5_S10_L001_R2.fastq.gz                     24%   67MB  37.8MB/s   00:05 ETA"
       ]
      },
      {
       "output_type": "stream",
       "stream": "stdout",
       "text": [
        "\r",
        "2F-V5_S10_L001_R2.fastq.gz                     38%  107MB  38.0MB/s   00:04 ETA"
       ]
      },
      {
       "output_type": "stream",
       "stream": "stdout",
       "text": [
        "\r",
        "2F-V5_S10_L001_R2.fastq.gz                     51%  140MB  37.6MB/s   00:03 ETA"
       ]
      },
      {
       "output_type": "stream",
       "stream": "stdout",
       "text": [
        "\r",
        "2F-V5_S10_L001_R2.fastq.gz                     65%  180MB  37.8MB/s   00:02 ETA"
       ]
      },
      {
       "output_type": "stream",
       "stream": "stdout",
       "text": [
        "\r",
        "2F-V5_S10_L001_R2.fastq.gz                     80%  221MB  38.1MB/s   00:01 ETA"
       ]
      },
      {
       "output_type": "stream",
       "stream": "stdout",
       "text": [
        "\r",
        "2F-V5_S10_L001_R2.fastq.gz                     94%  260MB  38.2MB/s   00:00 ETA"
       ]
      },
      {
       "output_type": "stream",
       "stream": "stdout",
       "text": [
        "\r",
        "2F-V5_S10_L001_R2.fastq.gz                    100%  274MB  39.2MB/s   00:07    \r\n"
       ]
      },
      {
       "output_type": "stream",
       "stream": "stdout",
       "text": [
        "\r",
        "FOX2gel-pool1_S1_L001_R1.fastq.gz               0%    0     0.0KB/s   --:-- ETA"
       ]
      },
      {
       "output_type": "stream",
       "stream": "stdout",
       "text": [
        "\r",
        "FOX2gel-pool1_S1_L001_R1.fastq.gz               5%   30MB  30.2MB/s   00:18 ETA"
       ]
      },
      {
       "output_type": "stream",
       "stream": "stdout",
       "text": [
        "\r",
        "FOX2gel-pool1_S1_L001_R1.fastq.gz              11%   70MB  31.2MB/s   00:16 ETA"
       ]
      },
      {
       "output_type": "stream",
       "stream": "stdout",
       "text": [
        "\r",
        "FOX2gel-pool1_S1_L001_R1.fastq.gz              18%  110MB  32.1MB/s   00:14 ETA"
       ]
      },
      {
       "output_type": "stream",
       "stream": "stdout",
       "text": [
        "\r",
        "FOX2gel-pool1_S1_L001_R1.fastq.gz              25%  151MB  32.9MB/s   00:13 ETA"
       ]
      },
      {
       "output_type": "stream",
       "stream": "stdout",
       "text": [
        "\r",
        "FOX2gel-pool1_S1_L001_R1.fastq.gz              32%  191MB  33.6MB/s   00:11 ETA"
       ]
      },
      {
       "output_type": "stream",
       "stream": "stdout",
       "text": [
        "\r",
        "FOX2gel-pool1_S1_L001_R1.fastq.gz              38%  224MB  33.6MB/s   00:10 ETA"
       ]
      },
      {
       "output_type": "stream",
       "stream": "stdout",
       "text": [
        "\r",
        "FOX2gel-pool1_S1_L001_R1.fastq.gz              44%  265MB  34.3MB/s   00:09 ETA"
       ]
      },
      {
       "output_type": "stream",
       "stream": "stdout",
       "text": [
        "\r",
        "FOX2gel-pool1_S1_L001_R1.fastq.gz              51%  306MB  35.0MB/s   00:08 ETA"
       ]
      },
      {
       "output_type": "stream",
       "stream": "stdout",
       "text": [
        "\r",
        "FOX2gel-pool1_S1_L001_R1.fastq.gz              59%  348MB  35.7MB/s   00:06 ETA"
       ]
      },
      {
       "output_type": "stream",
       "stream": "stdout",
       "text": [
        "\r",
        "FOX2gel-pool1_S1_L001_R1.fastq.gz              66%  390MB  36.4MB/s   00:05 ETA"
       ]
      },
      {
       "output_type": "stream",
       "stream": "stdout",
       "text": [
        "\r",
        "FOX2gel-pool1_S1_L001_R1.fastq.gz              73%  433MB  36.9MB/s   00:04 ETA"
       ]
      },
      {
       "output_type": "stream",
       "stream": "stdout",
       "text": [
        "\r",
        "FOX2gel-pool1_S1_L001_R1.fastq.gz              80%  475MB  37.5MB/s   00:03 ETA"
       ]
      },
      {
       "output_type": "stream",
       "stream": "stdout",
       "text": [
        "\r",
        "FOX2gel-pool1_S1_L001_R1.fastq.gz              87%  517MB  38.0MB/s   00:01 ETA"
       ]
      },
      {
       "output_type": "stream",
       "stream": "stdout",
       "text": [
        "\r",
        "FOX2gel-pool1_S1_L001_R1.fastq.gz              95%  559MB  38.4MB/s   00:00 ETA"
       ]
      },
      {
       "output_type": "stream",
       "stream": "stdout",
       "text": [
        "\r",
        "FOX2gel-pool1_S1_L001_R1.fastq.gz             100%  589MB  39.2MB/s   00:15    \r\n"
       ]
      },
      {
       "output_type": "stream",
       "stream": "stdout",
       "text": [
        "\r",
        "FOX2gel-pool1_S1_L001_R2.fastq.gz               0%    0     0.0KB/s   --:-- ETA"
       ]
      },
      {
       "output_type": "stream",
       "stream": "stdout",
       "text": [
        "\r",
        "FOX2gel-pool1_S1_L001_R2.fastq.gz               6%   38MB  37.5MB/s   00:15 ETA"
       ]
      },
      {
       "output_type": "stream",
       "stream": "stdout",
       "text": [
        "\r",
        "FOX2gel-pool1_S1_L001_R2.fastq.gz              13%   80MB  38.0MB/s   00:13 ETA"
       ]
      },
      {
       "output_type": "stream",
       "stream": "stdout",
       "text": [
        "\r",
        "FOX2gel-pool1_S1_L001_R2.fastq.gz              19%  121MB  38.3MB/s   00:12 ETA"
       ]
      },
      {
       "output_type": "stream",
       "stream": "stdout",
       "text": [
        "\r",
        "FOX2gel-pool1_S1_L001_R2.fastq.gz              26%  163MB  38.7MB/s   00:11 ETA"
       ]
      },
      {
       "output_type": "stream",
       "stream": "stdout",
       "text": [
        "\r",
        "FOX2gel-pool1_S1_L001_R2.fastq.gz              32%  198MB  38.3MB/s   00:10 ETA"
       ]
      },
      {
       "output_type": "stream",
       "stream": "stdout",
       "text": [
        "\r",
        "FOX2gel-pool1_S1_L001_R2.fastq.gz              39%  241MB  38.8MB/s   00:09 ETA"
       ]
      },
      {
       "output_type": "stream",
       "stream": "stdout",
       "text": [
        "\r",
        "FOX2gel-pool1_S1_L001_R2.fastq.gz              46%  284MB  39.2MB/s   00:08 ETA"
       ]
      },
      {
       "output_type": "stream",
       "stream": "stdout",
       "text": [
        "\r",
        "FOX2gel-pool1_S1_L001_R2.fastq.gz              53%  328MB  39.6MB/s   00:07 ETA"
       ]
      },
      {
       "output_type": "stream",
       "stream": "stdout",
       "text": [
        "\r",
        "FOX2gel-pool1_S1_L001_R2.fastq.gz              60%  370MB  40.0MB/s   00:05 ETA"
       ]
      },
      {
       "output_type": "stream",
       "stream": "stdout",
       "text": [
        "\r",
        "FOX2gel-pool1_S1_L001_R2.fastq.gz              67%  412MB  40.1MB/s   00:04 ETA"
       ]
      },
      {
       "output_type": "stream",
       "stream": "stdout",
       "text": [
        "\r",
        "FOX2gel-pool1_S1_L001_R2.fastq.gz              74%  454MB  40.3MB/s   00:03 ETA"
       ]
      },
      {
       "output_type": "stream",
       "stream": "stdout",
       "text": [
        "\r",
        "FOX2gel-pool1_S1_L001_R2.fastq.gz              81%  496MB  40.5MB/s   00:02 ETA"
       ]
      },
      {
       "output_type": "stream",
       "stream": "stdout",
       "text": [
        "\r",
        "FOX2gel-pool1_S1_L001_R2.fastq.gz              88%  539MB  40.7MB/s   00:01 ETA"
       ]
      },
      {
       "output_type": "stream",
       "stream": "stdout",
       "text": [
        "\r",
        "FOX2gel-pool1_S1_L001_R2.fastq.gz              95%  581MB  40.9MB/s   00:00 ETA"
       ]
      },
      {
       "output_type": "stream",
       "stream": "stdout",
       "text": [
        "\r",
        "FOX2gel-pool1_S1_L001_R2.fastq.gz             100%  610MB  40.7MB/s   00:15    \r\n"
       ]
      },
      {
       "output_type": "stream",
       "stream": "stdout",
       "text": [
        "\r",
        "FOX2gel-pool2_S2_L001_R1.fastq.gz               0%    0     0.0KB/s   --:-- ETA"
       ]
      },
      {
       "output_type": "stream",
       "stream": "stdout",
       "text": [
        "\r",
        "FOX2gel-pool2_S2_L001_R1.fastq.gz               8%   35MB  35.1MB/s   00:10 ETA"
       ]
      },
      {
       "output_type": "stream",
       "stream": "stdout",
       "text": [
        "\r",
        "FOX2gel-pool2_S2_L001_R1.fastq.gz              18%   74MB  35.5MB/s   00:09 ETA"
       ]
      },
      {
       "output_type": "stream",
       "stream": "stdout",
       "text": [
        "\r",
        "FOX2gel-pool2_S2_L001_R1.fastq.gz              28%  114MB  35.9MB/s   00:08 ETA"
       ]
      },
      {
       "output_type": "stream",
       "stream": "stdout",
       "text": [
        "\r",
        "FOX2gel-pool2_S2_L001_R1.fastq.gz              37%  153MB  36.2MB/s   00:06 ETA"
       ]
      },
      {
       "output_type": "stream",
       "stream": "stdout",
       "text": [
        "\r",
        "FOX2gel-pool2_S2_L001_R1.fastq.gz              47%  193MB  36.6MB/s   00:05 ETA"
       ]
      },
      {
       "output_type": "stream",
       "stream": "stdout",
       "text": [
        "\r",
        "FOX2gel-pool2_S2_L001_R1.fastq.gz              57%  232MB  36.8MB/s   00:04 ETA"
       ]
      },
      {
       "output_type": "stream",
       "stream": "stdout",
       "text": [
        "\r",
        "FOX2gel-pool2_S2_L001_R1.fastq.gz              67%  271MB  37.1MB/s   00:03 ETA"
       ]
      },
      {
       "output_type": "stream",
       "stream": "stdout",
       "text": [
        "\r",
        "FOX2gel-pool2_S2_L001_R1.fastq.gz              76%  311MB  37.3MB/s   00:02 ETA"
       ]
      },
      {
       "output_type": "stream",
       "stream": "stdout",
       "text": [
        "\r",
        "FOX2gel-pool2_S2_L001_R1.fastq.gz              86%  350MB  37.5MB/s   00:01 ETA"
       ]
      },
      {
       "output_type": "stream",
       "stream": "stdout",
       "text": [
        "\r",
        "FOX2gel-pool2_S2_L001_R1.fastq.gz              96%  389MB  37.7MB/s   00:00 ETA"
       ]
      },
      {
       "output_type": "stream",
       "stream": "stdout",
       "text": [
        "\r",
        "FOX2gel-pool2_S2_L001_R1.fastq.gz             100%  404MB  40.4MB/s   00:10    \r\n"
       ]
      },
      {
       "output_type": "stream",
       "stream": "stdout",
       "text": [
        "\r",
        "FOX2gel-pool2_S2_L001_R2.fastq.gz               0%    0     0.0KB/s   --:-- ETA"
       ]
      },
      {
       "output_type": "stream",
       "stream": "stdout",
       "text": [
        "\r",
        "FOX2gel-pool2_S2_L001_R2.fastq.gz               9%   40MB  39.9MB/s   00:09 ETA"
       ]
      },
      {
       "output_type": "stream",
       "stream": "stdout",
       "text": [
        "\r",
        "FOX2gel-pool2_S2_L001_R2.fastq.gz              19%   82MB  40.1MB/s   00:08 ETA"
       ]
      },
      {
       "output_type": "stream",
       "stream": "stdout",
       "text": [
        "\r",
        "FOX2gel-pool2_S2_L001_R2.fastq.gz              29%  123MB  40.3MB/s   00:07 ETA"
       ]
      },
      {
       "output_type": "stream",
       "stream": "stdout",
       "text": [
        "\r",
        "FOX2gel-pool2_S2_L001_R2.fastq.gz              39%  165MB  40.4MB/s   00:06 ETA"
       ]
      },
      {
       "output_type": "stream",
       "stream": "stdout",
       "text": [
        "\r",
        "FOX2gel-pool2_S2_L001_R2.fastq.gz              49%  208MB  40.6MB/s   00:05 ETA"
       ]
      },
      {
       "output_type": "stream",
       "stream": "stdout",
       "text": [
        "\r",
        "FOX2gel-pool2_S2_L001_R2.fastq.gz              57%  243MB  40.1MB/s   00:04 ETA"
       ]
      },
      {
       "output_type": "stream",
       "stream": "stdout",
       "text": [
        "\r",
        "FOX2gel-pool2_S2_L001_R2.fastq.gz              66%  283MB  40.1MB/s   00:03 ETA"
       ]
      },
      {
       "output_type": "stream",
       "stream": "stdout",
       "text": [
        "\r",
        "FOX2gel-pool2_S2_L001_R2.fastq.gz              76%  322MB  40.0MB/s   00:02 ETA"
       ]
      },
      {
       "output_type": "stream",
       "stream": "stdout",
       "text": [
        "\r",
        "FOX2gel-pool2_S2_L001_R2.fastq.gz              85%  362MB  40.0MB/s   00:01 ETA"
       ]
      },
      {
       "output_type": "stream",
       "stream": "stdout",
       "text": [
        "\r",
        "FOX2gel-pool2_S2_L001_R2.fastq.gz              93%  396MB  39.4MB/s   00:00 ETA"
       ]
      },
      {
       "output_type": "stream",
       "stream": "stdout",
       "text": [
        "\r",
        "FOX2gel-pool2_S2_L001_R2.fastq.gz             100%  423MB  42.4MB/s   00:10    \r\n"
       ]
      },
      {
       "output_type": "stream",
       "stream": "stdout",
       "text": [
        "\r",
        "FOX2-H1ES_S9_L001_R1.fastq.gz                   0%    0     0.0KB/s   --:-- ETA"
       ]
      },
      {
       "output_type": "stream",
       "stream": "stdout",
       "text": [
        "\r",
        "FOX2-H1ES_S9_L001_R1.fastq.gz                   7%   35MB  35.2MB/s   00:12 ETA"
       ]
      },
      {
       "output_type": "stream",
       "stream": "stdout",
       "text": [
        "\r",
        "FOX2-H1ES_S9_L001_R1.fastq.gz                  15%   75MB  35.7MB/s   00:11 ETA"
       ]
      },
      {
       "output_type": "stream",
       "stream": "stdout",
       "text": [
        "\r",
        "FOX2-H1ES_S9_L001_R1.fastq.gz                  24%  115MB  36.1MB/s   00:09 ETA"
       ]
      },
      {
       "output_type": "stream",
       "stream": "stdout",
       "text": [
        "\r",
        "FOX2-H1ES_S9_L001_R1.fastq.gz                  32%  155MB  36.4MB/s   00:08 ETA"
       ]
      },
      {
       "output_type": "stream",
       "stream": "stdout",
       "text": [
        "\r",
        "FOX2-H1ES_S9_L001_R1.fastq.gz                  39%  188MB  36.2MB/s   00:07 ETA"
       ]
      },
      {
       "output_type": "stream",
       "stream": "stdout",
       "text": [
        "\r",
        "FOX2-H1ES_S9_L001_R1.fastq.gz                  48%  228MB  36.5MB/s   00:06 ETA"
       ]
      },
      {
       "output_type": "stream",
       "stream": "stdout",
       "text": [
        "\r",
        "FOX2-H1ES_S9_L001_R1.fastq.gz                  56%  268MB  36.9MB/s   00:05 ETA"
       ]
      },
      {
       "output_type": "stream",
       "stream": "stdout",
       "text": [
        "\r",
        "FOX2-H1ES_S9_L001_R1.fastq.gz                  63%  302MB  36.5MB/s   00:04 ETA"
       ]
      },
      {
       "output_type": "stream",
       "stream": "stdout",
       "text": [
        "\r",
        "FOX2-H1ES_S9_L001_R1.fastq.gz                  71%  341MB  36.9MB/s   00:03 ETA"
       ]
      },
      {
       "output_type": "stream",
       "stream": "stdout",
       "text": [
        "\r",
        "FOX2-H1ES_S9_L001_R1.fastq.gz                  80%  381MB  37.2MB/s   00:02 ETA"
       ]
      },
      {
       "output_type": "stream",
       "stream": "stdout",
       "text": [
        "\r",
        "FOX2-H1ES_S9_L001_R1.fastq.gz                  88%  421MB  37.4MB/s   00:01 ETA"
       ]
      },
      {
       "output_type": "stream",
       "stream": "stdout",
       "text": [
        "\r",
        "FOX2-H1ES_S9_L001_R1.fastq.gz                  97%  461MB  37.7MB/s   00:00 ETA"
       ]
      },
      {
       "output_type": "stream",
       "stream": "stdout",
       "text": [
        "\r",
        "FOX2-H1ES_S9_L001_R1.fastq.gz                 100%  475MB  36.5MB/s   00:13    \r\n"
       ]
      },
      {
       "output_type": "stream",
       "stream": "stdout",
       "text": [
        "\r",
        "FOX2-H1ES_S9_L001_R2.fastq.gz                   0%    0     0.0KB/s   --:-- ETA"
       ]
      },
      {
       "output_type": "stream",
       "stream": "stdout",
       "text": [
        "\r",
        "FOX2-H1ES_S9_L001_R2.fastq.gz                   8%   40MB  39.7MB/s   00:11 ETA"
       ]
      },
      {
       "output_type": "stream",
       "stream": "stdout",
       "text": [
        "\r",
        "FOX2-H1ES_S9_L001_R2.fastq.gz                  16%   82MB  39.9MB/s   00:10 ETA"
       ]
      },
      {
       "output_type": "stream",
       "stream": "stdout",
       "text": [
        "\r",
        "FOX2-H1ES_S9_L001_R2.fastq.gz                  24%  118MB  39.5MB/s   00:09 ETA"
       ]
      },
      {
       "output_type": "stream",
       "stream": "stdout",
       "text": [
        "\r",
        "FOX2-H1ES_S9_L001_R2.fastq.gz                  32%  161MB  39.9MB/s   00:08 ETA"
       ]
      },
      {
       "output_type": "stream",
       "stream": "stdout",
       "text": [
        "\r",
        "FOX2-H1ES_S9_L001_R2.fastq.gz                  40%  197MB  39.5MB/s   00:07 ETA"
       ]
      },
      {
       "output_type": "stream",
       "stream": "stdout",
       "text": [
        "\r",
        "FOX2-H1ES_S9_L001_R2.fastq.gz                  48%  240MB  39.9MB/s   00:06 ETA"
       ]
      },
      {
       "output_type": "stream",
       "stream": "stdout",
       "text": [
        "\r",
        "FOX2-H1ES_S9_L001_R2.fastq.gz                  57%  283MB  40.2MB/s   00:05 ETA"
       ]
      },
      {
       "output_type": "stream",
       "stream": "stdout",
       "text": [
        "\r",
        "FOX2-H1ES_S9_L001_R2.fastq.gz                  66%  326MB  40.5MB/s   00:04 ETA"
       ]
      },
      {
       "output_type": "stream",
       "stream": "stdout",
       "text": [
        "\r",
        "FOX2-H1ES_S9_L001_R2.fastq.gz                  75%  369MB  40.8MB/s   00:02 ETA"
       ]
      },
      {
       "output_type": "stream",
       "stream": "stdout",
       "text": [
        "\r",
        "FOX2-H1ES_S9_L001_R2.fastq.gz                  84%  413MB  41.0MB/s   00:01 ETA"
       ]
      },
      {
       "output_type": "stream",
       "stream": "stdout",
       "text": [
        "\r",
        "FOX2-H1ES_S9_L001_R2.fastq.gz                  93%  456MB  41.2MB/s   00:00 ETA"
       ]
      },
      {
       "output_type": "stream",
       "stream": "stdout",
       "text": [
        "\r",
        "FOX2-H1ES_S9_L001_R2.fastq.gz                 100%  490MB  40.8MB/s   00:12    \r\n"
       ]
      },
      {
       "output_type": "stream",
       "stream": "stdout",
       "text": [
        "\r",
        "FOX2NHS-pool2_S5_L001_R1.fastq.gz               0%    0     0.0KB/s   --:-- ETA"
       ]
      },
      {
       "output_type": "stream",
       "stream": "stdout",
       "text": [
        "\r",
        "FOX2NHS-pool2_S5_L001_R1.fastq.gz              12%   38MB  37.9MB/s   00:06 ETA"
       ]
      },
      {
       "output_type": "stream",
       "stream": "stdout",
       "text": [
        "\r",
        "FOX2NHS-pool2_S5_L001_R1.fastq.gz              27%   80MB  38.3MB/s   00:05 ETA"
       ]
      },
      {
       "output_type": "stream",
       "stream": "stdout",
       "text": [
        "\r",
        "FOX2NHS-pool2_S5_L001_R1.fastq.gz              41%  122MB  38.7MB/s   00:04 ETA"
       ]
      },
      {
       "output_type": "stream",
       "stream": "stdout",
       "text": [
        "\r",
        "FOX2NHS-pool2_S5_L001_R1.fastq.gz              55%  164MB  39.0MB/s   00:03 ETA"
       ]
      },
      {
       "output_type": "stream",
       "stream": "stdout",
       "text": [
        "\r",
        "FOX2NHS-pool2_S5_L001_R1.fastq.gz              69%  205MB  39.2MB/s   00:02 ETA"
       ]
      },
      {
       "output_type": "stream",
       "stream": "stdout",
       "text": [
        "\r",
        "FOX2NHS-pool2_S5_L001_R1.fastq.gz              81%  240MB  38.8MB/s   00:01 ETA"
       ]
      },
      {
       "output_type": "stream",
       "stream": "stdout",
       "text": [
        "\r",
        "FOX2NHS-pool2_S5_L001_R1.fastq.gz              94%  279MB  38.8MB/s   00:00 ETA"
       ]
      },
      {
       "output_type": "stream",
       "stream": "stdout",
       "text": [
        "\r",
        "FOX2NHS-pool2_S5_L001_R1.fastq.gz             100%  296MB  37.0MB/s   00:08    \r\n"
       ]
      },
      {
       "output_type": "stream",
       "stream": "stdout",
       "text": [
        "\r",
        "FOX2NHS-pool2_S5_L001_R2.fastq.gz               0%    0     0.0KB/s   --:-- ETA"
       ]
      },
      {
       "output_type": "stream",
       "stream": "stdout",
       "text": [
        "\r",
        "FOX2NHS-pool2_S5_L001_R2.fastq.gz              11%   34MB  34.1MB/s   00:07 ETA"
       ]
      },
      {
       "output_type": "stream",
       "stream": "stdout",
       "text": [
        "\r",
        "FOX2NHS-pool2_S5_L001_R2.fastq.gz              24%   76MB  34.8MB/s   00:06 ETA"
       ]
      },
      {
       "output_type": "stream",
       "stream": "stdout",
       "text": [
        "\r",
        "FOX2NHS-pool2_S5_L001_R2.fastq.gz              37%  116MB  35.4MB/s   00:05 ETA"
       ]
      },
      {
       "output_type": "stream",
       "stream": "stdout",
       "text": [
        "\r",
        "FOX2NHS-pool2_S5_L001_R2.fastq.gz              50%  155MB  35.8MB/s   00:04 ETA"
       ]
      },
      {
       "output_type": "stream",
       "stream": "stdout",
       "text": [
        "\r",
        "FOX2NHS-pool2_S5_L001_R2.fastq.gz              63%  195MB  36.1MB/s   00:03 ETA"
       ]
      },
      {
       "output_type": "stream",
       "stream": "stdout",
       "text": [
        "\r",
        "FOX2NHS-pool2_S5_L001_R2.fastq.gz              76%  234MB  36.5MB/s   00:01 ETA"
       ]
      },
      {
       "output_type": "stream",
       "stream": "stdout",
       "text": [
        "\r",
        "FOX2NHS-pool2_S5_L001_R2.fastq.gz              89%  273MB  36.7MB/s   00:00 ETA"
       ]
      },
      {
       "output_type": "stream",
       "stream": "stdout",
       "text": [
        "\r",
        "FOX2NHS-pool2_S5_L001_R2.fastq.gz             100%  306MB  43.8MB/s   00:07    \r\n"
       ]
      },
      {
       "output_type": "stream",
       "stream": "stdout",
       "text": [
        "\r",
        "FOX2-NPC_S8_L001_R1.fastq.gz                    0%    0     0.0KB/s   --:-- ETA"
       ]
      },
      {
       "output_type": "stream",
       "stream": "stdout",
       "text": [
        "\r",
        "FOX2-NPC_S8_L001_R1.fastq.gz                   10%   38MB  38.4MB/s   00:08 ETA"
       ]
      },
      {
       "output_type": "stream",
       "stream": "stdout",
       "text": [
        "\r",
        "FOX2-NPC_S8_L001_R1.fastq.gz                   21%   80MB  38.7MB/s   00:07 ETA"
       ]
      },
      {
       "output_type": "stream",
       "stream": "stdout",
       "text": [
        "\r",
        "FOX2-NPC_S8_L001_R1.fastq.gz                   30%  114MB  38.2MB/s   00:06 ETA"
       ]
      },
      {
       "output_type": "stream",
       "stream": "stdout",
       "text": [
        "\r",
        "FOX2-NPC_S8_L001_R1.fastq.gz                   41%  155MB  38.5MB/s   00:05 ETA"
       ]
      },
      {
       "output_type": "stream",
       "stream": "stdout",
       "text": [
        "\r",
        "FOX2-NPC_S8_L001_R1.fastq.gz                   52%  197MB  38.8MB/s   00:04 ETA"
       ]
      },
      {
       "output_type": "stream",
       "stream": "stdout",
       "text": [
        "\r",
        "FOX2-NPC_S8_L001_R1.fastq.gz                   64%  239MB  39.2MB/s   00:03 ETA"
       ]
      },
      {
       "output_type": "stream",
       "stream": "stdout",
       "text": [
        "\r",
        "FOX2-NPC_S8_L001_R1.fastq.gz                   75%  281MB  39.5MB/s   00:02 ETA"
       ]
      },
      {
       "output_type": "stream",
       "stream": "stdout",
       "text": [
        "\r",
        "FOX2-NPC_S8_L001_R1.fastq.gz                   86%  324MB  39.8MB/s   00:01 ETA"
       ]
      },
      {
       "output_type": "stream",
       "stream": "stdout",
       "text": [
        "\r",
        "FOX2-NPC_S8_L001_R1.fastq.gz                   98%  366MB  40.0MB/s   00:00 ETA"
       ]
      },
      {
       "output_type": "stream",
       "stream": "stdout",
       "text": [
        "\r",
        "FOX2-NPC_S8_L001_R1.fastq.gz                  100%  372MB  37.2MB/s   00:10    \r\n"
       ]
      },
      {
       "output_type": "stream",
       "stream": "stdout",
       "text": [
        "\r",
        "FOX2-NPC_S8_L001_R2.fastq.gz                    0%    0     0.0KB/s   --:-- ETA"
       ]
      },
      {
       "output_type": "stream",
       "stream": "stdout",
       "text": [
        "\r",
        "FOX2-NPC_S8_L001_R2.fastq.gz                    9%   39MB  38.6MB/s   00:09 ETA"
       ]
      },
      {
       "output_type": "stream",
       "stream": "stdout",
       "text": [
        "\r",
        "FOX2-NPC_S8_L001_R2.fastq.gz                   21%   82MB  39.1MB/s   00:07 ETA"
       ]
      },
      {
       "output_type": "stream",
       "stream": "stdout",
       "text": [
        "\r",
        "FOX2-NPC_S8_L001_R2.fastq.gz                   32%  125MB  39.5MB/s   00:06 ETA"
       ]
      },
      {
       "output_type": "stream",
       "stream": "stdout",
       "text": [
        "\r",
        "FOX2-NPC_S8_L001_R2.fastq.gz                   43%  167MB  39.7MB/s   00:05 ETA"
       ]
      },
      {
       "output_type": "stream",
       "stream": "stdout",
       "text": [
        "\r",
        "FOX2-NPC_S8_L001_R2.fastq.gz                   53%  209MB  40.0MB/s   00:04 ETA"
       ]
      },
      {
       "output_type": "stream",
       "stream": "stdout",
       "text": [
        "\r",
        "FOX2-NPC_S8_L001_R2.fastq.gz                   64%  251MB  40.2MB/s   00:03 ETA"
       ]
      },
      {
       "output_type": "stream",
       "stream": "stdout",
       "text": [
        "\r",
        "FOX2-NPC_S8_L001_R2.fastq.gz                   75%  293MB  40.4MB/s   00:02 ETA"
       ]
      },
      {
       "output_type": "stream",
       "stream": "stdout",
       "text": [
        "\r",
        "FOX2-NPC_S8_L001_R2.fastq.gz                   86%  336MB  40.6MB/s   00:01 ETA"
       ]
      },
      {
       "output_type": "stream",
       "stream": "stdout",
       "text": [
        "\r",
        "FOX2-NPC_S8_L001_R2.fastq.gz                   97%  378MB  40.7MB/s   00:00 ETA"
       ]
      },
      {
       "output_type": "stream",
       "stream": "stdout",
       "text": [
        "\r",
        "FOX2-NPC_S8_L001_R2.fastq.gz                  100%  387MB  43.0MB/s   00:09    \r\n"
       ]
      },
      {
       "output_type": "stream",
       "stream": "stdout",
       "text": [
        "\r",
        "SLBPgel-pool1_S3_L001_R1.fastq.gz               0%    0     0.0KB/s   --:-- ETA"
       ]
      },
      {
       "output_type": "stream",
       "stream": "stdout",
       "text": [
        "\r",
        "SLBPgel-pool1_S3_L001_R1.fastq.gz              10%   32MB  31.8MB/s   00:08 ETA"
       ]
      },
      {
       "output_type": "stream",
       "stream": "stdout",
       "text": [
        "\r",
        "SLBPgel-pool1_S3_L001_R1.fastq.gz              23%   71MB  32.5MB/s   00:06 ETA"
       ]
      },
      {
       "output_type": "stream",
       "stream": "stdout",
       "text": [
        "\r",
        "SLBPgel-pool1_S3_L001_R1.fastq.gz              37%  111MB  33.2MB/s   00:05 ETA"
       ]
      },
      {
       "output_type": "stream",
       "stream": "stdout",
       "text": [
        "\r",
        "SLBPgel-pool1_S3_L001_R1.fastq.gz              50%  150MB  33.9MB/s   00:04 ETA"
       ]
      },
      {
       "output_type": "stream",
       "stream": "stdout",
       "text": [
        "\r",
        "SLBPgel-pool1_S3_L001_R1.fastq.gz              63%  190MB  34.4MB/s   00:03 ETA"
       ]
      },
      {
       "output_type": "stream",
       "stream": "stdout",
       "text": [
        "\r",
        "SLBPgel-pool1_S3_L001_R1.fastq.gz              76%  229MB  34.9MB/s   00:01 ETA"
       ]
      },
      {
       "output_type": "stream",
       "stream": "stdout",
       "text": [
        "\r",
        "SLBPgel-pool1_S3_L001_R1.fastq.gz              90%  268MB  35.4MB/s   00:00 ETA"
       ]
      },
      {
       "output_type": "stream",
       "stream": "stdout",
       "text": [
        "\r",
        "SLBPgel-pool1_S3_L001_R1.fastq.gz             100%  298MB  37.2MB/s   00:08    \r\n"
       ]
      },
      {
       "output_type": "stream",
       "stream": "stdout",
       "text": [
        "\r",
        "SLBPgel-pool1_S3_L001_R2.fastq.gz               0%    0     0.0KB/s   --:-- ETA"
       ]
      },
      {
       "output_type": "stream",
       "stream": "stdout",
       "text": [
        "\r",
        "SLBPgel-pool1_S3_L001_R2.fastq.gz              12%   38MB  37.8MB/s   00:07 ETA"
       ]
      },
      {
       "output_type": "stream",
       "stream": "stdout",
       "text": [
        "\r",
        "SLBPgel-pool1_S3_L001_R2.fastq.gz              25%   80MB  38.2MB/s   00:06 ETA"
       ]
      },
      {
       "output_type": "stream",
       "stream": "stdout",
       "text": [
        "\r",
        "SLBPgel-pool1_S3_L001_R2.fastq.gz              38%  120MB  38.5MB/s   00:04 ETA"
       ]
      },
      {
       "output_type": "stream",
       "stream": "stdout",
       "text": [
        "\r",
        "SLBPgel-pool1_S3_L001_R2.fastq.gz              50%  158MB  38.4MB/s   00:03 ETA"
       ]
      },
      {
       "output_type": "stream",
       "stream": "stdout",
       "text": [
        "\r",
        "SLBPgel-pool1_S3_L001_R2.fastq.gz              64%  199MB  38.7MB/s   00:02 ETA"
       ]
      },
      {
       "output_type": "stream",
       "stream": "stdout",
       "text": [
        "\r",
        "SLBPgel-pool1_S3_L001_R2.fastq.gz              77%  240MB  38.9MB/s   00:01 ETA"
       ]
      },
      {
       "output_type": "stream",
       "stream": "stdout",
       "text": [
        "\r",
        "SLBPgel-pool1_S3_L001_R2.fastq.gz              91%  282MB  39.2MB/s   00:00 ETA"
       ]
      },
      {
       "output_type": "stream",
       "stream": "stdout",
       "text": [
        "\r",
        "SLBPgel-pool1_S3_L001_R2.fastq.gz             100%  310MB  38.7MB/s   00:08    \r\n"
       ]
      },
      {
       "output_type": "stream",
       "stream": "stdout",
       "text": [
        "\r",
        "SLBPgel-pool2_S4_L001_R1.fastq.gz               0%    0     0.0KB/s   --:-- ETA"
       ]
      },
      {
       "output_type": "stream",
       "stream": "stdout",
       "text": [
        "\r",
        "SLBPgel-pool2_S4_L001_R1.fastq.gz              16%   37MB  36.9MB/s   00:04 ETA"
       ]
      },
      {
       "output_type": "stream",
       "stream": "stdout",
       "text": [
        "\r",
        "SLBPgel-pool2_S4_L001_R1.fastq.gz              36%   79MB  37.4MB/s   00:03 ETA"
       ]
      },
      {
       "output_type": "stream",
       "stream": "stdout",
       "text": [
        "\r",
        "SLBPgel-pool2_S4_L001_R1.fastq.gz              55%  122MB  37.9MB/s   00:02 ETA"
       ]
      },
      {
       "output_type": "stream",
       "stream": "stdout",
       "text": [
        "\r",
        "SLBPgel-pool2_S4_L001_R1.fastq.gz              75%  164MB  38.3MB/s   00:01 ETA"
       ]
      },
      {
       "output_type": "stream",
       "stream": "stdout",
       "text": [
        "\r",
        "SLBPgel-pool2_S4_L001_R1.fastq.gz              94%  206MB  38.7MB/s   00:00 ETA"
       ]
      },
      {
       "output_type": "stream",
       "stream": "stdout",
       "text": [
        "\r",
        "SLBPgel-pool2_S4_L001_R1.fastq.gz             100%  218MB  43.7MB/s   00:05    \r\n"
       ]
      },
      {
       "output_type": "stream",
       "stream": "stdout",
       "text": [
        "\r",
        "SLBPgel-pool2_S4_L001_R2.fastq.gz               0%    0     0.0KB/s   --:-- ETA"
       ]
      },
      {
       "output_type": "stream",
       "stream": "stdout",
       "text": [
        "\r",
        "SLBPgel-pool2_S4_L001_R2.fastq.gz              16%   37MB  36.7MB/s   00:05 ETA"
       ]
      },
      {
       "output_type": "stream",
       "stream": "stdout",
       "text": [
        "\r",
        "SLBPgel-pool2_S4_L001_R2.fastq.gz              34%   79MB  37.2MB/s   00:03 ETA"
       ]
      },
      {
       "output_type": "stream",
       "stream": "stdout",
       "text": [
        "\r",
        "SLBPgel-pool2_S4_L001_R2.fastq.gz              53%  120MB  37.6MB/s   00:02 ETA"
       ]
      },
      {
       "output_type": "stream",
       "stream": "stdout",
       "text": [
        "\r",
        "SLBPgel-pool2_S4_L001_R2.fastq.gz              72%  163MB  38.2MB/s   00:01 ETA"
       ]
      },
      {
       "output_type": "stream",
       "stream": "stdout",
       "text": [
        "\r",
        "SLBPgel-pool2_S4_L001_R2.fastq.gz              91%  206MB  38.7MB/s   00:00 ETA"
       ]
      },
      {
       "output_type": "stream",
       "stream": "stdout",
       "text": [
        "\r",
        "SLBPgel-pool2_S4_L001_R2.fastq.gz             100%  226MB  37.7MB/s   00:06    \r\n"
       ]
      },
      {
       "output_type": "stream",
       "stream": "stdout",
       "text": [
        "\r",
        "SLBPNHS-pool1_S6_L001_R1.fastq.gz               0%    0     0.0KB/s   --:-- ETA"
       ]
      },
      {
       "output_type": "stream",
       "stream": "stdout",
       "text": [
        "\r",
        "SLBPNHS-pool1_S6_L001_R1.fastq.gz               8%   40MB  40.4MB/s   00:10 ETA"
       ]
      },
      {
       "output_type": "stream",
       "stream": "stdout",
       "text": [
        "\r",
        "SLBPNHS-pool1_S6_L001_R1.fastq.gz              15%   74MB  39.8MB/s   00:09 ETA"
       ]
      },
      {
       "output_type": "stream",
       "stream": "stdout",
       "text": [
        "\r",
        "SLBPNHS-pool1_S6_L001_R1.fastq.gz              24%  116MB  39.9MB/s   00:08 ETA"
       ]
      },
      {
       "output_type": "stream",
       "stream": "stdout",
       "text": [
        "\r",
        "SLBPNHS-pool1_S6_L001_R1.fastq.gz              33%  159MB  40.2MB/s   00:07 ETA"
       ]
      },
      {
       "output_type": "stream",
       "stream": "stdout",
       "text": [
        "\r",
        "SLBPNHS-pool1_S6_L001_R1.fastq.gz              42%  201MB  40.4MB/s   00:06 ETA"
       ]
      },
      {
       "output_type": "stream",
       "stream": "stdout",
       "text": [
        "\r",
        "SLBPNHS-pool1_S6_L001_R1.fastq.gz              51%  243MB  40.6MB/s   00:05 ETA"
       ]
      },
      {
       "output_type": "stream",
       "stream": "stdout",
       "text": [
        "\r",
        "SLBPNHS-pool1_S6_L001_R1.fastq.gz              60%  285MB  40.7MB/s   00:04 ETA"
       ]
      },
      {
       "output_type": "stream",
       "stream": "stdout",
       "text": [
        "\r",
        "SLBPNHS-pool1_S6_L001_R1.fastq.gz              69%  327MB  40.8MB/s   00:03 ETA"
       ]
      },
      {
       "output_type": "stream",
       "stream": "stdout",
       "text": [
        "\r",
        "SLBPNHS-pool1_S6_L001_R1.fastq.gz              78%  369MB  40.9MB/s   00:02 ETA"
       ]
      },
      {
       "output_type": "stream",
       "stream": "stdout",
       "text": [
        "\r",
        "SLBPNHS-pool1_S6_L001_R1.fastq.gz              87%  410MB  41.0MB/s   00:01 ETA"
       ]
      },
      {
       "output_type": "stream",
       "stream": "stdout",
       "text": [
        "\r",
        "SLBPNHS-pool1_S6_L001_R1.fastq.gz              96%  452MB  41.1MB/s   00:00 ETA"
       ]
      },
      {
       "output_type": "stream",
       "stream": "stdout",
       "text": [
        "\r",
        "SLBPNHS-pool1_S6_L001_R1.fastq.gz             100%  468MB  42.5MB/s   00:11    \r\n"
       ]
      },
      {
       "output_type": "stream",
       "stream": "stdout",
       "text": [
        "\r",
        "SLBPNHS-pool1_S6_L001_R2.fastq.gz               0%    0     0.0KB/s   --:-- ETA"
       ]
      },
      {
       "output_type": "stream",
       "stream": "stdout",
       "text": [
        "\r",
        "SLBPNHS-pool1_S6_L001_R2.fastq.gz               7%   37MB  37.4MB/s   00:12 ETA"
       ]
      },
      {
       "output_type": "stream",
       "stream": "stdout",
       "text": [
        "\r",
        "SLBPNHS-pool1_S6_L001_R2.fastq.gz              16%   79MB  37.9MB/s   00:10 ETA"
       ]
      },
      {
       "output_type": "stream",
       "stream": "stdout",
       "text": [
        "\r",
        "SLBPNHS-pool1_S6_L001_R2.fastq.gz              25%  122MB  38.4MB/s   00:09 ETA"
       ]
      },
      {
       "output_type": "stream",
       "stream": "stdout",
       "text": [
        "\r",
        "SLBPNHS-pool1_S6_L001_R2.fastq.gz              33%  165MB  38.8MB/s   00:08 ETA"
       ]
      },
      {
       "output_type": "stream",
       "stream": "stdout",
       "text": [
        "\r",
        "SLBPNHS-pool1_S6_L001_R2.fastq.gz              42%  208MB  39.2MB/s   00:07 ETA"
       ]
      },
      {
       "output_type": "stream",
       "stream": "stdout",
       "text": [
        "\r",
        "SLBPNHS-pool1_S6_L001_R2.fastq.gz              51%  250MB  39.5MB/s   00:06 ETA"
       ]
      },
      {
       "output_type": "stream",
       "stream": "stdout",
       "text": [
        "\r",
        "SLBPNHS-pool1_S6_L001_R2.fastq.gz              59%  292MB  39.8MB/s   00:04 ETA"
       ]
      },
      {
       "output_type": "stream",
       "stream": "stdout",
       "text": [
        "\r",
        "SLBPNHS-pool1_S6_L001_R2.fastq.gz              66%  326MB  39.2MB/s   00:04 ETA"
       ]
      },
      {
       "output_type": "stream",
       "stream": "stdout",
       "text": [
        "\r",
        "SLBPNHS-pool1_S6_L001_R2.fastq.gz              74%  365MB  39.2MB/s   00:03 ETA"
       ]
      },
      {
       "output_type": "stream",
       "stream": "stdout",
       "text": [
        "\r",
        "SLBPNHS-pool1_S6_L001_R2.fastq.gz              83%  405MB  39.3MB/s   00:02 ETA"
       ]
      },
      {
       "output_type": "stream",
       "stream": "stdout",
       "text": [
        "\r",
        "SLBPNHS-pool1_S6_L001_R2.fastq.gz              91%  445MB  39.3MB/s   00:01 ETA"
       ]
      },
      {
       "output_type": "stream",
       "stream": "stdout",
       "text": [
        "\r",
        "SLBPNHS-pool1_S6_L001_R2.fastq.gz              98%  479MB  38.8MB/s   00:00 ETA"
       ]
      },
      {
       "output_type": "stream",
       "stream": "stdout",
       "text": [
        "\r",
        "SLBPNHS-pool1_S6_L001_R2.fastq.gz             100%  487MB  37.5MB/s   00:13    \r\n"
       ]
      },
      {
       "output_type": "stream",
       "stream": "stdout",
       "text": [
        "\r",
        "SLBPNHS-pool2_S7_L001_R1.fastq.gz               0%    0     0.0KB/s   --:-- ETA"
       ]
      },
      {
       "output_type": "stream",
       "stream": "stdout",
       "text": [
        "\r",
        "SLBPNHS-pool2_S7_L001_R1.fastq.gz              24%   40MB  39.5MB/s   00:03 ETA"
       ]
      },
      {
       "output_type": "stream",
       "stream": "stdout",
       "text": [
        "\r",
        "SLBPNHS-pool2_S7_L001_R1.fastq.gz              47%   75MB  39.1MB/s   00:02 ETA"
       ]
      },
      {
       "output_type": "stream",
       "stream": "stdout",
       "text": [
        "\r",
        "SLBPNHS-pool2_S7_L001_R1.fastq.gz              73%  117MB  39.4MB/s   00:01 ETA"
       ]
      },
      {
       "output_type": "stream",
       "stream": "stdout",
       "text": [
        "\r",
        "SLBPNHS-pool2_S7_L001_R1.fastq.gz             100%  159MB  39.8MB/s   00:04    \r\n"
       ]
      },
      {
       "output_type": "stream",
       "stream": "stdout",
       "text": [
        "\r",
        "SLBPNHS-pool2_S7_L001_R2.fastq.gz               0%    0     0.0KB/s   --:-- ETA"
       ]
      },
      {
       "output_type": "stream",
       "stream": "stdout",
       "text": [
        "\r",
        "SLBPNHS-pool2_S7_L001_R2.fastq.gz              24%   40MB  39.7MB/s   00:03 ETA"
       ]
      },
      {
       "output_type": "stream",
       "stream": "stdout",
       "text": [
        "\r",
        "SLBPNHS-pool2_S7_L001_R2.fastq.gz              49%   82MB  40.0MB/s   00:02 ETA"
       ]
      },
      {
       "output_type": "stream",
       "stream": "stdout",
       "text": [
        "\r",
        "SLBPNHS-pool2_S7_L001_R2.fastq.gz              75%  124MB  40.2MB/s   00:01 ETA"
       ]
      },
      {
       "output_type": "stream",
       "stream": "stdout",
       "text": [
        "\r",
        "SLBPNHS-pool2_S7_L001_R2.fastq.gz             100%  164MB  41.1MB/s   00:04    \r\n"
       ]
      },
      {
       "output_type": "stream",
       "stream": "stdout",
       "text": [
        "\r",
        "Stefan-1to200-Imp1_S13_L001_R1.fastq.gz         0%    0     0.0KB/s   --:-- ETA"
       ]
      },
      {
       "output_type": "stream",
       "stream": "stdout",
       "text": [
        "\r",
        "Stefan-1to200-Imp1_S13_L001_R1.fastq.gz         4%   33MB  32.5MB/s   00:22 ETA"
       ]
      },
      {
       "output_type": "stream",
       "stream": "stdout",
       "text": [
        "\r",
        "Stefan-1to200-Imp1_S13_L001_R1.fastq.gz         9%   73MB  33.3MB/s   00:21 ETA"
       ]
      },
      {
       "output_type": "stream",
       "stream": "stdout",
       "text": [
        "\r",
        "Stefan-1to200-Imp1_S13_L001_R1.fastq.gz        14%  113MB  33.9MB/s   00:19 ETA"
       ]
      },
      {
       "output_type": "stream",
       "stream": "stdout",
       "text": [
        "\r",
        "Stefan-1to200-Imp1_S13_L001_R1.fastq.gz        19%  153MB  34.6MB/s   00:17 ETA"
       ]
      },
      {
       "output_type": "stream",
       "stream": "stdout",
       "text": [
        "\r",
        "Stefan-1to200-Imp1_S13_L001_R1.fastq.gz        24%  193MB  35.1MB/s   00:16 ETA"
       ]
      },
      {
       "output_type": "stream",
       "stream": "stdout",
       "text": [
        "\r",
        "Stefan-1to200-Imp1_S13_L001_R1.fastq.gz        30%  233MB  35.7MB/s   00:15 ETA"
       ]
      },
      {
       "output_type": "stream",
       "stream": "stdout",
       "text": [
        "\r",
        "Stefan-1to200-Imp1_S13_L001_R1.fastq.gz        35%  275MB  36.3MB/s   00:13 ETA"
       ]
      },
      {
       "output_type": "stream",
       "stream": "stdout",
       "text": [
        "\r",
        "Stefan-1to200-Imp1_S13_L001_R1.fastq.gz        40%  309MB  36.1MB/s   00:12 ETA"
       ]
      },
      {
       "output_type": "stream",
       "stream": "stdout",
       "text": [
        "\r",
        "Stefan-1to200-Imp1_S13_L001_R1.fastq.gz        45%  349MB  36.4MB/s   00:11 ETA"
       ]
      },
      {
       "output_type": "stream",
       "stream": "stdout",
       "text": [
        "\r",
        "Stefan-1to200-Imp1_S13_L001_R1.fastq.gz        50%  389MB  36.8MB/s   00:10 ETA"
       ]
      },
      {
       "output_type": "stream",
       "stream": "stdout",
       "text": [
        "\r",
        "Stefan-1to200-Imp1_S13_L001_R1.fastq.gz        55%  429MB  37.1MB/s   00:09 ETA"
       ]
      },
      {
       "output_type": "stream",
       "stream": "stdout",
       "text": [
        "\r",
        "Stefan-1to200-Imp1_S13_L001_R1.fastq.gz        60%  469MB  37.4MB/s   00:08 ETA"
       ]
      },
      {
       "output_type": "stream",
       "stream": "stdout",
       "text": [
        "\r",
        "Stefan-1to200-Imp1_S13_L001_R1.fastq.gz        65%  508MB  37.6MB/s   00:07 ETA"
       ]
      },
      {
       "output_type": "stream",
       "stream": "stdout",
       "text": [
        "\r",
        "Stefan-1to200-Imp1_S13_L001_R1.fastq.gz        71%  548MB  37.8MB/s   00:05 ETA"
       ]
      },
      {
       "output_type": "stream",
       "stream": "stdout",
       "text": [
        "\r",
        "Stefan-1to200-Imp1_S13_L001_R1.fastq.gz        76%  588MB  38.0MB/s   00:04 ETA"
       ]
      },
      {
       "output_type": "stream",
       "stream": "stdout",
       "text": [
        "\r",
        "Stefan-1to200-Imp1_S13_L001_R1.fastq.gz        81%  629MB  38.3MB/s   00:03 ETA"
       ]
      },
      {
       "output_type": "stream",
       "stream": "stdout",
       "text": [
        "\r",
        "Stefan-1to200-Imp1_S13_L001_R1.fastq.gz        86%  671MB  38.7MB/s   00:02 ETA"
       ]
      },
      {
       "output_type": "stream",
       "stream": "stdout",
       "text": [
        "\r",
        "Stefan-1to200-Imp1_S13_L001_R1.fastq.gz        91%  706MB  38.4MB/s   00:01 ETA"
       ]
      },
      {
       "output_type": "stream",
       "stream": "stdout",
       "text": [
        "\r",
        "Stefan-1to200-Imp1_S13_L001_R1.fastq.gz        96%  748MB  38.7MB/s   00:00 ETA"
       ]
      },
      {
       "output_type": "stream",
       "stream": "stdout",
       "text": [
        "\r",
        "Stefan-1to200-Imp1_S13_L001_R1.fastq.gz       100%  772MB  38.6MB/s   00:20    \r\n"
       ]
      },
      {
       "output_type": "stream",
       "stream": "stdout",
       "text": [
        "\r",
        "Stefan-1to200-Imp1_S13_L001_R2.fastq.gz         0%    0     0.0KB/s   --:-- ETA"
       ]
      },
      {
       "output_type": "stream",
       "stream": "stdout",
       "text": [
        "\r",
        "Stefan-1to200-Imp1_S13_L001_R2.fastq.gz         3%   30MB  29.7MB/s   00:26 ETA"
       ]
      },
      {
       "output_type": "stream",
       "stream": "stdout",
       "text": [
        "\r",
        "Stefan-1to200-Imp1_S13_L001_R2.fastq.gz         8%   69MB  30.7MB/s   00:24 ETA"
       ]
      },
      {
       "output_type": "stream",
       "stream": "stdout",
       "text": [
        "\r",
        "Stefan-1to200-Imp1_S13_L001_R2.fastq.gz        13%  108MB  31.5MB/s   00:22 ETA"
       ]
      },
      {
       "output_type": "stream",
       "stream": "stdout",
       "text": [
        "\r",
        "Stefan-1to200-Imp1_S13_L001_R2.fastq.gz        18%  148MB  32.3MB/s   00:20 ETA"
       ]
      },
      {
       "output_type": "stream",
       "stream": "stdout",
       "text": [
        "\r",
        "Stefan-1to200-Imp1_S13_L001_R2.fastq.gz        22%  187MB  33.0MB/s   00:19 ETA"
       ]
      },
      {
       "output_type": "stream",
       "stream": "stdout",
       "text": [
        "\r",
        "Stefan-1to200-Imp1_S13_L001_R2.fastq.gz        27%  227MB  33.7MB/s   00:17 ETA"
       ]
      },
      {
       "output_type": "stream",
       "stream": "stdout",
       "text": [
        "\r",
        "Stefan-1to200-Imp1_S13_L001_R2.fastq.gz        32%  266MB  34.2MB/s   00:16 ETA"
       ]
      },
      {
       "output_type": "stream",
       "stream": "stdout",
       "text": [
        "\r",
        "Stefan-1to200-Imp1_S13_L001_R2.fastq.gz        37%  305MB  34.7MB/s   00:14 ETA"
       ]
      },
      {
       "output_type": "stream",
       "stream": "stdout",
       "text": [
        "\r",
        "Stefan-1to200-Imp1_S13_L001_R2.fastq.gz        42%  345MB  35.2MB/s   00:13 ETA"
       ]
      },
      {
       "output_type": "stream",
       "stream": "stdout",
       "text": [
        "\r",
        "Stefan-1to200-Imp1_S13_L001_R2.fastq.gz        47%  384MB  35.6MB/s   00:12 ETA"
       ]
      },
      {
       "output_type": "stream",
       "stream": "stdout",
       "text": [
        "\r",
        "Stefan-1to200-Imp1_S13_L001_R2.fastq.gz        51%  423MB  36.0MB/s   00:10 ETA"
       ]
      },
      {
       "output_type": "stream",
       "stream": "stdout",
       "text": [
        "\r",
        "Stefan-1to200-Imp1_S13_L001_R2.fastq.gz        56%  463MB  36.3MB/s   00:09 ETA"
       ]
      },
      {
       "output_type": "stream",
       "stream": "stdout",
       "text": [
        "\r",
        "Stefan-1to200-Imp1_S13_L001_R2.fastq.gz        61%  502MB  36.6MB/s   00:08 ETA"
       ]
      },
      {
       "output_type": "stream",
       "stream": "stdout",
       "text": [
        "\r",
        "Stefan-1to200-Imp1_S13_L001_R2.fastq.gz        66%  541MB  36.9MB/s   00:07 ETA"
       ]
      },
      {
       "output_type": "stream",
       "stream": "stdout",
       "text": [
        "\r",
        "Stefan-1to200-Imp1_S13_L001_R2.fastq.gz        71%  581MB  37.2MB/s   00:06 ETA"
       ]
      },
      {
       "output_type": "stream",
       "stream": "stdout",
       "text": [
        "\r",
        "Stefan-1to200-Imp1_S13_L001_R2.fastq.gz        76%  620MB  37.4MB/s   00:05 ETA"
       ]
      },
      {
       "output_type": "stream",
       "stream": "stdout",
       "text": [
        "\r",
        "Stefan-1to200-Imp1_S13_L001_R2.fastq.gz        80%  660MB  37.6MB/s   00:04 ETA"
       ]
      },
      {
       "output_type": "stream",
       "stream": "stdout",
       "text": [
        "\r",
        "Stefan-1to200-Imp1_S13_L001_R2.fastq.gz        85%  699MB  37.8MB/s   00:03 ETA"
       ]
      },
      {
       "output_type": "stream",
       "stream": "stdout",
       "text": [
        "\r",
        "Stefan-1to200-Imp1_S13_L001_R2.fastq.gz        90%  738MB  37.9MB/s   00:02 ETA"
       ]
      },
      {
       "output_type": "stream",
       "stream": "stdout",
       "text": [
        "\r",
        "Stefan-1to200-Imp1_S13_L001_R2.fastq.gz        95%  778MB  38.1MB/s   00:01 ETA"
       ]
      },
      {
       "output_type": "stream",
       "stream": "stdout",
       "text": [
        "\r",
        "Stefan-1to200-Imp1_S13_L001_R2.fastq.gz       100%  816MB  38.9MB/s   00:21    \r\n"
       ]
      },
      {
       "output_type": "stream",
       "stream": "stdout",
       "text": [
        "\r",
        "Stefan-1to200-Imp2_S14_L001_R1.fastq.gz         0%    0     0.0KB/s   --:-- ETA"
       ]
      },
      {
       "output_type": "stream",
       "stream": "stdout",
       "text": [
        "\r",
        "Stefan-1to200-Imp2_S14_L001_R1.fastq.gz         3%   27MB  26.8MB/s   00:27 ETA"
       ]
      },
      {
       "output_type": "stream",
       "stream": "stdout",
       "text": [
        "\r",
        "Stefan-1to200-Imp2_S14_L001_R1.fastq.gz         8%   67MB  28.1MB/s   00:25 ETA"
       ]
      },
      {
       "output_type": "stream",
       "stream": "stdout",
       "text": [
        "\r",
        "Stefan-1to200-Imp2_S14_L001_R1.fastq.gz        13%  106MB  29.2MB/s   00:22 ETA"
       ]
      },
      {
       "output_type": "stream",
       "stream": "stdout",
       "text": [
        "\r",
        "Stefan-1to200-Imp2_S14_L001_R1.fastq.gz        18%  140MB  29.7MB/s   00:21 ETA"
       ]
      },
      {
       "output_type": "stream",
       "stream": "stdout",
       "text": [
        "\r",
        "Stefan-1to200-Imp2_S14_L001_R1.fastq.gz        23%  180MB  30.7MB/s   00:19 ETA"
       ]
      },
      {
       "output_type": "stream",
       "stream": "stdout",
       "text": [
        "\r",
        "Stefan-1to200-Imp2_S14_L001_R1.fastq.gz        27%  213MB  31.0MB/s   00:18 ETA"
       ]
      },
      {
       "output_type": "stream",
       "stream": "stdout",
       "text": [
        "\r",
        "Stefan-1to200-Imp2_S14_L001_R1.fastq.gz        32%  253MB  31.8MB/s   00:16 ETA"
       ]
      },
      {
       "output_type": "stream",
       "stream": "stdout",
       "text": [
        "\r",
        "Stefan-1to200-Imp2_S14_L001_R1.fastq.gz        37%  293MB  32.6MB/s   00:14 ETA"
       ]
      },
      {
       "output_type": "stream",
       "stream": "stdout",
       "text": [
        "\r",
        "Stefan-1to200-Imp2_S14_L001_R1.fastq.gz        42%  332MB  33.3MB/s   00:13 ETA"
       ]
      },
      {
       "output_type": "stream",
       "stream": "stdout",
       "text": [
        "\r",
        "Stefan-1to200-Imp2_S14_L001_R1.fastq.gz        48%  372MB  34.0MB/s   00:11 ETA"
       ]
      },
      {
       "output_type": "stream",
       "stream": "stdout",
       "text": [
        "\r",
        "Stefan-1to200-Imp2_S14_L001_R1.fastq.gz        52%  405MB  33.9MB/s   00:10 ETA"
       ]
      },
      {
       "output_type": "stream",
       "stream": "stdout",
       "text": [
        "\r",
        "Stefan-1to200-Imp2_S14_L001_R1.fastq.gz        57%  445MB  34.5MB/s   00:09 ETA"
       ]
      },
      {
       "output_type": "stream",
       "stream": "stdout",
       "text": [
        "\r",
        "Stefan-1to200-Imp2_S14_L001_R1.fastq.gz        62%  484MB  35.0MB/s   00:08 ETA"
       ]
      },
      {
       "output_type": "stream",
       "stream": "stdout",
       "text": [
        "\r",
        "Stefan-1to200-Imp2_S14_L001_R1.fastq.gz        67%  524MB  35.4MB/s   00:07 ETA"
       ]
      },
      {
       "output_type": "stream",
       "stream": "stdout",
       "text": [
        "\r",
        "Stefan-1to200-Imp2_S14_L001_R1.fastq.gz        72%  563MB  35.8MB/s   00:05 ETA"
       ]
      },
      {
       "output_type": "stream",
       "stream": "stdout",
       "text": [
        "\r",
        "Stefan-1to200-Imp2_S14_L001_R1.fastq.gz        76%  597MB  35.6MB/s   00:05 ETA"
       ]
      },
      {
       "output_type": "stream",
       "stream": "stdout",
       "text": [
        "\r",
        "Stefan-1to200-Imp2_S14_L001_R1.fastq.gz        82%  636MB  36.0MB/s   00:03 ETA"
       ]
      },
      {
       "output_type": "stream",
       "stream": "stdout",
       "text": [
        "\r",
        "Stefan-1to200-Imp2_S14_L001_R1.fastq.gz        87%  676MB  36.4MB/s   00:02 ETA"
       ]
      },
      {
       "output_type": "stream",
       "stream": "stdout",
       "text": [
        "\r",
        "Stefan-1to200-Imp2_S14_L001_R1.fastq.gz        92%  716MB  36.7MB/s   00:01 ETA"
       ]
      },
      {
       "output_type": "stream",
       "stream": "stdout",
       "text": [
        "\r",
        "Stefan-1to200-Imp2_S14_L001_R1.fastq.gz        97%  755MB  37.0MB/s   00:00 ETA"
       ]
      },
      {
       "output_type": "stream",
       "stream": "stdout",
       "text": [
        "\r",
        "Stefan-1to200-Imp2_S14_L001_R1.fastq.gz       100%  775MB  38.8MB/s   00:20    \r\n"
       ]
      },
      {
       "output_type": "stream",
       "stream": "stdout",
       "text": [
        "\r",
        "Stefan-1to200-Imp2_S14_L001_R2.fastq.gz         0%    0     0.0KB/s   --:-- ETA"
       ]
      },
      {
       "output_type": "stream",
       "stream": "stdout",
       "text": [
        "\r",
        "Stefan-1to200-Imp2_S14_L001_R2.fastq.gz         4%   38MB  38.2MB/s   00:20 ETA"
       ]
      },
      {
       "output_type": "stream",
       "stream": "stdout",
       "text": [
        "\r",
        "Stefan-1to200-Imp2_S14_L001_R2.fastq.gz         9%   80MB  38.6MB/s   00:18 ETA"
       ]
      },
      {
       "output_type": "stream",
       "stream": "stdout",
       "text": [
        "\r",
        "Stefan-1to200-Imp2_S14_L001_R2.fastq.gz        15%  122MB  39.0MB/s   00:17 ETA"
       ]
      },
      {
       "output_type": "stream",
       "stream": "stdout",
       "text": [
        "\r",
        "Stefan-1to200-Imp2_S14_L001_R2.fastq.gz        20%  165MB  39.3MB/s   00:16 ETA"
       ]
      },
      {
       "output_type": "stream",
       "stream": "stdout",
       "text": [
        "\r",
        "Stefan-1to200-Imp2_S14_L001_R2.fastq.gz        25%  207MB  39.6MB/s   00:15 ETA"
       ]
      },
      {
       "output_type": "stream",
       "stream": "stdout",
       "text": [
        "\r",
        "Stefan-1to200-Imp2_S14_L001_R2.fastq.gz        30%  249MB  39.9MB/s   00:14 ETA"
       ]
      },
      {
       "output_type": "stream",
       "stream": "stdout",
       "text": [
        "\r",
        "Stefan-1to200-Imp2_S14_L001_R2.fastq.gz        35%  291MB  40.1MB/s   00:12 ETA"
       ]
      },
      {
       "output_type": "stream",
       "stream": "stdout",
       "text": [
        "\r",
        "Stefan-1to200-Imp2_S14_L001_R2.fastq.gz        40%  326MB  39.6MB/s   00:12 ETA"
       ]
      },
      {
       "output_type": "stream",
       "stream": "stdout",
       "text": [
        "\r",
        "Stefan-1to200-Imp2_S14_L001_R2.fastq.gz        45%  368MB  39.7MB/s   00:11 ETA"
       ]
      },
      {
       "output_type": "stream",
       "stream": "stdout",
       "text": [
        "\r",
        "Stefan-1to200-Imp2_S14_L001_R2.fastq.gz        50%  409MB  40.0MB/s   00:10 ETA"
       ]
      },
      {
       "output_type": "stream",
       "stream": "stdout",
       "text": [
        "\r",
        "Stefan-1to200-Imp2_S14_L001_R2.fastq.gz        55%  451MB  40.1MB/s   00:08 ETA"
       ]
      },
      {
       "output_type": "stream",
       "stream": "stdout",
       "text": [
        "\r",
        "Stefan-1to200-Imp2_S14_L001_R2.fastq.gz        60%  493MB  40.3MB/s   00:07 ETA"
       ]
      },
      {
       "output_type": "stream",
       "stream": "stdout",
       "text": [
        "\r",
        "Stefan-1to200-Imp2_S14_L001_R2.fastq.gz        66%  535MB  40.5MB/s   00:06 ETA"
       ]
      },
      {
       "output_type": "stream",
       "stream": "stdout",
       "text": [
        "\r",
        "Stefan-1to200-Imp2_S14_L001_R2.fastq.gz        71%  577MB  40.6MB/s   00:05 ETA"
       ]
      },
      {
       "output_type": "stream",
       "stream": "stdout",
       "text": [
        "\r",
        "Stefan-1to200-Imp2_S14_L001_R2.fastq.gz        76%  619MB  40.7MB/s   00:04 ETA"
       ]
      },
      {
       "output_type": "stream",
       "stream": "stdout",
       "text": [
        "\r",
        "Stefan-1to200-Imp2_S14_L001_R2.fastq.gz        81%  661MB  40.9MB/s   00:03 ETA"
       ]
      },
      {
       "output_type": "stream",
       "stream": "stdout",
       "text": [
        "\r",
        "Stefan-1to200-Imp2_S14_L001_R2.fastq.gz        86%  702MB  41.0MB/s   00:02 ETA"
       ]
      },
      {
       "output_type": "stream",
       "stream": "stdout",
       "text": [
        "\r",
        "Stefan-1to200-Imp2_S14_L001_R2.fastq.gz        91%  744MB  41.0MB/s   00:01 ETA"
       ]
      },
      {
       "output_type": "stream",
       "stream": "stdout",
       "text": [
        "\r",
        "Stefan-1to200-Imp2_S14_L001_R2.fastq.gz        97%  786MB  41.1MB/s   00:00 ETA"
       ]
      },
      {
       "output_type": "stream",
       "stream": "stdout",
       "text": [
        "\r",
        "Stefan-1to200-Imp2_S14_L001_R2.fastq.gz       100%  809MB  40.5MB/s   00:20    \r\n"
       ]
      },
      {
       "output_type": "stream",
       "stream": "stdout",
       "text": [
        "\r",
        "Stefan-1to200-Input_S12_L001_R1.fastq.gz        0%    0     0.0KB/s   --:-- ETA"
       ]
      },
      {
       "output_type": "stream",
       "stream": "stdout",
       "text": [
        "\r",
        "Stefan-1to200-Input_S12_L001_R1.fastq.gz        4%   36MB  36.1MB/s   00:22 ETA"
       ]
      },
      {
       "output_type": "stream",
       "stream": "stdout",
       "text": [
        "\r",
        "Stefan-1to200-Input_S12_L001_R1.fastq.gz        9%   79MB  36.7MB/s   00:20 ETA"
       ]
      },
      {
       "output_type": "stream",
       "stream": "stdout",
       "text": [
        "\r",
        "Stefan-1to200-Input_S12_L001_R1.fastq.gz       14%  121MB  37.3MB/s   00:19 ETA"
       ]
      },
      {
       "output_type": "stream",
       "stream": "stdout",
       "text": [
        "\r",
        "Stefan-1to200-Input_S12_L001_R1.fastq.gz       19%  163MB  37.8MB/s   00:17 ETA"
       ]
      },
      {
       "output_type": "stream",
       "stream": "stdout",
       "text": [
        "\r",
        "Stefan-1to200-Input_S12_L001_R1.fastq.gz       24%  205MB  38.2MB/s   00:16 ETA"
       ]
      },
      {
       "output_type": "stream",
       "stream": "stdout",
       "text": [
        "\r",
        "Stefan-1to200-Input_S12_L001_R1.fastq.gz       29%  247MB  38.6MB/s   00:15 ETA"
       ]
      },
      {
       "output_type": "stream",
       "stream": "stdout",
       "text": [
        "\r",
        "Stefan-1to200-Input_S12_L001_R1.fastq.gz       34%  289MB  39.0MB/s   00:14 ETA"
       ]
      },
      {
       "output_type": "stream",
       "stream": "stdout",
       "text": [
        "\r",
        "Stefan-1to200-Input_S12_L001_R1.fastq.gz       39%  332MB  39.3MB/s   00:12 ETA"
       ]
      },
      {
       "output_type": "stream",
       "stream": "stdout",
       "text": [
        "\r",
        "Stefan-1to200-Input_S12_L001_R1.fastq.gz       44%  374MB  39.6MB/s   00:11 ETA"
       ]
      },
      {
       "output_type": "stream",
       "stream": "stdout",
       "text": [
        "\r",
        "Stefan-1to200-Input_S12_L001_R1.fastq.gz       49%  416MB  39.9MB/s   00:10 ETA"
       ]
      },
      {
       "output_type": "stream",
       "stream": "stdout",
       "text": [
        "\r",
        "Stefan-1to200-Input_S12_L001_R1.fastq.gz       54%  458MB  40.1MB/s   00:09 ETA"
       ]
      },
      {
       "output_type": "stream",
       "stream": "stdout",
       "text": [
        "\r",
        "Stefan-1to200-Input_S12_L001_R1.fastq.gz       59%  501MB  40.3MB/s   00:08 ETA"
       ]
      },
      {
       "output_type": "stream",
       "stream": "stdout",
       "text": [
        "\r",
        "Stefan-1to200-Input_S12_L001_R1.fastq.gz       64%  543MB  40.5MB/s   00:07 ETA"
       ]
      },
      {
       "output_type": "stream",
       "stream": "stdout",
       "text": [
        "\r",
        "Stefan-1to200-Input_S12_L001_R1.fastq.gz       69%  585MB  40.7MB/s   00:06 ETA"
       ]
      },
      {
       "output_type": "stream",
       "stream": "stdout",
       "text": [
        "\r",
        "Stefan-1to200-Input_S12_L001_R1.fastq.gz       74%  627MB  40.8MB/s   00:05 ETA"
       ]
      },
      {
       "output_type": "stream",
       "stream": "stdout",
       "text": [
        "\r",
        "Stefan-1to200-Input_S12_L001_R1.fastq.gz       79%  669MB  41.0MB/s   00:04 ETA"
       ]
      },
      {
       "output_type": "stream",
       "stream": "stdout",
       "text": [
        "\r",
        "Stefan-1to200-Input_S12_L001_R1.fastq.gz       84%  712MB  41.1MB/s   00:03 ETA"
       ]
      },
      {
       "output_type": "stream",
       "stream": "stdout",
       "text": [
        "\r",
        "Stefan-1to200-Input_S12_L001_R1.fastq.gz       89%  754MB  41.2MB/s   00:02 ETA"
       ]
      },
      {
       "output_type": "stream",
       "stream": "stdout",
       "text": [
        "\r",
        "Stefan-1to200-Input_S12_L001_R1.fastq.gz       94%  796MB  41.3MB/s   00:01 ETA"
       ]
      },
      {
       "output_type": "stream",
       "stream": "stdout",
       "text": [
        "\r",
        "Stefan-1to200-Input_S12_L001_R1.fastq.gz       99%  838MB  41.3MB/s   00:00 ETA"
       ]
      },
      {
       "output_type": "stream",
       "stream": "stdout",
       "text": [
        "\r",
        "Stefan-1to200-Input_S12_L001_R1.fastq.gz      100%  840MB  42.0MB/s   00:20    \r\n"
       ]
      },
      {
       "output_type": "stream",
       "stream": "stdout",
       "text": [
        "\r",
        "Stefan-1to200-Input_S12_L001_R2.fastq.gz        0%    0     0.0KB/s   --:-- ETA"
       ]
      },
      {
       "output_type": "stream",
       "stream": "stdout",
       "text": [
        "\r",
        "Stefan-1to200-Input_S12_L001_R2.fastq.gz        3%   31MB  30.9MB/s   00:27 ETA"
       ]
      },
      {
       "output_type": "stream",
       "stream": "stdout",
       "text": [
        "\r",
        "Stefan-1to200-Input_S12_L001_R2.fastq.gz        8%   70MB  31.7MB/s   00:25 ETA"
       ]
      },
      {
       "output_type": "stream",
       "stream": "stdout",
       "text": [
        "\r",
        "Stefan-1to200-Input_S12_L001_R2.fastq.gz       12%  109MB  32.4MB/s   00:23 ETA"
       ]
      },
      {
       "output_type": "stream",
       "stream": "stdout",
       "text": [
        "\r",
        "Stefan-1to200-Input_S12_L001_R2.fastq.gz       17%  148MB  33.1MB/s   00:21 ETA"
       ]
      },
      {
       "output_type": "stream",
       "stream": "stdout",
       "text": [
        "\r",
        "Stefan-1to200-Input_S12_L001_R2.fastq.gz       20%  175MB  32.5MB/s   00:21 ETA"
       ]
      },
      {
       "output_type": "stream",
       "stream": "stdout",
       "text": [
        "\r",
        "Stefan-1to200-Input_S12_L001_R2.fastq.gz       23%  209MB  32.6MB/s   00:20 ETA"
       ]
      },
      {
       "output_type": "stream",
       "stream": "stdout",
       "text": [
        "\r",
        "Stefan-1to200-Input_S12_L001_R2.fastq.gz       27%  242MB  32.7MB/s   00:19 ETA"
       ]
      },
      {
       "output_type": "stream",
       "stream": "stdout",
       "text": [
        "\r",
        "Stefan-1to200-Input_S12_L001_R2.fastq.gz       30%  269MB  32.1MB/s   00:18 ETA"
       ]
      },
      {
       "output_type": "stream",
       "stream": "stdout",
       "text": [
        "\r",
        "Stefan-1to200-Input_S12_L001_R2.fastq.gz       34%  302MB  32.2MB/s   00:17 ETA"
       ]
      },
      {
       "output_type": "stream",
       "stream": "stdout",
       "text": [
        "\r",
        "Stefan-1to200-Input_S12_L001_R2.fastq.gz       39%  342MB  33.0MB/s   00:16 ETA"
       ]
      },
      {
       "output_type": "stream",
       "stream": "stdout",
       "text": [
        "\r",
        "Stefan-1to200-Input_S12_L001_R2.fastq.gz       42%  369MB  32.4MB/s   00:15 ETA"
       ]
      },
      {
       "output_type": "stream",
       "stream": "stdout",
       "text": [
        "\r",
        "Stefan-1to200-Input_S12_L001_R2.fastq.gz       46%  404MB  32.7MB/s   00:14 ETA"
       ]
      },
      {
       "output_type": "stream",
       "stream": "stdout",
       "text": [
        "\r",
        "Stefan-1to200-Input_S12_L001_R2.fastq.gz       50%  442MB  33.2MB/s   00:12 ETA"
       ]
      },
      {
       "output_type": "stream",
       "stream": "stdout",
       "text": [
        "\r",
        "Stefan-1to200-Input_S12_L001_R2.fastq.gz       54%  476MB  33.2MB/s   00:11 ETA"
       ]
      },
      {
       "output_type": "stream",
       "stream": "stdout",
       "text": [
        "\r",
        "Stefan-1to200-Input_S12_L001_R2.fastq.gz       59%  515MB  33.8MB/s   00:10 ETA"
       ]
      },
      {
       "output_type": "stream",
       "stream": "stdout",
       "text": [
        "\r",
        "Stefan-1to200-Input_S12_L001_R2.fastq.gz       63%  554MB  34.3MB/s   00:09 ETA"
       ]
      },
      {
       "output_type": "stream",
       "stream": "stdout",
       "text": [
        "\r",
        "Stefan-1to200-Input_S12_L001_R2.fastq.gz       68%  593MB  34.8MB/s   00:07 ETA"
       ]
      },
      {
       "output_type": "stream",
       "stream": "stdout",
       "text": [
        "\r",
        "Stefan-1to200-Input_S12_L001_R2.fastq.gz       72%  632MB  35.2MB/s   00:06 ETA"
       ]
      },
      {
       "output_type": "stream",
       "stream": "stdout",
       "text": [
        "\r",
        "Stefan-1to200-Input_S12_L001_R2.fastq.gz       77%  671MB  35.6MB/s   00:05 ETA"
       ]
      },
      {
       "output_type": "stream",
       "stream": "stdout",
       "text": [
        "\r",
        "Stefan-1to200-Input_S12_L001_R2.fastq.gz       81%  710MB  35.9MB/s   00:04 ETA"
       ]
      },
      {
       "output_type": "stream",
       "stream": "stdout",
       "text": [
        "\r",
        "Stefan-1to200-Input_S12_L001_R2.fastq.gz       86%  749MB  36.2MB/s   00:03 ETA"
       ]
      },
      {
       "output_type": "stream",
       "stream": "stdout",
       "text": [
        "\r",
        "Stefan-1to200-Input_S12_L001_R2.fastq.gz       90%  788MB  36.5MB/s   00:02 ETA"
       ]
      },
      {
       "output_type": "stream",
       "stream": "stdout",
       "text": [
        "\r",
        "Stefan-1to200-Input_S12_L001_R2.fastq.gz       95%  827MB  36.8MB/s   00:01 ETA"
       ]
      },
      {
       "output_type": "stream",
       "stream": "stdout",
       "text": [
        "\r",
        "Stefan-1to200-Input_S12_L001_R2.fastq.gz       99%  866MB  37.0MB/s   00:00 ETA"
       ]
      },
      {
       "output_type": "stream",
       "stream": "stdout",
       "text": [
        "\r",
        "Stefan-1to200-Input_S12_L001_R2.fastq.gz      100%  870MB  36.3MB/s   00:24    \r\n"
       ]
      },
      {
       "output_type": "stream",
       "stream": "stdout",
       "text": [
        "\r",
        "Stefan-1to25-Imp1_S16_L001_R1.fastq.gz          0%    0     0.0KB/s   --:-- ETA"
       ]
      },
      {
       "output_type": "stream",
       "stream": "stdout",
       "text": [
        "\r",
        "Stefan-1to25-Imp1_S16_L001_R1.fastq.gz         14%   37MB  37.3MB/s   00:05 ETA"
       ]
      },
      {
       "output_type": "stream",
       "stream": "stdout",
       "text": [
        "\r",
        "Stefan-1to25-Imp1_S16_L001_R1.fastq.gz         31%   80MB  37.9MB/s   00:04 ETA"
       ]
      },
      {
       "output_type": "stream",
       "stream": "stdout",
       "text": [
        "\r",
        "Stefan-1to25-Imp1_S16_L001_R1.fastq.gz         48%  123MB  38.4MB/s   00:03 ETA"
       ]
      },
      {
       "output_type": "stream",
       "stream": "stdout",
       "text": [
        "\r",
        "Stefan-1to25-Imp1_S16_L001_R1.fastq.gz         65%  166MB  38.8MB/s   00:02 ETA"
       ]
      },
      {
       "output_type": "stream",
       "stream": "stdout",
       "text": [
        "\r",
        "Stefan-1to25-Imp1_S16_L001_R1.fastq.gz         82%  209MB  39.2MB/s   00:01 ETA"
       ]
      },
      {
       "output_type": "stream",
       "stream": "stdout",
       "text": [
        "\r",
        "Stefan-1to25-Imp1_S16_L001_R1.fastq.gz         99%  252MB  39.6MB/s   00:00 ETA"
       ]
      },
      {
       "output_type": "stream",
       "stream": "stdout",
       "text": [
        "\r",
        "Stefan-1to25-Imp1_S16_L001_R1.fastq.gz        100%  252MB  42.1MB/s   00:06    \r\n"
       ]
      },
      {
       "output_type": "stream",
       "stream": "stdout",
       "text": [
        "\r",
        "Stefan-1to25-Imp1_S16_L001_R2.fastq.gz          0%    0     0.0KB/s   --:-- ETA"
       ]
      },
      {
       "output_type": "stream",
       "stream": "stdout",
       "text": [
        "\r",
        "Stefan-1to25-Imp1_S16_L001_R2.fastq.gz         15%   40MB  39.7MB/s   00:05 ETA"
       ]
      },
      {
       "output_type": "stream",
       "stream": "stdout",
       "text": [
        "\r",
        "Stefan-1to25-Imp1_S16_L001_R2.fastq.gz         30%   81MB  39.9MB/s   00:04 ETA"
       ]
      },
      {
       "output_type": "stream",
       "stream": "stdout",
       "text": [
        "\r",
        "Stefan-1to25-Imp1_S16_L001_R2.fastq.gz         46%  123MB  40.1MB/s   00:03 ETA"
       ]
      },
      {
       "output_type": "stream",
       "stream": "stdout",
       "text": [
        "\r",
        "Stefan-1to25-Imp1_S16_L001_R2.fastq.gz         62%  165MB  40.2MB/s   00:02 ETA"
       ]
      },
      {
       "output_type": "stream",
       "stream": "stdout",
       "text": [
        "\r",
        "Stefan-1to25-Imp1_S16_L001_R2.fastq.gz         78%  206MB  40.3MB/s   00:01 ETA"
       ]
      },
      {
       "output_type": "stream",
       "stream": "stdout",
       "text": [
        "\r",
        "Stefan-1to25-Imp1_S16_L001_R2.fastq.gz         93%  248MB  40.5MB/s   00:00 ETA"
       ]
      },
      {
       "output_type": "stream",
       "stream": "stdout",
       "text": [
        "\r",
        "Stefan-1to25-Imp1_S16_L001_R2.fastq.gz        100%  264MB  44.0MB/s   00:06    \r\n"
       ]
      },
      {
       "output_type": "stream",
       "stream": "stdout",
       "text": [
        "\r",
        "Stefan-1to25-Imp2_S17_L001_R1.fastq.gz          0%    0     0.0KB/s   --:-- ETA"
       ]
      },
      {
       "output_type": "stream",
       "stream": "stdout",
       "text": [
        "\r",
        "Stefan-1to25-Imp2_S17_L001_R1.fastq.gz         12%   39MB  38.9MB/s   00:06 ETA"
       ]
      },
      {
       "output_type": "stream",
       "stream": "stdout",
       "text": [
        "\r",
        "Stefan-1to25-Imp2_S17_L001_R1.fastq.gz         26%   80MB  39.1MB/s   00:05 ETA"
       ]
      },
      {
       "output_type": "stream",
       "stream": "stdout",
       "text": [
        "\r",
        "Stefan-1to25-Imp2_S17_L001_R1.fastq.gz         39%  121MB  39.3MB/s   00:04 ETA"
       ]
      },
      {
       "output_type": "stream",
       "stream": "stdout",
       "text": [
        "\r",
        "Stefan-1to25-Imp2_S17_L001_R1.fastq.gz         52%  162MB  39.5MB/s   00:03 ETA"
       ]
      },
      {
       "output_type": "stream",
       "stream": "stdout",
       "text": [
        "\r",
        "Stefan-1to25-Imp2_S17_L001_R1.fastq.gz         65%  202MB  39.5MB/s   00:02 ETA"
       ]
      },
      {
       "output_type": "stream",
       "stream": "stdout",
       "text": [
        "\r",
        "Stefan-1to25-Imp2_S17_L001_R1.fastq.gz         79%  243MB  39.7MB/s   00:01 ETA"
       ]
      },
      {
       "output_type": "stream",
       "stream": "stdout",
       "text": [
        "\r",
        "Stefan-1to25-Imp2_S17_L001_R1.fastq.gz         92%  284MB  39.8MB/s   00:00 ETA"
       ]
      },
      {
       "output_type": "stream",
       "stream": "stdout",
       "text": [
        "\r",
        "Stefan-1to25-Imp2_S17_L001_R1.fastq.gz        100%  306MB  43.7MB/s   00:07    \r\n"
       ]
      },
      {
       "output_type": "stream",
       "stream": "stdout",
       "text": [
        "\r",
        "Stefan-1to25-Imp2_S17_L001_R2.fastq.gz          0%    0     0.0KB/s   --:-- ETA"
       ]
      },
      {
       "output_type": "stream",
       "stream": "stdout",
       "text": [
        "\r",
        "Stefan-1to25-Imp2_S17_L001_R2.fastq.gz         11%   37MB  37.3MB/s   00:07 ETA"
       ]
      },
      {
       "output_type": "stream",
       "stream": "stdout",
       "text": [
        "\r",
        "Stefan-1to25-Imp2_S17_L001_R2.fastq.gz         24%   79MB  37.7MB/s   00:06 ETA"
       ]
      },
      {
       "output_type": "stream",
       "stream": "stdout",
       "text": [
        "\r",
        "Stefan-1to25-Imp2_S17_L001_R2.fastq.gz         37%  120MB  38.1MB/s   00:05 ETA"
       ]
      },
      {
       "output_type": "stream",
       "stream": "stdout",
       "text": [
        "\r",
        "Stefan-1to25-Imp2_S17_L001_R2.fastq.gz         48%  156MB  37.8MB/s   00:04 ETA"
       ]
      },
      {
       "output_type": "stream",
       "stream": "stdout",
       "text": [
        "\r",
        "Stefan-1to25-Imp2_S17_L001_R2.fastq.gz         61%  197MB  38.1MB/s   00:03 ETA"
       ]
      },
      {
       "output_type": "stream",
       "stream": "stdout",
       "text": [
        "\r",
        "Stefan-1to25-Imp2_S17_L001_R2.fastq.gz         73%  238MB  38.5MB/s   00:02 ETA"
       ]
      },
      {
       "output_type": "stream",
       "stream": "stdout",
       "text": [
        "\r",
        "Stefan-1to25-Imp2_S17_L001_R2.fastq.gz         86%  279MB  38.7MB/s   00:01 ETA"
       ]
      },
      {
       "output_type": "stream",
       "stream": "stdout",
       "text": [
        "\r",
        "Stefan-1to25-Imp2_S17_L001_R2.fastq.gz         99%  321MB  39.0MB/s   00:00 ETA"
       ]
      },
      {
       "output_type": "stream",
       "stream": "stdout",
       "text": [
        "\r",
        "Stefan-1to25-Imp2_S17_L001_R2.fastq.gz        100%  323MB  40.3MB/s   00:08    \r\n"
       ]
      },
      {
       "output_type": "stream",
       "stream": "stdout",
       "text": [
        "\r",
        "Stefan-1to25-Input_S15_L001_R1.fastq.gz         0%    0     0.0KB/s   --:-- ETA"
       ]
      },
      {
       "output_type": "stream",
       "stream": "stdout",
       "text": [
        "\r",
        "Stefan-1to25-Input_S15_L001_R1.fastq.gz         6%   41MB  41.0MB/s   00:13 ETA"
       ]
      },
      {
       "output_type": "stream",
       "stream": "stdout",
       "text": [
        "\r",
        "Stefan-1to25-Input_S15_L001_R1.fastq.gz        13%   83MB  41.2MB/s   00:12 ETA"
       ]
      },
      {
       "output_type": "stream",
       "stream": "stdout",
       "text": [
        "\r",
        "Stefan-1to25-Input_S15_L001_R1.fastq.gz        20%  125MB  41.2MB/s   00:11 ETA"
       ]
      },
      {
       "output_type": "stream",
       "stream": "stdout",
       "text": [
        "\r",
        "Stefan-1to25-Input_S15_L001_R1.fastq.gz        26%  165MB  41.1MB/s   00:10 ETA"
       ]
      },
      {
       "output_type": "stream",
       "stream": "stdout",
       "text": [
        "\r",
        "Stefan-1to25-Input_S15_L001_R1.fastq.gz        33%  206MB  41.1MB/s   00:09 ETA"
       ]
      },
      {
       "output_type": "stream",
       "stream": "stdout",
       "text": [
        "\r",
        "Stefan-1to25-Input_S15_L001_R1.fastq.gz        40%  248MB  41.2MB/s   00:08 ETA"
       ]
      },
      {
       "output_type": "stream",
       "stream": "stdout",
       "text": [
        "\r",
        "Stefan-1to25-Input_S15_L001_R1.fastq.gz        47%  290MB  41.2MB/s   00:07 ETA"
       ]
      },
      {
       "output_type": "stream",
       "stream": "stdout",
       "text": [
        "\r",
        "Stefan-1to25-Input_S15_L001_R1.fastq.gz        54%  331MB  41.3MB/s   00:06 ETA"
       ]
      },
      {
       "output_type": "stream",
       "stream": "stdout",
       "text": [
        "\r",
        "Stefan-1to25-Input_S15_L001_R1.fastq.gz        60%  373MB  41.3MB/s   00:05 ETA"
       ]
      },
      {
       "output_type": "stream",
       "stream": "stdout",
       "text": [
        "\r",
        "Stefan-1to25-Input_S15_L001_R1.fastq.gz        67%  414MB  41.3MB/s   00:04 ETA"
       ]
      },
      {
       "output_type": "stream",
       "stream": "stdout",
       "text": [
        "\r",
        "Stefan-1to25-Input_S15_L001_R1.fastq.gz        74%  456MB  41.4MB/s   00:03 ETA"
       ]
      },
      {
       "output_type": "stream",
       "stream": "stdout",
       "text": [
        "\r",
        "Stefan-1to25-Input_S15_L001_R1.fastq.gz        81%  498MB  41.4MB/s   00:02 ETA"
       ]
      },
      {
       "output_type": "stream",
       "stream": "stdout",
       "text": [
        "\r",
        "Stefan-1to25-Input_S15_L001_R1.fastq.gz        88%  539MB  41.4MB/s   00:01 ETA"
       ]
      },
      {
       "output_type": "stream",
       "stream": "stdout",
       "text": [
        "\r",
        "Stefan-1to25-Input_S15_L001_R1.fastq.gz        95%  581MB  41.4MB/s   00:00 ETA"
       ]
      },
      {
       "output_type": "stream",
       "stream": "stdout",
       "text": [
        "\r",
        "Stefan-1to25-Input_S15_L001_R1.fastq.gz       100%  611MB  40.8MB/s   00:15    \r\n"
       ]
      },
      {
       "output_type": "stream",
       "stream": "stdout",
       "text": [
        "\r",
        "Stefan-1to25-Input_S15_L001_R2.fastq.gz         0%    0     0.0KB/s   --:-- ETA"
       ]
      },
      {
       "output_type": "stream",
       "stream": "stdout",
       "text": [
        "\r",
        "Stefan-1to25-Input_S15_L001_R2.fastq.gz         6%   39MB  39.3MB/s   00:15 ETA"
       ]
      },
      {
       "output_type": "stream",
       "stream": "stdout",
       "text": [
        "\r",
        "Stefan-1to25-Input_S15_L001_R2.fastq.gz        12%   81MB  39.6MB/s   00:14 ETA"
       ]
      },
      {
       "output_type": "stream",
       "stream": "stdout",
       "text": [
        "\r",
        "Stefan-1to25-Input_S15_L001_R2.fastq.gz        19%  122MB  39.7MB/s   00:13 ETA"
       ]
      },
      {
       "output_type": "stream",
       "stream": "stdout",
       "text": [
        "\r",
        "Stefan-1to25-Input_S15_L001_R2.fastq.gz        25%  164MB  39.9MB/s   00:11 ETA"
       ]
      },
      {
       "output_type": "stream",
       "stream": "stdout",
       "text": [
        "\r",
        "Stefan-1to25-Input_S15_L001_R2.fastq.gz        32%  206MB  40.1MB/s   00:10 ETA"
       ]
      },
      {
       "output_type": "stream",
       "stream": "stdout",
       "text": [
        "\r",
        "Stefan-1to25-Input_S15_L001_R2.fastq.gz        38%  247MB  40.2MB/s   00:09 ETA"
       ]
      },
      {
       "output_type": "stream",
       "stream": "stdout",
       "text": [
        "\r",
        "Stefan-1to25-Input_S15_L001_R2.fastq.gz        45%  289MB  40.4MB/s   00:08 ETA"
       ]
      },
      {
       "output_type": "stream",
       "stream": "stdout",
       "text": [
        "\r",
        "Stefan-1to25-Input_S15_L001_R2.fastq.gz        51%  330MB  40.5MB/s   00:07 ETA"
       ]
      },
      {
       "output_type": "stream",
       "stream": "stdout",
       "text": [
        "\r",
        "Stefan-1to25-Input_S15_L001_R2.fastq.gz        58%  372MB  40.6MB/s   00:06 ETA"
       ]
      },
      {
       "output_type": "stream",
       "stream": "stdout",
       "text": [
        "\r",
        "Stefan-1to25-Input_S15_L001_R2.fastq.gz        64%  413MB  40.7MB/s   00:05 ETA"
       ]
      },
      {
       "output_type": "stream",
       "stream": "stdout",
       "text": [
        "\r",
        "Stefan-1to25-Input_S15_L001_R2.fastq.gz        71%  455MB  40.8MB/s   00:04 ETA"
       ]
      },
      {
       "output_type": "stream",
       "stream": "stdout",
       "text": [
        "\r",
        "Stefan-1to25-Input_S15_L001_R2.fastq.gz        77%  496MB  40.9MB/s   00:03 ETA"
       ]
      },
      {
       "output_type": "stream",
       "stream": "stdout",
       "text": [
        "\r",
        "Stefan-1to25-Input_S15_L001_R2.fastq.gz        84%  538MB  40.9MB/s   00:02 ETA"
       ]
      },
      {
       "output_type": "stream",
       "stream": "stdout",
       "text": [
        "\r",
        "Stefan-1to25-Input_S15_L001_R2.fastq.gz        90%  580MB  41.0MB/s   00:01 ETA"
       ]
      },
      {
       "output_type": "stream",
       "stream": "stdout",
       "text": [
        "\r",
        "Stefan-1to25-Input_S15_L001_R2.fastq.gz        97%  621MB  41.1MB/s   00:00 ETA"
       ]
      },
      {
       "output_type": "stream",
       "stream": "stdout",
       "text": [
        "\r",
        "Stefan-1to25-Input_S15_L001_R2.fastq.gz       100%  639MB  42.6MB/s   00:15    \r\n"
       ]
      }
     ],
     "prompt_number": 8
    },
    {
     "cell_type": "code",
     "collapsed": false,
     "input": [
      "def hamming(word1, word2):\n",
      "    \"\"\"\n",
      "    Gets hamming distance between two words, this is an odd implementation because\n",
      "    we actually want Ns to appear similar to other barcodes as this makes the results more stringent, not less\n",
      "    :param word1:\n",
      "    :param word2:\n",
      "    :return:\n",
      "    \"\"\"\n",
      "    return sum(a != b and not (a == \"N\" or b == \"N\") for a, b in zip(word1, word2))\n",
      "\n",
      "barcodes = defaultdict(str, [item.split() for item in\"\"\"AAGCAAT A01\n",
      "GGCTTGT B06\n",
      "ACAAGTT C01\n",
      "TGGTCCT D08fixed\n",
      "ATGACC  A03 \n",
      "TCCTGT  G07\n",
      "CAGCTT  A04\n",
      "GGATAC  F05\"\"\".split(\"\\n\")])\n",
      "\n",
      "key_lengths = {len(item) for item in barcodes.keys()}"
     ],
     "language": "python",
     "metadata": {},
     "outputs": [],
     "prompt_number": 51
    },
    {
     "cell_type": "code",
     "collapsed": false,
     "input": [
      "r1 = screed.open(\"/nas3/gpratt/projects/eric_iclip_test/data/20150225_encode_CLIP/2F-V5_S10_L001_R1.fastq.gz\") \n",
      "r2 = screed.open(\"/nas3/gpratt/projects/eric_iclip_test/data/20150225_encode_CLIP/2F-V5_S10_L001_R2.fastq.gz\")"
     ],
     "language": "python",
     "metadata": {},
     "outputs": [],
     "prompt_number": 42
    },
    {
     "cell_type": "code",
     "collapsed": false,
     "input": [
      "result = defaultdict(dict)\n",
      "max_count = 1000.\n",
      "found_count = 0 \n",
      "for total, read_1, read_2 in enumerate(zip(r1, r2)):\n",
      "    total += 1\n",
      "    seq_1 = read_1['sequence']\n",
      "    seq_2 = read_2['sequence']\n",
      "    key_1 == \"\"\n",
      "    for key_length in key_lengths:\n",
      "        barcode_1 = seq_1[:key_length]\n",
      "        if key_1 != \"\"\n",
      "            key_1 = barcodes[barcode_1]\n",
      "        \n",
      "        #barcode_2 = seq_2[:key_length]        \n",
      "        #key_2 = barcodes[barcode_2]\n",
      "\n",
      "\n",
      "    if max_count == total:\n",
      "        break"
     ],
     "language": "python",
     "metadata": {},
     "outputs": []
    }
   ],
   "metadata": {}
  }
 ]
}