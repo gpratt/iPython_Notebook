{
 "metadata": {
  "name": "",
  "signature": "sha256:0a8674ee85e8a56d03ac41beb3b4ddca3ee5e50dbe90507b93c0f7b858925334"
 },
 "nbformat": 3,
 "nbformat_minor": 0,
 "worksheets": [
  {
   "cells": [
    {
     "cell_type": "code",
     "collapsed": false,
     "input": [
      "import pybedtools"
     ],
     "language": "python",
     "metadata": {},
     "outputs": [],
     "prompt_number": 1
    },
    {
     "cell_type": "code",
     "collapsed": false,
     "input": [
      "def stranded_fast_closest(a, b, **kwargs):\n",
      "    a_pos = a.filter(lambda x: x.strand == \"+\")\n",
      "    a_neg = a.filter(lambda x: x.strand == \"-\")\n",
      "    b_pos = a.filter(lambda x: x.strand == \"+\")\n",
      "    b_neg = a.filter(lambda x: x.strand == \"-\")\n",
      "    \n",
      "    pos_result = a_pos.closest(b_pos, s=True, **kwargs)\n",
      "    neg_result = a_neg.closest(b_neg, s=True, **kwargs)\n",
      "    return pos_result.cat(neg_result, postmerge=False).sort().saveas()"
     ],
     "language": "python",
     "metadata": {},
     "outputs": [],
     "prompt_number": 2
    },
    {
     "cell_type": "code",
     "collapsed": false,
     "input": [
      "a = pybedtools.BedTool(\"/nas3/gpratt/clipper/clipper/data/regions/hg19_start_codons.bed\")\n",
      "b = pybedtools.BedTool(\"/nas3/gpratt/clipper/clipper/data/regions/hg19_stop_codons.bed\")"
     ],
     "language": "python",
     "metadata": {},
     "outputs": [],
     "prompt_number": 20
    },
    {
     "cell_type": "code",
     "collapsed": false,
     "input": [
      "foo = a.closest(b, s=True, D=\"b\", id=True).saveas()"
     ],
     "language": "python",
     "metadata": {},
     "outputs": [],
     "prompt_number": 27
    },
    {
     "cell_type": "code",
     "collapsed": false,
     "input": [
      "len(foo)"
     ],
     "language": "python",
     "metadata": {},
     "outputs": [
      {
       "metadata": {},
       "output_type": "pyout",
       "prompt_number": 28,
       "text": [
        "33415"
       ]
      }
     ],
     "prompt_number": 28
    },
    {
     "cell_type": "code",
     "collapsed": false,
     "input": [
      "len(a), len(b)"
     ],
     "language": "python",
     "metadata": {},
     "outputs": [
      {
       "metadata": {},
       "output_type": "pyout",
       "prompt_number": 22,
       "text": [
        "(33178, 42154)"
       ]
      }
     ],
     "prompt_number": 22
    },
    {
     "cell_type": "code",
     "collapsed": false,
     "input": [
      "a.closest?"
     ],
     "language": "python",
     "metadata": {},
     "outputs": [],
     "prompt_number": 23
    },
    {
     "cell_type": "code",
     "collapsed": false,
     "input": [
      "from collections import defaultdict"
     ],
     "language": "python",
     "metadata": {},
     "outputs": [],
     "prompt_number": 29
    },
    {
     "cell_type": "code",
     "collapsed": false,
     "input": [
      "foo = defaultdict(int)"
     ],
     "language": "python",
     "metadata": {},
     "outputs": [],
     "prompt_number": 33
    },
    {
     "cell_type": "code",
     "collapsed": false,
     "input": [
      "foo[\"bar\"]"
     ],
     "language": "python",
     "metadata": {},
     "outputs": [
      {
       "metadata": {},
       "output_type": "pyout",
       "prompt_number": 34,
       "text": [
        "0"
       ]
      }
     ],
     "prompt_number": 34
    },
    {
     "cell_type": "code",
     "collapsed": false,
     "input": [],
     "language": "python",
     "metadata": {},
     "outputs": []
    }
   ],
   "metadata": {}
  }
 ]
}