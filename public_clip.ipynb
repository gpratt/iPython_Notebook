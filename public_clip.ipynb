{
 "metadata": {
  "name": "",
  "signature": "sha256:5dd5104d1650a5921e30be55bdd3f7c63a616d2c34f57e85cb5af9deffda1006"
 },
 "nbformat": 3,
 "nbformat_minor": 0,
 "worksheets": [
  {
   "cells": [
    {
     "cell_type": "code",
     "collapsed": false,
     "input": [
      "from collections import Counter\n",
      "import os\n",
      "import pickle\n",
      "import glob\n",
      "\n",
      "import matplotlib.ticker as tkr\n",
      "from IPython.core.display import HTML\n",
      "import pandas as pd\n",
      "import scipy.spatial\n",
      "import scipy.cluster\n",
      "import pybedtools\n",
      "\n",
      "from gscripts.general import parsers\n",
      "from gscripts.general.dataviz import Figure\n",
      "from gscripts.GO import GO\n",
      "import gffutils\n",
      "from scipy.stats import hypergeom\n",
      "\n",
      "img_path = \"/nas3/gpratt/Dropbox/Presentations/notebooks/public_clip\"\n",
      "\n",
      "%load_ext autoreload \n",
      "%autoreload 2\n",
      "reload(parsers)\n",
      "reload(pybedtools)"
     ],
     "language": "python",
     "metadata": {},
     "outputs": [
      {
       "output_type": "stream",
       "stream": "stderr",
       "text": [
        "/Users/gpratt/anaconda/lib/python2.7/site-packages/seaborn/rcmod.py:465: UserWarning: set_color_palette is deprecated, use set_palette instead.\n",
        "  UserWarning)\n"
       ]
      },
      {
       "metadata": {},
       "output_type": "pyout",
       "prompt_number": 1,
       "text": [
        "<module 'pybedtools' from '/Users/gpratt/bioinformatics/tools/pybedtools/pybedtools/__init__.pyc'>"
       ]
      }
     ],
     "prompt_number": 1
    },
    {
     "cell_type": "markdown",
     "metadata": {},
     "source": [
      "#Helper functions"
     ]
    },
    {
     "cell_type": "code",
     "collapsed": false,
     "input": [
      "analysis_dir = \"/Users/gpratt/bioinformatics/yeolab/projects/public_clip/analysis/v6\"\n",
      "combined_df = parsers.clipseq_metrics(analysis_dir)"
     ],
     "language": "python",
     "metadata": {},
     "outputs": [
      {
       "output_type": "stream",
       "stream": "stdout",
       "text": [
        "<closed file '/Users/gpratt/bioinformatics/yeolab/projects/public_clip/analysis/v6/SRR363798.polyATrim.adapterTrim.metrics', mode 'r' at 0x10cb89300>\n",
        "<closed file '/Users/gpratt/bioinformatics/yeolab/projects/public_clip/analysis/v6/SRR363799.polyATrim.adapterTrim.metrics', mode 'r' at 0x10cb89300>\n",
        "<closed file '/Users/gpratt/bioinformatics/yeolab/projects/public_clip/analysis/v6/SRR850555.polyATrim.adapterTrim.metrics', mode 'r' at 0x10cb89300>\n",
        "<closed file '/Users/gpratt/bioinformatics/yeolab/projects/public_clip/analysis/v6/SRR850554.polyATrim.adapterTrim.metrics', mode 'r' at 0x10cb89300>\n",
        "<closed file '/Users/gpratt/bioinformatics/yeolab/projects/public_clip/analysis/v6/SRR850556.polyATrim.adapterTrim.metrics', mode 'r' at 0x10cb89300>\n",
        "<closed file '/Users/gpratt/bioinformatics/yeolab/projects/public_clip/analysis/v6/SRR850551.polyATrim.adapterTrim.metrics', mode 'r' at 0x10cb89300>\n",
        "<closed file '/Users/gpratt/bioinformatics/yeolab/projects/public_clip/analysis/v6/SRR363796.polyATrim.adapterTrim.metrics', mode 'r' at 0x10cb89300>\n",
        "<closed file '/Users/gpratt/bioinformatics/yeolab/projects/public_clip/analysis/v6/SRR363797.polyATrim.adapterTrim.metrics', mode 'r' at 0x10cb89300>\n",
        "<closed file '/Users/gpratt/bioinformatics/yeolab/projects/public_clip/analysis/v6/SRR189777.polyATrim.adapterTrim.metrics', mode 'r' at 0x10cb89300>\n",
        "<closed file '/Users/gpratt/bioinformatics/yeolab/projects/public_clip/analysis/v6/SRR189778.polyATrim.adapterTrim.metrics', mode 'r' at 0x10cb89300>\n",
        "<closed file '/Users/gpratt/bioinformatics/yeolab/projects/public_clip/analysis/v6/SRR965314.polyATrim.adapterTrim.metrics', mode 'r' at 0x10cb89300>\n",
        "<closed file '/Users/gpratt/bioinformatics/yeolab/projects/public_clip/analysis/v6/SRR965315.polyATrim.adapterTrim.metrics', mode 'r' at 0x10cb89300>\n",
        "<closed file '/Users/gpratt/bioinformatics/yeolab/projects/public_clip/analysis/v6/SRR965316.polyATrim.adapterTrim.metrics', mode 'r' at 0x10cb89300>\n",
        "<closed file '/Users/gpratt/bioinformatics/yeolab/projects/public_clip/analysis/v6/SRR965317.polyATrim.adapterTrim.metrics', mode 'r' at 0x10cb89300>\n",
        "<closed file '/Users/gpratt/bioinformatics/yeolab/projects/public_clip/analysis/v6/SRR850552.polyATrim.adapterTrim.metrics', mode 'r' at 0x10cb89300>\n",
        "<closed file '/Users/gpratt/bioinformatics/yeolab/projects/public_clip/analysis/v6/SRR850553.polyATrim.adapterTrim.metrics', mode 'r' at 0x10cb89300>\n",
        "<closed file '/Users/gpratt/bioinformatics/yeolab/projects/public_clip/analysis/v6/SRR771562.polyATrim.adapterTrim.metrics', mode 'r' at 0x10cb89300>\n",
        "<closed file '/Users/gpratt/bioinformatics/yeolab/projects/public_clip/analysis/v6/SRR1165128.polyATrim.adapterTrim.metrics', mode 'r' at 0x10cb89300>\n",
        "<closed file '/Users/gpratt/bioinformatics/yeolab/projects/public_clip/analysis/v6/SRR1165127.polyATrim.adapterTrim.metrics', mode 'r' at 0x10cb89300>\n",
        "<closed file '/Users/gpratt/bioinformatics/yeolab/projects/public_clip/analysis/v6/SRR850323.polyATrim.adapterTrim.metrics', mode 'r' at 0x10cb89300>\n",
        "<closed file '/Users/gpratt/bioinformatics/yeolab/projects/public_clip/analysis/v6/SRR533661.polyATrim.adapterTrim.metrics', mode 'r' at 0x10cb89300>\n",
        "<closed file '/Users/gpratt/bioinformatics/yeolab/projects/public_clip/analysis/v6/SRR363981.polyATrim.adapterTrim.metrics', mode 'r' at 0x10cb89300>\n",
        "<closed file '/Users/gpratt/bioinformatics/yeolab/projects/public_clip/analysis/v6/SRR527729.polyATrim.adapterTrim.metrics', mode 'r' at 0x10cb89300>\n",
        "<closed file '/Users/gpratt/bioinformatics/yeolab/projects/public_clip/analysis/v6/SRR949131.polyATrim.adapterTrim.metrics', mode 'r' at 0x10cb89300>\n",
        "<closed file '/Users/gpratt/bioinformatics/yeolab/projects/public_clip/analysis/v6/SRR867272.polyATrim.adapterTrim.metrics', mode 'r' at 0x10cb89300>\n",
        "<closed file '/Users/gpratt/bioinformatics/yeolab/projects/public_clip/analysis/v6/SRR867273.polyATrim.adapterTrim.metrics', mode 'r' at 0x10cb89300>\n",
        "<closed file '/Users/gpratt/bioinformatics/yeolab/projects/public_clip/analysis/v6/SRR867271.polyATrim.adapterTrim.metrics', mode 'r' at 0x10cb89300>\n",
        "<closed file '/Users/gpratt/bioinformatics/yeolab/projects/public_clip/analysis/v6/SRR867274.polyATrim.adapterTrim.metrics', mode 'r' at 0x10cb89300>\n",
        "<closed file '/Users/gpratt/bioinformatics/yeolab/projects/public_clip/analysis/v6/SRR867251.polyATrim.adapterTrim.metrics', mode 'r' at 0x10cb89300>\n",
        "<closed file '/Users/gpratt/bioinformatics/yeolab/projects/public_clip/analysis/v6/SRR867250.polyATrim.adapterTrim.metrics', mode 'r' at 0x10cb89300>\n",
        "<closed file '/Users/gpratt/bioinformatics/yeolab/projects/public_clip/analysis/v6/SRR867062.polyATrim.adapterTrim.metrics', mode 'r' at 0x10cb89300>\n",
        "<closed file '/Users/gpratt/bioinformatics/yeolab/projects/public_clip/analysis/v6/SRR771563.polyATrim.adapterTrim.metrics', mode 'r' at 0x10cb89300>\n",
        "<closed file '/Users/gpratt/bioinformatics/yeolab/projects/public_clip/analysis/v6/SRR867066.polyATrim.adapterTrim.metrics', mode 'r' at 0x10cb89300>\n",
        "<closed file '/Users/gpratt/bioinformatics/yeolab/projects/public_clip/analysis/v6/SRR867065.polyATrim.adapterTrim.metrics', mode 'r' at 0x10cb89300>\n",
        "<closed file '/Users/gpratt/bioinformatics/yeolab/projects/public_clip/analysis/v6/SRR867003.polyATrim.adapterTrim.metrics', mode 'r' at 0x10cb89300>\n",
        "<closed file '/Users/gpratt/bioinformatics/yeolab/projects/public_clip/analysis/v6/SRR867004.polyATrim.adapterTrim.metrics', mode 'r' at 0x10cb89300>\n",
        "<closed file '/Users/gpratt/bioinformatics/yeolab/projects/public_clip/analysis/v6/SRR606197.polyATrim.adapterTrim.metrics', mode 'r' at 0x10cb89300>\n",
        "<closed file '/Users/gpratt/bioinformatics/yeolab/projects/public_clip/analysis/v6/SRR606198.polyATrim.adapterTrim.metrics', mode 'r' at 0x10cb89300>\n",
        "<closed file '/Users/gpratt/bioinformatics/yeolab/projects/public_clip/analysis/v6/SRR408237.polyATrim.adapterTrim.metrics', mode 'r' at 0x10cb89300>\n",
        "<closed file '/Users/gpratt/bioinformatics/yeolab/projects/public_clip/analysis/v6/SRR556763.polyATrim.adapterTrim.metrics', mode 'r' at 0x10cb89300>\n",
        "<closed file '/Users/gpratt/bioinformatics/yeolab/projects/public_clip/analysis/v6/SRR764669.polyATrim.adapterTrim.metrics', mode 'r' at 0x10cb89300>\n"
       ]
      }
     ],
     "prompt_number": 26
    },
    {
     "cell_type": "code",
     "collapsed": false,
     "input": [
      "combined_df[combined_df['Passed QC']]"
     ],
     "language": "python",
     "metadata": {},
     "outputs": [
      {
       "html": [
        "<div style=\"max-height:1000px;max-width:1500px;overflow:auto;\">\n",
        "<table border=\"1\" class=\"dataframe\">\n",
        "  <thead>\n",
        "    <tr style=\"text-align: right;\">\n",
        "      <th></th>\n",
        "      <th>Input Bases</th>\n",
        "      <th>Input Reads</th>\n",
        "      <th>Quality-trimmed</th>\n",
        "      <th>Too long reads</th>\n",
        "      <th>Too short reads</th>\n",
        "      <th>Trimmed reads</th>\n",
        "      <th>% of reads mapped to multiple loci</th>\n",
        "      <th>% of reads mapped to too many loci</th>\n",
        "      <th>% of reads unmapped: other</th>\n",
        "      <th>% of reads unmapped: too many mismatches</th>\n",
        "      <th>...</th>\n",
        "      <th>PCB</th>\n",
        "      <th>Percent Repetative</th>\n",
        "      <th>Usable Reads</th>\n",
        "      <th>removed_count</th>\n",
        "      <th>total_count</th>\n",
        "      <th>spot</th>\n",
        "      <th>Num Peaks</th>\n",
        "      <th>Percent Usable / Input</th>\n",
        "      <th>Percent Usable / Mapped</th>\n",
        "      <th>Passed QC</th>\n",
        "    </tr>\n",
        "  </thead>\n",
        "  <tbody>\n",
        "    <tr>\n",
        "      <th>SRR034467</th>\n",
        "      <td>  136551636</td>\n",
        "      <td>  3793101</td>\n",
        "      <td>    3993435</td>\n",
        "      <td> 0</td>\n",
        "      <td>   260436</td>\n",
        "      <td>   596054</td>\n",
        "      <td> 0.00%</td>\n",
        "      <td>  5.11%</td>\n",
        "      <td>  0.02%</td>\n",
        "      <td> 0.00%</td>\n",
        "      <td>...</td>\n",
        "      <td> 0.762407</td>\n",
        "      <td>  0.1094956</td>\n",
        "      <td>   526932</td>\n",
        "      <td>   183852</td>\n",
        "      <td>   710784</td>\n",
        "      <td> 0.000665</td>\n",
        "      <td>    84</td>\n",
        "      <td>  0.7413391</td>\n",
        "      <td> 0.138919</td>\n",
        "      <td> True</td>\n",
        "    </tr>\n",
        "    <tr>\n",
        "      <th>SRR034468</th>\n",
        "      <td>  115735896</td>\n",
        "      <td>  3214886</td>\n",
        "      <td>    5256938</td>\n",
        "      <td> 0</td>\n",
        "      <td>   233040</td>\n",
        "      <td>   535913</td>\n",
        "      <td> 0.00%</td>\n",
        "      <td>  6.76%</td>\n",
        "      <td>  0.50%</td>\n",
        "      <td> 0.00%</td>\n",
        "      <td>...</td>\n",
        "      <td> 0.842168</td>\n",
        "      <td>    0.14343</td>\n",
        "      <td>   554046</td>\n",
        "      <td>   128455</td>\n",
        "      <td>   682501</td>\n",
        "      <td> 0.000561</td>\n",
        "      <td>    79</td>\n",
        "      <td>  0.8117878</td>\n",
        "      <td> 0.172338</td>\n",
        "      <td> True</td>\n",
        "    </tr>\n",
        "    <tr>\n",
        "      <th>SRR034469</th>\n",
        "      <td>  121689540</td>\n",
        "      <td>  3380265</td>\n",
        "      <td>    1605588</td>\n",
        "      <td> 0</td>\n",
        "      <td>   283399</td>\n",
        "      <td>   604598</td>\n",
        "      <td> 0.00%</td>\n",
        "      <td>  5.75%</td>\n",
        "      <td>  0.04%</td>\n",
        "      <td> 0.00%</td>\n",
        "      <td>...</td>\n",
        "      <td> 0.834448</td>\n",
        "      <td>   0.111483</td>\n",
        "      <td>   581090</td>\n",
        "      <td>   133354</td>\n",
        "      <td>   714444</td>\n",
        "      <td> 0.000795</td>\n",
        "      <td>    92</td>\n",
        "      <td>  0.8133458</td>\n",
        "      <td> 0.171907</td>\n",
        "      <td> True</td>\n",
        "    </tr>\n",
        "    <tr>\n",
        "      <th>SRR048951</th>\n",
        "      <td>   74033600</td>\n",
        "      <td>  2313550</td>\n",
        "      <td>     386583</td>\n",
        "      <td> 0</td>\n",
        "      <td>   225335</td>\n",
        "      <td>   274837</td>\n",
        "      <td> 0.00%</td>\n",
        "      <td> 11.33%</td>\n",
        "      <td>  0.07%</td>\n",
        "      <td> 0.00%</td>\n",
        "      <td>...</td>\n",
        "      <td> 0.719552</td>\n",
        "      <td>  0.2158423</td>\n",
        "      <td>   551013</td>\n",
        "      <td>   433316</td>\n",
        "      <td>   984329</td>\n",
        "      <td> 0.003658</td>\n",
        "      <td>   158</td>\n",
        "      <td>  0.5597854</td>\n",
        "      <td> 0.238168</td>\n",
        "      <td> True</td>\n",
        "    </tr>\n",
        "    <tr>\n",
        "      <th>SRR048956</th>\n",
        "      <td>  142553056</td>\n",
        "      <td>  4454783</td>\n",
        "      <td>    1106443</td>\n",
        "      <td> 0</td>\n",
        "      <td>   118347</td>\n",
        "      <td>   281391</td>\n",
        "      <td> 0.00%</td>\n",
        "      <td>  9.86%</td>\n",
        "      <td>  0.01%</td>\n",
        "      <td> 0.00%</td>\n",
        "      <td>...</td>\n",
        "      <td> 0.692145</td>\n",
        "      <td>  0.1499249</td>\n",
        "      <td>   512593</td>\n",
        "      <td>   808543</td>\n",
        "      <td>  1321136</td>\n",
        "      <td> 0.000880</td>\n",
        "      <td>    47</td>\n",
        "      <td>  0.3879941</td>\n",
        "      <td> 0.115066</td>\n",
        "      <td> True</td>\n",
        "    </tr>\n",
        "    <tr>\n",
        "      <th>SRR048958</th>\n",
        "      <td>  163077792</td>\n",
        "      <td>  5096181</td>\n",
        "      <td>    2679024</td>\n",
        "      <td> 0</td>\n",
        "      <td>   508796</td>\n",
        "      <td>   615673</td>\n",
        "      <td> 0.00%</td>\n",
        "      <td> 11.78%</td>\n",
        "      <td>  0.06%</td>\n",
        "      <td> 0.00%</td>\n",
        "      <td>...</td>\n",
        "      <td> 0.667388</td>\n",
        "      <td>  0.3763271</td>\n",
        "      <td>   695140</td>\n",
        "      <td>   935622</td>\n",
        "      <td>  1630762</td>\n",
        "      <td> 0.006104</td>\n",
        "      <td>   344</td>\n",
        "      <td>   0.426267</td>\n",
        "      <td> 0.136404</td>\n",
        "      <td> True</td>\n",
        "    </tr>\n",
        "    <tr>\n",
        "      <th>SRR048963</th>\n",
        "      <td>  164473440</td>\n",
        "      <td>  5139795</td>\n",
        "      <td>    2617047</td>\n",
        "      <td> 0</td>\n",
        "      <td>   369505</td>\n",
        "      <td>   486801</td>\n",
        "      <td> 0.00%</td>\n",
        "      <td> 10.75%</td>\n",
        "      <td>  0.05%</td>\n",
        "      <td> 0.00%</td>\n",
        "      <td>...</td>\n",
        "      <td> 0.530961</td>\n",
        "      <td>  0.3017249</td>\n",
        "      <td>   788488</td>\n",
        "      <td>  1420455</td>\n",
        "      <td>  2208943</td>\n",
        "      <td> 0.006216</td>\n",
        "      <td>   407</td>\n",
        "      <td>  0.3569526</td>\n",
        "      <td> 0.153408</td>\n",
        "      <td> True</td>\n",
        "    </tr>\n",
        "    <tr>\n",
        "      <th>SRR048964</th>\n",
        "      <td>  169761536</td>\n",
        "      <td>  5305048</td>\n",
        "      <td>    2646718</td>\n",
        "      <td> 0</td>\n",
        "      <td>   472544</td>\n",
        "      <td>   550586</td>\n",
        "      <td> 0.00%</td>\n",
        "      <td> 12.95%</td>\n",
        "      <td>  0.08%</td>\n",
        "      <td> 0.00%</td>\n",
        "      <td>...</td>\n",
        "      <td> 0.651810</td>\n",
        "      <td>  0.5920955</td>\n",
        "      <td>   510712</td>\n",
        "      <td>   669567</td>\n",
        "      <td>  1180279</td>\n",
        "      <td> 0.007769</td>\n",
        "      <td>   321</td>\n",
        "      <td>  0.4327045</td>\n",
        "      <td> 0.096269</td>\n",
        "      <td> True</td>\n",
        "    </tr>\n",
        "    <tr>\n",
        "      <th>SRR053662</th>\n",
        "      <td>  139325440</td>\n",
        "      <td>  4353920</td>\n",
        "      <td>   11576596</td>\n",
        "      <td> 0</td>\n",
        "      <td>   206547</td>\n",
        "      <td>   169917</td>\n",
        "      <td> 0.00%</td>\n",
        "      <td>  9.49%</td>\n",
        "      <td>  0.18%</td>\n",
        "      <td> 0.00%</td>\n",
        "      <td>...</td>\n",
        "      <td> 0.398764</td>\n",
        "      <td>  0.1777125</td>\n",
        "      <td>   656764</td>\n",
        "      <td>  2280911</td>\n",
        "      <td>  2937675</td>\n",
        "      <td> 0.046455</td>\n",
        "      <td>  1473</td>\n",
        "      <td>  0.2235659</td>\n",
        "      <td> 0.150844</td>\n",
        "      <td> True</td>\n",
        "    </tr>\n",
        "    <tr>\n",
        "      <th>SRR053663</th>\n",
        "      <td>  153589760</td>\n",
        "      <td>  4799680</td>\n",
        "      <td>   10284430</td>\n",
        "      <td> 0</td>\n",
        "      <td>   148802</td>\n",
        "      <td>   212657</td>\n",
        "      <td> 0.00%</td>\n",
        "      <td>  9.15%</td>\n",
        "      <td>  0.21%</td>\n",
        "      <td> 0.00%</td>\n",
        "      <td>...</td>\n",
        "      <td> 0.365785</td>\n",
        "      <td>  0.1659409</td>\n",
        "      <td>   756964</td>\n",
        "      <td>  2513917</td>\n",
        "      <td>  3270881</td>\n",
        "      <td> 0.019769</td>\n",
        "      <td>   869</td>\n",
        "      <td>  0.2314251</td>\n",
        "      <td> 0.157711</td>\n",
        "      <td> True</td>\n",
        "    </tr>\n",
        "    <tr>\n",
        "      <th>SRR072952</th>\n",
        "      <td>  221042211</td>\n",
        "      <td>  5667749</td>\n",
        "      <td>   51295018</td>\n",
        "      <td> 0</td>\n",
        "      <td>    24698</td>\n",
        "      <td>   114361</td>\n",
        "      <td> 0.00%</td>\n",
        "      <td>  9.28%</td>\n",
        "      <td>  0.01%</td>\n",
        "      <td> 0.00%</td>\n",
        "      <td>...</td>\n",
        "      <td> 0.632406</td>\n",
        "      <td> 0.04059248</td>\n",
        "      <td>   555531</td>\n",
        "      <td>  2004192</td>\n",
        "      <td>  2559723</td>\n",
        "      <td> 0.000084</td>\n",
        "      <td>    10</td>\n",
        "      <td>  0.2170278</td>\n",
        "      <td> 0.098016</td>\n",
        "      <td> True</td>\n",
        "    </tr>\n",
        "    <tr>\n",
        "      <th>SRR107031</th>\n",
        "      <td>  192296772</td>\n",
        "      <td>  5341577</td>\n",
        "      <td>   11683627</td>\n",
        "      <td> 0</td>\n",
        "      <td>   216844</td>\n",
        "      <td>   543025</td>\n",
        "      <td> 0.00%</td>\n",
        "      <td>  7.71%</td>\n",
        "      <td>  0.01%</td>\n",
        "      <td> 0.00%</td>\n",
        "      <td>...</td>\n",
        "      <td> 0.875199</td>\n",
        "      <td> 0.09759552</td>\n",
        "      <td>   549838</td>\n",
        "      <td>   197929</td>\n",
        "      <td>   747767</td>\n",
        "      <td> 0.013778</td>\n",
        "      <td>   433</td>\n",
        "      <td>  0.7353066</td>\n",
        "      <td> 0.102936</td>\n",
        "      <td> True</td>\n",
        "    </tr>\n",
        "    <tr>\n",
        "      <th>SRR107032</th>\n",
        "      <td>  432342000</td>\n",
        "      <td> 12009500</td>\n",
        "      <td>   14764411</td>\n",
        "      <td> 0</td>\n",
        "      <td>   833766</td>\n",
        "      <td>  1406519</td>\n",
        "      <td> 0.00%</td>\n",
        "      <td>  8.85%</td>\n",
        "      <td>  0.05%</td>\n",
        "      <td> 0.00%</td>\n",
        "      <td>...</td>\n",
        "      <td> 0.524426</td>\n",
        "      <td>  0.1497086</td>\n",
        "      <td>  1705637</td>\n",
        "      <td>  2036947</td>\n",
        "      <td>  3742584</td>\n",
        "      <td> 0.031328</td>\n",
        "      <td>  2832</td>\n",
        "      <td>  0.4557378</td>\n",
        "      <td> 0.142024</td>\n",
        "      <td> True</td>\n",
        "    </tr>\n",
        "    <tr>\n",
        "      <th>SRR189775</th>\n",
        "      <td>  672782704</td>\n",
        "      <td> 17704808</td>\n",
        "      <td>  127212689</td>\n",
        "      <td> 0</td>\n",
        "      <td>  8546066</td>\n",
        "      <td>  9248278</td>\n",
        "      <td> 0.00%</td>\n",
        "      <td> 27.64%</td>\n",
        "      <td>  0.15%</td>\n",
        "      <td> 0.00%</td>\n",
        "      <td>...</td>\n",
        "      <td> 0.685516</td>\n",
        "      <td>  0.6216289</td>\n",
        "      <td>   545751</td>\n",
        "      <td>  2370392</td>\n",
        "      <td>  2916143</td>\n",
        "      <td> 0.002270</td>\n",
        "      <td>    73</td>\n",
        "      <td>  0.1871482</td>\n",
        "      <td> 0.030825</td>\n",
        "      <td> True</td>\n",
        "    </tr>\n",
        "    <tr>\n",
        "      <th>SRR189776</th>\n",
        "      <td>  713740168</td>\n",
        "      <td> 18782636</td>\n",
        "      <td>  148227233</td>\n",
        "      <td> 0</td>\n",
        "      <td>  9424626</td>\n",
        "      <td>  9849147</td>\n",
        "      <td> 0.00%</td>\n",
        "      <td> 26.29%</td>\n",
        "      <td>  0.14%</td>\n",
        "      <td> 0.00%</td>\n",
        "      <td>...</td>\n",
        "      <td> 0.701177</td>\n",
        "      <td>  0.6407763</td>\n",
        "      <td>   531257</td>\n",
        "      <td>  2277587</td>\n",
        "      <td>  2808844</td>\n",
        "      <td> 0.003301</td>\n",
        "      <td>   100</td>\n",
        "      <td>  0.1891372</td>\n",
        "      <td> 0.028284</td>\n",
        "      <td> True</td>\n",
        "    </tr>\n",
        "    <tr>\n",
        "      <th>SRR189779</th>\n",
        "      <td> 1800960696</td>\n",
        "      <td> 50026686</td>\n",
        "      <td>  767177160</td>\n",
        "      <td> 0</td>\n",
        "      <td> 21233863</td>\n",
        "      <td>  2540814</td>\n",
        "      <td> 0.00%</td>\n",
        "      <td> 18.64%</td>\n",
        "      <td>  0.18%</td>\n",
        "      <td> 0.00%</td>\n",
        "      <td>...</td>\n",
        "      <td> 0.774418</td>\n",
        "      <td>  0.5026124</td>\n",
        "      <td>  7190694</td>\n",
        "      <td>  3752251</td>\n",
        "      <td> 10942945</td>\n",
        "      <td> 0.006557</td>\n",
        "      <td>  2264</td>\n",
        "      <td>  0.6571078</td>\n",
        "      <td> 0.143737</td>\n",
        "      <td> True</td>\n",
        "    </tr>\n",
        "    <tr>\n",
        "      <th>SRR189780</th>\n",
        "      <td> 1464221844</td>\n",
        "      <td> 40672829</td>\n",
        "      <td>  345593538</td>\n",
        "      <td> 0</td>\n",
        "      <td> 10827327</td>\n",
        "      <td>  3870154</td>\n",
        "      <td> 0.00%</td>\n",
        "      <td> 21.70%</td>\n",
        "      <td>  0.09%</td>\n",
        "      <td> 0.00%</td>\n",
        "      <td>...</td>\n",
        "      <td> 0.769271</td>\n",
        "      <td>  0.3091216</td>\n",
        "      <td>  6141910</td>\n",
        "      <td>  4385685</td>\n",
        "      <td> 10527595</td>\n",
        "      <td> 0.009360</td>\n",
        "      <td>  2483</td>\n",
        "      <td>  0.5834106</td>\n",
        "      <td> 0.151008</td>\n",
        "      <td> True</td>\n",
        "    </tr>\n",
        "    <tr>\n",
        "      <th>SRR189781</th>\n",
        "      <td> 2001289500</td>\n",
        "      <td> 55591375</td>\n",
        "      <td> 1126312954</td>\n",
        "      <td> 0</td>\n",
        "      <td> 31914585</td>\n",
        "      <td>  4416424</td>\n",
        "      <td> 0.00%</td>\n",
        "      <td> 15.20%</td>\n",
        "      <td>  0.05%</td>\n",
        "      <td> 0.00%</td>\n",
        "      <td>...</td>\n",
        "      <td> 0.755919</td>\n",
        "      <td>  0.6479472</td>\n",
        "      <td>  4894807</td>\n",
        "      <td>  5966503</td>\n",
        "      <td> 10861310</td>\n",
        "      <td> 0.017309</td>\n",
        "      <td>  3644</td>\n",
        "      <td>  0.4506645</td>\n",
        "      <td> 0.088050</td>\n",
        "      <td> True</td>\n",
        "    </tr>\n",
        "    <tr>\n",
        "      <th>SRR248532</th>\n",
        "      <td>  754359804</td>\n",
        "      <td> 20954439</td>\n",
        "      <td>   94679651</td>\n",
        "      <td> 0</td>\n",
        "      <td>  3403166</td>\n",
        "      <td>  2519310</td>\n",
        "      <td> 0.00%</td>\n",
        "      <td>  6.72%</td>\n",
        "      <td>  0.00%</td>\n",
        "      <td> 0.00%</td>\n",
        "      <td>...</td>\n",
        "      <td> 0.709465</td>\n",
        "      <td>    0.20894</td>\n",
        "      <td>   904251</td>\n",
        "      <td>  1217131</td>\n",
        "      <td>  2121382</td>\n",
        "      <td> 0.001487</td>\n",
        "      <td>    74</td>\n",
        "      <td>  0.4262556</td>\n",
        "      <td> 0.043153</td>\n",
        "      <td> True</td>\n",
        "    </tr>\n",
        "    <tr>\n",
        "      <th>SRR390466</th>\n",
        "      <td>  859527864</td>\n",
        "      <td> 23875774</td>\n",
        "      <td>  187002987</td>\n",
        "      <td> 0</td>\n",
        "      <td>  5423962</td>\n",
        "      <td>  1482177</td>\n",
        "      <td> 0.00%</td>\n",
        "      <td>  8.26%</td>\n",
        "      <td>  0.12%</td>\n",
        "      <td> 0.00%</td>\n",
        "      <td>...</td>\n",
        "      <td> 0.403207</td>\n",
        "      <td>  0.2618098</td>\n",
        "      <td>  1602863</td>\n",
        "      <td>  6742328</td>\n",
        "      <td>  8345191</td>\n",
        "      <td> 0.002113</td>\n",
        "      <td>   202</td>\n",
        "      <td>  0.1920703</td>\n",
        "      <td> 0.067133</td>\n",
        "      <td> True</td>\n",
        "    </tr>\n",
        "    <tr>\n",
        "      <th>SRR390467</th>\n",
        "      <td> 1160919900</td>\n",
        "      <td> 32247775</td>\n",
        "      <td>  356345923</td>\n",
        "      <td> 0</td>\n",
        "      <td> 10038730</td>\n",
        "      <td>  2028850</td>\n",
        "      <td> 0.00%</td>\n",
        "      <td>  9.75%</td>\n",
        "      <td>  0.07%</td>\n",
        "      <td> 0.00%</td>\n",
        "      <td>...</td>\n",
        "      <td> 0.443750</td>\n",
        "      <td>-0.02436398</td>\n",
        "      <td>  1036102</td>\n",
        "      <td> 15749654</td>\n",
        "      <td> 16785756</td>\n",
        "      <td> 0.004254</td>\n",
        "      <td>   259</td>\n",
        "      <td> 0.06172507</td>\n",
        "      <td> 0.032129</td>\n",
        "      <td> True</td>\n",
        "    </tr>\n",
        "    <tr>\n",
        "      <th>SRR398197</th>\n",
        "      <td>  108422568</td>\n",
        "      <td>  3011738</td>\n",
        "      <td>    8249347</td>\n",
        "      <td> 0</td>\n",
        "      <td>   152713</td>\n",
        "      <td>   409710</td>\n",
        "      <td> 0.00%</td>\n",
        "      <td> 11.05%</td>\n",
        "      <td>  0.11%</td>\n",
        "      <td> 0.00%</td>\n",
        "      <td>...</td>\n",
        "      <td> 0.685774</td>\n",
        "      <td>  0.1211852</td>\n",
        "      <td>   584917</td>\n",
        "      <td>   381277</td>\n",
        "      <td>   966194</td>\n",
        "      <td> 0.001042</td>\n",
        "      <td>    88</td>\n",
        "      <td>  0.6053826</td>\n",
        "      <td> 0.194212</td>\n",
        "      <td> True</td>\n",
        "    </tr>\n",
        "    <tr>\n",
        "      <th>SRR398205</th>\n",
        "      <td>  200567340</td>\n",
        "      <td>  5571315</td>\n",
        "      <td>    9919822</td>\n",
        "      <td> 0</td>\n",
        "      <td>   185331</td>\n",
        "      <td>   272580</td>\n",
        "      <td> 0.00%</td>\n",
        "      <td> 11.49%</td>\n",
        "      <td>  0.17%</td>\n",
        "      <td> 0.00%</td>\n",
        "      <td>...</td>\n",
        "      <td> 0.484643</td>\n",
        "      <td>   0.182588</td>\n",
        "      <td>  1322826</td>\n",
        "      <td>  1633432</td>\n",
        "      <td>  2956258</td>\n",
        "      <td> 0.000681</td>\n",
        "      <td>   136</td>\n",
        "      <td>  0.4474664</td>\n",
        "      <td> 0.237435</td>\n",
        "      <td> True</td>\n",
        "    </tr>\n",
        "    <tr>\n",
        "      <th>SRR408236</th>\n",
        "      <td> 3390414108</td>\n",
        "      <td> 66478708</td>\n",
        "      <td>  132152607</td>\n",
        "      <td> 0</td>\n",
        "      <td>  2097366</td>\n",
        "      <td>   803458</td>\n",
        "      <td> 0.00%</td>\n",
        "      <td> 10.92%</td>\n",
        "      <td>  0.02%</td>\n",
        "      <td> 0.00%</td>\n",
        "      <td>...</td>\n",
        "      <td> 0.284033</td>\n",
        "      <td>  0.3235496</td>\n",
        "      <td>  5793650</td>\n",
        "      <td> 28146268</td>\n",
        "      <td> 33939918</td>\n",
        "      <td> 0.003111</td>\n",
        "      <td>   966</td>\n",
        "      <td>  0.1707031</td>\n",
        "      <td> 0.087150</td>\n",
        "      <td> True</td>\n",
        "    </tr>\n",
        "    <tr>\n",
        "      <th>SRR490650</th>\n",
        "      <td> 2142447696</td>\n",
        "      <td> 59512436</td>\n",
        "      <td> 1137919622</td>\n",
        "      <td> 0</td>\n",
        "      <td> 33727881</td>\n",
        "      <td>  3339799</td>\n",
        "      <td> 0.00%</td>\n",
        "      <td>  4.69%</td>\n",
        "      <td>  0.04%</td>\n",
        "      <td> 0.00%</td>\n",
        "      <td>...</td>\n",
        "      <td> 0.473064</td>\n",
        "      <td>  0.6375871</td>\n",
        "      <td>   690598</td>\n",
        "      <td>  1247367</td>\n",
        "      <td>  1937965</td>\n",
        "      <td> 0.002546</td>\n",
        "      <td>   113</td>\n",
        "      <td>  0.3563522</td>\n",
        "      <td> 0.011604</td>\n",
        "      <td> True</td>\n",
        "    </tr>\n",
        "    <tr>\n",
        "      <th>SRR492994</th>\n",
        "      <td> 1261548320</td>\n",
        "      <td> 33198640</td>\n",
        "      <td>  146474307</td>\n",
        "      <td> 0</td>\n",
        "      <td>  6204552</td>\n",
        "      <td>  5187769</td>\n",
        "      <td> 0.00%</td>\n",
        "      <td> 13.24%</td>\n",
        "      <td>  0.14%</td>\n",
        "      <td> 0.00%</td>\n",
        "      <td>...</td>\n",
        "      <td> 0.221840</td>\n",
        "      <td>  0.2990447</td>\n",
        "      <td>  2010717</td>\n",
        "      <td> 12283490</td>\n",
        "      <td> 14294207</td>\n",
        "      <td> 0.003745</td>\n",
        "      <td>   535</td>\n",
        "      <td>  0.1406666</td>\n",
        "      <td> 0.060566</td>\n",
        "      <td> True</td>\n",
        "    </tr>\n",
        "    <tr>\n",
        "      <th>SRR527727</th>\n",
        "      <td> 1060330356</td>\n",
        "      <td> 29453621</td>\n",
        "      <td>          0</td>\n",
        "      <td> 0</td>\n",
        "      <td>  2944920</td>\n",
        "      <td>  5473722</td>\n",
        "      <td> 0.00%</td>\n",
        "      <td>  6.85%</td>\n",
        "      <td> 13.27%</td>\n",
        "      <td> 0.00%</td>\n",
        "      <td>...</td>\n",
        "      <td> 0.836147</td>\n",
        "      <td>  0.1562598</td>\n",
        "      <td>  1456336</td>\n",
        "      <td>  2141928</td>\n",
        "      <td>  3598264</td>\n",
        "      <td> 0.021448</td>\n",
        "      <td>  2089</td>\n",
        "      <td>  0.4047329</td>\n",
        "      <td> 0.049445</td>\n",
        "      <td> True</td>\n",
        "    </tr>\n",
        "    <tr>\n",
        "      <th>SRR556762</th>\n",
        "      <td> 2332192752</td>\n",
        "      <td> 64783132</td>\n",
        "      <td>          0</td>\n",
        "      <td> 0</td>\n",
        "      <td>  1938096</td>\n",
        "      <td>  5724884</td>\n",
        "      <td> 0.00%</td>\n",
        "      <td>  8.99%</td>\n",
        "      <td>  0.10%</td>\n",
        "      <td> 0.00%</td>\n",
        "      <td>...</td>\n",
        "      <td> 0.343259</td>\n",
        "      <td>   0.320747</td>\n",
        "      <td>  3178666</td>\n",
        "      <td> 10052166</td>\n",
        "      <td> 13230832</td>\n",
        "      <td> 0.053681</td>\n",
        "      <td>  5767</td>\n",
        "      <td>  0.2402469</td>\n",
        "      <td> 0.049066</td>\n",
        "      <td> True</td>\n",
        "    </tr>\n",
        "    <tr>\n",
        "      <th>SRR556764</th>\n",
        "      <td> 1735897824</td>\n",
        "      <td> 48219384</td>\n",
        "      <td>          0</td>\n",
        "      <td> 0</td>\n",
        "      <td>  1023308</td>\n",
        "      <td>  3351756</td>\n",
        "      <td> 0.00%</td>\n",
        "      <td>  3.22%</td>\n",
        "      <td>  0.12%</td>\n",
        "      <td> 0.00%</td>\n",
        "      <td>...</td>\n",
        "      <td> 0.648261</td>\n",
        "      <td> 0.05642407</td>\n",
        "      <td> 17899622</td>\n",
        "      <td> 10686992</td>\n",
        "      <td> 28586614</td>\n",
        "      <td> 0.001429</td>\n",
        "      <td>   966</td>\n",
        "      <td>   0.626154</td>\n",
        "      <td> 0.371212</td>\n",
        "      <td> True</td>\n",
        "    </tr>\n",
        "    <tr>\n",
        "      <th>SRR556765</th>\n",
        "      <td> 1779666120</td>\n",
        "      <td> 49435170</td>\n",
        "      <td>          0</td>\n",
        "      <td> 0</td>\n",
        "      <td>  1276688</td>\n",
        "      <td>  4037664</td>\n",
        "      <td> 0.00%</td>\n",
        "      <td>  3.38%</td>\n",
        "      <td>  0.11%</td>\n",
        "      <td> 0.00%</td>\n",
        "      <td>...</td>\n",
        "      <td> 0.788304</td>\n",
        "      <td>  0.0937927</td>\n",
        "      <td> 20271827</td>\n",
        "      <td>  6523865</td>\n",
        "      <td> 26795692</td>\n",
        "      <td> 0.001317</td>\n",
        "      <td>   934</td>\n",
        "      <td>  0.7565331</td>\n",
        "      <td> 0.410069</td>\n",
        "      <td> True</td>\n",
        "    </tr>\n",
        "    <tr>\n",
        "      <th>SRR556766</th>\n",
        "      <td> 1643306076</td>\n",
        "      <td> 45647391</td>\n",
        "      <td>          0</td>\n",
        "      <td> 0</td>\n",
        "      <td>   633083</td>\n",
        "      <td>  2252034</td>\n",
        "      <td> 0.00%</td>\n",
        "      <td>  1.43%</td>\n",
        "      <td>  0.02%</td>\n",
        "      <td> 0.00%</td>\n",
        "      <td>...</td>\n",
        "      <td> 0.629627</td>\n",
        "      <td> 0.04886023</td>\n",
        "      <td>   554827</td>\n",
        "      <td>   779366</td>\n",
        "      <td>  1334193</td>\n",
        "      <td> 0.002303</td>\n",
        "      <td>    65</td>\n",
        "      <td>  0.4158521</td>\n",
        "      <td> 0.012155</td>\n",
        "      <td> True</td>\n",
        "    </tr>\n",
        "    <tr>\n",
        "      <th>SRR567525</th>\n",
        "      <td> 2602464800</td>\n",
        "      <td> 32530810</td>\n",
        "      <td>          0</td>\n",
        "      <td> 0</td>\n",
        "      <td>   312397</td>\n",
        "      <td> 29741604</td>\n",
        "      <td> 0.00%</td>\n",
        "      <td>  2.14%</td>\n",
        "      <td>  0.01%</td>\n",
        "      <td> 0.00%</td>\n",
        "      <td>...</td>\n",
        "      <td> 0.448489</td>\n",
        "      <td> 0.01723778</td>\n",
        "      <td>  1219865</td>\n",
        "      <td>  2071099</td>\n",
        "      <td>  3290964</td>\n",
        "      <td> 0.083442</td>\n",
        "      <td>  5264</td>\n",
        "      <td>   0.370671</td>\n",
        "      <td> 0.037499</td>\n",
        "      <td> True</td>\n",
        "    </tr>\n",
        "    <tr>\n",
        "      <th>SRR567526</th>\n",
        "      <td> 2693607600</td>\n",
        "      <td> 33670095</td>\n",
        "      <td>          0</td>\n",
        "      <td> 0</td>\n",
        "      <td>   419216</td>\n",
        "      <td> 30063041</td>\n",
        "      <td> 0.00%</td>\n",
        "      <td> 10.01%</td>\n",
        "      <td>  0.13%</td>\n",
        "      <td> 0.00%</td>\n",
        "      <td>...</td>\n",
        "      <td> 0.326584</td>\n",
        "      <td>  0.1621772</td>\n",
        "      <td>  4904698</td>\n",
        "      <td> 13424872</td>\n",
        "      <td> 18329570</td>\n",
        "      <td> 0.060535</td>\n",
        "      <td> 13129</td>\n",
        "      <td>  0.2675839</td>\n",
        "      <td> 0.145669</td>\n",
        "      <td> True</td>\n",
        "    </tr>\n",
        "    <tr>\n",
        "      <th>SRR628446</th>\n",
        "      <td>  501088350</td>\n",
        "      <td> 10021767</td>\n",
        "      <td>          0</td>\n",
        "      <td> 0</td>\n",
        "      <td>    63466</td>\n",
        "      <td>  1182348</td>\n",
        "      <td> 0.00%</td>\n",
        "      <td>  7.24%</td>\n",
        "      <td>  0.01%</td>\n",
        "      <td> 0.00%</td>\n",
        "      <td>...</td>\n",
        "      <td> 0.519866</td>\n",
        "      <td>  -2.746562</td>\n",
        "      <td> 11098139</td>\n",
        "      <td> 12110133</td>\n",
        "      <td> 23208272</td>\n",
        "      <td> 0.010839</td>\n",
        "      <td>  4164</td>\n",
        "      <td>  0.4781976</td>\n",
        "      <td> 1.107403</td>\n",
        "      <td> True</td>\n",
        "    </tr>\n",
        "    <tr>\n",
        "      <th>SRR628450</th>\n",
        "      <td> 3116001800</td>\n",
        "      <td> 62320036</td>\n",
        "      <td>          0</td>\n",
        "      <td> 0</td>\n",
        "      <td>  1062378</td>\n",
        "      <td> 17599685</td>\n",
        "      <td> 0.00%</td>\n",
        "      <td> 11.19%</td>\n",
        "      <td>  0.01%</td>\n",
        "      <td> 0.00%</td>\n",
        "      <td>...</td>\n",
        "      <td> 0.510500</td>\n",
        "      <td>  0.8671659</td>\n",
        "      <td>   863603</td>\n",
        "      <td>  1200402</td>\n",
        "      <td>  2064005</td>\n",
        "      <td> 0.018148</td>\n",
        "      <td>  1070</td>\n",
        "      <td>  0.4184113</td>\n",
        "      <td> 0.013858</td>\n",
        "      <td> True</td>\n",
        "    </tr>\n",
        "    <tr>\n",
        "      <th>SRR765756</th>\n",
        "      <td> 1462456008</td>\n",
        "      <td> 40623778</td>\n",
        "      <td>          0</td>\n",
        "      <td> 0</td>\n",
        "      <td>  3900440</td>\n",
        "      <td> 12007863</td>\n",
        "      <td> 0.00%</td>\n",
        "      <td>  4.94%</td>\n",
        "      <td>  0.04%</td>\n",
        "      <td> 0.00%</td>\n",
        "      <td>...</td>\n",
        "      <td> 0.470179</td>\n",
        "      <td>  0.1516441</td>\n",
        "      <td>  2020430</td>\n",
        "      <td>  8571786</td>\n",
        "      <td> 10592216</td>\n",
        "      <td> 0.004046</td>\n",
        "      <td>   571</td>\n",
        "      <td>  0.1907467</td>\n",
        "      <td> 0.049735</td>\n",
        "      <td> True</td>\n",
        "    </tr>\n",
        "    <tr>\n",
        "      <th>SRR765757</th>\n",
        "      <td> 1681771824</td>\n",
        "      <td> 46715884</td>\n",
        "      <td>          0</td>\n",
        "      <td> 0</td>\n",
        "      <td>  5214502</td>\n",
        "      <td> 13676285</td>\n",
        "      <td> 0.00%</td>\n",
        "      <td>  4.88%</td>\n",
        "      <td>  0.04%</td>\n",
        "      <td> 0.00%</td>\n",
        "      <td>...</td>\n",
        "      <td> 0.504977</td>\n",
        "      <td>  0.1729563</td>\n",
        "      <td>  3140223</td>\n",
        "      <td> 10018413</td>\n",
        "      <td> 13158636</td>\n",
        "      <td> 0.002589</td>\n",
        "      <td>   550</td>\n",
        "      <td>  0.2386435</td>\n",
        "      <td> 0.067220</td>\n",
        "      <td> True</td>\n",
        "    </tr>\n",
        "    <tr>\n",
        "      <th>SRR765758</th>\n",
        "      <td> 1478873376</td>\n",
        "      <td> 41079816</td>\n",
        "      <td>          0</td>\n",
        "      <td> 0</td>\n",
        "      <td>  1180991</td>\n",
        "      <td>  3516273</td>\n",
        "      <td> 0.00%</td>\n",
        "      <td>  2.51%</td>\n",
        "      <td>  0.13%</td>\n",
        "      <td> 0.00%</td>\n",
        "      <td>...</td>\n",
        "      <td> 0.832900</td>\n",
        "      <td>   0.073607</td>\n",
        "      <td>  2322262</td>\n",
        "      <td>  4490593</td>\n",
        "      <td>  6812855</td>\n",
        "      <td> 0.006363</td>\n",
        "      <td>   972</td>\n",
        "      <td>  0.3408647</td>\n",
        "      <td> 0.056530</td>\n",
        "      <td> True</td>\n",
        "    </tr>\n",
        "    <tr>\n",
        "      <th>SRR765760</th>\n",
        "      <td> 1512265068</td>\n",
        "      <td> 42007363</td>\n",
        "      <td>          0</td>\n",
        "      <td> 0</td>\n",
        "      <td>  1608291</td>\n",
        "      <td>  4430344</td>\n",
        "      <td> 0.00%</td>\n",
        "      <td>  2.42%</td>\n",
        "      <td>  0.07%</td>\n",
        "      <td> 0.00%</td>\n",
        "      <td>...</td>\n",
        "      <td> 0.779034</td>\n",
        "      <td> 0.06084695</td>\n",
        "      <td>  2373714</td>\n",
        "      <td>  4363824</td>\n",
        "      <td>  6737538</td>\n",
        "      <td> 0.011656</td>\n",
        "      <td>  1654</td>\n",
        "      <td>  0.3523118</td>\n",
        "      <td> 0.056507</td>\n",
        "      <td> True</td>\n",
        "    </tr>\n",
        "  </tbody>\n",
        "</table>\n",
        "<p>39 rows \u00d7 40 columns</p>\n",
        "</div>"
       ],
       "metadata": {},
       "output_type": "pyout",
       "prompt_number": 28,
       "text": [
        "           Input Bases  Input Reads  Quality-trimmed  Too long reads  \\\n",
        "SRR034467    136551636      3793101          3993435               0   \n",
        "SRR034468    115735896      3214886          5256938               0   \n",
        "SRR034469    121689540      3380265          1605588               0   \n",
        "SRR048951     74033600      2313550           386583               0   \n",
        "SRR048956    142553056      4454783          1106443               0   \n",
        "SRR048958    163077792      5096181          2679024               0   \n",
        "SRR048963    164473440      5139795          2617047               0   \n",
        "SRR048964    169761536      5305048          2646718               0   \n",
        "SRR053662    139325440      4353920         11576596               0   \n",
        "SRR053663    153589760      4799680         10284430               0   \n",
        "SRR072952    221042211      5667749         51295018               0   \n",
        "SRR107031    192296772      5341577         11683627               0   \n",
        "SRR107032    432342000     12009500         14764411               0   \n",
        "SRR189775    672782704     17704808        127212689               0   \n",
        "SRR189776    713740168     18782636        148227233               0   \n",
        "SRR189779   1800960696     50026686        767177160               0   \n",
        "SRR189780   1464221844     40672829        345593538               0   \n",
        "SRR189781   2001289500     55591375       1126312954               0   \n",
        "SRR248532    754359804     20954439         94679651               0   \n",
        "SRR390466    859527864     23875774        187002987               0   \n",
        "SRR390467   1160919900     32247775        356345923               0   \n",
        "SRR398197    108422568      3011738          8249347               0   \n",
        "SRR398205    200567340      5571315          9919822               0   \n",
        "SRR408236   3390414108     66478708        132152607               0   \n",
        "SRR490650   2142447696     59512436       1137919622               0   \n",
        "SRR492994   1261548320     33198640        146474307               0   \n",
        "SRR527727   1060330356     29453621                0               0   \n",
        "SRR556762   2332192752     64783132                0               0   \n",
        "SRR556764   1735897824     48219384                0               0   \n",
        "SRR556765   1779666120     49435170                0               0   \n",
        "SRR556766   1643306076     45647391                0               0   \n",
        "SRR567525   2602464800     32530810                0               0   \n",
        "SRR567526   2693607600     33670095                0               0   \n",
        "SRR628446    501088350     10021767                0               0   \n",
        "SRR628450   3116001800     62320036                0               0   \n",
        "SRR765756   1462456008     40623778                0               0   \n",
        "SRR765757   1681771824     46715884                0               0   \n",
        "SRR765758   1478873376     41079816                0               0   \n",
        "SRR765760   1512265068     42007363                0               0   \n",
        "\n",
        "           Too short reads  Trimmed reads % of reads mapped to multiple loci  \\\n",
        "SRR034467           260436         596054                              0.00%   \n",
        "SRR034468           233040         535913                              0.00%   \n",
        "SRR034469           283399         604598                              0.00%   \n",
        "SRR048951           225335         274837                              0.00%   \n",
        "SRR048956           118347         281391                              0.00%   \n",
        "SRR048958           508796         615673                              0.00%   \n",
        "SRR048963           369505         486801                              0.00%   \n",
        "SRR048964           472544         550586                              0.00%   \n",
        "SRR053662           206547         169917                              0.00%   \n",
        "SRR053663           148802         212657                              0.00%   \n",
        "SRR072952            24698         114361                              0.00%   \n",
        "SRR107031           216844         543025                              0.00%   \n",
        "SRR107032           833766        1406519                              0.00%   \n",
        "SRR189775          8546066        9248278                              0.00%   \n",
        "SRR189776          9424626        9849147                              0.00%   \n",
        "SRR189779         21233863        2540814                              0.00%   \n",
        "SRR189780         10827327        3870154                              0.00%   \n",
        "SRR189781         31914585        4416424                              0.00%   \n",
        "SRR248532          3403166        2519310                              0.00%   \n",
        "SRR390466          5423962        1482177                              0.00%   \n",
        "SRR390467         10038730        2028850                              0.00%   \n",
        "SRR398197           152713         409710                              0.00%   \n",
        "SRR398205           185331         272580                              0.00%   \n",
        "SRR408236          2097366         803458                              0.00%   \n",
        "SRR490650         33727881        3339799                              0.00%   \n",
        "SRR492994          6204552        5187769                              0.00%   \n",
        "SRR527727          2944920        5473722                              0.00%   \n",
        "SRR556762          1938096        5724884                              0.00%   \n",
        "SRR556764          1023308        3351756                              0.00%   \n",
        "SRR556765          1276688        4037664                              0.00%   \n",
        "SRR556766           633083        2252034                              0.00%   \n",
        "SRR567525           312397       29741604                              0.00%   \n",
        "SRR567526           419216       30063041                              0.00%   \n",
        "SRR628446            63466        1182348                              0.00%   \n",
        "SRR628450          1062378       17599685                              0.00%   \n",
        "SRR765756          3900440       12007863                              0.00%   \n",
        "SRR765757          5214502       13676285                              0.00%   \n",
        "SRR765758          1180991        3516273                              0.00%   \n",
        "SRR765760          1608291        4430344                              0.00%   \n",
        "\n",
        "          % of reads mapped to too many loci % of reads unmapped: other  \\\n",
        "SRR034467                              5.11%                      0.02%   \n",
        "SRR034468                              6.76%                      0.50%   \n",
        "SRR034469                              5.75%                      0.04%   \n",
        "SRR048951                             11.33%                      0.07%   \n",
        "SRR048956                              9.86%                      0.01%   \n",
        "SRR048958                             11.78%                      0.06%   \n",
        "SRR048963                             10.75%                      0.05%   \n",
        "SRR048964                             12.95%                      0.08%   \n",
        "SRR053662                              9.49%                      0.18%   \n",
        "SRR053663                              9.15%                      0.21%   \n",
        "SRR072952                              9.28%                      0.01%   \n",
        "SRR107031                              7.71%                      0.01%   \n",
        "SRR107032                              8.85%                      0.05%   \n",
        "SRR189775                             27.64%                      0.15%   \n",
        "SRR189776                             26.29%                      0.14%   \n",
        "SRR189779                             18.64%                      0.18%   \n",
        "SRR189780                             21.70%                      0.09%   \n",
        "SRR189781                             15.20%                      0.05%   \n",
        "SRR248532                              6.72%                      0.00%   \n",
        "SRR390466                              8.26%                      0.12%   \n",
        "SRR390467                              9.75%                      0.07%   \n",
        "SRR398197                             11.05%                      0.11%   \n",
        "SRR398205                             11.49%                      0.17%   \n",
        "SRR408236                             10.92%                      0.02%   \n",
        "SRR490650                              4.69%                      0.04%   \n",
        "SRR492994                             13.24%                      0.14%   \n",
        "SRR527727                              6.85%                     13.27%   \n",
        "SRR556762                              8.99%                      0.10%   \n",
        "SRR556764                              3.22%                      0.12%   \n",
        "SRR556765                              3.38%                      0.11%   \n",
        "SRR556766                              1.43%                      0.02%   \n",
        "SRR567525                              2.14%                      0.01%   \n",
        "SRR567526                             10.01%                      0.13%   \n",
        "SRR628446                              7.24%                      0.01%   \n",
        "SRR628450                             11.19%                      0.01%   \n",
        "SRR765756                              4.94%                      0.04%   \n",
        "SRR765757                              4.88%                      0.04%   \n",
        "SRR765758                              2.51%                      0.13%   \n",
        "SRR765760                              2.42%                      0.07%   \n",
        "\n",
        "          % of reads unmapped: too many mismatches  \\\n",
        "SRR034467                                    0.00%   \n",
        "SRR034468                                    0.00%   \n",
        "SRR034469                                    0.00%   \n",
        "SRR048951                                    0.00%   \n",
        "SRR048956                                    0.00%   \n",
        "SRR048958                                    0.00%   \n",
        "SRR048963                                    0.00%   \n",
        "SRR048964                                    0.00%   \n",
        "SRR053662                                    0.00%   \n",
        "SRR053663                                    0.00%   \n",
        "SRR072952                                    0.00%   \n",
        "SRR107031                                    0.00%   \n",
        "SRR107032                                    0.00%   \n",
        "SRR189775                                    0.00%   \n",
        "SRR189776                                    0.00%   \n",
        "SRR189779                                    0.00%   \n",
        "SRR189780                                    0.00%   \n",
        "SRR189781                                    0.00%   \n",
        "SRR248532                                    0.00%   \n",
        "SRR390466                                    0.00%   \n",
        "SRR390467                                    0.00%   \n",
        "SRR398197                                    0.00%   \n",
        "SRR398205                                    0.00%   \n",
        "SRR408236                                    0.00%   \n",
        "SRR490650                                    0.00%   \n",
        "SRR492994                                    0.00%   \n",
        "SRR527727                                    0.00%   \n",
        "SRR556762                                    0.00%   \n",
        "SRR556764                                    0.00%   \n",
        "SRR556765                                    0.00%   \n",
        "SRR556766                                    0.00%   \n",
        "SRR567525                                    0.00%   \n",
        "SRR567526                                    0.00%   \n",
        "SRR628446                                    0.00%   \n",
        "SRR628450                                    0.00%   \n",
        "SRR765756                                    0.00%   \n",
        "SRR765757                                    0.00%   \n",
        "SRR765758                                    0.00%   \n",
        "SRR765760                                    0.00%   \n",
        "\n",
        "                            ...                          PCB  \\\n",
        "SRR034467                   ...                     0.762407   \n",
        "SRR034468                   ...                     0.842168   \n",
        "SRR034469                   ...                     0.834448   \n",
        "SRR048951                   ...                     0.719552   \n",
        "SRR048956                   ...                     0.692145   \n",
        "SRR048958                   ...                     0.667388   \n",
        "SRR048963                   ...                     0.530961   \n",
        "SRR048964                   ...                     0.651810   \n",
        "SRR053662                   ...                     0.398764   \n",
        "SRR053663                   ...                     0.365785   \n",
        "SRR072952                   ...                     0.632406   \n",
        "SRR107031                   ...                     0.875199   \n",
        "SRR107032                   ...                     0.524426   \n",
        "SRR189775                   ...                     0.685516   \n",
        "SRR189776                   ...                     0.701177   \n",
        "SRR189779                   ...                     0.774418   \n",
        "SRR189780                   ...                     0.769271   \n",
        "SRR189781                   ...                     0.755919   \n",
        "SRR248532                   ...                     0.709465   \n",
        "SRR390466                   ...                     0.403207   \n",
        "SRR390467                   ...                     0.443750   \n",
        "SRR398197                   ...                     0.685774   \n",
        "SRR398205                   ...                     0.484643   \n",
        "SRR408236                   ...                     0.284033   \n",
        "SRR490650                   ...                     0.473064   \n",
        "SRR492994                   ...                     0.221840   \n",
        "SRR527727                   ...                     0.836147   \n",
        "SRR556762                   ...                     0.343259   \n",
        "SRR556764                   ...                     0.648261   \n",
        "SRR556765                   ...                     0.788304   \n",
        "SRR556766                   ...                     0.629627   \n",
        "SRR567525                   ...                     0.448489   \n",
        "SRR567526                   ...                     0.326584   \n",
        "SRR628446                   ...                     0.519866   \n",
        "SRR628450                   ...                     0.510500   \n",
        "SRR765756                   ...                     0.470179   \n",
        "SRR765757                   ...                     0.504977   \n",
        "SRR765758                   ...                     0.832900   \n",
        "SRR765760                   ...                     0.779034   \n",
        "\n",
        "          Percent Repetative Usable Reads removed_count total_count      spot  \\\n",
        "SRR034467          0.1094956       526932        183852      710784  0.000665   \n",
        "SRR034468            0.14343       554046        128455      682501  0.000561   \n",
        "SRR034469           0.111483       581090        133354      714444  0.000795   \n",
        "SRR048951          0.2158423       551013        433316      984329  0.003658   \n",
        "SRR048956          0.1499249       512593        808543     1321136  0.000880   \n",
        "SRR048958          0.3763271       695140        935622     1630762  0.006104   \n",
        "SRR048963          0.3017249       788488       1420455     2208943  0.006216   \n",
        "SRR048964          0.5920955       510712        669567     1180279  0.007769   \n",
        "SRR053662          0.1777125       656764       2280911     2937675  0.046455   \n",
        "SRR053663          0.1659409       756964       2513917     3270881  0.019769   \n",
        "SRR072952         0.04059248       555531       2004192     2559723  0.000084   \n",
        "SRR107031         0.09759552       549838        197929      747767  0.013778   \n",
        "SRR107032          0.1497086      1705637       2036947     3742584  0.031328   \n",
        "SRR189775          0.6216289       545751       2370392     2916143  0.002270   \n",
        "SRR189776          0.6407763       531257       2277587     2808844  0.003301   \n",
        "SRR189779          0.5026124      7190694       3752251    10942945  0.006557   \n",
        "SRR189780          0.3091216      6141910       4385685    10527595  0.009360   \n",
        "SRR189781          0.6479472      4894807       5966503    10861310  0.017309   \n",
        "SRR248532            0.20894       904251       1217131     2121382  0.001487   \n",
        "SRR390466          0.2618098      1602863       6742328     8345191  0.002113   \n",
        "SRR390467        -0.02436398      1036102      15749654    16785756  0.004254   \n",
        "SRR398197          0.1211852       584917        381277      966194  0.001042   \n",
        "SRR398205           0.182588      1322826       1633432     2956258  0.000681   \n",
        "SRR408236          0.3235496      5793650      28146268    33939918  0.003111   \n",
        "SRR490650          0.6375871       690598       1247367     1937965  0.002546   \n",
        "SRR492994          0.2990447      2010717      12283490    14294207  0.003745   \n",
        "SRR527727          0.1562598      1456336       2141928     3598264  0.021448   \n",
        "SRR556762           0.320747      3178666      10052166    13230832  0.053681   \n",
        "SRR556764         0.05642407     17899622      10686992    28586614  0.001429   \n",
        "SRR556765          0.0937927     20271827       6523865    26795692  0.001317   \n",
        "SRR556766         0.04886023       554827        779366     1334193  0.002303   \n",
        "SRR567525         0.01723778      1219865       2071099     3290964  0.083442   \n",
        "SRR567526          0.1621772      4904698      13424872    18329570  0.060535   \n",
        "SRR628446          -2.746562     11098139      12110133    23208272  0.010839   \n",
        "SRR628450          0.8671659       863603       1200402     2064005  0.018148   \n",
        "SRR765756          0.1516441      2020430       8571786    10592216  0.004046   \n",
        "SRR765757          0.1729563      3140223      10018413    13158636  0.002589   \n",
        "SRR765758           0.073607      2322262       4490593     6812855  0.006363   \n",
        "SRR765760         0.06084695      2373714       4363824     6737538  0.011656   \n",
        "\n",
        "          Num Peaks Percent Usable / Input Percent Usable / Mapped Passed QC  \n",
        "SRR034467        84              0.7413391                0.138919      True  \n",
        "SRR034468        79              0.8117878                0.172338      True  \n",
        "SRR034469        92              0.8133458                0.171907      True  \n",
        "SRR048951       158              0.5597854                0.238168      True  \n",
        "SRR048956        47              0.3879941                0.115066      True  \n",
        "SRR048958       344               0.426267                0.136404      True  \n",
        "SRR048963       407              0.3569526                0.153408      True  \n",
        "SRR048964       321              0.4327045                0.096269      True  \n",
        "SRR053662      1473              0.2235659                0.150844      True  \n",
        "SRR053663       869              0.2314251                0.157711      True  \n",
        "SRR072952        10              0.2170278                0.098016      True  \n",
        "SRR107031       433              0.7353066                0.102936      True  \n",
        "SRR107032      2832              0.4557378                0.142024      True  \n",
        "SRR189775        73              0.1871482                0.030825      True  \n",
        "SRR189776       100              0.1891372                0.028284      True  \n",
        "SRR189779      2264              0.6571078                0.143737      True  \n",
        "SRR189780      2483              0.5834106                0.151008      True  \n",
        "SRR189781      3644              0.4506645                0.088050      True  \n",
        "SRR248532        74              0.4262556                0.043153      True  \n",
        "SRR390466       202              0.1920703                0.067133      True  \n",
        "SRR390467       259             0.06172507                0.032129      True  \n",
        "SRR398197        88              0.6053826                0.194212      True  \n",
        "SRR398205       136              0.4474664                0.237435      True  \n",
        "SRR408236       966              0.1707031                0.087150      True  \n",
        "SRR490650       113              0.3563522                0.011604      True  \n",
        "SRR492994       535              0.1406666                0.060566      True  \n",
        "SRR527727      2089              0.4047329                0.049445      True  \n",
        "SRR556762      5767              0.2402469                0.049066      True  \n",
        "SRR556764       966               0.626154                0.371212      True  \n",
        "SRR556765       934              0.7565331                0.410069      True  \n",
        "SRR556766        65              0.4158521                0.012155      True  \n",
        "SRR567525      5264               0.370671                0.037499      True  \n",
        "SRR567526     13129              0.2675839                0.145669      True  \n",
        "SRR628446      4164              0.4781976                1.107403      True  \n",
        "SRR628450      1070              0.4184113                0.013858      True  \n",
        "SRR765756       571              0.1907467                0.049735      True  \n",
        "SRR765757       550              0.2386435                0.067220      True  \n",
        "SRR765758       972              0.3408647                0.056530      True  \n",
        "SRR765760      1654              0.3523118                0.056507      True  \n",
        "\n",
        "[39 rows x 40 columns]"
       ]
      }
     ],
     "prompt_number": 28
    },
    {
     "cell_type": "code",
     "collapsed": false,
     "input": [
      "pybedtools.helpers.n_open_fds()"
     ],
     "language": "python",
     "metadata": {},
     "outputs": [
      {
       "metadata": {},
       "output_type": "pyout",
       "prompt_number": 18,
       "text": [
        "134"
       ]
      }
     ],
     "prompt_number": 18
    },
    {
     "cell_type": "code",
     "collapsed": false,
     "input": [],
     "language": "python",
     "metadata": {},
     "outputs": [],
     "prompt_number": 24
    },
    {
     "cell_type": "code",
     "collapsed": false,
     "input": [
      "def commas(x, pos):\n",
      "    try:\n",
      "        return \"{:,}\".format(int(x))\n",
      "    except:\n",
      "        return \"0\"\n",
      "    \n",
      "def percent(x, pos):\n",
      "    return str(float(x) * 100)  + \"%\""
     ],
     "language": "python",
     "metadata": {},
     "outputs": [],
     "prompt_number": 4
    },
    {
     "cell_type": "markdown",
     "metadata": {},
     "source": [
      "#Make Analysis Dataframes"
     ]
    },
    {
     "cell_type": "code",
     "collapsed": false,
     "input": [
      "clip_rnaseq_df = parsers.clipseq_metrics(\"/nas3/gpratt/projects/public_clip/analysis/v3/\")\n",
      "public_clip_list = pd.read_csv(\"/nas3/gpratt/projects/public_clip/v1/public_clip_list.csv\", index_col=0)\n",
      "clip_rnaseq_df = pd.merge(clip_rnaseq_df, public_clip_list, left_index=True, right_index=True, how=\"outer\")\n",
      "clip_df = clip_rnaseq_df[clip_rnaseq_df['CLIP-seq?'] == \"Yes\"]"
     ],
     "language": "python",
     "metadata": {},
     "outputs": [],
     "prompt_number": 5
    },
    {
     "cell_type": "code",
     "collapsed": false,
     "input": [
      "analysis_dir = \"/nas3/gpratt/projects/public_encode/\"\n",
      "encode_df = pd.read_csv(os.path.join(analysis_dir, \"ENCODE Data Quality Metrics 2012-04-25.csv\"))\n",
      "encode_df['MACS FDR 0.01'] = encode_df['MACS FDR 0.01'].apply(lambda x: int(x.replace(\",\", \"\")))"
     ],
     "language": "python",
     "metadata": {},
     "outputs": [],
     "prompt_number": 6
    },
    {
     "cell_type": "code",
     "collapsed": false,
     "input": [
      "analysis_dir = \"/nas3/gpratt/projects/public_clip/analysis/public_iclip_v1/\"\n",
      "public_iclip_df = parsers.clipseq_metrics(analysis_dir, iclip=True)"
     ],
     "language": "python",
     "metadata": {},
     "outputs": [],
     "prompt_number": 7
    },
    {
     "cell_type": "code",
     "collapsed": false,
     "input": [
      "analysis_dir = \"/nas3/gpratt/projects/encode/analysis/v7\"\n",
      "iclip_df = parsers.clipseq_metrics(analysis_dir, iclip=True)\n",
      "true_iclips = iclip_df[[\"IMP\" in idx.split(\".\")[1] for idx in iclip_df.index]]"
     ],
     "language": "python",
     "metadata": {},
     "outputs": [],
     "prompt_number": 8
    },
    {
     "cell_type": "markdown",
     "metadata": {},
     "source": [
      "#Plot Comparisons"
     ]
    },
    {
     "cell_type": "markdown",
     "metadata": {},
     "source": [
      "#Pre-peak calling QC"
     ]
    },
    {
     "cell_type": "code",
     "collapsed": false,
     "input": [
      "with Figure(os.path.join(img_path, \"usable_reads_boxplot.svg\"), figsize=(7,5)) as fig:\n",
      "    ax = fig.add_subplot(111)\n",
      "    ax.boxplot([encode_df['N_uniq map reads'].apply(lambda x: x.replace(\",\", \"\")).astype(int).values, \n",
      "               clip_df['Usable Reads'].dropna().values, \n",
      "               #public_iclip_df['Usable Reads'].values,\n",
      "               true_iclips['Usable Reads'].values, \n",
      "               \n",
      "               ])\n",
      "    y_format = tkr.FuncFormatter(commas)  # make formatter\n",
      "    ax.yaxis.set_major_formatter(y_format)\n",
      "    ax.set_title(\"Average Number of Usable Reads\")\n",
      "    ax.set_ylabel(\"Usable Reads\")\n",
      "    \n",
      "    ax.set_xticklabels([\"ENCODE\\nChIP\", \n",
      "                        \"Public\\nCLIP\", \n",
      "                        #\"Public\\niCLIP\", \n",
      "                        \"ENCODE\\niCLIP\"]) "
     ],
     "language": "python",
     "metadata": {},
     "outputs": [
      {
       "output_type": "stream",
       "stream": "stderr",
       "text": [
        "/nas3/yeolab/Software/lib/python2.7/site-packages/matplotlib-1.4.x-py2.7-linux-x86_64.egg/matplotlib/font_manager.py:1240: UserWarning: findfont: Font family [u'Arial'] not found. Falling back to Bitstream Vera Sans\n",
        "  (prop.get_family(), self.defaultFamily[fontext]))\n"
       ]
      },
      {
       "metadata": {},
       "output_type": "display_data",
       "png": "[encoded data removed]",
       "text": [
        "<matplotlib.figure.Figure at 0x23f5c610>"
       ]
      }
     ],
     "prompt_number": 9
    },
    {
     "cell_type": "code",
     "collapsed": false,
     "input": [
      "print mean(encode_df['N_uniq map reads'].apply(lambda x: x.replace(\",\", \"\")).astype(int)),\n",
      "print mean(clip_df['Usable Reads'].dropna()), \n",
      "print mean(public_iclip_df['Usable Reads']),\n",
      "print mean(true_iclips['Usable Reads'])"
     ],
     "language": "python",
     "metadata": {},
     "outputs": [
      {
       "output_type": "stream",
       "stream": "stdout",
       "text": [
        "15050014.7821 760783.5875 1047332.46154 1548314.07143\n"
       ]
      }
     ],
     "prompt_number": 16
    },
    {
     "cell_type": "code",
     "collapsed": false,
     "input": [
      "print median(encode_df['N_uniq map reads'].apply(lambda x: x.replace(\",\", \"\")).astype(int)),\n",
      "print median(clip_df['Usable Reads'].dropna()), \n",
      "print median(public_iclip_df['Usable Reads']),\n",
      "print median(true_iclips['Usable Reads'])"
     ],
     "language": "python",
     "metadata": {},
     "outputs": [
      {
       "output_type": "stream",
       "stream": "stdout",
       "text": [
        "14406632.0 234736.5 898750.0 855056.5\n"
       ]
      }
     ],
     "prompt_number": 17
    },
    {
     "cell_type": "code",
     "collapsed": false,
     "input": [
      "clip_df['Usable Reads'].dropna().astype(float) / clip_df['Uniquely mapped reads number'].dropna().astype(float)"
     ],
     "language": "python",
     "metadata": {},
     "outputs": [
      {
       "metadata": {},
       "output_type": "pyout",
       "prompt_number": 15,
       "text": [
        "SRR034466    0.737559\n",
        "SRR034467    0.741849\n",
        "SRR034468    0.812166\n",
        "SRR034469    0.813046\n",
        "SRR048950    0.632675\n",
        "SRR048951    0.559079\n",
        "SRR048952    0.300772\n",
        "SRR048953    0.209999\n",
        "SRR048954    0.023927\n",
        "SRR048955    0.550413\n",
        "SRR048956    0.388049\n",
        "SRR048957    0.447169\n",
        "SRR048958    0.425834\n",
        "SRR048959    0.360186\n",
        "SRR048960    0.231881\n",
        "...\n",
        "SRR628450    0.098631\n",
        "SRR628451    0.049613\n",
        "SRR628452    0.049645\n",
        "SRR628453    0.037784\n",
        "SRR628454    0.077915\n",
        "SRR764666    0.058480\n",
        "SRR764667    0.523086\n",
        "SRR764668    0.613505\n",
        "SRR764669    0.110538\n",
        "SRR765756    0.190382\n",
        "SRR765757    0.238586\n",
        "SRR765758    0.342313\n",
        "SRR765759    0.552113\n",
        "SRR765760    0.353556\n",
        "SRR765761    0.429594\n",
        "Length: 162, dtype: float64"
       ]
      }
     ],
     "prompt_number": 15
    },
    {
     "cell_type": "code",
     "collapsed": false,
     "input": [
      "with Figure(os.path.join(img_path, \"percent_reads_remaining.svg\"), figsize=(6,6)) as fig:\n",
      "    ax = fig.add_subplot(111)\n",
      "    ax.boxplot([(clip_df['Usable Reads'].dropna().astype(float) / clip_df['Uniquely mapped reads number'].dropna().astype(float)).values,\n",
      "                 #public_iclip_df['Usable Reads'].astype(float) / public_iclip_df['Uniquely mapped reads number'].astype(float)).values,\n",
      "                (true_iclips['Usable Reads'].astype(float) / true_iclips['Uniquely mapped reads number'].astype(float)).values, \n",
      "                ])\n",
      "\n",
      "    y_format = tkr.FuncFormatter(percent)  # make formatter\n",
      "    ax.yaxis.set_major_formatter(y_format)\n",
      "    ax.set_title(\"Percent Reads Remaining\\nAfter Duplicate Removal\")\n",
      "    ax.set_ylabel(\"Percent Reads Remainig\")\n",
      "    \n",
      "    ax.set_xticklabels([\"Public CLIP\",\n",
      "                        #\"Public\\niCLIP\", \n",
      "                        \"ENCODE\\niCLIP\"]) "
     ],
     "language": "python",
     "metadata": {},
     "outputs": [
      {
       "metadata": {},
       "output_type": "display_data",
       "png": "[encoded data removed]",
       "text": [
        "<matplotlib.figure.Figure at 0x23f74310>"
       ]
      }
     ],
     "prompt_number": 14
    },
    {
     "cell_type": "code",
     "collapsed": false,
     "input": [
      "import seaborn as sns"
     ],
     "language": "python",
     "metadata": {},
     "outputs": [],
     "prompt_number": 1
    },
    {
     "cell_type": "code",
     "collapsed": false,
     "input": [
      "public_iclip_df['Usable Reads'] / public_iclip_df['Processed reads']\n"
     ],
     "language": "python",
     "metadata": {},
     "outputs": [
      {
       "metadata": {},
       "output_type": "pyout",
       "prompt_number": 13,
       "text": [
        "iCLIP_Celf4_Brain_KO_11739_L_Mm_NNNTTGTNN_20110427_LUmb42_1.R02    0.406593\n",
        "iCLIP_Celf4_Brain_KO_11739_R_Mm_NNNGGTTNN_20110427_LUmb41_1.R01    0.472585\n",
        "iCLIP_Celf4_Brain_KO_11743_R_Mm_NNNGGCGNN_20110427_LUmb41_2.R05    0.451667\n",
        "iCLIP_Celf4_Brain_WT_11740_R_Mm_NNNTTGTNN_20110427_LUmb41_3.R02    0.473929\n",
        "iCLIP_Celf4_Brain_WT_11742_L_Mm_NNNGGTTNN_20110427_LUmb42_4.R01    0.363731\n",
        "iCLIP_Celf4_Brain_WT_11745_L_Mm_NNNGGCGNN_20110427_LUmb42_5.R05    0.394241\n",
        "iCLIP_Celf4_Brain_WT_11745_R_Mm_NNNTGGCNN_20110427_LUmb41_4.R09    0.459278\n",
        "iCLIP_FUS_E18-brain_WT_Mm_NNNAATANN_20110428_LUl2_1.R15         0.239363\n",
        "iCLIP_FUS_Msbrain_1vs1000RNase_Mm_NNNTTGTNN_20120623_LUm01_5.R02    0.262682\n",
        "iCLIP_FUS_Msbrain_1vs2000RNase_Mm_NNNCAATNN_20120623_LUm01_6.R03    0.324399\n",
        "iCLIP_TDP-43_SH-SY5Y_Cytoplasmic_Hs_NNNCAATNN_20101125_LUjt8_3.R03    0.003329\n",
        "iCLIP_TDP-43_SH-SY5Y_Nuclear_Hs_NNNTTGTNN_20101125_LUjt8_2.R02    0.003749\n",
        "iCLIP_TDP-43_SH-SY5Y_Total_Hs_NNNGGTTNN_20101125_LUjt8_1.R01    0.002504\n",
        "dtype: float64"
       ]
      }
     ],
     "prompt_number": 13
    },
    {
     "cell_type": "code",
     "collapsed": false,
     "input": [
      "sns.violinplot?"
     ],
     "language": "python",
     "metadata": {},
     "outputs": [],
     "prompt_number": 14
    },
    {
     "cell_type": "code",
     "collapsed": false,
     "input": [
      "with Figure(os.path.join(img_path, \"percent_of_total.svg\"), figsize=(6,6)) as fig:\n",
      "    ax = fig.add_subplot(111)\n",
      "    sns.violinplot([(clip_df['Usable Reads'] / clip_df['Processed reads']).dropna(), \n",
      "                (public_iclip_df['Usable Reads'] / public_iclip_df['Processed reads']).dropna(),\n",
      "                (iclip_df['Usable Reads'] / iclip_df['Processed reads']).dropna()], ax=ax)\n",
      "    ax.set_title(\"Percent Usable Reads / Total Reads\")\n",
      "    y_format = tkr.FuncFormatter(percent)  # make formatter\n",
      "    ax.yaxis.set_major_formatter(y_format)\n",
      "    ax.set_ylabel(\"Percent\")\n",
      "    ax.set_ylim((0,1))\n",
      "    ax.set_xticklabels([\"Public\\n CLIP\", \"Public\\niCLIP\", \"ENCODE\\niCLIP\"])"
     ],
     "language": "python",
     "metadata": {},
     "outputs": [
      {
       "metadata": {},
       "output_type": "display_data",
       "png": "[encoded data removed]",
       "text": [
        "<matplotlib.figure.Figure at 0x86d9290>"
       ]
      }
     ],
     "prompt_number": 16
    },
    {
     "cell_type": "code",
     "collapsed": false,
     "input": [
      "with Figure(os.path.join(img_path, \"clip_pcr_duplication.svg\"), figsize=(7,7)) as fig:\n",
      "    ax = fig.add_subplot(1,1,1)\n",
      "    ax.boxplot([encode_df.PBC.values, \n",
      "                clip_df.PCB.dropna().values, \n",
      "                public_iclip_df.PCB.dropna().values, \n",
      "                iclip_df.PCB.dropna().values])\n",
      "    ax.set_title(\"PCR Bottleneck Coefficient\")\n",
      "    ax.set_ylabel(\"PBC\")\n",
      "    ax.set_xticklabels([\"ENCODE\\nChIP-seq\", \"Public\\nCLIP-seq\", \"Public\\niCLIP\", \"ENCODE\\niCLIP\"])"
     ],
     "language": "python",
     "metadata": {},
     "outputs": [
      {
       "metadata": {},
       "output_type": "display_data",
       "png": "[encoded data removed]",
       "text": [
        "<matplotlib.figure.Figure at 0x249ca390>"
       ]
      }
     ],
     "prompt_number": 16
    },
    {
     "cell_type": "code",
     "collapsed": false,
     "input": [
      "with Figure(os.path.join(img_path, \"Sequenced_Reads_vs_usable_Reads.svg\"), figsize=(8,8)) as fig:\n",
      "    ax = fig.add_subplot(1,1,1)\n",
      "    ax.scatter(true_iclips['Processed reads'] / 1000000, true_iclips['Usable Reads'] /1000000)\n",
      "    y_format = tkr.FuncFormatter(commas)  # make formatter\n",
      "    ax.yaxis.set_major_formatter(y_format)\n",
      "    ax.xaxis.set_major_formatter(y_format)\n",
      "    ax.set_ylabel(\"Usable Reads (Millions)\")\n",
      "    ax.set_xlabel(\"Sequenced Reads (Millions)\")\n",
      "    ax.set_title(\"Sequenced Reads vs Usable Reads\")\n",
      "    ax.set_ylim((0,100))\n",
      "    ax.set_xlim((0,100))\n"
     ],
     "language": "python",
     "metadata": {},
     "outputs": [
      {
       "metadata": {},
       "output_type": "display_data",
       "png": "[encoded data removed]",
       "text": [
        "<matplotlib.figure.Figure at 0x16ddb950>"
       ]
      }
     ],
     "prompt_number": 29
    },
    {
     "cell_type": "markdown",
     "metadata": {},
     "source": [
      "#Post Peak Calling QC"
     ]
    },
    {
     "cell_type": "code",
     "collapsed": false,
     "input": [
      "with Figure(os.path.join(img_path, \"Num_peaks.svg\"), figsize=(7,7)) as fig:\n",
      "    ax = fig.add_subplot(1,1,1)\n",
      "    ax.boxplot([encode_df['MACS FDR 0.01'].values, \n",
      "                clip_df['Num Peaks'].dropna().values, \n",
      "                iclip_df['Num Peaks'].dropna().values])\n",
      "    ax.set_title(\"Number of Peaks Called\")\n",
      "    ax.set_ylabel(\"Num Reads\")\n",
      "    ax.set_xticklabels([\"ENCODE\\nChIP-seq\", \"Public\\nCLIP-seq\",  \"ENCODE\\niCLIP\"])"
     ],
     "language": "python",
     "metadata": {},
     "outputs": [
      {
       "metadata": {},
       "output_type": "display_data",
       "png": "[encoded data removed]",
       "text": [
        "<matplotlib.figure.Figure at 0x16cf7910>"
       ]
      }
     ],
     "prompt_number": 30
    },
    {
     "cell_type": "code",
     "collapsed": false,
     "input": [
      "with Figure(os.path.join(img_path, \"SPOT_scores.svg\"), figsize=(7,7)) as fig:\n",
      "    ax = fig.add_subplot(1,1,1)\n",
      "    ax.boxplot([encode_df.SPOT.values, \n",
      "                clip_df.spot.dropna().values, \n",
      "                iclip_df.spot.dropna().values])\n",
      "    ax.set_title(\"SPOT Scores\")\n",
      "    ax.set_ylabel(\"SPOT\")\n",
      "    ax.set_xticklabels([\"ENCODE\\nChIP-seq\", \"Public\\nCLIP-seq\",  \"ENCODE\\niCLIP\"])"
     ],
     "language": "python",
     "metadata": {},
     "outputs": [
      {
       "metadata": {},
       "output_type": "display_data",
       "png": "[encoded data removed]",
       "text": [
        "<matplotlib.figure.Figure at 0x16de5590>"
       ]
      }
     ],
     "prompt_number": 31
    },
    {
     "cell_type": "code",
     "collapsed": false,
     "input": [
      "print scipy.stats.scoreatpercentile(public_iclip_df['Usable Reads'], per=[20, 50, 90, 100])\n",
      "print scipy.stats.scoreatpercentile(true_iclips['Usable Reads'].dropna(), per=[20, 50, 90, 100])"
     ],
     "language": "python",
     "metadata": {},
     "outputs": [
      {
       "output_type": "stream",
       "stream": "stdout",
       "text": [
        "[151133.40000000014, 898750.0, 2312095.2000000002, 2937958.0]\n",
        "[237188.60000000003, 855056.5, 3257757.0, 15301010.0]\n"
       ]
      }
     ],
     "prompt_number": 19
    },
    {
     "cell_type": "markdown",
     "metadata": {},
     "source": [
      "#CLIP-seq Co-interacting calculations"
     ]
    },
    {
     "cell_type": "code",
     "collapsed": false,
     "input": [
      "merged_tools = {}\n",
      "for name, group in hek_293_df.groupby(\"Antibody\"):\n",
      "    a = pybedtools.BedTool()\n",
      "    bedtools = \" \".join([srr + \".polyATrim.adapterTrim.rmRep.sorted.rg.rmDup.peaks.bed\" for srr in list(group.index)])\n",
      "    out_name = name.split()[0] + \".bed\"\n",
      "    !cat $bedtools | mergeBed -s -nms -i - > $out_name\n",
      "    merged_tools[name.split()[0] ] = pybedtools.BedTool(out_name)"
     ],
     "language": "python",
     "metadata": {},
     "outputs": [
      {
       "output_type": "stream",
       "stream": "stdout",
       "text": [
        "cat: SRR048973.polyATrim.adapterTrim.rmRep.sorted.rg.rmDup.peaks.bed: No such file or directory\r\n"
       ]
      },
      {
       "output_type": "stream",
       "stream": "stdout",
       "text": [
        "cat: SRR189782.polyATrim.adapterTrim.rmRep.sorted.rg.rmDup.peaks.bed: No such file or directory\r\n"
       ]
      },
      {
       "output_type": "stream",
       "stream": "stdout",
       "text": [
        "cat: SRR189783.polyATrim.adapterTrim.rmRep.sorted.rg.rmDup.peaks.bed: No such file or directory\r\n",
        "cat: SRR189784.polyATrim.adapterTrim.rmRep.sorted.rg.rmDup.peaks.bed: No such file or directory\r\n",
        "cat: SRR189785.polyATrim.adapterTrim.rmRep.sorted.rg.rmDup.peaks.bed: No such file or directory\r\n",
        "cat: SRR189786.polyATrim.adapterTrim.rmRep.sorted.rg.rmDup.peaks.bed: No such file or directory\r\n",
        "cat: SRR189787.polyATrim.adapterTrim.rmRep.sorted.rg.rmDup.peaks.bed: No such file or directory\r\n"
       ]
      },
      {
       "output_type": "stream",
       "stream": "stdout",
       "text": [
        "cat: SRR048974.polyATrim.adapterTrim.rmRep.sorted.rg.rmDup.peaks.bed: No such file or directory\r\n",
        "cat: SRR048975.polyATrim.adapterTrim.rmRep.sorted.rg.rmDup.peaks.bed: No such file or directory\r\n",
        "cat: SRR048980.polyATrim.adapterTrim.rmRep.sorted.rg.rmDup.peaks.bed: No such file or directory\r\n",
        "cat: SRR048981.polyATrim.adapterTrim.rmRep.sorted.rg.rmDup.peaks.bed: No such file or directory\r\n"
       ]
      },
      {
       "output_type": "stream",
       "stream": "stdout",
       "text": [
        "cat: SRR048976.polyATrim.adapterTrim.rmRep.sorted.rg.rmDup.peaks.bed: No such file or directory\r\n",
        "cat: SRR048977.polyATrim.adapterTrim.rmRep.sorted.rg.rmDup.peaks.bed: No such file or directory\r\n"
       ]
      },
      {
       "output_type": "stream",
       "stream": "stdout",
       "text": [
        "cat: SRR048978.polyATrim.adapterTrim.rmRep.sorted.rg.rmDup.peaks.bed: No such file or directory\r\n",
        "cat: SRR048979.polyATrim.adapterTrim.rmRep.sorted.rg.rmDup.peaks.bed: No such file or directory\r\n"
       ]
      },
      {
       "output_type": "stream",
       "stream": "stdout",
       "text": [
        "cat: SRR518495.polyATrim.adapterTrim.rmRep.sorted.rg.rmDup.peaks.bed: No such file or directory\r\n",
        "cat: SRR518496.polyATrim.adapterTrim.rmRep.sorted.rg.rmDup.peaks.bed: No such file or directory\r\n",
        "cat: SRR518497.polyATrim.adapterTrim.rmRep.sorted.rg.rmDup.peaks.bed: No such file or directory\r\n",
        "cat: SRR518498.polyATrim.adapterTrim.rmRep.sorted.rg.rmDup.peaks.bed: No such file or directory\r\n"
       ]
      },
      {
       "output_type": "stream",
       "stream": "stdout",
       "text": [
        "cat: SRR527727.polyATrim.adapterTrim.rmRep.sorted.rg.rmDup.peaks.bed: No such file or directory\r\n",
        "cat: SRR527729.polyATrim.adapterTrim.rmRep.sorted.rg.rmDup.peaks.bed: No such file or directory\r\n"
       ]
      },
      {
       "output_type": "stream",
       "stream": "stdout",
       "text": [
        "cat: SRR527728.polyATrim.adapterTrim.rmRep.sorted.rg.rmDup.peaks.bed: No such file or directory\r\n",
        "cat: SRR527730.polyATrim.adapterTrim.rmRep.sorted.rg.rmDup.peaks.bed: No such file or directory\r\n"
       ]
      },
      {
       "output_type": "stream",
       "stream": "stdout",
       "text": [
        "cat: SRR527731.polyATrim.adapterTrim.rmRep.sorted.rg.rmDup.peaks.bed: No such file or directory\r\n"
       ]
      },
      {
       "output_type": "stream",
       "stream": "stdout",
       "text": [
        "cat: SRR527732.polyATrim.adapterTrim.rmRep.sorted.rg.rmDup.peaks.bed: No such file or directory\r\n"
       ]
      },
      {
       "output_type": "stream",
       "stream": "stdout",
       "text": [
        "cat: SRR189775.polyATrim.adapterTrim.rmRep.sorted.rg.rmDup.peaks.bed: No such file or directory\r\n",
        "cat: SRR189776.polyATrim.adapterTrim.rmRep.sorted.rg.rmDup.peaks.bed: No such file or directory\r\n",
        "cat: SRR189777.polyATrim.adapterTrim.rmRep.sorted.rg.rmDup.peaks.bed: No such file or directory\r\n",
        "cat: SRR189778.polyATrim.adapterTrim.rmRep.sorted.rg.rmDup.peaks.bed: No such file or directory\r\n",
        "cat: SRR189779.polyATrim.adapterTrim.rmRep.sorted.rg.rmDup.peaks.bed: No such file or directory\r\n",
        "cat: SRR189780.polyATrim.adapterTrim.rmRep.sorted.rg.rmDup.peaks.bed: No such file or directory\r\n",
        "cat: SRR189781.polyATrim.adapterTrim.rmRep.sorted.rg.rmDup.peaks.bed: No such file or directory\r\n",
        "cat: SRR248532.polyATrim.adapterTrim.rmRep.sorted.rg.rmDup.peaks.bed: No such file or directory\r\n"
       ]
      },
      {
       "output_type": "stream",
       "stream": "stdout",
       "text": [
        "cat: SRR048950.polyATrim.adapterTrim.rmRep.sorted.rg.rmDup.peaks.bed: No such file or directory\r\n",
        "cat: SRR048951.polyATrim.adapterTrim.rmRep.sorted.rg.rmDup.peaks.bed: No such file or directory\r\n",
        "cat: SRR048952.polyATrim.adapterTrim.rmRep.sorted.rg.rmDup.peaks.bed: No such file or directory\r\n",
        "cat: SRR048953.polyATrim.adapterTrim.rmRep.sorted.rg.rmDup.peaks.bed: No such file or directory\r\n",
        "cat: SRR048954.polyATrim.adapterTrim.rmRep.sorted.rg.rmDup.peaks.bed: No such file or directory\r\n",
        "cat: SRR048955.polyATrim.adapterTrim.rmRep.sorted.rg.rmDup.peaks.bed: No such file or directory\r\n",
        "cat: SRR048956.polyATrim.adapterTrim.rmRep.sorted.rg.rmDup.peaks.bed: No such file or directory\r\n"
       ]
      },
      {
       "output_type": "stream",
       "stream": "stdout",
       "text": [
        "cat: SRR048957.polyATrim.adapterTrim.rmRep.sorted.rg.rmDup.peaks.bed: No such file or directory\r\n",
        "cat: SRR048958.polyATrim.adapterTrim.rmRep.sorted.rg.rmDup.peaks.bed: No such file or directory\r\n",
        "cat: SRR048959.polyATrim.adapterTrim.rmRep.sorted.rg.rmDup.peaks.bed: No such file or directory\r\n",
        "cat: SRR048960.polyATrim.adapterTrim.rmRep.sorted.rg.rmDup.peaks.bed: No such file or directory\r\n",
        "cat: SRR048961.polyATrim.adapterTrim.rmRep.sorted.rg.rmDup.peaks.bed: No such file or directory\r\n"
       ]
      },
      {
       "output_type": "stream",
       "stream": "stdout",
       "text": [
        "cat: SRR048962.polyATrim.adapterTrim.rmRep.sorted.rg.rmDup.peaks.bed: No such file or directory\r\n",
        "cat: SRR048963.polyATrim.adapterTrim.rmRep.sorted.rg.rmDup.peaks.bed: No such file or directory\r\n",
        "cat: SRR048964.polyATrim.adapterTrim.rmRep.sorted.rg.rmDup.peaks.bed: No such file or directory\r\n",
        "cat: SRR048965.polyATrim.adapterTrim.rmRep.sorted.rg.rmDup.peaks.bed: No such file or directory\r\n",
        "cat: SRR048966.polyATrim.adapterTrim.rmRep.sorted.rg.rmDup.peaks.bed: No such file or directory\r\n"
       ]
      },
      {
       "output_type": "stream",
       "stream": "stdout",
       "text": [
        "cat: SRR764666.polyATrim.adapterTrim.rmRep.sorted.rg.rmDup.peaks.bed: No such file or directory\r\n"
       ]
      },
      {
       "output_type": "stream",
       "stream": "stdout",
       "text": [
        "cat: SRR764667.polyATrim.adapterTrim.rmRep.sorted.rg.rmDup.peaks.bed: No such file or directory\r\n",
        "cat: SRR764668.polyATrim.adapterTrim.rmRep.sorted.rg.rmDup.peaks.bed: No such file or directory\r\n",
        "cat: SRR764669.polyATrim.adapterTrim.rmRep.sorted.rg.rmDup.peaks.bed: No such file or directory\r\n"
       ]
      },
      {
       "output_type": "stream",
       "stream": "stdout",
       "text": [
        "cat: SRR965314.polyATrim.adapterTrim.rmRep.sorted.rg.rmDup.peaks.bed: No such file or directory\r\n"
       ]
      },
      {
       "output_type": "stream",
       "stream": "stdout",
       "text": [
        "cat: SRR965316.polyATrim.adapterTrim.rmRep.sorted.rg.rmDup.peaks.bed: No such file or directory\r\n"
       ]
      },
      {
       "output_type": "stream",
       "stream": "stdout",
       "text": [
        "cat: SRR490650.polyATrim.adapterTrim.rmRep.sorted.rg.rmDup.peaks.bed: No such file or directory\r\n"
       ]
      },
      {
       "output_type": "stream",
       "stream": "stdout",
       "text": [
        "cat: SRR452496.polyATrim.adapterTrim.rmRep.sorted.rg.rmDup.peaks.bed: No such file or directory\r\n",
        "cat: SRR452497.polyATrim.adapterTrim.rmRep.sorted.rg.rmDup.peaks.bed: No such file or directory\r\n"
       ]
      },
      {
       "output_type": "stream",
       "stream": "stdout",
       "text": [
        "cat: SRR048967.polyATrim.adapterTrim.rmRep.sorted.rg.rmDup.peaks.bed: No such file or directory\r\n",
        "cat: SRR048968.polyATrim.adapterTrim.rmRep.sorted.rg.rmDup.peaks.bed: No such file or directory\r\n"
       ]
      },
      {
       "output_type": "stream",
       "stream": "stdout",
       "text": [
        "cat: SRR048969.polyATrim.adapterTrim.rmRep.sorted.rg.rmDup.peaks.bed: No such file or directory\r\n",
        "cat: SRR048970.polyATrim.adapterTrim.rmRep.sorted.rg.rmDup.peaks.bed: No such file or directory\r\n",
        "cat: SRR048971.polyATrim.adapterTrim.rmRep.sorted.rg.rmDup.peaks.bed: No such file or directory\r\n",
        "cat: SRR048972.polyATrim.adapterTrim.rmRep.sorted.rg.rmDup.peaks.bed: No such file or directory\r\n"
       ]
      },
      {
       "output_type": "stream",
       "stream": "stdout",
       "text": [
        "cat: FOX2_iclip.polyATrim.adapterTrim.rmRep.sorted.rg.rmDup.peaks.bed: No such file or directory\r\n"
       ]
      },
      {
       "output_type": "stream",
       "stream": "stdout",
       "text": [
        "cat: SRR048982.polyATrim.adapterTrim.rmRep.sorted.rg.rmDup.peaks.bed: No such file or directory\r\n",
        "cat: SRR048983.polyATrim.adapterTrim.rmRep.sorted.rg.rmDup.peaks.bed: No such file or directory\r\n"
       ]
      },
      {
       "output_type": "stream",
       "stream": "stdout",
       "text": [
        "cat: SRR048984.polyATrim.adapterTrim.rmRep.sorted.rg.rmDup.peaks.bed: No such file or directory\r\n",
        "cat: SRR048985.polyATrim.adapterTrim.rmRep.sorted.rg.rmDup.peaks.bed: No such file or directory\r\n"
       ]
      },
      {
       "output_type": "stream",
       "stream": "stdout",
       "text": [
        "cat: SRR048986.polyATrim.adapterTrim.rmRep.sorted.rg.rmDup.peaks.bed: No such file or directory\r\n",
        "cat: SRR048987.polyATrim.adapterTrim.rmRep.sorted.rg.rmDup.peaks.bed: No such file or directory\r\n"
       ]
      },
      {
       "output_type": "stream",
       "stream": "stdout",
       "text": [
        "cat: SRR965317.polyATrim.adapterTrim.rmRep.sorted.rg.rmDup.peaks.bed: No such file or directory\r\n"
       ]
      },
      {
       "output_type": "stream",
       "stream": "stdout",
       "text": [
        "cat: SRR965315.polyATrim.adapterTrim.rmRep.sorted.rg.rmDup.peaks.bed: No such file or directory\r\n"
       ]
      },
      {
       "output_type": "stream",
       "stream": "stdout",
       "text": [
        "cat: SRR398195.polyATrim.adapterTrim.rmRep.sorted.rg.rmDup.peaks.bed: No such file or directory\r\n",
        "cat: SRR398196.polyATrim.adapterTrim.rmRep.sorted.rg.rmDup.peaks.bed: No such file or directory\r\n",
        "cat: SRR398197.polyATrim.adapterTrim.rmRep.sorted.rg.rmDup.peaks.bed: No such file or directory\r\n",
        "cat: SRR398198.polyATrim.adapterTrim.rmRep.sorted.rg.rmDup.peaks.bed: No such file or directory\r\n"
       ]
      },
      {
       "output_type": "stream",
       "stream": "stdout",
       "text": [
        "cat: SRR398199.polyATrim.adapterTrim.rmRep.sorted.rg.rmDup.peaks.bed: No such file or directory\r\n"
       ]
      },
      {
       "output_type": "stream",
       "stream": "stdout",
       "text": [
        "cat: SRR398200.polyATrim.adapterTrim.rmRep.sorted.rg.rmDup.peaks.bed: No such file or directory\r\n",
        "cat: SRR398201.polyATrim.adapterTrim.rmRep.sorted.rg.rmDup.peaks.bed: No such file or directory\r\n",
        "cat: SRR398202.polyATrim.adapterTrim.rmRep.sorted.rg.rmDup.peaks.bed: No such file or directory\r\n",
        "cat: SRR398203.polyATrim.adapterTrim.rmRep.sorted.rg.rmDup.peaks.bed: No such file or directory\r\n"
       ]
      },
      {
       "output_type": "stream",
       "stream": "stdout",
       "text": [
        "cat: SRR398204.polyATrim.adapterTrim.rmRep.sorted.rg.rmDup.peaks.bed: No such file or directory\r\n",
        "cat: SRR398205.polyATrim.adapterTrim.rmRep.sorted.rg.rmDup.peaks.bed: No such file or directory\r\n"
       ]
      },
      {
       "output_type": "stream",
       "stream": "stdout",
       "text": [
        "cat: SRR398206.polyATrim.adapterTrim.rmRep.sorted.rg.rmDup.peaks.bed: No such file or directory\r\n",
        "cat: SRR398207.polyATrim.adapterTrim.rmRep.sorted.rg.rmDup.peaks.bed: No such file or directory\r\n",
        "cat: SRR398208.polyATrim.adapterTrim.rmRep.sorted.rg.rmDup.peaks.bed: No such file or directory\r\n",
        "cat: SRR398209.polyATrim.adapterTrim.rmRep.sorted.rg.rmDup.peaks.bed: No such file or directory\r\n"
       ]
      }
     ],
     "prompt_number": 9
    },
    {
     "cell_type": "code",
     "collapsed": false,
     "input": [
      "tools = [pybedtools.BedTool(os.path.join(path, srr + \".polyATrim.adapterTrim.rmRep.sorted.rg.rmDup.peaks.bed\")) for srr in list(hek_293_df.index)]\n",
      "intersections = {}\n",
      "unions = {}\n",
      "jaccard = {}\n",
      "for x1, (bed_1_name, bed_1) in enumerate(merged_tools.items()):\n",
      "    intersections[bed_1_name] = {}\n",
      "    unions[bed_1_name] = {}\n",
      "    jaccard[bed_1_name] = {}\n",
      "    for x2, (bed_2_name, bed_2) in enumerate(merged_tools.items()):\n",
      "\n",
      "        intersect = !intersectBed -a $bed_1.fn -b $bed_2.fn -u | wc -l\n",
      "        union = !cat $bed_1.fn $bed_2.fn | sort -k1,1 -k2,2n  | mergeBed  | wc -l \n",
      "\n",
      "        intersect_count = int(intersect[0].split()[0])\n",
      "        union_count = int(union[0].split()[0])\n",
      "        jaccard_score = intersect_count / float(union_count)\n",
      "        unions[bed_1_name][bed_2_name] = intersect_count\n",
      "        intersections[bed_1_name][bed_2_name] = intersect_count\n",
      "        jaccard[bed_1_name][bed_2_name] = jaccard_score"
     ],
     "language": "python",
     "metadata": {},
     "outputs": [
      {
       "ename": "ValueError",
       "evalue": "File \"/nas3/gpratt/projects/public_clip/v2/FOX2_iclip.polyATrim.adapterTrim.rmRep.sorted.rg.rmDup.peaks.bed\" does not exist",
       "output_type": "pyerr",
       "traceback": [
        "\u001b[1;31m---------------------------------------------------------------------------\u001b[0m\n\u001b[1;31mValueError\u001b[0m                                Traceback (most recent call last)",
        "\u001b[1;32m<ipython-input-33-6815bff61f26>\u001b[0m in \u001b[0;36m<module>\u001b[1;34m()\u001b[0m\n\u001b[1;32m----> 1\u001b[1;33m \u001b[0mtools\u001b[0m \u001b[1;33m=\u001b[0m \u001b[1;33m[\u001b[0m\u001b[0mpybedtools\u001b[0m\u001b[1;33m.\u001b[0m\u001b[0mBedTool\u001b[0m\u001b[1;33m(\u001b[0m\u001b[0mos\u001b[0m\u001b[1;33m.\u001b[0m\u001b[0mpath\u001b[0m\u001b[1;33m.\u001b[0m\u001b[0mjoin\u001b[0m\u001b[1;33m(\u001b[0m\u001b[0mpath\u001b[0m\u001b[1;33m,\u001b[0m \u001b[0msrr\u001b[0m \u001b[1;33m+\u001b[0m \u001b[1;34m\".polyATrim.adapterTrim.rmRep.sorted.rg.rmDup.peaks.bed\"\u001b[0m\u001b[1;33m)\u001b[0m\u001b[1;33m)\u001b[0m \u001b[1;32mfor\u001b[0m \u001b[0msrr\u001b[0m \u001b[1;32min\u001b[0m \u001b[0mlist\u001b[0m\u001b[1;33m(\u001b[0m\u001b[0mhek_293_df\u001b[0m\u001b[1;33m.\u001b[0m\u001b[0mindex\u001b[0m\u001b[1;33m)\u001b[0m\u001b[1;33m]\u001b[0m\u001b[1;33m\u001b[0m\u001b[0m\n\u001b[0m\u001b[0;32m      2\u001b[0m \u001b[0mintersections\u001b[0m \u001b[1;33m=\u001b[0m \u001b[1;33m{\u001b[0m\u001b[1;33m}\u001b[0m\u001b[1;33m\u001b[0m\u001b[0m\n\u001b[0;32m      3\u001b[0m \u001b[0munions\u001b[0m \u001b[1;33m=\u001b[0m \u001b[1;33m{\u001b[0m\u001b[1;33m}\u001b[0m\u001b[1;33m\u001b[0m\u001b[0m\n\u001b[0;32m      4\u001b[0m \u001b[0mjaccard\u001b[0m \u001b[1;33m=\u001b[0m \u001b[1;33m{\u001b[0m\u001b[1;33m}\u001b[0m\u001b[1;33m\u001b[0m\u001b[0m\n\u001b[0;32m      5\u001b[0m \u001b[1;32mfor\u001b[0m \u001b[0mx1\u001b[0m\u001b[1;33m,\u001b[0m \u001b[1;33m(\u001b[0m\u001b[0mbed_1_name\u001b[0m\u001b[1;33m,\u001b[0m \u001b[0mbed_1\u001b[0m\u001b[1;33m)\u001b[0m \u001b[1;32min\u001b[0m \u001b[0menumerate\u001b[0m\u001b[1;33m(\u001b[0m\u001b[0mmerged_tools\u001b[0m\u001b[1;33m.\u001b[0m\u001b[0mitems\u001b[0m\u001b[1;33m(\u001b[0m\u001b[1;33m)\u001b[0m\u001b[1;33m)\u001b[0m\u001b[1;33m:\u001b[0m\u001b[1;33m\u001b[0m\u001b[0m\n",
        "\u001b[1;32m/nas3/yeolab/Software/lib/python2.7/site-packages/pybedtools-0.6.4-py2.7-linux-x86_64.egg/pybedtools/bedtool.pyc\u001b[0m in \u001b[0;36m__init__\u001b[1;34m(self, fn, from_string, remote)\u001b[0m\n\u001b[0;32m    369\u001b[0m                 \u001b[1;32melse\u001b[0m\u001b[1;33m:\u001b[0m\u001b[1;33m\u001b[0m\u001b[0m\n\u001b[0;32m    370\u001b[0m                     \u001b[1;32mif\u001b[0m \u001b[1;32mnot\u001b[0m \u001b[0mos\u001b[0m\u001b[1;33m.\u001b[0m\u001b[0mpath\u001b[0m\u001b[1;33m.\u001b[0m\u001b[0mexists\u001b[0m\u001b[1;33m(\u001b[0m\u001b[0mfn\u001b[0m\u001b[1;33m)\u001b[0m\u001b[1;33m:\u001b[0m\u001b[1;33m\u001b[0m\u001b[0m\n\u001b[1;32m--> 371\u001b[1;33m                         \u001b[1;32mraise\u001b[0m \u001b[0mValueError\u001b[0m\u001b[1;33m(\u001b[0m\u001b[1;34m'File \"%s\" does not exist'\u001b[0m \u001b[1;33m%\u001b[0m \u001b[0mfn\u001b[0m\u001b[1;33m)\u001b[0m\u001b[1;33m\u001b[0m\u001b[0m\n\u001b[0m\u001b[0;32m    372\u001b[0m                     \u001b[0mself\u001b[0m\u001b[1;33m.\u001b[0m\u001b[0m_isbam\u001b[0m \u001b[1;33m=\u001b[0m \u001b[0misBAM\u001b[0m\u001b[1;33m(\u001b[0m\u001b[0mfn\u001b[0m\u001b[1;33m)\u001b[0m\u001b[1;33m\u001b[0m\u001b[0m\n\u001b[0;32m    373\u001b[0m \u001b[1;33m\u001b[0m\u001b[0m\n",
        "\u001b[1;31mValueError\u001b[0m: File \"/nas3/gpratt/projects/public_clip/v2/FOX2_iclip.polyATrim.adapterTrim.rmRep.sorted.rg.rmDup.peaks.bed\" does not exist"
       ]
      }
     ],
     "prompt_number": 33
    },
    {
     "cell_type": "code",
     "collapsed": false,
     "input": [
      "hist([len(bedtool) for bedtool in tools], range=(0,5000), bins=100) "
     ],
     "language": "python",
     "metadata": {},
     "outputs": []
    },
    {
     "cell_type": "code",
     "collapsed": false,
     "input": [
      "pickled_files = !ls *.pickleimport itertools"
     ],
     "language": "python",
     "metadata": {},
     "outputs": []
    },
    {
     "cell_type": "code",
     "collapsed": false,
     "input": [
      "with open(\"cytoscape_out.csv\", 'w') as cytoscape_out:\n",
      "    for bed_1, bed_2 in itertools.combinations(jaccard.keys(), 2):\n",
      "        cytoscape_out.write(\",\".join([bed_1, bed_2, str(jaccard[bed_1][bed_2])]) + \"\\n\")"
     ],
     "language": "python",
     "metadata": {},
     "outputs": [
      {
       "ename": "NameError",
       "evalue": "name 'itertools' is not defined",
       "output_type": "pyerr",
       "traceback": [
        "\u001b[1;31m---------------------------------------------------------------------------\u001b[0m\n\u001b[1;31mNameError\u001b[0m                                 Traceback (most recent call last)",
        "\u001b[1;32m<ipython-input-4-a83c90d02495>\u001b[0m in \u001b[0;36m<module>\u001b[1;34m()\u001b[0m\n\u001b[0;32m      1\u001b[0m \u001b[1;32mwith\u001b[0m \u001b[0mopen\u001b[0m\u001b[1;33m(\u001b[0m\u001b[1;34m\"cytoscape_out.csv\"\u001b[0m\u001b[1;33m,\u001b[0m \u001b[1;34m'w'\u001b[0m\u001b[1;33m)\u001b[0m \u001b[1;32mas\u001b[0m \u001b[0mcytoscape_out\u001b[0m\u001b[1;33m:\u001b[0m\u001b[1;33m\u001b[0m\u001b[0m\n\u001b[1;32m----> 2\u001b[1;33m     \u001b[1;32mfor\u001b[0m \u001b[0mbed_1\u001b[0m\u001b[1;33m,\u001b[0m \u001b[0mbed_2\u001b[0m \u001b[1;32min\u001b[0m \u001b[0mitertools\u001b[0m\u001b[1;33m.\u001b[0m\u001b[0mcombinations\u001b[0m\u001b[1;33m(\u001b[0m\u001b[0mjaccard\u001b[0m\u001b[1;33m.\u001b[0m\u001b[0mkeys\u001b[0m\u001b[1;33m(\u001b[0m\u001b[1;33m)\u001b[0m\u001b[1;33m,\u001b[0m \u001b[1;36m2\u001b[0m\u001b[1;33m)\u001b[0m\u001b[1;33m:\u001b[0m\u001b[1;33m\u001b[0m\u001b[0m\n\u001b[0m\u001b[0;32m      3\u001b[0m         \u001b[0mcytoscape_out\u001b[0m\u001b[1;33m.\u001b[0m\u001b[0mwrite\u001b[0m\u001b[1;33m(\u001b[0m\u001b[1;34m\",\"\u001b[0m\u001b[1;33m.\u001b[0m\u001b[0mjoin\u001b[0m\u001b[1;33m(\u001b[0m\u001b[1;33m[\u001b[0m\u001b[0mbed_1\u001b[0m\u001b[1;33m,\u001b[0m \u001b[0mbed_2\u001b[0m\u001b[1;33m,\u001b[0m \u001b[0mstr\u001b[0m\u001b[1;33m(\u001b[0m\u001b[0mjaccard\u001b[0m\u001b[1;33m[\u001b[0m\u001b[0mbed_1\u001b[0m\u001b[1;33m]\u001b[0m\u001b[1;33m[\u001b[0m\u001b[0mbed_2\u001b[0m\u001b[1;33m]\u001b[0m\u001b[1;33m)\u001b[0m\u001b[1;33m]\u001b[0m\u001b[1;33m)\u001b[0m \u001b[1;33m+\u001b[0m \u001b[1;34m\"\\n\"\u001b[0m\u001b[1;33m)\u001b[0m\u001b[1;33m\u001b[0m\u001b[0m\n",
        "\u001b[1;31mNameError\u001b[0m: name 'itertools' is not defined"
       ]
      }
     ],
     "prompt_number": 4
    },
    {
     "cell_type": "code",
     "collapsed": false,
     "input": [
      "y_events = scipy.spatial.distance.pdist(normalized_regions)\n",
      "Z_events = scipy.cluster.hierarchy.linkage(y_events)\n",
      "d_events = scipy.cluster.hierarchy.dendrogram(Z_events, orientation='right', distance_sort='descending', no_labels=True)\n",
      "event_order = d_events['leaves'][::-1]\n",
      "\n",
      "matshow(normalized_regions.as_matrix()[event_order,:][:,:], interpolation=\"nearest\", cmap=cm.gist_yarg)\n",
      "yticks(arange(len(normalized_regions.index)), [ all_names[i] for i in event_order] )\n",
      "xticks(arange(len(normalized_regions.columns)) + .2,[ normalized_regions.columns[i] for i in range(len(normalized_regions.columns))] , rotation=45)\n",
      "\n",
      "colorbar()fixed_df = combined_df.dropna()"
     ],
     "language": "python",
     "metadata": {},
     "outputs": [
      {
       "ename": "SyntaxError",
       "evalue": "invalid syntax (<ipython-input-5-2fb19e440917>, line 10)",
       "output_type": "pyerr",
       "traceback": [
        "\u001b[1;36m  File \u001b[1;32m\"<ipython-input-5-2fb19e440917>\"\u001b[1;36m, line \u001b[1;32m10\u001b[0m\n\u001b[1;33m    colorbar()fixed_df = combined_df.dropna()\u001b[0m\n\u001b[1;37m                     ^\u001b[0m\n\u001b[1;31mSyntaxError\u001b[0m\u001b[1;31m:\u001b[0m invalid syntax\n"
       ]
      }
     ],
     "prompt_number": 5
    },
    {
     "cell_type": "markdown",
     "metadata": {},
     "source": [
      "Run saturation analysis on a few highly sequenced datasets, other public ones NOVA? TBP43? FOX2? fuck it, all of em"
     ]
    },
    {
     "cell_type": "code",
     "collapsed": false,
     "input": [
      "with open(\"downsample.txt\", 'w') as out_file:\n",
      "    for row in combined_df.iterrows():\n",
      "        out_file.write(\"\\t\".join([\"/home/gpratt/projects/public_clip/analysis/v1/\" + row[0] + \".polyATrim.adapterTrim.rmRep.sorted.rg.rmDup.bam\", row[1][\"Species\"]]) + \"\\n\")"
     ],
     "language": "python",
     "metadata": {},
     "outputs": [
      {
       "ename": "NameError",
       "evalue": "name 'combined_df' is not defined",
       "output_type": "pyerr",
       "traceback": [
        "\u001b[1;31m---------------------------------------------------------------------------\u001b[0m\n\u001b[1;31mNameError\u001b[0m                                 Traceback (most recent call last)",
        "\u001b[1;32m<ipython-input-6-a33f657faf15>\u001b[0m in \u001b[0;36m<module>\u001b[1;34m()\u001b[0m\n\u001b[0;32m      1\u001b[0m \u001b[1;32mwith\u001b[0m \u001b[0mopen\u001b[0m\u001b[1;33m(\u001b[0m\u001b[1;34m\"downsample.txt\"\u001b[0m\u001b[1;33m,\u001b[0m \u001b[1;34m'w'\u001b[0m\u001b[1;33m)\u001b[0m \u001b[1;32mas\u001b[0m \u001b[0mout_file\u001b[0m\u001b[1;33m:\u001b[0m\u001b[1;33m\u001b[0m\u001b[0m\n\u001b[1;32m----> 2\u001b[1;33m     \u001b[1;32mfor\u001b[0m \u001b[0mrow\u001b[0m \u001b[1;32min\u001b[0m \u001b[0mcombined_df\u001b[0m\u001b[1;33m.\u001b[0m\u001b[0miterrows\u001b[0m\u001b[1;33m(\u001b[0m\u001b[1;33m)\u001b[0m\u001b[1;33m:\u001b[0m\u001b[1;33m\u001b[0m\u001b[0m\n\u001b[0m\u001b[0;32m      3\u001b[0m         \u001b[0mout_file\u001b[0m\u001b[1;33m.\u001b[0m\u001b[0mwrite\u001b[0m\u001b[1;33m(\u001b[0m\u001b[1;34m\"\\t\"\u001b[0m\u001b[1;33m.\u001b[0m\u001b[0mjoin\u001b[0m\u001b[1;33m(\u001b[0m\u001b[1;33m[\u001b[0m\u001b[1;34m\"/home/gpratt/projects/public_clip/analysis/v1/\"\u001b[0m \u001b[1;33m+\u001b[0m \u001b[0mrow\u001b[0m\u001b[1;33m[\u001b[0m\u001b[1;36m0\u001b[0m\u001b[1;33m]\u001b[0m \u001b[1;33m+\u001b[0m \u001b[1;34m\".polyATrim.adapterTrim.rmRep.sorted.rg.rmDup.bam\"\u001b[0m\u001b[1;33m,\u001b[0m \u001b[0mrow\u001b[0m\u001b[1;33m[\u001b[0m\u001b[1;36m1\u001b[0m\u001b[1;33m]\u001b[0m\u001b[1;33m[\u001b[0m\u001b[1;34m\"Species\"\u001b[0m\u001b[1;33m]\u001b[0m\u001b[1;33m]\u001b[0m\u001b[1;33m)\u001b[0m \u001b[1;33m+\u001b[0m \u001b[1;34m\"\\n\"\u001b[0m\u001b[1;33m)\u001b[0m\u001b[1;33m\u001b[0m\u001b[0m\n",
        "\u001b[1;31mNameError\u001b[0m: name 'combined_df' is not defined"
       ]
      }
     ],
     "prompt_number": 6
    },
    {
     "cell_type": "code",
     "collapsed": false,
     "input": [
      "pickled_files = !ls *.pickle"
     ],
     "language": "python",
     "metadata": {},
     "outputs": [],
     "prompt_number": 7
    },
    {
     "cell_type": "code",
     "collapsed": false,
     "input": [
      "pickled_names = [pickled_file.split(\".\")[0] for pickled_file in pickled_files]\n",
      "all_names = [\"_\".join(list(combined_df.ix[pickled_name][['Cell Type', 'Antibody']])) for pickled_name in pickled_names]\n",
      "pickled_data = [pickle.load(open(pickled_file)) for pickled_file in pickled_files]\n",
      "region_sizes = {x : pickled_file['region_sizes'] for x, pickled_file in enumerate(pickled_data)}\n",
      "regions_df = pd.DataFrame(region_sizes).transpose()\n",
      "normalized_regions = regions_df.applymap(float).div(regions_df.sum(axis = 1), axis=\"index\")"
     ],
     "language": "python",
     "metadata": {},
     "outputs": [
      {
       "ename": "NameError",
       "evalue": "name 'combined_df' is not defined",
       "output_type": "pyerr",
       "traceback": [
        "\u001b[1;31m---------------------------------------------------------------------------\u001b[0m\n\u001b[1;31mNameError\u001b[0m                                 Traceback (most recent call last)",
        "\u001b[1;32m<ipython-input-8-46d743c1c372>\u001b[0m in \u001b[0;36m<module>\u001b[1;34m()\u001b[0m\n\u001b[0;32m      1\u001b[0m \u001b[0mpickled_names\u001b[0m \u001b[1;33m=\u001b[0m \u001b[1;33m[\u001b[0m\u001b[0mpickled_file\u001b[0m\u001b[1;33m.\u001b[0m\u001b[0msplit\u001b[0m\u001b[1;33m(\u001b[0m\u001b[1;34m\".\"\u001b[0m\u001b[1;33m)\u001b[0m\u001b[1;33m[\u001b[0m\u001b[1;36m0\u001b[0m\u001b[1;33m]\u001b[0m \u001b[1;32mfor\u001b[0m \u001b[0mpickled_file\u001b[0m \u001b[1;32min\u001b[0m \u001b[0mpickled_files\u001b[0m\u001b[1;33m]\u001b[0m\u001b[1;33m\u001b[0m\u001b[0m\n\u001b[1;32m----> 2\u001b[1;33m \u001b[0mall_names\u001b[0m \u001b[1;33m=\u001b[0m \u001b[1;33m[\u001b[0m\u001b[1;34m\"_\"\u001b[0m\u001b[1;33m.\u001b[0m\u001b[0mjoin\u001b[0m\u001b[1;33m(\u001b[0m\u001b[0mlist\u001b[0m\u001b[1;33m(\u001b[0m\u001b[0mcombined_df\u001b[0m\u001b[1;33m.\u001b[0m\u001b[0mix\u001b[0m\u001b[1;33m[\u001b[0m\u001b[0mpickled_name\u001b[0m\u001b[1;33m]\u001b[0m\u001b[1;33m[\u001b[0m\u001b[1;33m[\u001b[0m\u001b[1;34m'Cell Type'\u001b[0m\u001b[1;33m,\u001b[0m \u001b[1;34m'Antibody'\u001b[0m\u001b[1;33m]\u001b[0m\u001b[1;33m]\u001b[0m\u001b[1;33m)\u001b[0m\u001b[1;33m)\u001b[0m \u001b[1;32mfor\u001b[0m \u001b[0mpickled_name\u001b[0m \u001b[1;32min\u001b[0m \u001b[0mpickled_names\u001b[0m\u001b[1;33m]\u001b[0m\u001b[1;33m\u001b[0m\u001b[0m\n\u001b[0m\u001b[0;32m      3\u001b[0m \u001b[0mpickled_data\u001b[0m \u001b[1;33m=\u001b[0m \u001b[1;33m[\u001b[0m\u001b[0mpickle\u001b[0m\u001b[1;33m.\u001b[0m\u001b[0mload\u001b[0m\u001b[1;33m(\u001b[0m\u001b[0mopen\u001b[0m\u001b[1;33m(\u001b[0m\u001b[0mpickled_file\u001b[0m\u001b[1;33m)\u001b[0m\u001b[1;33m)\u001b[0m \u001b[1;32mfor\u001b[0m \u001b[0mpickled_file\u001b[0m \u001b[1;32min\u001b[0m \u001b[0mpickled_files\u001b[0m\u001b[1;33m]\u001b[0m\u001b[1;33m\u001b[0m\u001b[0m\n\u001b[0;32m      4\u001b[0m \u001b[0mregion_sizes\u001b[0m \u001b[1;33m=\u001b[0m \u001b[1;33m{\u001b[0m\u001b[0mx\u001b[0m \u001b[1;33m:\u001b[0m \u001b[0mpickled_file\u001b[0m\u001b[1;33m[\u001b[0m\u001b[1;34m'region_sizes'\u001b[0m\u001b[1;33m]\u001b[0m \u001b[1;32mfor\u001b[0m \u001b[0mx\u001b[0m\u001b[1;33m,\u001b[0m \u001b[0mpickled_file\u001b[0m \u001b[1;32min\u001b[0m \u001b[0menumerate\u001b[0m\u001b[1;33m(\u001b[0m\u001b[0mpickled_data\u001b[0m\u001b[1;33m)\u001b[0m\u001b[1;33m}\u001b[0m\u001b[1;33m\u001b[0m\u001b[0m\n\u001b[0;32m      5\u001b[0m \u001b[0mregions_df\u001b[0m \u001b[1;33m=\u001b[0m \u001b[0mpd\u001b[0m\u001b[1;33m.\u001b[0m\u001b[0mDataFrame\u001b[0m\u001b[1;33m(\u001b[0m\u001b[0mregion_sizes\u001b[0m\u001b[1;33m)\u001b[0m\u001b[1;33m.\u001b[0m\u001b[0mtranspose\u001b[0m\u001b[1;33m(\u001b[0m\u001b[1;33m)\u001b[0m\u001b[1;33m\u001b[0m\u001b[0m\n",
        "\u001b[1;31mNameError\u001b[0m: name 'combined_df' is not defined"
       ]
      }
     ],
     "prompt_number": 8
    },
    {
     "cell_type": "code",
     "collapsed": false,
     "input": [
      "y_events = scipy.spatial.distance.pdist(normalized_regions)\n",
      "Z_events = scipy.cluster.hierarchy.linkage(y_events)\n",
      "d_events = scipy.cluster.hierarchy.dendrogram(Z_events, orientation='right', distance_sort='descending', no_labels=True)\n",
      "event_order = d_events['leaves'][::-1]\n",
      "\n",
      "matshow(normalized_regions.as_matrix()[event_order,:][:,:], interpolation=\"nearest\", cmap=cm.gist_yarg)\n",
      "yticks(arange(len(normalized_regions.index)), [ all_names[i] for i in event_order] )\n",
      "xticks(arange(len(normalized_regions.columns)) + .2,[ normalized_regions.columns[i] for i in range(len(normalized_regions.columns))] , rotation=45)\n",
      "\n",
      "colorbar()"
     ],
     "language": "python",
     "metadata": {},
     "outputs": [
      {
       "ename": "NameError",
       "evalue": "name 'normalized_regions' is not defined",
       "output_type": "pyerr",
       "traceback": [
        "\u001b[1;31m---------------------------------------------------------------------------\u001b[0m\n\u001b[1;31mNameError\u001b[0m                                 Traceback (most recent call last)",
        "\u001b[1;32m<ipython-input-9-ae91945e5911>\u001b[0m in \u001b[0;36m<module>\u001b[1;34m()\u001b[0m\n\u001b[1;32m----> 1\u001b[1;33m \u001b[0my_events\u001b[0m \u001b[1;33m=\u001b[0m \u001b[0mscipy\u001b[0m\u001b[1;33m.\u001b[0m\u001b[0mspatial\u001b[0m\u001b[1;33m.\u001b[0m\u001b[0mdistance\u001b[0m\u001b[1;33m.\u001b[0m\u001b[0mpdist\u001b[0m\u001b[1;33m(\u001b[0m\u001b[0mnormalized_regions\u001b[0m\u001b[1;33m)\u001b[0m\u001b[1;33m\u001b[0m\u001b[0m\n\u001b[0m\u001b[0;32m      2\u001b[0m \u001b[0mZ_events\u001b[0m \u001b[1;33m=\u001b[0m \u001b[0mscipy\u001b[0m\u001b[1;33m.\u001b[0m\u001b[0mcluster\u001b[0m\u001b[1;33m.\u001b[0m\u001b[0mhierarchy\u001b[0m\u001b[1;33m.\u001b[0m\u001b[0mlinkage\u001b[0m\u001b[1;33m(\u001b[0m\u001b[0my_events\u001b[0m\u001b[1;33m)\u001b[0m\u001b[1;33m\u001b[0m\u001b[0m\n\u001b[0;32m      3\u001b[0m \u001b[0md_events\u001b[0m \u001b[1;33m=\u001b[0m \u001b[0mscipy\u001b[0m\u001b[1;33m.\u001b[0m\u001b[0mcluster\u001b[0m\u001b[1;33m.\u001b[0m\u001b[0mhierarchy\u001b[0m\u001b[1;33m.\u001b[0m\u001b[0mdendrogram\u001b[0m\u001b[1;33m(\u001b[0m\u001b[0mZ_events\u001b[0m\u001b[1;33m,\u001b[0m \u001b[0morientation\u001b[0m\u001b[1;33m=\u001b[0m\u001b[1;34m'right'\u001b[0m\u001b[1;33m,\u001b[0m \u001b[0mdistance_sort\u001b[0m\u001b[1;33m=\u001b[0m\u001b[1;34m'descending'\u001b[0m\u001b[1;33m,\u001b[0m \u001b[0mno_labels\u001b[0m\u001b[1;33m=\u001b[0m\u001b[0mTrue\u001b[0m\u001b[1;33m)\u001b[0m\u001b[1;33m\u001b[0m\u001b[0m\n\u001b[0;32m      4\u001b[0m \u001b[0mevent_order\u001b[0m \u001b[1;33m=\u001b[0m \u001b[0md_events\u001b[0m\u001b[1;33m[\u001b[0m\u001b[1;34m'leaves'\u001b[0m\u001b[1;33m]\u001b[0m\u001b[1;33m[\u001b[0m\u001b[1;33m:\u001b[0m\u001b[1;33m:\u001b[0m\u001b[1;33m-\u001b[0m\u001b[1;36m1\u001b[0m\u001b[1;33m]\u001b[0m\u001b[1;33m\u001b[0m\u001b[0m\n\u001b[0;32m      5\u001b[0m \u001b[1;33m\u001b[0m\u001b[0m\n",
        "\u001b[1;31mNameError\u001b[0m: name 'normalized_regions' is not defined"
       ]
      }
     ],
     "prompt_number": 9
    },
    {
     "cell_type": "code",
     "collapsed": false,
     "input": [
      "hek_293_genes = {name : [interval.name.split(\";\")[0].split(\".\")[0] for interval in bedtool] for name, bedtool in merged_tools.items()}"
     ],
     "language": "python",
     "metadata": {},
     "outputs": [
      {
       "ename": "NameError",
       "evalue": "name 'merged_tools' is not defined",
       "output_type": "pyerr",
       "traceback": [
        "\u001b[1;31m---------------------------------------------------------------------------\u001b[0m\n\u001b[1;31mNameError\u001b[0m                                 Traceback (most recent call last)",
        "\u001b[1;32m<ipython-input-10-26161ef420e3>\u001b[0m in \u001b[0;36m<module>\u001b[1;34m()\u001b[0m\n\u001b[1;32m----> 1\u001b[1;33m \u001b[0mhek_293_genes\u001b[0m \u001b[1;33m=\u001b[0m \u001b[1;33m{\u001b[0m\u001b[0mname\u001b[0m \u001b[1;33m:\u001b[0m \u001b[1;33m[\u001b[0m\u001b[0minterval\u001b[0m\u001b[1;33m.\u001b[0m\u001b[0mname\u001b[0m\u001b[1;33m.\u001b[0m\u001b[0msplit\u001b[0m\u001b[1;33m(\u001b[0m\u001b[1;34m\";\"\u001b[0m\u001b[1;33m)\u001b[0m\u001b[1;33m[\u001b[0m\u001b[1;36m0\u001b[0m\u001b[1;33m]\u001b[0m\u001b[1;33m.\u001b[0m\u001b[0msplit\u001b[0m\u001b[1;33m(\u001b[0m\u001b[1;34m\".\"\u001b[0m\u001b[1;33m)\u001b[0m\u001b[1;33m[\u001b[0m\u001b[1;36m0\u001b[0m\u001b[1;33m]\u001b[0m \u001b[1;32mfor\u001b[0m \u001b[0minterval\u001b[0m \u001b[1;32min\u001b[0m \u001b[0mbedtool\u001b[0m\u001b[1;33m]\u001b[0m \u001b[1;32mfor\u001b[0m \u001b[0mname\u001b[0m\u001b[1;33m,\u001b[0m \u001b[0mbedtool\u001b[0m \u001b[1;32min\u001b[0m \u001b[0mmerged_tools\u001b[0m\u001b[1;33m.\u001b[0m\u001b[0mitems\u001b[0m\u001b[1;33m(\u001b[0m\u001b[1;33m)\u001b[0m\u001b[1;33m}\u001b[0m\u001b[1;33m\u001b[0m\u001b[0m\n\u001b[0m",
        "\u001b[1;31mNameError\u001b[0m: name 'merged_tools' is not defined"
       ]
      }
     ],
     "prompt_number": 10
    },
    {
     "cell_type": "code",
     "collapsed": false,
     "input": [
      "rowhg19GO = GO.hg19GO()"
     ],
     "language": "python",
     "metadata": {},
     "outputs": [
      {
       "ename": "AttributeError",
       "evalue": "type object 'GO' has no attribute 'hg19GO'",
       "output_type": "pyerr",
       "traceback": [
        "\u001b[1;31m---------------------------------------------------------------------------\u001b[0m\n\u001b[1;31mAttributeError\u001b[0m                            Traceback (most recent call last)",
        "\u001b[1;32m<ipython-input-11-307d56044a25>\u001b[0m in \u001b[0;36m<module>\u001b[1;34m()\u001b[0m\n\u001b[1;32m----> 1\u001b[1;33m \u001b[0mrowhg19GO\u001b[0m \u001b[1;33m=\u001b[0m \u001b[0mGO\u001b[0m\u001b[1;33m.\u001b[0m\u001b[0mhg19GO\u001b[0m\u001b[1;33m(\u001b[0m\u001b[1;33m)\u001b[0m\u001b[1;33m\u001b[0m\u001b[0m\n\u001b[0m",
        "\u001b[1;31mAttributeError\u001b[0m: type object 'GO' has no attribute 'hg19GO'"
       ]
      }
     ],
     "prompt_number": 11
    },
    {
     "cell_type": "code",
     "collapsed": false,
     "input": [
      "hek_293_go_terms = {name : hg19GO.enrichment(genes) for name, genes in hek_293_genes.items()}"
     ],
     "language": "python",
     "metadata": {},
     "outputs": [
      {
       "ename": "NameError",
       "evalue": "name 'hek_293_genes' is not defined",
       "output_type": "pyerr",
       "traceback": [
        "\u001b[1;31m---------------------------------------------------------------------------\u001b[0m\n\u001b[1;31mNameError\u001b[0m                                 Traceback (most recent call last)",
        "\u001b[1;32m<ipython-input-12-efc0b591e132>\u001b[0m in \u001b[0;36m<module>\u001b[1;34m()\u001b[0m\n\u001b[1;32m----> 1\u001b[1;33m \u001b[0mhek_293_go_terms\u001b[0m \u001b[1;33m=\u001b[0m \u001b[1;33m{\u001b[0m\u001b[0mname\u001b[0m \u001b[1;33m:\u001b[0m \u001b[0mhg19GO\u001b[0m\u001b[1;33m.\u001b[0m\u001b[0menrichment\u001b[0m\u001b[1;33m(\u001b[0m\u001b[0mgenes\u001b[0m\u001b[1;33m)\u001b[0m \u001b[1;32mfor\u001b[0m \u001b[0mname\u001b[0m\u001b[1;33m,\u001b[0m \u001b[0mgenes\u001b[0m \u001b[1;32min\u001b[0m \u001b[0mhek_293_genes\u001b[0m\u001b[1;33m.\u001b[0m\u001b[0mitems\u001b[0m\u001b[1;33m(\u001b[0m\u001b[1;33m)\u001b[0m\u001b[1;33m}\u001b[0m\u001b[1;33m\u001b[0m\u001b[0m\n\u001b[0m",
        "\u001b[1;31mNameError\u001b[0m: name 'hek_293_genes' is not defined"
       ]
      }
     ],
     "prompt_number": 12
    },
    {
     "cell_type": "code",
     "collapsed": false,
     "input": [
      "hek_293_go_terms_df = pd.concat(hek_293_go_terms.values(), keys = hek_293_go_terms.keys(), names=['group', 'ontology'])"
     ],
     "language": "python",
     "metadata": {},
     "outputs": [
      {
       "ename": "NameError",
       "evalue": "name 'hek_293_go_terms' is not defined",
       "output_type": "pyerr",
       "traceback": [
        "\u001b[1;31m---------------------------------------------------------------------------\u001b[0m\n\u001b[1;31mNameError\u001b[0m                                 Traceback (most recent call last)",
        "\u001b[1;32m<ipython-input-13-8bd1ccad6905>\u001b[0m in \u001b[0;36m<module>\u001b[1;34m()\u001b[0m\n\u001b[1;32m----> 1\u001b[1;33m \u001b[0mhek_293_go_terms_df\u001b[0m \u001b[1;33m=\u001b[0m \u001b[0mpd\u001b[0m\u001b[1;33m.\u001b[0m\u001b[0mconcat\u001b[0m\u001b[1;33m(\u001b[0m\u001b[0mhek_293_go_terms\u001b[0m\u001b[1;33m.\u001b[0m\u001b[0mvalues\u001b[0m\u001b[1;33m(\u001b[0m\u001b[1;33m)\u001b[0m\u001b[1;33m,\u001b[0m \u001b[0mkeys\u001b[0m \u001b[1;33m=\u001b[0m \u001b[0mhek_293_go_terms\u001b[0m\u001b[1;33m.\u001b[0m\u001b[0mkeys\u001b[0m\u001b[1;33m(\u001b[0m\u001b[1;33m)\u001b[0m\u001b[1;33m,\u001b[0m \u001b[0mnames\u001b[0m\u001b[1;33m=\u001b[0m\u001b[1;33m[\u001b[0m\u001b[1;34m'group'\u001b[0m\u001b[1;33m,\u001b[0m \u001b[1;34m'ontology'\u001b[0m\u001b[1;33m]\u001b[0m\u001b[1;33m)\u001b[0m\u001b[1;33m\u001b[0m\u001b[0m\n\u001b[0m",
        "\u001b[1;31mNameError\u001b[0m: name 'hek_293_go_terms' is not defined"
       ]
      }
     ],
     "prompt_number": 13
    },
    {
     "cell_type": "code",
     "collapsed": false,
     "input": [
      "hek_293_go_terms_set = set([])\n",
      "for go_term in hek_293_go_terms_df.index.get_level_values('ontology'):\n",
      "    if sum(hek_293_go_terms_df.xs(go_term, level=\"ontology\")['Bonferroni-corrected Hypergeometric p-Value'] < .00001) > 1:\n",
      "        hek_293_go_terms_set.add(go_term)"
     ],
     "language": "python",
     "metadata": {},
     "outputs": [
      {
       "ename": "NameError",
       "evalue": "name 'hek_293_go_terms_df' is not defined",
       "output_type": "pyerr",
       "traceback": [
        "\u001b[1;31m---------------------------------------------------------------------------\u001b[0m\n\u001b[1;31mNameError\u001b[0m                                 Traceback (most recent call last)",
        "\u001b[1;32m<ipython-input-14-3766ecfa1a43>\u001b[0m in \u001b[0;36m<module>\u001b[1;34m()\u001b[0m\n\u001b[0;32m      1\u001b[0m \u001b[0mhek_293_go_terms_set\u001b[0m \u001b[1;33m=\u001b[0m \u001b[0mset\u001b[0m\u001b[1;33m(\u001b[0m\u001b[1;33m[\u001b[0m\u001b[1;33m]\u001b[0m\u001b[1;33m)\u001b[0m\u001b[1;33m\u001b[0m\u001b[0m\n\u001b[1;32m----> 2\u001b[1;33m \u001b[1;32mfor\u001b[0m \u001b[0mgo_term\u001b[0m \u001b[1;32min\u001b[0m \u001b[0mhek_293_go_terms_df\u001b[0m\u001b[1;33m.\u001b[0m\u001b[0mindex\u001b[0m\u001b[1;33m.\u001b[0m\u001b[0mget_level_values\u001b[0m\u001b[1;33m(\u001b[0m\u001b[1;34m'ontology'\u001b[0m\u001b[1;33m)\u001b[0m\u001b[1;33m:\u001b[0m\u001b[1;33m\u001b[0m\u001b[0m\n\u001b[0m\u001b[0;32m      3\u001b[0m     \u001b[1;32mif\u001b[0m \u001b[0msum\u001b[0m\u001b[1;33m(\u001b[0m\u001b[0mhek_293_go_terms_df\u001b[0m\u001b[1;33m.\u001b[0m\u001b[0mxs\u001b[0m\u001b[1;33m(\u001b[0m\u001b[0mgo_term\u001b[0m\u001b[1;33m,\u001b[0m \u001b[0mlevel\u001b[0m\u001b[1;33m=\u001b[0m\u001b[1;34m\"ontology\"\u001b[0m\u001b[1;33m)\u001b[0m\u001b[1;33m[\u001b[0m\u001b[1;34m'Bonferroni-corrected Hypergeometric p-Value'\u001b[0m\u001b[1;33m]\u001b[0m \u001b[1;33m<\u001b[0m \u001b[1;36m.00001\u001b[0m\u001b[1;33m)\u001b[0m \u001b[1;33m>\u001b[0m \u001b[1;36m1\u001b[0m\u001b[1;33m:\u001b[0m\u001b[1;33m\u001b[0m\u001b[0m\n\u001b[0;32m      4\u001b[0m         \u001b[0mhek_293_go_terms_set\u001b[0m\u001b[1;33m.\u001b[0m\u001b[0madd\u001b[0m\u001b[1;33m(\u001b[0m\u001b[0mgo_term\u001b[0m\u001b[1;33m)\u001b[0m\u001b[1;33m\u001b[0m\u001b[0m\n",
        "\u001b[1;31mNameError\u001b[0m: name 'hek_293_go_terms_df' is not defined"
       ]
      }
     ],
     "prompt_number": 14
    },
    {
     "cell_type": "code",
     "collapsed": false,
     "input": [
      "def get_col_names(dataframe):\n",
      "    \"\"\"\n",
      "    \n",
      "    Some names are null, this compresses them and returns a true list of go annotation names\n",
      "\n",
      "    \"\"\"\n",
      "    row_names = []\n",
      "    for row_name in dataframe[dataframe.columns[0]]:\n",
      "        row_names.append(row_name)\n",
      "    \n",
      "    for column_name in dataframe.columns[1:]:\n",
      "        try:\n",
      "            for x, row_name in enumerate(dataframe[column_name]):\n",
      "                if type(row_names[x]) is not str:\n",
      "                    row_names[x] = row_name\n",
      "        except:\n",
      "            pass\n",
      "    return row_names"
     ],
     "language": "python",
     "metadata": {},
     "outputs": [],
     "prompt_number": 15
    },
    {
     "cell_type": "code",
     "collapsed": false,
     "input": [
      "hek_293_go_terms_values = hek_293_go_terms_df.swaplevel(0,1).ix[hek_293_go_terms_set]['Bonferroni-corrected Hypergeometric p-Value'].unstack().fillna(1)\n",
      "hek_293_go_terms_col_names = list(hek_293_go_terms_df.swaplevel(0,1).ix[hek_293_go_terms_set]['GO Term Description'].unstack().columns)\n",
      "hek_293_go_terms_row_names = get_col_names(hek_293_go_terms_df.swaplevel(0,1).ix[hek_293_go_terms_set]['GO Term Description'].unstack())\n",
      "x = clusterGram(-1. * log10(matrix(hek_293_go_terms_values)), hek_293_go_terms_col_names, hek_293_go_terms_row_names )\n",
      "savefig(img_path + \"go_ontology.pdf\")"
     ],
     "language": "python",
     "metadata": {},
     "outputs": [
      {
       "ename": "NameError",
       "evalue": "name 'hek_293_go_terms_df' is not defined",
       "output_type": "pyerr",
       "traceback": [
        "\u001b[1;31m---------------------------------------------------------------------------\u001b[0m\n\u001b[1;31mNameError\u001b[0m                                 Traceback (most recent call last)",
        "\u001b[1;32m<ipython-input-16-4799ead5a0fa>\u001b[0m in \u001b[0;36m<module>\u001b[1;34m()\u001b[0m\n\u001b[1;32m----> 1\u001b[1;33m \u001b[0mhek_293_go_terms_values\u001b[0m \u001b[1;33m=\u001b[0m \u001b[0mhek_293_go_terms_df\u001b[0m\u001b[1;33m.\u001b[0m\u001b[0mswaplevel\u001b[0m\u001b[1;33m(\u001b[0m\u001b[1;36m0\u001b[0m\u001b[1;33m,\u001b[0m\u001b[1;36m1\u001b[0m\u001b[1;33m)\u001b[0m\u001b[1;33m.\u001b[0m\u001b[0mix\u001b[0m\u001b[1;33m[\u001b[0m\u001b[0mhek_293_go_terms_set\u001b[0m\u001b[1;33m]\u001b[0m\u001b[1;33m[\u001b[0m\u001b[1;34m'Bonferroni-corrected Hypergeometric p-Value'\u001b[0m\u001b[1;33m]\u001b[0m\u001b[1;33m.\u001b[0m\u001b[0munstack\u001b[0m\u001b[1;33m(\u001b[0m\u001b[1;33m)\u001b[0m\u001b[1;33m.\u001b[0m\u001b[0mfillna\u001b[0m\u001b[1;33m(\u001b[0m\u001b[1;36m1\u001b[0m\u001b[1;33m)\u001b[0m\u001b[1;33m\u001b[0m\u001b[0m\n\u001b[0m\u001b[0;32m      2\u001b[0m \u001b[0mhek_293_go_terms_col_names\u001b[0m \u001b[1;33m=\u001b[0m \u001b[0mlist\u001b[0m\u001b[1;33m(\u001b[0m\u001b[0mhek_293_go_terms_df\u001b[0m\u001b[1;33m.\u001b[0m\u001b[0mswaplevel\u001b[0m\u001b[1;33m(\u001b[0m\u001b[1;36m0\u001b[0m\u001b[1;33m,\u001b[0m\u001b[1;36m1\u001b[0m\u001b[1;33m)\u001b[0m\u001b[1;33m.\u001b[0m\u001b[0mix\u001b[0m\u001b[1;33m[\u001b[0m\u001b[0mhek_293_go_terms_set\u001b[0m\u001b[1;33m]\u001b[0m\u001b[1;33m[\u001b[0m\u001b[1;34m'GO Term Description'\u001b[0m\u001b[1;33m]\u001b[0m\u001b[1;33m.\u001b[0m\u001b[0munstack\u001b[0m\u001b[1;33m(\u001b[0m\u001b[1;33m)\u001b[0m\u001b[1;33m.\u001b[0m\u001b[0mcolumns\u001b[0m\u001b[1;33m)\u001b[0m\u001b[1;33m\u001b[0m\u001b[0m\n\u001b[0;32m      3\u001b[0m \u001b[0mhek_293_go_terms_row_names\u001b[0m \u001b[1;33m=\u001b[0m \u001b[0mget_col_names\u001b[0m\u001b[1;33m(\u001b[0m\u001b[0mhek_293_go_terms_df\u001b[0m\u001b[1;33m.\u001b[0m\u001b[0mswaplevel\u001b[0m\u001b[1;33m(\u001b[0m\u001b[1;36m0\u001b[0m\u001b[1;33m,\u001b[0m\u001b[1;36m1\u001b[0m\u001b[1;33m)\u001b[0m\u001b[1;33m.\u001b[0m\u001b[0mix\u001b[0m\u001b[1;33m[\u001b[0m\u001b[0mhek_293_go_terms_set\u001b[0m\u001b[1;33m]\u001b[0m\u001b[1;33m[\u001b[0m\u001b[1;34m'GO Term Description'\u001b[0m\u001b[1;33m]\u001b[0m\u001b[1;33m.\u001b[0m\u001b[0munstack\u001b[0m\u001b[1;33m(\u001b[0m\u001b[1;33m)\u001b[0m\u001b[1;33m)\u001b[0m\u001b[1;33m\u001b[0m\u001b[0m\n\u001b[0;32m      4\u001b[0m \u001b[0mx\u001b[0m \u001b[1;33m=\u001b[0m \u001b[0mclusterGram\u001b[0m\u001b[1;33m(\u001b[0m\u001b[1;33m-\u001b[0m\u001b[1;36m1.\u001b[0m \u001b[1;33m*\u001b[0m \u001b[0mlog10\u001b[0m\u001b[1;33m(\u001b[0m\u001b[0mmatrix\u001b[0m\u001b[1;33m(\u001b[0m\u001b[0mhek_293_go_terms_values\u001b[0m\u001b[1;33m)\u001b[0m\u001b[1;33m)\u001b[0m\u001b[1;33m,\u001b[0m \u001b[0mhek_293_go_terms_col_names\u001b[0m\u001b[1;33m,\u001b[0m \u001b[0mhek_293_go_terms_row_names\u001b[0m \u001b[1;33m)\u001b[0m\u001b[1;33m\u001b[0m\u001b[0m\n\u001b[0;32m      5\u001b[0m \u001b[0msavefig\u001b[0m\u001b[1;33m(\u001b[0m\u001b[0mimg_path\u001b[0m \u001b[1;33m+\u001b[0m \u001b[1;34m\"go_ontology.pdf\"\u001b[0m\u001b[1;33m)\u001b[0m\u001b[1;33m\u001b[0m\u001b[0m\n",
        "\u001b[1;31mNameError\u001b[0m: name 'hek_293_go_terms_df' is not defined"
       ]
      }
     ],
     "prompt_number": 16
    },
    {
     "cell_type": "code",
     "collapsed": false,
     "input": [
      "human_bw_pos = [x + \".polyATrim.adapterTrim.rmRep.sorted.rg.rmDup.pos.bw\" for x in clip_df[clip_df['Species'] == 'hg19'].index]\n",
      "human_bw_neg = [x + \".polyATrim.adapterTrim.rmRep.sorted.rg.rmDup.neg.bw\" for x in clip_df[clip_df['Species'] == 'hg19'].index]\n",
      "human_bb = [x + \".polyATrim.adapterTrim.rmRep.sorted.rg.rmDup.peaks.fixed.bb\" for x in clip_df[clip_df['Species'] == 'hg19'].index]"
     ],
     "language": "python",
     "metadata": {},
     "outputs": [
      {
       "ename": "NameError",
       "evalue": "name 'clip_df' is not defined",
       "output_type": "pyerr",
       "traceback": [
        "\u001b[1;31m---------------------------------------------------------------------------\u001b[0m\n\u001b[1;31mNameError\u001b[0m                                 Traceback (most recent call last)",
        "\u001b[1;32m<ipython-input-18-c985a2196d60>\u001b[0m in \u001b[0;36m<module>\u001b[1;34m()\u001b[0m\n\u001b[1;32m----> 1\u001b[1;33m \u001b[0mhuman_bw_pos\u001b[0m \u001b[1;33m=\u001b[0m \u001b[1;33m[\u001b[0m\u001b[0mx\u001b[0m \u001b[1;33m+\u001b[0m \u001b[1;34m\".polyATrim.adapterTrim.rmRep.sorted.rg.rmDup.pos.bw\"\u001b[0m \u001b[1;32mfor\u001b[0m \u001b[0mx\u001b[0m \u001b[1;32min\u001b[0m \u001b[0mclip_df\u001b[0m\u001b[1;33m[\u001b[0m\u001b[0mclip_df\u001b[0m\u001b[1;33m[\u001b[0m\u001b[1;34m'Species'\u001b[0m\u001b[1;33m]\u001b[0m \u001b[1;33m==\u001b[0m \u001b[1;34m'hg19'\u001b[0m\u001b[1;33m]\u001b[0m\u001b[1;33m.\u001b[0m\u001b[0mindex\u001b[0m\u001b[1;33m]\u001b[0m\u001b[1;33m\u001b[0m\u001b[0m\n\u001b[0m\u001b[0;32m      2\u001b[0m \u001b[0mhuman_bw_neg\u001b[0m \u001b[1;33m=\u001b[0m \u001b[1;33m[\u001b[0m\u001b[0mx\u001b[0m \u001b[1;33m+\u001b[0m \u001b[1;34m\".polyATrim.adapterTrim.rmRep.sorted.rg.rmDup.neg.bw\"\u001b[0m \u001b[1;32mfor\u001b[0m \u001b[0mx\u001b[0m \u001b[1;32min\u001b[0m \u001b[0mclip_df\u001b[0m\u001b[1;33m[\u001b[0m\u001b[0mclip_df\u001b[0m\u001b[1;33m[\u001b[0m\u001b[1;34m'Species'\u001b[0m\u001b[1;33m]\u001b[0m \u001b[1;33m==\u001b[0m \u001b[1;34m'hg19'\u001b[0m\u001b[1;33m]\u001b[0m\u001b[1;33m.\u001b[0m\u001b[0mindex\u001b[0m\u001b[1;33m]\u001b[0m\u001b[1;33m\u001b[0m\u001b[0m\n\u001b[0;32m      3\u001b[0m \u001b[0mhuman_bb\u001b[0m \u001b[1;33m=\u001b[0m \u001b[1;33m[\u001b[0m\u001b[0mx\u001b[0m \u001b[1;33m+\u001b[0m \u001b[1;34m\".polyATrim.adapterTrim.rmRep.sorted.rg.rmDup.peaks.fixed.bb\"\u001b[0m \u001b[1;32mfor\u001b[0m \u001b[0mx\u001b[0m \u001b[1;32min\u001b[0m \u001b[0mclip_df\u001b[0m\u001b[1;33m[\u001b[0m\u001b[0mclip_df\u001b[0m\u001b[1;33m[\u001b[0m\u001b[1;34m'Species'\u001b[0m\u001b[1;33m]\u001b[0m \u001b[1;33m==\u001b[0m \u001b[1;34m'hg19'\u001b[0m\u001b[1;33m]\u001b[0m\u001b[1;33m.\u001b[0m\u001b[0mindex\u001b[0m\u001b[1;33m]\u001b[0m\u001b[1;33m\u001b[0m\u001b[0m\n",
        "\u001b[1;31mNameError\u001b[0m: name 'clip_df' is not defined"
       ]
      }
     ],
     "prompt_number": 18
    },
    {
     "cell_type": "markdown",
     "metadata": {},
     "source": [
      "Jasons request, finding genes with peaks in 3' UTR of given genes"
     ]
    },
    {
     "cell_type": "code",
     "collapsed": false,
     "input": [
      "utr3_regions = pybedtools.BedTool(\"/nas3/gpratt/clipper/clipper/data/regions/utr3.hg19.bed\")"
     ],
     "language": "python",
     "metadata": {},
     "outputs": [
      {
       "ename": "ValueError",
       "evalue": "File \"/nas3/gpratt/clipper/clipper/data/regions/utr3.hg19.bed\" does not exist",
       "output_type": "pyerr",
       "traceback": [
        "\u001b[1;31m---------------------------------------------------------------------------\u001b[0m\n\u001b[1;31mValueError\u001b[0m                                Traceback (most recent call last)",
        "\u001b[1;32m<ipython-input-19-7db8d95ee4dd>\u001b[0m in \u001b[0;36m<module>\u001b[1;34m()\u001b[0m\n\u001b[1;32m----> 1\u001b[1;33m \u001b[0mutr3_regions\u001b[0m \u001b[1;33m=\u001b[0m \u001b[0mpybedtools\u001b[0m\u001b[1;33m.\u001b[0m\u001b[0mBedTool\u001b[0m\u001b[1;33m(\u001b[0m\u001b[1;34m\"/nas3/gpratt/clipper/clipper/data/regions/utr3.hg19.bed\"\u001b[0m\u001b[1;33m)\u001b[0m\u001b[1;33m\u001b[0m\u001b[0m\n\u001b[0m",
        "\u001b[1;32m/nas3/yeolab/Software/Python-2.7.5/lib/python2.7/site-packages/pybedtools-0.6.2-py2.7-linux-x86_64.egg/pybedtools/bedtool.pyc\u001b[0m in \u001b[0;36m__init__\u001b[1;34m(self, fn, from_string)\u001b[0m\n\u001b[0;32m    364\u001b[0m             \u001b[1;32melif\u001b[0m \u001b[0misinstance\u001b[0m\u001b[1;33m(\u001b[0m\u001b[0mfn\u001b[0m\u001b[1;33m,\u001b[0m \u001b[0mbasestring\u001b[0m\u001b[1;33m)\u001b[0m\u001b[1;33m:\u001b[0m\u001b[1;33m\u001b[0m\u001b[0m\n\u001b[0;32m    365\u001b[0m                 \u001b[1;32mif\u001b[0m \u001b[1;32mnot\u001b[0m \u001b[0mos\u001b[0m\u001b[1;33m.\u001b[0m\u001b[0mpath\u001b[0m\u001b[1;33m.\u001b[0m\u001b[0mexists\u001b[0m\u001b[1;33m(\u001b[0m\u001b[0mfn\u001b[0m\u001b[1;33m)\u001b[0m\u001b[1;33m:\u001b[0m\u001b[1;33m\u001b[0m\u001b[0m\n\u001b[1;32m--> 366\u001b[1;33m                     \u001b[1;32mraise\u001b[0m \u001b[0mValueError\u001b[0m\u001b[1;33m(\u001b[0m\u001b[1;34m'File \"%s\" does not exist'\u001b[0m \u001b[1;33m%\u001b[0m \u001b[0mfn\u001b[0m\u001b[1;33m)\u001b[0m\u001b[1;33m\u001b[0m\u001b[0m\n\u001b[0m\u001b[0;32m    367\u001b[0m                 \u001b[0mself\u001b[0m\u001b[1;33m.\u001b[0m\u001b[0m_isbam\u001b[0m \u001b[1;33m=\u001b[0m \u001b[0misBAM\u001b[0m\u001b[1;33m(\u001b[0m\u001b[0mfn\u001b[0m\u001b[1;33m)\u001b[0m\u001b[1;33m\u001b[0m\u001b[0m\n\u001b[0;32m    368\u001b[0m \u001b[1;33m\u001b[0m\u001b[0m\n",
        "\u001b[1;31mValueError\u001b[0m: File \"/nas3/gpratt/clipper/clipper/data/regions/utr3.hg19.bed\" does not exist"
       ]
      }
     ],
     "prompt_number": 19
    },
    {
     "cell_type": "code",
     "collapsed": false,
     "input": [
      "#gets gene targets (for all imp datasets, ann asked me for this a while back)\n",
      "\n",
      "gencode = open(\"/nas3/yeolab/Genome/ensembl/gtf/gencode.v17.annotation.gtf\")\n",
      "\n",
      "gencode = pybedtools.BedTool(\"/nas3/yeolab/Genome/ensembl/gtf/gencode.v17.annotation.gtf\")\n",
      "converstion_dict = {}\n",
      "for interval in gencode:\n",
      "    try:\n",
      "        converstion_dict[interval.attrs['gene_id'].split(\".\")[0]] = interval.attrs['gene_name']\n",
      "    except:\n",
      "        pass"
     ],
     "language": "python",
     "metadata": {},
     "outputs": []
    },
    {
     "cell_type": "code",
     "collapsed": false,
     "input": [
      "from collections import Counter"
     ],
     "language": "python",
     "metadata": {},
     "outputs": []
    },
    {
     "cell_type": "code",
     "collapsed": false,
     "input": [
      "result_dict = {}\n",
      "track_items = \"\"\n",
      "for sample in clip_df[clip_df['Antibody'].str.contains(\"FXR2|PTB|PAPD5|DGCR8\")].index:\n",
      "    cur_sample = pybedtools.BedTool(sample + \".polyATrim.adapterTrim.rmRep.sorted.rg.rmDup.peaks.bed\")\n",
      "    cur_result = cur_sample.intersect(utr3_regions, u=True, s=True)\n",
      "    result_dict[sample] = Counter()\n",
      "    for interval in cur_result:\n",
      "        result_dict[sample][interval.name.split(\"_\")[0]] += 1\n",
      "    file_name = sample + \"_\" + \"_\".join(clip_df.ix[sample][['Cell Type', 'Antibody']]) + \".txt\"\n",
      "    print file_name\n",
      "    with open(file_name, 'w') as outfile:\n",
      "        for gene, count in result_dict[sample].most_common():\n",
      "            outfile.write(converstion_dict[gene.split(\".\")[0]] + \"\\t\" + str(count) +  \"\\n\")\n",
      "    track_items += (sample + \".polyATrim.adapterTrim.rmRep.sorted.rg.rmDup.peaks.fixed.bb \" + \n",
      "                    sample + \".polyATrim.adapterTrim.rmRep.sorted.rg.rmDup.pos.bw \" +\n",
      "                    sample + \".polyATrim.adapterTrim.rmRep.sorted.rg.rmDup.neg.bw \")"
     ],
     "language": "python",
     "metadata": {},
     "outputs": []
    },
    {
     "cell_type": "code",
     "collapsed": false,
     "input": [
      "path = \"/nas3/gpratt/projects/public_clip/v2\"\n",
      "beds = {bed.split(\".\")[0] : pybedtools.BedTool(bed) for bed in glob.glob(os.path.join(path, \"*.bed\"))}\n",
      "beds_names = {name : [interval.name.split(\"_\")[0] for interval in bedtool] for name, bedtool in beds.items()}"
     ],
     "language": "python",
     "metadata": {},
     "outputs": [],
     "prompt_number": 31
    },
    {
     "cell_type": "code",
     "collapsed": false,
     "input": [
      "human_db = \"/nas3/yeolab/Genome/ensembl/gtf/gencode.v17.annotation.gtf.db\"\n",
      "db = gffutils.FeatureDB(human_db)\n",
      "genes = db.features_of_type('gene') \n",
      "type_dict = {}\n",
      "ont_dict = {}\n",
      "for gene in list(genes):\n",
      "    gene_id = gene.attributes['gene_id']\n",
      "    #gene_dict[gene_id] = {\"gene_type\" : \"\", \"ont\" : \"\"}\n",
      "    if 'gene_type' in dict(gene.attributes):\n",
      "        type_dict[gene_id] = gene.attributes['gene_type']\n",
      "    if 'ont' in dict(gene.attributes):\n",
      "        print gene.attributes['ont']\n",
      "        ont_dict[gene_id] = gene.attributes['ont'] \n"
     ],
     "language": "python",
     "metadata": {},
     "outputs": []
    },
    {
     "cell_type": "code",
     "collapsed": false,
     "input": [
      "total_counts = pd.Series(Counter(type_dict.values()), name=\"Total\")"
     ],
     "language": "python",
     "metadata": {},
     "outputs": []
    },
    {
     "cell_type": "code",
     "collapsed": false,
     "input": [
      "types = {}\n",
      "result = []\n",
      "for bed_name, gene_names in beds_names.items():\n",
      "    types[bed_name] = []\n",
      "    for gene_name in gene_names:\n",
      "        try:\n",
      "            types[bed_name].append(type_dict[gene_name])\n",
      "        except:\n",
      "            types[bed_name].append(\"error\")\n",
      "            \n",
      "    result.append(pd.Series(Counter(types[bed_name]), name=bed_name))\n"
     ],
     "language": "python",
     "metadata": {},
     "outputs": []
    },
    {
     "cell_type": "code",
     "collapsed": false,
     "input": [
      "counts_df = pd.DataFrame(result + [total_counts]).T"
     ],
     "language": "python",
     "metadata": {},
     "outputs": []
    },
    {
     "cell_type": "code",
     "collapsed": false,
     "input": [
      "results = {}\n",
      "for sample in types.keys():\n",
      "    sample_dict = {}\n",
      "    for name, count in Counter(types[sample]).items():\n",
      "        drawn = count\n",
      "        total = len(type_dict.values())\n",
      "        total_possible = Counter(type_dict.values())[name]\n",
      "        total_drawn = sum(Counter(types[sample]).values())\n",
      "        pVal = (hypergeom.sf(drawn, total, total_possible, total_drawn)) * len(Counter(types[sample]))\n",
      "\n",
      "        sample_dict[name] = min(pVal, 1)\n",
      "        results[sample + \"_pval\"] = pd.Series(sample_dict, name= sample + \"_p-value\")\n",
      "counts_df = p_vals.merge(counts_df, left_index=True, right_index=True)"
     ],
     "language": "python",
     "metadata": {},
     "outputs": []
    },
    {
     "cell_type": "code",
     "collapsed": false,
     "input": [],
     "language": "python",
     "metadata": {},
     "outputs": []
    },
    {
     "cell_type": "code",
     "collapsed": false,
     "input": [
      "HTML(counts_df.to_html())"
     ],
     "language": "python",
     "metadata": {},
     "outputs": []
    },
    {
     "cell_type": "code",
     "collapsed": false,
     "input": [
      "HTML(clip_df.ix[\"SRR189775 \tSRR189776 \tSRR189777 \tSRR189778 \tSRR189779 \tSRR567525 \tSRR567526 SRR189781 \tSRR189780\".split()].to_html())"
     ],
     "language": "python",
     "metadata": {},
     "outputs": []
    },
    {
     "cell_type": "code",
     "collapsed": false,
     "input": [
      "result = [srr + \".polyATrim.adapterTrim.rmRep.rg.sorted.rmDup.sorted.peaks.fixed.bb\" for srr in clip_df[clip_df.Species ==\"mm9\"].index]\n",
      "result += [srr + \".polyATrim.adapterTrim.rmRep.rg.sorted.rmDup.sorted.neg.bw\" for srr in clip_df[clip_df.Species ==\"mm9\"].index]\n",
      "result +=[srr + \".polyATrim.adapterTrim.rmRep.rg.sorted.rmDup.sorted.pos.bw\" for srr in clip_df[clip_df.Species ==\"mm9\"].index]\n",
      "print \" \".join(result)"
     ],
     "language": "python",
     "metadata": {},
     "outputs": []
    },
    {
     "cell_type": "code",
     "collapsed": false,
     "input": [
      "result = [srr + \".polyATrim.adapterTrim.rmRep.rg.sorted.rmDup.sorted.peaks.fixed.bb\" for srr in clip_df[clip_df.Species ==\"hg19\"].index]\n",
      "result += [srr + \".polyATrim.adapterTrim.rmRep.rg.sorted.rmDup.sorted.neg.bw\" for srr in clip_df[clip_df.Species ==\"hg19\"].index]\n",
      "result +=[srr + \".polyATrim.adapterTrim.rmRep.rg.sorted.rmDup.sorted.pos.bw\" for srr in clip_df[clip_df.Species ==\"hg19\"].index]\n",
      "print \" \".join(result)"
     ],
     "language": "python",
     "metadata": {},
     "outputs": []
    },
    {
     "cell_type": "code",
     "collapsed": false,
     "input": [
      "\" \".join([srr + \".polyATrim.adapterTrim.rmRep.rg.sorted.rmDup.sorted.peaks.bed\" for srr in clip_df[clip_df.Species ==\"mm9\"].index])\n"
     ],
     "language": "python",
     "metadata": {},
     "outputs": []
    },
    {
     "cell_type": "code",
     "collapsed": false,
     "input": [
      "HTML(clip_df.ix[\"SRR527730 SRR189780\".split()].to_html())"
     ],
     "language": "python",
     "metadata": {},
     "outputs": []
    },
    {
     "cell_type": "markdown",
     "metadata": {},
     "source": [
      "SRR527730.polyATrim.adapterTrim.rmRep.rg.sorted.rmDup.sorted.peaks.bed\n",
      "chr12\t53858577\t53858605\tENSG00000197111.11_9_10\t0.000568462640558\t+\t53858588\t53858592\n",
      "\n",
      "SRR189780.polyATrim.adapterTrim.rmRep.rg.sorted.rmDup.sorted.peaks.bed\n",
      "chr5\t180259281\t180259309\tENSG00000245060.2_1_17\t7.30503372316e-12\t+\t180259292\t180259296\n"
     ]
    }
   ],
   "metadata": {}
  }
 ]
}