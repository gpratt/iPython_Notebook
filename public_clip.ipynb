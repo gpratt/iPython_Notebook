{
 "metadata": {
  "name": ""
 },
 "nbformat": 3,
 "nbformat_minor": 0,
 "worksheets": [
  {
   "cells": [
    {
     "cell_type": "code",
     "collapsed": false,
     "input": [
      "from collections import Counter\n",
      "import os\n",
      "import pickle\n",
      "import glob\n",
      "\n",
      "import matplotlib.ticker as tkr\n",
      "from IPython.core.display import HTML\n",
      "import pandas as pd\n",
      "import scipy.spatial\n",
      "import scipy.cluster\n",
      "\n",
      "from gscripts.general import parsers\n",
      "from gscripts.general.dataviz import Figure\n",
      "from gscripts.GO import GO\n",
      "import gffutils\n",
      "from scipy.stats import hypergeom\n",
      "\n",
      "img_path = \"/nas3/gpratt/Dropbox/Presentations/notebooks/public_clip\""
     ],
     "language": "python",
     "metadata": {},
     "outputs": [
      {
       "output_type": "stream",
       "stream": "stderr",
       "text": [
        "/nas3/yeolab/Software/lib/python2.7/site-packages/seaborn-0.3-py2.7.egg/seaborn/rcmod.py:465: UserWarning: set_color_palette is deprecated, use set_palette instead.\n",
        "  UserWarning)\n"
       ]
      }
     ],
     "prompt_number": 1
    },
    {
     "cell_type": "markdown",
     "metadata": {},
     "source": [
      "#Helper functions"
     ]
    },
    {
     "cell_type": "code",
     "collapsed": false,
     "input": [
      "def commas(x, pos):\n",
      "    try:\n",
      "        return \"{:,}\".format(int(x))\n",
      "    except:\n",
      "        return \"0\"\n",
      "    \n",
      "def percent(x, pos):\n",
      "    return str(float(x) * 100)  + \"%\""
     ],
     "language": "python",
     "metadata": {},
     "outputs": [],
     "prompt_number": 2
    },
    {
     "cell_type": "markdown",
     "metadata": {},
     "source": [
      "#Make Analysis Dataframes"
     ]
    },
    {
     "cell_type": "code",
     "collapsed": false,
     "input": [
      "clip_rnaseq_df = parsers.clipseq_metrics(\"/nas3/gpratt/projects/public_clip/analysis/v3/\")\n",
      "public_clip_list = pd.read_csv(\"/nas3/gpratt/projects/public_clip/v1/public_clip_list.csv\", index_col=0)\n",
      "clip_rnaseq_df = pd.merge(clip_rnaseq_df, public_clip_list, left_index=True, right_index=True, how=\"outer\")\n",
      "clip_df = clip_rnaseq_df[clip_rnaseq_df['CLIP-seq?'] == \"Yes\"]"
     ],
     "language": "python",
     "metadata": {},
     "outputs": [],
     "prompt_number": 3
    },
    {
     "cell_type": "code",
     "collapsed": false,
     "input": [
      "analysis_dir = \"/nas3/gpratt/projects/public_encode/\"\n",
      "encode_df = pd.read_csv(os.path.join(analysis_dir, \"ENCODE Data Quality Metrics 2012-04-25.csv\"))\n",
      "encode_df['MACS FDR 0.01'] = encode_df['MACS FDR 0.01'].apply(lambda x: int(x.replace(\",\", \"\")))"
     ],
     "language": "python",
     "metadata": {},
     "outputs": [],
     "prompt_number": 4
    },
    {
     "cell_type": "code",
     "collapsed": false,
     "input": [
      "analysis_dir = \"/nas3/gpratt/projects/public_clip/analysis/public_iclip_v1/\"\n",
      "public_iclip_df = parsers.clipseq_metrics(analysis_dir, iclip=True)"
     ],
     "language": "python",
     "metadata": {},
     "outputs": [],
     "prompt_number": 5
    },
    {
     "cell_type": "code",
     "collapsed": false,
     "input": [
      "analysis_dir = \"/nas3/gpratt/projects/encode/analysis/v7\"\n",
      "iclip_df = parsers.clipseq_metrics(analysis_dir, iclip=True)\n",
      "true_iclips = iclip_df[[\"IMP\" in idx.split(\".\")[1] for idx in iclip_df.index]]"
     ],
     "language": "python",
     "metadata": {},
     "outputs": [],
     "prompt_number": 6
    },
    {
     "cell_type": "markdown",
     "metadata": {},
     "source": [
      "#Plot Comparisons"
     ]
    },
    {
     "cell_type": "markdown",
     "metadata": {},
     "source": [
      "#Pre-peak calling QC"
     ]
    },
    {
     "cell_type": "code",
     "collapsed": false,
     "input": [
      "with Figure(os.path.join(img_path, \"usable_reads_boxplot.svg\"), figsize=(7,5)) as fig:\n",
      "    ax = fig.add_subplot(111)\n",
      "    ax.boxplot([encode_df['N_uniq map reads'].apply(lambda x: x.replace(\",\", \"\")).astype(int).values, \n",
      "               clip_df['Usable Reads'].dropna().values, \n",
      "               #public_iclip_df['Usable Reads'].values,\n",
      "               true_iclips['Usable Reads'].values, \n",
      "               \n",
      "               ])\n",
      "    y_format = tkr.FuncFormatter(commas)  # make formatter\n",
      "    ax.yaxis.set_major_formatter(y_format)\n",
      "    ax.set_title(\"Average Number of Usable Reads\")\n",
      "    ax.set_ylabel(\"Usable Reads\")\n",
      "    \n",
      "    ax.set_xticklabels([\"ENCODE\\nChIP\", \n",
      "                        \"Public\\nCLIP\", \n",
      "                        #\"Public\\niCLIP\", \n",
      "                        \"ENCODE\\niCLIP\"]) "
     ],
     "language": "python",
     "metadata": {},
     "outputs": [
      {
       "output_type": "stream",
       "stream": "stderr",
       "text": [
        "/nas3/yeolab/Software/lib/python2.7/site-packages/matplotlib-1.4.x-py2.7-linux-x86_64.egg/matplotlib/font_manager.py:1240: UserWarning: findfont: Font family [u'Arial'] not found. Falling back to Bitstream Vera Sans\n",
        "  (prop.get_family(), self.defaultFamily[fontext]))\n"
       ]
      },
      {
       "metadata": {},
       "output_type": "display_data",
       "png": "[encoded data removed]",
       "text": [
        "<matplotlib.figure.Figure at 0x23f5c610>"
       ]
      }
     ],
     "prompt_number": 9
    },
    {
     "cell_type": "code",
     "collapsed": false,
     "input": [
      "print mean(encode_df['N_uniq map reads'].apply(lambda x: x.replace(\",\", \"\")).astype(int)),\n",
      "print mean(clip_df['Usable Reads'].dropna()), \n",
      "print mean(public_iclip_df['Usable Reads']),\n",
      "print mean(true_iclips['Usable Reads'])"
     ],
     "language": "python",
     "metadata": {},
     "outputs": [
      {
       "output_type": "stream",
       "stream": "stdout",
       "text": [
        "15050014.7821 760783.5875 1047332.46154 1548314.07143\n"
       ]
      }
     ],
     "prompt_number": 16
    },
    {
     "cell_type": "code",
     "collapsed": false,
     "input": [
      "print median(encode_df['N_uniq map reads'].apply(lambda x: x.replace(\",\", \"\")).astype(int)),\n",
      "print median(clip_df['Usable Reads'].dropna()), \n",
      "print median(public_iclip_df['Usable Reads']),\n",
      "print median(true_iclips['Usable Reads'])"
     ],
     "language": "python",
     "metadata": {},
     "outputs": [
      {
       "output_type": "stream",
       "stream": "stdout",
       "text": [
        "14406632.0 234736.5 898750.0 855056.5\n"
       ]
      }
     ],
     "prompt_number": 17
    },
    {
     "cell_type": "code",
     "collapsed": false,
     "input": [
      "clip_df['Usable Reads'].dropna().astype(float) / clip_df['Uniquely mapped reads number'].dropna().astype(float)"
     ],
     "language": "python",
     "metadata": {},
     "outputs": [
      {
       "metadata": {},
       "output_type": "pyout",
       "prompt_number": 15,
       "text": [
        "SRR034466    0.737559\n",
        "SRR034467    0.741849\n",
        "SRR034468    0.812166\n",
        "SRR034469    0.813046\n",
        "SRR048950    0.632675\n",
        "SRR048951    0.559079\n",
        "SRR048952    0.300772\n",
        "SRR048953    0.209999\n",
        "SRR048954    0.023927\n",
        "SRR048955    0.550413\n",
        "SRR048956    0.388049\n",
        "SRR048957    0.447169\n",
        "SRR048958    0.425834\n",
        "SRR048959    0.360186\n",
        "SRR048960    0.231881\n",
        "...\n",
        "SRR628450    0.098631\n",
        "SRR628451    0.049613\n",
        "SRR628452    0.049645\n",
        "SRR628453    0.037784\n",
        "SRR628454    0.077915\n",
        "SRR764666    0.058480\n",
        "SRR764667    0.523086\n",
        "SRR764668    0.613505\n",
        "SRR764669    0.110538\n",
        "SRR765756    0.190382\n",
        "SRR765757    0.238586\n",
        "SRR765758    0.342313\n",
        "SRR765759    0.552113\n",
        "SRR765760    0.353556\n",
        "SRR765761    0.429594\n",
        "Length: 162, dtype: float64"
       ]
      }
     ],
     "prompt_number": 15
    },
    {
     "cell_type": "code",
     "collapsed": false,
     "input": [
      "with Figure(os.path.join(img_path, \"percent_reads_remaining.svg\"), figsize=(6,6)) as fig:\n",
      "    ax = fig.add_subplot(111)\n",
      "    ax.boxplot([(clip_df['Usable Reads'].dropna().astype(float) / clip_df['Uniquely mapped reads number'].dropna().astype(float)).values,\n",
      "                 #public_iclip_df['Usable Reads'].astype(float) / public_iclip_df['Uniquely mapped reads number'].astype(float)).values,\n",
      "                (true_iclips['Usable Reads'].astype(float) / true_iclips['Uniquely mapped reads number'].astype(float)).values, \n",
      "                ])\n",
      "\n",
      "    y_format = tkr.FuncFormatter(percent)  # make formatter\n",
      "    ax.yaxis.set_major_formatter(y_format)\n",
      "    ax.set_title(\"Percent Reads Remaining\\nAfter Duplicate Removal\")\n",
      "    ax.set_ylabel(\"Percent Reads Remainig\")\n",
      "    \n",
      "    ax.set_xticklabels([\"Public CLIP\",\n",
      "                        #\"Public\\niCLIP\", \n",
      "                        \"ENCODE\\niCLIP\"]) "
     ],
     "language": "python",
     "metadata": {},
     "outputs": [
      {
       "metadata": {},
       "output_type": "display_data",
       "png": "[encoded data removed]",
       "text": [
        "<matplotlib.figure.Figure at 0x23f74310>"
       ]
      }
     ],
     "prompt_number": 14
    },
    {
     "cell_type": "code",
     "collapsed": false,
     "input": [
      "with Figure(os.path.join(img_path, \"percent_of_total.svg\"), figsize=(6,6)) as fig:\n",
      "    ax = fig.add_subplot(111)\n",
      "    ax.boxplot([(clip_df['Usable Reads'] / clip_df['Processed reads']).values, \n",
      "                (public_iclip_df['Usable Reads'] / public_iclip_df['Processed reads']).values,\n",
      "                (iclip_df['Usable Reads'] / iclip_df['Processed reads']).values])\n",
      "    ax.set_title(\"Percent Usable Reads / Total Reads\")\n",
      "    y_format = tkr.FuncFormatter(percent)  # make formatter\n",
      "    ax.yaxis.set_major_formatter(y_format)\n",
      "    ax.set_ylabel(\"Percent\")\n",
      "    ax.set_xticklabels([\"Public\\n CLIP\", \"Public\\niCLIP\", \"ENCODE\\niCLIP\"])"
     ],
     "language": "python",
     "metadata": {},
     "outputs": [
      {
       "metadata": {},
       "output_type": "display_data",
       "png": "[encoded data removed]",
       "text": [
        "<matplotlib.figure.Figure at 0x16ce1a50>"
       ]
      }
     ],
     "prompt_number": 23
    },
    {
     "cell_type": "code",
     "collapsed": false,
     "input": [
      "with Figure(os.path.join(img_path, \"clip_pcr_duplication.svg\"), figsize=(7,7)) as fig:\n",
      "    ax = fig.add_subplot(1,1,1)\n",
      "    ax.boxplot([encode_df.PBC.values, \n",
      "                clip_df.PCB.dropna().values, \n",
      "                public_iclip_df.PCB.dropna().values, \n",
      "                iclip_df.PCB.dropna().values])\n",
      "    ax.set_title(\"PCR Bottleneck Coefficient\")\n",
      "    ax.set_ylabel(\"PBC\")\n",
      "    ax.set_xticklabels([\"ENCODE\\nChIP-seq\", \"Public\\nCLIP-seq\", \"Public\\niCLIP\", \"ENCODE\\niCLIP\"])"
     ],
     "language": "python",
     "metadata": {},
     "outputs": [
      {
       "metadata": {},
       "output_type": "display_data",
       "png": "[encoded data removed]",
       "text": [
        "<matplotlib.figure.Figure at 0x249ca390>"
       ]
      }
     ],
     "prompt_number": 16
    },
    {
     "cell_type": "code",
     "collapsed": false,
     "input": [
      "with Figure(os.path.join(img_path, \"Sequenced_Reads_vs_usable_Reads.svg\"), figsize=(8,8)) as fig:\n",
      "    ax = fig.add_subplot(1,1,1)\n",
      "    ax.scatter(true_iclips['Processed reads'] / 1000000, true_iclips['Usable Reads'] /1000000)\n",
      "    y_format = tkr.FuncFormatter(commas)  # make formatter\n",
      "    ax.yaxis.set_major_formatter(y_format)\n",
      "    ax.xaxis.set_major_formatter(y_format)\n",
      "    ax.set_ylabel(\"Usable Reads (Millions)\")\n",
      "    ax.set_xlabel(\"Sequenced Reads (Millions)\")\n",
      "    ax.set_title(\"Sequenced Reads vs Usable Reads\")\n",
      "    ax.set_ylim((0,100))\n",
      "    ax.set_xlim((0,100))\n"
     ],
     "language": "python",
     "metadata": {},
     "outputs": [
      {
       "metadata": {},
       "output_type": "display_data",
       "png": "[encoded data removed]",
       "text": [
        "<matplotlib.figure.Figure at 0x16ddb950>"
       ]
      }
     ],
     "prompt_number": 29
    },
    {
     "cell_type": "markdown",
     "metadata": {},
     "source": [
      "#Post Peak Calling QC"
     ]
    },
    {
     "cell_type": "code",
     "collapsed": false,
     "input": [
      "with Figure(os.path.join(img_path, \"Num_peaks.svg\"), figsize=(7,7)) as fig:\n",
      "    ax = fig.add_subplot(1,1,1)\n",
      "    ax.boxplot([encode_df['MACS FDR 0.01'].values, \n",
      "                clip_df['Num Peaks'].dropna().values, \n",
      "                iclip_df['Num Peaks'].dropna().values])\n",
      "    ax.set_title(\"Number of Peaks Called\")\n",
      "    ax.set_ylabel(\"Num Reads\")\n",
      "    ax.set_xticklabels([\"ENCODE\\nChIP-seq\", \"Public\\nCLIP-seq\",  \"ENCODE\\niCLIP\"])"
     ],
     "language": "python",
     "metadata": {},
     "outputs": [
      {
       "metadata": {},
       "output_type": "display_data",
       "png": "[encoded data removed]",
       "text": [
        "<matplotlib.figure.Figure at 0x16cf7910>"
       ]
      }
     ],
     "prompt_number": 30
    },
    {
     "cell_type": "code",
     "collapsed": false,
     "input": [
      "with Figure(os.path.join(img_path, \"SPOT_scores.svg\"), figsize=(7,7)) as fig:\n",
      "    ax = fig.add_subplot(1,1,1)\n",
      "    ax.boxplot([encode_df.SPOT.values, \n",
      "                clip_df.spot.dropna().values, \n",
      "                iclip_df.spot.dropna().values])\n",
      "    ax.set_title(\"SPOT Scores\")\n",
      "    ax.set_ylabel(\"SPOT\")\n",
      "    ax.set_xticklabels([\"ENCODE\\nChIP-seq\", \"Public\\nCLIP-seq\",  \"ENCODE\\niCLIP\"])"
     ],
     "language": "python",
     "metadata": {},
     "outputs": [
      {
       "metadata": {},
       "output_type": "display_data",
       "png": "[encoded data removed]",
       "text": [
        "<matplotlib.figure.Figure at 0x16de5590>"
       ]
      }
     ],
     "prompt_number": 31
    },
    {
     "cell_type": "code",
     "collapsed": false,
     "input": [
      "print scipy.stats.scoreatpercentile(public_iclip_df['Usable Reads'], per=[20, 50, 90, 100])\n",
      "print scipy.stats.scoreatpercentile(true_iclips['Usable Reads'].dropna(), per=[20, 50, 90, 100])"
     ],
     "language": "python",
     "metadata": {},
     "outputs": [
      {
       "output_type": "stream",
       "stream": "stdout",
       "text": [
        "[151133.40000000014, 898750.0, 2312095.2000000002, 2937958.0]\n",
        "[237188.60000000003, 855056.5, 3257757.0, 15301010.0]\n"
       ]
      }
     ],
     "prompt_number": 19
    },
    {
     "cell_type": "markdown",
     "metadata": {},
     "source": [
      "#CLIP-seq Co-interacting calculations"
     ]
    },
    {
     "cell_type": "code",
     "collapsed": false,
     "input": [
      "merged_tools = {}\n",
      "for name, group in hek_293_df.groupby(\"Antibody\"):\n",
      "    a = pybedtools.BedTool()\n",
      "    bedtools = \" \".join([srr + \".polyATrim.adapterTrim.rmRep.sorted.rg.rmDup.peaks.bed\" for srr in list(group.index)])\n",
      "    out_name = name.split()[0] + \".bed\"\n",
      "    !cat $bedtools | mergeBed -s -nms -i - > $out_name\n",
      "    merged_tools[name.split()[0] ] = pybedtools.BedTool(out_name)"
     ],
     "language": "python",
     "metadata": {},
     "outputs": [
      {
       "output_type": "stream",
       "stream": "stdout",
       "text": [
        "cat: SRR048973.polyATrim.adapterTrim.rmRep.sorted.rg.rmDup.peaks.bed: No such file or directory\r\n"
       ]
      },
      {
       "output_type": "stream",
       "stream": "stdout",
       "text": [
        "cat: SRR189782.polyATrim.adapterTrim.rmRep.sorted.rg.rmDup.peaks.bed: No such file or directory\r\n"
       ]
      },
      {
       "output_type": "stream",
       "stream": "stdout",
       "text": [
        "cat: SRR189783.polyATrim.adapterTrim.rmRep.sorted.rg.rmDup.peaks.bed: No such file or directory\r\n",
        "cat: SRR189784.polyATrim.adapterTrim.rmRep.sorted.rg.rmDup.peaks.bed: No such file or directory\r\n",
        "cat: SRR189785.polyATrim.adapterTrim.rmRep.sorted.rg.rmDup.peaks.bed: No such file or directory\r\n",
        "cat: SRR189786.polyATrim.adapterTrim.rmRep.sorted.rg.rmDup.peaks.bed: No such file or directory\r\n",
        "cat: SRR189787.polyATrim.adapterTrim.rmRep.sorted.rg.rmDup.peaks.bed: No such file or directory\r\n"
       ]
      },
      {
       "output_type": "stream",
       "stream": "stdout",
       "text": [
        "cat: SRR048974.polyATrim.adapterTrim.rmRep.sorted.rg.rmDup.peaks.bed: No such file or directory\r\n",
        "cat: SRR048975.polyATrim.adapterTrim.rmRep.sorted.rg.rmDup.peaks.bed: No such file or directory\r\n",
        "cat: SRR048980.polyATrim.adapterTrim.rmRep.sorted.rg.rmDup.peaks.bed: No such file or directory\r\n",
        "cat: SRR048981.polyATrim.adapterTrim.rmRep.sorted.rg.rmDup.peaks.bed: No such file or directory\r\n"
       ]
      },
      {
       "output_type": "stream",
       "stream": "stdout",
       "text": [
        "cat: SRR048976.polyATrim.adapterTrim.rmRep.sorted.rg.rmDup.peaks.bed: No such file or directory\r\n",
        "cat: SRR048977.polyATrim.adapterTrim.rmRep.sorted.rg.rmDup.peaks.bed: No such file or directory\r\n"
       ]
      },
      {
       "output_type": "stream",
       "stream": "stdout",
       "text": [
        "cat: SRR048978.polyATrim.adapterTrim.rmRep.sorted.rg.rmDup.peaks.bed: No such file or directory\r\n",
        "cat: SRR048979.polyATrim.adapterTrim.rmRep.sorted.rg.rmDup.peaks.bed: No such file or directory\r\n"
       ]
      },
      {
       "output_type": "stream",
       "stream": "stdout",
       "text": [
        "cat: SRR518495.polyATrim.adapterTrim.rmRep.sorted.rg.rmDup.peaks.bed: No such file or directory\r\n",
        "cat: SRR518496.polyATrim.adapterTrim.rmRep.sorted.rg.rmDup.peaks.bed: No such file or directory\r\n",
        "cat: SRR518497.polyATrim.adapterTrim.rmRep.sorted.rg.rmDup.peaks.bed: No such file or directory\r\n",
        "cat: SRR518498.polyATrim.adapterTrim.rmRep.sorted.rg.rmDup.peaks.bed: No such file or directory\r\n"
       ]
      },
      {
       "output_type": "stream",
       "stream": "stdout",
       "text": [
        "cat: SRR527727.polyATrim.adapterTrim.rmRep.sorted.rg.rmDup.peaks.bed: No such file or directory\r\n",
        "cat: SRR527729.polyATrim.adapterTrim.rmRep.sorted.rg.rmDup.peaks.bed: No such file or directory\r\n"
       ]
      },
      {
       "output_type": "stream",
       "stream": "stdout",
       "text": [
        "cat: SRR527728.polyATrim.adapterTrim.rmRep.sorted.rg.rmDup.peaks.bed: No such file or directory\r\n",
        "cat: SRR527730.polyATrim.adapterTrim.rmRep.sorted.rg.rmDup.peaks.bed: No such file or directory\r\n"
       ]
      },
      {
       "output_type": "stream",
       "stream": "stdout",
       "text": [
        "cat: SRR527731.polyATrim.adapterTrim.rmRep.sorted.rg.rmDup.peaks.bed: No such file or directory\r\n"
       ]
      },
      {
       "output_type": "stream",
       "stream": "stdout",
       "text": [
        "cat: SRR527732.polyATrim.adapterTrim.rmRep.sorted.rg.rmDup.peaks.bed: No such file or directory\r\n"
       ]
      },
      {
       "output_type": "stream",
       "stream": "stdout",
       "text": [
        "cat: SRR189775.polyATrim.adapterTrim.rmRep.sorted.rg.rmDup.peaks.bed: No such file or directory\r\n",
        "cat: SRR189776.polyATrim.adapterTrim.rmRep.sorted.rg.rmDup.peaks.bed: No such file or directory\r\n",
        "cat: SRR189777.polyATrim.adapterTrim.rmRep.sorted.rg.rmDup.peaks.bed: No such file or directory\r\n",
        "cat: SRR189778.polyATrim.adapterTrim.rmRep.sorted.rg.rmDup.peaks.bed: No such file or directory\r\n",
        "cat: SRR189779.polyATrim.adapterTrim.rmRep.sorted.rg.rmDup.peaks.bed: No such file or directory\r\n",
        "cat: SRR189780.polyATrim.adapterTrim.rmRep.sorted.rg.rmDup.peaks.bed: No such file or directory\r\n",
        "cat: SRR189781.polyATrim.adapterTrim.rmRep.sorted.rg.rmDup.peaks.bed: No such file or directory\r\n",
        "cat: SRR248532.polyATrim.adapterTrim.rmRep.sorted.rg.rmDup.peaks.bed: No such file or directory\r\n"
       ]
      },
      {
       "output_type": "stream",
       "stream": "stdout",
       "text": [
        "cat: SRR048950.polyATrim.adapterTrim.rmRep.sorted.rg.rmDup.peaks.bed: No such file or directory\r\n",
        "cat: SRR048951.polyATrim.adapterTrim.rmRep.sorted.rg.rmDup.peaks.bed: No such file or directory\r\n",
        "cat: SRR048952.polyATrim.adapterTrim.rmRep.sorted.rg.rmDup.peaks.bed: No such file or directory\r\n",
        "cat: SRR048953.polyATrim.adapterTrim.rmRep.sorted.rg.rmDup.peaks.bed: No such file or directory\r\n",
        "cat: SRR048954.polyATrim.adapterTrim.rmRep.sorted.rg.rmDup.peaks.bed: No such file or directory\r\n",
        "cat: SRR048955.polyATrim.adapterTrim.rmRep.sorted.rg.rmDup.peaks.bed: No such file or directory\r\n",
        "cat: SRR048956.polyATrim.adapterTrim.rmRep.sorted.rg.rmDup.peaks.bed: No such file or directory\r\n"
       ]
      },
      {
       "output_type": "stream",
       "stream": "stdout",
       "text": [
        "cat: SRR048957.polyATrim.adapterTrim.rmRep.sorted.rg.rmDup.peaks.bed: No such file or directory\r\n",
        "cat: SRR048958.polyATrim.adapterTrim.rmRep.sorted.rg.rmDup.peaks.bed: No such file or directory\r\n",
        "cat: SRR048959.polyATrim.adapterTrim.rmRep.sorted.rg.rmDup.peaks.bed: No such file or directory\r\n",
        "cat: SRR048960.polyATrim.adapterTrim.rmRep.sorted.rg.rmDup.peaks.bed: No such file or directory\r\n",
        "cat: SRR048961.polyATrim.adapterTrim.rmRep.sorted.rg.rmDup.peaks.bed: No such file or directory\r\n"
       ]
      },
      {
       "output_type": "stream",
       "stream": "stdout",
       "text": [
        "cat: SRR048962.polyATrim.adapterTrim.rmRep.sorted.rg.rmDup.peaks.bed: No such file or directory\r\n",
        "cat: SRR048963.polyATrim.adapterTrim.rmRep.sorted.rg.rmDup.peaks.bed: No such file or directory\r\n",
        "cat: SRR048964.polyATrim.adapterTrim.rmRep.sorted.rg.rmDup.peaks.bed: No such file or directory\r\n",
        "cat: SRR048965.polyATrim.adapterTrim.rmRep.sorted.rg.rmDup.peaks.bed: No such file or directory\r\n",
        "cat: SRR048966.polyATrim.adapterTrim.rmRep.sorted.rg.rmDup.peaks.bed: No such file or directory\r\n"
       ]
      },
      {
       "output_type": "stream",
       "stream": "stdout",
       "text": [
        "cat: SRR764666.polyATrim.adapterTrim.rmRep.sorted.rg.rmDup.peaks.bed: No such file or directory\r\n"
       ]
      },
      {
       "output_type": "stream",
       "stream": "stdout",
       "text": [
        "cat: SRR764667.polyATrim.adapterTrim.rmRep.sorted.rg.rmDup.peaks.bed: No such file or directory\r\n",
        "cat: SRR764668.polyATrim.adapterTrim.rmRep.sorted.rg.rmDup.peaks.bed: No such file or directory\r\n",
        "cat: SRR764669.polyATrim.adapterTrim.rmRep.sorted.rg.rmDup.peaks.bed: No such file or directory\r\n"
       ]
      },
      {
       "output_type": "stream",
       "stream": "stdout",
       "text": [
        "cat: SRR965314.polyATrim.adapterTrim.rmRep.sorted.rg.rmDup.peaks.bed: No such file or directory\r\n"
       ]
      },
      {
       "output_type": "stream",
       "stream": "stdout",
       "text": [
        "cat: SRR965316.polyATrim.adapterTrim.rmRep.sorted.rg.rmDup.peaks.bed: No such file or directory\r\n"
       ]
      },
      {
       "output_type": "stream",
       "stream": "stdout",
       "text": [
        "cat: SRR490650.polyATrim.adapterTrim.rmRep.sorted.rg.rmDup.peaks.bed: No such file or directory\r\n"
       ]
      },
      {
       "output_type": "stream",
       "stream": "stdout",
       "text": [
        "cat: SRR452496.polyATrim.adapterTrim.rmRep.sorted.rg.rmDup.peaks.bed: No such file or directory\r\n",
        "cat: SRR452497.polyATrim.adapterTrim.rmRep.sorted.rg.rmDup.peaks.bed: No such file or directory\r\n"
       ]
      },
      {
       "output_type": "stream",
       "stream": "stdout",
       "text": [
        "cat: SRR048967.polyATrim.adapterTrim.rmRep.sorted.rg.rmDup.peaks.bed: No such file or directory\r\n",
        "cat: SRR048968.polyATrim.adapterTrim.rmRep.sorted.rg.rmDup.peaks.bed: No such file or directory\r\n"
       ]
      },
      {
       "output_type": "stream",
       "stream": "stdout",
       "text": [
        "cat: SRR048969.polyATrim.adapterTrim.rmRep.sorted.rg.rmDup.peaks.bed: No such file or directory\r\n",
        "cat: SRR048970.polyATrim.adapterTrim.rmRep.sorted.rg.rmDup.peaks.bed: No such file or directory\r\n",
        "cat: SRR048971.polyATrim.adapterTrim.rmRep.sorted.rg.rmDup.peaks.bed: No such file or directory\r\n",
        "cat: SRR048972.polyATrim.adapterTrim.rmRep.sorted.rg.rmDup.peaks.bed: No such file or directory\r\n"
       ]
      },
      {
       "output_type": "stream",
       "stream": "stdout",
       "text": [
        "cat: FOX2_iclip.polyATrim.adapterTrim.rmRep.sorted.rg.rmDup.peaks.bed: No such file or directory\r\n"
       ]
      },
      {
       "output_type": "stream",
       "stream": "stdout",
       "text": [
        "cat: SRR048982.polyATrim.adapterTrim.rmRep.sorted.rg.rmDup.peaks.bed: No such file or directory\r\n",
        "cat: SRR048983.polyATrim.adapterTrim.rmRep.sorted.rg.rmDup.peaks.bed: No such file or directory\r\n"
       ]
      },
      {
       "output_type": "stream",
       "stream": "stdout",
       "text": [
        "cat: SRR048984.polyATrim.adapterTrim.rmRep.sorted.rg.rmDup.peaks.bed: No such file or directory\r\n",
        "cat: SRR048985.polyATrim.adapterTrim.rmRep.sorted.rg.rmDup.peaks.bed: No such file or directory\r\n"
       ]
      },
      {
       "output_type": "stream",
       "stream": "stdout",
       "text": [
        "cat: SRR048986.polyATrim.adapterTrim.rmRep.sorted.rg.rmDup.peaks.bed: No such file or directory\r\n",
        "cat: SRR048987.polyATrim.adapterTrim.rmRep.sorted.rg.rmDup.peaks.bed: No such file or directory\r\n"
       ]
      },
      {
       "output_type": "stream",
       "stream": "stdout",
       "text": [
        "cat: SRR965317.polyATrim.adapterTrim.rmRep.sorted.rg.rmDup.peaks.bed: No such file or directory\r\n"
       ]
      },
      {
       "output_type": "stream",
       "stream": "stdout",
       "text": [
        "cat: SRR965315.polyATrim.adapterTrim.rmRep.sorted.rg.rmDup.peaks.bed: No such file or directory\r\n"
       ]
      },
      {
       "output_type": "stream",
       "stream": "stdout",
       "text": [
        "cat: SRR398195.polyATrim.adapterTrim.rmRep.sorted.rg.rmDup.peaks.bed: No such file or directory\r\n",
        "cat: SRR398196.polyATrim.adapterTrim.rmRep.sorted.rg.rmDup.peaks.bed: No such file or directory\r\n",
        "cat: SRR398197.polyATrim.adapterTrim.rmRep.sorted.rg.rmDup.peaks.bed: No such file or directory\r\n",
        "cat: SRR398198.polyATrim.adapterTrim.rmRep.sorted.rg.rmDup.peaks.bed: No such file or directory\r\n"
       ]
      },
      {
       "output_type": "stream",
       "stream": "stdout",
       "text": [
        "cat: SRR398199.polyATrim.adapterTrim.rmRep.sorted.rg.rmDup.peaks.bed: No such file or directory\r\n"
       ]
      },
      {
       "output_type": "stream",
       "stream": "stdout",
       "text": [
        "cat: SRR398200.polyATrim.adapterTrim.rmRep.sorted.rg.rmDup.peaks.bed: No such file or directory\r\n",
        "cat: SRR398201.polyATrim.adapterTrim.rmRep.sorted.rg.rmDup.peaks.bed: No such file or directory\r\n",
        "cat: SRR398202.polyATrim.adapterTrim.rmRep.sorted.rg.rmDup.peaks.bed: No such file or directory\r\n",
        "cat: SRR398203.polyATrim.adapterTrim.rmRep.sorted.rg.rmDup.peaks.bed: No such file or directory\r\n"
       ]
      },
      {
       "output_type": "stream",
       "stream": "stdout",
       "text": [
        "cat: SRR398204.polyATrim.adapterTrim.rmRep.sorted.rg.rmDup.peaks.bed: No such file or directory\r\n",
        "cat: SRR398205.polyATrim.adapterTrim.rmRep.sorted.rg.rmDup.peaks.bed: No such file or directory\r\n"
       ]
      },
      {
       "output_type": "stream",
       "stream": "stdout",
       "text": [
        "cat: SRR398206.polyATrim.adapterTrim.rmRep.sorted.rg.rmDup.peaks.bed: No such file or directory\r\n",
        "cat: SRR398207.polyATrim.adapterTrim.rmRep.sorted.rg.rmDup.peaks.bed: No such file or directory\r\n",
        "cat: SRR398208.polyATrim.adapterTrim.rmRep.sorted.rg.rmDup.peaks.bed: No such file or directory\r\n",
        "cat: SRR398209.polyATrim.adapterTrim.rmRep.sorted.rg.rmDup.peaks.bed: No such file or directory\r\n"
       ]
      }
     ],
     "prompt_number": 9
    },
    {
     "cell_type": "code",
     "collapsed": false,
     "input": [
      "tools = [pybedtools.BedTool(os.path.join(path, srr + \".polyATrim.adapterTrim.rmRep.sorted.rg.rmDup.peaks.bed\")) for srr in list(hek_293_df.index)]\n",
      "intersections = {}\n",
      "unions = {}\n",
      "jaccard = {}\n",
      "for x1, (bed_1_name, bed_1) in enumerate(merged_tools.items()):\n",
      "    intersections[bed_1_name] = {}\n",
      "    unions[bed_1_name] = {}\n",
      "    jaccard[bed_1_name] = {}\n",
      "    for x2, (bed_2_name, bed_2) in enumerate(merged_tools.items()):\n",
      "\n",
      "        intersect = !intersectBed -a $bed_1.fn -b $bed_2.fn -u | wc -l\n",
      "        union = !cat $bed_1.fn $bed_2.fn | sort -k1,1 -k2,2n  | mergeBed  | wc -l \n",
      "\n",
      "        intersect_count = int(intersect[0].split()[0])\n",
      "        union_count = int(union[0].split()[0])\n",
      "        jaccard_score = intersect_count / float(union_count)\n",
      "        unions[bed_1_name][bed_2_name] = intersect_count\n",
      "        intersections[bed_1_name][bed_2_name] = intersect_count\n",
      "        jaccard[bed_1_name][bed_2_name] = jaccard_score"
     ],
     "language": "python",
     "metadata": {},
     "outputs": [
      {
       "ename": "ValueError",
       "evalue": "File \"/nas3/gpratt/projects/public_clip/v2/FOX2_iclip.polyATrim.adapterTrim.rmRep.sorted.rg.rmDup.peaks.bed\" does not exist",
       "output_type": "pyerr",
       "traceback": [
        "\u001b[1;31m---------------------------------------------------------------------------\u001b[0m\n\u001b[1;31mValueError\u001b[0m                                Traceback (most recent call last)",
        "\u001b[1;32m<ipython-input-33-6815bff61f26>\u001b[0m in \u001b[0;36m<module>\u001b[1;34m()\u001b[0m\n\u001b[1;32m----> 1\u001b[1;33m \u001b[0mtools\u001b[0m \u001b[1;33m=\u001b[0m \u001b[1;33m[\u001b[0m\u001b[0mpybedtools\u001b[0m\u001b[1;33m.\u001b[0m\u001b[0mBedTool\u001b[0m\u001b[1;33m(\u001b[0m\u001b[0mos\u001b[0m\u001b[1;33m.\u001b[0m\u001b[0mpath\u001b[0m\u001b[1;33m.\u001b[0m\u001b[0mjoin\u001b[0m\u001b[1;33m(\u001b[0m\u001b[0mpath\u001b[0m\u001b[1;33m,\u001b[0m \u001b[0msrr\u001b[0m \u001b[1;33m+\u001b[0m \u001b[1;34m\".polyATrim.adapterTrim.rmRep.sorted.rg.rmDup.peaks.bed\"\u001b[0m\u001b[1;33m)\u001b[0m\u001b[1;33m)\u001b[0m \u001b[1;32mfor\u001b[0m \u001b[0msrr\u001b[0m \u001b[1;32min\u001b[0m \u001b[0mlist\u001b[0m\u001b[1;33m(\u001b[0m\u001b[0mhek_293_df\u001b[0m\u001b[1;33m.\u001b[0m\u001b[0mindex\u001b[0m\u001b[1;33m)\u001b[0m\u001b[1;33m]\u001b[0m\u001b[1;33m\u001b[0m\u001b[0m\n\u001b[0m\u001b[0;32m      2\u001b[0m \u001b[0mintersections\u001b[0m \u001b[1;33m=\u001b[0m \u001b[1;33m{\u001b[0m\u001b[1;33m}\u001b[0m\u001b[1;33m\u001b[0m\u001b[0m\n\u001b[0;32m      3\u001b[0m \u001b[0munions\u001b[0m \u001b[1;33m=\u001b[0m \u001b[1;33m{\u001b[0m\u001b[1;33m}\u001b[0m\u001b[1;33m\u001b[0m\u001b[0m\n\u001b[0;32m      4\u001b[0m \u001b[0mjaccard\u001b[0m \u001b[1;33m=\u001b[0m \u001b[1;33m{\u001b[0m\u001b[1;33m}\u001b[0m\u001b[1;33m\u001b[0m\u001b[0m\n\u001b[0;32m      5\u001b[0m \u001b[1;32mfor\u001b[0m \u001b[0mx1\u001b[0m\u001b[1;33m,\u001b[0m \u001b[1;33m(\u001b[0m\u001b[0mbed_1_name\u001b[0m\u001b[1;33m,\u001b[0m \u001b[0mbed_1\u001b[0m\u001b[1;33m)\u001b[0m \u001b[1;32min\u001b[0m \u001b[0menumerate\u001b[0m\u001b[1;33m(\u001b[0m\u001b[0mmerged_tools\u001b[0m\u001b[1;33m.\u001b[0m\u001b[0mitems\u001b[0m\u001b[1;33m(\u001b[0m\u001b[1;33m)\u001b[0m\u001b[1;33m)\u001b[0m\u001b[1;33m:\u001b[0m\u001b[1;33m\u001b[0m\u001b[0m\n",
        "\u001b[1;32m/nas3/yeolab/Software/lib/python2.7/site-packages/pybedtools-0.6.4-py2.7-linux-x86_64.egg/pybedtools/bedtool.pyc\u001b[0m in \u001b[0;36m__init__\u001b[1;34m(self, fn, from_string, remote)\u001b[0m\n\u001b[0;32m    369\u001b[0m                 \u001b[1;32melse\u001b[0m\u001b[1;33m:\u001b[0m\u001b[1;33m\u001b[0m\u001b[0m\n\u001b[0;32m    370\u001b[0m                     \u001b[1;32mif\u001b[0m \u001b[1;32mnot\u001b[0m \u001b[0mos\u001b[0m\u001b[1;33m.\u001b[0m\u001b[0mpath\u001b[0m\u001b[1;33m.\u001b[0m\u001b[0mexists\u001b[0m\u001b[1;33m(\u001b[0m\u001b[0mfn\u001b[0m\u001b[1;33m)\u001b[0m\u001b[1;33m:\u001b[0m\u001b[1;33m\u001b[0m\u001b[0m\n\u001b[1;32m--> 371\u001b[1;33m                         \u001b[1;32mraise\u001b[0m \u001b[0mValueError\u001b[0m\u001b[1;33m(\u001b[0m\u001b[1;34m'File \"%s\" does not exist'\u001b[0m \u001b[1;33m%\u001b[0m \u001b[0mfn\u001b[0m\u001b[1;33m)\u001b[0m\u001b[1;33m\u001b[0m\u001b[0m\n\u001b[0m\u001b[0;32m    372\u001b[0m                     \u001b[0mself\u001b[0m\u001b[1;33m.\u001b[0m\u001b[0m_isbam\u001b[0m \u001b[1;33m=\u001b[0m \u001b[0misBAM\u001b[0m\u001b[1;33m(\u001b[0m\u001b[0mfn\u001b[0m\u001b[1;33m)\u001b[0m\u001b[1;33m\u001b[0m\u001b[0m\n\u001b[0;32m    373\u001b[0m \u001b[1;33m\u001b[0m\u001b[0m\n",
        "\u001b[1;31mValueError\u001b[0m: File \"/nas3/gpratt/projects/public_clip/v2/FOX2_iclip.polyATrim.adapterTrim.rmRep.sorted.rg.rmDup.peaks.bed\" does not exist"
       ]
      }
     ],
     "prompt_number": 33
    },
    {
     "cell_type": "code",
     "collapsed": false,
     "input": [
      "hist([len(bedtool) for bedtool in tools], range=(0,5000), bins=100) "
     ],
     "language": "python",
     "metadata": {},
     "outputs": []
    },
    {
     "cell_type": "code",
     "collapsed": false,
     "input": [
      "pickled_files = !ls *.pickleimport itertools"
     ],
     "language": "python",
     "metadata": {},
     "outputs": []
    },
    {
     "cell_type": "code",
     "collapsed": false,
     "input": [
      "with open(\"cytoscape_out.csv\", 'w') as cytoscape_out:\n",
      "    for bed_1, bed_2 in itertools.combinations(jaccard.keys(), 2):\n",
      "        cytoscape_out.write(\",\".join([bed_1, bed_2, str(jaccard[bed_1][bed_2])]) + \"\\n\")"
     ],
     "language": "python",
     "metadata": {},
     "outputs": [
      {
       "ename": "NameError",
       "evalue": "name 'itertools' is not defined",
       "output_type": "pyerr",
       "traceback": [
        "\u001b[1;31m---------------------------------------------------------------------------\u001b[0m\n\u001b[1;31mNameError\u001b[0m                                 Traceback (most recent call last)",
        "\u001b[1;32m<ipython-input-4-a83c90d02495>\u001b[0m in \u001b[0;36m<module>\u001b[1;34m()\u001b[0m\n\u001b[0;32m      1\u001b[0m \u001b[1;32mwith\u001b[0m \u001b[0mopen\u001b[0m\u001b[1;33m(\u001b[0m\u001b[1;34m\"cytoscape_out.csv\"\u001b[0m\u001b[1;33m,\u001b[0m \u001b[1;34m'w'\u001b[0m\u001b[1;33m)\u001b[0m \u001b[1;32mas\u001b[0m \u001b[0mcytoscape_out\u001b[0m\u001b[1;33m:\u001b[0m\u001b[1;33m\u001b[0m\u001b[0m\n\u001b[1;32m----> 2\u001b[1;33m     \u001b[1;32mfor\u001b[0m \u001b[0mbed_1\u001b[0m\u001b[1;33m,\u001b[0m \u001b[0mbed_2\u001b[0m \u001b[1;32min\u001b[0m \u001b[0mitertools\u001b[0m\u001b[1;33m.\u001b[0m\u001b[0mcombinations\u001b[0m\u001b[1;33m(\u001b[0m\u001b[0mjaccard\u001b[0m\u001b[1;33m.\u001b[0m\u001b[0mkeys\u001b[0m\u001b[1;33m(\u001b[0m\u001b[1;33m)\u001b[0m\u001b[1;33m,\u001b[0m \u001b[1;36m2\u001b[0m\u001b[1;33m)\u001b[0m\u001b[1;33m:\u001b[0m\u001b[1;33m\u001b[0m\u001b[0m\n\u001b[0m\u001b[0;32m      3\u001b[0m         \u001b[0mcytoscape_out\u001b[0m\u001b[1;33m.\u001b[0m\u001b[0mwrite\u001b[0m\u001b[1;33m(\u001b[0m\u001b[1;34m\",\"\u001b[0m\u001b[1;33m.\u001b[0m\u001b[0mjoin\u001b[0m\u001b[1;33m(\u001b[0m\u001b[1;33m[\u001b[0m\u001b[0mbed_1\u001b[0m\u001b[1;33m,\u001b[0m \u001b[0mbed_2\u001b[0m\u001b[1;33m,\u001b[0m \u001b[0mstr\u001b[0m\u001b[1;33m(\u001b[0m\u001b[0mjaccard\u001b[0m\u001b[1;33m[\u001b[0m\u001b[0mbed_1\u001b[0m\u001b[1;33m]\u001b[0m\u001b[1;33m[\u001b[0m\u001b[0mbed_2\u001b[0m\u001b[1;33m]\u001b[0m\u001b[1;33m)\u001b[0m\u001b[1;33m]\u001b[0m\u001b[1;33m)\u001b[0m \u001b[1;33m+\u001b[0m \u001b[1;34m\"\\n\"\u001b[0m\u001b[1;33m)\u001b[0m\u001b[1;33m\u001b[0m\u001b[0m\n",
        "\u001b[1;31mNameError\u001b[0m: name 'itertools' is not defined"
       ]
      }
     ],
     "prompt_number": 4
    },
    {
     "cell_type": "code",
     "collapsed": false,
     "input": [
      "y_events = scipy.spatial.distance.pdist(normalized_regions)\n",
      "Z_events = scipy.cluster.hierarchy.linkage(y_events)\n",
      "d_events = scipy.cluster.hierarchy.dendrogram(Z_events, orientation='right', distance_sort='descending', no_labels=True)\n",
      "event_order = d_events['leaves'][::-1]\n",
      "\n",
      "matshow(normalized_regions.as_matrix()[event_order,:][:,:], interpolation=\"nearest\", cmap=cm.gist_yarg)\n",
      "yticks(arange(len(normalized_regions.index)), [ all_names[i] for i in event_order] )\n",
      "xticks(arange(len(normalized_regions.columns)) + .2,[ normalized_regions.columns[i] for i in range(len(normalized_regions.columns))] , rotation=45)\n",
      "\n",
      "colorbar()fixed_df = combined_df.dropna()"
     ],
     "language": "python",
     "metadata": {},
     "outputs": [
      {
       "ename": "SyntaxError",
       "evalue": "invalid syntax (<ipython-input-5-2fb19e440917>, line 10)",
       "output_type": "pyerr",
       "traceback": [
        "\u001b[1;36m  File \u001b[1;32m\"<ipython-input-5-2fb19e440917>\"\u001b[1;36m, line \u001b[1;32m10\u001b[0m\n\u001b[1;33m    colorbar()fixed_df = combined_df.dropna()\u001b[0m\n\u001b[1;37m                     ^\u001b[0m\n\u001b[1;31mSyntaxError\u001b[0m\u001b[1;31m:\u001b[0m invalid syntax\n"
       ]
      }
     ],
     "prompt_number": 5
    },
    {
     "cell_type": "markdown",
     "metadata": {},
     "source": [
      "Run saturation analysis on a few highly sequenced datasets, other public ones NOVA? TBP43? FOX2? fuck it, all of em"
     ]
    },
    {
     "cell_type": "code",
     "collapsed": false,
     "input": [
      "with open(\"downsample.txt\", 'w') as out_file:\n",
      "    for row in combined_df.iterrows():\n",
      "        out_file.write(\"\\t\".join([\"/home/gpratt/projects/public_clip/analysis/v1/\" + row[0] + \".polyATrim.adapterTrim.rmRep.sorted.rg.rmDup.bam\", row[1][\"Species\"]]) + \"\\n\")"
     ],
     "language": "python",
     "metadata": {},
     "outputs": [
      {
       "ename": "NameError",
       "evalue": "name 'combined_df' is not defined",
       "output_type": "pyerr",
       "traceback": [
        "\u001b[1;31m---------------------------------------------------------------------------\u001b[0m\n\u001b[1;31mNameError\u001b[0m                                 Traceback (most recent call last)",
        "\u001b[1;32m<ipython-input-6-a33f657faf15>\u001b[0m in \u001b[0;36m<module>\u001b[1;34m()\u001b[0m\n\u001b[0;32m      1\u001b[0m \u001b[1;32mwith\u001b[0m \u001b[0mopen\u001b[0m\u001b[1;33m(\u001b[0m\u001b[1;34m\"downsample.txt\"\u001b[0m\u001b[1;33m,\u001b[0m \u001b[1;34m'w'\u001b[0m\u001b[1;33m)\u001b[0m \u001b[1;32mas\u001b[0m \u001b[0mout_file\u001b[0m\u001b[1;33m:\u001b[0m\u001b[1;33m\u001b[0m\u001b[0m\n\u001b[1;32m----> 2\u001b[1;33m     \u001b[1;32mfor\u001b[0m \u001b[0mrow\u001b[0m \u001b[1;32min\u001b[0m \u001b[0mcombined_df\u001b[0m\u001b[1;33m.\u001b[0m\u001b[0miterrows\u001b[0m\u001b[1;33m(\u001b[0m\u001b[1;33m)\u001b[0m\u001b[1;33m:\u001b[0m\u001b[1;33m\u001b[0m\u001b[0m\n\u001b[0m\u001b[0;32m      3\u001b[0m         \u001b[0mout_file\u001b[0m\u001b[1;33m.\u001b[0m\u001b[0mwrite\u001b[0m\u001b[1;33m(\u001b[0m\u001b[1;34m\"\\t\"\u001b[0m\u001b[1;33m.\u001b[0m\u001b[0mjoin\u001b[0m\u001b[1;33m(\u001b[0m\u001b[1;33m[\u001b[0m\u001b[1;34m\"/home/gpratt/projects/public_clip/analysis/v1/\"\u001b[0m \u001b[1;33m+\u001b[0m \u001b[0mrow\u001b[0m\u001b[1;33m[\u001b[0m\u001b[1;36m0\u001b[0m\u001b[1;33m]\u001b[0m \u001b[1;33m+\u001b[0m \u001b[1;34m\".polyATrim.adapterTrim.rmRep.sorted.rg.rmDup.bam\"\u001b[0m\u001b[1;33m,\u001b[0m \u001b[0mrow\u001b[0m\u001b[1;33m[\u001b[0m\u001b[1;36m1\u001b[0m\u001b[1;33m]\u001b[0m\u001b[1;33m[\u001b[0m\u001b[1;34m\"Species\"\u001b[0m\u001b[1;33m]\u001b[0m\u001b[1;33m]\u001b[0m\u001b[1;33m)\u001b[0m \u001b[1;33m+\u001b[0m \u001b[1;34m\"\\n\"\u001b[0m\u001b[1;33m)\u001b[0m\u001b[1;33m\u001b[0m\u001b[0m\n",
        "\u001b[1;31mNameError\u001b[0m: name 'combined_df' is not defined"
       ]
      }
     ],
     "prompt_number": 6
    },
    {
     "cell_type": "code",
     "collapsed": false,
     "input": [
      "pickled_files = !ls *.pickle"
     ],
     "language": "python",
     "metadata": {},
     "outputs": [],
     "prompt_number": 7
    },
    {
     "cell_type": "code",
     "collapsed": false,
     "input": [
      "pickled_names = [pickled_file.split(\".\")[0] for pickled_file in pickled_files]\n",
      "all_names = [\"_\".join(list(combined_df.ix[pickled_name][['Cell Type', 'Antibody']])) for pickled_name in pickled_names]\n",
      "pickled_data = [pickle.load(open(pickled_file)) for pickled_file in pickled_files]\n",
      "region_sizes = {x : pickled_file['region_sizes'] for x, pickled_file in enumerate(pickled_data)}\n",
      "regions_df = pd.DataFrame(region_sizes).transpose()\n",
      "normalized_regions = regions_df.applymap(float).div(regions_df.sum(axis = 1), axis=\"index\")"
     ],
     "language": "python",
     "metadata": {},
     "outputs": [
      {
       "ename": "NameError",
       "evalue": "name 'combined_df' is not defined",
       "output_type": "pyerr",
       "traceback": [
        "\u001b[1;31m---------------------------------------------------------------------------\u001b[0m\n\u001b[1;31mNameError\u001b[0m                                 Traceback (most recent call last)",
        "\u001b[1;32m<ipython-input-8-46d743c1c372>\u001b[0m in \u001b[0;36m<module>\u001b[1;34m()\u001b[0m\n\u001b[0;32m      1\u001b[0m \u001b[0mpickled_names\u001b[0m \u001b[1;33m=\u001b[0m \u001b[1;33m[\u001b[0m\u001b[0mpickled_file\u001b[0m\u001b[1;33m.\u001b[0m\u001b[0msplit\u001b[0m\u001b[1;33m(\u001b[0m\u001b[1;34m\".\"\u001b[0m\u001b[1;33m)\u001b[0m\u001b[1;33m[\u001b[0m\u001b[1;36m0\u001b[0m\u001b[1;33m]\u001b[0m \u001b[1;32mfor\u001b[0m \u001b[0mpickled_file\u001b[0m \u001b[1;32min\u001b[0m \u001b[0mpickled_files\u001b[0m\u001b[1;33m]\u001b[0m\u001b[1;33m\u001b[0m\u001b[0m\n\u001b[1;32m----> 2\u001b[1;33m \u001b[0mall_names\u001b[0m \u001b[1;33m=\u001b[0m \u001b[1;33m[\u001b[0m\u001b[1;34m\"_\"\u001b[0m\u001b[1;33m.\u001b[0m\u001b[0mjoin\u001b[0m\u001b[1;33m(\u001b[0m\u001b[0mlist\u001b[0m\u001b[1;33m(\u001b[0m\u001b[0mcombined_df\u001b[0m\u001b[1;33m.\u001b[0m\u001b[0mix\u001b[0m\u001b[1;33m[\u001b[0m\u001b[0mpickled_name\u001b[0m\u001b[1;33m]\u001b[0m\u001b[1;33m[\u001b[0m\u001b[1;33m[\u001b[0m\u001b[1;34m'Cell Type'\u001b[0m\u001b[1;33m,\u001b[0m \u001b[1;34m'Antibody'\u001b[0m\u001b[1;33m]\u001b[0m\u001b[1;33m]\u001b[0m\u001b[1;33m)\u001b[0m\u001b[1;33m)\u001b[0m \u001b[1;32mfor\u001b[0m \u001b[0mpickled_name\u001b[0m \u001b[1;32min\u001b[0m \u001b[0mpickled_names\u001b[0m\u001b[1;33m]\u001b[0m\u001b[1;33m\u001b[0m\u001b[0m\n\u001b[0m\u001b[0;32m      3\u001b[0m \u001b[0mpickled_data\u001b[0m \u001b[1;33m=\u001b[0m \u001b[1;33m[\u001b[0m\u001b[0mpickle\u001b[0m\u001b[1;33m.\u001b[0m\u001b[0mload\u001b[0m\u001b[1;33m(\u001b[0m\u001b[0mopen\u001b[0m\u001b[1;33m(\u001b[0m\u001b[0mpickled_file\u001b[0m\u001b[1;33m)\u001b[0m\u001b[1;33m)\u001b[0m \u001b[1;32mfor\u001b[0m \u001b[0mpickled_file\u001b[0m \u001b[1;32min\u001b[0m \u001b[0mpickled_files\u001b[0m\u001b[1;33m]\u001b[0m\u001b[1;33m\u001b[0m\u001b[0m\n\u001b[0;32m      4\u001b[0m \u001b[0mregion_sizes\u001b[0m \u001b[1;33m=\u001b[0m \u001b[1;33m{\u001b[0m\u001b[0mx\u001b[0m \u001b[1;33m:\u001b[0m \u001b[0mpickled_file\u001b[0m\u001b[1;33m[\u001b[0m\u001b[1;34m'region_sizes'\u001b[0m\u001b[1;33m]\u001b[0m \u001b[1;32mfor\u001b[0m \u001b[0mx\u001b[0m\u001b[1;33m,\u001b[0m \u001b[0mpickled_file\u001b[0m \u001b[1;32min\u001b[0m \u001b[0menumerate\u001b[0m\u001b[1;33m(\u001b[0m\u001b[0mpickled_data\u001b[0m\u001b[1;33m)\u001b[0m\u001b[1;33m}\u001b[0m\u001b[1;33m\u001b[0m\u001b[0m\n\u001b[0;32m      5\u001b[0m \u001b[0mregions_df\u001b[0m \u001b[1;33m=\u001b[0m \u001b[0mpd\u001b[0m\u001b[1;33m.\u001b[0m\u001b[0mDataFrame\u001b[0m\u001b[1;33m(\u001b[0m\u001b[0mregion_sizes\u001b[0m\u001b[1;33m)\u001b[0m\u001b[1;33m.\u001b[0m\u001b[0mtranspose\u001b[0m\u001b[1;33m(\u001b[0m\u001b[1;33m)\u001b[0m\u001b[1;33m\u001b[0m\u001b[0m\n",
        "\u001b[1;31mNameError\u001b[0m: name 'combined_df' is not defined"
       ]
      }
     ],
     "prompt_number": 8
    },
    {
     "cell_type": "code",
     "collapsed": false,
     "input": [
      "y_events = scipy.spatial.distance.pdist(normalized_regions)\n",
      "Z_events = scipy.cluster.hierarchy.linkage(y_events)\n",
      "d_events = scipy.cluster.hierarchy.dendrogram(Z_events, orientation='right', distance_sort='descending', no_labels=True)\n",
      "event_order = d_events['leaves'][::-1]\n",
      "\n",
      "matshow(normalized_regions.as_matrix()[event_order,:][:,:], interpolation=\"nearest\", cmap=cm.gist_yarg)\n",
      "yticks(arange(len(normalized_regions.index)), [ all_names[i] for i in event_order] )\n",
      "xticks(arange(len(normalized_regions.columns)) + .2,[ normalized_regions.columns[i] for i in range(len(normalized_regions.columns))] , rotation=45)\n",
      "\n",
      "colorbar()"
     ],
     "language": "python",
     "metadata": {},
     "outputs": [
      {
       "ename": "NameError",
       "evalue": "name 'normalized_regions' is not defined",
       "output_type": "pyerr",
       "traceback": [
        "\u001b[1;31m---------------------------------------------------------------------------\u001b[0m\n\u001b[1;31mNameError\u001b[0m                                 Traceback (most recent call last)",
        "\u001b[1;32m<ipython-input-9-ae91945e5911>\u001b[0m in \u001b[0;36m<module>\u001b[1;34m()\u001b[0m\n\u001b[1;32m----> 1\u001b[1;33m \u001b[0my_events\u001b[0m \u001b[1;33m=\u001b[0m \u001b[0mscipy\u001b[0m\u001b[1;33m.\u001b[0m\u001b[0mspatial\u001b[0m\u001b[1;33m.\u001b[0m\u001b[0mdistance\u001b[0m\u001b[1;33m.\u001b[0m\u001b[0mpdist\u001b[0m\u001b[1;33m(\u001b[0m\u001b[0mnormalized_regions\u001b[0m\u001b[1;33m)\u001b[0m\u001b[1;33m\u001b[0m\u001b[0m\n\u001b[0m\u001b[0;32m      2\u001b[0m \u001b[0mZ_events\u001b[0m \u001b[1;33m=\u001b[0m \u001b[0mscipy\u001b[0m\u001b[1;33m.\u001b[0m\u001b[0mcluster\u001b[0m\u001b[1;33m.\u001b[0m\u001b[0mhierarchy\u001b[0m\u001b[1;33m.\u001b[0m\u001b[0mlinkage\u001b[0m\u001b[1;33m(\u001b[0m\u001b[0my_events\u001b[0m\u001b[1;33m)\u001b[0m\u001b[1;33m\u001b[0m\u001b[0m\n\u001b[0;32m      3\u001b[0m \u001b[0md_events\u001b[0m \u001b[1;33m=\u001b[0m \u001b[0mscipy\u001b[0m\u001b[1;33m.\u001b[0m\u001b[0mcluster\u001b[0m\u001b[1;33m.\u001b[0m\u001b[0mhierarchy\u001b[0m\u001b[1;33m.\u001b[0m\u001b[0mdendrogram\u001b[0m\u001b[1;33m(\u001b[0m\u001b[0mZ_events\u001b[0m\u001b[1;33m,\u001b[0m \u001b[0morientation\u001b[0m\u001b[1;33m=\u001b[0m\u001b[1;34m'right'\u001b[0m\u001b[1;33m,\u001b[0m \u001b[0mdistance_sort\u001b[0m\u001b[1;33m=\u001b[0m\u001b[1;34m'descending'\u001b[0m\u001b[1;33m,\u001b[0m \u001b[0mno_labels\u001b[0m\u001b[1;33m=\u001b[0m\u001b[0mTrue\u001b[0m\u001b[1;33m)\u001b[0m\u001b[1;33m\u001b[0m\u001b[0m\n\u001b[0;32m      4\u001b[0m \u001b[0mevent_order\u001b[0m \u001b[1;33m=\u001b[0m \u001b[0md_events\u001b[0m\u001b[1;33m[\u001b[0m\u001b[1;34m'leaves'\u001b[0m\u001b[1;33m]\u001b[0m\u001b[1;33m[\u001b[0m\u001b[1;33m:\u001b[0m\u001b[1;33m:\u001b[0m\u001b[1;33m-\u001b[0m\u001b[1;36m1\u001b[0m\u001b[1;33m]\u001b[0m\u001b[1;33m\u001b[0m\u001b[0m\n\u001b[0;32m      5\u001b[0m \u001b[1;33m\u001b[0m\u001b[0m\n",
        "\u001b[1;31mNameError\u001b[0m: name 'normalized_regions' is not defined"
       ]
      }
     ],
     "prompt_number": 9
    },
    {
     "cell_type": "code",
     "collapsed": false,
     "input": [
      "hek_293_genes = {name : [interval.name.split(\";\")[0].split(\".\")[0] for interval in bedtool] for name, bedtool in merged_tools.items()}"
     ],
     "language": "python",
     "metadata": {},
     "outputs": [
      {
       "ename": "NameError",
       "evalue": "name 'merged_tools' is not defined",
       "output_type": "pyerr",
       "traceback": [
        "\u001b[1;31m---------------------------------------------------------------------------\u001b[0m\n\u001b[1;31mNameError\u001b[0m                                 Traceback (most recent call last)",
        "\u001b[1;32m<ipython-input-10-26161ef420e3>\u001b[0m in \u001b[0;36m<module>\u001b[1;34m()\u001b[0m\n\u001b[1;32m----> 1\u001b[1;33m \u001b[0mhek_293_genes\u001b[0m \u001b[1;33m=\u001b[0m \u001b[1;33m{\u001b[0m\u001b[0mname\u001b[0m \u001b[1;33m:\u001b[0m \u001b[1;33m[\u001b[0m\u001b[0minterval\u001b[0m\u001b[1;33m.\u001b[0m\u001b[0mname\u001b[0m\u001b[1;33m.\u001b[0m\u001b[0msplit\u001b[0m\u001b[1;33m(\u001b[0m\u001b[1;34m\";\"\u001b[0m\u001b[1;33m)\u001b[0m\u001b[1;33m[\u001b[0m\u001b[1;36m0\u001b[0m\u001b[1;33m]\u001b[0m\u001b[1;33m.\u001b[0m\u001b[0msplit\u001b[0m\u001b[1;33m(\u001b[0m\u001b[1;34m\".\"\u001b[0m\u001b[1;33m)\u001b[0m\u001b[1;33m[\u001b[0m\u001b[1;36m0\u001b[0m\u001b[1;33m]\u001b[0m \u001b[1;32mfor\u001b[0m \u001b[0minterval\u001b[0m \u001b[1;32min\u001b[0m \u001b[0mbedtool\u001b[0m\u001b[1;33m]\u001b[0m \u001b[1;32mfor\u001b[0m \u001b[0mname\u001b[0m\u001b[1;33m,\u001b[0m \u001b[0mbedtool\u001b[0m \u001b[1;32min\u001b[0m \u001b[0mmerged_tools\u001b[0m\u001b[1;33m.\u001b[0m\u001b[0mitems\u001b[0m\u001b[1;33m(\u001b[0m\u001b[1;33m)\u001b[0m\u001b[1;33m}\u001b[0m\u001b[1;33m\u001b[0m\u001b[0m\n\u001b[0m",
        "\u001b[1;31mNameError\u001b[0m: name 'merged_tools' is not defined"
       ]
      }
     ],
     "prompt_number": 10
    },
    {
     "cell_type": "code",
     "collapsed": false,
     "input": [
      "rowhg19GO = GO.hg19GO()"
     ],
     "language": "python",
     "metadata": {},
     "outputs": [
      {
       "ename": "AttributeError",
       "evalue": "type object 'GO' has no attribute 'hg19GO'",
       "output_type": "pyerr",
       "traceback": [
        "\u001b[1;31m---------------------------------------------------------------------------\u001b[0m\n\u001b[1;31mAttributeError\u001b[0m                            Traceback (most recent call last)",
        "\u001b[1;32m<ipython-input-11-307d56044a25>\u001b[0m in \u001b[0;36m<module>\u001b[1;34m()\u001b[0m\n\u001b[1;32m----> 1\u001b[1;33m \u001b[0mrowhg19GO\u001b[0m \u001b[1;33m=\u001b[0m \u001b[0mGO\u001b[0m\u001b[1;33m.\u001b[0m\u001b[0mhg19GO\u001b[0m\u001b[1;33m(\u001b[0m\u001b[1;33m)\u001b[0m\u001b[1;33m\u001b[0m\u001b[0m\n\u001b[0m",
        "\u001b[1;31mAttributeError\u001b[0m: type object 'GO' has no attribute 'hg19GO'"
       ]
      }
     ],
     "prompt_number": 11
    },
    {
     "cell_type": "code",
     "collapsed": false,
     "input": [
      "hek_293_go_terms = {name : hg19GO.enrichment(genes) for name, genes in hek_293_genes.items()}"
     ],
     "language": "python",
     "metadata": {},
     "outputs": [
      {
       "ename": "NameError",
       "evalue": "name 'hek_293_genes' is not defined",
       "output_type": "pyerr",
       "traceback": [
        "\u001b[1;31m---------------------------------------------------------------------------\u001b[0m\n\u001b[1;31mNameError\u001b[0m                                 Traceback (most recent call last)",
        "\u001b[1;32m<ipython-input-12-efc0b591e132>\u001b[0m in \u001b[0;36m<module>\u001b[1;34m()\u001b[0m\n\u001b[1;32m----> 1\u001b[1;33m \u001b[0mhek_293_go_terms\u001b[0m \u001b[1;33m=\u001b[0m \u001b[1;33m{\u001b[0m\u001b[0mname\u001b[0m \u001b[1;33m:\u001b[0m \u001b[0mhg19GO\u001b[0m\u001b[1;33m.\u001b[0m\u001b[0menrichment\u001b[0m\u001b[1;33m(\u001b[0m\u001b[0mgenes\u001b[0m\u001b[1;33m)\u001b[0m \u001b[1;32mfor\u001b[0m \u001b[0mname\u001b[0m\u001b[1;33m,\u001b[0m \u001b[0mgenes\u001b[0m \u001b[1;32min\u001b[0m \u001b[0mhek_293_genes\u001b[0m\u001b[1;33m.\u001b[0m\u001b[0mitems\u001b[0m\u001b[1;33m(\u001b[0m\u001b[1;33m)\u001b[0m\u001b[1;33m}\u001b[0m\u001b[1;33m\u001b[0m\u001b[0m\n\u001b[0m",
        "\u001b[1;31mNameError\u001b[0m: name 'hek_293_genes' is not defined"
       ]
      }
     ],
     "prompt_number": 12
    },
    {
     "cell_type": "code",
     "collapsed": false,
     "input": [
      "hek_293_go_terms_df = pd.concat(hek_293_go_terms.values(), keys = hek_293_go_terms.keys(), names=['group', 'ontology'])"
     ],
     "language": "python",
     "metadata": {},
     "outputs": [
      {
       "ename": "NameError",
       "evalue": "name 'hek_293_go_terms' is not defined",
       "output_type": "pyerr",
       "traceback": [
        "\u001b[1;31m---------------------------------------------------------------------------\u001b[0m\n\u001b[1;31mNameError\u001b[0m                                 Traceback (most recent call last)",
        "\u001b[1;32m<ipython-input-13-8bd1ccad6905>\u001b[0m in \u001b[0;36m<module>\u001b[1;34m()\u001b[0m\n\u001b[1;32m----> 1\u001b[1;33m \u001b[0mhek_293_go_terms_df\u001b[0m \u001b[1;33m=\u001b[0m \u001b[0mpd\u001b[0m\u001b[1;33m.\u001b[0m\u001b[0mconcat\u001b[0m\u001b[1;33m(\u001b[0m\u001b[0mhek_293_go_terms\u001b[0m\u001b[1;33m.\u001b[0m\u001b[0mvalues\u001b[0m\u001b[1;33m(\u001b[0m\u001b[1;33m)\u001b[0m\u001b[1;33m,\u001b[0m \u001b[0mkeys\u001b[0m \u001b[1;33m=\u001b[0m \u001b[0mhek_293_go_terms\u001b[0m\u001b[1;33m.\u001b[0m\u001b[0mkeys\u001b[0m\u001b[1;33m(\u001b[0m\u001b[1;33m)\u001b[0m\u001b[1;33m,\u001b[0m \u001b[0mnames\u001b[0m\u001b[1;33m=\u001b[0m\u001b[1;33m[\u001b[0m\u001b[1;34m'group'\u001b[0m\u001b[1;33m,\u001b[0m \u001b[1;34m'ontology'\u001b[0m\u001b[1;33m]\u001b[0m\u001b[1;33m)\u001b[0m\u001b[1;33m\u001b[0m\u001b[0m\n\u001b[0m",
        "\u001b[1;31mNameError\u001b[0m: name 'hek_293_go_terms' is not defined"
       ]
      }
     ],
     "prompt_number": 13
    },
    {
     "cell_type": "code",
     "collapsed": false,
     "input": [
      "hek_293_go_terms_set = set([])\n",
      "for go_term in hek_293_go_terms_df.index.get_level_values('ontology'):\n",
      "    if sum(hek_293_go_terms_df.xs(go_term, level=\"ontology\")['Bonferroni-corrected Hypergeometric p-Value'] < .00001) > 1:\n",
      "        hek_293_go_terms_set.add(go_term)"
     ],
     "language": "python",
     "metadata": {},
     "outputs": [
      {
       "ename": "NameError",
       "evalue": "name 'hek_293_go_terms_df' is not defined",
       "output_type": "pyerr",
       "traceback": [
        "\u001b[1;31m---------------------------------------------------------------------------\u001b[0m\n\u001b[1;31mNameError\u001b[0m                                 Traceback (most recent call last)",
        "\u001b[1;32m<ipython-input-14-3766ecfa1a43>\u001b[0m in \u001b[0;36m<module>\u001b[1;34m()\u001b[0m\n\u001b[0;32m      1\u001b[0m \u001b[0mhek_293_go_terms_set\u001b[0m \u001b[1;33m=\u001b[0m \u001b[0mset\u001b[0m\u001b[1;33m(\u001b[0m\u001b[1;33m[\u001b[0m\u001b[1;33m]\u001b[0m\u001b[1;33m)\u001b[0m\u001b[1;33m\u001b[0m\u001b[0m\n\u001b[1;32m----> 2\u001b[1;33m \u001b[1;32mfor\u001b[0m \u001b[0mgo_term\u001b[0m \u001b[1;32min\u001b[0m \u001b[0mhek_293_go_terms_df\u001b[0m\u001b[1;33m.\u001b[0m\u001b[0mindex\u001b[0m\u001b[1;33m.\u001b[0m\u001b[0mget_level_values\u001b[0m\u001b[1;33m(\u001b[0m\u001b[1;34m'ontology'\u001b[0m\u001b[1;33m)\u001b[0m\u001b[1;33m:\u001b[0m\u001b[1;33m\u001b[0m\u001b[0m\n\u001b[0m\u001b[0;32m      3\u001b[0m     \u001b[1;32mif\u001b[0m \u001b[0msum\u001b[0m\u001b[1;33m(\u001b[0m\u001b[0mhek_293_go_terms_df\u001b[0m\u001b[1;33m.\u001b[0m\u001b[0mxs\u001b[0m\u001b[1;33m(\u001b[0m\u001b[0mgo_term\u001b[0m\u001b[1;33m,\u001b[0m \u001b[0mlevel\u001b[0m\u001b[1;33m=\u001b[0m\u001b[1;34m\"ontology\"\u001b[0m\u001b[1;33m)\u001b[0m\u001b[1;33m[\u001b[0m\u001b[1;34m'Bonferroni-corrected Hypergeometric p-Value'\u001b[0m\u001b[1;33m]\u001b[0m \u001b[1;33m<\u001b[0m \u001b[1;36m.00001\u001b[0m\u001b[1;33m)\u001b[0m \u001b[1;33m>\u001b[0m \u001b[1;36m1\u001b[0m\u001b[1;33m:\u001b[0m\u001b[1;33m\u001b[0m\u001b[0m\n\u001b[0;32m      4\u001b[0m         \u001b[0mhek_293_go_terms_set\u001b[0m\u001b[1;33m.\u001b[0m\u001b[0madd\u001b[0m\u001b[1;33m(\u001b[0m\u001b[0mgo_term\u001b[0m\u001b[1;33m)\u001b[0m\u001b[1;33m\u001b[0m\u001b[0m\n",
        "\u001b[1;31mNameError\u001b[0m: name 'hek_293_go_terms_df' is not defined"
       ]
      }
     ],
     "prompt_number": 14
    },
    {
     "cell_type": "code",
     "collapsed": false,
     "input": [
      "def get_col_names(dataframe):\n",
      "    \"\"\"\n",
      "    \n",
      "    Some names are null, this compresses them and returns a true list of go annotation names\n",
      "\n",
      "    \"\"\"\n",
      "    row_names = []\n",
      "    for row_name in dataframe[dataframe.columns[0]]:\n",
      "        row_names.append(row_name)\n",
      "    \n",
      "    for column_name in dataframe.columns[1:]:\n",
      "        try:\n",
      "            for x, row_name in enumerate(dataframe[column_name]):\n",
      "                if type(row_names[x]) is not str:\n",
      "                    row_names[x] = row_name\n",
      "        except:\n",
      "            pass\n",
      "    return row_names"
     ],
     "language": "python",
     "metadata": {},
     "outputs": [],
     "prompt_number": 15
    },
    {
     "cell_type": "code",
     "collapsed": false,
     "input": [
      "hek_293_go_terms_values = hek_293_go_terms_df.swaplevel(0,1).ix[hek_293_go_terms_set]['Bonferroni-corrected Hypergeometric p-Value'].unstack().fillna(1)\n",
      "hek_293_go_terms_col_names = list(hek_293_go_terms_df.swaplevel(0,1).ix[hek_293_go_terms_set]['GO Term Description'].unstack().columns)\n",
      "hek_293_go_terms_row_names = get_col_names(hek_293_go_terms_df.swaplevel(0,1).ix[hek_293_go_terms_set]['GO Term Description'].unstack())\n",
      "x = clusterGram(-1. * log10(matrix(hek_293_go_terms_values)), hek_293_go_terms_col_names, hek_293_go_terms_row_names )\n",
      "savefig(img_path + \"go_ontology.pdf\")"
     ],
     "language": "python",
     "metadata": {},
     "outputs": [
      {
       "ename": "NameError",
       "evalue": "name 'hek_293_go_terms_df' is not defined",
       "output_type": "pyerr",
       "traceback": [
        "\u001b[1;31m---------------------------------------------------------------------------\u001b[0m\n\u001b[1;31mNameError\u001b[0m                                 Traceback (most recent call last)",
        "\u001b[1;32m<ipython-input-16-4799ead5a0fa>\u001b[0m in \u001b[0;36m<module>\u001b[1;34m()\u001b[0m\n\u001b[1;32m----> 1\u001b[1;33m \u001b[0mhek_293_go_terms_values\u001b[0m \u001b[1;33m=\u001b[0m \u001b[0mhek_293_go_terms_df\u001b[0m\u001b[1;33m.\u001b[0m\u001b[0mswaplevel\u001b[0m\u001b[1;33m(\u001b[0m\u001b[1;36m0\u001b[0m\u001b[1;33m,\u001b[0m\u001b[1;36m1\u001b[0m\u001b[1;33m)\u001b[0m\u001b[1;33m.\u001b[0m\u001b[0mix\u001b[0m\u001b[1;33m[\u001b[0m\u001b[0mhek_293_go_terms_set\u001b[0m\u001b[1;33m]\u001b[0m\u001b[1;33m[\u001b[0m\u001b[1;34m'Bonferroni-corrected Hypergeometric p-Value'\u001b[0m\u001b[1;33m]\u001b[0m\u001b[1;33m.\u001b[0m\u001b[0munstack\u001b[0m\u001b[1;33m(\u001b[0m\u001b[1;33m)\u001b[0m\u001b[1;33m.\u001b[0m\u001b[0mfillna\u001b[0m\u001b[1;33m(\u001b[0m\u001b[1;36m1\u001b[0m\u001b[1;33m)\u001b[0m\u001b[1;33m\u001b[0m\u001b[0m\n\u001b[0m\u001b[0;32m      2\u001b[0m \u001b[0mhek_293_go_terms_col_names\u001b[0m \u001b[1;33m=\u001b[0m \u001b[0mlist\u001b[0m\u001b[1;33m(\u001b[0m\u001b[0mhek_293_go_terms_df\u001b[0m\u001b[1;33m.\u001b[0m\u001b[0mswaplevel\u001b[0m\u001b[1;33m(\u001b[0m\u001b[1;36m0\u001b[0m\u001b[1;33m,\u001b[0m\u001b[1;36m1\u001b[0m\u001b[1;33m)\u001b[0m\u001b[1;33m.\u001b[0m\u001b[0mix\u001b[0m\u001b[1;33m[\u001b[0m\u001b[0mhek_293_go_terms_set\u001b[0m\u001b[1;33m]\u001b[0m\u001b[1;33m[\u001b[0m\u001b[1;34m'GO Term Description'\u001b[0m\u001b[1;33m]\u001b[0m\u001b[1;33m.\u001b[0m\u001b[0munstack\u001b[0m\u001b[1;33m(\u001b[0m\u001b[1;33m)\u001b[0m\u001b[1;33m.\u001b[0m\u001b[0mcolumns\u001b[0m\u001b[1;33m)\u001b[0m\u001b[1;33m\u001b[0m\u001b[0m\n\u001b[0;32m      3\u001b[0m \u001b[0mhek_293_go_terms_row_names\u001b[0m \u001b[1;33m=\u001b[0m \u001b[0mget_col_names\u001b[0m\u001b[1;33m(\u001b[0m\u001b[0mhek_293_go_terms_df\u001b[0m\u001b[1;33m.\u001b[0m\u001b[0mswaplevel\u001b[0m\u001b[1;33m(\u001b[0m\u001b[1;36m0\u001b[0m\u001b[1;33m,\u001b[0m\u001b[1;36m1\u001b[0m\u001b[1;33m)\u001b[0m\u001b[1;33m.\u001b[0m\u001b[0mix\u001b[0m\u001b[1;33m[\u001b[0m\u001b[0mhek_293_go_terms_set\u001b[0m\u001b[1;33m]\u001b[0m\u001b[1;33m[\u001b[0m\u001b[1;34m'GO Term Description'\u001b[0m\u001b[1;33m]\u001b[0m\u001b[1;33m.\u001b[0m\u001b[0munstack\u001b[0m\u001b[1;33m(\u001b[0m\u001b[1;33m)\u001b[0m\u001b[1;33m)\u001b[0m\u001b[1;33m\u001b[0m\u001b[0m\n\u001b[0;32m      4\u001b[0m \u001b[0mx\u001b[0m \u001b[1;33m=\u001b[0m \u001b[0mclusterGram\u001b[0m\u001b[1;33m(\u001b[0m\u001b[1;33m-\u001b[0m\u001b[1;36m1.\u001b[0m \u001b[1;33m*\u001b[0m \u001b[0mlog10\u001b[0m\u001b[1;33m(\u001b[0m\u001b[0mmatrix\u001b[0m\u001b[1;33m(\u001b[0m\u001b[0mhek_293_go_terms_values\u001b[0m\u001b[1;33m)\u001b[0m\u001b[1;33m)\u001b[0m\u001b[1;33m,\u001b[0m \u001b[0mhek_293_go_terms_col_names\u001b[0m\u001b[1;33m,\u001b[0m \u001b[0mhek_293_go_terms_row_names\u001b[0m \u001b[1;33m)\u001b[0m\u001b[1;33m\u001b[0m\u001b[0m\n\u001b[0;32m      5\u001b[0m \u001b[0msavefig\u001b[0m\u001b[1;33m(\u001b[0m\u001b[0mimg_path\u001b[0m \u001b[1;33m+\u001b[0m \u001b[1;34m\"go_ontology.pdf\"\u001b[0m\u001b[1;33m)\u001b[0m\u001b[1;33m\u001b[0m\u001b[0m\n",
        "\u001b[1;31mNameError\u001b[0m: name 'hek_293_go_terms_df' is not defined"
       ]
      }
     ],
     "prompt_number": 16
    },
    {
     "cell_type": "code",
     "collapsed": false,
     "input": [
      "human_bw_pos = [x + \".polyATrim.adapterTrim.rmRep.sorted.rg.rmDup.pos.bw\" for x in clip_df[clip_df['Species'] == 'hg19'].index]\n",
      "human_bw_neg = [x + \".polyATrim.adapterTrim.rmRep.sorted.rg.rmDup.neg.bw\" for x in clip_df[clip_df['Species'] == 'hg19'].index]\n",
      "human_bb = [x + \".polyATrim.adapterTrim.rmRep.sorted.rg.rmDup.peaks.fixed.bb\" for x in clip_df[clip_df['Species'] == 'hg19'].index]"
     ],
     "language": "python",
     "metadata": {},
     "outputs": [
      {
       "ename": "NameError",
       "evalue": "name 'clip_df' is not defined",
       "output_type": "pyerr",
       "traceback": [
        "\u001b[1;31m---------------------------------------------------------------------------\u001b[0m\n\u001b[1;31mNameError\u001b[0m                                 Traceback (most recent call last)",
        "\u001b[1;32m<ipython-input-18-c985a2196d60>\u001b[0m in \u001b[0;36m<module>\u001b[1;34m()\u001b[0m\n\u001b[1;32m----> 1\u001b[1;33m \u001b[0mhuman_bw_pos\u001b[0m \u001b[1;33m=\u001b[0m \u001b[1;33m[\u001b[0m\u001b[0mx\u001b[0m \u001b[1;33m+\u001b[0m \u001b[1;34m\".polyATrim.adapterTrim.rmRep.sorted.rg.rmDup.pos.bw\"\u001b[0m \u001b[1;32mfor\u001b[0m \u001b[0mx\u001b[0m \u001b[1;32min\u001b[0m \u001b[0mclip_df\u001b[0m\u001b[1;33m[\u001b[0m\u001b[0mclip_df\u001b[0m\u001b[1;33m[\u001b[0m\u001b[1;34m'Species'\u001b[0m\u001b[1;33m]\u001b[0m \u001b[1;33m==\u001b[0m \u001b[1;34m'hg19'\u001b[0m\u001b[1;33m]\u001b[0m\u001b[1;33m.\u001b[0m\u001b[0mindex\u001b[0m\u001b[1;33m]\u001b[0m\u001b[1;33m\u001b[0m\u001b[0m\n\u001b[0m\u001b[0;32m      2\u001b[0m \u001b[0mhuman_bw_neg\u001b[0m \u001b[1;33m=\u001b[0m \u001b[1;33m[\u001b[0m\u001b[0mx\u001b[0m \u001b[1;33m+\u001b[0m \u001b[1;34m\".polyATrim.adapterTrim.rmRep.sorted.rg.rmDup.neg.bw\"\u001b[0m \u001b[1;32mfor\u001b[0m \u001b[0mx\u001b[0m \u001b[1;32min\u001b[0m \u001b[0mclip_df\u001b[0m\u001b[1;33m[\u001b[0m\u001b[0mclip_df\u001b[0m\u001b[1;33m[\u001b[0m\u001b[1;34m'Species'\u001b[0m\u001b[1;33m]\u001b[0m \u001b[1;33m==\u001b[0m \u001b[1;34m'hg19'\u001b[0m\u001b[1;33m]\u001b[0m\u001b[1;33m.\u001b[0m\u001b[0mindex\u001b[0m\u001b[1;33m]\u001b[0m\u001b[1;33m\u001b[0m\u001b[0m\n\u001b[0;32m      3\u001b[0m \u001b[0mhuman_bb\u001b[0m \u001b[1;33m=\u001b[0m \u001b[1;33m[\u001b[0m\u001b[0mx\u001b[0m \u001b[1;33m+\u001b[0m \u001b[1;34m\".polyATrim.adapterTrim.rmRep.sorted.rg.rmDup.peaks.fixed.bb\"\u001b[0m \u001b[1;32mfor\u001b[0m \u001b[0mx\u001b[0m \u001b[1;32min\u001b[0m \u001b[0mclip_df\u001b[0m\u001b[1;33m[\u001b[0m\u001b[0mclip_df\u001b[0m\u001b[1;33m[\u001b[0m\u001b[1;34m'Species'\u001b[0m\u001b[1;33m]\u001b[0m \u001b[1;33m==\u001b[0m \u001b[1;34m'hg19'\u001b[0m\u001b[1;33m]\u001b[0m\u001b[1;33m.\u001b[0m\u001b[0mindex\u001b[0m\u001b[1;33m]\u001b[0m\u001b[1;33m\u001b[0m\u001b[0m\n",
        "\u001b[1;31mNameError\u001b[0m: name 'clip_df' is not defined"
       ]
      }
     ],
     "prompt_number": 18
    },
    {
     "cell_type": "markdown",
     "metadata": {},
     "source": [
      "Jasons request, finding genes with peaks in 3' UTR of given genes"
     ]
    },
    {
     "cell_type": "code",
     "collapsed": false,
     "input": [
      "utr3_regions = pybedtools.BedTool(\"/nas3/gpratt/clipper/clipper/data/regions/utr3.hg19.bed\")"
     ],
     "language": "python",
     "metadata": {},
     "outputs": [
      {
       "ename": "ValueError",
       "evalue": "File \"/nas3/gpratt/clipper/clipper/data/regions/utr3.hg19.bed\" does not exist",
       "output_type": "pyerr",
       "traceback": [
        "\u001b[1;31m---------------------------------------------------------------------------\u001b[0m\n\u001b[1;31mValueError\u001b[0m                                Traceback (most recent call last)",
        "\u001b[1;32m<ipython-input-19-7db8d95ee4dd>\u001b[0m in \u001b[0;36m<module>\u001b[1;34m()\u001b[0m\n\u001b[1;32m----> 1\u001b[1;33m \u001b[0mutr3_regions\u001b[0m \u001b[1;33m=\u001b[0m \u001b[0mpybedtools\u001b[0m\u001b[1;33m.\u001b[0m\u001b[0mBedTool\u001b[0m\u001b[1;33m(\u001b[0m\u001b[1;34m\"/nas3/gpratt/clipper/clipper/data/regions/utr3.hg19.bed\"\u001b[0m\u001b[1;33m)\u001b[0m\u001b[1;33m\u001b[0m\u001b[0m\n\u001b[0m",
        "\u001b[1;32m/nas3/yeolab/Software/Python-2.7.5/lib/python2.7/site-packages/pybedtools-0.6.2-py2.7-linux-x86_64.egg/pybedtools/bedtool.pyc\u001b[0m in \u001b[0;36m__init__\u001b[1;34m(self, fn, from_string)\u001b[0m\n\u001b[0;32m    364\u001b[0m             \u001b[1;32melif\u001b[0m \u001b[0misinstance\u001b[0m\u001b[1;33m(\u001b[0m\u001b[0mfn\u001b[0m\u001b[1;33m,\u001b[0m \u001b[0mbasestring\u001b[0m\u001b[1;33m)\u001b[0m\u001b[1;33m:\u001b[0m\u001b[1;33m\u001b[0m\u001b[0m\n\u001b[0;32m    365\u001b[0m                 \u001b[1;32mif\u001b[0m \u001b[1;32mnot\u001b[0m \u001b[0mos\u001b[0m\u001b[1;33m.\u001b[0m\u001b[0mpath\u001b[0m\u001b[1;33m.\u001b[0m\u001b[0mexists\u001b[0m\u001b[1;33m(\u001b[0m\u001b[0mfn\u001b[0m\u001b[1;33m)\u001b[0m\u001b[1;33m:\u001b[0m\u001b[1;33m\u001b[0m\u001b[0m\n\u001b[1;32m--> 366\u001b[1;33m                     \u001b[1;32mraise\u001b[0m \u001b[0mValueError\u001b[0m\u001b[1;33m(\u001b[0m\u001b[1;34m'File \"%s\" does not exist'\u001b[0m \u001b[1;33m%\u001b[0m \u001b[0mfn\u001b[0m\u001b[1;33m)\u001b[0m\u001b[1;33m\u001b[0m\u001b[0m\n\u001b[0m\u001b[0;32m    367\u001b[0m                 \u001b[0mself\u001b[0m\u001b[1;33m.\u001b[0m\u001b[0m_isbam\u001b[0m \u001b[1;33m=\u001b[0m \u001b[0misBAM\u001b[0m\u001b[1;33m(\u001b[0m\u001b[0mfn\u001b[0m\u001b[1;33m)\u001b[0m\u001b[1;33m\u001b[0m\u001b[0m\n\u001b[0;32m    368\u001b[0m \u001b[1;33m\u001b[0m\u001b[0m\n",
        "\u001b[1;31mValueError\u001b[0m: File \"/nas3/gpratt/clipper/clipper/data/regions/utr3.hg19.bed\" does not exist"
       ]
      }
     ],
     "prompt_number": 19
    },
    {
     "cell_type": "code",
     "collapsed": false,
     "input": [
      "#gets gene targets (for all imp datasets, ann asked me for this a while back)\n",
      "\n",
      "gencode = open(\"/nas3/yeolab/Genome/ensembl/gtf/gencode.v17.annotation.gtf\")\n",
      "\n",
      "gencode = pybedtools.BedTool(\"/nas3/yeolab/Genome/ensembl/gtf/gencode.v17.annotation.gtf\")\n",
      "converstion_dict = {}\n",
      "for interval in gencode:\n",
      "    try:\n",
      "        converstion_dict[interval.attrs['gene_id'].split(\".\")[0]] = interval.attrs['gene_name']\n",
      "    except:\n",
      "        pass"
     ],
     "language": "python",
     "metadata": {},
     "outputs": [],
     "prompt_number": "*"
    },
    {
     "cell_type": "code",
     "collapsed": false,
     "input": [
      "from collections import Counter"
     ],
     "language": "python",
     "metadata": {},
     "outputs": [],
     "prompt_number": "*"
    },
    {
     "cell_type": "code",
     "collapsed": false,
     "input": [
      "result_dict = {}\n",
      "track_items = \"\"\n",
      "for sample in clip_df[clip_df['Antibody'].str.contains(\"FXR2|PTB|PAPD5|DGCR8\")].index:\n",
      "    cur_sample = pybedtools.BedTool(sample + \".polyATrim.adapterTrim.rmRep.sorted.rg.rmDup.peaks.bed\")\n",
      "    cur_result = cur_sample.intersect(utr3_regions, u=True, s=True)\n",
      "    result_dict[sample] = Counter()\n",
      "    for interval in cur_result:\n",
      "        result_dict[sample][interval.name.split(\"_\")[0]] += 1\n",
      "    file_name = sample + \"_\" + \"_\".join(clip_df.ix[sample][['Cell Type', 'Antibody']]) + \".txt\"\n",
      "    print file_name\n",
      "    with open(file_name, 'w') as outfile:\n",
      "        for gene, count in result_dict[sample].most_common():\n",
      "            outfile.write(converstion_dict[gene.split(\".\")[0]] + \"\\t\" + str(count) +  \"\\n\")\n",
      "    track_items += (sample + \".polyATrim.adapterTrim.rmRep.sorted.rg.rmDup.peaks.fixed.bb \" + \n",
      "                    sample + \".polyATrim.adapterTrim.rmRep.sorted.rg.rmDup.pos.bw \" +\n",
      "                    sample + \".polyATrim.adapterTrim.rmRep.sorted.rg.rmDup.neg.bw \")"
     ],
     "language": "python",
     "metadata": {},
     "outputs": [],
     "prompt_number": "*"
    },
    {
     "cell_type": "code",
     "collapsed": false,
     "input": [
      "path = \"/nas3/gpratt/projects/public_clip/v2\"\n",
      "beds = {bed.split(\".\")[0] : pybedtools.BedTool(bed) for bed in glob.glob(os.path.join(path, \"*.bed\"))}\n",
      "beds_names = {name : [interval.name.split(\"_\")[0] for interval in bedtool] for name, bedtool in beds.items()}"
     ],
     "language": "python",
     "metadata": {},
     "outputs": [],
     "prompt_number": 31
    },
    {
     "cell_type": "code",
     "collapsed": false,
     "input": [
      "human_db = \"/nas3/yeolab/Genome/ensembl/gtf/gencode.v17.annotation.gtf.db\"\n",
      "db = gffutils.FeatureDB(human_db)\n",
      "genes = db.features_of_type('gene') \n",
      "type_dict = {}\n",
      "ont_dict = {}\n",
      "for gene in list(genes):\n",
      "    gene_id = gene.attributes['gene_id']\n",
      "    #gene_dict[gene_id] = {\"gene_type\" : \"\", \"ont\" : \"\"}\n",
      "    if 'gene_type' in dict(gene.attributes):\n",
      "        type_dict[gene_id] = gene.attributes['gene_type']\n",
      "    if 'ont' in dict(gene.attributes):\n",
      "        print gene.attributes['ont']\n",
      "        ont_dict[gene_id] = gene.attributes['ont'] \n"
     ],
     "language": "python",
     "metadata": {},
     "outputs": [],
     "prompt_number": "*"
    },
    {
     "cell_type": "code",
     "collapsed": false,
     "input": [
      "total_counts = pd.Series(Counter(type_dict.values()), name=\"Total\")"
     ],
     "language": "python",
     "metadata": {},
     "outputs": [],
     "prompt_number": "*"
    },
    {
     "cell_type": "code",
     "collapsed": false,
     "input": [
      "types = {}\n",
      "result = []\n",
      "for bed_name, gene_names in beds_names.items():\n",
      "    types[bed_name] = []\n",
      "    for gene_name in gene_names:\n",
      "        try:\n",
      "            types[bed_name].append(type_dict[gene_name])\n",
      "        except:\n",
      "            types[bed_name].append(\"error\")\n",
      "            \n",
      "    result.append(pd.Series(Counter(types[bed_name]), name=bed_name))\n"
     ],
     "language": "python",
     "metadata": {},
     "outputs": [],
     "prompt_number": "*"
    },
    {
     "cell_type": "code",
     "collapsed": false,
     "input": [
      "counts_df = pd.DataFrame(result + [total_counts]).T"
     ],
     "language": "python",
     "metadata": {},
     "outputs": [],
     "prompt_number": "*"
    },
    {
     "cell_type": "code",
     "collapsed": false,
     "input": [
      "results = {}\n",
      "for sample in types.keys():\n",
      "    sample_dict = {}\n",
      "    for name, count in Counter(types[sample]).items():\n",
      "        drawn = count\n",
      "        total = len(type_dict.values())\n",
      "        total_possible = Counter(type_dict.values())[name]\n",
      "        total_drawn = sum(Counter(types[sample]).values())\n",
      "        pVal = (hypergeom.sf(drawn, total, total_possible, total_drawn)) * len(Counter(types[sample]))\n",
      "\n",
      "        sample_dict[name] = min(pVal, 1)\n",
      "        results[sample + \"_pval\"] = pd.Series(sample_dict, name= sample + \"_p-value\")\n",
      "counts_df = p_vals.merge(counts_df, left_index=True, right_index=True)"
     ],
     "language": "python",
     "metadata": {},
     "outputs": [],
     "prompt_number": "*"
    },
    {
     "cell_type": "code",
     "collapsed": false,
     "input": [],
     "language": "python",
     "metadata": {},
     "outputs": [],
     "prompt_number": "*"
    },
    {
     "cell_type": "code",
     "collapsed": false,
     "input": [
      "HTML(counts_df.to_html())"
     ],
     "language": "python",
     "metadata": {},
     "outputs": [],
     "prompt_number": "*"
    },
    {
     "cell_type": "code",
     "collapsed": false,
     "input": [
      "HTML(clip_df.ix[\"SRR189775 \tSRR189776 \tSRR189777 \tSRR189778 \tSRR189779 \tSRR567525 \tSRR567526 SRR189781 \tSRR189780\".split()].to_html())"
     ],
     "language": "python",
     "metadata": {},
     "outputs": [],
     "prompt_number": "*"
    },
    {
     "cell_type": "code",
     "collapsed": false,
     "input": [
      "result = [srr + \".polyATrim.adapterTrim.rmRep.rg.sorted.rmDup.sorted.peaks.fixed.bb\" for srr in clip_df[clip_df.Species ==\"mm9\"].index]\n",
      "result += [srr + \".polyATrim.adapterTrim.rmRep.rg.sorted.rmDup.sorted.neg.bw\" for srr in clip_df[clip_df.Species ==\"mm9\"].index]\n",
      "result +=[srr + \".polyATrim.adapterTrim.rmRep.rg.sorted.rmDup.sorted.pos.bw\" for srr in clip_df[clip_df.Species ==\"mm9\"].index]\n",
      "print \" \".join(result)"
     ],
     "language": "python",
     "metadata": {},
     "outputs": [],
     "prompt_number": "*"
    },
    {
     "cell_type": "code",
     "collapsed": false,
     "input": [
      "result = [srr + \".polyATrim.adapterTrim.rmRep.rg.sorted.rmDup.sorted.peaks.fixed.bb\" for srr in clip_df[clip_df.Species ==\"hg19\"].index]\n",
      "result += [srr + \".polyATrim.adapterTrim.rmRep.rg.sorted.rmDup.sorted.neg.bw\" for srr in clip_df[clip_df.Species ==\"hg19\"].index]\n",
      "result +=[srr + \".polyATrim.adapterTrim.rmRep.rg.sorted.rmDup.sorted.pos.bw\" for srr in clip_df[clip_df.Species ==\"hg19\"].index]\n",
      "print \" \".join(result)"
     ],
     "language": "python",
     "metadata": {},
     "outputs": [],
     "prompt_number": "*"
    },
    {
     "cell_type": "code",
     "collapsed": false,
     "input": [
      "\" \".join([srr + \".polyATrim.adapterTrim.rmRep.rg.sorted.rmDup.sorted.peaks.bed\" for srr in clip_df[clip_df.Species ==\"mm9\"].index])\n"
     ],
     "language": "python",
     "metadata": {},
     "outputs": [],
     "prompt_number": "*"
    },
    {
     "cell_type": "code",
     "collapsed": false,
     "input": [
      "HTML(clip_df.ix[\"SRR527730 SRR189780\".split()].to_html())"
     ],
     "language": "python",
     "metadata": {},
     "outputs": [],
     "prompt_number": "*"
    },
    {
     "cell_type": "markdown",
     "metadata": {},
     "source": [
      "SRR527730.polyATrim.adapterTrim.rmRep.rg.sorted.rmDup.sorted.peaks.bed\n",
      "chr12\t53858577\t53858605\tENSG00000197111.11_9_10\t0.000568462640558\t+\t53858588\t53858592\n",
      "\n",
      "SRR189780.polyATrim.adapterTrim.rmRep.rg.sorted.rmDup.sorted.peaks.bed\n",
      "chr5\t180259281\t180259309\tENSG00000245060.2_1_17\t7.30503372316e-12\t+\t180259292\t180259296\n"
     ]
    }
   ],
   "metadata": {}
  }
 ]
}