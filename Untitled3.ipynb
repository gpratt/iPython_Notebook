{
 "metadata": {
  "name": ""
 },
 "nbformat": 3,
 "nbformat_minor": 0,
 "worksheets": [
  {
   "cells": [
    {
     "cell_type": "code",
     "collapsed": false,
     "input": [
      "profile_dir = get_ipython().profile_dir.location\n",
      "profile_dir"
     ],
     "language": "python",
     "metadata": {},
     "outputs": [
      {
       "metadata": {},
       "output_type": "pyout",
       "prompt_number": 1,
       "text": [
        "u'/home/gpratt/.ipython/profile_default'"
       ]
      }
     ],
     "prompt_number": 1
    },
    {
     "cell_type": "code",
     "collapsed": false,
     "input": [
      "import os\n",
      "tgt = os.path.join( profile_dir, 'static', 'custom')\n",
      "!git clone git@github.com:ipython-contrib/IPython-notebook-extensions.git $tgt"
     ],
     "language": "python",
     "metadata": {},
     "outputs": [
      {
       "output_type": "stream",
       "stream": "stdout",
       "text": [
        "Cloning into /home/gpratt/.ipython/profile_default/static/custom...\r\n"
       ]
      },
      {
       "output_type": "stream",
       "stream": "stdout",
       "text": [
        "Warning: untrusted X11 forwarding setup failed: xauth key data not generated\r",
        "\r\n",
        "Warning: No xauth data; using fake authentication data for X11 forwarding.\r",
        "\r\n"
       ]
      },
      {
       "output_type": "stream",
       "stream": "stdout",
       "text": [
        "remote: Reusing existing pack: 595, done.\u001b[K\r\n"
       ]
      },
      {
       "output_type": "stream",
       "stream": "stdout",
       "text": [
        "Receiving objects:   0% (1/595)   \r",
        "Receiving objects:   1% (6/595)   \r",
        "Receiving objects:   2% (12/595)   \r",
        "Receiving objects:   3% (18/595)   \r",
        "Receiving objects:   4% (24/595)   \r",
        "Receiving objects:   5% (30/595)   \r",
        "Receiving objects:   6% (36/595)   \r",
        "Receiving objects:   7% (42/595)   \r"
       ]
      },
      {
       "output_type": "stream",
       "stream": "stdout",
       "text": [
        "Receiving objects:   8% (48/595)   \r",
        "Receiving objects:   9% (54/595)   \r",
        "Receiving objects:  10% (60/595)   \r",
        "Receiving objects:  11% (66/595)   \r",
        "Receiving objects:  12% (72/595)   \r",
        "Receiving objects:  13% (78/595)   \r",
        "Receiving objects:  14% (84/595)   \r",
        "Receiving objects:  15% (90/595)   \r",
        "Receiving objects:  16% (96/595)   \r"
       ]
      },
      {
       "output_type": "stream",
       "stream": "stdout",
       "text": [
        "Receiving objects:  17% (102/595)   \r",
        "Receiving objects:  18% (108/595)   \r",
        "Receiving objects:  19% (114/595)   \r",
        "Receiving objects:  20% (119/595)   \r",
        "Receiving objects:  21% (125/595)   \r",
        "Receiving objects:  22% (131/595)   \r",
        "Receiving objects:  23% (137/595)   \r",
        "Receiving objects:  24% (143/595)   \r",
        "Receiving objects:  25% (149/595)   \r",
        "Receiving objects:  26% (155/595)   \r",
        "Receiving objects:  27% (161/595)   \r",
        "Receiving objects:  28% (167/595)   \r"
       ]
      },
      {
       "output_type": "stream",
       "stream": "stdout",
       "text": [
        "Receiving objects:  29% (173/595)   \r",
        "Receiving objects:  30% (179/595)   \r"
       ]
      },
      {
       "output_type": "stream",
       "stream": "stdout",
       "text": [
        "Receiving objects:  31% (185/595)   \r"
       ]
      },
      {
       "output_type": "stream",
       "stream": "stdout",
       "text": [
        "Receiving objects:  32% (191/595), 316.00 KiB | 572 KiB/s   \r"
       ]
      },
      {
       "output_type": "stream",
       "stream": "stdout",
       "text": [
        "Receiving objects:  32% (193/595), 1.11 MiB | 1.05 MiB/s   \r"
       ]
      },
      {
       "output_type": "stream",
       "stream": "stdout",
       "text": [
        "Receiving objects:  33% (197/595), 1.11 MiB | 1.05 MiB/s   \r"
       ]
      },
      {
       "output_type": "stream",
       "stream": "stdout",
       "text": [
        "Receiving objects:  34% (203/595), 1.11 MiB | 1.05 MiB/s   \r"
       ]
      },
      {
       "output_type": "stream",
       "stream": "stdout",
       "text": [
        "Receiving objects:  35% (209/595), 1.11 MiB | 1.05 MiB/s   \r",
        "Receiving objects:  36% (215/595), 1.11 MiB | 1.05 MiB/s   \r",
        "Receiving objects:  37% (221/595), 1.11 MiB | 1.05 MiB/s   \r",
        "Receiving objects:  38% (227/595), 1.11 MiB | 1.05 MiB/s   \r",
        "Receiving objects:  39% (233/595), 1.11 MiB | 1.05 MiB/s   \r",
        "Receiving objects:  40% (238/595), 1.11 MiB | 1.05 MiB/s   \r",
        "Receiving objects:  41% (244/595), 1.11 MiB | 1.05 MiB/s   \r",
        "Receiving objects:  42% (250/595), 1.11 MiB | 1.05 MiB/s   \r",
        "Receiving objects:  43% (256/595), 1.11 MiB | 1.05 MiB/s   \r"
       ]
      },
      {
       "output_type": "stream",
       "stream": "stdout",
       "text": [
        "Receiving objects:  44% (262/595), 1.11 MiB | 1.05 MiB/s   \r",
        "remote: Total 595 (delta 0), reused 0 (delta 0)\u001b[K\r\n",
        "Receiving objects:  45% (268/595), 1.11 MiB | 1.05 MiB/s   \r",
        "Receiving objects:  46% (274/595), 1.11 MiB | 1.05 MiB/s   \r",
        "Receiving objects:  47% (280/595), 1.11 MiB | 1.05 MiB/s   \r",
        "Receiving objects:  48% (286/595), 1.11 MiB | 1.05 MiB/s   \r",
        "Receiving objects:  49% (292/595), 1.11 MiB | 1.05 MiB/s   \r",
        "Receiving objects:  50% (298/595), 1.11 MiB | 1.05 MiB/s   \r",
        "Receiving objects:  51% (304/595), 1.11 MiB | 1.05 MiB/s   \r",
        "Receiving objects:  52% (310/595), 1.11 MiB | 1.05 MiB/s   \r",
        "Receiving objects:  53% (316/595), 1.11 MiB | 1.05 MiB/s   \r",
        "Receiving objects:  54% (322/595), 1.11 MiB | 1.05 MiB/s   \r",
        "Receiving objects:  55% (328/595), 1.11 MiB | 1.05 MiB/s   \r",
        "Receiving objects:  56% (334/595), 1.11 MiB | 1.05 MiB/s   \r",
        "Receiving objects:  57% (340/595), 1.11 MiB | 1.05 MiB/s   \r",
        "Receiving objects:  58% (346/595), 1.11 MiB | 1.05 MiB/s   \r",
        "Receiving objects:  59% (352/595), 1.11 MiB | 1.05 MiB/s   \r",
        "Receiving objects:  60% (357/595), 1.11 MiB | 1.05 MiB/s   \r",
        "Receiving objects:  61% (363/595), 1.11 MiB | 1.05 MiB/s   \r",
        "Receiving objects:  62% (369/595), 1.11 MiB | 1.05 MiB/s   \r",
        "Receiving objects:  63% (375/595), 1.11 MiB | 1.05 MiB/s   \r",
        "Receiving objects:  64% (381/595), 1.11 MiB | 1.05 MiB/s   \r",
        "Receiving objects:  65% (387/595), 1.11 MiB | 1.05 MiB/s   \r",
        "Receiving objects:  66% (393/595), 1.11 MiB | 1.05 MiB/s   \r",
        "Receiving objects:  67% (399/595), 1.11 MiB | 1.05 MiB/s   \r",
        "Receiving objects:  68% (405/595), 1.11 MiB | 1.05 MiB/s   \r",
        "Receiving objects:  69% (411/595), 1.11 MiB | 1.05 MiB/s   \r",
        "Receiving objects:  70% (417/595), 1.11 MiB | 1.05 MiB/s   \r",
        "Receiving objects:  71% (423/595), 1.11 MiB | 1.05 MiB/s   \r",
        "Receiving objects:  72% (429/595), 1.11 MiB | 1.05 MiB/s   \r",
        "Receiving objects:  73% (435/595), 1.11 MiB | 1.05 MiB/s   \r",
        "Receiving objects:  74% (441/595), 1.11 MiB | 1.05 MiB/s   \r",
        "Receiving objects:  75% (447/595), 1.11 MiB | 1.05 MiB/s   \r",
        "Receiving objects:  76% (453/595), 1.11 MiB | 1.05 MiB/s   \r",
        "Receiving objects:  77% (459/595), 1.11 MiB | 1.05 MiB/s   \r",
        "Receiving objects:  78% (465/595), 1.11 MiB | 1.05 MiB/s   \r",
        "Receiving objects:  79% (471/595), 1.11 MiB | 1.05 MiB/s   \r",
        "Receiving objects:  80% (476/595), 1.11 MiB | 1.05 MiB/s   \r",
        "Receiving objects:  81% (482/595), 1.11 MiB | 1.05 MiB/s   \r",
        "Receiving objects:  82% (488/595), 1.11 MiB | 1.05 MiB/s   \r",
        "Receiving objects:  83% (494/595), 1.11 MiB | 1.05 MiB/s   \r",
        "Receiving objects:  84% (500/595), 1.11 MiB | 1.05 MiB/s   \r",
        "Receiving objects:  85% (506/595), 1.11 MiB | 1.05 MiB/s   \r",
        "Receiving objects:  86% (512/595), 1.11 MiB | 1.05 MiB/s   \r",
        "Receiving objects:  87% (518/595), 1.11 MiB | 1.05 MiB/s   \r",
        "Receiving objects:  88% (524/595), 1.11 MiB | 1.05 MiB/s   \r",
        "Receiving objects:  89% (530/595), 1.11 MiB | 1.05 MiB/s   \r",
        "Receiving objects:  90% (536/595), 1.11 MiB | 1.05 MiB/s   \r",
        "Receiving objects:  91% (542/595), 1.11 MiB | 1.05 MiB/s   \r",
        "Receiving objects:  92% (548/595), 1.11 MiB | 1.05 MiB/s   \r",
        "Receiving objects:  93% (554/595), 1.11 MiB | 1.05 MiB/s   \r"
       ]
      },
      {
       "output_type": "stream",
       "stream": "stdout",
       "text": [
        "Receiving objects:  94% (560/595), 1.11 MiB | 1.05 MiB/s   \r",
        "Receiving objects:  95% (566/595), 1.11 MiB | 1.05 MiB/s   \r",
        "Receiving objects:  96% (572/595), 1.11 MiB | 1.05 MiB/s   \r",
        "Receiving objects:  97% (578/595), 1.11 MiB | 1.05 MiB/s   \r",
        "Receiving objects:  98% (584/595), 1.11 MiB | 1.05 MiB/s   \r",
        "Receiving objects:  99% (590/595), 1.11 MiB | 1.05 MiB/s   \r",
        "Receiving objects: 100% (595/595), 1.11 MiB | 1.05 MiB/s   \r",
        "Receiving objects: 100% (595/595), 2.44 MiB | 1.05 MiB/s, done.\r\n",
        "Resolving deltas:   0% (0/239)   \r",
        "Resolving deltas:   1% (3/239)   \r",
        "Resolving deltas:   2% (5/239)   \r",
        "Resolving deltas:   3% (8/239)   \r",
        "Resolving deltas:   5% (13/239)   \r",
        "Resolving deltas:  12% (30/239)   \r",
        "Resolving deltas:  13% (33/239)   \r",
        "Resolving deltas:  14% (34/239)   \r",
        "Resolving deltas:  15% (36/239)   \r",
        "Resolving deltas:  16% (39/239)   \r",
        "Resolving deltas:  20% (49/239)   \r",
        "Resolving deltas:  21% (52/239)   \r",
        "Resolving deltas:  22% (54/239)   \r",
        "Resolving deltas:  24% (58/239)   \r",
        "Resolving deltas:  27% (65/239)   \r",
        "Resolving deltas:  28% (69/239)   \r",
        "Resolving deltas:  29% (71/239)   \r",
        "Resolving deltas:  30% (72/239)   \r",
        "Resolving deltas:  38% (91/239)   \r",
        "Resolving deltas:  39% (94/239)   \r",
        "Resolving deltas:  40% (97/239)   \r",
        "Resolving deltas:  46% (110/239)   \r",
        "Resolving deltas:  51% (123/239)   \r",
        "Resolving deltas:  52% (125/239)   \r",
        "Resolving deltas:  53% (128/239)   \r",
        "Resolving deltas:  54% (131/239)   \r",
        "Resolving deltas:  56% (134/239)   \r",
        "Resolving deltas:  71% (170/239)   \r",
        "Resolving deltas:  72% (173/239)   \r",
        "Resolving deltas:  74% (177/239)   \r",
        "Resolving deltas:  78% (187/239)   \r",
        "Resolving deltas:  85% (205/239)   \r",
        "Resolving deltas:  86% (206/239)   \r",
        "Resolving deltas:  87% (210/239)   \r",
        "Resolving deltas:  88% (211/239)   \r",
        "Resolving deltas:  89% (215/239)   \r",
        "Resolving deltas:  90% (217/239)   \r",
        "Resolving deltas:  91% (218/239)   \r",
        "Resolving deltas:  93% (223/239)   \r",
        "Resolving deltas:  94% (226/239)   \r",
        "Resolving deltas:  95% (228/239)   \r",
        "Resolving deltas:  96% (230/239)   \r",
        "Resolving deltas: 100% (239/239)   \r",
        "Resolving deltas: 100% (239/239), done.\r\n"
       ]
      }
     ],
     "prompt_number": 3
    },
    {
     "cell_type": "code",
     "collapsed": false,
     "input": [
      "%cd $tgt\n",
      "!ls"
     ],
     "language": "python",
     "metadata": {},
     "outputs": [
      {
       "output_type": "stream",
       "stream": "stdout",
       "text": [
        "/home/gpratt/.ipython/profile_default/static/custom\n",
        "custom.example.js    hierarchical_collapse.js  README.md  styling  usability\r\n",
        "helper-functions.js  publishing\t\t       slidemode  testing  wiki-images\r\n"
       ]
      }
     ],
     "prompt_number": 4
    },
    {
     "cell_type": "code",
     "collapsed": false,
     "input": [
      "%%writefile custom.js\n",
      "// we want strict javascript that fails\n",
      "// on ambiguous syntax\n",
      "\"using strict\";\n",
      "\n",
      "// do not use notebook loaded  event as it is re-triggerd on\n",
      "// revert to checkpoint but this allow extesnsion to be loaded\n",
      "// late enough to work.\n",
      "//\n",
      "\n",
      "$([IPython.events]).on('app_initialized.NotebookApp', function(){\n",
      "\n",
      "\n",
      "    /**  Use path to js file relative to /static/ dir without leading slash, or\n",
      "     *  js extension.\n",
      "     *  Link directly to file is js extension.\n",
      "     *\n",
      "     *  first argument of require is a **list** that can contains several modules if needed.\n",
      "     **/\n",
      "\n",
      "    // require(['custom/noscroll']);\n",
      "    // require(['custom/clean_start'])\n",
      "    // require(['custom/toggle_all_line_number'])\n",
      "    // require(['custom/gist_it']);\n",
      "\n",
      "    /**\n",
      "     *  Link to entrypoint if extesnsion is a folder.\n",
      "     *  to be consistent with commonjs module, the entrypoint is main.js\n",
      "     *  here youcan also trigger a custom function on load that will do extra\n",
      "     *  action with the module if needed\n",
      "     **/\n",
      "     require(['custom/slidemode/main'],function(slidemode){\n",
      "    //     // do stuff\n",
      "     })\n",
      "\n",
      "});"
     ],
     "language": "python",
     "metadata": {},
     "outputs": [
      {
       "output_type": "stream",
       "stream": "stdout",
       "text": [
        "Writing custom.js\n"
       ]
      }
     ],
     "prompt_number": 5
    },
    {
     "cell_type": "code",
     "collapsed": false,
     "input": [],
     "language": "python",
     "metadata": {},
     "outputs": []
    }
   ],
   "metadata": {}
  }
 ]
}