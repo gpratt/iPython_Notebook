{
 "metadata": {
  "name": ""
 },
 "nbformat": 3,
 "nbformat_minor": 0,
 "worksheets": [
  {
   "cells": [
    {
     "cell_type": "code",
     "collapsed": false,
     "input": [
      "from collections import Counter, defaultdict, OrderedDict\n",
      "import csv\n",
      "import os\n",
      "import pickle\n",
      "\n",
      "from Bio import SeqIO\n",
      "import brewer2mpl\n",
      "from brewer2mpl import qualitative\n",
      "from IPython.core.display import HTML\n",
      "from IPython.display import Image\n",
      "import matplotlib.gridspec as gridspec\n",
      "import matplotlib.pyplot as plt\n",
      "from matplotlib_venn import venn2\n",
      "import pandas as pd\n",
      "import pybedtools\n",
      "import scipy.cluster\n",
      "import scipy.spatial\n",
      "from scipy.stats import ks_2samp\n",
      "import statsmodels.api as sm\n",
      "#import rpy2.interactive as r\n",
      "import gffutils\n",
      "\n",
      "from clipper.src.CLIP_analysis import assign_to_regions\n",
      "import clipper.src.CLIP_analysis as CLIP_analysis\n",
      "from gscripts.general.region_helpers import get_regions\n",
      "from gscripts.general.pybedtools_helpers import small_peaks, get_five_prime_end, get_three_prime_end, shuffle_and_adjust, closest_by_feature, make_ucsc_chr, rename_to_gene_from_dict\n",
      "\n",
      "pybedtools.set_tempdir(\"/nas3/scratch/gpratt/pybedtools_tmp\")\n",
      "img_dir = \"/nas3/gpratt/Dropbox/UPF1/Upf1 paper/computational_figures/clipseq\""
     ],
     "language": "python",
     "metadata": {},
     "outputs": [],
     "prompt_number": 2
    },
    {
     "cell_type": "code",
     "collapsed": false,
     "input": [
      "colors = qualitative.Dark2[4].mpl_colors\n",
      "color_dict = {name : color for name, color in zip([\"DEAA\", \"K498A\", \"Wild Type\", \"FLAG\"], colors)}"
     ],
     "language": "python",
     "metadata": {},
     "outputs": [],
     "prompt_number": 3
    },
    {
     "cell_type": "code",
     "collapsed": false,
     "input": [
      "bmap = brewer2mpl.get_map('Set1', 'qualitative', 8)\n",
      "colors = bmap.mpl_colors\n",
      "rcParams['axes.color_cycle'] = colors"
     ],
     "language": "python",
     "metadata": {},
     "outputs": [],
     "prompt_number": 4
    },
    {
     "cell_type": "code",
     "collapsed": false,
     "input": [
      "#for getting overlaps later...\n",
      "ensembl_regions= OrderedDict()\n",
      "ensembl_regions[\"cds\"] = \"CDS\"\n",
      "ensembl_regions[\"three_prime_utrs\"] = \"3' UTR\"\n",
      "ensembl_regions[\"five_prime_utrs\"] = \"5' UTR\"\n",
      "ensembl_regions[\"proxintron500\"] = \"Proximal\\nIntron\"\n",
      "ensembl_regions[\"distintron500\"] = \"Distal\\nIntron\""
     ],
     "language": "python",
     "metadata": {},
     "outputs": [],
     "prompt_number": 5
    },
    {
     "cell_type": "code",
     "collapsed": false,
     "input": [
      "path = \"/nas3/gpratt/projects/upf1/analysis/analysis_v2/clip/\""
     ],
     "language": "python",
     "metadata": {},
     "outputs": [],
     "prompt_number": 6
    },
    {
     "cell_type": "markdown",
     "metadata": {},
     "source": [
      "#Notebook Specific Helper Functions"
     ]
    },
    {
     "cell_type": "code",
     "collapsed": false,
     "input": [
      "#probably should quantify how much data I'm loosing...\n",
      "def plot_distance_from_region_combined(closest_bed):\n",
      "    \"\"\" wraps intersect bed, where region of interest is the thing to plot the distance from, and bedtool is the distance \n",
      "        returns closest bed object, plots everything on one plot\n",
      "        This is useful to add to clip_analysis\n",
      "    \"\"\"\n",
      "    \n",
      "    for name, closest in sorted(closest_bed.items()):\n",
      "        full_data = array([ int(result[-1]) for result in closest])\n",
      "        grr = full_data[full_data > -2000]\n",
      "        plottable_result = grr[grr < 2000]\n",
      "        y, x =  numpy.histogram(plottable_result, range=(-200, 200), bins=50, normed=True)\n",
      "        x = [(x[n] + x[n+1]) / 2 for n in range(len(x) - 1)]\n",
      "        plot(x,y, label=name, alpha=.7)\n",
      "    legend()\n",
      "    \n",
      "    \n",
      "def get_quantiles(lst, num_quantiles):\n",
      "    \"\"\" Gets quantiles based on range of list \"\"\"\n",
      "    \n",
      "    quantiles = [(max(rna_expression.UTR3) - min(rna_expression.UTR3)) / 4.0]\n",
      "    \n",
      "    for x in range(1,num_quantiles):\n",
      "        quantiles.append(quantiles[-1] + quantiles[0])\n",
      "        \n",
      "    return quantiles"
     ],
     "language": "python",
     "metadata": {},
     "outputs": [],
     "prompt_number": 7
    },
    {
     "cell_type": "code",
     "collapsed": false,
     "input": [
      "def run_ks_tests(bound, unbound):\n",
      "    \"\"\" Runs all possible combinations of ks-tests that make sense \"\"\"\n",
      "    print \"bound\"\n",
      "    for one, x in enumerate(bound):\n",
      "        for two, y in enumerate(bound):\n",
      "            print \"Quartile \" + str(one) , \"Quartile \" + str(two), ks_2samp(x,y)\n",
      "            \n",
      "    print \"\\nunbound\"\n",
      "    for one, x in enumerate(unbound):\n",
      "        for two, y in enumerate(unbound):\n",
      "            print \"Quartile \" + str(one) , \"Quartile \" + str(two), ks_2samp(x,y)\n",
      "    \n",
      "    print \"\\nBound vs unbound KS-Tests\"\n",
      "    count = 0 \n",
      "    for bound_quartile, unbound_quartile in zip(bound, unbound):\n",
      "        count += 1\n",
      "        print \"Bound vs unbound KS-Test, Quartile \", count, ks_2samp(bound_quartile,unbound_quartile)"
     ],
     "language": "python",
     "metadata": {},
     "outputs": [],
     "prompt_number": 8
    },
    {
     "cell_type": "code",
     "collapsed": false,
     "input": [
      "def rsquared(x, y):\n",
      "    \"\"\" Return R^2 where x and y are array-like.\"\"\"\n",
      "\n",
      "    slope, intercept, r_value, p_value, std_err = scipy.stats.linregress(x, y)\n",
      "    return r_value**2"
     ],
     "language": "python",
     "metadata": {},
     "outputs": [],
     "prompt_number": 9
    },
    {
     "cell_type": "code",
     "collapsed": false,
     "input": [
      "def plot_box_and_return_cdf(ax, rna_expression, groupby, plotter, bound_in_UTR3):\n",
      "    \"\"\"\n",
      "    \n",
      "    rna_expression - rna expression pandas dataframe\n",
      "    groupby - thing to group on, in 4 quartiles\n",
      "    plotter - thing to plot now that its been grouped\n",
      "    bound_in_UTR3 is the filter for either bound or unbound group as a list\n",
      "    returns cdfs for each group and xs (the range of the cdf) for each group\n",
      "    \"\"\"\n",
      "    plotter_array = []\n",
      "    labels = []\n",
      "    \n",
      "    xs = []\n",
      "    cdfs = []\n",
      "    group_sizes = []\n",
      "    for name, group in rna_expression.groupby(groupby):\n",
      "        \n",
      "        try:\n",
      "            total_group = len(group)\n",
      "            group = group[array([x in bound_in_UTR3 for x in group.WT_UTR3])]\n",
      "            group_sizes.append(\"Quantile \" + str(name) + \"\\nSize \" + str(len(group)))\n",
      "            print name, \"initial size\", total_group, \"filtered\", len(group), \"%binding\", len(group) / (total_group * 1.0) * 100\n",
      "            \n",
      "            plotter_array.append(group[plotter])\n",
      "        \n",
      "            ecdf = sm.distributions.ECDF(group[plotter])\n",
      "            x = np.linspace(min(group[plotter]), max(group[plotter]))\n",
      "            cdfs.append(ecdf(x))\n",
      "            xs.append(x)\n",
      "        except Exception as e:\n",
      "            print e\n",
      "            print \"group\", name, \"failled\", len(group)\n",
      "            \n",
      "    ax.boxplot(plotter_array)\n",
      "    ax.set_xticklabels(group_sizes)\n",
      "    return cdfs, xs"
     ],
     "language": "python",
     "metadata": {},
     "outputs": [],
     "prompt_number": 10
    },
    {
     "cell_type": "code",
     "collapsed": false,
     "input": [
      "def plot_everything(rna_expression, groupby, plotter):\n",
      "    \"\"\" plots all the quantile normalization stuff \"\"\"\n",
      "    fig = plt.figure(figsize=(20,20), facecolor='white')\n",
      "    full_grid = gridspec.GridSpec(3 + max(1, (len(set(groupby)) / 3)) ,3)\n",
      "    \n",
      "    ax_both = plt.subplot(full_grid[0, 0], title = \"Log A/B Distribution Both Length Quartile\", aspect=1)\n",
      "    cdfs_both, xs_both = plot_box_and_return_cdf(ax_both, rna_expression, groupby, plotter, bound_in_UTR3 = [0,1])\n",
      "    ax_both.set_ylim((-3,3))\n",
      "    \n",
      "    ax_bound = plt.subplot(full_grid[0, 1], title = \"Log A/B Distribution Bound Length Quartile\", aspect=1)\n",
      "    cdfs_bound, xs_bound = plot_box_and_return_cdf(ax_bound, rna_expression, groupby, plotter, bound_in_UTR3 = [1])\n",
      "    ax_bound.set_ylim((-3,3))\n",
      "    \n",
      "    ax_unbound = plt.subplot(full_grid[0, 2], title = \"Log A/B Distribution Unbound Length Quartile\", aspect=1)\n",
      "    cdfs_unbound, xs_unbound = plot_box_and_return_cdf(ax_unbound, rna_expression, groupby, plotter, bound_in_UTR3 = [0])\n",
      "    ax_unbound.set_ylim((-3,3))\n",
      "    \n",
      "    #plot all middle things\n",
      "    for count, (cdf, x, cdf_not, x_not) in enumerate(zip(cdfs_bound, xs_bound, cdfs_unbound, xs_unbound)):\n",
      "        #god this is hacky, sorry future gabe.  I'm trying to combine all my figures into one plot for easy expermentation, we'll see how it works\n",
      "        ax = plt.subplot(full_grid[(count + 3) / 3, (count + 3) % 3])\n",
      "        ax.plot(x,cdf, label=\"Bound Quartile \" + str(count))\n",
      "        ax.plot(x_not, cdf_not, label=\"Not Bound Quartile \\nLength Quartile\\n\" + str(count))\n",
      "        \n",
      "        #ax.set_xlim((-1,1))\n",
      "        ax.legend(loc=0)\n",
      "\n",
      "    ax = plt.subplot(full_grid[-1, 0])\n",
      "    count = 0\n",
      "    for x, (cdf, loc) in enumerate(zip(cdfs_both, xs_both)):\n",
      "        count += 1\n",
      "        ax.plot(loc,cdf, label=\" Both Quartile \\nLength Quartile\\n\" + str(x + 1))\n",
      "        \n",
      "    #ax.set_xlim((-1,1))\n",
      "    ax.legend(loc=0)\n",
      "        \n",
      "    ax = plt.subplot(full_grid[-1, 1])\n",
      "    count = 0\n",
      "    for x, (cdf, loc) in enumerate(zip(cdfs_bound, xs_bound)):\n",
      "        count += 1\n",
      "        ax.plot(loc,cdf, label=\" Bound Quartile \\nLength Quartile\\n\" + str(x + 1))\n",
      "        \n",
      "    #ax.set_xlim((-1,1))\n",
      "    ax.legend(loc=0)\n",
      "    \n",
      "    ax = plt.subplot(full_grid[-1, 2])\n",
      "    count = 0\n",
      "    for x, (cdf, loc) in enumerate(zip(cdfs_unbound, xs_unbound)):\n",
      "        ax.plot(loc,cdf, label=\"Unbound Quartile \\nLength Quartile\\n\" + str(x + 1))\n",
      "        \n",
      "    #ax.set_xlim((-1,1))\n",
      "    ax.legend(loc=0)\n",
      "    plt.tight_layout()\n",
      "    return cdfs_both, cdfs_bound, cdfs_unbound"
     ],
     "language": "python",
     "metadata": {},
     "outputs": [],
     "prompt_number": 11
    },
    {
     "cell_type": "markdown",
     "metadata": {},
     "source": [
      "#Gene Annotations"
     ]
    },
    {
     "cell_type": "code",
     "collapsed": false,
     "input": [
      "human_db = \"/nas3/yeolab/Genome/ensembl/gtf/gencode.v17.annotation.gtf.db\"\n",
      "db = gffutils.FeatureDB(human_db)"
     ],
     "language": "python",
     "metadata": {},
     "outputs": [
      {
       "ename": "OperationalError",
       "evalue": "no such column: version",
       "output_type": "pyerr",
       "traceback": [
        "\u001b[1;31m---------------------------------------------------------------------------\u001b[0m\n\u001b[1;31mOperationalError\u001b[0m                          Traceback (most recent call last)",
        "\u001b[1;32m<ipython-input-12-eb2c3c982ec5>\u001b[0m in \u001b[0;36m<module>\u001b[1;34m()\u001b[0m\n\u001b[0;32m      1\u001b[0m \u001b[0mhuman_db\u001b[0m \u001b[1;33m=\u001b[0m \u001b[1;34m\"/nas3/yeolab/Genome/ensembl/gtf/gencode.v17.annotation.gtf.db\"\u001b[0m\u001b[1;33m\u001b[0m\u001b[0m\n\u001b[1;32m----> 2\u001b[1;33m \u001b[0mdb\u001b[0m \u001b[1;33m=\u001b[0m \u001b[0mgffutils\u001b[0m\u001b[1;33m.\u001b[0m\u001b[0mFeatureDB\u001b[0m\u001b[1;33m(\u001b[0m\u001b[0mhuman_db\u001b[0m\u001b[1;33m)\u001b[0m\u001b[1;33m\u001b[0m\u001b[0m\n\u001b[0m",
        "\u001b[1;32m/nas3/yeolab/Software/Python-2.7.5/lib/python2.7/site-packages/gffutils-0.8-py2.7.egg/gffutils/interface.pyc\u001b[0m in \u001b[0;36m__init__\u001b[1;34m(self, dbfn, text_factory, default_encoding, keep_order)\u001b[0m\n\u001b[0;32m    114\u001b[0m             '''\n\u001b[0;32m    115\u001b[0m             \u001b[0mSELECT\u001b[0m \u001b[0mversion\u001b[0m\u001b[1;33m,\u001b[0m \u001b[0mdialect\u001b[0m \u001b[0mFROM\u001b[0m \u001b[0mmeta\u001b[0m\u001b[1;33m\u001b[0m\u001b[0m\n\u001b[1;32m--> 116\u001b[1;33m             ''')\n\u001b[0m\u001b[0;32m    117\u001b[0m         \u001b[0mversion\u001b[0m\u001b[1;33m,\u001b[0m \u001b[0mdialect\u001b[0m \u001b[1;33m=\u001b[0m \u001b[0mc\u001b[0m\u001b[1;33m.\u001b[0m\u001b[0mfetchone\u001b[0m\u001b[1;33m(\u001b[0m\u001b[1;33m)\u001b[0m\u001b[1;33m\u001b[0m\u001b[0m\n\u001b[0;32m    118\u001b[0m         \u001b[0mself\u001b[0m\u001b[1;33m.\u001b[0m\u001b[0mversion\u001b[0m \u001b[1;33m=\u001b[0m \u001b[0mversion\u001b[0m\u001b[1;33m\u001b[0m\u001b[0m\n",
        "\u001b[1;31mOperationalError\u001b[0m: no such column: version"
       ]
      }
     ],
     "prompt_number": 12
    },
    {
     "cell_type": "code",
     "collapsed": false,
     "input": [
      "(UTR3, UTR5, \n",
      " exons, genes, introns, CDS) = CLIP_analysis.get_genomic_regions(\"/nas3/gpratt/clipper/clipper/data/regions/\", \n",
      "                                                       \"hg19\", \n",
      "                                                       db).values()\n",
      "             "
     ],
     "language": "python",
     "metadata": {},
     "outputs": []
    },
    {
     "cell_type": "code",
     "collapsed": false,
     "input": [
      "UTR3_total_length = defaultdict(int)\n",
      "UTR5_total_length = defaultdict(int)\n",
      "CDS_total_length = defaultdict(int)\n",
      "exons_total_length = defaultdict(int)\n",
      "UTR3_counts = defaultdict(int)\n",
      "\n",
      "for interval in UTR3:\n",
      "    UTR3_total_length[interval.name] += interval.length\n",
      "    UTR3_counts[interval.name] += 1\n",
      "    \n",
      "    exons_total_length[interval.name] += interval.length\n",
      "\n",
      "UTR3_counts_series = pd.Series(UTR3_counts, name='UTR3_counts')\n",
      "UTR3_total_length_series = pd.Series(UTR3_total_length, name='UTR3')   \n",
      "\n",
      "for interval in UTR5:\n",
      "    UTR5_total_length[interval.name] += interval.length\n",
      "    exons_total_length[interval.name] += interval.length\n",
      "UTR5_total_length_series = pd.Series(UTR5_total_length, name='UTR5')   \n",
      "    \n",
      "for interval in CDS:\n",
      "    CDS_total_length[interval.name] += interval.length\n",
      "    exons_total_length[interval.name] += interval.length\n",
      "CDS_total_length_series = pd.Series(CDS_total_length, name='CDS')   \n",
      "\n",
      "exons_total_length_series = pd.Series(exons_total_length, name='exon')   "
     ],
     "language": "python",
     "metadata": {},
     "outputs": []
    },
    {
     "cell_type": "code",
     "collapsed": false,
     "input": [
      "nmd_counts = defaultdict(int)\n",
      "for transcript in db.features_of_type('transcript'):\n",
      "    if transcript.attributes['transcript_type'] == \"nonsense_mediated_decay\":\n",
      "        nmd_counts[transcript.attributes['gene_id']] += 1\n",
      "#adds nmd annotations based off of litetrature information\n",
      "\n",
      "nmd_series = pd.Series(nmd_counts, name=\"nmd_transcripts\")"
     ],
     "language": "python",
     "metadata": {},
     "outputs": [
      {
       "ename": "NameError",
       "evalue": "name 'db' is not defined",
       "output_type": "pyerr",
       "traceback": [
        "\u001b[1;31m---------------------------------------------------------------------------\u001b[0m\n\u001b[1;31mNameError\u001b[0m                                 Traceback (most recent call last)",
        "\u001b[1;32m<ipython-input-13-dcfd657bcf38>\u001b[0m in \u001b[0;36m<module>\u001b[1;34m()\u001b[0m\n\u001b[0;32m      1\u001b[0m \u001b[0mnmd_counts\u001b[0m \u001b[1;33m=\u001b[0m \u001b[0mdefaultdict\u001b[0m\u001b[1;33m(\u001b[0m\u001b[0mint\u001b[0m\u001b[1;33m)\u001b[0m\u001b[1;33m\u001b[0m\u001b[0m\n\u001b[1;32m----> 2\u001b[1;33m \u001b[1;32mfor\u001b[0m \u001b[0mtranscript\u001b[0m \u001b[1;32min\u001b[0m \u001b[0mdb\u001b[0m\u001b[1;33m.\u001b[0m\u001b[0mfeatures_of_type\u001b[0m\u001b[1;33m(\u001b[0m\u001b[1;34m'transcript'\u001b[0m\u001b[1;33m)\u001b[0m\u001b[1;33m:\u001b[0m\u001b[1;33m\u001b[0m\u001b[0m\n\u001b[0m\u001b[0;32m      3\u001b[0m     \u001b[1;32mif\u001b[0m \u001b[0mtranscript\u001b[0m\u001b[1;33m.\u001b[0m\u001b[0mattributes\u001b[0m\u001b[1;33m[\u001b[0m\u001b[1;34m'transcript_type'\u001b[0m\u001b[1;33m]\u001b[0m \u001b[1;33m==\u001b[0m \u001b[1;34m\"nonsense_mediated_decay\"\u001b[0m\u001b[1;33m:\u001b[0m\u001b[1;33m\u001b[0m\u001b[0m\n\u001b[0;32m      4\u001b[0m         \u001b[0mnmd_counts\u001b[0m\u001b[1;33m[\u001b[0m\u001b[0mtranscript\u001b[0m\u001b[1;33m.\u001b[0m\u001b[0mattributes\u001b[0m\u001b[1;33m[\u001b[0m\u001b[1;34m'gene_id'\u001b[0m\u001b[1;33m]\u001b[0m\u001b[1;33m]\u001b[0m \u001b[1;33m+=\u001b[0m \u001b[1;36m1\u001b[0m\u001b[1;33m\u001b[0m\u001b[0m\n\u001b[0;32m      5\u001b[0m \u001b[1;31m#adds nmd annotations based off of litetrature information\u001b[0m\u001b[1;33m\u001b[0m\u001b[1;33m\u001b[0m\u001b[0m\n",
        "\u001b[1;31mNameError\u001b[0m: name 'db' is not defined"
       ]
      }
     ],
     "prompt_number": 13
    },
    {
     "cell_type": "code",
     "collapsed": false,
     "input": [
      "gene_lengths = pd.concat([UTR3_counts_series, \n",
      "                          UTR3_total_length_series, \n",
      "                          UTR5_total_length_series, \n",
      "                          CDS_total_length_series, \n",
      "                          exons_total_length_series, \n",
      "                          nmd_series], axis=1).fillna(0)"
     ],
     "language": "python",
     "metadata": {},
     "outputs": [
      {
       "ename": "NameError",
       "evalue": "name 'UTR3_counts_series' is not defined",
       "output_type": "pyerr",
       "traceback": [
        "\u001b[1;31m---------------------------------------------------------------------------\u001b[0m\n\u001b[1;31mNameError\u001b[0m                                 Traceback (most recent call last)",
        "\u001b[1;32m<ipython-input-14-30376fbb7cc3>\u001b[0m in \u001b[0;36m<module>\u001b[1;34m()\u001b[0m\n\u001b[1;32m----> 1\u001b[1;33m gene_lengths = pd.concat([UTR3_counts_series, \n\u001b[0m\u001b[0;32m      2\u001b[0m                           \u001b[0mUTR3_total_length_series\u001b[0m\u001b[1;33m,\u001b[0m\u001b[1;33m\u001b[0m\u001b[0m\n\u001b[0;32m      3\u001b[0m                           \u001b[0mUTR5_total_length_series\u001b[0m\u001b[1;33m,\u001b[0m\u001b[1;33m\u001b[0m\u001b[0m\n\u001b[0;32m      4\u001b[0m                           \u001b[0mCDS_total_length_series\u001b[0m\u001b[1;33m,\u001b[0m\u001b[1;33m\u001b[0m\u001b[0m\n\u001b[0;32m      5\u001b[0m                           \u001b[0mexons_total_length_series\u001b[0m\u001b[1;33m,\u001b[0m\u001b[1;33m\u001b[0m\u001b[0m\n",
        "\u001b[1;31mNameError\u001b[0m: name 'UTR3_counts_series' is not defined"
       ]
      }
     ],
     "prompt_number": 14
    },
    {
     "cell_type": "markdown",
     "metadata": {},
     "source": [
      "#ORF Hunting"
     ]
    },
    {
     "cell_type": "code",
     "collapsed": false,
     "input": [
      "transcript_gene_dict = { transcript.attributes['transcript_id'] : transcript.attributes['gene_id'] \n",
      "                        for transcript in db.features_of_type('transcript')}"
     ],
     "language": "python",
     "metadata": {},
     "outputs": [
      {
       "ename": "NameError",
       "evalue": "name 'db' is not defined",
       "output_type": "pyerr",
       "traceback": [
        "\u001b[1;31m---------------------------------------------------------------------------\u001b[0m\n\u001b[1;31mNameError\u001b[0m                                 Traceback (most recent call last)",
        "\u001b[1;32m<ipython-input-15-6a7997b7891b>\u001b[0m in \u001b[0;36m<module>\u001b[1;34m()\u001b[0m\n\u001b[0;32m      1\u001b[0m transcript_gene_dict = { transcript.attributes['transcript_id'] : transcript.attributes['gene_id'] \n\u001b[1;32m----> 2\u001b[1;33m                         for transcript in db.features_of_type('transcript')}\n\u001b[0m",
        "\u001b[1;31mNameError\u001b[0m: name 'db' is not defined"
       ]
      }
     ],
     "prompt_number": 15
    },
    {
     "cell_type": "code",
     "collapsed": false,
     "input": [
      "filtered_UTR5 = UTR5.filter(lambda x: len(x) >0).saveas()\n",
      "filtered_UTR5.sequence(fi=\"/nas3/yeolab/Genome/ucsc/hg19/chromosomes/all.fa\", s=True, fo=\"five_prime_utr.fasta\")\n",
      "\n",
      "sequences = SeqIO.parse(open(\"five_prime_utr.fasta\"), 'fasta')\n",
      "five_prime_utr_dict = defaultdict(list)\n",
      "\n",
      "for five_prime_utr, sequence in zip(filtered_UTR5, sequences):\n",
      "    five_prime_utr_dict[five_prime_utr.name].append((five_prime_utr, sequence))\n",
      "\n",
      "for five_prime_utr in five_prime_utr_dict.values():\n",
      "    if five_prime_utr[0][0].strand == \"-\":\n",
      "        five_prime_utr.reverse()\n",
      "        \n",
      "\n",
      "uorf_annotations = \"\"\n",
      "#By visual examination everything is correct, need to check in detail before publishing...\n",
      "#should check number of annotations to see how well they match up with other reports...\n",
      "for five_prine_utr in five_prime_utr_dict.values():\n",
      "    for reading_frame in range(3):\n",
      "        first = True\n",
      "        in_uORF = False\n",
      "        offset = \"\"\n",
      "        offset_size = 0\n",
      "        for interval, sequence in five_prine_utr:\n",
      "            #does offsetting for all reading frames, but scanning starts at the first exon, so only offset that one\n",
      "            if first:\n",
      "                exon = sequence.seq[reading_frame:]\n",
      "                first = False\n",
      "            else:\n",
      "                exon = sequence.seq\n",
      "                \n",
      "            for x, amino_acid in enumerate((offset + exon).translate()):\n",
      "                if interval.strand == \"+\":\n",
      "                    start_of_codon = interval.start + offset_size + reading_frame + (x * 3)\n",
      "                    end_of_codon = interval.start + offset_size + reading_frame + ((x + 1) * 3)\n",
      "                else:\n",
      "                    end_of_codon = interval.end - offset_size - reading_frame - (x * 3) \n",
      "                    start_of_codon = interval.end - offset_size  - reading_frame - ((x + 1) * 3)\n",
      "                    \n",
      "                if amino_acid == \"M\" and not in_uORF:\n",
      "                    start_annotation = \"\\t\".join([interval.chrom, \n",
      "                                                  \"protein_coding\", \n",
      "                                                  \"uORF_start\", \n",
      "                                                  str(start_of_codon), \n",
      "                                                  str(end_of_codon), \n",
      "                                                  \".\", \n",
      "                                                  interval.strand, \n",
      "                                                  \".\", \n",
      "                                                  \"ID=uORF_start:%s;Parent=%s\" % (interval.name, \n",
      "                                                                                  interval.name)])\n",
      "                    uorf_start = x\n",
      "                    in_uORF = True\n",
      "                \n",
      "                if amino_acid == \"*\" and in_uORF:\n",
      "                    in_uORF = False \n",
      "                    stop_annotation = \"\\t\".join([interval.chrom, \n",
      "                                                 \"protein_coding\", \n",
      "                                                 \"uORF_end\", \n",
      "                                                 str(start_of_codon), \n",
      "                                                 str(end_of_codon), \".\", \n",
      "                                                 interval.strand, \n",
      "                                                 \".\", \n",
      "                                                 \"ID=uORF_end:%s;Parent=%s\" % (interval.name, \n",
      "                                                                               interval.name)])\n",
      "\n",
      "                    if x - uorf_start > 30:\n",
      "                        uorf_annotations += start_annotation + \"\\n\"\n",
      "                        uorf_annotations += stop_annotation + \"\\n\"\n",
      "     \n",
      "            offset_size = len(sequence.seq) % 3\n",
      "            offset = sequence.seq[offset_size * -1:]\n",
      "            \n",
      "uorf_annotations = pybedtools.BedTool(uorf_annotations, from_string=True).saveas()"
     ],
     "language": "python",
     "metadata": {},
     "outputs": [
      {
       "ename": "NameError",
       "evalue": "name 'UTR5' is not defined",
       "output_type": "pyerr",
       "traceback": [
        "\u001b[1;31m---------------------------------------------------------------------------\u001b[0m\n\u001b[1;31mNameError\u001b[0m                                 Traceback (most recent call last)",
        "\u001b[1;32m<ipython-input-16-6cb41307db5a>\u001b[0m in \u001b[0;36m<module>\u001b[1;34m()\u001b[0m\n\u001b[1;32m----> 1\u001b[1;33m \u001b[0mfiltered_UTR5\u001b[0m \u001b[1;33m=\u001b[0m \u001b[0mUTR5\u001b[0m\u001b[1;33m.\u001b[0m\u001b[0mfilter\u001b[0m\u001b[1;33m(\u001b[0m\u001b[1;32mlambda\u001b[0m \u001b[0mx\u001b[0m\u001b[1;33m:\u001b[0m \u001b[0mlen\u001b[0m\u001b[1;33m(\u001b[0m\u001b[0mx\u001b[0m\u001b[1;33m)\u001b[0m \u001b[1;33m>\u001b[0m\u001b[1;36m0\u001b[0m\u001b[1;33m)\u001b[0m\u001b[1;33m.\u001b[0m\u001b[0msaveas\u001b[0m\u001b[1;33m(\u001b[0m\u001b[1;33m)\u001b[0m\u001b[1;33m\u001b[0m\u001b[0m\n\u001b[0m\u001b[0;32m      2\u001b[0m \u001b[0mfiltered_UTR5\u001b[0m\u001b[1;33m.\u001b[0m\u001b[0msequence\u001b[0m\u001b[1;33m(\u001b[0m\u001b[0mfi\u001b[0m\u001b[1;33m=\u001b[0m\u001b[1;34m\"/nas3/yeolab/Genome/ucsc/hg19/chromosomes/all.fa\"\u001b[0m\u001b[1;33m,\u001b[0m \u001b[0ms\u001b[0m\u001b[1;33m=\u001b[0m\u001b[0mTrue\u001b[0m\u001b[1;33m,\u001b[0m \u001b[0mfo\u001b[0m\u001b[1;33m=\u001b[0m\u001b[1;34m\"five_prime_utr.fasta\"\u001b[0m\u001b[1;33m)\u001b[0m\u001b[1;33m\u001b[0m\u001b[0m\n\u001b[0;32m      3\u001b[0m \u001b[1;33m\u001b[0m\u001b[0m\n\u001b[0;32m      4\u001b[0m \u001b[0msequences\u001b[0m \u001b[1;33m=\u001b[0m \u001b[0mSeqIO\u001b[0m\u001b[1;33m.\u001b[0m\u001b[0mparse\u001b[0m\u001b[1;33m(\u001b[0m\u001b[0mopen\u001b[0m\u001b[1;33m(\u001b[0m\u001b[1;34m\"five_prime_utr.fasta\"\u001b[0m\u001b[1;33m)\u001b[0m\u001b[1;33m,\u001b[0m \u001b[1;34m'fasta'\u001b[0m\u001b[1;33m)\u001b[0m\u001b[1;33m\u001b[0m\u001b[0m\n\u001b[0;32m      5\u001b[0m \u001b[0mfive_prime_utr_dict\u001b[0m \u001b[1;33m=\u001b[0m \u001b[0mdefaultdict\u001b[0m\u001b[1;33m(\u001b[0m\u001b[0mlist\u001b[0m\u001b[1;33m)\u001b[0m\u001b[1;33m\u001b[0m\u001b[0m\n",
        "\u001b[1;31mNameError\u001b[0m: name 'UTR5' is not defined"
       ]
      }
     ],
     "prompt_number": 16
    },
    {
     "cell_type": "code",
     "collapsed": false,
     "input": [
      "def rename_to_gene_from_dict(interval, transcript_gene_dict):\n",
      "    interval[2] = interval.attrs['Parent']\n",
      "    interval.name = interval.attrs['Parent']\n",
      "    return interval\n",
      "\n",
      "uorf_ends = uorf_annotations.filter(lambda x: x[2] == \"uORF_end\").each(rename_to_gene_from_dict, transcript_gene_dict).saveas()\n",
      "uorf_counts = defaultdict(int)\n",
      "for interval in uorf_ends:\n",
      "    uorf_counts[interval.name] += 1\n",
      "\n",
      "uorf_counts_series = pd.Series(uorf_counts, name=\"uorf\").fillna(0)\n",
      "gene_lengths['uorf'] = uorf_counts_series\n"
     ],
     "language": "python",
     "metadata": {},
     "outputs": [
      {
       "ename": "NameError",
       "evalue": "name 'uorf_annotations' is not defined",
       "output_type": "pyerr",
       "traceback": [
        "\u001b[1;31m---------------------------------------------------------------------------\u001b[0m\n\u001b[1;31mNameError\u001b[0m                                 Traceback (most recent call last)",
        "\u001b[1;32m<ipython-input-17-8da997f03105>\u001b[0m in \u001b[0;36m<module>\u001b[1;34m()\u001b[0m\n\u001b[0;32m      4\u001b[0m     \u001b[1;32mreturn\u001b[0m \u001b[0minterval\u001b[0m\u001b[1;33m\u001b[0m\u001b[0m\n\u001b[0;32m      5\u001b[0m \u001b[1;33m\u001b[0m\u001b[0m\n\u001b[1;32m----> 6\u001b[1;33m \u001b[0muorf_ends\u001b[0m \u001b[1;33m=\u001b[0m \u001b[0muorf_annotations\u001b[0m\u001b[1;33m.\u001b[0m\u001b[0mfilter\u001b[0m\u001b[1;33m(\u001b[0m\u001b[1;32mlambda\u001b[0m \u001b[0mx\u001b[0m\u001b[1;33m:\u001b[0m \u001b[0mx\u001b[0m\u001b[1;33m[\u001b[0m\u001b[1;36m2\u001b[0m\u001b[1;33m]\u001b[0m \u001b[1;33m==\u001b[0m \u001b[1;34m\"uORF_end\"\u001b[0m\u001b[1;33m)\u001b[0m\u001b[1;33m.\u001b[0m\u001b[0meach\u001b[0m\u001b[1;33m(\u001b[0m\u001b[0mrename_to_gene_from_dict\u001b[0m\u001b[1;33m,\u001b[0m \u001b[0mtranscript_gene_dict\u001b[0m\u001b[1;33m)\u001b[0m\u001b[1;33m.\u001b[0m\u001b[0msaveas\u001b[0m\u001b[1;33m(\u001b[0m\u001b[1;33m)\u001b[0m\u001b[1;33m\u001b[0m\u001b[0m\n\u001b[0m\u001b[0;32m      7\u001b[0m \u001b[0muorf_counts\u001b[0m \u001b[1;33m=\u001b[0m \u001b[0mdefaultdict\u001b[0m\u001b[1;33m(\u001b[0m\u001b[0mint\u001b[0m\u001b[1;33m)\u001b[0m\u001b[1;33m\u001b[0m\u001b[0m\n\u001b[0;32m      8\u001b[0m \u001b[1;32mfor\u001b[0m \u001b[0minterval\u001b[0m \u001b[1;32min\u001b[0m \u001b[0muorf_ends\u001b[0m\u001b[1;33m:\u001b[0m\u001b[1;33m\u001b[0m\u001b[0m\n",
        "\u001b[1;31mNameError\u001b[0m: name 'uorf_annotations' is not defined"
       ]
      }
     ],
     "prompt_number": 17
    },
    {
     "cell_type": "markdown",
     "metadata": {},
     "source": [
      "Number of peaks called for each bedtool, this changed significantly from the last run, clipper isn't really good at being stable."
     ]
    },
    {
     "cell_type": "markdown",
     "metadata": {},
     "source": [
      "#Peak Stats / Region Descriptive Stats"
     ]
    },
    {
     "cell_type": "code",
     "collapsed": false,
     "input": [
      "path = \"/nas3/gpratt/projects/upf1/analysis/v3\"\n",
      "bedtools = {'DEAA' : pybedtools.BedTool(os.path.join(path, \"DEAA.peaks.bed\")),\n",
      "            'K498A': pybedtools.BedTool(os.path.join(path, 'K498A.peaks.bed')),\n",
      "            'WT'   : pybedtools.BedTool(os.path.join(path,'WT.peaks.bed'))\n",
      "         }\n",
      "\n",
      "bedtools_peak_center = {name : bedtool.each(small_peaks).saveas() for name, bedtool in bedtools.items()}"
     ],
     "language": "python",
     "metadata": {},
     "outputs": [],
     "prompt_number": 18
    },
    {
     "cell_type": "code",
     "collapsed": false,
     "input": [
      "for name, tool in bedtools.items():\n",
      "    print name, len(tool)"
     ],
     "language": "python",
     "metadata": {},
     "outputs": [
      {
       "output_type": "stream",
       "stream": "stdout",
       "text": [
        "WT "
       ]
      },
      {
       "output_type": "stream",
       "stream": "stdout",
       "text": [
        "12392\n",
        "K498A "
       ]
      },
      {
       "output_type": "stream",
       "stream": "stdout",
       "text": [
        "29025\n",
        "DEAA "
       ]
      },
      {
       "output_type": "stream",
       "stream": "stdout",
       "text": [
        "26848\n"
       ]
      }
     ],
     "prompt_number": 19
    },
    {
     "cell_type": "code",
     "collapsed": false,
     "input": [
      "%pylab"
     ],
     "language": "python",
     "metadata": {},
     "outputs": [
      {
       "output_type": "stream",
       "stream": "stdout",
       "text": [
        "Using matplotlib backend: module://IPython.kernel.zmq.pylab.backend_inline\n",
        "Populating the interactive namespace from numpy and matplotlib\n"
       ]
      },
      {
       "output_type": "stream",
       "stream": "stderr",
       "text": [
        "WARNING: pylab import has clobbered these variables: ['colors']\n",
        "`%pylab --no-import-all` prevents importing * from pylab and numpy\n"
       ]
      }
     ],
     "prompt_number": 20
    },
    {
     "cell_type": "code",
     "collapsed": false,
     "input": [
      "figsize(10,10)\n",
      "\n",
      "subplot(2,2,1)\n",
      "hist(gene_lengths.UTR3, bins=100, range=(0,6000))\n",
      "xlabel(\"3' UTR Length\")\n",
      "ylabel(\"Number of Genes with that length\")\n",
      "title(\"Histogram of 3' UTR Lengths\")\n",
      "\n",
      "subplot(2,2,2)\n",
      "hist(gene_lengths.UTR5, bins=100, range=(0,6000))\n",
      "xlabel(\"5' UTR Length\")\n",
      "title(\"Histogram of 5' UTR Lengths\")\n",
      "\n",
      "subplot(2,2,3)\n",
      "hist(gene_lengths.exon, bins=100, range=(0,6000))\n",
      "xlabel(\"Exon Length\")\n",
      "title(\"Histogram of Exon Lengths\")"
     ],
     "language": "python",
     "metadata": {},
     "outputs": [
      {
       "ename": "NameError",
       "evalue": "name 'gene_lengths' is not defined",
       "output_type": "pyerr",
       "traceback": [
        "\u001b[1;31m---------------------------------------------------------------------------\u001b[0m\n\u001b[1;31mNameError\u001b[0m                                 Traceback (most recent call last)",
        "\u001b[1;32m<ipython-input-21-12c23326fb67>\u001b[0m in \u001b[0;36m<module>\u001b[1;34m()\u001b[0m\n\u001b[0;32m      2\u001b[0m \u001b[1;33m\u001b[0m\u001b[0m\n\u001b[0;32m      3\u001b[0m \u001b[0msubplot\u001b[0m\u001b[1;33m(\u001b[0m\u001b[1;36m2\u001b[0m\u001b[1;33m,\u001b[0m\u001b[1;36m2\u001b[0m\u001b[1;33m,\u001b[0m\u001b[1;36m1\u001b[0m\u001b[1;33m)\u001b[0m\u001b[1;33m\u001b[0m\u001b[0m\n\u001b[1;32m----> 4\u001b[1;33m \u001b[0mhist\u001b[0m\u001b[1;33m(\u001b[0m\u001b[0mgene_lengths\u001b[0m\u001b[1;33m.\u001b[0m\u001b[0mUTR3\u001b[0m\u001b[1;33m,\u001b[0m \u001b[0mbins\u001b[0m\u001b[1;33m=\u001b[0m\u001b[1;36m100\u001b[0m\u001b[1;33m,\u001b[0m \u001b[0mrange\u001b[0m\u001b[1;33m=\u001b[0m\u001b[1;33m(\u001b[0m\u001b[1;36m0\u001b[0m\u001b[1;33m,\u001b[0m\u001b[1;36m6000\u001b[0m\u001b[1;33m)\u001b[0m\u001b[1;33m)\u001b[0m\u001b[1;33m\u001b[0m\u001b[0m\n\u001b[0m\u001b[0;32m      5\u001b[0m \u001b[0mxlabel\u001b[0m\u001b[1;33m(\u001b[0m\u001b[1;34m\"3' UTR Length\"\u001b[0m\u001b[1;33m)\u001b[0m\u001b[1;33m\u001b[0m\u001b[0m\n\u001b[0;32m      6\u001b[0m \u001b[0mylabel\u001b[0m\u001b[1;33m(\u001b[0m\u001b[1;34m\"Number of Genes with that length\"\u001b[0m\u001b[1;33m)\u001b[0m\u001b[1;33m\u001b[0m\u001b[0m\n",
        "\u001b[1;31mNameError\u001b[0m: name 'gene_lengths' is not defined"
       ]
      },
      {
       "metadata": {},
       "output_type": "display_data",
       "png": "[encoded data removed]",
       "text": [
        "<matplotlib.figure.Figure at 0x1f16cad0>"
       ]
      }
     ],
     "prompt_number": 21
    },
    {
     "cell_type": "code",
     "collapsed": false,
     "input": [
      "figsize(6,6)\n",
      "utr_len = log2(gene_lengths.UTR3)\n",
      "utr_len = utr_len[ ~np.isinf(utr_len)]\n",
      "\n",
      "x = hist(utr_len, bins=100)\n",
      "#ecdf = sm.distributions.ECDF(utr_len)\n",
      "#x = np.linspace(min(utr_len), max(utr_len))\n",
      "#hist(ecdf(x))"
     ],
     "language": "python",
     "metadata": {},
     "outputs": []
    },
    {
     "cell_type": "markdown",
     "metadata": {},
     "source": [
      "istogram of various genic region lengths, for sanity checks"
     ]
    },
    {
     "cell_type": "code",
     "collapsed": false,
     "input": [
      "jaccard_dict = {}\n",
      "for analysis_file_1, bedtool_1 in bedtools.items():\n",
      "    jaccard_dict[analysis_file_1.split(\".\")[0]] = {}\n",
      "    for analysis_file_2, bedtool_2 in bedtools.items():\n",
      "        jaccard_dict[analysis_file_1][analysis_file_2] = bedtool_1.jaccard(bedtool_2)['jaccard']\n",
      "\n",
      "jaccard_frame = pd.DataFrame(jaccard_dict)"
     ],
     "language": "python",
     "metadata": {},
     "outputs": []
    },
    {
     "cell_type": "code",
     "collapsed": false,
     "input": [
      "figsize(6,6)\n",
      "y_events = scipy.spatial.distance.pdist(jaccard_frame)\n",
      "Z_events = scipy.cluster.hierarchy.linkage(y_events)\n",
      "d_events = scipy.cluster.hierarchy.dendrogram(Z_events, orientation='right', distance_sort='descending', no_labels=True)\n",
      "event_order = d_events['leaves'][::-1]\n",
      "title(\"clustering of samples by jacard correlation\") "
     ],
     "language": "python",
     "metadata": {},
     "outputs": []
    },
    {
     "cell_type": "markdown",
     "metadata": {},
     "source": [
      "Ignore this, its clustering "
     ]
    },
    {
     "cell_type": "code",
     "collapsed": false,
     "input": [
      "figsize(6,6)\n",
      "matshow(jaccard_frame.as_matrix()[event_order,:][:,event_order], interpolation=\"nearest\")\n",
      "yticks(arange(len(jaccard_frame.index)), [ jaccard_frame.index[i] for i in event_order] )\n",
      "xticks(arange(len(jaccard_frame.columns)) + .5,[ jaccard_frame.columns[i] for i in event_order] , rotation=45)\n",
      "title(\"Jaccard similarity between all samples\")"
     ],
     "language": "python",
     "metadata": {},
     "outputs": []
    },
    {
     "cell_type": "markdown",
     "metadata": {},
     "source": [
      "Jaccard coeffecnt comparing similarity between all all different groups. wt is very different than anything.  "
     ]
    },
    {
     "cell_type": "code",
     "collapsed": false,
     "input": [
      "UTR3_intersections_gene_vs_peak = {name : bedtool.intersect(UTR3, s=True, wb=True).saveas() for name, bedtool in bedtools.items()}\n",
      "UTR3_intersections_peak_vs_gene = {name: bedtool.intersect(UTR3, s=True, u=True).saveas() for name, bedtool in bedtools.items()}"
     ],
     "language": "python",
     "metadata": {},
     "outputs": []
    },
    {
     "cell_type": "code",
     "collapsed": false,
     "input": [
      "print \"Name\", \"gene_vs_peak\", \"peak_vs_gene\"\n",
      "for name in UTR3_intersections_gene_vs_peak:\n",
      "    print name, len(UTR3_intersections_gene_vs_peak[name]), len(UTR3_intersections_peak_vs_gene[name])"
     ],
     "language": "python",
     "metadata": {},
     "outputs": []
    },
    {
     "cell_type": "markdown",
     "metadata": {},
     "source": [
      "Top is the number of UPF1 peaks that overlap with any 3' UTR, bottom is the number of 3' UTRs that overlap with a UPF1 peak, overlapping genes cause the differences in numbers.  "
     ]
    },
    {
     "cell_type": "markdown",
     "metadata": {},
     "source": [
      "#Add UPF1 Targets for both RIP and CLIP to the master DF\n",
      "(really I should be doing database joins on all of this stuff)"
     ]
    },
    {
     "cell_type": "code",
     "collapsed": false,
     "input": [
      "peak_distributions = {name +\"_target_count\": pd.Series(Counter([interval.name.split(\"_\")[0] for interval in bedtool]), name=name +\"_target_count\") for name, bedtool in bedtools.items()}\n",
      "\n",
      "for name, series in peak_distributions.items():\n",
      "    gene_lengths[name] = series\n",
      "    \n",
      "rip_results = \"/nas/nas0/gpratt/projects/upf1/analysis/notebook/\"\n",
      "wt_rip = pd.read_csv(rip_results + \"wt_upf1_rip.csv\", index_col=0)\n",
      "wt_rip.log2Ratio.name = \"WT_log2Ratio\"\n",
      "gene_lengths['WT_log2Ratio'] = wt_rip.log2Ratio\n",
      "\n",
      "gene_lengths = gene_lengths.fillna(0)"
     ],
     "language": "python",
     "metadata": {},
     "outputs": []
    },
    {
     "cell_type": "code",
     "collapsed": false,
     "input": [
      "for x, peak_distribution_tmp in enumerate(peak_distributions.items()):\n",
      "    name, peak_distribution = peak_distribution_tmp\n",
      "    subplot(4,2, x + 1)\n",
      "    hist(peak_distribution.values(), range=(1,16), bins=15)\n",
      "    title(name)"
     ],
     "language": "python",
     "metadata": {},
     "outputs": []
    },
    {
     "cell_type": "markdown",
     "metadata": {},
     "source": [
      "This is the number of peaks that bind to any given gene, most genes have only one peak, but its skewed vs control..."
     ]
    },
    {
     "cell_type": "markdown",
     "metadata": {},
     "source": [
      "Start doing RNA-seq analysis on the knockdown vs control"
     ]
    },
    {
     "cell_type": "markdown",
     "metadata": {},
     "source": [
      "#Old School RNA-seq Analysis \n",
      "(RNA-seq is broken / not reproducable, ignore this for the most part)"
     ]
    },
    {
     "cell_type": "code",
     "collapsed": false,
     "input": [
      "controls = \"\"\"318_UPF11_NoIndex_L004_R1.fq.polyATrim.adapterTrim.rmRep.sorted.RPKM  \n",
      "319_UPF12_NoIndex_L005_R1.fq.polyATrim.adapterTrim.rmRep.sorted.RPKM \n",
      "320_UPF13_NoIndex_L006_R1.fq.polyATrim.adapterTrim.rmRep.sorted.RPKM\"\"\".strip().split()\n",
      "\n",
      "knockdowns = \"\"\"321_Luc1_NoIndex_L007_R1.fq.polyATrim.adapterTrim.rmRep.sorted.RPKM\n",
      "322_Luc2_NoIndex_L008_R1.fq.polyATrim.adapterTrim.rmRep.sorted.RPKM\n",
      "323_Luc3_NoIndex_L001_R1.fq.polyATrim.adapterTrim.rmRep.sorted.RPKM\"\"\".strip().split()\n"
     ],
     "language": "python",
     "metadata": {},
     "outputs": []
    },
    {
     "cell_type": "code",
     "collapsed": false,
     "input": [
      "path = \"/nas3/gpratt/projects/upf1/analysis/analysis_v2/rna/\"\n",
      "control_dfs = {control.split(\".\")[0] : pd.read_csv(path + control, sep=\"\\t\", index_col=0, na_values=[\"na\"]) for control in controls}\n",
      "control_dfs = pd.concat(control_dfs.values(), keys=control_dfs.keys(), names=['experiment', 'gene']).dropna()\n",
      "\n",
      "knockdown_dfs = {knockdown.split(\".\")[0] : pd.read_csv(path + knockdown, sep=\"\\t\", index_col=0, na_values=[\"na\"]) for knockdown in knockdowns}\n",
      "knockdown_dfs = pd.concat(knockdown_dfs.values(), keys=knockdown_dfs.keys(), names=['experiment', 'gene']).dropna()"
     ],
     "language": "python",
     "metadata": {},
     "outputs": []
    },
    {
     "cell_type": "code",
     "collapsed": false,
     "input": [
      "def plot_rsq(df1, df2):\n",
      "    count = 0\n",
      "    figsize(10,10)\n",
      "    for x in range(len(df1.index.levels[0])):\n",
      "        for y in range(len(df2.index.levels[0])):\n",
      "            count += 1\n",
      "            subplot(len(df1.index.levels[0]),len(df2.index.levels[0]), count)\n",
      "            \n",
      "            combined = pd.concat([df1.RPKM[df1.index.levels[0][0]], df2.RPKM[df2.index.levels[0][1]]], \n",
      "                           join=\"inner\", axis=1, keys=['first', 'second'])\n",
      "            \n",
      "            \n",
      "            loglog(combined['first'], combined['second'], 'o', alpha=.5)\n",
      "            #xscale(\"log\")\n",
      "            #yscale(\"log\")\n",
      "            rsq = rsquared(combined['first'], combined['second'])\n",
      "            title(\" \".join(map(str, [x, y, rsq])))"
     ],
     "language": "python",
     "metadata": {},
     "outputs": []
    },
    {
     "cell_type": "code",
     "collapsed": false,
     "input": [
      "plot_rsq(knockdown_dfs, knockdown_dfs)"
     ],
     "language": "python",
     "metadata": {},
     "outputs": []
    },
    {
     "cell_type": "code",
     "collapsed": false,
     "input": [
      "plot_rsq(control_dfs, control_dfs)"
     ],
     "language": "python",
     "metadata": {},
     "outputs": []
    },
    {
     "cell_type": "code",
     "collapsed": false,
     "input": [
      "plot_rsq(knockdown_dfs, control_dfs)"
     ],
     "language": "python",
     "metadata": {},
     "outputs": []
    },
    {
     "cell_type": "code",
     "collapsed": false,
     "input": [
      "#Now average them together \n",
      "control_dfs.groupby(level=\"gene\").agg(mean).to_csv(\"controls_combined.rpkm\", sep=\"\\t\")\n",
      "knockdown_dfs.groupby(level=\"gene\").agg(mean).to_csv(\"knockdowns_combined.rpkm\", sep=\"\\t\")"
     ],
     "language": "python",
     "metadata": {},
     "outputs": []
    },
    {
     "cell_type": "markdown",
     "metadata": {},
     "source": [
      "Commented out because of warnings in processing, need to get patrick to fix"
     ]
    },
    {
     "cell_type": "code",
     "collapsed": false,
     "input": [
      "#outpath = path\n",
      "#for control in controls:\n",
      "#    for knockdown in knockdowns:\n",
      "#        cmd = \"perl /nas3/ppliu/gscripts/rnaseq_scripts/single_localZ.pl -b \" + path + control + \" -a \" + path + knockdown + \" -o foo -s hg19\"\n",
      "#        !$cmd\n",
      "#        cmd2 = \"cat foo  | awk 'BEGIN {FS=\\\"\\t\\\"; OFS=\\\"\\t\\\"} {print $1,$2,$3,$4,$5,$6,$7,$8}' > \" + outpath + knockdown.split(\".\")[0] + \"_vs_\" + control.split(\".\")[0]\n",
      "#        !$cmd2"
     ],
     "language": "python",
     "metadata": {},
     "outputs": []
    },
    {
     "cell_type": "code",
     "collapsed": false,
     "input": [
      "#cmd = \"perl /nas3/ppliu/gscripts/rnaseq_scripts/single_localZ.pl -b controls_combined.rpkm -a knockdowns_combined.rpkm -o foo -s hg19\"\n",
      "#!$cmd\n",
      "#cmd2 = \"cat foo  | awk 'BEGIN {FS=\\\"\\t\\\"; OFS=\\\"\\t\\\"} {print $1,$2,$3,$4,$5,$6,$7,$8}' > \" + outpath +  \"knockdown_vs_control\"\n",
      "#!$cmd2"
     ],
     "language": "python",
     "metadata": {},
     "outputs": [],
     "prompt_number": "*"
    },
    {
     "cell_type": "markdown",
     "metadata": {},
     "source": [
      "#Get Higher fedeality binding distributions"
     ]
    },
    {
     "cell_type": "code",
     "collapsed": false,
     "input": [
      "bound_dict = {}\n",
      "for sample in bedtools.keys():\n",
      "    cluster_regions_WT, region_sizes = assign_to_regions(tool=bedtools[sample], \n",
      "                                                      clusters=os.path.splitext(bedtools[sample].fn)[0], \n",
      "                                                      speciesFA=\"/nas3/yeolab/Genome/ucsc/hg19/chromosomes/all.fa\", \n",
      "                                                      regions_dir=\"/nas3/yeolab/Genome/ensembl/AS_STRUCTURE/hg19data4/\", \n",
      "                                                      regions=ensembl_regions, \n",
      "                                                      assigned_dir=\"/nas3/gpratt/iPython_Notebook/tmp/\", \n",
      "                                                      fasta_dir=\"/nas3/gpratt/iPython_Notebook/tmp/\", \n",
      "                                                      species=\"hg19\", nrand = 0, getseq=False)\n",
      "    \n",
      "    bound_dict[sample + '_UTR3'] = Counter([interval.name.split(\"_\")[0] for interval in cluster_regions_WT['three_prime_utrs']['real']])\n",
      "    bound_dict[sample + '_CDS'] = Counter([interval.name.split(\"_\")[0] for interval in cluster_regions_WT['cds']['real']])        \n",
      "    bound_dict[sample + '_UTR5'] = Counter([interval.name.split(\"_\")[0] for interval in cluster_regions_WT['five_prime_utrs']['real']])\n",
      "\n",
      "bound_frame = pd.DataFrame(bound_dict)"
     ],
     "language": "python",
     "metadata": {},
     "outputs": [
      {
       "output_type": "stream",
       "stream": "stdout",
       "text": [
        "There are a total 11818 clusters I'll examine\n",
        "For region: cds I found 3446 that overlap and 7838 that don't"
       ]
      },
      {
       "output_type": "stream",
       "stream": "stdout",
       "text": [
        "\n",
        "For region: three_prime_utrs I found 5347 that overlap and 2491 that don't"
       ]
      },
      {
       "output_type": "stream",
       "stream": "stdout",
       "text": [
        "\n",
        "For region: five_prime_utrs I found 315 that overlap and 2176 that don't"
       ]
      }
     ],
     "prompt_number": "*"
    },
    {
     "cell_type": "code",
     "collapsed": false,
     "input": [
      "master_df = pd.merge(bound_frame, gene_lengths, left_index=True, right_index=True, how='outer')"
     ],
     "language": "python",
     "metadata": {},
     "outputs": [],
     "prompt_number": "*"
    },
    {
     "cell_type": "code",
     "collapsed": false,
     "input": [
      "#tmp = pd.read_csv(\"/nas3/gpratt/projects/upf1/analysis/analysis_v2/rna/UPF1_vs_control.csv\", \n",
      "#                          sep=\",\",\n",
      "#                          index_col=0,\n",
      "#                          header=0)\n",
      "rnaseq_df = pd.read_csv(\"/nas3/gpratt/projects/upf1/analysis/analysis_v2/cuffdiff/gene_exp.diff\", sep=\"\\t\", index_col=0)\n",
      "rna_expression = pd.merge(rnaseq_df, master_df, left_index=True, right_index=True, how='outer')"
     ],
     "language": "python",
     "metadata": {},
     "outputs": [],
     "prompt_number": "*"
    },
    {
     "cell_type": "markdown",
     "metadata": {},
     "source": [
      "#Correlate RNA-seq with CLIP-seq data"
     ]
    },
    {
     "cell_type": "markdown",
     "metadata": {},
     "source": [
      "Seperate data by RNA expression"
     ]
    },
    {
     "cell_type": "code",
     "collapsed": false,
     "input": [
      "sig_frame = rna_expression[rna_expression.significant == \"yes\"]\n",
      "not_sig_frame = rna_expression[rna_expression.significant == \"no\"]\n",
      "stabalized_frame = sig_frame[(sig_frame['log2(fold_change)'] < 0)]\n",
      "destabalized_frame = sig_frame[sig_frame['log2(fold_change)'] > 0]\n",
      "#stabalized is negative, destablized is positive\n",
      "print len(sig_frame)\n",
      "print len(not_sig_frame)\n",
      "print len(stabalized_frame)\n",
      "print len(destabalized_frame)"
     ],
     "language": "python",
     "metadata": {},
     "outputs": [],
     "prompt_number": "*"
    },
    {
     "cell_type": "markdown",
     "metadata": {},
     "source": [
      "These numbers are asking if there is over-enrichment or under-enrichment of binding in stabalized or destabalized fractions of the rna-seq data  \n",
      "\n",
      "There appears to be an over-enrichement in everything (not good) except deaa has an under enrichement in the stabalized frame.  Which makes sense, stabalized binding -> less binding of the mutant (except the RNA-seq data is in WT, not in mutant)"
     ]
    },
    {
     "cell_type": "code",
     "collapsed": false,
     "input": [
      "print sum(array(rna_expression.WT_UTR3 >= 1) | array(rna_expression.WT_UTR5 >= 1) | array(rna_expression.WT_CDS >= 1)) / float(len(rna_expression))"
     ],
     "language": "python",
     "metadata": {},
     "outputs": [],
     "prompt_number": "*"
    },
    {
     "cell_type": "code",
     "collapsed": false,
     "input": [
      "print sum(array(stabalized_frame.WT_UTR3 >= 1) | array(stabalized_frame.WT_UTR5 >= 1) | array(stabalized_frame.WT_CDS >= 1)) / float(len(stabalized_frame))\n",
      "print sum(array(destabalized_frame.WT_UTR3 >= 1) | array(destabalized_frame.WT_UTR5 >= 1) | array(destabalized_frame.WT_CDS >= 1)) / float(len(destabalized_frame))"
     ],
     "language": "python",
     "metadata": {},
     "outputs": [],
     "prompt_number": "*"
    },
    {
     "cell_type": "code",
     "collapsed": false,
     "input": [
      "print sum(array(stabalized_frame.DEAA_CDS >= 1) | array(stabalized_frame.DEAA_UTR3 >= 1) | array(stabalized_frame.DEAA_UTR5 >= 1)) / float(len(stabalized_frame))\n",
      "print sum(array(destabalized_frame.DEAA_CDS >= 1) | array(destabalized_frame.DEAA_UTR3 >= 1) | array(destabalized_frame.DEAA_UTR5 >= 1)) / float(len(destabalized_frame))"
     ],
     "language": "python",
     "metadata": {},
     "outputs": [],
     "prompt_number": "*"
    },
    {
     "cell_type": "code",
     "collapsed": false,
     "input": [
      "print sum(array(stabalized_frame.K498A_CDS >= 1) | array(stabalized_frame.K498A_CDS >= 1) | array(stabalized_frame.K498A_CDS >= 1)) / float(len(stabalized_frame))\n",
      "print sum(array(destabalized_frame.K498A_CDS >= 1) | array(destabalized_frame.K498A_CDS >= 1) | array(destabalized_frame.K498A_CDS >= 1)) / float(len(destabalized_frame))"
     ],
     "language": "python",
     "metadata": {},
     "outputs": [],
     "prompt_number": "*"
    },
    {
     "cell_type": "code",
     "collapsed": false,
     "input": [
      "print sum(sig_frame.WT_CDS) + sum(sig_frame.WT_UTR3) + sum(sig_frame.WT_UTR5) \n",
      "print sum(sig_frame.DEAA_CDS) + sum(sig_frame.DEAA_UTR3) + sum(sig_frame.DEAA_UTR5)\n",
      "print sum(sig_frame.K498A_CDS) + sum(sig_frame.K498A_UTR3) + sum(sig_frame.K498A_UTR5)\n",
      "\n",
      "print (sum(sig_frame.WT_CDS) + sum(sig_frame.WT_UTR3) + sum(sig_frame.WT_UTR5)) / (sum(rna_expression.WT_CDS) + sum(rna_expression.WT_UTR3) + sum(rna_expression.WT_UTR5) )\n",
      "print (sum(sig_frame.DEAA_CDS) + sum(sig_frame.DEAA_UTR3) + sum(sig_frame.DEAA_UTR5)) / (sum(rna_expression.DEAA_CDS) + sum(rna_expression.DEAA_UTR3) + sum(rna_expression.DEAA_UTR5) )\n",
      "print (sum(sig_frame.K498A_CDS) + sum(sig_frame.K498A_UTR3) + sum(sig_frame.K498A_UTR5)) / (sum(rna_expression.K498A_CDS) + sum(rna_expression.K498A_UTR3) + sum(rna_expression.K498A_UTR5) )"
     ],
     "language": "python",
     "metadata": {},
     "outputs": [],
     "prompt_number": "*"
    },
    {
     "cell_type": "markdown",
     "metadata": {},
     "source": [
      "Starting RNA-seq analysis, basic descriptives first, plotting sig changes from localz"
     ]
    },
    {
     "cell_type": "code",
     "collapsed": false,
     "input": [
      "loglog(not_sig_frame.value_1, not_sig_frame.value_2, 'o', alpha=.3, label=\"Not Significant\")\n",
      "loglog(sig_frame.value_1, sig_frame.value_2, 'o', alpha=.3, label=\"Significant\")\n",
      "xlabel(\"Control\")\n",
      "ylabel(\"Knockdown\")\n",
      "legend()\n",
      "\n",
      "print rsquared(rna_expression.value_1, rna_expression.value_2)"
     ],
     "language": "python",
     "metadata": {},
     "outputs": [],
     "prompt_number": "*"
    },
    {
     "cell_type": "markdown",
     "metadata": {},
     "source": [
      "Here we are looking at the expression level changes of specific genes"
     ]
    },
    {
     "cell_type": "markdown",
     "metadata": {},
     "source": [
      "UPF1 is sig nocked down, but doesn't look great\n",
      "\n",
      "We expect to have RPKM_A (the knockdown be higher)"
     ]
    },
    {
     "cell_type": "code",
     "collapsed": false,
     "input": [
      "figsize(16,6)\n",
      "subplot(1,3,1)\n",
      "hist(stabalized_frame.peak_count, bins=16)\n",
      "title(\"Number of peaks in upregulated genes\")\n",
      "\n",
      "print sum(stabalized_frame.peak_count)\n",
      "\n",
      "subplot(1,3,2)\n",
      "hist(destabalized_frame.peak_count, bins=13)\n",
      "title(\"Number of peaks in downregulated genes\")\n",
      "\n",
      "print sum(destabalized_frame.peak_count)\n",
      "subplot(1,3,3)\n",
      "hist(not_sig_frame.peak_count, bins=16)\n",
      "title(\"Number of peaks in not significant genes\")\n",
      "\n",
      "print sum(not_sig_frame.peak_count)"
     ],
     "language": "python",
     "metadata": {},
     "outputs": [],
     "prompt_number": "*"
    },
    {
     "cell_type": "code",
     "collapsed": false,
     "input": [
      "len(rna_expression.nmd_transcripts[(rna_expression.nmd_transcripts > 0)])"
     ],
     "language": "python",
     "metadata": {},
     "outputs": [],
     "prompt_number": "*"
    },
    {
     "cell_type": "code",
     "collapsed": false,
     "input": [
      "len(rna_expression.nmd_transcripts[(rna_expression.peak_count > 0)])"
     ],
     "language": "python",
     "metadata": {},
     "outputs": [],
     "prompt_number": "*"
    },
    {
     "cell_type": "code",
     "collapsed": false,
     "input": [
      "bound_and_nmd = len(rna_expression.nmd_transcripts[(rna_expression.nmd_transcripts > 0) & (rna_expression.peak_count > 0)])\n",
      "not_bound_and_nmd = len(rna_expression.nmd_transcripts[(rna_expression.nmd_transcripts == 0) & (rna_expression.peak_count > 0)])\n",
      "bound_and_not_nmd = len(rna_expression.nmd_transcripts[(rna_expression.nmd_transcripts > 0) & (rna_expression.peak_count == 0)])\n",
      "not_bound_and_not_nmd = len(rna_expression.nmd_transcripts[(rna_expression.nmd_transcripts == 0) & (rna_expression.peak_count == 0)])"
     ],
     "language": "python",
     "metadata": {},
     "outputs": [],
     "prompt_number": "*"
    },
    {
     "cell_type": "code",
     "collapsed": false,
     "input": [
      "print bound_and_nmd\n",
      "print not_bound_and_nmd\n",
      "print bound_and_not_nmd\n",
      "print not_bound_and_not_nmd"
     ],
     "language": "python",
     "metadata": {},
     "outputs": [],
     "prompt_number": "*"
    },
    {
     "cell_type": "code",
     "collapsed": false,
     "input": [
      "254 - tmd_transcript and contains peak\n",
      "\n",
      "5233 - total number of nmd transcripts \n"
     ],
     "language": "python",
     "metadata": {},
     "outputs": [],
     "prompt_number": "*"
    },
    {
     "cell_type": "markdown",
     "metadata": {},
     "source": [
      "Histogram of number of peaks in different gene catagories.  Stabalized (expression up in KD) destabalized (expression down in KD) and not significant (expression not changing, used as a control) please note the differences in scale\n",
      "\n",
      "Number of peaks doesn't really appear to have correlation with stabalization or anything really... Should just do a small \n",
      "multiple comparison"
     ]
    },
    {
     "cell_type": "code",
     "collapsed": false,
     "input": [
      "figsize(6,10)\n",
      "\n",
      "subplot(3,1,1)\n",
      "scatter(stabalized_frame.peak_count, stabalized_frame.UTR3, alpha=.5)\n",
      "xlabel(\"Peak Count\")\n",
      "ylabel(\"3' UTR Length\")\n",
      "\n",
      "subplot(3,1,2)\n",
      "scatter(stabalized_frame.peak_count, stabalized_frame.exon, alpha=.5)\n",
      "xlabel(\"Peak Count\")\n",
      "ylabel(\"Exon Length\")\n",
      "\n",
      "subplot(3,1,3)\n",
      "scatter(stabalized_frame.peak_count, stabalized_frame.UTR5, alpha=.5)\n",
      "xlabel(\"Peak Count\")\n",
      "ylabel(\"5' UTR Length\")"
     ],
     "language": "python",
     "metadata": {},
     "outputs": [],
     "prompt_number": "*"
    },
    {
     "cell_type": "markdown",
     "metadata": {},
     "source": [
      "Number of binding events vs various genic features, no correlation by eye"
     ]
    },
    {
     "cell_type": "code",
     "collapsed": false,
     "input": [
      "figsize(10,10)\n",
      "\n",
      "subplot(3,1,1)\n",
      "scatter(stabalized_frame['log2(fold_change)'], stabalized_frame.UTR5, marker='o', alpha=.5, )\n",
      "xlabel(\"Knockdown RPKM\")\n",
      "ylabel(\"5' UTR Length\")\n",
      "\n",
      "subplot(3,1,2)\n",
      "scatter(stabalized_frame['log2(fold_change)'], stabalized_frame.UTR3, marker='o', alpha=.5, )\n",
      "xlabel(\"Knockdown RPKM\")\n",
      "ylabel(\"3' UTR Length\")\n",
      "\n",
      "subplot(3,1,3)\n",
      "scatter(stabalized_frame['log2(fold_change)'], stabalized_frame.exon, marker='o', alpha=.5, )\n",
      "xlabel(\"Knockdown RPKM\")\n",
      "ylabel(\"Exon Length\")\n"
     ],
     "language": "python",
     "metadata": {},
     "outputs": [],
     "prompt_number": "*"
    },
    {
     "cell_type": "markdown",
     "metadata": {},
     "source": [
      "Plots of control and knowdown rpkms vs 3' UTR, 5'UTR and exon length specifically for genes that are stabalized (expression goes up in UPF1 KD)"
     ]
    },
    {
     "cell_type": "code",
     "collapsed": false,
     "input": [
      "plot(not_sig_frame['log2(fold_change)'], not_sig_frame.exon, \"o\", alpha=.3, label=\"Not Significant\" )\n",
      "plot(sig_frame['log2(fold_change)'], sig_frame.exon, \"o\", alpha=.3, label=\"Significant\")\n",
      "legend()\n",
      "xlabel(\"log2fold change\")\n",
      "ylabel(\"exon size\")"
     ],
     "language": "python",
     "metadata": {},
     "outputs": [],
     "prompt_number": "*"
    },
    {
     "cell_type": "markdown",
     "metadata": {},
     "source": [
      "Plots of RPKM in knockdown vs exon length for all 4 possible combinations of knockdown, control pairs\n",
      "\n",
      "Significant is significantly regulated as infered by local-z score"
     ]
    },
    {
     "cell_type": "code",
     "collapsed": false,
     "input": [
      "plot(not_sig_frame['log2(fold_change)'], not_sig_frame.UTR3, \"o\",  alpha=.3, label=\"Not Significant\",)\n",
      "plot(sig_frame['log2(fold_change)'], sig_frame.UTR3, \"o\", alpha=.3,  label=\"Significant\", )\n",
      "legend()\n",
      "xlabel(\"log2fold change\")\n",
      "ylabel(\"3' UTR size\")"
     ],
     "language": "python",
     "metadata": {},
     "outputs": [],
     "prompt_number": "*"
    },
    {
     "cell_type": "markdown",
     "metadata": {},
     "source": [
      "Plots of RPKM in knockdown vs 3' UTR length for all 4 possible combinations of knockdown, control pairs\n",
      "\n",
      "Significant is significantly regulated as infered by local-z score"
     ]
    },
    {
     "cell_type": "markdown",
     "metadata": {},
     "source": [
      "How many things are bound in each quartile as defined by 3' UTR length? "
     ]
    },
    {
     "cell_type": "code",
     "collapsed": false,
     "input": [
      "filtered_rna_expression = rna_expression[rna_expression.UTR3 > 0]"
     ],
     "language": "python",
     "metadata": {},
     "outputs": [],
     "prompt_number": "*"
    },
    {
     "cell_type": "code",
     "collapsed": false,
     "input": [
      "print \"WT\"\n",
      "for name, group in filtered_rna_expression.groupby(pd.qcut(filtered_rna_expression.UTR3, 4)):\n",
      "    print \"Total\", len(group), \"Bound\", len(group[group.WT_UTR3 == 1])\n",
      "print\n",
      "print \"DEAA\"\n",
      "for name, group in filtered_rna_expression.groupby(pd.qcut(filtered_rna_expression.UTR3, 4)):\n",
      "    print \"Total\", len(group), \"Bound\", len(group[group.DEAA_UTR3 == 1])\n",
      "print\n",
      "print \"K498A\"\n",
      "for name, group in filtered_rna_expression.groupby(pd.qcut(filtered_rna_expression.UTR3, 4)):\n",
      "    print \"Total\", len(group), \"Bound\", len(group[group.K498A_UTR3 == 1])    "
     ],
     "language": "python",
     "metadata": {},
     "outputs": [],
     "prompt_number": "*"
    },
    {
     "cell_type": "markdown",
     "metadata": {},
     "source": [
      "#RIP-seq Targets and non-targets vs gennic features"
     ]
    },
    {
     "cell_type": "markdown",
     "metadata": {},
     "source": [
      "There are fewer genes than expected, this could be a bug somewhere...\n",
      "Also this is a lazy way of getting targeted genes, not quite as rigerous as in the rip-seq analysis, however that shouldn't \n",
      "matter, as the controls that I use only remove 47 genes"
     ]
    },
    {
     "cell_type": "code",
     "collapsed": false,
     "input": [
      "cutoff = 2.04928504568"
     ],
     "language": "python",
     "metadata": {},
     "outputs": [],
     "prompt_number": "*"
    },
    {
     "cell_type": "code",
     "collapsed": false,
     "input": [
      "class Figure(object):\n",
      "    def __init__(self, saveas, **kwargs):\n",
      "        self.kwargs = kwargs\n",
      "        self.saveas = saveas\n",
      "    def __enter__(self):\n",
      "        self.figure = plt.figure(**self.kwargs)\n",
      "        return self.figure\n",
      "    def __exit__(self, type, value, traceback):\n",
      "        for ax in self.figure.get_axes():\n",
      "            [tick.set_fontsize(14) for tick in ax.get_xticklabels()]\n",
      "            [tick.set_fontsize(14) for tick in ax.get_yticklabels()]\n",
      "            ax.set_xlabel(ax.get_xlabel(), fontsize=18)\n",
      "            ax.set_ylabel(ax.get_ylabel(), fontsize=18)\n",
      "            ax.set_title(ax.get_title(), fontsize=20)\n",
      "        self.figure.tight_layout()\n",
      "        self.figure.savefig(self.saveas)"
     ],
     "language": "python",
     "metadata": {},
     "outputs": [],
     "prompt_number": "*"
    },
    {
     "cell_type": "code",
     "collapsed": false,
     "input": [
      "def plot_cdf(cdf_list, **kwargs):\n",
      "    cdf = sm.distributions.ECDF(cdf_list)\n",
      "    cdf_linspace = np.linspace(min(cdf_list), max(cdf_list))\n",
      "    if kwargs['ax'] is not None:\n",
      "        ax = kwargs['ax']\n",
      "        del kwargs['ax']\n",
      "        ax.plot(cdf_linspace, cdf(cdf_linspace), **kwargs)\n",
      "    else:\n",
      "        plot(cdf_linspace, cdf(cdf_linspace), **kwargs)"
     ],
     "language": "python",
     "metadata": {},
     "outputs": [],
     "prompt_number": "*"
    },
    {
     "cell_type": "code",
     "collapsed": false,
     "input": [
      "rip_target_df.columns"
     ],
     "language": "python",
     "metadata": {},
     "outputs": [],
     "prompt_number": "*"
    },
    {
     "cell_type": "code",
     "collapsed": false,
     "input": [
      "rip_nontarget_df = gene_lengths[ (-.5 < gene_lengths.WT_log2Ratio) & (gene_lengths.WT_log2Ratio < .5)]\n",
      "rip_target_df = gene_lengths[gene_lengths.WT_log2Ratio > cutoff]\n",
      "print \"target\", \"non-target\"\n",
      "print len(rip_target_df), len(rip_nontarget_df)"
     ],
     "language": "python",
     "metadata": {},
     "outputs": [],
     "prompt_number": "*"
    },
    {
     "cell_type": "markdown",
     "metadata": {},
     "source": [
      "binding + 3' UTR length / exon length / 5' UTR length"
     ]
    },
    {
     "cell_type": "code",
     "collapsed": false,
     "input": [
      "count = 0\n",
      "with Figure(\"clip_gene_feature_distributions.png\", figsize=(15,15)) as fig:\n",
      "    for experiment in \"WT_target_count DEAA_target_count K498A_target_count\".split():\n",
      "        targeted = master_df[master_df['WT_target_count'] > 0]\n",
      "        not_targeted = master_df[master_df['WT_target_count'] == 0]\n",
      "        for x, feature in enumerate(\"UTR3 CDS UTR5 exon\".split()):\n",
      "            count += 1\n",
      "            ax = fig.add_subplot(3,4,count)\n",
      "            plot_cdf(rip_target_df[feature], ax=ax, label=\"Target\")\n",
      "            plot_cdf(rip_nontarget_df[feature], ax=ax, label=\"Non-Target\")\n",
      "            ax.set_title(experiment)\n",
      "            ax.set_xlabel(feature + \" Length\")\n",
      "            ax.set_ylabel(\"Cumulative Fraction\")\n",
      "            ax.legend()"
     ],
     "language": "python",
     "metadata": {},
     "outputs": [],
     "prompt_number": "*"
    },
    {
     "cell_type": "markdown",
     "metadata": {},
     "source": [
      "There is a distinct shift for the RIP-seq targetes in the the length of the 3' UTR to be longer than non-targets (below), this is not an pronounced in the CLIP-seq data, however it is still there (above)"
     ]
    },
    {
     "cell_type": "code",
     "collapsed": false,
     "input": [
      "with Figure(os.path.join(img_dir, \"UTR3_distribution.svg\"), figsize=(6,10)) as fig:\n",
      "    for x, feature in enumerate(\"UTR3\".split()):\n",
      "        ax = fig.add_subplot(4,1,x + 1)\n",
      "        plot_cdf(rip_target_df[feature], ax=ax, label=\"Target\", linewidth=3, alpha=.7)\n",
      "        plot_cdf(rip_nontarget_df[feature], ax=ax, label=\"Non-Target\", linewidth=3, alpha=.7)\n",
      "        ax.set_title(\"WT RIP-seq\")\n",
      "        ax.set_xlabel(\"3' UTR Length\")\n",
      "        ax.set_ylabel(\"Cumulative Fraction\")\n",
      "        ax.legend()"
     ],
     "language": "python",
     "metadata": {},
     "outputs": [],
     "prompt_number": "*"
    },
    {
     "cell_type": "code",
     "collapsed": false,
     "input": [
      "with Figure(\"rip_gene_feature_distributions.png\", figsize=(6,10)) as fig:\n",
      "    for x, feature in enumerate(\"UTR3 CDS UTR5 exon\".split()):\n",
      "        ax = fig.add_subplot(4,1,x + 1)\n",
      "        plot_cdf(rip_target_df[feature], ax=ax, label=\"Target\")\n",
      "        plot_cdf(rip_nontarget_df[feature], ax=ax, label=\"Non-Target\")\n",
      "        ax.set_title(\"WT RIP-seq\")\n",
      "        ax.set_xlabel(feature + \" Length\")\n",
      "        ax.set_ylabel(\"Cumulative Fraction\")\n",
      "        ax.legend()"
     ],
     "language": "python",
     "metadata": {},
     "outputs": [],
     "prompt_number": "*"
    },
    {
     "cell_type": "markdown",
     "metadata": {},
     "source": [
      "binding + predicted NMD target"
     ]
    },
    {
     "cell_type": "code",
     "collapsed": false,
     "input": [
      "with Figure(\"rip_gene_feature_distributions.png\", figsize=(6,10)) as fig:\n",
      "    ax = fig.add_subplot(2,1,1)\n",
      "    venn2({'01' : len(set(rip_target_df.index) - set(master_df[master_df.nmd_transcripts > 0].index)),\n",
      "           '10' : len(set(master_df[master_df.nmd_transcripts > 0].index) - set(rip_target_df.index)),\n",
      "           '11' : len(set(master_df[master_df.nmd_transcripts > 0].index) & set(rip_target_df.index))},\n",
      "          ax=ax, \n",
      "          set_labels=(\"NMD Transcripts\", \"RIP-seq Targets\")\n",
      "      )\n",
      "    \n",
      "    ax = fig.add_subplot(2,1,2)\n",
      "    venn2({'01' : len(set(rip_nontarget_df.index) - set(master_df[master_df.nmd_transcripts > 0].index)),\n",
      "           '10' : len(set(master_df[master_df.nmd_transcripts > 0].index) - set(rip_nontarget_df.index)),\n",
      "           '11' : len(set(master_df[master_df.nmd_transcripts > 0].index) & set(rip_nontarget_df.index))},\n",
      "          ax=ax,\n",
      "          set_labels=(\"NMD Transcripts\", \"RIP-seq Targets\")\n",
      "          )"
     ],
     "language": "python",
     "metadata": {},
     "outputs": [],
     "prompt_number": "*"
    },
    {
     "cell_type": "code",
     "collapsed": false,
     "input": [
      "def rip_vs_nmd_hypergeometric(ripseq):\n",
      "    k = len(ripseq.index & master_df[master_df.nmd_transcripts > 0].index)\n",
      "    N = len(master_df)\n",
      "    K = len(ripseq.index)\n",
      "    n = len(master_df[master_df.nmd_transcripts > 0].index)\n",
      "    print scipy.stats.hypergeom.sf(k,N, K, n), k, N, K, n"
     ],
     "language": "python",
     "metadata": {},
     "outputs": [],
     "prompt_number": "*"
    },
    {
     "cell_type": "markdown",
     "metadata": {},
     "source": [
      "Is the overlap observed in the venn diagram signficant? Yes"
     ]
    },
    {
     "cell_type": "code",
     "collapsed": false,
     "input": [
      "print \"targets\",\n",
      "rip_vs_nmd_hypergeometric(rip_target_df)\n",
      "print \"non-tagets\",\n",
      "rip_vs_nmd_hypergeometric(rip_nontarget_df)"
     ],
     "language": "python",
     "metadata": {},
     "outputs": [],
     "prompt_number": "*"
    },
    {
     "cell_type": "markdown",
     "metadata": {},
     "source": [
      "number of binding sites vs ripseq binding intensity  \n",
      "Trying to show more peaks in highly expressed genes, doesn't happen"
     ]
    },
    {
     "cell_type": "code",
     "collapsed": false,
     "input": [
      "with Figure(\"rip_gene_feature_distributions.png\", figsize=(10,6)) as fig:\n",
      "    for x, experiment in enumerate(\"WT_target_count DEAA_target_count K498A_target_count\".split()):\n",
      "        ax = fig.add_subplot(1,3,x +1)\n",
      "        ax.plot(rip_target_df[experiment], rip_target_df.WT_log2Ratio, 'o')\n",
      "        ax.plot(rip_nontarget_df[experiment], rip_nontarget_df.WT_log2Ratio, 'o')\n",
      "        ax.set_title(experiment)\n",
      "        ax.set_xlabel(\"Number of Peaks in Gene\")\n",
      "        ax.set_ylabel(\"log2 Fold Change (RIP-seq Enrichment)\")"
     ],
     "language": "python",
     "metadata": {},
     "outputs": [],
     "prompt_number": "*"
    },
    {
     "cell_type": "markdown",
     "metadata": {},
     "source": [
      "This needs a box and whisker plot"
     ]
    },
    {
     "cell_type": "code",
     "collapsed": false,
     "input": [
      "with Figure(\"rip_gene_feature_distributions.png\", figsize=(10,6)) as fig:\n",
      "    for x, experiment in enumerate(\"WT_target_count DEAA_target_count K498A_target_count\".split()):\n",
      "        ax = fig.add_subplot(1,3,x +1)\n",
      "        ax.plot(gene_lengths[experiment], gene_lengths.WT_log2Ratio, 'o')\n",
      "        ax.set_title(experiment)\n",
      "        ax.set_xlabel(\"Number of Peaks in Gene\")\n",
      "        ax.set_ylabel(\"log2 Fold Change (RIP-seq Enrichment)\")"
     ],
     "language": "python",
     "metadata": {},
     "outputs": [],
     "prompt_number": "*"
    },
    {
     "cell_type": "markdown",
     "metadata": {},
     "source": [
      "#Lots of quatile distribution tests"
     ]
    },
    {
     "cell_type": "markdown",
     "metadata": {},
     "source": [
      "binding increases in long 3' UTRS!"
     ]
    },
    {
     "cell_type": "markdown",
     "metadata": {},
     "source": [
      "Binning and looking at z-scores, nothing is really significant "
     ]
    },
    {
     "cell_type": "code",
     "collapsed": false,
     "input": [
      "cdfs_both, cdfs_bound, cdfs_unbound = plot_everything(filtered_rna_expression, pd.qcut(filtered_rna_expression[\"UTR3\"], 4), 'log2(fold_change)')\n",
      "run_ks_tests(cdfs_bound, cdfs_unbound)"
     ],
     "language": "python",
     "metadata": {},
     "outputs": [],
     "prompt_number": "*"
    },
    {
     "cell_type": "markdown",
     "metadata": {},
     "source": [
      "Here is where the log A/B analysis starts a negative value implies stabalization\n",
      "\n",
      "Um... Looks like we've got more? stabality in bound long fractions?  Need to look into this a bit more\n",
      "\n",
      "up-regulation is positive, down is negative relative to upf1 knockdown.  So the fact that the CDF incrreases faster means stuff is getting knocked down faster in the longer 3' UTRs, this what we expect! "
     ]
    },
    {
     "cell_type": "markdown",
     "metadata": {},
     "source": [
      "This is looking at quartiles for the average a+b scores in bound vs unbound.  Not quite sure if this means anything, its not really significant though so lets just ignore it for now"
     ]
    },
    {
     "cell_type": "markdown",
     "metadata": {},
     "source": [
      "This is where the analysis assigning quartiles by UTR3 length, not an even number of UTRs in each quartile"
     ]
    },
    {
     "cell_type": "code",
     "collapsed": false,
     "input": [
      "#This groups into even sized groups of 3' UTR binding\n",
      "quartiles = get_quantiles(rna_expression.UTR3, 4)\n",
      "length_grouping = rna_expression.UTR3.apply(lambda x: np.where(quartiles >= x)[0][0])\n",
      "cdfs_both, cdfs_bound, cdfs_unbound = plot_everything(rna_expression, length_grouping, \"log2(fold_change)\")\n",
      "run_ks_tests(cdfs_bound, cdfs_unbound)"
     ],
     "language": "python",
     "metadata": {},
     "outputs": [],
     "prompt_number": "*"
    },
    {
     "cell_type": "code",
     "collapsed": false,
     "input": [
      "#here we just split into two groups\n",
      "length_grouping = rna_expression.UTR3.apply(lambda x: np.where([194.011, 40834.0] >= x)[0][0])\n",
      "cdsf_both, cdfs_bound, cdfs_unbound = plot_everything(rna_expression, length_grouping, \"log2(fold_change)\")\n",
      "run_ks_tests(cdfs_bound, cdfs_unbound)"
     ],
     "language": "python",
     "metadata": {},
     "outputs": [],
     "prompt_number": "*"
    },
    {
     "cell_type": "markdown",
     "metadata": {},
     "source": [
      "Longer 3' UTRs have are more stabalized if bound, if unbound they are less stabalized are about the same.  "
     ]
    },
    {
     "cell_type": "code",
     "collapsed": false,
     "input": [
      "#grouped by bound vs not bound\n",
      "length_grouping = rna_expression.UTR3_counts.apply(lambda x: 0 if x == 1 else 1)\n",
      "cdfs_both, cdfs_bound, cdfs_unbound = plot_everything(rna_expression, length_grouping, \"log2(fold_change)\")\n",
      "run_ks_tests(cdfs_bound, cdfs_unbound)"
     ],
     "language": "python",
     "metadata": {},
     "outputs": [],
     "prompt_number": "*"
    },
    {
     "cell_type": "code",
     "collapsed": false,
     "input": [
      "#100-300, 300-500, 500-1000, 1000-1500, 1500-15000\n",
      "length_grouping = rna_expression.UTR3.apply(lambda x: np.where([100, 300, 1000, 1500, 40834.0] >= x)[0][0])\n",
      "cdfs_both, cdfs_bound, cdfs_unbound = plot_everything(rna_expression, length_grouping, \"log2(fold_change)\")\n",
      "run_ks_tests(cdfs_bound, cdfs_unbound)"
     ],
     "language": "python",
     "metadata": {},
     "outputs": [],
     "prompt_number": "*"
    },
    {
     "cell_type": "code",
     "collapsed": false,
     "input": [
      "#hoping sizes of 3' UTRs is different between different frames, its not.\n",
      "figsize(6,6)\n",
      "y, x =  numpy.histogram(not_sig_frame.UTR3, bins=50, normed=True, range=(0,10000))\n",
      "x = [(x[n] + x[n+1]) / 2 for n in range(len(x) - 1)]\n",
      "plot(x,y,  alpha=.7, label=\"Not Significant\")\n",
      "\n",
      "y, x =  numpy.histogram(stabalized_frame.UTR3, bins=50, normed=True, range=(0,10000))\n",
      "x = [(x[n] + x[n+1]) / 2 for n in range(len(x) - 1)]\n",
      "plot(x,y,  alpha=.7, label=\"destabalized\")\n",
      "\n",
      "y, x =  numpy.histogram(destabalized_frame.UTR3, bins=50, normed=True, range=(0,10000))\n",
      "x = [(x[n] + x[n+1]) / 2 for n in range(len(x) - 1)]\n",
      "plot(x,y,  alpha=.7, label=\"stabalized\")\n",
      "\n",
      "legend()"
     ],
     "language": "python",
     "metadata": {},
     "outputs": [],
     "prompt_number": "*"
    },
    {
     "cell_type": "markdown",
     "metadata": {},
     "source": [
      "Looking to see if 3' UTR length is corlated with stabalization or not.  Looks like not"
     ]
    },
    {
     "cell_type": "code",
     "collapsed": false,
     "input": [
      "figsize(6,6)\n",
      "y, x =  numpy.histogram(not_sig_frame.exon, bins=50, normed=True, range=(0,10000))\n",
      "x = [(x[n] + x[n+1]) / 2 for n in range(len(x) - 1)]\n",
      "plot(x,y,  alpha=.7, label=\"Not Significant\")\n",
      "\n",
      "y, x =  numpy.histogram(stabalized_frame.exon, bins=50, normed=True, range=(0,10000))\n",
      "x = [(x[n] + x[n+1]) / 2 for n in range(len(x) - 1)]\n",
      "plot(x,y,  alpha=.7, label=\"destabalized\")\n",
      "\n",
      "y, x =  numpy.histogram(destabalized_frame.exon, bins=50, normed=True, range=(0,10000))\n",
      "x = [(x[n] + x[n+1]) / 2 for n in range(len(x) - 1)]\n",
      "plot(x,y,  alpha=.7, label=\"stabalized\")\n",
      "\n",
      "legend()"
     ],
     "language": "python",
     "metadata": {},
     "outputs": [],
     "prompt_number": "*"
    },
    {
     "cell_type": "markdown",
     "metadata": {},
     "source": [
      "exon length neither"
     ]
    },
    {
     "cell_type": "code",
     "collapsed": false,
     "input": [
      "x = boxplot([not_sig_frame.UTR3, stabalized_frame.UTR3, destabalized_frame.UTR3])"
     ],
     "language": "python",
     "metadata": {},
     "outputs": [],
     "prompt_number": "*"
    },
    {
     "cell_type": "code",
     "collapsed": false,
     "input": [
      "print not_sig_frame.UTR3.mean()\n",
      "print stabalized_frame.UTR3.mean()\n",
      "print destabalized_frame.UTR3.mean()"
     ],
     "language": "python",
     "metadata": {},
     "outputs": [],
     "prompt_number": "*"
    },
    {
     "cell_type": "markdown",
     "metadata": {},
     "source": [
      "If anything 3' UTRs are shorter in regulated genes, but its kind of unexpected / not wanted..."
     ]
    },
    {
     "cell_type": "code",
     "collapsed": false,
     "input": [
      "probably_not_regulated = rna_expression[rna_expression.nmd_transcripts == 0]\n",
      "probably_regulated = rna_expression[rna_expression.nmd_transcripts > 0]"
     ],
     "language": "python",
     "metadata": {},
     "outputs": [],
     "prompt_number": "*"
    },
    {
     "cell_type": "code",
     "collapsed": false,
     "input": [
      "figsize(6,6)\n",
      "boxplot([probably_not_regulated.log2FoldChange, probably_regulated.log2FoldChange])"
     ],
     "language": "python",
     "metadata": {},
     "outputs": [],
     "prompt_number": "*"
    },
    {
     "cell_type": "code",
     "collapsed": false,
     "input": [
      "print mean(probably_not_regulated.log2FoldChange)\n",
      "print mean(probably_regulated[probably_regulated.peak_count >= 1].log2FoldChange)"
     ],
     "language": "python",
     "metadata": {},
     "outputs": [],
     "prompt_number": "*"
    },
    {
     "cell_type": "markdown",
     "metadata": {},
     "source": [
      "Higher expression in the probably regluated group, but not by much at all... Its a bit backwords should be lower"
     ]
    },
    {
     "cell_type": "code",
     "collapsed": false,
     "input": [
      "hist(probably_regulated.peak_count)"
     ],
     "language": "python",
     "metadata": {},
     "outputs": [],
     "prompt_number": "*"
    },
    {
     "cell_type": "markdown",
     "metadata": {},
     "source": [
      "Right, as we know already, the NMD potental targets mean just about jack shit.  Not a good measure of potental NMD targeting..."
     ]
    },
    {
     "cell_type": "markdown",
     "metadata": {},
     "source": [
      "Questions to ask to see how stabality is effected by \n",
      "\n",
      "binding in 3' UTR?\n",
      "\n",
      "binding in CDS?"
     ]
    },
    {
     "cell_type": "markdown",
     "metadata": {},
     "source": [
      "Binding doesn't look to be super correlated with significance or non significance"
     ]
    },
    {
     "cell_type": "code",
     "collapsed": false,
     "input": [
      "filtered_rna_expression = rna_expression[~(rna_expression.log2FoldChange == 0)]\n",
      "boxplot([filtered_rna_expression[filtered_rna_expression.WT_UTR3 == 0].log2FoldChange, filtered_rna_expression[filtered_rna_expression.WT_UTR3 >= 1].log2FoldChange])\n",
      "print filtered_rna_expression[filtered_rna_expression.WT_UTR3 == 0].log2FoldChange.mean(), filtered_rna_expression[filtered_rna_expression.WT_UTR3 >= 1].log2FoldChange.mean()"
     ],
     "language": "python",
     "metadata": {},
     "outputs": [],
     "prompt_number": "*"
    },
    {
     "cell_type": "markdown",
     "metadata": {},
     "source": [
      "No change between bound and unbound in 3'UTR fraction when looking at fold change expression"
     ]
    },
    {
     "cell_type": "code",
     "collapsed": false,
     "input": [
      "boxplot([rna_expression[rna_expression.padj < .1].WT_CDS, \n",
      "                         rna_expression[(rna_expression.padj > .1)].WT_CDS])"
     ],
     "language": "python",
     "metadata": {},
     "outputs": [],
     "prompt_number": "*"
    },
    {
     "cell_type": "markdown",
     "metadata": {},
     "source": [
      "binding % doesn't change between changing fractions and not"
     ]
    },
    {
     "cell_type": "code",
     "collapsed": false,
     "input": [
      "print sum(filtered_rna_expression[(filtered_rna_expression.padj < .1)  & (filtered_rna_expression.nmd_transcripts >=1) ].WT_UTR3) / len(filtered_rna_expression[filtered_rna_expression.padj < .1])\n",
      "print sum(filtered_rna_expression[(filtered_rna_expression.padj > .1) & (filtered_rna_expression.nmd_transcripts >=1) ].WT_UTR3) / len(filtered_rna_expression[filtered_rna_expression.padj > .1])"
     ],
     "language": "python",
     "metadata": {},
     "outputs": [],
     "prompt_number": "*"
    },
    {
     "cell_type": "code",
     "collapsed": false,
     "input": [
      "print mean(filtered_rna_expression[(filtered_rna_expression.nmd_transcripts >= 1)].log2FoldChange)\n",
      "print mean(filtered_rna_expression[(filtered_rna_expression.nmd_transcripts == 0)].log2FoldChange) "
     ],
     "language": "python",
     "metadata": {},
     "outputs": [],
     "prompt_number": "*"
    },
    {
     "cell_type": "code",
     "collapsed": false,
     "input": [
      "#print sum(filtered_rna_expression[(filtered_rna_expression.padj < .1)  & (filtered_rna_expression.uorf_x >=1) ].DEAA_UTR5) / len(filtered_rna_expression[filtered_rna_expression.padj < 1.98])\n",
      "#print sum(filtered_rna_expression[(filtered_rna_expression.padj > .1) & (filtered_rna_expression.uorf_x >=1) ].DEAA_UTR5) / len(filtered_rna_expression[filtered_rna_expression.padj > 1.98])"
     ],
     "language": "python",
     "metadata": {},
     "outputs": [],
     "prompt_number": "*"
    },
    {
     "cell_type": "code",
     "collapsed": false,
     "input": [
      "#print mean(rna_expression[(rna_expression.uorf_x >= 1)].log_A_over_B)\n",
      "#print mean(rna_expression[(rna_expression.uorf_x == 0)].log_A_over_B) "
     ],
     "language": "python",
     "metadata": {},
     "outputs": [],
     "prompt_number": "*"
    },
    {
     "cell_type": "code",
     "collapsed": false,
     "input": [
      "print len(rna_expression[rna_expression.WT_CDS >= 1]), len(rna_expression[rna_expression.WT_UTR3 >= 1]), len(rna_expression[rna_expression.WT_UTR5 >= 1])\n",
      "print len(rna_expression[rna_expression.K498A_CDS >= 1]), len(rna_expression[rna_expression.K498A_UTR3 >= 1]), len(rna_expression[rna_expression.K498A_UTR5 >= 1])\n",
      "print len(rna_expression[rna_expression.DEAA_CDS >= 1]), len(rna_expression[rna_expression.DEAA_UTR3 >= 1]), len(rna_expression[rna_expression.DEAA_UTR5 >= 1])"
     ],
     "language": "python",
     "metadata": {},
     "outputs": [],
     "prompt_number": "*"
    },
    {
     "cell_type": "code",
     "collapsed": false,
     "input": [
      "hist(rna_expression.pvalue[~isnan(rna_expression.pvalue)], bins=20) "
     ],
     "language": "python",
     "metadata": {},
     "outputs": [],
     "prompt_number": "*"
    },
    {
     "cell_type": "code",
     "collapsed": false,
     "input": [
      "hist(rna_expression.padj[~isnan(rna_expression.padj)]) "
     ],
     "language": "python",
     "metadata": {},
     "outputs": [],
     "prompt_number": "*"
    },
    {
     "cell_type": "code",
     "collapsed": false,
     "input": [
      "#print rna_expression.xs(\"ENSG00000005007\", level='gene').take([0,2,5,6], axis=1)\n",
      "print rna_expression.xs(\"ENSG00000005007.8\") #UPF1"
     ],
     "language": "python",
     "metadata": {},
     "outputs": [],
     "prompt_number": "*"
    },
    {
     "cell_type": "code",
     "collapsed": false,
     "input": [
      "print rna_expression.xs(\"ENSG00000244734.1\") #HBB (control) doesn't significanly change..."
     ],
     "language": "python",
     "metadata": {},
     "outputs": [],
     "prompt_number": "*"
    },
    {
     "cell_type": "code",
     "collapsed": false,
     "input": [
      "#this gets me count files to run deseq on\n",
      "!for x in *.count; do cut -f 5,7 $x | sort -k 2 | uniq > $x.genes; done\n",
      "\n",
      "!paste 318_UPF11_NoIndex_L004_R1.fq.polyATrim.adapterTrim.rmRep.sorted.count.genes *.genes | cut -f 2,3,5,7,9,11,13 > combined.counted_genes\n",
      "#prints with headers...\n",
      "!ls -1 *.genes | awk '{ ORS=\"\\t\"; print; } END {ORS=\"\"; print \"\\n\";}' | cat - combined.counted_genes > final.counted_genes"
     ],
     "language": "python",
     "metadata": {},
     "outputs": [],
     "prompt_number": "*"
    },
    {
     "cell_type": "markdown",
     "metadata": {},
     "source": [
      "These are hypogemoetric tests, need to perform to identify significance"
     ]
    },
    {
     "cell_type": "code",
     "collapsed": false,
     "input": [
      "#k = nmd targets & bound transcripts\n",
      "#N = number of genes \n",
      "#K = total number of nmd targets\n",
      "#n = number of bound transcripts\n",
      "\n",
      "k = sum(rna_expression[rna_expression.nmd_transcripts == 1].WT_UTR3 > 0)\n",
      "N = len(rna_expression)\n",
      "K = len(rna_expression[rna_expression.nmd_transcripts == 1])\n",
      "n = len(rna_expression[rna_expression.WT_UTR3 > 0])\n",
      "print sum(rna_expression[rna_expression.nmd_transcripts == 1].WT_UTR3 > 0) /float(len(rna_expression[rna_expression.nmd_transcripts == 1]))\n",
      "print sum(rna_expression[rna_expression.nmd_transcripts == 0].WT_UTR3 > 0) /float(len(rna_expression[rna_expression.nmd_transcripts == 0]))"
     ],
     "language": "python",
     "metadata": {},
     "outputs": [],
     "prompt_number": "*"
    },
    {
     "cell_type": "code",
     "collapsed": false,
     "input": [
      "scipy.stats.hypergeom.sf(k,N,K,n)"
     ],
     "language": "python",
     "metadata": {},
     "outputs": [],
     "prompt_number": "*"
    },
    {
     "cell_type": "code",
     "collapsed": false,
     "input": [
      "print sum(rna_expression[rna_expression.nmd_transcripts == 1].WT_CDS > 0) /float(len(rna_expression[rna_expression.nmd_transcripts == 1]))\n",
      "print sum(rna_expression[rna_expression.nmd_transcripts == 0].WT_CDS > 0) /float(len(rna_expression[rna_expression.nmd_transcripts == 0]))"
     ],
     "language": "python",
     "metadata": {},
     "outputs": [],
     "prompt_number": "*"
    },
    {
     "cell_type": "code",
     "collapsed": false,
     "input": [
      "print len(rna_expression[rna_expression.nmd_transcripts == 1])\n",
      "print len(rna_expression[rna_expression.nmd_transcripts == 0])"
     ],
     "language": "python",
     "metadata": {},
     "outputs": [],
     "prompt_number": "*"
    },
    {
     "cell_type": "code",
     "collapsed": false,
     "input": [
      "print sum(rna_expression[rna_expression.nmd_transcripts == 1].DEAA_UTR3 > 0) /float(len(rna_expression[rna_expression.nmd_transcripts == 1]))\n",
      "print sum(rna_expression[rna_expression.nmd_transcripts == 0].DEAA_UTR3 > 0) /float(len(rna_expression[rna_expression.nmd_transcripts == 0]))"
     ],
     "language": "python",
     "metadata": {},
     "outputs": [],
     "prompt_number": "*"
    },
    {
     "cell_type": "code",
     "collapsed": false,
     "input": [
      "print sum(rna_expression[rna_expression.nmd_transcripts == 1].K498A_UTR3 > 0) /float(len(rna_expression[rna_expression.nmd_transcripts == 1]))\n",
      "print sum(rna_expression[rna_expression.nmd_transcripts == 0].K498A_UTR3 > 0) /float(len(rna_expression[rna_expression.nmd_transcripts == 0]))"
     ],
     "language": "python",
     "metadata": {},
     "outputs": [],
     "prompt_number": "*"
    },
    {
     "cell_type": "markdown",
     "metadata": {},
     "source": [
      "R code to do the analysis\n",
      "library(\"DESeq2\")\n",
      "x <- read.table(\"deseq2_h_formatted.txt\")\n",
      "x <- round(x)\n",
      "\n",
      "condition <- factor(c(\"UPF1_1\", \"UPF1_2\", \"UPF1_3\", \"ctrl_1\", \"ctrl_2\", \"ctrl_3\"))\n",
      "labels <- factor(c(\"UPF1\",\"UPF1\", \"UPF1\", \"control\", \"control\", \"control\"))\n",
      "colData <- DataFrame(row.names=condition, labels=labels)\n",
      "dds <- DESeqDataSetFromMatrix(x, colData, formula(~ labels))\n",
      "dds <- DESeq(dds)\n",
      "res <- results(dds)\n",
      "write.csv(as.data.frame(res), file=\"../analysis/rna_seq/UPF1_vs_control_deseq.csv\")"
     ]
    },
    {
     "cell_type": "markdown",
     "metadata": {},
     "source": [
      "Everything looks alright... minus the PCA And the differences between one of the RNA-seq datasets, obvious outligher "
     ]
    },
    {
     "cell_type": "markdown",
     "metadata": {},
     "source": [
      "The mutants... make the assumption that those genes are the true NMD targets.  Test this.  How many genes overalap mutant binding.  How many genes that overlap binding are also stabalized.  "
     ]
    },
    {
     "cell_type": "markdown",
     "metadata": {},
     "source": []
    }
   ],
   "metadata": {}
  }
 ]
}