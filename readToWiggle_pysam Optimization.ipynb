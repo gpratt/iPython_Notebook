{
 "metadata": {
  "name": "readToWiggle_pysam Optimization"
 },
 "nbformat": 3,
 "nbformat_minor": 0,
 "worksheets": [
  {
   "cells": [
    {
     "cell_type": "code",
     "collapsed": false,
     "input": [
      "import pysam\n",
      "import general\n",
      "from general import count_tags_C\n",
      "from clipper.src.peaks import readsToWiggle_pysam as readsToWiggle_pysam_fast\n",
      "from collections import defaultdict\n",
      "\n",
      "from itertools import izip"
     ],
     "language": "python",
     "metadata": {},
     "outputs": [],
     "prompt_number": 77
    },
    {
     "cell_type": "code",
     "collapsed": false,
     "input": [
      "gene_info, region = count_tags_C.count_to_regions(\"/nas/nas0\", \"hg19\")\n",
      "bam_file = pysam.Samfile(\"/nas3/scratch/ppliu/fernando/318_UPF11_NoIndex_L004_R1.fastq.Aligned.out.sam.bam.sorted.bam\", 'rb')"
     ],
     "language": "python",
     "metadata": {},
     "outputs": [
      {
       "ename": "ValueError",
       "evalue": "too many values to unpack",
       "output_type": "pyerr",
       "traceback": [
        "\u001b[1;31m---------------------------------------------------------------------------\u001b[0m\n\u001b[1;31mValueError\u001b[0m                                Traceback (most recent call last)",
        "\u001b[1;32m<ipython-input-90-750172e2896c>\u001b[0m in \u001b[0;36m<module>\u001b[1;34m()\u001b[0m\n\u001b[1;32m----> 1\u001b[1;33m \u001b[0mgene_info\u001b[0m\u001b[1;33m,\u001b[0m \u001b[0mregion\u001b[0m \u001b[1;33m=\u001b[0m \u001b[0mcount_tags_C\u001b[0m\u001b[1;33m.\u001b[0m\u001b[0mcount_to_regions\u001b[0m\u001b[1;33m(\u001b[0m\u001b[1;34m\"/nas/nas0\"\u001b[0m\u001b[1;33m,\u001b[0m \u001b[1;34m\"hg19\"\u001b[0m\u001b[1;33m)\u001b[0m\u001b[1;33m\u001b[0m\u001b[0m\n\u001b[0m\u001b[0;32m      2\u001b[0m \u001b[0mbam_file\u001b[0m \u001b[1;33m=\u001b[0m \u001b[0mpysam\u001b[0m\u001b[1;33m.\u001b[0m\u001b[0mSamfile\u001b[0m\u001b[1;33m(\u001b[0m\u001b[1;34m\"/nas3/scratch/ppliu/fernando/318_UPF11_NoIndex_L004_R1.fastq.Aligned.out.sam.bam.sorted.bam\"\u001b[0m\u001b[1;33m,\u001b[0m \u001b[1;34m'rb'\u001b[0m\u001b[1;33m)\u001b[0m\u001b[1;33m\u001b[0m\u001b[0m\n",
        "\u001b[1;31mValueError\u001b[0m: too many values to unpack"
       ]
      }
     ],
     "prompt_number": 90
    },
    {
     "cell_type": "code",
     "collapsed": false,
     "input": [
      "def count_gene(bam_file, gene, flip):\n",
      "\t\n",
      "\t\"\"\"\n",
      "\t\n",
      "\tget read counts for genic regions in the gene specified by annotation in passed value 'keys'\n",
      "\n",
      "\t\"\"\"\n",
      "\tcount = namedtuple('count', ['gene_count', 'region_count'])\n",
      "    \n",
      "\tregion_counts = {}\n",
      "\n",
      "\ttry:\n",
      "\t\t# fetch reads from bam file for the gene referenced by keys (Ensembl ID)\n",
      "\t\tsubset_reads = bam_file.fetch(reference = gene['chr'],\n",
      "\t\t\t\t\t      start = gene[\"start\"],\n",
      "\t\t\t\t\t      end = gene[\"stop\"])\n",
      "\t\t\n",
      "\texcept:\n",
      "\t\traise Exception(\"could not fetch reads. check if bam is indexed region %s:%s-%s.\" % (gene['chr'], gene['start'], gene['stop']))\n",
      "\n",
      "\t# determine strand to keep based on flip option\n",
      "\tkeep_strand = gene[\"strand\"]\n",
      "\tif str(flip) == \"flip\":\n",
      "\t\tif str(keep_strand) == '-':\n",
      "\t\t\tkeep_strand = '+'\n",
      "\t\telif str(keep_strand) == '+':\n",
      "\t\t\tkeep_strand = '-'\n",
      "\n",
      "\telif str(flip) == \"both\":\n",
      "\t\tkeep_strand = 0;\n",
      "\n",
      "\twig, jxns, nr_counts, read_lengths, reads = readsToWiggle_pysam(\n",
      "\t\t\t\t\t\t\t\t\t\t\t\t\t\t\t\tsubset_reads, \n",
      "\t\t\t\t\t\t\t\t\t\t\t\t\t\t\t\tint(gene[\"start\"]),\n",
      "\t\t\t\t\t\t\t\t\t\t\t\t\t\t\t\tint(gene[\"stop\"]),\n",
      "\t\t\t\t\t\t\t\t\t\t\t\t\t\t\t\tkeep_strand,\n",
      "\t\t\t\t\t\t\t\t\t\t\t\t\t\t\t\t'center',\n",
      "\t\t\t\t\t\t\t\t\t\t\t\t\t\t\t\tTrue)\n",
      "\n",
      "\tgene_sum = 0\n",
      "\tfor region_start, region_stop in gene['regions']:\n",
      "\t\t\n",
      "\t\tstart = int(region_start) - gene[\"start\"]\n",
      "\t\tstop  = int(region_stop)  - gene[\"start\"]\n",
      "\t\t\n",
      "\t\tgene_sum += sum(wig[start:stop])\n",
      "\t\t\n",
      "\t\tregion_counts[gene['gene_id'] + str(start + gene[\"start\"]) + str(stop + gene[\"start\"])] = sum(wig[start:stop])\n",
      "\t\n",
      "\treturn {region : count(gene_sum, region_sum) for region, region_sum in region_counts.items()}"
     ],
     "language": "python",
     "metadata": {},
     "outputs": []
    },
    {
     "cell_type": "code",
     "collapsed": false,
     "input": [
      "def readsToWiggle_pysam(reads, tx_start, tx_end, keepstrand, usePos, fracional_input):\n",
      "    \n",
      "    lengths = []\n",
      "    wiggle = np.zeros(tx_end - tx_start + 1)\n",
      "    pos_counts = np.zeros(tx_end - tx_start + 1)\n",
      "    all_reads = set([])\n",
      "    junctions = defaultdict(int)\n",
      "    for read in reads:\n",
      "        if read.is_reverse and keepstrand == \"+\":\n",
      "            continue\n",
      "        elif not read.is_reverse and keepstrand == \"-\":\n",
      "            continue\n",
      "            \n",
      "        read_start = read.positions[0]\n",
      "        read_stop = read.positions[-1]\n",
      "        \n",
      "        if read_start < tx_start or read_stop > tx_end:\n",
      "            continue\n",
      "            \n",
      "        read_len = len(read.positions)\n",
      "        lengths.append(read_len)\n",
      "        \n",
      "        if usePos == \"center\":\n",
      "            pos_counts[(((read_stop + read_start) / 2) - tx_start)] += 1\n",
      "        elif usePos == \"start\":\n",
      "            if keepstrand == \"+\":\n",
      "                pos_counts[read_start - tx_start] += 1\n",
      "            else: \n",
      "                pos_counts[read_stop - tx_start] += 1\n",
      "        elif usePos == \"end\":\n",
      "             if keepstrand == \"-\":\n",
      "                pos_counts[read_start - tx_start] += 1\n",
      "             else: \n",
      "                pos_counts[read_stop - tx_start] += 1\n",
      "        \n",
      "        all_reads.add((read_start, read_stop))\n",
      "        \n",
      "        for cur_pos, next_pos in izip(read.positions, read.positions[1:]):\n",
      "            #if cur is not next to the next position than its a junction\n",
      "            if cur_pos + 1 != next_pos:\n",
      "                junctions[(cur_pos, next_pos)] += 1\n",
      "                \n",
      "        for cur_pos in read.positions:\n",
      "            \n",
      "            wig_index = cur_pos - tx_start\n",
      "\n",
      "            if fracional_input:\n",
      "                wiggle[wig_index] += 1.0 / read_len\n",
      "            else: \n",
      "                wiggle[wig_index] += 1\n",
      "                \n",
      "    return wiggle, junctions, pos_counts, lengths, all_reads"
     ],
     "language": "python",
     "metadata": {},
     "outputs": [],
     "prompt_number": 88
    },
    {
     "cell_type": "code",
     "collapsed": false,
     "input": [
      "%%timeit\n",
      "count_gene(bam_file, gene_info.values()[1], True)"
     ],
     "language": "python",
     "metadata": {},
     "outputs": [
      {
       "output_type": "stream",
       "stream": "stdout",
       "text": [
        "10 loops, best of 3: 164 ms per loop\n"
       ]
      }
     ],
     "prompt_number": 89
    },
    {
     "cell_type": "code",
     "collapsed": false,
     "input": [
      "for read in bam_file:\n",
      "    print read\n",
      "    break"
     ],
     "language": "python",
     "metadata": {},
     "outputs": [
      {
       "output_type": "stream",
       "stream": "stdout",
       "text": [
        "HWI-ST1001:184:C1FR3ACXX:4:1207:5064:64143\t320\t0\t10131\t0\t[(0, 36), (3, 170), (0, 21)]\t-1\t-1\t57\tTAACCCTAACCCTAACCCCTAACCCTAACCCTAACCCCTAACCCTAACCCTACCCTA\tCCCFFFFFHHHHHJJJJJJJJJJJJEIJJJJIJJJJJJJJJJIJJJJJJIJJJGIJG\t[('NH', 5), ('HI', 5), ('AS', 55), ('nM', 0)]\n"
       ]
      }
     ],
     "prompt_number": 91
    },
    {
     "cell_type": "code",
     "collapsed": false,
     "input": [
      "read.qname, "
     ],
     "language": "python",
     "metadata": {},
     "outputs": [
      {
       "output_type": "pyout",
       "prompt_number": 93,
       "text": [
        "('HWI-ST1001:184:C1FR3ACXX:4:1207:5064:64143', False)"
       ]
      }
     ],
     "prompt_number": 93
    },
    {
     "cell_type": "code",
     "collapsed": false,
     "input": [
      "strand = \"-\" if read.is_reverse else \"+\""
     ],
     "language": "python",
     "metadata": {},
     "outputs": [
      {
       "output_type": "pyout",
       "prompt_number": 94,
       "text": [
        "'+'"
       ]
      }
     ],
     "prompt_number": 94
    },
    {
     "cell_type": "code",
     "collapsed": false,
     "input": [
      "read.seq"
     ],
     "language": "python",
     "metadata": {},
     "outputs": [
      {
       "output_type": "pyout",
       "prompt_number": 95,
       "text": [
        "'TAACCCTAACCCTAACCCCTAACCCTAACCCTAACCCCTAACCCTAACCCTACCCTA'"
       ]
      }
     ],
     "prompt_number": 95
    },
    {
     "cell_type": "code",
     "collapsed": false,
     "input": [
      "read.qual"
     ],
     "language": "python",
     "metadata": {},
     "outputs": [
      {
       "output_type": "pyout",
       "prompt_number": 96,
       "text": [
        "'CCCFFFFFHHHHHJJJJJJJJJJJJEIJJJJIJJJJJJJJJJIJJJJJJIJJJGIJG'"
       ]
      }
     ],
     "prompt_number": 96
    },
    {
     "cell_type": "code",
     "collapsed": false,
     "input": [
      "read.pos"
     ],
     "language": "python",
     "metadata": {},
     "outputs": [
      {
       "output_type": "pyout",
       "prompt_number": 99,
       "text": [
        "10131"
       ]
      }
     ],
     "prompt_number": 99
    },
    {
     "cell_type": "code",
     "collapsed": false,
     "input": [
      "read."
     ],
     "language": "python",
     "metadata": {},
     "outputs": [
      {
       "output_type": "pyout",
       "prompt_number": 100,
       "text": [
        "0"
       ]
      }
     ],
     "prompt_number": 100
    },
    {
     "cell_type": "code",
     "collapsed": false,
     "input": [],
     "language": "python",
     "metadata": {},
     "outputs": [
      {
       "output_type": "pyout",
       "prompt_number": 101,
       "text": [
        "0"
       ]
      }
     ],
     "prompt_number": 101
    },
    {
     "cell_type": "code",
     "collapsed": false,
     "input": [
      "%%timeit\n",
      "bam_file.getrname(read.tid)"
     ],
     "language": "python",
     "metadata": {},
     "outputs": [
      {
       "output_type": "stream",
       "stream": "stdout",
       "text": [
        "1000000 loops, best of 3: 417 ns per loop\n"
       ]
      }
     ],
     "prompt_number": 104
    },
    {
     "cell_type": "code",
     "collapsed": false,
     "input": [],
     "language": "python",
     "metadata": {},
     "outputs": []
    }
   ],
   "metadata": {}
  }
 ]
}