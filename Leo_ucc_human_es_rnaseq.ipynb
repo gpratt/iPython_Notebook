{
 "metadata": {
  "name": ""
 },
 "nbformat": 3,
 "nbformat_minor": 0,
 "worksheets": [
  {
   "cells": [
    {
     "cell_type": "code",
     "collapsed": false,
     "input": [
      "import pandas as pd\n",
      "import gffutils\n",
      "import os\n",
      "from IPython.core.display import HTML\n",
      "out_dir = \"/home/gpratt/Dropbox/For_Leo\""
     ],
     "language": "python",
     "metadata": {},
     "outputs": [],
     "prompt_number": 75
    },
    {
     "cell_type": "code",
     "collapsed": false,
     "input": [
      "cd /nas3/gpratt/projects/leo/fucc_human_es_rnaseq/"
     ],
     "language": "python",
     "metadata": {},
     "outputs": [
      {
       "output_type": "stream",
       "stream": "stdout",
       "text": [
        "/nas/nas0/gpratt/projects/leo/fucc_human_es_rnaseq\n"
       ]
      }
     ],
     "prompt_number": 2
    },
    {
     "cell_type": "code",
     "collapsed": false,
     "input": [
      "human_db = \"/nas3/yeolab/Genome/ensembl/gtf/gencode.v17.annotation.gtf.db\"\n",
      "db = gffutils.FeatureDB(human_db)"
     ],
     "language": "python",
     "metadata": {},
     "outputs": [],
     "prompt_number": 3
    },
    {
     "cell_type": "code",
     "collapsed": false,
     "input": [
      "genes = db.features_of_type('gene') \n",
      "type_dict = {}\n",
      "ont_dict = {}\n",
      "for gene in list(genes):\n",
      "    gene_id = gene.attributes['gene_id']\n",
      "    #gene_dict[gene_id] = {\"gene_type\" : \"\", \"ont\" : \"\"}\n",
      "    if 'gene_type' in dict(gene.attributes):\n",
      "        type_dict[gene_id.split(\".\")[0]] = {\"gene_type\" : gene.attributes['gene_type'], \"gene_name\" : gene.attributes['gene_name']}\n",
      "    if 'ont' in dict(gene.attributes):\n",
      "        print gene.attributes['ont']\n",
      "        ont_dict[gene_id.split(\".\")[0]] = gene.attributes['ont'] \n"
     ],
     "language": "python",
     "metadata": {},
     "outputs": [],
     "prompt_number": 38
    },
    {
     "cell_type": "code",
     "collapsed": false,
     "input": [
      "type_gencode_map = pd.DataFrame(type_dict).T"
     ],
     "language": "python",
     "metadata": {},
     "outputs": [],
     "prompt_number": 49
    },
    {
     "cell_type": "code",
     "collapsed": false,
     "input": [
      "mapper = pd.read_csv(\"gencode_to_refseq.txt\", index_col=3)"
     ],
     "language": "python",
     "metadata": {},
     "outputs": [],
     "prompt_number": 64
    },
    {
     "cell_type": "code",
     "collapsed": false,
     "input": [
      "experiments = {\"H1\" : pd.read_csv(\"H1.fpkm.txt\", sep=\"\\t\", index_col=0),\n",
      "               \"H2\" : pd.read_csv(\"H2.fpkm.txt\", sep=\"\\t\", index_col=0),\n",
      "                \"H3\" : pd.read_csv(\"H3.fpkm.txt\", sep=\"\\t\", index_col=0)}"
     ],
     "language": "python",
     "metadata": {},
     "outputs": [],
     "prompt_number": 62
    },
    {
     "cell_type": "code",
     "collapsed": false,
     "input": [
      "for experiment in experiments.values():\n",
      "    experiment.index = ([\"_\".join(refseq_id.split(\"_\")[:-1]) for refseq_id in experiment.index])\n"
     ],
     "language": "python",
     "metadata": {},
     "outputs": [],
     "prompt_number": 63
    },
    {
     "cell_type": "code",
     "collapsed": false,
     "input": [
      "master_dfs = {}\n",
      "for name, experiment in experiments.items():\n",
      "    master_dfs[name] = pd.merge(mapper.join(experiment, how=\"inner\"), type_gencode_map, left_on=\"Ensembl Gene ID\", right_index=True)"
     ],
     "language": "python",
     "metadata": {},
     "outputs": [],
     "prompt_number": 66
    },
    {
     "cell_type": "code",
     "collapsed": false,
     "input": [
      "df = \"H1\"\n",
      "master_dfs\n",
      "HTML(master_df[(master_df.gene_type == \"lincRNA\")  & \n",
      "          ((master_dfs[df][df + \"-DN\"] > 0) | \n",
      "           (master_dfs[df][df + \"-KO2\"] > 0) | \n",
      "           (master_dfs[df][df + \"-AzLow\"] > 0) | \n",
      "           (master_dfs[df][df + \"-AzLow\"] > 0)) ].to_html())\n",
      "\n",
      "master_df[(master_df.gene_type == \"lincRNA\")  & \n",
      "          ((master_dfs[df][df + \"-DN\"] > 0) | \n",
      "           (master_dfs[df][df + \"-KO2\"] > 0) | \n",
      "           (master_dfs[df][df + \"-AzLow\"] > 0) | \n",
      "           (master_dfs[df][df + \"-AzLow\"] > 0)) ].to_csv(os.path.join(out_dir, \"H1.csv\"))"
     ],
     "language": "python",
     "metadata": {},
     "outputs": [],
     "prompt_number": 78
    },
    {
     "cell_type": "code",
     "collapsed": false,
     "input": [
      "df = \"H2\"\n",
      "master_dfs\n",
      "HTML(master_df[(master_df.gene_type == \"lincRNA\")  & \n",
      "          ((master_dfs[df][df + \"-DN\"] > 0) | \n",
      "           (master_dfs[df][df + \"-KO2\"] > 0) | \n",
      "           (master_dfs[df][df + \"-AzLow\"] > 0) | \n",
      "           (master_dfs[df][df + \"-AzLow\"] > 0)) ].to_html())\n",
      "\n",
      "master_df[(master_df.gene_type == \"lincRNA\")  & \n",
      "          ((master_dfs[df][df + \"-DN\"] > 0) | \n",
      "           (master_dfs[df][df + \"-KO2\"] > 0) | \n",
      "           (master_dfs[df][df + \"-AzLow\"] > 0) | \n",
      "           (master_dfs[df][df + \"-AzLow\"] > 0)) ].to_csv(os.path.join(out_dir, \"H2.csv\"))"
     ],
     "language": "python",
     "metadata": {},
     "outputs": [],
     "prompt_number": 76
    },
    {
     "cell_type": "code",
     "collapsed": false,
     "input": [
      "df = \"H3\"\n",
      "master_dfs\n",
      "HTML(master_df[(master_df.gene_type == \"lincRNA\")  & \n",
      "          ((master_dfs[df][df + \"-DN\"] > 0) | \n",
      "           (master_dfs[df][df + \"-KO2\"] > 0) | \n",
      "           (master_dfs[df][df + \"-AzLow\"] > 0) | \n",
      "           (master_dfs[df][df + \"-AzLow\"] > 0)) ].to_html())\n",
      "\n",
      "master_df[(master_df.gene_type == \"lincRNA\")  & \n",
      "          ((master_dfs[df][df + \"-DN\"] > 0) | \n",
      "           (master_dfs[df][df + \"-KO2\"] > 0) | \n",
      "           (master_dfs[df][df + \"-AzLow\"] > 0) | \n",
      "           (master_dfs[df][df + \"-AzLow\"] > 0)) ].to_csv(os.path.join(out_dir, \"H3.csv\"))"
     ],
     "language": "python",
     "metadata": {},
     "outputs": [],
     "prompt_number": 77
    },
    {
     "cell_type": "code",
     "collapsed": false,
     "input": [],
     "language": "python",
     "metadata": {},
     "outputs": [],
     "prompt_number": 77
    },
    {
     "cell_type": "code",
     "collapsed": false,
     "input": [],
     "language": "python",
     "metadata": {},
     "outputs": []
    }
   ],
   "metadata": {}
  }
 ]
}