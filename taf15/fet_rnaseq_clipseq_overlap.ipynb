{
 "metadata": {
  "name": "",
  "signature": "sha256:400d3588838b5371a7240c0a16d54b2166ac6b44d786a107bafb85c9765c5cb0"
 },
 "nbformat": 3,
 "nbformat_minor": 0,
 "worksheets": [
  {
   "cells": [
    {
     "cell_type": "code",
     "collapsed": false,
     "input": [
      "import glob \n",
      "import os\n",
      "import itertools\n",
      "import numpy as np\n",
      "import pandas as pd\n",
      "\n",
      "from collections import OrderedDict, Counter\n",
      "from clipper.src import CLIP_analysis\n",
      "from collections import defaultdict\n",
      "fig_dir = \".\"\n",
      "from gscripts.general import dataviz\n",
      "\n",
      "import seaborn as sns"
     ],
     "language": "python",
     "metadata": {},
     "outputs": [
      {
       "output_type": "stream",
       "stream": "stderr",
       "text": [
        "/nas/nas0/yeolab/Software/lib/python2.7/site-packages/matplotlib-1.4.x-py2.7-linux-x86_64.egg/matplotlib/__init__.py:1241: UserWarning:  This call to matplotlib.use() has no effect\n",
        "because the backend has already been chosen;\n",
        "matplotlib.use() must be called *before* pylab, matplotlib.pyplot,\n",
        "or matplotlib.backends is imported for the first time.\n",
        "\n",
        "  warnings.warn(_use_error_msg)\n"
       ]
      }
     ],
     "prompt_number": 1
    },
    {
     "cell_type": "code",
     "collapsed": false,
     "input": [
      "%load_ext autoreload\n",
      "%autoreload 2\n",
      "%matplotlib inline\n",
      "reload(CLIP_analysis)"
     ],
     "language": "python",
     "metadata": {},
     "outputs": [
      {
       "metadata": {},
       "output_type": "pyout",
       "prompt_number": 2,
       "text": [
        "<module 'clipper.src.CLIP_analysis' from '/nas/nas0/yeolab/Software/lib/python2.7/site-packages/clipper-0.2.0-py2.7-linux-x86_64.egg/clipper/src/CLIP_analysis.pyc'>"
       ]
      }
     ],
     "prompt_number": 2
    },
    {
     "cell_type": "code",
     "collapsed": false,
     "input": [
      "regions = OrderedDict()\n",
      "regions[\"cds\"] = \"CDS\"\n",
      "regions[\"three_prime_utrs\"] = \"3' UTR\"\n",
      "regions[\"five_prime_utrs\"] = \"5' UTR\"\n",
      "regions[\"proxintron500\"] = \"Proximal\\nIntron\"\n",
      "regions[\"distintron500\"] = \"Distal\\nIntron\"\n"
     ],
     "language": "python",
     "metadata": {},
     "outputs": [],
     "prompt_number": 3
    },
    {
     "cell_type": "code",
     "collapsed": false,
     "input": [
      "rpkms = glob.glob(\"/nas3/gpratt/projects/fet_family/analysis/fet_family_v1/*.rpkm\")\n",
      "rpkms = {os.path.basename(rpkm).split(\".\")[0]: pd.read_table(rpkm, index_col=0).RPKM for rpkm in rpkms}\n",
      "rpkms = pd.concat(rpkms).unstack().T"
     ],
     "language": "python",
     "metadata": {},
     "outputs": [],
     "prompt_number": 16
    },
    {
     "cell_type": "code",
     "collapsed": false,
     "input": [
      "master_df = pd.read_excel(\"/nas3/gpratt/Dropbox/TAF15/Data/striatum_overlap/FETT_clip_plus_halflife.xlsx\", \"fold_changes\", index_col=0)\n",
      "\n",
      "master_df = master_df.drop(\"Unnamed: 1\", axis=1)\n",
      "\n",
      "master_df['FUS UTR3 clip'][master_df['FUS UTR3 clip'] == \"none\"] = 0\n",
      "#master_df['TAF UTR3 clip'][master_df['TAF UTR3 clip'] == \"none\"] = 0\n",
      "master_df['TDP43 UTR3 clip'][master_df['TDP43 UTR3 clip'] == \"none\"] = 0\n",
      "master_df = master_df.astype(float)\n",
      "master_df['TAF log2 Fold change'] = master_df['TAF Fold change'].apply(np.log2)\n",
      "\n",
      "master_df['FUS_3UTR_bound'] = master_df['FUS UTR3 clip'] > 0\n",
      "master_df['TAF_3UTR_bound'] = master_df['TAF UTR3 clip'] > 0\n",
      "master_df['TDP43_3UTR_bound'] = master_df['TDP43 UTR3 clip'] > 0\n",
      "\n",
      "master_df['TDP43_FUS_3UTR_bound'] = master_df['TDP43_3UTR_bound'] & master_df['FUS_3UTR_bound']\n",
      "master_df['TAF_FUS_3UTR_bound'] = master_df['TAF_3UTR_bound'] & master_df['FUS_3UTR_bound']\n",
      "master_df['TDP43_TAF_3UTR_bound'] = master_df['TDP43_3UTR_bound'] & master_df['TAF_3UTR_bound']\n",
      "master_df['TDP43_TAF_FUS_3UTR_bound'] = master_df['TDP43_3UTR_bound'] & master_df['TAF_3UTR_bound'] & master_df['FUS_3UTR_bound']\n",
      "\n",
      "joined_df = rpkms.join(master_df)\n",
      "joined_df.to_csv(\"/nas3/gpratt/Dropbox/TAF15/Data/rpkms_and_binding.csv\")"
     ],
     "language": "python",
     "metadata": {},
     "outputs": [],
     "prompt_number": 26
    },
    {
     "cell_type": "code",
     "collapsed": false,
     "input": [
      "def move_name(interval):\n",
      "    interval.name = interval[12]\n",
      "    return interval"
     ],
     "language": "python",
     "metadata": {},
     "outputs": [],
     "prompt_number": 8
    },
    {
     "cell_type": "code",
     "collapsed": false,
     "input": [
      "genes = pybedtools.BedTool(\"/nas3/gpratt/clipper/clipper/data/regions/mm9_genes.bed\")\n",
      "\n",
      "rbps = {\"taf15\": pybedtools.BedTool(\"/nas3/gpratt/projects/fet_family/data/stuff_for_KK/TAF15_combined_notrim_ingenes_clusters_mm950.bed\"),\n",
      " \"fus\": pybedtools.BedTool(\"/nas3/gpratt/projects/fet_family/data/stuff_for_KK/TLS_hiseq_notrim_ingenes_clusters_mm950.bed\"),\n",
      " \"tdp43\": pybedtools.BedTool(\"/nas3/gpratt/projects/fet_family/data/stuff_for_KK/TDP43brainclip_MP41_kcomb_notrim_ingenes_clusters_mm950.bed\"),\n",
      " }\n",
      "\n"
     ],
     "language": "python",
     "metadata": {},
     "outputs": [],
     "prompt_number": 11
    },
    {
     "cell_type": "code",
     "collapsed": false,
     "input": [
      "rpkms.to_csv(\"/nas3/gpratt/Dropbox/TAF15/Data/rpkms_and_binding.csv\")"
     ],
     "language": "python",
     "metadata": {},
     "outputs": [],
     "prompt_number": 23
    },
    {
     "cell_type": "code",
     "collapsed": false,
     "input": [
      "rbp_columns = ['tdp43_three_prime_utrs',\n",
      "                'tdp43_all',\n",
      "                'tdp43_five_prime_utrs',\n",
      "                'tdp43_distintron500',\n",
      "                'tdp43_cds',\n",
      "                'tdp43_proxintron500',\n",
      "                'fus_three_prime_utrs',\n",
      "                'fus_all',\n",
      "                'fus_five_prime_utrs',\n",
      "                'fus_distintron500',\n",
      "                'fus_cds',\n",
      "                'fus_proxintron500',\n",
      "                'taf15_three_prime_utrs',\n",
      "                'taf15_all',\n",
      "                'taf15_five_prime_utrs',\n",
      "                'taf15_distintron500',\n",
      "                'taf15_cds',\n",
      "                'taf15_proxintron500',]\n",
      "for x in range(2, len(rbp_columns)):\n",
      "    for combination in itertools.combinations(rbp_columns, x):\n",
      "        rpkms[\"_\".join(combination)] = rpkms[list(combination)].apply(lambda x: all(x), axis=1)"
     ],
     "language": "python",
     "metadata": {},
     "outputs": []
    },
    {
     "cell_type": "code",
     "collapsed": false,
     "input": [
      "combined_df = pd.concat({\"taf15\": pd.read_table(\"/nas3/gpratt/projects/fet_family/analysis/fet_rnaseq_merged_v1/TAF15/gene_exp.diff\", index_col=0),\n",
      "            \"tdp43\": pd.read_table(\"/nas3/gpratt/projects/fet_family/analysis/fet_rnaseq_merged_v1/TDP43/gene_exp.diff\", index_col=0),\n",
      "            \"tls\": pd.read_table(\"/nas3/gpratt/projects/fet_family/analysis/fet_rnaseq_merged_v1/TLS/gene_exp.diff\", index_col=0),\n",
      "            \"tls_brain\": pd.read_table(\"/nas3/gpratt/projects/fet_family/analysis/fet_rnaseq_merged_v1/TLS_brain/gene_exp.diff\", index_col=0),\n",
      "            \"tia1\": pd.read_table(\"/nas3/gpratt/projects/fet_family/analysis/fet_rnaseq_merged_v1/TIA1/gene_exp.diff\", index_col=0),\n",
      "            })"
     ],
     "language": "python",
     "metadata": {},
     "outputs": [],
     "prompt_number": 13
    },
    {
     "cell_type": "code",
     "collapsed": false,
     "input": [
      "binding_df = pd.DataFrame()\n",
      "for name, rbp in rbps.items():\n",
      "    overlapping_genes = rbp.intersect(genes, wo=True, s=True)\n",
      "\n",
      "    cluster_regions = CLIP_analysis.assign_to_regions(overlapping_genes.each(move_name).saveas(), \"overlapping\", \n",
      "                                    regions, \"assigned\", nrand=0, species=\"mm9\")\n",
      "    \n",
      "    for region in cluster_regions.keys():\n",
      "        gene_names = pd.Series(Counter([interval.name.split(\",\")[0] for interval in cluster_regions[region]['real']]),\n",
      "                                name=name + \"_\" + region)\n",
      "        binding_df[name + \"_\" + region] = gene_names\n",
      "        \n",
      "binding_df = binding_df.fillna(0)\n",
      "#combined_df.columns = [\"_\".join(column) for column in combined_df.columns] "
     ],
     "language": "python",
     "metadata": {},
     "outputs": [
      {
       "output_type": "stream",
       "stream": "stdout",
       "text": [
        "There are a total 69657 clusters I'll examine\n",
        "For region: cds found 521 that overlap and 69136 that don't"
       ]
      },
      {
       "output_type": "stream",
       "stream": "stdout",
       "text": [
        "\n",
        "For region: three_prime_utrs found 2999 that overlap and 66137 that don't"
       ]
      },
      {
       "output_type": "stream",
       "stream": "stdout",
       "text": [
        "\n",
        "For region: five_prime_utrs found 194 that overlap and 65943 that don't"
       ]
      },
      {
       "output_type": "stream",
       "stream": "stdout",
       "text": [
        "\n",
        "For region: proxintron500 found 8456 that overlap and 57487 that don't"
       ]
      },
      {
       "output_type": "stream",
       "stream": "stdout",
       "text": [
        "\n",
        "For region: distintron500 found 56704 that overlap and 783 that don't"
       ]
      },
      {
       "output_type": "stream",
       "stream": "stdout",
       "text": [
        "\n",
        "After assigning 783 un-categorized regions"
       ]
      },
      {
       "output_type": "stream",
       "stream": "stdout",
       "text": [
        "\n",
        "There are a total 155599 clusters I'll examine"
       ]
      },
      {
       "output_type": "stream",
       "stream": "stdout",
       "text": [
        "\n",
        "For region: cds found 13193 that overlap and 142406 that don't"
       ]
      },
      {
       "output_type": "stream",
       "stream": "stdout",
       "text": [
        "\n",
        "For region: three_prime_utrs found 10705 that overlap and 131701 that don't"
       ]
      },
      {
       "output_type": "stream",
       "stream": "stdout",
       "text": [
        "\n",
        "For region: five_prime_utrs found 944 that overlap and 130757 that don't"
       ]
      },
      {
       "output_type": "stream",
       "stream": "stdout",
       "text": [
        "\n",
        "For region: proxintron500 found 20296 that overlap and 110461 that don't"
       ]
      },
      {
       "output_type": "stream",
       "stream": "stdout",
       "text": [
        "\n",
        "For region: distintron500 found 107495 that overlap and 2966 that don't"
       ]
      },
      {
       "output_type": "stream",
       "stream": "stdout",
       "text": [
        "\n",
        "After assigning 2966 un-categorized regions"
       ]
      },
      {
       "output_type": "stream",
       "stream": "stdout",
       "text": [
        "\n",
        "There are a total 44610 clusters I'll examine"
       ]
      },
      {
       "output_type": "stream",
       "stream": "stdout",
       "text": [
        "\n",
        "For region: cds found 1470 that overlap and 43140 that don't"
       ]
      },
      {
       "output_type": "stream",
       "stream": "stdout",
       "text": [
        "\n",
        "For region: three_prime_utrs found 5682 that overlap and 37458 that don't"
       ]
      },
      {
       "output_type": "stream",
       "stream": "stdout",
       "text": [
        "\n",
        "For region: five_prime_utrs found 276 that overlap and 37182 that don't"
       ]
      },
      {
       "output_type": "stream",
       "stream": "stdout",
       "text": [
        "\n",
        "For region: proxintron500 found 4518 that overlap and 32664 that don't"
       ]
      },
      {
       "output_type": "stream",
       "stream": "stdout",
       "text": [
        "\n",
        "For region: distintron500 found 31726 that overlap and 938 that don't"
       ]
      },
      {
       "output_type": "stream",
       "stream": "stdout",
       "text": [
        "\n",
        "After assigning 938 un-categorized regions"
       ]
      },
      {
       "output_type": "stream",
       "stream": "stdout",
       "text": [
        "\n"
       ]
      }
     ],
     "prompt_number": 12
    },
    {
     "cell_type": "code",
     "collapsed": false,
     "input": [
      "sig_df = combined_df[combined_df['significant'] == \"yes\"]"
     ],
     "language": "python",
     "metadata": {},
     "outputs": [],
     "prompt_number": 16
    },
    {
     "cell_type": "code",
     "collapsed": false,
     "input": [
      "result = defaultdict(dict)\n",
      "for name, df in sig_df.groupby(level=0):\n",
      "    bound_df = df.ix[name].join(binding_df).fillna(0)\n",
      "    for column in binding_df.columns:\n",
      "        result[name][column] = bound_df[bound_df[column] > 0]['log2(fold_change)'].values\n",
      "        if len(result[name][column]) == 0:\n",
      "            result[name][column] = [0]\n",
      "result = pd.DataFrame(result)"
     ],
     "language": "python",
     "metadata": {},
     "outputs": [],
     "prompt_number": 60
    },
    {
     "cell_type": "code",
     "collapsed": false,
     "input": [
      "result.to_csv(\"/nas3/gpratt/Dropbox/TAF15/Data/significant_values.csv\")"
     ],
     "language": "python",
     "metadata": {},
     "outputs": [],
     "prompt_number": 98
    },
    {
     "cell_type": "code",
     "collapsed": false,
     "input": [
      "with dataviz.Figure(os.path.join(fig_dir, \"foo.svg\"), figsize=(6,24)) as fig:\n",
      "    for x, rbp in enumerate(result.drop(\"tia1\", axis=1).columns):\n",
      "        rbp_name = rbp.split(\"_\")[0]\n",
      "        if rbp_name == \"tls\":\n",
      "            rbp_name = \"fus\"\n",
      "        ax = fig.add_subplot(4,1,x + 1)\n",
      "        ax.boxplot(result[rbp][[index for index in result[rbp].index if rbp_name in index]])\n",
      "        ax.set_xticklabels([index for index in result[rbp].index if rbp_name in index], rotation=90)\n",
      "        ax.set_ylim(-5, 8)"
     ],
     "language": "python",
     "metadata": {},
     "outputs": [
      {
       "metadata": {},
       "output_type": "display_data",
       "png": "[encoded data removed]",
       "text": [
        "<matplotlib.figure.Figure at 0xff33250>"
       ]
      }
     ],
     "prompt_number": 94
    },
    {
     "cell_type": "code",
     "collapsed": false,
     "input": [],
     "language": "python",
     "metadata": {},
     "outputs": []
    }
   ],
   "metadata": {}
  }
 ]
}