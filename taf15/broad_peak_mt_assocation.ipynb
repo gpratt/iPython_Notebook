{
 "metadata": {
  "name": "",
  "signature": "sha256:2c88a2b0f84b3107ad1799a889fbd0be0734ec6b4e0e3be0c1909b35e8b91901"
 },
 "nbformat": 3,
 "nbformat_minor": 0,
 "worksheets": [
  {
   "cells": [
    {
     "cell_type": "code",
     "collapsed": false,
     "input": [
      "import os\n",
      "\n",
      "import pandas as pd\n",
      "import pybedtools\n",
      "import numpy as np"
     ],
     "language": "python",
     "metadata": {},
     "outputs": [],
     "prompt_number": 1
    },
    {
     "cell_type": "code",
     "collapsed": false,
     "input": [],
     "language": "python",
     "metadata": {},
     "outputs": []
    },
    {
     "cell_type": "code",
     "collapsed": false,
     "input": [
      "def counts_to_rpkm(featureCountsTable):\n",
      "    counts = featureCountsTable.ix[:,5:]\n",
      "    lengths = featureCountsTable['Length']\n",
      "    mapped_reads = counts.sum()\n",
      "    return (counts * pow(10,9)).div(mapped_reads, axis=1).div(lengths, axis=0)\n",
      "\n",
      "def bedtool_from_dataframe(dataframe):\n",
      "    new_bedtool = []\n",
      "    for name, row in dataframe.iterrows():\n",
      "        new_bedtool.append(pybedtools.Interval(row.chrom, \n",
      "                                  row.start, \n",
      "                                  row.stop, \n",
      "                                  str(row.name), \n",
      "                                  str(row.score), \n",
      "                                  row.strand,\n",
      "                                  otherfields=map(str, row.values[6:])))\n",
      "    return pybedtools.BedTool(new_bedtool)"
     ],
     "language": "python",
     "metadata": {},
     "outputs": [],
     "prompt_number": 2
    },
    {
     "cell_type": "code",
     "collapsed": false,
     "input": [
      "bam = pybedtools.BedTool(\"/nas3/gpratt/projects/fet_family/analysis/mouse_clip_v1/TAF15_WholeBrain.bam\")\n",
      "bed = pybedtools.BedTool(\"/nas3/gpratt/projects/fet_family/data/stuff_for_KK/TAF15_combined_notrim_ingenes_clusters_mm950.bed\")"
     ],
     "language": "python",
     "metadata": {},
     "outputs": [],
     "prompt_number": 3
    },
    {
     "cell_type": "code",
     "collapsed": false,
     "input": [
      "genes = pybedtools.BedTool(\"/nas3/gpratt/clipper/clipper/data/regions/mm9_genes.bed\")\n",
      "overlapping_genes = bed.intersect(genes, wo=True, s=True)\n",
      "target_genes = set([interval[-4] for interval in overlapping_genes])"
     ],
     "language": "python",
     "metadata": {},
     "outputs": [],
     "prompt_number": 4
    },
    {
     "cell_type": "markdown",
     "metadata": {},
     "source": [
      "#Very begining of understanding what the new peak calling method will look like"
     ]
    },
    {
     "cell_type": "code",
     "collapsed": false,
     "input": [
      "result = bam.coverage(genes, split=True, s=True)\n",
      "df = result.to_dataframe(names=['chrom', u'start', u'end', u'name', u'score', u'strand', u'num_reads', u'bases_covered', u'feature_len', u'fraction_covered'])\n",
      "df['fold_coverage'] = df.num_reads / df.feature_len"
     ],
     "language": "python",
     "metadata": {},
     "outputs": [],
     "prompt_number": 5
    },
    {
     "cell_type": "markdown",
     "metadata": {},
     "source": [
      "#How What does coverage look like, what are the signals we can use to call coated / long range genes?"
     ]
    },
    {
     "cell_type": "code",
     "collapsed": false,
     "input": [
      "df.hist(column=[\"fold_coverage\", \"fraction_covered\"])"
     ],
     "language": "python",
     "metadata": {},
     "outputs": [
      {
       "metadata": {},
       "output_type": "pyout",
       "prompt_number": 6,
       "text": [
        "array([[<matplotlib.axes._subplots.AxesSubplot object at 0xdbef850>,\n",
        "        <matplotlib.axes._subplots.AxesSubplot object at 0xddb3190>]], dtype=object)"
       ]
      },
      {
       "metadata": {},
       "output_type": "display_data",
       "png": "[encoded data removed]",
       "text": [
        "<matplotlib.figure.Figure at 0xdbef110>"
       ]
      }
     ],
     "prompt_number": 6
    },
    {
     "cell_type": "code",
     "collapsed": false,
     "input": [
      "kaseys_method = df[df.name.isin(target_genes)]\n",
      "kaseys_method.hist(column=[\"fold_coverage\", \"fraction_covered\"])"
     ],
     "language": "python",
     "metadata": {},
     "outputs": [
      {
       "metadata": {},
       "output_type": "pyout",
       "prompt_number": 7,
       "text": [
        "array([[<matplotlib.axes._subplots.AxesSubplot object at 0xdd15810>,\n",
        "        <matplotlib.axes._subplots.AxesSubplot object at 0xdb70710>]], dtype=object)"
       ]
      },
      {
       "metadata": {},
       "output_type": "display_data",
       "png": "[encoded data removed]",
       "text": [
        "<matplotlib.figure.Figure at 0xe2d9e50>"
       ]
      }
     ],
     "prompt_number": 7
    },
    {
     "cell_type": "markdown",
     "metadata": {},
     "source": [
      "Fold coverage isn't a useful metric, however fraction covered might still be useful. "
     ]
    },
    {
     "cell_type": "markdown",
     "metadata": {},
     "source": [
      "#What is the overlap between old and new methods?"
     ]
    },
    {
     "cell_type": "code",
     "collapsed": false,
     "input": [
      "for threshold in np.arange(0,1.1,.1):\n",
      "    print threshold, len(target_genes), len(df[(df.fraction_covered >= threshold)]), len(set(df[(df.fraction_covered >= threshold)].name.values) & set(df[df.name.isin(target_genes)].name.values))\n"
     ],
     "language": "python",
     "metadata": {},
     "outputs": [
      {
       "output_type": "stream",
       "stream": "stdout",
       "text": [
        "0.0 4865 37310 4865\n",
        "0.1 4865 16542 "
       ]
      },
      {
       "output_type": "stream",
       "stream": "stdout",
       "text": [
        "4841\n",
        "0.2 4865 12910 4754\n",
        "0.3 4865 9514 4405\n",
        "0.4 4865 6134 "
       ]
      },
      {
       "output_type": "stream",
       "stream": "stdout",
       "text": [
        "3407\n",
        "0.5 4865 3512 1999\n",
        "0.6 4865 1877 935\n",
        "0.7 4865 1020 358\n",
        "0.8 4865 582 134\n",
        "0.9 4865 323 61\n",
        "1.0 4865 163 "
       ]
      },
      {
       "output_type": "stream",
       "stream": "stdout",
       "text": [
        "34\n"
       ]
      }
     ],
     "prompt_number": 8
    },
    {
     "cell_type": "markdown",
     "metadata": {},
     "source": [
      "Digging in, of the genes that don't overlap, what are the paramaters of 1) the genes, 2) the specific targets"
     ]
    },
    {
     "cell_type": "code",
     "collapsed": false,
     "input": [
      "mito_genes = genes.filter(lambda x: x.chrom == \"chrM\").sort()"
     ],
     "language": "python",
     "metadata": {},
     "outputs": [],
     "prompt_number": 21
    },
    {
     "cell_type": "code",
     "collapsed": false,
     "input": [
      "intersect_coverage = mito_genes.intersect(bam, split=True, s=True)"
     ],
     "language": "python",
     "metadata": {},
     "outputs": []
    },
    {
     "cell_type": "code",
     "collapsed": false,
     "input": [
      "coverage = bam.coverage(mito_genes, split=True, s=True)\n"
     ],
     "language": "python",
     "metadata": {},
     "outputs": []
    },
    {
     "cell_type": "markdown",
     "metadata": {},
     "source": [
      "Issues to think about:\n",
      "1. Gene Expression -- can't worry about this\n",
      "2. Fold Coverage \n",
      "3. "
     ]
    },
    {
     "cell_type": "code",
     "collapsed": false,
     "input": [
      "!scp /home/gpratt/projects/fet_family/analysis/mouse_clip_v1/*.count ~/projects/fet_family/analysis/mouse_clip_v1"
     ],
     "language": "python",
     "metadata": {},
     "outputs": []
    },
    {
     "cell_type": "code",
     "collapsed": false,
     "input": [],
     "language": "python",
     "metadata": {},
     "outputs": []
    }
   ],
   "metadata": {}
  }
 ]
}