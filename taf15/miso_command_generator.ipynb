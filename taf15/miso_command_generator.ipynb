{
 "metadata": {
  "name": "",
  "signature": "sha256:27f4a5d7b02ebb58d9311fdb7d90d4118a4c38a3b950ee9acf62ac69212432ca"
 },
 "nbformat": 3,
 "nbformat_minor": 0,
 "worksheets": [
  {
   "cells": [
    {
     "cell_type": "code",
     "collapsed": false,
     "input": [
      "import pandas as pd\n",
      "import itertools\n",
      "import os"
     ],
     "language": "python",
     "metadata": {},
     "outputs": [],
     "prompt_number": 23
    },
    {
     "cell_type": "code",
     "collapsed": false,
     "input": [
      "samples = \"\"\"FUS_shRNA_1 \n",
      "FUS_shRNA_2\n",
      "FUS_TAF15_shRNA_1 \n",
      "FUS_TAF15_shRNA_2 \n",
      "TAF15_shRNA_1 \n",
      "TAF15_shRNA_2\n",
      "TAF15_TDP43_shRNA_1\n",
      "TAF15_TDP43_shRNA_2\n",
      "TDP43_shRNA_1\n",
      "TDP43_shRNA_2\"\"\".split(\"\\n\")\n",
      "\n",
      "controls = [\"Scrm_1\", \"Scrm_2\"]\n",
      "\n",
      "splice_types = \"\"\"A3SS\n",
      "A5SS\n",
      "AFE \n",
      "ALE  \n",
      "MXE  \n",
      "RI \n",
      "SE\n",
      "TANDEMUTR\"\"\".split(\"\\n\")\n"
     ],
     "language": "python",
     "metadata": {},
     "outputs": [],
     "prompt_number": 3
    },
    {
     "cell_type": "code",
     "collapsed": false,
     "input": [
      "count = 0\n",
      "working_dir = \"/home/gpratt/projects/fet_family/analysis/human_mn_v1/miso\"\n",
      "with open(\"miso_compare.sh\", 'w') as outfile:\n",
      "    for sample in samples:\n",
      "        for control in controls:\n",
      "            for splice_type in splice_types:\n",
      "                count +=1\n",
      "                sample = sample.strip()\n",
      "                control = control.strip()\n",
      "                splice_type = splice_type.strip()\n",
      "                outfile.write(\"cmd[{3}]=\\\"compare_miso --compare-samples {0}/{2} {1}/{2} {0}vs{1}_{2}\\\"\\n\".format(sample, control, splice_type, count))"
     ],
     "language": "python",
     "metadata": {},
     "outputs": [],
     "prompt_number": 18
    },
    {
     "cell_type": "code",
     "collapsed": false,
     "input": [
      "!scp tscc-login.sdsc.edu:/home/gpratt/projects/fet_family/analysis/fet_family_v1/miso/all_splicing_calls.txt ."
     ],
     "language": "python",
     "metadata": {},
     "outputs": [
      {
       "output_type": "stream",
       "stream": "stdout",
       "text": [
        "\r",
        "all_splicing_calls.txt                          0%    0     0.0KB/s   --:-- ETA"
       ]
      },
      {
       "output_type": "stream",
       "stream": "stdout",
       "text": [
        "\r",
        "all_splicing_calls.txt                        100% 5048     4.9KB/s   00:00    \r\n"
       ]
      }
     ],
     "prompt_number": 20
    },
    {
     "cell_type": "markdown",
     "metadata": {},
     "source": [
      "Anything with a different MP## is a different mouse brain, and the _# following it will be a technical replicate. There are some that say  \"none\" for the MP#, because a # wasn't provided by the illustrious Magda/Clot, and I had to assume they were different mouse brains."
     ]
    },
    {
     "cell_type": "code",
     "collapsed": false,
     "input": [
      "metadata = pd.read_csv(\"/nas3/gpratt/Dropbox/TAF15/unix_mouse_fet_data_locations_and_annitations.csv\")\n",
      "metadata = metadata[metadata.geo_name != \"not_submitted\"]\n",
      "null_bioreps = metadata[metadata['Biological Replicate'].isnull()]\n",
      "metadata.loc[null_bioreps.index,'Biological Replicate'] = null_bioreps.Location.apply(lambda x: os.path.basename(x).split(\".\")[0]).values\n",
      "biorep_info = metadata.groupby('Biological Replicate').first()\n",
      "\n",
      "biorep_info = biorep_info[biorep_info.rbp != \"PBS\"]"
     ],
     "language": "python",
     "metadata": {},
     "outputs": [],
     "prompt_number": 104
    },
    {
     "cell_type": "code",
     "collapsed": false,
     "input": [
      "all_controls = set(['Control Oligo', 'HTT'])\n",
      "all_rbps = set(['TLS', 'TAF15', 'TIA1', 'HuR', 'TDP43'])"
     ],
     "language": "python",
     "metadata": {},
     "outputs": [],
     "prompt_number": 105
    },
    {
     "cell_type": "code",
     "collapsed": false,
     "input": [
      "prolouge= \"\"\"#!/bin/bash                                                                                                                                                                                            \n",
      "\n",
      "#PBS -N miso_compare\n",
      "#PBS -l nodes=1:ppn=1\n",
      "#PBS -o miso_compare.out\n",
      "#PBS -e miso_compare.err\n",
      "#PBS -V\n",
      "#PBS -q condo\n",
      "#PBS -W group_list=yeo-group\n",
      "#PBS -t 1-80\n",
      "#PBS -l walltime=8:00:00\n",
      "\n",
      "cd ~/projects/fet_family/analysis/fet_family_v2/miso\n",
      "\"\"\"\n",
      "\n",
      "eplouge = \"eval ${cmd[$PBS_ARRAYID]}\""
     ],
     "language": "python",
     "metadata": {},
     "outputs": [],
     "prompt_number": 106
    },
    {
     "cell_type": "code",
     "collapsed": false,
     "input": [
      "count = 0\n",
      "num_files = 1\n",
      "outfile = open(\"mouse_miso_compare_{0}.sh\".format(num_files), 'w')\n",
      "outfile.write(prolouge)\n",
      "for analysis_group, analysis_df in biorep_info.groupby(\"analysis_group\"):\n",
      "    for cell_type, cell_type_df in analysis_df.groupby([\"Cell Type\"]):\n",
      "        groups = {}\n",
      "        for rbp, rbp_df in cell_type_df.groupby([\"rbp\"]):\n",
      "            groups[rbp] = rbp_df\n",
      "\n",
      "        controls = set(groups.keys()) & all_controls\n",
      "        rbps = set(groups.keys()) & all_rbps\n",
      "        for rbp in rbps:\n",
      "            for control in controls:\n",
      "                for rbp_file, control_file in itertools.product(groups[rbp].index, groups[control].index):\n",
      "                    for splice_type in splice_types:\n",
      "                        count += 1\n",
      "                        \n",
      "                        if count > 500:\n",
      "                            count = 0\n",
      "                            outfile.write(eplouge)\n",
      "                            outfile.close()\n",
      "                            num_files += 1\n",
      "                            outfile = open(\"mouse_miso_compare_{0}.sh\".format(num_files), 'w')\n",
      "                            outfile.write(prolouge)\n",
      "                        splice_type = splice_type.strip()\n",
      "                        outfile.write(\"cmd[{3}]=\\\"compare_miso --compare-samples {0}/{2} {1}/{2} {0}vs{1}_{2}\\\"\\n\".format(rbp_file, control_file, splice_type, count))\n",
      "\n",
      "outfile.write(eplouge)\n",
      "outfile.close()"
     ],
     "language": "python",
     "metadata": {},
     "outputs": [],
     "prompt_number": 107
    },
    {
     "cell_type": "code",
     "collapsed": false,
     "input": [
      "!scp mouse_miso_compare*.sh tscc-login.sdsc.edu:~/projects/fet_family/analysis/fet_family_v1/miso\n",
      "!scp mouse_miso_compare*.sh tscc-login.sdsc.edu:~/projects/fet_family/analysis/fet_family_v2/miso"
     ],
     "language": "python",
     "metadata": {},
     "outputs": [
      {
       "output_type": "stream",
       "stream": "stdout",
       "text": [
        "\r",
        "mouse_miso_compare_1.sh                         0%    0     0.0KB/s   --:-- ETA\r",
        "mouse_miso_compare_1.sh                       100%   78KB  77.9KB/s   00:00    \r\n"
       ]
      },
      {
       "output_type": "stream",
       "stream": "stdout",
       "text": [
        "\r",
        "mouse_miso_compare_2.sh                         0%    0     0.0KB/s   --:-- ETA\r",
        "mouse_miso_compare_2.sh                       100%   31KB  30.9KB/s   00:00    \r\n"
       ]
      },
      {
       "output_type": "stream",
       "stream": "stdout",
       "text": [
        "\r",
        "mouse_miso_compare_1.sh                         0%    0     0.0KB/s   --:-- ETA\r",
        "mouse_miso_compare_1.sh                       100%   78KB  77.9KB/s   00:00    \r\n",
        "\r",
        "mouse_miso_compare_2.sh                         0%    0     0.0KB/s   --:-- ETA"
       ]
      },
      {
       "output_type": "stream",
       "stream": "stdout",
       "text": [
        "\r",
        "mouse_miso_compare_2.sh                       100%   31KB  30.9KB/s   00:00    \r\n"
       ]
      }
     ],
     "prompt_number": 108
    },
    {
     "cell_type": "code",
     "collapsed": false,
     "input": [],
     "language": "python",
     "metadata": {},
     "outputs": []
    }
   ],
   "metadata": {}
  }
 ]
}