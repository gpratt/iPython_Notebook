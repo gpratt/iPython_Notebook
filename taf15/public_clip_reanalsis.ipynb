{
 "cells": [
  {
   "cell_type": "code",
   "execution_count": 4,
   "metadata": {
    "collapsed": true
   },
   "outputs": [],
   "source": [
    "from collections import Counter\n",
    "import os\n",
    "import pickle\n",
    "import glob\n",
    "\n",
    "import matplotlib.ticker as tkr\n",
    "from IPython.core.display import HTML\n",
    "import pandas as pd\n",
    "import scipy.spatial\n",
    "import scipy.cluster\n",
    "import seaborn as sns\n",
    "\n",
    "from gscripts.general import parsers\n",
    "from gscripts.general.dataviz import Figure\n",
    "from gscripts.GO import GO\n",
    "import gffutils\n",
    "from scipy.stats import hypergeom\n",
    "\n",
    "img_path = \"/nas3/gpratt/Dropbox/Presentations/notebooks/public_clip\""
   ]
  },
  {
   "cell_type": "code",
   "execution_count": 18,
   "metadata": {
    "collapsed": true
   },
   "outputs": [],
   "source": [
    "!mkdir -p /nas3/gpratt/projects/public_clip/analysis/v1_small/"
   ]
  },
  {
   "cell_type": "code",
   "execution_count": 85,
   "metadata": {
    "collapsed": false
   },
   "outputs": [
    {
     "name": "stdout",
     "output_type": "stream",
     "text": [
      "rep1.merged.peaks.metrics                     100%   20     0.0KB/s   00:00    \n",
      "SRR644273.polyATrim.adapterTrim.metrics       100%   11KB  10.6KB/s   00:00    \n",
      "SRR644273.polyATrim.adapterTrim.rep.sorted.rm 100%   57     0.1KB/s   00:00    \n",
      "SRR644273.polyATrim.adapterTrim.rmRep.metrics 100%   39KB  39.4KB/s   00:00    \n",
      "SRR644273.polyATrim.adapterTrim.rmRep.NRF.met 100%   39     0.0KB/s   00:00    \n",
      "SRR644273.polyATrim.adapterTrim.rmRep.rmDup.m 100%   57     0.1KB/s   00:00    \n",
      "SRR644273.polyATrim.adapterTrim.rmRep.rmDup.s 100%   21     0.0KB/s   00:00    \n",
      "SRR644273.polyATrim.adapterTrim.rmRep.rmDup.s 100%   21     0.0KB/s   00:00    \n",
      "SRR644274.polyATrim.adapterTrim.metrics       100%   12KB  11.5KB/s   00:00    \n",
      "SRR644274.polyATrim.adapterTrim.rep.sorted.rm 100%   57     0.1KB/s   00:00    \n",
      "SRR644274.polyATrim.adapterTrim.rmRep.metrics 100%   41KB  41.1KB/s   00:00    \n",
      "SRR644274.polyATrim.adapterTrim.rmRep.NRF.met 100%    0     0.0KB/s   00:00    \n",
      "SRR644274.polyATrim.adapterTrim.rmRep.rmDup.m 100%   57     0.1KB/s   00:00    \n",
      "SRR644275.polyATrim.adapterTrim.metrics       100%   12KB  11.6KB/s   00:00    \n",
      "SRR644275.polyATrim.adapterTrim.rep.sorted.rm 100%   57     0.1KB/s   00:00    \n",
      "SRR644275.polyATrim.adapterTrim.rmRep.metrics 100%   41KB  41.5KB/s   00:00    \n",
      "SRR644275.polyATrim.adapterTrim.rmRep.NRF.met 100%   38     0.0KB/s   00:00    \n",
      "SRR644275.polyATrim.adapterTrim.rmRep.rmDup.m 100%   57     0.1KB/s   00:00    \n",
      "SRR644276.polyATrim.adapterTrim.metrics       100%   11KB  11.3KB/s   00:00    \n",
      "SRR644276.polyATrim.adapterTrim.rep.sorted.rm 100%   57     0.1KB/s   00:00    \n",
      "SRR644276.polyATrim.adapterTrim.rmRep.metrics 100%   41KB  40.5KB/s   00:00    \n",
      "SRR644276.polyATrim.adapterTrim.rmRep.NRF.met 100%   39     0.0KB/s   00:00    \n",
      "SRR644276.polyATrim.adapterTrim.rmRep.rmDup.m 100%   57     0.1KB/s   00:00    \n",
      "SRR644276.polyATrim.adapterTrim.rmRep.rmDup.s 100%   21     0.0KB/s   00:00    \n",
      "SRR644277.polyATrim.adapterTrim.metrics       100%   10KB   9.9KB/s   00:00    \n",
      "SRR644277.polyATrim.adapterTrim.rep.sorted.rm 100%   55     0.1KB/s   00:00    \n",
      "SRR644277.polyATrim.adapterTrim.rmRep.metrics 100%   38KB  38.3KB/s   00:00    \n",
      "SRR644277.polyATrim.adapterTrim.rmRep.NRF.met 100%   38     0.0KB/s   00:00    \n",
      "SRR644277.polyATrim.adapterTrim.rmRep.rmDup.m 100%   55     0.1KB/s   00:00    \n",
      "SRR644277.polyATrim.adapterTrim.rmRep.rmDup.s 100%   22     0.0KB/s   00:00    \n",
      "SRR644273.polyATrim.adapterTrim.rep.bamLog.fi 100% 1675     1.6KB/s   00:00    \n",
      "SRR644273.polyATrim.adapterTrim.rmRep.bamLog. 100% 1681     1.6KB/s   00:00    \n",
      "SRR644274.polyATrim.adapterTrim.rep.bamLog.fi 100% 1684     1.6KB/s   00:00    \n",
      "SRR644274.polyATrim.adapterTrim.rmRep.bamLog. 100% 1690     1.7KB/s   00:00    \n",
      "SRR644275.polyATrim.adapterTrim.rep.bamLog.fi 100% 1682     1.6KB/s   00:00    \n",
      "SRR644275.polyATrim.adapterTrim.rmRep.bamLog. 100% 1689     1.7KB/s   00:00    \n",
      "SRR644276.polyATrim.adapterTrim.rep.bamLog.fi 100% 1680     1.6KB/s   00:00    \n",
      "SRR644276.polyATrim.adapterTrim.rmRep.bamLog. 100% 1689     1.7KB/s   00:00    \n",
      "SRR644277.polyATrim.adapterTrim.rep.bamLog.fi 100% 1668     1.6KB/s   00:00    \n",
      "SRR644277.polyATrim.adapterTrim.rmRep.bamLog. 100% 1675     1.6KB/s   00:00    \n",
      "rep1.merged.peaks.bed                         100%  259KB 259.2KB/s   00:00    \n",
      "SRR644273.polyATrim.adapterTrim.rmRep.rmDup.s 100%   46KB  45.7KB/s   00:00    \n",
      "SRR644275.polyATrim.adapterTrim.rmRep.rmDup.s 100%  628KB 628.0KB/s   00:00    \n",
      "SRR644276.polyATrim.adapterTrim.rmRep.rmDup.s 100%  147KB 146.7KB/s   00:00    \n",
      "SRR644277.polyATrim.adapterTrim.rmRep.rmDup.s 100% 6194     6.1KB/s   00:00    \n"
     ]
    }
   ],
   "source": [
    "!scp tscc-login.sdsc.edu:/home/gpratt/projects/public_clip/analysis/v1_small/*.{metrics,*.final.out,peaks.bed} /nas3/gpratt/projects/public_clip/analysis/v1_small/"
   ]
  },
  {
   "cell_type": "code",
   "execution_count": 5,
   "metadata": {
    "collapsed": false
   },
   "outputs": [],
   "source": [
    "clip_rnaseq_df = parsers.clipseq_metrics(\"/nas3/gpratt/projects/public_clip/analysis/v1_small/\", iclip=False)\n",
    "public_clip_list = pd.read_csv(\"/nas3/gpratt/projects/public_clip/v1/public_clip_list.csv\", index_col=0)\n",
    "clip_rnaseq_df = pd.merge(clip_rnaseq_df, public_clip_list, left_index=True, right_index=True, how=\"outer\")\n",
    "clip_df = clip_rnaseq_df[clip_rnaseq_df['CLIP-seq?'] == \"Yes\"]"
   ]
  },
  {
   "cell_type": "code",
   "execution_count": 6,
   "metadata": {
    "collapsed": false
   },
   "outputs": [],
   "source": [
    "clip_rnaseq_df[\"Reads After Triming\"] = clip_rnaseq_df['Input Reads'] - clip_rnaseq_df['Too short reads']\n",
    "clip_rnaseq_df[\"Fraction Collapsed\"] = clip_rnaseq_df['Usable Reads'] / clip_rnaseq_df['Uniquely Mapped Reads'].astype(float)\n",
    "clip_rnaseq_df[\"Fraction Usable\"] = clip_rnaseq_df['Usable Reads'] / clip_rnaseq_df['Input Reads'].astype(float)\n",
    "clip_df = clip_rnaseq_df[clip_rnaseq_df['CLIP-seq?'] == \"Yes\"]"
   ]
  },
  {
   "cell_type": "code",
   "execution_count": 7,
   "metadata": {
    "collapsed": true
   },
   "outputs": [],
   "source": [
    "taf15_clips = \"\"\"SRR644277\n",
    "SRR644276\n",
    "SRR644275\n",
    "SRR644274\n",
    "SRR644273\"\"\".split()\n",
    "\n",
    "#SRR070463\n",
    "#SRR070462"
   ]
  },
  {
   "cell_type": "code",
   "execution_count": 8,
   "metadata": {
    "collapsed": false
   },
   "outputs": [],
   "source": [
    "taf15_clip_df = clip_df.ix[taf15_clips]"
   ]
  },
  {
   "cell_type": "code",
   "execution_count": 9,
   "metadata": {
    "collapsed": false
   },
   "outputs": [
    {
     "data": {
      "text/html": [
       "<table border=\"1\" class=\"dataframe\">\n",
       "  <thead>\n",
       "    <tr style=\"text-align: right;\">\n",
       "      <th></th>\n",
       "      <th>Input Reads</th>\n",
       "      <th>Too short reads</th>\n",
       "      <th>Reads that were too short percent</th>\n",
       "      <th>repetitive_count</th>\n",
       "      <th>Reads Passing Quality Filter</th>\n",
       "      <th>Uniquely Mapped Reads</th>\n",
       "      <th>Uniquely mapped reads %</th>\n",
       "      <th>Usable Reads</th>\n",
       "      <th>Num Peaks</th>\n",
       "      <th>Fraction Collapsed</th>\n",
       "      <th>Fraction Usable</th>\n",
       "    </tr>\n",
       "  </thead>\n",
       "  <tbody>\n",
       "    <tr>\n",
       "      <th>SRR644277</th>\n",
       "      <td>1,435,247</td>\n",
       "      <td>948,376</td>\n",
       "      <td>66.1</td>\n",
       "      <td>258,852</td>\n",
       "      <td>398,658</td>\n",
       "      <td>269,806</td>\n",
       "      <td>67.68%</td>\n",
       "      <td>38,190</td>\n",
       "      <td>76</td>\n",
       "      <td>0.141546</td>\n",
       "      <td>0.026609</td>\n",
       "    </tr>\n",
       "    <tr>\n",
       "      <th>SRR644276</th>\n",
       "      <td>6,775,718</td>\n",
       "      <td>1,306,069</td>\n",
       "      <td>19.3</td>\n",
       "      <td>2,675,443</td>\n",
       "      <td>4,491,207</td>\n",
       "      <td>2,447,184</td>\n",
       "      <td>54.49%</td>\n",
       "      <td>94,666</td>\n",
       "      <td>1,814</td>\n",
       "      <td>0.038684</td>\n",
       "      <td>0.013971</td>\n",
       "    </tr>\n",
       "    <tr>\n",
       "      <th>SRR644275</th>\n",
       "      <td>20,006,057</td>\n",
       "      <td>9,554,752</td>\n",
       "      <td>47.8</td>\n",
       "      <td>5,490,808</td>\n",
       "      <td>8,369,797</td>\n",
       "      <td>4,816,707</td>\n",
       "      <td>57.55%</td>\n",
       "      <td>224,393</td>\n",
       "      <td>7,743</td>\n",
       "      <td>0.046586</td>\n",
       "      <td>0.011216</td>\n",
       "    </tr>\n",
       "    <tr>\n",
       "      <th>SRR644274</th>\n",
       "      <td>16,842,608</td>\n",
       "      <td>4,173,889</td>\n",
       "      <td>24.8</td>\n",
       "      <td>6,822,491</td>\n",
       "      <td>9,507,813</td>\n",
       "      <td>5,186,869</td>\n",
       "      <td>54.55%</td>\n",
       "      <td>147,253</td>\n",
       "      <td>0</td>\n",
       "      <td>0.028390</td>\n",
       "      <td>0.008743</td>\n",
       "    </tr>\n",
       "    <tr>\n",
       "      <th>SRR644273</th>\n",
       "      <td>3,017,908</td>\n",
       "      <td>978,299</td>\n",
       "      <td>32.4</td>\n",
       "      <td>1,377,550</td>\n",
       "      <td>1,566,891</td>\n",
       "      <td>1,060,850</td>\n",
       "      <td>67.70%</td>\n",
       "      <td>43,344</td>\n",
       "      <td>565</td>\n",
       "      <td>0.040858</td>\n",
       "      <td>0.014362</td>\n",
       "    </tr>\n",
       "  </tbody>\n",
       "</table>"
      ],
      "text/plain": [
       "<IPython.core.display.HTML object>"
      ]
     },
     "execution_count": 9,
     "metadata": {},
     "output_type": "execute_result"
    }
   ],
   "source": [
    "filtered_df = taf15_clip_df[[ \"Input Reads\",\n",
    "                             \"Too short reads\",\n",
    "                             \"Reads that were too short percent\",\n",
    "                             'repetitive_count',\n",
    "                        \"Reads Passing Quality Filter\", \n",
    "                        \"Uniquely Mapped Reads\",\n",
    "                        \"Uniquely mapped reads %\",\n",
    "                        \"Usable Reads\",\n",
    "                            \n",
    "                             \n",
    "                            #\"spot\",\n",
    "                            \"Num Peaks\",\n",
    "                            \"Fraction Collapsed\",\n",
    "                             \"Fraction Usable\"                             \n",
    "                            ]]\n",
    "\n",
    "\n",
    "HTML(filtered_df.to_html(formatters={\"Input Reads\" : parsers.commas,\n",
    "                                     'repetitive_count': parsers.commas,\n",
    "                                     \"Too short reads\": parsers.commas,\n",
    "                                     \"Reads Passing Quality Filter\" : parsers.commas,\n",
    "                                     \"Reads after Quality Filtering\" : parsers.commas,\n",
    "                                     \"Uniquely Mapped Reads\" : parsers.commas,\n",
    "                                     \"Usable Reads\" : parsers.commas,\n",
    "                                     \"Num Peaks\": parsers.commas\n",
    "                                     } ))"
   ]
  },
  {
   "cell_type": "code",
   "execution_count": 10,
   "metadata": {
    "collapsed": false
   },
   "outputs": [
    {
     "data": {
      "text/plain": [
       "48077538.0"
      ]
     },
     "execution_count": 10,
     "metadata": {},
     "output_type": "execute_result"
    }
   ],
   "source": [
    "filtered_df[\"Input Reads\"].sum()"
   ]
  },
  {
   "cell_type": "code",
   "execution_count": 11,
   "metadata": {
    "collapsed": false
   },
   "outputs": [
    {
     "data": {
      "text/plain": [
       "13781416.0"
      ]
     },
     "execution_count": 11,
     "metadata": {},
     "output_type": "execute_result"
    }
   ],
   "source": [
    "filtered_df[\"Uniquely Mapped Reads\"].sum()"
   ]
  },
  {
   "cell_type": "code",
   "execution_count": 12,
   "metadata": {
    "collapsed": false
   },
   "outputs": [
    {
     "data": {
      "text/plain": [
       "43.140526717362178"
      ]
     },
     "execution_count": 12,
     "metadata": {},
     "output_type": "execute_result"
    }
   ],
   "source": [
    "#My numbers\n",
    "23634365  / filtered_df[\"Usable Reads\"].sum()"
   ]
  },
  {
   "cell_type": "code",
   "execution_count": 14,
   "metadata": {
    "collapsed": false
   },
   "outputs": [
    {
     "data": {
      "text/plain": [
       "10.906521175658852"
      ]
     },
     "execution_count": 14,
     "metadata": {},
     "output_type": "execute_result"
    }
   ],
   "source": [
    "#Kasey's numbers\n",
    "5975094 / filtered_df[\"Usable Reads\"].sum()"
   ]
  },
  {
   "cell_type": "code",
   "execution_count": null,
   "metadata": {
    "collapsed": true
   },
   "outputs": [],
   "source": [
    "2,099,088"
   ]
  }
 ],
 "metadata": {
  "kernelspec": {
   "display_name": "Python 2",
   "language": "python",
   "name": "python2"
  },
  "language_info": {
   "codemirror_mode": {
    "name": "ipython",
    "version": 2
   },
   "file_extension": ".py",
   "mimetype": "text/x-python",
   "name": "python",
   "nbconvert_exporter": "python",
   "pygments_lexer": "ipython2",
   "version": "2.7.10"
  }
 },
 "nbformat": 4,
 "nbformat_minor": 0
}
