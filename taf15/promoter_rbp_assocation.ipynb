{
 "metadata": {
  "name": "",
  "signature": "sha256:b814f79548dcef1f1450935e6cd6a71189fcf7c6e55911fcd88ed192cc593b5c"
 },
 "nbformat": 3,
 "nbformat_minor": 0,
 "worksheets": [
  {
   "cells": [
    {
     "cell_type": "code",
     "collapsed": false,
     "input": [
      "import pybedtools\n",
      "import numpy as np\n",
      "import os\n",
      "import pandas as pd\n",
      "\n",
      "from clipper.src import CLIP_analysis"
     ],
     "language": "python",
     "metadata": {},
     "outputs": [],
     "prompt_number": 67
    },
    {
     "cell_type": "code",
     "collapsed": false,
     "input": [
      "def counts_to_rpkm(featureCountsTable):\n",
      "    counts = featureCountsTable.ix[:,5:]\n",
      "    lengths = featureCountsTable['Length']\n",
      "    mapped_reads = counts.sum()\n",
      "    return (counts * pow(10,9)).div(mapped_reads, axis=1).div(lengths, axis=0)\n",
      "\n",
      "def bedtool_from_dataframe(dataframe):\n",
      "    new_bedtool = []\n",
      "    for name, row in dataframe.iterrows():\n",
      "        new_bedtool.append(pybedtools.Interval(row.chrom, \n",
      "                                  row.start, \n",
      "                                  row.stop, \n",
      "                                  str(row.name), \n",
      "                                  str(row.score), \n",
      "                                  row.strand,\n",
      "                                  otherfields=map(str, row.values[6:])))\n",
      "    return pybedtools.BedTool(new_bedtool)"
     ],
     "language": "python",
     "metadata": {},
     "outputs": []
    },
    {
     "cell_type": "code",
     "collapsed": false,
     "input": [
      "!mkdir -p /nas3/gpratt/projects/fet_family/analysis/mouse_clip_v1/\n",
      "!scp -q tscc-login.sdsc.edu:/home/gpratt/projects/fet_family/analysis/mouse_clip_v1/*.bam /nas3/gpratt/projects/fet_family/analysis/mouse_clip_v1/\n",
      "!scp -q tscc-login.sdsc.edu:/home/gpratt/projects/fet_family/analysis/mouse_clip_v1/*.bed /nas3/gpratt/projects/fet_family/analysis/mouse_clip_v1/"
     ],
     "language": "python",
     "metadata": {},
     "outputs": [
      {
       "output_type": "stream",
       "stream": "stdout",
       "text": [
        "\r",
        "20090209_MP_none1_mouse_brain_CLIPseq_TDP43_l   0%    0     0.0KB/s   --:-- ETA"
       ]
      },
      {
       "output_type": "stream",
       "stream": "stdout",
       "text": [
        "\r",
        "20090209_MP_none1_mouse_brain_CLIPseq_TDP43_l  23%   38MB  37.8MB/s   00:03 ETA"
       ]
      },
      {
       "output_type": "stream",
       "stream": "stdout",
       "text": [
        "\r",
        "20090209_MP_none1_mouse_brain_CLIPseq_TDP43_l  48%   78MB  38.0MB/s   00:02 ETA"
       ]
      },
      {
       "output_type": "stream",
       "stream": "stdout",
       "text": [
        "\r",
        "20090209_MP_none1_mouse_brain_CLIPseq_TDP43_l  74%  118MB  38.3MB/s   00:01 ETA"
       ]
      },
      {
       "output_type": "stream",
       "stream": "stdout",
       "text": [
        "\r",
        "20090209_MP_none1_mouse_brain_CLIPseq_TDP43_l  99%  159MB  38.5MB/s   00:00 ETA\r",
        "20090209_MP_none1_mouse_brain_CLIPseq_TDP43_l 100%  159MB  39.9MB/s   00:04    \r\n"
       ]
      },
      {
       "output_type": "stream",
       "stream": "stdout",
       "text": [
        "\r",
        "20090209_MP_none1_mouse_brain_CLIPseq_TDP43_l   0%    0     0.0KB/s   --:-- ETA"
       ]
      },
      {
       "output_type": "stream",
       "stream": "stdout",
       "text": [
        "\r",
        "20090209_MP_none1_mouse_brain_CLIPseq_TDP43_l 100% 1200KB   1.2MB/s   00:00    \r\n"
       ]
      },
      {
       "output_type": "stream",
       "stream": "stdout",
       "text": [
        "\r",
        "20090209_MP_none1_mouse_brain_CLIPseq_TDP43_l   0%    0     0.0KB/s   --:-- ETA"
       ]
      },
      {
       "output_type": "stream",
       "stream": "stdout",
       "text": [
        "\r",
        "20090209_MP_none1_mouse_brain_CLIPseq_TDP43_l  16%   38MB  37.9MB/s   00:04 ETA"
       ]
      },
      {
       "output_type": "stream",
       "stream": "stdout",
       "text": [
        "\r",
        "20090209_MP_none1_mouse_brain_CLIPseq_TDP43_l  34%   78MB  38.1MB/s   00:03 ETA"
       ]
      },
      {
       "output_type": "stream",
       "stream": "stdout",
       "text": [
        "\r",
        "20090209_MP_none1_mouse_brain_CLIPseq_TDP43_l  52%  118MB  38.3MB/s   00:02 ETA"
       ]
      },
      {
       "output_type": "stream",
       "stream": "stdout",
       "text": [
        "\r",
        "20090209_MP_none1_mouse_brain_CLIPseq_TDP43_l  67%  151MB  37.8MB/s   00:01 ETA"
       ]
      },
      {
       "output_type": "stream",
       "stream": "stdout",
       "text": [
        "\r",
        "20090209_MP_none1_mouse_brain_CLIPseq_TDP43_l  85%  191MB  38.0MB/s   00:00 ETA"
       ]
      },
      {
       "output_type": "stream",
       "stream": "stdout",
       "text": [
        "\r",
        "20090209_MP_none1_mouse_brain_CLIPseq_TDP43_l 100%  224MB  37.4MB/s   00:06    "
       ]
      },
      {
       "output_type": "stream",
       "stream": "stdout",
       "text": [
        "\r\n"
       ]
      },
      {
       "output_type": "stream",
       "stream": "stdout",
       "text": [
        "\r",
        "20090209_MP_none1_mouse_brain_CLIPseq_TDP43_l   0%    0     0.0KB/s   --:-- ETA"
       ]
      },
      {
       "output_type": "stream",
       "stream": "stdout",
       "text": [
        "\r",
        "20090209_MP_none1_mouse_brain_CLIPseq_TDP43_l 100% 4067KB   4.0MB/s   00:00    \r\n"
       ]
      },
      {
       "output_type": "stream",
       "stream": "stdout",
       "text": [
        "\r",
        "20090209_MP_none1_mouse_brain_CLIPseq_TDP43_l   0%    0     0.0KB/s   --:-- ETA"
       ]
      },
      {
       "output_type": "stream",
       "stream": "stdout",
       "text": [
        "\r",
        "20090209_MP_none1_mouse_brain_CLIPseq_TDP43_l 100% 4066KB   4.0MB/s   00:00    \r\n"
       ]
      },
      {
       "output_type": "stream",
       "stream": "stdout",
       "text": [
        "\r",
        "20090209_MP_none1_mouse_brain_CLIPseq_TDP43_l   0%    0     0.0KB/s   --:-- ETA"
       ]
      },
      {
       "output_type": "stream",
       "stream": "stdout",
       "text": [
        "\r",
        "20090209_MP_none1_mouse_brain_CLIPseq_TDP43_l  25%   37MB  37.2MB/s   00:02 ETA"
       ]
      },
      {
       "output_type": "stream",
       "stream": "stdout",
       "text": [
        "\r",
        "20090209_MP_none1_mouse_brain_CLIPseq_TDP43_l  53%   77MB  37.4MB/s   00:01 ETA"
       ]
      },
      {
       "output_type": "stream",
       "stream": "stdout",
       "text": [
        "\r",
        "20090209_MP_none1_mouse_brain_CLIPseq_TDP43_l  80%  117MB  37.7MB/s   00:00 ETA"
       ]
      },
      {
       "output_type": "stream",
       "stream": "stdout",
       "text": [
        "\r",
        "20090209_MP_none1_mouse_brain_CLIPseq_TDP43_l 100%  145MB  36.3MB/s   00:04    \r\n"
       ]
      },
      {
       "output_type": "stream",
       "stream": "stdout",
       "text": [
        "\r",
        "20090209_MP_none1_mouse_brain_CLIPseq_TDP43_l   0%    0     0.0KB/s   --:-- ETA"
       ]
      },
      {
       "output_type": "stream",
       "stream": "stdout",
       "text": [
        "\r",
        "20090209_MP_none1_mouse_brain_CLIPseq_TDP43_l 100%   11MB  10.7MB/s   00:01    \r\n"
       ]
      },
      {
       "output_type": "stream",
       "stream": "stdout",
       "text": [
        "\r",
        "20090209_MP_none1_mouse_brain_CLIPseq_TDP43_l   0%    0     0.0KB/s   --:-- ETA"
       ]
      },
      {
       "output_type": "stream",
       "stream": "stdout",
       "text": [
        "\r",
        "20090209_MP_none1_mouse_brain_CLIPseq_TDP43_l 100%   11MB  10.9MB/s   00:00    \r\n"
       ]
      },
      {
       "output_type": "stream",
       "stream": "stdout",
       "text": [
        "\r",
        "20090209_MP_none1_mouse_brain_CLIPseq_TDP43_l   0%    0     0.0KB/s   --:-- ETA"
       ]
      },
      {
       "output_type": "stream",
       "stream": "stdout",
       "text": [
        "\r",
        "20090209_MP_none1_mouse_brain_CLIPseq_TDP43_l  29%   36MB  36.0MB/s   00:02 ETA"
       ]
      },
      {
       "output_type": "stream",
       "stream": "stdout",
       "text": [
        "\r",
        "20090209_MP_none1_mouse_brain_CLIPseq_TDP43_l  62%   76MB  36.4MB/s   00:01 ETA"
       ]
      },
      {
       "output_type": "stream",
       "stream": "stdout",
       "text": [
        "\r",
        "20090209_MP_none1_mouse_brain_CLIPseq_TDP43_l  95%  116MB  36.7MB/s   00:00 ETA"
       ]
      },
      {
       "output_type": "stream",
       "stream": "stdout",
       "text": [
        "\r",
        "20090209_MP_none1_mouse_brain_CLIPseq_TDP43_l 100%  121MB  40.3MB/s   00:03    \r\n"
       ]
      },
      {
       "output_type": "stream",
       "stream": "stdout",
       "text": [
        "\r",
        "20090209_MP_none2_mouse_brain_3A_CLIPseq_TLS.   0%    0     0.0KB/s   --:-- ETA"
       ]
      },
      {
       "output_type": "stream",
       "stream": "stdout",
       "text": [
        "\r",
        "20090209_MP_none2_mouse_brain_3A_CLIPseq_TLS.  16%   38MB  38.1MB/s   00:05 ETA"
       ]
      },
      {
       "output_type": "stream",
       "stream": "stdout",
       "text": [
        "\r",
        "20090209_MP_none2_mouse_brain_3A_CLIPseq_TLS.  33%   80MB  38.5MB/s   00:04 ETA"
       ]
      },
      {
       "output_type": "stream",
       "stream": "stdout",
       "text": [
        "\r",
        "20090209_MP_none2_mouse_brain_3A_CLIPseq_TLS.  51%  123MB  38.9MB/s   00:02 ETA"
       ]
      },
      {
       "output_type": "stream",
       "stream": "stdout",
       "text": [
        "\r",
        "20090209_MP_none2_mouse_brain_3A_CLIPseq_TLS.  69%  165MB  39.2MB/s   00:01 ETA"
       ]
      },
      {
       "output_type": "stream",
       "stream": "stdout",
       "text": [
        "\r",
        "20090209_MP_none2_mouse_brain_3A_CLIPseq_TLS.  86%  207MB  39.5MB/s   00:00 ETA"
       ]
      },
      {
       "output_type": "stream",
       "stream": "stdout",
       "text": [
        "\r",
        "20090209_MP_none2_mouse_brain_3A_CLIPseq_TLS. 100%  238MB  47.6MB/s   00:05    \r\n"
       ]
      },
      {
       "output_type": "stream",
       "stream": "stdout",
       "text": [
        "\r",
        "20090209_MP_none2_mouse_brain_3A_CLIPseq_TLS.   0%    0     0.0KB/s   --:-- ETA"
       ]
      },
      {
       "output_type": "stream",
       "stream": "stdout",
       "text": [
        "\r",
        "20090209_MP_none2_mouse_brain_3A_CLIPseq_TLS. 100% 1888KB   1.8MB/s   00:00    \r\n",
        "\r",
        "20090209_MP_none2_mouse_brain_3A_CLIPseq_TLS.   0%    0     0.0KB/s   --:-- ETA"
       ]
      },
      {
       "output_type": "stream",
       "stream": "stdout",
       "text": [
        "\r",
        "20090209_MP_none2_mouse_brain_3A_CLIPseq_TLS.  22%   38MB  38.0MB/s   00:03 ETA"
       ]
      },
      {
       "output_type": "stream",
       "stream": "stdout",
       "text": [
        "\r",
        "20090209_MP_none2_mouse_brain_3A_CLIPseq_TLS.  39%   65MB  36.9MB/s   00:02 ETA"
       ]
      },
      {
       "output_type": "stream",
       "stream": "stdout",
       "text": [
        "\r",
        "20090209_MP_none2_mouse_brain_3A_CLIPseq_TLS.  59%   99MB  36.6MB/s   00:01 ETA"
       ]
      },
      {
       "output_type": "stream",
       "stream": "stdout",
       "text": [
        "\r",
        "20090209_MP_none2_mouse_brain_3A_CLIPseq_TLS.  83%  139MB  36.9MB/s   00:00 ETA"
       ]
      },
      {
       "output_type": "stream",
       "stream": "stdout",
       "text": [
        "\r",
        "20090209_MP_none2_mouse_brain_3A_CLIPseq_TLS. 100%  166MB  41.5MB/s   00:04    \r\n"
       ]
      },
      {
       "output_type": "stream",
       "stream": "stdout",
       "text": [
        "\r",
        "20090209_MP_none2_mouse_brain_3A_CLIPseq_TLS.   0%    0     0.0KB/s   --:-- ETA"
       ]
      },
      {
       "output_type": "stream",
       "stream": "stdout",
       "text": [
        "\r",
        "20090209_MP_none2_mouse_brain_3A_CLIPseq_TLS. 100% 1888KB   1.8MB/s   00:00    \r\n"
       ]
      },
      {
       "output_type": "stream",
       "stream": "stdout",
       "text": [
        "\r",
        "20090209_MP_none2_mouse_brain_3A_CLIPseq_TLS.   0%    0     0.0KB/s   --:-- ETA"
       ]
      },
      {
       "output_type": "stream",
       "stream": "stdout",
       "text": [
        "\r",
        "20090209_MP_none2_mouse_brain_3A_CLIPseq_TLS. 100% 1885KB   1.8MB/s   00:00    \r\n"
       ]
      },
      {
       "output_type": "stream",
       "stream": "stdout",
       "text": [
        "\r",
        "20090209_MP_none2_mouse_brain_3A_CLIPseq_TLS.   0%    0     0.0KB/s   --:-- ETA"
       ]
      },
      {
       "output_type": "stream",
       "stream": "stdout",
       "text": [
        "\r",
        "20090209_MP_none2_mouse_brain_3A_CLIPseq_TLS.  12%   31MB  31.0MB/s   00:07 ETA"
       ]
      },
      {
       "output_type": "stream",
       "stream": "stdout",
       "text": [
        "\r",
        "20090209_MP_none2_mouse_brain_3A_CLIPseq_TLS.  25%   65MB  31.3MB/s   00:06 ETA"
       ]
      },
      {
       "output_type": "stream",
       "stream": "stdout",
       "text": [
        "\r",
        "20090209_MP_none2_mouse_brain_3A_CLIPseq_TLS.  41%  105MB  32.1MB/s   00:04 ETA"
       ]
      },
      {
       "output_type": "stream",
       "stream": "stdout",
       "text": [
        "\r",
        "20090209_MP_none2_mouse_brain_3A_CLIPseq_TLS.  56%  144MB  32.9MB/s   00:03 ETA"
       ]
      },
      {
       "output_type": "stream",
       "stream": "stdout",
       "text": [
        "\r",
        "20090209_MP_none2_mouse_brain_3A_CLIPseq_TLS.  70%  178MB  33.0MB/s   00:02 ETA"
       ]
      },
      {
       "output_type": "stream",
       "stream": "stdout",
       "text": [
        "\r",
        "20090209_MP_none2_mouse_brain_3A_CLIPseq_TLS.  85%  218MB  33.7MB/s   00:01 ETA"
       ]
      },
      {
       "output_type": "stream",
       "stream": "stdout",
       "text": [
        "\r",
        "20090209_MP_none2_mouse_brain_3A_CLIPseq_TLS. 100%  254MB  36.3MB/s   00:07    \r\n"
       ]
      },
      {
       "output_type": "stream",
       "stream": "stdout",
       "text": [
        "\r",
        "20090209_MP_none2_mouse_brain_3A_CLIPseq_TLS.   0%    0     0.0KB/s   --:-- ETA"
       ]
      },
      {
       "output_type": "stream",
       "stream": "stdout",
       "text": [
        "\r",
        "20090209_MP_none2_mouse_brain_3A_CLIPseq_TLS.  45%   37MB  36.6MB/s   00:01 ETA"
       ]
      },
      {
       "output_type": "stream",
       "stream": "stdout",
       "text": [
        "\r",
        "20090209_MP_none2_mouse_brain_3A_CLIPseq_TLS.  96%   78MB  37.0MB/s   00:00 ETA"
       ]
      },
      {
       "output_type": "stream",
       "stream": "stdout",
       "text": [
        "\r",
        "20090209_MP_none2_mouse_brain_3A_CLIPseq_TLS. 100%   80MB  40.2MB/s   00:02    \r\n"
       ]
      },
      {
       "output_type": "stream",
       "stream": "stdout",
       "text": [
        "\r",
        "20090209_MP_none2_mouse_brain_3A_CLIPseq_TLS.   0%    0     0.0KB/s   --:-- ETA"
       ]
      },
      {
       "output_type": "stream",
       "stream": "stdout",
       "text": [
        "\r",
        "20090209_MP_none2_mouse_brain_3A_CLIPseq_TLS.  46%   38MB  38.0MB/s   00:01 ETA"
       ]
      },
      {
       "output_type": "stream",
       "stream": "stdout",
       "text": [
        "\r",
        "20090209_MP_none2_mouse_brain_3A_CLIPseq_TLS.  94%   78MB  38.2MB/s   00:00 ETA"
       ]
      },
      {
       "output_type": "stream",
       "stream": "stdout",
       "text": [
        "\r",
        "20090209_MP_none2_mouse_brain_3A_CLIPseq_TLS. 100%   82MB  41.2MB/s   00:02    \r\n"
       ]
      },
      {
       "output_type": "stream",
       "stream": "stdout",
       "text": [
        "\r",
        "20090209_MP_none2_mouse_brain_3A_CLIPseq_TLS.   0%    0     0.0KB/s   --:-- ETA"
       ]
      },
      {
       "output_type": "stream",
       "stream": "stdout",
       "text": [
        "\r",
        "20090209_MP_none2_mouse_brain_3A_CLIPseq_TLS.  16%   37MB  37.1MB/s   00:04 ETA"
       ]
      },
      {
       "output_type": "stream",
       "stream": "stdout",
       "text": [
        "\r",
        "20090209_MP_none2_mouse_brain_3A_CLIPseq_TLS.  32%   71MB  36.8MB/s   00:04 ETA"
       ]
      },
      {
       "output_type": "stream",
       "stream": "stdout",
       "text": [
        "\r",
        "20090209_MP_none2_mouse_brain_3A_CLIPseq_TLS.  50%  111MB  37.1MB/s   00:02 ETA"
       ]
      },
      {
       "output_type": "stream",
       "stream": "stdout",
       "text": [
        "\r",
        "20090209_MP_none2_mouse_brain_3A_CLIPseq_TLS.  68%  150MB  37.3MB/s   00:01 ETA"
       ]
      },
      {
       "output_type": "stream",
       "stream": "stdout",
       "text": [
        "\r",
        "20090209_MP_none2_mouse_brain_3A_CLIPseq_TLS.  87%  190MB  37.6MB/s   00:00 ETA"
       ]
      },
      {
       "output_type": "stream",
       "stream": "stdout",
       "text": [
        "\r",
        "20090209_MP_none2_mouse_brain_3A_CLIPseq_TLS. 100%  219MB  36.4MB/s   00:06    \r\n"
       ]
      },
      {
       "output_type": "stream",
       "stream": "stdout",
       "text": [
        "\r",
        "20090601_MP_none3_mouse_brain_2A_CLIPseq_TLS.   0%    0     0.0KB/s   --:-- ETA"
       ]
      },
      {
       "output_type": "stream",
       "stream": "stdout",
       "text": [
        "\r",
        "20090601_MP_none3_mouse_brain_2A_CLIPseq_TLS.  15%   41MB  40.7MB/s   00:05 ETA"
       ]
      },
      {
       "output_type": "stream",
       "stream": "stdout",
       "text": [
        "\r",
        "20090601_MP_none3_mouse_brain_2A_CLIPseq_TLS.  31%   83MB  40.8MB/s   00:04 ETA"
       ]
      },
      {
       "output_type": "stream",
       "stream": "stdout",
       "text": [
        "\r",
        "20090601_MP_none3_mouse_brain_2A_CLIPseq_TLS.  47%  125MB  40.9MB/s   00:03 ETA"
       ]
      },
      {
       "output_type": "stream",
       "stream": "stdout",
       "text": [
        "\r",
        "20090601_MP_none3_mouse_brain_2A_CLIPseq_TLS.  63%  167MB  41.1MB/s   00:02 ETA"
       ]
      },
      {
       "output_type": "stream",
       "stream": "stdout",
       "text": [
        "\r",
        "20090601_MP_none3_mouse_brain_2A_CLIPseq_TLS.  78%  209MB  41.2MB/s   00:01 ETA"
       ]
      },
      {
       "output_type": "stream",
       "stream": "stdout",
       "text": [
        "\r",
        "20090601_MP_none3_mouse_brain_2A_CLIPseq_TLS.  94%  252MB  41.3MB/s   00:00 ETA"
       ]
      },
      {
       "output_type": "stream",
       "stream": "stdout",
       "text": [
        "\r",
        "20090601_MP_none3_mouse_brain_2A_CLIPseq_TLS. 100%  265MB  44.2MB/s   00:06    \r\n"
       ]
      },
      {
       "output_type": "stream",
       "stream": "stdout",
       "text": [
        "\r",
        "20090601_MP_none3_mouse_brain_2A_CLIPseq_TLS.   0%    0     0.0KB/s   --:-- ETA"
       ]
      },
      {
       "output_type": "stream",
       "stream": "stdout",
       "text": [
        "\r",
        "20090601_MP_none3_mouse_brain_2A_CLIPseq_TLS. 100% 1564KB   1.5MB/s   00:00    \r\n",
        "\r",
        "20090601_MP_none3_mouse_brain_2A_CLIPseq_TLS.   0%    0     0.0KB/s   --:-- ETA"
       ]
      },
      {
       "output_type": "stream",
       "stream": "stdout",
       "text": [
        "\r",
        "20090601_MP_none3_mouse_brain_2A_CLIPseq_TLS.  16%   38MB  37.7MB/s   00:04 ETA"
       ]
      },
      {
       "output_type": "stream",
       "stream": "stdout",
       "text": [
        "\r",
        "20090601_MP_none3_mouse_brain_2A_CLIPseq_TLS.  34%   78MB  37.9MB/s   00:03 ETA"
       ]
      },
      {
       "output_type": "stream",
       "stream": "stdout",
       "text": [
        "\r",
        "20090601_MP_none3_mouse_brain_2A_CLIPseq_TLS.  52%  117MB  38.1MB/s   00:02 ETA"
       ]
      },
      {
       "output_type": "stream",
       "stream": "stdout",
       "text": [
        "\r",
        "20090601_MP_none3_mouse_brain_2A_CLIPseq_TLS.  70%  157MB  38.3MB/s   00:01 ETA"
       ]
      },
      {
       "output_type": "stream",
       "stream": "stdout",
       "text": [
        "\r",
        "20090601_MP_none3_mouse_brain_2A_CLIPseq_TLS.  88%  197MB  38.5MB/s   00:00 ETA"
       ]
      },
      {
       "output_type": "stream",
       "stream": "stdout",
       "text": [
        "\r",
        "20090601_MP_none3_mouse_brain_2A_CLIPseq_TLS. 100%  223MB  44.6MB/s   00:05    \r\n"
       ]
      },
      {
       "output_type": "stream",
       "stream": "stdout",
       "text": [
        "\r",
        "20090601_MP_none3_mouse_brain_2A_CLIPseq_TLS.   0%    0     0.0KB/s   --:-- ETA"
       ]
      },
      {
       "output_type": "stream",
       "stream": "stdout",
       "text": [
        "\r",
        "20090601_MP_none3_mouse_brain_2A_CLIPseq_TLS. 100% 1567KB   1.5MB/s   00:01    \r\n"
       ]
      },
      {
       "output_type": "stream",
       "stream": "stdout",
       "text": [
        "\r",
        "20090601_MP_none3_mouse_brain_2A_CLIPseq_TLS.   0%    0     0.0KB/s   --:-- ETA"
       ]
      },
      {
       "output_type": "stream",
       "stream": "stdout",
       "text": [
        "\r",
        "20090601_MP_none3_mouse_brain_2A_CLIPseq_TLS. 100% 1566KB   1.5MB/s   00:00    \r\n"
       ]
      },
      {
       "output_type": "stream",
       "stream": "stdout",
       "text": [
        "\r",
        "20090601_MP_none3_mouse_brain_2A_CLIPseq_TLS.   0%    0     0.0KB/s   --:-- ETA"
       ]
      },
      {
       "output_type": "stream",
       "stream": "stdout",
       "text": [
        "\r",
        "20090601_MP_none3_mouse_brain_2A_CLIPseq_TLS.  14%   39MB  39.3MB/s   00:06 ETA"
       ]
      },
      {
       "output_type": "stream",
       "stream": "stdout",
       "text": [
        "\r",
        "20090601_MP_none3_mouse_brain_2A_CLIPseq_TLS.  28%   79MB  39.4MB/s   00:05 ETA"
       ]
      },
      {
       "output_type": "stream",
       "stream": "stdout",
       "text": [
        "\r",
        "20090601_MP_none3_mouse_brain_2A_CLIPseq_TLS.  40%  113MB  38.8MB/s   00:04 ETA"
       ]
      },
      {
       "output_type": "stream",
       "stream": "stdout",
       "text": [
        "\r",
        "20090601_MP_none3_mouse_brain_2A_CLIPseq_TLS.  54%  153MB  39.0MB/s   00:03 ETA"
       ]
      },
      {
       "output_type": "stream",
       "stream": "stdout",
       "text": [
        "\r",
        "20090601_MP_none3_mouse_brain_2A_CLIPseq_TLS.  69%  194MB  39.1MB/s   00:02 ETA"
       ]
      },
      {
       "output_type": "stream",
       "stream": "stdout",
       "text": [
        "\r",
        "20090601_MP_none3_mouse_brain_2A_CLIPseq_TLS.  84%  236MB  39.4MB/s   00:01 ETA"
       ]
      },
      {
       "output_type": "stream",
       "stream": "stdout",
       "text": [
        "\r",
        "20090601_MP_none3_mouse_brain_2A_CLIPseq_TLS.  99%  278MB  39.7MB/s   00:00 ETA"
       ]
      },
      {
       "output_type": "stream",
       "stream": "stdout",
       "text": [
        "\r",
        "20090601_MP_none3_mouse_brain_2A_CLIPseq_TLS. 100%  280MB  40.0MB/s   00:07    \r\n"
       ]
      },
      {
       "output_type": "stream",
       "stream": "stdout",
       "text": [
        "\r",
        "20090601_MP_none3_mouse_brain_2A_CLIPseq_TLS.   0%    0     0.0KB/s   --:-- ETA"
       ]
      },
      {
       "output_type": "stream",
       "stream": "stdout",
       "text": [
        "\r",
        "20090601_MP_none3_mouse_brain_2A_CLIPseq_TLS.  65%   37MB  36.8MB/s   00:00 ETA"
       ]
      },
      {
       "output_type": "stream",
       "stream": "stdout",
       "text": [
        "\r",
        "20090601_MP_none3_mouse_brain_2A_CLIPseq_TLS. 100%   56MB  28.2MB/s   00:02    \r\n"
       ]
      },
      {
       "output_type": "stream",
       "stream": "stdout",
       "text": [
        "\r",
        "20090601_MP_none3_mouse_brain_2A_CLIPseq_TLS.   0%    0     0.0KB/s   --:-- ETA"
       ]
      },
      {
       "output_type": "stream",
       "stream": "stdout",
       "text": [
        "\r",
        "20090601_MP_none3_mouse_brain_2A_CLIPseq_TLS.  57%   33MB  33.4MB/s   00:00 ETA"
       ]
      },
      {
       "output_type": "stream",
       "stream": "stdout",
       "text": [
        "\r",
        "20090601_MP_none3_mouse_brain_2A_CLIPseq_TLS. 100%   58MB  28.9MB/s   00:02    \r\n"
       ]
      },
      {
       "output_type": "stream",
       "stream": "stdout",
       "text": [
        "\r",
        "20090601_MP_none3_mouse_brain_2A_CLIPseq_TLS.   0%    0     0.0KB/s   --:-- ETA"
       ]
      },
      {
       "output_type": "stream",
       "stream": "stdout",
       "text": [
        "\r",
        "20090601_MP_none3_mouse_brain_2A_CLIPseq_TLS.  15%   38MB  38.4MB/s   00:05 ETA"
       ]
      },
      {
       "output_type": "stream",
       "stream": "stdout",
       "text": [
        "\r",
        "20090601_MP_none3_mouse_brain_2A_CLIPseq_TLS.  32%   81MB  38.8MB/s   00:04 ETA"
       ]
      },
      {
       "output_type": "stream",
       "stream": "stdout",
       "text": [
        "\r",
        "20090601_MP_none3_mouse_brain_2A_CLIPseq_TLS.  49%  124MB  39.2MB/s   00:03 ETA"
       ]
      },
      {
       "output_type": "stream",
       "stream": "stdout",
       "text": [
        "\r",
        "20090601_MP_none3_mouse_brain_2A_CLIPseq_TLS.  66%  165MB  39.5MB/s   00:02 ETA"
       ]
      },
      {
       "output_type": "stream",
       "stream": "stdout",
       "text": [
        "\r",
        "20090601_MP_none3_mouse_brain_2A_CLIPseq_TLS.  83%  207MB  39.7MB/s   00:01 ETA"
       ]
      },
      {
       "output_type": "stream",
       "stream": "stdout",
       "text": [
        "\r",
        "20090601_MP_none3_mouse_brain_2A_CLIPseq_TLS.  99%  249MB  39.9MB/s   00:00 ETA\r",
        "20090601_MP_none3_mouse_brain_2A_CLIPseq_TLS. 100%  249MB  41.5MB/s   00:06    \r\n"
       ]
      },
      {
       "output_type": "stream",
       "stream": "stdout",
       "text": [
        "\r",
        "20090601_MP_none4_mouse_brain_10A_CLIPseq_TDP   0%    0     0.0KB/s   --:-- ETA"
       ]
      },
      {
       "output_type": "stream",
       "stream": "stdout",
       "text": [
        "\r",
        "20090601_MP_none4_mouse_brain_10A_CLIPseq_TDP  16%   37MB  37.5MB/s   00:04 ETA"
       ]
      },
      {
       "output_type": "stream",
       "stream": "stdout",
       "text": [
        "\r",
        "20090601_MP_none4_mouse_brain_10A_CLIPseq_TDP  34%   77MB  37.7MB/s   00:03 ETA"
       ]
      },
      {
       "output_type": "stream",
       "stream": "stdout",
       "text": [
        "\r",
        "20090601_MP_none4_mouse_brain_10A_CLIPseq_TDP  52%  117MB  37.9MB/s   00:02 ETA"
       ]
      },
      {
       "output_type": "stream",
       "stream": "stdout",
       "text": [
        "\r",
        "20090601_MP_none4_mouse_brain_10A_CLIPseq_TDP  67%  150MB  37.5MB/s   00:01 ETA"
       ]
      },
      {
       "output_type": "stream",
       "stream": "stdout",
       "text": [
        "\r",
        "20090601_MP_none4_mouse_brain_10A_CLIPseq_TDP  84%  190MB  37.7MB/s   00:00 ETA"
       ]
      },
      {
       "output_type": "stream",
       "stream": "stdout",
       "text": [
        "\r",
        "20090601_MP_none4_mouse_brain_10A_CLIPseq_TDP 100%  224MB  37.4MB/s   00:06    \r\n"
       ]
      },
      {
       "output_type": "stream",
       "stream": "stdout",
       "text": [
        "\r",
        "20090601_MP_none4_mouse_brain_10A_CLIPseq_TDP   0%    0     0.0KB/s   --:-- ETA"
       ]
      },
      {
       "output_type": "stream",
       "stream": "stdout",
       "text": [
        "\r",
        "20090601_MP_none4_mouse_brain_10A_CLIPseq_TDP  20%   40MB  39.8MB/s   00:03 ETA"
       ]
      },
      {
       "output_type": "stream",
       "stream": "stdout",
       "text": [
        "\r",
        "20090601_MP_none4_mouse_brain_10A_CLIPseq_TDP  41%   82MB  40.0MB/s   00:02 ETA"
       ]
      },
      {
       "output_type": "stream",
       "stream": "stdout",
       "text": [
        "\r",
        "20090601_MP_none4_mouse_brain_10A_CLIPseq_TDP  63%  123MB  40.2MB/s   00:01 ETA"
       ]
      },
      {
       "output_type": "stream",
       "stream": "stdout",
       "text": [
        "\r",
        "20090601_MP_none4_mouse_brain_10A_CLIPseq_TDP  84%  164MB  40.3MB/s   00:00 ETA"
       ]
      },
      {
       "output_type": "stream",
       "stream": "stdout",
       "text": [
        "\r",
        "20090601_MP_none4_mouse_brain_10A_CLIPseq_TDP 100%  195MB  48.7MB/s   00:04    \r\n"
       ]
      },
      {
       "output_type": "stream",
       "stream": "stdout",
       "text": [
        "\r",
        "20090601_MP_none4_mouse_brain_10A_CLIPseq_TDP   0%    0     0.0KB/s   --:-- ETA"
       ]
      },
      {
       "output_type": "stream",
       "stream": "stdout",
       "text": [
        "\r",
        "20090601_MP_none4_mouse_brain_10A_CLIPseq_TDP 100% 1430KB   1.4MB/s   00:00    \r\n",
        "\r",
        "20090601_MP_none4_mouse_brain_10A_CLIPseq_TDP   0%    0     0.0KB/s   --:-- ETA"
       ]
      },
      {
       "output_type": "stream",
       "stream": "stdout",
       "text": [
        "\r",
        "20090601_MP_none4_mouse_brain_10A_CLIPseq_TDP 100% 1430KB   1.4MB/s   00:00    \r\n",
        "\r",
        "20090601_MP_none4_mouse_brain_10A_CLIPseq_TDP   0%    0     0.0KB/s   --:-- ETA"
       ]
      },
      {
       "output_type": "stream",
       "stream": "stdout",
       "text": [
        "\r",
        "20090601_MP_none4_mouse_brain_10A_CLIPseq_TDP  15%   38MB  38.1MB/s   00:05 ETA"
       ]
      },
      {
       "output_type": "stream",
       "stream": "stdout",
       "text": [
        "\r",
        "20090601_MP_none4_mouse_brain_10A_CLIPseq_TDP  32%   78MB  38.2MB/s   00:04 ETA"
       ]
      },
      {
       "output_type": "stream",
       "stream": "stdout",
       "text": [
        "\r",
        "20090601_MP_none4_mouse_brain_10A_CLIPseq_TDP  49%  118MB  38.4MB/s   00:03 ETA"
       ]
      },
      {
       "output_type": "stream",
       "stream": "stdout",
       "text": [
        "\r",
        "20090601_MP_none4_mouse_brain_10A_CLIPseq_TDP  66%  158MB  38.6MB/s   00:02 ETA"
       ]
      },
      {
       "output_type": "stream",
       "stream": "stdout",
       "text": [
        "\r",
        "20090601_MP_none4_mouse_brain_10A_CLIPseq_TDP  82%  198MB  38.7MB/s   00:01 ETA"
       ]
      },
      {
       "output_type": "stream",
       "stream": "stdout",
       "text": [
        "\r",
        "20090601_MP_none4_mouse_brain_10A_CLIPseq_TDP  99%  238MB  38.9MB/s   00:00 ETA"
       ]
      },
      {
       "output_type": "stream",
       "stream": "stdout",
       "text": [
        "\r",
        "20090601_MP_none4_mouse_brain_10A_CLIPseq_TDP 100%  239MB  34.2MB/s   00:07    \r\n"
       ]
      },
      {
       "output_type": "stream",
       "stream": "stdout",
       "text": [
        "\r",
        "20090601_MP_none4_mouse_brain_10A_CLIPseq_TDP   0%    0     0.0KB/s   --:-- ETA"
       ]
      },
      {
       "output_type": "stream",
       "stream": "stdout",
       "text": [
        "\r",
        "20090601_MP_none4_mouse_brain_10A_CLIPseq_TDP 100%   27MB  27.4MB/s   00:00    \r\n"
       ]
      },
      {
       "output_type": "stream",
       "stream": "stdout",
       "text": [
        "\r",
        "20090601_MP_none4_mouse_brain_10A_CLIPseq_TDP   0%    0     0.0KB/s   --:-- ETA"
       ]
      },
      {
       "output_type": "stream",
       "stream": "stdout",
       "text": [
        "\r",
        "20090601_MP_none4_mouse_brain_10A_CLIPseq_TDP 100%   28MB  27.9MB/s   00:00    \r\n"
       ]
      },
      {
       "output_type": "stream",
       "stream": "stdout",
       "text": [
        "\r",
        "20090601_MP_none4_mouse_brain_10A_CLIPseq_TDP   0%    0     0.0KB/s   --:-- ETA"
       ]
      },
      {
       "output_type": "stream",
       "stream": "stdout",
       "text": [
        "\r",
        "20090601_MP_none4_mouse_brain_10A_CLIPseq_TDP  18%   38MB  38.1MB/s   00:04 ETA"
       ]
      },
      {
       "output_type": "stream",
       "stream": "stdout",
       "text": [
        "\r",
        "20090601_MP_none4_mouse_brain_10A_CLIPseq_TDP  38%   78MB  38.3MB/s   00:03 ETA"
       ]
      },
      {
       "output_type": "stream",
       "stream": "stdout",
       "text": [
        "\r",
        "20090601_MP_none4_mouse_brain_10A_CLIPseq_TDP  58%  118MB  38.4MB/s   00:02 ETA"
       ]
      },
      {
       "output_type": "stream",
       "stream": "stdout",
       "text": [
        "\r",
        "20090601_MP_none4_mouse_brain_10A_CLIPseq_TDP  75%  152MB  38.0MB/s   00:01 ETA"
       ]
      },
      {
       "output_type": "stream",
       "stream": "stdout",
       "text": [
        "\r",
        "20090601_MP_none4_mouse_brain_10A_CLIPseq_TDP  95%  192MB  38.2MB/s   00:00 ETA"
       ]
      },
      {
       "output_type": "stream",
       "stream": "stdout",
       "text": [
        "\r",
        "20090601_MP_none4_mouse_brain_10A_CLIPseq_TDP 100%  201MB  40.2MB/s   00:05    \r\n"
       ]
      },
      {
       "output_type": "stream",
       "stream": "stdout",
       "text": [
        "\r",
        "20090601_MP_none5_mouse_brain_13E_CLIPseq_emp   0%    0     0.0KB/s   --:-- ETA"
       ]
      },
      {
       "output_type": "stream",
       "stream": "stdout",
       "text": [
        "\r",
        "20090601_MP_none5_mouse_brain_13E_CLIPseq_emp  11%   29MB  29.3MB/s   00:07 ETA"
       ]
      },
      {
       "output_type": "stream",
       "stream": "stdout",
       "text": [
        "\r",
        "20090601_MP_none5_mouse_brain_13E_CLIPseq_emp  24%   63MB  29.8MB/s   00:06 ETA"
       ]
      },
      {
       "output_type": "stream",
       "stream": "stdout",
       "text": [
        "\r",
        "20090601_MP_none5_mouse_brain_13E_CLIPseq_emp  40%  104MB  30.8MB/s   00:04 ETA"
       ]
      },
      {
       "output_type": "stream",
       "stream": "stdout",
       "text": [
        "\r",
        "20090601_MP_none5_mouse_brain_13E_CLIPseq_emp  56%  144MB  31.8MB/s   00:03 ETA"
       ]
      },
      {
       "output_type": "stream",
       "stream": "stdout",
       "text": [
        "\r",
        "20090601_MP_none5_mouse_brain_13E_CLIPseq_emp  72%  184MB  32.6MB/s   00:02 ETA"
       ]
      },
      {
       "output_type": "stream",
       "stream": "stdout",
       "text": [
        "\r",
        "20090601_MP_none5_mouse_brain_13E_CLIPseq_emp  88%  225MB  33.4MB/s   00:00 ETA"
       ]
      },
      {
       "output_type": "stream",
       "stream": "stdout",
       "text": [
        "\r",
        "20090601_MP_none5_mouse_brain_13E_CLIPseq_emp 100%  255MB  36.5MB/s   00:07    \r\n"
       ]
      },
      {
       "output_type": "stream",
       "stream": "stdout",
       "text": [
        "\r",
        "20090601_MP_none5_mouse_brain_13E_CLIPseq_emp   0%    0     0.0KB/s   --:-- ETA"
       ]
      },
      {
       "output_type": "stream",
       "stream": "stdout",
       "text": [
        "\r",
        "20090601_MP_none5_mouse_brain_13E_CLIPseq_emp 100% 1416KB   1.4MB/s   00:00    \r\n"
       ]
      },
      {
       "output_type": "stream",
       "stream": "stdout",
       "text": [
        "\r",
        "20090601_MP_none5_mouse_brain_13E_CLIPseq_emp   0%    0     0.0KB/s   --:-- ETA"
       ]
      },
      {
       "output_type": "stream",
       "stream": "stdout",
       "text": [
        "\r",
        "20090601_MP_none5_mouse_brain_13E_CLIPseq_emp  17%   38MB  38.3MB/s   00:04 ETA"
       ]
      },
      {
       "output_type": "stream",
       "stream": "stdout",
       "text": [
        "\r",
        "20090601_MP_none5_mouse_brain_13E_CLIPseq_emp  34%   78MB  38.5MB/s   00:03 ETA"
       ]
      },
      {
       "output_type": "stream",
       "stream": "stdout",
       "text": [
        "\r",
        "20090601_MP_none5_mouse_brain_13E_CLIPseq_emp  52%  118MB  38.6MB/s   00:02 ETA"
       ]
      },
      {
       "output_type": "stream",
       "stream": "stdout",
       "text": [
        "\r",
        "20090601_MP_none5_mouse_brain_13E_CLIPseq_emp  67%  152MB  38.2MB/s   00:01 ETA"
       ]
      },
      {
       "output_type": "stream",
       "stream": "stdout",
       "text": [
        "\r",
        "20090601_MP_none5_mouse_brain_13E_CLIPseq_emp  85%  192MB  38.4MB/s   00:00 ETA"
       ]
      },
      {
       "output_type": "stream",
       "stream": "stdout",
       "text": [
        "\r",
        "20090601_MP_none5_mouse_brain_13E_CLIPseq_emp 100%  225MB  37.5MB/s   00:06    \r\n"
       ]
      },
      {
       "output_type": "stream",
       "stream": "stdout",
       "text": [
        "\r",
        "20090601_MP_none5_mouse_brain_13E_CLIPseq_emp   0%    0     0.0KB/s   --:-- ETA"
       ]
      },
      {
       "output_type": "stream",
       "stream": "stdout",
       "text": [
        "\r",
        "20090601_MP_none5_mouse_brain_13E_CLIPseq_emp 100% 1416KB   1.4MB/s   00:00    \r\n"
       ]
      },
      {
       "output_type": "stream",
       "stream": "stdout",
       "text": [
        "\r",
        "20090601_MP_none5_mouse_brain_13E_CLIPseq_emp   0%    0     0.0KB/s   --:-- ETA"
       ]
      },
      {
       "output_type": "stream",
       "stream": "stdout",
       "text": [
        "\r",
        "20090601_MP_none5_mouse_brain_13E_CLIPseq_emp 100% 1416KB   1.4MB/s   00:00    \r\n"
       ]
      },
      {
       "output_type": "stream",
       "stream": "stdout",
       "text": [
        "\r",
        "20090601_MP_none5_mouse_brain_13E_CLIPseq_emp   0%    0     0.0KB/s   --:-- ETA"
       ]
      },
      {
       "output_type": "stream",
       "stream": "stdout",
       "text": [
        "\r",
        "20090601_MP_none5_mouse_brain_13E_CLIPseq_emp  11%   28MB  27.7MB/s   00:07 ETA"
       ]
      },
      {
       "output_type": "stream",
       "stream": "stdout",
       "text": [
        "\r",
        "20090601_MP_none5_mouse_brain_13E_CLIPseq_emp  27%   68MB  29.0MB/s   00:06 ETA"
       ]
      },
      {
       "output_type": "stream",
       "stream": "stdout",
       "text": [
        "\r",
        "20090601_MP_none5_mouse_brain_13E_CLIPseq_emp  41%  102MB  29.4MB/s   00:04 ETA"
       ]
      },
      {
       "output_type": "stream",
       "stream": "stdout",
       "text": [
        "\r",
        "20090601_MP_none5_mouse_brain_13E_CLIPseq_emp  57%  142MB  30.5MB/s   00:03 ETA"
       ]
      },
      {
       "output_type": "stream",
       "stream": "stdout",
       "text": [
        "\r",
        "20090601_MP_none5_mouse_brain_13E_CLIPseq_emp  74%  182MB  31.5MB/s   00:02 ETA"
       ]
      },
      {
       "output_type": "stream",
       "stream": "stdout",
       "text": [
        "\r",
        "20090601_MP_none5_mouse_brain_13E_CLIPseq_emp  90%  222MB  32.3MB/s   00:00 ETA"
       ]
      },
      {
       "output_type": "stream",
       "stream": "stdout",
       "text": [
        "\r",
        "20090601_MP_none5_mouse_brain_13E_CLIPseq_emp 100%  245MB  35.0MB/s   00:07    \r\n"
       ]
      },
      {
       "output_type": "stream",
       "stream": "stdout",
       "text": [
        "\r",
        "20090601_MP_none5_mouse_brain_13E_CLIPseq_emp   0%    0     0.0KB/s   --:-- ETA"
       ]
      },
      {
       "output_type": "stream",
       "stream": "stdout",
       "text": [
        "\r",
        "20090601_MP_none5_mouse_brain_13E_CLIPseq_emp 100% 7885KB   7.7MB/s   00:00    \r\n"
       ]
      },
      {
       "output_type": "stream",
       "stream": "stdout",
       "text": [
        "\r",
        "20090601_MP_none5_mouse_brain_13E_CLIPseq_emp   0%    0     0.0KB/s   --:-- ETA"
       ]
      },
      {
       "output_type": "stream",
       "stream": "stdout",
       "text": [
        "\r",
        "20090601_MP_none5_mouse_brain_13E_CLIPseq_emp 100% 8031KB   7.8MB/s   00:01    \r\n"
       ]
      },
      {
       "output_type": "stream",
       "stream": "stdout",
       "text": [
        "\r",
        "20090601_MP_none5_mouse_brain_13E_CLIPseq_emp   0%    0     0.0KB/s   --:-- ETA"
       ]
      },
      {
       "output_type": "stream",
       "stream": "stdout",
       "text": [
        "\r",
        "20090601_MP_none5_mouse_brain_13E_CLIPseq_emp  17%   37MB  37.3MB/s   00:04 ETA"
       ]
      },
      {
       "output_type": "stream",
       "stream": "stdout",
       "text": [
        "\r",
        "20090601_MP_none5_mouse_brain_13E_CLIPseq_emp  35%   77MB  37.5MB/s   00:03 ETA"
       ]
      },
      {
       "output_type": "stream",
       "stream": "stdout",
       "text": [
        "\r",
        "20090601_MP_none5_mouse_brain_13E_CLIPseq_emp  53%  117MB  37.7MB/s   00:02 ETA"
       ]
      },
      {
       "output_type": "stream",
       "stream": "stdout",
       "text": [
        "\r",
        "20090601_MP_none5_mouse_brain_13E_CLIPseq_emp  71%  156MB  37.9MB/s   00:01 ETA"
       ]
      },
      {
       "output_type": "stream",
       "stream": "stdout",
       "text": [
        "\r",
        "20090601_MP_none5_mouse_brain_13E_CLIPseq_emp  89%  196MB  38.1MB/s   00:00 ETA"
       ]
      },
      {
       "output_type": "stream",
       "stream": "stdout",
       "text": [
        "\r",
        "20090601_MP_none5_mouse_brain_13E_CLIPseq_emp 100%  218MB  43.6MB/s   00:05    \r\n"
       ]
      },
      {
       "output_type": "stream",
       "stream": "stdout",
       "text": [
        "\r",
        "20091230_MP10_1_TLS_clip_mouse_brain_3A.polyA   0%    0     0.0KB/s   --:-- ETA"
       ]
      },
      {
       "output_type": "stream",
       "stream": "stdout",
       "text": [
        "\r",
        "20091230_MP10_1_TLS_clip_mouse_brain_3A.polyA   7%   39MB  38.7MB/s   00:11 ETA"
       ]
      },
      {
       "output_type": "stream",
       "stream": "stdout",
       "text": [
        "\r",
        "20091230_MP10_1_TLS_clip_mouse_brain_3A.polyA  16%   81MB  39.1MB/s   00:10 ETA"
       ]
      },
      {
       "output_type": "stream",
       "stream": "stdout",
       "text": [
        "\r",
        "20091230_MP10_1_TLS_clip_mouse_brain_3A.polyA  24%  124MB  39.5MB/s   00:09 ETA"
       ]
      },
      {
       "output_type": "stream",
       "stream": "stdout",
       "text": [
        "\r",
        "20091230_MP10_1_TLS_clip_mouse_brain_3A.polyA  33%  164MB  39.6MB/s   00:08 ETA"
       ]
      },
      {
       "output_type": "stream",
       "stream": "stdout",
       "text": [
        "\r",
        "20091230_MP10_1_TLS_clip_mouse_brain_3A.polyA  41%  207MB  39.9MB/s   00:07 ETA"
       ]
      },
      {
       "output_type": "stream",
       "stream": "stdout",
       "text": [
        "\r",
        "20091230_MP10_1_TLS_clip_mouse_brain_3A.polyA  50%  250MB  40.2MB/s   00:06 ETA"
       ]
      },
      {
       "output_type": "stream",
       "stream": "stdout",
       "text": [
        "\r",
        "20091230_MP10_1_TLS_clip_mouse_brain_3A.polyA  59%  293MB  40.4MB/s   00:05 ETA"
       ]
      },
      {
       "output_type": "stream",
       "stream": "stdout",
       "text": [
        "\r",
        "20091230_MP10_1_TLS_clip_mouse_brain_3A.polyA  66%  328MB  39.9MB/s   00:04 ETA"
       ]
      },
      {
       "output_type": "stream",
       "stream": "stdout",
       "text": [
        "\r",
        "20091230_MP10_1_TLS_clip_mouse_brain_3A.polyA  74%  370MB  40.2MB/s   00:03 ETA"
       ]
      },
      {
       "output_type": "stream",
       "stream": "stdout",
       "text": [
        "\r",
        "20091230_MP10_1_TLS_clip_mouse_brain_3A.polyA  83%  412MB  40.4MB/s   00:02 ETA"
       ]
      },
      {
       "output_type": "stream",
       "stream": "stdout",
       "text": [
        "\r",
        "20091230_MP10_1_TLS_clip_mouse_brain_3A.polyA  91%  455MB  40.6MB/s   00:00 ETA"
       ]
      },
      {
       "output_type": "stream",
       "stream": "stdout",
       "text": [
        "\r",
        "20091230_MP10_1_TLS_clip_mouse_brain_3A.polyA 100%  495MB  41.3MB/s   00:12    \r\n"
       ]
      },
      {
       "output_type": "stream",
       "stream": "stdout",
       "text": [
        "\r",
        "20091230_MP10_1_TLS_clip_mouse_brain_3A.polyA   0%    0     0.0KB/s   --:-- ETA"
       ]
      },
      {
       "output_type": "stream",
       "stream": "stdout",
       "text": [
        "\r",
        "20091230_MP10_1_TLS_clip_mouse_brain_3A.polyA 100%  837KB 837.1KB/s   00:00    \r\n"
       ]
      },
      {
       "output_type": "stream",
       "stream": "stdout",
       "text": [
        "\r",
        "20091230_MP10_1_TLS_clip_mouse_brain_3A.polyA   0%    0     0.0KB/s   --:-- ETA"
       ]
      },
      {
       "output_type": "stream",
       "stream": "stdout",
       "text": [
        "\r",
        "20091230_MP10_1_TLS_clip_mouse_brain_3A.polyA   9%   38MB  38.1MB/s   00:09 ETA"
       ]
      },
      {
       "output_type": "stream",
       "stream": "stdout",
       "text": [
        "\r",
        "20091230_MP10_1_TLS_clip_mouse_brain_3A.polyA  20%   80MB  38.5MB/s   00:08 ETA"
       ]
      },
      {
       "output_type": "stream",
       "stream": "stdout",
       "text": [
        "\r",
        "20091230_MP10_1_TLS_clip_mouse_brain_3A.polyA  31%  122MB  38.8MB/s   00:06 ETA"
       ]
      },
      {
       "output_type": "stream",
       "stream": "stdout",
       "text": [
        "\r",
        "20091230_MP10_1_TLS_clip_mouse_brain_3A.polyA  41%  164MB  39.1MB/s   00:05 ETA"
       ]
      },
      {
       "output_type": "stream",
       "stream": "stdout",
       "text": [
        "\r",
        "20091230_MP10_1_TLS_clip_mouse_brain_3A.polyA  52%  206MB  39.4MB/s   00:04 ETA"
       ]
      },
      {
       "output_type": "stream",
       "stream": "stdout",
       "text": [
        "\r",
        "20091230_MP10_1_TLS_clip_mouse_brain_3A.polyA  63%  248MB  39.7MB/s   00:03 ETA"
       ]
      },
      {
       "output_type": "stream",
       "stream": "stdout",
       "text": [
        "\r",
        "20091230_MP10_1_TLS_clip_mouse_brain_3A.polyA  74%  290MB  40.0MB/s   00:02 ETA"
       ]
      },
      {
       "output_type": "stream",
       "stream": "stdout",
       "text": [
        "\r",
        "20091230_MP10_1_TLS_clip_mouse_brain_3A.polyA  85%  333MB  40.2MB/s   00:01 ETA"
       ]
      },
      {
       "output_type": "stream",
       "stream": "stdout",
       "text": [
        "\r",
        "20091230_MP10_1_TLS_clip_mouse_brain_3A.polyA  95%  375MB  40.4MB/s   00:00 ETA"
       ]
      },
      {
       "output_type": "stream",
       "stream": "stdout",
       "text": [
        "\r",
        "20091230_MP10_1_TLS_clip_mouse_brain_3A.polyA 100%  391MB  43.5MB/s   00:09    \r\n"
       ]
      },
      {
       "output_type": "stream",
       "stream": "stdout",
       "text": [
        "\r",
        "20091230_MP10_1_TLS_clip_mouse_brain_3A.polyA   0%    0     0.0KB/s   --:-- ETA"
       ]
      },
      {
       "output_type": "stream",
       "stream": "stdout",
       "text": [
        "\r",
        "20091230_MP10_1_TLS_clip_mouse_brain_3A.polyA 100% 1416KB   1.4MB/s   00:00    \r\n"
       ]
      },
      {
       "output_type": "stream",
       "stream": "stdout",
       "text": [
        "\r",
        "20091230_MP10_1_TLS_clip_mouse_brain_3A.polyA   0%    0     0.0KB/s   --:-- ETA"
       ]
      },
      {
       "output_type": "stream",
       "stream": "stdout",
       "text": [
        "\r",
        "20091230_MP10_1_TLS_clip_mouse_brain_3A.polyA 100% 1416KB   1.4MB/s   00:00    \r\n"
       ]
      },
      {
       "output_type": "stream",
       "stream": "stdout",
       "text": [
        "\r",
        "20091230_MP10_1_TLS_clip_mouse_brain_3A.polyA   0%    0     0.0KB/s   --:-- ETA"
       ]
      },
      {
       "output_type": "stream",
       "stream": "stdout",
       "text": [
        "\r",
        "20091230_MP10_1_TLS_clip_mouse_brain_3A.polyA   7%   38MB  38.1MB/s   00:12 ETA"
       ]
      },
      {
       "output_type": "stream",
       "stream": "stdout",
       "text": [
        "\r",
        "20091230_MP10_1_TLS_clip_mouse_brain_3A.polyA  15%   78MB  38.2MB/s   00:10 ETA"
       ]
      },
      {
       "output_type": "stream",
       "stream": "stdout",
       "text": [
        "\r",
        "20091230_MP10_1_TLS_clip_mouse_brain_3A.polyA  22%  113MB  37.9MB/s   00:10 ETA"
       ]
      },
      {
       "output_type": "stream",
       "stream": "stdout",
       "text": [
        "\r",
        "20091230_MP10_1_TLS_clip_mouse_brain_3A.polyA  30%  152MB  38.0MB/s   00:09 ETA"
       ]
      },
      {
       "output_type": "stream",
       "stream": "stdout",
       "text": [
        "\r",
        "20091230_MP10_1_TLS_clip_mouse_brain_3A.polyA  38%  192MB  38.2MB/s   00:08 ETA"
       ]
      },
      {
       "output_type": "stream",
       "stream": "stdout",
       "text": [
        "\r",
        "20091230_MP10_1_TLS_clip_mouse_brain_3A.polyA  46%  232MB  38.4MB/s   00:06 ETA"
       ]
      },
      {
       "output_type": "stream",
       "stream": "stdout",
       "text": [
        "\r",
        "20091230_MP10_1_TLS_clip_mouse_brain_3A.polyA  54%  272MB  38.6MB/s   00:05 ETA"
       ]
      },
      {
       "output_type": "stream",
       "stream": "stdout",
       "text": [
        "\r",
        "20091230_MP10_1_TLS_clip_mouse_brain_3A.polyA  62%  312MB  38.7MB/s   00:04 ETA"
       ]
      },
      {
       "output_type": "stream",
       "stream": "stdout",
       "text": [
        "\r",
        "20091230_MP10_1_TLS_clip_mouse_brain_3A.polyA  70%  352MB  38.8MB/s   00:03 ETA"
       ]
      },
      {
       "output_type": "stream",
       "stream": "stdout",
       "text": [
        "\r",
        "20091230_MP10_1_TLS_clip_mouse_brain_3A.polyA  78%  392MB  39.0MB/s   00:02 ETA"
       ]
      },
      {
       "output_type": "stream",
       "stream": "stdout",
       "text": [
        "\r",
        "20091230_MP10_1_TLS_clip_mouse_brain_3A.polyA  86%  432MB  39.1MB/s   00:01 ETA"
       ]
      },
      {
       "output_type": "stream",
       "stream": "stdout",
       "text": [
        "\r",
        "20091230_MP10_1_TLS_clip_mouse_brain_3A.polyA  94%  472MB  39.2MB/s   00:00 ETA"
       ]
      },
      {
       "output_type": "stream",
       "stream": "stdout",
       "text": [
        "\r",
        "20091230_MP10_1_TLS_clip_mouse_brain_3A.polyA 100%  498MB  38.3MB/s   00:13    \r\n"
       ]
      },
      {
       "output_type": "stream",
       "stream": "stdout",
       "text": [
        "\r",
        "20091230_MP10_1_TLS_clip_mouse_brain_3A.polyA   0%    0     0.0KB/s   --:-- ETA"
       ]
      },
      {
       "output_type": "stream",
       "stream": "stdout",
       "text": [
        "\r",
        "20091230_MP10_1_TLS_clip_mouse_brain_3A.polyA 100%   21MB  21.0MB/s   00:01    \r\n"
       ]
      },
      {
       "output_type": "stream",
       "stream": "stdout",
       "text": [
        "\r",
        "20091230_MP10_1_TLS_clip_mouse_brain_3A.polyA   0%    0     0.0KB/s   --:-- ETA"
       ]
      },
      {
       "output_type": "stream",
       "stream": "stdout",
       "text": [
        "\r",
        "20091230_MP10_1_TLS_clip_mouse_brain_3A.polyA 100%   21MB  21.2MB/s   00:01    \r\n"
       ]
      },
      {
       "output_type": "stream",
       "stream": "stdout",
       "text": [
        "\r",
        "20091230_MP10_1_TLS_clip_mouse_brain_3A.polyA   0%    0     0.0KB/s   --:-- ETA"
       ]
      },
      {
       "output_type": "stream",
       "stream": "stdout",
       "text": [
        "\r",
        "20091230_MP10_1_TLS_clip_mouse_brain_3A.polyA   8%   38MB  38.1MB/s   00:10 ETA"
       ]
      },
      {
       "output_type": "stream",
       "stream": "stdout",
       "text": [
        "\r",
        "20091230_MP10_1_TLS_clip_mouse_brain_3A.polyA  17%   78MB  38.3MB/s   00:09 ETA"
       ]
      },
      {
       "output_type": "stream",
       "stream": "stdout",
       "text": [
        "\r",
        "20091230_MP10_1_TLS_clip_mouse_brain_3A.polyA  26%  118MB  38.5MB/s   00:08 ETA"
       ]
      },
      {
       "output_type": "stream",
       "stream": "stdout",
       "text": [
        "\r",
        "20091230_MP10_1_TLS_clip_mouse_brain_3A.polyA  35%  158MB  38.6MB/s   00:07 ETA"
       ]
      },
      {
       "output_type": "stream",
       "stream": "stdout",
       "text": [
        "\r",
        "20091230_MP10_1_TLS_clip_mouse_brain_3A.polyA  44%  198MB  38.8MB/s   00:06 ETA"
       ]
      },
      {
       "output_type": "stream",
       "stream": "stdout",
       "text": [
        "\r",
        "20091230_MP10_1_TLS_clip_mouse_brain_3A.polyA  53%  238MB  38.9MB/s   00:05 ETA"
       ]
      },
      {
       "output_type": "stream",
       "stream": "stdout",
       "text": [
        "\r",
        "20091230_MP10_1_TLS_clip_mouse_brain_3A.polyA  62%  278MB  39.0MB/s   00:04 ETA"
       ]
      },
      {
       "output_type": "stream",
       "stream": "stdout",
       "text": [
        "\r",
        "20091230_MP10_1_TLS_clip_mouse_brain_3A.polyA  70%  312MB  38.5MB/s   00:03 ETA"
       ]
      },
      {
       "output_type": "stream",
       "stream": "stdout",
       "text": [
        "\r",
        "20091230_MP10_1_TLS_clip_mouse_brain_3A.polyA  79%  352MB  38.6MB/s   00:02 ETA"
       ]
      },
      {
       "output_type": "stream",
       "stream": "stdout",
       "text": [
        "\r",
        "20091230_MP10_1_TLS_clip_mouse_brain_3A.polyA  88%  392MB  38.8MB/s   00:01 ETA"
       ]
      },
      {
       "output_type": "stream",
       "stream": "stdout",
       "text": [
        "\r",
        "20091230_MP10_1_TLS_clip_mouse_brain_3A.polyA  97%  432MB  38.9MB/s   00:00 ETA"
       ]
      },
      {
       "output_type": "stream",
       "stream": "stdout",
       "text": [
        "\r",
        "20091230_MP10_1_TLS_clip_mouse_brain_3A.polyA 100%  444MB  40.4MB/s   00:11    \r\n"
       ]
      },
      {
       "output_type": "stream",
       "stream": "stdout",
       "text": [
        "\r",
        "20091230_MP11_1_TLS_clip_mouse_brain_3B.polyA   0%    0     0.0KB/s   --:-- ETA"
       ]
      },
      {
       "output_type": "stream",
       "stream": "stdout",
       "text": [
        "\r",
        "20091230_MP11_1_TLS_clip_mouse_brain_3B.polyA   5%   36MB  36.2MB/s   00:18 ETA"
       ]
      },
      {
       "output_type": "stream",
       "stream": "stdout",
       "text": [
        "\r",
        "20091230_MP11_1_TLS_clip_mouse_brain_3B.polyA  11%   78MB  36.8MB/s   00:16 ETA"
       ]
      },
      {
       "output_type": "stream",
       "stream": "stdout",
       "text": [
        "\r",
        "20091230_MP11_1_TLS_clip_mouse_brain_3B.polyA  17%  119MB  37.3MB/s   00:15 ETA"
       ]
      },
      {
       "output_type": "stream",
       "stream": "stdout",
       "text": [
        "\r",
        "20091230_MP11_1_TLS_clip_mouse_brain_3B.polyA  22%  161MB  37.7MB/s   00:14 ETA"
       ]
      },
      {
       "output_type": "stream",
       "stream": "stdout",
       "text": [
        "\r",
        "20091230_MP11_1_TLS_clip_mouse_brain_3B.polyA  28%  203MB  38.1MB/s   00:13 ETA"
       ]
      },
      {
       "output_type": "stream",
       "stream": "stdout",
       "text": [
        "\r",
        "20091230_MP11_1_TLS_clip_mouse_brain_3B.polyA  34%  245MB  38.5MB/s   00:11 ETA"
       ]
      },
      {
       "output_type": "stream",
       "stream": "stdout",
       "text": [
        "\r",
        "20091230_MP11_1_TLS_clip_mouse_brain_3B.polyA  39%  279MB  38.1MB/s   00:11 ETA"
       ]
      },
      {
       "output_type": "stream",
       "stream": "stdout",
       "text": [
        "\r",
        "20091230_MP11_1_TLS_clip_mouse_brain_3B.polyA  45%  321MB  38.5MB/s   00:09 ETA"
       ]
      },
      {
       "output_type": "stream",
       "stream": "stdout",
       "text": [
        "\r",
        "20091230_MP11_1_TLS_clip_mouse_brain_3B.polyA  51%  363MB  38.8MB/s   00:08 ETA"
       ]
      },
      {
       "output_type": "stream",
       "stream": "stdout",
       "text": [
        "\r",
        "20091230_MP11_1_TLS_clip_mouse_brain_3B.polyA  57%  405MB  39.2MB/s   00:07 ETA"
       ]
      },
      {
       "output_type": "stream",
       "stream": "stdout",
       "text": [
        "\r",
        "20091230_MP11_1_TLS_clip_mouse_brain_3B.polyA  63%  447MB  39.4MB/s   00:06 ETA"
       ]
      },
      {
       "output_type": "stream",
       "stream": "stdout",
       "text": [
        "\r",
        "20091230_MP11_1_TLS_clip_mouse_brain_3B.polyA  69%  485MB  39.3MB/s   00:05 ETA"
       ]
      },
      {
       "output_type": "stream",
       "stream": "stdout",
       "text": [
        "\r",
        "20091230_MP11_1_TLS_clip_mouse_brain_3B.polyA  74%  525MB  39.3MB/s   00:04 ETA"
       ]
      },
      {
       "output_type": "stream",
       "stream": "stdout",
       "text": [
        "\r",
        "20091230_MP11_1_TLS_clip_mouse_brain_3B.polyA  80%  567MB  39.6MB/s   00:03 ETA"
       ]
      },
      {
       "output_type": "stream",
       "stream": "stdout",
       "text": [
        "\r",
        "20091230_MP11_1_TLS_clip_mouse_brain_3B.polyA  85%  601MB  39.0MB/s   00:02 ETA"
       ]
      },
      {
       "output_type": "stream",
       "stream": "stdout",
       "text": [
        "\r",
        "20091230_MP11_1_TLS_clip_mouse_brain_3B.polyA  90%  634MB  38.5MB/s   00:01 ETA"
       ]
      },
      {
       "output_type": "stream",
       "stream": "stdout",
       "text": [
        "\r",
        "20091230_MP11_1_TLS_clip_mouse_brain_3B.polyA  95%  674MB  38.6MB/s   00:00 ETA"
       ]
      },
      {
       "output_type": "stream",
       "stream": "stdout",
       "text": [
        "\r",
        "20091230_MP11_1_TLS_clip_mouse_brain_3B.polyA 100%  703MB  39.1MB/s   00:18    \r\n"
       ]
      },
      {
       "output_type": "stream",
       "stream": "stdout",
       "text": [
        "\r",
        "20091230_MP11_1_TLS_clip_mouse_brain_3B.polyA   0%    0     0.0KB/s   --:-- ETA"
       ]
      },
      {
       "output_type": "stream",
       "stream": "stdout",
       "text": [
        "\r",
        "20091230_MP11_1_TLS_clip_mouse_brain_3B.polyA 100% 1259KB   1.2MB/s   00:00    \r\n"
       ]
      },
      {
       "output_type": "stream",
       "stream": "stdout",
       "text": [
        "\r",
        "20091230_MP11_1_TLS_clip_mouse_brain_3B.polyA   0%    0     0.0KB/s   --:-- ETA"
       ]
      },
      {
       "output_type": "stream",
       "stream": "stdout",
       "text": [
        "\r",
        "20091230_MP11_1_TLS_clip_mouse_brain_3B.polyA   8%   39MB  38.5MB/s   00:11 ETA"
       ]
      },
      {
       "output_type": "stream",
       "stream": "stdout",
       "text": [
        "\r",
        "20091230_MP11_1_TLS_clip_mouse_brain_3B.polyA  16%   79MB  38.7MB/s   00:10 ETA"
       ]
      },
      {
       "output_type": "stream",
       "stream": "stdout",
       "text": [
        "\r",
        "20091230_MP11_1_TLS_clip_mouse_brain_3B.polyA  23%  113MB  38.2MB/s   00:09 ETA"
       ]
      },
      {
       "output_type": "stream",
       "stream": "stdout",
       "text": [
        "\r",
        "20091230_MP11_1_TLS_clip_mouse_brain_3B.polyA  32%  153MB  38.5MB/s   00:08 ETA"
       ]
      },
      {
       "output_type": "stream",
       "stream": "stdout",
       "text": [
        "\r",
        "20091230_MP11_1_TLS_clip_mouse_brain_3B.polyA  41%  194MB  38.6MB/s   00:07 ETA"
       ]
      },
      {
       "output_type": "stream",
       "stream": "stdout",
       "text": [
        "\r",
        "20091230_MP11_1_TLS_clip_mouse_brain_3B.polyA  46%  221MB  37.6MB/s   00:06 ETA"
       ]
      },
      {
       "output_type": "stream",
       "stream": "stdout",
       "text": [
        "\r",
        "20091230_MP11_1_TLS_clip_mouse_brain_3B.polyA  55%  262MB  37.8MB/s   00:05 ETA"
       ]
      },
      {
       "output_type": "stream",
       "stream": "stdout",
       "text": [
        "\r",
        "20091230_MP11_1_TLS_clip_mouse_brain_3B.polyA  64%  302MB  38.1MB/s   00:04 ETA"
       ]
      },
      {
       "output_type": "stream",
       "stream": "stdout",
       "text": [
        "\r",
        "20091230_MP11_1_TLS_clip_mouse_brain_3B.polyA  72%  343MB  38.3MB/s   00:03 ETA"
       ]
      },
      {
       "output_type": "stream",
       "stream": "stdout",
       "text": [
        "\r",
        "20091230_MP11_1_TLS_clip_mouse_brain_3B.polyA  79%  377MB  37.9MB/s   00:02 ETA"
       ]
      },
      {
       "output_type": "stream",
       "stream": "stdout",
       "text": [
        "\r",
        "20091230_MP11_1_TLS_clip_mouse_brain_3B.polyA  88%  417MB  38.1MB/s   00:01 ETA"
       ]
      },
      {
       "output_type": "stream",
       "stream": "stdout",
       "text": [
        "\r",
        "20091230_MP11_1_TLS_clip_mouse_brain_3B.polyA  96%  457MB  38.4MB/s   00:00 ETA"
       ]
      },
      {
       "output_type": "stream",
       "stream": "stdout",
       "text": [
        "\r",
        "20091230_MP11_1_TLS_clip_mouse_brain_3B.polyA 100%  472MB  39.3MB/s   00:12    \r\n"
       ]
      },
      {
       "output_type": "stream",
       "stream": "stdout",
       "text": [
        "\r",
        "20091230_MP11_1_TLS_clip_mouse_brain_3B.polyA   0%    0     0.0KB/s   --:-- ETA"
       ]
      },
      {
       "output_type": "stream",
       "stream": "stdout",
       "text": [
        "\r",
        "20091230_MP11_1_TLS_clip_mouse_brain_3B.polyA 100% 1416KB   1.4MB/s   00:00    \r\n"
       ]
      },
      {
       "output_type": "stream",
       "stream": "stdout",
       "text": [
        "\r",
        "20091230_MP11_1_TLS_clip_mouse_brain_3B.polyA   0%    0     0.0KB/s   --:-- ETA"
       ]
      },
      {
       "output_type": "stream",
       "stream": "stdout",
       "text": [
        "\r",
        "20091230_MP11_1_TLS_clip_mouse_brain_3B.polyA 100% 1416KB   1.4MB/s   00:00    \r\n"
       ]
      },
      {
       "output_type": "stream",
       "stream": "stdout",
       "text": [
        "\r",
        "20091230_MP11_1_TLS_clip_mouse_brain_3B.polyA   0%    0     0.0KB/s   --:-- ETA"
       ]
      },
      {
       "output_type": "stream",
       "stream": "stdout",
       "text": [
        "\r",
        "20091230_MP11_1_TLS_clip_mouse_brain_3B.polyA   5%   38MB  38.4MB/s   00:17 ETA"
       ]
      },
      {
       "output_type": "stream",
       "stream": "stdout",
       "text": [
        "\r",
        "20091230_MP11_1_TLS_clip_mouse_brain_3B.polyA  11%   79MB  38.6MB/s   00:16 ETA"
       ]
      },
      {
       "output_type": "stream",
       "stream": "stdout",
       "text": [
        "\r",
        "20091230_MP11_1_TLS_clip_mouse_brain_3B.polyA  16%  119MB  38.8MB/s   00:15 ETA"
       ]
      },
      {
       "output_type": "stream",
       "stream": "stdout",
       "text": [
        "\r",
        "20091230_MP11_1_TLS_clip_mouse_brain_3B.polyA  22%  159MB  38.9MB/s   00:14 ETA"
       ]
      },
      {
       "output_type": "stream",
       "stream": "stdout",
       "text": [
        "\r",
        "20091230_MP11_1_TLS_clip_mouse_brain_3B.polyA  27%  200MB  39.1MB/s   00:13 ETA"
       ]
      },
      {
       "output_type": "stream",
       "stream": "stdout",
       "text": [
        "\r",
        "20091230_MP11_1_TLS_clip_mouse_brain_3B.polyA  33%  240MB  39.2MB/s   00:12 ETA"
       ]
      },
      {
       "output_type": "stream",
       "stream": "stdout",
       "text": [
        "\r",
        "20091230_MP11_1_TLS_clip_mouse_brain_3B.polyA  39%  281MB  39.3MB/s   00:11 ETA"
       ]
      },
      {
       "output_type": "stream",
       "stream": "stdout",
       "text": [
        "\r",
        "20091230_MP11_1_TLS_clip_mouse_brain_3B.polyA  44%  321MB  39.4MB/s   00:09 ETA"
       ]
      },
      {
       "output_type": "stream",
       "stream": "stdout",
       "text": [
        "\r",
        "20091230_MP11_1_TLS_clip_mouse_brain_3B.polyA  50%  361MB  39.5MB/s   00:08 ETA"
       ]
      },
      {
       "output_type": "stream",
       "stream": "stdout",
       "text": [
        "\r",
        "20091230_MP11_1_TLS_clip_mouse_brain_3B.polyA  56%  402MB  39.6MB/s   00:07 ETA"
       ]
      },
      {
       "output_type": "stream",
       "stream": "stdout",
       "text": [
        "\r",
        "20091230_MP11_1_TLS_clip_mouse_brain_3B.polyA  61%  442MB  39.7MB/s   00:06 ETA"
       ]
      },
      {
       "output_type": "stream",
       "stream": "stdout",
       "text": [
        "\r",
        "20091230_MP11_1_TLS_clip_mouse_brain_3B.polyA  67%  482MB  39.7MB/s   00:05 ETA"
       ]
      },
      {
       "output_type": "stream",
       "stream": "stdout",
       "text": [
        "\r",
        "20091230_MP11_1_TLS_clip_mouse_brain_3B.polyA  73%  523MB  39.8MB/s   00:04 ETA"
       ]
      },
      {
       "output_type": "stream",
       "stream": "stdout",
       "text": [
        "\r",
        "20091230_MP11_1_TLS_clip_mouse_brain_3B.polyA  78%  563MB  39.9MB/s   00:03 ETA"
       ]
      },
      {
       "output_type": "stream",
       "stream": "stdout",
       "text": [
        "\r",
        "20091230_MP11_1_TLS_clip_mouse_brain_3B.polyA  84%  603MB  39.9MB/s   00:02 ETA"
       ]
      },
      {
       "output_type": "stream",
       "stream": "stdout",
       "text": [
        "\r",
        "20091230_MP11_1_TLS_clip_mouse_brain_3B.polyA  90%  646MB  40.1MB/s   00:01 ETA"
       ]
      },
      {
       "output_type": "stream",
       "stream": "stdout",
       "text": [
        "\r",
        "20091230_MP11_1_TLS_clip_mouse_brain_3B.polyA  96%  689MB  40.5MB/s   00:00 ETA"
       ]
      },
      {
       "output_type": "stream",
       "stream": "stdout",
       "text": [
        "\r",
        "20091230_MP11_1_TLS_clip_mouse_brain_3B.polyA 100%  714MB  42.0MB/s   00:17    \r\n"
       ]
      },
      {
       "output_type": "stream",
       "stream": "stdout",
       "text": [
        "\r",
        "20091230_MP11_1_TLS_clip_mouse_brain_3B.polyA   0%    0     0.0KB/s   --:-- ETA"
       ]
      },
      {
       "output_type": "stream",
       "stream": "stdout",
       "text": [
        "\r",
        "20091230_MP11_1_TLS_clip_mouse_brain_3B.polyA  53%   41MB  40.5MB/s   00:00 ETA"
       ]
      },
      {
       "output_type": "stream",
       "stream": "stdout",
       "text": [
        "\r",
        "20091230_MP11_1_TLS_clip_mouse_brain_3B.polyA 100%   76MB  38.0MB/s   00:02    \r\n"
       ]
      },
      {
       "output_type": "stream",
       "stream": "stdout",
       "text": [
        "\r",
        "20091230_MP11_1_TLS_clip_mouse_brain_3B.polyA   0%    0     0.0KB/s   --:-- ETA"
       ]
      },
      {
       "output_type": "stream",
       "stream": "stdout",
       "text": [
        "\r",
        "20091230_MP11_1_TLS_clip_mouse_brain_3B.polyA  41%   32MB  32.0MB/s   00:01 ETA"
       ]
      },
      {
       "output_type": "stream",
       "stream": "stdout",
       "text": [
        "\r",
        "20091230_MP11_1_TLS_clip_mouse_brain_3B.polyA  93%   72MB  32.8MB/s   00:00 ETA"
       ]
      },
      {
       "output_type": "stream",
       "stream": "stdout",
       "text": [
        "\r",
        "20091230_MP11_1_TLS_clip_mouse_brain_3B.polyA 100%   77MB  38.6MB/s   00:02    \r\n"
       ]
      },
      {
       "output_type": "stream",
       "stream": "stdout",
       "text": [
        "\r",
        "20091230_MP11_1_TLS_clip_mouse_brain_3B.polyA   0%    0     0.0KB/s   --:-- ETA"
       ]
      },
      {
       "output_type": "stream",
       "stream": "stdout",
       "text": [
        "\r",
        "20091230_MP11_1_TLS_clip_mouse_brain_3B.polyA   4%   32MB  31.7MB/s   00:19 ETA"
       ]
      },
      {
       "output_type": "stream",
       "stream": "stdout",
       "text": [
        "\r",
        "20091230_MP11_1_TLS_clip_mouse_brain_3B.polyA  11%   72MB  32.6MB/s   00:17 ETA"
       ]
      },
      {
       "output_type": "stream",
       "stream": "stdout",
       "text": [
        "\r",
        "20091230_MP11_1_TLS_clip_mouse_brain_3B.polyA  17%  112MB  33.4MB/s   00:15 ETA"
       ]
      },
      {
       "output_type": "stream",
       "stream": "stdout",
       "text": [
        "\r",
        "20091230_MP11_1_TLS_clip_mouse_brain_3B.polyA  22%  146MB  33.4MB/s   00:14 ETA"
       ]
      },
      {
       "output_type": "stream",
       "stream": "stdout",
       "text": [
        "\r",
        "20091230_MP11_1_TLS_clip_mouse_brain_3B.polyA  29%  187MB  34.1MB/s   00:13 ETA"
       ]
      },
      {
       "output_type": "stream",
       "stream": "stdout",
       "text": [
        "\r",
        "20091230_MP11_1_TLS_clip_mouse_brain_3B.polyA  35%  227MB  34.7MB/s   00:11 ETA"
       ]
      },
      {
       "output_type": "stream",
       "stream": "stdout",
       "text": [
        "\r",
        "20091230_MP11_1_TLS_clip_mouse_brain_3B.polyA  41%  267MB  35.3MB/s   00:10 ETA"
       ]
      },
      {
       "output_type": "stream",
       "stream": "stdout",
       "text": [
        "\r",
        "20091230_MP11_1_TLS_clip_mouse_brain_3B.polyA  47%  301MB  35.1MB/s   00:09 ETA"
       ]
      },
      {
       "output_type": "stream",
       "stream": "stdout",
       "text": [
        "\r",
        "20091230_MP11_1_TLS_clip_mouse_brain_3B.polyA  53%  341MB  35.6MB/s   00:08 ETA"
       ]
      },
      {
       "output_type": "stream",
       "stream": "stdout",
       "text": [
        "\r",
        "20091230_MP11_1_TLS_clip_mouse_brain_3B.polyA  59%  381MB  36.1MB/s   00:07 ETA"
       ]
      },
      {
       "output_type": "stream",
       "stream": "stdout",
       "text": [
        "\r",
        "20091230_MP11_1_TLS_clip_mouse_brain_3B.polyA  66%  421MB  36.5MB/s   00:05 ETA"
       ]
      },
      {
       "output_type": "stream",
       "stream": "stdout",
       "text": [
        "\r",
        "20091230_MP11_1_TLS_clip_mouse_brain_3B.polyA  72%  461MB  36.8MB/s   00:04 ETA"
       ]
      },
      {
       "output_type": "stream",
       "stream": "stdout",
       "text": [
        "\r",
        "20091230_MP11_1_TLS_clip_mouse_brain_3B.polyA  78%  502MB  37.2MB/s   00:03 ETA"
       ]
      },
      {
       "output_type": "stream",
       "stream": "stdout",
       "text": [
        "\r",
        "20091230_MP11_1_TLS_clip_mouse_brain_3B.polyA  84%  542MB  37.5MB/s   00:02 ETA"
       ]
      },
      {
       "output_type": "stream",
       "stream": "stdout",
       "text": [
        "\r",
        "20091230_MP11_1_TLS_clip_mouse_brain_3B.polyA  91%  582MB  37.7MB/s   00:01 ETA"
       ]
      },
      {
       "output_type": "stream",
       "stream": "stdout",
       "text": [
        "\r",
        "20091230_MP11_1_TLS_clip_mouse_brain_3B.polyA  97%  622MB  38.0MB/s   00:00 ETA"
       ]
      },
      {
       "output_type": "stream",
       "stream": "stdout",
       "text": [
        "\r",
        "20091230_MP11_1_TLS_clip_mouse_brain_3B.polyA 100%  638MB  37.5MB/s   00:17    \r\n"
       ]
      },
      {
       "output_type": "stream",
       "stream": "stdout",
       "text": [
        "\r",
        "20101110_MP41_1_mouse_brain_CLIPseq_TDP43_low   0%    0     0.0KB/s   --:-- ETA"
       ]
      },
      {
       "output_type": "stream",
       "stream": "stdout",
       "text": [
        "\r",
        "20101110_MP41_1_mouse_brain_CLIPseq_TDP43_low   1%   34MB  34.1MB/s   01:19 ETA"
       ]
      },
      {
       "output_type": "stream",
       "stream": "stdout",
       "text": [
        "\r",
        "20101110_MP41_1_mouse_brain_CLIPseq_TDP43_low   2%   74MB  34.7MB/s   01:16 ETA"
       ]
      },
      {
       "output_type": "stream",
       "stream": "stdout",
       "text": [
        "\r",
        "20101110_MP41_1_mouse_brain_CLIPseq_TDP43_low   3%  108MB  34.6MB/s   01:16 ETA"
       ]
      },
      {
       "output_type": "stream",
       "stream": "stdout",
       "text": [
        "\r",
        "20101110_MP41_1_mouse_brain_CLIPseq_TDP43_low   5%  148MB  35.2MB/s   01:13 ETA"
       ]
      },
      {
       "output_type": "stream",
       "stream": "stdout",
       "text": [
        "\r",
        "20101110_MP41_1_mouse_brain_CLIPseq_TDP43_low   6%  188MB  35.7MB/s   01:11 ETA"
       ]
      },
      {
       "output_type": "stream",
       "stream": "stdout",
       "text": [
        "\r",
        "20101110_MP41_1_mouse_brain_CLIPseq_TDP43_low   8%  228MB  36.1MB/s   01:09 ETA"
       ]
      },
      {
       "output_type": "stream",
       "stream": "stdout",
       "text": [
        "\r",
        "20101110_MP41_1_mouse_brain_CLIPseq_TDP43_low   9%  268MB  36.5MB/s   01:07 ETA"
       ]
      },
      {
       "output_type": "stream",
       "stream": "stdout",
       "text": [
        "\r",
        "20101110_MP41_1_mouse_brain_CLIPseq_TDP43_low  11%  308MB  36.8MB/s   01:06 ETA"
       ]
      },
      {
       "output_type": "stream",
       "stream": "stdout",
       "text": [
        "\r",
        "20101110_MP41_1_mouse_brain_CLIPseq_TDP43_low  12%  348MB  37.2MB/s   01:04 ETA"
       ]
      },
      {
       "output_type": "stream",
       "stream": "stdout",
       "text": [
        "\r",
        "20101110_MP41_1_mouse_brain_CLIPseq_TDP43_low  14%  388MB  37.4MB/s   01:02 ETA"
       ]
      },
      {
       "output_type": "stream",
       "stream": "stdout",
       "text": [
        "\r",
        "20101110_MP41_1_mouse_brain_CLIPseq_TDP43_low  15%  428MB  37.7MB/s   01:01 ETA"
       ]
      },
      {
       "output_type": "stream",
       "stream": "stdout",
       "text": [
        "\r",
        "20101110_MP41_1_mouse_brain_CLIPseq_TDP43_low  17%  468MB  37.9MB/s   00:59 ETA"
       ]
      },
      {
       "output_type": "stream",
       "stream": "stdout",
       "text": [
        "\r",
        "20101110_MP41_1_mouse_brain_CLIPseq_TDP43_low  18%  508MB  38.1MB/s   00:58 ETA"
       ]
      },
      {
       "output_type": "stream",
       "stream": "stdout",
       "text": [
        "\r",
        "20101110_MP41_1_mouse_brain_CLIPseq_TDP43_low  20%  548MB  38.3MB/s   00:57 ETA"
       ]
      },
      {
       "output_type": "stream",
       "stream": "stdout",
       "text": [
        "\r",
        "20101110_MP41_1_mouse_brain_CLIPseq_TDP43_low  21%  588MB  38.5MB/s   00:55 ETA"
       ]
      },
      {
       "output_type": "stream",
       "stream": "stdout",
       "text": [
        "\r",
        "20101110_MP41_1_mouse_brain_CLIPseq_TDP43_low  22%  625MB  38.3MB/s   00:55 ETA"
       ]
      },
      {
       "output_type": "stream",
       "stream": "stdout",
       "text": [
        "\r",
        "20101110_MP41_1_mouse_brain_CLIPseq_TDP43_low  24%  662MB  38.2MB/s   00:54 ETA"
       ]
      },
      {
       "output_type": "stream",
       "stream": "stdout",
       "text": [
        "\r",
        "20101110_MP41_1_mouse_brain_CLIPseq_TDP43_low  25%  696MB  37.8MB/s   00:54 ETA"
       ]
      },
      {
       "output_type": "stream",
       "stream": "stdout",
       "text": [
        "\r",
        "20101110_MP41_1_mouse_brain_CLIPseq_TDP43_low  26%  736MB  38.0MB/s   00:52 ETA"
       ]
      },
      {
       "output_type": "stream",
       "stream": "stdout",
       "text": [
        "\r",
        "20101110_MP41_1_mouse_brain_CLIPseq_TDP43_low  28%  769MB  37.6MB/s   00:52 ETA"
       ]
      },
      {
       "output_type": "stream",
       "stream": "stdout",
       "text": [
        "\r",
        "20101110_MP41_1_mouse_brain_CLIPseq_TDP43_low  29%  810MB  37.8MB/s   00:51 ETA"
       ]
      },
      {
       "output_type": "stream",
       "stream": "stdout",
       "text": [
        "\r",
        "20101110_MP41_1_mouse_brain_CLIPseq_TDP43_low  31%  850MB  38.0MB/s   00:49 ETA"
       ]
      },
      {
       "output_type": "stream",
       "stream": "stdout",
       "text": [
        "\r",
        "20101110_MP41_1_mouse_brain_CLIPseq_TDP43_low  32%  890MB  38.2MB/s   00:48 ETA"
       ]
      },
      {
       "output_type": "stream",
       "stream": "stdout",
       "text": [
        "\r",
        "20101110_MP41_1_mouse_brain_CLIPseq_TDP43_low  33%  930MB  38.4MB/s   00:47 ETA"
       ]
      },
      {
       "output_type": "stream",
       "stream": "stdout",
       "text": [
        "\r",
        "20101110_MP41_1_mouse_brain_CLIPseq_TDP43_low  35%  970MB  38.6MB/s   00:45 ETA"
       ]
      },
      {
       "output_type": "stream",
       "stream": "stdout",
       "text": [
        "\r",
        "20101110_MP41_1_mouse_brain_CLIPseq_TDP43_low  36% 1010MB  38.7MB/s   00:44 ETA"
       ]
      },
      {
       "output_type": "stream",
       "stream": "stdout",
       "text": [
        "\r",
        "20101110_MP41_1_mouse_brain_CLIPseq_TDP43_low  38% 1043MB  38.2MB/s   00:44 ETA"
       ]
      },
      {
       "output_type": "stream",
       "stream": "stdout",
       "text": [
        "\r",
        "20101110_MP41_1_mouse_brain_CLIPseq_TDP43_low  39% 1083MB  38.4MB/s   00:43 ETA"
       ]
      },
      {
       "output_type": "stream",
       "stream": "stdout",
       "text": [
        "\r",
        "20101110_MP41_1_mouse_brain_CLIPseq_TDP43_low  41% 1124MB  38.6MB/s   00:41 ETA"
       ]
      },
      {
       "output_type": "stream",
       "stream": "stdout",
       "text": [
        "\r",
        "20101110_MP41_1_mouse_brain_CLIPseq_TDP43_low  42% 1164MB  38.7MB/s   00:40 ETA"
       ]
      },
      {
       "output_type": "stream",
       "stream": "stdout",
       "text": [
        "\r",
        "20101110_MP41_1_mouse_brain_CLIPseq_TDP43_low  43% 1204MB  38.9MB/s   00:39 ETA"
       ]
      },
      {
       "output_type": "stream",
       "stream": "stdout",
       "text": [
        "\r",
        "20101110_MP41_1_mouse_brain_CLIPseq_TDP43_low  45% 1244MB  39.0MB/s   00:38 ETA"
       ]
      },
      {
       "output_type": "stream",
       "stream": "stdout",
       "text": [
        "\r",
        "20101110_MP41_1_mouse_brain_CLIPseq_TDP43_low  46% 1284MB  39.1MB/s   00:37 ETA"
       ]
      },
      {
       "output_type": "stream",
       "stream": "stdout",
       "text": [
        "\r",
        "20101110_MP41_1_mouse_brain_CLIPseq_TDP43_low  47% 1292MB  36.0MB/s   00:40 ETA"
       ]
      },
      {
       "output_type": "stream",
       "stream": "stdout",
       "text": [
        "\r",
        "20101110_MP41_1_mouse_brain_CLIPseq_TDP43_low  47% 1292MB  32.4MB/s   00:44 ETA"
       ]
      },
      {
       "output_type": "stream",
       "stream": "stdout",
       "text": [
        "\r",
        "20101110_MP41_1_mouse_brain_CLIPseq_TDP43_low  47% 1292MB  29.2MB/s   00:49 ETA"
       ]
      },
      {
       "output_type": "stream",
       "stream": "stdout",
       "text": [
        "\r",
        "20101110_MP41_1_mouse_brain_CLIPseq_TDP43_low  47% 1292MB  26.3MB/s   00:55 ETA"
       ]
      },
      {
       "output_type": "stream",
       "stream": "stdout",
       "text": [
        "\r",
        "20101110_MP41_1_mouse_brain_CLIPseq_TDP43_low  47% 1292MB  23.6MB/s   01:01 ETA"
       ]
      },
      {
       "output_type": "stream",
       "stream": "stdout",
       "text": [
        "\r",
        "20101110_MP41_1_mouse_brain_CLIPseq_TDP43_low  47% 1294MB  21.5MB/s   01:07 ETA"
       ]
      },
      {
       "output_type": "stream",
       "stream": "stdout",
       "text": [
        "\r",
        "20101110_MP41_1_mouse_brain_CLIPseq_TDP43_low  47% 1294MB  19.3MB/s   01:14 ETA"
       ]
      },
      {
       "output_type": "stream",
       "stream": "stdout",
       "text": [
        "\r",
        "20101110_MP41_1_mouse_brain_CLIPseq_TDP43_low  47% 1294MB  17.4MB/s   01:23 ETA"
       ]
      },
      {
       "output_type": "stream",
       "stream": "stdout",
       "text": [
        "\r",
        "20101110_MP41_1_mouse_brain_CLIPseq_TDP43_low  47% 1294MB  15.7MB/s   01:32 ETA"
       ]
      },
      {
       "output_type": "stream",
       "stream": "stdout",
       "text": [
        "\r",
        "20101110_MP41_1_mouse_brain_CLIPseq_TDP43_low  47% 1294MB  14.1MB/s   01:42 ETA"
       ]
      },
      {
       "output_type": "stream",
       "stream": "stdout",
       "text": [
        "\r",
        "20101110_MP41_1_mouse_brain_CLIPseq_TDP43_low  47% 1297MB  12.9MB/s   01:51 ETA"
       ]
      },
      {
       "output_type": "stream",
       "stream": "stdout",
       "text": [
        "\r",
        "20101110_MP41_1_mouse_brain_CLIPseq_TDP43_low  47% 1297MB  11.6MB/s   02:04 ETA"
       ]
      },
      {
       "output_type": "stream",
       "stream": "stdout",
       "text": [
        "\r",
        "20101110_MP41_1_mouse_brain_CLIPseq_TDP43_low  48% 1329MB  13.7MB/s   01:43 ETA"
       ]
      },
      {
       "output_type": "stream",
       "stream": "stdout",
       "text": [
        "\r",
        "20101110_MP41_1_mouse_brain_CLIPseq_TDP43_low  49% 1368MB  16.3MB/s   01:24 ETA"
       ]
      },
      {
       "output_type": "stream",
       "stream": "stdout",
       "text": [
        "\r",
        "20101110_MP41_1_mouse_brain_CLIPseq_TDP43_low  51% 1408MB  18.6MB/s   01:11 ETA"
       ]
      },
      {
       "output_type": "stream",
       "stream": "stdout",
       "text": [
        "\r",
        "20101110_MP41_1_mouse_brain_CLIPseq_TDP43_low  51% 1416MB  17.5MB/s   01:15 ETA"
       ]
      },
      {
       "output_type": "stream",
       "stream": "stdout",
       "text": [
        "\r",
        "20101110_MP41_1_mouse_brain_CLIPseq_TDP43_low  52% 1444MB  18.6MB/s   01:09 ETA"
       ]
      },
      {
       "output_type": "stream",
       "stream": "stdout",
       "text": [
        "\r",
        "20101110_MP41_1_mouse_brain_CLIPseq_TDP43_low  54% 1483MB  20.7MB/s   01:00 ETA"
       ]
      },
      {
       "output_type": "stream",
       "stream": "stdout",
       "text": [
        "\r",
        "20101110_MP41_1_mouse_brain_CLIPseq_TDP43_low  55% 1523MB  22.6MB/s   00:53 ETA"
       ]
      },
      {
       "output_type": "stream",
       "stream": "stdout",
       "text": [
        "\r",
        "20101110_MP41_1_mouse_brain_CLIPseq_TDP43_low  56% 1556MB  23.7MB/s   00:50 ETA"
       ]
      },
      {
       "output_type": "stream",
       "stream": "stdout",
       "text": [
        "\r",
        "20101110_MP41_1_mouse_brain_CLIPseq_TDP43_low  56% 1561MB  21.7MB/s   00:54 ETA"
       ]
      },
      {
       "output_type": "stream",
       "stream": "stdout",
       "text": [
        "\r",
        "20101110_MP41_1_mouse_brain_CLIPseq_TDP43_low  57% 1580MB  21.5MB/s   00:54 ETA"
       ]
      },
      {
       "output_type": "stream",
       "stream": "stdout",
       "text": [
        "\r",
        "20101110_MP41_1_mouse_brain_CLIPseq_TDP43_low  59% 1619MB  23.2MB/s   00:48 ETA"
       ]
      },
      {
       "output_type": "stream",
       "stream": "stdout",
       "text": [
        "\r",
        "20101110_MP41_1_mouse_brain_CLIPseq_TDP43_low  60% 1659MB  24.9MB/s   00:43 ETA"
       ]
      },
      {
       "output_type": "stream",
       "stream": "stdout",
       "text": [
        "\r",
        "20101110_MP41_1_mouse_brain_CLIPseq_TDP43_low  61% 1698MB  26.3MB/s   00:39 ETA"
       ]
      },
      {
       "output_type": "stream",
       "stream": "stdout",
       "text": [
        "\r",
        "20101110_MP41_1_mouse_brain_CLIPseq_TDP43_low  62% 1706MB  24.5MB/s   00:42 ETA"
       ]
      },
      {
       "output_type": "stream",
       "stream": "stdout",
       "text": [
        "\r",
        "20101110_MP41_1_mouse_brain_CLIPseq_TDP43_low  63% 1726MB  24.1MB/s   00:42 ETA"
       ]
      },
      {
       "output_type": "stream",
       "stream": "stdout",
       "text": [
        "\r",
        "20101110_MP41_1_mouse_brain_CLIPseq_TDP43_low  64% 1766MB  25.7MB/s   00:37 ETA"
       ]
      },
      {
       "output_type": "stream",
       "stream": "stdout",
       "text": [
        "\r",
        "20101110_MP41_1_mouse_brain_CLIPseq_TDP43_low  65% 1806MB  27.1MB/s   00:34 ETA"
       ]
      },
      {
       "output_type": "stream",
       "stream": "stdout",
       "text": [
        "\r",
        "20101110_MP41_1_mouse_brain_CLIPseq_TDP43_low  67% 1839MB  27.7MB/s   00:32 ETA"
       ]
      },
      {
       "output_type": "stream",
       "stream": "stdout",
       "text": [
        "\r",
        "20101110_MP41_1_mouse_brain_CLIPseq_TDP43_low  67% 1847MB  25.7MB/s   00:34 ETA"
       ]
      },
      {
       "output_type": "stream",
       "stream": "stdout",
       "text": [
        "\r",
        "20101110_MP41_1_mouse_brain_CLIPseq_TDP43_low  68% 1868MB  25.3MB/s   00:34 ETA"
       ]
      },
      {
       "output_type": "stream",
       "stream": "stdout",
       "text": [
        "\r",
        "20101110_MP41_1_mouse_brain_CLIPseq_TDP43_low  69% 1908MB  26.7MB/s   00:31 ETA"
       ]
      },
      {
       "output_type": "stream",
       "stream": "stdout",
       "text": [
        "\r",
        "20101110_MP41_1_mouse_brain_CLIPseq_TDP43_low  71% 1947MB  27.9MB/s   00:28 ETA"
       ]
      },
      {
       "output_type": "stream",
       "stream": "stdout",
       "text": [
        "\r",
        "20101110_MP41_1_mouse_brain_CLIPseq_TDP43_low  72% 1986MB  29.1MB/s   00:25 ETA"
       ]
      },
      {
       "output_type": "stream",
       "stream": "stdout",
       "text": [
        "\r",
        "20101110_MP41_1_mouse_brain_CLIPseq_TDP43_low  72% 1994MB  26.9MB/s   00:27 ETA"
       ]
      },
      {
       "output_type": "stream",
       "stream": "stdout",
       "text": [
        "\r",
        "20101110_MP41_1_mouse_brain_CLIPseq_TDP43_low  73% 2013MB  26.2MB/s   00:27 ETA"
       ]
      },
      {
       "output_type": "stream",
       "stream": "stdout",
       "text": [
        "\r",
        "20101110_MP41_1_mouse_brain_CLIPseq_TDP43_low  74% 2053MB  27.5MB/s   00:25 ETA"
       ]
      },
      {
       "output_type": "stream",
       "stream": "stdout",
       "text": [
        "\r",
        "20101110_MP41_1_mouse_brain_CLIPseq_TDP43_low  76% 2092MB  28.7MB/s   00:22 ETA"
       ]
      },
      {
       "output_type": "stream",
       "stream": "stdout",
       "text": [
        "\r",
        "20101110_MP41_1_mouse_brain_CLIPseq_TDP43_low  77% 2131MB  29.7MB/s   00:20 ETA"
       ]
      },
      {
       "output_type": "stream",
       "stream": "stdout",
       "text": [
        "\r",
        "20101110_MP41_1_mouse_brain_CLIPseq_TDP43_low  78% 2138MB  27.5MB/s   00:21 ETA"
       ]
      },
      {
       "output_type": "stream",
       "stream": "stdout",
       "text": [
        "\r",
        "20101110_MP41_1_mouse_brain_CLIPseq_TDP43_low  78% 2159MB  26.8MB/s   00:21 ETA"
       ]
      },
      {
       "output_type": "stream",
       "stream": "stdout",
       "text": [
        "\r",
        "20101110_MP41_1_mouse_brain_CLIPseq_TDP43_low  80% 2199MB  28.1MB/s   00:19 ETA"
       ]
      },
      {
       "output_type": "stream",
       "stream": "stdout",
       "text": [
        "\r",
        "20101110_MP41_1_mouse_brain_CLIPseq_TDP43_low  81% 2238MB  29.2MB/s   00:17 ETA"
       ]
      },
      {
       "output_type": "stream",
       "stream": "stdout",
       "text": [
        "\r",
        "20101110_MP41_1_mouse_brain_CLIPseq_TDP43_low  83% 2277MB  30.2MB/s   00:15 ETA"
       ]
      },
      {
       "output_type": "stream",
       "stream": "stdout",
       "text": [
        "\r",
        "20101110_MP41_1_mouse_brain_CLIPseq_TDP43_low  83% 2279MB  27.4MB/s   00:16 ETA"
       ]
      },
      {
       "output_type": "stream",
       "stream": "stdout",
       "text": [
        "\r",
        "20101110_MP41_1_mouse_brain_CLIPseq_TDP43_low  83% 2301MB  26.9MB/s   00:16 ETA"
       ]
      },
      {
       "output_type": "stream",
       "stream": "stdout",
       "text": [
        "\r",
        "20101110_MP41_1_mouse_brain_CLIPseq_TDP43_low  85% 2341MB  28.1MB/s   00:14 ETA"
       ]
      },
      {
       "output_type": "stream",
       "stream": "stdout",
       "text": [
        "\r",
        "20101110_MP41_1_mouse_brain_CLIPseq_TDP43_low  86% 2381MB  29.3MB/s   00:12 ETA"
       ]
      },
      {
       "output_type": "stream",
       "stream": "stdout",
       "text": [
        "\r",
        "20101110_MP41_1_mouse_brain_CLIPseq_TDP43_low  88% 2414MB  29.7MB/s   00:10 ETA"
       ]
      },
      {
       "output_type": "stream",
       "stream": "stdout",
       "text": [
        "\r",
        "20101110_MP41_1_mouse_brain_CLIPseq_TDP43_low  88% 2421MB  27.4MB/s   00:11 ETA"
       ]
      },
      {
       "output_type": "stream",
       "stream": "stdout",
       "text": [
        "\r",
        "20101110_MP41_1_mouse_brain_CLIPseq_TDP43_low  89% 2443MB  26.9MB/s   00:11 ETA"
       ]
      },
      {
       "output_type": "stream",
       "stream": "stdout",
       "text": [
        "\r",
        "20101110_MP41_1_mouse_brain_CLIPseq_TDP43_low  90% 2483MB  28.2MB/s   00:09 ETA"
       ]
      },
      {
       "output_type": "stream",
       "stream": "stdout",
       "text": [
        "\r",
        "20101110_MP41_1_mouse_brain_CLIPseq_TDP43_low  92% 2522MB  29.3MB/s   00:07 ETA"
       ]
      },
      {
       "output_type": "stream",
       "stream": "stdout",
       "text": [
        "\r",
        "20101110_MP41_1_mouse_brain_CLIPseq_TDP43_low  93% 2562MB  30.3MB/s   00:05 ETA"
       ]
      },
      {
       "output_type": "stream",
       "stream": "stdout",
       "text": [
        "\r",
        "20101110_MP41_1_mouse_brain_CLIPseq_TDP43_low  93% 2569MB  28.0MB/s   00:06 ETA"
       ]
      },
      {
       "output_type": "stream",
       "stream": "stdout",
       "text": [
        "\r",
        "20101110_MP41_1_mouse_brain_CLIPseq_TDP43_low  94% 2589MB  27.2MB/s   00:05 ETA"
       ]
      },
      {
       "output_type": "stream",
       "stream": "stdout",
       "text": [
        "\r",
        "20101110_MP41_1_mouse_brain_CLIPseq_TDP43_low  95% 2628MB  28.4MB/s   00:03 ETA"
       ]
      },
      {
       "output_type": "stream",
       "stream": "stdout",
       "text": [
        "\r",
        "20101110_MP41_1_mouse_brain_CLIPseq_TDP43_low  97% 2668MB  29.6MB/s   00:02 ETA"
       ]
      },
      {
       "output_type": "stream",
       "stream": "stdout",
       "text": [
        "\r",
        "20101110_MP41_1_mouse_brain_CLIPseq_TDP43_low  98% 2708MB  30.6MB/s   00:01 ETA"
       ]
      },
      {
       "output_type": "stream",
       "stream": "stdout",
       "text": [
        "\r",
        "20101110_MP41_1_mouse_brain_CLIPseq_TDP43_low  99% 2714MB  28.2MB/s   00:00 ETA"
       ]
      },
      {
       "output_type": "stream",
       "stream": "stdout",
       "text": [
        "\r",
        "20101110_MP41_1_mouse_brain_CLIPseq_TDP43_low  99% 2735MB  27.4MB/s   00:00 ETA"
       ]
      },
      {
       "output_type": "stream",
       "stream": "stdout",
       "text": [
        "\r",
        "20101110_MP41_1_mouse_brain_CLIPseq_TDP43_low 100% 2740MB  28.8MB/s   01:35    \r\n"
       ]
      },
      {
       "output_type": "stream",
       "stream": "stdout",
       "text": [
        "\r",
        "20101110_MP41_1_mouse_brain_CLIPseq_TDP43_low   0%    0     0.0KB/s   --:-- ETA"
       ]
      },
      {
       "output_type": "stream",
       "stream": "stdout",
       "text": [
        "\r",
        "20101110_MP41_1_mouse_brain_CLIPseq_TDP43_low 100% 5626KB   5.5MB/s   00:00    \r\n"
       ]
      },
      {
       "output_type": "stream",
       "stream": "stdout",
       "text": [
        "\r",
        "20101110_MP41_1_mouse_brain_CLIPseq_TDP43_low 100%    0     0.0KB/s   00:00    \r\n",
        "\r",
        "20101110_MP41_1_mouse_brain_CLIPseq_TDP43_low   0%    0     0.0KB/s   --:-- ETA"
       ]
      },
      {
       "output_type": "stream",
       "stream": "stdout",
       "text": [
        "\r",
        "20101110_MP41_1_mouse_brain_CLIPseq_TDP43_low   1%   38MB  37.7MB/s   01:10 ETA"
       ]
      },
      {
       "output_type": "stream",
       "stream": "stdout",
       "text": [
        "\r",
        "20101110_MP41_1_mouse_brain_CLIPseq_TDP43_low   2%   77MB  37.9MB/s   01:09 ETA"
       ]
      },
      {
       "output_type": "stream",
       "stream": "stdout",
       "text": [
        "\r",
        "20101110_MP41_1_mouse_brain_CLIPseq_TDP43_low   4%  117MB  38.1MB/s   01:08 ETA"
       ]
      },
      {
       "output_type": "stream",
       "stream": "stdout",
       "text": [
        "\r",
        "20101110_MP41_1_mouse_brain_CLIPseq_TDP43_low   5%  157MB  38.2MB/s   01:06 ETA"
       ]
      },
      {
       "output_type": "stream",
       "stream": "stdout",
       "text": [
        "\r",
        "20101110_MP41_1_mouse_brain_CLIPseq_TDP43_low   7%  197MB  38.4MB/s   01:05 ETA"
       ]
      },
      {
       "output_type": "stream",
       "stream": "stdout",
       "text": [
        "\r",
        "20101110_MP41_1_mouse_brain_CLIPseq_TDP43_low   8%  236MB  38.5MB/s   01:04 ETA"
       ]
      },
      {
       "output_type": "stream",
       "stream": "stdout",
       "text": [
        "\r",
        "20101110_MP41_1_mouse_brain_CLIPseq_TDP43_low  10%  276MB  38.6MB/s   01:02 ETA"
       ]
      },
      {
       "output_type": "stream",
       "stream": "stdout",
       "text": [
        "\r",
        "20101110_MP41_1_mouse_brain_CLIPseq_TDP43_low  11%  316MB  38.8MB/s   01:01 ETA"
       ]
      },
      {
       "output_type": "stream",
       "stream": "stdout",
       "text": [
        "\r",
        "20101110_MP41_1_mouse_brain_CLIPseq_TDP43_low  13%  356MB  38.9MB/s   01:00 ETA"
       ]
      },
      {
       "output_type": "stream",
       "stream": "stdout",
       "text": [
        "\r",
        "20101110_MP41_1_mouse_brain_CLIPseq_TDP43_low  14%  395MB  38.9MB/s   00:59 ETA"
       ]
      },
      {
       "output_type": "stream",
       "stream": "stdout",
       "text": [
        "\r",
        "20101110_MP41_1_mouse_brain_CLIPseq_TDP43_low  16%  435MB  39.0MB/s   00:58 ETA"
       ]
      },
      {
       "output_type": "stream",
       "stream": "stdout",
       "text": [
        "\r",
        "20101110_MP41_1_mouse_brain_CLIPseq_TDP43_low  17%  475MB  39.1MB/s   00:57 ETA"
       ]
      },
      {
       "output_type": "stream",
       "stream": "stdout",
       "text": [
        "\r",
        "20101110_MP41_1_mouse_brain_CLIPseq_TDP43_low  19%  514MB  39.2MB/s   00:55 ETA"
       ]
      },
      {
       "output_type": "stream",
       "stream": "stdout",
       "text": [
        "\r",
        "20101110_MP41_1_mouse_brain_CLIPseq_TDP43_low  20%  554MB  39.2MB/s   00:54 ETA"
       ]
      },
      {
       "output_type": "stream",
       "stream": "stdout",
       "text": [
        "\r",
        "20101110_MP41_1_mouse_brain_CLIPseq_TDP43_low  21%  594MB  39.3MB/s   00:53 ETA"
       ]
      },
      {
       "output_type": "stream",
       "stream": "stdout",
       "text": [
        "\r",
        "20101110_MP41_1_mouse_brain_CLIPseq_TDP43_low  23%  634MB  39.3MB/s   00:52 ETA"
       ]
      },
      {
       "output_type": "stream",
       "stream": "stdout",
       "text": [
        "\r",
        "20101110_MP41_1_mouse_brain_CLIPseq_TDP43_low  24%  673MB  39.4MB/s   00:51 ETA"
       ]
      },
      {
       "output_type": "stream",
       "stream": "stdout",
       "text": [
        "\r",
        "20101110_MP41_1_mouse_brain_CLIPseq_TDP43_low  26%  713MB  39.4MB/s   00:50 ETA"
       ]
      },
      {
       "output_type": "stream",
       "stream": "stdout",
       "text": [
        "\r",
        "20101110_MP41_1_mouse_brain_CLIPseq_TDP43_low  27%  753MB  39.4MB/s   00:49 ETA"
       ]
      },
      {
       "output_type": "stream",
       "stream": "stdout",
       "text": [
        "\r",
        "20101110_MP41_1_mouse_brain_CLIPseq_TDP43_low  29%  786MB  38.8MB/s   00:49 ETA"
       ]
      },
      {
       "output_type": "stream",
       "stream": "stdout",
       "text": [
        "\r",
        "20101110_MP41_1_mouse_brain_CLIPseq_TDP43_low  30%  826MB  38.9MB/s   00:48 ETA"
       ]
      },
      {
       "output_type": "stream",
       "stream": "stdout",
       "text": [
        "\r",
        "20101110_MP41_1_mouse_brain_CLIPseq_TDP43_low  31%  865MB  39.0MB/s   00:47 ETA"
       ]
      },
      {
       "output_type": "stream",
       "stream": "stdout",
       "text": [
        "\r",
        "20101110_MP41_1_mouse_brain_CLIPseq_TDP43_low  33%  903MB  38.9MB/s   00:46 ETA"
       ]
      },
      {
       "output_type": "stream",
       "stream": "stdout",
       "text": [
        "\r",
        "20101110_MP41_1_mouse_brain_CLIPseq_TDP43_low  34%  938MB  38.5MB/s   00:45 ETA"
       ]
      },
      {
       "output_type": "stream",
       "stream": "stdout",
       "text": [
        "\r",
        "20101110_MP41_1_mouse_brain_CLIPseq_TDP43_low  36%  978MB  38.6MB/s   00:44 ETA"
       ]
      },
      {
       "output_type": "stream",
       "stream": "stdout",
       "text": [
        "\r",
        "20101110_MP41_1_mouse_brain_CLIPseq_TDP43_low  37% 1017MB  38.7MB/s   00:43 ETA"
       ]
      },
      {
       "output_type": "stream",
       "stream": "stdout",
       "text": [
        "\r",
        "20101110_MP41_1_mouse_brain_CLIPseq_TDP43_low  39% 1057MB  38.8MB/s   00:42 ETA"
       ]
      },
      {
       "output_type": "stream",
       "stream": "stdout",
       "text": [
        "\r",
        "20101110_MP41_1_mouse_brain_CLIPseq_TDP43_low  40% 1097MB  38.9MB/s   00:41 ETA"
       ]
      },
      {
       "output_type": "stream",
       "stream": "stdout",
       "text": [
        "\r",
        "20101110_MP41_1_mouse_brain_CLIPseq_TDP43_low  41% 1136MB  39.0MB/s   00:40 ETA"
       ]
      },
      {
       "output_type": "stream",
       "stream": "stdout",
       "text": [
        "\r",
        "20101110_MP41_1_mouse_brain_CLIPseq_TDP43_low  43% 1176MB  39.0MB/s   00:39 ETA"
       ]
      },
      {
       "output_type": "stream",
       "stream": "stdout",
       "text": [
        "\r",
        "20101110_MP41_1_mouse_brain_CLIPseq_TDP43_low  44% 1216MB  39.1MB/s   00:38 ETA"
       ]
      },
      {
       "output_type": "stream",
       "stream": "stdout",
       "text": [
        "\r",
        "20101110_MP41_1_mouse_brain_CLIPseq_TDP43_low  46% 1256MB  39.2MB/s   00:37 ETA"
       ]
      },
      {
       "output_type": "stream",
       "stream": "stdout",
       "text": [
        "\r",
        "20101110_MP41_1_mouse_brain_CLIPseq_TDP43_low  47% 1274MB  37.1MB/s   00:38 ETA"
       ]
      },
      {
       "output_type": "stream",
       "stream": "stdout",
       "text": [
        "\r",
        "20101110_MP41_1_mouse_brain_CLIPseq_TDP43_low  47% 1274MB  33.4MB/s   00:42 ETA"
       ]
      },
      {
       "output_type": "stream",
       "stream": "stdout",
       "text": [
        "\r",
        "20101110_MP41_1_mouse_brain_CLIPseq_TDP43_low  47% 1274MB  30.1MB/s   00:47 ETA"
       ]
      },
      {
       "output_type": "stream",
       "stream": "stdout",
       "text": [
        "\r",
        "20101110_MP41_1_mouse_brain_CLIPseq_TDP43_low  47% 1274MB  27.1MB/s   00:52 ETA"
       ]
      },
      {
       "output_type": "stream",
       "stream": "stdout",
       "text": [
        "\r",
        "20101110_MP41_1_mouse_brain_CLIPseq_TDP43_low  47% 1274MB  24.4MB/s   00:58 ETA"
       ]
      },
      {
       "output_type": "stream",
       "stream": "stdout",
       "text": [
        "\r",
        "20101110_MP41_1_mouse_brain_CLIPseq_TDP43_low  47% 1276MB  22.1MB/s   01:04 ETA"
       ]
      },
      {
       "output_type": "stream",
       "stream": "stdout",
       "text": [
        "\r",
        "20101110_MP41_1_mouse_brain_CLIPseq_TDP43_low  47% 1276MB  19.9MB/s   01:11 ETA"
       ]
      },
      {
       "output_type": "stream",
       "stream": "stdout",
       "text": [
        "\r",
        "20101110_MP41_1_mouse_brain_CLIPseq_TDP43_low  47% 1276MB  17.9MB/s   01:19 ETA"
       ]
      },
      {
       "output_type": "stream",
       "stream": "stdout",
       "text": [
        "\r",
        "20101110_MP41_1_mouse_brain_CLIPseq_TDP43_low  47% 1276MB  16.1MB/s   01:28 ETA"
       ]
      },
      {
       "output_type": "stream",
       "stream": "stdout",
       "text": [
        "\r",
        "20101110_MP41_1_mouse_brain_CLIPseq_TDP43_low  47% 1276MB  14.5MB/s   01:38 ETA"
       ]
      },
      {
       "output_type": "stream",
       "stream": "stdout",
       "text": [
        "\r",
        "20101110_MP41_1_mouse_brain_CLIPseq_TDP43_low  47% 1279MB  13.3MB/s   01:47 ETA"
       ]
      },
      {
       "output_type": "stream",
       "stream": "stdout",
       "text": [
        "\r",
        "20101110_MP41_1_mouse_brain_CLIPseq_TDP43_low  47% 1279MB  12.0MB/s   01:59 ETA"
       ]
      },
      {
       "output_type": "stream",
       "stream": "stdout",
       "text": [
        "\r",
        "20101110_MP41_1_mouse_brain_CLIPseq_TDP43_low  48% 1312MB  14.1MB/s   01:38 ETA"
       ]
      },
      {
       "output_type": "stream",
       "stream": "stdout",
       "text": [
        "\r",
        "20101110_MP41_1_mouse_brain_CLIPseq_TDP43_low  50% 1354MB  16.9MB/s   01:20 ETA"
       ]
      },
      {
       "output_type": "stream",
       "stream": "stdout",
       "text": [
        "\r",
        "20101110_MP41_1_mouse_brain_CLIPseq_TDP43_low  51% 1395MB  19.3MB/s   01:07 ETA"
       ]
      },
      {
       "output_type": "stream",
       "stream": "stdout",
       "text": [
        "\r",
        "20101110_MP41_1_mouse_brain_CLIPseq_TDP43_low  52% 1415MB  19.3MB/s   01:06 ETA"
       ]
      },
      {
       "output_type": "stream",
       "stream": "stdout",
       "text": [
        "\r",
        "20101110_MP41_1_mouse_brain_CLIPseq_TDP43_low  52% 1423MB  18.3MB/s   01:10 ETA"
       ]
      },
      {
       "output_type": "stream",
       "stream": "stdout",
       "text": [
        "\r",
        "20101110_MP41_1_mouse_brain_CLIPseq_TDP43_low  53% 1459MB  20.0MB/s   01:02 ETA"
       ]
      },
      {
       "output_type": "stream",
       "stream": "stdout",
       "text": [
        "\r",
        "20101110_MP41_1_mouse_brain_CLIPseq_TDP43_low  55% 1498MB  21.9MB/s   00:55 ETA"
       ]
      },
      {
       "output_type": "stream",
       "stream": "stdout",
       "text": [
        "\r",
        "20101110_MP41_1_mouse_brain_CLIPseq_TDP43_low  56% 1537MB  23.6MB/s   00:49 ETA"
       ]
      },
      {
       "output_type": "stream",
       "stream": "stdout",
       "text": [
        "\r",
        "20101110_MP41_1_mouse_brain_CLIPseq_TDP43_low  57% 1555MB  23.1MB/s   00:49 ETA"
       ]
      },
      {
       "output_type": "stream",
       "stream": "stdout",
       "text": [
        "\r",
        "20101110_MP41_1_mouse_brain_CLIPseq_TDP43_low  57% 1566MB  21.9MB/s   00:52 ETA"
       ]
      },
      {
       "output_type": "stream",
       "stream": "stdout",
       "text": [
        "\r",
        "20101110_MP41_1_mouse_brain_CLIPseq_TDP43_low  59% 1605MB  23.6MB/s   00:46 ETA"
       ]
      },
      {
       "output_type": "stream",
       "stream": "stdout",
       "text": [
        "\r",
        "20101110_MP41_1_mouse_brain_CLIPseq_TDP43_low  60% 1644MB  25.1MB/s   00:42 ETA"
       ]
      },
      {
       "output_type": "stream",
       "stream": "stdout",
       "text": [
        "\r",
        "20101110_MP41_1_mouse_brain_CLIPseq_TDP43_low  62% 1683MB  26.5MB/s   00:38 ETA"
       ]
      },
      {
       "output_type": "stream",
       "stream": "stdout",
       "text": [
        "\r",
        "20101110_MP41_1_mouse_brain_CLIPseq_TDP43_low  62% 1701MB  25.6MB/s   00:39 ETA"
       ]
      },
      {
       "output_type": "stream",
       "stream": "stdout",
       "text": [
        "\r",
        "20101110_MP41_1_mouse_brain_CLIPseq_TDP43_low  62% 1705MB  23.5MB/s   00:42 ETA"
       ]
      },
      {
       "output_type": "stream",
       "stream": "stdout",
       "text": [
        "\r",
        "20101110_MP41_1_mouse_brain_CLIPseq_TDP43_low  64% 1737MB  24.3MB/s   00:39 ETA"
       ]
      },
      {
       "output_type": "stream",
       "stream": "stdout",
       "text": [
        "\r",
        "20101110_MP41_1_mouse_brain_CLIPseq_TDP43_low  65% 1776MB  25.8MB/s   00:36 ETA"
       ]
      },
      {
       "output_type": "stream",
       "stream": "stdout",
       "text": [
        "\r",
        "20101110_MP41_1_mouse_brain_CLIPseq_TDP43_low  67% 1816MB  27.2MB/s   00:32 ETA"
       ]
      },
      {
       "output_type": "stream",
       "stream": "stdout",
       "text": [
        "\r",
        "20101110_MP41_1_mouse_brain_CLIPseq_TDP43_low  67% 1833MB  26.2MB/s   00:33 ETA"
       ]
      },
      {
       "output_type": "stream",
       "stream": "stdout",
       "text": [
        "\r",
        "20101110_MP41_1_mouse_brain_CLIPseq_TDP43_low  68% 1845MB  24.8MB/s   00:34 ETA"
       ]
      },
      {
       "output_type": "stream",
       "stream": "stdout",
       "text": [
        "\r",
        "20101110_MP41_1_mouse_brain_CLIPseq_TDP43_low  69% 1874MB  25.2MB/s   00:33 ETA"
       ]
      },
      {
       "output_type": "stream",
       "stream": "stdout",
       "text": [
        "\r",
        "20101110_MP41_1_mouse_brain_CLIPseq_TDP43_low  70% 1908MB  26.1MB/s   00:30 ETA"
       ]
      },
      {
       "output_type": "stream",
       "stream": "stdout",
       "text": [
        "\r",
        "20101110_MP41_1_mouse_brain_CLIPseq_TDP43_low  71% 1946MB  27.3MB/s   00:27 ETA"
       ]
      },
      {
       "output_type": "stream",
       "stream": "stdout",
       "text": [
        "\r",
        "20101110_MP41_1_mouse_brain_CLIPseq_TDP43_low  72% 1958MB  25.8MB/s   00:29 ETA"
       ]
      },
      {
       "output_type": "stream",
       "stream": "stdout",
       "text": [
        "\r",
        "20101110_MP41_1_mouse_brain_CLIPseq_TDP43_low  72% 1975MB  24.9MB/s   00:29 ETA"
       ]
      },
      {
       "output_type": "stream",
       "stream": "stdout",
       "text": [
        "\r",
        "20101110_MP41_1_mouse_brain_CLIPseq_TDP43_low  74% 2014MB  24.4MB/s   00:28 ETA"
       ]
      },
      {
       "output_type": "stream",
       "stream": "stdout",
       "text": [
        "\r",
        "20101110_MP41_1_mouse_brain_CLIPseq_TDP43_low  75% 2047MB  25.2MB/s   00:26 ETA"
       ]
      },
      {
       "output_type": "stream",
       "stream": "stdout",
       "text": [
        "\r",
        "20101110_MP41_1_mouse_brain_CLIPseq_TDP43_low  76% 2074MB  25.3MB/s   00:25 ETA"
       ]
      },
      {
       "output_type": "stream",
       "stream": "stdout",
       "text": [
        "\r",
        "20101110_MP41_1_mouse_brain_CLIPseq_TDP43_low  77% 2091MB  24.5MB/s   00:25 ETA"
       ]
      },
      {
       "output_type": "stream",
       "stream": "stdout",
       "text": [
        "\r",
        "20101110_MP41_1_mouse_brain_CLIPseq_TDP43_low  77% 2106MB  23.5MB/s   00:25 ETA"
       ]
      },
      {
       "output_type": "stream",
       "stream": "stdout",
       "text": [
        "\r",
        "20101110_MP41_1_mouse_brain_CLIPseq_TDP43_low  78% 2138MB  24.5MB/s   00:23 ETA"
       ]
      },
      {
       "output_type": "stream",
       "stream": "stdout",
       "text": [
        "\r",
        "20101110_MP41_1_mouse_brain_CLIPseq_TDP43_low  80% 2177MB  25.9MB/s   00:20 ETA"
       ]
      },
      {
       "output_type": "stream",
       "stream": "stdout",
       "text": [
        "\r",
        "20101110_MP41_1_mouse_brain_CLIPseq_TDP43_low  81% 2216MB  27.2MB/s   00:18 ETA"
       ]
      },
      {
       "output_type": "stream",
       "stream": "stdout",
       "text": [
        "\r",
        "20101110_MP41_1_mouse_brain_CLIPseq_TDP43_low  82% 2232MB  26.1MB/s   00:18 ETA"
       ]
      },
      {
       "output_type": "stream",
       "stream": "stdout",
       "text": [
        "\r",
        "20101110_MP41_1_mouse_brain_CLIPseq_TDP43_low  82% 2244MB  24.7MB/s   00:18 ETA"
       ]
      },
      {
       "output_type": "stream",
       "stream": "stdout",
       "text": [
        "\r",
        "20101110_MP41_1_mouse_brain_CLIPseq_TDP43_low  84% 2283MB  26.1MB/s   00:16 ETA"
       ]
      },
      {
       "output_type": "stream",
       "stream": "stdout",
       "text": [
        "\r",
        "20101110_MP41_1_mouse_brain_CLIPseq_TDP43_low  85% 2322MB  27.4MB/s   00:14 ETA"
       ]
      },
      {
       "output_type": "stream",
       "stream": "stdout",
       "text": [
        "\r",
        "20101110_MP41_1_mouse_brain_CLIPseq_TDP43_low  87% 2361MB  28.6MB/s   00:12 ETA"
       ]
      },
      {
       "output_type": "stream",
       "stream": "stdout",
       "text": [
        "\r",
        "20101110_MP41_1_mouse_brain_CLIPseq_TDP43_low  87% 2378MB  27.4MB/s   00:12 ETA"
       ]
      },
      {
       "output_type": "stream",
       "stream": "stdout",
       "text": [
        "\r",
        "20101110_MP41_1_mouse_brain_CLIPseq_TDP43_low  88% 2388MB  25.7MB/s   00:12 ETA"
       ]
      },
      {
       "output_type": "stream",
       "stream": "stdout",
       "text": [
        "\r",
        "20101110_MP41_1_mouse_brain_CLIPseq_TDP43_low  89% 2427MB  27.0MB/s   00:10 ETA"
       ]
      },
      {
       "output_type": "stream",
       "stream": "stdout",
       "text": [
        "\r",
        "20101110_MP41_1_mouse_brain_CLIPseq_TDP43_low  91% 2466MB  28.2MB/s   00:08 ETA"
       ]
      },
      {
       "output_type": "stream",
       "stream": "stdout",
       "text": [
        "\r",
        "20101110_MP41_1_mouse_brain_CLIPseq_TDP43_low  92% 2499MB  28.6MB/s   00:07 ETA"
       ]
      },
      {
       "output_type": "stream",
       "stream": "stdout",
       "text": [
        "\r",
        "20101110_MP41_1_mouse_brain_CLIPseq_TDP43_low  92% 2515MB  27.4MB/s   00:07 ETA"
       ]
      },
      {
       "output_type": "stream",
       "stream": "stdout",
       "text": [
        "\r",
        "20101110_MP41_1_mouse_brain_CLIPseq_TDP43_low  93% 2529MB  26.1MB/s   00:06 ETA"
       ]
      },
      {
       "output_type": "stream",
       "stream": "stdout",
       "text": [
        "\r",
        "20101110_MP41_1_mouse_brain_CLIPseq_TDP43_low  94% 2568MB  27.4MB/s   00:05 ETA"
       ]
      },
      {
       "output_type": "stream",
       "stream": "stdout",
       "text": [
        "\r",
        "20101110_MP41_1_mouse_brain_CLIPseq_TDP43_low  96% 2607MB  28.5MB/s   00:03 ETA"
       ]
      },
      {
       "output_type": "stream",
       "stream": "stdout",
       "text": [
        "\r",
        "20101110_MP41_1_mouse_brain_CLIPseq_TDP43_low  97% 2646MB  29.6MB/s   00:02 ETA"
       ]
      },
      {
       "output_type": "stream",
       "stream": "stdout",
       "text": [
        "\r",
        "20101110_MP41_1_mouse_brain_CLIPseq_TDP43_low  98% 2662MB  28.3MB/s   00:01 ETA"
       ]
      },
      {
       "output_type": "stream",
       "stream": "stdout",
       "text": [
        "\r",
        "20101110_MP41_1_mouse_brain_CLIPseq_TDP43_low  98% 2673MB  26.5MB/s   00:01 ETA"
       ]
      },
      {
       "output_type": "stream",
       "stream": "stdout",
       "text": [
        "\r",
        "20101110_MP41_1_mouse_brain_CLIPseq_TDP43_low 100% 2707MB  28.5MB/s   01:35    \r\n"
       ]
      },
      {
       "output_type": "stream",
       "stream": "stdout",
       "text": [
        "\r",
        "20101110_MP41_1_mouse_brain_CLIPseq_TDP43_low   0%    0     0.0KB/s   --:-- ETA"
       ]
      },
      {
       "output_type": "stream",
       "stream": "stdout",
       "text": [
        "\r",
        "20101110_MP41_1_mouse_brain_CLIPseq_TDP43_low  17%   31MB  30.7MB/s   00:04 ETA"
       ]
      },
      {
       "output_type": "stream",
       "stream": "stdout",
       "text": [
        "\r",
        "20101110_MP41_1_mouse_brain_CLIPseq_TDP43_low  39%   70MB  31.6MB/s   00:03 ETA"
       ]
      },
      {
       "output_type": "stream",
       "stream": "stdout",
       "text": [
        "\r",
        "20101110_MP41_1_mouse_brain_CLIPseq_TDP43_low  58%  103MB  31.7MB/s   00:02 ETA"
       ]
      },
      {
       "output_type": "stream",
       "stream": "stdout",
       "text": [
        "\r",
        "20101110_MP41_1_mouse_brain_CLIPseq_TDP43_low  76%  135MB  31.8MB/s   00:01 ETA"
       ]
      },
      {
       "output_type": "stream",
       "stream": "stdout",
       "text": [
        "\r",
        "20101110_MP41_1_mouse_brain_CLIPseq_TDP43_low  98%  175MB  32.5MB/s   00:00 ETA"
       ]
      },
      {
       "output_type": "stream",
       "stream": "stdout",
       "text": [
        "\r",
        "20101110_MP41_1_mouse_brain_CLIPseq_TDP43_low 100%  177MB  35.4MB/s   00:05    \r\n"
       ]
      },
      {
       "output_type": "stream",
       "stream": "stdout",
       "text": [
        "\r",
        "20101110_MP41_1_mouse_brain_CLIPseq_TDP43_low   0%    0     0.0KB/s   --:-- ETA"
       ]
      },
      {
       "output_type": "stream",
       "stream": "stdout",
       "text": [
        "\r",
        "20101110_MP41_1_mouse_brain_CLIPseq_TDP43_low  21%   38MB  38.4MB/s   00:03 ETA"
       ]
      },
      {
       "output_type": "stream",
       "stream": "stdout",
       "text": [
        "\r",
        "20101110_MP41_1_mouse_brain_CLIPseq_TDP43_low  44%   80MB  38.7MB/s   00:02 ETA"
       ]
      },
      {
       "output_type": "stream",
       "stream": "stdout",
       "text": [
        "\r",
        "20101110_MP41_1_mouse_brain_CLIPseq_TDP43_low  66%  121MB  38.9MB/s   00:01 ETA"
       ]
      },
      {
       "output_type": "stream",
       "stream": "stdout",
       "text": [
        "\r",
        "20101110_MP41_1_mouse_brain_CLIPseq_TDP43_low  89%  162MB  39.2MB/s   00:00 ETA"
       ]
      },
      {
       "output_type": "stream",
       "stream": "stdout",
       "text": [
        "\r",
        "20101110_MP41_1_mouse_brain_CLIPseq_TDP43_low 100%  181MB  45.2MB/s   00:04    \r\n"
       ]
      },
      {
       "output_type": "stream",
       "stream": "stdout",
       "text": [
        "\r",
        "20101110_MP41_1_mouse_brain_CLIPseq_TDP43_low   0%    0     0.0KB/s   --:-- ETA"
       ]
      },
      {
       "output_type": "stream",
       "stream": "stdout",
       "text": [
        "\r",
        "20101110_MP41_1_mouse_brain_CLIPseq_TDP43_low   1%   40MB  39.5MB/s   00:58 ETA"
       ]
      },
      {
       "output_type": "stream",
       "stream": "stdout",
       "text": [
        "\r",
        "20101110_MP41_1_mouse_brain_CLIPseq_TDP43_low   3%   81MB  39.8MB/s   00:57 ETA"
       ]
      },
      {
       "output_type": "stream",
       "stream": "stdout",
       "text": [
        "\r",
        "20101110_MP41_1_mouse_brain_CLIPseq_TDP43_low   4%  116MB  39.3MB/s   00:57 ETA"
       ]
      },
      {
       "output_type": "stream",
       "stream": "stdout",
       "text": [
        "\r",
        "20101110_MP41_1_mouse_brain_CLIPseq_TDP43_low   6%  158MB  39.5MB/s   00:55 ETA"
       ]
      },
      {
       "output_type": "stream",
       "stream": "stdout",
       "text": [
        "\r",
        "20101110_MP41_1_mouse_brain_CLIPseq_TDP43_low   8%  192MB  38.9MB/s   00:55 ETA"
       ]
      },
      {
       "output_type": "stream",
       "stream": "stdout",
       "text": [
        "\r",
        "20101110_MP41_1_mouse_brain_CLIPseq_TDP43_low   9%  234MB  39.3MB/s   00:54 ETA"
       ]
      },
      {
       "output_type": "stream",
       "stream": "stdout",
       "text": [
        "\r",
        "20101110_MP41_1_mouse_brain_CLIPseq_TDP43_low  11%  276MB  39.5MB/s   00:53 ETA"
       ]
      },
      {
       "output_type": "stream",
       "stream": "stdout",
       "text": [
        "\r",
        "20101110_MP41_1_mouse_brain_CLIPseq_TDP43_low  13%  317MB  39.7MB/s   00:51 ETA"
       ]
      },
      {
       "output_type": "stream",
       "stream": "stdout",
       "text": [
        "\r",
        "20101110_MP41_1_mouse_brain_CLIPseq_TDP43_low  15%  358MB  39.9MB/s   00:50 ETA"
       ]
      },
      {
       "output_type": "stream",
       "stream": "stdout",
       "text": [
        "\r",
        "20101110_MP41_1_mouse_brain_CLIPseq_TDP43_low  16%  400MB  40.0MB/s   00:49 ETA"
       ]
      },
      {
       "output_type": "stream",
       "stream": "stdout",
       "text": [
        "\r",
        "20101110_MP41_1_mouse_brain_CLIPseq_TDP43_low  18%  441MB  40.2MB/s   00:48 ETA"
       ]
      },
      {
       "output_type": "stream",
       "stream": "stdout",
       "text": [
        "\r",
        "20101110_MP41_1_mouse_brain_CLIPseq_TDP43_low  20%  482MB  40.3MB/s   00:46 ETA"
       ]
      },
      {
       "output_type": "stream",
       "stream": "stdout",
       "text": [
        "\r",
        "20101110_MP41_1_mouse_brain_CLIPseq_TDP43_low  21%  515MB  39.5MB/s   00:47 ETA"
       ]
      },
      {
       "output_type": "stream",
       "stream": "stdout",
       "text": [
        "\r",
        "20101110_MP41_1_mouse_brain_CLIPseq_TDP43_low  23%  553MB  39.4MB/s   00:46 ETA"
       ]
      },
      {
       "output_type": "stream",
       "stream": "stdout",
       "text": [
        "\r",
        "20101110_MP41_1_mouse_brain_CLIPseq_TDP43_low  25%  595MB  39.6MB/s   00:44 ETA"
       ]
      },
      {
       "output_type": "stream",
       "stream": "stdout",
       "text": [
        "\r",
        "20101110_MP41_1_mouse_brain_CLIPseq_TDP43_low  26%  637MB  39.8MB/s   00:43 ETA"
       ]
      },
      {
       "output_type": "stream",
       "stream": "stdout",
       "text": [
        "\r",
        "20101110_MP41_1_mouse_brain_CLIPseq_TDP43_low  28%  678MB  40.0MB/s   00:42 ETA"
       ]
      },
      {
       "output_type": "stream",
       "stream": "stdout",
       "text": [
        "\r",
        "20101110_MP41_1_mouse_brain_CLIPseq_TDP43_low  30%  719MB  40.1MB/s   00:41 ETA"
       ]
      },
      {
       "output_type": "stream",
       "stream": "stdout",
       "text": [
        "\r",
        "20101110_MP41_1_mouse_brain_CLIPseq_TDP43_low  31%  754MB  39.5MB/s   00:40 ETA"
       ]
      },
      {
       "output_type": "stream",
       "stream": "stdout",
       "text": [
        "\r",
        "20101110_MP41_1_mouse_brain_CLIPseq_TDP43_low  33%  795MB  39.7MB/s   00:39 ETA"
       ]
      },
      {
       "output_type": "stream",
       "stream": "stdout",
       "text": [
        "\r",
        "20101110_MP41_1_mouse_brain_CLIPseq_TDP43_low  35%  837MB  39.9MB/s   00:38 ETA"
       ]
      },
      {
       "output_type": "stream",
       "stream": "stdout",
       "text": [
        "\r",
        "20101110_MP41_1_mouse_brain_CLIPseq_TDP43_low  37%  878MB  40.1MB/s   00:37 ETA"
       ]
      },
      {
       "output_type": "stream",
       "stream": "stdout",
       "text": [
        "\r",
        "20101110_MP41_1_mouse_brain_CLIPseq_TDP43_low  38%  920MB  40.2MB/s   00:36 ETA"
       ]
      },
      {
       "output_type": "stream",
       "stream": "stdout",
       "text": [
        "\r",
        "20101110_MP41_1_mouse_brain_CLIPseq_TDP43_low  40%  961MB  40.4MB/s   00:34 ETA"
       ]
      },
      {
       "output_type": "stream",
       "stream": "stdout",
       "text": [
        "\r",
        "20101110_MP41_1_mouse_brain_CLIPseq_TDP43_low  41%  996MB  39.8MB/s   00:34 ETA"
       ]
      },
      {
       "output_type": "stream",
       "stream": "stdout",
       "text": [
        "\r",
        "20101110_MP41_1_mouse_brain_CLIPseq_TDP43_low  43% 1035MB  39.7MB/s   00:33 ETA"
       ]
      },
      {
       "output_type": "stream",
       "stream": "stdout",
       "text": [
        "\r",
        "20101110_MP41_1_mouse_brain_CLIPseq_TDP43_low  45% 1076MB  39.9MB/s   00:32 ETA"
       ]
      },
      {
       "output_type": "stream",
       "stream": "stdout",
       "text": [
        "\r",
        "20101110_MP41_1_mouse_brain_CLIPseq_TDP43_low  47% 1118MB  40.0MB/s   00:31 ETA"
       ]
      },
      {
       "output_type": "stream",
       "stream": "stdout",
       "text": [
        "\r",
        "20101110_MP41_1_mouse_brain_CLIPseq_TDP43_low  48% 1159MB  40.2MB/s   00:30 ETA"
       ]
      },
      {
       "output_type": "stream",
       "stream": "stdout",
       "text": [
        "\r",
        "20101110_MP41_1_mouse_brain_CLIPseq_TDP43_low  50% 1198MB  40.1MB/s   00:29 ETA"
       ]
      },
      {
       "output_type": "stream",
       "stream": "stdout",
       "text": [
        "\r",
        "20101110_MP41_1_mouse_brain_CLIPseq_TDP43_low  52% 1237MB  39.9MB/s   00:28 ETA"
       ]
      },
      {
       "output_type": "stream",
       "stream": "stdout",
       "text": [
        "\r",
        "20101110_MP41_1_mouse_brain_CLIPseq_TDP43_low  53% 1259MB  38.1MB/s   00:29 ETA"
       ]
      },
      {
       "output_type": "stream",
       "stream": "stdout",
       "text": [
        "\r",
        "20101110_MP41_1_mouse_brain_CLIPseq_TDP43_low  53% 1259MB  34.3MB/s   00:32 ETA"
       ]
      },
      {
       "output_type": "stream",
       "stream": "stdout",
       "text": [
        "\r",
        "20101110_MP41_1_mouse_brain_CLIPseq_TDP43_low  53% 1259MB  30.9MB/s   00:36 ETA"
       ]
      },
      {
       "output_type": "stream",
       "stream": "stdout",
       "text": [
        "\r",
        "20101110_MP41_1_mouse_brain_CLIPseq_TDP43_low  53% 1259MB  27.8MB/s   00:40 ETA"
       ]
      },
      {
       "output_type": "stream",
       "stream": "stdout",
       "text": [
        "\r",
        "20101110_MP41_1_mouse_brain_CLIPseq_TDP43_low  53% 1265MB  25.6MB/s   00:43 ETA"
       ]
      },
      {
       "output_type": "stream",
       "stream": "stdout",
       "text": [
        "\r",
        "20101110_MP41_1_mouse_brain_CLIPseq_TDP43_low  53% 1267MB  23.3MB/s   00:47 ETA"
       ]
      },
      {
       "output_type": "stream",
       "stream": "stdout",
       "text": [
        "\r",
        "20101110_MP41_1_mouse_brain_CLIPseq_TDP43_low  53% 1267MB  20.9MB/s   00:52 ETA"
       ]
      },
      {
       "output_type": "stream",
       "stream": "stdout",
       "text": [
        "\r",
        "20101110_MP41_1_mouse_brain_CLIPseq_TDP43_low  53% 1267MB  18.9MB/s   00:58 ETA"
       ]
      },
      {
       "output_type": "stream",
       "stream": "stdout",
       "text": [
        "\r",
        "20101110_MP41_1_mouse_brain_CLIPseq_TDP43_low  53% 1267MB  17.0MB/s   01:05 ETA"
       ]
      },
      {
       "output_type": "stream",
       "stream": "stdout",
       "text": [
        "\r",
        "20101110_MP41_1_mouse_brain_CLIPseq_TDP43_low  53% 1267MB  15.3MB/s   01:12 ETA"
       ]
      },
      {
       "output_type": "stream",
       "stream": "stdout",
       "text": [
        "\r",
        "20101110_MP41_1_mouse_brain_CLIPseq_TDP43_low  53% 1269MB  14.0MB/s   01:18 ETA"
       ]
      },
      {
       "output_type": "stream",
       "stream": "stdout",
       "text": [
        "\r",
        "20101110_MP41_1_mouse_brain_CLIPseq_TDP43_low  53% 1269MB  12.6MB/s   01:27 ETA"
       ]
      },
      {
       "output_type": "stream",
       "stream": "stdout",
       "text": [
        "\r",
        "20101110_MP41_1_mouse_brain_CLIPseq_TDP43_low  54% 1293MB  13.7MB/s   01:18 ETA"
       ]
      },
      {
       "output_type": "stream",
       "stream": "stdout",
       "text": [
        "\r",
        "20101110_MP41_1_mouse_brain_CLIPseq_TDP43_low  56% 1332MB  16.2MB/s   01:04 ETA"
       ]
      },
      {
       "output_type": "stream",
       "stream": "stdout",
       "text": [
        "\r",
        "20101110_MP41_1_mouse_brain_CLIPseq_TDP43_low  57% 1371MB  18.5MB/s   00:54 ETA"
       ]
      },
      {
       "output_type": "stream",
       "stream": "stdout",
       "text": [
        "\r",
        "20101110_MP41_1_mouse_brain_CLIPseq_TDP43_low  58% 1392MB  18.8MB/s   00:52 ETA"
       ]
      },
      {
       "output_type": "stream",
       "stream": "stdout",
       "text": [
        "\r",
        "20101110_MP41_1_mouse_brain_CLIPseq_TDP43_low  59% 1406MB  18.2MB/s   00:53 ETA"
       ]
      },
      {
       "output_type": "stream",
       "stream": "stdout",
       "text": [
        "\r",
        "20101110_MP41_1_mouse_brain_CLIPseq_TDP43_low  60% 1445MB  20.3MB/s   00:45 ETA"
       ]
      },
      {
       "output_type": "stream",
       "stream": "stdout",
       "text": [
        "\r",
        "20101110_MP41_1_mouse_brain_CLIPseq_TDP43_low  62% 1484MB  22.2MB/s   00:39 ETA"
       ]
      },
      {
       "output_type": "stream",
       "stream": "stdout",
       "text": [
        "\r",
        "20101110_MP41_1_mouse_brain_CLIPseq_TDP43_low  63% 1517MB  23.3MB/s   00:36 ETA"
       ]
      },
      {
       "output_type": "stream",
       "stream": "stdout",
       "text": [
        "\r",
        "20101110_MP41_1_mouse_brain_CLIPseq_TDP43_low  64% 1538MB  23.1MB/s   00:36 ETA"
       ]
      },
      {
       "output_type": "stream",
       "stream": "stdout",
       "text": [
        "\r",
        "20101110_MP41_1_mouse_brain_CLIPseq_TDP43_low  65% 1544MB  21.4MB/s   00:38 ETA"
       ]
      },
      {
       "output_type": "stream",
       "stream": "stdout",
       "text": [
        "\r",
        "20101110_MP41_1_mouse_brain_CLIPseq_TDP43_low  66% 1583MB  23.1MB/s   00:34 ETA"
       ]
      },
      {
       "output_type": "stream",
       "stream": "stdout",
       "text": [
        "\r",
        "20101110_MP41_1_mouse_brain_CLIPseq_TDP43_low  68% 1622MB  24.7MB/s   00:30 ETA"
       ]
      },
      {
       "output_type": "stream",
       "stream": "stdout",
       "text": [
        "\r",
        "20101110_MP41_1_mouse_brain_CLIPseq_TDP43_low  70% 1661MB  26.1MB/s   00:27 ETA"
       ]
      },
      {
       "output_type": "stream",
       "stream": "stdout",
       "text": [
        "\r",
        "20101110_MP41_1_mouse_brain_CLIPseq_TDP43_low  70% 1682MB  25.6MB/s   00:26 ETA"
       ]
      },
      {
       "output_type": "stream",
       "stream": "stdout",
       "text": [
        "\r",
        "20101110_MP41_1_mouse_brain_CLIPseq_TDP43_low  71% 1689MB  23.7MB/s   00:28 ETA"
       ]
      },
      {
       "output_type": "stream",
       "stream": "stdout",
       "text": [
        "\r",
        "20101110_MP41_1_mouse_brain_CLIPseq_TDP43_low  72% 1722MB  24.7MB/s   00:26 ETA"
       ]
      },
      {
       "output_type": "stream",
       "stream": "stdout",
       "text": [
        "\r",
        "20101110_MP41_1_mouse_brain_CLIPseq_TDP43_low  74% 1761MB  26.1MB/s   00:23 ETA"
       ]
      },
      {
       "output_type": "stream",
       "stream": "stdout",
       "text": [
        "\r",
        "20101110_MP41_1_mouse_brain_CLIPseq_TDP43_low  75% 1800MB  27.4MB/s   00:20 ETA"
       ]
      },
      {
       "output_type": "stream",
       "stream": "stdout",
       "text": [
        "\r",
        "20101110_MP41_1_mouse_brain_CLIPseq_TDP43_low  76% 1815MB  26.1MB/s   00:21 ETA"
       ]
      },
      {
       "output_type": "stream",
       "stream": "stdout",
       "text": [
        "\r",
        "20101110_MP41_1_mouse_brain_CLIPseq_TDP43_low  76% 1825MB  24.6MB/s   00:22 ETA"
       ]
      },
      {
       "output_type": "stream",
       "stream": "stdout",
       "text": [
        "\r",
        "20101110_MP41_1_mouse_brain_CLIPseq_TDP43_low  78% 1859MB  25.5MB/s   00:20 ETA"
       ]
      },
      {
       "output_type": "stream",
       "stream": "stdout",
       "text": [
        "\r",
        "20101110_MP41_1_mouse_brain_CLIPseq_TDP43_low  79% 1896MB  26.7MB/s   00:17 ETA"
       ]
      },
      {
       "output_type": "stream",
       "stream": "stdout",
       "text": [
        "\r",
        "20101110_MP41_1_mouse_brain_CLIPseq_TDP43_low  81% 1925MB  26.8MB/s   00:16 ETA"
       ]
      },
      {
       "output_type": "stream",
       "stream": "stdout",
       "text": [
        "\r",
        "20101110_MP41_1_mouse_brain_CLIPseq_TDP43_low  82% 1945MB  26.2MB/s   00:16 ETA"
       ]
      },
      {
       "output_type": "stream",
       "stream": "stdout",
       "text": [
        "\r",
        "20101110_MP41_1_mouse_brain_CLIPseq_TDP43_low  82% 1957MB  24.8MB/s   00:16 ETA"
       ]
      },
      {
       "output_type": "stream",
       "stream": "stdout",
       "text": [
        "\r",
        "20101110_MP41_1_mouse_brain_CLIPseq_TDP43_low  84% 1996MB  26.2MB/s   00:14 ETA"
       ]
      },
      {
       "output_type": "stream",
       "stream": "stdout",
       "text": [
        "\r",
        "20101110_MP41_1_mouse_brain_CLIPseq_TDP43_low  85% 2035MB  27.5MB/s   00:12 ETA"
       ]
      },
      {
       "output_type": "stream",
       "stream": "stdout",
       "text": [
        "\r",
        "20101110_MP41_1_mouse_brain_CLIPseq_TDP43_low  87% 2074MB  28.6MB/s   00:10 ETA"
       ]
      },
      {
       "output_type": "stream",
       "stream": "stdout",
       "text": [
        "\r",
        "20101110_MP41_1_mouse_brain_CLIPseq_TDP43_low  88% 2094MB  27.8MB/s   00:09 ETA"
       ]
      },
      {
       "output_type": "stream",
       "stream": "stdout",
       "text": [
        "\r",
        "20101110_MP41_1_mouse_brain_CLIPseq_TDP43_low  88% 2100MB  25.6MB/s   00:10 ETA"
       ]
      },
      {
       "output_type": "stream",
       "stream": "stdout",
       "text": [
        "\r",
        "20101110_MP41_1_mouse_brain_CLIPseq_TDP43_low  90% 2139MB  26.9MB/s   00:08 ETA"
       ]
      },
      {
       "output_type": "stream",
       "stream": "stdout",
       "text": [
        "\r",
        "20101110_MP41_1_mouse_brain_CLIPseq_TDP43_low  91% 2176MB  28.0MB/s   00:06 ETA"
       ]
      },
      {
       "output_type": "stream",
       "stream": "stdout",
       "text": [
        "\r",
        "20101110_MP41_1_mouse_brain_CLIPseq_TDP43_low  93% 2215MB  29.1MB/s   00:05 ETA"
       ]
      },
      {
       "output_type": "stream",
       "stream": "stdout",
       "text": [
        "\r",
        "20101110_MP41_1_mouse_brain_CLIPseq_TDP43_low  94% 2236MB  28.2MB/s   00:04 ETA"
       ]
      },
      {
       "output_type": "stream",
       "stream": "stdout",
       "text": [
        "\r",
        "20101110_MP41_1_mouse_brain_CLIPseq_TDP43_low  94% 2244MB  26.2MB/s   00:04 ETA"
       ]
      },
      {
       "output_type": "stream",
       "stream": "stdout",
       "text": [
        "\r",
        "20101110_MP41_1_mouse_brain_CLIPseq_TDP43_low  96% 2283MB  27.5MB/s   00:03 ETA"
       ]
      },
      {
       "output_type": "stream",
       "stream": "stdout",
       "text": [
        "\r",
        "20101110_MP41_1_mouse_brain_CLIPseq_TDP43_low  97% 2322MB  28.7MB/s   00:01 ETA"
       ]
      },
      {
       "output_type": "stream",
       "stream": "stdout",
       "text": [
        "\r",
        "20101110_MP41_1_mouse_brain_CLIPseq_TDP43_low  99% 2362MB  29.7MB/s   00:00 ETA"
       ]
      },
      {
       "output_type": "stream",
       "stream": "stdout",
       "text": [
        "\r",
        "20101110_MP41_1_mouse_brain_CLIPseq_TDP43_low 100% 2372MB  28.9MB/s   01:22    \r\n"
       ]
      },
      {
       "output_type": "stream",
       "stream": "stdout",
       "text": [
        "\r",
        "20101110_MP42_1_mouse_brain_CLIPseq_TDP43_upp   0%    0     0.0KB/s   --:-- ETA"
       ]
      },
      {
       "output_type": "stream",
       "stream": "stdout",
       "text": [
        "\r",
        "20101110_MP42_1_mouse_brain_CLIPseq_TDP43_upp   1%   36MB  36.2MB/s   01:16 ETA"
       ]
      },
      {
       "output_type": "stream",
       "stream": "stdout",
       "text": [
        "\r",
        "20101110_MP42_1_mouse_brain_CLIPseq_TDP43_upp   2%   76MB  36.5MB/s   01:14 ETA"
       ]
      },
      {
       "output_type": "stream",
       "stream": "stdout",
       "text": [
        "\r",
        "20101110_MP42_1_mouse_brain_CLIPseq_TDP43_upp   3%  108MB  36.0MB/s   01:14 ETA"
       ]
      },
      {
       "output_type": "stream",
       "stream": "stdout",
       "text": [
        "\r",
        "20101110_MP42_1_mouse_brain_CLIPseq_TDP43_upp   4%  140MB  35.6MB/s   01:14 ETA"
       ]
      },
      {
       "output_type": "stream",
       "stream": "stdout",
       "text": [
        "\r",
        "20101110_MP42_1_mouse_brain_CLIPseq_TDP43_upp   6%  171MB  35.2MB/s   01:14 ETA"
       ]
      },
      {
       "output_type": "stream",
       "stream": "stdout",
       "text": [
        "\r",
        "20101110_MP42_1_mouse_brain_CLIPseq_TDP43_upp   7%  212MB  35.8MB/s   01:12 ETA"
       ]
      },
      {
       "output_type": "stream",
       "stream": "stdout",
       "text": [
        "\r",
        "20101110_MP42_1_mouse_brain_CLIPseq_TDP43_upp   9%  255MB  36.5MB/s   01:09 ETA"
       ]
      },
      {
       "output_type": "stream",
       "stream": "stdout",
       "text": [
        "\r",
        "20101110_MP42_1_mouse_brain_CLIPseq_TDP43_upp  10%  296MB  37.0MB/s   01:07 ETA"
       ]
      },
      {
       "output_type": "stream",
       "stream": "stdout",
       "text": [
        "\r",
        "20101110_MP42_1_mouse_brain_CLIPseq_TDP43_upp  12%  337MB  37.4MB/s   01:05 ETA"
       ]
      },
      {
       "output_type": "stream",
       "stream": "stdout",
       "text": [
        "\r",
        "20101110_MP42_1_mouse_brain_CLIPseq_TDP43_upp  13%  379MB  37.8MB/s   01:04 ETA"
       ]
      },
      {
       "output_type": "stream",
       "stream": "stdout",
       "text": [
        "\r",
        "20101110_MP42_1_mouse_brain_CLIPseq_TDP43_upp  14%  420MB  38.1MB/s   01:02 ETA"
       ]
      },
      {
       "output_type": "stream",
       "stream": "stdout",
       "text": [
        "\r",
        "20101110_MP42_1_mouse_brain_CLIPseq_TDP43_upp  16%  461MB  38.5MB/s   01:00 ETA"
       ]
      },
      {
       "output_type": "stream",
       "stream": "stdout",
       "text": [
        "\r",
        "20101110_MP42_1_mouse_brain_CLIPseq_TDP43_upp  17%  503MB  38.7MB/s   00:59 ETA"
       ]
      },
      {
       "output_type": "stream",
       "stream": "stdout",
       "text": [
        "\r",
        "20101110_MP42_1_mouse_brain_CLIPseq_TDP43_upp  19%  544MB  39.0MB/s   00:57 ETA"
       ]
      },
      {
       "output_type": "stream",
       "stream": "stdout",
       "text": [
        "\r",
        "20101110_MP42_1_mouse_brain_CLIPseq_TDP43_upp  20%  585MB  39.2MB/s   00:56 ETA"
       ]
      },
      {
       "output_type": "stream",
       "stream": "stdout",
       "text": [
        "\r",
        "20101110_MP42_1_mouse_brain_CLIPseq_TDP43_upp  22%  626MB  39.4MB/s   00:55 ETA"
       ]
      },
      {
       "output_type": "stream",
       "stream": "stdout",
       "text": [
        "\r",
        "20101110_MP42_1_mouse_brain_CLIPseq_TDP43_upp  23%  661MB  38.9MB/s   00:55 ETA"
       ]
      },
      {
       "output_type": "stream",
       "stream": "stdout",
       "text": [
        "\r",
        "20101110_MP42_1_mouse_brain_CLIPseq_TDP43_upp  25%  702MB  39.1MB/s   00:53 ETA"
       ]
      },
      {
       "output_type": "stream",
       "stream": "stdout",
       "text": [
        "\r",
        "20101110_MP42_1_mouse_brain_CLIPseq_TDP43_upp  26%  742MB  39.3MB/s   00:52 ETA"
       ]
      },
      {
       "output_type": "stream",
       "stream": "stdout",
       "text": [
        "\r",
        "20101110_MP42_1_mouse_brain_CLIPseq_TDP43_upp  27%  783MB  39.5MB/s   00:51 ETA"
       ]
      },
      {
       "output_type": "stream",
       "stream": "stdout",
       "text": [
        "\r",
        "20101110_MP42_1_mouse_brain_CLIPseq_TDP43_upp  29%  824MB  39.6MB/s   00:49 ETA"
       ]
      },
      {
       "output_type": "stream",
       "stream": "stdout",
       "text": [
        "\r",
        "20101110_MP42_1_mouse_brain_CLIPseq_TDP43_upp  30%  865MB  39.7MB/s   00:48 ETA"
       ]
      },
      {
       "output_type": "stream",
       "stream": "stdout",
       "text": [
        "\r",
        "20101110_MP42_1_mouse_brain_CLIPseq_TDP43_upp  32%  905MB  39.7MB/s   00:47 ETA"
       ]
      },
      {
       "output_type": "stream",
       "stream": "stdout",
       "text": [
        "\r",
        "20101110_MP42_1_mouse_brain_CLIPseq_TDP43_upp  33%  939MB  39.2MB/s   00:47 ETA"
       ]
      },
      {
       "output_type": "stream",
       "stream": "stdout",
       "text": [
        "\r",
        "20101110_MP42_1_mouse_brain_CLIPseq_TDP43_upp  34%  972MB  38.6MB/s   00:47 ETA"
       ]
      },
      {
       "output_type": "stream",
       "stream": "stdout",
       "text": [
        "\r",
        "20101110_MP42_1_mouse_brain_CLIPseq_TDP43_upp  36% 1013MB  38.8MB/s   00:46 ETA"
       ]
      },
      {
       "output_type": "stream",
       "stream": "stdout",
       "text": [
        "\r",
        "20101110_MP42_1_mouse_brain_CLIPseq_TDP43_upp  37% 1053MB  38.9MB/s   00:45 ETA"
       ]
      },
      {
       "output_type": "stream",
       "stream": "stdout",
       "text": [
        "\r",
        "20101110_MP42_1_mouse_brain_CLIPseq_TDP43_upp  38% 1088MB  38.5MB/s   00:44 ETA"
       ]
      },
      {
       "output_type": "stream",
       "stream": "stdout",
       "text": [
        "\r",
        "20101110_MP42_1_mouse_brain_CLIPseq_TDP43_upp  40% 1128MB  38.7MB/s   00:43 ETA"
       ]
      },
      {
       "output_type": "stream",
       "stream": "stdout",
       "text": [
        "\r",
        "20101110_MP42_1_mouse_brain_CLIPseq_TDP43_upp  41% 1169MB  38.9MB/s   00:42 ETA"
       ]
      },
      {
       "output_type": "stream",
       "stream": "stdout",
       "text": [
        "\r",
        "20101110_MP42_1_mouse_brain_CLIPseq_TDP43_upp  43% 1210MB  39.1MB/s   00:40 ETA"
       ]
      },
      {
       "output_type": "stream",
       "stream": "stdout",
       "text": [
        "\r",
        "20101110_MP42_1_mouse_brain_CLIPseq_TDP43_upp  44% 1250MB  39.2MB/s   00:39 ETA"
       ]
      },
      {
       "output_type": "stream",
       "stream": "stdout",
       "text": [
        "\r",
        "20101110_MP42_1_mouse_brain_CLIPseq_TDP43_upp  46% 1291MB  39.4MB/s   00:38 ETA"
       ]
      },
      {
       "output_type": "stream",
       "stream": "stdout",
       "text": [
        "\r",
        "20101110_MP42_1_mouse_brain_CLIPseq_TDP43_upp  47% 1326MB  38.9MB/s   00:37 ETA"
       ]
      },
      {
       "output_type": "stream",
       "stream": "stdout",
       "text": [
        "\r",
        "20101110_MP42_1_mouse_brain_CLIPseq_TDP43_upp  48% 1358MB  38.3MB/s   00:37 ETA"
       ]
      },
      {
       "output_type": "stream",
       "stream": "stdout",
       "text": [
        "\r",
        "20101110_MP42_1_mouse_brain_CLIPseq_TDP43_upp  49% 1393MB  38.0MB/s   00:37 ETA"
       ]
      },
      {
       "output_type": "stream",
       "stream": "stdout",
       "text": [
        "\r",
        "20101110_MP42_1_mouse_brain_CLIPseq_TDP43_upp  50% 1421MB  36.9MB/s   00:37 ETA"
       ]
      },
      {
       "output_type": "stream",
       "stream": "stdout",
       "text": [
        "\r",
        "20101110_MP42_1_mouse_brain_CLIPseq_TDP43_upp  51% 1458MB  36.9MB/s   00:36 ETA"
       ]
      },
      {
       "output_type": "stream",
       "stream": "stdout",
       "text": [
        "\r",
        "20101110_MP42_1_mouse_brain_CLIPseq_TDP43_upp  53% 1487MB  36.2MB/s   00:36 ETA"
       ]
      },
      {
       "output_type": "stream",
       "stream": "stdout",
       "text": [
        "\r",
        "20101110_MP42_1_mouse_brain_CLIPseq_TDP43_upp  54% 1528MB  36.7MB/s   00:34 ETA"
       ]
      },
      {
       "output_type": "stream",
       "stream": "stdout",
       "text": [
        "\r",
        "20101110_MP42_1_mouse_brain_CLIPseq_TDP43_upp  56% 1570MB  37.2MB/s   00:33 ETA"
       ]
      },
      {
       "output_type": "stream",
       "stream": "stdout",
       "text": [
        "\r",
        "20101110_MP42_1_mouse_brain_CLIPseq_TDP43_upp  57% 1612MB  37.7MB/s   00:31 ETA"
       ]
      },
      {
       "output_type": "stream",
       "stream": "stdout",
       "text": [
        "\r",
        "20101110_MP42_1_mouse_brain_CLIPseq_TDP43_upp  58% 1654MB  38.1MB/s   00:30 ETA"
       ]
      },
      {
       "output_type": "stream",
       "stream": "stdout",
       "text": [
        "\r",
        "20101110_MP42_1_mouse_brain_CLIPseq_TDP43_upp  59% 1682MB  37.0MB/s   00:30 ETA"
       ]
      },
      {
       "output_type": "stream",
       "stream": "stdout",
       "text": [
        "\r",
        "20101110_MP42_1_mouse_brain_CLIPseq_TDP43_upp  59% 1682MB  33.3MB/s   00:33 ETA"
       ]
      },
      {
       "output_type": "stream",
       "stream": "stdout",
       "text": [
        "\r",
        "20101110_MP42_1_mouse_brain_CLIPseq_TDP43_upp  59% 1682MB  30.0MB/s   00:37 ETA"
       ]
      },
      {
       "output_type": "stream",
       "stream": "stdout",
       "text": [
        "\r",
        "20101110_MP42_1_mouse_brain_CLIPseq_TDP43_upp  59% 1682MB  27.0MB/s   00:41 ETA"
       ]
      },
      {
       "output_type": "stream",
       "stream": "stdout",
       "text": [
        "\r",
        "20101110_MP42_1_mouse_brain_CLIPseq_TDP43_upp  59% 1682MB  24.3MB/s   00:46 ETA"
       ]
      },
      {
       "output_type": "stream",
       "stream": "stdout",
       "text": [
        "\r",
        "20101110_MP42_1_mouse_brain_CLIPseq_TDP43_upp  60% 1684MB  22.1MB/s   00:50 ETA"
       ]
      },
      {
       "output_type": "stream",
       "stream": "stdout",
       "text": [
        "\r",
        "20101110_MP42_1_mouse_brain_CLIPseq_TDP43_upp  60% 1684MB  19.9MB/s   00:56 ETA"
       ]
      },
      {
       "output_type": "stream",
       "stream": "stdout",
       "text": [
        "\r",
        "20101110_MP42_1_mouse_brain_CLIPseq_TDP43_upp  61% 1715MB  21.0MB/s   00:51 ETA"
       ]
      },
      {
       "output_type": "stream",
       "stream": "stdout",
       "text": [
        "\r",
        "20101110_MP42_1_mouse_brain_CLIPseq_TDP43_upp  62% 1754MB  22.8MB/s   00:45 ETA"
       ]
      },
      {
       "output_type": "stream",
       "stream": "stdout",
       "text": [
        "\r",
        "20101110_MP42_1_mouse_brain_CLIPseq_TDP43_upp  63% 1788MB  24.0MB/s   00:42 ETA"
       ]
      },
      {
       "output_type": "stream",
       "stream": "stdout",
       "text": [
        "\r",
        "20101110_MP42_1_mouse_brain_CLIPseq_TDP43_upp  64% 1815MB  24.2MB/s   00:40 ETA"
       ]
      },
      {
       "output_type": "stream",
       "stream": "stdout",
       "text": [
        "\r",
        "20101110_MP42_1_mouse_brain_CLIPseq_TDP43_upp  64% 1822MB  22.5MB/s   00:43 ETA"
       ]
      },
      {
       "output_type": "stream",
       "stream": "stdout",
       "text": [
        "\r",
        "20101110_MP42_1_mouse_brain_CLIPseq_TDP43_upp  66% 1862MB  24.3MB/s   00:38 ETA"
       ]
      },
      {
       "output_type": "stream",
       "stream": "stdout",
       "text": [
        "\r",
        "20101110_MP42_1_mouse_brain_CLIPseq_TDP43_upp  67% 1904MB  26.0MB/s   00:34 ETA"
       ]
      },
      {
       "output_type": "stream",
       "stream": "stdout",
       "text": [
        "\r",
        "20101110_MP42_1_mouse_brain_CLIPseq_TDP43_upp  69% 1944MB  27.5MB/s   00:31 ETA"
       ]
      },
      {
       "output_type": "stream",
       "stream": "stdout",
       "text": [
        "\r",
        "20101110_MP42_1_mouse_brain_CLIPseq_TDP43_upp  70% 1971MB  27.4MB/s   00:30 ETA"
       ]
      },
      {
       "output_type": "stream",
       "stream": "stdout",
       "text": [
        "\r",
        "20101110_MP42_1_mouse_brain_CLIPseq_TDP43_upp  70% 1971MB  24.7MB/s   00:33 ETA"
       ]
      },
      {
       "output_type": "stream",
       "stream": "stdout",
       "text": [
        "\r",
        "20101110_MP42_1_mouse_brain_CLIPseq_TDP43_upp  71% 2010MB  26.1MB/s   00:30 ETA"
       ]
      },
      {
       "output_type": "stream",
       "stream": "stdout",
       "text": [
        "\r",
        "20101110_MP42_1_mouse_brain_CLIPseq_TDP43_upp  73% 2050MB  27.5MB/s   00:27 ETA"
       ]
      },
      {
       "output_type": "stream",
       "stream": "stdout",
       "text": [
        "\r",
        "20101110_MP42_1_mouse_brain_CLIPseq_TDP43_upp  74% 2091MB  28.9MB/s   00:24 ETA"
       ]
      },
      {
       "output_type": "stream",
       "stream": "stdout",
       "text": [
        "\r",
        "20101110_MP42_1_mouse_brain_CLIPseq_TDP43_upp  75% 2117MB  28.6MB/s   00:24 ETA"
       ]
      },
      {
       "output_type": "stream",
       "stream": "stdout",
       "text": [
        "\r",
        "20101110_MP42_1_mouse_brain_CLIPseq_TDP43_upp  75% 2119MB  25.9MB/s   00:26 ETA"
       ]
      },
      {
       "output_type": "stream",
       "stream": "stdout",
       "text": [
        "\r",
        "20101110_MP42_1_mouse_brain_CLIPseq_TDP43_upp  77% 2159MB  27.3MB/s   00:23 ETA"
       ]
      },
      {
       "output_type": "stream",
       "stream": "stdout",
       "text": [
        "\r",
        "20101110_MP42_1_mouse_brain_CLIPseq_TDP43_upp  78% 2200MB  28.7MB/s   00:21 ETA"
       ]
      },
      {
       "output_type": "stream",
       "stream": "stdout",
       "text": [
        "\r",
        "20101110_MP42_1_mouse_brain_CLIPseq_TDP43_upp  79% 2240MB  29.8MB/s   00:18 ETA"
       ]
      },
      {
       "output_type": "stream",
       "stream": "stdout",
       "text": [
        "\r",
        "20101110_MP42_1_mouse_brain_CLIPseq_TDP43_upp  80% 2265MB  29.3MB/s   00:18 ETA"
       ]
      },
      {
       "output_type": "stream",
       "stream": "stdout",
       "text": [
        "\r",
        "20101110_MP42_1_mouse_brain_CLIPseq_TDP43_upp  80% 2266MB  26.4MB/s   00:20 ETA"
       ]
      },
      {
       "output_type": "stream",
       "stream": "stdout",
       "text": [
        "\r",
        "20101110_MP42_1_mouse_brain_CLIPseq_TDP43_upp  82% 2306MB  27.8MB/s   00:17 ETA"
       ]
      },
      {
       "output_type": "stream",
       "stream": "stdout",
       "text": [
        "\r",
        "20101110_MP42_1_mouse_brain_CLIPseq_TDP43_upp  83% 2346MB  29.1MB/s   00:15 ETA"
       ]
      },
      {
       "output_type": "stream",
       "stream": "stdout",
       "text": [
        "\r",
        "20101110_MP42_1_mouse_brain_CLIPseq_TDP43_upp  85% 2388MB  30.3MB/s   00:13 ETA"
       ]
      },
      {
       "output_type": "stream",
       "stream": "stdout",
       "text": [
        "\r",
        "20101110_MP42_1_mouse_brain_CLIPseq_TDP43_upp  86% 2414MB  29.9MB/s   00:13 ETA"
       ]
      },
      {
       "output_type": "stream",
       "stream": "stdout",
       "text": [
        "\r",
        "20101110_MP42_1_mouse_brain_CLIPseq_TDP43_upp  86% 2416MB  27.1MB/s   00:14 ETA"
       ]
      },
      {
       "output_type": "stream",
       "stream": "stdout",
       "text": [
        "\r",
        "20101110_MP42_1_mouse_brain_CLIPseq_TDP43_upp  87% 2456MB  28.4MB/s   00:12 ETA"
       ]
      },
      {
       "output_type": "stream",
       "stream": "stdout",
       "text": [
        "\r",
        "20101110_MP42_1_mouse_brain_CLIPseq_TDP43_upp  89% 2497MB  29.7MB/s   00:10 ETA"
       ]
      },
      {
       "output_type": "stream",
       "stream": "stdout",
       "text": [
        "\r",
        "20101110_MP42_1_mouse_brain_CLIPseq_TDP43_upp  90% 2537MB  30.8MB/s   00:08 ETA"
       ]
      },
      {
       "output_type": "stream",
       "stream": "stdout",
       "text": [
        "\r",
        "20101110_MP42_1_mouse_brain_CLIPseq_TDP43_upp  91% 2564MB  30.3MB/s   00:07 ETA"
       ]
      },
      {
       "output_type": "stream",
       "stream": "stdout",
       "text": [
        "\r",
        "20101110_MP42_1_mouse_brain_CLIPseq_TDP43_upp  91% 2564MB  27.4MB/s   00:08 ETA"
       ]
      },
      {
       "output_type": "stream",
       "stream": "stdout",
       "text": [
        "\r",
        "20101110_MP42_1_mouse_brain_CLIPseq_TDP43_upp  92% 2606MB  28.8MB/s   00:06 ETA"
       ]
      },
      {
       "output_type": "stream",
       "stream": "stdout",
       "text": [
        "\r",
        "20101110_MP42_1_mouse_brain_CLIPseq_TDP43_upp  94% 2646MB  29.9MB/s   00:05 ETA"
       ]
      },
      {
       "output_type": "stream",
       "stream": "stdout",
       "text": [
        "\r",
        "20101110_MP42_1_mouse_brain_CLIPseq_TDP43_upp  95% 2685MB  30.8MB/s   00:03 ETA"
       ]
      },
      {
       "output_type": "stream",
       "stream": "stdout",
       "text": [
        "\r",
        "20101110_MP42_1_mouse_brain_CLIPseq_TDP43_upp  96% 2709MB  30.1MB/s   00:03 ETA"
       ]
      },
      {
       "output_type": "stream",
       "stream": "stdout",
       "text": [
        "\r",
        "20101110_MP42_1_mouse_brain_CLIPseq_TDP43_upp  96% 2712MB  27.4MB/s   00:03 ETA"
       ]
      },
      {
       "output_type": "stream",
       "stream": "stdout",
       "text": [
        "\r",
        "20101110_MP42_1_mouse_brain_CLIPseq_TDP43_upp  98% 2750MB  28.5MB/s   00:01 ETA"
       ]
      },
      {
       "output_type": "stream",
       "stream": "stdout",
       "text": [
        "\r",
        "20101110_MP42_1_mouse_brain_CLIPseq_TDP43_upp  99% 2789MB  29.5MB/s   00:00 ETA"
       ]
      },
      {
       "output_type": "stream",
       "stream": "stdout",
       "text": [
        "\r",
        "20101110_MP42_1_mouse_brain_CLIPseq_TDP43_upp 100% 2804MB  31.9MB/s   01:28    \r\n"
       ]
      },
      {
       "output_type": "stream",
       "stream": "stdout",
       "text": [
        "\r",
        "20101110_MP42_1_mouse_brain_CLIPseq_TDP43_upp   0%    0     0.0KB/s   --:-- ETA"
       ]
      },
      {
       "output_type": "stream",
       "stream": "stdout",
       "text": [
        "\r",
        "20101110_MP42_1_mouse_brain_CLIPseq_TDP43_upp 100% 6724KB   6.6MB/s   00:00    \r\n"
       ]
      },
      {
       "output_type": "stream",
       "stream": "stdout",
       "text": [
        "\r",
        "20101110_MP42_1_mouse_brain_CLIPseq_TDP43_upp   0%    0     0.0KB/s   --:-- ETA"
       ]
      },
      {
       "output_type": "stream",
       "stream": "stdout",
       "text": [
        "\r",
        "20101110_MP42_1_mouse_brain_CLIPseq_TDP43_upp   1%   38MB  37.8MB/s   01:21 ETA"
       ]
      },
      {
       "output_type": "stream",
       "stream": "stdout",
       "text": [
        "\r",
        "20101110_MP42_1_mouse_brain_CLIPseq_TDP43_upp   2%   80MB  38.2MB/s   01:19 ETA"
       ]
      },
      {
       "output_type": "stream",
       "stream": "stdout",
       "text": [
        "\r",
        "20101110_MP42_1_mouse_brain_CLIPseq_TDP43_upp   3%  121MB  38.5MB/s   01:17 ETA"
       ]
      },
      {
       "output_type": "stream",
       "stream": "stdout",
       "text": [
        "\r",
        "20101110_MP42_1_mouse_brain_CLIPseq_TDP43_upp   5%  163MB  38.8MB/s   01:15 ETA"
       ]
      },
      {
       "output_type": "stream",
       "stream": "stdout",
       "text": [
        "\r",
        "20101110_MP42_1_mouse_brain_CLIPseq_TDP43_upp   6%  204MB  39.1MB/s   01:14 ETA"
       ]
      },
      {
       "output_type": "stream",
       "stream": "stdout",
       "text": [
        "\r",
        "20101110_MP42_1_mouse_brain_CLIPseq_TDP43_upp   7%  245MB  39.3MB/s   01:12 ETA"
       ]
      },
      {
       "output_type": "stream",
       "stream": "stdout",
       "text": [
        "\r",
        "20101110_MP42_1_mouse_brain_CLIPseq_TDP43_upp   9%  281MB  38.9MB/s   01:12 ETA"
       ]
      },
      {
       "output_type": "stream",
       "stream": "stdout",
       "text": [
        "\r",
        "20101110_MP42_1_mouse_brain_CLIPseq_TDP43_upp  10%  321MB  39.0MB/s   01:11 ETA"
       ]
      },
      {
       "output_type": "stream",
       "stream": "stdout",
       "text": [
        "\r",
        "20101110_MP42_1_mouse_brain_CLIPseq_TDP43_upp  11%  362MB  39.3MB/s   01:09 ETA"
       ]
      },
      {
       "output_type": "stream",
       "stream": "stdout",
       "text": [
        "\r",
        "20101110_MP42_1_mouse_brain_CLIPseq_TDP43_upp  13%  403MB  39.5MB/s   01:08 ETA"
       ]
      },
      {
       "output_type": "stream",
       "stream": "stdout",
       "text": [
        "\r",
        "20101110_MP42_1_mouse_brain_CLIPseq_TDP43_upp  14%  437MB  38.9MB/s   01:08 ETA"
       ]
      },
      {
       "output_type": "stream",
       "stream": "stdout",
       "text": [
        "\r",
        "20101110_MP42_1_mouse_brain_CLIPseq_TDP43_upp  15%  478MB  39.1MB/s   01:07 ETA"
       ]
      },
      {
       "output_type": "stream",
       "stream": "stdout",
       "text": [
        "\r",
        "20101110_MP42_1_mouse_brain_CLIPseq_TDP43_upp  16%  519MB  39.2MB/s   01:05 ETA"
       ]
      },
      {
       "output_type": "stream",
       "stream": "stdout",
       "text": [
        "\r",
        "20101110_MP42_1_mouse_brain_CLIPseq_TDP43_upp  17%  558MB  39.3MB/s   01:04 ETA"
       ]
      },
      {
       "output_type": "stream",
       "stream": "stdout",
       "text": [
        "\r",
        "20101110_MP42_1_mouse_brain_CLIPseq_TDP43_upp  19%  598MB  39.4MB/s   01:03 ETA"
       ]
      },
      {
       "output_type": "stream",
       "stream": "stdout",
       "text": [
        "\r",
        "20101110_MP42_1_mouse_brain_CLIPseq_TDP43_upp  20%  638MB  39.4MB/s   01:02 ETA"
       ]
      },
      {
       "output_type": "stream",
       "stream": "stdout",
       "text": [
        "\r",
        "20101110_MP42_1_mouse_brain_CLIPseq_TDP43_upp  21%  678MB  39.4MB/s   01:01 ETA"
       ]
      },
      {
       "output_type": "stream",
       "stream": "stdout",
       "text": [
        "\r",
        "20101110_MP42_1_mouse_brain_CLIPseq_TDP43_upp  23%  717MB  39.4MB/s   01:00 ETA"
       ]
      },
      {
       "output_type": "stream",
       "stream": "stdout",
       "text": [
        "\r",
        "20101110_MP42_1_mouse_brain_CLIPseq_TDP43_upp  24%  757MB  39.5MB/s   00:59 ETA"
       ]
      },
      {
       "output_type": "stream",
       "stream": "stdout",
       "text": [
        "\r",
        "20101110_MP42_1_mouse_brain_CLIPseq_TDP43_upp  25%  797MB  39.5MB/s   00:58 ETA"
       ]
      },
      {
       "output_type": "stream",
       "stream": "stdout",
       "text": [
        "\r",
        "20101110_MP42_1_mouse_brain_CLIPseq_TDP43_upp  26%  836MB  39.5MB/s   00:57 ETA"
       ]
      },
      {
       "output_type": "stream",
       "stream": "stdout",
       "text": [
        "\r",
        "20101110_MP42_1_mouse_brain_CLIPseq_TDP43_upp  28%  876MB  39.5MB/s   00:56 ETA"
       ]
      },
      {
       "output_type": "stream",
       "stream": "stdout",
       "text": [
        "\r",
        "20101110_MP42_1_mouse_brain_CLIPseq_TDP43_upp  29%  915MB  39.5MB/s   00:55 ETA"
       ]
      },
      {
       "output_type": "stream",
       "stream": "stdout",
       "text": [
        "\r",
        "20101110_MP42_1_mouse_brain_CLIPseq_TDP43_upp  30%  955MB  39.5MB/s   00:54 ETA"
       ]
      },
      {
       "output_type": "stream",
       "stream": "stdout",
       "text": [
        "\r",
        "20101110_MP42_1_mouse_brain_CLIPseq_TDP43_upp  32%  995MB  39.5MB/s   00:53 ETA"
       ]
      },
      {
       "output_type": "stream",
       "stream": "stdout",
       "text": [
        "\r",
        "20101110_MP42_1_mouse_brain_CLIPseq_TDP43_upp  33% 1034MB  39.5MB/s   00:52 ETA"
       ]
      },
      {
       "output_type": "stream",
       "stream": "stdout",
       "text": [
        "\r",
        "20101110_MP42_1_mouse_brain_CLIPseq_TDP43_upp  34% 1074MB  39.6MB/s   00:51 ETA"
       ]
      },
      {
       "output_type": "stream",
       "stream": "stdout",
       "text": [
        "\r",
        "20101110_MP42_1_mouse_brain_CLIPseq_TDP43_upp  35% 1114MB  39.6MB/s   00:50 ETA"
       ]
      },
      {
       "output_type": "stream",
       "stream": "stdout",
       "text": [
        "\r",
        "20101110_MP42_1_mouse_brain_CLIPseq_TDP43_upp  37% 1153MB  39.6MB/s   00:49 ETA"
       ]
      },
      {
       "output_type": "stream",
       "stream": "stdout",
       "text": [
        "\r",
        "20101110_MP42_1_mouse_brain_CLIPseq_TDP43_upp  38% 1186MB  38.9MB/s   00:49 ETA"
       ]
      },
      {
       "output_type": "stream",
       "stream": "stdout",
       "text": [
        "\r",
        "20101110_MP42_1_mouse_brain_CLIPseq_TDP43_upp  39% 1225MB  39.0MB/s   00:48 ETA"
       ]
      },
      {
       "output_type": "stream",
       "stream": "stdout",
       "text": [
        "\r",
        "20101110_MP42_1_mouse_brain_CLIPseq_TDP43_upp  40% 1265MB  39.0MB/s   00:47 ETA"
       ]
      },
      {
       "output_type": "stream",
       "stream": "stdout",
       "text": [
        "\r",
        "20101110_MP42_1_mouse_brain_CLIPseq_TDP43_upp  42% 1303MB  39.0MB/s   00:46 ETA"
       ]
      },
      {
       "output_type": "stream",
       "stream": "stdout",
       "text": [
        "\r",
        "20101110_MP42_1_mouse_brain_CLIPseq_TDP43_upp  43% 1344MB  39.1MB/s   00:44 ETA"
       ]
      },
      {
       "output_type": "stream",
       "stream": "stdout",
       "text": [
        "\r",
        "20101110_MP42_1_mouse_brain_CLIPseq_TDP43_upp  44% 1382MB  39.0MB/s   00:44 ETA"
       ]
      },
      {
       "output_type": "stream",
       "stream": "stdout",
       "text": [
        "\r",
        "20101110_MP42_1_mouse_brain_CLIPseq_TDP43_upp  44% 1384MB  35.3MB/s   00:48 ETA"
       ]
      },
      {
       "output_type": "stream",
       "stream": "stdout",
       "text": [
        "\r",
        "20101110_MP42_1_mouse_brain_CLIPseq_TDP43_upp  44% 1384MB  31.8MB/s   00:54 ETA"
       ]
      },
      {
       "output_type": "stream",
       "stream": "stdout",
       "text": [
        "\r",
        "20101110_MP42_1_mouse_brain_CLIPseq_TDP43_upp  44% 1384MB  28.6MB/s   01:00 ETA"
       ]
      },
      {
       "output_type": "stream",
       "stream": "stdout",
       "text": [
        "\r",
        "20101110_MP42_1_mouse_brain_CLIPseq_TDP43_upp  44% 1386MB  25.9MB/s   01:06 ETA"
       ]
      },
      {
       "output_type": "stream",
       "stream": "stdout",
       "text": [
        "\r",
        "20101110_MP42_1_mouse_brain_CLIPseq_TDP43_upp  44% 1388MB  23.5MB/s   01:12 ETA"
       ]
      },
      {
       "output_type": "stream",
       "stream": "stdout",
       "text": [
        "\r",
        "20101110_MP42_1_mouse_brain_CLIPseq_TDP43_upp  44% 1388MB  21.2MB/s   01:20 ETA"
       ]
      },
      {
       "output_type": "stream",
       "stream": "stdout",
       "text": [
        "\r",
        "20101110_MP42_1_mouse_brain_CLIPseq_TDP43_upp  44% 1388MB  19.1MB/s   01:29 ETA"
       ]
      },
      {
       "output_type": "stream",
       "stream": "stdout",
       "text": [
        "\r",
        "20101110_MP42_1_mouse_brain_CLIPseq_TDP43_upp  44% 1388MB  17.2MB/s   01:39 ETA"
       ]
      },
      {
       "output_type": "stream",
       "stream": "stdout",
       "text": [
        "\r",
        "20101110_MP42_1_mouse_brain_CLIPseq_TDP43_upp  44% 1388MB  15.4MB/s   01:50 ETA"
       ]
      },
      {
       "output_type": "stream",
       "stream": "stdout",
       "text": [
        "\r",
        "20101110_MP42_1_mouse_brain_CLIPseq_TDP43_upp  44% 1390MB  14.1MB/s   02:01 ETA"
       ]
      },
      {
       "output_type": "stream",
       "stream": "stdout",
       "text": [
        "\r",
        "20101110_MP42_1_mouse_brain_CLIPseq_TDP43_upp  44% 1390MB  12.7MB/s   02:14 ETA"
       ]
      },
      {
       "output_type": "stream",
       "stream": "stdout",
       "text": [
        "\r",
        "20101110_MP42_1_mouse_brain_CLIPseq_TDP43_upp  44% 1390MB  11.4MB/s   02:29 ETA"
       ]
      },
      {
       "output_type": "stream",
       "stream": "stdout",
       "text": [
        "\r",
        "20101110_MP42_1_mouse_brain_CLIPseq_TDP43_upp  45% 1409MB  12.2MB/s   02:18 ETA"
       ]
      },
      {
       "output_type": "stream",
       "stream": "stdout",
       "text": [
        "\r",
        "20101110_MP42_1_mouse_brain_CLIPseq_TDP43_upp  46% 1448MB  14.8MB/s   01:51 ETA"
       ]
      },
      {
       "output_type": "stream",
       "stream": "stdout",
       "text": [
        "\r",
        "20101110_MP42_1_mouse_brain_CLIPseq_TDP43_upp  47% 1473MB  15.9MB/s   01:42 ETA"
       ]
      },
      {
       "output_type": "stream",
       "stream": "stdout",
       "text": [
        "\r",
        "20101110_MP42_1_mouse_brain_CLIPseq_TDP43_upp  48% 1495MB  16.5MB/s   01:37 ETA"
       ]
      },
      {
       "output_type": "stream",
       "stream": "stdout",
       "text": [
        "\r",
        "20101110_MP42_1_mouse_brain_CLIPseq_TDP43_upp  49% 1530MB  18.4MB/s   01:25 ETA"
       ]
      },
      {
       "output_type": "stream",
       "stream": "stdout",
       "text": [
        "\r",
        "20101110_MP42_1_mouse_brain_CLIPseq_TDP43_upp  50% 1567MB  20.2MB/s   01:15 ETA"
       ]
      },
      {
       "output_type": "stream",
       "stream": "stdout",
       "text": [
        "\r",
        "20101110_MP42_1_mouse_brain_CLIPseq_TDP43_upp  51% 1601MB  21.6MB/s   01:09 ETA"
       ]
      },
      {
       "output_type": "stream",
       "stream": "stdout",
       "text": [
        "\r",
        "20101110_MP42_1_mouse_brain_CLIPseq_TDP43_upp  52% 1627MB  22.0MB/s   01:07 ETA"
       ]
      },
      {
       "output_type": "stream",
       "stream": "stdout",
       "text": [
        "\r",
        "20101110_MP42_1_mouse_brain_CLIPseq_TDP43_upp  52% 1627MB  19.8MB/s   01:14 ETA"
       ]
      },
      {
       "output_type": "stream",
       "stream": "stdout",
       "text": [
        "\r",
        "20101110_MP42_1_mouse_brain_CLIPseq_TDP43_upp  53% 1666MB  21.8MB/s   01:05 ETA"
       ]
      },
      {
       "output_type": "stream",
       "stream": "stdout",
       "text": [
        "\r",
        "20101110_MP42_1_mouse_brain_CLIPseq_TDP43_upp  54% 1705MB  23.5MB/s   00:59 ETA"
       ]
      },
      {
       "output_type": "stream",
       "stream": "stdout",
       "text": [
        "\r",
        "20101110_MP42_1_mouse_brain_CLIPseq_TDP43_upp  56% 1745MB  25.1MB/s   00:53 ETA"
       ]
      },
      {
       "output_type": "stream",
       "stream": "stdout",
       "text": [
        "\r",
        "20101110_MP42_1_mouse_brain_CLIPseq_TDP43_upp  57% 1772MB  25.3MB/s   00:52 ETA"
       ]
      },
      {
       "output_type": "stream",
       "stream": "stdout",
       "text": [
        "\r",
        "20101110_MP42_1_mouse_brain_CLIPseq_TDP43_upp  57% 1774MB  23.0MB/s   00:57 ETA"
       ]
      },
      {
       "output_type": "stream",
       "stream": "stdout",
       "text": [
        "\r",
        "20101110_MP42_1_mouse_brain_CLIPseq_TDP43_upp  58% 1814MB  24.6MB/s   00:52 ETA"
       ]
      },
      {
       "output_type": "stream",
       "stream": "stdout",
       "text": [
        "\r",
        "20101110_MP42_1_mouse_brain_CLIPseq_TDP43_upp  59% 1854MB  26.2MB/s   00:47 ETA"
       ]
      },
      {
       "output_type": "stream",
       "stream": "stdout",
       "text": [
        "\r",
        "20101110_MP42_1_mouse_brain_CLIPseq_TDP43_upp  61% 1893MB  27.5MB/s   00:43 ETA"
       ]
      },
      {
       "output_type": "stream",
       "stream": "stdout",
       "text": [
        "\r",
        "20101110_MP42_1_mouse_brain_CLIPseq_TDP43_upp  61% 1915MB  26.9MB/s   00:44 ETA"
       ]
      },
      {
       "output_type": "stream",
       "stream": "stdout",
       "text": [
        "\r",
        "20101110_MP42_1_mouse_brain_CLIPseq_TDP43_upp  61% 1918MB  24.5MB/s   00:48 ETA"
       ]
      },
      {
       "output_type": "stream",
       "stream": "stdout",
       "text": [
        "\r",
        "20101110_MP42_1_mouse_brain_CLIPseq_TDP43_upp  63% 1956MB  25.9MB/s   00:44 ETA"
       ]
      },
      {
       "output_type": "stream",
       "stream": "stdout",
       "text": [
        "\r",
        "20101110_MP42_1_mouse_brain_CLIPseq_TDP43_upp  64% 1996MB  27.3MB/s   00:40 ETA"
       ]
      },
      {
       "output_type": "stream",
       "stream": "stdout",
       "text": [
        "\r",
        "20101110_MP42_1_mouse_brain_CLIPseq_TDP43_upp  65% 2037MB  28.6MB/s   00:37 ETA"
       ]
      },
      {
       "output_type": "stream",
       "stream": "stdout",
       "text": [
        "\r",
        "20101110_MP42_1_mouse_brain_CLIPseq_TDP43_upp  66% 2063MB  28.4MB/s   00:36 ETA"
       ]
      },
      {
       "output_type": "stream",
       "stream": "stdout",
       "text": [
        "\r",
        "20101110_MP42_1_mouse_brain_CLIPseq_TDP43_upp  66% 2065MB  25.7MB/s   00:40 ETA"
       ]
      },
      {
       "output_type": "stream",
       "stream": "stdout",
       "text": [
        "\r",
        "20101110_MP42_1_mouse_brain_CLIPseq_TDP43_upp  67% 2103MB  27.0MB/s   00:37 ETA"
       ]
      },
      {
       "output_type": "stream",
       "stream": "stdout",
       "text": [
        "\r",
        "20101110_MP42_1_mouse_brain_CLIPseq_TDP43_upp  69% 2141MB  28.1MB/s   00:34 ETA"
       ]
      },
      {
       "output_type": "stream",
       "stream": "stdout",
       "text": [
        "\r",
        "20101110_MP42_1_mouse_brain_CLIPseq_TDP43_upp  70% 2183MB  29.5MB/s   00:31 ETA"
       ]
      },
      {
       "output_type": "stream",
       "stream": "stdout",
       "text": [
        "\r",
        "20101110_MP42_1_mouse_brain_CLIPseq_TDP43_upp  71% 2209MB  29.1MB/s   00:30 ETA"
       ]
      },
      {
       "output_type": "stream",
       "stream": "stdout",
       "text": [
        "\r",
        "20101110_MP42_1_mouse_brain_CLIPseq_TDP43_upp  71% 2211MB  26.4MB/s   00:33 ETA"
       ]
      },
      {
       "output_type": "stream",
       "stream": "stdout",
       "text": [
        "\r",
        "20101110_MP42_1_mouse_brain_CLIPseq_TDP43_upp  72% 2249MB  27.6MB/s   00:30 ETA"
       ]
      },
      {
       "output_type": "stream",
       "stream": "stdout",
       "text": [
        "\r",
        "20101110_MP42_1_mouse_brain_CLIPseq_TDP43_upp  73% 2289MB  28.9MB/s   00:28 ETA"
       ]
      },
      {
       "output_type": "stream",
       "stream": "stdout",
       "text": [
        "\r",
        "20101110_MP42_1_mouse_brain_CLIPseq_TDP43_upp  74% 2323MB  29.3MB/s   00:26 ETA"
       ]
      },
      {
       "output_type": "stream",
       "stream": "stdout",
       "text": [
        "\r",
        "20101110_MP42_1_mouse_brain_CLIPseq_TDP43_upp  75% 2347MB  28.8MB/s   00:26 ETA"
       ]
      },
      {
       "output_type": "stream",
       "stream": "stdout",
       "text": [
        "\r",
        "20101110_MP42_1_mouse_brain_CLIPseq_TDP43_upp  75% 2352MB  26.5MB/s   00:28 ETA"
       ]
      },
      {
       "output_type": "stream",
       "stream": "stdout",
       "text": [
        "\r",
        "20101110_MP42_1_mouse_brain_CLIPseq_TDP43_upp  77% 2392MB  27.7MB/s   00:25 ETA"
       ]
      },
      {
       "output_type": "stream",
       "stream": "stdout",
       "text": [
        "\r",
        "20101110_MP42_1_mouse_brain_CLIPseq_TDP43_upp  78% 2433MB  29.1MB/s   00:23 ETA"
       ]
      },
      {
       "output_type": "stream",
       "stream": "stdout",
       "text": [
        "\r",
        "20101110_MP42_1_mouse_brain_CLIPseq_TDP43_upp  79% 2467MB  29.6MB/s   00:21 ETA"
       ]
      },
      {
       "output_type": "stream",
       "stream": "stdout",
       "text": [
        "\r",
        "20101110_MP42_1_mouse_brain_CLIPseq_TDP43_upp  80% 2493MB  29.3MB/s   00:20 ETA"
       ]
      },
      {
       "output_type": "stream",
       "stream": "stdout",
       "text": [
        "\r",
        "20101110_MP42_1_mouse_brain_CLIPseq_TDP43_upp  80% 2496MB  26.6MB/s   00:22 ETA"
       ]
      },
      {
       "output_type": "stream",
       "stream": "stdout",
       "text": [
        "\r",
        "20101110_MP42_1_mouse_brain_CLIPseq_TDP43_upp  81% 2537MB  28.1MB/s   00:20 ETA"
       ]
      },
      {
       "output_type": "stream",
       "stream": "stdout",
       "text": [
        "\r",
        "20101110_MP42_1_mouse_brain_CLIPseq_TDP43_upp  83% 2579MB  29.4MB/s   00:17 ETA"
       ]
      },
      {
       "output_type": "stream",
       "stream": "stdout",
       "text": [
        "\r",
        "20101110_MP42_1_mouse_brain_CLIPseq_TDP43_upp  84% 2621MB  30.7MB/s   00:15 ETA"
       ]
      },
      {
       "output_type": "stream",
       "stream": "stdout",
       "text": [
        "\r",
        "20101110_MP42_1_mouse_brain_CLIPseq_TDP43_upp  85% 2647MB  30.2MB/s   00:15 ETA"
       ]
      },
      {
       "output_type": "stream",
       "stream": "stdout",
       "text": [
        "\r",
        "20101110_MP42_1_mouse_brain_CLIPseq_TDP43_upp  85% 2647MB  27.2MB/s   00:16 ETA"
       ]
      },
      {
       "output_type": "stream",
       "stream": "stdout",
       "text": [
        "\r",
        "20101110_MP42_1_mouse_brain_CLIPseq_TDP43_upp  86% 2687MB  28.5MB/s   00:14 ETA"
       ]
      },
      {
       "output_type": "stream",
       "stream": "stdout",
       "text": [
        "\r",
        "20101110_MP42_1_mouse_brain_CLIPseq_TDP43_upp  87% 2728MB  29.7MB/s   00:12 ETA"
       ]
      },
      {
       "output_type": "stream",
       "stream": "stdout",
       "text": [
        "\r",
        "20101110_MP42_1_mouse_brain_CLIPseq_TDP43_upp  89% 2768MB  30.8MB/s   00:10 ETA"
       ]
      },
      {
       "output_type": "stream",
       "stream": "stdout",
       "text": [
        "\r",
        "20101110_MP42_1_mouse_brain_CLIPseq_TDP43_upp  90% 2794MB  30.3MB/s   00:10 ETA"
       ]
      },
      {
       "output_type": "stream",
       "stream": "stdout",
       "text": [
        "\r",
        "20101110_MP42_1_mouse_brain_CLIPseq_TDP43_upp  90% 2796MB  27.5MB/s   00:11 ETA"
       ]
      },
      {
       "output_type": "stream",
       "stream": "stdout",
       "text": [
        "\r",
        "20101110_MP42_1_mouse_brain_CLIPseq_TDP43_upp  91% 2836MB  28.7MB/s   00:09 ETA"
       ]
      },
      {
       "output_type": "stream",
       "stream": "stdout",
       "text": [
        "\r",
        "20101110_MP42_1_mouse_brain_CLIPseq_TDP43_upp  92% 2876MB  29.8MB/s   00:07 ETA"
       ]
      },
      {
       "output_type": "stream",
       "stream": "stdout",
       "text": [
        "\r",
        "20101110_MP42_1_mouse_brain_CLIPseq_TDP43_upp  93% 2910MB  30.2MB/s   00:06 ETA"
       ]
      },
      {
       "output_type": "stream",
       "stream": "stdout",
       "text": [
        "\r",
        "20101110_MP42_1_mouse_brain_CLIPseq_TDP43_upp  94% 2934MB  29.6MB/s   00:05 ETA"
       ]
      },
      {
       "output_type": "stream",
       "stream": "stdout",
       "text": [
        "\r",
        "20101110_MP42_1_mouse_brain_CLIPseq_TDP43_upp  94% 2939MB  27.2MB/s   00:05 ETA"
       ]
      },
      {
       "output_type": "stream",
       "stream": "stdout",
       "text": [
        "\r",
        "20101110_MP42_1_mouse_brain_CLIPseq_TDP43_upp  96% 2980MB  28.6MB/s   00:04 ETA"
       ]
      },
      {
       "output_type": "stream",
       "stream": "stdout",
       "text": [
        "\r",
        "20101110_MP42_1_mouse_brain_CLIPseq_TDP43_upp  97% 3020MB  29.7MB/s   00:02 ETA"
       ]
      },
      {
       "output_type": "stream",
       "stream": "stdout",
       "text": [
        "\r",
        "20101110_MP42_1_mouse_brain_CLIPseq_TDP43_upp  98% 3061MB  30.9MB/s   00:01 ETA"
       ]
      },
      {
       "output_type": "stream",
       "stream": "stdout",
       "text": [
        "\r",
        "20101110_MP42_1_mouse_brain_CLIPseq_TDP43_upp  99% 3086MB  30.3MB/s   00:00 ETA"
       ]
      },
      {
       "output_type": "stream",
       "stream": "stdout",
       "text": [
        "\r",
        "20101110_MP42_1_mouse_brain_CLIPseq_TDP43_upp  99% 3088MB  27.4MB/s   00:00 ETA"
       ]
      },
      {
       "output_type": "stream",
       "stream": "stdout",
       "text": [
        "\r",
        "20101110_MP42_1_mouse_brain_CLIPseq_TDP43_upp 100% 3102MB  29.0MB/s   01:47    \r\n"
       ]
      },
      {
       "output_type": "stream",
       "stream": "stdout",
       "text": [
        "\r",
        "20101110_MP42_1_mouse_brain_CLIPseq_TDP43_upp   0%    0     0.0KB/s   --:-- ETA"
       ]
      },
      {
       "output_type": "stream",
       "stream": "stdout",
       "text": [
        "\r",
        "20101110_MP42_1_mouse_brain_CLIPseq_TDP43_upp 100%  561KB 561.2KB/s   00:00    \r\n",
        "\r",
        "20101110_MP42_1_mouse_brain_CLIPseq_TDP43_upp   0%    0     0.0KB/s   --:-- ETA"
       ]
      },
      {
       "output_type": "stream",
       "stream": "stdout",
       "text": [
        "\r",
        "20101110_MP42_1_mouse_brain_CLIPseq_TDP43_upp   1%   33MB  33.5MB/s   01:21 ETA"
       ]
      },
      {
       "output_type": "stream",
       "stream": "stdout",
       "text": [
        "\r",
        "20101110_MP42_1_mouse_brain_CLIPseq_TDP43_upp   2%   75MB  34.3MB/s   01:18 ETA"
       ]
      },
      {
       "output_type": "stream",
       "stream": "stdout",
       "text": [
        "\r",
        "20101110_MP42_1_mouse_brain_CLIPseq_TDP43_upp   4%  116MB  35.0MB/s   01:15 ETA"
       ]
      },
      {
       "output_type": "stream",
       "stream": "stdout",
       "text": [
        "\r",
        "20101110_MP42_1_mouse_brain_CLIPseq_TDP43_upp   5%  158MB  35.6MB/s   01:12 ETA"
       ]
      },
      {
       "output_type": "stream",
       "stream": "stdout",
       "text": [
        "\r",
        "20101110_MP42_1_mouse_brain_CLIPseq_TDP43_upp   7%  200MB  36.2MB/s   01:10 ETA"
       ]
      },
      {
       "output_type": "stream",
       "stream": "stdout",
       "text": [
        "\r",
        "20101110_MP42_1_mouse_brain_CLIPseq_TDP43_upp   8%  241MB  36.8MB/s   01:08 ETA"
       ]
      },
      {
       "output_type": "stream",
       "stream": "stdout",
       "text": [
        "\r",
        "20101110_MP42_1_mouse_brain_CLIPseq_TDP43_upp  10%  283MB  37.3MB/s   01:06 ETA"
       ]
      },
      {
       "output_type": "stream",
       "stream": "stdout",
       "text": [
        "\r",
        "20101110_MP42_1_mouse_brain_CLIPseq_TDP43_upp  11%  324MB  37.7MB/s   01:04 ETA"
       ]
      },
      {
       "output_type": "stream",
       "stream": "stdout",
       "text": [
        "\r",
        "20101110_MP42_1_mouse_brain_CLIPseq_TDP43_upp  13%  365MB  38.0MB/s   01:02 ETA"
       ]
      },
      {
       "output_type": "stream",
       "stream": "stdout",
       "text": [
        "\r",
        "20101110_MP42_1_mouse_brain_CLIPseq_TDP43_upp  14%  407MB  38.4MB/s   01:01 ETA"
       ]
      },
      {
       "output_type": "stream",
       "stream": "stdout",
       "text": [
        "\r",
        "20101110_MP42_1_mouse_brain_CLIPseq_TDP43_upp  16%  449MB  38.7MB/s   00:59 ETA"
       ]
      },
      {
       "output_type": "stream",
       "stream": "stdout",
       "text": [
        "\r",
        "20101110_MP42_1_mouse_brain_CLIPseq_TDP43_upp  17%  483MB  38.3MB/s   00:59 ETA"
       ]
      },
      {
       "output_type": "stream",
       "stream": "stdout",
       "text": [
        "\r",
        "20101110_MP42_1_mouse_brain_CLIPseq_TDP43_upp  19%  524MB  38.6MB/s   00:57 ETA"
       ]
      },
      {
       "output_type": "stream",
       "stream": "stdout",
       "text": [
        "\r",
        "20101110_MP42_1_mouse_brain_CLIPseq_TDP43_upp  20%  566MB  38.9MB/s   00:56 ETA"
       ]
      },
      {
       "output_type": "stream",
       "stream": "stdout",
       "text": [
        "\r",
        "20101110_MP42_1_mouse_brain_CLIPseq_TDP43_upp  22%  608MB  39.2MB/s   00:54 ETA"
       ]
      },
      {
       "output_type": "stream",
       "stream": "stdout",
       "text": [
        "\r",
        "20101110_MP42_1_mouse_brain_CLIPseq_TDP43_upp  23%  650MB  39.5MB/s   00:53 ETA"
       ]
      },
      {
       "output_type": "stream",
       "stream": "stdout",
       "text": [
        "\r",
        "20101110_MP42_1_mouse_brain_CLIPseq_TDP43_upp  25%  692MB  39.8MB/s   00:51 ETA"
       ]
      },
      {
       "output_type": "stream",
       "stream": "stdout",
       "text": [
        "\r",
        "20101110_MP42_1_mouse_brain_CLIPseq_TDP43_upp  26%  734MB  40.0MB/s   00:50 ETA"
       ]
      },
      {
       "output_type": "stream",
       "stream": "stdout",
       "text": [
        "\r",
        "20101110_MP42_1_mouse_brain_CLIPseq_TDP43_upp  28%  777MB  40.2MB/s   00:49 ETA"
       ]
      },
      {
       "output_type": "stream",
       "stream": "stdout",
       "text": [
        "\r",
        "20101110_MP42_1_mouse_brain_CLIPseq_TDP43_upp  29%  819MB  40.4MB/s   00:47 ETA"
       ]
      },
      {
       "output_type": "stream",
       "stream": "stdout",
       "text": [
        "\r",
        "20101110_MP42_1_mouse_brain_CLIPseq_TDP43_upp  31%  860MB  40.5MB/s   00:46 ETA"
       ]
      },
      {
       "output_type": "stream",
       "stream": "stdout",
       "text": [
        "\r",
        "20101110_MP42_1_mouse_brain_CLIPseq_TDP43_upp  32%  895MB  39.9MB/s   00:46 ETA"
       ]
      },
      {
       "output_type": "stream",
       "stream": "stdout",
       "text": [
        "\r",
        "20101110_MP42_1_mouse_brain_CLIPseq_TDP43_upp  33%  936MB  40.0MB/s   00:45 ETA"
       ]
      },
      {
       "output_type": "stream",
       "stream": "stdout",
       "text": [
        "\r",
        "20101110_MP42_1_mouse_brain_CLIPseq_TDP43_upp  35%  978MB  40.2MB/s   00:44 ETA"
       ]
      },
      {
       "output_type": "stream",
       "stream": "stdout",
       "text": [
        "\r",
        "20101110_MP42_1_mouse_brain_CLIPseq_TDP43_upp  37% 1019MB  40.4MB/s   00:42 ETA"
       ]
      },
      {
       "output_type": "stream",
       "stream": "stdout",
       "text": [
        "\r",
        "20101110_MP42_1_mouse_brain_CLIPseq_TDP43_upp  38% 1054MB  39.8MB/s   00:42 ETA"
       ]
      },
      {
       "output_type": "stream",
       "stream": "stdout",
       "text": [
        "\r",
        "20101110_MP42_1_mouse_brain_CLIPseq_TDP43_upp  39% 1095MB  39.9MB/s   00:41 ETA"
       ]
      },
      {
       "output_type": "stream",
       "stream": "stdout",
       "text": [
        "\r",
        "20101110_MP42_1_mouse_brain_CLIPseq_TDP43_upp  41% 1132MB  39.6MB/s   00:40 ETA"
       ]
      },
      {
       "output_type": "stream",
       "stream": "stdout",
       "text": [
        "\r",
        "20101110_MP42_1_mouse_brain_CLIPseq_TDP43_upp  42% 1172MB  39.6MB/s   00:39 ETA"
       ]
      },
      {
       "output_type": "stream",
       "stream": "stdout",
       "text": [
        "\r",
        "20101110_MP42_1_mouse_brain_CLIPseq_TDP43_upp  44% 1214MB  39.9MB/s   00:38 ETA"
       ]
      },
      {
       "output_type": "stream",
       "stream": "stdout",
       "text": [
        "\r",
        "20101110_MP42_1_mouse_brain_CLIPseq_TDP43_upp  45% 1248MB  39.3MB/s   00:38 ETA"
       ]
      },
      {
       "output_type": "stream",
       "stream": "stdout",
       "text": [
        "\r",
        "20101110_MP42_1_mouse_brain_CLIPseq_TDP43_upp  46% 1290MB  39.6MB/s   00:36 ETA"
       ]
      },
      {
       "output_type": "stream",
       "stream": "stdout",
       "text": [
        "\r",
        "20101110_MP42_1_mouse_brain_CLIPseq_TDP43_upp  48% 1326MB  39.2MB/s   00:36 ETA"
       ]
      },
      {
       "output_type": "stream",
       "stream": "stdout",
       "text": [
        "\r",
        "20101110_MP42_1_mouse_brain_CLIPseq_TDP43_upp  48% 1328MB  35.5MB/s   00:40 ETA"
       ]
      },
      {
       "output_type": "stream",
       "stream": "stdout",
       "text": [
        "\r",
        "20101110_MP42_1_mouse_brain_CLIPseq_TDP43_upp  48% 1328MB  32.0MB/s   00:44 ETA"
       ]
      },
      {
       "output_type": "stream",
       "stream": "stdout",
       "text": [
        "\r",
        "20101110_MP42_1_mouse_brain_CLIPseq_TDP43_upp  48% 1328MB  28.8MB/s   00:49 ETA"
       ]
      },
      {
       "output_type": "stream",
       "stream": "stdout",
       "text": [
        "\r",
        "20101110_MP42_1_mouse_brain_CLIPseq_TDP43_upp  48% 1328MB  25.9MB/s   00:54 ETA"
       ]
      },
      {
       "output_type": "stream",
       "stream": "stdout",
       "text": [
        "\r",
        "20101110_MP42_1_mouse_brain_CLIPseq_TDP43_upp  48% 1330MB  23.5MB/s   01:00 ETA"
       ]
      },
      {
       "output_type": "stream",
       "stream": "stdout",
       "text": [
        "\r",
        "20101110_MP42_1_mouse_brain_CLIPseq_TDP43_upp  48% 1331MB  21.2MB/s   01:06 ETA"
       ]
      },
      {
       "output_type": "stream",
       "stream": "stdout",
       "text": [
        "\r",
        "20101110_MP42_1_mouse_brain_CLIPseq_TDP43_upp  48% 1331MB  19.1MB/s   01:14 ETA"
       ]
      },
      {
       "output_type": "stream",
       "stream": "stdout",
       "text": [
        "\r",
        "20101110_MP42_1_mouse_brain_CLIPseq_TDP43_upp  48% 1331MB  17.2MB/s   01:22 ETA"
       ]
      },
      {
       "output_type": "stream",
       "stream": "stdout",
       "text": [
        "\r",
        "20101110_MP42_1_mouse_brain_CLIPseq_TDP43_upp  48% 1331MB  15.5MB/s   01:31 ETA"
       ]
      },
      {
       "output_type": "stream",
       "stream": "stdout",
       "text": [
        "\r",
        "20101110_MP42_1_mouse_brain_CLIPseq_TDP43_upp  48% 1333MB  14.1MB/s   01:40 ETA"
       ]
      },
      {
       "output_type": "stream",
       "stream": "stdout",
       "text": [
        "\r",
        "20101110_MP42_1_mouse_brain_CLIPseq_TDP43_upp  48% 1333MB  12.7MB/s   01:51 ETA"
       ]
      },
      {
       "output_type": "stream",
       "stream": "stdout",
       "text": [
        "\r",
        "20101110_MP42_1_mouse_brain_CLIPseq_TDP43_upp  48% 1333MB  11.5MB/s   02:03 ETA"
       ]
      },
      {
       "output_type": "stream",
       "stream": "stdout",
       "text": [
        "\r",
        "20101110_MP42_1_mouse_brain_CLIPseq_TDP43_upp  49% 1372MB  14.2MB/s   01:37 ETA"
       ]
      },
      {
       "output_type": "stream",
       "stream": "stdout",
       "text": [
        "\r",
        "20101110_MP42_1_mouse_brain_CLIPseq_TDP43_upp  51% 1404MB  16.0MB/s   01:24 ETA"
       ]
      },
      {
       "output_type": "stream",
       "stream": "stdout",
       "text": [
        "\r",
        "20101110_MP42_1_mouse_brain_CLIPseq_TDP43_upp  52% 1432MB  17.2MB/s   01:16 ETA"
       ]
      },
      {
       "output_type": "stream",
       "stream": "stdout",
       "text": [
        "\r",
        "20101110_MP42_1_mouse_brain_CLIPseq_TDP43_upp  52% 1448MB  17.0MB/s   01:16 ETA"
       ]
      },
      {
       "output_type": "stream",
       "stream": "stdout",
       "text": [
        "\r",
        "20101110_MP42_1_mouse_brain_CLIPseq_TDP43_upp  54% 1489MB  19.5MB/s   01:04 ETA"
       ]
      },
      {
       "output_type": "stream",
       "stream": "stdout",
       "text": [
        "\r",
        "20101110_MP42_1_mouse_brain_CLIPseq_TDP43_upp  55% 1529MB  21.5MB/s   00:56 ETA"
       ]
      },
      {
       "output_type": "stream",
       "stream": "stdout",
       "text": [
        "\r",
        "20101110_MP42_1_mouse_brain_CLIPseq_TDP43_upp  57% 1570MB  23.5MB/s   00:50 ETA"
       ]
      },
      {
       "output_type": "stream",
       "stream": "stdout",
       "text": [
        "\r",
        "20101110_MP42_1_mouse_brain_CLIPseq_TDP43_upp  58% 1599MB  24.0MB/s   00:48 ETA"
       ]
      },
      {
       "output_type": "stream",
       "stream": "stdout",
       "text": [
        "\r",
        "20101110_MP42_1_mouse_brain_CLIPseq_TDP43_upp  58% 1599MB  21.6MB/s   00:53 ETA"
       ]
      },
      {
       "output_type": "stream",
       "stream": "stdout",
       "text": [
        "\r",
        "20101110_MP42_1_mouse_brain_CLIPseq_TDP43_upp  59% 1631MB  22.7MB/s   00:49 ETA"
       ]
      },
      {
       "output_type": "stream",
       "stream": "stdout",
       "text": [
        "\r",
        "20101110_MP42_1_mouse_brain_CLIPseq_TDP43_upp  60% 1673MB  24.6MB/s   00:43 ETA"
       ]
      },
      {
       "output_type": "stream",
       "stream": "stdout",
       "text": [
        "\r",
        "20101110_MP42_1_mouse_brain_CLIPseq_TDP43_upp  62% 1713MB  26.2MB/s   00:39 ETA"
       ]
      },
      {
       "output_type": "stream",
       "stream": "stdout",
       "text": [
        "\r",
        "20101110_MP42_1_mouse_brain_CLIPseq_TDP43_upp  63% 1742MB  26.4MB/s   00:38 ETA"
       ]
      },
      {
       "output_type": "stream",
       "stream": "stdout",
       "text": [
        "\r",
        "20101110_MP42_1_mouse_brain_CLIPseq_TDP43_upp  63% 1743MB  23.9MB/s   00:42 ETA"
       ]
      },
      {
       "output_type": "stream",
       "stream": "stdout",
       "text": [
        "\r",
        "20101110_MP42_1_mouse_brain_CLIPseq_TDP43_upp  64% 1784MB  25.6MB/s   00:37 ETA"
       ]
      },
      {
       "output_type": "stream",
       "stream": "stdout",
       "text": [
        "\r",
        "20101110_MP42_1_mouse_brain_CLIPseq_TDP43_upp  66% 1825MB  27.1MB/s   00:34 ETA"
       ]
      },
      {
       "output_type": "stream",
       "stream": "stdout",
       "text": [
        "\r",
        "20101110_MP42_1_mouse_brain_CLIPseq_TDP43_upp  67% 1867MB  28.6MB/s   00:31 ETA"
       ]
      },
      {
       "output_type": "stream",
       "stream": "stdout",
       "text": [
        "\r",
        "20101110_MP42_1_mouse_brain_CLIPseq_TDP43_upp  68% 1895MB  28.5MB/s   00:30 ETA"
       ]
      },
      {
       "output_type": "stream",
       "stream": "stdout",
       "text": [
        "\r",
        "20101110_MP42_1_mouse_brain_CLIPseq_TDP43_upp  68% 1895MB  25.7MB/s   00:33 ETA"
       ]
      },
      {
       "output_type": "stream",
       "stream": "stdout",
       "text": [
        "\r",
        "20101110_MP42_1_mouse_brain_CLIPseq_TDP43_upp  70% 1932MB  26.8MB/s   00:30 ETA"
       ]
      },
      {
       "output_type": "stream",
       "stream": "stdout",
       "text": [
        "\r",
        "20101110_MP42_1_mouse_brain_CLIPseq_TDP43_upp  71% 1974MB  28.3MB/s   00:27 ETA"
       ]
      },
      {
       "output_type": "stream",
       "stream": "stdout",
       "text": [
        "\r",
        "20101110_MP42_1_mouse_brain_CLIPseq_TDP43_upp  72% 2007MB  28.9MB/s   00:25 ETA"
       ]
      },
      {
       "output_type": "stream",
       "stream": "stdout",
       "text": [
        "\r",
        "20101110_MP42_1_mouse_brain_CLIPseq_TDP43_upp  73% 2036MB  28.8MB/s   00:24 ETA"
       ]
      },
      {
       "output_type": "stream",
       "stream": "stdout",
       "text": [
        "\r",
        "20101110_MP42_1_mouse_brain_CLIPseq_TDP43_upp  74% 2039MB  26.2MB/s   00:27 ETA"
       ]
      },
      {
       "output_type": "stream",
       "stream": "stdout",
       "text": [
        "\r",
        "20101110_MP42_1_mouse_brain_CLIPseq_TDP43_upp  75% 2075MB  27.3MB/s   00:24 ETA"
       ]
      },
      {
       "output_type": "stream",
       "stream": "stdout",
       "text": [
        "\r",
        "20101110_MP42_1_mouse_brain_CLIPseq_TDP43_upp  76% 2113MB  28.3MB/s   00:22 ETA"
       ]
      },
      {
       "output_type": "stream",
       "stream": "stdout",
       "text": [
        "\r",
        "20101110_MP42_1_mouse_brain_CLIPseq_TDP43_upp  77% 2141MB  28.3MB/s   00:21 ETA"
       ]
      },
      {
       "output_type": "stream",
       "stream": "stdout",
       "text": [
        "\r",
        "20101110_MP42_1_mouse_brain_CLIPseq_TDP43_upp  78% 2169MB  28.2MB/s   00:20 ETA"
       ]
      },
      {
       "output_type": "stream",
       "stream": "stdout",
       "text": [
        "\r",
        "20101110_MP42_1_mouse_brain_CLIPseq_TDP43_upp  78% 2174MB  25.9MB/s   00:22 ETA"
       ]
      },
      {
       "output_type": "stream",
       "stream": "stdout",
       "text": [
        "\r",
        "20101110_MP42_1_mouse_brain_CLIPseq_TDP43_upp  80% 2215MB  27.5MB/s   00:19 ETA"
       ]
      },
      {
       "output_type": "stream",
       "stream": "stdout",
       "text": [
        "\r",
        "20101110_MP42_1_mouse_brain_CLIPseq_TDP43_upp  82% 2257MB  28.9MB/s   00:17 ETA"
       ]
      },
      {
       "output_type": "stream",
       "stream": "stdout",
       "text": [
        "\r",
        "20101110_MP42_1_mouse_brain_CLIPseq_TDP43_upp  83% 2297MB  30.0MB/s   00:15 ETA"
       ]
      },
      {
       "output_type": "stream",
       "stream": "stdout",
       "text": [
        "\r",
        "20101110_MP42_1_mouse_brain_CLIPseq_TDP43_upp  84% 2319MB  29.2MB/s   00:14 ETA"
       ]
      },
      {
       "output_type": "stream",
       "stream": "stdout",
       "text": [
        "\r",
        "20101110_MP42_1_mouse_brain_CLIPseq_TDP43_upp  84% 2319MB  26.3MB/s   00:16 ETA"
       ]
      },
      {
       "output_type": "stream",
       "stream": "stdout",
       "text": [
        "\r",
        "20101110_MP42_1_mouse_brain_CLIPseq_TDP43_upp  85% 2360MB  27.7MB/s   00:14 ETA"
       ]
      },
      {
       "output_type": "stream",
       "stream": "stdout",
       "text": [
        "\r",
        "20101110_MP42_1_mouse_brain_CLIPseq_TDP43_upp  87% 2401MB  29.1MB/s   00:12 ETA"
       ]
      },
      {
       "output_type": "stream",
       "stream": "stdout",
       "text": [
        "\r",
        "20101110_MP42_1_mouse_brain_CLIPseq_TDP43_upp  88% 2443MB  30.4MB/s   00:10 ETA"
       ]
      },
      {
       "output_type": "stream",
       "stream": "stdout",
       "text": [
        "\r",
        "20101110_MP42_1_mouse_brain_CLIPseq_TDP43_upp  89% 2460MB  29.0MB/s   00:10 ETA"
       ]
      },
      {
       "output_type": "stream",
       "stream": "stdout",
       "text": [
        "\r",
        "20101110_MP42_1_mouse_brain_CLIPseq_TDP43_upp  89% 2462MB  26.4MB/s   00:11 ETA"
       ]
      },
      {
       "output_type": "stream",
       "stream": "stdout",
       "text": [
        "\r",
        "20101110_MP42_1_mouse_brain_CLIPseq_TDP43_upp  90% 2501MB  27.6MB/s   00:09 ETA"
       ]
      },
      {
       "output_type": "stream",
       "stream": "stdout",
       "text": [
        "\r",
        "20101110_MP42_1_mouse_brain_CLIPseq_TDP43_upp  92% 2534MB  28.1MB/s   00:07 ETA"
       ]
      },
      {
       "output_type": "stream",
       "stream": "stdout",
       "text": [
        "\r",
        "20101110_MP42_1_mouse_brain_CLIPseq_TDP43_upp  93% 2572MB  29.2MB/s   00:06 ETA"
       ]
      },
      {
       "output_type": "stream",
       "stream": "stdout",
       "text": [
        "\r",
        "20101110_MP42_1_mouse_brain_CLIPseq_TDP43_upp  94% 2598MB  28.8MB/s   00:05 ETA"
       ]
      },
      {
       "output_type": "stream",
       "stream": "stdout",
       "text": [
        "\r",
        "20101110_MP42_1_mouse_brain_CLIPseq_TDP43_upp  94% 2603MB  26.4MB/s   00:05 ETA"
       ]
      },
      {
       "output_type": "stream",
       "stream": "stdout",
       "text": [
        "\r",
        "20101110_MP42_1_mouse_brain_CLIPseq_TDP43_upp  95% 2641MB  27.6MB/s   00:04 ETA"
       ]
      },
      {
       "output_type": "stream",
       "stream": "stdout",
       "text": [
        "\r",
        "20101110_MP42_1_mouse_brain_CLIPseq_TDP43_upp  97% 2683MB  29.0MB/s   00:02 ETA"
       ]
      },
      {
       "output_type": "stream",
       "stream": "stdout",
       "text": [
        "\r",
        "20101110_MP42_1_mouse_brain_CLIPseq_TDP43_upp  98% 2724MB  30.3MB/s   00:00 ETA"
       ]
      },
      {
       "output_type": "stream",
       "stream": "stdout",
       "text": [
        "\r",
        "20101110_MP42_1_mouse_brain_CLIPseq_TDP43_upp  99% 2751MB  29.9MB/s   00:00 ETA"
       ]
      },
      {
       "output_type": "stream",
       "stream": "stdout",
       "text": [
        "\r",
        "20101110_MP42_1_mouse_brain_CLIPseq_TDP43_upp  99% 2751MB  26.9MB/s   00:00 ETA"
       ]
      },
      {
       "output_type": "stream",
       "stream": "stdout",
       "text": [
        "\r",
        "20101110_MP42_1_mouse_brain_CLIPseq_TDP43_upp 100% 2753MB  29.3MB/s   01:34    \r\n"
       ]
      },
      {
       "output_type": "stream",
       "stream": "stdout",
       "text": [
        "\r",
        "20101110_MP42_1_mouse_brain_CLIPseq_TDP43_upp   0%    0     0.0KB/s   --:-- ETA"
       ]
      },
      {
       "output_type": "stream",
       "stream": "stdout",
       "text": [
        "\r",
        "20101110_MP42_1_mouse_brain_CLIPseq_TDP43_upp  15%   37MB  36.8MB/s   00:05 ETA"
       ]
      },
      {
       "output_type": "stream",
       "stream": "stdout",
       "text": [
        "\r",
        "20101110_MP42_1_mouse_brain_CLIPseq_TDP43_upp  33%   78MB  37.3MB/s   00:04 ETA"
       ]
      },
      {
       "output_type": "stream",
       "stream": "stdout",
       "text": [
        "\r",
        "20101110_MP42_1_mouse_brain_CLIPseq_TDP43_upp  50%  117MB  37.4MB/s   00:03 ETA"
       ]
      },
      {
       "output_type": "stream",
       "stream": "stdout",
       "text": [
        "\r",
        "20101110_MP42_1_mouse_brain_CLIPseq_TDP43_upp  68%  158MB  37.8MB/s   00:01 ETA"
       ]
      },
      {
       "output_type": "stream",
       "stream": "stdout",
       "text": [
        "\r",
        "20101110_MP42_1_mouse_brain_CLIPseq_TDP43_upp  82%  193MB  37.5MB/s   00:01 ETA"
       ]
      },
      {
       "output_type": "stream",
       "stream": "stdout",
       "text": [
        "\r",
        "20101110_MP42_1_mouse_brain_CLIPseq_TDP43_upp 100%  232MB  38.7MB/s   00:06    \r\n"
       ]
      },
      {
       "output_type": "stream",
       "stream": "stdout",
       "text": [
        "\r",
        "20101110_MP42_1_mouse_brain_CLIPseq_TDP43_upp   0%    0     0.0KB/s   --:-- ETA"
       ]
      },
      {
       "output_type": "stream",
       "stream": "stdout",
       "text": [
        "\r",
        "20101110_MP42_1_mouse_brain_CLIPseq_TDP43_upp  15%   37MB  37.2MB/s   00:05 ETA"
       ]
      },
      {
       "output_type": "stream",
       "stream": "stdout",
       "text": [
        "\r",
        "20101110_MP42_1_mouse_brain_CLIPseq_TDP43_upp  32%   77MB  37.5MB/s   00:04 ETA"
       ]
      },
      {
       "output_type": "stream",
       "stream": "stdout",
       "text": [
        "\r",
        "20101110_MP42_1_mouse_brain_CLIPseq_TDP43_upp  49%  118MB  37.8MB/s   00:03 ETA"
       ]
      },
      {
       "output_type": "stream",
       "stream": "stdout",
       "text": [
        "\r",
        "20101110_MP42_1_mouse_brain_CLIPseq_TDP43_upp  64%  152MB  37.4MB/s   00:02 ETA"
       ]
      },
      {
       "output_type": "stream",
       "stream": "stdout",
       "text": [
        "\r",
        "20101110_MP42_1_mouse_brain_CLIPseq_TDP43_upp  77%  185MB  37.0MB/s   00:01 ETA"
       ]
      },
      {
       "output_type": "stream",
       "stream": "stdout",
       "text": [
        "\r",
        "20101110_MP42_1_mouse_brain_CLIPseq_TDP43_upp  95%  226MB  37.4MB/s   00:00 ETA"
       ]
      },
      {
       "output_type": "stream",
       "stream": "stdout",
       "text": [
        "\r",
        "20101110_MP42_1_mouse_brain_CLIPseq_TDP43_upp 100%  238MB  39.6MB/s   00:06    \r\n"
       ]
      },
      {
       "output_type": "stream",
       "stream": "stdout",
       "text": [
        "\r",
        "20101110_MP42_1_mouse_brain_CLIPseq_TDP43_upp   0%    0     0.0KB/s   --:-- ETA"
       ]
      },
      {
       "output_type": "stream",
       "stream": "stdout",
       "text": [
        "\r",
        "20101110_MP42_1_mouse_brain_CLIPseq_TDP43_upp   1%   32MB  32.2MB/s   01:14 ETA"
       ]
      },
      {
       "output_type": "stream",
       "stream": "stdout",
       "text": [
        "\r",
        "20101110_MP42_1_mouse_brain_CLIPseq_TDP43_upp   3%   75MB  33.2MB/s   01:10 ETA"
       ]
      },
      {
       "output_type": "stream",
       "stream": "stdout",
       "text": [
        "\r",
        "20101110_MP42_1_mouse_brain_CLIPseq_TDP43_upp   4%  116MB  34.1MB/s   01:07 ETA"
       ]
      },
      {
       "output_type": "stream",
       "stream": "stdout",
       "text": [
        "\r",
        "20101110_MP42_1_mouse_brain_CLIPseq_TDP43_upp   6%  158MB  34.8MB/s   01:04 ETA"
       ]
      },
      {
       "output_type": "stream",
       "stream": "stdout",
       "text": [
        "\r",
        "20101110_MP42_1_mouse_brain_CLIPseq_TDP43_upp   8%  200MB  35.5MB/s   01:02 ETA"
       ]
      },
      {
       "output_type": "stream",
       "stream": "stdout",
       "text": [
        "\r",
        "20101110_MP42_1_mouse_brain_CLIPseq_TDP43_upp   9%  242MB  36.1MB/s   01:00 ETA"
       ]
      },
      {
       "output_type": "stream",
       "stream": "stdout",
       "text": [
        "\r",
        "20101110_MP42_1_mouse_brain_CLIPseq_TDP43_upp  11%  283MB  36.7MB/s   00:58 ETA"
       ]
      },
      {
       "output_type": "stream",
       "stream": "stdout",
       "text": [
        "\r",
        "20101110_MP42_1_mouse_brain_CLIPseq_TDP43_upp  13%  317MB  36.5MB/s   00:57 ETA"
       ]
      },
      {
       "output_type": "stream",
       "stream": "stdout",
       "text": [
        "\r",
        "20101110_MP42_1_mouse_brain_CLIPseq_TDP43_upp  14%  359MB  36.9MB/s   00:55 ETA"
       ]
      },
      {
       "output_type": "stream",
       "stream": "stdout",
       "text": [
        "\r",
        "20101110_MP42_1_mouse_brain_CLIPseq_TDP43_upp  16%  393MB  36.6MB/s   00:55 ETA"
       ]
      },
      {
       "output_type": "stream",
       "stream": "stdout",
       "text": [
        "\r",
        "20101110_MP42_1_mouse_brain_CLIPseq_TDP43_upp  18%  435MB  37.2MB/s   00:53 ETA"
       ]
      },
      {
       "output_type": "stream",
       "stream": "stdout",
       "text": [
        "\r",
        "20101110_MP42_1_mouse_brain_CLIPseq_TDP43_upp  19%  476MB  37.6MB/s   00:51 ETA"
       ]
      },
      {
       "output_type": "stream",
       "stream": "stdout",
       "text": [
        "\r",
        "20101110_MP42_1_mouse_brain_CLIPseq_TDP43_upp  21%  517MB  38.0MB/s   00:49 ETA"
       ]
      },
      {
       "output_type": "stream",
       "stream": "stdout",
       "text": [
        "\r",
        "20101110_MP42_1_mouse_brain_CLIPseq_TDP43_upp  23%  559MB  38.3MB/s   00:48 ETA"
       ]
      },
      {
       "output_type": "stream",
       "stream": "stdout",
       "text": [
        "\r",
        "20101110_MP42_1_mouse_brain_CLIPseq_TDP43_upp  24%  601MB  38.7MB/s   00:46 ETA"
       ]
      },
      {
       "output_type": "stream",
       "stream": "stdout",
       "text": [
        "\r",
        "20101110_MP42_1_mouse_brain_CLIPseq_TDP43_upp  26%  642MB  39.0MB/s   00:45 ETA"
       ]
      },
      {
       "output_type": "stream",
       "stream": "stdout",
       "text": [
        "\r",
        "20101110_MP42_1_mouse_brain_CLIPseq_TDP43_upp  28%  684MB  39.2MB/s   00:44 ETA"
       ]
      },
      {
       "output_type": "stream",
       "stream": "stdout",
       "text": [
        "\r",
        "20101110_MP42_1_mouse_brain_CLIPseq_TDP43_upp  30%  725MB  39.5MB/s   00:42 ETA"
       ]
      },
      {
       "output_type": "stream",
       "stream": "stdout",
       "text": [
        "\r",
        "20101110_MP42_1_mouse_brain_CLIPseq_TDP43_upp  31%  766MB  39.6MB/s   00:41 ETA"
       ]
      },
      {
       "output_type": "stream",
       "stream": "stdout",
       "text": [
        "\r",
        "20101110_MP42_1_mouse_brain_CLIPseq_TDP43_upp  33%  807MB  39.7MB/s   00:40 ETA"
       ]
      },
      {
       "output_type": "stream",
       "stream": "stdout",
       "text": [
        "\r",
        "20101110_MP42_1_mouse_brain_CLIPseq_TDP43_upp  35%  848MB  39.9MB/s   00:39 ETA"
       ]
      },
      {
       "output_type": "stream",
       "stream": "stdout",
       "text": [
        "\r",
        "20101110_MP42_1_mouse_brain_CLIPseq_TDP43_upp  36%  881MB  39.2MB/s   00:39 ETA"
       ]
      },
      {
       "output_type": "stream",
       "stream": "stdout",
       "text": [
        "\r",
        "20101110_MP42_1_mouse_brain_CLIPseq_TDP43_upp  38%  921MB  39.2MB/s   00:38 ETA"
       ]
      },
      {
       "output_type": "stream",
       "stream": "stdout",
       "text": [
        "\r",
        "20101110_MP42_1_mouse_brain_CLIPseq_TDP43_upp  39%  960MB  39.3MB/s   00:37 ETA"
       ]
      },
      {
       "output_type": "stream",
       "stream": "stdout",
       "text": [
        "\r",
        "20101110_MP42_1_mouse_brain_CLIPseq_TDP43_upp  41% 1000MB  39.3MB/s   00:36 ETA"
       ]
      },
      {
       "output_type": "stream",
       "stream": "stdout",
       "text": [
        "\r",
        "20101110_MP42_1_mouse_brain_CLIPseq_TDP43_upp  43% 1040MB  39.3MB/s   00:34 ETA"
       ]
      },
      {
       "output_type": "stream",
       "stream": "stdout",
       "text": [
        "\r",
        "20101110_MP42_1_mouse_brain_CLIPseq_TDP43_upp  44% 1079MB  39.3MB/s   00:33 ETA"
       ]
      },
      {
       "output_type": "stream",
       "stream": "stdout",
       "text": [
        "\r",
        "20101110_MP42_1_mouse_brain_CLIPseq_TDP43_upp  46% 1112MB  38.7MB/s   00:33 ETA"
       ]
      },
      {
       "output_type": "stream",
       "stream": "stdout",
       "text": [
        "\r",
        "20101110_MP42_1_mouse_brain_CLIPseq_TDP43_upp  47% 1152MB  38.8MB/s   00:32 ETA"
       ]
      },
      {
       "output_type": "stream",
       "stream": "stdout",
       "text": [
        "\r",
        "20101110_MP42_1_mouse_brain_CLIPseq_TDP43_upp  49% 1192MB  38.9MB/s   00:31 ETA"
       ]
      },
      {
       "output_type": "stream",
       "stream": "stdout",
       "text": [
        "\r",
        "20101110_MP42_1_mouse_brain_CLIPseq_TDP43_upp  50% 1225MB  38.3MB/s   00:31 ETA"
       ]
      },
      {
       "output_type": "stream",
       "stream": "stdout",
       "text": [
        "\r",
        "20101110_MP42_1_mouse_brain_CLIPseq_TDP43_upp  52% 1264MB  38.4MB/s   00:29 ETA"
       ]
      },
      {
       "output_type": "stream",
       "stream": "stdout",
       "text": [
        "\r",
        "20101110_MP42_1_mouse_brain_CLIPseq_TDP43_upp  53% 1304MB  38.6MB/s   00:28 ETA"
       ]
      },
      {
       "output_type": "stream",
       "stream": "stdout",
       "text": [
        "\r",
        "20101110_MP42_1_mouse_brain_CLIPseq_TDP43_upp  55% 1343MB  38.7MB/s   00:27 ETA"
       ]
      },
      {
       "output_type": "stream",
       "stream": "stdout",
       "text": [
        "\r",
        "20101110_MP42_1_mouse_brain_CLIPseq_TDP43_upp  56% 1372MB  37.7MB/s   00:27 ETA"
       ]
      },
      {
       "output_type": "stream",
       "stream": "stdout",
       "text": [
        "\r",
        "20101110_MP42_1_mouse_brain_CLIPseq_TDP43_upp  56% 1374MB  34.1MB/s   00:30 ETA"
       ]
      },
      {
       "output_type": "stream",
       "stream": "stdout",
       "text": [
        "\r",
        "20101110_MP42_1_mouse_brain_CLIPseq_TDP43_upp  56% 1374MB  30.7MB/s   00:33 ETA"
       ]
      },
      {
       "output_type": "stream",
       "stream": "stdout",
       "text": [
        "\r",
        "20101110_MP42_1_mouse_brain_CLIPseq_TDP43_upp  57% 1380MB  28.2MB/s   00:36 ETA"
       ]
      },
      {
       "output_type": "stream",
       "stream": "stdout",
       "text": [
        "\r",
        "20101110_MP42_1_mouse_brain_CLIPseq_TDP43_upp  57% 1380MB  25.4MB/s   00:40 ETA"
       ]
      },
      {
       "output_type": "stream",
       "stream": "stdout",
       "text": [
        "\r",
        "20101110_MP42_1_mouse_brain_CLIPseq_TDP43_upp  57% 1382MB  23.1MB/s   00:44 ETA"
       ]
      },
      {
       "output_type": "stream",
       "stream": "stdout",
       "text": [
        "\r",
        "20101110_MP42_1_mouse_brain_CLIPseq_TDP43_upp  57% 1382MB  20.8MB/s   00:49 ETA"
       ]
      },
      {
       "output_type": "stream",
       "stream": "stdout",
       "text": [
        "\r",
        "20101110_MP42_1_mouse_brain_CLIPseq_TDP43_upp  57% 1382MB  18.7MB/s   00:55 ETA"
       ]
      },
      {
       "output_type": "stream",
       "stream": "stdout",
       "text": [
        "\r",
        "20101110_MP42_1_mouse_brain_CLIPseq_TDP43_upp  57% 1382MB  16.8MB/s   01:01 ETA"
       ]
      },
      {
       "output_type": "stream",
       "stream": "stdout",
       "text": [
        "\r",
        "20101110_MP42_1_mouse_brain_CLIPseq_TDP43_upp  57% 1382MB  15.1MB/s   01:08 ETA"
       ]
      },
      {
       "output_type": "stream",
       "stream": "stdout",
       "text": [
        "\r",
        "20101110_MP42_1_mouse_brain_CLIPseq_TDP43_upp  57% 1384MB  13.8MB/s   01:14 ETA"
       ]
      },
      {
       "output_type": "stream",
       "stream": "stdout",
       "text": [
        "\r",
        "20101110_MP42_1_mouse_brain_CLIPseq_TDP43_upp  57% 1384MB  12.4MB/s   01:22 ETA"
       ]
      },
      {
       "output_type": "stream",
       "stream": "stdout",
       "text": [
        "\r",
        "20101110_MP42_1_mouse_brain_CLIPseq_TDP43_upp  57% 1384MB  11.2MB/s   01:32 ETA"
       ]
      },
      {
       "output_type": "stream",
       "stream": "stdout",
       "text": [
        "\r",
        "20101110_MP42_1_mouse_brain_CLIPseq_TDP43_upp  58% 1403MB  12.0MB/s   01:24 ETA"
       ]
      },
      {
       "output_type": "stream",
       "stream": "stdout",
       "text": [
        "\r",
        "20101110_MP42_1_mouse_brain_CLIPseq_TDP43_upp  59% 1437MB  14.1MB/s   01:09 ETA"
       ]
      },
      {
       "output_type": "stream",
       "stream": "stdout",
       "text": [
        "\r",
        "20101110_MP42_1_mouse_brain_CLIPseq_TDP43_upp  60% 1464MB  15.4MB/s   01:01 ETA"
       ]
      },
      {
       "output_type": "stream",
       "stream": "stdout",
       "text": [
        "\r",
        "20101110_MP42_1_mouse_brain_CLIPseq_TDP43_upp  61% 1486MB  16.1MB/s   00:57 ETA"
       ]
      },
      {
       "output_type": "stream",
       "stream": "stdout",
       "text": [
        "\r",
        "20101110_MP42_1_mouse_brain_CLIPseq_TDP43_upp  63% 1526MB  18.5MB/s   00:48 ETA"
       ]
      },
      {
       "output_type": "stream",
       "stream": "stdout",
       "text": [
        "\r",
        "20101110_MP42_1_mouse_brain_CLIPseq_TDP43_upp  64% 1565MB  20.6MB/s   00:41 ETA"
       ]
      },
      {
       "output_type": "stream",
       "stream": "stdout",
       "text": [
        "\r",
        "20101110_MP42_1_mouse_brain_CLIPseq_TDP43_upp  66% 1605MB  22.5MB/s   00:36 ETA"
       ]
      },
      {
       "output_type": "stream",
       "stream": "stdout",
       "text": [
        "\r",
        "20101110_MP42_1_mouse_brain_CLIPseq_TDP43_upp  67% 1625MB  22.3MB/s   00:35 ETA"
       ]
      },
      {
       "output_type": "stream",
       "stream": "stdout",
       "text": [
        "\r",
        "20101110_MP42_1_mouse_brain_CLIPseq_TDP43_upp  67% 1625MB  20.0MB/s   00:39 ETA"
       ]
      },
      {
       "output_type": "stream",
       "stream": "stdout",
       "text": [
        "\r",
        "20101110_MP42_1_mouse_brain_CLIPseq_TDP43_upp  68% 1655MB  21.0MB/s   00:36 ETA"
       ]
      },
      {
       "output_type": "stream",
       "stream": "stdout",
       "text": [
        "\r",
        "20101110_MP42_1_mouse_brain_CLIPseq_TDP43_upp  70% 1694MB  22.9MB/s   00:31 ETA"
       ]
      },
      {
       "output_type": "stream",
       "stream": "stdout",
       "text": [
        "\r",
        "20101110_MP42_1_mouse_brain_CLIPseq_TDP43_upp  71% 1728MB  23.9MB/s   00:28 ETA"
       ]
      },
      {
       "output_type": "stream",
       "stream": "stdout",
       "text": [
        "\r",
        "20101110_MP42_1_mouse_brain_CLIPseq_TDP43_upp  72% 1754MB  24.2MB/s   00:27 ETA"
       ]
      },
      {
       "output_type": "stream",
       "stream": "stdout",
       "text": [
        "\r",
        "20101110_MP42_1_mouse_brain_CLIPseq_TDP43_upp  72% 1761MB  22.4MB/s   00:29 ETA"
       ]
      },
      {
       "output_type": "stream",
       "stream": "stdout",
       "text": [
        "\r",
        "20101110_MP42_1_mouse_brain_CLIPseq_TDP43_upp  74% 1800MB  24.1MB/s   00:25 ETA"
       ]
      },
      {
       "output_type": "stream",
       "stream": "stdout",
       "text": [
        "\r",
        "20101110_MP42_1_mouse_brain_CLIPseq_TDP43_upp  76% 1840MB  25.7MB/s   00:22 ETA"
       ]
      },
      {
       "output_type": "stream",
       "stream": "stdout",
       "text": [
        "\r",
        "20101110_MP42_1_mouse_brain_CLIPseq_TDP43_upp  77% 1880MB  27.1MB/s   00:19 ETA"
       ]
      },
      {
       "output_type": "stream",
       "stream": "stdout",
       "text": [
        "\r",
        "20101110_MP42_1_mouse_brain_CLIPseq_TDP43_upp  78% 1906MB  27.0MB/s   00:18 ETA"
       ]
      },
      {
       "output_type": "stream",
       "stream": "stdout",
       "text": [
        "\r",
        "20101110_MP42_1_mouse_brain_CLIPseq_TDP43_upp  78% 1906MB  24.3MB/s   00:20 ETA"
       ]
      },
      {
       "output_type": "stream",
       "stream": "stdout",
       "text": [
        "\r",
        "20101110_MP42_1_mouse_brain_CLIPseq_TDP43_upp  80% 1944MB  25.7MB/s   00:18 ETA"
       ]
      },
      {
       "output_type": "stream",
       "stream": "stdout",
       "text": [
        "\r",
        "20101110_MP42_1_mouse_brain_CLIPseq_TDP43_upp  82% 1984MB  27.1MB/s   00:15 ETA"
       ]
      },
      {
       "output_type": "stream",
       "stream": "stdout",
       "text": [
        "\r",
        "20101110_MP42_1_mouse_brain_CLIPseq_TDP43_upp  83% 2024MB  28.4MB/s   00:13 ETA"
       ]
      },
      {
       "output_type": "stream",
       "stream": "stdout",
       "text": [
        "\r",
        "20101110_MP42_1_mouse_brain_CLIPseq_TDP43_upp  84% 2050MB  28.1MB/s   00:12 ETA"
       ]
      },
      {
       "output_type": "stream",
       "stream": "stdout",
       "text": [
        "\r",
        "20101110_MP42_1_mouse_brain_CLIPseq_TDP43_upp  84% 2052MB  25.5MB/s   00:14 ETA"
       ]
      },
      {
       "output_type": "stream",
       "stream": "stdout",
       "text": [
        "\r",
        "20101110_MP42_1_mouse_brain_CLIPseq_TDP43_upp  86% 2091MB  26.9MB/s   00:12 ETA"
       ]
      },
      {
       "output_type": "stream",
       "stream": "stdout",
       "text": [
        "\r",
        "20101110_MP42_1_mouse_brain_CLIPseq_TDP43_upp  88% 2130MB  28.1MB/s   00:10 ETA"
       ]
      },
      {
       "output_type": "stream",
       "stream": "stdout",
       "text": [
        "\r",
        "20101110_MP42_1_mouse_brain_CLIPseq_TDP43_upp  89% 2163MB  28.6MB/s   00:08 ETA"
       ]
      },
      {
       "output_type": "stream",
       "stream": "stdout",
       "text": [
        "\r",
        "20101110_MP42_1_mouse_brain_CLIPseq_TDP43_upp  90% 2189MB  28.3MB/s   00:07 ETA"
       ]
      },
      {
       "output_type": "stream",
       "stream": "stdout",
       "text": [
        "\r",
        "20101110_MP42_1_mouse_brain_CLIPseq_TDP43_upp  90% 2193MB  25.9MB/s   00:08 ETA"
       ]
      },
      {
       "output_type": "stream",
       "stream": "stdout",
       "text": [
        "\r",
        "20101110_MP42_1_mouse_brain_CLIPseq_TDP43_upp  92% 2233MB  27.3MB/s   00:06 ETA"
       ]
      },
      {
       "output_type": "stream",
       "stream": "stdout",
       "text": [
        "\r",
        "20101110_MP42_1_mouse_brain_CLIPseq_TDP43_upp  94% 2272MB  28.5MB/s   00:05 ETA"
       ]
      },
      {
       "output_type": "stream",
       "stream": "stdout",
       "text": [
        "\r",
        "20101110_MP42_1_mouse_brain_CLIPseq_TDP43_upp  95% 2312MB  29.6MB/s   00:03 ETA"
       ]
      },
      {
       "output_type": "stream",
       "stream": "stdout",
       "text": [
        "\r",
        "20101110_MP42_1_mouse_brain_CLIPseq_TDP43_upp  96% 2337MB  29.2MB/s   00:02 ETA"
       ]
      },
      {
       "output_type": "stream",
       "stream": "stdout",
       "text": [
        "\r",
        "20101110_MP42_1_mouse_brain_CLIPseq_TDP43_upp  96% 2338MB  26.4MB/s   00:02 ETA"
       ]
      },
      {
       "output_type": "stream",
       "stream": "stdout",
       "text": [
        "\r",
        "20101110_MP42_1_mouse_brain_CLIPseq_TDP43_upp  98% 2378MB  27.7MB/s   00:01 ETA"
       ]
      },
      {
       "output_type": "stream",
       "stream": "stdout",
       "text": [
        "\r",
        "20101110_MP42_1_mouse_brain_CLIPseq_TDP43_upp 100% 2415MB  29.1MB/s   01:23    \r\n"
       ]
      },
      {
       "output_type": "stream",
       "stream": "stdout",
       "text": [
        "\r",
        "TAF15_1.polyATrim.adapterTrim.rep.bam           0%    0     0.0KB/s   --:-- ETA"
       ]
      },
      {
       "output_type": "stream",
       "stream": "stdout",
       "text": [
        "\r",
        "TAF15_1.polyATrim.adapterTrim.rep.bam           0%   38MB  38.0MB/s   04:39 ETA"
       ]
      },
      {
       "output_type": "stream",
       "stream": "stdout",
       "text": [
        "\r",
        "TAF15_1.polyATrim.adapterTrim.rep.bam           0%   71MB  37.5MB/s   04:41 ETA"
       ]
      },
      {
       "output_type": "stream",
       "stream": "stdout",
       "text": [
        "\r",
        "TAF15_1.polyATrim.adapterTrim.rep.bam           1%  111MB  37.7MB/s   04:39 ETA"
       ]
      },
      {
       "output_type": "stream",
       "stream": "stdout",
       "text": [
        "\r",
        "TAF15_1.polyATrim.adapterTrim.rep.bam           1%  145MB  37.4MB/s   04:41 ETA"
       ]
      },
      {
       "output_type": "stream",
       "stream": "stdout",
       "text": [
        "\r",
        "TAF15_1.polyATrim.adapterTrim.rep.bam           1%  183MB  37.4MB/s   04:39 ETA"
       ]
      },
      {
       "output_type": "stream",
       "stream": "stdout",
       "text": [
        "\r",
        "TAF15_1.polyATrim.adapterTrim.rep.bam           2%  224MB  37.8MB/s   04:36 ETA"
       ]
      },
      {
       "output_type": "stream",
       "stream": "stdout",
       "text": [
        "\r",
        "TAF15_1.polyATrim.adapterTrim.rep.bam           2%  265MB  38.1MB/s   04:32 ETA"
       ]
      },
      {
       "output_type": "stream",
       "stream": "stdout",
       "text": [
        "\r",
        "TAF15_1.polyATrim.adapterTrim.rep.bam           2%  306MB  38.4MB/s   04:29 ETA"
       ]
      },
      {
       "output_type": "stream",
       "stream": "stdout",
       "text": [
        "\r",
        "TAF15_1.polyATrim.adapterTrim.rep.bam           3%  340MB  38.0MB/s   04:31 ETA"
       ]
      },
      {
       "output_type": "stream",
       "stream": "stdout",
       "text": [
        "\r",
        "TAF15_1.polyATrim.adapterTrim.rep.bam           3%  374MB  37.6MB/s   04:33 ETA"
       ]
      },
      {
       "output_type": "stream",
       "stream": "stdout",
       "text": [
        "\r",
        "TAF15_1.polyATrim.adapterTrim.rep.bam           3%  416MB  38.0MB/s   04:29 ETA"
       ]
      },
      {
       "output_type": "stream",
       "stream": "stdout",
       "text": [
        "\r",
        "TAF15_1.polyATrim.adapterTrim.rep.bam           4%  457MB  38.3MB/s   04:26 ETA"
       ]
      },
      {
       "output_type": "stream",
       "stream": "stdout",
       "text": [
        "\r",
        "TAF15_1.polyATrim.adapterTrim.rep.bam           4%  498MB  38.6MB/s   04:23 ETA"
       ]
      },
      {
       "output_type": "stream",
       "stream": "stdout",
       "text": [
        "\r",
        "TAF15_1.polyATrim.adapterTrim.rep.bam           5%  539MB  38.8MB/s   04:20 ETA"
       ]
      },
      {
       "output_type": "stream",
       "stream": "stdout",
       "text": [
        "\r",
        "TAF15_1.polyATrim.adapterTrim.rep.bam           5%  573MB  38.3MB/s   04:23 ETA"
       ]
      },
      {
       "output_type": "stream",
       "stream": "stdout",
       "text": [
        "\r",
        "TAF15_1.polyATrim.adapterTrim.rep.bam           5%  611MB  38.4MB/s   04:21 ETA"
       ]
      },
      {
       "output_type": "stream",
       "stream": "stdout",
       "text": [
        "\r",
        "TAF15_1.polyATrim.adapterTrim.rep.bam           6%  653MB  38.7MB/s   04:18 ETA"
       ]
      },
      {
       "output_type": "stream",
       "stream": "stdout",
       "text": [
        "\r",
        "TAF15_1.polyATrim.adapterTrim.rep.bam           6%  695MB  39.0MB/s   04:15 ETA"
       ]
      },
      {
       "output_type": "stream",
       "stream": "stdout",
       "text": [
        "\r",
        "TAF15_1.polyATrim.adapterTrim.rep.bam           6%  738MB  39.4MB/s   04:11 ETA"
       ]
      },
      {
       "output_type": "stream",
       "stream": "stdout",
       "text": [
        "\r",
        "TAF15_1.polyATrim.adapterTrim.rep.bam           7%  780MB  39.7MB/s   04:08 ETA"
       ]
      },
      {
       "output_type": "stream",
       "stream": "stdout",
       "text": [
        "\r",
        "TAF15_1.polyATrim.adapterTrim.rep.bam           7%  823MB  40.0MB/s   04:05 ETA"
       ]
      },
      {
       "output_type": "stream",
       "stream": "stdout",
       "text": [
        "\r",
        "TAF15_1.polyATrim.adapterTrim.rep.bam           8%  865MB  40.3MB/s   04:03 ETA"
       ]
      },
      {
       "output_type": "stream",
       "stream": "stdout",
       "text": [
        "\r",
        "TAF15_1.polyATrim.adapterTrim.rep.bam           8%  906MB  40.3MB/s   04:01 ETA"
       ]
      },
      {
       "output_type": "stream",
       "stream": "stdout",
       "text": [
        "\r",
        "TAF15_1.polyATrim.adapterTrim.rep.bam           8%  948MB  40.4MB/s   04:00 ETA"
       ]
      },
      {
       "output_type": "stream",
       "stream": "stdout",
       "text": [
        "\r",
        "TAF15_1.polyATrim.adapterTrim.rep.bam           9%  989MB  40.5MB/s   03:58 ETA"
       ]
      },
      {
       "output_type": "stream",
       "stream": "stdout",
       "text": [
        "\r",
        "TAF15_1.polyATrim.adapterTrim.rep.bam           9% 1030MB  40.6MB/s   03:56 ETA"
       ]
      },
      {
       "output_type": "stream",
       "stream": "stdout",
       "text": [
        "\r",
        "TAF15_1.polyATrim.adapterTrim.rep.bam           9% 1065MB  40.0MB/s   03:59 ETA"
       ]
      },
      {
       "output_type": "stream",
       "stream": "stdout",
       "text": [
        "\r",
        "TAF15_1.polyATrim.adapterTrim.rep.bam          10% 1106MB  40.1MB/s   03:57 ETA"
       ]
      },
      {
       "output_type": "stream",
       "stream": "stdout",
       "text": [
        "\r",
        "TAF15_1.polyATrim.adapterTrim.rep.bam          10% 1147MB  40.2MB/s   03:56 ETA"
       ]
      },
      {
       "output_type": "stream",
       "stream": "stdout",
       "text": [
        "\r",
        "TAF15_1.polyATrim.adapterTrim.rep.bam          11% 1189MB  40.3MB/s   03:54 ETA"
       ]
      },
      {
       "output_type": "stream",
       "stream": "stdout",
       "text": [
        "\r",
        "TAF15_1.polyATrim.adapterTrim.rep.bam          11% 1217MB  39.1MB/s   04:01 ETA"
       ]
      },
      {
       "output_type": "stream",
       "stream": "stdout",
       "text": [
        "\r",
        "TAF15_1.polyATrim.adapterTrim.rep.bam          11% 1219MB  35.4MB/s   04:26 ETA"
       ]
      },
      {
       "output_type": "stream",
       "stream": "stdout",
       "text": [
        "\r",
        "TAF15_1.polyATrim.adapterTrim.rep.bam          11% 1219MB  31.9MB/s   04:55 ETA"
       ]
      },
      {
       "output_type": "stream",
       "stream": "stdout",
       "text": [
        "\r",
        "TAF15_1.polyATrim.adapterTrim.rep.bam          11% 1219MB  28.7MB/s   05:28 ETA"
       ]
      },
      {
       "output_type": "stream",
       "stream": "stdout",
       "text": [
        "\r",
        "TAF15_1.polyATrim.adapterTrim.rep.bam          11% 1219MB  25.8MB/s   06:05 ETA"
       ]
      },
      {
       "output_type": "stream",
       "stream": "stdout",
       "text": [
        "\r",
        "TAF15_1.polyATrim.adapterTrim.rep.bam          11% 1221MB  23.5MB/s   06:42 ETA"
       ]
      },
      {
       "output_type": "stream",
       "stream": "stdout",
       "text": [
        "\r",
        "TAF15_1.polyATrim.adapterTrim.rep.bam          11% 1221MB  21.1MB/s   07:26 ETA"
       ]
      },
      {
       "output_type": "stream",
       "stream": "stdout",
       "text": [
        "\r",
        "TAF15_1.polyATrim.adapterTrim.rep.bam          11% 1221MB  19.0MB/s   08:16 ETA"
       ]
      },
      {
       "output_type": "stream",
       "stream": "stdout",
       "text": [
        "\r",
        "TAF15_1.polyATrim.adapterTrim.rep.bam          11% 1221MB  17.1MB/s   09:11 ETA"
       ]
      },
      {
       "output_type": "stream",
       "stream": "stdout",
       "text": [
        "\r",
        "TAF15_1.polyATrim.adapterTrim.rep.bam          11% 1221MB  15.4MB/s   10:12 ETA"
       ]
      },
      {
       "output_type": "stream",
       "stream": "stdout",
       "text": [
        "\r",
        "TAF15_1.polyATrim.adapterTrim.rep.bam          11% 1223MB  14.1MB/s   11:10 ETA"
       ]
      },
      {
       "output_type": "stream",
       "stream": "stdout",
       "text": [
        "\r",
        "TAF15_1.polyATrim.adapterTrim.rep.bam          11% 1225MB  12.9MB/s   12:12 ETA"
       ]
      },
      {
       "output_type": "stream",
       "stream": "stdout",
       "text": [
        "\r",
        "TAF15_1.polyATrim.adapterTrim.rep.bam          11% 1265MB  15.5MB/s   10:05 ETA"
       ]
      },
      {
       "output_type": "stream",
       "stream": "stdout",
       "text": [
        "\r",
        "TAF15_1.polyATrim.adapterTrim.rep.bam          12% 1304MB  17.9MB/s   08:42 ETA"
       ]
      },
      {
       "output_type": "stream",
       "stream": "stdout",
       "text": [
        "\r",
        "TAF15_1.polyATrim.adapterTrim.rep.bam          12% 1343MB  20.0MB/s   07:44 ETA"
       ]
      },
      {
       "output_type": "stream",
       "stream": "stdout",
       "text": [
        "\r",
        "TAF15_1.polyATrim.adapterTrim.rep.bam          12% 1370MB  20.7MB/s   07:27 ETA"
       ]
      },
      {
       "output_type": "stream",
       "stream": "stdout",
       "text": [
        "\r",
        "TAF15_1.polyATrim.adapterTrim.rep.bam          12% 1370MB  18.7MB/s   08:17 ETA"
       ]
      },
      {
       "output_type": "stream",
       "stream": "stdout",
       "text": [
        "\r",
        "TAF15_1.polyATrim.adapterTrim.rep.bam          13% 1410MB  20.7MB/s   07:25 ETA"
       ]
      },
      {
       "output_type": "stream",
       "stream": "stdout",
       "text": [
        "\r",
        "TAF15_1.polyATrim.adapterTrim.rep.bam          13% 1449MB  22.6MB/s   06:47 ETA"
       ]
      },
      {
       "output_type": "stream",
       "stream": "stdout",
       "text": [
        "\r",
        "TAF15_1.polyATrim.adapterTrim.rep.bam          13% 1489MB  24.3MB/s   06:17 ETA"
       ]
      },
      {
       "output_type": "stream",
       "stream": "stdout",
       "text": [
        "\r",
        "TAF15_1.polyATrim.adapterTrim.rep.bam          14% 1515MB  24.6MB/s   06:12 ETA"
       ]
      },
      {
       "output_type": "stream",
       "stream": "stdout",
       "text": [
        "\r",
        "TAF15_1.polyATrim.adapterTrim.rep.bam          14% 1516MB  22.2MB/s   06:52 ETA"
       ]
      },
      {
       "output_type": "stream",
       "stream": "stdout",
       "text": [
        "\r",
        "TAF15_1.polyATrim.adapterTrim.rep.bam          14% 1555MB  23.9MB/s   06:21 ETA"
       ]
      },
      {
       "output_type": "stream",
       "stream": "stdout",
       "text": [
        "\r",
        "TAF15_1.polyATrim.adapterTrim.rep.bam          14% 1595MB  25.4MB/s   05:56 ETA"
       ]
      },
      {
       "output_type": "stream",
       "stream": "stdout",
       "text": [
        "\r",
        "TAF15_1.polyATrim.adapterTrim.rep.bam          15% 1634MB  26.8MB/s   05:36 ETA"
       ]
      },
      {
       "output_type": "stream",
       "stream": "stdout",
       "text": [
        "\r",
        "TAF15_1.polyATrim.adapterTrim.rep.bam          15% 1661MB  26.8MB/s   05:35 ETA"
       ]
      },
      {
       "output_type": "stream",
       "stream": "stdout",
       "text": [
        "\r",
        "TAF15_1.polyATrim.adapterTrim.rep.bam          15% 1662MB  24.2MB/s   06:11 ETA"
       ]
      },
      {
       "output_type": "stream",
       "stream": "stdout",
       "text": [
        "\r",
        "TAF15_1.polyATrim.adapterTrim.rep.bam          15% 1695MB  25.1MB/s   05:56 ETA"
       ]
      },
      {
       "output_type": "stream",
       "stream": "stdout",
       "text": [
        "\r",
        "TAF15_1.polyATrim.adapterTrim.rep.bam          16% 1734MB  26.6MB/s   05:35 ETA"
       ]
      },
      {
       "output_type": "stream",
       "stream": "stdout",
       "text": [
        "\r",
        "TAF15_1.polyATrim.adapterTrim.rep.bam          16% 1774MB  27.8MB/s   05:18 ETA"
       ]
      },
      {
       "output_type": "stream",
       "stream": "stdout",
       "text": [
        "\r",
        "TAF15_1.polyATrim.adapterTrim.rep.bam          16% 1801MB  27.7MB/s   05:19 ETA"
       ]
      },
      {
       "output_type": "stream",
       "stream": "stdout",
       "text": [
        "\r",
        "TAF15_1.polyATrim.adapterTrim.rep.bam          16% 1804MB  25.3MB/s   05:50 ETA"
       ]
      },
      {
       "output_type": "stream",
       "stream": "stdout",
       "text": [
        "\r",
        "TAF15_1.polyATrim.adapterTrim.rep.bam          17% 1843MB  26.7MB/s   05:30 ETA"
       ]
      },
      {
       "output_type": "stream",
       "stream": "stdout",
       "text": [
        "\r",
        "TAF15_1.polyATrim.adapterTrim.rep.bam          17% 1876MB  27.3MB/s   05:21 ETA"
       ]
      },
      {
       "output_type": "stream",
       "stream": "stdout",
       "text": [
        "\r",
        "TAF15_1.polyATrim.adapterTrim.rep.bam          17% 1916MB  28.6MB/s   05:05 ETA"
       ]
      },
      {
       "output_type": "stream",
       "stream": "stdout",
       "text": [
        "\r",
        "TAF15_1.polyATrim.adapterTrim.rep.bam          18% 1936MB  27.7MB/s   05:14 ETA"
       ]
      },
      {
       "output_type": "stream",
       "stream": "stdout",
       "text": [
        "\r",
        "TAF15_1.polyATrim.adapterTrim.rep.bam          18% 1940MB  25.4MB/s   05:43 ETA"
       ]
      },
      {
       "output_type": "stream",
       "stream": "stdout",
       "text": [
        "\r",
        "TAF15_1.polyATrim.adapterTrim.rep.bam          18% 1973MB  26.1MB/s   05:31 ETA"
       ]
      },
      {
       "output_type": "stream",
       "stream": "stdout",
       "text": [
        "\r",
        "TAF15_1.polyATrim.adapterTrim.rep.bam          18% 2013MB  27.5MB/s   05:14 ETA"
       ]
      },
      {
       "output_type": "stream",
       "stream": "stdout",
       "text": [
        "\r",
        "TAF15_1.polyATrim.adapterTrim.rep.bam          19% 2047MB  28.2MB/s   05:05 ETA"
       ]
      },
      {
       "output_type": "stream",
       "stream": "stdout",
       "text": [
        "\r",
        "TAF15_1.polyATrim.adapterTrim.rep.bam          19% 2072MB  27.8MB/s   05:08 ETA"
       ]
      },
      {
       "output_type": "stream",
       "stream": "stdout",
       "text": [
        "\r",
        "TAF15_1.polyATrim.adapterTrim.rep.bam          19% 2077MB  25.5MB/s   05:36 ETA"
       ]
      },
      {
       "output_type": "stream",
       "stream": "stdout",
       "text": [
        "\r",
        "TAF15_1.polyATrim.adapterTrim.rep.bam          19% 2110MB  26.3MB/s   05:24 ETA"
       ]
      },
      {
       "output_type": "stream",
       "stream": "stdout",
       "text": [
        "\r",
        "TAF15_1.polyATrim.adapterTrim.rep.bam          20% 2149MB  27.6MB/s   05:08 ETA"
       ]
      },
      {
       "output_type": "stream",
       "stream": "stdout",
       "text": [
        "\r",
        "TAF15_1.polyATrim.adapterTrim.rep.bam          20% 2189MB  28.8MB/s   04:54 ETA"
       ]
      },
      {
       "output_type": "stream",
       "stream": "stdout",
       "text": [
        "\r",
        "TAF15_1.polyATrim.adapterTrim.rep.bam          20% 2215MB  28.5MB/s   04:55 ETA"
       ]
      },
      {
       "output_type": "stream",
       "stream": "stdout",
       "text": [
        "\r",
        "TAF15_1.polyATrim.adapterTrim.rep.bam          20% 2217MB  25.9MB/s   05:25 ETA"
       ]
      },
      {
       "output_type": "stream",
       "stream": "stdout",
       "text": [
        "\r",
        "TAF15_1.polyATrim.adapterTrim.rep.bam          21% 2257MB  27.2MB/s   05:08 ETA"
       ]
      },
      {
       "output_type": "stream",
       "stream": "stdout",
       "text": [
        "\r",
        "TAF15_1.polyATrim.adapterTrim.rep.bam          21% 2296MB  28.4MB/s   04:53 ETA"
       ]
      },
      {
       "output_type": "stream",
       "stream": "stdout",
       "text": [
        "\r",
        "TAF15_1.polyATrim.adapterTrim.rep.bam          21% 2329MB  28.9MB/s   04:48 ETA"
       ]
      },
      {
       "output_type": "stream",
       "stream": "stdout",
       "text": [
        "\r",
        "TAF15_1.polyATrim.adapterTrim.rep.bam          22% 2355MB  28.6MB/s   04:50 ETA"
       ]
      },
      {
       "output_type": "stream",
       "stream": "stdout",
       "text": [
        "\r",
        "TAF15_1.polyATrim.adapterTrim.rep.bam          22% 2358MB  26.1MB/s   05:17 ETA"
       ]
      },
      {
       "output_type": "stream",
       "stream": "stdout",
       "text": [
        "\r",
        "TAF15_1.polyATrim.adapterTrim.rep.bam          22% 2398MB  27.4MB/s   05:00 ETA"
       ]
      },
      {
       "output_type": "stream",
       "stream": "stdout",
       "text": [
        "\r",
        "TAF15_1.polyATrim.adapterTrim.rep.bam          22% 2437MB  28.6MB/s   04:47 ETA"
       ]
      },
      {
       "output_type": "stream",
       "stream": "stdout",
       "text": [
        "\r",
        "TAF15_1.polyATrim.adapterTrim.rep.bam          23% 2470MB  29.1MB/s   04:41 ETA"
       ]
      },
      {
       "output_type": "stream",
       "stream": "stdout",
       "text": [
        "\r",
        "TAF15_1.polyATrim.adapterTrim.rep.bam          23% 2496MB  28.7MB/s   04:43 ETA"
       ]
      },
      {
       "output_type": "stream",
       "stream": "stdout",
       "text": [
        "\r",
        "TAF15_1.polyATrim.adapterTrim.rep.bam          23% 2499MB  26.2MB/s   05:11 ETA"
       ]
      },
      {
       "output_type": "stream",
       "stream": "stdout",
       "text": [
        "\r",
        "TAF15_1.polyATrim.adapterTrim.rep.bam          23% 2538MB  27.4MB/s   04:55 ETA"
       ]
      },
      {
       "output_type": "stream",
       "stream": "stdout",
       "text": [
        "\r",
        "TAF15_1.polyATrim.adapterTrim.rep.bam          24% 2570MB  27.9MB/s   04:49 ETA"
       ]
      },
      {
       "output_type": "stream",
       "stream": "stdout",
       "text": [
        "\r",
        "TAF15_1.polyATrim.adapterTrim.rep.bam          24% 2609MB  29.0MB/s   04:37 ETA"
       ]
      },
      {
       "output_type": "stream",
       "stream": "stdout",
       "text": [
        "\r",
        "TAF15_1.polyATrim.adapterTrim.rep.bam          24% 2634MB  28.6MB/s   04:40 ETA"
       ]
      },
      {
       "output_type": "stream",
       "stream": "stdout",
       "text": [
        "\r",
        "TAF15_1.polyATrim.adapterTrim.rep.bam          24% 2639MB  26.2MB/s   05:05 ETA"
       ]
      },
      {
       "output_type": "stream",
       "stream": "stdout",
       "text": [
        "\r",
        "TAF15_1.polyATrim.adapterTrim.rep.bam          25% 2677MB  27.5MB/s   04:50 ETA"
       ]
      },
      {
       "output_type": "stream",
       "stream": "stdout",
       "text": [
        "\r",
        "TAF15_1.polyATrim.adapterTrim.rep.bam          25% 2716MB  28.6MB/s   04:37 ETA"
       ]
      },
      {
       "output_type": "stream",
       "stream": "stdout",
       "text": [
        "\r",
        "TAF15_1.polyATrim.adapterTrim.rep.bam          25% 2749MB  29.0MB/s   04:32 ETA"
       ]
      },
      {
       "output_type": "stream",
       "stream": "stdout",
       "text": [
        "\r",
        "TAF15_1.polyATrim.adapterTrim.rep.bam          25% 2769MB  28.1MB/s   04:40 ETA"
       ]
      },
      {
       "output_type": "stream",
       "stream": "stdout",
       "text": [
        "\r",
        "TAF15_1.polyATrim.adapterTrim.rep.bam          26% 2774MB  25.8MB/s   05:05 ETA"
       ]
      },
      {
       "output_type": "stream",
       "stream": "stdout",
       "text": [
        "\r",
        "TAF15_1.polyATrim.adapterTrim.rep.bam          26% 2813MB  27.1MB/s   04:49 ETA"
       ]
      },
      {
       "output_type": "stream",
       "stream": "stdout",
       "text": [
        "\r",
        "TAF15_1.polyATrim.adapterTrim.rep.bam          26% 2851MB  28.2MB/s   04:36 ETA"
       ]
      },
      {
       "output_type": "stream",
       "stream": "stdout",
       "text": [
        "\r",
        "TAF15_1.polyATrim.adapterTrim.rep.bam          27% 2890MB  29.3MB/s   04:25 ETA"
       ]
      },
      {
       "output_type": "stream",
       "stream": "stdout",
       "text": [
        "\r",
        "TAF15_1.polyATrim.adapterTrim.rep.bam          27% 2909MB  28.3MB/s   04:33 ETA"
       ]
      },
      {
       "output_type": "stream",
       "stream": "stdout",
       "text": [
        "\r",
        "TAF15_1.polyATrim.adapterTrim.rep.bam          27% 2914MB  25.9MB/s   04:58 ETA"
       ]
      },
      {
       "output_type": "stream",
       "stream": "stdout",
       "text": [
        "\r",
        "TAF15_1.polyATrim.adapterTrim.rep.bam          27% 2946MB  26.6MB/s   04:50 ETA"
       ]
      },
      {
       "output_type": "stream",
       "stream": "stdout",
       "text": [
        "\r",
        "TAF15_1.polyATrim.adapterTrim.rep.bam          28% 2985MB  27.8MB/s   04:35 ETA"
       ]
      },
      {
       "output_type": "stream",
       "stream": "stdout",
       "text": [
        "\r",
        "TAF15_1.polyATrim.adapterTrim.rep.bam          28% 3017MB  28.3MB/s   04:30 ETA"
       ]
      },
      {
       "output_type": "stream",
       "stream": "stdout",
       "text": [
        "\r",
        "TAF15_1.polyATrim.adapterTrim.rep.bam          28% 3042MB  27.9MB/s   04:32 ETA"
       ]
      },
      {
       "output_type": "stream",
       "stream": "stdout",
       "text": [
        "\r",
        "TAF15_1.polyATrim.adapterTrim.rep.bam          28% 3049MB  25.8MB/s   04:54 ETA"
       ]
      },
      {
       "output_type": "stream",
       "stream": "stdout",
       "text": [
        "\r",
        "TAF15_1.polyATrim.adapterTrim.rep.bam          28% 3082MB  26.5MB/s   04:45 ETA"
       ]
      },
      {
       "output_type": "stream",
       "stream": "stdout",
       "text": [
        "\r",
        "TAF15_1.polyATrim.adapterTrim.rep.bam          29% 3121MB  27.7MB/s   04:31 ETA"
       ]
      },
      {
       "output_type": "stream",
       "stream": "stdout",
       "text": [
        "\r",
        "TAF15_1.polyATrim.adapterTrim.rep.bam          29% 3160MB  28.9MB/s   04:19 ETA"
       ]
      },
      {
       "output_type": "stream",
       "stream": "stdout",
       "text": [
        "\r",
        "TAF15_1.polyATrim.adapterTrim.rep.bam          29% 3184MB  28.4MB/s   04:23 ETA"
       ]
      },
      {
       "output_type": "stream",
       "stream": "stdout",
       "text": [
        "\r",
        "TAF15_1.polyATrim.adapterTrim.rep.bam          29% 3186MB  25.8MB/s   04:49 ETA"
       ]
      },
      {
       "output_type": "stream",
       "stream": "stdout",
       "text": [
        "\r",
        "TAF15_1.polyATrim.adapterTrim.rep.bam          30% 3215MB  26.1MB/s   04:45 ETA"
       ]
      },
      {
       "output_type": "stream",
       "stream": "stdout",
       "text": [
        "\r",
        "TAF15_1.polyATrim.adapterTrim.rep.bam          30% 3247MB  26.7MB/s   04:37 ETA"
       ]
      },
      {
       "output_type": "stream",
       "stream": "stdout",
       "text": [
        "\r",
        "TAF15_1.polyATrim.adapterTrim.rep.bam          30% 3286MB  27.9MB/s   04:23 ETA"
       ]
      },
      {
       "output_type": "stream",
       "stream": "stdout",
       "text": [
        "\r",
        "TAF15_1.polyATrim.adapterTrim.rep.bam          31% 3310MB  27.5MB/s   04:26 ETA"
       ]
      },
      {
       "output_type": "stream",
       "stream": "stdout",
       "text": [
        "\r",
        "TAF15_1.polyATrim.adapterTrim.rep.bam          31% 3315MB  25.3MB/s   04:50 ETA"
       ]
      },
      {
       "output_type": "stream",
       "stream": "stdout",
       "text": [
        "\r",
        "TAF15_1.polyATrim.adapterTrim.rep.bam          31% 3352MB  26.5MB/s   04:35 ETA"
       ]
      },
      {
       "output_type": "stream",
       "stream": "stdout",
       "text": [
        "\r",
        "TAF15_1.polyATrim.adapterTrim.rep.bam          31% 3391MB  27.7MB/s   04:21 ETA"
       ]
      },
      {
       "output_type": "stream",
       "stream": "stdout",
       "text": [
        "\r",
        "TAF15_1.polyATrim.adapterTrim.rep.bam          32% 3430MB  28.8MB/s   04:10 ETA"
       ]
      },
      {
       "output_type": "stream",
       "stream": "stdout",
       "text": [
        "\r",
        "TAF15_1.polyATrim.adapterTrim.rep.bam          32% 3451MB  28.1MB/s   04:16 ETA"
       ]
      },
      {
       "output_type": "stream",
       "stream": "stdout",
       "text": [
        "\r",
        "TAF15_1.polyATrim.adapterTrim.rep.bam          32% 3456MB  25.7MB/s   04:39 ETA"
       ]
      },
      {
       "output_type": "stream",
       "stream": "stdout",
       "text": [
        "\r",
        "TAF15_1.polyATrim.adapterTrim.rep.bam          32% 3494MB  27.0MB/s   04:25 ETA"
       ]
      },
      {
       "output_type": "stream",
       "stream": "stdout",
       "text": [
        "\r",
        "TAF15_1.polyATrim.adapterTrim.rep.bam          33% 3533MB  28.1MB/s   04:13 ETA"
       ]
      },
      {
       "output_type": "stream",
       "stream": "stdout",
       "text": [
        "\r",
        "TAF15_1.polyATrim.adapterTrim.rep.bam          33% 3571MB  29.2MB/s   04:02 ETA"
       ]
      },
      {
       "output_type": "stream",
       "stream": "stdout",
       "text": [
        "\r",
        "TAF15_1.polyATrim.adapterTrim.rep.bam          33% 3595MB  28.6MB/s   04:06 ETA"
       ]
      },
      {
       "output_type": "stream",
       "stream": "stdout",
       "text": [
        "\r",
        "TAF15_1.polyATrim.adapterTrim.rep.bam          33% 3600MB  26.2MB/s   04:28 ETA"
       ]
      },
      {
       "output_type": "stream",
       "stream": "stdout",
       "text": [
        "\r",
        "TAF15_1.polyATrim.adapterTrim.rep.bam          34% 3638MB  27.4MB/s   04:15 ETA"
       ]
      },
      {
       "output_type": "stream",
       "stream": "stdout",
       "text": [
        "\r",
        "TAF15_1.polyATrim.adapterTrim.rep.bam          34% 3670MB  28.0MB/s   04:09 ETA"
       ]
      },
      {
       "output_type": "stream",
       "stream": "stdout",
       "text": [
        "\r",
        "TAF15_1.polyATrim.adapterTrim.rep.bam          34% 3710MB  29.1MB/s   03:58 ETA"
       ]
      },
      {
       "output_type": "stream",
       "stream": "stdout",
       "text": [
        "\r",
        "TAF15_1.polyATrim.adapterTrim.rep.bam          35% 3734MB  28.6MB/s   04:02 ETA"
       ]
      },
      {
       "output_type": "stream",
       "stream": "stdout",
       "text": [
        "\r",
        "TAF15_1.polyATrim.adapterTrim.rep.bam          35% 3740MB  26.3MB/s   04:22 ETA"
       ]
      },
      {
       "output_type": "stream",
       "stream": "stdout",
       "text": [
        "\r",
        "TAF15_1.polyATrim.adapterTrim.rep.bam          35% 3778MB  27.6MB/s   04:09 ETA"
       ]
      },
      {
       "output_type": "stream",
       "stream": "stdout",
       "text": [
        "\r",
        "TAF15_1.polyATrim.adapterTrim.rep.bam          35% 3817MB  28.7MB/s   03:58 ETA"
       ]
      },
      {
       "output_type": "stream",
       "stream": "stdout",
       "text": [
        "\r",
        "TAF15_1.polyATrim.adapterTrim.rep.bam          36% 3850MB  29.1MB/s   03:53 ETA"
       ]
      },
      {
       "output_type": "stream",
       "stream": "stdout",
       "text": [
        "\r",
        "TAF15_1.polyATrim.adapterTrim.rep.bam          36% 3873MB  28.5MB/s   03:57 ETA"
       ]
      },
      {
       "output_type": "stream",
       "stream": "stdout",
       "text": [
        "\r",
        "TAF15_1.polyATrim.adapterTrim.rep.bam          36% 3879MB  26.3MB/s   04:17 ETA"
       ]
      },
      {
       "output_type": "stream",
       "stream": "stdout",
       "text": [
        "\r",
        "TAF15_1.polyATrim.adapterTrim.rep.bam          36% 3918MB  27.5MB/s   04:04 ETA"
       ]
      },
      {
       "output_type": "stream",
       "stream": "stdout",
       "text": [
        "\r",
        "TAF15_1.polyATrim.adapterTrim.rep.bam          37% 3957MB  28.7MB/s   03:53 ETA"
       ]
      },
      {
       "output_type": "stream",
       "stream": "stdout",
       "text": [
        "\r",
        "TAF15_1.polyATrim.adapterTrim.rep.bam          37% 3996MB  29.7MB/s   03:44 ETA"
       ]
      },
      {
       "output_type": "stream",
       "stream": "stdout",
       "text": [
        "\r",
        "TAF15_1.polyATrim.adapterTrim.rep.bam          37% 4019MB  29.1MB/s   03:48 ETA"
       ]
      },
      {
       "output_type": "stream",
       "stream": "stdout",
       "text": [
        "\r",
        "TAF15_1.polyATrim.adapterTrim.rep.bam          37% 4023MB  26.5MB/s   04:09 ETA"
       ]
      },
      {
       "output_type": "stream",
       "stream": "stdout",
       "text": [
        "\r",
        "TAF15_1.polyATrim.adapterTrim.rep.bam          38% 4056MB  27.1MB/s   04:03 ETA"
       ]
      },
      {
       "output_type": "stream",
       "stream": "stdout",
       "text": [
        "\r",
        "TAF15_1.polyATrim.adapterTrim.rep.bam          38% 4095MB  28.3MB/s   03:51 ETA"
       ]
      },
      {
       "output_type": "stream",
       "stream": "stdout",
       "text": [
        "\r",
        "TAF15_1.polyATrim.adapterTrim.rep.bam          38% 4133MB  29.3MB/s   03:42 ETA"
       ]
      },
      {
       "output_type": "stream",
       "stream": "stdout",
       "text": [
        "\r",
        "TAF15_1.polyATrim.adapterTrim.rep.bam          39% 4156MB  28.7MB/s   03:46 ETA"
       ]
      },
      {
       "output_type": "stream",
       "stream": "stdout",
       "text": [
        "\r",
        "TAF15_1.polyATrim.adapterTrim.rep.bam          39% 4163MB  26.5MB/s   04:04 ETA"
       ]
      },
      {
       "output_type": "stream",
       "stream": "stdout",
       "text": [
        "\r",
        "TAF15_1.polyATrim.adapterTrim.rep.bam          39% 4202MB  27.8MB/s   03:52 ETA"
       ]
      },
      {
       "output_type": "stream",
       "stream": "stdout",
       "text": [
        "\r",
        "TAF15_1.polyATrim.adapterTrim.rep.bam          39% 4240MB  28.8MB/s   03:42 ETA"
       ]
      },
      {
       "output_type": "stream",
       "stream": "stdout",
       "text": [
        "\r",
        "TAF15_1.polyATrim.adapterTrim.rep.bam          40% 4273MB  29.2MB/s   03:38 ETA"
       ]
      },
      {
       "output_type": "stream",
       "stream": "stdout",
       "text": [
        "\r",
        "TAF15_1.polyATrim.adapterTrim.rep.bam          40% 4296MB  28.6MB/s   03:42 ETA"
       ]
      },
      {
       "output_type": "stream",
       "stream": "stdout",
       "text": [
        "\r",
        "TAF15_1.polyATrim.adapterTrim.rep.bam          40% 4302MB  26.4MB/s   04:00 ETA"
       ]
      },
      {
       "output_type": "stream",
       "stream": "stdout",
       "text": [
        "\r",
        "TAF15_1.polyATrim.adapterTrim.rep.bam          40% 4341MB  27.6MB/s   03:48 ETA"
       ]
      },
      {
       "output_type": "stream",
       "stream": "stdout",
       "text": [
        "\r",
        "TAF15_1.polyATrim.adapterTrim.rep.bam          41% 4380MB  28.7MB/s   03:38 ETA"
       ]
      },
      {
       "output_type": "stream",
       "stream": "stdout",
       "text": [
        "\r",
        "TAF15_1.polyATrim.adapterTrim.rep.bam          41% 4418MB  29.7MB/s   03:29 ETA"
       ]
      },
      {
       "output_type": "stream",
       "stream": "stdout",
       "text": [
        "\r",
        "TAF15_1.polyATrim.adapterTrim.rep.bam          41% 4441MB  29.0MB/s   03:34 ETA"
       ]
      },
      {
       "output_type": "stream",
       "stream": "stdout",
       "text": [
        "\r",
        "TAF15_1.polyATrim.adapterTrim.rep.bam          41% 4446MB  26.6MB/s   03:53 ETA"
       ]
      },
      {
       "output_type": "stream",
       "stream": "stdout",
       "text": [
        "\r",
        "TAF15_1.polyATrim.adapterTrim.rep.bam          42% 4479MB  27.2MB/s   03:47 ETA"
       ]
      },
      {
       "output_type": "stream",
       "stream": "stdout",
       "text": [
        "\r",
        "TAF15_1.polyATrim.adapterTrim.rep.bam          42% 4517MB  28.3MB/s   03:36 ETA"
       ]
      },
      {
       "output_type": "stream",
       "stream": "stdout",
       "text": [
        "\r",
        "TAF15_1.polyATrim.adapterTrim.rep.bam          42% 4556MB  29.4MB/s   03:27 ETA"
       ]
      },
      {
       "output_type": "stream",
       "stream": "stdout",
       "text": [
        "\r",
        "TAF15_1.polyATrim.adapterTrim.rep.bam          42% 4578MB  28.7MB/s   03:32 ETA"
       ]
      },
      {
       "output_type": "stream",
       "stream": "stdout",
       "text": [
        "\r",
        "TAF15_1.polyATrim.adapterTrim.rep.bam          43% 4586MB  26.6MB/s   03:48 ETA"
       ]
      },
      {
       "output_type": "stream",
       "stream": "stdout",
       "text": [
        "\r",
        "TAF15_1.polyATrim.adapterTrim.rep.bam          43% 4624MB  27.8MB/s   03:37 ETA"
       ]
      },
      {
       "output_type": "stream",
       "stream": "stdout",
       "text": [
        "\r",
        "TAF15_1.polyATrim.adapterTrim.rep.bam          43% 4657MB  28.2MB/s   03:32 ETA"
       ]
      },
      {
       "output_type": "stream",
       "stream": "stdout",
       "text": [
        "\r",
        "TAF15_1.polyATrim.adapterTrim.rep.bam          44% 4695MB  29.3MB/s   03:23 ETA"
       ]
      },
      {
       "output_type": "stream",
       "stream": "stdout",
       "text": [
        "\r",
        "TAF15_1.polyATrim.adapterTrim.rep.bam          44% 4718MB  28.6MB/s   03:27 ETA"
       ]
      },
      {
       "output_type": "stream",
       "stream": "stdout",
       "text": [
        "\r",
        "TAF15_1.polyATrim.adapterTrim.rep.bam          44% 4725MB  26.4MB/s   03:44 ETA"
       ]
      },
      {
       "output_type": "stream",
       "stream": "stdout",
       "text": [
        "\r",
        "TAF15_1.polyATrim.adapterTrim.rep.bam          44% 4758MB  27.1MB/s   03:37 ETA"
       ]
      },
      {
       "output_type": "stream",
       "stream": "stdout",
       "text": [
        "\r",
        "TAF15_1.polyATrim.adapterTrim.rep.bam          45% 4797MB  28.3MB/s   03:27 ETA"
       ]
      },
      {
       "output_type": "stream",
       "stream": "stdout",
       "text": [
        "\r",
        "TAF15_1.polyATrim.adapterTrim.rep.bam          45% 4836MB  29.3MB/s   03:18 ETA"
       ]
      },
      {
       "output_type": "stream",
       "stream": "stdout",
       "text": [
        "\r",
        "TAF15_1.polyATrim.adapterTrim.rep.bam          45% 4858MB  28.6MB/s   03:22 ETA"
       ]
      },
      {
       "output_type": "stream",
       "stream": "stdout",
       "text": [
        "\r",
        "TAF15_1.polyATrim.adapterTrim.rep.bam          45% 4865MB  26.5MB/s   03:38 ETA"
       ]
      },
      {
       "output_type": "stream",
       "stream": "stdout",
       "text": [
        "\r",
        "TAF15_1.polyATrim.adapterTrim.rep.bam          46% 4904MB  27.7MB/s   03:27 ETA"
       ]
      },
      {
       "output_type": "stream",
       "stream": "stdout",
       "text": [
        "\r",
        "TAF15_1.polyATrim.adapterTrim.rep.bam          46% 4943MB  28.9MB/s   03:17 ETA"
       ]
      },
      {
       "output_type": "stream",
       "stream": "stdout",
       "text": [
        "\r",
        "TAF15_1.polyATrim.adapterTrim.rep.bam          46% 4982MB  29.9MB/s   03:09 ETA"
       ]
      },
      {
       "output_type": "stream",
       "stream": "stdout",
       "text": [
        "\r",
        "TAF15_1.polyATrim.adapterTrim.rep.bam          46% 5004MB  29.1MB/s   03:14 ETA"
       ]
      },
      {
       "output_type": "stream",
       "stream": "stdout",
       "text": [
        "\r",
        "TAF15_1.polyATrim.adapterTrim.rep.bam          47% 5009MB  26.7MB/s   03:31 ETA"
       ]
      },
      {
       "output_type": "stream",
       "stream": "stdout",
       "text": [
        "\r",
        "TAF15_1.polyATrim.adapterTrim.rep.bam          47% 5048MB  27.9MB/s   03:20 ETA"
       ]
      },
      {
       "output_type": "stream",
       "stream": "stdout",
       "text": [
        "\r",
        "TAF15_1.polyATrim.adapterTrim.rep.bam          47% 5087MB  29.0MB/s   03:11 ETA"
       ]
      },
      {
       "output_type": "stream",
       "stream": "stdout",
       "text": [
        "\r",
        "TAF15_1.polyATrim.adapterTrim.rep.bam          48% 5126MB  30.0MB/s   03:04 ETA"
       ]
      },
      {
       "output_type": "stream",
       "stream": "stdout",
       "text": [
        "\r",
        "TAF15_1.polyATrim.adapterTrim.rep.bam          48% 5148MB  29.2MB/s   03:08 ETA"
       ]
      },
      {
       "output_type": "stream",
       "stream": "stdout",
       "text": [
        "\r",
        "TAF15_1.polyATrim.adapterTrim.rep.bam          48% 5154MB  26.9MB/s   03:24 ETA"
       ]
      },
      {
       "output_type": "stream",
       "stream": "stdout",
       "text": [
        "\r",
        "TAF15_1.polyATrim.adapterTrim.rep.bam          48% 5193MB  28.1MB/s   03:14 ETA"
       ]
      },
      {
       "output_type": "stream",
       "stream": "stdout",
       "text": [
        "\r",
        "TAF15_1.polyATrim.adapterTrim.rep.bam          49% 5232MB  29.2MB/s   03:05 ETA"
       ]
      },
      {
       "output_type": "stream",
       "stream": "stdout",
       "text": [
        "\r",
        "TAF15_1.polyATrim.adapterTrim.rep.bam          49% 5271MB  30.2MB/s   02:58 ETA"
       ]
      },
      {
       "output_type": "stream",
       "stream": "stdout",
       "text": [
        "\r",
        "TAF15_1.polyATrim.adapterTrim.rep.bam          49% 5292MB  29.3MB/s   03:02 ETA"
       ]
      },
      {
       "output_type": "stream",
       "stream": "stdout",
       "text": [
        "\r",
        "TAF15_1.polyATrim.adapterTrim.rep.bam          49% 5298MB  27.0MB/s   03:18 ETA"
       ]
      },
      {
       "output_type": "stream",
       "stream": "stdout",
       "text": [
        "\r",
        "TAF15_1.polyATrim.adapterTrim.rep.bam          50% 5337MB  28.1MB/s   03:08 ETA"
       ]
      },
      {
       "output_type": "stream",
       "stream": "stdout",
       "text": [
        "\r",
        "TAF15_1.polyATrim.adapterTrim.rep.bam          50% 5369MB  28.6MB/s   03:05 ETA"
       ]
      },
      {
       "output_type": "stream",
       "stream": "stdout",
       "text": [
        "\r",
        "TAF15_1.polyATrim.adapterTrim.rep.bam          50% 5408MB  29.6MB/s   02:57 ETA"
       ]
      },
      {
       "output_type": "stream",
       "stream": "stdout",
       "text": [
        "\r",
        "TAF15_1.polyATrim.adapterTrim.rep.bam          50% 5429MB  28.7MB/s   03:01 ETA"
       ]
      },
      {
       "output_type": "stream",
       "stream": "stdout",
       "text": [
        "\r",
        "TAF15_1.polyATrim.adapterTrim.rep.bam          51% 5438MB  26.8MB/s   03:14 ETA"
       ]
      },
      {
       "output_type": "stream",
       "stream": "stdout",
       "text": [
        "\r",
        "TAF15_1.polyATrim.adapterTrim.rep.bam          51% 5471MB  27.4MB/s   03:09 ETA"
       ]
      },
      {
       "output_type": "stream",
       "stream": "stdout",
       "text": [
        "\r",
        "TAF15_1.polyATrim.adapterTrim.rep.bam          51% 5510MB  28.5MB/s   03:00 ETA"
       ]
      },
      {
       "output_type": "stream",
       "stream": "stdout",
       "text": [
        "\r",
        "TAF15_1.polyATrim.adapterTrim.rep.bam          52% 5542MB  28.9MB/s   02:56 ETA"
       ]
      },
      {
       "output_type": "stream",
       "stream": "stdout",
       "text": [
        "\r",
        "TAF15_1.polyATrim.adapterTrim.rep.bam          52% 5557MB  27.5MB/s   03:05 ETA"
       ]
      },
      {
       "output_type": "stream",
       "stream": "stdout",
       "text": [
        "\r",
        "TAF15_1.polyATrim.adapterTrim.rep.bam          52% 5569MB  26.0MB/s   03:15 ETA"
       ]
      },
      {
       "output_type": "stream",
       "stream": "stdout",
       "text": [
        "\r",
        "TAF15_1.polyATrim.adapterTrim.rep.bam          52% 5608MB  27.3MB/s   03:05 ETA"
       ]
      },
      {
       "output_type": "stream",
       "stream": "stdout",
       "text": [
        "\r",
        "TAF15_1.polyATrim.adapterTrim.rep.bam          53% 5647MB  28.4MB/s   02:56 ETA"
       ]
      },
      {
       "output_type": "stream",
       "stream": "stdout",
       "text": [
        "\r",
        "TAF15_1.polyATrim.adapterTrim.rep.bam          53% 5686MB  29.5MB/s   02:48 ETA"
       ]
      },
      {
       "output_type": "stream",
       "stream": "stdout",
       "text": [
        "\r",
        "TAF15_1.polyATrim.adapterTrim.rep.bam          53% 5707MB  28.6MB/s   02:53 ETA"
       ]
      },
      {
       "output_type": "stream",
       "stream": "stdout",
       "text": [
        "\r",
        "TAF15_1.polyATrim.adapterTrim.rep.bam          53% 5712MB  26.2MB/s   03:08 ETA"
       ]
      },
      {
       "output_type": "stream",
       "stream": "stdout",
       "text": [
        "\r",
        "TAF15_1.polyATrim.adapterTrim.rep.bam          53% 5751MB  27.5MB/s   02:58 ETA"
       ]
      },
      {
       "output_type": "stream",
       "stream": "stdout",
       "text": [
        "\r",
        "TAF15_1.polyATrim.adapterTrim.rep.bam          54% 5788MB  28.5MB/s   02:50 ETA"
       ]
      },
      {
       "output_type": "stream",
       "stream": "stdout",
       "text": [
        "\r",
        "TAF15_1.polyATrim.adapterTrim.rep.bam          54% 5822MB  29.0MB/s   02:46 ETA"
       ]
      },
      {
       "output_type": "stream",
       "stream": "stdout",
       "text": [
        "\r",
        "TAF15_1.polyATrim.adapterTrim.rep.bam          54% 5842MB  28.2MB/s   02:50 ETA"
       ]
      },
      {
       "output_type": "stream",
       "stream": "stdout",
       "text": [
        "\r",
        "TAF15_1.polyATrim.adapterTrim.rep.bam          54% 5852MB  26.4MB/s   03:02 ETA"
       ]
      },
      {
       "output_type": "stream",
       "stream": "stdout",
       "text": [
        "\r",
        "TAF15_1.polyATrim.adapterTrim.rep.bam          55% 5892MB  27.6MB/s   02:52 ETA"
       ]
      },
      {
       "output_type": "stream",
       "stream": "stdout",
       "text": [
        "\r",
        "TAF15_1.polyATrim.adapterTrim.rep.bam          55% 5924MB  28.1MB/s   02:48 ETA"
       ]
      },
      {
       "output_type": "stream",
       "stream": "stdout",
       "text": [
        "\r",
        "TAF15_1.polyATrim.adapterTrim.rep.bam          55% 5957MB  28.6MB/s   02:44 ETA"
       ]
      },
      {
       "output_type": "stream",
       "stream": "stdout",
       "text": [
        "\r",
        "TAF15_1.polyATrim.adapterTrim.rep.bam          56% 5977MB  27.8MB/s   02:48 ETA"
       ]
      },
      {
       "output_type": "stream",
       "stream": "stdout",
       "text": [
        "\r",
        "TAF15_1.polyATrim.adapterTrim.rep.bam          56% 5988MB  26.1MB/s   02:59 ETA"
       ]
      },
      {
       "output_type": "stream",
       "stream": "stdout",
       "text": [
        "\r",
        "TAF15_1.polyATrim.adapterTrim.rep.bam          56% 6027MB  27.3MB/s   02:49 ETA"
       ]
      },
      {
       "output_type": "stream",
       "stream": "stdout",
       "text": [
        "\r",
        "TAF15_1.polyATrim.adapterTrim.rep.bam          56% 6065MB  28.5MB/s   02:41 ETA"
       ]
      },
      {
       "output_type": "stream",
       "stream": "stdout",
       "text": [
        "\r",
        "TAF15_1.polyATrim.adapterTrim.rep.bam          57% 6104MB  29.5MB/s   02:34 ETA"
       ]
      },
      {
       "output_type": "stream",
       "stream": "stdout",
       "text": [
        "\r",
        "TAF15_1.polyATrim.adapterTrim.rep.bam          57% 6124MB  28.6MB/s   02:38 ETA"
       ]
      },
      {
       "output_type": "stream",
       "stream": "stdout",
       "text": [
        "\r",
        "TAF15_1.polyATrim.adapterTrim.rep.bam          57% 6131MB  26.4MB/s   02:51 ETA"
       ]
      },
      {
       "output_type": "stream",
       "stream": "stdout",
       "text": [
        "\r",
        "TAF15_1.polyATrim.adapterTrim.rep.bam          57% 6170MB  27.6MB/s   02:42 ETA"
       ]
      },
      {
       "output_type": "stream",
       "stream": "stdout",
       "text": [
        "\r",
        "TAF15_1.polyATrim.adapterTrim.rep.bam          58% 6209MB  28.8MB/s   02:34 ETA"
       ]
      },
      {
       "output_type": "stream",
       "stream": "stdout",
       "text": [
        "\r",
        "TAF15_1.polyATrim.adapterTrim.rep.bam          58% 6248MB  29.8MB/s   02:27 ETA"
       ]
      },
      {
       "output_type": "stream",
       "stream": "stdout",
       "text": [
        "\r",
        "TAF15_1.polyATrim.adapterTrim.rep.bam          58% 6270MB  29.0MB/s   02:31 ETA"
       ]
      },
      {
       "output_type": "stream",
       "stream": "stdout",
       "text": [
        "\r",
        "TAF15_1.polyATrim.adapterTrim.rep.bam          58% 6277MB  26.8MB/s   02:43 ETA"
       ]
      },
      {
       "output_type": "stream",
       "stream": "stdout",
       "text": [
        "\r",
        "TAF15_1.polyATrim.adapterTrim.rep.bam          59% 6316MB  28.0MB/s   02:34 ETA"
       ]
      },
      {
       "output_type": "stream",
       "stream": "stdout",
       "text": [
        "\r",
        "TAF15_1.polyATrim.adapterTrim.rep.bam          59% 6355MB  29.1MB/s   02:27 ETA"
       ]
      },
      {
       "output_type": "stream",
       "stream": "stdout",
       "text": [
        "\r",
        "TAF15_1.polyATrim.adapterTrim.rep.bam          59% 6388MB  29.5MB/s   02:24 ETA"
       ]
      },
      {
       "output_type": "stream",
       "stream": "stdout",
       "text": [
        "\r",
        "TAF15_1.polyATrim.adapterTrim.rep.bam          60% 6401MB  27.9MB/s   02:32 ETA"
       ]
      },
      {
       "output_type": "stream",
       "stream": "stdout",
       "text": [
        "\r",
        "TAF15_1.polyATrim.adapterTrim.rep.bam          60% 6413MB  26.3MB/s   02:41 ETA"
       ]
      },
      {
       "output_type": "stream",
       "stream": "stdout",
       "text": [
        "\r",
        "TAF15_1.polyATrim.adapterTrim.rep.bam          60% 6445MB  26.9MB/s   02:36 ETA"
       ]
      },
      {
       "output_type": "stream",
       "stream": "stdout",
       "text": [
        "\r",
        "TAF15_1.polyATrim.adapterTrim.rep.bam          60% 6478MB  27.5MB/s   02:32 ETA"
       ]
      },
      {
       "output_type": "stream",
       "stream": "stdout",
       "text": [
        "\r",
        "TAF15_1.polyATrim.adapterTrim.rep.bam          61% 6504MB  27.4MB/s   02:31 ETA"
       ]
      },
      {
       "output_type": "stream",
       "stream": "stdout",
       "text": [
        "\r",
        "TAF15_1.polyATrim.adapterTrim.rep.bam          61% 6524MB  26.6MB/s   02:35 ETA"
       ]
      },
      {
       "output_type": "stream",
       "stream": "stdout",
       "text": [
        "\r",
        "TAF15_1.polyATrim.adapterTrim.rep.bam          61% 6539MB  25.5MB/s   02:41 ETA"
       ]
      },
      {
       "output_type": "stream",
       "stream": "stdout",
       "text": [
        "\r",
        "TAF15_1.polyATrim.adapterTrim.rep.bam          61% 6578MB  26.8MB/s   02:31 ETA"
       ]
      },
      {
       "output_type": "stream",
       "stream": "stdout",
       "text": [
        "\r",
        "TAF15_1.polyATrim.adapterTrim.rep.bam          62% 6617MB  28.0MB/s   02:24 ETA"
       ]
      },
      {
       "output_type": "stream",
       "stream": "stdout",
       "text": [
        "\r",
        "TAF15_1.polyATrim.adapterTrim.rep.bam          62% 6656MB  29.1MB/s   02:17 ETA"
       ]
      },
      {
       "output_type": "stream",
       "stream": "stdout",
       "text": [
        "\r",
        "TAF15_1.polyATrim.adapterTrim.rep.bam          62% 6675MB  28.1MB/s   02:21 ETA"
       ]
      },
      {
       "output_type": "stream",
       "stream": "stdout",
       "text": [
        "\r",
        "TAF15_1.polyATrim.adapterTrim.rep.bam          62% 6681MB  25.9MB/s   02:33 ETA"
       ]
      },
      {
       "output_type": "stream",
       "stream": "stdout",
       "text": [
        "\r",
        "TAF15_1.polyATrim.adapterTrim.rep.bam          63% 6720MB  27.2MB/s   02:24 ETA"
       ]
      },
      {
       "output_type": "stream",
       "stream": "stdout",
       "text": [
        "\r",
        "TAF15_1.polyATrim.adapterTrim.rep.bam          63% 6753MB  27.8MB/s   02:20 ETA"
       ]
      },
      {
       "output_type": "stream",
       "stream": "stdout",
       "text": [
        "\r",
        "TAF15_1.polyATrim.adapterTrim.rep.bam          63% 6792MB  28.9MB/s   02:13 ETA"
       ]
      },
      {
       "output_type": "stream",
       "stream": "stdout",
       "text": [
        "\r",
        "TAF15_1.polyATrim.adapterTrim.rep.bam          63% 6811MB  27.9MB/s   02:17 ETA"
       ]
      },
      {
       "output_type": "stream",
       "stream": "stdout",
       "text": [
        "\r",
        "TAF15_1.polyATrim.adapterTrim.rep.bam          64% 6822MB  26.2MB/s   02:26 ETA"
       ]
      },
      {
       "output_type": "stream",
       "stream": "stdout",
       "text": [
        "\r",
        "TAF15_1.polyATrim.adapterTrim.rep.bam          64% 6855MB  26.9MB/s   02:21 ETA"
       ]
      },
      {
       "output_type": "stream",
       "stream": "stdout",
       "text": [
        "\r",
        "TAF15_1.polyATrim.adapterTrim.rep.bam          64% 6894MB  28.1MB/s   02:13 ETA"
       ]
      },
      {
       "output_type": "stream",
       "stream": "stdout",
       "text": [
        "\r",
        "TAF15_1.polyATrim.adapterTrim.rep.bam          65% 6933MB  29.2MB/s   02:07 ETA"
       ]
      },
      {
       "output_type": "stream",
       "stream": "stdout",
       "text": [
        "\r",
        "TAF15_1.polyATrim.adapterTrim.rep.bam          65% 6952MB  28.2MB/s   02:11 ETA"
       ]
      },
      {
       "output_type": "stream",
       "stream": "stdout",
       "text": [
        "\r",
        "TAF15_1.polyATrim.adapterTrim.rep.bam          65% 6962MB  26.3MB/s   02:20 ETA"
       ]
      },
      {
       "output_type": "stream",
       "stream": "stdout",
       "text": [
        "\r",
        "TAF15_1.polyATrim.adapterTrim.rep.bam          65% 7001MB  27.6MB/s   02:12 ETA"
       ]
      },
      {
       "output_type": "stream",
       "stream": "stdout",
       "text": [
        "\r",
        "TAF15_1.polyATrim.adapterTrim.rep.bam          66% 7040MB  28.8MB/s   02:05 ETA"
       ]
      },
      {
       "output_type": "stream",
       "stream": "stdout",
       "text": [
        "\r",
        "TAF15_1.polyATrim.adapterTrim.rep.bam          66% 7079MB  29.8MB/s   01:59 ETA"
       ]
      },
      {
       "output_type": "stream",
       "stream": "stdout",
       "text": [
        "\r",
        "TAF15_1.polyATrim.adapterTrim.rep.bam          66% 7098MB  28.7MB/s   02:03 ETA"
       ]
      },
      {
       "output_type": "stream",
       "stream": "stdout",
       "text": [
        "\r",
        "TAF15_1.polyATrim.adapterTrim.rep.bam          66% 7108MB  26.8MB/s   02:12 ETA"
       ]
      },
      {
       "output_type": "stream",
       "stream": "stdout",
       "text": [
        "\r",
        "TAF15_1.polyATrim.adapterTrim.rep.bam          67% 7150MB  28.3MB/s   02:03 ETA"
       ]
      },
      {
       "output_type": "stream",
       "stream": "stdout",
       "text": [
        "\r",
        "TAF15_1.polyATrim.adapterTrim.rep.bam          67% 7192MB  29.7MB/s   01:56 ETA"
       ]
      },
      {
       "output_type": "stream",
       "stream": "stdout",
       "text": [
        "\r",
        "TAF15_1.polyATrim.adapterTrim.rep.bam          67% 7234MB  30.9MB/s   01:50 ETA"
       ]
      },
      {
       "output_type": "stream",
       "stream": "stdout",
       "text": [
        "\r",
        "TAF15_1.polyATrim.adapterTrim.rep.bam          68% 7254MB  29.8MB/s   01:53 ETA"
       ]
      },
      {
       "output_type": "stream",
       "stream": "stdout",
       "text": [
        "\r",
        "TAF15_1.polyATrim.adapterTrim.rep.bam          68% 7260MB  27.4MB/s   02:03 ETA"
       ]
      },
      {
       "output_type": "stream",
       "stream": "stdout",
       "text": [
        "\r",
        "TAF15_1.polyATrim.adapterTrim.rep.bam          68% 7302MB  28.9MB/s   01:55 ETA"
       ]
      },
      {
       "output_type": "stream",
       "stream": "stdout",
       "text": [
        "\r",
        "TAF15_1.polyATrim.adapterTrim.rep.bam          68% 7344MB  30.2MB/s   01:49 ETA"
       ]
      },
      {
       "output_type": "stream",
       "stream": "stdout",
       "text": [
        "\r",
        "TAF15_1.polyATrim.adapterTrim.rep.bam          69% 7386MB  31.4MB/s   01:44 ETA"
       ]
      },
      {
       "output_type": "stream",
       "stream": "stdout",
       "text": [
        "\r",
        "TAF15_1.polyATrim.adapterTrim.rep.bam          69% 7406MB  29.3MB/s   01:51 ETA"
       ]
      },
      {
       "output_type": "stream",
       "stream": "stdout",
       "text": [
        "\r",
        "TAF15_1.polyATrim.adapterTrim.rep.bam          69% 7412MB  27.0MB/s   02:00 ETA"
       ]
      },
      {
       "output_type": "stream",
       "stream": "stdout",
       "text": [
        "\r",
        "TAF15_1.polyATrim.adapterTrim.rep.bam          69% 7451MB  28.1MB/s   01:53 ETA"
       ]
      },
      {
       "output_type": "stream",
       "stream": "stdout",
       "text": [
        "\r",
        "TAF15_1.polyATrim.adapterTrim.rep.bam          70% 7489MB  29.2MB/s   01:48 ETA"
       ]
      },
      {
       "output_type": "stream",
       "stream": "stdout",
       "text": [
        "\r",
        "TAF15_1.polyATrim.adapterTrim.rep.bam          70% 7528MB  30.2MB/s   01:43 ETA"
       ]
      },
      {
       "output_type": "stream",
       "stream": "stdout",
       "text": [
        "\r",
        "TAF15_1.polyATrim.adapterTrim.rep.bam          70% 7546MB  29.0MB/s   01:47 ETA"
       ]
      },
      {
       "output_type": "stream",
       "stream": "stdout",
       "text": [
        "\r",
        "TAF15_1.polyATrim.adapterTrim.rep.bam          70% 7557MB  27.1MB/s   01:54 ETA"
       ]
      },
      {
       "output_type": "stream",
       "stream": "stdout",
       "text": [
        "\r",
        "TAF15_1.polyATrim.adapterTrim.rep.bam          71% 7596MB  28.3MB/s   01:47 ETA"
       ]
      },
      {
       "output_type": "stream",
       "stream": "stdout",
       "text": [
        "\r",
        "TAF15_1.polyATrim.adapterTrim.rep.bam          71% 7635MB  29.4MB/s   01:42 ETA"
       ]
      },
      {
       "output_type": "stream",
       "stream": "stdout",
       "text": [
        "\r",
        "TAF15_1.polyATrim.adapterTrim.rep.bam          72% 7674MB  30.4MB/s   01:38 ETA"
       ]
      },
      {
       "output_type": "stream",
       "stream": "stdout",
       "text": [
        "\r",
        "TAF15_1.polyATrim.adapterTrim.rep.bam          72% 7692MB  29.1MB/s   01:41 ETA"
       ]
      },
      {
       "output_type": "stream",
       "stream": "stdout",
       "text": [
        "\r",
        "TAF15_1.polyATrim.adapterTrim.rep.bam          72% 7701MB  27.1MB/s   01:48 ETA"
       ]
      },
      {
       "output_type": "stream",
       "stream": "stdout",
       "text": [
        "\r",
        "TAF15_1.polyATrim.adapterTrim.rep.bam          72% 7740MB  28.3MB/s   01:43 ETA"
       ]
      },
      {
       "output_type": "stream",
       "stream": "stdout",
       "text": [
        "\r",
        "TAF15_1.polyATrim.adapterTrim.rep.bam          73% 7778MB  29.3MB/s   01:38 ETA"
       ]
      },
      {
       "output_type": "stream",
       "stream": "stdout",
       "text": [
        "\r",
        "TAF15_1.polyATrim.adapterTrim.rep.bam          73% 7817MB  30.2MB/s   01:33 ETA"
       ]
      },
      {
       "output_type": "stream",
       "stream": "stdout",
       "text": [
        "\r",
        "TAF15_1.polyATrim.adapterTrim.rep.bam          73% 7835MB  29.0MB/s   01:37 ETA"
       ]
      },
      {
       "output_type": "stream",
       "stream": "stdout",
       "text": [
        "\r",
        "TAF15_1.polyATrim.adapterTrim.rep.bam          73% 7845MB  27.1MB/s   01:43 ETA"
       ]
      },
      {
       "output_type": "stream",
       "stream": "stdout",
       "text": [
        "\r",
        "TAF15_1.polyATrim.adapterTrim.rep.bam          74% 7884MB  28.3MB/s   01:37 ETA"
       ]
      },
      {
       "output_type": "stream",
       "stream": "stdout",
       "text": [
        "\r",
        "TAF15_1.polyATrim.adapterTrim.rep.bam          74% 7923MB  29.4MB/s   01:32 ETA"
       ]
      },
      {
       "output_type": "stream",
       "stream": "stdout",
       "text": [
        "\r",
        "TAF15_1.polyATrim.adapterTrim.rep.bam          74% 7962MB  30.4MB/s   01:28 ETA"
       ]
      },
      {
       "output_type": "stream",
       "stream": "stdout",
       "text": [
        "\r",
        "TAF15_1.polyATrim.adapterTrim.rep.bam          74% 7980MB  29.1MB/s   01:31 ETA"
       ]
      },
      {
       "output_type": "stream",
       "stream": "stdout",
       "text": [
        "\r",
        "TAF15_1.polyATrim.adapterTrim.rep.bam          75% 7990MB  27.2MB/s   01:38 ETA"
       ]
      },
      {
       "output_type": "stream",
       "stream": "stdout",
       "text": [
        "\r",
        "TAF15_1.polyATrim.adapterTrim.rep.bam          75% 8028MB  28.3MB/s   01:32 ETA"
       ]
      },
      {
       "output_type": "stream",
       "stream": "stdout",
       "text": [
        "\r",
        "TAF15_1.polyATrim.adapterTrim.rep.bam          75% 8067MB  29.4MB/s   01:28 ETA"
       ]
      },
      {
       "output_type": "stream",
       "stream": "stdout",
       "text": [
        "\r",
        "TAF15_1.polyATrim.adapterTrim.rep.bam          76% 8106MB  30.3MB/s   01:24 ETA"
       ]
      },
      {
       "output_type": "stream",
       "stream": "stdout",
       "text": [
        "\r",
        "TAF15_1.polyATrim.adapterTrim.rep.bam          76% 8123MB  29.0MB/s   01:27 ETA"
       ]
      },
      {
       "output_type": "stream",
       "stream": "stdout",
       "text": [
        "\r",
        "TAF15_1.polyATrim.adapterTrim.rep.bam          76% 8133MB  27.1MB/s   01:32 ETA"
       ]
      },
      {
       "output_type": "stream",
       "stream": "stdout",
       "text": [
        "\r",
        "TAF15_1.polyATrim.adapterTrim.rep.bam          76% 8172MB  28.3MB/s   01:27 ETA"
       ]
      },
      {
       "output_type": "stream",
       "stream": "stdout",
       "text": [
        "\r",
        "TAF15_1.polyATrim.adapterTrim.rep.bam          77% 8211MB  29.4MB/s   01:23 ETA"
       ]
      },
      {
       "output_type": "stream",
       "stream": "stdout",
       "text": [
        "\r",
        "TAF15_1.polyATrim.adapterTrim.rep.bam          77% 8250MB  30.4MB/s   01:19 ETA"
       ]
      },
      {
       "output_type": "stream",
       "stream": "stdout",
       "text": [
        "\r",
        "TAF15_1.polyATrim.adapterTrim.rep.bam          77% 8268MB  29.0MB/s   01:22 ETA"
       ]
      },
      {
       "output_type": "stream",
       "stream": "stdout",
       "text": [
        "\r",
        "TAF15_1.polyATrim.adapterTrim.rep.bam          77% 8278MB  27.1MB/s   01:27 ETA"
       ]
      },
      {
       "output_type": "stream",
       "stream": "stdout",
       "text": [
        "\r",
        "TAF15_1.polyATrim.adapterTrim.rep.bam          78% 8317MB  28.3MB/s   01:22 ETA"
       ]
      },
      {
       "output_type": "stream",
       "stream": "stdout",
       "text": [
        "\r",
        "TAF15_1.polyATrim.adapterTrim.rep.bam          78% 8356MB  29.4MB/s   01:18 ETA"
       ]
      },
      {
       "output_type": "stream",
       "stream": "stdout",
       "text": [
        "\r",
        "TAF15_1.polyATrim.adapterTrim.rep.bam          78% 8395MB  30.4MB/s   01:14 ETA"
       ]
      },
      {
       "output_type": "stream",
       "stream": "stdout",
       "text": [
        "\r",
        "TAF15_1.polyATrim.adapterTrim.rep.bam          78% 8412MB  29.0MB/s   01:17 ETA"
       ]
      },
      {
       "output_type": "stream",
       "stream": "stdout",
       "text": [
        "\r",
        "TAF15_1.polyATrim.adapterTrim.rep.bam          79% 8422MB  27.1MB/s   01:22 ETA"
       ]
      },
      {
       "output_type": "stream",
       "stream": "stdout",
       "text": [
        "\r",
        "TAF15_1.polyATrim.adapterTrim.rep.bam          79% 8461MB  28.3MB/s   01:17 ETA"
       ]
      },
      {
       "output_type": "stream",
       "stream": "stdout",
       "text": [
        "\r",
        "TAF15_1.polyATrim.adapterTrim.rep.bam          79% 8500MB  29.4MB/s   01:13 ETA"
       ]
      },
      {
       "output_type": "stream",
       "stream": "stdout",
       "text": [
        "\r",
        "TAF15_1.polyATrim.adapterTrim.rep.bam          80% 8532MB  29.7MB/s   01:11 ETA"
       ]
      },
      {
       "output_type": "stream",
       "stream": "stdout",
       "text": [
        "\r",
        "TAF15_1.polyATrim.adapterTrim.rep.bam          80% 8543MB  27.8MB/s   01:16 ETA"
       ]
      },
      {
       "output_type": "stream",
       "stream": "stdout",
       "text": [
        "\r",
        "TAF15_1.polyATrim.adapterTrim.rep.bam          80% 8560MB  26.7MB/s   01:18 ETA"
       ]
      },
      {
       "output_type": "stream",
       "stream": "stdout",
       "text": [
        "\r",
        "TAF15_1.polyATrim.adapterTrim.rep.bam          80% 8601MB  28.2MB/s   01:12 ETA"
       ]
      },
      {
       "output_type": "stream",
       "stream": "stdout",
       "text": [
        "\r",
        "TAF15_1.polyATrim.adapterTrim.rep.bam          81% 8643MB  29.5MB/s   01:08 ETA"
       ]
      },
      {
       "output_type": "stream",
       "stream": "stdout",
       "text": [
        "\r",
        "TAF15_1.polyATrim.adapterTrim.rep.bam          81% 8685MB  30.7MB/s   01:04 ETA"
       ]
      },
      {
       "output_type": "stream",
       "stream": "stdout",
       "text": [
        "\r",
        "TAF15_1.polyATrim.adapterTrim.rep.bam          81% 8702MB  29.4MB/s   01:06 ETA"
       ]
      },
      {
       "output_type": "stream",
       "stream": "stdout",
       "text": [
        "\r",
        "TAF15_1.polyATrim.adapterTrim.rep.bam          81% 8708MB  27.1MB/s   01:11 ETA"
       ]
      },
      {
       "output_type": "stream",
       "stream": "stdout",
       "text": [
        "\r",
        "TAF15_1.polyATrim.adapterTrim.rep.bam          82% 8748MB  28.4MB/s   01:07 ETA"
       ]
      },
      {
       "output_type": "stream",
       "stream": "stdout",
       "text": [
        "\r",
        "TAF15_1.polyATrim.adapterTrim.rep.bam          82% 8787MB  29.4MB/s   01:03 ETA"
       ]
      },
      {
       "output_type": "stream",
       "stream": "stdout",
       "text": [
        "\r",
        "TAF15_1.polyATrim.adapterTrim.rep.bam          82% 8826MB  30.4MB/s   01:00 ETA"
       ]
      },
      {
       "output_type": "stream",
       "stream": "stdout",
       "text": [
        "\r",
        "TAF15_1.polyATrim.adapterTrim.rep.bam          83% 8843MB  29.1MB/s   01:02 ETA"
       ]
      },
      {
       "output_type": "stream",
       "stream": "stdout",
       "text": [
        "\r",
        "TAF15_1.polyATrim.adapterTrim.rep.bam          83% 8855MB  27.4MB/s   01:05 ETA"
       ]
      },
      {
       "output_type": "stream",
       "stream": "stdout",
       "text": [
        "\r",
        "TAF15_1.polyATrim.adapterTrim.rep.bam          83% 8895MB  28.5MB/s   01:01 ETA"
       ]
      },
      {
       "output_type": "stream",
       "stream": "stdout",
       "text": [
        "\r",
        "TAF15_1.polyATrim.adapterTrim.rep.bam          83% 8933MB  29.6MB/s   00:58 ETA"
       ]
      },
      {
       "output_type": "stream",
       "stream": "stdout",
       "text": [
        "\r",
        "TAF15_1.polyATrim.adapterTrim.rep.bam          84% 8973MB  30.5MB/s   00:55 ETA"
       ]
      },
      {
       "output_type": "stream",
       "stream": "stdout",
       "text": [
        "\r",
        "TAF15_1.polyATrim.adapterTrim.rep.bam          84% 8989MB  29.1MB/s   00:57 ETA"
       ]
      },
      {
       "output_type": "stream",
       "stream": "stdout",
       "text": [
        "\r",
        "TAF15_1.polyATrim.adapterTrim.rep.bam          84% 9002MB  27.5MB/s   01:00 ETA"
       ]
      },
      {
       "output_type": "stream",
       "stream": "stdout",
       "text": [
        "\r",
        "TAF15_1.polyATrim.adapterTrim.rep.bam          84% 9044MB  28.9MB/s   00:55 ETA"
       ]
      },
      {
       "output_type": "stream",
       "stream": "stdout",
       "text": [
        "\r",
        "TAF15_1.polyATrim.adapterTrim.rep.bam          85% 9086MB  30.2MB/s   00:51 ETA"
       ]
      },
      {
       "output_type": "stream",
       "stream": "stdout",
       "text": [
        "\r",
        "TAF15_1.polyATrim.adapterTrim.rep.bam          85% 9128MB  31.4MB/s   00:48 ETA"
       ]
      },
      {
       "output_type": "stream",
       "stream": "stdout",
       "text": [
        "\r",
        "TAF15_1.polyATrim.adapterTrim.rep.bam          85% 9145MB  30.0MB/s   00:50 ETA"
       ]
      },
      {
       "output_type": "stream",
       "stream": "stdout",
       "text": [
        "\r",
        "TAF15_1.polyATrim.adapterTrim.rep.bam          85% 9152MB  27.7MB/s   00:54 ETA"
       ]
      },
      {
       "output_type": "stream",
       "stream": "stdout",
       "text": [
        "\r",
        "TAF15_1.polyATrim.adapterTrim.rep.bam          86% 9185MB  28.2MB/s   00:52 ETA"
       ]
      },
      {
       "output_type": "stream",
       "stream": "stdout",
       "text": [
        "\r",
        "TAF15_1.polyATrim.adapterTrim.rep.bam          86% 9223MB  29.3MB/s   00:48 ETA"
       ]
      },
      {
       "output_type": "stream",
       "stream": "stdout",
       "text": [
        "\r",
        "TAF15_1.polyATrim.adapterTrim.rep.bam          86% 9262MB  30.2MB/s   00:46 ETA"
       ]
      },
      {
       "output_type": "stream",
       "stream": "stdout",
       "text": [
        "\r",
        "TAF15_1.polyATrim.adapterTrim.rep.bam          87% 9278MB  28.8MB/s   00:47 ETA"
       ]
      },
      {
       "output_type": "stream",
       "stream": "stdout",
       "text": [
        "\r",
        "TAF15_1.polyATrim.adapterTrim.rep.bam          87% 9293MB  27.4MB/s   00:49 ETA"
       ]
      },
      {
       "output_type": "stream",
       "stream": "stdout",
       "text": [
        "\r",
        "TAF15_1.polyATrim.adapterTrim.rep.bam          87% 9332MB  28.5MB/s   00:46 ETA"
       ]
      },
      {
       "output_type": "stream",
       "stream": "stdout",
       "text": [
        "\r",
        "TAF15_1.polyATrim.adapterTrim.rep.bam          87% 9371MB  29.6MB/s   00:43 ETA"
       ]
      },
      {
       "output_type": "stream",
       "stream": "stdout",
       "text": [
        "\r",
        "TAF15_1.polyATrim.adapterTrim.rep.bam          88% 9409MB  30.5MB/s   00:40 ETA"
       ]
      },
      {
       "output_type": "stream",
       "stream": "stdout",
       "text": [
        "\r",
        "TAF15_1.polyATrim.adapterTrim.rep.bam          88% 9425MB  29.0MB/s   00:42 ETA"
       ]
      },
      {
       "output_type": "stream",
       "stream": "stdout",
       "text": [
        "\r",
        "TAF15_1.polyATrim.adapterTrim.rep.bam          88% 9436MB  27.2MB/s   00:44 ETA"
       ]
      },
      {
       "output_type": "stream",
       "stream": "stdout",
       "text": [
        "\r",
        "TAF15_1.polyATrim.adapterTrim.rep.bam          88% 9475MB  28.4MB/s   00:41 ETA"
       ]
      },
      {
       "output_type": "stream",
       "stream": "stdout",
       "text": [
        "\r",
        "TAF15_1.polyATrim.adapterTrim.rep.bam          89% 9514MB  29.4MB/s   00:38 ETA"
       ]
      },
      {
       "output_type": "stream",
       "stream": "stdout",
       "text": [
        "\r",
        "TAF15_1.polyATrim.adapterTrim.rep.bam          89% 9553MB  30.4MB/s   00:36 ETA"
       ]
      },
      {
       "output_type": "stream",
       "stream": "stdout",
       "text": [
        "\r",
        "TAF15_1.polyATrim.adapterTrim.rep.bam          89% 9569MB  28.9MB/s   00:37 ETA"
       ]
      },
      {
       "output_type": "stream",
       "stream": "stdout",
       "text": [
        "\r",
        "TAF15_1.polyATrim.adapterTrim.rep.bam          89% 9581MB  27.2MB/s   00:39 ETA"
       ]
      },
      {
       "output_type": "stream",
       "stream": "stdout",
       "text": [
        "\r",
        "TAF15_1.polyATrim.adapterTrim.rep.bam          90% 9619MB  28.4MB/s   00:36 ETA"
       ]
      },
      {
       "output_type": "stream",
       "stream": "stdout",
       "text": [
        "\r",
        "TAF15_1.polyATrim.adapterTrim.rep.bam          90% 9658MB  29.4MB/s   00:33 ETA"
       ]
      },
      {
       "output_type": "stream",
       "stream": "stdout",
       "text": [
        "\r",
        "TAF15_1.polyATrim.adapterTrim.rep.bam          90% 9691MB  29.8MB/s   00:32 ETA"
       ]
      },
      {
       "output_type": "stream",
       "stream": "stdout",
       "text": [
        "\r",
        "TAF15_1.polyATrim.adapterTrim.rep.bam          91% 9706MB  28.3MB/s   00:33 ETA"
       ]
      },
      {
       "output_type": "stream",
       "stream": "stdout",
       "text": [
        "\r",
        "TAF15_1.polyATrim.adapterTrim.rep.bam          91% 9721MB  26.9MB/s   00:34 ETA"
       ]
      },
      {
       "output_type": "stream",
       "stream": "stdout",
       "text": [
        "\r",
        "TAF15_1.polyATrim.adapterTrim.rep.bam          91% 9760MB  28.1MB/s   00:31 ETA"
       ]
      },
      {
       "output_type": "stream",
       "stream": "stdout",
       "text": [
        "\r",
        "TAF15_1.polyATrim.adapterTrim.rep.bam          91% 9798MB  29.2MB/s   00:29 ETA"
       ]
      },
      {
       "output_type": "stream",
       "stream": "stdout",
       "text": [
        "\r",
        "TAF15_1.polyATrim.adapterTrim.rep.bam          92% 9837MB  30.1MB/s   00:27 ETA"
       ]
      },
      {
       "output_type": "stream",
       "stream": "stdout",
       "text": [
        "\r",
        "TAF15_1.polyATrim.adapterTrim.rep.bam          92% 9852MB  28.6MB/s   00:27 ETA"
       ]
      },
      {
       "output_type": "stream",
       "stream": "stdout",
       "text": [
        "\r",
        "TAF15_1.polyATrim.adapterTrim.rep.bam          92% 9864MB  26.9MB/s   00:29 ETA"
       ]
      },
      {
       "output_type": "stream",
       "stream": "stdout",
       "text": [
        "\r",
        "TAF15_1.polyATrim.adapterTrim.rep.bam          92% 9903MB  28.1MB/s   00:26 ETA"
       ]
      },
      {
       "output_type": "stream",
       "stream": "stdout",
       "text": [
        "\r",
        "TAF15_1.polyATrim.adapterTrim.rep.bam          93% 9942MB  29.2MB/s   00:24 ETA"
       ]
      },
      {
       "output_type": "stream",
       "stream": "stdout",
       "text": [
        "\r",
        "TAF15_1.polyATrim.adapterTrim.rep.bam          93% 9981MB  30.2MB/s   00:22 ETA"
       ]
      },
      {
       "output_type": "stream",
       "stream": "stdout",
       "text": [
        "\r",
        "TAF15_1.polyATrim.adapterTrim.rep.bam          93% 9996MB  28.7MB/s   00:22 ETA"
       ]
      },
      {
       "output_type": "stream",
       "stream": "stdout",
       "text": [
        "\r",
        "TAF15_1.polyATrim.adapterTrim.rep.bam          93%   10GB  27.1MB/s   00:23 ETA"
       ]
      },
      {
       "output_type": "stream",
       "stream": "stdout",
       "text": [
        "\r",
        "TAF15_1.polyATrim.adapterTrim.rep.bam          94%   10GB  28.2MB/s   00:21 ETA"
       ]
      },
      {
       "output_type": "stream",
       "stream": "stdout",
       "text": [
        "\r",
        "TAF15_1.polyATrim.adapterTrim.rep.bam          94%   10GB  29.3MB/s   00:19 ETA"
       ]
      },
      {
       "output_type": "stream",
       "stream": "stdout",
       "text": [
        "\r",
        "TAF15_1.polyATrim.adapterTrim.rep.bam          95%   10GB  30.2MB/s   00:17 ETA"
       ]
      },
      {
       "output_type": "stream",
       "stream": "stdout",
       "text": [
        "\r",
        "TAF15_1.polyATrim.adapterTrim.rep.bam          95%   10GB  28.7MB/s   00:17 ETA"
       ]
      },
      {
       "output_type": "stream",
       "stream": "stdout",
       "text": [
        "\r",
        "TAF15_1.polyATrim.adapterTrim.rep.bam          95%   10GB  27.1MB/s   00:18 ETA"
       ]
      },
      {
       "output_type": "stream",
       "stream": "stdout",
       "text": [
        "\r",
        "TAF15_1.polyATrim.adapterTrim.rep.bam          95%   10GB  27.7MB/s   00:16 ETA"
       ]
      },
      {
       "output_type": "stream",
       "stream": "stdout",
       "text": [
        "\r",
        "TAF15_1.polyATrim.adapterTrim.rep.bam          95%   10GB  28.8MB/s   00:14 ETA"
       ]
      },
      {
       "output_type": "stream",
       "stream": "stdout",
       "text": [
        "\r",
        "TAF15_1.polyATrim.adapterTrim.rep.bam          96%   10GB  29.9MB/s   00:13 ETA"
       ]
      },
      {
       "output_type": "stream",
       "stream": "stdout",
       "text": [
        "\r",
        "TAF15_1.polyATrim.adapterTrim.rep.bam          96%   10GB  28.3MB/s   00:13 ETA"
       ]
      },
      {
       "output_type": "stream",
       "stream": "stdout",
       "text": [
        "\r",
        "TAF15_1.polyATrim.adapterTrim.rep.bam          96%   10GB  27.0MB/s   00:13 ETA"
       ]
      },
      {
       "output_type": "stream",
       "stream": "stdout",
       "text": [
        "\r",
        "TAF15_1.polyATrim.adapterTrim.rep.bam          96%   10GB  28.2MB/s   00:11 ETA"
       ]
      },
      {
       "output_type": "stream",
       "stream": "stdout",
       "text": [
        "\r",
        "TAF15_1.polyATrim.adapterTrim.rep.bam          97%   10GB  29.3MB/s   00:09 ETA"
       ]
      },
      {
       "output_type": "stream",
       "stream": "stdout",
       "text": [
        "\r",
        "TAF15_1.polyATrim.adapterTrim.rep.bam          97%   10GB  29.6MB/s   00:08 ETA"
       ]
      },
      {
       "output_type": "stream",
       "stream": "stdout",
       "text": [
        "\r",
        "TAF15_1.polyATrim.adapterTrim.rep.bam          97%   10GB  28.1MB/s   00:08 ETA"
       ]
      },
      {
       "output_type": "stream",
       "stream": "stdout",
       "text": [
        "\r",
        "TAF15_1.polyATrim.adapterTrim.rep.bam          97%   10GB  26.8MB/s   00:08 ETA"
       ]
      },
      {
       "output_type": "stream",
       "stream": "stdout",
       "text": [
        "\r",
        "TAF15_1.polyATrim.adapterTrim.rep.bam          98%   10GB  28.0MB/s   00:06 ETA"
       ]
      },
      {
       "output_type": "stream",
       "stream": "stdout",
       "text": [
        "\r",
        "TAF15_1.polyATrim.adapterTrim.rep.bam          98%   10GB  29.1MB/s   00:04 ETA"
       ]
      },
      {
       "output_type": "stream",
       "stream": "stdout",
       "text": [
        "\r",
        "TAF15_1.polyATrim.adapterTrim.rep.bam          99%   10GB  30.1MB/s   00:03 ETA"
       ]
      },
      {
       "output_type": "stream",
       "stream": "stdout",
       "text": [
        "\r",
        "TAF15_1.polyATrim.adapterTrim.rep.bam          99%   10GB  28.5MB/s   00:03 ETA"
       ]
      },
      {
       "output_type": "stream",
       "stream": "stdout",
       "text": [
        "\r",
        "TAF15_1.polyATrim.adapterTrim.rep.bam          99%   10GB  26.9MB/s   00:02 ETA"
       ]
      },
      {
       "output_type": "stream",
       "stream": "stdout",
       "text": [
        "\r",
        "TAF15_1.polyATrim.adapterTrim.rep.bam          99%   10GB  28.1MB/s   00:01 ETA"
       ]
      },
      {
       "output_type": "stream",
       "stream": "stdout",
       "text": [
        "\r",
        "TAF15_1.polyATrim.adapterTrim.rep.bam         100%   10GB  28.4MB/s   06:15    \r\n"
       ]
      },
      {
       "output_type": "stream",
       "stream": "stdout",
       "text": [
        "\r",
        "TAF15_1.polyATrim.adapterTrim.rep.sorted.bam  100%    0     0.0KB/s   00:00    \r\n",
        "\r",
        "TAF15_1.polyATrim.adapterTrim.rmRep.bam         0%    0     0.0KB/s   --:-- ETA"
       ]
      },
      {
       "output_type": "stream",
       "stream": "stdout",
       "text": [
        "\r",
        "TAF15_1.polyATrim.adapterTrim.rmRep.bam         0%   26MB  26.4MB/s   08:07 ETA"
       ]
      },
      {
       "output_type": "stream",
       "stream": "stdout",
       "text": [
        "\r",
        "TAF15_1.polyATrim.adapterTrim.rmRep.bam         0%   62MB  27.4MB/s   07:48 ETA"
       ]
      },
      {
       "output_type": "stream",
       "stream": "stdout",
       "text": [
        "\r",
        "TAF15_1.polyATrim.adapterTrim.rmRep.bam         0%   96MB  28.0MB/s   07:37 ETA"
       ]
      },
      {
       "output_type": "stream",
       "stream": "stdout",
       "text": [
        "\r",
        "TAF15_1.polyATrim.adapterTrim.rmRep.bam         1%  130MB  28.6MB/s   07:25 ETA"
       ]
      },
      {
       "output_type": "stream",
       "stream": "stdout",
       "text": [
        "\r",
        "TAF15_1.polyATrim.adapterTrim.rmRep.bam         1%  157MB  28.4MB/s   07:27 ETA"
       ]
      },
      {
       "output_type": "stream",
       "stream": "stdout",
       "text": [
        "\r",
        "TAF15_1.polyATrim.adapterTrim.rmRep.bam         1%  184MB  28.2MB/s   07:29 ETA"
       ]
      },
      {
       "output_type": "stream",
       "stream": "stdout",
       "text": [
        "\r",
        "TAF15_1.polyATrim.adapterTrim.rmRep.bam         1%  216MB  28.7MB/s   07:21 ETA"
       ]
      },
      {
       "output_type": "stream",
       "stream": "stdout",
       "text": [
        "\r",
        "TAF15_1.polyATrim.adapterTrim.rmRep.bam         1%  249MB  29.1MB/s   07:14 ETA"
       ]
      },
      {
       "output_type": "stream",
       "stream": "stdout",
       "text": [
        "\r",
        "TAF15_1.polyATrim.adapterTrim.rmRep.bam         2%  282MB  29.5MB/s   07:08 ETA"
       ]
      },
      {
       "output_type": "stream",
       "stream": "stdout",
       "text": [
        "\r",
        "TAF15_1.polyATrim.adapterTrim.rmRep.bam         2%  314MB  29.8MB/s   07:02 ETA"
       ]
      },
      {
       "output_type": "stream",
       "stream": "stdout",
       "text": [
        "\r",
        "TAF15_1.polyATrim.adapterTrim.rmRep.bam         2%  353MB  30.7MB/s   06:48 ETA"
       ]
      },
      {
       "output_type": "stream",
       "stream": "stdout",
       "text": [
        "\r",
        "TAF15_1.polyATrim.adapterTrim.rmRep.bam         3%  392MB  31.5MB/s   06:36 ETA"
       ]
      },
      {
       "output_type": "stream",
       "stream": "stdout",
       "text": [
        "\r",
        "TAF15_1.polyATrim.adapterTrim.rmRep.bam         3%  425MB  31.6MB/s   06:34 ETA"
       ]
      },
      {
       "output_type": "stream",
       "stream": "stdout",
       "text": [
        "\r",
        "TAF15_1.polyATrim.adapterTrim.rmRep.bam         3%  457MB  31.7MB/s   06:31 ETA"
       ]
      },
      {
       "output_type": "stream",
       "stream": "stdout",
       "text": [
        "\r",
        "TAF15_1.polyATrim.adapterTrim.rmRep.bam         3%  497MB  32.5MB/s   06:21 ETA"
       ]
      },
      {
       "output_type": "stream",
       "stream": "stdout",
       "text": [
        "\r",
        "TAF15_1.polyATrim.adapterTrim.rmRep.bam         4%  523MB  31.9MB/s   06:27 ETA"
       ]
      },
      {
       "output_type": "stream",
       "stream": "stdout",
       "text": [
        "\r",
        "TAF15_1.polyATrim.adapterTrim.rmRep.bam         4%  556MB  31.9MB/s   06:26 ETA"
       ]
      },
      {
       "output_type": "stream",
       "stream": "stdout",
       "text": [
        "\r",
        "TAF15_1.polyATrim.adapterTrim.rmRep.bam         4%  588MB  32.0MB/s   06:24 ETA"
       ]
      },
      {
       "output_type": "stream",
       "stream": "stdout",
       "text": [
        "\r",
        "TAF15_1.polyATrim.adapterTrim.rmRep.bam         4%  628MB  32.8MB/s   06:14 ETA"
       ]
      },
      {
       "output_type": "stream",
       "stream": "stdout",
       "text": [
        "\r",
        "TAF15_1.polyATrim.adapterTrim.rmRep.bam         5%  660MB  32.7MB/s   06:13 ETA"
       ]
      },
      {
       "output_type": "stream",
       "stream": "stdout",
       "text": [
        "\r",
        "TAF15_1.polyATrim.adapterTrim.rmRep.bam         5%  699MB  33.3MB/s   06:05 ETA"
       ]
      },
      {
       "output_type": "stream",
       "stream": "stdout",
       "text": [
        "\r",
        "TAF15_1.polyATrim.adapterTrim.rmRep.bam         5%  738MB  33.9MB/s   05:58 ETA"
       ]
      },
      {
       "output_type": "stream",
       "stream": "stdout",
       "text": [
        "\r",
        "TAF15_1.polyATrim.adapterTrim.rmRep.bam         6%  776MB  34.3MB/s   05:52 ETA"
       ]
      },
      {
       "output_type": "stream",
       "stream": "stdout",
       "text": [
        "\r",
        "TAF15_1.polyATrim.adapterTrim.rmRep.bam         6%  815MB  34.8MB/s   05:47 ETA"
       ]
      },
      {
       "output_type": "stream",
       "stream": "stdout",
       "text": [
        "\r",
        "TAF15_1.polyATrim.adapterTrim.rmRep.bam         6%  854MB  35.2MB/s   05:42 ETA"
       ]
      },
      {
       "output_type": "stream",
       "stream": "stdout",
       "text": [
        "\r",
        "TAF15_1.polyATrim.adapterTrim.rmRep.bam         6%  893MB  35.5MB/s   05:37 ETA"
       ]
      },
      {
       "output_type": "stream",
       "stream": "stdout",
       "text": [
        "\r",
        "TAF15_1.polyATrim.adapterTrim.rmRep.bam         7%  931MB  35.9MB/s   05:33 ETA"
       ]
      },
      {
       "output_type": "stream",
       "stream": "stdout",
       "text": [
        "\r",
        "TAF15_1.polyATrim.adapterTrim.rmRep.bam         7%  970MB  36.2MB/s   05:29 ETA"
       ]
      },
      {
       "output_type": "stream",
       "stream": "stdout",
       "text": [
        "\r",
        "TAF15_1.polyATrim.adapterTrim.rmRep.bam         7% 1003MB  35.8MB/s   05:31 ETA"
       ]
      },
      {
       "output_type": "stream",
       "stream": "stdout",
       "text": [
        "\r",
        "TAF15_1.polyATrim.adapterTrim.rmRep.bam         8% 1041MB  36.1MB/s   05:28 ETA"
       ]
      },
      {
       "output_type": "stream",
       "stream": "stdout",
       "text": [
        "\r",
        "TAF15_1.polyATrim.adapterTrim.rmRep.bam         8% 1054MB  33.8MB/s   05:50 ETA"
       ]
      },
      {
       "output_type": "stream",
       "stream": "stdout",
       "text": [
        "\r",
        "TAF15_1.polyATrim.adapterTrim.rmRep.bam         8% 1054MB  30.4MB/s   06:29 ETA"
       ]
      },
      {
       "output_type": "stream",
       "stream": "stdout",
       "text": [
        "\r",
        "TAF15_1.polyATrim.adapterTrim.rmRep.bam         8% 1054MB  27.4MB/s   07:12 ETA"
       ]
      },
      {
       "output_type": "stream",
       "stream": "stdout",
       "text": [
        "\r",
        "TAF15_1.polyATrim.adapterTrim.rmRep.bam         8% 1054MB  24.6MB/s   08:00 ETA"
       ]
      },
      {
       "output_type": "stream",
       "stream": "stdout",
       "text": [
        "\r",
        "TAF15_1.polyATrim.adapterTrim.rmRep.bam         8% 1055MB  22.2MB/s   08:52 ETA"
       ]
      },
      {
       "output_type": "stream",
       "stream": "stdout",
       "text": [
        "\r",
        "TAF15_1.polyATrim.adapterTrim.rmRep.bam         8% 1057MB  20.2MB/s   09:45 ETA"
       ]
      },
      {
       "output_type": "stream",
       "stream": "stdout",
       "text": [
        "\r",
        "TAF15_1.polyATrim.adapterTrim.rmRep.bam         8% 1057MB  18.2MB/s   10:50 ETA"
       ]
      },
      {
       "output_type": "stream",
       "stream": "stdout",
       "text": [
        "\r",
        "TAF15_1.polyATrim.adapterTrim.rmRep.bam         8% 1057MB  16.4MB/s   12:02 ETA"
       ]
      },
      {
       "output_type": "stream",
       "stream": "stdout",
       "text": [
        "\r",
        "TAF15_1.polyATrim.adapterTrim.rmRep.bam         8% 1057MB  14.7MB/s   13:22 ETA"
       ]
      },
      {
       "output_type": "stream",
       "stream": "stdout",
       "text": [
        "\r",
        "TAF15_1.polyATrim.adapterTrim.rmRep.bam         8% 1057MB  13.3MB/s   14:52 ETA"
       ]
      },
      {
       "output_type": "stream",
       "stream": "stdout",
       "text": [
        "\r",
        "TAF15_1.polyATrim.adapterTrim.rmRep.bam         8% 1084MB  14.6MB/s   13:29 ETA"
       ]
      },
      {
       "output_type": "stream",
       "stream": "stdout",
       "text": [
        "\r",
        "TAF15_1.polyATrim.adapterTrim.rmRep.bam         8% 1116MB  16.4MB/s   11:59 ETA"
       ]
      },
      {
       "output_type": "stream",
       "stream": "stdout",
       "text": [
        "\r",
        "TAF15_1.polyATrim.adapterTrim.rmRep.bam         8% 1155MB  18.6MB/s   10:31 ETA"
       ]
      },
      {
       "output_type": "stream",
       "stream": "stdout",
       "text": [
        "\r",
        "TAF15_1.polyATrim.adapterTrim.rmRep.bam         9% 1193MB  20.6MB/s   09:27 ETA"
       ]
      },
      {
       "output_type": "stream",
       "stream": "stdout",
       "text": [
        "\r",
        "TAF15_1.polyATrim.adapterTrim.rmRep.bam         9% 1232MB  20.5MB/s   09:29 ETA"
       ]
      },
      {
       "output_type": "stream",
       "stream": "stdout",
       "text": [
        "\r",
        "TAF15_1.polyATrim.adapterTrim.rmRep.bam         9% 1251MB  20.3MB/s   09:33 ETA"
       ]
      },
      {
       "output_type": "stream",
       "stream": "stdout",
       "text": [
        "\r",
        "TAF15_1.polyATrim.adapterTrim.rmRep.bam         9% 1251MB  18.3MB/s   10:37 ETA"
       ]
      },
      {
       "output_type": "stream",
       "stream": "stdout",
       "text": [
        "\r",
        "TAF15_1.polyATrim.adapterTrim.rmRep.bam         9% 1287MB  20.1MB/s   09:37 ETA"
       ]
      },
      {
       "output_type": "stream",
       "stream": "stdout",
       "text": [
        "\r",
        "TAF15_1.polyATrim.adapterTrim.rmRep.bam        10% 1326MB  22.0MB/s   08:45 ETA"
       ]
      },
      {
       "output_type": "stream",
       "stream": "stdout",
       "text": [
        "\r",
        "TAF15_1.polyATrim.adapterTrim.rmRep.bam        10% 1365MB  23.7MB/s   08:06 ETA"
       ]
      },
      {
       "output_type": "stream",
       "stream": "stdout",
       "text": [
        "\r",
        "TAF15_1.polyATrim.adapterTrim.rmRep.bam        10% 1384MB  23.2MB/s   08:16 ETA"
       ]
      },
      {
       "output_type": "stream",
       "stream": "stdout",
       "text": [
        "\r",
        "TAF15_1.polyATrim.adapterTrim.rmRep.bam        10% 1396MB  22.1MB/s   08:39 ETA"
       ]
      },
      {
       "output_type": "stream",
       "stream": "stdout",
       "text": [
        "\r",
        "TAF15_1.polyATrim.adapterTrim.rmRep.bam        11% 1435MB  23.8MB/s   08:01 ETA"
       ]
      },
      {
       "output_type": "stream",
       "stream": "stdout",
       "text": [
        "\r",
        "TAF15_1.polyATrim.adapterTrim.rmRep.bam        11% 1468MB  24.7MB/s   07:42 ETA"
       ]
      },
      {
       "output_type": "stream",
       "stream": "stdout",
       "text": [
        "\r",
        "TAF15_1.polyATrim.adapterTrim.rmRep.bam        11% 1507MB  26.1MB/s   07:15 ETA"
       ]
      },
      {
       "output_type": "stream",
       "stream": "stdout",
       "text": [
        "\r",
        "TAF15_1.polyATrim.adapterTrim.rmRep.bam        11% 1525MB  25.4MB/s   07:28 ETA"
       ]
      },
      {
       "output_type": "stream",
       "stream": "stdout",
       "text": [
        "\r",
        "TAF15_1.polyATrim.adapterTrim.rmRep.bam        11% 1536MB  23.8MB/s   07:56 ETA"
       ]
      },
      {
       "output_type": "stream",
       "stream": "stdout",
       "text": [
        "\r",
        "TAF15_1.polyATrim.adapterTrim.rmRep.bam        12% 1575MB  25.3MB/s   07:26 ETA"
       ]
      },
      {
       "output_type": "stream",
       "stream": "stdout",
       "text": [
        "\r",
        "TAF15_1.polyATrim.adapterTrim.rmRep.bam        12% 1613MB  26.7MB/s   07:02 ETA"
       ]
      },
      {
       "output_type": "stream",
       "stream": "stdout",
       "text": [
        "\r",
        "TAF15_1.polyATrim.adapterTrim.rmRep.bam        12% 1650MB  27.6MB/s   06:46 ETA"
       ]
      },
      {
       "output_type": "stream",
       "stream": "stdout",
       "text": [
        "\r",
        "TAF15_1.polyATrim.adapterTrim.rmRep.bam        12% 1665MB  26.4MB/s   07:05 ETA"
       ]
      },
      {
       "output_type": "stream",
       "stream": "stdout",
       "text": [
        "\r",
        "TAF15_1.polyATrim.adapterTrim.rmRep.bam        13% 1676MB  24.9MB/s   07:30 ETA"
       ]
      },
      {
       "output_type": "stream",
       "stream": "stdout",
       "text": [
        "\r",
        "TAF15_1.polyATrim.adapterTrim.rmRep.bam        13% 1715MB  26.3MB/s   07:05 ETA"
       ]
      },
      {
       "output_type": "stream",
       "stream": "stdout",
       "text": [
        "\r",
        "TAF15_1.polyATrim.adapterTrim.rmRep.bam        13% 1756MB  27.8MB/s   06:41 ETA"
       ]
      },
      {
       "output_type": "stream",
       "stream": "stdout",
       "text": [
        "\r",
        "TAF15_1.polyATrim.adapterTrim.rmRep.bam        13% 1796MB  29.0MB/s   06:22 ETA"
       ]
      },
      {
       "output_type": "stream",
       "stream": "stdout",
       "text": [
        "\r",
        "TAF15_1.polyATrim.adapterTrim.rmRep.bam        14% 1814MB  27.9MB/s   06:36 ETA"
       ]
      },
      {
       "output_type": "stream",
       "stream": "stdout",
       "text": [
        "\r",
        "TAF15_1.polyATrim.adapterTrim.rmRep.bam        14% 1822MB  25.9MB/s   07:07 ETA"
       ]
      },
      {
       "output_type": "stream",
       "stream": "stdout",
       "text": [
        "\r",
        "TAF15_1.polyATrim.adapterTrim.rmRep.bam        14% 1862MB  27.3MB/s   06:44 ETA"
       ]
      },
      {
       "output_type": "stream",
       "stream": "stdout",
       "text": [
        "\r",
        "TAF15_1.polyATrim.adapterTrim.rmRep.bam        14% 1902MB  28.6MB/s   06:24 ETA"
       ]
      },
      {
       "output_type": "stream",
       "stream": "stdout",
       "text": [
        "\r",
        "TAF15_1.polyATrim.adapterTrim.rmRep.bam        15% 1941MB  29.6MB/s   06:09 ETA"
       ]
      },
      {
       "output_type": "stream",
       "stream": "stdout",
       "text": [
        "\r",
        "TAF15_1.polyATrim.adapterTrim.rmRep.bam        15% 1955MB  28.0MB/s   06:29 ETA"
       ]
      },
      {
       "output_type": "stream",
       "stream": "stdout",
       "text": [
        "\r",
        "TAF15_1.polyATrim.adapterTrim.rmRep.bam        15% 1966MB  26.4MB/s   06:53 ETA"
       ]
      },
      {
       "output_type": "stream",
       "stream": "stdout",
       "text": [
        "\r",
        "TAF15_1.polyATrim.adapterTrim.rmRep.bam        15% 2006MB  27.8MB/s   06:31 ETA"
       ]
      },
      {
       "output_type": "stream",
       "stream": "stdout",
       "text": [
        "\r",
        "TAF15_1.polyATrim.adapterTrim.rmRep.bam        15% 2040MB  28.3MB/s   06:22 ETA"
       ]
      },
      {
       "output_type": "stream",
       "stream": "stdout",
       "text": [
        "\r",
        "TAF15_1.polyATrim.adapterTrim.rmRep.bam        16% 2074MB  28.9MB/s   06:13 ETA"
       ]
      },
      {
       "output_type": "stream",
       "stream": "stdout",
       "text": [
        "\r",
        "TAF15_1.polyATrim.adapterTrim.rmRep.bam        16% 2083MB  27.0MB/s   06:40 ETA"
       ]
      },
      {
       "output_type": "stream",
       "stream": "stdout",
       "text": [
        "\r",
        "TAF15_1.polyATrim.adapterTrim.rmRep.bam        16% 2099MB  25.8MB/s   06:57 ETA"
       ]
      },
      {
       "output_type": "stream",
       "stream": "stdout",
       "text": [
        "\r",
        "TAF15_1.polyATrim.adapterTrim.rmRep.bam        16% 2134MB  26.8MB/s   06:41 ETA"
       ]
      },
      {
       "output_type": "stream",
       "stream": "stdout",
       "text": [
        "\r",
        "TAF15_1.polyATrim.adapterTrim.rmRep.bam        16% 2175MB  28.1MB/s   06:20 ETA"
       ]
      },
      {
       "output_type": "stream",
       "stream": "stdout",
       "text": [
        "\r",
        "TAF15_1.polyATrim.adapterTrim.rmRep.bam        17% 2216MB  29.4MB/s   06:02 ETA"
       ]
      },
      {
       "output_type": "stream",
       "stream": "stdout",
       "text": [
        "\r",
        "TAF15_1.polyATrim.adapterTrim.rmRep.bam        17% 2234MB  28.3MB/s   06:16 ETA"
       ]
      },
      {
       "output_type": "stream",
       "stream": "stdout",
       "text": [
        "\r",
        "TAF15_1.polyATrim.adapterTrim.rmRep.bam        17% 2243MB  26.4MB/s   06:42 ETA"
       ]
      },
      {
       "output_type": "stream",
       "stream": "stdout",
       "text": [
        "\r",
        "TAF15_1.polyATrim.adapterTrim.rmRep.bam        17% 2284MB  27.9MB/s   06:20 ETA"
       ]
      },
      {
       "output_type": "stream",
       "stream": "stdout",
       "text": [
        "\r",
        "TAF15_1.polyATrim.adapterTrim.rmRep.bam        18% 2326MB  29.2MB/s   06:01 ETA"
       ]
      },
      {
       "output_type": "stream",
       "stream": "stdout",
       "text": [
        "\r",
        "TAF15_1.polyATrim.adapterTrim.rmRep.bam        18% 2367MB  30.4MB/s   05:46 ETA"
       ]
      },
      {
       "output_type": "stream",
       "stream": "stdout",
       "text": [
        "\r",
        "TAF15_1.polyATrim.adapterTrim.rmRep.bam        18% 2385MB  29.2MB/s   06:00 ETA"
       ]
      },
      {
       "output_type": "stream",
       "stream": "stdout",
       "text": [
        "\r",
        "TAF15_1.polyATrim.adapterTrim.rmRep.bam        18% 2393MB  27.1MB/s   06:27 ETA"
       ]
      },
      {
       "output_type": "stream",
       "stream": "stdout",
       "text": [
        "\r",
        "TAF15_1.polyATrim.adapterTrim.rmRep.bam        18% 2433MB  28.3MB/s   06:08 ETA"
       ]
      },
      {
       "output_type": "stream",
       "stream": "stdout",
       "text": [
        "\r",
        "TAF15_1.polyATrim.adapterTrim.rmRep.bam        19% 2467MB  28.9MB/s   06:00 ETA"
       ]
      },
      {
       "output_type": "stream",
       "stream": "stdout",
       "text": [
        "\r",
        "TAF15_1.polyATrim.adapterTrim.rmRep.bam        19% 2507MB  30.1MB/s   05:45 ETA"
       ]
      },
      {
       "output_type": "stream",
       "stream": "stdout",
       "text": [
        "\r",
        "TAF15_1.polyATrim.adapterTrim.rmRep.bam        19% 2524MB  28.8MB/s   06:00 ETA"
       ]
      },
      {
       "output_type": "stream",
       "stream": "stdout",
       "text": [
        "\r",
        "TAF15_1.polyATrim.adapterTrim.rmRep.bam        19% 2537MB  27.2MB/s   06:20 ETA"
       ]
      },
      {
       "output_type": "stream",
       "stream": "stdout",
       "text": [
        "\r",
        "TAF15_1.polyATrim.adapterTrim.rmRep.bam        20% 2578MB  28.5MB/s   06:01 ETA"
       ]
      },
      {
       "output_type": "stream",
       "stream": "stdout",
       "text": [
        "\r",
        "TAF15_1.polyATrim.adapterTrim.rmRep.bam        20% 2619MB  29.8MB/s   05:44 ETA"
       ]
      },
      {
       "output_type": "stream",
       "stream": "stdout",
       "text": [
        "\r",
        "TAF15_1.polyATrim.adapterTrim.rmRep.bam        20% 2661MB  31.0MB/s   05:29 ETA"
       ]
      },
      {
       "output_type": "stream",
       "stream": "stdout",
       "text": [
        "\r",
        "TAF15_1.polyATrim.adapterTrim.rmRep.bam        20% 2672MB  29.0MB/s   05:52 ETA"
       ]
      },
      {
       "output_type": "stream",
       "stream": "stdout",
       "text": [
        "\r",
        "TAF15_1.polyATrim.adapterTrim.rmRep.bam        20% 2681MB  27.0MB/s   06:17 ETA"
       ]
      },
      {
       "output_type": "stream",
       "stream": "stdout",
       "text": [
        "\r",
        "TAF15_1.polyATrim.adapterTrim.rmRep.bam        21% 2722MB  28.4MB/s   05:58 ETA"
       ]
      },
      {
       "output_type": "stream",
       "stream": "stdout",
       "text": [
        "\r",
        "TAF15_1.polyATrim.adapterTrim.rmRep.bam        21% 2761MB  29.5MB/s   05:43 ETA"
       ]
      },
      {
       "output_type": "stream",
       "stream": "stdout",
       "text": [
        "\r",
        "TAF15_1.polyATrim.adapterTrim.rmRep.bam        21% 2794MB  29.8MB/s   05:38 ETA"
       ]
      },
      {
       "output_type": "stream",
       "stream": "stdout",
       "text": [
        "\r",
        "TAF15_1.polyATrim.adapterTrim.rmRep.bam        21% 2810MB  28.5MB/s   05:53 ETA"
       ]
      },
      {
       "output_type": "stream",
       "stream": "stdout",
       "text": [
        "\r",
        "TAF15_1.polyATrim.adapterTrim.rmRep.bam        21% 2824MB  27.0MB/s   06:12 ETA"
       ]
      },
      {
       "output_type": "stream",
       "stream": "stdout",
       "text": [
        "\r",
        "TAF15_1.polyATrim.adapterTrim.rmRep.bam        22% 2865MB  28.4MB/s   05:52 ETA"
       ]
      },
      {
       "output_type": "stream",
       "stream": "stdout",
       "text": [
        "\r",
        "TAF15_1.polyATrim.adapterTrim.rmRep.bam        22% 2907MB  29.8MB/s   05:35 ETA"
       ]
      },
      {
       "output_type": "stream",
       "stream": "stdout",
       "text": [
        "\r",
        "TAF15_1.polyATrim.adapterTrim.rmRep.bam        22% 2949MB  31.0MB/s   05:20 ETA"
       ]
      },
      {
       "output_type": "stream",
       "stream": "stdout",
       "text": [
        "\r",
        "TAF15_1.polyATrim.adapterTrim.rmRep.bam        23% 2967MB  29.6MB/s   05:34 ETA"
       ]
      },
      {
       "output_type": "stream",
       "stream": "stdout",
       "text": [
        "\r",
        "TAF15_1.polyATrim.adapterTrim.rmRep.bam        23% 2974MB  27.4MB/s   06:02 ETA"
       ]
      },
      {
       "output_type": "stream",
       "stream": "stdout",
       "text": [
        "\r",
        "TAF15_1.polyATrim.adapterTrim.rmRep.bam        23% 3006MB  27.9MB/s   05:54 ETA"
       ]
      },
      {
       "output_type": "stream",
       "stream": "stdout",
       "text": [
        "\r",
        "TAF15_1.polyATrim.adapterTrim.rmRep.bam        23% 3046MB  29.1MB/s   05:37 ETA"
       ]
      },
      {
       "output_type": "stream",
       "stream": "stdout",
       "text": [
        "\r",
        "TAF15_1.polyATrim.adapterTrim.rmRep.bam        23% 3087MB  30.3MB/s   05:23 ETA"
       ]
      },
      {
       "output_type": "stream",
       "stream": "stdout",
       "text": [
        "\r",
        "TAF15_1.polyATrim.adapterTrim.rmRep.bam        24% 3104MB  28.9MB/s   05:38 ETA"
       ]
      },
      {
       "output_type": "stream",
       "stream": "stdout",
       "text": [
        "\r",
        "TAF15_1.polyATrim.adapterTrim.rmRep.bam        24% 3118MB  27.4MB/s   05:56 ETA"
       ]
      },
      {
       "output_type": "stream",
       "stream": "stdout",
       "text": [
        "\r",
        "TAF15_1.polyATrim.adapterTrim.rmRep.bam        24% 3159MB  28.8MB/s   05:37 ETA"
       ]
      },
      {
       "output_type": "stream",
       "stream": "stdout",
       "text": [
        "\r",
        "TAF15_1.polyATrim.adapterTrim.rmRep.bam        24% 3200MB  30.1MB/s   05:22 ETA"
       ]
      },
      {
       "output_type": "stream",
       "stream": "stdout",
       "text": [
        "\r",
        "TAF15_1.polyATrim.adapterTrim.rmRep.bam        25% 3242MB  31.2MB/s   05:09 ETA"
       ]
      },
      {
       "output_type": "stream",
       "stream": "stdout",
       "text": [
        "\r",
        "TAF15_1.polyATrim.adapterTrim.rmRep.bam        25% 3259MB  29.8MB/s   05:23 ETA"
       ]
      },
      {
       "output_type": "stream",
       "stream": "stdout",
       "text": [
        "\r",
        "TAF15_1.polyATrim.adapterTrim.rmRep.bam        25% 3267MB  27.6MB/s   05:48 ETA"
       ]
      },
      {
       "output_type": "stream",
       "stream": "stdout",
       "text": [
        "\r",
        "TAF15_1.polyATrim.adapterTrim.rmRep.bam        25% 3307MB  28.9MB/s   05:31 ETA"
       ]
      },
      {
       "output_type": "stream",
       "stream": "stdout",
       "text": [
        "\r",
        "TAF15_1.polyATrim.adapterTrim.rmRep.bam        25% 3347MB  30.0MB/s   05:18 ETA"
       ]
      },
      {
       "output_type": "stream",
       "stream": "stdout",
       "text": [
        "\r",
        "TAF15_1.polyATrim.adapterTrim.rmRep.bam        26% 3388MB  31.1MB/s   05:05 ETA"
       ]
      },
      {
       "output_type": "stream",
       "stream": "stdout",
       "text": [
        "\r",
        "TAF15_1.polyATrim.adapterTrim.rmRep.bam        26% 3405MB  29.7MB/s   05:19 ETA"
       ]
      },
      {
       "output_type": "stream",
       "stream": "stdout",
       "text": [
        "\r",
        "TAF15_1.polyATrim.adapterTrim.rmRep.bam        26% 3418MB  28.0MB/s   05:38 ETA"
       ]
      },
      {
       "output_type": "stream",
       "stream": "stdout",
       "text": [
        "\r",
        "TAF15_1.polyATrim.adapterTrim.rmRep.bam        26% 3460MB  29.4MB/s   05:20 ETA"
       ]
      },
      {
       "output_type": "stream",
       "stream": "stdout",
       "text": [
        "\r",
        "TAF15_1.polyATrim.adapterTrim.rmRep.bam        27% 3502MB  30.7MB/s   05:05 ETA"
       ]
      },
      {
       "output_type": "stream",
       "stream": "stdout",
       "text": [
        "\r",
        "TAF15_1.polyATrim.adapterTrim.rmRep.bam        27% 3544MB  31.8MB/s   04:53 ETA"
       ]
      },
      {
       "output_type": "stream",
       "stream": "stdout",
       "text": [
        "\r",
        "TAF15_1.polyATrim.adapterTrim.rmRep.bam        27% 3561MB  30.3MB/s   05:07 ETA"
       ]
      },
      {
       "output_type": "stream",
       "stream": "stdout",
       "text": [
        "\r",
        "TAF15_1.polyATrim.adapterTrim.rmRep.bam        27% 3565MB  27.7MB/s   05:36 ETA"
       ]
      },
      {
       "output_type": "stream",
       "stream": "stdout",
       "text": [
        "\r",
        "TAF15_1.polyATrim.adapterTrim.rmRep.bam        27% 3596MB  28.0MB/s   05:31 ETA"
       ]
      },
      {
       "output_type": "stream",
       "stream": "stdout",
       "text": [
        "\r",
        "TAF15_1.polyATrim.adapterTrim.rmRep.bam        28% 3630MB  28.6MB/s   05:24 ETA"
       ]
      },
      {
       "output_type": "stream",
       "stream": "stdout",
       "text": [
        "\r",
        "TAF15_1.polyATrim.adapterTrim.rmRep.bam        28% 3665MB  29.2MB/s   05:15 ETA"
       ]
      },
      {
       "output_type": "stream",
       "stream": "stdout",
       "text": [
        "\r",
        "TAF15_1.polyATrim.adapterTrim.rmRep.bam        28% 3680MB  27.8MB/s   05:30 ETA"
       ]
      },
      {
       "output_type": "stream",
       "stream": "stdout",
       "text": [
        "\r",
        "TAF15_1.polyATrim.adapterTrim.rmRep.bam        28% 3701MB  27.1MB/s   05:38 ETA"
       ]
      },
      {
       "output_type": "stream",
       "stream": "stdout",
       "text": [
        "\r",
        "TAF15_1.polyATrim.adapterTrim.rmRep.bam        28% 3734MB  27.7MB/s   05:30 ETA"
       ]
      },
      {
       "output_type": "stream",
       "stream": "stdout",
       "text": [
        "\r",
        "TAF15_1.polyATrim.adapterTrim.rmRep.bam        29% 3774MB  29.0MB/s   05:14 ETA"
       ]
      },
      {
       "output_type": "stream",
       "stream": "stdout",
       "text": [
        "\r",
        "TAF15_1.polyATrim.adapterTrim.rmRep.bam        29% 3815MB  30.2MB/s   05:00 ETA"
       ]
      },
      {
       "output_type": "stream",
       "stream": "stdout",
       "text": [
        "\r",
        "TAF15_1.polyATrim.adapterTrim.rmRep.bam        29% 3831MB  28.7MB/s   05:15 ETA"
       ]
      },
      {
       "output_type": "stream",
       "stream": "stdout",
       "text": [
        "\r",
        "TAF15_1.polyATrim.adapterTrim.rmRep.bam        29% 3841MB  26.9MB/s   05:36 ETA"
       ]
      },
      {
       "output_type": "stream",
       "stream": "stdout",
       "text": [
        "\r",
        "TAF15_1.polyATrim.adapterTrim.rmRep.bam        30% 3882MB  28.3MB/s   05:18 ETA"
       ]
      },
      {
       "output_type": "stream",
       "stream": "stdout",
       "text": [
        "\r",
        "TAF15_1.polyATrim.adapterTrim.rmRep.bam        30% 3923MB  29.6MB/s   05:02 ETA"
       ]
      },
      {
       "output_type": "stream",
       "stream": "stdout",
       "text": [
        "\r",
        "TAF15_1.polyATrim.adapterTrim.rmRep.bam        30% 3965MB  30.8MB/s   04:49 ETA"
       ]
      },
      {
       "output_type": "stream",
       "stream": "stdout",
       "text": [
        "\r",
        "TAF15_1.polyATrim.adapterTrim.rmRep.bam        30% 3981MB  29.3MB/s   05:04 ETA"
       ]
      },
      {
       "output_type": "stream",
       "stream": "stdout",
       "text": [
        "\r",
        "TAF15_1.polyATrim.adapterTrim.rmRep.bam        30% 3991MB  27.4MB/s   05:24 ETA"
       ]
      },
      {
       "output_type": "stream",
       "stream": "stdout",
       "text": [
        "\r",
        "TAF15_1.polyATrim.adapterTrim.rmRep.bam        31% 4031MB  28.7MB/s   05:08 ETA"
       ]
      },
      {
       "output_type": "stream",
       "stream": "stdout",
       "text": [
        "\r",
        "TAF15_1.polyATrim.adapterTrim.rmRep.bam        31% 4073MB  30.0MB/s   04:54 ETA"
       ]
      },
      {
       "output_type": "stream",
       "stream": "stdout",
       "text": [
        "\r",
        "TAF15_1.polyATrim.adapterTrim.rmRep.bam        31% 4105MB  30.2MB/s   04:50 ETA"
       ]
      },
      {
       "output_type": "stream",
       "stream": "stdout",
       "text": [
        "\r",
        "TAF15_1.polyATrim.adapterTrim.rmRep.bam        31% 4121MB  28.8MB/s   05:04 ETA"
       ]
      },
      {
       "output_type": "stream",
       "stream": "stdout",
       "text": [
        "\r",
        "TAF15_1.polyATrim.adapterTrim.rmRep.bam        32% 4136MB  27.4MB/s   05:19 ETA"
       ]
      },
      {
       "output_type": "stream",
       "stream": "stdout",
       "text": [
        "\r",
        "TAF15_1.polyATrim.adapterTrim.rmRep.bam        32% 4178MB  28.8MB/s   05:02 ETA"
       ]
      },
      {
       "output_type": "stream",
       "stream": "stdout",
       "text": [
        "\r",
        "TAF15_1.polyATrim.adapterTrim.rmRep.bam        32% 4220MB  30.2MB/s   04:47 ETA"
       ]
      },
      {
       "output_type": "stream",
       "stream": "stdout",
       "text": [
        "\r",
        "TAF15_1.polyATrim.adapterTrim.rmRep.bam        33% 4262MB  31.4MB/s   04:35 ETA"
       ]
      },
      {
       "output_type": "stream",
       "stream": "stdout",
       "text": [
        "\r",
        "TAF15_1.polyATrim.adapterTrim.rmRep.bam        33% 4278MB  29.8MB/s   04:49 ETA"
       ]
      },
      {
       "output_type": "stream",
       "stream": "stdout",
       "text": [
        "\r",
        "TAF15_1.polyATrim.adapterTrim.rmRep.bam        33% 4286MB  27.7MB/s   05:11 ETA"
       ]
      },
      {
       "output_type": "stream",
       "stream": "stdout",
       "text": [
        "\r",
        "TAF15_1.polyATrim.adapterTrim.rmRep.bam        33% 4325MB  28.7MB/s   04:57 ETA"
       ]
      },
      {
       "output_type": "stream",
       "stream": "stdout",
       "text": [
        "\r",
        "TAF15_1.polyATrim.adapterTrim.rmRep.bam        33% 4366MB  30.0MB/s   04:43 ETA"
       ]
      },
      {
       "output_type": "stream",
       "stream": "stdout",
       "text": [
        "\r",
        "TAF15_1.polyATrim.adapterTrim.rmRep.bam        34% 4407MB  31.1MB/s   04:32 ETA"
       ]
      },
      {
       "output_type": "stream",
       "stream": "stdout",
       "text": [
        "\r",
        "TAF15_1.polyATrim.adapterTrim.rmRep.bam        34% 4422MB  29.5MB/s   04:47 ETA"
       ]
      },
      {
       "output_type": "stream",
       "stream": "stdout",
       "text": [
        "\r",
        "TAF15_1.polyATrim.adapterTrim.rmRep.bam        34% 4434MB  27.8MB/s   05:04 ETA"
       ]
      },
      {
       "output_type": "stream",
       "stream": "stdout",
       "text": [
        "\r",
        "TAF15_1.polyATrim.adapterTrim.rmRep.bam        34% 4473MB  28.9MB/s   04:51 ETA"
       ]
      },
      {
       "output_type": "stream",
       "stream": "stdout",
       "text": [
        "\r",
        "TAF15_1.polyATrim.adapterTrim.rmRep.bam        35% 4513MB  30.0MB/s   04:39 ETA"
       ]
      },
      {
       "output_type": "stream",
       "stream": "stdout",
       "text": [
        "\r",
        "TAF15_1.polyATrim.adapterTrim.rmRep.bam        35% 4554MB  31.1MB/s   04:27 ETA"
       ]
      },
      {
       "output_type": "stream",
       "stream": "stdout",
       "text": [
        "\r",
        "TAF15_1.polyATrim.adapterTrim.rmRep.bam        35% 4568MB  29.4MB/s   04:42 ETA"
       ]
      },
      {
       "output_type": "stream",
       "stream": "stdout",
       "text": [
        "\r",
        "TAF15_1.polyATrim.adapterTrim.rmRep.bam        35% 4581MB  27.7MB/s   04:59 ETA"
       ]
      },
      {
       "output_type": "stream",
       "stream": "stdout",
       "text": [
        "\r",
        "TAF15_1.polyATrim.adapterTrim.rmRep.bam        35% 4622MB  29.0MB/s   04:44 ETA"
       ]
      },
      {
       "output_type": "stream",
       "stream": "stdout",
       "text": [
        "\r",
        "TAF15_1.polyATrim.adapterTrim.rmRep.bam        36% 4663MB  30.3MB/s   04:31 ETA"
       ]
      },
      {
       "output_type": "stream",
       "stream": "stdout",
       "text": [
        "\r",
        "TAF15_1.polyATrim.adapterTrim.rmRep.bam        36% 4703MB  31.3MB/s   04:21 ETA"
       ]
      },
      {
       "output_type": "stream",
       "stream": "stdout",
       "text": [
        "\r",
        "TAF15_1.polyATrim.adapterTrim.rmRep.bam        36% 4717MB  29.6MB/s   04:36 ETA"
       ]
      },
      {
       "output_type": "stream",
       "stream": "stdout",
       "text": [
        "\r",
        "TAF15_1.polyATrim.adapterTrim.rmRep.bam        36% 4729MB  27.8MB/s   04:53 ETA"
       ]
      },
      {
       "output_type": "stream",
       "stream": "stdout",
       "text": [
        "\r",
        "TAF15_1.polyATrim.adapterTrim.rmRep.bam        37% 4771MB  29.1MB/s   04:38 ETA"
       ]
      },
      {
       "output_type": "stream",
       "stream": "stdout",
       "text": [
        "\r",
        "TAF15_1.polyATrim.adapterTrim.rmRep.bam        37% 4809MB  30.1MB/s   04:28 ETA"
       ]
      },
      {
       "output_type": "stream",
       "stream": "stdout",
       "text": [
        "\r",
        "TAF15_1.polyATrim.adapterTrim.rmRep.bam        37% 4849MB  31.1MB/s   04:18 ETA"
       ]
      },
      {
       "output_type": "stream",
       "stream": "stdout",
       "text": [
        "\r",
        "TAF15_1.polyATrim.adapterTrim.rmRep.bam        37% 4864MB  29.4MB/s   04:32 ETA"
       ]
      },
      {
       "output_type": "stream",
       "stream": "stdout",
       "text": [
        "\r",
        "TAF15_1.polyATrim.adapterTrim.rmRep.bam        37% 4877MB  27.8MB/s   04:48 ETA"
       ]
      },
      {
       "output_type": "stream",
       "stream": "stdout",
       "text": [
        "\r",
        "TAF15_1.polyATrim.adapterTrim.rmRep.bam        38% 4917MB  29.0MB/s   04:34 ETA"
       ]
      },
      {
       "output_type": "stream",
       "stream": "stdout",
       "text": [
        "\r",
        "TAF15_1.polyATrim.adapterTrim.rmRep.bam        38% 4958MB  30.2MB/s   04:22 ETA"
       ]
      },
      {
       "output_type": "stream",
       "stream": "stdout",
       "text": [
        "\r",
        "TAF15_1.polyATrim.adapterTrim.rmRep.bam        38% 5000MB  31.4MB/s   04:11 ETA"
       ]
      },
      {
       "output_type": "stream",
       "stream": "stdout",
       "text": [
        "\r",
        "TAF15_1.polyATrim.adapterTrim.rmRep.bam        38% 5015MB  29.7MB/s   04:24 ETA"
       ]
      },
      {
       "output_type": "stream",
       "stream": "stdout",
       "text": [
        "\r",
        "TAF15_1.polyATrim.adapterTrim.rmRep.bam        39% 5026MB  27.9MB/s   04:41 ETA"
       ]
      },
      {
       "output_type": "stream",
       "stream": "stdout",
       "text": [
        "\r",
        "TAF15_1.polyATrim.adapterTrim.rmRep.bam        39% 5067MB  29.2MB/s   04:27 ETA"
       ]
      },
      {
       "output_type": "stream",
       "stream": "stdout",
       "text": [
        "\r",
        "TAF15_1.polyATrim.adapterTrim.rmRep.bam        39% 5107MB  30.3MB/s   04:16 ETA"
       ]
      },
      {
       "output_type": "stream",
       "stream": "stdout",
       "text": [
        "\r",
        "TAF15_1.polyATrim.adapterTrim.rmRep.bam        39% 5149MB  31.4MB/s   04:06 ETA"
       ]
      },
      {
       "output_type": "stream",
       "stream": "stdout",
       "text": [
        "\r",
        "TAF15_1.polyATrim.adapterTrim.rmRep.bam        40% 5163MB  29.7MB/s   04:19 ETA"
       ]
      },
      {
       "output_type": "stream",
       "stream": "stdout",
       "text": [
        "\r",
        "TAF15_1.polyATrim.adapterTrim.rmRep.bam        40% 5175MB  28.0MB/s   04:35 ETA"
       ]
      },
      {
       "output_type": "stream",
       "stream": "stdout",
       "text": [
        "\r",
        "TAF15_1.polyATrim.adapterTrim.rmRep.bam        40% 5217MB  29.3MB/s   04:21 ETA"
       ]
      },
      {
       "output_type": "stream",
       "stream": "stdout",
       "text": [
        "\r",
        "TAF15_1.polyATrim.adapterTrim.rmRep.bam        40% 5259MB  30.6MB/s   04:09 ETA"
       ]
      },
      {
       "output_type": "stream",
       "stream": "stdout",
       "text": [
        "\r",
        "TAF15_1.polyATrim.adapterTrim.rmRep.bam        41% 5300MB  31.7MB/s   03:59 ETA"
       ]
      },
      {
       "output_type": "stream",
       "stream": "stdout",
       "text": [
        "\r",
        "TAF15_1.polyATrim.adapterTrim.rmRep.bam        41% 5314MB  29.9MB/s   04:13 ETA"
       ]
      },
      {
       "output_type": "stream",
       "stream": "stdout",
       "text": [
        "\r",
        "TAF15_1.polyATrim.adapterTrim.rmRep.bam        41% 5326MB  28.1MB/s   04:29 ETA"
       ]
      },
      {
       "output_type": "stream",
       "stream": "stdout",
       "text": [
        "\r",
        "TAF15_1.polyATrim.adapterTrim.rmRep.bam        41% 5366MB  29.3MB/s   04:16 ETA"
       ]
      },
      {
       "output_type": "stream",
       "stream": "stdout",
       "text": [
        "\r",
        "TAF15_1.polyATrim.adapterTrim.rmRep.bam        41% 5408MB  30.5MB/s   04:04 ETA"
       ]
      },
      {
       "output_type": "stream",
       "stream": "stdout",
       "text": [
        "\r",
        "TAF15_1.polyATrim.adapterTrim.rmRep.bam        42% 5449MB  31.6MB/s   03:55 ETA"
       ]
      },
      {
       "output_type": "stream",
       "stream": "stdout",
       "text": [
        "\r",
        "TAF15_1.polyATrim.adapterTrim.rmRep.bam        42% 5463MB  29.9MB/s   04:08 ETA"
       ]
      },
      {
       "output_type": "stream",
       "stream": "stdout",
       "text": [
        "\r",
        "TAF15_1.polyATrim.adapterTrim.rmRep.bam        42% 5476MB  28.2MB/s   04:23 ETA"
       ]
      },
      {
       "output_type": "stream",
       "stream": "stdout",
       "text": [
        "\r",
        "TAF15_1.polyATrim.adapterTrim.rmRep.bam        42% 5517MB  29.4MB/s   04:10 ETA"
       ]
      },
      {
       "output_type": "stream",
       "stream": "stdout",
       "text": [
        "\r",
        "TAF15_1.polyATrim.adapterTrim.rmRep.bam        43% 5557MB  30.5MB/s   04:00 ETA"
       ]
      },
      {
       "output_type": "stream",
       "stream": "stdout",
       "text": [
        "\r",
        "TAF15_1.polyATrim.adapterTrim.rmRep.bam        43% 5591MB  30.8MB/s   03:56 ETA"
       ]
      },
      {
       "output_type": "stream",
       "stream": "stdout",
       "text": [
        "\r",
        "TAF15_1.polyATrim.adapterTrim.rmRep.bam        43% 5604MB  29.1MB/s   04:10 ETA"
       ]
      },
      {
       "output_type": "stream",
       "stream": "stdout",
       "text": [
        "\r",
        "TAF15_1.polyATrim.adapterTrim.rmRep.bam        43% 5620MB  27.8MB/s   04:21 ETA"
       ]
      },
      {
       "output_type": "stream",
       "stream": "stdout",
       "text": [
        "\r",
        "TAF15_1.polyATrim.adapterTrim.rmRep.bam        43% 5659MB  28.9MB/s   04:10 ETA"
       ]
      },
      {
       "output_type": "stream",
       "stream": "stdout",
       "text": [
        "\r",
        "TAF15_1.polyATrim.adapterTrim.rmRep.bam        44% 5698MB  29.9MB/s   04:00 ETA"
       ]
      },
      {
       "output_type": "stream",
       "stream": "stdout",
       "text": [
        "\r",
        "TAF15_1.polyATrim.adapterTrim.rmRep.bam        44% 5737MB  30.8MB/s   03:52 ETA"
       ]
      },
      {
       "output_type": "stream",
       "stream": "stdout",
       "text": [
        "\r",
        "TAF15_1.polyATrim.adapterTrim.rmRep.bam        44% 5749MB  29.0MB/s   04:06 ETA"
       ]
      },
      {
       "output_type": "stream",
       "stream": "stdout",
       "text": [
        "\r",
        "TAF15_1.polyATrim.adapterTrim.rmRep.bam        44% 5764MB  27.5MB/s   04:18 ETA"
       ]
      },
      {
       "output_type": "stream",
       "stream": "stdout",
       "text": [
        "\r",
        "TAF15_1.polyATrim.adapterTrim.rmRep.bam        45% 5803MB  28.6MB/s   04:07 ETA"
       ]
      },
      {
       "output_type": "stream",
       "stream": "stdout",
       "text": [
        "\r",
        "TAF15_1.polyATrim.adapterTrim.rmRep.bam        45% 5842MB  29.7MB/s   03:57 ETA"
       ]
      },
      {
       "output_type": "stream",
       "stream": "stdout",
       "text": [
        "\r",
        "TAF15_1.polyATrim.adapterTrim.rmRep.bam        45% 5880MB  30.6MB/s   03:49 ETA"
       ]
      },
      {
       "output_type": "stream",
       "stream": "stdout",
       "text": [
        "\r",
        "TAF15_1.polyATrim.adapterTrim.rmRep.bam        45% 5894MB  28.9MB/s   04:02 ETA"
       ]
      },
      {
       "output_type": "stream",
       "stream": "stdout",
       "text": [
        "\r",
        "TAF15_1.polyATrim.adapterTrim.rmRep.bam        45% 5909MB  27.5MB/s   04:14 ETA"
       ]
      },
      {
       "output_type": "stream",
       "stream": "stdout",
       "text": [
        "\r",
        "TAF15_1.polyATrim.adapterTrim.rmRep.bam        46% 5935MB  27.4MB/s   04:14 ETA"
       ]
      },
      {
       "output_type": "stream",
       "stream": "stdout",
       "text": [
        "\r",
        "TAF15_1.polyATrim.adapterTrim.rmRep.bam        46% 5974MB  28.5MB/s   04:02 ETA"
       ]
      },
      {
       "output_type": "stream",
       "stream": "stdout",
       "text": [
        "\r",
        "TAF15_1.polyATrim.adapterTrim.rmRep.bam        46% 6013MB  29.6MB/s   03:52 ETA"
       ]
      },
      {
       "output_type": "stream",
       "stream": "stdout",
       "text": [
        "\r",
        "TAF15_1.polyATrim.adapterTrim.rmRep.bam        46% 6025MB  27.8MB/s   04:06 ETA"
       ]
      },
      {
       "output_type": "stream",
       "stream": "stdout",
       "text": [
        "\r",
        "TAF15_1.polyATrim.adapterTrim.rmRep.bam        46% 6045MB  27.0MB/s   04:13 ETA"
       ]
      },
      {
       "output_type": "stream",
       "stream": "stdout",
       "text": [
        "\r",
        "TAF15_1.polyATrim.adapterTrim.rmRep.bam        47% 6083MB  28.2MB/s   04:01 ETA"
       ]
      },
      {
       "output_type": "stream",
       "stream": "stdout",
       "text": [
        "\r",
        "TAF15_1.polyATrim.adapterTrim.rmRep.bam        47% 6122MB  29.3MB/s   03:51 ETA"
       ]
      },
      {
       "output_type": "stream",
       "stream": "stdout",
       "text": [
        "\r",
        "TAF15_1.polyATrim.adapterTrim.rmRep.bam        47% 6161MB  30.2MB/s   03:42 ETA"
       ]
      },
      {
       "output_type": "stream",
       "stream": "stdout",
       "text": [
        "\r",
        "TAF15_1.polyATrim.adapterTrim.rmRep.bam        47% 6173MB  28.4MB/s   03:56 ETA"
       ]
      },
      {
       "output_type": "stream",
       "stream": "stdout",
       "text": [
        "\r",
        "TAF15_1.polyATrim.adapterTrim.rmRep.bam        48% 6187MB  27.0MB/s   04:08 ETA"
       ]
      },
      {
       "output_type": "stream",
       "stream": "stdout",
       "text": [
        "\r",
        "TAF15_1.polyATrim.adapterTrim.rmRep.bam        48% 6226MB  28.2MB/s   03:56 ETA"
       ]
      },
      {
       "output_type": "stream",
       "stream": "stdout",
       "text": [
        "\r",
        "TAF15_1.polyATrim.adapterTrim.rmRep.bam        48% 6265MB  29.2MB/s   03:46 ETA"
       ]
      },
      {
       "output_type": "stream",
       "stream": "stdout",
       "text": [
        "\r",
        "TAF15_1.polyATrim.adapterTrim.rmRep.bam        48% 6304MB  30.2MB/s   03:38 ETA"
       ]
      },
      {
       "output_type": "stream",
       "stream": "stdout",
       "text": [
        "\r",
        "TAF15_1.polyATrim.adapterTrim.rmRep.bam        49% 6316MB  28.4MB/s   03:51 ETA"
       ]
      },
      {
       "output_type": "stream",
       "stream": "stdout",
       "text": [
        "\r",
        "TAF15_1.polyATrim.adapterTrim.rmRep.bam        49% 6332MB  27.1MB/s   04:01 ETA"
       ]
      },
      {
       "output_type": "stream",
       "stream": "stdout",
       "text": [
        "\r",
        "TAF15_1.polyATrim.adapterTrim.rmRep.bam        49% 6371MB  28.3MB/s   03:50 ETA"
       ]
      },
      {
       "output_type": "stream",
       "stream": "stdout",
       "text": [
        "\r",
        "TAF15_1.polyATrim.adapterTrim.rmRep.bam        49% 6403MB  28.7MB/s   03:45 ETA"
       ]
      },
      {
       "output_type": "stream",
       "stream": "stdout",
       "text": [
        "\r",
        "TAF15_1.polyATrim.adapterTrim.rmRep.bam        49% 6442MB  29.7MB/s   03:36 ETA"
       ]
      },
      {
       "output_type": "stream",
       "stream": "stdout",
       "text": [
        "\r",
        "TAF15_1.polyATrim.adapterTrim.rmRep.bam        50% 6454MB  27.9MB/s   03:50 ETA"
       ]
      },
      {
       "output_type": "stream",
       "stream": "stdout",
       "text": [
        "\r",
        "TAF15_1.polyATrim.adapterTrim.rmRep.bam        50% 6474MB  27.1MB/s   03:56 ETA"
       ]
      },
      {
       "output_type": "stream",
       "stream": "stdout",
       "text": [
        "\r",
        "TAF15_1.polyATrim.adapterTrim.rmRep.bam        50% 6515MB  28.6MB/s   03:42 ETA"
       ]
      },
      {
       "output_type": "stream",
       "stream": "stdout",
       "text": [
        "\r",
        "TAF15_1.polyATrim.adapterTrim.rmRep.bam        50% 6557MB  29.9MB/s   03:31 ETA"
       ]
      },
      {
       "output_type": "stream",
       "stream": "stdout",
       "text": [
        "\r",
        "TAF15_1.polyATrim.adapterTrim.rmRep.bam        51% 6598MB  31.0MB/s   03:22 ETA"
       ]
      },
      {
       "output_type": "stream",
       "stream": "stdout",
       "text": [
        "\r",
        "TAF15_1.polyATrim.adapterTrim.rmRep.bam        51% 6610MB  29.1MB/s   03:35 ETA"
       ]
      },
      {
       "output_type": "stream",
       "stream": "stdout",
       "text": [
        "\r",
        "TAF15_1.polyATrim.adapterTrim.rmRep.bam        51% 6622MB  27.4MB/s   03:48 ETA"
       ]
      },
      {
       "output_type": "stream",
       "stream": "stdout",
       "text": [
        "\r",
        "TAF15_1.polyATrim.adapterTrim.rmRep.bam        51% 6661MB  28.6MB/s   03:37 ETA"
       ]
      },
      {
       "output_type": "stream",
       "stream": "stdout",
       "text": [
        "\r",
        "TAF15_1.polyATrim.adapterTrim.rmRep.bam        51% 6694MB  29.0MB/s   03:33 ETA"
       ]
      },
      {
       "output_type": "stream",
       "stream": "stdout",
       "text": [
        "\r",
        "TAF15_1.polyATrim.adapterTrim.rmRep.bam        52% 6732MB  29.9MB/s   03:25 ETA"
       ]
      },
      {
       "output_type": "stream",
       "stream": "stdout",
       "text": [
        "\r",
        "TAF15_1.polyATrim.adapterTrim.rmRep.bam        52% 6743MB  28.1MB/s   03:38 ETA"
       ]
      },
      {
       "output_type": "stream",
       "stream": "stdout",
       "text": [
        "\r",
        "TAF15_1.polyATrim.adapterTrim.rmRep.bam        52% 6763MB  27.3MB/s   03:44 ETA"
       ]
      },
      {
       "output_type": "stream",
       "stream": "stdout",
       "text": [
        "\r",
        "TAF15_1.polyATrim.adapterTrim.rmRep.bam        52% 6803MB  28.5MB/s   03:33 ETA"
       ]
      },
      {
       "output_type": "stream",
       "stream": "stdout",
       "text": [
        "\r",
        "TAF15_1.polyATrim.adapterTrim.rmRep.bam        53% 6843MB  29.6MB/s   03:24 ETA"
       ]
      },
      {
       "output_type": "stream",
       "stream": "stdout",
       "text": [
        "\r",
        "TAF15_1.polyATrim.adapterTrim.rmRep.bam        53% 6882MB  30.6MB/s   03:16 ETA"
       ]
      },
      {
       "output_type": "stream",
       "stream": "stdout",
       "text": [
        "\r",
        "TAF15_1.polyATrim.adapterTrim.rmRep.bam        53% 6893MB  28.7MB/s   03:29 ETA"
       ]
      },
      {
       "output_type": "stream",
       "stream": "stdout",
       "text": [
        "\r",
        "TAF15_1.polyATrim.adapterTrim.rmRep.bam        53% 6908MB  27.2MB/s   03:39 ETA"
       ]
      },
      {
       "output_type": "stream",
       "stream": "stdout",
       "text": [
        "\r",
        "TAF15_1.polyATrim.adapterTrim.rmRep.bam        53% 6947MB  28.5MB/s   03:28 ETA"
       ]
      },
      {
       "output_type": "stream",
       "stream": "stdout",
       "text": [
        "\r",
        "TAF15_1.polyATrim.adapterTrim.rmRep.bam        54% 6981MB  28.9MB/s   03:24 ETA"
       ]
      },
      {
       "output_type": "stream",
       "stream": "stdout",
       "text": [
        "\r",
        "TAF15_1.polyATrim.adapterTrim.rmRep.bam        54% 7020MB  30.0MB/s   03:15 ETA"
       ]
      },
      {
       "output_type": "stream",
       "stream": "stdout",
       "text": [
        "\r",
        "TAF15_1.polyATrim.adapterTrim.rmRep.bam        54% 7031MB  28.1MB/s   03:28 ETA"
       ]
      },
      {
       "output_type": "stream",
       "stream": "stdout",
       "text": [
        "\r",
        "TAF15_1.polyATrim.adapterTrim.rmRep.bam        54% 7050MB  27.2MB/s   03:34 ETA"
       ]
      },
      {
       "output_type": "stream",
       "stream": "stdout",
       "text": [
        "\r",
        "TAF15_1.polyATrim.adapterTrim.rmRep.bam        54% 7083MB  27.8MB/s   03:29 ETA"
       ]
      },
      {
       "output_type": "stream",
       "stream": "stdout",
       "text": [
        "\r",
        "TAF15_1.polyATrim.adapterTrim.rmRep.bam        55% 7123MB  28.9MB/s   03:19 ETA"
       ]
      },
      {
       "output_type": "stream",
       "stream": "stdout",
       "text": [
        "\r",
        "TAF15_1.polyATrim.adapterTrim.rmRep.bam        55% 7162MB  30.0MB/s   03:10 ETA"
       ]
      },
      {
       "output_type": "stream",
       "stream": "stdout",
       "text": [
        "\r",
        "TAF15_1.polyATrim.adapterTrim.rmRep.bam        55% 7173MB  28.1MB/s   03:23 ETA"
       ]
      },
      {
       "output_type": "stream",
       "stream": "stdout",
       "text": [
        "\r",
        "TAF15_1.polyATrim.adapterTrim.rmRep.bam        55% 7191MB  27.1MB/s   03:30 ETA"
       ]
      },
      {
       "output_type": "stream",
       "stream": "stdout",
       "text": [
        "\r",
        "TAF15_1.polyATrim.adapterTrim.rmRep.bam        56% 7230MB  28.3MB/s   03:19 ETA"
       ]
      },
      {
       "output_type": "stream",
       "stream": "stdout",
       "text": [
        "\r",
        "TAF15_1.polyATrim.adapterTrim.rmRep.bam        56% 7270MB  29.4MB/s   03:10 ETA"
       ]
      },
      {
       "output_type": "stream",
       "stream": "stdout",
       "text": [
        "\r",
        "TAF15_1.polyATrim.adapterTrim.rmRep.bam        56% 7309MB  30.4MB/s   03:03 ETA"
       ]
      },
      {
       "output_type": "stream",
       "stream": "stdout",
       "text": [
        "\r",
        "TAF15_1.polyATrim.adapterTrim.rmRep.bam        56% 7320MB  28.5MB/s   03:15 ETA"
       ]
      },
      {
       "output_type": "stream",
       "stream": "stdout",
       "text": [
        "\r",
        "TAF15_1.polyATrim.adapterTrim.rmRep.bam        56% 7336MB  27.2MB/s   03:23 ETA"
       ]
      },
      {
       "output_type": "stream",
       "stream": "stdout",
       "text": [
        "\r",
        "TAF15_1.polyATrim.adapterTrim.rmRep.bam        57% 7376MB  28.5MB/s   03:13 ETA"
       ]
      },
      {
       "output_type": "stream",
       "stream": "stdout",
       "text": [
        "\r",
        "TAF15_1.polyATrim.adapterTrim.rmRep.bam        57% 7409MB  28.9MB/s   03:09 ETA"
       ]
      },
      {
       "output_type": "stream",
       "stream": "stdout",
       "text": [
        "\r",
        "TAF15_1.polyATrim.adapterTrim.rmRep.bam        57% 7448MB  30.0MB/s   03:01 ETA"
       ]
      },
      {
       "output_type": "stream",
       "stream": "stdout",
       "text": [
        "\r",
        "TAF15_1.polyATrim.adapterTrim.rmRep.bam        57% 7459MB  28.0MB/s   03:13 ETA"
       ]
      },
      {
       "output_type": "stream",
       "stream": "stdout",
       "text": [
        "\r",
        "TAF15_1.polyATrim.adapterTrim.rmRep.bam        58% 7478MB  27.1MB/s   03:19 ETA"
       ]
      },
      {
       "output_type": "stream",
       "stream": "stdout",
       "text": [
        "\r",
        "TAF15_1.polyATrim.adapterTrim.rmRep.bam        58% 7517MB  28.4MB/s   03:09 ETA"
       ]
      },
      {
       "output_type": "stream",
       "stream": "stdout",
       "text": [
        "\r",
        "TAF15_1.polyATrim.adapterTrim.rmRep.bam        58% 7556MB  29.4MB/s   03:01 ETA"
       ]
      },
      {
       "output_type": "stream",
       "stream": "stdout",
       "text": [
        "\r",
        "TAF15_1.polyATrim.adapterTrim.rmRep.bam        58% 7596MB  30.4MB/s   02:53 ETA"
       ]
      },
      {
       "output_type": "stream",
       "stream": "stdout",
       "text": [
        "\r",
        "TAF15_1.polyATrim.adapterTrim.rmRep.bam        59% 7606MB  28.4MB/s   03:05 ETA"
       ]
      },
      {
       "output_type": "stream",
       "stream": "stdout",
       "text": [
        "\r",
        "TAF15_1.polyATrim.adapterTrim.rmRep.bam        59% 7622MB  27.2MB/s   03:13 ETA"
       ]
      },
      {
       "output_type": "stream",
       "stream": "stdout",
       "text": [
        "\r",
        "TAF15_1.polyATrim.adapterTrim.rmRep.bam        59% 7661MB  28.4MB/s   03:04 ETA"
       ]
      },
      {
       "output_type": "stream",
       "stream": "stdout",
       "text": [
        "\r",
        "TAF15_1.polyATrim.adapterTrim.rmRep.bam        59% 7701MB  29.5MB/s   02:55 ETA"
       ]
      },
      {
       "output_type": "stream",
       "stream": "stdout",
       "text": [
        "\r",
        "TAF15_1.polyATrim.adapterTrim.rmRep.bam        60% 7740MB  30.4MB/s   02:49 ETA"
       ]
      },
      {
       "output_type": "stream",
       "stream": "stdout",
       "text": [
        "\r",
        "TAF15_1.polyATrim.adapterTrim.rmRep.bam        60% 7750MB  28.4MB/s   03:00 ETA"
       ]
      },
      {
       "output_type": "stream",
       "stream": "stdout",
       "text": [
        "\r",
        "TAF15_1.polyATrim.adapterTrim.rmRep.bam        60% 7768MB  27.3MB/s   03:07 ETA"
       ]
      },
      {
       "output_type": "stream",
       "stream": "stdout",
       "text": [
        "\r",
        "TAF15_1.polyATrim.adapterTrim.rmRep.bam        60% 7807MB  28.6MB/s   02:57 ETA"
       ]
      },
      {
       "output_type": "stream",
       "stream": "stdout",
       "text": [
        "\r",
        "TAF15_1.polyATrim.adapterTrim.rmRep.bam        60% 7847MB  29.7MB/s   02:49 ETA"
       ]
      },
      {
       "output_type": "stream",
       "stream": "stdout",
       "text": [
        "\r",
        "TAF15_1.polyATrim.adapterTrim.rmRep.bam        61% 7886MB  30.6MB/s   02:43 ETA"
       ]
      },
      {
       "output_type": "stream",
       "stream": "stdout",
       "text": [
        "\r",
        "TAF15_1.polyATrim.adapterTrim.rmRep.bam        61% 7896MB  28.6MB/s   02:54 ETA"
       ]
      },
      {
       "output_type": "stream",
       "stream": "stdout",
       "text": [
        "\r",
        "TAF15_1.polyATrim.adapterTrim.rmRep.bam        61% 7913MB  27.4MB/s   03:01 ETA"
       ]
      },
      {
       "output_type": "stream",
       "stream": "stdout",
       "text": [
        "\r",
        "TAF15_1.polyATrim.adapterTrim.rmRep.bam        61% 7953MB  28.6MB/s   02:52 ETA"
       ]
      },
      {
       "output_type": "stream",
       "stream": "stdout",
       "text": [
        "\r",
        "TAF15_1.polyATrim.adapterTrim.rmRep.bam        62% 7992MB  29.7MB/s   02:44 ETA"
       ]
      },
      {
       "output_type": "stream",
       "stream": "stdout",
       "text": [
        "\r",
        "TAF15_1.polyATrim.adapterTrim.rmRep.bam        62% 8032MB  30.7MB/s   02:38 ETA"
       ]
      },
      {
       "output_type": "stream",
       "stream": "stdout",
       "text": [
        "\r",
        "TAF15_1.polyATrim.adapterTrim.rmRep.bam        62% 8041MB  28.6MB/s   02:49 ETA"
       ]
      },
      {
       "output_type": "stream",
       "stream": "stdout",
       "text": [
        "\r",
        "TAF15_1.polyATrim.adapterTrim.rmRep.bam        62% 8059MB  27.5MB/s   02:55 ETA"
       ]
      },
      {
       "output_type": "stream",
       "stream": "stdout",
       "text": [
        "\r",
        "TAF15_1.polyATrim.adapterTrim.rmRep.bam        62% 8098MB  28.7MB/s   02:46 ETA"
       ]
      },
      {
       "output_type": "stream",
       "stream": "stdout",
       "text": [
        "\r",
        "TAF15_1.polyATrim.adapterTrim.rmRep.bam        63% 8131MB  29.1MB/s   02:43 ETA"
       ]
      },
      {
       "output_type": "stream",
       "stream": "stdout",
       "text": [
        "\r",
        "TAF15_1.polyATrim.adapterTrim.rmRep.bam        63% 8171MB  30.2MB/s   02:36 ETA"
       ]
      },
      {
       "output_type": "stream",
       "stream": "stdout",
       "text": [
        "\r",
        "TAF15_1.polyATrim.adapterTrim.rmRep.bam        63% 8180MB  28.1MB/s   02:47 ETA"
       ]
      },
      {
       "output_type": "stream",
       "stream": "stdout",
       "text": [
        "\r",
        "TAF15_1.polyATrim.adapterTrim.rmRep.bam        63% 8200MB  27.2MB/s   02:52 ETA"
       ]
      },
      {
       "output_type": "stream",
       "stream": "stdout",
       "text": [
        "\r",
        "TAF15_1.polyATrim.adapterTrim.rmRep.bam        63% 8239MB  28.4MB/s   02:43 ETA"
       ]
      },
      {
       "output_type": "stream",
       "stream": "stdout",
       "text": [
        "\r",
        "TAF15_1.polyATrim.adapterTrim.rmRep.bam        64% 8278MB  29.5MB/s   02:36 ETA"
       ]
      },
      {
       "output_type": "stream",
       "stream": "stdout",
       "text": [
        "\r",
        "TAF15_1.polyATrim.adapterTrim.rmRep.bam        64% 8317MB  30.5MB/s   02:29 ETA"
       ]
      },
      {
       "output_type": "stream",
       "stream": "stdout",
       "text": [
        "\r",
        "TAF15_1.polyATrim.adapterTrim.rmRep.bam        64% 8327MB  28.4MB/s   02:40 ETA"
       ]
      },
      {
       "output_type": "stream",
       "stream": "stdout",
       "text": [
        "\r",
        "TAF15_1.polyATrim.adapterTrim.rmRep.bam        64% 8344MB  27.3MB/s   02:46 ETA"
       ]
      },
      {
       "output_type": "stream",
       "stream": "stdout",
       "text": [
        "\r",
        "TAF15_1.polyATrim.adapterTrim.rmRep.bam        65% 8377MB  27.9MB/s   02:41 ETA"
       ]
      },
      {
       "output_type": "stream",
       "stream": "stdout",
       "text": [
        "\r",
        "TAF15_1.polyATrim.adapterTrim.rmRep.bam        65% 8412MB  28.5MB/s   02:36 ETA"
       ]
      },
      {
       "output_type": "stream",
       "stream": "stdout",
       "text": [
        "\r",
        "TAF15_1.polyATrim.adapterTrim.rmRep.bam        65% 8443MB  28.8MB/s   02:34 ETA"
       ]
      },
      {
       "output_type": "stream",
       "stream": "stdout",
       "text": [
        "\r",
        "TAF15_1.polyATrim.adapterTrim.rmRep.bam        65% 8454MB  27.0MB/s   02:44 ETA"
       ]
      },
      {
       "output_type": "stream",
       "stream": "stdout",
       "text": [
        "\r",
        "TAF15_1.polyATrim.adapterTrim.rmRep.bam        65% 8478MB  26.7MB/s   02:44 ETA"
       ]
      },
      {
       "output_type": "stream",
       "stream": "stdout",
       "text": [
        "\r",
        "TAF15_1.polyATrim.adapterTrim.rmRep.bam        66% 8518MB  28.0MB/s   02:36 ETA"
       ]
      },
      {
       "output_type": "stream",
       "stream": "stdout",
       "text": [
        "\r",
        "TAF15_1.polyATrim.adapterTrim.rmRep.bam        66% 8557MB  29.1MB/s   02:28 ETA"
       ]
      },
      {
       "output_type": "stream",
       "stream": "stdout",
       "text": [
        "\r",
        "TAF15_1.polyATrim.adapterTrim.rmRep.bam        66% 8596MB  30.1MB/s   02:22 ETA"
       ]
      },
      {
       "output_type": "stream",
       "stream": "stdout",
       "text": [
        "\r",
        "TAF15_1.polyATrim.adapterTrim.rmRep.bam        66% 8605MB  28.0MB/s   02:32 ETA"
       ]
      },
      {
       "output_type": "stream",
       "stream": "stdout",
       "text": [
        "\r",
        "TAF15_1.polyATrim.adapterTrim.rmRep.bam        66% 8621MB  26.8MB/s   02:39 ETA"
       ]
      },
      {
       "output_type": "stream",
       "stream": "stdout",
       "text": [
        "\r",
        "TAF15_1.polyATrim.adapterTrim.rmRep.bam        67% 8654MB  27.4MB/s   02:34 ETA"
       ]
      },
      {
       "output_type": "stream",
       "stream": "stdout",
       "text": [
        "\r",
        "TAF15_1.polyATrim.adapterTrim.rmRep.bam        67% 8693MB  28.6MB/s   02:26 ETA"
       ]
      },
      {
       "output_type": "stream",
       "stream": "stdout",
       "text": [
        "\r",
        "TAF15_1.polyATrim.adapterTrim.rmRep.bam        67% 8733MB  29.7MB/s   02:19 ETA"
       ]
      },
      {
       "output_type": "stream",
       "stream": "stdout",
       "text": [
        "\r",
        "TAF15_1.polyATrim.adapterTrim.rmRep.bam        67% 8735MB  27.0MB/s   02:33 ETA"
       ]
      },
      {
       "output_type": "stream",
       "stream": "stdout",
       "text": [
        "\r",
        "TAF15_1.polyATrim.adapterTrim.rmRep.bam        67% 8759MB  26.7MB/s   02:34 ETA"
       ]
      },
      {
       "output_type": "stream",
       "stream": "stdout",
       "text": [
        "\r",
        "TAF15_1.polyATrim.adapterTrim.rmRep.bam        68% 8799MB  28.0MB/s   02:26 ETA"
       ]
      },
      {
       "output_type": "stream",
       "stream": "stdout",
       "text": [
        "\r",
        "TAF15_1.polyATrim.adapterTrim.rmRep.bam        68% 8832MB  28.5MB/s   02:22 ETA"
       ]
      },
      {
       "output_type": "stream",
       "stream": "stdout",
       "text": [
        "\r",
        "TAF15_1.polyATrim.adapterTrim.rmRep.bam        68% 8871MB  29.6MB/s   02:15 ETA"
       ]
      },
      {
       "output_type": "stream",
       "stream": "stdout",
       "text": [
        "\r",
        "TAF15_1.polyATrim.adapterTrim.rmRep.bam        68% 8880MB  27.5MB/s   02:25 ETA"
       ]
      },
      {
       "output_type": "stream",
       "stream": "stdout",
       "text": [
        "\r",
        "TAF15_1.polyATrim.adapterTrim.rmRep.bam        69% 8899MB  26.6MB/s   02:29 ETA"
       ]
      },
      {
       "output_type": "stream",
       "stream": "stdout",
       "text": [
        "\r",
        "TAF15_1.polyATrim.adapterTrim.rmRep.bam        69% 8938MB  27.9MB/s   02:21 ETA"
       ]
      },
      {
       "output_type": "stream",
       "stream": "stdout",
       "text": [
        "\r",
        "TAF15_1.polyATrim.adapterTrim.rmRep.bam        69% 8977MB  29.0MB/s   02:14 ETA"
       ]
      },
      {
       "output_type": "stream",
       "stream": "stdout",
       "text": [
        "\r",
        "TAF15_1.polyATrim.adapterTrim.rmRep.bam        69% 9011MB  29.5MB/s   02:11 ETA"
       ]
      },
      {
       "output_type": "stream",
       "stream": "stdout",
       "text": [
        "\r",
        "TAF15_1.polyATrim.adapterTrim.rmRep.bam        69% 9019MB  27.4MB/s   02:21 ETA"
       ]
      },
      {
       "output_type": "stream",
       "stream": "stdout",
       "text": [
        "\r",
        "TAF15_1.polyATrim.adapterTrim.rmRep.bam        70% 9040MB  26.7MB/s   02:23 ETA"
       ]
      },
      {
       "output_type": "stream",
       "stream": "stdout",
       "text": [
        "\r",
        "TAF15_1.polyATrim.adapterTrim.rmRep.bam        70% 9080MB  28.0MB/s   02:16 ETA"
       ]
      },
      {
       "output_type": "stream",
       "stream": "stdout",
       "text": [
        "\r",
        "TAF15_1.polyATrim.adapterTrim.rmRep.bam        70% 9119MB  29.1MB/s   02:09 ETA"
       ]
      },
      {
       "output_type": "stream",
       "stream": "stdout",
       "text": [
        "\r",
        "TAF15_1.polyATrim.adapterTrim.rmRep.bam        71% 9158MB  30.1MB/s   02:03 ETA"
       ]
      },
      {
       "output_type": "stream",
       "stream": "stdout",
       "text": [
        "\r",
        "TAF15_1.polyATrim.adapterTrim.rmRep.bam        71% 9166MB  27.9MB/s   02:13 ETA"
       ]
      },
      {
       "output_type": "stream",
       "stream": "stdout",
       "text": [
        "\r",
        "TAF15_1.polyATrim.adapterTrim.rmRep.bam        71% 9185MB  27.0MB/s   02:17 ETA"
       ]
      },
      {
       "output_type": "stream",
       "stream": "stdout",
       "text": [
        "\r",
        "TAF15_1.polyATrim.adapterTrim.rmRep.bam        71% 9224MB  28.3MB/s   02:09 ETA"
       ]
      },
      {
       "output_type": "stream",
       "stream": "stdout",
       "text": [
        "\r",
        "TAF15_1.polyATrim.adapterTrim.rmRep.bam        71% 9264MB  29.4MB/s   02:03 ETA"
       ]
      },
      {
       "output_type": "stream",
       "stream": "stdout",
       "text": [
        "\r",
        "TAF15_1.polyATrim.adapterTrim.rmRep.bam        72% 9297MB  29.8MB/s   02:00 ETA"
       ]
      },
      {
       "output_type": "stream",
       "stream": "stdout",
       "text": [
        "\r",
        "TAF15_1.polyATrim.adapterTrim.rmRep.bam        72% 9305MB  27.6MB/s   02:09 ETA"
       ]
      },
      {
       "output_type": "stream",
       "stream": "stdout",
       "text": [
        "\r",
        "TAF15_1.polyATrim.adapterTrim.rmRep.bam        72% 9327MB  27.0MB/s   02:11 ETA"
       ]
      },
      {
       "output_type": "stream",
       "stream": "stdout",
       "text": [
        "\r",
        "TAF15_1.polyATrim.adapterTrim.rmRep.bam        72% 9366MB  28.2MB/s   02:04 ETA"
       ]
      },
      {
       "output_type": "stream",
       "stream": "stdout",
       "text": [
        "\r",
        "TAF15_1.polyATrim.adapterTrim.rmRep.bam        72% 9399MB  28.7MB/s   02:01 ETA"
       ]
      },
      {
       "output_type": "stream",
       "stream": "stdout",
       "text": [
        "\r",
        "TAF15_1.polyATrim.adapterTrim.rmRep.bam        73% 9439MB  29.8MB/s   01:55 ETA"
       ]
      },
      {
       "output_type": "stream",
       "stream": "stdout",
       "text": [
        "\r",
        "TAF15_1.polyATrim.adapterTrim.rmRep.bam        73% 9447MB  27.6MB/s   02:04 ETA"
       ]
      },
      {
       "output_type": "stream",
       "stream": "stdout",
       "text": [
        "\r",
        "TAF15_1.polyATrim.adapterTrim.rmRep.bam        73% 9468MB  26.9MB/s   02:06 ETA"
       ]
      },
      {
       "output_type": "stream",
       "stream": "stdout",
       "text": [
        "\r",
        "TAF15_1.polyATrim.adapterTrim.rmRep.bam        73% 9507MB  28.2MB/s   01:59 ETA"
       ]
      },
      {
       "output_type": "stream",
       "stream": "stdout",
       "text": [
        "\r",
        "TAF15_1.polyATrim.adapterTrim.rmRep.bam        74% 9547MB  29.3MB/s   01:53 ETA"
       ]
      },
      {
       "output_type": "stream",
       "stream": "stdout",
       "text": [
        "\r",
        "TAF15_1.polyATrim.adapterTrim.rmRep.bam        74% 9586MB  30.3MB/s   01:48 ETA"
       ]
      },
      {
       "output_type": "stream",
       "stream": "stdout",
       "text": [
        "\r",
        "TAF15_1.polyATrim.adapterTrim.rmRep.bam        74% 9593MB  28.1MB/s   01:57 ETA"
       ]
      },
      {
       "output_type": "stream",
       "stream": "stdout",
       "text": [
        "\r",
        "TAF15_1.polyATrim.adapterTrim.rmRep.bam        74% 9613MB  27.2MB/s   02:00 ETA"
       ]
      },
      {
       "output_type": "stream",
       "stream": "stdout",
       "text": [
        "\r",
        "TAF15_1.polyATrim.adapterTrim.rmRep.bam        74% 9652MB  28.4MB/s   01:53 ETA"
       ]
      },
      {
       "output_type": "stream",
       "stream": "stdout",
       "text": [
        "\r",
        "TAF15_1.polyATrim.adapterTrim.rmRep.bam        75% 9692MB  29.5MB/s   01:48 ETA"
       ]
      },
      {
       "output_type": "stream",
       "stream": "stdout",
       "text": [
        "\r",
        "TAF15_1.polyATrim.adapterTrim.rmRep.bam        75% 9731MB  30.5MB/s   01:43 ETA"
       ]
      },
      {
       "output_type": "stream",
       "stream": "stdout",
       "text": [
        "\r",
        "TAF15_1.polyATrim.adapterTrim.rmRep.bam        75% 9739MB  28.2MB/s   01:51 ETA"
       ]
      },
      {
       "output_type": "stream",
       "stream": "stdout",
       "text": [
        "\r",
        "TAF15_1.polyATrim.adapterTrim.rmRep.bam        75% 9759MB  27.4MB/s   01:54 ETA"
       ]
      },
      {
       "output_type": "stream",
       "stream": "stdout",
       "text": [
        "\r",
        "TAF15_1.polyATrim.adapterTrim.rmRep.bam        75% 9792MB  28.0MB/s   01:50 ETA"
       ]
      },
      {
       "output_type": "stream",
       "stream": "stdout",
       "text": [
        "\r",
        "TAF15_1.polyATrim.adapterTrim.rmRep.bam        76% 9831MB  29.1MB/s   01:44 ETA"
       ]
      },
      {
       "output_type": "stream",
       "stream": "stdout",
       "text": [
        "\r",
        "TAF15_1.polyATrim.adapterTrim.rmRep.bam        76% 9864MB  29.5MB/s   01:42 ETA"
       ]
      },
      {
       "output_type": "stream",
       "stream": "stdout",
       "text": [
        "\r",
        "TAF15_1.polyATrim.adapterTrim.rmRep.bam        76% 9871MB  27.3MB/s   01:50 ETA"
       ]
      },
      {
       "output_type": "stream",
       "stream": "stdout",
       "text": [
        "\r",
        "TAF15_1.polyATrim.adapterTrim.rmRep.bam        76% 9896MB  27.0MB/s   01:50 ETA"
       ]
      },
      {
       "output_type": "stream",
       "stream": "stdout",
       "text": [
        "\r",
        "TAF15_1.polyATrim.adapterTrim.rmRep.bam        77% 9933MB  28.0MB/s   01:45 ETA"
       ]
      },
      {
       "output_type": "stream",
       "stream": "stdout",
       "text": [
        "\r",
        "TAF15_1.polyATrim.adapterTrim.rmRep.bam        77% 9969MB  28.8MB/s   01:41 ETA"
       ]
      },
      {
       "output_type": "stream",
       "stream": "stdout",
       "text": [
        "\r",
        "TAF15_1.polyATrim.adapterTrim.rmRep.bam        77%   10GB  29.2MB/s   01:38 ETA"
       ]
      },
      {
       "output_type": "stream",
       "stream": "stdout",
       "text": [
        "\r",
        "TAF15_1.polyATrim.adapterTrim.rmRep.bam        77%   10GB  27.0MB/s   01:46 ETA"
       ]
      },
      {
       "output_type": "stream",
       "stream": "stdout",
       "text": [
        "\r",
        "TAF15_1.polyATrim.adapterTrim.rmRep.bam        77%   10GB  26.7MB/s   01:47 ETA"
       ]
      },
      {
       "output_type": "stream",
       "stream": "stdout",
       "text": [
        "\r",
        "TAF15_1.polyATrim.adapterTrim.rmRep.bam        78%   10GB  27.3MB/s   01:43 ETA"
       ]
      },
      {
       "output_type": "stream",
       "stream": "stdout",
       "text": [
        "\r",
        "TAF15_1.polyATrim.adapterTrim.rmRep.bam        78%   10GB  28.5MB/s   01:37 ETA"
       ]
      },
      {
       "output_type": "stream",
       "stream": "stdout",
       "text": [
        "\r",
        "TAF15_1.polyATrim.adapterTrim.rmRep.bam        78%   10GB  29.6MB/s   01:32 ETA"
       ]
      },
      {
       "output_type": "stream",
       "stream": "stdout",
       "text": [
        "\r",
        "TAF15_1.polyATrim.adapterTrim.rmRep.bam        78%   10GB  27.3MB/s   01:40 ETA"
       ]
      },
      {
       "output_type": "stream",
       "stream": "stdout",
       "text": [
        "\r",
        "TAF15_1.polyATrim.adapterTrim.rmRep.bam        78%   10GB  26.8MB/s   01:41 ETA"
       ]
      },
      {
       "output_type": "stream",
       "stream": "stdout",
       "text": [
        "\r",
        "TAF15_1.polyATrim.adapterTrim.rmRep.bam        79%   10GB  28.1MB/s   01:35 ETA"
       ]
      },
      {
       "output_type": "stream",
       "stream": "stdout",
       "text": [
        "\r",
        "TAF15_1.polyATrim.adapterTrim.rmRep.bam        79%   10GB  29.2MB/s   01:30 ETA"
       ]
      },
      {
       "output_type": "stream",
       "stream": "stdout",
       "text": [
        "\r",
        "TAF15_1.polyATrim.adapterTrim.rmRep.bam        79%   10GB  30.2MB/s   01:25 ETA"
       ]
      },
      {
       "output_type": "stream",
       "stream": "stdout",
       "text": [
        "\r",
        "TAF15_1.polyATrim.adapterTrim.rmRep.bam        79%   10GB  27.9MB/s   01:32 ETA"
       ]
      },
      {
       "output_type": "stream",
       "stream": "stdout",
       "text": [
        "\r",
        "TAF15_1.polyATrim.adapterTrim.rmRep.bam        80%   10GB  27.1MB/s   01:34 ETA"
       ]
      },
      {
       "output_type": "stream",
       "stream": "stdout",
       "text": [
        "\r",
        "TAF15_1.polyATrim.adapterTrim.rmRep.bam        80%   10GB  28.3MB/s   01:29 ETA"
       ]
      },
      {
       "output_type": "stream",
       "stream": "stdout",
       "text": [
        "\r",
        "TAF15_1.polyATrim.adapterTrim.rmRep.bam        80%   10GB  29.4MB/s   01:24 ETA"
       ]
      },
      {
       "output_type": "stream",
       "stream": "stdout",
       "text": [
        "\r",
        "TAF15_1.polyATrim.adapterTrim.rmRep.bam        80%   10GB  30.3MB/s   01:20 ETA"
       ]
      },
      {
       "output_type": "stream",
       "stream": "stdout",
       "text": [
        "\r",
        "TAF15_1.polyATrim.adapterTrim.rmRep.bam        81%   10GB  27.9MB/s   01:27 ETA"
       ]
      },
      {
       "output_type": "stream",
       "stream": "stdout",
       "text": [
        "\r",
        "TAF15_1.polyATrim.adapterTrim.rmRep.bam        81%   10GB  27.3MB/s   01:28 ETA"
       ]
      },
      {
       "output_type": "stream",
       "stream": "stdout",
       "text": [
        "\r",
        "TAF15_1.polyATrim.adapterTrim.rmRep.bam        81%   10GB  27.9MB/s   01:25 ETA"
       ]
      },
      {
       "output_type": "stream",
       "stream": "stdout",
       "text": [
        "\r",
        "TAF15_1.polyATrim.adapterTrim.rmRep.bam        81%   10GB  29.1MB/s   01:20 ETA"
       ]
      },
      {
       "output_type": "stream",
       "stream": "stdout",
       "text": [
        "\r",
        "TAF15_1.polyATrim.adapterTrim.rmRep.bam        82%   10GB  29.5MB/s   01:18 ETA"
       ]
      },
      {
       "output_type": "stream",
       "stream": "stdout",
       "text": [
        "\r",
        "TAF15_1.polyATrim.adapterTrim.rmRep.bam        82%   10GB  27.2MB/s   01:25 ETA"
       ]
      },
      {
       "output_type": "stream",
       "stream": "stdout",
       "text": [
        "\r",
        "TAF15_1.polyATrim.adapterTrim.rmRep.bam        82%   10GB  27.0MB/s   01:24 ETA"
       ]
      },
      {
       "output_type": "stream",
       "stream": "stdout",
       "text": [
        "\r",
        "TAF15_1.polyATrim.adapterTrim.rmRep.bam        82%   10GB  27.6MB/s   01:21 ETA"
       ]
      },
      {
       "output_type": "stream",
       "stream": "stdout",
       "text": [
        "\r",
        "TAF15_1.polyATrim.adapterTrim.rmRep.bam        82%   10GB  28.8MB/s   01:16 ETA"
       ]
      },
      {
       "output_type": "stream",
       "stream": "stdout",
       "text": [
        "\r",
        "TAF15_1.polyATrim.adapterTrim.rmRep.bam        83%   10GB  30.0MB/s   01:12 ETA"
       ]
      },
      {
       "output_type": "stream",
       "stream": "stdout",
       "text": [
        "\r",
        "TAF15_1.polyATrim.adapterTrim.rmRep.bam        83%   10GB  27.6MB/s   01:18 ETA"
       ]
      },
      {
       "output_type": "stream",
       "stream": "stdout",
       "text": [
        "\r",
        "TAF15_1.polyATrim.adapterTrim.rmRep.bam        83%   10GB  27.0MB/s   01:19 ETA"
       ]
      },
      {
       "output_type": "stream",
       "stream": "stdout",
       "text": [
        "\r",
        "TAF15_1.polyATrim.adapterTrim.rmRep.bam        83%   11GB  28.2MB/s   01:14 ETA"
       ]
      },
      {
       "output_type": "stream",
       "stream": "stdout",
       "text": [
        "\r",
        "TAF15_1.polyATrim.adapterTrim.rmRep.bam        83%   11GB  29.3MB/s   01:10 ETA"
       ]
      },
      {
       "output_type": "stream",
       "stream": "stdout",
       "text": [
        "\r",
        "TAF15_1.polyATrim.adapterTrim.rmRep.bam        84%   11GB  29.0MB/s   01:10 ETA"
       ]
      },
      {
       "output_type": "stream",
       "stream": "stdout",
       "text": [
        "\r",
        "TAF15_1.polyATrim.adapterTrim.rmRep.bam        84%   11GB  26.7MB/s   01:16 ETA"
       ]
      },
      {
       "output_type": "stream",
       "stream": "stdout",
       "text": [
        "\r",
        "TAF15_1.polyATrim.adapterTrim.rmRep.bam        84%   11GB  26.7MB/s   01:15 ETA"
       ]
      },
      {
       "output_type": "stream",
       "stream": "stdout",
       "text": [
        "\r",
        "TAF15_1.polyATrim.adapterTrim.rmRep.bam        84%   11GB  28.0MB/s   01:10 ETA"
       ]
      },
      {
       "output_type": "stream",
       "stream": "stdout",
       "text": [
        "\r",
        "TAF15_1.polyATrim.adapterTrim.rmRep.bam        85%   11GB  29.1MB/s   01:06 ETA"
       ]
      },
      {
       "output_type": "stream",
       "stream": "stdout",
       "text": [
        "\r",
        "TAF15_1.polyATrim.adapterTrim.rmRep.bam        85%   11GB  30.1MB/s   01:02 ETA"
       ]
      },
      {
       "output_type": "stream",
       "stream": "stdout",
       "text": [
        "\r",
        "TAF15_1.polyATrim.adapterTrim.rmRep.bam        85%   11GB  27.8MB/s   01:07 ETA"
       ]
      },
      {
       "output_type": "stream",
       "stream": "stdout",
       "text": [
        "\r",
        "TAF15_1.polyATrim.adapterTrim.rmRep.bam        85%   11GB  26.3MB/s   01:10 ETA"
       ]
      },
      {
       "output_type": "stream",
       "stream": "stdout",
       "text": [
        "\r",
        "TAF15_1.polyATrim.adapterTrim.rmRep.bam        85%   11GB  27.0MB/s   01:07 ETA"
       ]
      },
      {
       "output_type": "stream",
       "stream": "stdout",
       "text": [
        "\r",
        "TAF15_1.polyATrim.adapterTrim.rmRep.bam        86%   11GB  27.6MB/s   01:05 ETA"
       ]
      },
      {
       "output_type": "stream",
       "stream": "stdout",
       "text": [
        "\r",
        "TAF15_1.polyATrim.adapterTrim.rmRep.bam        86%   11GB  28.8MB/s   01:01 ETA"
       ]
      },
      {
       "output_type": "stream",
       "stream": "stdout",
       "text": [
        "\r",
        "TAF15_1.polyATrim.adapterTrim.rmRep.bam        86%   11GB  26.5MB/s   01:06 ETA"
       ]
      },
      {
       "output_type": "stream",
       "stream": "stdout",
       "text": [
        "\r",
        "TAF15_1.polyATrim.adapterTrim.rmRep.bam        86%   11GB  26.7MB/s   01:04 ETA"
       ]
      },
      {
       "output_type": "stream",
       "stream": "stdout",
       "text": [
        "\r",
        "TAF15_1.polyATrim.adapterTrim.rmRep.bam        86%   11GB  27.3MB/s   01:02 ETA"
       ]
      },
      {
       "output_type": "stream",
       "stream": "stdout",
       "text": [
        "\r",
        "TAF15_1.polyATrim.adapterTrim.rmRep.bam        87%   11GB  28.5MB/s   00:58 ETA"
       ]
      },
      {
       "output_type": "stream",
       "stream": "stdout",
       "text": [
        "\r",
        "TAF15_1.polyATrim.adapterTrim.rmRep.bam        87%   11GB  29.5MB/s   00:54 ETA"
       ]
      },
      {
       "output_type": "stream",
       "stream": "stdout",
       "text": [
        "\r",
        "TAF15_1.polyATrim.adapterTrim.rmRep.bam        87%   11GB  27.1MB/s   00:59 ETA"
       ]
      },
      {
       "output_type": "stream",
       "stream": "stdout",
       "text": [
        "\r",
        "TAF15_1.polyATrim.adapterTrim.rmRep.bam        87%   11GB  26.6MB/s   00:59 ETA"
       ]
      },
      {
       "output_type": "stream",
       "stream": "stdout",
       "text": [
        "\r",
        "TAF15_1.polyATrim.adapterTrim.rmRep.bam        87%   11GB  27.3MB/s   00:57 ETA"
       ]
      },
      {
       "output_type": "stream",
       "stream": "stdout",
       "text": [
        "\r",
        "TAF15_1.polyATrim.adapterTrim.rmRep.bam        88%   11GB  28.5MB/s   00:53 ETA"
       ]
      },
      {
       "output_type": "stream",
       "stream": "stdout",
       "text": [
        "\r",
        "TAF15_1.polyATrim.adapterTrim.rmRep.bam        88%   11GB  29.6MB/s   00:49 ETA"
       ]
      },
      {
       "output_type": "stream",
       "stream": "stdout",
       "text": [
        "\r",
        "TAF15_1.polyATrim.adapterTrim.rmRep.bam        88%   11GB  27.2MB/s   00:54 ETA"
       ]
      },
      {
       "output_type": "stream",
       "stream": "stdout",
       "text": [
        "\r",
        "TAF15_1.polyATrim.adapterTrim.rmRep.bam        88%   11GB  26.9MB/s   00:53 ETA"
       ]
      },
      {
       "output_type": "stream",
       "stream": "stdout",
       "text": [
        "\r",
        "TAF15_1.polyATrim.adapterTrim.rmRep.bam        89%   11GB  28.1MB/s   00:50 ETA"
       ]
      },
      {
       "output_type": "stream",
       "stream": "stdout",
       "text": [
        "\r",
        "TAF15_1.polyATrim.adapterTrim.rmRep.bam        89%   11GB  29.2MB/s   00:46 ETA"
       ]
      },
      {
       "output_type": "stream",
       "stream": "stdout",
       "text": [
        "\r",
        "TAF15_1.polyATrim.adapterTrim.rmRep.bam        89%   11GB  30.2MB/s   00:44 ETA"
       ]
      },
      {
       "output_type": "stream",
       "stream": "stdout",
       "text": [
        "\r",
        "TAF15_1.polyATrim.adapterTrim.rmRep.bam        89%   11GB  27.6MB/s   00:48 ETA"
       ]
      },
      {
       "output_type": "stream",
       "stream": "stdout",
       "text": [
        "\r",
        "TAF15_1.polyATrim.adapterTrim.rmRep.bam        89%   11GB  27.1MB/s   00:48 ETA"
       ]
      },
      {
       "output_type": "stream",
       "stream": "stdout",
       "text": [
        "\r",
        "TAF15_1.polyATrim.adapterTrim.rmRep.bam        90%   11GB  28.3MB/s   00:44 ETA"
       ]
      },
      {
       "output_type": "stream",
       "stream": "stdout",
       "text": [
        "\r",
        "TAF15_1.polyATrim.adapterTrim.rmRep.bam        90%   11GB  28.8MB/s   00:42 ETA"
       ]
      },
      {
       "output_type": "stream",
       "stream": "stdout",
       "text": [
        "\r",
        "TAF15_1.polyATrim.adapterTrim.rmRep.bam        90%   11GB  29.9MB/s   00:39 ETA"
       ]
      },
      {
       "output_type": "stream",
       "stream": "stdout",
       "text": [
        "\r",
        "TAF15_1.polyATrim.adapterTrim.rmRep.bam        90%   11GB  27.4MB/s   00:43 ETA"
       ]
      },
      {
       "output_type": "stream",
       "stream": "stdout",
       "text": [
        "\r",
        "TAF15_1.polyATrim.adapterTrim.rmRep.bam        90%   11GB  27.1MB/s   00:42 ETA"
       ]
      },
      {
       "output_type": "stream",
       "stream": "stdout",
       "text": [
        "\r",
        "TAF15_1.polyATrim.adapterTrim.rmRep.bam        91%   11GB  27.7MB/s   00:40 ETA"
       ]
      },
      {
       "output_type": "stream",
       "stream": "stdout",
       "text": [
        "\r",
        "TAF15_1.polyATrim.adapterTrim.rmRep.bam        91%   12GB  28.2MB/s   00:38 ETA"
       ]
      },
      {
       "output_type": "stream",
       "stream": "stdout",
       "text": [
        "\r",
        "TAF15_1.polyATrim.adapterTrim.rmRep.bam        91%   12GB  29.3MB/s   00:36 ETA"
       ]
      },
      {
       "output_type": "stream",
       "stream": "stdout",
       "text": [
        "\r",
        "TAF15_1.polyATrim.adapterTrim.rmRep.bam        91%   12GB  26.8MB/s   00:39 ETA"
       ]
      },
      {
       "output_type": "stream",
       "stream": "stdout",
       "text": [
        "\r",
        "TAF15_1.polyATrim.adapterTrim.rmRep.bam        92%   12GB  26.8MB/s   00:38 ETA"
       ]
      },
      {
       "output_type": "stream",
       "stream": "stdout",
       "text": [
        "\r",
        "TAF15_1.polyATrim.adapterTrim.rmRep.bam        92%   12GB  28.1MB/s   00:35 ETA"
       ]
      },
      {
       "output_type": "stream",
       "stream": "stdout",
       "text": [
        "\r",
        "TAF15_1.polyATrim.adapterTrim.rmRep.bam        92%   12GB  29.2MB/s   00:32 ETA"
       ]
      },
      {
       "output_type": "stream",
       "stream": "stdout",
       "text": [
        "\r",
        "TAF15_1.polyATrim.adapterTrim.rmRep.bam        92%   12GB  30.2MB/s   00:30 ETA"
       ]
      },
      {
       "output_type": "stream",
       "stream": "stdout",
       "text": [
        "\r",
        "TAF15_1.polyATrim.adapterTrim.rmRep.bam        92%   12GB  27.6MB/s   00:32 ETA"
       ]
      },
      {
       "output_type": "stream",
       "stream": "stdout",
       "text": [
        "\r",
        "TAF15_1.polyATrim.adapterTrim.rmRep.bam        93%   12GB  27.0MB/s   00:32 ETA"
       ]
      },
      {
       "output_type": "stream",
       "stream": "stdout",
       "text": [
        "\r",
        "TAF15_1.polyATrim.adapterTrim.rmRep.bam        93%   12GB  28.3MB/s   00:29 ETA"
       ]
      },
      {
       "output_type": "stream",
       "stream": "stdout",
       "text": [
        "\r",
        "TAF15_1.polyATrim.adapterTrim.rmRep.bam        93%   12GB  29.3MB/s   00:27 ETA"
       ]
      },
      {
       "output_type": "stream",
       "stream": "stdout",
       "text": [
        "\r",
        "TAF15_1.polyATrim.adapterTrim.rmRep.bam        94%   12GB  30.4MB/s   00:25 ETA"
       ]
      },
      {
       "output_type": "stream",
       "stream": "stdout",
       "text": [
        "\r",
        "TAF15_1.polyATrim.adapterTrim.rmRep.bam        94%   12GB  27.3MB/s   00:27 ETA"
       ]
      },
      {
       "output_type": "stream",
       "stream": "stdout",
       "text": [
        "\r",
        "TAF15_1.polyATrim.adapterTrim.rmRep.bam        94%   12GB  27.1MB/s   00:27 ETA"
       ]
      },
      {
       "output_type": "stream",
       "stream": "stdout",
       "text": [
        "\r",
        "TAF15_1.polyATrim.adapterTrim.rmRep.bam        94%   12GB  28.3MB/s   00:24 ETA"
       ]
      },
      {
       "output_type": "stream",
       "stream": "stdout",
       "text": [
        "\r",
        "TAF15_1.polyATrim.adapterTrim.rmRep.bam        94%   12GB  28.7MB/s   00:23 ETA"
       ]
      },
      {
       "output_type": "stream",
       "stream": "stdout",
       "text": [
        "\r",
        "TAF15_1.polyATrim.adapterTrim.rmRep.bam        95%   12GB  29.8MB/s   00:21 ETA"
       ]
      },
      {
       "output_type": "stream",
       "stream": "stdout",
       "text": [
        "\r",
        "TAF15_1.polyATrim.adapterTrim.rmRep.bam        95%   12GB  27.2MB/s   00:22 ETA"
       ]
      },
      {
       "output_type": "stream",
       "stream": "stdout",
       "text": [
        "\r",
        "TAF15_1.polyATrim.adapterTrim.rmRep.bam        95%   12GB  27.3MB/s   00:21 ETA"
       ]
      },
      {
       "output_type": "stream",
       "stream": "stdout",
       "text": [
        "\r",
        "TAF15_1.polyATrim.adapterTrim.rmRep.bam        95%   12GB  28.7MB/s   00:19 ETA"
       ]
      },
      {
       "output_type": "stream",
       "stream": "stdout",
       "text": [
        "\r",
        "TAF15_1.polyATrim.adapterTrim.rmRep.bam        96%   12GB  30.0MB/s   00:17 ETA"
       ]
      },
      {
       "output_type": "stream",
       "stream": "stdout",
       "text": [
        "\r",
        "TAF15_1.polyATrim.adapterTrim.rmRep.bam        96%   12GB  30.4MB/s   00:15 ETA"
       ]
      },
      {
       "output_type": "stream",
       "stream": "stdout",
       "text": [
        "\r",
        "TAF15_1.polyATrim.adapterTrim.rmRep.bam        96%   12GB  27.7MB/s   00:17 ETA"
       ]
      },
      {
       "output_type": "stream",
       "stream": "stdout",
       "text": [
        "\r",
        "TAF15_1.polyATrim.adapterTrim.rmRep.bam        96%   12GB  27.2MB/s   00:16 ETA"
       ]
      },
      {
       "output_type": "stream",
       "stream": "stdout",
       "text": [
        "\r",
        "TAF15_1.polyATrim.adapterTrim.rmRep.bam        96%   12GB  28.6MB/s   00:14 ETA"
       ]
      },
      {
       "output_type": "stream",
       "stream": "stdout",
       "text": [
        "\r",
        "TAF15_1.polyATrim.adapterTrim.rmRep.bam        97%   12GB  29.8MB/s   00:12 ETA"
       ]
      },
      {
       "output_type": "stream",
       "stream": "stdout",
       "text": [
        "\r",
        "TAF15_1.polyATrim.adapterTrim.rmRep.bam        97%   12GB  30.9MB/s   00:10 ETA"
       ]
      },
      {
       "output_type": "stream",
       "stream": "stdout",
       "text": [
        "\r",
        "TAF15_1.polyATrim.adapterTrim.rmRep.bam        97%   12GB  28.2MB/s   00:11 ETA"
       ]
      },
      {
       "output_type": "stream",
       "stream": "stdout",
       "text": [
        "\r",
        "TAF15_1.polyATrim.adapterTrim.rmRep.bam        97%   12GB  27.0MB/s   00:11 ETA"
       ]
      },
      {
       "output_type": "stream",
       "stream": "stdout",
       "text": [
        "\r",
        "TAF15_1.polyATrim.adapterTrim.rmRep.bam        97%   12GB  28.2MB/s   00:09 ETA"
       ]
      },
      {
       "output_type": "stream",
       "stream": "stdout",
       "text": [
        "\r",
        "TAF15_1.polyATrim.adapterTrim.rmRep.bam        98%   12GB  29.5MB/s   00:07 ETA"
       ]
      },
      {
       "output_type": "stream",
       "stream": "stdout",
       "text": [
        "\r",
        "TAF15_1.polyATrim.adapterTrim.rmRep.bam        98%   12GB  30.8MB/s   00:06 ETA"
       ]
      },
      {
       "output_type": "stream",
       "stream": "stdout",
       "text": [
        "\r",
        "TAF15_1.polyATrim.adapterTrim.rmRep.bam        98%   12GB  28.0MB/s   00:06 ETA"
       ]
      },
      {
       "output_type": "stream",
       "stream": "stdout",
       "text": [
        "\r",
        "TAF15_1.polyATrim.adapterTrim.rmRep.bam        98%   12GB  27.7MB/s   00:05 ETA"
       ]
      },
      {
       "output_type": "stream",
       "stream": "stdout",
       "text": [
        "\r",
        "TAF15_1.polyATrim.adapterTrim.rmRep.bam        99%   12GB  29.1MB/s   00:04 ETA"
       ]
      },
      {
       "output_type": "stream",
       "stream": "stdout",
       "text": [
        "\r",
        "TAF15_1.polyATrim.adapterTrim.rmRep.bam        99%   13GB  29.6MB/s   00:02 ETA"
       ]
      },
      {
       "output_type": "stream",
       "stream": "stdout",
       "text": [
        "\r",
        "TAF15_1.polyATrim.adapterTrim.rmRep.bam        99%   13GB  30.8MB/s   00:01 ETA"
       ]
      },
      {
       "output_type": "stream",
       "stream": "stdout",
       "text": [
        "\r",
        "TAF15_1.polyATrim.adapterTrim.rmRep.bam        99%   13GB  28.0MB/s   00:01 ETA"
       ]
      },
      {
       "output_type": "stream",
       "stream": "stdout",
       "text": [
        "\r",
        "TAF15_1.polyATrim.adapterTrim.rmRep.bam        99%   13GB  27.7MB/s   00:00 ETA"
       ]
      },
      {
       "output_type": "stream",
       "stream": "stdout",
       "text": [
        "\r",
        "TAF15_1.polyATrim.adapterTrim.rmRep.bam       100%   13GB  28.5MB/s   07:33    \r\n"
       ]
      },
      {
       "output_type": "stream",
       "stream": "stdout",
       "text": [
        "\r",
        "TAF15_1.polyATrim.adapterTrim.rmRep.rmDup.bam   0%    0     0.0KB/s   --:-- ETA"
       ]
      },
      {
       "output_type": "stream",
       "stream": "stdout",
       "text": [
        "\r",
        "TAF15_1.polyATrim.adapterTrim.rmRep.rmDup.bam   3%   37MB  37.5MB/s   00:30 ETA"
       ]
      },
      {
       "output_type": "stream",
       "stream": "stdout",
       "text": [
        "\r",
        "TAF15_1.polyATrim.adapterTrim.rmRep.rmDup.bam   6%   73MB  37.3MB/s   00:30 ETA"
       ]
      },
      {
       "output_type": "stream",
       "stream": "stdout",
       "text": [
        "\r",
        "TAF15_1.polyATrim.adapterTrim.rmRep.rmDup.bam   9%  113MB  37.6MB/s   00:28 ETA"
       ]
      },
      {
       "output_type": "stream",
       "stream": "stdout",
       "text": [
        "\r",
        "TAF15_1.polyATrim.adapterTrim.rmRep.rmDup.bam  12%  155MB  38.0MB/s   00:27 ETA"
       ]
      },
      {
       "output_type": "stream",
       "stream": "stdout",
       "text": [
        "\r",
        "TAF15_1.polyATrim.adapterTrim.rmRep.rmDup.bam  16%  196MB  38.3MB/s   00:26 ETA"
       ]
      },
      {
       "output_type": "stream",
       "stream": "stdout",
       "text": [
        "\r",
        "TAF15_1.polyATrim.adapterTrim.rmRep.rmDup.bam  19%  236MB  38.5MB/s   00:24 ETA"
       ]
      },
      {
       "output_type": "stream",
       "stream": "stdout",
       "text": [
        "\r",
        "TAF15_1.polyATrim.adapterTrim.rmRep.rmDup.bam  22%  271MB  38.2MB/s   00:24 ETA"
       ]
      },
      {
       "output_type": "stream",
       "stream": "stdout",
       "text": [
        "\r",
        "TAF15_1.polyATrim.adapterTrim.rmRep.rmDup.bam  26%  313MB  38.5MB/s   00:22 ETA"
       ]
      },
      {
       "output_type": "stream",
       "stream": "stdout",
       "text": [
        "\r",
        "TAF15_1.polyATrim.adapterTrim.rmRep.rmDup.bam  29%  354MB  38.7MB/s   00:21 ETA"
       ]
      },
      {
       "output_type": "stream",
       "stream": "stdout",
       "text": [
        "\r",
        "TAF15_1.polyATrim.adapterTrim.rmRep.rmDup.bam  32%  387MB  38.2MB/s   00:21 ETA"
       ]
      },
      {
       "output_type": "stream",
       "stream": "stdout",
       "text": [
        "\r",
        "TAF15_1.polyATrim.adapterTrim.rmRep.rmDup.bam  35%  428MB  38.5MB/s   00:19 ETA"
       ]
      },
      {
       "output_type": "stream",
       "stream": "stdout",
       "text": [
        "\r",
        "TAF15_1.polyATrim.adapterTrim.rmRep.rmDup.bam  39%  470MB  38.8MB/s   00:18 ETA"
       ]
      },
      {
       "output_type": "stream",
       "stream": "stdout",
       "text": [
        "\r",
        "TAF15_1.polyATrim.adapterTrim.rmRep.rmDup.bam  42%  504MB  38.3MB/s   00:18 ETA"
       ]
      },
      {
       "output_type": "stream",
       "stream": "stdout",
       "text": [
        "\r",
        "TAF15_1.polyATrim.adapterTrim.rmRep.rmDup.bam  45%  545MB  38.7MB/s   00:16 ETA"
       ]
      },
      {
       "output_type": "stream",
       "stream": "stdout",
       "text": [
        "\r",
        "TAF15_1.polyATrim.adapterTrim.rmRep.rmDup.bam  48%  585MB  38.8MB/s   00:15 ETA"
       ]
      },
      {
       "output_type": "stream",
       "stream": "stdout",
       "text": [
        "\r",
        "TAF15_1.polyATrim.adapterTrim.rmRep.rmDup.bam  52%  627MB  39.1MB/s   00:14 ETA"
       ]
      },
      {
       "output_type": "stream",
       "stream": "stdout",
       "text": [
        "\r",
        "TAF15_1.polyATrim.adapterTrim.rmRep.rmDup.bam  56%  670MB  39.4MB/s   00:13 ETA"
       ]
      },
      {
       "output_type": "stream",
       "stream": "stdout",
       "text": [
        "\r",
        "TAF15_1.polyATrim.adapterTrim.rmRep.rmDup.bam  59%  712MB  39.7MB/s   00:12 ETA"
       ]
      },
      {
       "output_type": "stream",
       "stream": "stdout",
       "text": [
        "\r",
        "TAF15_1.polyATrim.adapterTrim.rmRep.rmDup.bam  63%  754MB  39.9MB/s   00:11 ETA"
       ]
      },
      {
       "output_type": "stream",
       "stream": "stdout",
       "text": [
        "\r",
        "TAF15_1.polyATrim.adapterTrim.rmRep.rmDup.bam  66%  796MB  40.1MB/s   00:09 ETA"
       ]
      },
      {
       "output_type": "stream",
       "stream": "stdout",
       "text": [
        "\r",
        "TAF15_1.polyATrim.adapterTrim.rmRep.rmDup.bam  70%  838MB  40.3MB/s   00:08 ETA"
       ]
      },
      {
       "output_type": "stream",
       "stream": "stdout",
       "text": [
        "\r",
        "TAF15_1.polyATrim.adapterTrim.rmRep.rmDup.bam  73%  880MB  40.5MB/s   00:07 ETA"
       ]
      },
      {
       "output_type": "stream",
       "stream": "stdout",
       "text": [
        "\r",
        "TAF15_1.polyATrim.adapterTrim.rmRep.rmDup.bam  77%  922MB  40.7MB/s   00:06 ETA"
       ]
      },
      {
       "output_type": "stream",
       "stream": "stdout",
       "text": [
        "\r",
        "TAF15_1.polyATrim.adapterTrim.rmRep.rmDup.bam  80%  957MB  40.1MB/s   00:05 ETA"
       ]
      },
      {
       "output_type": "stream",
       "stream": "stdout",
       "text": [
        "\r",
        "TAF15_1.polyATrim.adapterTrim.rmRep.rmDup.bam  83%  998MB  40.2MB/s   00:04 ETA"
       ]
      },
      {
       "output_type": "stream",
       "stream": "stdout",
       "text": [
        "\r",
        "TAF15_1.polyATrim.adapterTrim.rmRep.rmDup.bam  87% 1040MB  40.4MB/s   00:03 ETA"
       ]
      },
      {
       "output_type": "stream",
       "stream": "stdout",
       "text": [
        "\r",
        "TAF15_1.polyATrim.adapterTrim.rmRep.rmDup.bam  90% 1082MB  40.6MB/s   00:02 ETA"
       ]
      },
      {
       "output_type": "stream",
       "stream": "stdout",
       "text": [
        "\r",
        "TAF15_1.polyATrim.adapterTrim.rmRep.rmDup.bam  93% 1122MB  40.5MB/s   00:01 ETA"
       ]
      },
      {
       "output_type": "stream",
       "stream": "stdout",
       "text": [
        "\r",
        "TAF15_1.polyATrim.adapterTrim.rmRep.rmDup.bam  97% 1164MB  40.6MB/s   00:00 ETA"
       ]
      },
      {
       "output_type": "stream",
       "stream": "stdout",
       "text": [
        "\r",
        "TAF15_1.polyATrim.adapterTrim.rmRep.rmDup.bam 100% 1195MB  41.2MB/s   00:29    \r\n"
       ]
      },
      {
       "output_type": "stream",
       "stream": "stdout",
       "text": [
        "\r",
        "TAF15_1.polyATrim.adapterTrim.rmRep.rmDup.sor   0%    0     0.0KB/s   --:-- ETA"
       ]
      },
      {
       "output_type": "stream",
       "stream": "stdout",
       "text": [
        "\r",
        "TAF15_1.polyATrim.adapterTrim.rmRep.rmDup.sor   2%   35MB  34.8MB/s   00:34 ETA"
       ]
      },
      {
       "output_type": "stream",
       "stream": "stdout",
       "text": [
        "\r",
        "TAF15_1.polyATrim.adapterTrim.rmRep.rmDup.sor   5%   69MB  34.8MB/s   00:33 ETA"
       ]
      },
      {
       "output_type": "stream",
       "stream": "stdout",
       "text": [
        "\r",
        "TAF15_1.polyATrim.adapterTrim.rmRep.rmDup.sor   8%  110MB  35.4MB/s   00:31 ETA"
       ]
      },
      {
       "output_type": "stream",
       "stream": "stdout",
       "text": [
        "\r",
        "TAF15_1.polyATrim.adapterTrim.rmRep.rmDup.sor  12%  151MB  36.0MB/s   00:29 ETA"
       ]
      },
      {
       "output_type": "stream",
       "stream": "stdout",
       "text": [
        "\r",
        "TAF15_1.polyATrim.adapterTrim.rmRep.rmDup.sor  15%  193MB  36.5MB/s   00:28 ETA"
       ]
      },
      {
       "output_type": "stream",
       "stream": "stdout",
       "text": [
        "\r",
        "TAF15_1.polyATrim.adapterTrim.rmRep.rmDup.sor  19%  234MB  37.0MB/s   00:26 ETA"
       ]
      },
      {
       "output_type": "stream",
       "stream": "stdout",
       "text": [
        "\r",
        "TAF15_1.polyATrim.adapterTrim.rmRep.rmDup.sor  22%  275MB  37.4MB/s   00:25 ETA"
       ]
      },
      {
       "output_type": "stream",
       "stream": "stdout",
       "text": [
        "\r",
        "TAF15_1.polyATrim.adapterTrim.rmRep.rmDup.sor  25%  316MB  37.8MB/s   00:24 ETA"
       ]
      },
      {
       "output_type": "stream",
       "stream": "stdout",
       "text": [
        "\r",
        "TAF15_1.polyATrim.adapterTrim.rmRep.rmDup.sor  29%  358MB  38.1MB/s   00:22 ETA"
       ]
      },
      {
       "output_type": "stream",
       "stream": "stdout",
       "text": [
        "\r",
        "TAF15_1.polyATrim.adapterTrim.rmRep.rmDup.sor  32%  399MB  38.4MB/s   00:21 ETA"
       ]
      },
      {
       "output_type": "stream",
       "stream": "stdout",
       "text": [
        "\r",
        "TAF15_1.polyATrim.adapterTrim.rmRep.rmDup.sor  35%  433MB  38.0MB/s   00:20 ETA"
       ]
      },
      {
       "output_type": "stream",
       "stream": "stdout",
       "text": [
        "\r",
        "TAF15_1.polyATrim.adapterTrim.rmRep.rmDup.sor  38%  475MB  38.4MB/s   00:19 ETA"
       ]
      },
      {
       "output_type": "stream",
       "stream": "stdout",
       "text": [
        "\r",
        "TAF15_1.polyATrim.adapterTrim.rmRep.rmDup.sor  42%  518MB  38.9MB/s   00:18 ETA"
       ]
      },
      {
       "output_type": "stream",
       "stream": "stdout",
       "text": [
        "\r",
        "TAF15_1.polyATrim.adapterTrim.rmRep.rmDup.sor  45%  560MB  39.2MB/s   00:16 ETA"
       ]
      },
      {
       "output_type": "stream",
       "stream": "stdout",
       "text": [
        "\r",
        "TAF15_1.polyATrim.adapterTrim.rmRep.rmDup.sor  49%  601MB  39.4MB/s   00:15 ETA"
       ]
      },
      {
       "output_type": "stream",
       "stream": "stdout",
       "text": [
        "\r",
        "TAF15_1.polyATrim.adapterTrim.rmRep.rmDup.sor  52%  643MB  39.6MB/s   00:14 ETA"
       ]
      },
      {
       "output_type": "stream",
       "stream": "stdout",
       "text": [
        "\r",
        "TAF15_1.polyATrim.adapterTrim.rmRep.rmDup.sor  55%  685MB  39.8MB/s   00:13 ETA"
       ]
      },
      {
       "output_type": "stream",
       "stream": "stdout",
       "text": [
        "\r",
        "TAF15_1.polyATrim.adapterTrim.rmRep.rmDup.sor  59%  726MB  40.0MB/s   00:12 ETA"
       ]
      },
      {
       "output_type": "stream",
       "stream": "stdout",
       "text": [
        "\r",
        "TAF15_1.polyATrim.adapterTrim.rmRep.rmDup.sor  62%  767MB  40.1MB/s   00:11 ETA"
       ]
      },
      {
       "output_type": "stream",
       "stream": "stdout",
       "text": [
        "\r",
        "TAF15_1.polyATrim.adapterTrim.rmRep.rmDup.sor  66%  809MB  40.2MB/s   00:10 ETA"
       ]
      },
      {
       "output_type": "stream",
       "stream": "stdout",
       "text": [
        "\r",
        "TAF15_1.polyATrim.adapterTrim.rmRep.rmDup.sor  69%  850MB  40.3MB/s   00:09 ETA"
       ]
      },
      {
       "output_type": "stream",
       "stream": "stdout",
       "text": [
        "\r",
        "TAF15_1.polyATrim.adapterTrim.rmRep.rmDup.sor  72%  891MB  40.4MB/s   00:08 ETA"
       ]
      },
      {
       "output_type": "stream",
       "stream": "stdout",
       "text": [
        "\r",
        "TAF15_1.polyATrim.adapterTrim.rmRep.rmDup.sor  75%  926MB  39.8MB/s   00:07 ETA"
       ]
      },
      {
       "output_type": "stream",
       "stream": "stdout",
       "text": [
        "\r",
        "TAF15_1.polyATrim.adapterTrim.rmRep.rmDup.sor  78%  966MB  39.9MB/s   00:06 ETA"
       ]
      },
      {
       "output_type": "stream",
       "stream": "stdout",
       "text": [
        "\r",
        "TAF15_1.polyATrim.adapterTrim.rmRep.rmDup.sor  82% 1007MB  40.0MB/s   00:05 ETA"
       ]
      },
      {
       "output_type": "stream",
       "stream": "stdout",
       "text": [
        "\r",
        "TAF15_1.polyATrim.adapterTrim.rmRep.rmDup.sor  85% 1048MB  40.1MB/s   00:04 ETA"
       ]
      },
      {
       "output_type": "stream",
       "stream": "stdout",
       "text": [
        "\r",
        "TAF15_1.polyATrim.adapterTrim.rmRep.rmDup.sor  88% 1089MB  40.2MB/s   00:03 ETA"
       ]
      },
      {
       "output_type": "stream",
       "stream": "stdout",
       "text": [
        "\r",
        "TAF15_1.polyATrim.adapterTrim.rmRep.rmDup.sor  92% 1130MB  40.2MB/s   00:02 ETA"
       ]
      },
      {
       "output_type": "stream",
       "stream": "stdout",
       "text": [
        "\r",
        "TAF15_1.polyATrim.adapterTrim.rmRep.rmDup.sor  95% 1170MB  40.3MB/s   00:01 ETA"
       ]
      },
      {
       "output_type": "stream",
       "stream": "stdout",
       "text": [
        "\r",
        "TAF15_1.polyATrim.adapterTrim.rmRep.rmDup.sor  98% 1211MB  40.3MB/s   00:00 ETA"
       ]
      },
      {
       "output_type": "stream",
       "stream": "stdout",
       "text": [
        "\r",
        "TAF15_1.polyATrim.adapterTrim.rmRep.rmDup.sor 100% 1225MB  40.8MB/s   00:30    \r\n"
       ]
      },
      {
       "output_type": "stream",
       "stream": "stdout",
       "text": [
        "\r",
        "TAF15_1.polyATrim.adapterTrim.rmRep.sorted.ba   0%    0     0.0KB/s   --:-- ETA"
       ]
      },
      {
       "output_type": "stream",
       "stream": "stdout",
       "text": [
        "\r",
        "TAF15_1.polyATrim.adapterTrim.rmRep.sorted.ba   0%   31MB  30.8MB/s   05:01 ETA"
       ]
      },
      {
       "output_type": "stream",
       "stream": "stdout",
       "text": [
        "\r",
        "TAF15_1.polyATrim.adapterTrim.rmRep.sorted.ba   0%   68MB  31.4MB/s   04:53 ETA"
       ]
      },
      {
       "output_type": "stream",
       "stream": "stdout",
       "text": [
        "\r",
        "TAF15_1.polyATrim.adapterTrim.rmRep.sorted.ba   1%  109MB  32.4MB/s   04:43 ETA"
       ]
      },
      {
       "output_type": "stream",
       "stream": "stdout",
       "text": [
        "\r",
        "TAF15_1.polyATrim.adapterTrim.rmRep.sorted.ba   1%  150MB  33.2MB/s   04:34 ETA"
       ]
      },
      {
       "output_type": "stream",
       "stream": "stdout",
       "text": [
        "\r",
        "TAF15_1.polyATrim.adapterTrim.rmRep.sorted.ba   2%  192MB  34.1MB/s   04:27 ETA"
       ]
      },
      {
       "output_type": "stream",
       "stream": "stdout",
       "text": [
        "\r",
        "TAF15_1.polyATrim.adapterTrim.rmRep.sorted.ba   2%  233MB  34.8MB/s   04:19 ETA"
       ]
      },
      {
       "output_type": "stream",
       "stream": "stdout",
       "text": [
        "\r",
        "TAF15_1.polyATrim.adapterTrim.rmRep.sorted.ba   2%  275MB  35.5MB/s   04:13 ETA"
       ]
      },
      {
       "output_type": "stream",
       "stream": "stdout",
       "text": [
        "\r",
        "TAF15_1.polyATrim.adapterTrim.rmRep.sorted.ba   3%  317MB  36.1MB/s   04:08 ETA"
       ]
      },
      {
       "output_type": "stream",
       "stream": "stdout",
       "text": [
        "\r",
        "TAF15_1.polyATrim.adapterTrim.rmRep.sorted.ba   3%  359MB  36.7MB/s   04:03 ETA"
       ]
      },
      {
       "output_type": "stream",
       "stream": "stdout",
       "text": [
        "\r",
        "TAF15_1.polyATrim.adapterTrim.rmRep.sorted.ba   4%  401MB  37.2MB/s   03:58 ETA"
       ]
      },
      {
       "output_type": "stream",
       "stream": "stdout",
       "text": [
        "\r",
        "TAF15_1.polyATrim.adapterTrim.rmRep.sorted.ba   4%  443MB  37.7MB/s   03:54 ETA"
       ]
      },
      {
       "output_type": "stream",
       "stream": "stdout",
       "text": [
        "\r",
        "TAF15_1.polyATrim.adapterTrim.rmRep.sorted.ba   5%  475MB  37.2MB/s   03:56 ETA"
       ]
      },
      {
       "output_type": "stream",
       "stream": "stdout",
       "text": [
        "\r",
        "TAF15_1.polyATrim.adapterTrim.rmRep.sorted.ba   5%  510MB  37.0MB/s   03:57 ETA"
       ]
      },
      {
       "output_type": "stream",
       "stream": "stdout",
       "text": [
        "\r",
        "TAF15_1.polyATrim.adapterTrim.rmRep.sorted.ba   5%  552MB  37.5MB/s   03:53 ETA"
       ]
      },
      {
       "output_type": "stream",
       "stream": "stdout",
       "text": [
        "\r",
        "TAF15_1.polyATrim.adapterTrim.rmRep.sorted.ba   6%  594MB  37.9MB/s   03:49 ETA"
       ]
      },
      {
       "output_type": "stream",
       "stream": "stdout",
       "text": [
        "\r",
        "TAF15_1.polyATrim.adapterTrim.rmRep.sorted.ba   6%  636MB  38.3MB/s   03:45 ETA"
       ]
      },
      {
       "output_type": "stream",
       "stream": "stdout",
       "text": [
        "\r",
        "TAF15_1.polyATrim.adapterTrim.rmRep.sorted.ba   7%  678MB  38.7MB/s   03:42 ETA"
       ]
      },
      {
       "output_type": "stream",
       "stream": "stdout",
       "text": [
        "\r",
        "TAF15_1.polyATrim.adapterTrim.rmRep.sorted.ba   7%  720MB  39.0MB/s   03:39 ETA"
       ]
      },
      {
       "output_type": "stream",
       "stream": "stdout",
       "text": [
        "\r",
        "TAF15_1.polyATrim.adapterTrim.rmRep.sorted.ba   8%  762MB  39.3MB/s   03:36 ETA"
       ]
      },
      {
       "output_type": "stream",
       "stream": "stdout",
       "text": [
        "\r",
        "TAF15_1.polyATrim.adapterTrim.rmRep.sorted.ba   8%  796MB  38.8MB/s   03:38 ETA"
       ]
      },
      {
       "output_type": "stream",
       "stream": "stdout",
       "text": [
        "\r",
        "TAF15_1.polyATrim.adapterTrim.rmRep.sorted.ba   9%  837MB  39.0MB/s   03:36 ETA"
       ]
      },
      {
       "output_type": "stream",
       "stream": "stdout",
       "text": [
        "\r",
        "TAF15_1.polyATrim.adapterTrim.rmRep.sorted.ba   9%  871MB  38.5MB/s   03:38 ETA"
       ]
      },
      {
       "output_type": "stream",
       "stream": "stdout",
       "text": [
        "\r",
        "TAF15_1.polyATrim.adapterTrim.rmRep.sorted.ba   9%  913MB  38.8MB/s   03:35 ETA"
       ]
      },
      {
       "output_type": "stream",
       "stream": "stdout",
       "text": [
        "\r",
        "TAF15_1.polyATrim.adapterTrim.rmRep.sorted.ba  10%  955MB  39.1MB/s   03:32 ETA"
       ]
      },
      {
       "output_type": "stream",
       "stream": "stdout",
       "text": [
        "\r",
        "TAF15_1.polyATrim.adapterTrim.rmRep.sorted.ba  10%  997MB  39.4MB/s   03:30 ETA"
       ]
      },
      {
       "output_type": "stream",
       "stream": "stdout",
       "text": [
        "\r",
        "TAF15_1.polyATrim.adapterTrim.rmRep.sorted.ba  11% 1039MB  39.7MB/s   03:27 ETA"
       ]
      },
      {
       "output_type": "stream",
       "stream": "stdout",
       "text": [
        "\r",
        "TAF15_1.polyATrim.adapterTrim.rmRep.sorted.ba  11% 1081MB  39.9MB/s   03:25 ETA"
       ]
      },
      {
       "output_type": "stream",
       "stream": "stdout",
       "text": [
        "\r",
        "TAF15_1.polyATrim.adapterTrim.rmRep.sorted.ba  12% 1117MB  39.5MB/s   03:26 ETA"
       ]
      },
      {
       "output_type": "stream",
       "stream": "stdout",
       "text": [
        "\r",
        "TAF15_1.polyATrim.adapterTrim.rmRep.sorted.ba  12% 1157MB  39.7MB/s   03:25 ETA"
       ]
      },
      {
       "output_type": "stream",
       "stream": "stdout",
       "text": [
        "\r",
        "TAF15_1.polyATrim.adapterTrim.rmRep.sorted.ba  12% 1200MB  39.9MB/s   03:22 ETA"
       ]
      },
      {
       "output_type": "stream",
       "stream": "stdout",
       "text": [
        "\r",
        "TAF15_1.polyATrim.adapterTrim.rmRep.sorted.ba  13% 1236MB  37.7MB/s   03:33 ETA"
       ]
      },
      {
       "output_type": "stream",
       "stream": "stdout",
       "text": [
        "\r",
        "TAF15_1.polyATrim.adapterTrim.rmRep.sorted.ba  13% 1238MB  34.2MB/s   03:55 ETA"
       ]
      },
      {
       "output_type": "stream",
       "stream": "stdout",
       "text": [
        "\r",
        "TAF15_1.polyATrim.adapterTrim.rmRep.sorted.ba  13% 1238MB  30.8MB/s   04:21 ETA"
       ]
      },
      {
       "output_type": "stream",
       "stream": "stdout",
       "text": [
        "\r",
        "TAF15_1.polyATrim.adapterTrim.rmRep.sorted.ba  13% 1238MB  27.7MB/s   04:50 ETA"
       ]
      },
      {
       "output_type": "stream",
       "stream": "stdout",
       "text": [
        "\r",
        "TAF15_1.polyATrim.adapterTrim.rmRep.sorted.ba  13% 1238MB  24.9MB/s   05:23 ETA"
       ]
      },
      {
       "output_type": "stream",
       "stream": "stdout",
       "text": [
        "\r",
        "TAF15_1.polyATrim.adapterTrim.rmRep.sorted.ba  13% 1240MB  22.6MB/s   05:55 ETA"
       ]
      },
      {
       "output_type": "stream",
       "stream": "stdout",
       "text": [
        "\r",
        "TAF15_1.polyATrim.adapterTrim.rmRep.sorted.ba  13% 1240MB  20.4MB/s   06:35 ETA"
       ]
      },
      {
       "output_type": "stream",
       "stream": "stdout",
       "text": [
        "\r",
        "TAF15_1.polyATrim.adapterTrim.rmRep.sorted.ba  13% 1240MB  18.3MB/s   07:19 ETA"
       ]
      },
      {
       "output_type": "stream",
       "stream": "stdout",
       "text": [
        "\r",
        "TAF15_1.polyATrim.adapterTrim.rmRep.sorted.ba  13% 1240MB  16.5MB/s   08:08 ETA"
       ]
      },
      {
       "output_type": "stream",
       "stream": "stdout",
       "text": [
        "\r",
        "TAF15_1.polyATrim.adapterTrim.rmRep.sorted.ba  13% 1240MB  14.8MB/s   09:02 ETA"
       ]
      },
      {
       "output_type": "stream",
       "stream": "stdout",
       "text": [
        "\r",
        "TAF15_1.polyATrim.adapterTrim.rmRep.sorted.ba  13% 1242MB  13.6MB/s   09:53 ETA"
       ]
      },
      {
       "output_type": "stream",
       "stream": "stdout",
       "text": [
        "\r",
        "TAF15_1.polyATrim.adapterTrim.rmRep.sorted.ba  13% 1242MB  12.2MB/s   10:59 ETA"
       ]
      },
      {
       "output_type": "stream",
       "stream": "stdout",
       "text": [
        "\r",
        "TAF15_1.polyATrim.adapterTrim.rmRep.sorted.ba  13% 1278MB  14.6MB/s   09:09 ETA"
       ]
      },
      {
       "output_type": "stream",
       "stream": "stdout",
       "text": [
        "\r",
        "TAF15_1.polyATrim.adapterTrim.rmRep.sorted.ba  14% 1319MB  17.2MB/s   07:42 ETA"
       ]
      },
      {
       "output_type": "stream",
       "stream": "stdout",
       "text": [
        "\r",
        "TAF15_1.polyATrim.adapterTrim.rmRep.sorted.ba  14% 1360MB  19.6MB/s   06:44 ETA"
       ]
      },
      {
       "output_type": "stream",
       "stream": "stdout",
       "text": [
        "\r",
        "TAF15_1.polyATrim.adapterTrim.rmRep.sorted.ba  14% 1388MB  20.4MB/s   06:27 ETA"
       ]
      },
      {
       "output_type": "stream",
       "stream": "stdout",
       "text": [
        "\r",
        "TAF15_1.polyATrim.adapterTrim.rmRep.sorted.ba  14% 1388MB  18.4MB/s   07:09 ETA"
       ]
      },
      {
       "output_type": "stream",
       "stream": "stdout",
       "text": [
        "\r",
        "TAF15_1.polyATrim.adapterTrim.rmRep.sorted.ba  15% 1428MB  20.5MB/s   06:23 ETA"
       ]
      },
      {
       "output_type": "stream",
       "stream": "stdout",
       "text": [
        "\r",
        "TAF15_1.polyATrim.adapterTrim.rmRep.sorted.ba  15% 1470MB  22.7MB/s   05:44 ETA"
       ]
      },
      {
       "output_type": "stream",
       "stream": "stdout",
       "text": [
        "\r",
        "TAF15_1.polyATrim.adapterTrim.rmRep.sorted.ba  16% 1512MB  24.7MB/s   05:15 ETA"
       ]
      },
      {
       "output_type": "stream",
       "stream": "stdout",
       "text": [
        "\r",
        "TAF15_1.polyATrim.adapterTrim.rmRep.sorted.ba  16% 1533MB  24.3MB/s   05:19 ETA"
       ]
      },
      {
       "output_type": "stream",
       "stream": "stdout",
       "text": [
        "\r",
        "TAF15_1.polyATrim.adapterTrim.rmRep.sorted.ba  16% 1534MB  22.0MB/s   05:53 ETA"
       ]
      },
      {
       "output_type": "stream",
       "stream": "stdout",
       "text": [
        "\r",
        "TAF15_1.polyATrim.adapterTrim.rmRep.sorted.ba  16% 1568MB  23.2MB/s   05:33 ETA"
       ]
      },
      {
       "output_type": "stream",
       "stream": "stdout",
       "text": [
        "\r",
        "TAF15_1.polyATrim.adapterTrim.rmRep.sorted.ba  17% 1609MB  24.9MB/s   05:08 ETA"
       ]
      },
      {
       "output_type": "stream",
       "stream": "stdout",
       "text": [
        "\r",
        "TAF15_1.polyATrim.adapterTrim.rmRep.sorted.ba  17% 1651MB  26.6MB/s   04:47 ETA"
       ]
      },
      {
       "output_type": "stream",
       "stream": "stdout",
       "text": [
        "\r",
        "TAF15_1.polyATrim.adapterTrim.rmRep.sorted.ba  18% 1678MB  26.7MB/s   04:45 ETA"
       ]
      },
      {
       "output_type": "stream",
       "stream": "stdout",
       "text": [
        "\r",
        "TAF15_1.polyATrim.adapterTrim.rmRep.sorted.ba  18% 1680MB  24.2MB/s   05:15 ETA"
       ]
      },
      {
       "output_type": "stream",
       "stream": "stdout",
       "text": [
        "\r",
        "TAF15_1.polyATrim.adapterTrim.rmRep.sorted.ba  18% 1713MB  25.1MB/s   05:02 ETA"
       ]
      },
      {
       "output_type": "stream",
       "stream": "stdout",
       "text": [
        "\r",
        "TAF15_1.polyATrim.adapterTrim.rmRep.sorted.ba  18% 1753MB  26.6MB/s   04:43 ETA"
       ]
      },
      {
       "output_type": "stream",
       "stream": "stdout",
       "text": [
        "\r",
        "TAF15_1.polyATrim.adapterTrim.rmRep.sorted.ba  19% 1795MB  28.1MB/s   04:26 ETA"
       ]
      },
      {
       "output_type": "stream",
       "stream": "stdout",
       "text": [
        "\r",
        "TAF15_1.polyATrim.adapterTrim.rmRep.sorted.ba  19% 1822MB  28.0MB/s   04:26 ETA"
       ]
      },
      {
       "output_type": "stream",
       "stream": "stdout",
       "text": [
        "\r",
        "TAF15_1.polyATrim.adapterTrim.rmRep.sorted.ba  19% 1824MB  25.4MB/s   04:53 ETA"
       ]
      },
      {
       "output_type": "stream",
       "stream": "stdout",
       "text": [
        "\r",
        "TAF15_1.polyATrim.adapterTrim.rmRep.sorted.ba  20% 1864MB  26.9MB/s   04:36 ETA"
       ]
      },
      {
       "output_type": "stream",
       "stream": "stdout",
       "text": [
        "\r",
        "TAF15_1.polyATrim.adapterTrim.rmRep.sorted.ba  20% 1905MB  28.3MB/s   04:21 ETA"
       ]
      },
      {
       "output_type": "stream",
       "stream": "stdout",
       "text": [
        "\r",
        "TAF15_1.polyATrim.adapterTrim.rmRep.sorted.ba  20% 1939MB  28.9MB/s   04:14 ETA"
       ]
      },
      {
       "output_type": "stream",
       "stream": "stdout",
       "text": [
        "\r",
        "TAF15_1.polyATrim.adapterTrim.rmRep.sorted.ba  21% 1959MB  28.0MB/s   04:21 ETA"
       ]
      },
      {
       "output_type": "stream",
       "stream": "stdout",
       "text": [
        "\r",
        "TAF15_1.polyATrim.adapterTrim.rmRep.sorted.ba  21% 1964MB  25.7MB/s   04:45 ETA"
       ]
      },
      {
       "output_type": "stream",
       "stream": "stdout",
       "text": [
        "\r",
        "TAF15_1.polyATrim.adapterTrim.rmRep.sorted.ba  21% 2004MB  27.2MB/s   04:28 ETA"
       ]
      },
      {
       "output_type": "stream",
       "stream": "stdout",
       "text": [
        "\r",
        "TAF15_1.polyATrim.adapterTrim.rmRep.sorted.ba  22% 2046MB  28.6MB/s   04:13 ETA"
       ]
      },
      {
       "output_type": "stream",
       "stream": "stdout",
       "text": [
        "\r",
        "TAF15_1.polyATrim.adapterTrim.rmRep.sorted.ba  22% 2087MB  29.8MB/s   04:01 ETA"
       ]
      },
      {
       "output_type": "stream",
       "stream": "stdout",
       "text": [
        "\r",
        "TAF15_1.polyATrim.adapterTrim.rmRep.sorted.ba  22% 2114MB  29.5MB/s   04:03 ETA"
       ]
      },
      {
       "output_type": "stream",
       "stream": "stdout",
       "text": [
        "\r",
        "TAF15_1.polyATrim.adapterTrim.rmRep.sorted.ba  22% 2114MB  26.6MB/s   04:30 ETA"
       ]
      },
      {
       "output_type": "stream",
       "stream": "stdout",
       "text": [
        "\r",
        "TAF15_1.polyATrim.adapterTrim.rmRep.sorted.ba  23% 2153MB  27.8MB/s   04:16 ETA"
       ]
      },
      {
       "output_type": "stream",
       "stream": "stdout",
       "text": [
        "\r",
        "TAF15_1.polyATrim.adapterTrim.rmRep.sorted.ba  23% 2187MB  28.5MB/s   04:09 ETA"
       ]
      },
      {
       "output_type": "stream",
       "stream": "stdout",
       "text": [
        "\r",
        "TAF15_1.polyATrim.adapterTrim.rmRep.sorted.ba  23% 2229MB  29.8MB/s   03:56 ETA"
       ]
      },
      {
       "output_type": "stream",
       "stream": "stdout",
       "text": [
        "\r",
        "TAF15_1.polyATrim.adapterTrim.rmRep.sorted.ba  24% 2256MB  29.5MB/s   03:58 ETA"
       ]
      },
      {
       "output_type": "stream",
       "stream": "stdout",
       "text": [
        "\r",
        "TAF15_1.polyATrim.adapterTrim.rmRep.sorted.ba  24% 2259MB  26.9MB/s   04:21 ETA"
       ]
      },
      {
       "output_type": "stream",
       "stream": "stdout",
       "text": [
        "\r",
        "TAF15_1.polyATrim.adapterTrim.rmRep.sorted.ba  24% 2298MB  28.1MB/s   04:08 ETA"
       ]
      },
      {
       "output_type": "stream",
       "stream": "stdout",
       "text": [
        "\r",
        "TAF15_1.polyATrim.adapterTrim.rmRep.sorted.ba  25% 2338MB  29.3MB/s   03:57 ETA"
       ]
      },
      {
       "output_type": "stream",
       "stream": "stdout",
       "text": [
        "\r",
        "TAF15_1.polyATrim.adapterTrim.rmRep.sorted.ba  25% 2379MB  30.5MB/s   03:46 ETA"
       ]
      },
      {
       "output_type": "stream",
       "stream": "stdout",
       "text": [
        "\r",
        "TAF15_1.polyATrim.adapterTrim.rmRep.sorted.ba  25% 2406MB  30.1MB/s   03:49 ETA"
       ]
      },
      {
       "output_type": "stream",
       "stream": "stdout",
       "text": [
        "\r",
        "TAF15_1.polyATrim.adapterTrim.rmRep.sorted.ba  25% 2406MB  27.1MB/s   04:13 ETA"
       ]
      },
      {
       "output_type": "stream",
       "stream": "stdout",
       "text": [
        "\r",
        "TAF15_1.polyATrim.adapterTrim.rmRep.sorted.ba  26% 2446MB  28.4MB/s   04:01 ETA"
       ]
      },
      {
       "output_type": "stream",
       "stream": "stdout",
       "text": [
        "\r",
        "TAF15_1.polyATrim.adapterTrim.rmRep.sorted.ba  26% 2487MB  29.7MB/s   03:49 ETA"
       ]
      },
      {
       "output_type": "stream",
       "stream": "stdout",
       "text": [
        "\r",
        "TAF15_1.polyATrim.adapterTrim.rmRep.sorted.ba  27% 2527MB  30.6MB/s   03:40 ETA"
       ]
      },
      {
       "output_type": "stream",
       "stream": "stdout",
       "text": [
        "\r",
        "TAF15_1.polyATrim.adapterTrim.rmRep.sorted.ba  27% 2553MB  30.2MB/s   03:43 ETA"
       ]
      },
      {
       "output_type": "stream",
       "stream": "stdout",
       "text": [
        "\r",
        "TAF15_1.polyATrim.adapterTrim.rmRep.sorted.ba  27% 2555MB  27.4MB/s   04:06 ETA"
       ]
      },
      {
       "output_type": "stream",
       "stream": "stdout",
       "text": [
        "\r",
        "TAF15_1.polyATrim.adapterTrim.rmRep.sorted.ba  27% 2596MB  28.8MB/s   03:52 ETA"
       ]
      },
      {
       "output_type": "stream",
       "stream": "stdout",
       "text": [
        "\r",
        "TAF15_1.polyATrim.adapterTrim.rmRep.sorted.ba  28% 2637MB  30.0MB/s   03:42 ETA"
       ]
      },
      {
       "output_type": "stream",
       "stream": "stdout",
       "text": [
        "\r",
        "TAF15_1.polyATrim.adapterTrim.rmRep.sorted.ba  28% 2672MB  30.5MB/s   03:37 ETA"
       ]
      },
      {
       "output_type": "stream",
       "stream": "stdout",
       "text": [
        "\r",
        "TAF15_1.polyATrim.adapterTrim.rmRep.sorted.ba  29% 2697MB  29.9MB/s   03:40 ETA"
       ]
      },
      {
       "output_type": "stream",
       "stream": "stdout",
       "text": [
        "\r",
        "TAF15_1.polyATrim.adapterTrim.rmRep.sorted.ba  29% 2700MB  27.2MB/s   04:02 ETA"
       ]
      },
      {
       "output_type": "stream",
       "stream": "stdout",
       "text": [
        "\r",
        "TAF15_1.polyATrim.adapterTrim.rmRep.sorted.ba  29% 2741MB  28.6MB/s   03:48 ETA"
       ]
      },
      {
       "output_type": "stream",
       "stream": "stdout",
       "text": [
        "\r",
        "TAF15_1.polyATrim.adapterTrim.rmRep.sorted.ba  29% 2783MB  29.9MB/s   03:37 ETA"
       ]
      },
      {
       "output_type": "stream",
       "stream": "stdout",
       "text": [
        "\r",
        "TAF15_1.polyATrim.adapterTrim.rmRep.sorted.ba  30% 2823MB  30.9MB/s   03:29 ETA"
       ]
      },
      {
       "output_type": "stream",
       "stream": "stdout",
       "text": [
        "\r",
        "TAF15_1.polyATrim.adapterTrim.rmRep.sorted.ba  30% 2841MB  29.6MB/s   03:37 ETA"
       ]
      },
      {
       "output_type": "stream",
       "stream": "stdout",
       "text": [
        "\r",
        "TAF15_1.polyATrim.adapterTrim.rmRep.sorted.ba  30% 2844MB  27.0MB/s   03:58 ETA"
       ]
      },
      {
       "output_type": "stream",
       "stream": "stdout",
       "text": [
        "\r",
        "TAF15_1.polyATrim.adapterTrim.rmRep.sorted.ba  31% 2884MB  28.3MB/s   03:46 ETA"
       ]
      },
      {
       "output_type": "stream",
       "stream": "stdout",
       "text": [
        "\r",
        "TAF15_1.polyATrim.adapterTrim.rmRep.sorted.ba  31% 2924MB  29.5MB/s   03:35 ETA"
       ]
      },
      {
       "output_type": "stream",
       "stream": "stdout",
       "text": [
        "\r",
        "TAF15_1.polyATrim.adapterTrim.rmRep.sorted.ba  31% 2958MB  30.0MB/s   03:31 ETA"
       ]
      },
      {
       "output_type": "stream",
       "stream": "stdout",
       "text": [
        "\r",
        "TAF15_1.polyATrim.adapterTrim.rmRep.sorted.ba  32% 2984MB  29.5MB/s   03:33 ETA"
       ]
      },
      {
       "output_type": "stream",
       "stream": "stdout",
       "text": [
        "\r",
        "TAF15_1.polyATrim.adapterTrim.rmRep.sorted.ba  32% 2987MB  26.9MB/s   03:54 ETA"
       ]
      },
      {
       "output_type": "stream",
       "stream": "stdout",
       "text": [
        "\r",
        "TAF15_1.polyATrim.adapterTrim.rmRep.sorted.ba  32% 3029MB  28.4MB/s   03:40 ETA"
       ]
      },
      {
       "output_type": "stream",
       "stream": "stdout",
       "text": [
        "\r",
        "TAF15_1.polyATrim.adapterTrim.rmRep.sorted.ba  33% 3071MB  29.8MB/s   03:28 ETA"
       ]
      },
      {
       "output_type": "stream",
       "stream": "stdout",
       "text": [
        "\r",
        "TAF15_1.polyATrim.adapterTrim.rmRep.sorted.ba  33% 3108MB  30.5MB/s   03:22 ETA"
       ]
      },
      {
       "output_type": "stream",
       "stream": "stdout",
       "text": [
        "\r",
        "TAF15_1.polyATrim.adapterTrim.rmRep.sorted.ba  33% 3124MB  29.0MB/s   03:32 ETA"
       ]
      },
      {
       "output_type": "stream",
       "stream": "stdout",
       "text": [
        "\r",
        "TAF15_1.polyATrim.adapterTrim.rmRep.sorted.ba  33% 3129MB  26.6MB/s   03:51 ETA"
       ]
      },
      {
       "output_type": "stream",
       "stream": "stdout",
       "text": [
        "\r",
        "TAF15_1.polyATrim.adapterTrim.rmRep.sorted.ba  33% 3156MB  26.7MB/s   03:50 ETA"
       ]
      },
      {
       "output_type": "stream",
       "stream": "stdout",
       "text": [
        "\r",
        "TAF15_1.polyATrim.adapterTrim.rmRep.sorted.ba  34% 3196MB  28.0MB/s   03:37 ETA"
       ]
      },
      {
       "output_type": "stream",
       "stream": "stdout",
       "text": [
        "\r",
        "TAF15_1.polyATrim.adapterTrim.rmRep.sorted.ba  34% 3230MB  28.6MB/s   03:32 ETA"
       ]
      },
      {
       "output_type": "stream",
       "stream": "stdout",
       "text": [
        "\r",
        "TAF15_1.polyATrim.adapterTrim.rmRep.sorted.ba  35% 3255MB  28.2MB/s   03:33 ETA"
       ]
      },
      {
       "output_type": "stream",
       "stream": "stdout",
       "text": [
        "\r",
        "TAF15_1.polyATrim.adapterTrim.rmRep.sorted.ba  35% 3263MB  26.2MB/s   03:49 ETA"
       ]
      },
      {
       "output_type": "stream",
       "stream": "stdout",
       "text": [
        "\r",
        "TAF15_1.polyATrim.adapterTrim.rmRep.sorted.ba  35% 3304MB  27.7MB/s   03:36 ETA"
       ]
      },
      {
       "output_type": "stream",
       "stream": "stdout",
       "text": [
        "\r",
        "TAF15_1.polyATrim.adapterTrim.rmRep.sorted.ba  36% 3345MB  29.1MB/s   03:24 ETA"
       ]
      },
      {
       "output_type": "stream",
       "stream": "stdout",
       "text": [
        "\r",
        "TAF15_1.polyATrim.adapterTrim.rmRep.sorted.ba  36% 3386MB  30.2MB/s   03:15 ETA"
       ]
      },
      {
       "output_type": "stream",
       "stream": "stdout",
       "text": [
        "\r",
        "TAF15_1.polyATrim.adapterTrim.rmRep.sorted.ba  36% 3409MB  29.5MB/s   03:19 ETA"
       ]
      },
      {
       "output_type": "stream",
       "stream": "stdout",
       "text": [
        "\r",
        "TAF15_1.polyATrim.adapterTrim.rmRep.sorted.ba  36% 3411MB  26.7MB/s   03:40 ETA"
       ]
      },
      {
       "output_type": "stream",
       "stream": "stdout",
       "text": [
        "\r",
        "TAF15_1.polyATrim.adapterTrim.rmRep.sorted.ba  37% 3451MB  28.1MB/s   03:28 ETA"
       ]
      },
      {
       "output_type": "stream",
       "stream": "stdout",
       "text": [
        "\r",
        "TAF15_1.polyATrim.adapterTrim.rmRep.sorted.ba  37% 3492MB  29.4MB/s   03:17 ETA"
       ]
      },
      {
       "output_type": "stream",
       "stream": "stdout",
       "text": [
        "\r",
        "TAF15_1.polyATrim.adapterTrim.rmRep.sorted.ba  38% 3533MB  30.6MB/s   03:08 ETA"
       ]
      },
      {
       "output_type": "stream",
       "stream": "stdout",
       "text": [
        "\r",
        "TAF15_1.polyATrim.adapterTrim.rmRep.sorted.ba  38% 3558MB  30.0MB/s   03:11 ETA"
       ]
      },
      {
       "output_type": "stream",
       "stream": "stdout",
       "text": [
        "\r",
        "TAF15_1.polyATrim.adapterTrim.rmRep.sorted.ba  38% 3561MB  27.3MB/s   03:30 ETA"
       ]
      },
      {
       "output_type": "stream",
       "stream": "stdout",
       "text": [
        "\r",
        "TAF15_1.polyATrim.adapterTrim.rmRep.sorted.ba  38% 3602MB  28.6MB/s   03:18 ETA"
       ]
      },
      {
       "output_type": "stream",
       "stream": "stdout",
       "text": [
        "\r",
        "TAF15_1.polyATrim.adapterTrim.rmRep.sorted.ba  39% 3643MB  29.9MB/s   03:08 ETA"
       ]
      },
      {
       "output_type": "stream",
       "stream": "stdout",
       "text": [
        "\r",
        "TAF15_1.polyATrim.adapterTrim.rmRep.sorted.ba  39% 3683MB  30.9MB/s   03:01 ETA"
       ]
      },
      {
       "output_type": "stream",
       "stream": "stdout",
       "text": [
        "\r",
        "TAF15_1.polyATrim.adapterTrim.rmRep.sorted.ba  39% 3706MB  30.1MB/s   03:05 ETA"
       ]
      },
      {
       "output_type": "stream",
       "stream": "stdout",
       "text": [
        "\r",
        "TAF15_1.polyATrim.adapterTrim.rmRep.sorted.ba  39% 3710MB  27.5MB/s   03:22 ETA"
       ]
      },
      {
       "output_type": "stream",
       "stream": "stdout",
       "text": [
        "\r",
        "TAF15_1.polyATrim.adapterTrim.rmRep.sorted.ba  40% 3752MB  28.9MB/s   03:11 ETA"
       ]
      },
      {
       "output_type": "stream",
       "stream": "stdout",
       "text": [
        "\r",
        "TAF15_1.polyATrim.adapterTrim.rmRep.sorted.ba  40% 3793MB  30.2MB/s   03:02 ETA"
       ]
      },
      {
       "output_type": "stream",
       "stream": "stdout",
       "text": [
        "\r",
        "TAF15_1.polyATrim.adapterTrim.rmRep.sorted.ba  41% 3835MB  31.3MB/s   02:54 ETA"
       ]
      },
      {
       "output_type": "stream",
       "stream": "stdout",
       "text": [
        "\r",
        "TAF15_1.polyATrim.adapterTrim.rmRep.sorted.ba  41% 3859MB  30.6MB/s   02:57 ETA"
       ]
      },
      {
       "output_type": "stream",
       "stream": "stdout",
       "text": [
        "\r",
        "TAF15_1.polyATrim.adapterTrim.rmRep.sorted.ba  41% 3861MB  27.7MB/s   03:15 ETA"
       ]
      },
      {
       "output_type": "stream",
       "stream": "stdout",
       "text": [
        "\r",
        "TAF15_1.polyATrim.adapterTrim.rmRep.sorted.ba  41% 3902MB  29.0MB/s   03:05 ETA"
       ]
      },
      {
       "output_type": "stream",
       "stream": "stdout",
       "text": [
        "\r",
        "TAF15_1.polyATrim.adapterTrim.rmRep.sorted.ba  42% 3943MB  30.3MB/s   02:56 ETA"
       ]
      },
      {
       "output_type": "stream",
       "stream": "stdout",
       "text": [
        "\r",
        "TAF15_1.polyATrim.adapterTrim.rmRep.sorted.ba  42% 3984MB  31.3MB/s   02:49 ETA"
       ]
      },
      {
       "output_type": "stream",
       "stream": "stdout",
       "text": [
        "\r",
        "TAF15_1.polyATrim.adapterTrim.rmRep.sorted.ba  43% 4007MB  30.5MB/s   02:53 ETA"
       ]
      },
      {
       "output_type": "stream",
       "stream": "stdout",
       "text": [
        "\r",
        "TAF15_1.polyATrim.adapterTrim.rmRep.sorted.ba  43% 4010MB  27.8MB/s   03:10 ETA"
       ]
      },
      {
       "output_type": "stream",
       "stream": "stdout",
       "text": [
        "\r",
        "TAF15_1.polyATrim.adapterTrim.rmRep.sorted.ba  43% 4044MB  28.4MB/s   03:04 ETA"
       ]
      },
      {
       "output_type": "stream",
       "stream": "stdout",
       "text": [
        "\r",
        "TAF15_1.polyATrim.adapterTrim.rmRep.sorted.ba  43% 4086MB  29.7MB/s   02:55 ETA"
       ]
      },
      {
       "output_type": "stream",
       "stream": "stdout",
       "text": [
        "\r",
        "TAF15_1.polyATrim.adapterTrim.rmRep.sorted.ba  44% 4128MB  31.0MB/s   02:46 ETA"
       ]
      },
      {
       "output_type": "stream",
       "stream": "stdout",
       "text": [
        "\r",
        "TAF15_1.polyATrim.adapterTrim.rmRep.sorted.ba  44% 4152MB  30.3MB/s   02:49 ETA"
       ]
      },
      {
       "output_type": "stream",
       "stream": "stdout",
       "text": [
        "\r",
        "TAF15_1.polyATrim.adapterTrim.rmRep.sorted.ba  44% 4157MB  27.7MB/s   03:05 ETA"
       ]
      },
      {
       "output_type": "stream",
       "stream": "stdout",
       "text": [
        "\r",
        "TAF15_1.polyATrim.adapterTrim.rmRep.sorted.ba  45% 4197MB  28.9MB/s   02:56 ETA"
       ]
      },
      {
       "output_type": "stream",
       "stream": "stdout",
       "text": [
        "\r",
        "TAF15_1.polyATrim.adapterTrim.rmRep.sorted.ba  45% 4237MB  30.1MB/s   02:48 ETA"
       ]
      },
      {
       "output_type": "stream",
       "stream": "stdout",
       "text": [
        "\r",
        "TAF15_1.polyATrim.adapterTrim.rmRep.sorted.ba  46% 4278MB  31.2MB/s   02:40 ETA"
       ]
      },
      {
       "output_type": "stream",
       "stream": "stdout",
       "text": [
        "\r",
        "TAF15_1.polyATrim.adapterTrim.rmRep.sorted.ba  46% 4302MB  30.5MB/s   02:43 ETA"
       ]
      },
      {
       "output_type": "stream",
       "stream": "stdout",
       "text": [
        "\r",
        "TAF15_1.polyATrim.adapterTrim.rmRep.sorted.ba  46% 4306MB  27.8MB/s   02:59 ETA"
       ]
      },
      {
       "output_type": "stream",
       "stream": "stdout",
       "text": [
        "\r",
        "TAF15_1.polyATrim.adapterTrim.rmRep.sorted.ba  46% 4348MB  29.2MB/s   02:49 ETA"
       ]
      },
      {
       "output_type": "stream",
       "stream": "stdout",
       "text": [
        "\r",
        "TAF15_1.polyATrim.adapterTrim.rmRep.sorted.ba  47% 4389MB  30.4MB/s   02:41 ETA"
       ]
      },
      {
       "output_type": "stream",
       "stream": "stdout",
       "text": [
        "\r",
        "TAF15_1.polyATrim.adapterTrim.rmRep.sorted.ba  47% 4430MB  31.4MB/s   02:34 ETA"
       ]
      },
      {
       "output_type": "stream",
       "stream": "stdout",
       "text": [
        "\r",
        "TAF15_1.polyATrim.adapterTrim.rmRep.sorted.ba  47% 4453MB  30.6MB/s   02:37 ETA"
       ]
      },
      {
       "output_type": "stream",
       "stream": "stdout",
       "text": [
        "\r",
        "TAF15_1.polyATrim.adapterTrim.rmRep.sorted.ba  47% 4457MB  28.0MB/s   02:52 ETA"
       ]
      },
      {
       "output_type": "stream",
       "stream": "stdout",
       "text": [
        "\r",
        "TAF15_1.polyATrim.adapterTrim.rmRep.sorted.ba  48% 4498MB  29.3MB/s   02:43 ETA"
       ]
      },
      {
       "output_type": "stream",
       "stream": "stdout",
       "text": [
        "\r",
        "TAF15_1.polyATrim.adapterTrim.rmRep.sorted.ba  48% 4539MB  30.4MB/s   02:36 ETA"
       ]
      },
      {
       "output_type": "stream",
       "stream": "stdout",
       "text": [
        "\r",
        "TAF15_1.polyATrim.adapterTrim.rmRep.sorted.ba  49% 4580MB  31.5MB/s   02:29 ETA"
       ]
      },
      {
       "output_type": "stream",
       "stream": "stdout",
       "text": [
        "\r",
        "TAF15_1.polyATrim.adapterTrim.rmRep.sorted.ba  49% 4604MB  30.7MB/s   02:32 ETA"
       ]
      },
      {
       "output_type": "stream",
       "stream": "stdout",
       "text": [
        "\r",
        "TAF15_1.polyATrim.adapterTrim.rmRep.sorted.ba  49% 4608MB  28.1MB/s   02:46 ETA"
       ]
      },
      {
       "output_type": "stream",
       "stream": "stdout",
       "text": [
        "\r",
        "TAF15_1.polyATrim.adapterTrim.rmRep.sorted.ba  50% 4649MB  29.4MB/s   02:37 ETA"
       ]
      },
      {
       "output_type": "stream",
       "stream": "stdout",
       "text": [
        "\r",
        "TAF15_1.polyATrim.adapterTrim.rmRep.sorted.ba  50% 4691MB  30.6MB/s   02:30 ETA"
       ]
      },
      {
       "output_type": "stream",
       "stream": "stdout",
       "text": [
        "\r",
        "TAF15_1.polyATrim.adapterTrim.rmRep.sorted.ba  50% 4732MB  31.7MB/s   02:23 ETA"
       ]
      },
      {
       "output_type": "stream",
       "stream": "stdout",
       "text": [
        "\r",
        "TAF15_1.polyATrim.adapterTrim.rmRep.sorted.ba  51% 4748MB  30.1MB/s   02:30 ETA"
       ]
      },
      {
       "output_type": "stream",
       "stream": "stdout",
       "text": [
        "\r",
        "TAF15_1.polyATrim.adapterTrim.rmRep.sorted.ba  51% 4755MB  27.8MB/s   02:43 ETA"
       ]
      },
      {
       "output_type": "stream",
       "stream": "stdout",
       "text": [
        "\r",
        "TAF15_1.polyATrim.adapterTrim.rmRep.sorted.ba  51% 4796MB  29.1MB/s   02:34 ETA"
       ]
      },
      {
       "output_type": "stream",
       "stream": "stdout",
       "text": [
        "\r",
        "TAF15_1.polyATrim.adapterTrim.rmRep.sorted.ba  52% 4837MB  30.3MB/s   02:26 ETA"
       ]
      },
      {
       "output_type": "stream",
       "stream": "stdout",
       "text": [
        "\r",
        "TAF15_1.polyATrim.adapterTrim.rmRep.sorted.ba  52% 4878MB  31.4MB/s   02:20 ETA"
       ]
      },
      {
       "output_type": "stream",
       "stream": "stdout",
       "text": [
        "\r",
        "TAF15_1.polyATrim.adapterTrim.rmRep.sorted.ba  52% 4901MB  30.5MB/s   02:23 ETA"
       ]
      },
      {
       "output_type": "stream",
       "stream": "stdout",
       "text": [
        "\r",
        "TAF15_1.polyATrim.adapterTrim.rmRep.sorted.ba  52% 4905MB  27.9MB/s   02:37 ETA"
       ]
      },
      {
       "output_type": "stream",
       "stream": "stdout",
       "text": [
        "\r",
        "TAF15_1.polyATrim.adapterTrim.rmRep.sorted.ba  53% 4940MB  28.5MB/s   02:32 ETA"
       ]
      },
      {
       "output_type": "stream",
       "stream": "stdout",
       "text": [
        "\r",
        "TAF15_1.polyATrim.adapterTrim.rmRep.sorted.ba  53% 4981MB  29.8MB/s   02:24 ETA"
       ]
      },
      {
       "output_type": "stream",
       "stream": "stdout",
       "text": [
        "\r",
        "TAF15_1.polyATrim.adapterTrim.rmRep.sorted.ba  54% 5022MB  31.0MB/s   02:17 ETA"
       ]
      },
      {
       "output_type": "stream",
       "stream": "stdout",
       "text": [
        "\r",
        "TAF15_1.polyATrim.adapterTrim.rmRep.sorted.ba  54% 5045MB  30.1MB/s   02:20 ETA"
       ]
      },
      {
       "output_type": "stream",
       "stream": "stdout",
       "text": [
        "\r",
        "TAF15_1.polyATrim.adapterTrim.rmRep.sorted.ba  54% 5052MB  27.9MB/s   02:32 ETA"
       ]
      },
      {
       "output_type": "stream",
       "stream": "stdout",
       "text": [
        "\r",
        "TAF15_1.polyATrim.adapterTrim.rmRep.sorted.ba  54% 5093MB  29.2MB/s   02:23 ETA"
       ]
      },
      {
       "output_type": "stream",
       "stream": "stdout",
       "text": [
        "\r",
        "TAF15_1.polyATrim.adapterTrim.rmRep.sorted.ba  55% 5131MB  30.0MB/s   02:18 ETA"
       ]
      },
      {
       "output_type": "stream",
       "stream": "stdout",
       "text": [
        "\r",
        "TAF15_1.polyATrim.adapterTrim.rmRep.sorted.ba  55% 5168MB  30.8MB/s   02:13 ETA"
       ]
      },
      {
       "output_type": "stream",
       "stream": "stdout",
       "text": [
        "\r",
        "TAF15_1.polyATrim.adapterTrim.rmRep.sorted.ba  55% 5191MB  29.9MB/s   02:16 ETA"
       ]
      },
      {
       "output_type": "stream",
       "stream": "stdout",
       "text": [
        "\r",
        "TAF15_1.polyATrim.adapterTrim.rmRep.sorted.ba  55% 5197MB  27.5MB/s   02:28 ETA"
       ]
      },
      {
       "output_type": "stream",
       "stream": "stdout",
       "text": [
        "\r",
        "TAF15_1.polyATrim.adapterTrim.rmRep.sorted.ba  56% 5237MB  28.8MB/s   02:20 ETA"
       ]
      },
      {
       "output_type": "stream",
       "stream": "stdout",
       "text": [
        "\r",
        "TAF15_1.polyATrim.adapterTrim.rmRep.sorted.ba  56% 5278MB  30.0MB/s   02:13 ETA"
       ]
      },
      {
       "output_type": "stream",
       "stream": "stdout",
       "text": [
        "\r",
        "TAF15_1.polyATrim.adapterTrim.rmRep.sorted.ba  57% 5319MB  31.2MB/s   02:07 ETA"
       ]
      },
      {
       "output_type": "stream",
       "stream": "stdout",
       "text": [
        "\r",
        "TAF15_1.polyATrim.adapterTrim.rmRep.sorted.ba  57% 5342MB  30.3MB/s   02:10 ETA"
       ]
      },
      {
       "output_type": "stream",
       "stream": "stdout",
       "text": [
        "\r",
        "TAF15_1.polyATrim.adapterTrim.rmRep.sorted.ba  57% 5346MB  27.7MB/s   02:22 ETA"
       ]
      },
      {
       "output_type": "stream",
       "stream": "stdout",
       "text": [
        "\r",
        "TAF15_1.polyATrim.adapterTrim.rmRep.sorted.ba  57% 5387MB  29.0MB/s   02:14 ETA"
       ]
      },
      {
       "output_type": "stream",
       "stream": "stdout",
       "text": [
        "\r",
        "TAF15_1.polyATrim.adapterTrim.rmRep.sorted.ba  58% 5428MB  30.2MB/s   02:07 ETA"
       ]
      },
      {
       "output_type": "stream",
       "stream": "stdout",
       "text": [
        "\r",
        "TAF15_1.polyATrim.adapterTrim.rmRep.sorted.ba  58% 5468MB  31.2MB/s   02:02 ETA"
       ]
      },
      {
       "output_type": "stream",
       "stream": "stdout",
       "text": [
        "\r",
        "TAF15_1.polyATrim.adapterTrim.rmRep.sorted.ba  59% 5490MB  30.3MB/s   02:05 ETA"
       ]
      },
      {
       "output_type": "stream",
       "stream": "stdout",
       "text": [
        "\r",
        "TAF15_1.polyATrim.adapterTrim.rmRep.sorted.ba  59% 5495MB  27.8MB/s   02:16 ETA"
       ]
      },
      {
       "output_type": "stream",
       "stream": "stdout",
       "text": [
        "\r",
        "TAF15_1.polyATrim.adapterTrim.rmRep.sorted.ba  59% 5538MB  29.2MB/s   02:08 ETA"
       ]
      },
      {
       "output_type": "stream",
       "stream": "stdout",
       "text": [
        "\r",
        "TAF15_1.polyATrim.adapterTrim.rmRep.sorted.ba  60% 5580MB  30.5MB/s   02:01 ETA"
       ]
      },
      {
       "output_type": "stream",
       "stream": "stdout",
       "text": [
        "\r",
        "TAF15_1.polyATrim.adapterTrim.rmRep.sorted.ba  60% 5622MB  31.7MB/s   01:55 ETA"
       ]
      },
      {
       "output_type": "stream",
       "stream": "stdout",
       "text": [
        "\r",
        "TAF15_1.polyATrim.adapterTrim.rmRep.sorted.ba  60% 5638MB  30.1MB/s   02:01 ETA"
       ]
      },
      {
       "output_type": "stream",
       "stream": "stdout",
       "text": [
        "\r",
        "TAF15_1.polyATrim.adapterTrim.rmRep.sorted.ba  60% 5643MB  27.6MB/s   02:11 ETA"
       ]
      },
      {
       "output_type": "stream",
       "stream": "stdout",
       "text": [
        "\r",
        "TAF15_1.polyATrim.adapterTrim.rmRep.sorted.ba  61% 5682MB  28.8MB/s   02:05 ETA"
       ]
      },
      {
       "output_type": "stream",
       "stream": "stdout",
       "text": [
        "\r",
        "TAF15_1.polyATrim.adapterTrim.rmRep.sorted.ba  61% 5722MB  29.8MB/s   01:59 ETA"
       ]
      },
      {
       "output_type": "stream",
       "stream": "stdout",
       "text": [
        "\r",
        "TAF15_1.polyATrim.adapterTrim.rmRep.sorted.ba  62% 5762MB  30.9MB/s   01:54 ETA"
       ]
      },
      {
       "output_type": "stream",
       "stream": "stdout",
       "text": [
        "\r",
        "TAF15_1.polyATrim.adapterTrim.rmRep.sorted.ba  62% 5782MB  29.8MB/s   01:57 ETA"
       ]
      },
      {
       "output_type": "stream",
       "stream": "stdout",
       "text": [
        "\r",
        "TAF15_1.polyATrim.adapterTrim.rmRep.sorted.ba  62% 5789MB  27.5MB/s   02:07 ETA"
       ]
      },
      {
       "output_type": "stream",
       "stream": "stdout",
       "text": [
        "\r",
        "TAF15_1.polyATrim.adapterTrim.rmRep.sorted.ba  62% 5828MB  28.7MB/s   02:00 ETA"
       ]
      },
      {
       "output_type": "stream",
       "stream": "stdout",
       "text": [
        "\r",
        "TAF15_1.polyATrim.adapterTrim.rmRep.sorted.ba  63% 5861MB  29.1MB/s   01:57 ETA"
       ]
      },
      {
       "output_type": "stream",
       "stream": "stdout",
       "text": [
        "\r",
        "TAF15_1.polyATrim.adapterTrim.rmRep.sorted.ba  63% 5902MB  30.3MB/s   01:51 ETA"
       ]
      },
      {
       "output_type": "stream",
       "stream": "stdout",
       "text": [
        "\r",
        "TAF15_1.polyATrim.adapterTrim.rmRep.sorted.ba  63% 5918MB  28.8MB/s   01:56 ETA"
       ]
      },
      {
       "output_type": "stream",
       "stream": "stdout",
       "text": [
        "\r",
        "TAF15_1.polyATrim.adapterTrim.rmRep.sorted.ba  63% 5928MB  27.0MB/s   02:04 ETA"
       ]
      },
      {
       "output_type": "stream",
       "stream": "stdout",
       "text": [
        "\r",
        "TAF15_1.polyATrim.adapterTrim.rmRep.sorted.ba  64% 5961MB  27.6MB/s   02:00 ETA"
       ]
      },
      {
       "output_type": "stream",
       "stream": "stdout",
       "text": [
        "\r",
        "TAF15_1.polyATrim.adapterTrim.rmRep.sorted.ba  64% 5995MB  28.3MB/s   01:56 ETA"
       ]
      },
      {
       "output_type": "stream",
       "stream": "stdout",
       "text": [
        "\r",
        "TAF15_1.polyATrim.adapterTrim.rmRep.sorted.ba  64% 6035MB  29.4MB/s   01:50 ETA"
       ]
      },
      {
       "output_type": "stream",
       "stream": "stdout",
       "text": [
        "\r",
        "TAF15_1.polyATrim.adapterTrim.rmRep.sorted.ba  65% 6056MB  28.6MB/s   01:53 ETA"
       ]
      },
      {
       "output_type": "stream",
       "stream": "stdout",
       "text": [
        "\r",
        "TAF15_1.polyATrim.adapterTrim.rmRep.sorted.ba  65% 6066MB  26.7MB/s   02:00 ETA"
       ]
      },
      {
       "output_type": "stream",
       "stream": "stdout",
       "text": [
        "\r",
        "TAF15_1.polyATrim.adapterTrim.rmRep.sorted.ba  65% 6108MB  28.2MB/s   01:52 ETA"
       ]
      },
      {
       "output_type": "stream",
       "stream": "stdout",
       "text": [
        "\r",
        "TAF15_1.polyATrim.adapterTrim.rmRep.sorted.ba  66% 6149MB  29.5MB/s   01:46 ETA"
       ]
      },
      {
       "output_type": "stream",
       "stream": "stdout",
       "text": [
        "\r",
        "TAF15_1.polyATrim.adapterTrim.rmRep.sorted.ba  66% 6191MB  30.7MB/s   01:40 ETA"
       ]
      },
      {
       "output_type": "stream",
       "stream": "stdout",
       "text": [
        "\r",
        "TAF15_1.polyATrim.adapterTrim.rmRep.sorted.ba  67% 6229MB  31.5MB/s   01:37 ETA"
       ]
      },
      {
       "output_type": "stream",
       "stream": "stdout",
       "text": [
        "\r",
        "TAF15_1.polyATrim.adapterTrim.rmRep.sorted.ba  67% 6270MB  32.4MB/s   01:33 ETA"
       ]
      },
      {
       "output_type": "stream",
       "stream": "stdout",
       "text": [
        "\r",
        "TAF15_1.polyATrim.adapterTrim.rmRep.sorted.ba  67% 6309MB  33.1MB/s   01:30 ETA"
       ]
      },
      {
       "output_type": "stream",
       "stream": "stdout",
       "text": [
        "\r",
        "TAF15_1.polyATrim.adapterTrim.rmRep.sorted.ba  68% 6350MB  33.9MB/s   01:26 ETA"
       ]
      },
      {
       "output_type": "stream",
       "stream": "stdout",
       "text": [
        "\r",
        "TAF15_1.polyATrim.adapterTrim.rmRep.sorted.ba  68% 6384MB  33.9MB/s   01:25 ETA"
       ]
      },
      {
       "output_type": "stream",
       "stream": "stdout",
       "text": [
        "\r",
        "TAF15_1.polyATrim.adapterTrim.rmRep.sorted.ba  69% 6424MB  34.5MB/s   01:23 ETA"
       ]
      },
      {
       "output_type": "stream",
       "stream": "stdout",
       "text": [
        "\r",
        "TAF15_1.polyATrim.adapterTrim.rmRep.sorted.ba  69% 6465MB  35.2MB/s   01:20 ETA"
       ]
      },
      {
       "output_type": "stream",
       "stream": "stdout",
       "text": [
        "\r",
        "TAF15_1.polyATrim.adapterTrim.rmRep.sorted.ba  70% 6506MB  35.8MB/s   01:17 ETA"
       ]
      },
      {
       "output_type": "stream",
       "stream": "stdout",
       "text": [
        "\r",
        "TAF15_1.polyATrim.adapterTrim.rmRep.sorted.ba  70% 6540MB  35.6MB/s   01:17 ETA"
       ]
      },
      {
       "output_type": "stream",
       "stream": "stdout",
       "text": [
        "\r",
        "TAF15_1.polyATrim.adapterTrim.rmRep.sorted.ba  70% 6574MB  35.4MB/s   01:16 ETA"
       ]
      },
      {
       "output_type": "stream",
       "stream": "stdout",
       "text": [
        "\r",
        "TAF15_1.polyATrim.adapterTrim.rmRep.sorted.ba  71% 6615MB  35.9MB/s   01:14 ETA"
       ]
      },
      {
       "output_type": "stream",
       "stream": "stdout",
       "text": [
        "\r",
        "TAF15_1.polyATrim.adapterTrim.rmRep.sorted.ba  71% 6647MB  35.6MB/s   01:14 ETA"
       ]
      },
      {
       "output_type": "stream",
       "stream": "stdout",
       "text": [
        "\r",
        "TAF15_1.polyATrim.adapterTrim.rmRep.sorted.ba  71% 6686MB  35.9MB/s   01:12 ETA"
       ]
      },
      {
       "output_type": "stream",
       "stream": "stdout",
       "text": [
        "\r",
        "TAF15_1.polyATrim.adapterTrim.rmRep.sorted.ba  72% 6713MB  35.0MB/s   01:13 ETA"
       ]
      },
      {
       "output_type": "stream",
       "stream": "stdout",
       "text": [
        "\r",
        "TAF15_1.polyATrim.adapterTrim.rmRep.sorted.ba  72% 6752MB  35.4MB/s   01:11 ETA"
       ]
      },
      {
       "output_type": "stream",
       "stream": "stdout",
       "text": [
        "\r",
        "TAF15_1.polyATrim.adapterTrim.rmRep.sorted.ba  73% 6791MB  35.7MB/s   01:09 ETA"
       ]
      },
      {
       "output_type": "stream",
       "stream": "stdout",
       "text": [
        "\r",
        "TAF15_1.polyATrim.adapterTrim.rmRep.sorted.ba  73% 6829MB  36.0MB/s   01:08 ETA"
       ]
      },
      {
       "output_type": "stream",
       "stream": "stdout",
       "text": [
        "\r",
        "TAF15_1.polyATrim.adapterTrim.rmRep.sorted.ba  73% 6868MB  36.3MB/s   01:06 ETA"
       ]
      },
      {
       "output_type": "stream",
       "stream": "stdout",
       "text": [
        "\r",
        "TAF15_1.polyATrim.adapterTrim.rmRep.sorted.ba  74% 6907MB  36.6MB/s   01:05 ETA"
       ]
      },
      {
       "output_type": "stream",
       "stream": "stdout",
       "text": [
        "\r",
        "TAF15_1.polyATrim.adapterTrim.rmRep.sorted.ba  74% 6946MB  36.8MB/s   01:03 ETA"
       ]
      },
      {
       "output_type": "stream",
       "stream": "stdout",
       "text": [
        "\r",
        "TAF15_1.polyATrim.adapterTrim.rmRep.sorted.ba  75% 6979MB  36.4MB/s   01:03 ETA"
       ]
      },
      {
       "output_type": "stream",
       "stream": "stdout",
       "text": [
        "\r",
        "TAF15_1.polyATrim.adapterTrim.rmRep.sorted.ba  75% 7017MB  36.6MB/s   01:02 ETA"
       ]
      },
      {
       "output_type": "stream",
       "stream": "stdout",
       "text": [
        "\r",
        "TAF15_1.polyATrim.adapterTrim.rmRep.sorted.ba  75% 7056MB  36.8MB/s   01:00 ETA"
       ]
      },
      {
       "output_type": "stream",
       "stream": "stdout",
       "text": [
        "\r",
        "TAF15_1.polyATrim.adapterTrim.rmRep.sorted.ba  76% 7094MB  37.0MB/s   00:59 ETA"
       ]
      },
      {
       "output_type": "stream",
       "stream": "stdout",
       "text": [
        "\r",
        "TAF15_1.polyATrim.adapterTrim.rmRep.sorted.ba  76% 7127MB  36.6MB/s   00:59 ETA"
       ]
      },
      {
       "output_type": "stream",
       "stream": "stdout",
       "text": [
        "\r",
        "TAF15_1.polyATrim.adapterTrim.rmRep.sorted.ba  77% 7159MB  36.1MB/s   00:59 ETA"
       ]
      },
      {
       "output_type": "stream",
       "stream": "stdout",
       "text": [
        "\r",
        "TAF15_1.polyATrim.adapterTrim.rmRep.sorted.ba  77% 7198MB  36.4MB/s   00:57 ETA"
       ]
      },
      {
       "output_type": "stream",
       "stream": "stdout",
       "text": [
        "\r",
        "TAF15_1.polyATrim.adapterTrim.rmRep.sorted.ba  77% 7237MB  36.6MB/s   00:56 ETA"
       ]
      },
      {
       "output_type": "stream",
       "stream": "stdout",
       "text": [
        "\r",
        "TAF15_1.polyATrim.adapterTrim.rmRep.sorted.ba  78% 7276MB  36.9MB/s   00:54 ETA"
       ]
      },
      {
       "output_type": "stream",
       "stream": "stdout",
       "text": [
        "\r",
        "TAF15_1.polyATrim.adapterTrim.rmRep.sorted.ba  78% 7315MB  37.1MB/s   00:53 ETA"
       ]
      },
      {
       "output_type": "stream",
       "stream": "stdout",
       "text": [
        "\r",
        "TAF15_1.polyATrim.adapterTrim.rmRep.sorted.ba  78% 7333MB  35.2MB/s   00:55 ETA"
       ]
      },
      {
       "output_type": "stream",
       "stream": "stdout",
       "text": [
        "\r",
        "TAF15_1.polyATrim.adapterTrim.rmRep.sorted.ba  78% 7333MB  31.7MB/s   01:01 ETA"
       ]
      },
      {
       "output_type": "stream",
       "stream": "stdout",
       "text": [
        "\r",
        "TAF15_1.polyATrim.adapterTrim.rmRep.sorted.ba  78% 7333MB  28.5MB/s   01:08 ETA"
       ]
      },
      {
       "output_type": "stream",
       "stream": "stdout",
       "text": [
        "\r",
        "TAF15_1.polyATrim.adapterTrim.rmRep.sorted.ba  78% 7333MB  25.7MB/s   01:16 ETA"
       ]
      },
      {
       "output_type": "stream",
       "stream": "stdout",
       "text": [
        "\r",
        "TAF15_1.polyATrim.adapterTrim.rmRep.sorted.ba  78% 7333MB  23.1MB/s   01:24 ETA"
       ]
      },
      {
       "output_type": "stream",
       "stream": "stdout",
       "text": [
        "\r",
        "TAF15_1.polyATrim.adapterTrim.rmRep.sorted.ba  78% 7335MB  21.0MB/s   01:33 ETA"
       ]
      },
      {
       "output_type": "stream",
       "stream": "stdout",
       "text": [
        "\r",
        "TAF15_1.polyATrim.adapterTrim.rmRep.sorted.ba  78% 7335MB  18.9MB/s   01:43 ETA"
       ]
      },
      {
       "output_type": "stream",
       "stream": "stdout",
       "text": [
        "\r",
        "TAF15_1.polyATrim.adapterTrim.rmRep.sorted.ba  78% 7335MB  17.0MB/s   01:54 ETA"
       ]
      },
      {
       "output_type": "stream",
       "stream": "stdout",
       "text": [
        "\r",
        "TAF15_1.polyATrim.adapterTrim.rmRep.sorted.ba  78% 7335MB  15.3MB/s   02:07 ETA"
       ]
      },
      {
       "output_type": "stream",
       "stream": "stdout",
       "text": [
        "\r",
        "TAF15_1.polyATrim.adapterTrim.rmRep.sorted.ba  78% 7335MB  13.8MB/s   02:21 ETA"
       ]
      },
      {
       "output_type": "stream",
       "stream": "stdout",
       "text": [
        "\r",
        "TAF15_1.polyATrim.adapterTrim.rmRep.sorted.ba  78% 7338MB  12.6MB/s   02:34 ETA"
       ]
      },
      {
       "output_type": "stream",
       "stream": "stdout",
       "text": [
        "\r",
        "TAF15_1.polyATrim.adapterTrim.rmRep.sorted.ba  78% 7338MB  11.4MB/s   02:52 ETA"
       ]
      },
      {
       "output_type": "stream",
       "stream": "stdout",
       "text": [
        "\r",
        "TAF15_1.polyATrim.adapterTrim.rmRep.sorted.ba  79% 7363MB  12.7MB/s   02:31 ETA"
       ]
      },
      {
       "output_type": "stream",
       "stream": "stdout",
       "text": [
        "\r",
        "TAF15_1.polyATrim.adapterTrim.rmRep.sorted.ba  79% 7401MB  15.3MB/s   02:03 ETA"
       ]
      },
      {
       "output_type": "stream",
       "stream": "stdout",
       "text": [
        "\r",
        "TAF15_1.polyATrim.adapterTrim.rmRep.sorted.ba  80% 7440MB  17.6MB/s   01:45 ETA"
       ]
      },
      {
       "output_type": "stream",
       "stream": "stdout",
       "text": [
        "\r",
        "TAF15_1.polyATrim.adapterTrim.rmRep.sorted.ba  80% 7458MB  17.7MB/s   01:43 ETA"
       ]
      },
      {
       "output_type": "stream",
       "stream": "stdout",
       "text": [
        "\r",
        "TAF15_1.polyATrim.adapterTrim.rmRep.sorted.ba  80% 7475MB  17.6MB/s   01:43 ETA"
       ]
      },
      {
       "output_type": "stream",
       "stream": "stdout",
       "text": [
        "\r",
        "TAF15_1.polyATrim.adapterTrim.rmRep.sorted.ba  80% 7513MB  19.7MB/s   01:30 ETA"
       ]
      },
      {
       "output_type": "stream",
       "stream": "stdout",
       "text": [
        "\r",
        "TAF15_1.polyATrim.adapterTrim.rmRep.sorted.ba  81% 7546MB  21.0MB/s   01:23 ETA"
       ]
      },
      {
       "output_type": "stream",
       "stream": "stdout",
       "text": [
        "\r",
        "TAF15_1.polyATrim.adapterTrim.rmRep.sorted.ba  81% 7585MB  22.8MB/s   01:14 ETA"
       ]
      },
      {
       "output_type": "stream",
       "stream": "stdout",
       "text": [
        "\r",
        "TAF15_1.polyATrim.adapterTrim.rmRep.sorted.ba  81% 7603MB  22.3MB/s   01:15 ETA"
       ]
      },
      {
       "output_type": "stream",
       "stream": "stdout",
       "text": [
        "\r",
        "TAF15_1.polyATrim.adapterTrim.rmRep.sorted.ba  81% 7612MB  21.0MB/s   01:19 ETA"
       ]
      },
      {
       "output_type": "stream",
       "stream": "stdout",
       "text": [
        "\r",
        "TAF15_1.polyATrim.adapterTrim.rmRep.sorted.ba  82% 7651MB  22.8MB/s   01:11 ETA"
       ]
      },
      {
       "output_type": "stream",
       "stream": "stdout",
       "text": [
        "\r",
        "TAF15_1.polyATrim.adapterTrim.rmRep.sorted.ba  82% 7690MB  24.4MB/s   01:05 ETA"
       ]
      },
      {
       "output_type": "stream",
       "stream": "stdout",
       "text": [
        "\r",
        "TAF15_1.polyATrim.adapterTrim.rmRep.sorted.ba  83% 7729MB  25.9MB/s   01:00 ETA"
       ]
      },
      {
       "output_type": "stream",
       "stream": "stdout",
       "text": [
        "\r",
        "TAF15_1.polyATrim.adapterTrim.rmRep.sorted.ba  83% 7740MB  24.4MB/s   01:03 ETA"
       ]
      },
      {
       "output_type": "stream",
       "stream": "stdout",
       "text": [
        "\r",
        "TAF15_1.polyATrim.adapterTrim.rmRep.sorted.ba  83% 7752MB  23.2MB/s   01:06 ETA"
       ]
      },
      {
       "output_type": "stream",
       "stream": "stdout",
       "text": [
        "\r",
        "TAF15_1.polyATrim.adapterTrim.rmRep.sorted.ba  83% 7791MB  24.7MB/s   01:00 ETA"
       ]
      },
      {
       "output_type": "stream",
       "stream": "stdout",
       "text": [
        "\r",
        "TAF15_1.polyATrim.adapterTrim.rmRep.sorted.ba  84% 7830MB  26.2MB/s   00:55 ETA"
       ]
      },
      {
       "output_type": "stream",
       "stream": "stdout",
       "text": [
        "\r",
        "TAF15_1.polyATrim.adapterTrim.rmRep.sorted.ba  84% 7869MB  27.4MB/s   00:51 ETA"
       ]
      },
      {
       "output_type": "stream",
       "stream": "stdout",
       "text": [
        "\r",
        "TAF15_1.polyATrim.adapterTrim.rmRep.sorted.ba  84% 7887MB  26.5MB/s   00:53 ETA"
       ]
      },
      {
       "output_type": "stream",
       "stream": "stdout",
       "text": [
        "\r",
        "TAF15_1.polyATrim.adapterTrim.rmRep.sorted.ba  84% 7896MB  24.8MB/s   00:56 ETA"
       ]
      },
      {
       "output_type": "stream",
       "stream": "stdout",
       "text": [
        "\r",
        "TAF15_1.polyATrim.adapterTrim.rmRep.sorted.ba  85% 7935MB  26.2MB/s   00:51 ETA"
       ]
      },
      {
       "output_type": "stream",
       "stream": "stdout",
       "text": [
        "\r",
        "TAF15_1.polyATrim.adapterTrim.rmRep.sorted.ba  85% 7974MB  27.4MB/s   00:48 ETA"
       ]
      },
      {
       "output_type": "stream",
       "stream": "stdout",
       "text": [
        "\r",
        "TAF15_1.polyATrim.adapterTrim.rmRep.sorted.ba  86% 8012MB  28.6MB/s   00:44 ETA"
       ]
      },
      {
       "output_type": "stream",
       "stream": "stdout",
       "text": [
        "\r",
        "TAF15_1.polyATrim.adapterTrim.rmRep.sorted.ba  86% 8030MB  27.5MB/s   00:45 ETA"
       ]
      },
      {
       "output_type": "stream",
       "stream": "stdout",
       "text": [
        "\r",
        "TAF15_1.polyATrim.adapterTrim.rmRep.sorted.ba  86% 8040MB  25.8MB/s   00:48 ETA"
       ]
      },
      {
       "output_type": "stream",
       "stream": "stdout",
       "text": [
        "\r",
        "TAF15_1.polyATrim.adapterTrim.rmRep.sorted.ba  86% 8079MB  27.0MB/s   00:44 ETA"
       ]
      },
      {
       "output_type": "stream",
       "stream": "stdout",
       "text": [
        "\r",
        "TAF15_1.polyATrim.adapterTrim.rmRep.sorted.ba  87% 8117MB  28.2MB/s   00:41 ETA"
       ]
      },
      {
       "output_type": "stream",
       "stream": "stdout",
       "text": [
        "\r",
        "TAF15_1.polyATrim.adapterTrim.rmRep.sorted.ba  87% 8150MB  28.6MB/s   00:39 ETA"
       ]
      },
      {
       "output_type": "stream",
       "stream": "stdout",
       "text": [
        "\r",
        "TAF15_1.polyATrim.adapterTrim.rmRep.sorted.ba  87% 8167MB  27.5MB/s   00:40 ETA"
       ]
      },
      {
       "output_type": "stream",
       "stream": "stdout",
       "text": [
        "\r",
        "TAF15_1.polyATrim.adapterTrim.rmRep.sorted.ba  88% 8180MB  26.0MB/s   00:42 ETA"
       ]
      },
      {
       "output_type": "stream",
       "stream": "stdout",
       "text": [
        "\r",
        "TAF15_1.polyATrim.adapterTrim.rmRep.sorted.ba  88% 8219MB  27.3MB/s   00:39 ETA"
       ]
      },
      {
       "output_type": "stream",
       "stream": "stdout",
       "text": [
        "\r",
        "TAF15_1.polyATrim.adapterTrim.rmRep.sorted.ba  88% 8258MB  28.4MB/s   00:36 ETA"
       ]
      },
      {
       "output_type": "stream",
       "stream": "stdout",
       "text": [
        "\r",
        "TAF15_1.polyATrim.adapterTrim.rmRep.sorted.ba  89% 8296MB  29.5MB/s   00:33 ETA"
       ]
      },
      {
       "output_type": "stream",
       "stream": "stdout",
       "text": [
        "\r",
        "TAF15_1.polyATrim.adapterTrim.rmRep.sorted.ba  89% 8313MB  28.2MB/s   00:34 ETA"
       ]
      },
      {
       "output_type": "stream",
       "stream": "stdout",
       "text": [
        "\r",
        "TAF15_1.polyATrim.adapterTrim.rmRep.sorted.ba  89% 8324MB  26.4MB/s   00:36 ETA"
       ]
      },
      {
       "output_type": "stream",
       "stream": "stdout",
       "text": [
        "\r",
        "TAF15_1.polyATrim.adapterTrim.rmRep.sorted.ba  89% 8356MB  27.0MB/s   00:34 ETA"
       ]
      },
      {
       "output_type": "stream",
       "stream": "stdout",
       "text": [
        "\r",
        "TAF15_1.polyATrim.adapterTrim.rmRep.sorted.ba  90% 8395MB  28.2MB/s   00:31 ETA"
       ]
      },
      {
       "output_type": "stream",
       "stream": "stdout",
       "text": [
        "\r",
        "TAF15_1.polyATrim.adapterTrim.rmRep.sorted.ba  90% 8434MB  29.3MB/s   00:29 ETA"
       ]
      },
      {
       "output_type": "stream",
       "stream": "stdout",
       "text": [
        "\r",
        "TAF15_1.polyATrim.adapterTrim.rmRep.sorted.ba  90% 8452MB  28.2MB/s   00:29 ETA"
       ]
      },
      {
       "output_type": "stream",
       "stream": "stdout",
       "text": [
        "\r",
        "TAF15_1.polyATrim.adapterTrim.rmRep.sorted.ba  91% 8465MB  26.6MB/s   00:31 ETA"
       ]
      },
      {
       "output_type": "stream",
       "stream": "stdout",
       "text": [
        "\r",
        "TAF15_1.polyATrim.adapterTrim.rmRep.sorted.ba  91% 8504MB  27.9MB/s   00:28 ETA"
       ]
      },
      {
       "output_type": "stream",
       "stream": "stdout",
       "text": [
        "\r",
        "TAF15_1.polyATrim.adapterTrim.rmRep.sorted.ba  91% 8540MB  28.7MB/s   00:26 ETA"
       ]
      },
      {
       "output_type": "stream",
       "stream": "stdout",
       "text": [
        "\r",
        "TAF15_1.polyATrim.adapterTrim.rmRep.sorted.ba  92% 8575MB  29.3MB/s   00:24 ETA"
       ]
      },
      {
       "output_type": "stream",
       "stream": "stdout",
       "text": [
        "\r",
        "TAF15_1.polyATrim.adapterTrim.rmRep.sorted.ba  92% 8592MB  28.1MB/s   00:24 ETA"
       ]
      },
      {
       "output_type": "stream",
       "stream": "stdout",
       "text": [
        "\r",
        "TAF15_1.polyATrim.adapterTrim.rmRep.sorted.ba  92% 8603MB  26.4MB/s   00:25 ETA"
       ]
      },
      {
       "output_type": "stream",
       "stream": "stdout",
       "text": [
        "\r",
        "TAF15_1.polyATrim.adapterTrim.rmRep.sorted.ba  93% 8642MB  27.7MB/s   00:23 ETA"
       ]
      },
      {
       "output_type": "stream",
       "stream": "stdout",
       "text": [
        "\r",
        "TAF15_1.polyATrim.adapterTrim.rmRep.sorted.ba  93% 8681MB  28.8MB/s   00:21 ETA"
       ]
      },
      {
       "output_type": "stream",
       "stream": "stdout",
       "text": [
        "\r",
        "TAF15_1.polyATrim.adapterTrim.rmRep.sorted.ba  93% 8720MB  29.8MB/s   00:19 ETA"
       ]
      },
      {
       "output_type": "stream",
       "stream": "stdout",
       "text": [
        "\r",
        "TAF15_1.polyATrim.adapterTrim.rmRep.sorted.ba  94% 8736MB  28.5MB/s   00:19 ETA"
       ]
      },
      {
       "output_type": "stream",
       "stream": "stdout",
       "text": [
        "\r",
        "TAF15_1.polyATrim.adapterTrim.rmRep.sorted.ba  94% 8747MB  26.7MB/s   00:20 ETA"
       ]
      },
      {
       "output_type": "stream",
       "stream": "stdout",
       "text": [
        "\r",
        "TAF15_1.polyATrim.adapterTrim.rmRep.sorted.ba  94% 8786MB  27.9MB/s   00:18 ETA"
       ]
      },
      {
       "output_type": "stream",
       "stream": "stdout",
       "text": [
        "\r",
        "TAF15_1.polyATrim.adapterTrim.rmRep.sorted.ba  94% 8825MB  29.0MB/s   00:16 ETA"
       ]
      },
      {
       "output_type": "stream",
       "stream": "stdout",
       "text": [
        "\r",
        "TAF15_1.polyATrim.adapterTrim.rmRep.sorted.ba  95% 8864MB  30.0MB/s   00:14 ETA"
       ]
      },
      {
       "output_type": "stream",
       "stream": "stdout",
       "text": [
        "\r",
        "TAF15_1.polyATrim.adapterTrim.rmRep.sorted.ba  95% 8880MB  28.6MB/s   00:14 ETA"
       ]
      },
      {
       "output_type": "stream",
       "stream": "stdout",
       "text": [
        "\r",
        "TAF15_1.polyATrim.adapterTrim.rmRep.sorted.ba  95% 8892MB  26.9MB/s   00:14 ETA"
       ]
      },
      {
       "output_type": "stream",
       "stream": "stdout",
       "text": [
        "\r",
        "TAF15_1.polyATrim.adapterTrim.rmRep.sorted.ba  96% 8930MB  28.1MB/s   00:12 ETA"
       ]
      },
      {
       "output_type": "stream",
       "stream": "stdout",
       "text": [
        "\r",
        "TAF15_1.polyATrim.adapterTrim.rmRep.sorted.ba  96% 8969MB  29.2MB/s   00:11 ETA"
       ]
      },
      {
       "output_type": "stream",
       "stream": "stdout",
       "text": [
        "\r",
        "TAF15_1.polyATrim.adapterTrim.rmRep.sorted.ba  96% 9008MB  30.2MB/s   00:09 ETA"
       ]
      },
      {
       "output_type": "stream",
       "stream": "stdout",
       "text": [
        "\r",
        "TAF15_1.polyATrim.adapterTrim.rmRep.sorted.ba  97% 9024MB  28.7MB/s   00:09 ETA"
       ]
      },
      {
       "output_type": "stream",
       "stream": "stdout",
       "text": [
        "\r",
        "TAF15_1.polyATrim.adapterTrim.rmRep.sorted.ba  97% 9036MB  27.0MB/s   00:09 ETA"
       ]
      },
      {
       "output_type": "stream",
       "stream": "stdout",
       "text": [
        "\r",
        "TAF15_1.polyATrim.adapterTrim.rmRep.sorted.ba  97% 9068MB  27.6MB/s   00:08 ETA"
       ]
      },
      {
       "output_type": "stream",
       "stream": "stdout",
       "text": [
        "\r",
        "TAF15_1.polyATrim.adapterTrim.rmRep.sorted.ba  98% 9107MB  28.7MB/s   00:06 ETA"
       ]
      },
      {
       "output_type": "stream",
       "stream": "stdout",
       "text": [
        "\r",
        "TAF15_1.polyATrim.adapterTrim.rmRep.sorted.ba  98% 9146MB  29.7MB/s   00:04 ETA"
       ]
      },
      {
       "output_type": "stream",
       "stream": "stdout",
       "text": [
        "\r",
        "TAF15_1.polyATrim.adapterTrim.rmRep.sorted.ba  98% 9162MB  28.3MB/s   00:04 ETA"
       ]
      },
      {
       "output_type": "stream",
       "stream": "stdout",
       "text": [
        "\r",
        "TAF15_1.polyATrim.adapterTrim.rmRep.sorted.ba  98% 9176MB  26.9MB/s   00:04 ETA"
       ]
      },
      {
       "output_type": "stream",
       "stream": "stdout",
       "text": [
        "\r",
        "TAF15_1.polyATrim.adapterTrim.rmRep.sorted.ba  99% 9215MB  28.1MB/s   00:02 ETA"
       ]
      },
      {
       "output_type": "stream",
       "stream": "stdout",
       "text": [
        "\r",
        "TAF15_1.polyATrim.adapterTrim.rmRep.sorted.ba  99% 9253MB  29.2MB/s   00:01 ETA"
       ]
      },
      {
       "output_type": "stream",
       "stream": "stdout",
       "text": [
        "\r",
        "TAF15_1.polyATrim.adapterTrim.rmRep.sorted.ba 100% 9291MB  28.9MB/s   05:21    \r\n"
       ]
      },
      {
       "output_type": "stream",
       "stream": "stdout",
       "text": [
        "\r",
        "TAF15_2.polyATrim.adapterTrim.rep.bam           0%    0     0.0KB/s   --:-- ETA"
       ]
      },
      {
       "output_type": "stream",
       "stream": "stdout",
       "text": [
        "\r",
        "TAF15_2.polyATrim.adapterTrim.rep.bam           0%   39MB  38.7MB/s   02:18 ETA"
       ]
      },
      {
       "output_type": "stream",
       "stream": "stdout",
       "text": [
        "\r",
        "TAF15_2.polyATrim.adapterTrim.rep.bam           1%   77MB  38.6MB/s   02:17 ETA"
       ]
      },
      {
       "output_type": "stream",
       "stream": "stdout",
       "text": [
        "\r",
        "TAF15_2.polyATrim.adapterTrim.rep.bam           2%  117MB  38.8MB/s   02:15 ETA"
       ]
      },
      {
       "output_type": "stream",
       "stream": "stdout",
       "text": [
        "\r",
        "TAF15_2.polyATrim.adapterTrim.rep.bam           2%  159MB  39.2MB/s   02:13 ETA"
       ]
      },
      {
       "output_type": "stream",
       "stream": "stdout",
       "text": [
        "\r",
        "TAF15_2.polyATrim.adapterTrim.rep.bam           3%  201MB  39.4MB/s   02:11 ETA"
       ]
      },
      {
       "output_type": "stream",
       "stream": "stdout",
       "text": [
        "\r",
        "TAF15_2.polyATrim.adapterTrim.rep.bam           4%  242MB  39.6MB/s   02:10 ETA"
       ]
      },
      {
       "output_type": "stream",
       "stream": "stdout",
       "text": [
        "\r",
        "TAF15_2.polyATrim.adapterTrim.rep.bam           5%  283MB  39.8MB/s   02:08 ETA"
       ]
      },
      {
       "output_type": "stream",
       "stream": "stdout",
       "text": [
        "\r",
        "TAF15_2.polyATrim.adapterTrim.rep.bam           6%  325MB  39.9MB/s   02:06 ETA"
       ]
      },
      {
       "output_type": "stream",
       "stream": "stdout",
       "text": [
        "\r",
        "TAF15_2.polyATrim.adapterTrim.rep.bam           6%  366MB  40.0MB/s   02:05 ETA"
       ]
      },
      {
       "output_type": "stream",
       "stream": "stdout",
       "text": [
        "\r",
        "TAF15_2.polyATrim.adapterTrim.rep.bam           7%  407MB  40.2MB/s   02:04 ETA"
       ]
      },
      {
       "output_type": "stream",
       "stream": "stdout",
       "text": [
        "\r",
        "TAF15_2.polyATrim.adapterTrim.rep.bam           8%  449MB  40.3MB/s   02:02 ETA"
       ]
      },
      {
       "output_type": "stream",
       "stream": "stdout",
       "text": [
        "\r",
        "TAF15_2.polyATrim.adapterTrim.rep.bam           8%  483MB  39.7MB/s   02:03 ETA"
       ]
      },
      {
       "output_type": "stream",
       "stream": "stdout",
       "text": [
        "\r",
        "TAF15_2.polyATrim.adapterTrim.rep.bam           9%  523MB  39.8MB/s   02:02 ETA"
       ]
      },
      {
       "output_type": "stream",
       "stream": "stdout",
       "text": [
        "\r",
        "TAF15_2.polyATrim.adapterTrim.rep.bam          10%  565MB  40.0MB/s   02:00 ETA"
       ]
      },
      {
       "output_type": "stream",
       "stream": "stdout",
       "text": [
        "\r",
        "TAF15_2.polyATrim.adapterTrim.rep.bam          11%  607MB  40.1MB/s   01:59 ETA"
       ]
      },
      {
       "output_type": "stream",
       "stream": "stdout",
       "text": [
        "\r",
        "TAF15_2.polyATrim.adapterTrim.rep.bam          12%  648MB  40.3MB/s   01:57 ETA"
       ]
      },
      {
       "output_type": "stream",
       "stream": "stdout",
       "text": [
        "\r",
        "TAF15_2.polyATrim.adapterTrim.rep.bam          12%  690MB  40.4MB/s   01:56 ETA"
       ]
      },
      {
       "output_type": "stream",
       "stream": "stdout",
       "text": [
        "\r",
        "TAF15_2.polyATrim.adapterTrim.rep.bam          13%  732MB  40.6MB/s   01:54 ETA"
       ]
      },
      {
       "output_type": "stream",
       "stream": "stdout",
       "text": [
        "\r",
        "TAF15_2.polyATrim.adapterTrim.rep.bam          14%  773MB  40.7MB/s   01:53 ETA"
       ]
      },
      {
       "output_type": "stream",
       "stream": "stdout",
       "text": [
        "\r",
        "TAF15_2.polyATrim.adapterTrim.rep.bam          14%  808MB  40.0MB/s   01:54 ETA"
       ]
      },
      {
       "output_type": "stream",
       "stream": "stdout",
       "text": [
        "\r",
        "TAF15_2.polyATrim.adapterTrim.rep.bam          15%  849MB  40.2MB/s   01:53 ETA"
       ]
      },
      {
       "output_type": "stream",
       "stream": "stdout",
       "text": [
        "\r",
        "TAF15_2.polyATrim.adapterTrim.rep.bam          16%  890MB  40.3MB/s   01:51 ETA"
       ]
      },
      {
       "output_type": "stream",
       "stream": "stdout",
       "text": [
        "\r",
        "TAF15_2.polyATrim.adapterTrim.rep.bam          17%  931MB  40.3MB/s   01:50 ETA"
       ]
      },
      {
       "output_type": "stream",
       "stream": "stdout",
       "text": [
        "\r",
        "TAF15_2.polyATrim.adapterTrim.rep.bam          18%  972MB  40.4MB/s   01:49 ETA"
       ]
      },
      {
       "output_type": "stream",
       "stream": "stdout",
       "text": [
        "\r",
        "TAF15_2.polyATrim.adapterTrim.rep.bam          18% 1014MB  40.5MB/s   01:48 ETA"
       ]
      },
      {
       "output_type": "stream",
       "stream": "stdout",
       "text": [
        "\r",
        "TAF15_2.polyATrim.adapterTrim.rep.bam          19% 1055MB  40.6MB/s   01:46 ETA"
       ]
      },
      {
       "output_type": "stream",
       "stream": "stdout",
       "text": [
        "\r",
        "TAF15_2.polyATrim.adapterTrim.rep.bam          20% 1088MB  39.9MB/s   01:47 ETA"
       ]
      },
      {
       "output_type": "stream",
       "stream": "stdout",
       "text": [
        "\r",
        "TAF15_2.polyATrim.adapterTrim.rep.bam          20% 1129MB  40.0MB/s   01:46 ETA"
       ]
      },
      {
       "output_type": "stream",
       "stream": "stdout",
       "text": [
        "\r",
        "TAF15_2.polyATrim.adapterTrim.rep.bam          21% 1167MB  39.8MB/s   01:46 ETA"
       ]
      },
      {
       "output_type": "stream",
       "stream": "stdout",
       "text": [
        "\r",
        "TAF15_2.polyATrim.adapterTrim.rep.bam          22% 1210MB  40.0MB/s   01:44 ETA"
       ]
      },
      {
       "output_type": "stream",
       "stream": "stdout",
       "text": [
        "\r",
        "TAF15_2.polyATrim.adapterTrim.rep.bam          23% 1251MB  40.2MB/s   01:42 ETA"
       ]
      },
      {
       "output_type": "stream",
       "stream": "stdout",
       "text": [
        "\r",
        "TAF15_2.polyATrim.adapterTrim.rep.bam          23% 1293MB  40.3MB/s   01:41 ETA"
       ]
      },
      {
       "output_type": "stream",
       "stream": "stdout",
       "text": [
        "\r",
        "TAF15_2.polyATrim.adapterTrim.rep.bam          24% 1334MB  40.5MB/s   01:40 ETA"
       ]
      },
      {
       "output_type": "stream",
       "stream": "stdout",
       "text": [
        "\r",
        "TAF15_2.polyATrim.adapterTrim.rep.bam          25% 1376MB  40.6MB/s   01:38 ETA"
       ]
      },
      {
       "output_type": "stream",
       "stream": "stdout",
       "text": [
        "\r",
        "TAF15_2.polyATrim.adapterTrim.rep.bam          25% 1382MB  37.2MB/s   01:47 ETA"
       ]
      },
      {
       "output_type": "stream",
       "stream": "stdout",
       "text": [
        "\r",
        "TAF15_2.polyATrim.adapterTrim.rep.bam          25% 1382MB  33.4MB/s   01:59 ETA"
       ]
      },
      {
       "output_type": "stream",
       "stream": "stdout",
       "text": [
        "\r",
        "TAF15_2.polyATrim.adapterTrim.rep.bam          25% 1382MB  30.1MB/s   02:13 ETA"
       ]
      },
      {
       "output_type": "stream",
       "stream": "stdout",
       "text": [
        "\r",
        "TAF15_2.polyATrim.adapterTrim.rep.bam          25% 1382MB  27.1MB/s   02:27 ETA"
       ]
      },
      {
       "output_type": "stream",
       "stream": "stdout",
       "text": [
        "\r",
        "TAF15_2.polyATrim.adapterTrim.rep.bam          25% 1382MB  24.4MB/s   02:44 ETA"
       ]
      },
      {
       "output_type": "stream",
       "stream": "stdout",
       "text": [
        "\r",
        "TAF15_2.polyATrim.adapterTrim.rep.bam          25% 1385MB  22.2MB/s   03:00 ETA"
       ]
      },
      {
       "output_type": "stream",
       "stream": "stdout",
       "text": [
        "\r",
        "TAF15_2.polyATrim.adapterTrim.rep.bam          25% 1385MB  19.9MB/s   03:20 ETA"
       ]
      },
      {
       "output_type": "stream",
       "stream": "stdout",
       "text": [
        "\r",
        "TAF15_2.polyATrim.adapterTrim.rep.bam          25% 1385MB  17.9MB/s   03:43 ETA"
       ]
      },
      {
       "output_type": "stream",
       "stream": "stdout",
       "text": [
        "\r",
        "TAF15_2.polyATrim.adapterTrim.rep.bam          25% 1385MB  16.2MB/s   04:07 ETA"
       ]
      },
      {
       "output_type": "stream",
       "stream": "stdout",
       "text": [
        "\r",
        "TAF15_2.polyATrim.adapterTrim.rep.bam          25% 1385MB  14.6MB/s   04:35 ETA"
       ]
      },
      {
       "output_type": "stream",
       "stream": "stdout",
       "text": [
        "\r",
        "TAF15_2.polyATrim.adapterTrim.rep.bam          25% 1387MB  13.3MB/s   05:00 ETA"
       ]
      },
      {
       "output_type": "stream",
       "stream": "stdout",
       "text": [
        "\r",
        "TAF15_2.polyATrim.adapterTrim.rep.bam          25% 1387MB  12.0MB/s   05:34 ETA"
       ]
      },
      {
       "output_type": "stream",
       "stream": "stdout",
       "text": [
        "\r",
        "TAF15_2.polyATrim.adapterTrim.rep.bam          25% 1390MB  11.1MB/s   06:02 ETA"
       ]
      },
      {
       "output_type": "stream",
       "stream": "stdout",
       "text": [
        "\r",
        "TAF15_2.polyATrim.adapterTrim.rep.bam          26% 1428MB  13.8MB/s   04:46 ETA"
       ]
      },
      {
       "output_type": "stream",
       "stream": "stdout",
       "text": [
        "\r",
        "TAF15_2.polyATrim.adapterTrim.rep.bam          27% 1468MB  16.4MB/s   03:58 ETA"
       ]
      },
      {
       "output_type": "stream",
       "stream": "stdout",
       "text": [
        "\r",
        "TAF15_2.polyATrim.adapterTrim.rep.bam          27% 1476MB  15.5MB/s   04:11 ETA"
       ]
      },
      {
       "output_type": "stream",
       "stream": "stdout",
       "text": [
        "\r",
        "TAF15_2.polyATrim.adapterTrim.rep.bam          28% 1516MB  18.0MB/s   03:35 ETA"
       ]
      },
      {
       "output_type": "stream",
       "stream": "stdout",
       "text": [
        "\r",
        "TAF15_2.polyATrim.adapterTrim.rep.bam          28% 1556MB  20.2MB/s   03:09 ETA"
       ]
      },
      {
       "output_type": "stream",
       "stream": "stdout",
       "text": [
        "\r",
        "TAF15_2.polyATrim.adapterTrim.rep.bam          29% 1597MB  22.3MB/s   02:49 ETA"
       ]
      },
      {
       "output_type": "stream",
       "stream": "stdout",
       "text": [
        "\r",
        "TAF15_2.polyATrim.adapterTrim.rep.bam          30% 1632MB  23.6MB/s   02:39 ETA"
       ]
      },
      {
       "output_type": "stream",
       "stream": "stdout",
       "text": [
        "\r",
        "TAF15_2.polyATrim.adapterTrim.rep.bam          30% 1638MB  21.8MB/s   02:52 ETA"
       ]
      },
      {
       "output_type": "stream",
       "stream": "stdout",
       "text": [
        "\r",
        "TAF15_2.polyATrim.adapterTrim.rep.bam          30% 1653MB  21.2MB/s   02:56 ETA"
       ]
      },
      {
       "output_type": "stream",
       "stream": "stdout",
       "text": [
        "\r",
        "TAF15_2.polyATrim.adapterTrim.rep.bam          31% 1693MB  23.0MB/s   02:40 ETA"
       ]
      },
      {
       "output_type": "stream",
       "stream": "stdout",
       "text": [
        "\r",
        "TAF15_2.polyATrim.adapterTrim.rep.bam          32% 1734MB  24.8MB/s   02:27 ETA"
       ]
      },
      {
       "output_type": "stream",
       "stream": "stdout",
       "text": [
        "\r",
        "TAF15_2.polyATrim.adapterTrim.rep.bam          32% 1775MB  26.4MB/s   02:16 ETA"
       ]
      },
      {
       "output_type": "stream",
       "stream": "stdout",
       "text": [
        "\r",
        "TAF15_2.polyATrim.adapterTrim.rep.bam          33% 1780MB  24.3MB/s   02:28 ETA"
       ]
      },
      {
       "output_type": "stream",
       "stream": "stdout",
       "text": [
        "\r",
        "TAF15_2.polyATrim.adapterTrim.rep.bam          33% 1803MB  24.2MB/s   02:28 ETA"
       ]
      },
      {
       "output_type": "stream",
       "stream": "stdout",
       "text": [
        "\r",
        "TAF15_2.polyATrim.adapterTrim.rep.bam          34% 1844MB  25.8MB/s   02:17 ETA"
       ]
      },
      {
       "output_type": "stream",
       "stream": "stdout",
       "text": [
        "\r",
        "TAF15_2.polyATrim.adapterTrim.rep.bam          34% 1884MB  27.2MB/s   02:08 ETA"
       ]
      },
      {
       "output_type": "stream",
       "stream": "stdout",
       "text": [
        "\r",
        "TAF15_2.polyATrim.adapterTrim.rep.bam          35% 1922MB  28.4MB/s   02:02 ETA"
       ]
      },
      {
       "output_type": "stream",
       "stream": "stdout",
       "text": [
        "\r",
        "TAF15_2.polyATrim.adapterTrim.rep.bam          35% 1927MB  26.0MB/s   02:13 ETA"
       ]
      },
      {
       "output_type": "stream",
       "stream": "stdout",
       "text": [
        "\r",
        "TAF15_2.polyATrim.adapterTrim.rep.bam          36% 1949MB  25.6MB/s   02:14 ETA"
       ]
      },
      {
       "output_type": "stream",
       "stream": "stdout",
       "text": [
        "\r",
        "TAF15_2.polyATrim.adapterTrim.rep.bam          36% 1989MB  27.1MB/s   02:05 ETA"
       ]
      },
      {
       "output_type": "stream",
       "stream": "stdout",
       "text": [
        "\r",
        "TAF15_2.polyATrim.adapterTrim.rep.bam          37% 2029MB  28.3MB/s   01:58 ETA"
       ]
      },
      {
       "output_type": "stream",
       "stream": "stdout",
       "text": [
        "\r",
        "TAF15_2.polyATrim.adapterTrim.rep.bam          38% 2070MB  29.6MB/s   01:52 ETA"
       ]
      },
      {
       "output_type": "stream",
       "stream": "stdout",
       "text": [
        "\r",
        "TAF15_2.polyATrim.adapterTrim.rep.bam          38% 2075MB  27.2MB/s   02:01 ETA"
       ]
      },
      {
       "output_type": "stream",
       "stream": "stdout",
       "text": [
        "\r",
        "TAF15_2.polyATrim.adapterTrim.rep.bam          38% 2099MB  26.9MB/s   02:02 ETA"
       ]
      },
      {
       "output_type": "stream",
       "stream": "stdout",
       "text": [
        "\r",
        "TAF15_2.polyATrim.adapterTrim.rep.bam          39% 2140MB  28.2MB/s   01:55 ETA"
       ]
      },
      {
       "output_type": "stream",
       "stream": "stdout",
       "text": [
        "\r",
        "TAF15_2.polyATrim.adapterTrim.rep.bam          40% 2179MB  29.3MB/s   01:49 ETA"
       ]
      },
      {
       "output_type": "stream",
       "stream": "stdout",
       "text": [
        "\r",
        "TAF15_2.polyATrim.adapterTrim.rep.bam          41% 2219MB  30.3MB/s   01:44 ETA"
       ]
      },
      {
       "output_type": "stream",
       "stream": "stdout",
       "text": [
        "\r",
        "TAF15_2.polyATrim.adapterTrim.rep.bam          41% 2223MB  27.8MB/s   01:53 ETA"
       ]
      },
      {
       "output_type": "stream",
       "stream": "stdout",
       "text": [
        "\r",
        "TAF15_2.polyATrim.adapterTrim.rep.bam          41% 2245MB  27.1MB/s   01:55 ETA"
       ]
      },
      {
       "output_type": "stream",
       "stream": "stdout",
       "text": [
        "\r",
        "TAF15_2.polyATrim.adapterTrim.rep.bam          42% 2285MB  28.5MB/s   01:48 ETA"
       ]
      },
      {
       "output_type": "stream",
       "stream": "stdout",
       "text": [
        "\r",
        "TAF15_2.polyATrim.adapterTrim.rep.bam          43% 2326MB  29.7MB/s   01:43 ETA"
       ]
      },
      {
       "output_type": "stream",
       "stream": "stdout",
       "text": [
        "\r",
        "TAF15_2.polyATrim.adapterTrim.rep.bam          43% 2359MB  30.1MB/s   01:40 ETA"
       ]
      },
      {
       "output_type": "stream",
       "stream": "stdout",
       "text": [
        "\r",
        "TAF15_2.polyATrim.adapterTrim.rep.bam          43% 2364MB  27.5MB/s   01:50 ETA"
       ]
      },
      {
       "output_type": "stream",
       "stream": "stdout",
       "text": [
        "\r",
        "TAF15_2.polyATrim.adapterTrim.rep.bam          44% 2389MB  27.3MB/s   01:50 ETA"
       ]
      },
      {
       "output_type": "stream",
       "stream": "stdout",
       "text": [
        "\r",
        "TAF15_2.polyATrim.adapterTrim.rep.bam          45% 2431MB  28.7MB/s   01:43 ETA"
       ]
      },
      {
       "output_type": "stream",
       "stream": "stdout",
       "text": [
        "\r",
        "TAF15_2.polyATrim.adapterTrim.rep.bam          45% 2458MB  28.6MB/s   01:42 ETA"
       ]
      },
      {
       "output_type": "stream",
       "stream": "stdout",
       "text": [
        "\r",
        "TAF15_2.polyATrim.adapterTrim.rep.bam          46% 2498MB  29.7MB/s   01:37 ETA"
       ]
      },
      {
       "output_type": "stream",
       "stream": "stdout",
       "text": [
        "\r",
        "TAF15_2.polyATrim.adapterTrim.rep.bam          46% 2502MB  27.1MB/s   01:46 ETA"
       ]
      },
      {
       "output_type": "stream",
       "stream": "stdout",
       "text": [
        "\r",
        "TAF15_2.polyATrim.adapterTrim.rep.bam          46% 2528MB  27.1MB/s   01:45 ETA"
       ]
      },
      {
       "output_type": "stream",
       "stream": "stdout",
       "text": [
        "\r",
        "TAF15_2.polyATrim.adapterTrim.rep.bam          47% 2570MB  28.5MB/s   01:38 ETA"
       ]
      },
      {
       "output_type": "stream",
       "stream": "stdout",
       "text": [
        "\r",
        "TAF15_2.polyATrim.adapterTrim.rep.bam          48% 2611MB  29.8MB/s   01:33 ETA"
       ]
      },
      {
       "output_type": "stream",
       "stream": "stdout",
       "text": [
        "\r",
        "TAF15_2.polyATrim.adapterTrim.rep.bam          49% 2653MB  31.0MB/s   01:28 ETA"
       ]
      },
      {
       "output_type": "stream",
       "stream": "stdout",
       "text": [
        "\r",
        "TAF15_2.polyATrim.adapterTrim.rep.bam          49% 2657MB  28.3MB/s   01:36 ETA"
       ]
      },
      {
       "output_type": "stream",
       "stream": "stdout",
       "text": [
        "\r",
        "TAF15_2.polyATrim.adapterTrim.rep.bam          49% 2677MB  27.4MB/s   01:38 ETA"
       ]
      },
      {
       "output_type": "stream",
       "stream": "stdout",
       "text": [
        "\r",
        "TAF15_2.polyATrim.adapterTrim.rep.bam          50% 2716MB  28.6MB/s   01:33 ETA"
       ]
      },
      {
       "output_type": "stream",
       "stream": "stdout",
       "text": [
        "\r",
        "TAF15_2.polyATrim.adapterTrim.rep.bam          51% 2758MB  30.0MB/s   01:27 ETA"
       ]
      },
      {
       "output_type": "stream",
       "stream": "stdout",
       "text": [
        "\r",
        "TAF15_2.polyATrim.adapterTrim.rep.bam          51% 2799MB  31.1MB/s   01:23 ETA"
       ]
      },
      {
       "output_type": "stream",
       "stream": "stdout",
       "text": [
        "\r",
        "TAF15_2.polyATrim.adapterTrim.rep.bam          52% 2804MB  28.4MB/s   01:31 ETA"
       ]
      },
      {
       "output_type": "stream",
       "stream": "stdout",
       "text": [
        "\r",
        "TAF15_2.polyATrim.adapterTrim.rep.bam          52% 2826MB  27.8MB/s   01:32 ETA"
       ]
      },
      {
       "output_type": "stream",
       "stream": "stdout",
       "text": [
        "\r",
        "TAF15_2.polyATrim.adapterTrim.rep.bam          53% 2867MB  29.1MB/s   01:26 ETA"
       ]
      },
      {
       "output_type": "stream",
       "stream": "stdout",
       "text": [
        "\r",
        "TAF15_2.polyATrim.adapterTrim.rep.bam          53% 2901MB  29.6MB/s   01:24 ETA"
       ]
      },
      {
       "output_type": "stream",
       "stream": "stdout",
       "text": [
        "\r",
        "TAF15_2.polyATrim.adapterTrim.rep.bam          54% 2942MB  30.8MB/s   01:19 ETA"
       ]
      },
      {
       "output_type": "stream",
       "stream": "stdout",
       "text": [
        "\r",
        "TAF15_2.polyATrim.adapterTrim.rep.bam          54% 2946MB  28.1MB/s   01:27 ETA"
       ]
      },
      {
       "output_type": "stream",
       "stream": "stdout",
       "text": [
        "\r",
        "TAF15_2.polyATrim.adapterTrim.rep.bam          55% 2970MB  27.7MB/s   01:27 ETA"
       ]
      },
      {
       "output_type": "stream",
       "stream": "stdout",
       "text": [
        "\r",
        "TAF15_2.polyATrim.adapterTrim.rep.bam          55% 3011MB  29.0MB/s   01:21 ETA"
       ]
      },
      {
       "output_type": "stream",
       "stream": "stdout",
       "text": [
        "\r",
        "TAF15_2.polyATrim.adapterTrim.rep.bam          56% 3053MB  30.3MB/s   01:17 ETA"
       ]
      },
      {
       "output_type": "stream",
       "stream": "stdout",
       "text": [
        "\r",
        "TAF15_2.polyATrim.adapterTrim.rep.bam          57% 3094MB  31.4MB/s   01:13 ETA"
       ]
      },
      {
       "output_type": "stream",
       "stream": "stdout",
       "text": [
        "\r",
        "TAF15_2.polyATrim.adapterTrim.rep.bam          57% 3098MB  28.6MB/s   01:20 ETA"
       ]
      },
      {
       "output_type": "stream",
       "stream": "stdout",
       "text": [
        "\r",
        "TAF15_2.polyATrim.adapterTrim.rep.bam          57% 3119MB  27.9MB/s   01:21 ETA"
       ]
      },
      {
       "output_type": "stream",
       "stream": "stdout",
       "text": [
        "\r",
        "TAF15_2.polyATrim.adapterTrim.rep.bam          58% 3159MB  29.1MB/s   01:16 ETA"
       ]
      },
      {
       "output_type": "stream",
       "stream": "stdout",
       "text": [
        "\r",
        "TAF15_2.polyATrim.adapterTrim.rep.bam          59% 3201MB  30.4MB/s   01:12 ETA"
       ]
      },
      {
       "output_type": "stream",
       "stream": "stdout",
       "text": [
        "\r",
        "TAF15_2.polyATrim.adapterTrim.rep.bam          60% 3243MB  31.5MB/s   01:08 ETA"
       ]
      },
      {
       "output_type": "stream",
       "stream": "stdout",
       "text": [
        "\r",
        "TAF15_2.polyATrim.adapterTrim.rep.bam          60% 3246MB  28.7MB/s   01:14 ETA"
       ]
      },
      {
       "output_type": "stream",
       "stream": "stdout",
       "text": [
        "\r",
        "TAF15_2.polyATrim.adapterTrim.rep.bam          60% 3269MB  28.1MB/s   01:15 ETA"
       ]
      },
      {
       "output_type": "stream",
       "stream": "stdout",
       "text": [
        "\r",
        "TAF15_2.polyATrim.adapterTrim.rep.bam          61% 3303MB  28.7MB/s   01:12 ETA"
       ]
      },
      {
       "output_type": "stream",
       "stream": "stdout",
       "text": [
        "\r",
        "TAF15_2.polyATrim.adapterTrim.rep.bam          62% 3343MB  29.9MB/s   01:08 ETA"
       ]
      },
      {
       "output_type": "stream",
       "stream": "stdout",
       "text": [
        "\r",
        "TAF15_2.polyATrim.adapterTrim.rep.bam          62% 3384MB  30.9MB/s   01:04 ETA"
       ]
      },
      {
       "output_type": "stream",
       "stream": "stdout",
       "text": [
        "\r",
        "TAF15_2.polyATrim.adapterTrim.rep.bam          62% 3387MB  28.1MB/s   01:11 ETA"
       ]
      },
      {
       "output_type": "stream",
       "stream": "stdout",
       "text": [
        "\r",
        "TAF15_2.polyATrim.adapterTrim.rep.bam          63% 3413MB  27.9MB/s   01:10 ETA"
       ]
      },
      {
       "output_type": "stream",
       "stream": "stdout",
       "text": [
        "\r",
        "TAF15_2.polyATrim.adapterTrim.rep.bam          64% 3454MB  29.2MB/s   01:06 ETA"
       ]
      },
      {
       "output_type": "stream",
       "stream": "stdout",
       "text": [
        "\r",
        "TAF15_2.polyATrim.adapterTrim.rep.bam          64% 3495MB  30.4MB/s   01:02 ETA"
       ]
      },
      {
       "output_type": "stream",
       "stream": "stdout",
       "text": [
        "\r",
        "TAF15_2.polyATrim.adapterTrim.rep.bam          65% 3535MB  31.4MB/s   00:59 ETA"
       ]
      },
      {
       "output_type": "stream",
       "stream": "stdout",
       "text": [
        "\r",
        "TAF15_2.polyATrim.adapterTrim.rep.bam          65% 3540MB  28.7MB/s   01:04 ETA"
       ]
      },
      {
       "output_type": "stream",
       "stream": "stdout",
       "text": [
        "\r",
        "TAF15_2.polyATrim.adapterTrim.rep.bam          66% 3561MB  28.0MB/s   01:05 ETA"
       ]
      },
      {
       "output_type": "stream",
       "stream": "stdout",
       "text": [
        "\r",
        "TAF15_2.polyATrim.adapterTrim.rep.bam          66% 3600MB  29.1MB/s   01:01 ETA"
       ]
      },
      {
       "output_type": "stream",
       "stream": "stdout",
       "text": [
        "\r",
        "TAF15_2.polyATrim.adapterTrim.rep.bam          67% 3641MB  30.3MB/s   00:57 ETA"
       ]
      },
      {
       "output_type": "stream",
       "stream": "stdout",
       "text": [
        "\r",
        "TAF15_2.polyATrim.adapterTrim.rep.bam          68% 3683MB  31.5MB/s   00:54 ETA"
       ]
      },
      {
       "output_type": "stream",
       "stream": "stdout",
       "text": [
        "\r",
        "TAF15_2.polyATrim.adapterTrim.rep.bam          68% 3686MB  28.6MB/s   00:59 ETA"
       ]
      },
      {
       "output_type": "stream",
       "stream": "stdout",
       "text": [
        "\r",
        "TAF15_2.polyATrim.adapterTrim.rep.bam          68% 3709MB  28.1MB/s   00:59 ETA"
       ]
      },
      {
       "output_type": "stream",
       "stream": "stdout",
       "text": [
        "\r",
        "TAF15_2.polyATrim.adapterTrim.rep.bam          69% 3749MB  29.3MB/s   00:56 ETA"
       ]
      },
      {
       "output_type": "stream",
       "stream": "stdout",
       "text": [
        "\r",
        "TAF15_2.polyATrim.adapterTrim.rep.bam          70% 3791MB  30.5MB/s   00:52 ETA"
       ]
      },
      {
       "output_type": "stream",
       "stream": "stdout",
       "text": [
        "\r",
        "TAF15_2.polyATrim.adapterTrim.rep.bam          71% 3832MB  31.5MB/s   00:49 ETA"
       ]
      },
      {
       "output_type": "stream",
       "stream": "stdout",
       "text": [
        "\r",
        "TAF15_2.polyATrim.adapterTrim.rep.bam          71% 3834MB  28.6MB/s   00:54 ETA"
       ]
      },
      {
       "output_type": "stream",
       "stream": "stdout",
       "text": [
        "\r",
        "TAF15_2.polyATrim.adapterTrim.rep.bam          71% 3860MB  28.4MB/s   00:53 ETA"
       ]
      },
      {
       "output_type": "stream",
       "stream": "stdout",
       "text": [
        "\r",
        "TAF15_2.polyATrim.adapterTrim.rep.bam          72% 3902MB  29.7MB/s   00:50 ETA"
       ]
      },
      {
       "output_type": "stream",
       "stream": "stdout",
       "text": [
        "\r",
        "TAF15_2.polyATrim.adapterTrim.rep.bam          73% 3943MB  30.9MB/s   00:46 ETA"
       ]
      },
      {
       "output_type": "stream",
       "stream": "stdout",
       "text": [
        "\r",
        "TAF15_2.polyATrim.adapterTrim.rep.bam          73% 3985MB  32.0MB/s   00:43 ETA"
       ]
      },
      {
       "output_type": "stream",
       "stream": "stdout",
       "text": [
        "\r",
        "TAF15_2.polyATrim.adapterTrim.rep.bam          74% 4026MB  32.8MB/s   00:41 ETA"
       ]
      },
      {
       "output_type": "stream",
       "stream": "stdout",
       "text": [
        "\r",
        "TAF15_2.polyATrim.adapterTrim.rep.bam          75% 4061MB  33.1MB/s   00:40 ETA"
       ]
      },
      {
       "output_type": "stream",
       "stream": "stdout",
       "text": [
        "\r",
        "TAF15_2.polyATrim.adapterTrim.rep.bam          76% 4103MB  33.9MB/s   00:37 ETA"
       ]
      },
      {
       "output_type": "stream",
       "stream": "stdout",
       "text": [
        "\r",
        "TAF15_2.polyATrim.adapterTrim.rep.bam          76% 4144MB  34.7MB/s   00:35 ETA"
       ]
      },
      {
       "output_type": "stream",
       "stream": "stdout",
       "text": [
        "\r",
        "TAF15_2.polyATrim.adapterTrim.rep.bam          77% 4186MB  35.4MB/s   00:34 ETA"
       ]
      },
      {
       "output_type": "stream",
       "stream": "stdout",
       "text": [
        "\r",
        "TAF15_2.polyATrim.adapterTrim.rep.bam          78% 4227MB  36.0MB/s   00:32 ETA"
       ]
      },
      {
       "output_type": "stream",
       "stream": "stdout",
       "text": [
        "\r",
        "TAF15_2.polyATrim.adapterTrim.rep.bam          79% 4269MB  36.6MB/s   00:30 ETA"
       ]
      },
      {
       "output_type": "stream",
       "stream": "stdout",
       "text": [
        "\r",
        "TAF15_2.polyATrim.adapterTrim.rep.bam          79% 4310MB  37.1MB/s   00:29 ETA"
       ]
      },
      {
       "output_type": "stream",
       "stream": "stdout",
       "text": [
        "\r",
        "TAF15_2.polyATrim.adapterTrim.rep.bam          80% 4352MB  37.5MB/s   00:27 ETA"
       ]
      },
      {
       "output_type": "stream",
       "stream": "stdout",
       "text": [
        "\r",
        "TAF15_2.polyATrim.adapterTrim.rep.bam          81% 4393MB  37.9MB/s   00:26 ETA"
       ]
      },
      {
       "output_type": "stream",
       "stream": "stdout",
       "text": [
        "\r",
        "TAF15_2.polyATrim.adapterTrim.rep.bam          82% 4435MB  38.3MB/s   00:24 ETA"
       ]
      },
      {
       "output_type": "stream",
       "stream": "stdout",
       "text": [
        "\r",
        "TAF15_2.polyATrim.adapterTrim.rep.bam          83% 4477MB  38.6MB/s   00:23 ETA"
       ]
      },
      {
       "output_type": "stream",
       "stream": "stdout",
       "text": [
        "\r",
        "TAF15_2.polyATrim.adapterTrim.rep.bam          83% 4518MB  38.9MB/s   00:22 ETA"
       ]
      },
      {
       "output_type": "stream",
       "stream": "stdout",
       "text": [
        "\r",
        "TAF15_2.polyATrim.adapterTrim.rep.bam          84% 4560MB  39.2MB/s   00:21 ETA"
       ]
      },
      {
       "output_type": "stream",
       "stream": "stdout",
       "text": [
        "\r",
        "TAF15_2.polyATrim.adapterTrim.rep.bam          85% 4601MB  39.4MB/s   00:20 ETA"
       ]
      },
      {
       "output_type": "stream",
       "stream": "stdout",
       "text": [
        "\r",
        "TAF15_2.polyATrim.adapterTrim.rep.bam          86% 4643MB  39.6MB/s   00:18 ETA"
       ]
      },
      {
       "output_type": "stream",
       "stream": "stdout",
       "text": [
        "\r",
        "TAF15_2.polyATrim.adapterTrim.rep.bam          86% 4684MB  39.8MB/s   00:17 ETA"
       ]
      },
      {
       "output_type": "stream",
       "stream": "stdout",
       "text": [
        "\r",
        "TAF15_2.polyATrim.adapterTrim.rep.bam          87% 4726MB  40.0MB/s   00:16 ETA"
       ]
      },
      {
       "output_type": "stream",
       "stream": "stdout",
       "text": [
        "\r",
        "TAF15_2.polyATrim.adapterTrim.rep.bam          88% 4767MB  40.1MB/s   00:15 ETA"
       ]
      },
      {
       "output_type": "stream",
       "stream": "stdout",
       "text": [
        "\r",
        "TAF15_2.polyATrim.adapterTrim.rep.bam          89% 4809MB  40.3MB/s   00:14 ETA"
       ]
      },
      {
       "output_type": "stream",
       "stream": "stdout",
       "text": [
        "\r",
        "TAF15_2.polyATrim.adapterTrim.rep.bam          89% 4851MB  40.4MB/s   00:13 ETA"
       ]
      },
      {
       "output_type": "stream",
       "stream": "stdout",
       "text": [
        "\r",
        "TAF15_2.polyATrim.adapterTrim.rep.bam          90% 4892MB  40.5MB/s   00:12 ETA"
       ]
      },
      {
       "output_type": "stream",
       "stream": "stdout",
       "text": [
        "\r",
        "TAF15_2.polyATrim.adapterTrim.rep.bam          91% 4927MB  39.9MB/s   00:11 ETA"
       ]
      },
      {
       "output_type": "stream",
       "stream": "stdout",
       "text": [
        "\r",
        "TAF15_2.polyATrim.adapterTrim.rep.bam          92% 4967MB  39.9MB/s   00:10 ETA"
       ]
      },
      {
       "output_type": "stream",
       "stream": "stdout",
       "text": [
        "\r",
        "TAF15_2.polyATrim.adapterTrim.rep.bam          92% 5007MB  40.0MB/s   00:09 ETA"
       ]
      },
      {
       "output_type": "stream",
       "stream": "stdout",
       "text": [
        "\r",
        "TAF15_2.polyATrim.adapterTrim.rep.bam          93% 5050MB  40.3MB/s   00:08 ETA"
       ]
      },
      {
       "output_type": "stream",
       "stream": "stdout",
       "text": [
        "\r",
        "TAF15_2.polyATrim.adapterTrim.rep.bam          94% 5092MB  40.4MB/s   00:07 ETA"
       ]
      },
      {
       "output_type": "stream",
       "stream": "stdout",
       "text": [
        "\r",
        "TAF15_2.polyATrim.adapterTrim.rep.bam          95% 5133MB  40.5MB/s   00:06 ETA"
       ]
      },
      {
       "output_type": "stream",
       "stream": "stdout",
       "text": [
        "\r",
        "TAF15_2.polyATrim.adapterTrim.rep.bam          96% 5175MB  40.6MB/s   00:05 ETA"
       ]
      },
      {
       "output_type": "stream",
       "stream": "stdout",
       "text": [
        "\r",
        "TAF15_2.polyATrim.adapterTrim.rep.bam          96% 5215MB  38.6MB/s   00:04 ETA"
       ]
      },
      {
       "output_type": "stream",
       "stream": "stdout",
       "text": [
        "\r",
        "TAF15_2.polyATrim.adapterTrim.rep.bam          96% 5217MB  34.9MB/s   00:04 ETA"
       ]
      },
      {
       "output_type": "stream",
       "stream": "stdout",
       "text": [
        "\r",
        "TAF15_2.polyATrim.adapterTrim.rep.bam          96% 5217MB  31.5MB/s   00:05 ETA"
       ]
      },
      {
       "output_type": "stream",
       "stream": "stdout",
       "text": [
        "\r",
        "TAF15_2.polyATrim.adapterTrim.rep.bam          96% 5217MB  28.3MB/s   00:06 ETA"
       ]
      },
      {
       "output_type": "stream",
       "stream": "stdout",
       "text": [
        "\r",
        "TAF15_2.polyATrim.adapterTrim.rep.bam          96% 5217MB  25.5MB/s   00:06 ETA"
       ]
      },
      {
       "output_type": "stream",
       "stream": "stdout",
       "text": [
        "\r",
        "TAF15_2.polyATrim.adapterTrim.rep.bam          96% 5220MB  23.1MB/s   00:07 ETA"
       ]
      },
      {
       "output_type": "stream",
       "stream": "stdout",
       "text": [
        "\r",
        "TAF15_2.polyATrim.adapterTrim.rep.bam          96% 5220MB  20.8MB/s   00:08 ETA"
       ]
      },
      {
       "output_type": "stream",
       "stream": "stdout",
       "text": [
        "\r",
        "TAF15_2.polyATrim.adapterTrim.rep.bam          96% 5220MB  18.7MB/s   00:09 ETA"
       ]
      },
      {
       "output_type": "stream",
       "stream": "stdout",
       "text": [
        "\r",
        "TAF15_2.polyATrim.adapterTrim.rep.bam          96% 5220MB  16.9MB/s   00:10 ETA"
       ]
      },
      {
       "output_type": "stream",
       "stream": "stdout",
       "text": [
        "\r",
        "TAF15_2.polyATrim.adapterTrim.rep.bam          96% 5220MB  15.2MB/s   00:11 ETA"
       ]
      },
      {
       "output_type": "stream",
       "stream": "stdout",
       "text": [
        "\r",
        "TAF15_2.polyATrim.adapterTrim.rep.bam          96% 5222MB  13.9MB/s   00:12 ETA"
       ]
      },
      {
       "output_type": "stream",
       "stream": "stdout",
       "text": [
        "\r",
        "TAF15_2.polyATrim.adapterTrim.rep.bam          96% 5222MB  12.5MB/s   00:13 ETA"
       ]
      },
      {
       "output_type": "stream",
       "stream": "stdout",
       "text": [
        "\r",
        "TAF15_2.polyATrim.adapterTrim.rep.bam          96% 5222MB  11.2MB/s   00:14 ETA"
       ]
      },
      {
       "output_type": "stream",
       "stream": "stdout",
       "text": [
        "\r",
        "TAF15_2.polyATrim.adapterTrim.rep.bam          97% 5241MB  12.1MB/s   00:12 ETA"
       ]
      },
      {
       "output_type": "stream",
       "stream": "stdout",
       "text": [
        "\r",
        "TAF15_2.polyATrim.adapterTrim.rep.bam          97% 5280MB  14.7MB/s   00:07 ETA"
       ]
      },
      {
       "output_type": "stream",
       "stream": "stdout",
       "text": [
        "\r",
        "TAF15_2.polyATrim.adapterTrim.rep.bam          98% 5319MB  17.2MB/s   00:04 ETA"
       ]
      },
      {
       "output_type": "stream",
       "stream": "stdout",
       "text": [
        "\r",
        "TAF15_2.polyATrim.adapterTrim.rep.bam          99% 5361MB  19.6MB/s   00:01 ETA"
       ]
      },
      {
       "output_type": "stream",
       "stream": "stdout",
       "text": [
        "\r",
        "TAF15_2.polyATrim.adapterTrim.rep.bam         100% 5390MB  29.8MB/s   03:01    \r\n"
       ]
      },
      {
       "output_type": "stream",
       "stream": "stdout",
       "text": [
        "\r",
        "TAF15_2.polyATrim.adapterTrim.rep.rmDup.bam     0%    0     0.0KB/s   --:-- ETA"
       ]
      },
      {
       "output_type": "stream",
       "stream": "stdout",
       "text": [
        "\r",
        "TAF15_2.polyATrim.adapterTrim.rep.rmDup.bam   100% 9648KB   9.4MB/s   00:00    \r\n"
       ]
      },
      {
       "output_type": "stream",
       "stream": "stdout",
       "text": [
        "\r",
        "TAF15_2.polyATrim.adapterTrim.rep.sorted.bam    0%    0     0.0KB/s   --:-- ETA"
       ]
      },
      {
       "output_type": "stream",
       "stream": "stdout",
       "text": [
        "\r",
        "TAF15_2.polyATrim.adapterTrim.rep.sorted.bam    0%   38MB  37.7MB/s   03:09 ETA"
       ]
      },
      {
       "output_type": "stream",
       "stream": "stdout",
       "text": [
        "\r",
        "TAF15_2.polyATrim.adapterTrim.rep.sorted.bam    1%   73MB  37.4MB/s   03:09 ETA"
       ]
      },
      {
       "output_type": "stream",
       "stream": "stdout",
       "text": [
        "\r",
        "TAF15_2.polyATrim.adapterTrim.rep.sorted.bam    1%  114MB  37.9MB/s   03:06 ETA"
       ]
      },
      {
       "output_type": "stream",
       "stream": "stdout",
       "text": [
        "\r",
        "TAF15_2.polyATrim.adapterTrim.rep.sorted.bam    2%  149MB  37.5MB/s   03:07 ETA"
       ]
      },
      {
       "output_type": "stream",
       "stream": "stdout",
       "text": [
        "\r",
        "TAF15_2.polyATrim.adapterTrim.rep.sorted.bam    2%  188MB  37.7MB/s   03:05 ETA"
       ]
      },
      {
       "output_type": "stream",
       "stream": "stdout",
       "text": [
        "\r",
        "TAF15_2.polyATrim.adapterTrim.rep.sorted.bam    3%  230MB  38.1MB/s   03:02 ETA"
       ]
      },
      {
       "output_type": "stream",
       "stream": "stdout",
       "text": [
        "\r",
        "TAF15_2.polyATrim.adapterTrim.rep.sorted.bam    3%  271MB  38.4MB/s   02:59 ETA"
       ]
      },
      {
       "output_type": "stream",
       "stream": "stdout",
       "text": [
        "\r",
        "TAF15_2.polyATrim.adapterTrim.rep.sorted.bam    4%  312MB  38.7MB/s   02:57 ETA"
       ]
      },
      {
       "output_type": "stream",
       "stream": "stdout",
       "text": [
        "\r",
        "TAF15_2.polyATrim.adapterTrim.rep.sorted.bam    4%  346MB  38.2MB/s   02:58 ETA"
       ]
      },
      {
       "output_type": "stream",
       "stream": "stdout",
       "text": [
        "\r",
        "TAF15_2.polyATrim.adapterTrim.rep.sorted.bam    5%  387MB  38.5MB/s   02:56 ETA"
       ]
      },
      {
       "output_type": "stream",
       "stream": "stdout",
       "text": [
        "\r",
        "TAF15_2.polyATrim.adapterTrim.rep.sorted.bam    5%  429MB  38.8MB/s   02:53 ETA"
       ]
      },
      {
       "output_type": "stream",
       "stream": "stdout",
       "text": [
        "\r",
        "TAF15_2.polyATrim.adapterTrim.rep.sorted.bam    6%  464MB  38.4MB/s   02:54 ETA"
       ]
      },
      {
       "output_type": "stream",
       "stream": "stdout",
       "text": [
        "\r",
        "TAF15_2.polyATrim.adapterTrim.rep.sorted.bam    7%  505MB  38.7MB/s   02:52 ETA"
       ]
      },
      {
       "output_type": "stream",
       "stream": "stdout",
       "text": [
        "\r",
        "TAF15_2.polyATrim.adapterTrim.rep.sorted.bam    7%  547MB  39.0MB/s   02:49 ETA"
       ]
      },
      {
       "output_type": "stream",
       "stream": "stdout",
       "text": [
        "\r",
        "TAF15_2.polyATrim.adapterTrim.rep.sorted.bam    8%  581MB  38.5MB/s   02:51 ETA"
       ]
      },
      {
       "output_type": "stream",
       "stream": "stdout",
       "text": [
        "\r",
        "TAF15_2.polyATrim.adapterTrim.rep.sorted.bam    8%  619MB  38.5MB/s   02:50 ETA"
       ]
      },
      {
       "output_type": "stream",
       "stream": "stdout",
       "text": [
        "\r",
        "TAF15_2.polyATrim.adapterTrim.rep.sorted.bam    9%  650MB  37.7MB/s   02:53 ETA"
       ]
      },
      {
       "output_type": "stream",
       "stream": "stdout",
       "text": [
        "\r",
        "TAF15_2.polyATrim.adapterTrim.rep.sorted.bam    9%  691MB  38.1MB/s   02:50 ETA"
       ]
      },
      {
       "output_type": "stream",
       "stream": "stdout",
       "text": [
        "\r",
        "TAF15_2.polyATrim.adapterTrim.rep.sorted.bam   10%  733MB  38.4MB/s   02:47 ETA"
       ]
      },
      {
       "output_type": "stream",
       "stream": "stdout",
       "text": [
        "\r",
        "TAF15_2.polyATrim.adapterTrim.rep.sorted.bam   10%  774MB  38.8MB/s   02:45 ETA"
       ]
      },
      {
       "output_type": "stream",
       "stream": "stdout",
       "text": [
        "\r",
        "TAF15_2.polyATrim.adapterTrim.rep.sorted.bam   11%  809MB  38.3MB/s   02:46 ETA"
       ]
      },
      {
       "output_type": "stream",
       "stream": "stdout",
       "text": [
        "\r",
        "TAF15_2.polyATrim.adapterTrim.rep.sorted.bam   11%  850MB  38.6MB/s   02:43 ETA"
       ]
      },
      {
       "output_type": "stream",
       "stream": "stdout",
       "text": [
        "\r",
        "TAF15_2.polyATrim.adapterTrim.rep.sorted.bam   12%  884MB  38.1MB/s   02:44 ETA"
       ]
      },
      {
       "output_type": "stream",
       "stream": "stdout",
       "text": [
        "\r",
        "TAF15_2.polyATrim.adapterTrim.rep.sorted.bam   12%  925MB  38.5MB/s   02:42 ETA"
       ]
      },
      {
       "output_type": "stream",
       "stream": "stdout",
       "text": [
        "\r",
        "TAF15_2.polyATrim.adapterTrim.rep.sorted.bam   13%  966MB  38.7MB/s   02:40 ETA"
       ]
      },
      {
       "output_type": "stream",
       "stream": "stdout",
       "text": [
        "\r",
        "TAF15_2.polyATrim.adapterTrim.rep.sorted.bam   14% 1005MB  38.7MB/s   02:39 ETA"
       ]
      },
      {
       "output_type": "stream",
       "stream": "stdout",
       "text": [
        "\r",
        "TAF15_2.polyATrim.adapterTrim.rep.sorted.bam   14% 1047MB  39.1MB/s   02:36 ETA"
       ]
      },
      {
       "output_type": "stream",
       "stream": "stdout",
       "text": [
        "\r",
        "TAF15_2.polyATrim.adapterTrim.rep.sorted.bam   15% 1089MB  39.4MB/s   02:34 ETA"
       ]
      },
      {
       "output_type": "stream",
       "stream": "stdout",
       "text": [
        "\r",
        "TAF15_2.polyATrim.adapterTrim.rep.sorted.bam   15% 1132MB  39.7MB/s   02:32 ETA"
       ]
      },
      {
       "output_type": "stream",
       "stream": "stdout",
       "text": [
        "\r",
        "TAF15_2.polyATrim.adapterTrim.rep.sorted.bam   16% 1174MB  40.0MB/s   02:30 ETA"
       ]
      },
      {
       "output_type": "stream",
       "stream": "stdout",
       "text": [
        "\r",
        "TAF15_2.polyATrim.adapterTrim.rep.sorted.bam   16% 1201MB  37.3MB/s   02:40 ETA"
       ]
      },
      {
       "output_type": "stream",
       "stream": "stdout",
       "text": [
        "\r",
        "TAF15_2.polyATrim.adapterTrim.rep.sorted.bam   16% 1203MB  33.8MB/s   02:56 ETA"
       ]
      },
      {
       "output_type": "stream",
       "stream": "stdout",
       "text": [
        "\r",
        "TAF15_2.polyATrim.adapterTrim.rep.sorted.bam   16% 1203MB  30.4MB/s   03:16 ETA"
       ]
      },
      {
       "output_type": "stream",
       "stream": "stdout",
       "text": [
        "\r",
        "TAF15_2.polyATrim.adapterTrim.rep.sorted.bam   16% 1203MB  27.4MB/s   03:38 ETA"
       ]
      },
      {
       "output_type": "stream",
       "stream": "stdout",
       "text": [
        "\r",
        "TAF15_2.polyATrim.adapterTrim.rep.sorted.bam   16% 1203MB  24.6MB/s   04:02 ETA"
       ]
      },
      {
       "output_type": "stream",
       "stream": "stdout",
       "text": [
        "\r",
        "TAF15_2.polyATrim.adapterTrim.rep.sorted.bam   16% 1205MB  22.4MB/s   04:26 ETA"
       ]
      },
      {
       "output_type": "stream",
       "stream": "stdout",
       "text": [
        "\r",
        "TAF15_2.polyATrim.adapterTrim.rep.sorted.bam   16% 1205MB  20.1MB/s   04:56 ETA"
       ]
      },
      {
       "output_type": "stream",
       "stream": "stdout",
       "text": [
        "\r",
        "TAF15_2.polyATrim.adapterTrim.rep.sorted.bam   16% 1205MB  18.2MB/s   05:28 ETA"
       ]
      },
      {
       "output_type": "stream",
       "stream": "stdout",
       "text": [
        "\r",
        "TAF15_2.polyATrim.adapterTrim.rep.sorted.bam   16% 1205MB  16.3MB/s   06:05 ETA"
       ]
      },
      {
       "output_type": "stream",
       "stream": "stdout",
       "text": [
        "\r",
        "TAF15_2.polyATrim.adapterTrim.rep.sorted.bam   16% 1205MB  14.7MB/s   06:45 ETA"
       ]
      },
      {
       "output_type": "stream",
       "stream": "stdout",
       "text": [
        "\r",
        "TAF15_2.polyATrim.adapterTrim.rep.sorted.bam   16% 1207MB  13.5MB/s   07:23 ETA"
       ]
      },
      {
       "output_type": "stream",
       "stream": "stdout",
       "text": [
        "\r",
        "TAF15_2.polyATrim.adapterTrim.rep.sorted.bam   16% 1214MB  12.7MB/s   07:48 ETA"
       ]
      },
      {
       "output_type": "stream",
       "stream": "stdout",
       "text": [
        "\r",
        "TAF15_2.polyATrim.adapterTrim.rep.sorted.bam   17% 1253MB  15.4MB/s   06:24 ETA"
       ]
      },
      {
       "output_type": "stream",
       "stream": "stdout",
       "text": [
        "\r",
        "TAF15_2.polyATrim.adapterTrim.rep.sorted.bam   18% 1293MB  17.8MB/s   05:30 ETA"
       ]
      },
      {
       "output_type": "stream",
       "stream": "stdout",
       "text": [
        "\r",
        "TAF15_2.polyATrim.adapterTrim.rep.sorted.bam   18% 1333MB  20.1MB/s   04:50 ETA"
       ]
      },
      {
       "output_type": "stream",
       "stream": "stdout",
       "text": [
        "\r",
        "TAF15_2.polyATrim.adapterTrim.rep.sorted.bam   18% 1362MB  21.0MB/s   04:36 ETA"
       ]
      },
      {
       "output_type": "stream",
       "stream": "stdout",
       "text": [
        "\r",
        "TAF15_2.polyATrim.adapterTrim.rep.sorted.bam   18% 1362MB  18.9MB/s   05:07 ETA"
       ]
      },
      {
       "output_type": "stream",
       "stream": "stdout",
       "text": [
        "\r",
        "TAF15_2.polyATrim.adapterTrim.rep.sorted.bam   19% 1398MB  20.5MB/s   04:41 ETA"
       ]
      },
      {
       "output_type": "stream",
       "stream": "stdout",
       "text": [
        "\r",
        "TAF15_2.polyATrim.adapterTrim.rep.sorted.bam   20% 1438MB  22.5MB/s   04:14 ETA"
       ]
      },
      {
       "output_type": "stream",
       "stream": "stdout",
       "text": [
        "\r",
        "TAF15_2.polyATrim.adapterTrim.rep.sorted.bam   20% 1479MB  24.4MB/s   03:53 ETA"
       ]
      },
      {
       "output_type": "stream",
       "stream": "stdout",
       "text": [
        "\r",
        "TAF15_2.polyATrim.adapterTrim.rep.sorted.bam   21% 1509MB  24.9MB/s   03:47 ETA"
       ]
      },
      {
       "output_type": "stream",
       "stream": "stdout",
       "text": [
        "\r",
        "TAF15_2.polyATrim.adapterTrim.rep.sorted.bam   21% 1509MB  22.4MB/s   04:12 ETA"
       ]
      },
      {
       "output_type": "stream",
       "stream": "stdout",
       "text": [
        "\r",
        "TAF15_2.polyATrim.adapterTrim.rep.sorted.bam   21% 1547MB  24.0MB/s   03:54 ETA"
       ]
      },
      {
       "output_type": "stream",
       "stream": "stdout",
       "text": [
        "\r",
        "TAF15_2.polyATrim.adapterTrim.rep.sorted.bam   22% 1589MB  25.7MB/s   03:36 ETA"
       ]
      },
      {
       "output_type": "stream",
       "stream": "stdout",
       "text": [
        "\r",
        "TAF15_2.polyATrim.adapterTrim.rep.sorted.bam   22% 1630MB  27.3MB/s   03:22 ETA"
       ]
      },
      {
       "output_type": "stream",
       "stream": "stdout",
       "text": [
        "\r",
        "TAF15_2.polyATrim.adapterTrim.rep.sorted.bam   23% 1659MB  27.5MB/s   03:20 ETA"
       ]
      },
      {
       "output_type": "stream",
       "stream": "stdout",
       "text": [
        "\r",
        "TAF15_2.polyATrim.adapterTrim.rep.sorted.bam   23% 1659MB  24.8MB/s   03:42 ETA"
       ]
      },
      {
       "output_type": "stream",
       "stream": "stdout",
       "text": [
        "\r",
        "TAF15_2.polyATrim.adapterTrim.rep.sorted.bam   23% 1698MB  26.2MB/s   03:29 ETA"
       ]
      },
      {
       "output_type": "stream",
       "stream": "stdout",
       "text": [
        "\r",
        "TAF15_2.polyATrim.adapterTrim.rep.sorted.bam   24% 1740MB  27.7MB/s   03:16 ETA"
       ]
      },
      {
       "output_type": "stream",
       "stream": "stdout",
       "text": [
        "\r",
        "TAF15_2.polyATrim.adapterTrim.rep.sorted.bam   24% 1781MB  29.1MB/s   03:05 ETA"
       ]
      },
      {
       "output_type": "stream",
       "stream": "stdout",
       "text": [
        "\r",
        "TAF15_2.polyATrim.adapterTrim.rep.sorted.bam   25% 1810MB  29.1MB/s   03:04 ETA"
       ]
      },
      {
       "output_type": "stream",
       "stream": "stdout",
       "text": [
        "\r",
        "TAF15_2.polyATrim.adapterTrim.rep.sorted.bam   25% 1810MB  26.2MB/s   03:24 ETA"
       ]
      },
      {
       "output_type": "stream",
       "stream": "stdout",
       "text": [
        "\r",
        "TAF15_2.polyATrim.adapterTrim.rep.sorted.bam   25% 1850MB  27.5MB/s   03:13 ETA"
       ]
      },
      {
       "output_type": "stream",
       "stream": "stdout",
       "text": [
        "\r",
        "TAF15_2.polyATrim.adapterTrim.rep.sorted.bam   26% 1891MB  28.9MB/s   03:02 ETA"
       ]
      },
      {
       "output_type": "stream",
       "stream": "stdout",
       "text": [
        "\r",
        "TAF15_2.polyATrim.adapterTrim.rep.sorted.bam   26% 1933MB  30.2MB/s   02:53 ETA"
       ]
      },
      {
       "output_type": "stream",
       "stream": "stdout",
       "text": [
        "\r",
        "TAF15_2.polyATrim.adapterTrim.rep.sorted.bam   27% 1961MB  30.0MB/s   02:53 ETA"
       ]
      },
      {
       "output_type": "stream",
       "stream": "stdout",
       "text": [
        "\r",
        "TAF15_2.polyATrim.adapterTrim.rep.sorted.bam   27% 1961MB  27.0MB/s   03:13 ETA"
       ]
      },
      {
       "output_type": "stream",
       "stream": "stdout",
       "text": [
        "\r",
        "TAF15_2.polyATrim.adapterTrim.rep.sorted.bam   27% 2001MB  28.3MB/s   03:02 ETA"
       ]
      },
      {
       "output_type": "stream",
       "stream": "stdout",
       "text": [
        "\r",
        "TAF15_2.polyATrim.adapterTrim.rep.sorted.bam   28% 2042MB  29.6MB/s   02:53 ETA"
       ]
      },
      {
       "output_type": "stream",
       "stream": "stdout",
       "text": [
        "\r",
        "TAF15_2.polyATrim.adapterTrim.rep.sorted.bam   29% 2084MB  30.8MB/s   02:45 ETA"
       ]
      },
      {
       "output_type": "stream",
       "stream": "stdout",
       "text": [
        "\r",
        "TAF15_2.polyATrim.adapterTrim.rep.sorted.bam   29% 2112MB  30.5MB/s   02:45 ETA"
       ]
      },
      {
       "output_type": "stream",
       "stream": "stdout",
       "text": [
        "\r",
        "TAF15_2.polyATrim.adapterTrim.rep.sorted.bam   29% 2112MB  27.5MB/s   03:04 ETA"
       ]
      },
      {
       "output_type": "stream",
       "stream": "stdout",
       "text": [
        "\r",
        "TAF15_2.polyATrim.adapterTrim.rep.sorted.bam   30% 2153MB  28.8MB/s   02:54 ETA"
       ]
      },
      {
       "output_type": "stream",
       "stream": "stdout",
       "text": [
        "\r",
        "TAF15_2.polyATrim.adapterTrim.rep.sorted.bam   30% 2186MB  29.2MB/s   02:50 ETA"
       ]
      },
      {
       "output_type": "stream",
       "stream": "stdout",
       "text": [
        "\r",
        "TAF15_2.polyATrim.adapterTrim.rep.sorted.bam   31% 2228MB  30.5MB/s   02:42 ETA"
       ]
      },
      {
       "output_type": "stream",
       "stream": "stdout",
       "text": [
        "\r",
        "TAF15_2.polyATrim.adapterTrim.rep.sorted.bam   31% 2255MB  30.1MB/s   02:43 ETA"
       ]
      },
      {
       "output_type": "stream",
       "stream": "stdout",
       "text": [
        "\r",
        "TAF15_2.polyATrim.adapterTrim.rep.sorted.bam   31% 2256MB  27.2MB/s   03:00 ETA"
       ]
      },
      {
       "output_type": "stream",
       "stream": "stdout",
       "text": [
        "\r",
        "TAF15_2.polyATrim.adapterTrim.rep.sorted.bam   31% 2295MB  28.4MB/s   02:51 ETA"
       ]
      },
      {
       "output_type": "stream",
       "stream": "stdout",
       "text": [
        "\r",
        "TAF15_2.polyATrim.adapterTrim.rep.sorted.bam   32% 2336MB  29.7MB/s   02:42 ETA"
       ]
      },
      {
       "output_type": "stream",
       "stream": "stdout",
       "text": [
        "\r",
        "TAF15_2.polyATrim.adapterTrim.rep.sorted.bam   33% 2376MB  30.7MB/s   02:36 ETA"
       ]
      },
      {
       "output_type": "stream",
       "stream": "stdout",
       "text": [
        "\r",
        "TAF15_2.polyATrim.adapterTrim.rep.sorted.bam   33% 2404MB  30.5MB/s   02:36 ETA"
       ]
      },
      {
       "output_type": "stream",
       "stream": "stdout",
       "text": [
        "\r",
        "TAF15_2.polyATrim.adapterTrim.rep.sorted.bam   33% 2404MB  27.4MB/s   02:53 ETA"
       ]
      },
      {
       "output_type": "stream",
       "stream": "stdout",
       "text": [
        "\r",
        "TAF15_2.polyATrim.adapterTrim.rep.sorted.bam   34% 2447MB  29.0MB/s   02:43 ETA"
       ]
      },
      {
       "output_type": "stream",
       "stream": "stdout",
       "text": [
        "\r",
        "TAF15_2.polyATrim.adapterTrim.rep.sorted.bam   34% 2489MB  30.3MB/s   02:34 ETA"
       ]
      },
      {
       "output_type": "stream",
       "stream": "stdout",
       "text": [
        "\r",
        "TAF15_2.polyATrim.adapterTrim.rep.sorted.bam   35% 2523MB  30.6MB/s   02:31 ETA"
       ]
      },
      {
       "output_type": "stream",
       "stream": "stdout",
       "text": [
        "\r",
        "TAF15_2.polyATrim.adapterTrim.rep.sorted.bam   35% 2550MB  30.3MB/s   02:32 ETA"
       ]
      },
      {
       "output_type": "stream",
       "stream": "stdout",
       "text": [
        "\r",
        "TAF15_2.polyATrim.adapterTrim.rep.sorted.bam   35% 2552MB  27.5MB/s   02:48 ETA"
       ]
      },
      {
       "output_type": "stream",
       "stream": "stdout",
       "text": [
        "\r",
        "TAF15_2.polyATrim.adapterTrim.rep.sorted.bam   36% 2593MB  28.8MB/s   02:38 ETA"
       ]
      },
      {
       "output_type": "stream",
       "stream": "stdout",
       "text": [
        "\r",
        "TAF15_2.polyATrim.adapterTrim.rep.sorted.bam   36% 2634MB  30.1MB/s   02:31 ETA"
       ]
      },
      {
       "output_type": "stream",
       "stream": "stdout",
       "text": [
        "\r",
        "TAF15_2.polyATrim.adapterTrim.rep.sorted.bam   37% 2675MB  31.2MB/s   02:24 ETA"
       ]
      },
      {
       "output_type": "stream",
       "stream": "stdout",
       "text": [
        "\r",
        "TAF15_2.polyATrim.adapterTrim.rep.sorted.bam   37% 2702MB  30.7MB/s   02:25 ETA"
       ]
      },
      {
       "output_type": "stream",
       "stream": "stdout",
       "text": [
        "\r",
        "TAF15_2.polyATrim.adapterTrim.rep.sorted.bam   37% 2702MB  27.6MB/s   02:41 ETA"
       ]
      },
      {
       "output_type": "stream",
       "stream": "stdout",
       "text": [
        "\r",
        "TAF15_2.polyATrim.adapterTrim.rep.sorted.bam   38% 2744MB  29.0MB/s   02:32 ETA"
       ]
      },
      {
       "output_type": "stream",
       "stream": "stdout",
       "text": [
        "\r",
        "TAF15_2.polyATrim.adapterTrim.rep.sorted.bam   38% 2785MB  30.3MB/s   02:25 ETA"
       ]
      },
      {
       "output_type": "stream",
       "stream": "stdout",
       "text": [
        "\r",
        "TAF15_2.polyATrim.adapterTrim.rep.sorted.bam   39% 2826MB  31.3MB/s   02:18 ETA"
       ]
      },
      {
       "output_type": "stream",
       "stream": "stdout",
       "text": [
        "\r",
        "TAF15_2.polyATrim.adapterTrim.rep.sorted.bam   39% 2852MB  30.8MB/s   02:20 ETA"
       ]
      },
      {
       "output_type": "stream",
       "stream": "stdout",
       "text": [
        "\r",
        "TAF15_2.polyATrim.adapterTrim.rep.sorted.bam   39% 2854MB  27.9MB/s   02:34 ETA"
       ]
      },
      {
       "output_type": "stream",
       "stream": "stdout",
       "text": [
        "\r",
        "TAF15_2.polyATrim.adapterTrim.rep.sorted.bam   40% 2896MB  29.3MB/s   02:26 ETA"
       ]
      },
      {
       "output_type": "stream",
       "stream": "stdout",
       "text": [
        "\r",
        "TAF15_2.polyATrim.adapterTrim.rep.sorted.bam   40% 2938MB  30.6MB/s   02:18 ETA"
       ]
      },
      {
       "output_type": "stream",
       "stream": "stdout",
       "text": [
        "\r",
        "TAF15_2.polyATrim.adapterTrim.rep.sorted.bam   41% 2979MB  31.7MB/s   02:12 ETA"
       ]
      },
      {
       "output_type": "stream",
       "stream": "stdout",
       "text": [
        "\r",
        "TAF15_2.polyATrim.adapterTrim.rep.sorted.bam   41% 3006MB  31.1MB/s   02:13 ETA"
       ]
      },
      {
       "output_type": "stream",
       "stream": "stdout",
       "text": [
        "\r",
        "TAF15_2.polyATrim.adapterTrim.rep.sorted.bam   41% 3006MB  28.0MB/s   02:28 ETA"
       ]
      },
      {
       "output_type": "stream",
       "stream": "stdout",
       "text": [
        "\r",
        "TAF15_2.polyATrim.adapterTrim.rep.sorted.bam   42% 3048MB  29.5MB/s   02:19 ETA"
       ]
      },
      {
       "output_type": "stream",
       "stream": "stdout",
       "text": [
        "\r",
        "TAF15_2.polyATrim.adapterTrim.rep.sorted.bam   43% 3090MB  30.7MB/s   02:12 ETA"
       ]
      },
      {
       "output_type": "stream",
       "stream": "stdout",
       "text": [
        "\r",
        "TAF15_2.polyATrim.adapterTrim.rep.sorted.bam   43% 3132MB  31.8MB/s   02:06 ETA"
       ]
      },
      {
       "output_type": "stream",
       "stream": "stdout",
       "text": [
        "\r",
        "TAF15_2.polyATrim.adapterTrim.rep.sorted.bam   44% 3158MB  31.2MB/s   02:08 ETA"
       ]
      },
      {
       "output_type": "stream",
       "stream": "stdout",
       "text": [
        "\r",
        "TAF15_2.polyATrim.adapterTrim.rep.sorted.bam   44% 3160MB  28.3MB/s   02:21 ETA"
       ]
      },
      {
       "output_type": "stream",
       "stream": "stdout",
       "text": [
        "\r",
        "TAF15_2.polyATrim.adapterTrim.rep.sorted.bam   44% 3202MB  29.7MB/s   02:13 ETA"
       ]
      },
      {
       "output_type": "stream",
       "stream": "stdout",
       "text": [
        "\r",
        "TAF15_2.polyATrim.adapterTrim.rep.sorted.bam   45% 3244MB  30.9MB/s   02:07 ETA"
       ]
      },
      {
       "output_type": "stream",
       "stream": "stdout",
       "text": [
        "\r",
        "TAF15_2.polyATrim.adapterTrim.rep.sorted.bam   45% 3286MB  32.0MB/s   02:01 ETA"
       ]
      },
      {
       "output_type": "stream",
       "stream": "stdout",
       "text": [
        "\r",
        "TAF15_2.polyATrim.adapterTrim.rep.sorted.bam   46% 3312MB  31.4MB/s   02:02 ETA"
       ]
      },
      {
       "output_type": "stream",
       "stream": "stdout",
       "text": [
        "\r",
        "TAF15_2.polyATrim.adapterTrim.rep.sorted.bam   46% 3313MB  28.4MB/s   02:16 ETA"
       ]
      },
      {
       "output_type": "stream",
       "stream": "stdout",
       "text": [
        "\r",
        "TAF15_2.polyATrim.adapterTrim.rep.sorted.bam   46% 3355MB  29.7MB/s   02:08 ETA"
       ]
      },
      {
       "output_type": "stream",
       "stream": "stdout",
       "text": [
        "\r",
        "TAF15_2.polyATrim.adapterTrim.rep.sorted.bam   47% 3396MB  30.9MB/s   02:02 ETA"
       ]
      },
      {
       "output_type": "stream",
       "stream": "stdout",
       "text": [
        "\r",
        "TAF15_2.polyATrim.adapterTrim.rep.sorted.bam   47% 3438MB  32.0MB/s   01:56 ETA"
       ]
      },
      {
       "output_type": "stream",
       "stream": "stdout",
       "text": [
        "\r",
        "TAF15_2.polyATrim.adapterTrim.rep.sorted.bam   48% 3464MB  31.4MB/s   01:58 ETA"
       ]
      },
      {
       "output_type": "stream",
       "stream": "stdout",
       "text": [
        "\r",
        "TAF15_2.polyATrim.adapterTrim.rep.sorted.bam   48% 3465MB  28.3MB/s   02:10 ETA"
       ]
      },
      {
       "output_type": "stream",
       "stream": "stdout",
       "text": [
        "\r",
        "TAF15_2.polyATrim.adapterTrim.rep.sorted.bam   48% 3501MB  29.1MB/s   02:06 ETA"
       ]
      },
      {
       "output_type": "stream",
       "stream": "stdout",
       "text": [
        "\r",
        "TAF15_2.polyATrim.adapterTrim.rep.sorted.bam   49% 3540MB  30.1MB/s   02:00 ETA"
       ]
      },
      {
       "output_type": "stream",
       "stream": "stdout",
       "text": [
        "\r",
        "TAF15_2.polyATrim.adapterTrim.rep.sorted.bam   49% 3579MB  31.0MB/s   01:55 ETA"
       ]
      },
      {
       "output_type": "stream",
       "stream": "stdout",
       "text": [
        "\r",
        "TAF15_2.polyATrim.adapterTrim.rep.sorted.bam   50% 3604MB  30.4MB/s   01:57 ETA"
       ]
      },
      {
       "output_type": "stream",
       "stream": "stdout",
       "text": [
        "\r",
        "TAF15_2.polyATrim.adapterTrim.rep.sorted.bam   50% 3609MB  27.9MB/s   02:07 ETA"
       ]
      },
      {
       "output_type": "stream",
       "stream": "stdout",
       "text": [
        "\r",
        "TAF15_2.polyATrim.adapterTrim.rep.sorted.bam   50% 3649MB  29.1MB/s   02:01 ETA"
       ]
      },
      {
       "output_type": "stream",
       "stream": "stdout",
       "text": [
        "\r",
        "TAF15_2.polyATrim.adapterTrim.rep.sorted.bam   51% 3690MB  30.2MB/s   01:55 ETA"
       ]
      },
      {
       "output_type": "stream",
       "stream": "stdout",
       "text": [
        "\r",
        "TAF15_2.polyATrim.adapterTrim.rep.sorted.bam   52% 3731MB  31.4MB/s   01:49 ETA"
       ]
      },
      {
       "output_type": "stream",
       "stream": "stdout",
       "text": [
        "\r",
        "TAF15_2.polyATrim.adapterTrim.rep.sorted.bam   52% 3756MB  30.7MB/s   01:51 ETA"
       ]
      },
      {
       "output_type": "stream",
       "stream": "stdout",
       "text": [
        "\r",
        "TAF15_2.polyATrim.adapterTrim.rep.sorted.bam   52% 3758MB  27.8MB/s   02:02 ETA"
       ]
      },
      {
       "output_type": "stream",
       "stream": "stdout",
       "text": [
        "\r",
        "TAF15_2.polyATrim.adapterTrim.rep.sorted.bam   52% 3800MB  29.2MB/s   01:55 ETA"
       ]
      },
      {
       "output_type": "stream",
       "stream": "stdout",
       "text": [
        "\r",
        "TAF15_2.polyATrim.adapterTrim.rep.sorted.bam   53% 3839MB  30.2MB/s   01:50 ETA"
       ]
      },
      {
       "output_type": "stream",
       "stream": "stdout",
       "text": [
        "\r",
        "TAF15_2.polyATrim.adapterTrim.rep.sorted.bam   54% 3879MB  31.2MB/s   01:45 ETA"
       ]
      },
      {
       "output_type": "stream",
       "stream": "stdout",
       "text": [
        "\r",
        "TAF15_2.polyATrim.adapterTrim.rep.sorted.bam   54% 3902MB  30.4MB/s   01:47 ETA"
       ]
      },
      {
       "output_type": "stream",
       "stream": "stdout",
       "text": [
        "\r",
        "TAF15_2.polyATrim.adapterTrim.rep.sorted.bam   54% 3906MB  27.7MB/s   01:57 ETA"
       ]
      },
      {
       "output_type": "stream",
       "stream": "stdout",
       "text": [
        "\r",
        "TAF15_2.polyATrim.adapterTrim.rep.sorted.bam   55% 3946MB  29.0MB/s   01:51 ETA"
       ]
      },
      {
       "output_type": "stream",
       "stream": "stdout",
       "text": [
        "\r",
        "TAF15_2.polyATrim.adapterTrim.rep.sorted.bam   55% 3988MB  30.3MB/s   01:45 ETA"
       ]
      },
      {
       "output_type": "stream",
       "stream": "stdout",
       "text": [
        "\r",
        "TAF15_2.polyATrim.adapterTrim.rep.sorted.bam   56% 4030MB  31.5MB/s   01:39 ETA"
       ]
      },
      {
       "output_type": "stream",
       "stream": "stdout",
       "text": [
        "\r",
        "TAF15_2.polyATrim.adapterTrim.rep.sorted.bam   56% 4054MB  30.7MB/s   01:41 ETA"
       ]
      },
      {
       "output_type": "stream",
       "stream": "stdout",
       "text": [
        "\r",
        "TAF15_2.polyATrim.adapterTrim.rep.sorted.bam   56% 4056MB  27.8MB/s   01:52 ETA"
       ]
      },
      {
       "output_type": "stream",
       "stream": "stdout",
       "text": [
        "\r",
        "TAF15_2.polyATrim.adapterTrim.rep.sorted.bam   56% 4088MB  28.2MB/s   01:49 ETA"
       ]
      },
      {
       "output_type": "stream",
       "stream": "stdout",
       "text": [
        "\r",
        "TAF15_2.polyATrim.adapterTrim.rep.sorted.bam   57% 4129MB  29.5MB/s   01:43 ETA"
       ]
      },
      {
       "output_type": "stream",
       "stream": "stdout",
       "text": [
        "\r",
        "TAF15_2.polyATrim.adapterTrim.rep.sorted.bam   58% 4170MB  30.7MB/s   01:37 ETA"
       ]
      },
      {
       "output_type": "stream",
       "stream": "stdout",
       "text": [
        "\r",
        "TAF15_2.polyATrim.adapterTrim.rep.sorted.bam   58% 4194MB  30.0MB/s   01:39 ETA"
       ]
      },
      {
       "output_type": "stream",
       "stream": "stdout",
       "text": [
        "\r",
        "TAF15_2.polyATrim.adapterTrim.rep.sorted.bam   58% 4200MB  27.6MB/s   01:47 ETA"
       ]
      },
      {
       "output_type": "stream",
       "stream": "stdout",
       "text": [
        "\r",
        "TAF15_2.polyATrim.adapterTrim.rep.sorted.bam   59% 4239MB  28.7MB/s   01:42 ETA"
       ]
      },
      {
       "output_type": "stream",
       "stream": "stdout",
       "text": [
        "\r",
        "TAF15_2.polyATrim.adapterTrim.rep.sorted.bam   59% 4272MB  29.2MB/s   01:39 ETA"
       ]
      },
      {
       "output_type": "stream",
       "stream": "stdout",
       "text": [
        "\r",
        "TAF15_2.polyATrim.adapterTrim.rep.sorted.bam   60% 4314MB  30.5MB/s   01:33 ETA"
       ]
      },
      {
       "output_type": "stream",
       "stream": "stdout",
       "text": [
        "\r",
        "TAF15_2.polyATrim.adapterTrim.rep.sorted.bam   60% 4356MB  31.6MB/s   01:29 ETA"
       ]
      },
      {
       "output_type": "stream",
       "stream": "stdout",
       "text": [
        "\r",
        "TAF15_2.polyATrim.adapterTrim.rep.sorted.bam   61% 4398MB  32.7MB/s   01:24 ETA"
       ]
      },
      {
       "output_type": "stream",
       "stream": "stdout",
       "text": [
        "\r",
        "TAF15_2.polyATrim.adapterTrim.rep.sorted.bam   61% 4441MB  33.6MB/s   01:21 ETA"
       ]
      },
      {
       "output_type": "stream",
       "stream": "stdout",
       "text": [
        "\r",
        "TAF15_2.polyATrim.adapterTrim.rep.sorted.bam   62% 4483MB  34.5MB/s   01:18 ETA"
       ]
      },
      {
       "output_type": "stream",
       "stream": "stdout",
       "text": [
        "\r",
        "TAF15_2.polyATrim.adapterTrim.rep.sorted.bam   63% 4524MB  35.2MB/s   01:15 ETA"
       ]
      },
      {
       "output_type": "stream",
       "stream": "stdout",
       "text": [
        "\r",
        "TAF15_2.polyATrim.adapterTrim.rep.sorted.bam   63% 4557MB  34.9MB/s   01:14 ETA"
       ]
      },
      {
       "output_type": "stream",
       "stream": "stdout",
       "text": [
        "\r",
        "TAF15_2.polyATrim.adapterTrim.rep.sorted.bam   64% 4597MB  35.5MB/s   01:12 ETA"
       ]
      },
      {
       "output_type": "stream",
       "stream": "stdout",
       "text": [
        "\r",
        "TAF15_2.polyATrim.adapterTrim.rep.sorted.bam   64% 4639MB  36.1MB/s   01:10 ETA"
       ]
      },
      {
       "output_type": "stream",
       "stream": "stdout",
       "text": [
        "\r",
        "TAF15_2.polyATrim.adapterTrim.rep.sorted.bam   65% 4681MB  36.7MB/s   01:07 ETA"
       ]
      },
      {
       "output_type": "stream",
       "stream": "stdout",
       "text": [
        "\r",
        "TAF15_2.polyATrim.adapterTrim.rep.sorted.bam   65% 4721MB  37.0MB/s   01:06 ETA"
       ]
      },
      {
       "output_type": "stream",
       "stream": "stdout",
       "text": [
        "\r",
        "TAF15_2.polyATrim.adapterTrim.rep.sorted.bam   66% 4763MB  37.5MB/s   01:04 ETA"
       ]
      },
      {
       "output_type": "stream",
       "stream": "stdout",
       "text": [
        "\r",
        "TAF15_2.polyATrim.adapterTrim.rep.sorted.bam   66% 4805MB  38.0MB/s   01:02 ETA"
       ]
      },
      {
       "output_type": "stream",
       "stream": "stdout",
       "text": [
        "\r",
        "TAF15_2.polyATrim.adapterTrim.rep.sorted.bam   67% 4847MB  38.4MB/s   01:00 ETA"
       ]
      },
      {
       "output_type": "stream",
       "stream": "stdout",
       "text": [
        "\r",
        "TAF15_2.polyATrim.adapterTrim.rep.sorted.bam   68% 4889MB  38.8MB/s   00:58 ETA"
       ]
      },
      {
       "output_type": "stream",
       "stream": "stdout",
       "text": [
        "\r",
        "TAF15_2.polyATrim.adapterTrim.rep.sorted.bam   68% 4924MB  38.4MB/s   00:58 ETA"
       ]
      },
      {
       "output_type": "stream",
       "stream": "stdout",
       "text": [
        "\r",
        "TAF15_2.polyATrim.adapterTrim.rep.sorted.bam   69% 4965MB  38.6MB/s   00:57 ETA"
       ]
      },
      {
       "output_type": "stream",
       "stream": "stdout",
       "text": [
        "\r",
        "TAF15_2.polyATrim.adapterTrim.rep.sorted.bam   69% 5007MB  38.9MB/s   00:55 ETA"
       ]
      },
      {
       "output_type": "stream",
       "stream": "stdout",
       "text": [
        "\r",
        "TAF15_2.polyATrim.adapterTrim.rep.sorted.bam   70% 5045MB  38.8MB/s   00:54 ETA"
       ]
      },
      {
       "output_type": "stream",
       "stream": "stdout",
       "text": [
        "\r",
        "TAF15_2.polyATrim.adapterTrim.rep.sorted.bam   70% 5076MB  38.1MB/s   00:55 ETA"
       ]
      },
      {
       "output_type": "stream",
       "stream": "stdout",
       "text": [
        "\r",
        "TAF15_2.polyATrim.adapterTrim.rep.sorted.bam   71% 5115MB  38.2MB/s   00:53 ETA"
       ]
      },
      {
       "output_type": "stream",
       "stream": "stdout",
       "text": [
        "\r",
        "TAF15_2.polyATrim.adapterTrim.rep.sorted.bam   71% 5157MB  38.5MB/s   00:52 ETA"
       ]
      },
      {
       "output_type": "stream",
       "stream": "stdout",
       "text": [
        "\r",
        "TAF15_2.polyATrim.adapterTrim.rep.sorted.bam   72% 5199MB  38.9MB/s   00:50 ETA"
       ]
      },
      {
       "output_type": "stream",
       "stream": "stdout",
       "text": [
        "\r",
        "TAF15_2.polyATrim.adapterTrim.rep.sorted.bam   73% 5240MB  39.2MB/s   00:49 ETA"
       ]
      },
      {
       "output_type": "stream",
       "stream": "stdout",
       "text": [
        "\r",
        "TAF15_2.polyATrim.adapterTrim.rep.sorted.bam   73% 5282MB  39.4MB/s   00:48 ETA"
       ]
      },
      {
       "output_type": "stream",
       "stream": "stdout",
       "text": [
        "\r",
        "TAF15_2.polyATrim.adapterTrim.rep.sorted.bam   74% 5322MB  39.5MB/s   00:46 ETA"
       ]
      },
      {
       "output_type": "stream",
       "stream": "stdout",
       "text": [
        "\r",
        "TAF15_2.polyATrim.adapterTrim.rep.sorted.bam   74% 5364MB  39.7MB/s   00:45 ETA"
       ]
      },
      {
       "output_type": "stream",
       "stream": "stdout",
       "text": [
        "\r",
        "TAF15_2.polyATrim.adapterTrim.rep.sorted.bam   75% 5404MB  39.7MB/s   00:44 ETA"
       ]
      },
      {
       "output_type": "stream",
       "stream": "stdout",
       "text": [
        "\r",
        "TAF15_2.polyATrim.adapterTrim.rep.sorted.bam   75% 5446MB  39.9MB/s   00:43 ETA"
       ]
      },
      {
       "output_type": "stream",
       "stream": "stdout",
       "text": [
        "\r",
        "TAF15_2.polyATrim.adapterTrim.rep.sorted.bam   76% 5487MB  40.1MB/s   00:42 ETA"
       ]
      },
      {
       "output_type": "stream",
       "stream": "stdout",
       "text": [
        "\r",
        "TAF15_2.polyATrim.adapterTrim.rep.sorted.bam   77% 5529MB  40.3MB/s   00:40 ETA"
       ]
      },
      {
       "output_type": "stream",
       "stream": "stdout",
       "text": [
        "\r",
        "TAF15_2.polyATrim.adapterTrim.rep.sorted.bam   77% 5552MB  38.5MB/s   00:42 ETA"
       ]
      },
      {
       "output_type": "stream",
       "stream": "stdout",
       "text": [
        "\r",
        "TAF15_2.polyATrim.adapterTrim.rep.sorted.bam   77% 5552MB  34.7MB/s   00:46 ETA"
       ]
      },
      {
       "output_type": "stream",
       "stream": "stdout",
       "text": [
        "\r",
        "TAF15_2.polyATrim.adapterTrim.rep.sorted.bam   77% 5552MB  31.2MB/s   00:51 ETA"
       ]
      },
      {
       "output_type": "stream",
       "stream": "stdout",
       "text": [
        "\r",
        "TAF15_2.polyATrim.adapterTrim.rep.sorted.bam   77% 5552MB  28.1MB/s   00:57 ETA"
       ]
      },
      {
       "output_type": "stream",
       "stream": "stdout",
       "text": [
        "\r",
        "TAF15_2.polyATrim.adapterTrim.rep.sorted.bam   77% 5552MB  25.3MB/s   01:04 ETA"
       ]
      },
      {
       "output_type": "stream",
       "stream": "stdout",
       "text": [
        "\r",
        "TAF15_2.polyATrim.adapterTrim.rep.sorted.bam   77% 5554MB  22.9MB/s   01:10 ETA"
       ]
      },
      {
       "output_type": "stream",
       "stream": "stdout",
       "text": [
        "\r",
        "TAF15_2.polyATrim.adapterTrim.rep.sorted.bam   77% 5554MB  20.7MB/s   01:18 ETA"
       ]
      },
      {
       "output_type": "stream",
       "stream": "stdout",
       "text": [
        "\r",
        "TAF15_2.polyATrim.adapterTrim.rep.sorted.bam   77% 5554MB  18.6MB/s   01:27 ETA"
       ]
      },
      {
       "output_type": "stream",
       "stream": "stdout",
       "text": [
        "\r",
        "TAF15_2.polyATrim.adapterTrim.rep.sorted.bam   77% 5554MB  16.7MB/s   01:36 ETA"
       ]
      },
      {
       "output_type": "stream",
       "stream": "stdout",
       "text": [
        "\r",
        "TAF15_2.polyATrim.adapterTrim.rep.sorted.bam   77% 5554MB  15.1MB/s   01:47 ETA"
       ]
      },
      {
       "output_type": "stream",
       "stream": "stdout",
       "text": [
        "\r",
        "TAF15_2.polyATrim.adapterTrim.rep.sorted.bam   77% 5556MB  13.8MB/s   01:57 ETA"
       ]
      },
      {
       "output_type": "stream",
       "stream": "stdout",
       "text": [
        "\r",
        "TAF15_2.polyATrim.adapterTrim.rep.sorted.bam   77% 5556MB  12.4MB/s   02:10 ETA"
       ]
      },
      {
       "output_type": "stream",
       "stream": "stdout",
       "text": [
        "\r",
        "TAF15_2.polyATrim.adapterTrim.rep.sorted.bam   77% 5556MB  11.2MB/s   02:24 ETA"
       ]
      },
      {
       "output_type": "stream",
       "stream": "stdout",
       "text": [
        "\r",
        "TAF15_2.polyATrim.adapterTrim.rep.sorted.bam   77% 5590MB  13.5MB/s   01:57 ETA"
       ]
      },
      {
       "output_type": "stream",
       "stream": "stdout",
       "text": [
        "\r",
        "TAF15_2.polyATrim.adapterTrim.rep.sorted.bam   78% 5629MB  16.0MB/s   01:36 ETA"
       ]
      },
      {
       "output_type": "stream",
       "stream": "stdout",
       "text": [
        "\r",
        "TAF15_2.polyATrim.adapterTrim.rep.sorted.bam   78% 5650MB  16.5MB/s   01:32 ETA"
       ]
      },
      {
       "output_type": "stream",
       "stream": "stdout",
       "text": [
        "\r",
        "TAF15_2.polyATrim.adapterTrim.rep.sorted.bam   79% 5673MB  17.2MB/s   01:27 ETA"
       ]
      },
      {
       "output_type": "stream",
       "stream": "stdout",
       "text": [
        "\r",
        "TAF15_2.polyATrim.adapterTrim.rep.sorted.bam   79% 5712MB  19.3MB/s   01:15 ETA"
       ]
      },
      {
       "output_type": "stream",
       "stream": "stdout",
       "text": [
        "\r",
        "TAF15_2.polyATrim.adapterTrim.rep.sorted.bam   80% 5752MB  21.4MB/s   01:06 ETA"
       ]
      },
      {
       "output_type": "stream",
       "stream": "stdout",
       "text": [
        "\r",
        "TAF15_2.polyATrim.adapterTrim.rep.sorted.bam   80% 5793MB  23.4MB/s   00:59 ETA"
       ]
      },
      {
       "output_type": "stream",
       "stream": "stdout",
       "text": [
        "\r",
        "TAF15_2.polyATrim.adapterTrim.rep.sorted.bam   81% 5815MB  23.2MB/s   00:58 ETA"
       ]
      },
      {
       "output_type": "stream",
       "stream": "stdout",
       "text": [
        "\r",
        "TAF15_2.polyATrim.adapterTrim.rep.sorted.bam   81% 5816MB  21.0MB/s   01:04 ETA"
       ]
      },
      {
       "output_type": "stream",
       "stream": "stdout",
       "text": [
        "\r",
        "TAF15_2.polyATrim.adapterTrim.rep.sorted.bam   81% 5858MB  23.1MB/s   00:57 ETA"
       ]
      },
      {
       "output_type": "stream",
       "stream": "stdout",
       "text": [
        "\r",
        "TAF15_2.polyATrim.adapterTrim.rep.sorted.bam   82% 5900MB  25.0MB/s   00:51 ETA"
       ]
      },
      {
       "output_type": "stream",
       "stream": "stdout",
       "text": [
        "\r",
        "TAF15_2.polyATrim.adapterTrim.rep.sorted.bam   82% 5942MB  26.7MB/s   00:46 ETA"
       ]
      },
      {
       "output_type": "stream",
       "stream": "stdout",
       "text": [
        "\r",
        "TAF15_2.polyATrim.adapterTrim.rep.sorted.bam   83% 5964MB  26.2MB/s   00:46 ETA"
       ]
      },
      {
       "output_type": "stream",
       "stream": "stdout",
       "text": [
        "\r",
        "TAF15_2.polyATrim.adapterTrim.rep.sorted.bam   83% 5970MB  24.2MB/s   00:49 ETA"
       ]
      },
      {
       "output_type": "stream",
       "stream": "stdout",
       "text": [
        "\r",
        "TAF15_2.polyATrim.adapterTrim.rep.sorted.bam   83% 6012MB  26.0MB/s   00:44 ETA"
       ]
      },
      {
       "output_type": "stream",
       "stream": "stdout",
       "text": [
        "\r",
        "TAF15_2.polyATrim.adapterTrim.rep.sorted.bam   84% 6054MB  27.6MB/s   00:40 ETA"
       ]
      },
      {
       "output_type": "stream",
       "stream": "stdout",
       "text": [
        "\r",
        "TAF15_2.polyATrim.adapterTrim.rep.sorted.bam   84% 6096MB  29.0MB/s   00:37 ETA"
       ]
      },
      {
       "output_type": "stream",
       "stream": "stdout",
       "text": [
        "\r",
        "TAF15_2.polyATrim.adapterTrim.rep.sorted.bam   85% 6118MB  28.3MB/s   00:37 ETA"
       ]
      },
      {
       "output_type": "stream",
       "stream": "stdout",
       "text": [
        "\r",
        "TAF15_2.polyATrim.adapterTrim.rep.sorted.bam   85% 6123MB  26.0MB/s   00:40 ETA"
       ]
      },
      {
       "output_type": "stream",
       "stream": "stdout",
       "text": [
        "\r",
        "TAF15_2.polyATrim.adapterTrim.rep.sorted.bam   85% 6164MB  27.5MB/s   00:36 ETA"
       ]
      },
      {
       "output_type": "stream",
       "stream": "stdout",
       "text": [
        "\r",
        "TAF15_2.polyATrim.adapterTrim.rep.sorted.bam   86% 6206MB  28.9MB/s   00:33 ETA"
       ]
      },
      {
       "output_type": "stream",
       "stream": "stdout",
       "text": [
        "\r",
        "TAF15_2.polyATrim.adapterTrim.rep.sorted.bam   87% 6247MB  30.2MB/s   00:30 ETA"
       ]
      },
      {
       "output_type": "stream",
       "stream": "stdout",
       "text": [
        "\r",
        "TAF15_2.polyATrim.adapterTrim.rep.sorted.bam   87% 6269MB  29.3MB/s   00:30 ETA"
       ]
      },
      {
       "output_type": "stream",
       "stream": "stdout",
       "text": [
        "\r",
        "TAF15_2.polyATrim.adapterTrim.rep.sorted.bam   87% 6275MB  27.0MB/s   00:33 ETA"
       ]
      },
      {
       "output_type": "stream",
       "stream": "stdout",
       "text": [
        "\r",
        "TAF15_2.polyATrim.adapterTrim.rep.sorted.bam   88% 6317MB  28.5MB/s   00:29 ETA"
       ]
      },
      {
       "output_type": "stream",
       "stream": "stdout",
       "text": [
        "\r",
        "TAF15_2.polyATrim.adapterTrim.rep.sorted.bam   88% 6359MB  29.9MB/s   00:27 ETA"
       ]
      },
      {
       "output_type": "stream",
       "stream": "stdout",
       "text": [
        "\r",
        "TAF15_2.polyATrim.adapterTrim.rep.sorted.bam   89% 6401MB  31.1MB/s   00:24 ETA"
       ]
      },
      {
       "output_type": "stream",
       "stream": "stdout",
       "text": [
        "\r",
        "TAF15_2.polyATrim.adapterTrim.rep.sorted.bam   89% 6423MB  30.1MB/s   00:24 ETA"
       ]
      },
      {
       "output_type": "stream",
       "stream": "stdout",
       "text": [
        "\r",
        "TAF15_2.polyATrim.adapterTrim.rep.sorted.bam   89% 6427MB  27.5MB/s   00:27 ETA"
       ]
      },
      {
       "output_type": "stream",
       "stream": "stdout",
       "text": [
        "\r",
        "TAF15_2.polyATrim.adapterTrim.rep.sorted.bam   90% 6467MB  28.8MB/s   00:24 ETA"
       ]
      },
      {
       "output_type": "stream",
       "stream": "stdout",
       "text": [
        "\r",
        "TAF15_2.polyATrim.adapterTrim.rep.sorted.bam   90% 6509MB  30.1MB/s   00:22 ETA"
       ]
      },
      {
       "output_type": "stream",
       "stream": "stdout",
       "text": [
        "\r",
        "TAF15_2.polyATrim.adapterTrim.rep.sorted.bam   91% 6551MB  31.3MB/s   00:19 ETA"
       ]
      },
      {
       "output_type": "stream",
       "stream": "stdout",
       "text": [
        "\r",
        "TAF15_2.polyATrim.adapterTrim.rep.sorted.bam   91% 6572MB  30.3MB/s   00:19 ETA"
       ]
      },
      {
       "output_type": "stream",
       "stream": "stdout",
       "text": [
        "\r",
        "TAF15_2.polyATrim.adapterTrim.rep.sorted.bam   91% 6579MB  28.0MB/s   00:21 ETA"
       ]
      },
      {
       "output_type": "stream",
       "stream": "stdout",
       "text": [
        "\r",
        "TAF15_2.polyATrim.adapterTrim.rep.sorted.bam   92% 6621MB  29.3MB/s   00:18 ETA"
       ]
      },
      {
       "output_type": "stream",
       "stream": "stdout",
       "text": [
        "\r",
        "TAF15_2.polyATrim.adapterTrim.rep.sorted.bam   92% 6662MB  30.6MB/s   00:16 ETA"
       ]
      },
      {
       "output_type": "stream",
       "stream": "stdout",
       "text": [
        "\r",
        "TAF15_2.polyATrim.adapterTrim.rep.sorted.bam   93% 6704MB  31.7MB/s   00:14 ETA"
       ]
      },
      {
       "output_type": "stream",
       "stream": "stdout",
       "text": [
        "\r",
        "TAF15_2.polyATrim.adapterTrim.rep.sorted.bam   93% 6725MB  30.6MB/s   00:14 ETA"
       ]
      },
      {
       "output_type": "stream",
       "stream": "stdout",
       "text": [
        "\r",
        "TAF15_2.polyATrim.adapterTrim.rep.sorted.bam   93% 6731MB  28.1MB/s   00:15 ETA"
       ]
      },
      {
       "output_type": "stream",
       "stream": "stdout",
       "text": [
        "\r",
        "TAF15_2.polyATrim.adapterTrim.rep.sorted.bam   94% 6773MB  29.5MB/s   00:13 ETA"
       ]
      },
      {
       "output_type": "stream",
       "stream": "stdout",
       "text": [
        "\r",
        "TAF15_2.polyATrim.adapterTrim.rep.sorted.bam   95% 6815MB  30.8MB/s   00:11 ETA"
       ]
      },
      {
       "output_type": "stream",
       "stream": "stdout",
       "text": [
        "\r",
        "TAF15_2.polyATrim.adapterTrim.rep.sorted.bam   95% 6857MB  31.9MB/s   00:09 ETA"
       ]
      },
      {
       "output_type": "stream",
       "stream": "stdout",
       "text": [
        "\r",
        "TAF15_2.polyATrim.adapterTrim.rep.sorted.bam   95% 6878MB  30.8MB/s   00:09 ETA"
       ]
      },
      {
       "output_type": "stream",
       "stream": "stdout",
       "text": [
        "\r",
        "TAF15_2.polyATrim.adapterTrim.rep.sorted.bam   95% 6884MB  28.3MB/s   00:10 ETA"
       ]
      },
      {
       "output_type": "stream",
       "stream": "stdout",
       "text": [
        "\r",
        "TAF15_2.polyATrim.adapterTrim.rep.sorted.bam   96% 6926MB  29.7MB/s   00:08 ETA"
       ]
      },
      {
       "output_type": "stream",
       "stream": "stdout",
       "text": [
        "\r",
        "TAF15_2.polyATrim.adapterTrim.rep.sorted.bam   97% 6967MB  30.9MB/s   00:06 ETA"
       ]
      },
      {
       "output_type": "stream",
       "stream": "stdout",
       "text": [
        "\r",
        "TAF15_2.polyATrim.adapterTrim.rep.sorted.bam   97% 7009MB  31.9MB/s   00:05 ETA"
       ]
      },
      {
       "output_type": "stream",
       "stream": "stdout",
       "text": [
        "\r",
        "TAF15_2.polyATrim.adapterTrim.rep.sorted.bam   97% 7029MB  30.8MB/s   00:04 ETA"
       ]
      },
      {
       "output_type": "stream",
       "stream": "stdout",
       "text": [
        "\r",
        "TAF15_2.polyATrim.adapterTrim.rep.sorted.bam   98% 7035MB  28.3MB/s   00:04 ETA"
       ]
      },
      {
       "output_type": "stream",
       "stream": "stdout",
       "text": [
        "\r",
        "TAF15_2.polyATrim.adapterTrim.rep.sorted.bam   98% 7076MB  29.5MB/s   00:03 ETA"
       ]
      },
      {
       "output_type": "stream",
       "stream": "stdout",
       "text": [
        "\r",
        "TAF15_2.polyATrim.adapterTrim.rep.sorted.bam   99% 7116MB  30.6MB/s   00:01 ETA"
       ]
      },
      {
       "output_type": "stream",
       "stream": "stdout",
       "text": [
        "\r",
        "TAF15_2.polyATrim.adapterTrim.rep.sorted.bam   99% 7154MB  31.4MB/s   00:00 ETA"
       ]
      },
      {
       "output_type": "stream",
       "stream": "stdout",
       "text": [
        "\r",
        "TAF15_2.polyATrim.adapterTrim.rep.sorted.bam  100% 7173MB  29.8MB/s   04:01    \r\n"
       ]
      },
      {
       "output_type": "stream",
       "stream": "stdout",
       "text": [
        "\r",
        "TAF15_2.polyATrim.adapterTrim.rep.sorted.rmDu   0%    0     0.0KB/s   --:-- ETA\r",
        "TAF15_2.polyATrim.adapterTrim.rep.sorted.rmDu 100%  561KB 561.2KB/s   00:00    \r\n"
       ]
      },
      {
       "output_type": "stream",
       "stream": "stdout",
       "text": [
        "\r",
        "TAF15_2.polyATrim.adapterTrim.rmRep.bam         0%    0     0.0KB/s   --:-- ETA"
       ]
      },
      {
       "output_type": "stream",
       "stream": "stdout",
       "text": [
        "\r",
        "TAF15_2.polyATrim.adapterTrim.rmRep.bam         0%   38MB  38.4MB/s   02:15 ETA"
       ]
      },
      {
       "output_type": "stream",
       "stream": "stdout",
       "text": [
        "\r",
        "TAF15_2.polyATrim.adapterTrim.rmRep.bam         1%   80MB  38.7MB/s   02:12 ETA"
       ]
      },
      {
       "output_type": "stream",
       "stream": "stdout",
       "text": [
        "\r",
        "TAF15_2.polyATrim.adapterTrim.rmRep.bam         2%  121MB  38.9MB/s   02:11 ETA"
       ]
      },
      {
       "output_type": "stream",
       "stream": "stdout",
       "text": [
        "\r",
        "TAF15_2.polyATrim.adapterTrim.rmRep.bam         3%  162MB  39.2MB/s   02:09 ETA"
       ]
      },
      {
       "output_type": "stream",
       "stream": "stdout",
       "text": [
        "\r",
        "TAF15_2.polyATrim.adapterTrim.rmRep.bam         3%  204MB  39.4MB/s   02:07 ETA"
       ]
      },
      {
       "output_type": "stream",
       "stream": "stdout",
       "text": [
        "\r",
        "TAF15_2.polyATrim.adapterTrim.rmRep.bam         4%  245MB  39.6MB/s   02:05 ETA"
       ]
      },
      {
       "output_type": "stream",
       "stream": "stdout",
       "text": [
        "\r",
        "TAF15_2.polyATrim.adapterTrim.rmRep.bam         5%  287MB  39.8MB/s   02:04 ETA"
       ]
      },
      {
       "output_type": "stream",
       "stream": "stdout",
       "text": [
        "\r",
        "TAF15_2.polyATrim.adapterTrim.rmRep.bam         6%  328MB  39.9MB/s   02:02 ETA"
       ]
      },
      {
       "output_type": "stream",
       "stream": "stdout",
       "text": [
        "\r",
        "TAF15_2.polyATrim.adapterTrim.rmRep.bam         7%  369MB  40.1MB/s   02:01 ETA"
       ]
      },
      {
       "output_type": "stream",
       "stream": "stdout",
       "text": [
        "\r",
        "TAF15_2.polyATrim.adapterTrim.rmRep.bam         7%  411MB  40.2MB/s   01:59 ETA"
       ]
      },
      {
       "output_type": "stream",
       "stream": "stdout",
       "text": [
        "\r",
        "TAF15_2.polyATrim.adapterTrim.rmRep.bam         8%  452MB  40.3MB/s   01:58 ETA"
       ]
      },
      {
       "output_type": "stream",
       "stream": "stdout",
       "text": [
        "\r",
        "TAF15_2.polyATrim.adapterTrim.rmRep.bam         9%  492MB  40.3MB/s   01:57 ETA"
       ]
      },
      {
       "output_type": "stream",
       "stream": "stdout",
       "text": [
        "\r",
        "TAF15_2.polyATrim.adapterTrim.rmRep.bam        10%  533MB  40.4MB/s   01:56 ETA"
       ]
      },
      {
       "output_type": "stream",
       "stream": "stdout",
       "text": [
        "\r",
        "TAF15_2.polyATrim.adapterTrim.rmRep.bam        11%  574MB  40.5MB/s   01:54 ETA"
       ]
      },
      {
       "output_type": "stream",
       "stream": "stdout",
       "text": [
        "\r",
        "TAF15_2.polyATrim.adapterTrim.rmRep.bam        11%  616MB  40.6MB/s   01:53 ETA"
       ]
      },
      {
       "output_type": "stream",
       "stream": "stdout",
       "text": [
        "\r",
        "TAF15_2.polyATrim.adapterTrim.rmRep.bam        12%  657MB  40.6MB/s   01:52 ETA"
       ]
      },
      {
       "output_type": "stream",
       "stream": "stdout",
       "text": [
        "\r",
        "TAF15_2.polyATrim.adapterTrim.rmRep.bam        13%  698MB  40.7MB/s   01:51 ETA"
       ]
      },
      {
       "output_type": "stream",
       "stream": "stdout",
       "text": [
        "\r",
        "TAF15_2.polyATrim.adapterTrim.rmRep.bam        14%  740MB  40.8MB/s   01:49 ETA"
       ]
      },
      {
       "output_type": "stream",
       "stream": "stdout",
       "text": [
        "\r",
        "TAF15_2.polyATrim.adapterTrim.rmRep.bam        14%  781MB  40.8MB/s   01:48 ETA"
       ]
      },
      {
       "output_type": "stream",
       "stream": "stdout",
       "text": [
        "\r",
        "TAF15_2.polyATrim.adapterTrim.rmRep.bam        15%  822MB  40.9MB/s   01:47 ETA"
       ]
      },
      {
       "output_type": "stream",
       "stream": "stdout",
       "text": [
        "\r",
        "TAF15_2.polyATrim.adapterTrim.rmRep.bam        16%  863MB  40.9MB/s   01:46 ETA"
       ]
      },
      {
       "output_type": "stream",
       "stream": "stdout",
       "text": [
        "\r",
        "TAF15_2.polyATrim.adapterTrim.rmRep.bam        17%  905MB  40.9MB/s   01:45 ETA"
       ]
      },
      {
       "output_type": "stream",
       "stream": "stdout",
       "text": [
        "\r",
        "TAF15_2.polyATrim.adapterTrim.rmRep.bam        18%  947MB  41.0MB/s   01:44 ETA"
       ]
      },
      {
       "output_type": "stream",
       "stream": "stdout",
       "text": [
        "\r",
        "TAF15_2.polyATrim.adapterTrim.rmRep.bam        18%  982MB  40.4MB/s   01:44 ETA"
       ]
      },
      {
       "output_type": "stream",
       "stream": "stdout",
       "text": [
        "\r",
        "TAF15_2.polyATrim.adapterTrim.rmRep.bam        19% 1023MB  40.5MB/s   01:43 ETA"
       ]
      },
      {
       "output_type": "stream",
       "stream": "stdout",
       "text": [
        "\r",
        "TAF15_2.polyATrim.adapterTrim.rmRep.bam        20% 1064MB  40.6MB/s   01:42 ETA"
       ]
      },
      {
       "output_type": "stream",
       "stream": "stdout",
       "text": [
        "\r",
        "TAF15_2.polyATrim.adapterTrim.rmRep.bam        21% 1106MB  40.7MB/s   01:41 ETA"
       ]
      },
      {
       "output_type": "stream",
       "stream": "stdout",
       "text": [
        "\r",
        "TAF15_2.polyATrim.adapterTrim.rmRep.bam        21% 1146MB  40.6MB/s   01:40 ETA"
       ]
      },
      {
       "output_type": "stream",
       "stream": "stdout",
       "text": [
        "\r",
        "TAF15_2.polyATrim.adapterTrim.rmRep.bam        22% 1186MB  40.5MB/s   01:39 ETA"
       ]
      },
      {
       "output_type": "stream",
       "stream": "stdout",
       "text": [
        "\r",
        "TAF15_2.polyATrim.adapterTrim.rmRep.bam        23% 1225MB  40.4MB/s   01:38 ETA"
       ]
      },
      {
       "output_type": "stream",
       "stream": "stdout",
       "text": [
        "\r",
        "TAF15_2.polyATrim.adapterTrim.rmRep.bam        24% 1265MB  40.4MB/s   01:38 ETA"
       ]
      },
      {
       "output_type": "stream",
       "stream": "stdout",
       "text": [
        "\r",
        "TAF15_2.polyATrim.adapterTrim.rmRep.bam        24% 1305MB  40.3MB/s   01:37 ETA"
       ]
      },
      {
       "output_type": "stream",
       "stream": "stdout",
       "text": [
        "\r",
        "TAF15_2.polyATrim.adapterTrim.rmRep.bam        25% 1347MB  40.5MB/s   01:35 ETA"
       ]
      },
      {
       "output_type": "stream",
       "stream": "stdout",
       "text": [
        "\r",
        "TAF15_2.polyATrim.adapterTrim.rmRep.bam        26% 1370MB  38.8MB/s   01:39 ETA"
       ]
      },
      {
       "output_type": "stream",
       "stream": "stdout",
       "text": [
        "\r",
        "TAF15_2.polyATrim.adapterTrim.rmRep.bam        26% 1370MB  34.9MB/s   01:50 ETA"
       ]
      },
      {
       "output_type": "stream",
       "stream": "stdout",
       "text": [
        "\r",
        "TAF15_2.polyATrim.adapterTrim.rmRep.bam        26% 1370MB  31.4MB/s   02:02 ETA"
       ]
      },
      {
       "output_type": "stream",
       "stream": "stdout",
       "text": [
        "\r",
        "TAF15_2.polyATrim.adapterTrim.rmRep.bam        26% 1371MB  28.4MB/s   02:15 ETA"
       ]
      },
      {
       "output_type": "stream",
       "stream": "stdout",
       "text": [
        "\r",
        "TAF15_2.polyATrim.adapterTrim.rmRep.bam        26% 1371MB  25.5MB/s   02:30 ETA"
       ]
      },
      {
       "output_type": "stream",
       "stream": "stdout",
       "text": [
        "\r",
        "TAF15_2.polyATrim.adapterTrim.rmRep.bam        26% 1373MB  23.2MB/s   02:45 ETA"
       ]
      },
      {
       "output_type": "stream",
       "stream": "stdout",
       "text": [
        "\r",
        "TAF15_2.polyATrim.adapterTrim.rmRep.bam        26% 1373MB  20.9MB/s   03:04 ETA"
       ]
      },
      {
       "output_type": "stream",
       "stream": "stdout",
       "text": [
        "\r",
        "TAF15_2.polyATrim.adapterTrim.rmRep.bam        26% 1373MB  18.8MB/s   03:24 ETA"
       ]
      },
      {
       "output_type": "stream",
       "stream": "stdout",
       "text": [
        "\r",
        "TAF15_2.polyATrim.adapterTrim.rmRep.bam        26% 1373MB  16.9MB/s   03:47 ETA"
       ]
      },
      {
       "output_type": "stream",
       "stream": "stdout",
       "text": [
        "\r",
        "TAF15_2.polyATrim.adapterTrim.rmRep.bam        26% 1373MB  15.2MB/s   04:12 ETA"
       ]
      },
      {
       "output_type": "stream",
       "stream": "stdout",
       "text": [
        "\r",
        "TAF15_2.polyATrim.adapterTrim.rmRep.bam        26% 1375MB  13.9MB/s   04:36 ETA"
       ]
      },
      {
       "output_type": "stream",
       "stream": "stdout",
       "text": [
        "\r",
        "TAF15_2.polyATrim.adapterTrim.rmRep.bam        26% 1375MB  12.5MB/s   05:07 ETA"
       ]
      },
      {
       "output_type": "stream",
       "stream": "stdout",
       "text": [
        "\r",
        "TAF15_2.polyATrim.adapterTrim.rmRep.bam        26% 1375MB  11.3MB/s   05:41 ETA"
       ]
      },
      {
       "output_type": "stream",
       "stream": "stdout",
       "text": [
        "\r",
        "TAF15_2.polyATrim.adapterTrim.rmRep.bam        26% 1403MB  12.9MB/s   04:56 ETA"
       ]
      },
      {
       "output_type": "stream",
       "stream": "stdout",
       "text": [
        "\r",
        "TAF15_2.polyATrim.adapterTrim.rmRep.bam        27% 1435MB  14.8MB/s   04:15 ETA"
       ]
      },
      {
       "output_type": "stream",
       "stream": "stdout",
       "text": [
        "\r",
        "TAF15_2.polyATrim.adapterTrim.rmRep.bam        27% 1457MB  15.5MB/s   04:02 ETA"
       ]
      },
      {
       "output_type": "stream",
       "stream": "stdout",
       "text": [
        "\r",
        "TAF15_2.polyATrim.adapterTrim.rmRep.bam        28% 1483MB  16.6MB/s   03:44 ETA"
       ]
      },
      {
       "output_type": "stream",
       "stream": "stdout",
       "text": [
        "\r",
        "TAF15_2.polyATrim.adapterTrim.rmRep.bam        29% 1524MB  19.0MB/s   03:14 ETA"
       ]
      },
      {
       "output_type": "stream",
       "stream": "stdout",
       "text": [
        "\r",
        "TAF15_2.polyATrim.adapterTrim.rmRep.bam        29% 1564MB  21.1MB/s   02:52 ETA"
       ]
      },
      {
       "output_type": "stream",
       "stream": "stdout",
       "text": [
        "\r",
        "TAF15_2.polyATrim.adapterTrim.rmRep.bam        30% 1603MB  22.9MB/s   02:38 ETA"
       ]
      },
      {
       "output_type": "stream",
       "stream": "stdout",
       "text": [
        "\r",
        "TAF15_2.polyATrim.adapterTrim.rmRep.bam        31% 1624MB  22.7MB/s   02:38 ETA"
       ]
      },
      {
       "output_type": "stream",
       "stream": "stdout",
       "text": [
        "\r",
        "TAF15_2.polyATrim.adapterTrim.rmRep.bam        31% 1624MB  20.5MB/s   02:55 ETA"
       ]
      },
      {
       "output_type": "stream",
       "stream": "stdout",
       "text": [
        "\r",
        "TAF15_2.polyATrim.adapterTrim.rmRep.bam        31% 1661MB  22.1MB/s   02:41 ETA"
       ]
      },
      {
       "output_type": "stream",
       "stream": "stdout",
       "text": [
        "\r",
        "TAF15_2.polyATrim.adapterTrim.rmRep.bam        32% 1701MB  23.9MB/s   02:27 ETA"
       ]
      },
      {
       "output_type": "stream",
       "stream": "stdout",
       "text": [
        "\r",
        "TAF15_2.polyATrim.adapterTrim.rmRep.bam        33% 1734MB  24.8MB/s   02:20 ETA"
       ]
      },
      {
       "output_type": "stream",
       "stream": "stdout",
       "text": [
        "\r",
        "TAF15_2.polyATrim.adapterTrim.rmRep.bam        33% 1756MB  24.6MB/s   02:21 ETA"
       ]
      },
      {
       "output_type": "stream",
       "stream": "stdout",
       "text": [
        "\r",
        "TAF15_2.polyATrim.adapterTrim.rmRep.bam        33% 1767MB  23.1MB/s   02:29 ETA"
       ]
      },
      {
       "output_type": "stream",
       "stream": "stdout",
       "text": [
        "\r",
        "TAF15_2.polyATrim.adapterTrim.rmRep.bam        34% 1805MB  24.7MB/s   02:18 ETA"
       ]
      },
      {
       "output_type": "stream",
       "stream": "stdout",
       "text": [
        "\r",
        "TAF15_2.polyATrim.adapterTrim.rmRep.bam        35% 1844MB  26.1MB/s   02:09 ETA"
       ]
      },
      {
       "output_type": "stream",
       "stream": "stdout",
       "text": [
        "\r",
        "TAF15_2.polyATrim.adapterTrim.rmRep.bam        36% 1883MB  27.4MB/s   02:01 ETA"
       ]
      },
      {
       "output_type": "stream",
       "stream": "stdout",
       "text": [
        "\r",
        "TAF15_2.polyATrim.adapterTrim.rmRep.bam        36% 1904MB  26.8MB/s   02:03 ETA"
       ]
      },
      {
       "output_type": "stream",
       "stream": "stdout",
       "text": [
        "\r",
        "TAF15_2.polyATrim.adapterTrim.rmRep.bam        36% 1909MB  24.6MB/s   02:14 ETA"
       ]
      },
      {
       "output_type": "stream",
       "stream": "stdout",
       "text": [
        "\r",
        "TAF15_2.polyATrim.adapterTrim.rmRep.bam        37% 1942MB  25.4MB/s   02:09 ETA"
       ]
      },
      {
       "output_type": "stream",
       "stream": "stdout",
       "text": [
        "\r",
        "TAF15_2.polyATrim.adapterTrim.rmRep.bam        37% 1981MB  26.7MB/s   02:01 ETA"
       ]
      },
      {
       "output_type": "stream",
       "stream": "stdout",
       "text": [
        "\r",
        "TAF15_2.polyATrim.adapterTrim.rmRep.bam        38% 2013MB  27.3MB/s   01:57 ETA"
       ]
      },
      {
       "output_type": "stream",
       "stream": "stdout",
       "text": [
        "\r",
        "TAF15_2.polyATrim.adapterTrim.rmRep.bam        38% 2034MB  26.7MB/s   01:59 ETA"
       ]
      },
      {
       "output_type": "stream",
       "stream": "stdout",
       "text": [
        "\r",
        "TAF15_2.polyATrim.adapterTrim.rmRep.bam        39% 2046MB  25.2MB/s   02:06 ETA"
       ]
      },
      {
       "output_type": "stream",
       "stream": "stdout",
       "text": [
        "\r",
        "TAF15_2.polyATrim.adapterTrim.rmRep.bam        39% 2084MB  26.5MB/s   01:58 ETA"
       ]
      },
      {
       "output_type": "stream",
       "stream": "stdout",
       "text": [
        "\r",
        "TAF15_2.polyATrim.adapterTrim.rmRep.bam        40% 2116MB  27.1MB/s   01:54 ETA"
       ]
      },
      {
       "output_type": "stream",
       "stream": "stdout",
       "text": [
        "\r",
        "TAF15_2.polyATrim.adapterTrim.rmRep.bam        41% 2149MB  27.6MB/s   01:51 ETA"
       ]
      },
      {
       "output_type": "stream",
       "stream": "stdout",
       "text": [
        "\r",
        "TAF15_2.polyATrim.adapterTrim.rmRep.bam        41% 2170MB  26.9MB/s   01:53 ETA"
       ]
      },
      {
       "output_type": "stream",
       "stream": "stdout",
       "text": [
        "\r",
        "TAF15_2.polyATrim.adapterTrim.rmRep.bam        41% 2179MB  25.2MB/s   02:00 ETA"
       ]
      },
      {
       "output_type": "stream",
       "stream": "stdout",
       "text": [
        "\r",
        "TAF15_2.polyATrim.adapterTrim.rmRep.bam        42% 2218MB  26.5MB/s   01:53 ETA"
       ]
      },
      {
       "output_type": "stream",
       "stream": "stdout",
       "text": [
        "\r",
        "TAF15_2.polyATrim.adapterTrim.rmRep.bam        43% 2257MB  27.8MB/s   01:46 ETA"
       ]
      },
      {
       "output_type": "stream",
       "stream": "stdout",
       "text": [
        "\r",
        "TAF15_2.polyATrim.adapterTrim.rmRep.bam        43% 2295MB  28.8MB/s   01:41 ETA"
       ]
      },
      {
       "output_type": "stream",
       "stream": "stdout",
       "text": [
        "\r",
        "TAF15_2.polyATrim.adapterTrim.rmRep.bam        44% 2316MB  28.0MB/s   01:43 ETA"
       ]
      },
      {
       "output_type": "stream",
       "stream": "stdout",
       "text": [
        "\r",
        "TAF15_2.polyATrim.adapterTrim.rmRep.bam        44% 2322MB  25.8MB/s   01:52 ETA"
       ]
      },
      {
       "output_type": "stream",
       "stream": "stdout",
       "text": [
        "\r",
        "TAF15_2.polyATrim.adapterTrim.rmRep.bam        45% 2360MB  27.1MB/s   01:45 ETA"
       ]
      },
      {
       "output_type": "stream",
       "stream": "stdout",
       "text": [
        "\r",
        "TAF15_2.polyATrim.adapterTrim.rmRep.bam        45% 2399MB  28.3MB/s   01:39 ETA"
       ]
      },
      {
       "output_type": "stream",
       "stream": "stdout",
       "text": [
        "\r",
        "TAF15_2.polyATrim.adapterTrim.rmRep.bam        46% 2438MB  29.4MB/s   01:34 ETA"
       ]
      },
      {
       "output_type": "stream",
       "stream": "stdout",
       "text": [
        "\r",
        "TAF15_2.polyATrim.adapterTrim.rmRep.bam        47% 2459MB  28.5MB/s   01:37 ETA"
       ]
      },
      {
       "output_type": "stream",
       "stream": "stdout",
       "text": [
        "\r",
        "TAF15_2.polyATrim.adapterTrim.rmRep.bam        47% 2467MB  26.5MB/s   01:44 ETA"
       ]
      },
      {
       "output_type": "stream",
       "stream": "stdout",
       "text": [
        "\r",
        "TAF15_2.polyATrim.adapterTrim.rmRep.bam        48% 2507MB  27.8MB/s   01:37 ETA"
       ]
      },
      {
       "output_type": "stream",
       "stream": "stdout",
       "text": [
        "\r",
        "TAF15_2.polyATrim.adapterTrim.rmRep.bam        48% 2546MB  28.9MB/s   01:32 ETA"
       ]
      },
      {
       "output_type": "stream",
       "stream": "stdout",
       "text": [
        "\r",
        "TAF15_2.polyATrim.adapterTrim.rmRep.bam        49% 2584MB  29.9MB/s   01:28 ETA"
       ]
      },
      {
       "output_type": "stream",
       "stream": "stdout",
       "text": [
        "\r",
        "TAF15_2.polyATrim.adapterTrim.rmRep.bam        49% 2605MB  28.9MB/s   01:30 ETA"
       ]
      },
      {
       "output_type": "stream",
       "stream": "stdout",
       "text": [
        "\r",
        "TAF15_2.polyATrim.adapterTrim.rmRep.bam        50% 2611MB  26.7MB/s   01:37 ETA"
       ]
      },
      {
       "output_type": "stream",
       "stream": "stdout",
       "text": [
        "\r",
        "TAF15_2.polyATrim.adapterTrim.rmRep.bam        50% 2644MB  27.3MB/s   01:34 ETA"
       ]
      },
      {
       "output_type": "stream",
       "stream": "stdout",
       "text": [
        "\r",
        "TAF15_2.polyATrim.adapterTrim.rmRep.bam        51% 2677MB  27.8MB/s   01:31 ETA"
       ]
      },
      {
       "output_type": "stream",
       "stream": "stdout",
       "text": [
        "\r",
        "TAF15_2.polyATrim.adapterTrim.rmRep.bam        52% 2716MB  28.9MB/s   01:26 ETA"
       ]
      },
      {
       "output_type": "stream",
       "stream": "stdout",
       "text": [
        "\r",
        "TAF15_2.polyATrim.adapterTrim.rmRep.bam        52% 2736MB  28.0MB/s   01:28 ETA"
       ]
      },
      {
       "output_type": "stream",
       "stream": "stdout",
       "text": [
        "\r",
        "TAF15_2.polyATrim.adapterTrim.rmRep.bam        52% 2748MB  26.4MB/s   01:33 ETA"
       ]
      },
      {
       "output_type": "stream",
       "stream": "stdout",
       "text": [
        "\r",
        "TAF15_2.polyATrim.adapterTrim.rmRep.bam        53% 2786MB  27.7MB/s   01:27 ETA"
       ]
      },
      {
       "output_type": "stream",
       "stream": "stdout",
       "text": [
        "\r",
        "TAF15_2.polyATrim.adapterTrim.rmRep.bam        54% 2825MB  28.8MB/s   01:23 ETA"
       ]
      },
      {
       "output_type": "stream",
       "stream": "stdout",
       "text": [
        "\r",
        "TAF15_2.polyATrim.adapterTrim.rmRep.bam        54% 2864MB  29.8MB/s   01:19 ETA"
       ]
      },
      {
       "output_type": "stream",
       "stream": "stdout",
       "text": [
        "\r",
        "TAF15_2.polyATrim.adapterTrim.rmRep.bam        55% 2884MB  28.8MB/s   01:21 ETA"
       ]
      },
      {
       "output_type": "stream",
       "stream": "stdout",
       "text": [
        "\r",
        "TAF15_2.polyATrim.adapterTrim.rmRep.bam        55% 2890MB  26.5MB/s   01:27 ETA"
       ]
      },
      {
       "output_type": "stream",
       "stream": "stdout",
       "text": [
        "\r",
        "TAF15_2.polyATrim.adapterTrim.rmRep.bam        56% 2929MB  27.7MB/s   01:22 ETA"
       ]
      },
      {
       "output_type": "stream",
       "stream": "stdout",
       "text": [
        "\r",
        "TAF15_2.polyATrim.adapterTrim.rmRep.bam        56% 2967MB  28.8MB/s   01:18 ETA"
       ]
      },
      {
       "output_type": "stream",
       "stream": "stdout",
       "text": [
        "\r",
        "TAF15_2.polyATrim.adapterTrim.rmRep.bam        57% 3006MB  29.8MB/s   01:14 ETA"
       ]
      },
      {
       "output_type": "stream",
       "stream": "stdout",
       "text": [
        "\r",
        "TAF15_2.polyATrim.adapterTrim.rmRep.bam        57% 3025MB  28.8MB/s   01:16 ETA"
       ]
      },
      {
       "output_type": "stream",
       "stream": "stdout",
       "text": [
        "\r",
        "TAF15_2.polyATrim.adapterTrim.rmRep.bam        58% 3034MB  26.8MB/s   01:21 ETA"
       ]
      },
      {
       "output_type": "stream",
       "stream": "stdout",
       "text": [
        "\r",
        "TAF15_2.polyATrim.adapterTrim.rmRep.bam        58% 3072MB  27.9MB/s   01:16 ETA"
       ]
      },
      {
       "output_type": "stream",
       "stream": "stdout",
       "text": [
        "\r",
        "TAF15_2.polyATrim.adapterTrim.rmRep.bam        59% 3111MB  29.0MB/s   01:12 ETA"
       ]
      },
      {
       "output_type": "stream",
       "stream": "stdout",
       "text": [
        "\r",
        "TAF15_2.polyATrim.adapterTrim.rmRep.bam        60% 3149MB  29.9MB/s   01:09 ETA"
       ]
      },
      {
       "output_type": "stream",
       "stream": "stdout",
       "text": [
        "\r",
        "TAF15_2.polyATrim.adapterTrim.rmRep.bam        60% 3169MB  28.9MB/s   01:11 ETA"
       ]
      },
      {
       "output_type": "stream",
       "stream": "stdout",
       "text": [
        "\r",
        "TAF15_2.polyATrim.adapterTrim.rmRep.bam        60% 3177MB  26.8MB/s   01:16 ETA"
       ]
      },
      {
       "output_type": "stream",
       "stream": "stdout",
       "text": [
        "\r",
        "TAF15_2.polyATrim.adapterTrim.rmRep.bam        61% 3216MB  28.0MB/s   01:11 ETA"
       ]
      },
      {
       "output_type": "stream",
       "stream": "stdout",
       "text": [
        "\r",
        "TAF15_2.polyATrim.adapterTrim.rmRep.bam        62% 3248MB  28.4MB/s   01:09 ETA"
       ]
      },
      {
       "output_type": "stream",
       "stream": "stdout",
       "text": [
        "\r",
        "TAF15_2.polyATrim.adapterTrim.rmRep.bam        62% 3287MB  29.5MB/s   01:05 ETA"
       ]
      },
      {
       "output_type": "stream",
       "stream": "stdout",
       "text": [
        "\r",
        "TAF15_2.polyATrim.adapterTrim.rmRep.bam        63% 3306MB  28.5MB/s   01:07 ETA"
       ]
      },
      {
       "output_type": "stream",
       "stream": "stdout",
       "text": [
        "\r",
        "TAF15_2.polyATrim.adapterTrim.rmRep.bam        63% 3317MB  26.7MB/s   01:11 ETA"
       ]
      },
      {
       "output_type": "stream",
       "stream": "stdout",
       "text": [
        "\r",
        "TAF15_2.polyATrim.adapterTrim.rmRep.bam        64% 3355MB  27.9MB/s   01:06 ETA"
       ]
      },
      {
       "output_type": "stream",
       "stream": "stdout",
       "text": [
        "\r",
        "TAF15_2.polyATrim.adapterTrim.rmRep.bam        64% 3394MB  28.9MB/s   01:03 ETA"
       ]
      },
      {
       "output_type": "stream",
       "stream": "stdout",
       "text": [
        "\r",
        "TAF15_2.polyATrim.adapterTrim.rmRep.bam        65% 3432MB  29.9MB/s   00:59 ETA"
       ]
      },
      {
       "output_type": "stream",
       "stream": "stdout",
       "text": [
        "\r",
        "TAF15_2.polyATrim.adapterTrim.rmRep.bam        66% 3452MB  28.9MB/s   01:01 ETA"
       ]
      },
      {
       "output_type": "stream",
       "stream": "stdout",
       "text": [
        "\r",
        "TAF15_2.polyATrim.adapterTrim.rmRep.bam        66% 3460MB  26.8MB/s   01:05 ETA"
       ]
      },
      {
       "output_type": "stream",
       "stream": "stdout",
       "text": [
        "\r",
        "TAF15_2.polyATrim.adapterTrim.rmRep.bam        67% 3499MB  28.0MB/s   01:01 ETA"
       ]
      },
      {
       "output_type": "stream",
       "stream": "stdout",
       "text": [
        "\r",
        "TAF15_2.polyATrim.adapterTrim.rmRep.bam        67% 3538MB  29.1MB/s   00:57 ETA"
       ]
      },
      {
       "output_type": "stream",
       "stream": "stdout",
       "text": [
        "\r",
        "TAF15_2.polyATrim.adapterTrim.rmRep.bam        68% 3576MB  30.0MB/s   00:54 ETA"
       ]
      },
      {
       "output_type": "stream",
       "stream": "stdout",
       "text": [
        "\r",
        "TAF15_2.polyATrim.adapterTrim.rmRep.bam        68% 3595MB  28.9MB/s   00:56 ETA"
       ]
      },
      {
       "output_type": "stream",
       "stream": "stdout",
       "text": [
        "\r",
        "TAF15_2.polyATrim.adapterTrim.rmRep.bam        69% 3604MB  26.9MB/s   01:00 ETA"
       ]
      },
      {
       "output_type": "stream",
       "stream": "stdout",
       "text": [
        "\r",
        "TAF15_2.polyATrim.adapterTrim.rmRep.bam        69% 3636MB  27.5MB/s   00:57 ETA"
       ]
      },
      {
       "output_type": "stream",
       "stream": "stdout",
       "text": [
        "\r",
        "TAF15_2.polyATrim.adapterTrim.rmRep.bam        70% 3675MB  28.6MB/s   00:54 ETA"
       ]
      },
      {
       "output_type": "stream",
       "stream": "stdout",
       "text": [
        "\r",
        "TAF15_2.polyATrim.adapterTrim.rmRep.bam        71% 3708MB  29.0MB/s   00:52 ETA"
       ]
      },
      {
       "output_type": "stream",
       "stream": "stdout",
       "text": [
        "\r",
        "TAF15_2.polyATrim.adapterTrim.rmRep.bam        71% 3726MB  28.0MB/s   00:53 ETA"
       ]
      },
      {
       "output_type": "stream",
       "stream": "stdout",
       "text": [
        "\r",
        "TAF15_2.polyATrim.adapterTrim.rmRep.bam        71% 3740MB  26.5MB/s   00:55 ETA"
       ]
      },
      {
       "output_type": "stream",
       "stream": "stdout",
       "text": [
        "\r",
        "TAF15_2.polyATrim.adapterTrim.rmRep.bam        72% 3772MB  27.1MB/s   00:53 ETA"
       ]
      },
      {
       "output_type": "stream",
       "stream": "stdout",
       "text": [
        "\r",
        "TAF15_2.polyATrim.adapterTrim.rmRep.bam        72% 3811MB  28.3MB/s   00:49 ETA"
       ]
      },
      {
       "output_type": "stream",
       "stream": "stdout",
       "text": [
        "\r",
        "TAF15_2.polyATrim.adapterTrim.rmRep.bam        73% 3850MB  29.3MB/s   00:46 ETA"
       ]
      },
      {
       "output_type": "stream",
       "stream": "stdout",
       "text": [
        "\r",
        "TAF15_2.polyATrim.adapterTrim.rmRep.bam        74% 3869MB  28.3MB/s   00:47 ETA"
       ]
      },
      {
       "output_type": "stream",
       "stream": "stdout",
       "text": [
        "\r",
        "TAF15_2.polyATrim.adapterTrim.rmRep.bam        74% 3878MB  26.4MB/s   00:50 ETA"
       ]
      },
      {
       "output_type": "stream",
       "stream": "stdout",
       "text": [
        "\r",
        "TAF15_2.polyATrim.adapterTrim.rmRep.bam        75% 3917MB  27.6MB/s   00:47 ETA"
       ]
      },
      {
       "output_type": "stream",
       "stream": "stdout",
       "text": [
        "\r",
        "TAF15_2.polyATrim.adapterTrim.rmRep.bam        75% 3955MB  28.7MB/s   00:44 ETA"
       ]
      },
      {
       "output_type": "stream",
       "stream": "stdout",
       "text": [
        "\r",
        "TAF15_2.polyATrim.adapterTrim.rmRep.bam        76% 3994MB  29.7MB/s   00:41 ETA"
       ]
      },
      {
       "output_type": "stream",
       "stream": "stdout",
       "text": [
        "\r",
        "TAF15_2.polyATrim.adapterTrim.rmRep.bam        76% 4012MB  28.5MB/s   00:42 ETA"
       ]
      },
      {
       "output_type": "stream",
       "stream": "stdout",
       "text": [
        "\r",
        "TAF15_2.polyATrim.adapterTrim.rmRep.bam        77% 4022MB  26.7MB/s   00:45 ETA"
       ]
      },
      {
       "output_type": "stream",
       "stream": "stdout",
       "text": [
        "\r",
        "TAF15_2.polyATrim.adapterTrim.rmRep.bam        77% 4060MB  27.8MB/s   00:41 ETA"
       ]
      },
      {
       "output_type": "stream",
       "stream": "stdout",
       "text": [
        "\r",
        "TAF15_2.polyATrim.adapterTrim.rmRep.bam        78% 4099MB  28.9MB/s   00:38 ETA"
       ]
      },
      {
       "output_type": "stream",
       "stream": "stdout",
       "text": [
        "\r",
        "TAF15_2.polyATrim.adapterTrim.rmRep.bam        79% 4137MB  29.9MB/s   00:36 ETA"
       ]
      },
      {
       "output_type": "stream",
       "stream": "stdout",
       "text": [
        "\r",
        "TAF15_2.polyATrim.adapterTrim.rmRep.bam        79% 4176MB  30.7MB/s   00:34 ETA"
       ]
      },
      {
       "output_type": "stream",
       "stream": "stdout",
       "text": [
        "\r",
        "TAF15_2.polyATrim.adapterTrim.rmRep.bam        80% 4208MB  30.9MB/s   00:32 ETA"
       ]
      },
      {
       "output_type": "stream",
       "stream": "stdout",
       "text": [
        "\r",
        "TAF15_2.polyATrim.adapterTrim.rmRep.bam        81% 4247MB  31.7MB/s   00:30 ETA"
       ]
      },
      {
       "output_type": "stream",
       "stream": "stdout",
       "text": [
        "\r",
        "TAF15_2.polyATrim.adapterTrim.rmRep.bam        82% 4286MB  32.4MB/s   00:28 ETA"
       ]
      },
      {
       "output_type": "stream",
       "stream": "stdout",
       "text": [
        "\r",
        "TAF15_2.polyATrim.adapterTrim.rmRep.bam        82% 4325MB  33.1MB/s   00:27 ETA"
       ]
      },
      {
       "output_type": "stream",
       "stream": "stdout",
       "text": [
        "\r",
        "TAF15_2.polyATrim.adapterTrim.rmRep.bam        83% 4364MB  33.6MB/s   00:25 ETA"
       ]
      },
      {
       "output_type": "stream",
       "stream": "stdout",
       "text": [
        "\r",
        "TAF15_2.polyATrim.adapterTrim.rmRep.bam        84% 4403MB  34.2MB/s   00:23 ETA"
       ]
      },
      {
       "output_type": "stream",
       "stream": "stdout",
       "text": [
        "\r",
        "TAF15_2.polyATrim.adapterTrim.rmRep.bam        85% 4441MB  34.6MB/s   00:22 ETA"
       ]
      },
      {
       "output_type": "stream",
       "stream": "stdout",
       "text": [
        "\r",
        "TAF15_2.polyATrim.adapterTrim.rmRep.bam        85% 4480MB  35.1MB/s   00:21 ETA"
       ]
      },
      {
       "output_type": "stream",
       "stream": "stdout",
       "text": [
        "\r",
        "TAF15_2.polyATrim.adapterTrim.rmRep.bam        86% 4519MB  35.4MB/s   00:19 ETA"
       ]
      },
      {
       "output_type": "stream",
       "stream": "stdout",
       "text": [
        "\r",
        "TAF15_2.polyATrim.adapterTrim.rmRep.bam        87% 4552MB  35.2MB/s   00:19 ETA"
       ]
      },
      {
       "output_type": "stream",
       "stream": "stdout",
       "text": [
        "\r",
        "TAF15_2.polyATrim.adapterTrim.rmRep.bam        87% 4591MB  35.5MB/s   00:17 ETA"
       ]
      },
      {
       "output_type": "stream",
       "stream": "stdout",
       "text": [
        "\r",
        "TAF15_2.polyATrim.adapterTrim.rmRep.bam        88% 4629MB  35.9MB/s   00:16 ETA"
       ]
      },
      {
       "output_type": "stream",
       "stream": "stdout",
       "text": [
        "\r",
        "TAF15_2.polyATrim.adapterTrim.rmRep.bam        89% 4668MB  36.2MB/s   00:15 ETA"
       ]
      },
      {
       "output_type": "stream",
       "stream": "stdout",
       "text": [
        "\r",
        "TAF15_2.polyATrim.adapterTrim.rmRep.bam        90% 4707MB  36.4MB/s   00:14 ETA"
       ]
      },
      {
       "output_type": "stream",
       "stream": "stdout",
       "text": [
        "\r",
        "TAF15_2.polyATrim.adapterTrim.rmRep.bam        90% 4746MB  36.7MB/s   00:12 ETA"
       ]
      },
      {
       "output_type": "stream",
       "stream": "stdout",
       "text": [
        "\r",
        "TAF15_2.polyATrim.adapterTrim.rmRep.bam        91% 4785MB  36.9MB/s   00:11 ETA"
       ]
      },
      {
       "output_type": "stream",
       "stream": "stdout",
       "text": [
        "\r",
        "TAF15_2.polyATrim.adapterTrim.rmRep.bam        92% 4824MB  37.1MB/s   00:10 ETA"
       ]
      },
      {
       "output_type": "stream",
       "stream": "stdout",
       "text": [
        "\r",
        "TAF15_2.polyATrim.adapterTrim.rmRep.bam        93% 4863MB  37.3MB/s   00:09 ETA"
       ]
      },
      {
       "output_type": "stream",
       "stream": "stdout",
       "text": [
        "\r",
        "TAF15_2.polyATrim.adapterTrim.rmRep.bam        93% 4901MB  37.4MB/s   00:08 ETA"
       ]
      },
      {
       "output_type": "stream",
       "stream": "stdout",
       "text": [
        "\r",
        "TAF15_2.polyATrim.adapterTrim.rmRep.bam        94% 4940MB  37.6MB/s   00:07 ETA"
       ]
      },
      {
       "output_type": "stream",
       "stream": "stdout",
       "text": [
        "\r",
        "TAF15_2.polyATrim.adapterTrim.rmRep.bam        95% 4979MB  37.7MB/s   00:06 ETA"
       ]
      },
      {
       "output_type": "stream",
       "stream": "stdout",
       "text": [
        "\r",
        "TAF15_2.polyATrim.adapterTrim.rmRep.bam        96% 5018MB  37.8MB/s   00:05 ETA"
       ]
      },
      {
       "output_type": "stream",
       "stream": "stdout",
       "text": [
        "\r",
        "TAF15_2.polyATrim.adapterTrim.rmRep.bam        96% 5057MB  37.9MB/s   00:04 ETA"
       ]
      },
      {
       "output_type": "stream",
       "stream": "stdout",
       "text": [
        "\r",
        "TAF15_2.polyATrim.adapterTrim.rmRep.bam        97% 5096MB  38.0MB/s   00:03 ETA"
       ]
      },
      {
       "output_type": "stream",
       "stream": "stdout",
       "text": [
        "\r",
        "TAF15_2.polyATrim.adapterTrim.rmRep.bam        98% 5135MB  38.1MB/s   00:02 ETA"
       ]
      },
      {
       "output_type": "stream",
       "stream": "stdout",
       "text": [
        "\r",
        "TAF15_2.polyATrim.adapterTrim.rmRep.bam        99% 5173MB  38.2MB/s   00:01 ETA"
       ]
      },
      {
       "output_type": "stream",
       "stream": "stdout",
       "text": [
        "\r",
        "TAF15_2.polyATrim.adapterTrim.rmRep.bam        99% 5212MB  38.2MB/s   00:00 ETA"
       ]
      },
      {
       "output_type": "stream",
       "stream": "stdout",
       "text": [
        "\r",
        "TAF15_2.polyATrim.adapterTrim.rmRep.bam       100% 5222MB  30.5MB/s   02:51    \r\n"
       ]
      },
      {
       "output_type": "stream",
       "stream": "stdout",
       "text": [
        "\r",
        "TAF15_2.polyATrim.adapterTrim.rmRep.rmDup.bam   0%    0     0.0KB/s   --:-- ETA"
       ]
      },
      {
       "output_type": "stream",
       "stream": "stdout",
       "text": [
        "\r",
        "TAF15_2.polyATrim.adapterTrim.rmRep.rmDup.bam  79%   36MB  36.4MB/s   00:00 ETA"
       ]
      },
      {
       "output_type": "stream",
       "stream": "stdout",
       "text": [
        "\r",
        "TAF15_2.polyATrim.adapterTrim.rmRep.rmDup.bam 100%   46MB  22.8MB/s   00:02    \r\n"
       ]
      },
      {
       "output_type": "stream",
       "stream": "stdout",
       "text": [
        "\r",
        "TAF15_2.polyATrim.adapterTrim.rmRep.rmDup.sor   0%    0     0.0KB/s   --:-- ETA"
       ]
      },
      {
       "output_type": "stream",
       "stream": "stdout",
       "text": [
        "\r",
        "TAF15_2.polyATrim.adapterTrim.rmRep.rmDup.sor  78%   37MB  36.6MB/s   00:00 ETA"
       ]
      },
      {
       "output_type": "stream",
       "stream": "stdout",
       "text": [
        "\r",
        "TAF15_2.polyATrim.adapterTrim.rmRep.rmDup.sor 100%   47MB  46.7MB/s   00:01    \r\n"
       ]
      },
      {
       "output_type": "stream",
       "stream": "stdout",
       "text": [
        "\r",
        "TAF15_2.polyATrim.adapterTrim.rmRep.sorted.ba   0%    0     0.0KB/s   --:-- ETA"
       ]
      },
      {
       "output_type": "stream",
       "stream": "stdout",
       "text": [
        "\r",
        "TAF15_2.polyATrim.adapterTrim.rmRep.sorted.ba   0%   37MB  37.2MB/s   01:59 ETA"
       ]
      },
      {
       "output_type": "stream",
       "stream": "stdout",
       "text": [
        "\r",
        "TAF15_2.polyATrim.adapterTrim.rmRep.sorted.ba   1%   77MB  37.5MB/s   01:57 ETA"
       ]
      },
      {
       "output_type": "stream",
       "stream": "stdout",
       "text": [
        "\r",
        "TAF15_2.polyATrim.adapterTrim.rmRep.sorted.ba   2%  116MB  37.6MB/s   01:55 ETA"
       ]
      },
      {
       "output_type": "stream",
       "stream": "stdout",
       "text": [
        "\r",
        "TAF15_2.polyATrim.adapterTrim.rmRep.sorted.ba   3%  154MB  37.6MB/s   01:54 ETA"
       ]
      },
      {
       "output_type": "stream",
       "stream": "stdout",
       "text": [
        "\r",
        "TAF15_2.polyATrim.adapterTrim.rmRep.sorted.ba   4%  193MB  37.8MB/s   01:53 ETA"
       ]
      },
      {
       "output_type": "stream",
       "stream": "stdout",
       "text": [
        "\r",
        "TAF15_2.polyATrim.adapterTrim.rmRep.sorted.ba   5%  233MB  38.0MB/s   01:51 ETA"
       ]
      },
      {
       "output_type": "stream",
       "stream": "stdout",
       "text": [
        "\r",
        "TAF15_2.polyATrim.adapterTrim.rmRep.sorted.ba   6%  272MB  38.2MB/s   01:50 ETA"
       ]
      },
      {
       "output_type": "stream",
       "stream": "stdout",
       "text": [
        "\r",
        "TAF15_2.polyATrim.adapterTrim.rmRep.sorted.ba   6%  312MB  38.3MB/s   01:48 ETA"
       ]
      },
      {
       "output_type": "stream",
       "stream": "stdout",
       "text": [
        "\r",
        "TAF15_2.polyATrim.adapterTrim.rmRep.sorted.ba   7%  352MB  38.5MB/s   01:47 ETA"
       ]
      },
      {
       "output_type": "stream",
       "stream": "stdout",
       "text": [
        "\r",
        "TAF15_2.polyATrim.adapterTrim.rmRep.sorted.ba   8%  391MB  38.6MB/s   01:45 ETA"
       ]
      },
      {
       "output_type": "stream",
       "stream": "stdout",
       "text": [
        "\r",
        "TAF15_2.polyATrim.adapterTrim.rmRep.sorted.ba   9%  431MB  38.7MB/s   01:44 ETA"
       ]
      },
      {
       "output_type": "stream",
       "stream": "stdout",
       "text": [
        "\r",
        "TAF15_2.polyATrim.adapterTrim.rmRep.sorted.ba  10%  464MB  38.2MB/s   01:45 ETA"
       ]
      },
      {
       "output_type": "stream",
       "stream": "stdout",
       "text": [
        "\r",
        "TAF15_2.polyATrim.adapterTrim.rmRep.sorted.ba  11%  497MB  37.6MB/s   01:45 ETA"
       ]
      },
      {
       "output_type": "stream",
       "stream": "stdout",
       "text": [
        "\r",
        "TAF15_2.polyATrim.adapterTrim.rmRep.sorted.ba  11%  537MB  37.8MB/s   01:44 ETA"
       ]
      },
      {
       "output_type": "stream",
       "stream": "stdout",
       "text": [
        "\r",
        "TAF15_2.polyATrim.adapterTrim.rmRep.sorted.ba  12%  573MB  37.6MB/s   01:43 ETA"
       ]
      },
      {
       "output_type": "stream",
       "stream": "stdout",
       "text": [
        "\r",
        "TAF15_2.polyATrim.adapterTrim.rmRep.sorted.ba  13%  609MB  37.5MB/s   01:43 ETA"
       ]
      },
      {
       "output_type": "stream",
       "stream": "stdout",
       "text": [
        "\r",
        "TAF15_2.polyATrim.adapterTrim.rmRep.sorted.ba  14%  649MB  37.8MB/s   01:41 ETA"
       ]
      },
      {
       "output_type": "stream",
       "stream": "stdout",
       "text": [
        "\r",
        "TAF15_2.polyATrim.adapterTrim.rmRep.sorted.ba  15%  682MB  37.3MB/s   01:41 ETA"
       ]
      },
      {
       "output_type": "stream",
       "stream": "stdout",
       "text": [
        "\r",
        "TAF15_2.polyATrim.adapterTrim.rmRep.sorted.ba  16%  722MB  37.6MB/s   01:39 ETA"
       ]
      },
      {
       "output_type": "stream",
       "stream": "stdout",
       "text": [
        "\r",
        "TAF15_2.polyATrim.adapterTrim.rmRep.sorted.ba  17%  762MB  37.8MB/s   01:38 ETA"
       ]
      },
      {
       "output_type": "stream",
       "stream": "stdout",
       "text": [
        "\r",
        "TAF15_2.polyATrim.adapterTrim.rmRep.sorted.ba  17%  802MB  38.0MB/s   01:36 ETA"
       ]
      },
      {
       "output_type": "stream",
       "stream": "stdout",
       "text": [
        "\r",
        "TAF15_2.polyATrim.adapterTrim.rmRep.sorted.ba  18%  836MB  37.6MB/s   01:36 ETA"
       ]
      },
      {
       "output_type": "stream",
       "stream": "stdout",
       "text": [
        "\r",
        "TAF15_2.polyATrim.adapterTrim.rmRep.sorted.ba  19%  877MB  37.9MB/s   01:34 ETA"
       ]
      },
      {
       "output_type": "stream",
       "stream": "stdout",
       "text": [
        "\r",
        "TAF15_2.polyATrim.adapterTrim.rmRep.sorted.ba  20%  916MB  38.1MB/s   01:33 ETA"
       ]
      },
      {
       "output_type": "stream",
       "stream": "stdout",
       "text": [
        "\r",
        "TAF15_2.polyATrim.adapterTrim.rmRep.sorted.ba  21%  956MB  38.3MB/s   01:32 ETA"
       ]
      },
      {
       "output_type": "stream",
       "stream": "stdout",
       "text": [
        "\r",
        "TAF15_2.polyATrim.adapterTrim.rmRep.sorted.ba  22%  995MB  38.4MB/s   01:30 ETA"
       ]
      },
      {
       "output_type": "stream",
       "stream": "stdout",
       "text": [
        "\r",
        "TAF15_2.polyATrim.adapterTrim.rmRep.sorted.ba  23% 1035MB  38.5MB/s   01:29 ETA"
       ]
      },
      {
       "output_type": "stream",
       "stream": "stdout",
       "text": [
        "\r",
        "TAF15_2.polyATrim.adapterTrim.rmRep.sorted.ba  23% 1068MB  38.0MB/s   01:29 ETA"
       ]
      },
      {
       "output_type": "stream",
       "stream": "stdout",
       "text": [
        "\r",
        "TAF15_2.polyATrim.adapterTrim.rmRep.sorted.ba  24% 1109MB  38.2MB/s   01:28 ETA"
       ]
      },
      {
       "output_type": "stream",
       "stream": "stdout",
       "text": [
        "\r",
        "TAF15_2.polyATrim.adapterTrim.rmRep.sorted.ba  25% 1146MB  38.1MB/s   01:27 ETA"
       ]
      },
      {
       "output_type": "stream",
       "stream": "stdout",
       "text": [
        "\r",
        "TAF15_2.polyATrim.adapterTrim.rmRep.sorted.ba  26% 1189MB  38.6MB/s   01:25 ETA"
       ]
      },
      {
       "output_type": "stream",
       "stream": "stdout",
       "text": [
        "\r",
        "TAF15_2.polyATrim.adapterTrim.rmRep.sorted.ba  27% 1230MB  38.9MB/s   01:23 ETA"
       ]
      },
      {
       "output_type": "stream",
       "stream": "stdout",
       "text": [
        "\r",
        "TAF15_2.polyATrim.adapterTrim.rmRep.sorted.ba  27% 1240MB  36.0MB/s   01:29 ETA"
       ]
      },
      {
       "output_type": "stream",
       "stream": "stdout",
       "text": [
        "\r",
        "TAF15_2.polyATrim.adapterTrim.rmRep.sorted.ba  27% 1240MB  32.4MB/s   01:39 ETA"
       ]
      },
      {
       "output_type": "stream",
       "stream": "stdout",
       "text": [
        "\r",
        "TAF15_2.polyATrim.adapterTrim.rmRep.sorted.ba  27% 1240MB  29.2MB/s   01:51 ETA"
       ]
      },
      {
       "output_type": "stream",
       "stream": "stdout",
       "text": [
        "\r",
        "TAF15_2.polyATrim.adapterTrim.rmRep.sorted.ba  27% 1240MB  26.2MB/s   02:03 ETA"
       ]
      },
      {
       "output_type": "stream",
       "stream": "stdout",
       "text": [
        "\r",
        "TAF15_2.polyATrim.adapterTrim.rmRep.sorted.ba  27% 1241MB  23.7MB/s   02:16 ETA"
       ]
      },
      {
       "output_type": "stream",
       "stream": "stdout",
       "text": [
        "\r",
        "TAF15_2.polyATrim.adapterTrim.rmRep.sorted.ba  27% 1241MB  21.3MB/s   02:31 ETA"
       ]
      },
      {
       "output_type": "stream",
       "stream": "stdout",
       "text": [
        "\r",
        "TAF15_2.polyATrim.adapterTrim.rmRep.sorted.ba  27% 1241MB  19.2MB/s   02:48 ETA"
       ]
      },
      {
       "output_type": "stream",
       "stream": "stdout",
       "text": [
        "\r",
        "TAF15_2.polyATrim.adapterTrim.rmRep.sorted.ba  27% 1241MB  17.3MB/s   03:07 ETA"
       ]
      },
      {
       "output_type": "stream",
       "stream": "stdout",
       "text": [
        "\r",
        "TAF15_2.polyATrim.adapterTrim.rmRep.sorted.ba  27% 1241MB  15.5MB/s   03:28 ETA"
       ]
      },
      {
       "output_type": "stream",
       "stream": "stdout",
       "text": [
        "\r",
        "TAF15_2.polyATrim.adapterTrim.rmRep.sorted.ba  27% 1241MB  14.0MB/s - stalled -"
       ]
      },
      {
       "output_type": "stream",
       "stream": "stdout",
       "text": [
        "\r",
        "TAF15_2.polyATrim.adapterTrim.rmRep.sorted.ba  27% 1241MB  12.6MB/s - stalled -"
       ]
      },
      {
       "output_type": "stream",
       "stream": "stdout",
       "text": [
        "\r",
        "TAF15_2.polyATrim.adapterTrim.rmRep.sorted.ba  28% 1263MB  13.6MB/s   03:56 ETA"
       ]
      },
      {
       "output_type": "stream",
       "stream": "stdout",
       "text": [
        "\r",
        "TAF15_2.polyATrim.adapterTrim.rmRep.sorted.ba  28% 1297MB  15.5MB/s   03:24 ETA"
       ]
      },
      {
       "output_type": "stream",
       "stream": "stdout",
       "text": [
        "\r",
        "TAF15_2.polyATrim.adapterTrim.rmRep.sorted.ba  29% 1337MB  18.0MB/s   02:54 ETA"
       ]
      },
      {
       "output_type": "stream",
       "stream": "stdout",
       "text": [
        "\r",
        "TAF15_2.polyATrim.adapterTrim.rmRep.sorted.ba  30% 1378MB  20.3MB/s   02:32 ETA"
       ]
      },
      {
       "output_type": "stream",
       "stream": "stdout",
       "text": [
        "\r",
        "TAF15_2.polyATrim.adapterTrim.rmRep.sorted.ba  31% 1418MB  22.3MB/s   02:17 ETA"
       ]
      },
      {
       "output_type": "stream",
       "stream": "stdout",
       "text": [
        "\r",
        "TAF15_2.polyATrim.adapterTrim.rmRep.sorted.ba  32% 1460MB  24.2MB/s   02:04 ETA"
       ]
      },
      {
       "output_type": "stream",
       "stream": "stdout",
       "text": [
        "\r",
        "TAF15_2.polyATrim.adapterTrim.rmRep.sorted.ba  33% 1501MB  26.0MB/s   01:54 ETA"
       ]
      },
      {
       "output_type": "stream",
       "stream": "stdout",
       "text": [
        "\r",
        "TAF15_2.polyATrim.adapterTrim.rmRep.sorted.ba  34% 1541MB  27.3MB/s   01:47 ETA"
       ]
      },
      {
       "output_type": "stream",
       "stream": "stdout",
       "text": [
        "\r",
        "TAF15_2.polyATrim.adapterTrim.rmRep.sorted.ba  35% 1582MB  28.7MB/s   01:40 ETA"
       ]
      },
      {
       "output_type": "stream",
       "stream": "stdout",
       "text": [
        "\r",
        "TAF15_2.polyATrim.adapterTrim.rmRep.sorted.ba  36% 1622MB  29.9MB/s   01:35 ETA"
       ]
      },
      {
       "output_type": "stream",
       "stream": "stdout",
       "text": [
        "\r",
        "TAF15_2.polyATrim.adapterTrim.rmRep.sorted.ba  37% 1662MB  30.9MB/s   01:31 ETA"
       ]
      },
      {
       "output_type": "stream",
       "stream": "stdout",
       "text": [
        "\r",
        "TAF15_2.polyATrim.adapterTrim.rmRep.sorted.ba  38% 1702MB  31.8MB/s   01:27 ETA"
       ]
      },
      {
       "output_type": "stream",
       "stream": "stdout",
       "text": [
        "\r",
        "TAF15_2.polyATrim.adapterTrim.rmRep.sorted.ba  38% 1743MB  32.6MB/s   01:23 ETA"
       ]
      },
      {
       "output_type": "stream",
       "stream": "stdout",
       "text": [
        "\r",
        "TAF15_2.polyATrim.adapterTrim.rmRep.sorted.ba  39% 1784MB  33.6MB/s   01:20 ETA"
       ]
      },
      {
       "output_type": "stream",
       "stream": "stdout",
       "text": [
        "\r",
        "TAF15_2.polyATrim.adapterTrim.rmRep.sorted.ba  40% 1818MB  33.6MB/s   01:19 ETA"
       ]
      },
      {
       "output_type": "stream",
       "stream": "stdout",
       "text": [
        "\r",
        "TAF15_2.polyATrim.adapterTrim.rmRep.sorted.ba  41% 1858MB  34.2MB/s   01:16 ETA"
       ]
      },
      {
       "output_type": "stream",
       "stream": "stdout",
       "text": [
        "\r",
        "TAF15_2.polyATrim.adapterTrim.rmRep.sorted.ba  42% 1899MB  34.9MB/s   01:13 ETA"
       ]
      },
      {
       "output_type": "stream",
       "stream": "stdout",
       "text": [
        "\r",
        "TAF15_2.polyATrim.adapterTrim.rmRep.sorted.ba  43% 1941MB  35.6MB/s   01:11 ETA"
       ]
      },
      {
       "output_type": "stream",
       "stream": "stdout",
       "text": [
        "\r",
        "TAF15_2.polyATrim.adapterTrim.rmRep.sorted.ba  44% 1983MB  36.3MB/s   01:08 ETA"
       ]
      },
      {
       "output_type": "stream",
       "stream": "stdout",
       "text": [
        "\r",
        "TAF15_2.polyATrim.adapterTrim.rmRep.sorted.ba  45% 2025MB  36.9MB/s   01:06 ETA"
       ]
      },
      {
       "output_type": "stream",
       "stream": "stdout",
       "text": [
        "\r",
        "TAF15_2.polyATrim.adapterTrim.rmRep.sorted.ba  46% 2067MB  37.4MB/s   01:04 ETA"
       ]
      },
      {
       "output_type": "stream",
       "stream": "stdout",
       "text": [
        "\r",
        "TAF15_2.polyATrim.adapterTrim.rmRep.sorted.ba  47% 2107MB  37.6MB/s   01:03 ETA"
       ]
      },
      {
       "output_type": "stream",
       "stream": "stdout",
       "text": [
        "\r",
        "TAF15_2.polyATrim.adapterTrim.rmRep.sorted.ba  48% 2149MB  38.0MB/s   01:01 ETA"
       ]
      },
      {
       "output_type": "stream",
       "stream": "stdout",
       "text": [
        "\r",
        "TAF15_2.polyATrim.adapterTrim.rmRep.sorted.ba  48% 2191MB  38.4MB/s   00:59 ETA"
       ]
      },
      {
       "output_type": "stream",
       "stream": "stdout",
       "text": [
        "\r",
        "TAF15_2.polyATrim.adapterTrim.rmRep.sorted.ba  49% 2200MB  35.4MB/s   01:04 ETA"
       ]
      },
      {
       "output_type": "stream",
       "stream": "stdout",
       "text": [
        "\r",
        "TAF15_2.polyATrim.adapterTrim.rmRep.sorted.ba  49% 2200MB  31.9MB/s   01:11 ETA"
       ]
      },
      {
       "output_type": "stream",
       "stream": "stdout",
       "text": [
        "\r",
        "TAF15_2.polyATrim.adapterTrim.rmRep.sorted.ba  49% 2200MB  28.7MB/s   01:19 ETA"
       ]
      },
      {
       "output_type": "stream",
       "stream": "stdout",
       "text": [
        "\r",
        "TAF15_2.polyATrim.adapterTrim.rmRep.sorted.ba  49% 2200MB  25.8MB/s   01:28 ETA"
       ]
      },
      {
       "output_type": "stream",
       "stream": "stdout",
       "text": [
        "\r",
        "TAF15_2.polyATrim.adapterTrim.rmRep.sorted.ba  49% 2200MB  23.3MB/s   01:37 ETA"
       ]
      },
      {
       "output_type": "stream",
       "stream": "stdout",
       "text": [
        "\r",
        "TAF15_2.polyATrim.adapterTrim.rmRep.sorted.ba  49% 2202MB  21.1MB/s   01:47 ETA"
       ]
      },
      {
       "output_type": "stream",
       "stream": "stdout",
       "text": [
        "\r",
        "TAF15_2.polyATrim.adapterTrim.rmRep.sorted.ba  49% 2202MB  19.0MB/s   01:59 ETA"
       ]
      },
      {
       "output_type": "stream",
       "stream": "stdout",
       "text": [
        "\r",
        "TAF15_2.polyATrim.adapterTrim.rmRep.sorted.ba  49% 2202MB  17.1MB/s   02:12 ETA"
       ]
      },
      {
       "output_type": "stream",
       "stream": "stdout",
       "text": [
        "\r",
        "TAF15_2.polyATrim.adapterTrim.rmRep.sorted.ba  49% 2202MB  15.4MB/s   02:27 ETA"
       ]
      },
      {
       "output_type": "stream",
       "stream": "stdout",
       "text": [
        "\r",
        "TAF15_2.polyATrim.adapterTrim.rmRep.sorted.ba  49% 2231MB  16.8MB/s   02:13 ETA"
       ]
      },
      {
       "output_type": "stream",
       "stream": "stdout",
       "text": [
        "\r",
        "TAF15_2.polyATrim.adapterTrim.rmRep.sorted.ba  50% 2269MB  19.0MB/s   01:56 ETA"
       ]
      },
      {
       "output_type": "stream",
       "stream": "stdout",
       "text": [
        "\r",
        "TAF15_2.polyATrim.adapterTrim.rmRep.sorted.ba  51% 2310MB  21.1MB/s   01:42 ETA"
       ]
      },
      {
       "output_type": "stream",
       "stream": "stdout",
       "text": [
        "\r",
        "TAF15_2.polyATrim.adapterTrim.rmRep.sorted.ba  52% 2352MB  23.2MB/s   01:31 ETA"
       ]
      },
      {
       "output_type": "stream",
       "stream": "stdout",
       "text": [
        "\r",
        "TAF15_2.polyATrim.adapterTrim.rmRep.sorted.ba  53% 2393MB  25.0MB/s   01:23 ETA"
       ]
      },
      {
       "output_type": "stream",
       "stream": "stdout",
       "text": [
        "\r",
        "TAF15_2.polyATrim.adapterTrim.rmRep.sorted.ba  54% 2435MB  26.7MB/s   01:16 ETA"
       ]
      },
      {
       "output_type": "stream",
       "stream": "stdout",
       "text": [
        "\r",
        "TAF15_2.polyATrim.adapterTrim.rmRep.sorted.ba  55% 2477MB  28.2MB/s   01:10 ETA"
       ]
      },
      {
       "output_type": "stream",
       "stream": "stdout",
       "text": [
        "\r",
        "TAF15_2.polyATrim.adapterTrim.rmRep.sorted.ba  56% 2518MB  29.5MB/s   01:06 ETA"
       ]
      },
      {
       "output_type": "stream",
       "stream": "stdout",
       "text": [
        "\r",
        "TAF15_2.polyATrim.adapterTrim.rmRep.sorted.ba  57% 2560MB  30.7MB/s   01:02 ETA"
       ]
      },
      {
       "output_type": "stream",
       "stream": "stdout",
       "text": [
        "\r",
        "TAF15_2.polyATrim.adapterTrim.rmRep.sorted.ba  58% 2602MB  31.8MB/s   00:58 ETA"
       ]
      },
      {
       "output_type": "stream",
       "stream": "stdout",
       "text": [
        "\r",
        "TAF15_2.polyATrim.adapterTrim.rmRep.sorted.ba  59% 2643MB  32.8MB/s   00:55 ETA"
       ]
      },
      {
       "output_type": "stream",
       "stream": "stdout",
       "text": [
        "\r",
        "TAF15_2.polyATrim.adapterTrim.rmRep.sorted.ba  59% 2685MB  33.7MB/s   00:53 ETA"
       ]
      },
      {
       "output_type": "stream",
       "stream": "stdout",
       "text": [
        "\r",
        "TAF15_2.polyATrim.adapterTrim.rmRep.sorted.ba  60% 2727MB  34.5MB/s   00:50 ETA"
       ]
      },
      {
       "output_type": "stream",
       "stream": "stdout",
       "text": [
        "\r",
        "TAF15_2.polyATrim.adapterTrim.rmRep.sorted.ba  61% 2768MB  35.2MB/s   00:48 ETA"
       ]
      },
      {
       "output_type": "stream",
       "stream": "stdout",
       "text": [
        "\r",
        "TAF15_2.polyATrim.adapterTrim.rmRep.sorted.ba  62% 2810MB  35.9MB/s   00:46 ETA"
       ]
      },
      {
       "output_type": "stream",
       "stream": "stdout",
       "text": [
        "\r",
        "TAF15_2.polyATrim.adapterTrim.rmRep.sorted.ba  63% 2852MB  36.5MB/s   00:44 ETA"
       ]
      },
      {
       "output_type": "stream",
       "stream": "stdout",
       "text": [
        "\r",
        "TAF15_2.polyATrim.adapterTrim.rmRep.sorted.ba  64% 2894MB  37.0MB/s   00:42 ETA"
       ]
      },
      {
       "output_type": "stream",
       "stream": "stdout",
       "text": [
        "\r",
        "TAF15_2.polyATrim.adapterTrim.rmRep.sorted.ba  65% 2935MB  37.5MB/s   00:41 ETA"
       ]
      },
      {
       "output_type": "stream",
       "stream": "stdout",
       "text": [
        "\r",
        "TAF15_2.polyATrim.adapterTrim.rmRep.sorted.ba  66% 2977MB  37.9MB/s   00:39 ETA"
       ]
      },
      {
       "output_type": "stream",
       "stream": "stdout",
       "text": [
        "\r",
        "TAF15_2.polyATrim.adapterTrim.rmRep.sorted.ba  67% 3019MB  38.3MB/s   00:38 ETA"
       ]
      },
      {
       "output_type": "stream",
       "stream": "stdout",
       "text": [
        "\r",
        "TAF15_2.polyATrim.adapterTrim.rmRep.sorted.ba  68% 3061MB  38.6MB/s   00:36 ETA"
       ]
      },
      {
       "output_type": "stream",
       "stream": "stdout",
       "text": [
        "\r",
        "TAF15_2.polyATrim.adapterTrim.rmRep.sorted.ba  69% 3102MB  38.9MB/s   00:35 ETA"
       ]
      },
      {
       "output_type": "stream",
       "stream": "stdout",
       "text": [
        "\r",
        "TAF15_2.polyATrim.adapterTrim.rmRep.sorted.ba  70% 3144MB  39.2MB/s   00:33 ETA"
       ]
      },
      {
       "output_type": "stream",
       "stream": "stdout",
       "text": [
        "\r",
        "TAF15_2.polyATrim.adapterTrim.rmRep.sorted.ba  71% 3186MB  39.5MB/s   00:32 ETA"
       ]
      },
      {
       "output_type": "stream",
       "stream": "stdout",
       "text": [
        "\r",
        "TAF15_2.polyATrim.adapterTrim.rmRep.sorted.ba  72% 3227MB  39.7MB/s   00:31 ETA"
       ]
      },
      {
       "output_type": "stream",
       "stream": "stdout",
       "text": [
        "\r",
        "TAF15_2.polyATrim.adapterTrim.rmRep.sorted.ba  73% 3269MB  39.9MB/s   00:30 ETA"
       ]
      },
      {
       "output_type": "stream",
       "stream": "stdout",
       "text": [
        "\r",
        "TAF15_2.polyATrim.adapterTrim.rmRep.sorted.ba  73% 3304MB  39.3MB/s   00:29 ETA"
       ]
      },
      {
       "output_type": "stream",
       "stream": "stdout",
       "text": [
        "\r",
        "TAF15_2.polyATrim.adapterTrim.rmRep.sorted.ba  74% 3344MB  39.4MB/s   00:28 ETA"
       ]
      },
      {
       "output_type": "stream",
       "stream": "stdout",
       "text": [
        "\r",
        "TAF15_2.polyATrim.adapterTrim.rmRep.sorted.ba  75% 3382MB  39.4MB/s   00:27 ETA"
       ]
      },
      {
       "output_type": "stream",
       "stream": "stdout",
       "text": [
        "\r",
        "TAF15_2.polyATrim.adapterTrim.rmRep.sorted.ba  76% 3421MB  39.3MB/s   00:26 ETA"
       ]
      },
      {
       "output_type": "stream",
       "stream": "stdout",
       "text": [
        "\r",
        "TAF15_2.polyATrim.adapterTrim.rmRep.sorted.ba  77% 3462MB  39.5MB/s   00:25 ETA"
       ]
      },
      {
       "output_type": "stream",
       "stream": "stdout",
       "text": [
        "\r",
        "TAF15_2.polyATrim.adapterTrim.rmRep.sorted.ba  77% 3469MB  36.2MB/s   00:27 ETA"
       ]
      },
      {
       "output_type": "stream",
       "stream": "stdout",
       "text": [
        "\r",
        "TAF15_2.polyATrim.adapterTrim.rmRep.sorted.ba  77% 3469MB  32.6MB/s   00:30 ETA"
       ]
      },
      {
       "output_type": "stream",
       "stream": "stdout",
       "text": [
        "\r",
        "TAF15_2.polyATrim.adapterTrim.rmRep.sorted.ba  77% 3469MB  29.3MB/s   00:34 ETA"
       ]
      },
      {
       "output_type": "stream",
       "stream": "stdout",
       "text": [
        "\r",
        "TAF15_2.polyATrim.adapterTrim.rmRep.sorted.ba  77% 3469MB  26.4MB/s   00:38 ETA"
       ]
      },
      {
       "output_type": "stream",
       "stream": "stdout",
       "text": [
        "\r",
        "TAF15_2.polyATrim.adapterTrim.rmRep.sorted.ba  77% 3469MB  23.8MB/s   00:42 ETA"
       ]
      },
      {
       "output_type": "stream",
       "stream": "stdout",
       "text": [
        "\r",
        "TAF15_2.polyATrim.adapterTrim.rmRep.sorted.ba  77% 3471MB  21.6MB/s   00:46 ETA"
       ]
      },
      {
       "output_type": "stream",
       "stream": "stdout",
       "text": [
        "\r",
        "TAF15_2.polyATrim.adapterTrim.rmRep.sorted.ba  77% 3471MB  19.4MB/s   00:51 ETA"
       ]
      },
      {
       "output_type": "stream",
       "stream": "stdout",
       "text": [
        "\r",
        "TAF15_2.polyATrim.adapterTrim.rmRep.sorted.ba  77% 3471MB  17.5MB/s   00:57 ETA"
       ]
      },
      {
       "output_type": "stream",
       "stream": "stdout",
       "text": [
        "\r",
        "TAF15_2.polyATrim.adapterTrim.rmRep.sorted.ba  77% 3472MB  15.8MB/s   01:03 ETA"
       ]
      },
      {
       "output_type": "stream",
       "stream": "stdout",
       "text": [
        "\r",
        "TAF15_2.polyATrim.adapterTrim.rmRep.sorted.ba  77% 3472MB  14.2MB/s   01:10 ETA"
       ]
      },
      {
       "output_type": "stream",
       "stream": "stdout",
       "text": [
        "\r",
        "TAF15_2.polyATrim.adapterTrim.rmRep.sorted.ba  77% 3473MB  13.0MB/s   01:17 ETA"
       ]
      },
      {
       "output_type": "stream",
       "stream": "stdout",
       "text": [
        "\r",
        "TAF15_2.polyATrim.adapterTrim.rmRep.sorted.ba  77% 3473MB  11.7MB/s   01:26 ETA"
       ]
      },
      {
       "output_type": "stream",
       "stream": "stdout",
       "text": [
        "\r",
        "TAF15_2.polyATrim.adapterTrim.rmRep.sorted.ba  78% 3514MB  14.5MB/s   01:06 ETA"
       ]
      },
      {
       "output_type": "stream",
       "stream": "stdout",
       "text": [
        "\r",
        "TAF15_2.polyATrim.adapterTrim.rmRep.sorted.ba  79% 3552MB  17.0MB/s   00:54 ETA"
       ]
      },
      {
       "output_type": "stream",
       "stream": "stdout",
       "text": [
        "\r",
        "TAF15_2.polyATrim.adapterTrim.rmRep.sorted.ba  80% 3591MB  19.1MB/s   00:46 ETA"
       ]
      },
      {
       "output_type": "stream",
       "stream": "stdout",
       "text": [
        "\r",
        "TAF15_2.polyATrim.adapterTrim.rmRep.sorted.ba  80% 3597MB  17.8MB/s   00:49 ETA"
       ]
      },
      {
       "output_type": "stream",
       "stream": "stdout",
       "text": [
        "\r",
        "TAF15_2.polyATrim.adapterTrim.rmRep.sorted.ba  81% 3627MB  19.0MB/s   00:44 ETA"
       ]
      },
      {
       "output_type": "stream",
       "stream": "stdout",
       "text": [
        "\r",
        "TAF15_2.polyATrim.adapterTrim.rmRep.sorted.ba  81% 3669MB  21.3MB/s   00:37 ETA"
       ]
      },
      {
       "output_type": "stream",
       "stream": "stdout",
       "text": [
        "\r",
        "TAF15_2.polyATrim.adapterTrim.rmRep.sorted.ba  82% 3710MB  23.3MB/s   00:32 ETA"
       ]
      },
      {
       "output_type": "stream",
       "stream": "stdout",
       "text": [
        "\r",
        "TAF15_2.polyATrim.adapterTrim.rmRep.sorted.ba  83% 3752MB  25.2MB/s   00:28 ETA"
       ]
      },
      {
       "output_type": "stream",
       "stream": "stdout",
       "text": [
        "\r",
        "TAF15_2.polyATrim.adapterTrim.rmRep.sorted.ba  83% 3758MB  23.2MB/s   00:31 ETA"
       ]
      },
      {
       "output_type": "stream",
       "stream": "stdout",
       "text": [
        "\r",
        "TAF15_2.polyATrim.adapterTrim.rmRep.sorted.ba  84% 3776MB  22.8MB/s   00:30 ETA"
       ]
      },
      {
       "output_type": "stream",
       "stream": "stdout",
       "text": [
        "\r",
        "TAF15_2.polyATrim.adapterTrim.rmRep.sorted.ba  85% 3819MB  24.7MB/s   00:26 ETA"
       ]
      },
      {
       "output_type": "stream",
       "stream": "stdout",
       "text": [
        "\r",
        "TAF15_2.polyATrim.adapterTrim.rmRep.sorted.ba  86% 3861MB  26.4MB/s   00:23 ETA"
       ]
      },
      {
       "output_type": "stream",
       "stream": "stdout",
       "text": [
        "\r",
        "TAF15_2.polyATrim.adapterTrim.rmRep.sorted.ba  87% 3903MB  28.0MB/s   00:20 ETA"
       ]
      },
      {
       "output_type": "stream",
       "stream": "stdout",
       "text": [
        "\r",
        "TAF15_2.polyATrim.adapterTrim.rmRep.sorted.ba  87% 3908MB  25.8MB/s   00:22 ETA"
       ]
      },
      {
       "output_type": "stream",
       "stream": "stdout",
       "text": [
        "\r",
        "TAF15_2.polyATrim.adapterTrim.rmRep.sorted.ba  87% 3928MB  25.2MB/s   00:21 ETA"
       ]
      },
      {
       "output_type": "stream",
       "stream": "stdout",
       "text": [
        "\r",
        "TAF15_2.polyATrim.adapterTrim.rmRep.sorted.ba  88% 3969MB  26.8MB/s   00:18 ETA"
       ]
      },
      {
       "output_type": "stream",
       "stream": "stdout",
       "text": [
        "\r",
        "TAF15_2.polyATrim.adapterTrim.rmRep.sorted.ba  89% 4011MB  28.2MB/s   00:16 ETA"
       ]
      },
      {
       "output_type": "stream",
       "stream": "stdout",
       "text": [
        "\r",
        "TAF15_2.polyATrim.adapterTrim.rmRep.sorted.ba  90% 4044MB  28.8MB/s   00:15 ETA"
       ]
      },
      {
       "output_type": "stream",
       "stream": "stdout",
       "text": [
        "\r",
        "TAF15_2.polyATrim.adapterTrim.rmRep.sorted.ba  90% 4049MB  26.4MB/s   00:16 ETA"
       ]
      },
      {
       "output_type": "stream",
       "stream": "stdout",
       "text": [
        "\r",
        "TAF15_2.polyATrim.adapterTrim.rmRep.sorted.ba  90% 4073MB  26.1MB/s   00:15 ETA"
       ]
      },
      {
       "output_type": "stream",
       "stream": "stdout",
       "text": [
        "\r",
        "TAF15_2.polyATrim.adapterTrim.rmRep.sorted.ba  91% 4112MB  27.4MB/s   00:13 ETA"
       ]
      },
      {
       "output_type": "stream",
       "stream": "stdout",
       "text": [
        "\r",
        "TAF15_2.polyATrim.adapterTrim.rmRep.sorted.ba  92% 4153MB  28.8MB/s   00:11 ETA"
       ]
      },
      {
       "output_type": "stream",
       "stream": "stdout",
       "text": [
        "\r",
        "TAF15_2.polyATrim.adapterTrim.rmRep.sorted.ba  93% 4187MB  29.3MB/s   00:09 ETA"
       ]
      },
      {
       "output_type": "stream",
       "stream": "stdout",
       "text": [
        "\r",
        "TAF15_2.polyATrim.adapterTrim.rmRep.sorted.ba  93% 4191MB  26.8MB/s   00:10 ETA"
       ]
      },
      {
       "output_type": "stream",
       "stream": "stdout",
       "text": [
        "\r",
        "TAF15_2.polyATrim.adapterTrim.rmRep.sorted.ba  94% 4215MB  26.5MB/s   00:09 ETA"
       ]
      },
      {
       "output_type": "stream",
       "stream": "stdout",
       "text": [
        "\r",
        "TAF15_2.polyATrim.adapterTrim.rmRep.sorted.ba  95% 4255MB  27.8MB/s   00:07 ETA"
       ]
      },
      {
       "output_type": "stream",
       "stream": "stdout",
       "text": [
        "\r",
        "TAF15_2.polyATrim.adapterTrim.rmRep.sorted.ba  95% 4295MB  29.1MB/s   00:06 ETA"
       ]
      },
      {
       "output_type": "stream",
       "stream": "stdout",
       "text": [
        "\r",
        "TAF15_2.polyATrim.adapterTrim.rmRep.sorted.ba  96% 4337MB  30.4MB/s   00:04 ETA"
       ]
      },
      {
       "output_type": "stream",
       "stream": "stdout",
       "text": [
        "\r",
        "TAF15_2.polyATrim.adapterTrim.rmRep.sorted.ba  96% 4342MB  27.8MB/s   00:04 ETA"
       ]
      },
      {
       "output_type": "stream",
       "stream": "stdout",
       "text": [
        "\r",
        "TAF15_2.polyATrim.adapterTrim.rmRep.sorted.ba  97% 4363MB  27.2MB/s   00:04 ETA"
       ]
      },
      {
       "output_type": "stream",
       "stream": "stdout",
       "text": [
        "\r",
        "TAF15_2.polyATrim.adapterTrim.rmRep.sorted.ba  98% 4402MB  28.3MB/s   00:02 ETA"
       ]
      },
      {
       "output_type": "stream",
       "stream": "stdout",
       "text": [
        "\r",
        "TAF15_2.polyATrim.adapterTrim.rmRep.sorted.ba  99% 4441MB  29.4MB/s   00:01 ETA"
       ]
      },
      {
       "output_type": "stream",
       "stream": "stdout",
       "text": [
        "\r",
        "TAF15_2.polyATrim.adapterTrim.rmRep.sorted.ba 100% 4477MB  29.5MB/s   02:32    \r\n"
       ]
      },
      {
       "output_type": "stream",
       "stream": "stdout",
       "text": [
        "\r",
        "TAF15_WholeBrain.bam                            0%    0     0.0KB/s   --:-- ETA"
       ]
      },
      {
       "output_type": "stream",
       "stream": "stdout",
       "text": [
        "\r",
        "TAF15_WholeBrain.bam                            2%   35MB  34.6MB/s   00:34 ETA"
       ]
      },
      {
       "output_type": "stream",
       "stream": "stdout",
       "text": [
        "\r",
        "TAF15_WholeBrain.bam                            5%   74MB  35.1MB/s   00:33 ETA"
       ]
      },
      {
       "output_type": "stream",
       "stream": "stdout",
       "text": [
        "\r",
        "TAF15_WholeBrain.bam                            9%  114MB  35.6MB/s   00:31 ETA"
       ]
      },
      {
       "output_type": "stream",
       "stream": "stdout",
       "text": [
        "\r",
        "TAF15_WholeBrain.bam                           12%  156MB  36.3MB/s   00:29 ETA"
       ]
      },
      {
       "output_type": "stream",
       "stream": "stdout",
       "text": [
        "\r",
        "TAF15_WholeBrain.bam                           15%  199MB  36.9MB/s   00:28 ETA"
       ]
      },
      {
       "output_type": "stream",
       "stream": "stdout",
       "text": [
        "\r",
        "TAF15_WholeBrain.bam                           19%  240MB  37.4MB/s   00:26 ETA"
       ]
      },
      {
       "output_type": "stream",
       "stream": "stdout",
       "text": [
        "\r",
        "TAF15_WholeBrain.bam                           22%  282MB  37.8MB/s   00:25 ETA"
       ]
      },
      {
       "output_type": "stream",
       "stream": "stdout",
       "text": [
        "\r",
        "TAF15_WholeBrain.bam                           26%  323MB  38.1MB/s   00:24 ETA"
       ]
      },
      {
       "output_type": "stream",
       "stream": "stdout",
       "text": [
        "\r",
        "TAF15_WholeBrain.bam                           29%  365MB  38.5MB/s   00:22 ETA"
       ]
      },
      {
       "output_type": "stream",
       "stream": "stdout",
       "text": [
        "\r",
        "TAF15_WholeBrain.bam                           32%  407MB  38.8MB/s   00:21 ETA"
       ]
      },
      {
       "output_type": "stream",
       "stream": "stdout",
       "text": [
        "\r",
        "TAF15_WholeBrain.bam                           36%  448MB  39.1MB/s   00:20 ETA"
       ]
      },
      {
       "output_type": "stream",
       "stream": "stdout",
       "text": [
        "\r",
        "TAF15_WholeBrain.bam                           39%  490MB  39.3MB/s   00:19 ETA"
       ]
      },
      {
       "output_type": "stream",
       "stream": "stdout",
       "text": [
        "\r",
        "TAF15_WholeBrain.bam                           42%  531MB  39.5MB/s   00:18 ETA"
       ]
      },
      {
       "output_type": "stream",
       "stream": "stdout",
       "text": [
        "\r",
        "TAF15_WholeBrain.bam                           46%  573MB  39.7MB/s   00:16 ETA"
       ]
      },
      {
       "output_type": "stream",
       "stream": "stdout",
       "text": [
        "\r",
        "TAF15_WholeBrain.bam                           49%  614MB  39.9MB/s   00:15 ETA"
       ]
      },
      {
       "output_type": "stream",
       "stream": "stdout",
       "text": [
        "\r",
        "TAF15_WholeBrain.bam                           52%  656MB  40.1MB/s   00:14 ETA"
       ]
      },
      {
       "output_type": "stream",
       "stream": "stdout",
       "text": [
        "\r",
        "TAF15_WholeBrain.bam                           56%  697MB  40.2MB/s   00:13 ETA"
       ]
      },
      {
       "output_type": "stream",
       "stream": "stdout",
       "text": [
        "\r",
        "TAF15_WholeBrain.bam                           59%  739MB  40.3MB/s   00:12 ETA"
       ]
      },
      {
       "output_type": "stream",
       "stream": "stdout",
       "text": [
        "\r",
        "TAF15_WholeBrain.bam                           62%  780MB  40.5MB/s   00:11 ETA"
       ]
      },
      {
       "output_type": "stream",
       "stream": "stdout",
       "text": [
        "\r",
        "TAF15_WholeBrain.bam                           66%  822MB  40.6MB/s   00:10 ETA"
       ]
      },
      {
       "output_type": "stream",
       "stream": "stdout",
       "text": [
        "\r",
        "TAF15_WholeBrain.bam                           69%  863MB  40.7MB/s   00:09 ETA"
       ]
      },
      {
       "output_type": "stream",
       "stream": "stdout",
       "text": [
        "\r",
        "TAF15_WholeBrain.bam                           72%  898MB  40.0MB/s   00:08 ETA"
       ]
      },
      {
       "output_type": "stream",
       "stream": "stdout",
       "text": [
        "\r",
        "TAF15_WholeBrain.bam                           75%  937MB  40.0MB/s   00:07 ETA"
       ]
      },
      {
       "output_type": "stream",
       "stream": "stdout",
       "text": [
        "\r",
        "TAF15_WholeBrain.bam                           78%  972MB  39.4MB/s   00:06 ETA"
       ]
      },
      {
       "output_type": "stream",
       "stream": "stdout",
       "text": [
        "\r",
        "TAF15_WholeBrain.bam                           81% 1013MB  39.6MB/s   00:05 ETA"
       ]
      },
      {
       "output_type": "stream",
       "stream": "stdout",
       "text": [
        "\r",
        "TAF15_WholeBrain.bam                           84% 1053MB  39.7MB/s   00:04 ETA"
       ]
      },
      {
       "output_type": "stream",
       "stream": "stdout",
       "text": [
        "\r",
        "TAF15_WholeBrain.bam                           87% 1093MB  39.7MB/s   00:03 ETA"
       ]
      },
      {
       "output_type": "stream",
       "stream": "stdout",
       "text": [
        "\r",
        "TAF15_WholeBrain.bam                           91% 1135MB  39.9MB/s   00:02 ETA"
       ]
      },
      {
       "output_type": "stream",
       "stream": "stdout",
       "text": [
        "\r",
        "TAF15_WholeBrain.bam                           94% 1175MB  40.0MB/s   00:01 ETA"
       ]
      },
      {
       "output_type": "stream",
       "stream": "stdout",
       "text": [
        "\r",
        "TAF15_WholeBrain.bam                           97% 1217MB  40.1MB/s   00:00 ETA"
       ]
      },
      {
       "output_type": "stream",
       "stream": "stdout",
       "text": [
        "\r",
        "TAF15_WholeBrain.bam                          100% 1243MB  40.1MB/s   00:31    \r\n"
       ]
      },
      {
       "output_type": "stream",
       "stream": "stdout",
       "text": [
        "\r",
        "TDP43_WholeBrain.bam                            0%    0     0.0KB/s   --:-- ETA"
       ]
      },
      {
       "output_type": "stream",
       "stream": "stdout",
       "text": [
        "\r",
        "TDP43_WholeBrain.bam                            7%   35MB  34.8MB/s   00:11 ETA"
       ]
      },
      {
       "output_type": "stream",
       "stream": "stdout",
       "text": [
        "\r",
        "TDP43_WholeBrain.bam                           17%   76MB  35.5MB/s   00:10 ETA"
       ]
      },
      {
       "output_type": "stream",
       "stream": "stdout",
       "text": [
        "\r",
        "TDP43_WholeBrain.bam                           26%  117MB  36.0MB/s   00:09 ETA"
       ]
      },
      {
       "output_type": "stream",
       "stream": "stdout",
       "text": [
        "\r",
        "TDP43_WholeBrain.bam                           35%  158MB  36.5MB/s   00:07 ETA"
       ]
      },
      {
       "output_type": "stream",
       "stream": "stdout",
       "text": [
        "\r",
        "TDP43_WholeBrain.bam                           45%  200MB  37.1MB/s   00:06 ETA"
       ]
      },
      {
       "output_type": "stream",
       "stream": "stdout",
       "text": [
        "\r",
        "TDP43_WholeBrain.bam                           54%  242MB  37.5MB/s   00:05 ETA"
       ]
      },
      {
       "output_type": "stream",
       "stream": "stdout",
       "text": [
        "\r",
        "TDP43_WholeBrain.bam                           63%  283MB  37.9MB/s   00:04 ETA"
       ]
      },
      {
       "output_type": "stream",
       "stream": "stdout",
       "text": [
        "\r",
        "TDP43_WholeBrain.bam                           73%  325MB  38.3MB/s   00:03 ETA"
       ]
      },
      {
       "output_type": "stream",
       "stream": "stdout",
       "text": [
        "\r",
        "TDP43_WholeBrain.bam                           82%  367MB  38.7MB/s   00:01 ETA"
       ]
      },
      {
       "output_type": "stream",
       "stream": "stdout",
       "text": [
        "\r",
        "TDP43_WholeBrain.bam                           92%  408MB  39.0MB/s   00:00 ETA"
       ]
      },
      {
       "output_type": "stream",
       "stream": "stdout",
       "text": [
        "\r",
        "TDP43_WholeBrain.bam                          100%  443MB  40.3MB/s   00:11    \r\n"
       ]
      },
      {
       "output_type": "stream",
       "stream": "stdout",
       "text": [
        "\r",
        "TLS_WholeBrain.bam                              0%    0     0.0KB/s   --:-- ETA"
       ]
      },
      {
       "output_type": "stream",
       "stream": "stdout",
       "text": [
        "\r",
        "TLS_WholeBrain.bam                             16%   39MB  38.9MB/s   00:05 ETA"
       ]
      },
      {
       "output_type": "stream",
       "stream": "stdout",
       "text": [
        "\r",
        "TLS_WholeBrain.bam                             33%   80MB  39.1MB/s   00:04 ETA"
       ]
      },
      {
       "output_type": "stream",
       "stream": "stdout",
       "text": [
        "\r",
        "TLS_WholeBrain.bam                             50%  121MB  39.3MB/s   00:03 ETA"
       ]
      },
      {
       "output_type": "stream",
       "stream": "stdout",
       "text": [
        "\r",
        "TLS_WholeBrain.bam                             63%  154MB  38.7MB/s   00:02 ETA"
       ]
      },
      {
       "output_type": "stream",
       "stream": "stdout",
       "text": [
        "\r",
        "TLS_WholeBrain.bam                             80%  195MB  38.9MB/s   00:01 ETA"
       ]
      },
      {
       "output_type": "stream",
       "stream": "stdout",
       "text": [
        "\r",
        "TLS_WholeBrain.bam                             97%  235MB  39.0MB/s   00:00 ETA"
       ]
      },
      {
       "output_type": "stream",
       "stream": "stdout",
       "text": [
        "\r",
        "TLS_WholeBrain.bam                            100%  241MB  40.2MB/s   00:06    \r\n"
       ]
      }
     ],
     "prompt_number": 68
    },
    {
     "cell_type": "markdown",
     "metadata": {},
     "source": [
      "#Prototype"
     ]
    },
    {
     "cell_type": "code",
     "collapsed": false,
     "input": [
      "bam = pybedtools.BedTool(\"/nas3/gpratt/projects/fet_family/analysis/mouse_clip_v1/TAF15_WholeBrain.bam\")\n",
      "bed = pybedtools.BedTool(\"/nas3/gpratt/projects/fet_family/data/stuff_for_KK/TAF15_combined_notrim_ingenes_clusters_mm950.bed\")"
     ],
     "language": "python",
     "metadata": {},
     "outputs": [],
     "prompt_number": 69
    },
    {
     "cell_type": "markdown",
     "metadata": {},
     "source": [
      "#Find Genes targeted by old peak calling method"
     ]
    },
    {
     "cell_type": "code",
     "collapsed": false,
     "input": [
      "genes = pybedtools.BedTool(\"/nas3/gpratt/clipper/clipper/data/regions/mm9_genes.bed\")\n",
      "overlapping_genes = bed.intersect(genes, wo=True, s=True)\n",
      "target_genes = set([interval[-4] for interval in overlapping_genes])"
     ],
     "language": "python",
     "metadata": {},
     "outputs": [],
     "prompt_number": 77
    },
    {
     "cell_type": "markdown",
     "metadata": {},
     "source": [
      "#Very begining of understanding what the new peak calling method will look like"
     ]
    },
    {
     "cell_type": "code",
     "collapsed": false,
     "input": [
      "result = bam.coverage(genes, split=True, s=True)\n",
      "df = result.to_dataframe(names=['chrom', u'start', u'end', u'name', u'score', u'strand', u'num_reads', u'bases_covered', u'feature_len', u'fraction_covered'])\n",
      "df['fold_coverage'] = df.num_reads / df.feature_len"
     ],
     "language": "python",
     "metadata": {},
     "outputs": [],
     "prompt_number": 99
    },
    {
     "cell_type": "markdown",
     "metadata": {},
     "source": [
      "#How What does coverage look like, what are the signals we can use to call coated / long range genes?"
     ]
    },
    {
     "cell_type": "code",
     "collapsed": false,
     "input": [
      "df.hist(column=[\"fold_coverage\", \"fraction_covered\"])"
     ],
     "language": "python",
     "metadata": {},
     "outputs": [
      {
       "metadata": {},
       "output_type": "pyout",
       "prompt_number": 116,
       "text": [
        "array([[<matplotlib.axes._subplots.AxesSubplot object at 0x193f7390>,\n",
        "        <matplotlib.axes._subplots.AxesSubplot object at 0x1910f6d0>]], dtype=object)"
       ]
      },
      {
       "metadata": {},
       "output_type": "display_data",
       "png": "[encoded data removed]",
       "text": [
        "<matplotlib.figure.Figure at 0x2aaab4d77f90>"
       ]
      }
     ],
     "prompt_number": 116
    },
    {
     "cell_type": "code",
     "collapsed": false,
     "input": [
      "kaseys_method = df[df.name.isin(target_genes)]\n",
      "kaseys_method.hist(column=[\"fold_coverage\", \"fraction_covered\"])"
     ],
     "language": "python",
     "metadata": {},
     "outputs": [
      {
       "metadata": {},
       "output_type": "pyout",
       "prompt_number": 126,
       "text": [
        "array([[<matplotlib.axes._subplots.AxesSubplot object at 0x2aaab4979590>,\n",
        "        <matplotlib.axes._subplots.AxesSubplot object at 0x1a2b9210>]], dtype=object)"
       ]
      },
      {
       "metadata": {},
       "output_type": "display_data",
       "png": "[encoded data removed]",
       "text": [
        "<matplotlib.figure.Figure at 0x194b1610>"
       ]
      }
     ],
     "prompt_number": 126
    },
    {
     "cell_type": "markdown",
     "metadata": {},
     "source": [
      "Fold coverage isn't a useful metric, however fraction covered might still be useful. "
     ]
    },
    {
     "cell_type": "markdown",
     "metadata": {},
     "source": [
      "#What is the overlap between old and new methods?"
     ]
    },
    {
     "cell_type": "code",
     "collapsed": false,
     "input": [
      "for threshold in np.arange(0,1.1,.1):\n",
      "    print threshold, len(target_genes), len(df[(df.fraction_covered >= threshold)]), len(set(df[(df.fraction_covered >= threshold)].name.values) & set(df[df.name.isin(target_genes)].name.values))\n"
     ],
     "language": "python",
     "metadata": {},
     "outputs": [
      {
       "output_type": "stream",
       "stream": "stdout",
       "text": [
        " 0.0 4865 37310 4865\n",
        "0.1 4865 16542 "
       ]
      },
      {
       "output_type": "stream",
       "stream": "stdout",
       "text": [
        "4841\n",
        "0.2 4865 12910 4754\n",
        "0.3 4865 9514 4405\n",
        "0.4 4865 6134 "
       ]
      },
      {
       "output_type": "stream",
       "stream": "stdout",
       "text": [
        "3407\n",
        "0.5 4865 3512 1999\n",
        "0.6 4865 1877 935\n",
        "0.7 4865 1020 358\n",
        "0.8 4865 582 134\n",
        "0.9 4865 323 "
       ]
      },
      {
       "output_type": "stream",
       "stream": "stdout",
       "text": [
        "61\n",
        "1.0 4865 163 34\n"
       ]
      }
     ],
     "prompt_number": 119
    },
    {
     "cell_type": "markdown",
     "metadata": {},
     "source": [
      "Digging in, of the genes that don't overlap, what are the paramaters of 1) the genes, 2) the specific targets"
     ]
    },
    {
     "cell_type": "code",
     "collapsed": false,
     "input": [
      "lowly_covered_genes = set(df[df.name.isin(target_genes)].name.values) - set(df[(df.fraction_covered >= .4)].name.values)\n",
      "lowly_covered_targets = df[df.name.isin(strange_genes)]\n",
      "lowly_covered_targets.hist(column=[\"fold_coverage\", \"fraction_covered\"])"
     ],
     "language": "python",
     "metadata": {},
     "outputs": [
      {
       "metadata": {},
       "output_type": "pyout",
       "prompt_number": 130,
       "text": [
        "array([[<matplotlib.axes._subplots.AxesSubplot object at 0x2aaab565a210>,\n",
        "        <matplotlib.axes._subplots.AxesSubplot object at 0x2aaab5689590>]], dtype=object)"
       ]
      },
      {
       "metadata": {},
       "output_type": "display_data",
       "png": "[encoded data removed]",
       "text": [
        "<matplotlib.figure.Figure at 0x2aaab565de10>"
       ]
      }
     ],
     "prompt_number": 130
    },
    {
     "cell_type": "markdown",
     "metadata": {},
     "source": [
      "Ok, so this doesn't help, I think think "
     ]
    },
    {
     "cell_type": "markdown",
     "metadata": {},
     "source": [
      "#Quickly check to see if hotspots assocated with promoters of TFs broadly bound have an enriched motif"
     ]
    },
    {
     "cell_type": "markdown",
     "metadata": {},
     "source": [
      "Load in All Mouse RPKMs\n",
      "------"
     ]
    },
    {
     "cell_type": "code",
     "collapsed": false,
     "input": [
      "metadata = pd.read_csv(\"/nas3/gpratt/Dropbox/TAF15/unix_mouse_fet_data_locations_and_annitations.csv\")\n",
      "metadata = metadata[metadata.geo_name != \"not_submitted\"]\n",
      "null_bioreps = metadata[metadata['Biological Replicate'].isnull()]\n",
      "metadata.loc[null_bioreps.index,'Biological Replicate'] = null_bioreps.Location.apply(lambda x: os.path.basename(x).split(\".\")[0]).values\n",
      "biorep_info = metadata.groupby('Biological Replicate').first()\n",
      "\n",
      "all_counts = pd.read_table(\"all_counts.txt\", index_col=0, skiprows=1)\n",
      "all_counts.columns = [item.split(\".\")[0] for item in all_counts.columns]\n",
      "rpkm = counts_to_rpkm(all_counts)\n",
      "rpkm = rpkm.T\n",
      "rpkm = rpkm.ix[biorep_info.index]\n",
      "\n",
      "result = []\n",
      "for index in rpkm.index:\n",
      "    exp_info = biorep_info.ix[index] \n",
      "    result.append([exp_info['rbp'], exp_info['Cell Type'], exp_info['bio_rep'], exp_info['analysis_group'], biorep_info.ix[index].name])\n",
      "rpkm.index = pd.MultiIndex.from_tuples(result, names=['knockdown', 'cell_type', 'rep', 'analysis_group', 'exp'])\n",
      "rpkm = rpkm.sortlevel()"
     ],
     "language": "python",
     "metadata": {},
     "outputs": [],
     "prompt_number": 231
    },
    {
     "cell_type": "markdown",
     "metadata": {},
     "source": [
      "Get Expressed Genes in Whole Brain\n",
      "-----"
     ]
    },
    {
     "cell_type": "code",
     "collapsed": false,
     "input": [
      "scramble_controls = rpkm.ix['PBS', 'Whole Brain'] \n",
      "expressed_genes = set(scramble_controls[scramble_controls > 1].dropna(axis=1).columns)"
     ],
     "language": "python",
     "metadata": {},
     "outputs": [],
     "prompt_number": 246
    },
    {
     "cell_type": "code",
     "collapsed": false,
     "input": [
      "#Get all genes not bound by TAF15\n",
      "non_target_genes = expressed_genes - target_genes"
     ],
     "language": "python",
     "metadata": {},
     "outputs": [],
     "prompt_number": 250
    },
    {
     "cell_type": "code",
     "collapsed": false,
     "input": [
      "#Find difference between bound and unbound genes\n",
      "len(target_genes), len(expressed_genes), len(target_genes & expressed_genes) "
     ],
     "language": "python",
     "metadata": {},
     "outputs": []
    },
    {
     "cell_type": "code",
     "collapsed": false,
     "input": [
      "broad_peaks = pybedtools.BedTool(\"/nas3/gpratt/Dropbox/TAF15/Data/public_clip/wgEncodeUwDgfWbrainC57bl6MAdult8wksHotspotsRep1.broadPeak\")"
     ],
     "language": "python",
     "metadata": {},
     "outputs": [],
     "prompt_number": 134
    },
    {
     "cell_type": "markdown",
     "metadata": {},
     "source": [
      "#Find all Promoter Regions"
     ]
    },
    {
     "cell_type": "code",
     "collapsed": false,
     "input": [
      "promoter_regions = pybedtools.BedTool(\"/nas3/gpratt/clipper/clipper/data/regions/mm9_five_prime_ends.bed\")\n",
      "#Pad 2500 bp upstream and 500bp downstream\n",
      "promoter_regions = promoter_regions.slop(l=1000, r=500, s=True, g=\"/nas3/yeolab/Genome/ucsc/mm9/mm9.chrom.sizes\")\n",
      "promoter_regions = promoter_regions.sort().merge(s=True, c='4,5,6', o=\"distinct\")"
     ],
     "language": "python",
     "metadata": {},
     "outputs": [],
     "prompt_number": 261
    },
    {
     "cell_type": "markdown",
     "metadata": {},
     "source": [
      "#Get all promoter assocated DNAse Sites"
     ]
    },
    {
     "cell_type": "code",
     "collapsed": false,
     "input": [
      "overlapped_peaks = broad_peaks.intersect(promoter_regions, wo=True)"
     ],
     "language": "python",
     "metadata": {},
     "outputs": [],
     "prompt_number": 262
    },
    {
     "cell_type": "code",
     "collapsed": false,
     "input": [
      "overlapped_peaks_df = overlapped_peaks.to_dataframe(names=[\"chrom\",\n",
      "                                     \"start\",\n",
      "                                     \"stop\",\n",
      "                                     \"name\",\n",
      "                                     \"score\",\n",
      "                                     \"strand\",\n",
      "                                     \"value_1\",\n",
      "                                     \"value_2\",\n",
      "                                     \"value_3\",\n",
      "                                     \"transcript_chrom\",\n",
      "                                     \"transcript_start\",\n",
      "                                     \"transcript_stop\",\n",
      "                                     \"transcript_name\",\n",
      "                                     \"transcript_score\",\n",
      "                                     \"transcript_strand\",\n",
      "                                     \"transcript_something\"\n",
      "                                     ])"
     ],
     "language": "python",
     "metadata": {},
     "outputs": [],
     "prompt_number": 263
    },
    {
     "cell_type": "markdown",
     "metadata": {},
     "source": [
      "#Filter By Target and non-target DNAse Assocated Promoter regions"
     ]
    },
    {
     "cell_type": "code",
     "collapsed": false,
     "input": [
      "target_peaks_df = overlapped_peaks_df[overlapped_peaks_df.transcript_name.isin(target_genes)]\n",
      "non_target_peaks_df = overlapped_peaks_df[overlapped_peaks_df.transcript_name.isin(non_target_genes)]\n",
      "#Convert target and non-target DHS Sites back to bedtools\n",
      "target_peaks_bedtool = bedtool_from_dataframe(target_peaks_df)\n",
      "shuffed_target_peaks_bedtool = target_peaks_bedtool.shuffle(incl=promoter_regions.fn,\n",
      "                                                            g=\"/nas3/yeolab/Genome/ucsc/mm9/mm9.chrom.sizes\")\n",
      "non_target_peaks_bedtool = bedtool_from_dataframe(non_target_peaks_df)"
     ],
     "language": "python",
     "metadata": {},
     "outputs": [],
     "prompt_number": 266
    },
    {
     "cell_type": "markdown",
     "metadata": {},
     "source": [
      "#Run Homer on them"
     ]
    },
    {
     "cell_type": "code",
     "collapsed": false,
     "input": [
      "CLIP_analysis.run_homer?"
     ],
     "language": "python",
     "metadata": {},
     "outputs": [],
     "prompt_number": 268
    },
    {
     "cell_type": "code",
     "collapsed": false,
     "input": [
      "target_peaks_bedtool.sequence(fi=\"/nas3/yeolab/Genome/ucsc/mm9/chromosomes/all.fa\").save_seqs(\"target.fastq\")\n",
      "non_target_peaks_bedtool.sequence(fi=\"/nas3/yeolab/Genome/ucsc/mm9/chromosomes/all.fa\").save_seqs(\"non_target.fastq\")\n",
      "CLIP_analysis.run_homer(\"tmp.fastq\", \"shuffled.fastq\", outloc=\"target_non_target\")"
     ],
     "language": "python",
     "metadata": {},
     "outputs": []
    },
    {
     "cell_type": "code",
     "collapsed": false,
     "input": [
      "target_peaks_bedtool.sequence(fi=\"/nas3/yeolab/Genome/ucsc/mm9/chromosomes/all.fa\").save_seqs(\"target.fastq\")\n",
      "shuffed_target_peaks_bedtool.sequence(fi=\"/nas3/yeolab/Genome/ucsc/mm9/chromosomes/all.fa\").save_seqs(\"non_target.fastq\")\n",
      "CLIP_analysis.run_homer(\"tmp.fastq\", \"shuffled.fastq\", outloc=\"shuffled_control\")"
     ],
     "language": "python",
     "metadata": {},
     "outputs": []
    },
    {
     "cell_type": "code",
     "collapsed": false,
     "input": [],
     "language": "python",
     "metadata": {},
     "outputs": []
    }
   ],
   "metadata": {}
  }
 ]
}