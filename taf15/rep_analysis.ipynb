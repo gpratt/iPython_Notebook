{
 "cells": [
  {
   "cell_type": "code",
   "execution_count": 43,
   "metadata": {
    "collapsed": true
   },
   "outputs": [],
   "source": [
    "%matplotlib inline\n",
    "from clipper.src import CLIP_analysis\n",
    "import HTSeq\n",
    "import numpy as np\n",
    "from gscripts.general import dataviz\n",
    "from collections import Counter\n",
    "import os\n",
    "\n",
    "img_dir = \".\""
   ]
  },
  {
   "cell_type": "code",
   "execution_count": 2,
   "metadata": {
    "collapsed": false
   },
   "outputs": [
    {
     "name": "stdout",
     "output_type": "stream",
     "text": [
      "TAF15_1.rep.sorted.filtered.bam               100%  983MB  41.0MB/s   00:24    \n"
     ]
    }
   ],
   "source": [
    "!scp tscc-login.sdsc.edu:~/projects/fet_family/analysis/ad-hoc/TAF15_1.rep.sorted.filtered.bam ."
   ]
  },
  {
   "cell_type": "code",
   "execution_count": 81,
   "metadata": {
    "collapsed": true
   },
   "outputs": [],
   "source": [
    "def get_bam_coverage_deletion(bamfile):\n",
    "    \"\"\"\n",
    "\n",
    "    Given a bam file returns a properly covered htseq coverage file (this is slow)\n",
    "\n",
    "    \"\"\"\n",
    "    all_cigops = Counter()\n",
    "    bam = CLIP_analysis.Robust_BAM_Reader(bamfile)\n",
    "    coverage = HTSeq.GenomicArray(\"auto\", typecode=\"i\", stranded=True)\n",
    "    for read in bam:\n",
    "        if read.aligned:\n",
    "            for cigop in read.cigar:\n",
    "                all_cigops[cigop.type] += 1\n",
    "                if cigop.type != \"D\":\n",
    "                    continue\n",
    "                coverage[cigop.ref_iv] += 1\n",
    "    return coverage, all_cigops"
   ]
  },
  {
   "cell_type": "code",
   "execution_count": 82,
   "metadata": {
    "collapsed": true
   },
   "outputs": [],
   "source": [
    "def get_bam_coverage(bamfile):\n",
    "    \"\"\"\n",
    "\n",
    "    Given a bam file returns a properly covered htseq coverage file (this is slow)\n",
    "\n",
    "    \"\"\"\n",
    "    all_cigops = Counter()\n",
    "    bam = CLIP_analysis.Robust_BAM_Reader(bamfile)\n",
    "    coverage = HTSeq.GenomicArray(\"auto\", typecode=\"i\", stranded=True)\n",
    "    for read in bam:\n",
    "        if read.aligned:\n",
    "            for cigop in read.cigar:\n",
    "                all_cigops[cigop.type] += 1\n",
    "                if cigop.type != \"M\":\n",
    "                    continue\n",
    "                coverage[cigop.ref_iv] += 1\n",
    "    return coverage, all_cigops"
   ]
  },
  {
   "cell_type": "code",
   "execution_count": 83,
   "metadata": {
    "collapsed": false
   },
   "outputs": [],
   "source": [
    "coverage, cigops = get_bam_coverage(\"TAF15_1.rep.sorted.filtered.only_u1.bam\")\n",
    "coverage_d, cigops = get_bam_coverage_deletion(\"TAF15_1.rep.sorted.filtered.only_u1.bam\")"
   ]
  },
  {
   "cell_type": "code",
   "execution_count": 75,
   "metadata": {
    "collapsed": false
   },
   "outputs": [
    {
     "data": {
      "text/plain": [
       "Counter({'M': 491771, 'S': 122086, 'D': 885, 'I': 1})"
      ]
     },
     "execution_count": 75,
     "metadata": {},
     "output_type": "execute_result"
    }
   ],
   "source": [
    "cigops"
   ]
  },
  {
   "cell_type": "code",
   "execution_count": 84,
   "metadata": {
    "collapsed": false
   },
   "outputs": [],
   "source": [
    "foo = coverage.chrom_vectors['U1']['+']\n",
    "foo_d = coverage_d.chrom_vectors['U1']['+']"
   ]
  },
  {
   "cell_type": "code",
   "execution_count": 99,
   "metadata": {
    "collapsed": false,
    "scrolled": false
   },
   "outputs": [],
   "source": [
    "final_result = []\n",
    "start = 0\n",
    "end = 0\n",
    "for step, count in list(foo.steps())[:-1]:\n",
    "    start = min(step.start, start)\n",
    "    end = max(step.end, end)\n",
    "    final_result += [count] * (step.end - step.start)\n",
    "    \n",
    "final_result_d = []\n",
    "start_d = 0\n",
    "end_d = 0\n",
    "for step, count in list(foo_d.steps())[:-1]:\n",
    "    final_result_d += [count] * (step.end - step.start)\n",
    "    start_d = min(step.start, start_d)\n",
    "    end_d = max(step.end, end_d)"
   ]
  },
  {
   "cell_type": "code",
   "execution_count": 100,
   "metadata": {
    "collapsed": false
   },
   "outputs": [
    {
     "name": "stdout",
     "output_type": "stream",
     "text": [
      "570\n",
      "570\n"
     ]
    }
   ],
   "source": [
    "print len(np.arange(start_d, end_d))\n",
    "print len(final_result_d)"
   ]
  },
  {
   "cell_type": "code",
   "execution_count": 107,
   "metadata": {
    "collapsed": true
   },
   "outputs": [],
   "source": [
    "import seaborn as sns"
   ]
  },
  {
   "cell_type": "code",
   "execution_count": 116,
   "metadata": {
    "collapsed": false
   },
   "outputs": [],
   "source": [
    "final_result = np.array(final_result) + 1\n",
    "final_result_d = np.array(final_result_d) + 1"
   ]
  },
  {
   "cell_type": "code",
   "execution_count": 118,
   "metadata": {
    "collapsed": false
   },
   "outputs": [
    {
     "data": {
      "image/png": "[encoded data removed]",
      "text/plain": [
       "<matplotlib.figure.Figure at 0x2aaaacf9bd10>"
      ]
     },
     "metadata": {},
     "output_type": "display_data"
    }
   ],
   "source": [
    "num_cols = 1\n",
    "num_rows = 1\n",
    "with dataviz.Figure(os.path.join(img_dir, \"foo.svg\"), figsize=(2.5 * num_cols,2.5*num_rows)) as fig:\n",
    "    ax = fig.add_subplot(num_rows,num_cols,1)\n",
    "    ax.plot(np.arange(start, end), np.log2(final_result))\n",
    "    ax.plot(np.arange(start_d, end_d), np.log2(final_result_d))\n",
    "\n",
    "    ax.set_xlim(start, end)\n",
    "    ax.set_xticks([])\n",
    "    sns.despine(ax=ax)\n",
    "    "
   ]
  },
  {
   "cell_type": "code",
   "execution_count": null,
   "metadata": {
    "collapsed": true
   },
   "outputs": [],
   "source": []
  }
 ],
 "metadata": {
  "kernelspec": {
   "display_name": "Python 2",
   "language": "python",
   "name": "python2"
  },
  "language_info": {
   "codemirror_mode": {
    "name": "ipython",
    "version": 2
   },
   "file_extension": ".py",
   "mimetype": "text/x-python",
   "name": "python",
   "nbconvert_exporter": "python",
   "pygments_lexer": "ipython2",
   "version": "2.7.5"
  }
 },
 "nbformat": 4,
 "nbformat_minor": 0
}
