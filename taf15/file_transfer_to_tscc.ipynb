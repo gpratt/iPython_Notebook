{
 "metadata": {
  "name": "",
  "signature": "sha256:d9fc2abbc9e168f60f9eed5aa7c5f25e54ad90883041efc163ae20f3ce0cbb90"
 },
 "nbformat": 3,
 "nbformat_minor": 0,
 "worksheets": [
  {
   "cells": [
    {
     "cell_type": "code",
     "collapsed": false,
     "input": [
      "import os"
     ],
     "language": "python",
     "metadata": {},
     "outputs": [],
     "prompt_number": 18
    },
    {
     "cell_type": "code",
     "collapsed": false,
     "input": [
      "with open(\"fus_tls.sh\", 'w') as outfile:\n",
      "    for line in open(\"/nas3/khutt/TDP43_4steph/TLS_TDP43_locations\"):\n",
      "        if line.startswith(\">\"):\n",
      "            date = line[1:].strip()\n",
      "        if line.startswith(\"--\"):\n",
      "            fastq_file = line.split()\n",
      "            location = fastq_file[-1]\n",
      "\n",
      "            fastq_file[0] = fastq_file[0][2:]\n",
      "\n",
      "            name = date + \"_\" +  \"_\".join(fastq_file[:-1]) + \".fastq\"\n",
      "            name = name.replace(\",\", \"\")\n",
      "\n",
      "            if not os.path.exists(location):\n",
      "                location += \".gz\"\n",
      "                name += \".gz\"\n",
      "            if not os.path.exists(location):\n",
      "                print location + \" doesn't exit\"\n",
      "            outfile.write(\"scp \" + location + \" tscc-login.sdsc.edu:/projects/ps-yeolab/seqdata/20140818_fet_family/\" + name + \"\\n\")"
     ],
     "language": "python",
     "metadata": {},
     "outputs": [],
     "prompt_number": 24
    },
    {
     "cell_type": "code",
     "collapsed": false,
     "input": [],
     "language": "python",
     "metadata": {},
     "outputs": [
      {
       "metadata": {},
       "output_type": "pyout",
       "prompt_number": 19,
       "text": [
        "False"
       ]
      }
     ],
     "prompt_number": 19
    },
    {
     "cell_type": "code",
     "collapsed": false,
     "input": [],
     "language": "python",
     "metadata": {},
     "outputs": []
    }
   ],
   "metadata": {}
  }
 ]
}