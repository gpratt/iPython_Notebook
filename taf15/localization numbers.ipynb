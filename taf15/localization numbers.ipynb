{
 "metadata": {
  "name": "",
  "signature": "sha256:1cd96fc7ccca36a1f303d411580d0ef2d28ca35407474cc180c56c2326808a7f"
 },
 "nbformat": 3,
 "nbformat_minor": 0,
 "worksheets": [
  {
   "cells": [
    {
     "cell_type": "code",
     "collapsed": false,
     "input": [
      "import glob\n",
      "import cPickle as pickle\n",
      "import os\n",
      "\n",
      "import pandas as pd "
     ],
     "language": "python",
     "metadata": {},
     "outputs": [],
     "prompt_number": 2
    },
    {
     "cell_type": "code",
     "collapsed": false,
     "input": [
      "!mkdir -p /nas3/gpratt/projects/encode/analysis/20150307_encode_clip_v2/\n",
      "!mkdir -p /nas3/gpratt/projects/encode/analysis/20150224_encode_iclip_v2/\n",
      "!scp tscc-login.sdsc.edu:~/projects/encode/analysis/20150307_encode_clip_v2/*.clip_analysis.pickle /nas3/gpratt/projects/encode/analysis/20150307_encode_clip_v2/\n",
      "!scp tscc-login.sdsc.edu:~/projects/encode/analysis/20150224_encode_iclip_v2/*.clip_analysis.pickle /nas3/gpratt/projects/encode/analysis/20150224_encode_iclip_v2/"
     ],
     "language": "python",
     "metadata": {},
     "outputs": []
    },
    {
     "cell_type": "code",
     "collapsed": false,
     "input": [
      "peaks = glob.glob(\"/nas3/gpratt/projects/encode/analysis/20150307_encode_clip_v2/*.clip_analysis.pickle\") + glob.glob(\"/nas3/gpratt/projects/encode/analysis/20150224_encode_iclip_v2/*.clip_analysis.pickle\")"
     ],
     "language": "python",
     "metadata": {},
     "outputs": [],
     "prompt_number": 10
    },
    {
     "cell_type": "code",
     "collapsed": false,
     "input": [
      "result = {}\n",
      "for pickle_file in peaks:\n",
      "    name = os.path.basename(pickle_file)\n",
      "    peak_dict = pickle.load(open(pickle_file))\n",
      "    result[name] = peak_dict['region_sizes']\n",
      "result = pd.DataFrame(result)"
     ],
     "language": "python",
     "metadata": {},
     "outputs": [],
     "prompt_number": 11
    },
    {
     "cell_type": "code",
     "collapsed": false,
     "input": [
      "result = result.ix[['all', \"cds\", \"distintron500\", \"five_prime_utrs\", \"proxintron500\", \"three_prime_utrs\", 'uncatagorized']].fillna(0)\n",
      "result.to_csv(\"/nas3/gpratt/Dropbox/ENCORE-YEOLAB/analysis/distributions/encode_clip_distributions.csv\")"
     ],
     "language": "python",
     "metadata": {},
     "outputs": [],
     "prompt_number": 12
    },
    {
     "cell_type": "code",
     "collapsed": false,
     "input": [],
     "language": "python",
     "metadata": {},
     "outputs": []
    }
   ],
   "metadata": {}
  }
 ]
}