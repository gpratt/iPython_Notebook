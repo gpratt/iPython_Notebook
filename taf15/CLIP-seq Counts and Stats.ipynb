{
 "cells": [
  {
   "cell_type": "code",
   "execution_count": 65,
   "metadata": {
    "collapsed": false
   },
   "outputs": [],
   "source": [
    "%matplotlib inline\n",
    "\n",
    "import collections\n",
    "import os\n",
    "import clipper\n",
    "from itertools import izip \n",
    "import HTSeq\n",
    "from clipper.src.bam_helpers import Robust_BAM_Reader\n",
    "\n",
    "\n",
    "from clipper.src import count_features\n",
    "from clipper.src import CLIP_analysis\n",
    "from gscripts.general import region_helpers\n",
    "import pandas as pd\n",
    "from gscripts.general import parsers\n",
    "from IPython.core.display import HTML"
   ]
  },
  {
   "cell_type": "code",
   "execution_count": 66,
   "metadata": {
    "collapsed": true
   },
   "outputs": [],
   "source": [
    "def bed_to_genomic_interval(bed):\n",
    "    for interval in bed:\n",
    "        yield HTSeq.GenomicInterval(str(interval.chrom), interval.start, interval.stop, str(interval.strand))\n",
    "\n",
    "        \n",
    "class RegionCounter():\n",
    "    def __init__(self, species):\n",
    "\n",
    "        regions = collections.OrderedDict()\n",
    "        regions[\"all\"] = \"All\"\n",
    "        regions[\"cds\"] = \"CDS\"\n",
    "        regions[\"three_prime_utrs\"] = \"3' UTR\"\n",
    "        regions[\"five_prime_utrs\"] = \"5' UTR\"\n",
    "        regions[\"proxintron500\"] = \"Proximal\\nIntron\"\n",
    "        regions[\"distintron500\"] = \"Distal\\nIntron\"\n",
    "        regions['exons'] = \"Exons\"\n",
    "\n",
    "        assigned_regions = regions.copy()\n",
    "        del assigned_regions['all']\n",
    "        self.species = species\n",
    "        self.assigned_regions = assigned_regions\n",
    "        self.features = self.make_features()\n",
    "\n",
    "    def make_features(self):\n",
    "        Region = collections.namedtuple(\"Region\", [\"region\", \"gene_id\"])\n",
    "\n",
    "        bedtracks = {}\n",
    "        for region in self.assigned_regions:\n",
    "            bedtracks[region] = pybedtools.BedTool(os.path.join(clipper.data_dir(),\n",
    "                                                                \"regions\", \"%s_%s.bed\" % (self.species, region)))\n",
    "\n",
    "\n",
    "\n",
    "        features = HTSeq.GenomicArrayOfSets(\"auto\", stranded=True)\n",
    "        for region, bedtrack in bedtracks.items():\n",
    "            for iv, interval in izip(CLIP_analysis.bed_to_genomic_interval(bedtrack), bedtrack):\n",
    "                features[iv] = set([Region(region, interval.name)])\n",
    "        return features\n",
    "\n",
    "\n",
    "    def count_features(self, bam_file):\n",
    "        bam_file = bed_to_genomic_interval(bam_file)\n",
    "        counts = collections.defaultdict(collections.Counter)\n",
    "        for x, read in enumerate(bam_file):\n",
    "            region_ids = set()\n",
    "            for iv, val in self.features[read].steps():\n",
    "                region_ids |= val\n",
    "\n",
    "            gene_ids = {region_id.gene_id for region_id in region_ids}\n",
    "            if len(gene_ids) == 1:\n",
    "\n",
    "                cur_regions = {region_id.region for region_id in region_ids}\n",
    "\n",
    "                for region in self.assigned_regions:\n",
    "                    if region in cur_regions:\n",
    "                        break\n",
    "\n",
    "                gene_id = list(region_ids)[0]\n",
    "\n",
    "                counts[gene_id.gene_id][region] += 1\n",
    "\n",
    "            elif len(gene_ids) == 0:\n",
    "                counts[\"_no_feature\"]['none'] += 1\n",
    "            else:\n",
    "                counts[\"_ambiguous\"]['none'] += 1\n",
    "\n",
    "        return pd.DataFrame(counts)"
   ]
  },
  {
   "cell_type": "code",
   "execution_count": 67,
   "metadata": {
    "collapsed": false
   },
   "outputs": [],
   "source": [
    "region_counter = RegionCounter(\"mm9\")"
   ]
  },
  {
   "cell_type": "code",
   "execution_count": 104,
   "metadata": {
    "collapsed": false
   },
   "outputs": [
    {
     "name": "stdout",
     "output_type": "stream",
     "text": [
      "TAF15_WholeBrain.merged.bam                   100% 1208MB  25.2MB/s   00:48    \n",
      "TDP43_WholeBrain.merged.bam                   100%  427MB  30.5MB/s   00:14    \n",
      "TLS_WholeBrain.merged.bam                     100%  240MB  26.7MB/s   00:09    \n"
     ]
    }
   ],
   "source": [
    "!mkdir -p /nas3/gpratt/projects/fet_family/analysis/mouse_clip_v5\n",
    "!scp tscc-login.sdsc.edu:/home/gpratt/projects/fet_family/analysis/mouse_clip_v5/*WholeBrain.merged.bam /nas3/gpratt/projects/fet_family/analysis/mouse_clip_v5\n",
    "!scp -q tscc-login.sdsc.edu:/home/gpratt/projects/fet_family/analysis/mouse_clip_v5/*.{metrics,final.out,peaks.bed} /nas3/gpratt/projects/fet_family/analysis/mouse_clip_v5 "
   ]
  },
  {
   "cell_type": "code",
   "execution_count": 4,
   "metadata": {
    "collapsed": false
   },
   "outputs": [
    {
     "data": {
      "text/html": [
       "<table border=\"1\" class=\"dataframe\">\n",
       "  <thead>\n",
       "    <tr style=\"text-align: right;\">\n",
       "      <th></th>\n",
       "      <th>Input Reads</th>\n",
       "      <th>Too short reads</th>\n",
       "      <th>Reads that were too short percent</th>\n",
       "      <th>repetitive_count</th>\n",
       "      <th>Reads Passing Quality Filter</th>\n",
       "      <th>Uniquely Mapped Reads</th>\n",
       "      <th>Uniquely mapped reads %</th>\n",
       "      <th>Usable Reads</th>\n",
       "      <th>Num Peaks</th>\n",
       "    </tr>\n",
       "  </thead>\n",
       "  <tbody>\n",
       "    <tr>\n",
       "      <th>20090209_MP_none1_mouse_brain_CLIPseq_TDP43_lower_band</th>\n",
       "      <td>4,472,151</td>\n",
       "      <td>4,062</td>\n",
       "      <td>0.1</td>\n",
       "      <td>1,267,649</td>\n",
       "      <td>3,993,240</td>\n",
       "      <td>1,354,679</td>\n",
       "      <td>33.92%</td>\n",
       "      <td>216,923</td>\n",
       "      <td>2,246</td>\n",
       "    </tr>\n",
       "    <tr>\n",
       "      <th>20090209_MP_none2_mouse_brain_3A_CLIPseq_TLS</th>\n",
       "      <td>5,940,464</td>\n",
       "      <td>661</td>\n",
       "      <td>0.0</td>\n",
       "      <td>655,254</td>\n",
       "      <td>5,792,395</td>\n",
       "      <td>1,866,037</td>\n",
       "      <td>32.22%</td>\n",
       "      <td>1,694,735</td>\n",
       "      <td>4,840</td>\n",
       "    </tr>\n",
       "    <tr>\n",
       "      <th>20090601_MP_none3_mouse_brain_2A_CLIPseq_TLS</th>\n",
       "      <td>6,754,559</td>\n",
       "      <td>10,796</td>\n",
       "      <td>0.2</td>\n",
       "      <td>342,212</td>\n",
       "      <td>6,661,709</td>\n",
       "      <td>1,223,067</td>\n",
       "      <td>18.36%</td>\n",
       "      <td>1,096,610</td>\n",
       "      <td>3,181</td>\n",
       "    </tr>\n",
       "    <tr>\n",
       "      <th>20090601_MP_none4_mouse_brain_10A_CLIPseq_TDP43_highMNase</th>\n",
       "      <td>5,341,577</td>\n",
       "      <td>763</td>\n",
       "      <td>0.0</td>\n",
       "      <td>806,946</td>\n",
       "      <td>5,185,955</td>\n",
       "      <td>735,875</td>\n",
       "      <td>14.19%</td>\n",
       "      <td>520,223</td>\n",
       "      <td>20,426</td>\n",
       "    </tr>\n",
       "    <tr>\n",
       "      <th>20090601_MP_none5_mouse_brain_13E_CLIPseq_empty_beads</th>\n",
       "      <td>6,342,111</td>\n",
       "      <td>961</td>\n",
       "      <td>0.0</td>\n",
       "      <td>1,095,800</td>\n",
       "      <td>5,963,457</td>\n",
       "      <td>1,086,740</td>\n",
       "      <td>18.22%</td>\n",
       "      <td>132,641</td>\n",
       "      <td>5,717</td>\n",
       "    </tr>\n",
       "    <tr>\n",
       "      <th>20091230_MP10_1_TLS_clip_mouse_brain_3A</th>\n",
       "      <td>8,321,534</td>\n",
       "      <td>1,094</td>\n",
       "      <td>0.0</td>\n",
       "      <td>46,569</td>\n",
       "      <td>8,308,383</td>\n",
       "      <td>282,219</td>\n",
       "      <td>3.40%</td>\n",
       "      <td>266,699</td>\n",
       "      <td>535</td>\n",
       "    </tr>\n",
       "    <tr>\n",
       "      <th>20091230_MP11_1_TLS_clip_mouse_brain_3B</th>\n",
       "      <td>11,679,461</td>\n",
       "      <td>1,907</td>\n",
       "      <td>0.0</td>\n",
       "      <td>194,283</td>\n",
       "      <td>11,627,895</td>\n",
       "      <td>1,076,942</td>\n",
       "      <td>9.26%</td>\n",
       "      <td>996,634</td>\n",
       "      <td>3,153</td>\n",
       "    </tr>\n",
       "    <tr>\n",
       "      <th>20101110_MP41_1_mouse_brain_CLIPseq_TDP43_lower_band</th>\n",
       "      <td>70,496,200</td>\n",
       "      <td>684,826</td>\n",
       "      <td>1.0</td>\n",
       "      <td>20,292,044</td>\n",
       "      <td>65,591,046</td>\n",
       "      <td>18,875,696</td>\n",
       "      <td>28.78%</td>\n",
       "      <td>3,412,759</td>\n",
       "      <td>71,138</td>\n",
       "    </tr>\n",
       "    <tr>\n",
       "      <th>20101110_MP42_1_mouse_brain_CLIPseq_TDP43_upper_band</th>\n",
       "      <td>71,776,915</td>\n",
       "      <td>674,998</td>\n",
       "      <td>0.9</td>\n",
       "      <td>29,352,592</td>\n",
       "      <td>65,012,667</td>\n",
       "      <td>19,378,128</td>\n",
       "      <td>29.81%</td>\n",
       "      <td>4,407,855</td>\n",
       "      <td>58,207</td>\n",
       "    </tr>\n",
       "    <tr>\n",
       "      <th>TAF15_1</th>\n",
       "      <td>288,984,903</td>\n",
       "      <td>11,548,509</td>\n",
       "      <td>4.0</td>\n",
       "      <td>50,320,764</td>\n",
       "      <td>262,881,597</td>\n",
       "      <td>122,174,227</td>\n",
       "      <td>46.48%</td>\n",
       "      <td>22,801,935</td>\n",
       "      <td>33,459</td>\n",
       "    </tr>\n",
       "    <tr>\n",
       "      <th>TAF15_2</th>\n",
       "      <td>266,493,022</td>\n",
       "      <td>87,067,271</td>\n",
       "      <td>32.7</td>\n",
       "      <td>10,357,182</td>\n",
       "      <td>173,709,921</td>\n",
       "      <td>2,689,599</td>\n",
       "      <td>1.55%</td>\n",
       "      <td>832,430</td>\n",
       "      <td>27,997</td>\n",
       "    </tr>\n",
       "    <tr>\n",
       "      <th>TAF15_WholeBrain</th>\n",
       "      <td>0</td>\n",
       "      <td>0</td>\n",
       "      <td>NaN</td>\n",
       "      <td>0</td>\n",
       "      <td>NaN</td>\n",
       "      <td>0</td>\n",
       "      <td>NaN</td>\n",
       "      <td>0</td>\n",
       "      <td>38,042</td>\n",
       "    </tr>\n",
       "    <tr>\n",
       "      <th>TDP43_WholeBrain</th>\n",
       "      <td>0</td>\n",
       "      <td>0</td>\n",
       "      <td>NaN</td>\n",
       "      <td>0</td>\n",
       "      <td>NaN</td>\n",
       "      <td>0</td>\n",
       "      <td>NaN</td>\n",
       "      <td>0</td>\n",
       "      <td>93,343</td>\n",
       "    </tr>\n",
       "    <tr>\n",
       "      <th>TLS_WholeBrain</th>\n",
       "      <td>0</td>\n",
       "      <td>0</td>\n",
       "      <td>NaN</td>\n",
       "      <td>0</td>\n",
       "      <td>NaN</td>\n",
       "      <td>0</td>\n",
       "      <td>NaN</td>\n",
       "      <td>0</td>\n",
       "      <td>12,659</td>\n",
       "    </tr>\n",
       "  </tbody>\n",
       "</table>"
      ],
      "text/plain": [
       "<IPython.core.display.HTML object>"
      ]
     },
     "execution_count": 4,
     "metadata": {},
     "output_type": "execute_result"
    }
   ],
   "source": [
    "clip_rnaseq_df = parsers.clipseq_metrics(\"/nas3/gpratt/projects/fet_family/analysis/mouse_clip_v5\", iclip=False)\n",
    "filtered_df = clip_rnaseq_df[[ \"Input Reads\",\n",
    "                             \"Too short reads\",\n",
    "                             \"Reads that were too short percent\",\n",
    "                             'repetitive_count',\n",
    "                        \"Reads Passing Quality Filter\", \n",
    "                        \"Uniquely Mapped Reads\",\n",
    "                        \"Uniquely mapped reads %\",\n",
    "                        \"Usable Reads\",\n",
    "                            \n",
    "                             \n",
    "                            #\"spot\",\n",
    "                            \"Num Peaks\",\n",
    "                            #\"Fraction Collapsed\",\n",
    "                            # \"Fraction Usable\"                             \n",
    "                            ]]\n",
    "\n",
    "\n",
    "HTML(filtered_df.to_html(formatters={\"Input Reads\" : parsers.commas,\n",
    "                                     'repetitive_count': parsers.commas,\n",
    "                                     \"Too short reads\": parsers.commas,\n",
    "                                     \"Reads Passing Quality Filter\" : parsers.commas,\n",
    "                                     \"Reads after Quality Filtering\" : parsers.commas,\n",
    "                                     \"Uniquely Mapped Reads\" : parsers.commas,\n",
    "                                     \"Usable Reads\" : parsers.commas,\n",
    "                                     \"Num Peaks\": parsers.commas\n",
    "                                     } ))"
   ]
  },
  {
   "cell_type": "code",
   "execution_count": 68,
   "metadata": {
    "collapsed": true
   },
   "outputs": [],
   "source": [
    "def gene_id_to_type_fun(genes):\n",
    "    for gene_id in genes:\n",
    "        try:\n",
    "            yield gene_id_to_type[gene_id]\n",
    "        except:\n",
    "            yield \"no_type\""
   ]
  },
  {
   "cell_type": "code",
   "execution_count": 69,
   "metadata": {
    "collapsed": false
   },
   "outputs": [],
   "source": [
    "gene_id_to_name = region_helpers.gene_id_to_name(\"/nas3/gpratt/gencode/gencode.vM1.annotation.gtf.db\")\n",
    "gene_id_to_type = region_helpers.gene_id_to_type(\"/nas3/gpratt/gencode/gencode.vM1.annotation.gtf.db\")\n",
    "\n",
    "name_to_gene_id = {value: key for key, value in gene_id_to_name.items()}"
   ]
  },
  {
   "cell_type": "code",
   "execution_count": 72,
   "metadata": {
    "collapsed": false
   },
   "outputs": [],
   "source": [
    "taf15_df = region_counter.count_features(pybedtools.BedTool(\"/nas3/gpratt/projects/fet_family/data/TAF15.all.BED\"))\n",
    "taf15_1_df = region_counter.count_features(pybedtools.BedTool(\"/nas3/gpratt/projects/fet_family/data/TAF15_195.all.BED\"))\n",
    "taf15_2_df = region_counter.count_features(pybedtools.BedTool(\"/nas3/gpratt/projects/fet_family/data/TAF15_196.all.BED\"))\n",
    "# tdp43_df = region_counter.count_features(\"/nas3/gpratt/projects/fet_family/analysis/mouse_clip_v5/TDP43_WholeBrain.merged.bam\")\n",
    "# tls_df = region_counter.count_features(\"/nas3/gpratt/projects/fet_family/analysis/mouse_clip_v5/TLS_WholeBrain.merged.bam\")\n",
    "\n",
    "taf15_df = pd.DataFrame(taf15_df.fillna(0).stack(), columns=[\"count\"])\n",
    "taf15_1_df = pd.DataFrame(taf15_1_df.fillna(0).stack(), columns=[\"count\"])\n",
    "taf15_2_df = pd.DataFrame(taf15_2_df.fillna(0).stack(), columns=[\"count\"])\n",
    "# tdp43_df= pd.DataFrame(tdp43_df.fillna(0).stack(), columns=[\"count\"])\n",
    "# tls_df = pd.DataFrame(tls_df.fillna(0).stack(), columns=[\"count\"])\n",
    "\n",
    "taf15_df['gene_type'] = list(gene_id_to_type_fun(taf15_df.index.get_level_values(level=1)))\n",
    "taf15_1_df['gene_type'] = list(gene_id_to_type_fun(taf15_1_df.index.get_level_values(level=1)))\n",
    "taf15_2_df['gene_type'] = list(gene_id_to_type_fun(taf15_2_df.index.get_level_values(level=1)))\n",
    "# tdp43_df['gene_type'] = list(gene_id_to_type_fun(tdp43_df.index.get_level_values(level=1)))\n",
    "# tls_df['gene_type'] = list(gene_id_to_type_fun(tls_df.index.get_level_values(level=1)))"
   ]
  },
  {
   "cell_type": "code",
   "execution_count": 73,
   "metadata": {
    "collapsed": true
   },
   "outputs": [],
   "source": [
    "non_coding_genes = {'IG_C_gene',\n",
    " 'IG_D_gene',\n",
    " 'IG_J_gene',\n",
    " 'IG_V_gene',\n",
    " 'Mt_rRNA',\n",
    " 'Mt_tRNA',\n",
    " 'lincRNA',\n",
    " 'miRNA',\n",
    " 'misc_RNA',\n",
    " 'polymorphic_pseudogene',\n",
    " 'processed_transcript',\n",
    " 'pseudogene',\n",
    " 'rRNA',\n",
    " 'snRNA',\n",
    " 'snoRNA'}"
   ]
  },
  {
   "cell_type": "code",
   "execution_count": 74,
   "metadata": {
    "collapsed": false
   },
   "outputs": [
    {
     "data": {
      "text/plain": [
       "5975094.0"
      ]
     },
     "execution_count": 74,
     "metadata": {},
     "output_type": "execute_result"
    }
   ],
   "source": [
    "total = taf15_df['count'].sum()\n",
    "total"
   ]
  },
  {
   "cell_type": "code",
   "execution_count": 75,
   "metadata": {
    "collapsed": false
   },
   "outputs": [],
   "source": [
    "total_protein_coding = taf15_df[taf15_df['gene_type'] == \"protein_coding\"]['count'].sum() "
   ]
  },
  {
   "cell_type": "code",
   "execution_count": 76,
   "metadata": {
    "collapsed": false
   },
   "outputs": [
    {
     "name": "stdout",
     "output_type": "stream",
     "text": [
      "3173314.0\n",
      "2801780.0\n"
     ]
    }
   ],
   "source": [
    "print taf15_1_df['count'].sum()\n",
    "print taf15_2_df['count'].sum()"
   ]
  },
  {
   "cell_type": "code",
   "execution_count": 77,
   "metadata": {
    "collapsed": false
   },
   "outputs": [
    {
     "name": "stdout",
     "output_type": "stream",
     "text": [
      "2729033.0\n",
      "2399782.0\n"
     ]
    }
   ],
   "source": [
    "print taf15_1_df[taf15_1_df['gene_type'] == \"protein_coding\"]['count'].sum() \n",
    "print taf15_2_df[taf15_2_df['gene_type'] == \"protein_coding\"]['count'].sum() \n"
   ]
  },
  {
   "cell_type": "code",
   "execution_count": 78,
   "metadata": {
    "collapsed": false
   },
   "outputs": [],
   "source": [
    "total_noncoding = taf15_df[taf15_df['gene_type'].isin(non_coding_genes)]['count'].sum()"
   ]
  },
  {
   "cell_type": "code",
   "execution_count": 79,
   "metadata": {
    "collapsed": false
   },
   "outputs": [
    {
     "data": {
      "text/plain": [
       "5128815.0"
      ]
     },
     "execution_count": 79,
     "metadata": {},
     "output_type": "execute_result"
    }
   ],
   "source": [
    "total_protein_coding"
   ]
  },
  {
   "cell_type": "code",
   "execution_count": 80,
   "metadata": {
    "collapsed": false
   },
   "outputs": [
    {
     "data": {
      "text/plain": [
       "0.85836557550391679"
      ]
     },
     "execution_count": 80,
     "metadata": {},
     "output_type": "execute_result"
    }
   ],
   "source": [
    "total_protein_coding / total"
   ]
  },
  {
   "cell_type": "code",
   "execution_count": 81,
   "metadata": {
    "collapsed": false
   },
   "outputs": [
    {
     "data": {
      "text/plain": [
       "139382.0"
      ]
     },
     "execution_count": 81,
     "metadata": {},
     "output_type": "execute_result"
    }
   ],
   "source": [
    "total_noncoding"
   ]
  },
  {
   "cell_type": "code",
   "execution_count": 82,
   "metadata": {
    "collapsed": false
   },
   "outputs": [
    {
     "data": {
      "text/plain": [
       "0.023327164392727546"
      ]
     },
     "execution_count": 82,
     "metadata": {},
     "output_type": "execute_result"
    }
   ],
   "source": [
    "total_noncoding / total"
   ]
  },
  {
   "cell_type": "code",
   "execution_count": 83,
   "metadata": {
    "collapsed": false
   },
   "outputs": [],
   "source": [
    "#taf15_premrna = taf15_df[taf15_df['gene_type'] == \"protein_coding\"].ix[['proxintron500', 'distintron500']]\n",
    "#taf15_premrna['count'].sum()"
   ]
  },
  {
   "cell_type": "code",
   "execution_count": 84,
   "metadata": {
    "collapsed": false
   },
   "outputs": [],
   "source": [
    "#This is stupid, these are not pre-mrna\n",
    "#print taf15_1_df[taf15_1_df['gene_type'] == \"protein_coding\"].ix[['proxintron500', 'distintron500']]['count'].sum()\n",
    "#print taf15_2_df[taf15_2_df['gene_type'] == \"protein_coding\"].ix[['proxintron500', 'distintron500']]['count'].sum()"
   ]
  },
  {
   "cell_type": "code",
   "execution_count": 85,
   "metadata": {
    "collapsed": false
   },
   "outputs": [],
   "source": [
    "#len(set(taf15_premrna[taf15_premrna['count'] > 10].index.get_level_values(level=1)))"
   ]
  },
  {
   "cell_type": "code",
   "execution_count": 86,
   "metadata": {
    "collapsed": false
   },
   "outputs": [
    {
     "data": {
      "text/plain": [
       "99.89999999999999"
      ]
     },
     "execution_count": 86,
     "metadata": {},
     "output_type": "execute_result"
    }
   ],
   "source": [
    "81.1 + 1.5 + 17.3"
   ]
  },
  {
   "cell_type": "code",
   "execution_count": 87,
   "metadata": {
    "collapsed": false
   },
   "outputs": [
    {
     "data": {
      "text/plain": [
       "706897.0"
      ]
     },
     "execution_count": 87,
     "metadata": {},
     "output_type": "execute_result"
    }
   ],
   "source": [
    "taf15_df[taf15_df.gene_type == \"no_type\"]['count'].sum()"
   ]
  },
  {
   "cell_type": "code",
   "execution_count": 88,
   "metadata": {
    "collapsed": false
   },
   "outputs": [
    {
     "data": {
      "text/plain": [
       "0.1183072601033557"
      ]
     },
     "execution_count": 88,
     "metadata": {},
     "output_type": "execute_result"
    }
   ],
   "source": [
    "taf15_df[taf15_df.gene_type == \"no_type\"]['count'].sum() / total"
   ]
  },
  {
   "cell_type": "code",
   "execution_count": null,
   "metadata": {
    "collapsed": true
   },
   "outputs": [],
   "source": []
  },
  {
   "cell_type": "code",
   "execution_count": null,
   "metadata": {
    "collapsed": true
   },
   "outputs": [],
   "source": []
  }
 ],
 "metadata": {
  "kernelspec": {
   "display_name": "Python 2",
   "language": "python",
   "name": "python2"
  },
  "language_info": {
   "codemirror_mode": {
    "name": "ipython",
    "version": 2
   },
   "file_extension": ".py",
   "mimetype": "text/x-python",
   "name": "python",
   "nbconvert_exporter": "python",
   "pygments_lexer": "ipython2",
   "version": "2.7.10"
  }
 },
 "nbformat": 4,
 "nbformat_minor": 0
}
