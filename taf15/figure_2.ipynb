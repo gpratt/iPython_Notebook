{
 "metadata": {
  "name": "",
  "signature": "sha256:dbae8301c0fc49299431cddf010d79ef51bdcef8db7ab62570435c9c76f4675d"
 },
 "nbformat": 3,
 "nbformat_minor": 0,
 "worksheets": [
  {
   "cells": [
    {
     "cell_type": "code",
     "collapsed": false,
     "input": [
      "from collections import OrderedDict, Counter, defaultdict\n",
      "import glob \n",
      "import itertools\n",
      "from itertools import izip\n",
      "import os\n",
      "\n",
      "from IPython.core.display import HTML\n",
      "import gffutils\n",
      "from matplotlib import gridspec\n",
      "import matplotlib.pyplot as plt\n",
      "import numpy as np\n",
      "import pandas as pd\n",
      "import seaborn as sns\n",
      "\n",
      "from clipper.src import CLIP_analysis\n",
      "from clipper.src import CLIP_analysis_display\n",
      "from gscripts.general import dataviz\n",
      "from gscripts import GO\n",
      "from gscripts.general import region_helpers\n",
      "\n",
      "fig_dir = \".\"\n",
      "img_dir = \"/nas3/gpratt/Dropbox/TAF15/Data/GP_TAF15_CLIP_motif/\""
     ],
     "language": "python",
     "metadata": {},
     "outputs": [],
     "prompt_number": 1
    },
    {
     "cell_type": "markdown",
     "metadata": {},
     "source": [
      "#And here I will copy some clip analysis code"
     ]
    },
    {
     "cell_type": "code",
     "collapsed": false,
     "input": [
      "regions = OrderedDict()\n",
      "regions['all'] = 'All'\n",
      "regions[\"cds\"] = \"CDS\"\n",
      "regions[\"three_prime_utrs\"] = \"3' UTR\"\n",
      "regions[\"five_prime_utrs\"] = \"5' UTR\"\n",
      "regions[\"proxintron500\"] = \"Proximal\\nIntron\"\n",
      "regions[\"distintron500\"] = \"Distal\\nIntron\"\n",
      "\n",
      "assigned_regions = regions.copy()\n",
      "del assigned_regions['all'] \n",
      "def move_name(interval):\n",
      "    interval.name = interval[12]\n",
      "    return interval\n",
      "\n",
      "viz = CLIP_analysis_display.ClipVisualization()\n",
      "\n",
      "def get_region_sizes(bedtool, fig=None):\n",
      "    root = \"/nas3/gpratt/iPython_Notebook/taf15/\"\n",
      "    out_dir = os.path.join(root, \"assigned/\")\n",
      "    fasta_dir = os.path.join(root, \"fasta/\")\n",
      "    cluster_name = os.path.basename(bedtool.fn)                               \n",
      "    cluster_regions = CLIP_analysis.assign_to_regions(tool=bedtool, \n",
      "                                                      clusters=cluster_name, \n",
      "                                                      regions=assigned_regions, \n",
      "                                                      assigned_dir = out_dir,\n",
      "                                                      species=\"mm9\"\n",
      "                                                      )\n",
      "    return CLIP_analysis.get_sizes(cluster_regions)\n",
      "\n",
      "    \n",
      "def plot_distributions(bedtool, ax=None, label=None):\n",
      "    if not ax:\n",
      "        fig = plt.figure()\n",
      "        ax = fig.add_subplot(1,1,1)\n",
      "        \n",
      "    lens = [len(interval) for interval in bedtool]\n",
      "    counts = Counter(lens)\n",
      "    ax.plot(counts.keys(), counts.values(), label=label)\n",
      "\n",
      "    \n",
      "def gencode_to_ensembl(gene_list):\n",
      "    for gene in gene_list:\n",
      "        yield gene.split(\".\")[0]\n",
      "        \n",
      "def plot_go_enrichment(df, filter_value=None, max_terms=None, **kwargs):\n",
      "    df = df.copy()\n",
      "    new_index = []\n",
      "    for index, description in izip(df.index, df['GO Term Description']):\n",
      "        new_index.append(list(index[:-1]) + [description])\n",
      "    df.index = pd.MultiIndex.from_tuples(new_index)\n",
      "\n",
      "    go_matrix = df['Bonferroni-corrected Hypergeometric p-Value'].apply(lambda x: -1 * np.log10(x))\n",
      "    go_matrix = go_matrix.unstack(range(len(go_matrix.index.levels) - 1))\n",
      "    go_matrix = go_matrix.fillna(0)\n",
      "    \n",
      "    #Set cutoff on values \n",
      "    if filter_value is not None:\n",
      "        go_matrix = go_matrix[go_matrix.apply(max, axis=1) > filter_value]\n",
      "    \n",
      "    #Set cutoff on number of go terms to show\n",
      "    if max_terms is not None:\n",
      "        go_matrix = go_matrix.ix[go_matrix.max(axis=1).order(ascending=False).index].ix[:max_terms]\n",
      "    sns.clustermap(go_matrix, robust=True, **kwargs)\n",
      "\n",
      "    \n",
      "#gene_id_to_name = region_helpers.gene_id_to_name(\"/nas3/gpratt/gencode/gencode.vM1.annotation.gtf.db\")\n",
      "#gene_id_to_type = region_helpers.gene_id_to_type(\"/nas3/gpratt/gencode/gencode.vM1.annotation.gtf.db\")"
     ],
     "language": "python",
     "metadata": {},
     "outputs": [],
     "prompt_number": 2
    },
    {
     "cell_type": "code",
     "collapsed": false,
     "input": [
      "rbps = {\"taf15\": pybedtools.BedTool(\"/nas3/gpratt/projects/fet_family/data/stuff_for_KK/TAF15_combined_notrim_ingenes_clusters_mm950.bed\"),\n",
      " \"fus\": pybedtools.BedTool(\"/nas3/gpratt/projects/fet_family/data/stuff_for_KK/TLS_hiseq_notrim_ingenes_clusters_mm950.bed\"),\n",
      " \"tdp43\": pybedtools.BedTool(\"/nas3/gpratt/projects/fet_family/data/stuff_for_KK/TDP43brainclip_MP41_kcomb_notrim_ingenes_clusters_mm950.bed\"),\n",
      " }\n",
      "\n",
      "genes = pybedtools.BedTool(\"/nas3/gpratt/clipper/clipper/data/regions/mm9_genes.bed\")\n",
      "\n",
      "for name, rbp in rbps.items():\n",
      "    rbps[name] = rbp.intersect(genes, wo=True, s=True).each(move_name).saveas()"
     ],
     "language": "python",
     "metadata": {},
     "outputs": [],
     "prompt_number": 3
    },
    {
     "cell_type": "code",
     "collapsed": false,
     "input": [
      "counts = {}\n",
      "counts['Transcriptome'] = CLIP_analysis.count_genomic_region_sizes(assigned_regions, 'mm9')\n",
      "\n",
      "for rbp in rbps:\n",
      "    counts[rbp] = get_region_sizes(rbps[rbp])"
     ],
     "language": "python",
     "metadata": {},
     "outputs": [
      {
       "output_type": "stream",
       "stream": "stdout",
       "text": [
        "There are a total 72386 clusters I'll examine\n",
        "For region: cds found 529 that overlap and 71857 that don't"
       ]
      },
      {
       "output_type": "stream",
       "stream": "stdout",
       "text": [
        "\n",
        "For region: three_prime_utrs found 3010 that overlap and 68847 that don't"
       ]
      },
      {
       "output_type": "stream",
       "stream": "stdout",
       "text": [
        "\n",
        "For region: five_prime_utrs found 194 that overlap and 68653 that don't"
       ]
      },
      {
       "output_type": "stream",
       "stream": "stdout",
       "text": [
        "\n",
        "For region: proxintron500 found 8436 that overlap and 60217 that don't"
       ]
      },
      {
       "output_type": "stream",
       "stream": "stdout",
       "text": [
        "\n",
        "For region: distintron500 found 57513 that overlap and 2704 that don't"
       ]
      },
      {
       "output_type": "stream",
       "stream": "stdout",
       "text": [
        "\n",
        "After assigning 2704 un-categorized regions"
       ]
      },
      {
       "output_type": "stream",
       "stream": "stdout",
       "text": [
        "\n",
        "There are a total 160908 clusters I'll examine"
       ]
      },
      {
       "output_type": "stream",
       "stream": "stdout",
       "text": [
        "\n",
        "For region: cds found 13266 that overlap and 147642 that don't"
       ]
      },
      {
       "output_type": "stream",
       "stream": "stdout",
       "text": [
        "\n",
        "For region: three_prime_utrs found 10784 that overlap and 136858 that don't"
       ]
      },
      {
       "output_type": "stream",
       "stream": "stdout",
       "text": [
        "\n",
        "For region: five_prime_utrs found 948 that overlap and 135910 that don't"
       ]
      },
      {
       "output_type": "stream",
       "stream": "stdout",
       "text": [
        "\n",
        "For region: proxintron500 found 21296 that overlap and 114614 that don't"
       ]
      },
      {
       "output_type": "stream",
       "stream": "stdout",
       "text": [
        "\n",
        "For region: distintron500 found 109460 that overlap and 5154 that don't"
       ]
      },
      {
       "output_type": "stream",
       "stream": "stdout",
       "text": [
        "\n",
        "After assigning 5154 un-categorized regions"
       ]
      },
      {
       "output_type": "stream",
       "stream": "stdout",
       "text": [
        "\n",
        "There are a total 46453 clusters I'll examine"
       ]
      },
      {
       "output_type": "stream",
       "stream": "stdout",
       "text": [
        "\n",
        "For region: cds found 1482 that overlap and 44971 that don't"
       ]
      },
      {
       "output_type": "stream",
       "stream": "stdout",
       "text": [
        "\n",
        "For region: three_prime_utrs found 5706 that overlap and 39265 that don't"
       ]
      },
      {
       "output_type": "stream",
       "stream": "stdout",
       "text": [
        "\n",
        "For region: five_prime_utrs found 276 that overlap and 38989 that don't"
       ]
      },
      {
       "output_type": "stream",
       "stream": "stdout",
       "text": [
        "\n",
        "For region: proxintron500 found 4786 that overlap and 34203 that don't"
       ]
      },
      {
       "output_type": "stream",
       "stream": "stdout",
       "text": [
        "\n",
        "For region: distintron500 found 32355 that overlap and 1848 that don't"
       ]
      },
      {
       "output_type": "stream",
       "stream": "stdout",
       "text": [
        "\n",
        "After assigning 1848 un-categorized regions"
       ]
      },
      {
       "output_type": "stream",
       "stream": "stdout",
       "text": [
        "\n"
       ]
      }
     ],
     "prompt_number": 15
    },
    {
     "cell_type": "code",
     "collapsed": false,
     "input": [
      "df = pd.DataFrame(counts)\n",
      "df = df.drop([\"all\", 'uncatagorized'])\n",
      "df = df / df.sum()\n",
      "\n",
      "df = df.ix[[\"three_prime_utrs\", \"distintron500\", \"proxintron500\", \"cds\", \"five_prime_utrs\"]]\n",
      "df = df[['taf15', 'fus', 'tdp43', 'Transcriptome']]\n",
      "df.columns = ['TAF15', 'FUS', \"TDP-43\", 'Transcriptome']\n",
      "cumsum_df = df.cumsum()\n"
     ],
     "language": "python",
     "metadata": {},
     "outputs": [],
     "prompt_number": 90
    },
    {
     "cell_type": "markdown",
     "metadata": {},
     "source": [
      "#Figure 2a, plotting distributions of all the things"
     ]
    },
    {
     "cell_type": "code",
     "collapsed": false,
     "input": [
      "with dataviz.Figure(os.path.join(img_dir, \"percent_binding.svg\"), figsize=(num_cols * 4.0,num_rows * 2.5)) as fig:\n",
      "    ax = fig.add_subplot(num_rows,num_cols,1)\n",
      "\n",
      "    sns.barplot(np.array(cumsum_df.columns), y=cumsum_df.ix['five_prime_utrs'], color='m', ax=ax)\n",
      "    sns.barplot(np.array(cumsum_df.columns), y=cumsum_df.ix['cds'], color='g', ax=ax)\n",
      "    sns.barplot(np.array(cumsum_df.columns), y=cumsum_df.ix['proxintron500'], color='y', ax=ax)\n",
      "    sns.barplot(np.array(cumsum_df.columns), y=cumsum_df.ix['distintron500'], color='b', ax=ax)\n",
      "    sns.barplot(np.array(cumsum_df.columns), y=cumsum_df.ix['three_prime_utrs'], color='r', ax=ax)\n",
      "    sns.despine(ax=ax, left=True)\n",
      "\n",
      "    five_prime_utrs = plt.Rectangle((0,0),1,1, fc='m', edgecolor = 'none')\n",
      "    cds = plt.Rectangle((0,0),1,1,fc='g',  edgecolor = 'none')\n",
      "    proxintron500 = plt.Rectangle((0,0),1,1, fc='y', edgecolor = 'none')\n",
      "    distintron500 = plt.Rectangle((0,0),1,1,fc='b',  edgecolor = 'none')\n",
      "    three_prime_utrs = plt.Rectangle((0,0),1,1, fc='r', edgecolor = 'none')\n",
      "\n",
      "    l = plt.legend([five_prime_utrs, cds, proxintron500, distintron500, three_prime_utrs], \n",
      "                   [\"5' UTR\", 'CDS', 'Proximal Intron', \"Distal Intron\", \"3' UTR\"], loc=5, ncol = 1, prop={'size':10})\n",
      "    l.draw_frame(False)\n",
      "    #Need to change to percent\n",
      "    ax.set_ylabel(\"% Genomic Coverage\")"
     ],
     "language": "python",
     "metadata": {},
     "outputs": [
      {
       "metadata": {},
       "output_type": "display_data",
       "png": "[encoded data removed]",
       "text": [
        "<matplotlib.figure.Figure at 0x751eb50>"
       ]
      }
     ],
     "prompt_number": 107
    },
    {
     "cell_type": "code",
     "collapsed": false,
     "input": [
      "log2_fold_enrichment = np.log2(df.div(df.Transcriptome, axis=0))\n",
      "log2_fold_enrichment = log2_fold_enrichment.drop(\"Transcriptome\", axis=1)"
     ],
     "language": "python",
     "metadata": {},
     "outputs": [],
     "prompt_number": 106
    },
    {
     "cell_type": "markdown",
     "metadata": {},
     "source": [
      "Figure 2b checks out, but I don't quite want to remake Kasey's nice image right now, leaving it be"
     ]
    },
    {
     "cell_type": "code",
     "collapsed": false,
     "input": [
      "log2_fold_enrichment"
     ],
     "language": "python",
     "metadata": {},
     "outputs": [
      {
       "html": [
        "<div style=\"max-height:1000px;max-width:1500px;overflow:auto;\">\n",
        "<table border=\"1\" class=\"dataframe\">\n",
        "  <thead>\n",
        "    <tr style=\"text-align: right;\">\n",
        "      <th></th>\n",
        "      <th>TAF15</th>\n",
        "      <th>FUS</th>\n",
        "      <th>TDP-43</th>\n",
        "    </tr>\n",
        "  </thead>\n",
        "  <tbody>\n",
        "    <tr>\n",
        "      <th>three_prime_utrs</th>\n",
        "      <td> 2.637999</td>\n",
        "      <td> 1.498956</td>\n",
        "      <td> 0.785038</td>\n",
        "    </tr>\n",
        "    <tr>\n",
        "      <th>distintron500</th>\n",
        "      <td>-0.199201</td>\n",
        "      <td>-0.178626</td>\n",
        "      <td> 0.059537</td>\n",
        "    </tr>\n",
        "    <tr>\n",
        "      <th>proxintron500</th>\n",
        "      <td>-0.457198</td>\n",
        "      <td>-0.105974</td>\n",
        "      <td>-0.253183</td>\n",
        "    </tr>\n",
        "    <tr>\n",
        "      <th>cds</th>\n",
        "      <td> 0.126191</td>\n",
        "      <td> 1.411147</td>\n",
        "      <td>-2.356135</td>\n",
        "    </tr>\n",
        "    <tr>\n",
        "      <th>five_prime_utrs</th>\n",
        "      <td> 0.010953</td>\n",
        "      <td>-0.052022</td>\n",
        "      <td>-0.944719</td>\n",
        "    </tr>\n",
        "  </tbody>\n",
        "</table>\n",
        "<p>5 rows \u00d7 3 columns</p>\n",
        "</div>"
       ],
       "metadata": {},
       "output_type": "pyout",
       "prompt_number": 108,
       "text": [
        "                     TAF15       FUS    TDP-43\n",
        "three_prime_utrs  2.637999  1.498956  0.785038\n",
        "distintron500    -0.199201 -0.178626  0.059537\n",
        "proxintron500    -0.457198 -0.105974 -0.253183\n",
        "cds               0.126191  1.411147 -2.356135\n",
        "five_prime_utrs   0.010953 -0.052022 -0.944719\n",
        "\n",
        "[5 rows x 3 columns]"
       ]
      }
     ],
     "prompt_number": 108
    },
    {
     "cell_type": "markdown",
     "metadata": {},
     "source": [
      "#Remake figures C and D"
     ]
    },
    {
     "cell_type": "code",
     "collapsed": false,
     "input": [
      "rbps[rbp_1]"
     ],
     "language": "python",
     "metadata": {},
     "outputs": []
    },
    {
     "cell_type": "code",
     "collapsed": false,
     "input": [
      "overlapping = defaultdict(dict)\n",
      "for rbp_1 in rbps:\n",
      "    for rbp_2 in rbps:\n",
      "        overlapping[rbp_1][rbp_2] = len(rbps[rbp_1].intersect(rbps[rbp_2], u=True, s=True)) / ( 1.0 * len(rbps[rbp_1]))\n",
      "        \n",
      "overlapping_targets = pd.DataFrame(overlapping)"
     ],
     "language": "python",
     "metadata": {},
     "outputs": [],
     "prompt_number": 14
    },
    {
     "cell_type": "code",
     "collapsed": false,
     "input": [
      "overlapping_targets"
     ],
     "language": "python",
     "metadata": {},
     "outputs": [
      {
       "html": [
        "<div style=\"max-height:1000px;max-width:1500px;overflow:auto;\">\n",
        "<table border=\"1\" class=\"dataframe\">\n",
        "  <thead>\n",
        "    <tr style=\"text-align: right;\">\n",
        "      <th></th>\n",
        "      <th>fus</th>\n",
        "      <th>taf15</th>\n",
        "      <th>tdp43</th>\n",
        "    </tr>\n",
        "  </thead>\n",
        "  <tbody>\n",
        "    <tr>\n",
        "      <th>fus</th>\n",
        "      <td> 1.000000</td>\n",
        "      <td> 0.550231</td>\n",
        "      <td> 0.164145</td>\n",
        "    </tr>\n",
        "    <tr>\n",
        "      <th>taf15</th>\n",
        "      <td> 0.161001</td>\n",
        "      <td> 1.000000</td>\n",
        "      <td> 0.053429</td>\n",
        "    </tr>\n",
        "    <tr>\n",
        "      <th>tdp43</th>\n",
        "      <td> 0.070420</td>\n",
        "      <td> 0.081639</td>\n",
        "      <td> 1.000000</td>\n",
        "    </tr>\n",
        "  </tbody>\n",
        "</table>\n",
        "<p>3 rows \u00d7 3 columns</p>\n",
        "</div>"
       ],
       "metadata": {},
       "output_type": "pyout",
       "prompt_number": 15,
       "text": [
        "            fus     taf15     tdp43\n",
        "fus    1.000000  0.550231  0.164145\n",
        "taf15  0.161001  1.000000  0.053429\n",
        "tdp43  0.070420  0.081639  1.000000\n",
        "\n",
        "[3 rows x 3 columns]"
       ]
      }
     ],
     "prompt_number": 15
    },
    {
     "cell_type": "code",
     "collapsed": false,
     "input": [
      "overlapping = defaultdict(dict)\n",
      "for rbp_1 in rbps:\n",
      "    for rbp_2 in rbps:\n",
      "        rbp_1_genes = set(interval.name for interval in rbps[rbp_1])\n",
      "        rbp_2_genes = set(interval.name for interval in rbps[rbp_2])\n",
      "        overlapping[rbp_1][rbp_2] = len(rbp_1_genes & rbp_2_genes) / (1.0 * len(rbp_1_genes))\n",
      "overlapping_genes = pd.DataFrame(overlapping)"
     ],
     "language": "python",
     "metadata": {},
     "outputs": [],
     "prompt_number": 11
    },
    {
     "cell_type": "code",
     "collapsed": false,
     "input": [
      "overlapping_genes"
     ],
     "language": "python",
     "metadata": {},
     "outputs": [
      {
       "html": [
        "<div style=\"max-height:1000px;max-width:1500px;overflow:auto;\">\n",
        "<table border=\"1\" class=\"dataframe\">\n",
        "  <thead>\n",
        "    <tr style=\"text-align: right;\">\n",
        "      <th></th>\n",
        "      <th>fus</th>\n",
        "      <th>taf15</th>\n",
        "      <th>tdp43</th>\n",
        "    </tr>\n",
        "  </thead>\n",
        "  <tbody>\n",
        "    <tr>\n",
        "      <th>fus</th>\n",
        "      <td> 1.000000</td>\n",
        "      <td> 0.970195</td>\n",
        "      <td> 0.797118</td>\n",
        "    </tr>\n",
        "    <tr>\n",
        "      <th>taf15</th>\n",
        "      <td> 0.575750</td>\n",
        "      <td> 1.000000</td>\n",
        "      <td> 0.541018</td>\n",
        "    </tr>\n",
        "    <tr>\n",
        "      <th>tdp43</th>\n",
        "      <td> 0.749085</td>\n",
        "      <td> 0.856732</td>\n",
        "      <td> 1.000000</td>\n",
        "    </tr>\n",
        "  </tbody>\n",
        "</table>\n",
        "<p>3 rows \u00d7 3 columns</p>\n",
        "</div>"
       ],
       "metadata": {},
       "output_type": "pyout",
       "prompt_number": 12,
       "text": [
        "            fus     taf15     tdp43\n",
        "fus    1.000000  0.970195  0.797118\n",
        "taf15  0.575750  1.000000  0.541018\n",
        "tdp43  0.749085  0.856732  1.000000\n",
        "\n",
        "[3 rows x 3 columns]"
       ]
      }
     ],
     "prompt_number": 12
    },
    {
     "cell_type": "markdown",
     "metadata": {},
     "source": [
      "Numbers are close, but not exactly what I see in Kasey's data, not quite sure why"
     ]
    },
    {
     "cell_type": "code",
     "collapsed": false,
     "input": [],
     "language": "python",
     "metadata": {},
     "outputs": []
    }
   ],
   "metadata": {}
  }
 ]
}