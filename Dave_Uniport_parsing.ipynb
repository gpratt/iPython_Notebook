{
 "metadata": {
  "name": ""
 },
 "nbformat": 3,
 "nbformat_minor": 0,
 "worksheets": [
  {
   "cells": [
    {
     "cell_type": "code",
     "collapsed": false,
     "input": [
      "!head \"/nas3/gpratt/projects/dave/uniprot_sprot.dat\""
     ],
     "language": "python",
     "metadata": {},
     "outputs": [
      {
       "output_type": "stream",
       "stream": "stdout",
       "text": [
        "ID   001R_FRG3G              Reviewed;         256 AA.\r\n",
        "AC   Q6GZX4;\r\n",
        "DT   28-JUN-2011, integrated into UniProtKB/Swiss-Prot.\r\n",
        "DT   19-JUL-2004, sequence version 1.\r\n",
        "DT   18-APR-2012, entry version 24.\r\n",
        "DE   RecName: Full=Putative transcription factor 001R;\r\n",
        "GN   ORFNames=FV3-001R;\r\n",
        "OS   Frog virus 3 (isolate Goorha) (FV-3).\r\n",
        "OC   Viruses; dsDNA viruses, no RNA stage; Iridoviridae; Ranavirus.\r\n",
        "OX   NCBI_TaxID=654924;\r\n"
       ]
      }
     ],
     "prompt_number": 4
    },
    {
     "cell_type": "code",
     "collapsed": false,
     "input": [
      "uniprot = open(\"/nas3/gpratt/projects/dave/uniprot_sprot.dat\")\n",
      "\n",
      "for line in uniprot:\n",
      "    line = line.strip().split()\n",
      "    try:\n",
      "        if line[0] == \"ID\":\n",
      "            gene_id = line[1]\n",
      "        if line[0] == \"FT\" and len(line) >= 4:\n",
      "    \n",
      "            if line[3].startswith(\"RRM\"):\n",
      "                print gene_id, \"\\t\".join(line)\n",
      "                break\n",
      "    except:\n",
      "        print line\n",
      "        continue\n",
      "    #get ID each time it shows up\n",
      "    #each time FT shows up see if it has RRM in it, then get the location if it does\n",
      "    "
     ],
     "language": "python",
     "metadata": {},
     "outputs": [
      {
       "output_type": "stream",
       "stream": "stdout",
       "text": [
        "['ID']\n",
        "['ID']"
       ]
      },
      {
       "output_type": "stream",
       "stream": "stdout",
       "text": [
        "\n",
        "['ID']"
       ]
      },
      {
       "output_type": "stream",
       "stream": "stdout",
       "text": [
        "\n",
        "['ID']\n",
        "['ID']\n",
        "['ID']\n",
        "['ID']\n",
        "['ID']\n",
        "['ID']\n",
        "['ID']"
       ]
      },
      {
       "output_type": "stream",
       "stream": "stdout",
       "text": [
        "\n",
        "['ID']"
       ]
      },
      {
       "output_type": "stream",
       "stream": "stdout",
       "text": [
        "\n",
        "['ID']"
       ]
      },
      {
       "output_type": "stream",
       "stream": "stdout",
       "text": [
        "\n",
        "['ID']"
       ]
      },
      {
       "output_type": "stream",
       "stream": "stdout",
       "text": [
        "\n",
        "['ID']"
       ]
      },
      {
       "output_type": "stream",
       "stream": "stdout",
       "text": [
        "\n"
       ]
      }
     ],
     "prompt_number": 12
    },
    {
     "cell_type": "code",
     "collapsed": false,
     "input": [
      "outfile = open(\"/nas3/gpratt/projects/dave/rrms.txt\", 'w')\n",
      "\n",
      "uniprot = open(\"/nas3/gpratt/projects/dave/uniprot_sprot.dat\")\n",
      "count = 0\n",
      "for line in uniprot:\n",
      "    split_line = line.strip().split()\n",
      "    try:\n",
      "        if split_line[0] == \"ID\":\n",
      "            gene_id = split_line[1]\n",
      "            \n",
      "        if split_line[0] == \"FT\" and split_line[1] == \"DOMAIN\":\n",
      "            if \"RRM\" in line:\n",
      "                outfile.write(\"\\t\".join([gene_id, \"\\t\".join(split_line), \"\\n\"]))\n",
      "                count += 1\n",
      "    except:\n",
      "        pass"
     ],
     "language": "python",
     "metadata": {},
     "outputs": [],
     "prompt_number": 38
    },
    {
     "cell_type": "code",
     "collapsed": false,
     "input": [
      "outfile = open(\"rrms.txt\", 'w')"
     ],
     "language": "python",
     "metadata": {},
     "outputs": [],
     "prompt_number": 31
    },
    {
     "cell_type": "code",
     "collapsed": false,
     "input": [
      "outfile.write(gene_id, \"\\t\".join(split_line), \"\\n\")"
     ],
     "language": "python",
     "metadata": {},
     "outputs": [
      {
       "ename": "TypeError",
       "evalue": "expected a character buffer object",
       "output_type": "pyerr",
       "traceback": [
        "\u001b[1;31m---------------------------------------------------------------------------\u001b[0m\n\u001b[1;31mTypeError\u001b[0m                                 Traceback (most recent call last)",
        "\u001b[1;32m<ipython-input-33-4df0f5792744>\u001b[0m in \u001b[0;36m<module>\u001b[1;34m()\u001b[0m\n\u001b[1;32m----> 1\u001b[1;33m \u001b[0moutfile\u001b[0m\u001b[1;33m.\u001b[0m\u001b[0mwrite\u001b[0m\u001b[1;33m(\u001b[0m\u001b[1;33m[\u001b[0m\u001b[0mgene_id\u001b[0m\u001b[1;33m,\u001b[0m \u001b[1;34m\"\\t\"\u001b[0m\u001b[1;33m.\u001b[0m\u001b[0mjoin\u001b[0m\u001b[1;33m(\u001b[0m\u001b[0msplit_line\u001b[0m\u001b[1;33m)\u001b[0m\u001b[1;33m,\u001b[0m \u001b[1;34m\"\\n\"\u001b[0m\u001b[1;33m]\u001b[0m\u001b[1;33m)\u001b[0m\u001b[1;33m\u001b[0m\u001b[0m\n\u001b[0m",
        "\u001b[1;31mTypeError\u001b[0m: expected a character buffer object"
       ]
      }
     ],
     "prompt_number": 33
    },
    {
     "cell_type": "code",
     "collapsed": false,
     "input": [
      "outfile.write(\"\\t\".join([gene_id, \"\\t\".join(split_line), \"\\n\"]))"
     ],
     "language": "python",
     "metadata": {},
     "outputs": [],
     "prompt_number": 34
    },
    {
     "cell_type": "code",
     "collapsed": false,
     "input": [
      "outfile.close()"
     ],
     "language": "python",
     "metadata": {},
     "outputs": [],
     "prompt_number": 37
    },
    {
     "cell_type": "code",
     "collapsed": false,
     "input": [],
     "language": "python",
     "metadata": {},
     "outputs": []
    }
   ],
   "metadata": {}
  }
 ]
}