{
 "metadata": {
  "name": ""
 },
 "nbformat": 3,
 "nbformat_minor": 0,
 "worksheets": [
  {
   "cells": [
    {
     "cell_type": "code",
     "collapsed": false,
     "input": [
      "!run_events_analysis.py --compute-genes-psi /nas3/gpratt/projects/upf1/data/Homo_sapiens.GRCh37.65.indexed/ /nas3/gpratt/projects/upf1/analysis/rna_seq/333_LxLuc2_NoIndex_L001_R1.fastq.norep.Aligned.out.sam.bam.sorted.bam --output-dir 333_LxLuc2_NoIndex_L001_R1/ --read-len 35"
     ],
     "language": "python",
     "metadata": {},
     "outputs": [
      {
       "output_type": "stream",
       "stream": "stdout",
       "text": [
        "MISO (Mixture of Isoforms model)\r\n",
        "Probabilistic analysis of RNA-Seq data to detect differential isoforms\r\n",
        "Use --help argument to view options.\r\n",
        "\r\n",
        "Loading settings from: /nas3/yeolab/Software/Python-2.7.5/lib/python2.7/site-packages/misopy/settings/miso_settings.txt\r\n",
        "Computing Psi values...\r\n",
        "  - GFF index: /nas3/gpratt/projects/upf1/data/Homo_sapiens.GRCh37.65.indexed\r\n",
        "  - BAM: /nas3/gpratt/projects/upf1/analysis/rna_seq/333_LxLuc2_NoIndex_L001_R1.fastq.norep.Aligned.out.sam.bam.sorted.bam\r\n",
        "  - Read length: 35\r\n",
        "  - Output directory: /nas/nas0/gpratt/iPython_Notebook/333_LxLuc2_NoIndex_L001_R1\r\n",
        "Checking your GFF annotation and BAM for mismatches...\r\n"
       ]
      },
      {
       "output_type": "stream",
       "stream": "stdout",
       "text": [
        "Error: BAM /nas3/gpratt/projects/upf1/analysis/rna_seq/333_LxLuc2_NoIndex_L001_R1.fastq.norep.Aligned.out.sam.bam.sorted.bam cannot be found.\r\n",
        "Error: BAM file /nas3/gpratt/projects/upf1/analysis/rna_seq/333_LxLuc2_NoIndex_L001_R1.fastq.norep.Aligned.out.sam.bam.sorted.bam not found.\r\n"
       ]
      }
     ],
     "prompt_number": 1
    },
    {
     "cell_type": "code",
     "collapsed": false,
     "input": [
      "!run_events_analysis.py --compute-genes-psi /nas3/gpratt/projects/upf1/data/Homo_sapiens.GRCh37.65.indexed/ /nas3/gpratt/projects/upf1/analysis/rna_seq/334_LxLuc3_NoIndex_L002_R1.fastq.norep.Aligned.out.sam.bam.sorted.bam --output-dir 334_LxLuc3_NoIndex_L002_R1/ --read-len 35"
     ],
     "language": "python",
     "metadata": {},
     "outputs": [
      {
       "output_type": "stream",
       "stream": "stdout",
       "text": [
        "MISO (Mixture of Isoforms model)\r\n",
        "Probabilistic analysis of RNA-Seq data to detect differential isoforms\r\n",
        "Use --help argument to view options.\r\n",
        "\r\n",
        "Loading settings from: /nas3/yeolab/Software/Python-2.7.5/lib/python2.7/site-packages/misopy/settings/miso_settings.txt\r\n",
        "Computing Psi values...\r\n",
        "  - GFF index: /nas3/gpratt/projects/upf1/data/Homo_sapiens.GRCh37.65.indexed\r\n",
        "  - BAM: /nas3/gpratt/projects/upf1/analysis/rna_seq/334_LxLuc3_NoIndex_L002_R1.fastq.norep.Aligned.out.sam.bam.sorted.bam\r\n",
        "  - Read length: 35\r\n",
        "  - Output directory: /nas/nas0/gpratt/iPython_Notebook/334_LxLuc3_NoIndex_L002_R1\r\n",
        "Checking your GFF annotation and BAM for mismatches...\r\n",
        "Error: BAM /nas3/gpratt/projects/upf1/analysis/rna_seq/334_LxLuc3_NoIndex_L002_R1.fastq.norep.Aligned.out.sam.bam.sorted.bam cannot be found.\r\n",
        "Error: BAM file /nas3/gpratt/projects/upf1/analysis/rna_seq/334_LxLuc3_NoIndex_L002_R1.fastq.norep.Aligned.out.sam.bam.sorted.bam not found.\r\n"
       ]
      }
     ],
     "prompt_number": 2
    },
    {
     "cell_type": "code",
     "collapsed": false,
     "input": [
      "!run_events_analysis.py --compute-genes-psi /nas3/gpratt/projects/upf1/data/Homo_sapiens.GRCh37.65.indexed/ /nas3/gpratt/projects/upf1/analysis/rna_seq/335_LxUPF12_NoIndex_L003_R1.fastq.norep.Aligned.out.sam.bam.sorted.bam --output-dir 335_LxUPF12_NoIndex_L003_R1/ --read-len 35"
     ],
     "language": "python",
     "metadata": {},
     "outputs": [
      {
       "output_type": "stream",
       "stream": "stdout",
       "text": [
        "MISO (Mixture of Isoforms model)\r\n",
        "Probabilistic analysis of RNA-Seq data to detect differential isoforms\r\n",
        "Use --help argument to view options.\r\n",
        "\r\n",
        "Loading settings from: /nas3/yeolab/Software/Python-2.7.5/lib/python2.7/site-packages/misopy/settings/miso_settings.txt\r\n",
        "Computing Psi values...\r\n",
        "  - GFF index: /nas3/gpratt/projects/upf1/data/Homo_sapiens.GRCh37.65.indexed\r\n",
        "  - BAM: /nas3/gpratt/projects/upf1/analysis/rna_seq/335_LxUPF12_NoIndex_L003_R1.fastq.norep.Aligned.out.sam.bam.sorted.bam\r\n",
        "  - Read length: 35\r\n",
        "  - Output directory: /nas/nas0/gpratt/iPython_Notebook/335_LxUPF12_NoIndex_L003_R1\r\n",
        "Checking your GFF annotation and BAM for mismatches...\r\n",
        "Error: BAM /nas3/gpratt/projects/upf1/analysis/rna_seq/335_LxUPF12_NoIndex_L003_R1.fastq.norep.Aligned.out.sam.bam.sorted.bam cannot be found.\r\n",
        "Error: BAM file /nas3/gpratt/projects/upf1/analysis/rna_seq/335_LxUPF12_NoIndex_L003_R1.fastq.norep.Aligned.out.sam.bam.sorted.bam not found.\r\n"
       ]
      }
     ],
     "prompt_number": "*"
    },
    {
     "cell_type": "code",
     "collapsed": false,
     "input": [
      "!run_events_analysis.py --compute-genes-psi /nas3/gpratt/projects/upf1/data/Homo_sapiens.GRCh37.65.indexed/ /nas3/gpratt/projects/upf1/analysis/rna_seq/336_LxUPF13_NoIndex_L004_R1.fastq.norep.Aligned.out.sam.bam.sorted.bam --output-dir 336_LxUPF13_NoIndex_L004_R1/ --read-len 35"
     ],
     "language": "python",
     "metadata": {},
     "outputs": [],
     "prompt_number": "*"
    },
    {
     "cell_type": "code",
     "collapsed": false,
     "input": [
      "!run_miso.py --summarize-samples 333_LxLuc2_NoIndex_L001_R1/ 333_LxLuc2_NoIndex_L001_R1_summary/"
     ],
     "language": "python",
     "metadata": {},
     "outputs": [],
     "prompt_number": "*"
    },
    {
     "cell_type": "code",
     "collapsed": false,
     "input": [
      "!run_miso.py --summarize-samples 334_LxLuc3_NoIndex_L002_R1/ 334_LxLuc3_NoIndex_L002_R1_summary/"
     ],
     "language": "python",
     "metadata": {},
     "outputs": [],
     "prompt_number": "*"
    },
    {
     "cell_type": "code",
     "collapsed": false,
     "input": [
      "!run_miso.py --summarize-samples 335_LxUPF12_NoIndex_L003_R1/ 335_LxUPF12_NoIndex_L003_R1_summary/"
     ],
     "language": "python",
     "metadata": {},
     "outputs": [],
     "prompt_number": "*"
    },
    {
     "cell_type": "code",
     "collapsed": false,
     "input": [
      "!run_miso.py --summarize-samples 336_LxUPF13_NoIndex_L004_R1/ 336_LxUPF13_NoIndex_L004_R1_summary/"
     ],
     "language": "python",
     "metadata": {},
     "outputs": [],
     "prompt_number": "*"
    },
    {
     "cell_type": "markdown",
     "metadata": {},
     "source": [
      "This is unnessessary, talk to mike / olga about how to actually run MISO"
     ]
    }
   ],
   "metadata": {}
  }
 ]
}