{
 "metadata": {
  "name": ""
 },
 "nbformat": 3,
 "nbformat_minor": 0,
 "worksheets": [
  {
   "cells": [
    {
     "cell_type": "code",
     "collapsed": false,
     "input": [
      "!run_events_analysis.py --compute-genes-psi /nas3/gpratt/projects/upf1/data/Homo_sapiens.GRCh37.65.indexed/ /nas3/gpratt/projects/upf1/analysis/rna_seq/333_LxLuc2_NoIndex_L001_R1.fastq.norep.Aligned.out.sam.bam.sorted.bam --output-dir 333_LxLuc2_NoIndex_L001_R1/ --read-len 35"
     ],
     "language": "python",
     "metadata": {},
     "outputs": [
      {
       "output_type": "stream",
       "stream": "stdout",
       "text": [
        "MISO (Mixture of Isoforms model)\r\n",
        "Probabilistic analysis of RNA-Seq data to detect differential isoforms\r\n",
        "Use --help argument to view options.\r\n",
        "\r\n",
        "Loading settings from: /nas3/yeolab/Software/Python-2.7.4/lib/python2.7/site-packages/misopy/settings/miso_settings.txt\r\n",
        "Computing Psi values...\r\n",
        "  - GFF index: /nas3/gpratt/projects/upf1/data/Homo_sapiens.GRCh37.65.indexed\r\n",
        "  - BAM: /nas3/gpratt/projects/upf1/analysis/rna_seq/333_LxLuc2_NoIndex_L001_R1.fastq.norep.Aligned.out.sam.bam.sorted.bam\r\n",
        "  - Read length: 35\r\n",
        "  - Output directory: /nas/nas0/gpratt/iPython_Notebook/333_LxLuc2_NoIndex_L001_R1\r\n",
        "Checking your GFF annotation and BAM for mismatches...\r\n",
        "Checking if BAM has mixed read lengths...\r\n"
       ]
      },
      {
       "output_type": "stream",
       "stream": "stdout",
       "text": [
        "Found reads of length 50 in BAM.\r\n"
       ]
      },
      {
       "output_type": "stream",
       "stream": "stdout",
       "text": [
        "Mapping genes to their indexed GFF representation, using /nas3/gpratt/projects/upf1/data/Homo_sapiens.GRCh37.65.indexed\r\n",
        "Loading indexed gene filenames from: /nas3/gpratt/projects/upf1/data/Homo_sapiens.GRCh37.65.indexed/chrGL000243.1\r\n",
        "  - Loading 2 genes\r\n"
       ]
      },
      {
       "output_type": "stream",
       "stream": "stdout",
       "text": [
        "Loading indexed gene filenames from: /nas3/gpratt/projects/upf1/data/Homo_sapiens.GRCh37.65.indexed/chrGL000201.1\r\n",
        "  - Loading 2 genes\r\n"
       ]
      },
      {
       "output_type": "stream",
       "stream": "stdout",
       "text": [
        "Loading indexed gene filenames from: /nas3/gpratt/projects/upf1/data/Homo_sapiens.GRCh37.65.indexed/chrGL000220.1\r\n",
        "  - Loading 18 genes\r\n"
       ]
      },
      {
       "output_type": "stream",
       "stream": "stdout",
       "text": [
        "Loading indexed gene filenames from: /nas3/gpratt/projects/upf1/data/Homo_sapiens.GRCh37.65.indexed/chr17\r\n",
        "  - Loading 2027 genes\r\n"
       ]
      },
      {
       "output_type": "stream",
       "stream": "stdout",
       "text": [
        "Loading indexed gene filenames from: /nas3/gpratt/projects/upf1/data/Homo_sapiens.GRCh37.65.indexed/chr8\r\n",
        "  - Loading 2297 genes\r\n"
       ]
      },
      {
       "output_type": "stream",
       "stream": "stdout",
       "text": [
        "Loading indexed gene filenames from: /nas3/gpratt/projects/upf1/data/Homo_sapiens.GRCh37.65.indexed/chr2\r\n",
        "  - Loading 3856 genes\r\n"
       ]
      },
      {
       "output_type": "stream",
       "stream": "stdout",
       "text": [
        "Loading indexed gene filenames from: /nas3/gpratt/projects/upf1/data/Homo_sapiens.GRCh37.65.indexed/chrGL000230.1\r\n",
        "  - Loading 3 genes\r\n"
       ]
      },
      {
       "output_type": "stream",
       "stream": "stdout",
       "text": [
        "Loading indexed gene filenames from: /nas3/gpratt/projects/upf1/data/Homo_sapiens.GRCh37.65.indexed/chrGL000191.1\r\n",
        "  - Loading 2 genes\r\n"
       ]
      },
      {
       "output_type": "stream",
       "stream": "stdout",
       "text": [
        "Loading indexed gene filenames from: /nas3/gpratt/projects/upf1/data/Homo_sapiens.GRCh37.65.indexed/chrY\r\n",
        "  - Loading 513 genes\r\n"
       ]
      },
      {
       "output_type": "stream",
       "stream": "stdout",
       "text": [
        "Loading indexed gene filenames from: /nas3/gpratt/projects/upf1/data/Homo_sapiens.GRCh37.65.indexed/chrHSCHR6_MHC_SSTO\r\n",
        "  - Loading 326 genes\r\n"
       ]
      },
      {
       "output_type": "stream",
       "stream": "stdout",
       "text": [
        "Loading indexed gene filenames from: /nas3/gpratt/projects/upf1/data/Homo_sapiens.GRCh37.65.indexed/chr10\r\n",
        "  - Loading 2193 genes\r\n"
       ]
      },
      {
       "output_type": "stream",
       "stream": "stdout",
       "text": [
        "Loading indexed gene filenames from: /nas3/gpratt/projects/upf1/data/Homo_sapiens.GRCh37.65.indexed/chr5\r\n",
        "  - Loading 2720 genes\r\n"
       ]
      },
      {
       "output_type": "stream",
       "stream": "stdout",
       "text": [
        "Loading indexed gene filenames from: /nas3/gpratt/projects/upf1/data/Homo_sapiens.GRCh37.65.indexed/chrHSCHR6_MHC_APD\r\n",
        "  - Loading 185 genes\r\n"
       ]
      },
      {
       "output_type": "stream",
       "stream": "stdout",
       "text": [
        "Loading indexed gene filenames from: /nas3/gpratt/projects/upf1/data/Homo_sapiens.GRCh37.65.indexed/chr22\r\n",
        "  - Loading 1189 genes\r\n"
       ]
      },
      {
       "output_type": "stream",
       "stream": "stdout",
       "text": [
        "Loading indexed gene filenames from: /nas3/gpratt/projects/upf1/data/Homo_sapiens.GRCh37.65.indexed/chrGL000240.1\r\n",
        "  - Loading 3 genes\r\n"
       ]
      },
      {
       "output_type": "stream",
       "stream": "stdout",
       "text": [
        "Loading indexed gene filenames from: /nas3/gpratt/projects/upf1/data/Homo_sapiens.GRCh37.65.indexed/chrHSCHR6_MHC_MANN\r\n",
        "  - Loading 322 genes\r\n"
       ]
      },
      {
       "output_type": "stream",
       "stream": "stdout",
       "text": [
        "Loading indexed gene filenames from: /nas3/gpratt/projects/upf1/data/Homo_sapiens.GRCh37.65.indexed/chr1\r\n",
        "  - Loading 5145 genes\r\n"
       ]
      },
      {
       "output_type": "stream",
       "stream": "stdout",
       "text": [
        "Loading indexed gene filenames from: /nas3/gpratt/projects/upf1/data/Homo_sapiens.GRCh37.65.indexed/chr14\r\n",
        "  - Loading 2167 genes\r\n"
       ]
      },
      {
       "output_type": "stream",
       "stream": "stdout",
       "text": [
        "Loading indexed gene filenames from: /nas3/gpratt/projects/upf1/data/Homo_sapiens.GRCh37.65.indexed/chrGL000223.1\r\n",
        "  - Loading 5 genes\r\n"
       ]
      },
      {
       "output_type": "stream",
       "stream": "stdout",
       "text": [
        "Loading indexed gene filenames from: /nas3/gpratt/projects/upf1/data/Homo_sapiens.GRCh37.65.indexed/chrGL000233.1\r\n",
        "  - Loading 2 genes\r\n"
       ]
      },
      {
       "output_type": "stream",
       "stream": "stdout",
       "text": [
        "Loading indexed gene filenames from: /nas3/gpratt/projects/upf1/data/Homo_sapiens.GRCh37.65.indexed/chrGL000212.1\r\n",
        "  - Loading 4 genes\r\n"
       ]
      },
      {
       "output_type": "stream",
       "stream": "stdout",
       "text": [
        "Loading indexed gene filenames from: /nas3/gpratt/projects/upf1/data/Homo_sapiens.GRCh37.65.indexed/chrGL000192.1\r\n",
        "  - Loading 7 genes\r\n"
       ]
      },
      {
       "output_type": "stream",
       "stream": "stdout",
       "text": [
        "Loading indexed gene filenames from: /nas3/gpratt/projects/upf1/data/Homo_sapiens.GRCh37.65.indexed/chrGL000193.1\r\n",
        "  - Loading 5 genes\r\n"
       ]
      },
      {
       "output_type": "stream",
       "stream": "stdout",
       "text": [
        "Loading indexed gene filenames from: /nas3/gpratt/projects/upf1/data/Homo_sapiens.GRCh37.65.indexed/chrGL000209.1\r\n",
        "  - Loading 2 genes\r\n"
       ]
      },
      {
       "output_type": "stream",
       "stream": "stdout",
       "text": [
        "Loading indexed gene filenames from: /nas3/gpratt/projects/upf1/data/Homo_sapiens.GRCh37.65.indexed/chrGL000228.1\r\n",
        "  - Loading 17 genes\r\n"
       ]
      },
      {
       "output_type": "stream",
       "stream": "stdout",
       "text": [
        "Loading indexed gene filenames from: /nas3/gpratt/projects/upf1/data/Homo_sapiens.GRCh37.65.indexed/chrGL000213.1\r\n",
        "  - Loading 2 genes\r\n"
       ]
      },
      {
       "output_type": "stream",
       "stream": "stdout",
       "text": [
        "Skipping: /nas3/gpratt/projects/upf1/data/Homo_sapiens.GRCh37.65.indexed/genes_to_filenames.shelve\r\n",
        "Loading indexed gene filenames from: /nas3/gpratt/projects/upf1/data/Homo_sapiens.GRCh37.65.indexed/chrGL000222.1\r\n",
        "  - Loading 3 genes\r\n"
       ]
      },
      {
       "output_type": "stream",
       "stream": "stdout",
       "text": [
        "Loading indexed gene filenames from: /nas3/gpratt/projects/upf1/data/Homo_sapiens.GRCh37.65.indexed/chr19\r\n",
        "  - Loading 1950 genes\r\n"
       ]
      },
      {
       "output_type": "stream",
       "stream": "stdout",
       "text": [
        "Skipping: /nas3/gpratt/projects/upf1/data/Homo_sapiens.GRCh37.65.indexed/genes.gff\r\n"
       ]
      },
      {
       "output_type": "stream",
       "stream": "stdout",
       "text": [
        "Loading indexed gene filenames from: /nas3/gpratt/projects/upf1/data/Homo_sapiens.GRCh37.65.indexed/chrGL000199.1\r\n",
        "  - Loading 2 genes\r\n"
       ]
      },
      {
       "output_type": "stream",
       "stream": "stdout",
       "text": [
        "Loading indexed gene filenames from: /nas3/gpratt/projects/upf1/data/Homo_sapiens.GRCh37.65.indexed/chr6\r\n",
        "  - Loading 2782 genes\r\n"
       ]
      },
      {
       "output_type": "stream",
       "stream": "stdout",
       "text": [
        "Loading indexed gene filenames from: /nas3/gpratt/projects/upf1/data/Homo_sapiens.GRCh37.65.indexed/chr13\r\n",
        "  - Loading 1176 genes\r\n"
       ]
      },
      {
       "output_type": "stream",
       "stream": "stdout",
       "text": [
        "Loading indexed gene filenames from: /nas3/gpratt/projects/upf1/data/Homo_sapiens.GRCh37.65.indexed/chr21\r\n",
        "  - Loading 695 genes\r\n"
       ]
      },
      {
       "output_type": "stream",
       "stream": "stdout",
       "text": [
        "Loading indexed gene filenames from: /nas3/gpratt/projects/upf1/data/Homo_sapiens.GRCh37.65.indexed/chrGL000219.1\r\n",
        "  - Loading 6 genes\r\n"
       ]
      },
      {
       "output_type": "stream",
       "stream": "stdout",
       "text": [
        "Loading indexed gene filenames from: /nas3/gpratt/projects/upf1/data/Homo_sapiens.GRCh37.65.indexed/chr4\r\n",
        "  - Loading 2477 genes\r\n"
       ]
      },
      {
       "output_type": "stream",
       "stream": "stdout",
       "text": [
        "Loading indexed gene filenames from: /nas3/gpratt/projects/upf1/data/Homo_sapiens.GRCh37.65.indexed/chr11\r\n",
        "  - Loading 3107 genes\r\n"
       ]
      },
      {
       "output_type": "stream",
       "stream": "stdout",
       "text": [
        "Skipping: /nas3/gpratt/projects/upf1/data/Homo_sapiens.GRCh37.65.indexed/compressed_ids_to_genes.shelve\r\n"
       ]
      },
      {
       "output_type": "stream",
       "stream": "stdout",
       "text": [
        "Loading indexed gene filenames from: /nas3/gpratt/projects/upf1/data/Homo_sapiens.GRCh37.65.indexed/chrHSCHR6_MHC_MCF\r\n",
        "  - Loading 286 genes\r\n"
       ]
      },
      {
       "output_type": "stream",
       "stream": "stdout",
       "text": [
        "Loading indexed gene filenames from: /nas3/gpratt/projects/upf1/data/Homo_sapiens.GRCh37.65.indexed/chrHSCHR4_1\r\n",
        "  - Loading 9 genes\r\n"
       ]
      },
      {
       "output_type": "stream",
       "stream": "stdout",
       "text": [
        "Loading indexed gene filenames from: /nas3/gpratt/projects/upf1/data/Homo_sapiens.GRCh37.65.indexed/chrX\r\n",
        "  - Loading 2323 genes\r\n"
       ]
      },
      {
       "output_type": "stream",
       "stream": "stdout",
       "text": [
        "Loading indexed gene filenames from: /nas3/gpratt/projects/upf1/data/Homo_sapiens.GRCh37.65.indexed/chrHSCHR6_MHC_QBL\r\n",
        "  - Loading 344 genes\r\n"
       ]
      },
      {
       "output_type": "stream",
       "stream": "stdout",
       "text": [
        "Loading indexed gene filenames from: /nas3/gpratt/projects/upf1/data/Homo_sapiens.GRCh37.65.indexed/chrHSCHR17_1\r\n",
        "  - Loading 48 genes\r\n"
       ]
      },
      {
       "output_type": "stream",
       "stream": "stdout",
       "text": [
        "Loading indexed gene filenames from: /nas3/gpratt/projects/upf1/data/Homo_sapiens.GRCh37.65.indexed/chrHSCHR6_MHC_COX\r\n",
        "  - Loading 362 genes\r\n"
       ]
      },
      {
       "output_type": "stream",
       "stream": "stdout",
       "text": [
        "Loading indexed gene filenames from: /nas3/gpratt/projects/upf1/data/Homo_sapiens.GRCh37.65.indexed/chr3\r\n",
        "  - Loading 2897 genes\r\n"
       ]
      },
      {
       "output_type": "stream",
       "stream": "stdout",
       "text": [
        "Loading indexed gene filenames from: /nas3/gpratt/projects/upf1/data/Homo_sapiens.GRCh37.65.indexed/chr9\r\n",
        "  - Loading 2336 genes\r\n"
       ]
      }
     ],
     "prompt_number": "*"
    },
    {
     "cell_type": "code",
     "collapsed": false,
     "input": [
      "!run_events_analysis.py --compute-genes-psi /nas3/gpratt/projects/upf1/data/Homo_sapiens.GRCh37.65.indexed/ /nas3/gpratt/projects/upf1/analysis/rna_seq/334_LxLuc3_NoIndex_L002_R1.fastq.norep.Aligned.out.sam.bam.sorted.bam --output-dir 334_LxLuc3_NoIndex_L002_R1/ --read-len 35"
     ],
     "language": "python",
     "metadata": {},
     "outputs": [],
     "prompt_number": "*"
    },
    {
     "cell_type": "code",
     "collapsed": false,
     "input": [
      "!run_events_analysis.py --compute-genes-psi /nas3/gpratt/projects/upf1/data/Homo_sapiens.GRCh37.65.indexed/ /nas3/gpratt/projects/upf1/analysis/rna_seq/335_LxUPF12_NoIndex_L003_R1.fastq.norep.Aligned.out.sam.bam.sorted.bam --output-dir 335_LxUPF12_NoIndex_L003_R1/ --read-len 35"
     ],
     "language": "python",
     "metadata": {},
     "outputs": [],
     "prompt_number": "*"
    },
    {
     "cell_type": "code",
     "collapsed": false,
     "input": [
      "!run_events_analysis.py --compute-genes-psi /nas3/gpratt/projects/upf1/data/Homo_sapiens.GRCh37.65.indexed/ /nas3/gpratt/projects/upf1/analysis/rna_seq/336_LxUPF13_NoIndex_L004_R1.fastq.norep.Aligned.out.sam.bam.sorted.bam --output-dir 336_LxUPF13_NoIndex_L004_R1/ --read-len 35"
     ],
     "language": "python",
     "metadata": {},
     "outputs": [],
     "prompt_number": "*"
    },
    {
     "cell_type": "code",
     "collapsed": false,
     "input": [
      "!run_miso.py --summarize-samples 333_LxLuc2_NoIndex_L001_R1/ 333_LxLuc2_NoIndex_L001_R1_summary/"
     ],
     "language": "python",
     "metadata": {},
     "outputs": [],
     "prompt_number": "*"
    },
    {
     "cell_type": "code",
     "collapsed": false,
     "input": [
      "!run_miso.py --summarize-samples 334_LxLuc3_NoIndex_L002_R1/ 334_LxLuc3_NoIndex_L002_R1_summary/"
     ],
     "language": "python",
     "metadata": {},
     "outputs": [],
     "prompt_number": "*"
    },
    {
     "cell_type": "code",
     "collapsed": false,
     "input": [
      "!run_miso.py --summarize-samples 335_LxUPF12_NoIndex_L003_R1/ 335_LxUPF12_NoIndex_L003_R1_summary/"
     ],
     "language": "python",
     "metadata": {},
     "outputs": [],
     "prompt_number": "*"
    },
    {
     "cell_type": "code",
     "collapsed": false,
     "input": [
      "!run_miso.py --summarize-samples 336_LxUPF13_NoIndex_L004_R1/ 336_LxUPF13_NoIndex_L004_R1_summary/"
     ],
     "language": "python",
     "metadata": {},
     "outputs": [],
     "prompt_number": "*"
    },
    {
     "cell_type": "markdown",
     "metadata": {},
     "source": [
      "This is unnessessary, talk to mike / olga about how to actually run MISO"
     ]
    }
   ],
   "metadata": {}
  }
 ]
}