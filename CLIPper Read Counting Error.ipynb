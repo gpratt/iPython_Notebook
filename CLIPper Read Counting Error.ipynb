{
 "metadata": {
  "name": "",
  "signature": "sha256:39f4235f58830fdad21787920b03667261fbcd947483818b259583fe98c79de8"
 },
 "nbformat": 3,
 "nbformat_minor": 0,
 "worksheets": [
  {
   "cells": [
    {
     "cell_type": "code",
     "collapsed": false,
     "input": [
      "import pybedtools"
     ],
     "language": "python",
     "metadata": {},
     "outputs": [],
     "prompt_number": 1
    },
    {
     "cell_type": "code",
     "collapsed": false,
     "input": [
      "clipper_reads = pybedtools.BedTool(\"/nas3/gpratt/projects/encode/analysis/meeting/IMP1_A.peaks.bed\")\n",
      "\n",
      "bamtool = pybedtools.BedTool(\"/nas3/gpratt/projects/encode/analysis/meeting/IMP1_A.bam\")\n",
      "bedtool = pybedtools.BedTool(\"/nas3/gpratt/projects/encode/analysis/meeting/IMP1_A.peaks.bed\")\n",
      "\n",
      "cov = bamtool.coverage(bedtool, s=True, counts=True)"
     ],
     "language": "python",
     "metadata": {},
     "outputs": [],
     "prompt_number": 2
    },
    {
     "cell_type": "markdown",
     "metadata": {},
     "source": [
      "#Number of Reads CLIPper Counts"
     ]
    },
    {
     "cell_type": "code",
     "collapsed": false,
     "input": [
      "sum([float(interval.name.split(\"_\")[2]) for interval in clipper_reads])"
     ],
     "language": "python",
     "metadata": {},
     "outputs": [
      {
       "metadata": {},
       "output_type": "pyout",
       "prompt_number": 3,
       "text": [
        "1897585.0"
       ]
      }
     ],
     "prompt_number": 3
    },
    {
     "cell_type": "markdown",
     "metadata": {},
     "source": [
      "#Number of Reads Counted by Coverage Bed"
     ]
    },
    {
     "cell_type": "code",
     "collapsed": false,
     "input": [
      "sum([float(interval[-1]) for interval in cov])"
     ],
     "language": "python",
     "metadata": {},
     "outputs": [
      {
       "metadata": {},
       "output_type": "pyout",
       "prompt_number": 4,
       "text": [
        "7277837.0"
       ]
      }
     ],
     "prompt_number": 4
    }
   ],
   "metadata": {}
  }
 ]
}