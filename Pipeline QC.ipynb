{
 "metadata": {
  "name": "Pipeline QC"
 },
 "nbformat": 3,
 "nbformat_minor": 0,
 "worksheets": [
  {
   "cells": [
    {
     "cell_type": "code",
     "collapsed": false,
     "input": [
      "import pandas as pd\n",
      "import subprocess\n",
      "import pybedtools"
     ],
     "language": "python",
     "metadata": {},
     "outputs": [
      {
       "output_type": "stream",
       "stream": "stderr",
       "text": [
        "/nas3/yeolab/Software/Python_dependencies-2.7/matplotlib-1.1.0-py2.7-linux-x86_64.egg/pytz/__init__.py:35: UserWarning: Module pytz was already imported from /nas3/yeolab/Software/Python_dependencies-2.7/matplotlib-1.1.0-py2.7-linux-x86_64.egg/pytz/__init__.pyc, but /nas/nas0/yeolab/Software/Python_dependencies-2.7/pytz-2012f-py2.7.egg is being added to sys.path\n",
        "  from pkg_resources import resource_stream\n",
        "/nas3/yeolab/Software/Python_dependencies-2.7/matplotlib-1.1.0-py2.7-linux-x86_64.egg/pytz/__init__.py:35: UserWarning: Module dateutil was already imported from /nas3/yeolab/Software/Python_dependencies-2.7/matplotlib-1.1.0-py2.7-linux-x86_64.egg/dateutil/__init__.pyc, but /nas/nas0/yeolab/Software/Python_dependencies-2.7/python_dateutil-1.5-py2.7.egg is being added to sys.path\n",
        "  from pkg_resources import resource_stream\n"
       ]
      }
     ],
     "prompt_number": 1
    },
    {
     "cell_type": "code",
     "collapsed": false,
     "input": [
      "def count_reads(fn):\n",
      "    total_reads = 0\n",
      "    for count, line in enumerate(fn):\n",
      "\n",
      "        if count % 4 == 1:\n",
      "            total_reads += len(line)\n",
      "    return float(count / 4), float(total_reads) \n",
      "\n",
      "def count_reps(fn):\n",
      "    total_reps = 0\n",
      "    for line in fn:\n",
      "        line = line.strip().split()\n",
      "        total_reps += float(line[1])\n",
      "    return total_reps"
     ],
     "language": "python",
     "metadata": {},
     "outputs": [],
     "prompt_number": 5
    },
    {
     "cell_type": "code",
     "collapsed": false,
     "input": [
      "FOX2Brain1_pre_reads, FOX2Brain1_pre = count_reads(open(\"/nas3/lovci/projects/FOX2/FOX2_mouse_brain/CLIP/data/FOX2Brain-05.15.09.fastq\"))\n",
      "FOX2Brain2_pre_reads, FOX2Brain2_pre = count_reads(open(\"/nas3/lovci/projects/FOX2/FOX2_mouse_brain/CLIP/data/FOX2Brain-06.12.09.fastq\"))\n",
      "FOX2Brain3_pre_reads, FOX2Brain3_pre = count_reads(open(\"/nas3/lovci/projects/FOX2/FOX2_mouse_brain/CLIP/data/FOX2Brain-06.16.09.fastq\"))\n",
      "FOX2Brain4_pre_reads, FOX2Brain4_pre = count_reads(open(\"/nas3/lovci/projects/FOX2/FOX2_mouse_brain/CLIP/data/FOX2Brain-08.07.09.fastq\"))\n",
      "FOX2Brain1_tq3_reads, FOX2Brain1_tq3 = count_reads(open(\"/nas3/lovci/projects/FOX2/FOX2_mouse_brain/CLIP/data/FOX2Brain-05.15.09.tq3\"))\n",
      "FOX2Brain2_tq3_reads, FOX2Brain2_tq3 = count_reads(open(\"/nas3/lovci/projects/FOX2/FOX2_mouse_brain/CLIP/data/FOX2Brain-06.12.09.tq3\"))\n",
      "FOX2Brain3_tq3_reads, FOX2Brain3_tq3 = count_reads(open(\"/nas3/lovci/projects/FOX2/FOX2_mouse_brain/CLIP/data/FOX2Brain-06.16.09.tq3\"))\n",
      "FOX2Brain4_tq3_reads, FOX2Brain4_tq3 = count_reads(open(\"/nas3/lovci/projects/FOX2/FOX2_mouse_brain/CLIP/data/FOX2Brain-08.07.09.tq3\"))\n",
      "FOX2Brain1_cutadapt_reads, FOX2Brain1_cutadapt = count_reads(open(\"/nas3/gpratt/projects/pipeline_analysis/v1/FOX2Brain-05.15.09.polyATrim.adapterTrim.fastq\"))\n",
      "FOX2Brain2_cutadapt_reads, FOX2Brain2_cutadapt = count_reads(open(\"/nas3/gpratt/projects/pipeline_analysis/v1/FOX2Brain-06.12.09.polyATrim.adapterTrim.fastq\"))\n",
      "FOX2Brain3_cutadapt_reads, FOX2Brain3_cutadapt = count_reads(open(\"/nas3/gpratt/projects/pipeline_analysis/v1/FOX2Brain-06.16.09.polyATrim.adapterTrim.fastq\"))\n",
      "FOX2Brain4_cutadapt_reads, FOX2Brain4_cutadapt = count_reads(open(\"/nas3/gpratt/projects/pipeline_analysis/v1/FOX2Brain-08.07.09.polyATrim.adapterTrim.fastq\"))"
     ],
     "language": "python",
     "metadata": {},
     "outputs": [],
     "prompt_number": 6
    },
    {
     "cell_type": "code",
     "collapsed": false,
     "input": [
      "FOX2Brain1_tq3_rep = count_reps(open(\"/nas3/lovci/projects/FOX2/FOX2_mouse_brain/CLIP/data/FOX2Brain-05.15.09.tq3.repeats_counts\"))\n",
      "FOX2Brain2_tq3_rep = count_reps(open(\"/nas3/lovci/projects/FOX2/FOX2_mouse_brain/CLIP/data/FOX2Brain-06.12.09.tq3.repeats_counts\"))\n",
      "FOX2Brain3_tq3_rep = count_reps(open(\"/nas3/lovci/projects/FOX2/FOX2_mouse_brain/CLIP/data/FOX2Brain-06.16.09.tq3.repeats_counts\"))\n",
      "FOX2Brain4_tq3_rep = count_reps(open(\"/nas3/lovci/projects/FOX2/FOX2_mouse_brain/CLIP/data/FOX2Brain-08.07.09.tq3.repeats_counts\"))"
     ],
     "language": "python",
     "metadata": {},
     "outputs": [],
     "prompt_number": 13
    },
    {
     "cell_type": "code",
     "collapsed": false,
     "input": [
      "FOX2Brain1_cutadapt_rep = count_reps(open(\"/nas3/gpratt/projects/pipeline_analysis/v1/FOX2Brain-05.15.09.polyATrim.adapterTrim.rmRep.counts\"))\n",
      "FOX2Brain2_cutadapt_rep = count_reps(open(\"/nas3/gpratt/projects/pipeline_analysis/v1/FOX2Brain-06.12.09.polyATrim.adapterTrim.rmRep.counts\"))\n",
      "FOX2Brain3_cutadapt_rep = count_reps(open(\"/nas3/gpratt/projects/pipeline_analysis/v1/FOX2Brain-06.16.09.polyATrim.adapterTrim.rmRep.counts\"))\n",
      "FOX2Brain4_cutadapt_rep = count_reps(open(\"/nas3/gpratt/projects/pipeline_analysis/v1/FOX2Brain-08.07.09.polyATrim.adapterTrim.rmRep.counts\"))"
     ],
     "language": "python",
     "metadata": {},
     "outputs": [],
     "prompt_number": 14
    },
    {
     "cell_type": "code",
     "collapsed": false,
     "input": [
      "for sample in samtools:\n",
      "    cmd = \"samtools view -bS \" + sample + \" > \" + sample + \".bam\"\n",
      "    print cmd\n",
      "    !$cmd"
     ],
     "language": "python",
     "metadata": {},
     "outputs": []
    },
    {
     "cell_type": "code",
     "collapsed": false,
     "input": [
      "samples = [\"FOX2Brain-05.15.09\", \"FOX2Brain-06.12.09\", \"FOX2Brain-06.16.09\", \"FOX2Brain-08.07.09\"]\n",
      "tq3_gsnap_uniq = []\n",
      "tq3_star_uniq = []\n",
      "cutadapt_gsnap_uniq = []\n",
      "cutadapt_star_uniq = []\n",
      "tq3_gsnap_multi = []\n",
      "tq3_star_multi = []\n",
      "cutadapt_gsnap_multi = []\n",
      "cutadapt_star_multi = []\n",
      "\n",
      "adding_dict = { \".tq3.norep.gsnap.uniq.bam\" : tq3_gsnap_uniq,\n",
      "               \".tq3.norep.star.uniqAligned.out.sam.bam\" : tq3_star_uniq,\n",
      "               \".polyATrim.adapterTrim.rmRep.fastq.gsnap.uniq.bam\" : cutadapt_gsnap_uniq,\n",
      "               \".polyATrim.adapterTrim.rmRep.fastq.star.uniqAligned.out.sam.bam\" : cutadapt_star_uniq,\n",
      "               \".tq3.norep.gsnap.muti10.bam\" : tq3_gsnap_multi,\n",
      "               \".tq3.norep.star.muti10Aligned.out.sam.bam\" : tq3_star_multi,\n",
      "               \".polyATrim.adapterTrim.rmRep.fastq.gsnap.muti10.bam\" : cutadapt_gsnap_multi,\n",
      "               \".polyATrim.adapterTrim.rmRep.fastq.star.muti10Aligned.out.sam.bam\" :cutadapt_star_multi}\n",
      "\n",
      "\n",
      "            \n",
      "\n",
      "    "
     ],
     "language": "python",
     "metadata": {},
     "outputs": [],
     "prompt_number": 2
    },
    {
     "cell_type": "code",
     "collapsed": false,
     "input": [
      "for sample in samples:\n",
      "    for extention, arr in adding_dict.items():\n",
      "        cmd = \"samtools flagstat /nas3/gpratt/projects/pipeline_analysis/mapping_test/\" + sample + extention\n",
      "    \n",
      "        try:\n",
      "            samtools_result = !$cmd\n",
      "            arr.append(int(samtools_result[2].split()[0]))\n",
      "        except Exception as e:\n",
      "            print e"
     ],
     "language": "python",
     "metadata": {},
     "outputs": []
    },
    {
     "cell_type": "code",
     "collapsed": false,
     "input": [
      "frame = pd.DataFrame({\"pre_bases\" : [FOX2Brain1_pre, FOX2Brain2_pre, FOX2Brain3_pre, FOX2Brain4_pre],\n",
      "                      \"pre_reads\" : [FOX2Brain1_pre_reads, FOX2Brain2_pre_reads, FOX2Brain3_pre_reads, FOX2Brain4_pre_reads],\n",
      "                      \"tq3_bases\" : [FOX2Brain1_tq3, FOX2Brain2_tq3, FOX2Brain3_tq3, FOX2Brain4_tq3],\n",
      "                      \"tq3_reads\" : [FOX2Brain1_tq3_reads, FOX2Brain2_tq3_reads, FOX2Brain3_tq3_reads, FOX2Brain4_tq3_reads],\n",
      "                      \"cutadapt_bases\" : [FOX2Brain1_cutadapt, FOX2Brain2_cutadapt, FOX2Brain3_cutadapt, FOX2Brain4_cutadapt],\n",
      "                      \"cutadapt_reads\" : [FOX2Brain1_cutadapt_reads, FOX2Brain2_cutadapt_reads, FOX2Brain3_cutadapt_reads, FOX2Brain4_cutadapt_reads],\n",
      "                      \"cutadapt_rep\" : [FOX2Brain1_cutadapt_rep, FOX2Brain2_cutadapt_rep, FOX2Brain3_cutadapt_rep, FOX2Brain4_cutadapt_rep],\n",
      "                      \"tq3_rep\" : [FOX2Brain1_tq3_rep, FOX2Brain2_tq3_rep, FOX2Brain3_tq3_rep, FOX2Brain4_tq3_rep],\n",
      "                      \"tq3_gsnap_uniq\" : tq3_gsnap_uniq,\n",
      "                      \"tq3_star_uniq\" : tq3_star_uniq, \n",
      "                      \"cutadapt_gsnap_uniq\" : cutadapt_gsnap_uniq, \n",
      "                      \"cutadapt_star_uniq\" :cutadapt_star_uniq ,\n",
      "                      \"tq3_gsnap_multi\" : tq3_gsnap_multi,\n",
      "                      \"tq3_star_multi\" : tq3_star_multi ,\n",
      "                      \"cutadapt_gsnap_multi\" : cutadapt_gsnap_multi,\n",
      "                      \"cutadapt_star_multi\" : cutadapt_star_multi\n",
      "                        }, index = ['FOX2Brain1', 'FOX2Brain2', 'FOX2Brain3', 'FOX2Brain4'])\n",
      "frame = frame.applymap(float)"
     ],
     "language": "python",
     "metadata": {},
     "outputs": [],
     "prompt_number": 43
    },
    {
     "cell_type": "code",
     "collapsed": false,
     "input": [
      "frame"
     ],
     "language": "python",
     "metadata": {},
     "outputs": [
      {
       "html": [
        "<div style=\"max-height:1000px;max-width:1500px;overflow:auto;\">\n",
        "<table border=\"1\" class=\"dataframe\">\n",
        "  <thead>\n",
        "    <tr style=\"text-align: right;\">\n",
        "      <th></th>\n",
        "      <th>cutadapt_bases</th>\n",
        "      <th>cutadapt_gsnap_multi</th>\n",
        "      <th>cutadapt_gsnap_uniq</th>\n",
        "      <th>cutadapt_reads</th>\n",
        "      <th>cutadapt_rep</th>\n",
        "      <th>cutadapt_star_multi</th>\n",
        "      <th>cutadapt_star_uniq</th>\n",
        "      <th>pre_bases</th>\n",
        "      <th>pre_reads</th>\n",
        "      <th>tq3_bases</th>\n",
        "      <th>tq3_gsnap_multi</th>\n",
        "      <th>tq3_gsnap_uniq</th>\n",
        "      <th>tq3_reads</th>\n",
        "      <th>tq3_rep</th>\n",
        "      <th>tq3_star_multi</th>\n",
        "      <th>tq3_star_uniq</th>\n",
        "    </tr>\n",
        "  </thead>\n",
        "  <tbody>\n",
        "    <tr>\n",
        "      <th>FOX2Brain1</th>\n",
        "      <td>   6997436</td>\n",
        "      <td>   88072</td>\n",
        "      <td>   73752</td>\n",
        "      <td>   208402</td>\n",
        "      <td>   51904</td>\n",
        "      <td>   166273</td>\n",
        "      <td>  118991</td>\n",
        "      <td>  11246224</td>\n",
        "      <td>   303951</td>\n",
        "      <td>   6613141</td>\n",
        "      <td>  141538</td>\n",
        "      <td>   98939</td>\n",
        "      <td>   201006</td>\n",
        "      <td>  11916</td>\n",
        "      <td>   220865</td>\n",
        "      <td>  136816</td>\n",
        "    </tr>\n",
        "    <tr>\n",
        "      <th>FOX2Brain2</th>\n",
        "      <td>  15004172</td>\n",
        "      <td>    4403</td>\n",
        "      <td>    3012</td>\n",
        "      <td>   491989</td>\n",
        "      <td>  152431</td>\n",
        "      <td>   405311</td>\n",
        "      <td>   57194</td>\n",
        "      <td> 180221635</td>\n",
        "      <td>  4870854</td>\n",
        "      <td> 134617664</td>\n",
        "      <td> 2357913</td>\n",
        "      <td> 1844121</td>\n",
        "      <td>  4064308</td>\n",
        "      <td> 191662</td>\n",
        "      <td>  3709955</td>\n",
        "      <td> 2512160</td>\n",
        "    </tr>\n",
        "    <tr>\n",
        "      <th>FOX2Brain3</th>\n",
        "      <td> 415597338</td>\n",
        "      <td> 5627609</td>\n",
        "      <td> 4679409</td>\n",
        "      <td> 10583865</td>\n",
        "      <td> 1421151</td>\n",
        "      <td> 10039505</td>\n",
        "      <td> 7413441</td>\n",
        "      <td> 558690746</td>\n",
        "      <td> 12145450</td>\n",
        "      <td> 391641897</td>\n",
        "      <td> 6775207</td>\n",
        "      <td> 4925930</td>\n",
        "      <td> 10382082</td>\n",
        "      <td> 474851</td>\n",
        "      <td> 10727900</td>\n",
        "      <td> 7199717</td>\n",
        "    </tr>\n",
        "    <tr>\n",
        "      <th>FOX2Brain4</th>\n",
        "      <td> 309165616</td>\n",
        "      <td> 2909833</td>\n",
        "      <td> 2406866</td>\n",
        "      <td>  8439670</td>\n",
        "      <td> 1226018</td>\n",
        "      <td>  7882922</td>\n",
        "      <td> 5555592</td>\n",
        "      <td> 433314650</td>\n",
        "      <td> 10568649</td>\n",
        "      <td> 280405367</td>\n",
        "      <td> 4686855</td>\n",
        "      <td> 3242542</td>\n",
        "      <td>  8181277</td>\n",
        "      <td> 380670</td>\n",
        "      <td>  8570289</td>\n",
        "      <td> 5353339</td>\n",
        "    </tr>\n",
        "  </tbody>\n",
        "</table>\n",
        "</div>"
       ],
       "output_type": "pyout",
       "prompt_number": 59,
       "text": [
        "            cutadapt_bases  cutadapt_gsnap_multi  cutadapt_gsnap_uniq  \\\n",
        "FOX2Brain1         6997436                 88072                73752   \n",
        "FOX2Brain2        15004172                  4403                 3012   \n",
        "FOX2Brain3       415597338               5627609              4679409   \n",
        "FOX2Brain4       309165616               2909833              2406866   \n",
        "\n",
        "            cutadapt_reads  cutadapt_rep  cutadapt_star_multi  cutadapt_star_uniq  \\\n",
        "FOX2Brain1          208402         51904               166273              118991   \n",
        "FOX2Brain2          491989        152431               405311               57194   \n",
        "FOX2Brain3        10583865       1421151             10039505             7413441   \n",
        "FOX2Brain4         8439670       1226018              7882922             5555592   \n",
        "\n",
        "            pre_bases  pre_reads  tq3_bases  tq3_gsnap_multi  tq3_gsnap_uniq  \\\n",
        "FOX2Brain1   11246224     303951    6613141           141538           98939   \n",
        "FOX2Brain2  180221635    4870854  134617664          2357913         1844121   \n",
        "FOX2Brain3  558690746   12145450  391641897          6775207         4925930   \n",
        "FOX2Brain4  433314650   10568649  280405367          4686855         3242542   \n",
        "\n",
        "            tq3_reads  tq3_rep  tq3_star_multi  tq3_star_uniq  \n",
        "FOX2Brain1     201006    11916          220865         136816  \n",
        "FOX2Brain2    4064308   191662         3709955        2512160  \n",
        "FOX2Brain3   10382082   474851        10727900        7199717  \n",
        "FOX2Brain4    8181277   380670         8570289        5353339  "
       ]
      }
     ],
     "prompt_number": 59
    },
    {
     "cell_type": "markdown",
     "metadata": {},
     "source": [
      "Before starting keep in mind that FOX3 and 4 have signifantly more reads than 1 and 2 and, I really only use their results to argue my case.\n",
      "\n",
      "Also fox2brain2 was a low quality dataset and that error wasn't caught by tq3 prevously.   "
     ]
    },
    {
     "cell_type": "markdown",
     "metadata": {},
     "source": [
      "What is more efficent at trimming, tq3 or cutadapt?"
     ]
    },
    {
     "cell_type": "code",
     "collapsed": false,
     "input": [
      "frame.cutadapt_reads / frame.tq3_reads "
     ],
     "language": "python",
     "metadata": {},
     "outputs": [
      {
       "output_type": "pyout",
       "prompt_number": 55,
       "text": [
        "FOX2Brain1    1.036795\n",
        "FOX2Brain2    0.121051\n",
        "FOX2Brain3    1.019436\n",
        "FOX2Brain4    1.031583"
       ]
      }
     ],
     "prompt_number": 55
    },
    {
     "cell_type": "code",
     "collapsed": false,
     "input": [
      "frame.cutadapt_bases / frame.tq3_bases"
     ],
     "language": "python",
     "metadata": {},
     "outputs": [
      {
       "output_type": "pyout",
       "prompt_number": 56,
       "text": [
        "FOX2Brain1    1.058111\n",
        "FOX2Brain2    0.111458\n",
        "FOX2Brain3    1.061167\n",
        "FOX2Brain4    1.102567"
       ]
      }
     ],
     "prompt_number": 56
    },
    {
     "cell_type": "markdown",
     "metadata": {},
     "source": [
      "Conclusion: Both cutadapt and tq3 are similirally effective at pre-trimming, need to run fastqc to see if any one is better than the other at getting rid of biases or anything like that, not a major cause of variation"
     ]
    },
    {
     "cell_type": "markdown",
     "metadata": {},
     "source": [
      "Does the change in duplicate removal affect anything?  "
     ]
    },
    {
     "cell_type": "code",
     "collapsed": false,
     "input": [
      "(frame.cutadapt_rep /  frame.cutadapt_reads) / (frame.tq3_rep / frame.tq3_reads)"
     ],
     "language": "python",
     "metadata": {},
     "outputs": [
      {
       "output_type": "pyout",
       "prompt_number": 58,
       "text": [
        "FOX2Brain1    4.201240\n",
        "FOX2Brain2    6.570047\n",
        "FOX2Brain3    2.935777\n",
        "FOX2Brain4    3.122079"
       ]
      }
     ],
     "prompt_number": 58
    },
    {
     "cell_type": "markdown",
     "metadata": {},
     "source": [
      "When normalizing for number of reads that are possible to map There are significantly more repetative elements removed in the new pipeline, this is a good thing.  Will need to be careful when normalizing between different things later though."
     ]
    },
    {
     "cell_type": "markdown",
     "metadata": {},
     "source": [
      "Using star what is better for downstream mapping, tq3 or cutadapt?"
     ]
    },
    {
     "cell_type": "code",
     "collapsed": false,
     "input": [
      "#for uniq\n",
      "(frame.cutadapt_star_uniq / frame.cutadapt_reads) / (frame.tq3_star_uniq / frame.tq3_reads) "
     ],
     "language": "python",
     "metadata": {},
     "outputs": [
      {
       "output_type": "pyout",
       "prompt_number": 60,
       "text": [
        "FOX2Brain1    0.838850\n",
        "FOX2Brain2    0.188076\n",
        "FOX2Brain3    1.010054\n",
        "FOX2Brain4    1.006008"
       ]
      }
     ],
     "prompt_number": 60
    },
    {
     "cell_type": "code",
     "collapsed": false,
     "input": [
      "#for multi\n",
      "(frame.cutadapt_star_multi / frame.cutadapt_reads) / (frame.tq3_star_multi / frame.tq3_reads) "
     ],
     "language": "python",
     "metadata": {},
     "outputs": [
      {
       "output_type": "pyout",
       "prompt_number": 61,
       "text": [
        "FOX2Brain1    0.726109\n",
        "FOX2Brain2    0.902508\n",
        "FOX2Brain3    0.917990\n",
        "FOX2Brain4    0.891636"
       ]
      }
     ],
     "prompt_number": 61
    },
    {
     "cell_type": "markdown",
     "metadata": {},
     "source": [
      "Unique mapping is almost exaclty the same efficency, multi mapping is a bit different, but that may be due to bad removal of replicates"
     ]
    },
    {
     "cell_type": "markdown",
     "metadata": {},
     "source": [
      "Using gsnap what is better for downstream mapping, tq3 or cutadapt?"
     ]
    },
    {
     "cell_type": "code",
     "collapsed": false,
     "input": [
      "#for uniq\n",
      "(frame.cutadapt_gsnap_uniq / frame.cutadapt_reads) / (frame.tq3_gsnap_uniq / frame.tq3_reads) "
     ],
     "language": "python",
     "metadata": {},
     "outputs": [
      {
       "output_type": "pyout",
       "prompt_number": 64,
       "text": [
        "FOX2Brain1    0.718974\n",
        "FOX2Brain2    0.013493\n",
        "FOX2Brain3    0.931843\n",
        "FOX2Brain4    0.719552"
       ]
      }
     ],
     "prompt_number": 64
    },
    {
     "cell_type": "code",
     "collapsed": false,
     "input": [
      "#for multi\n",
      "(frame.cutadapt_gsnap_multi / frame.cutadapt_reads) / (frame.tq3_gsnap_multi / frame.tq3_reads) "
     ],
     "language": "python",
     "metadata": {},
     "outputs": [
      {
       "output_type": "pyout",
       "prompt_number": 65,
       "text": [
        "FOX2Brain1    0.600167\n",
        "FOX2Brain2    0.015426\n",
        "FOX2Brain3    0.814782\n",
        "FOX2Brain4    0.601842"
       ]
      }
     ],
     "prompt_number": 65
    },
    {
     "cell_type": "markdown",
     "metadata": {},
     "source": [
      "tq3 maps better using gsnap, meaning that tq3 must be actually able to clip more efficently.  Much more efficently in the case of Fox2Brain4"
     ]
    },
    {
     "cell_type": "markdown",
     "metadata": {},
     "source": [
      "Given that there isn't much of a change between tq3 and cutadapt with star, ideally we'ed use star, but have to make sure its a \"better\" mapper, in terms of number of reads mapped."
     ]
    },
    {
     "cell_type": "code",
     "collapsed": false,
     "input": [
      "frame.cutadapt_star_uniq / frame.cutadapt_gsnap_uniq"
     ],
     "language": "python",
     "metadata": {},
     "outputs": [
      {
       "output_type": "pyout",
       "prompt_number": 66,
       "text": [
        "FOX2Brain1     1.613394\n",
        "FOX2Brain2    18.988712\n",
        "FOX2Brain3     1.584269\n",
        "FOX2Brain4     2.308227"
       ]
      }
     ],
     "prompt_number": 66
    },
    {
     "cell_type": "code",
     "collapsed": false,
     "input": [
      "frame.cutadapt_star_multi / frame.cutadapt_gsnap_multi"
     ],
     "language": "python",
     "metadata": {},
     "outputs": [
      {
       "output_type": "pyout",
       "prompt_number": 67,
       "text": [
        "FOX2Brain1     1.887921\n",
        "FOX2Brain2    92.053373\n",
        "FOX2Brain3     1.783973\n",
        "FOX2Brain4     2.709063"
       ]
      }
     ],
     "prompt_number": 67
    },
    {
     "cell_type": "code",
     "collapsed": false,
     "input": [
      "frame.tq3_star_uniq / frame.tq3_gsnap_uniq"
     ],
     "language": "python",
     "metadata": {},
     "outputs": [
      {
       "output_type": "pyout",
       "prompt_number": 68,
       "text": [
        "FOX2Brain1    1.382832\n",
        "FOX2Brain2    1.362253\n",
        "FOX2Brain3    1.461595\n",
        "FOX2Brain4    1.650970"
       ]
      }
     ],
     "prompt_number": 68
    },
    {
     "cell_type": "code",
     "collapsed": false,
     "input": [
      "frame.tq3_star_multi / frame.tq3_gsnap_multi"
     ],
     "language": "python",
     "metadata": {},
     "outputs": [
      {
       "output_type": "pyout",
       "prompt_number": 69,
       "text": [
        "FOX2Brain1    1.560464\n",
        "FOX2Brain2    1.573406\n",
        "FOX2Brain3    1.583405\n",
        "FOX2Brain4    1.828580"
       ]
      }
     ],
     "prompt_number": 69
    },
    {
     "cell_type": "markdown",
     "metadata": {},
     "source": [
      "It is, maps significantly more reads than gsnap, no matter how you slice it. I'd say thats better.  These are reads that would have gone unmapped, previously, so cutadapt and tq3 are failing at cutting some reads, but they are being recovered by star"
     ]
    },
    {
     "cell_type": "markdown",
     "metadata": {},
     "source": [
      "Overall STAR is a more robust mapper, that gives more analizable reads, tq3 is a better pre-processing algorithm, but with the way STAR allows for recovery of bad reads its not nessessary.  Questions remaining: do the reads that map have a high degree of collrlation?  What happens when you remove duplicates?  How does IDr shake out for multiple samples?  "
     ]
    },
    {
     "cell_type": "code",
     "collapsed": false,
     "input": [
      "for sample in samples:\n",
      "    for extention in adding_dict:\n",
      "        location = \"/nas3/gpratt/projects/pipeline_analysis/mapping_test/\" + sample + extention\n",
      "        sorted_bam = location + \".sorted\"\n",
      "        #!samtools sort $location $sorted_bam\n",
      "        sorted_bam = sorted_bam + \".bam\"\n",
      "        !genomeCoverageBed -ibam $sorted_bam -bg -split > foo\n",
      "        out = sorted_bam + \".bw.\"\n",
      "        !bedGraphToBigWig foo /nas3/yeolab/Genome/ucsc/mm9/mm9.chrom.sizes $out\n",
      "        "
     ],
     "language": "python",
     "metadata": {},
     "outputs": [],
     "prompt_number": "*"
    },
    {
     "cell_type": "code",
     "collapsed": false,
     "input": [
      "foo = pybedtools.BedTool(\"/nas3/gpratt/projects/pipeline_analysis/mapping_test/FOX2Brain-08.07.09.tq3.norep.star.muti10Aligned.out.sam.bam\")"
     ],
     "language": "python",
     "metadata": {},
     "outputs": [],
     "prompt_number": 3
    },
    {
     "cell_type": "code",
     "collapsed": false,
     "input": [
      "foo.genome_coverage(bg=True, split=True"
     ],
     "language": "python",
     "metadata": {},
     "outputs": [],
     "prompt_number": 4
    },
    {
     "cell_type": "code",
     "collapsed": false,
     "input": [
      "print \"Foo\""
     ],
     "language": "python",
     "metadata": {},
     "outputs": [],
     "prompt_number": "*"
    },
    {
     "cell_type": "code",
     "collapsed": false,
     "input": [
      "print \"Foo\""
     ],
     "language": "python",
     "metadata": {},
     "outputs": [
      {
       "output_type": "stream",
       "stream": "stdout",
       "text": [
        "Foo"
       ]
      },
      {
       "output_type": "stream",
       "stream": "stdout",
       "text": [
        "\n"
       ]
      }
     ],
     "prompt_number": 4
    },
    {
     "cell_type": "code",
     "collapsed": false,
     "input": [],
     "language": "python",
     "metadata": {},
     "outputs": []
    }
   ],
   "metadata": {}
  }
 ]
}