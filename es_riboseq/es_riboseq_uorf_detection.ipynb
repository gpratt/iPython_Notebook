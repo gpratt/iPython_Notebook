{
 "metadata": {
  "name": ""
 },
 "nbformat": 3,
 "nbformat_minor": 0,
 "worksheets": [
  {
   "cells": [
    {
     "cell_type": "code",
     "collapsed": false,
     "input": [
      "from collections import defaultdict\n",
      "from itertools import izip\n",
      "\n",
      "from Bio import SeqIO\n",
      "import gffutils\n",
      "\n",
      "import clipper.src.CLIP_analysis as CLIP_analysis\n",
      "\n",
      "from gscripts.riboseq.uorf_detector import UORF_detector"
     ],
     "language": "python",
     "metadata": {},
     "outputs": [
      {
       "output_type": "stream",
       "stream": "stderr",
       "text": [
        "/nas3/yeolab/Software/Python-2.7.5/lib/python2.7/site-packages/matplotlib-1.4.x-py2.7-linux-x86_64.egg/matplotlib/__init__.py:1146: UserWarning:  This call to matplotlib.use() has no effect\n",
        "because the backend has already been chosen;\n",
        "matplotlib.use() must be called *before* pylab, matplotlib.pyplot,\n",
        "or matplotlib.backends is imported for the first time.\n",
        "\n",
        "  warnings.warn(_use_error_msg)\n"
       ]
      }
     ],
     "prompt_number": 1
    },
    {
     "cell_type": "code",
     "collapsed": false,
     "input": [
      "detector = UORF_detector()"
     ],
     "language": "python",
     "metadata": {},
     "outputs": [],
     "prompt_number": 2
    },
    {
     "cell_type": "code",
     "collapsed": false,
     "input": [
      "starts_and_stops = detector.get_uORF_start_stop_gff()"
     ],
     "language": "python",
     "metadata": {},
     "outputs": [
      {
       "output_type": "stream",
       "stream": "stdout",
       "text": [
        "/nas3/yeolab/Software/Python-2.7.5/lib/python2.7/site-packages/clipper-0.1.2-py2.7-linux-x86_64.egg/clipper/data/regions/hg19_genes.bed\n"
       ]
      }
     ],
     "prompt_number": 3
    },
    {
     "cell_type": "code",
     "collapsed": false,
     "input": [
      "len(starts_and_stops)"
     ],
     "language": "python",
     "metadata": {},
     "outputs": [
      {
       "metadata": {},
       "output_type": "pyout",
       "prompt_number": 8,
       "text": [
        "37284"
       ]
      }
     ],
     "prompt_number": 8
    },
    {
     "cell_type": "code",
     "collapsed": false,
     "input": [
      "for x in starts_and_stops[:30]:\n",
      "    print x,"
     ],
     "language": "python",
     "metadata": {},
     "outputs": [
      {
       "output_type": "stream",
       "stream": "stdout",
       "text": [
        "chr1\tprotein_coding\tuORF_start\t27114009\t27114011\t.\t+\t.\tID=uORF_start:ENSG00000060642.6;Parent=ENSG00000060642.6\n",
        " chr1\tprotein_coding\tuORF_end\t27114108\t27114110\t.\t+\t.\tID=uORF_end:ENSG00000060642.6;Parent=ENSG00000060642.6\n",
        " chr1\tprotein_coding\tuORF_start\t27114576\t27114578\t.\t+\t.\tID=uORF_start:ENSG00000060642.6;Parent=ENSG00000060642.6\n",
        " chr1\tprotein_coding\tuORF_end\t27114771\t27114773\t.\t+\t.\tID=uORF_end:ENSG00000060642.6;Parent=ENSG00000060642.6\n",
        " chr1\tprotein_coding\tuORF_start\t27115212\t27115214\t.\t+\t.\tID=uORF_start:ENSG00000060642.6;Parent=ENSG00000060642.6\n",
        " chr1\tprotein_coding\tuORF_end\t27115305\t27115307\t.\t+\t.\tID=uORF_end:ENSG00000060642.6;Parent=ENSG00000060642.6\n",
        " chr1\tprotein_coding\tuORF_start\t27115505\t27115507\t.\t+\t.\tID=uORF_start:ENSG00000060642.6;Parent=ENSG00000060642.6\n",
        " chr1\tprotein_coding\tuORF_end\t27117341\t27117343\t.\t+\t.\tID=uORF_end:ENSG00000060642.6;Parent=ENSG00000060642.6\n",
        " chr1\tprotein_coding\tuORF_start\t27114576\t27114578\t.\t+\t.\tID=uORF_start:ENSG00000060642.6;Parent=ENSG00000060642.6\n",
        " chr1\tprotein_coding\tuORF_end\t27114771\t27114773\t.\t+\t.\tID=uORF_end:ENSG00000060642.6;Parent=ENSG00000060642.6\n",
        " chr1\tprotein_coding\tuORF_start\t27115212\t27115214\t.\t+\t.\tID=uORF_start:ENSG00000060642.6;Parent=ENSG00000060642.6\n",
        " chr1\tprotein_coding\tuORF_end\t27115305\t27115307\t.\t+\t.\tID=uORF_end:ENSG00000060642.6;Parent=ENSG00000060642.6\n",
        " chr1\tprotein_coding\tuORF_start\t27115505\t27115507\t.\t+\t.\tID=uORF_start:ENSG00000060642.6;Parent=ENSG00000060642.6\n",
        " chr1\tprotein_coding\tuORF_end\t27117341\t27117343\t.\t+\t.\tID=uORF_end:ENSG00000060642.6;Parent=ENSG00000060642.6\n",
        " chr1\tprotein_coding\tuORF_start\t27114576\t27114578\t.\t+\t.\tID=uORF_start:ENSG00000060642.6;Parent=ENSG00000060642.6\n",
        " chr1\tprotein_coding\tuORF_end\t27114771\t27114773\t.\t+\t.\tID=uORF_end:ENSG00000060642.6;Parent=ENSG00000060642.6\n",
        " chr1\tprotein_coding\tuORF_start\t27115212\t27115214\t.\t+\t.\tID=uORF_start:ENSG00000060642.6;Parent=ENSG00000060642.6\n",
        " chr1\tprotein_coding\tuORF_end\t27115305\t27115307\t.\t+\t.\tID=uORF_end:ENSG00000060642.6;Parent=ENSG00000060642.6\n",
        " chr1\tprotein_coding\tuORF_start\t27115505\t27115507\t.\t+\t.\tID=uORF_start:ENSG00000060642.6;Parent=ENSG00000060642.6\n",
        " chr1\tprotein_coding\tuORF_end\t27117341\t27117343\t.\t+\t.\tID=uORF_end:ENSG00000060642.6;Parent=ENSG00000060642.6\n",
        " chr10\tprotein_coding\tuORF_start\t116444550\t116444552\t.\t-\t.\tID=uORF_start:ENSG00000099204.14;Parent=ENSG00000099204.14\n",
        " chr10\tprotein_coding\tuORF_end\t116444376\t116444378\t.\t-\t.\tID=uORF_end:ENSG00000099204.14;Parent=ENSG00000099204.14\n",
        " chr10\tprotein_coding\tuORF_start\t116444340\t116444342\t.\t-\t.\tID=uORF_start:ENSG00000099204.14;Parent=ENSG00000099204.14\n",
        " chr10\tprotein_coding\tuORF_end\t116444181\t116444183\t.\t-\t.\tID=uORF_end:ENSG00000099204.14;Parent=ENSG00000099204.14\n",
        " chr10\tprotein_coding\tuORF_start\t116417965\t116417967\t.\t-\t.\tID=uORF_start:ENSG00000099204.14;Parent=ENSG00000099204.14\n",
        " chr10\tprotein_coding\tuORF_end\t116286596\t116286598\t.\t-\t.\tID=uORF_end:ENSG00000099204.14;Parent=ENSG00000099204.14\n",
        " chr1\tprotein_coding\tuORF_start\t197885705\t197885707\t.\t+\t.\tID=uORF_start:ENSG00000143355.10;Parent=ENSG00000143355.10\n",
        " chr1\tprotein_coding\tuORF_end\t197886555\t197886557\t.\t+\t.\tID=uORF_end:ENSG00000143355.10;Parent=ENSG00000143355.10\n",
        " chr1\tprotein_coding\tuORF_start\t197885127\t197885129\t.\t+\t.\tID=uORF_start:ENSG00000143355.10;Parent=ENSG00000143355.10\n",
        " chr1\tprotein_coding\tuORF_end\t197885244\t197885246\t.\t+\t.\tID=uORF_end:ENSG00000143355.10;Parent=ENSG00000143355.10\n",
        "\n"
       ]
      }
     ],
     "prompt_number": 4
    },
    {
     "cell_type": "code",
     "collapsed": false,
     "input": [
      "uorfs = detector.get_uORF_gff()"
     ],
     "language": "python",
     "metadata": {},
     "outputs": [
      {
       "output_type": "stream",
       "stream": "stdout",
       "text": [
        "/nas3/yeolab/Software/Python-2.7.5/lib/python2.7/site-packages/clipper-0.1.2-py2.7-linux-x86_64.egg/clipper/data/regions/hg19_genes.bed\n"
       ]
      }
     ],
     "prompt_number": 3
    },
    {
     "cell_type": "code",
     "collapsed": false,
     "input": [
      "for x in uorfs[:10]:\n",
      "    print x"
     ],
     "language": "python",
     "metadata": {},
     "outputs": [
      {
       "output_type": "stream",
       "stream": "stdout",
       "text": [
        "chr1\t27114008\t27114110\tuORF_end:ENSG00000060642.6\t.\t+\n",
        "\n",
        "chr1\t27114575\t27114773\tuORF_end:ENSG00000060642.6\t.\t+\n",
        "\n",
        "chr1\t27115211\t27115307\tuORF_end:ENSG00000060642.6\t.\t+\n",
        "\n",
        "chr1\t27115504\t27117343\tuORF_end:ENSG00000060642.6\t.\t+\n",
        "\n",
        "chr1\t27114575\t27114773\tuORF_end:ENSG00000060642.6\t.\t+\n",
        "\n",
        "chr1\t27115211\t27115307\tuORF_end:ENSG00000060642.6\t.\t+\n",
        "\n",
        "chr1\t27115504\t27117343\tuORF_end:ENSG00000060642.6\t.\t+\n",
        "\n",
        "chr1\t27114575\t27114773\tuORF_end:ENSG00000060642.6\t.\t+\n",
        "\n",
        "chr1\t27115211\t27115307\tuORF_end:ENSG00000060642.6\t.\t+\n",
        "\n",
        "chr1\t27115504\t27117343\tuORF_end:ENSG00000060642.6\t.\t+\n",
        "\n"
       ]
      }
     ],
     "prompt_number": 4
    },
    {
     "cell_type": "code",
     "collapsed": false,
     "input": [
      "len(uorfs)"
     ],
     "language": "python",
     "metadata": {},
     "outputs": [
      {
       "metadata": {},
       "output_type": "pyout",
       "prompt_number": 5,
       "text": [
        "18642"
       ]
      }
     ],
     "prompt_number": 5
    },
    {
     "cell_type": "code",
     "collapsed": false,
     "input": [],
     "language": "python",
     "metadata": {},
     "outputs": []
    }
   ],
   "metadata": {}
  }
 ]
}