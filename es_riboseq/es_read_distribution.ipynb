{
 "metadata": {
  "name": ""
 },
 "nbformat": 3,
 "nbformat_minor": 0,
 "worksheets": [
  {
   "cells": [
    {
     "cell_type": "code",
     "collapsed": false,
     "input": [
      "from collections import OrderedDict\n",
      "import os\n",
      "import glob\n",
      "from itertools import groupby\n",
      "\n",
      "from bx.bbi.bigwig_file import BigWigFile \n",
      "import pandas as pd\n",
      "import pysam\n",
      "\n",
      "from clipper.src import CLIP_analysis"
     ],
     "language": "python",
     "metadata": {},
     "outputs": [],
     "prompt_number": 29
    },
    {
     "cell_type": "markdown",
     "metadata": {},
     "source": [
      "#Code to get overlaps"
     ]
    },
    {
     "cell_type": "code",
     "collapsed": false,
     "input": [
      "def get_genomic_distributions(samples):\n",
      "    #This is the wrong approach, should just count and overlap\n",
      "    results = {}\n",
      "    reads = {}\n",
      "    for name in samples:\n",
      "        results[name] = {}\n",
      "        reads[name] = {}\n",
      "        current = samples[name]\n",
      "        for region_name, region in regions.items():\n",
      "            current_size = current.intersect(region, u=True, s=True, sorted=True).saveas(name + \"_\" + region_name + \".bam\")\n",
      "            current = current.intersect(region, v=True, s=True, sorted=True) \n",
      "            results[name][region_name] = len(current_size)\n",
      "        results[name]['all'] = pysam.Samfile(samples[name].fn).mapped\n",
      "    return results"
     ],
     "language": "python",
     "metadata": {},
     "outputs": [],
     "prompt_number": 24
    },
    {
     "cell_type": "code",
     "collapsed": false,
     "input": [
      "#remove ES_1 which is an internal control\n",
      "def renamer(x):\n",
      "    if \"ES\" in x:\n",
      "        x = x.split(\"_\")\n",
      "        x[1] = int(x[1]) - 1\n",
      "        x = \"_\".join(map(str, x))\n",
      "    return x\n",
      "        "
     ],
     "language": "python",
     "metadata": {},
     "outputs": [],
     "prompt_number": 4
    },
    {
     "cell_type": "markdown",
     "metadata": {},
     "source": [
      "#Counting / Normalization Code"
     ]
    },
    {
     "cell_type": "code",
     "collapsed": false,
     "input": [
      "regions = CLIP_analysis.get_genomic_regions(\"/nas3/gpratt/clipper/clipper/data/regions/\", \"hg19\", None)\n",
      "regions = OrderedDict([(region, regions[region]) for region in \"cds three_prime_utrs five_prime_utrs exons introns genes\".split()])"
     ],
     "language": "python",
     "metadata": {},
     "outputs": [
      {
       "output_type": "stream",
       "stream": "stdout",
       "text": [
        "/nas3/gpratt/clipper/clipper/data/regions/hg19_genes.bed\n"
       ]
      }
     ],
     "prompt_number": 5
    },
    {
     "cell_type": "code",
     "collapsed": true,
     "input": [
      "riboseq = {os.path.basename(name.split(\".\")[0]) : pybedtools.BedTool(name) for name in glob.glob(\"/nas3/gpratt/projects/es_riboseq/analysis/es_riboseq_v1/*.rg.bam\")}\n",
      "rnaseq =  {os.path.basename(name.split(\".\")[0]) : pybedtools.BedTool(name) for name in glob.glob(\"/nas3/gpratt/projects/es_riboseq/analysis/es_rnaseq_v1/*.rg.bam\")}"
     ],
     "language": "python",
     "metadata": {},
     "outputs": [
      {
       "output_type": "stream",
       "stream": "stderr",
       "text": [
        "Exception in thread Thread-2:\n",
        "Traceback (most recent call last):\n",
        "  File \"/nas3/yeolab/Software/Python-2.7.5/lib/python2.7/threading.py\", line 808, in __bootstrap_inner\n",
        "    self.run()\n",
        "  File \"/nas3/yeolab/Software/Python-2.7.5/lib/python2.7/site-packages/IPython/kernel/zmq/heartbeat.py\", line 55, in run\n",
        "    zmq.device(zmq.FORWARDER, self.socket, self.socket)\n",
        "  File \"_device.pyx\", line 52, in zmq.core._device.device (zmq/core/_device.c:1040)\n",
        "  File \"_device.pyx\", line 82, in zmq.core._device.proxy (zmq/core/_device.c:1325)\n",
        "  File \"checkrc.pxd\", line 21, in zmq.core.checkrc._check_rc (zmq/core/_device.c:1562)\n",
        "ZMQError: Interrupted system call\n",
        "\n"
       ]
      }
     ],
     "prompt_number": 6
    },
    {
     "cell_type": "code",
     "collapsed": false,
     "input": [
      "riboseq_results = get_genomic_distributions(riboseq)\n",
      "rnaseq_results = get_genomic_distributions(rnaseq)"
     ],
     "language": "python",
     "metadata": {},
     "outputs": [],
     "prompt_number": "*"
    },
    {
     "cell_type": "code",
     "collapsed": false,
     "input": [
      "riboseq_df = pd.DataFrame(riboseq_results).T.rename(lambda x: \"_\".join(x.split(\"_\")[:2]).replace(\"-\", \"\")).drop(\"ES_1\").rename(renamer)\n",
      "rnaseq_df = pd.DataFrame(rnaseq_results).T.rename(lambda x: \"_\".join(x.split(\"_\")[:2]).replace(\"-\", \"\"))"
     ],
     "language": "python",
     "metadata": {},
     "outputs": [],
     "prompt_number": 30
    },
    {
     "cell_type": "code",
     "collapsed": false,
     "input": [
      "riboseq_normed = riboseq_df.astype(float).div(riboseq_df['all'], axis=0)\n",
      "rnaseq_normed = rnaseq_df.astype(float).div(rnaseq_df['all'], axis=0)"
     ],
     "language": "python",
     "metadata": {},
     "outputs": [],
     "prompt_number": 31
    },
    {
     "cell_type": "markdown",
     "metadata": {},
     "source": [
      "#Results"
     ]
    },
    {
     "cell_type": "markdown",
     "metadata": {},
     "source": [
      "#Ribo-seq Read Precent Overlapping"
     ]
    },
    {
     "cell_type": "code",
     "collapsed": false,
     "input": [
      "riboseq_normed * 100"
     ],
     "language": "python",
     "metadata": {},
     "outputs": [
      {
       "html": [
        "<div style=\"max-height:1000px;max-width:1500px;overflow:auto;\">\n",
        "<table border=\"1\" class=\"dataframe\">\n",
        "  <thead>\n",
        "    <tr style=\"text-align: right;\">\n",
        "      <th></th>\n",
        "      <th>all</th>\n",
        "      <th>cds</th>\n",
        "      <th>exons</th>\n",
        "      <th>five_prime_utrs</th>\n",
        "      <th>genes</th>\n",
        "      <th>introns</th>\n",
        "      <th>three_prime_utrs</th>\n",
        "    </tr>\n",
        "  </thead>\n",
        "  <tbody>\n",
        "    <tr>\n",
        "      <th>ES_1</th>\n",
        "      <td> 100</td>\n",
        "      <td> 35.620629</td>\n",
        "      <td> 35.387202</td>\n",
        "      <td> 2.273985</td>\n",
        "      <td> 0.002711</td>\n",
        "      <td>  4.956242</td>\n",
        "      <td> 0.910675</td>\n",
        "    </tr>\n",
        "    <tr>\n",
        "      <th>ES_2</th>\n",
        "      <td> 100</td>\n",
        "      <td>  6.511124</td>\n",
        "      <td> 21.569929</td>\n",
        "      <td> 2.624495</td>\n",
        "      <td> 0.003618</td>\n",
        "      <td> 10.303721</td>\n",
        "      <td> 2.242040</td>\n",
        "    </tr>\n",
        "    <tr>\n",
        "      <th>NPC_1</th>\n",
        "      <td> 100</td>\n",
        "      <td> 10.003231</td>\n",
        "      <td> 48.636538</td>\n",
        "      <td> 5.772190</td>\n",
        "      <td> 0.000128</td>\n",
        "      <td>  7.919251</td>\n",
        "      <td> 3.329643</td>\n",
        "    </tr>\n",
        "    <tr>\n",
        "      <th>NPC_2</th>\n",
        "      <td> 100</td>\n",
        "      <td>  9.960094</td>\n",
        "      <td> 48.853239</td>\n",
        "      <td> 8.330780</td>\n",
        "      <td> 0.000458</td>\n",
        "      <td>  7.564746</td>\n",
        "      <td> 2.424073</td>\n",
        "    </tr>\n",
        "    <tr>\n",
        "      <th>SOX17_1</th>\n",
        "      <td> 100</td>\n",
        "      <td> 16.043544</td>\n",
        "      <td> 21.171804</td>\n",
        "      <td> 3.502557</td>\n",
        "      <td> 0.000950</td>\n",
        "      <td> 15.422797</td>\n",
        "      <td> 1.529592</td>\n",
        "    </tr>\n",
        "    <tr>\n",
        "      <th>SOX17_2</th>\n",
        "      <td> 100</td>\n",
        "      <td> 19.098811</td>\n",
        "      <td> 23.903490</td>\n",
        "      <td> 3.550498</td>\n",
        "      <td> 0.000938</td>\n",
        "      <td> 13.823491</td>\n",
        "      <td> 1.313060</td>\n",
        "    </tr>\n",
        "    <tr>\n",
        "      <th>TGFP_1</th>\n",
        "      <td> 100</td>\n",
        "      <td> 20.728524</td>\n",
        "      <td> 19.212598</td>\n",
        "      <td> 1.701264</td>\n",
        "      <td> 0.002401</td>\n",
        "      <td> 14.899029</td>\n",
        "      <td> 2.061173</td>\n",
        "    </tr>\n",
        "    <tr>\n",
        "      <th>TGFP_2</th>\n",
        "      <td> 100</td>\n",
        "      <td> 27.770529</td>\n",
        "      <td> 25.905455</td>\n",
        "      <td> 2.454829</td>\n",
        "      <td> 0.002372</td>\n",
        "      <td>  9.142978</td>\n",
        "      <td> 1.577248</td>\n",
        "    </tr>\n",
        "  </tbody>\n",
        "</table>\n",
        "<p>8 rows \u00d7 7 columns</p>\n",
        "</div>"
       ],
       "metadata": {},
       "output_type": "pyout",
       "prompt_number": 32,
       "text": [
        "         all        cds      exons  five_prime_utrs     genes    introns  \\\n",
        "ES_1     100  35.620629  35.387202         2.273985  0.002711   4.956242   \n",
        "ES_2     100   6.511124  21.569929         2.624495  0.003618  10.303721   \n",
        "NPC_1    100  10.003231  48.636538         5.772190  0.000128   7.919251   \n",
        "NPC_2    100   9.960094  48.853239         8.330780  0.000458   7.564746   \n",
        "SOX17_1  100  16.043544  21.171804         3.502557  0.000950  15.422797   \n",
        "SOX17_2  100  19.098811  23.903490         3.550498  0.000938  13.823491   \n",
        "TGFP_1   100  20.728524  19.212598         1.701264  0.002401  14.899029   \n",
        "TGFP_2   100  27.770529  25.905455         2.454829  0.002372   9.142978   \n",
        "\n",
        "         three_prime_utrs  \n",
        "ES_1             0.910675  \n",
        "ES_2             2.242040  \n",
        "NPC_1            3.329643  \n",
        "NPC_2            2.424073  \n",
        "SOX17_1          1.529592  \n",
        "SOX17_2          1.313060  \n",
        "TGFP_1           2.061173  \n",
        "TGFP_2           1.577248  \n",
        "\n",
        "[8 rows x 7 columns]"
       ]
      }
     ],
     "prompt_number": 32
    },
    {
     "cell_type": "markdown",
     "metadata": {},
     "source": [
      "For Riboseq there are a large number of apparently untranslated exons that have reads mapping to them.  Don't know what these things are / I should examine them.  "
     ]
    },
    {
     "cell_type": "code",
     "collapsed": false,
     "input": [
      "sum(riboseq_normed[['cds', 'exons', 'five_prime_utrs', 'genes', 'introns', 'three_prime_utrs']], axis=1)"
     ],
     "language": "python",
     "metadata": {},
     "outputs": [
      {
       "metadata": {},
       "output_type": "pyout",
       "prompt_number": 33,
       "text": [
        "ES_1       0.791514\n",
        "ES_2       0.432549\n",
        "NPC_1      0.756610\n",
        "NPC_2      0.771334\n",
        "SOX17_1    0.576712\n",
        "SOX17_2    0.616903\n",
        "TGFP_1     0.586050\n",
        "TGFP_2     0.668534\n",
        "dtype: float64"
       ]
      }
     ],
     "prompt_number": 33
    },
    {
     "cell_type": "markdown",
     "metadata": {},
     "source": [
      "Additionally there are a large number of mapped reads not mapping to annotated genes, do we care about these?"
     ]
    },
    {
     "cell_type": "markdown",
     "metadata": {},
     "source": [
      "#RNA-seq Percent Overlapping"
     ]
    },
    {
     "cell_type": "code",
     "collapsed": false,
     "input": [
      "rnaseq_normed * 100"
     ],
     "language": "python",
     "metadata": {},
     "outputs": [
      {
       "html": [
        "<div style=\"max-height:1000px;max-width:1500px;overflow:auto;\">\n",
        "<table border=\"1\" class=\"dataframe\">\n",
        "  <thead>\n",
        "    <tr style=\"text-align: right;\">\n",
        "      <th></th>\n",
        "      <th>all</th>\n",
        "      <th>cds</th>\n",
        "      <th>exons</th>\n",
        "      <th>five_prime_utrs</th>\n",
        "      <th>genes</th>\n",
        "      <th>introns</th>\n",
        "      <th>three_prime_utrs</th>\n",
        "    </tr>\n",
        "  </thead>\n",
        "  <tbody>\n",
        "    <tr>\n",
        "      <th>ES_1</th>\n",
        "      <td> 100</td>\n",
        "      <td> 32.195433</td>\n",
        "      <td> 37.934789</td>\n",
        "      <td> 2.503319</td>\n",
        "      <td> 0.004004</td>\n",
        "      <td>  4.729346</td>\n",
        "      <td> 0.970128</td>\n",
        "    </tr>\n",
        "    <tr>\n",
        "      <th>ES_2</th>\n",
        "      <td> 100</td>\n",
        "      <td>  5.518021</td>\n",
        "      <td> 21.265251</td>\n",
        "      <td> 2.017197</td>\n",
        "      <td> 0.002955</td>\n",
        "      <td>  7.944089</td>\n",
        "      <td> 1.404031</td>\n",
        "    </tr>\n",
        "    <tr>\n",
        "      <th>NPC_1</th>\n",
        "      <td> 100</td>\n",
        "      <td>  8.657516</td>\n",
        "      <td> 50.490761</td>\n",
        "      <td> 5.763368</td>\n",
        "      <td> 0.006298</td>\n",
        "      <td>  9.822224</td>\n",
        "      <td> 4.669126</td>\n",
        "    </tr>\n",
        "    <tr>\n",
        "      <th>NPC_2</th>\n",
        "      <td> 100</td>\n",
        "      <td>  8.216008</td>\n",
        "      <td> 50.962161</td>\n",
        "      <td> 5.314612</td>\n",
        "      <td> 0.006652</td>\n",
        "      <td> 10.624187</td>\n",
        "      <td> 4.340207</td>\n",
        "    </tr>\n",
        "    <tr>\n",
        "      <th>SOX17_1</th>\n",
        "      <td> 100</td>\n",
        "      <td> 10.873907</td>\n",
        "      <td> 25.484510</td>\n",
        "      <td> 4.825543</td>\n",
        "      <td> 0.007073</td>\n",
        "      <td> 17.059989</td>\n",
        "      <td> 4.715285</td>\n",
        "    </tr>\n",
        "    <tr>\n",
        "      <th>SOX17_2</th>\n",
        "      <td> 100</td>\n",
        "      <td> 10.860260</td>\n",
        "      <td> 24.167025</td>\n",
        "      <td> 4.560695</td>\n",
        "      <td> 0.005061</td>\n",
        "      <td> 18.146520</td>\n",
        "      <td> 4.457694</td>\n",
        "    </tr>\n",
        "    <tr>\n",
        "      <th>TGFP_1</th>\n",
        "      <td> 100</td>\n",
        "      <td> 14.168057</td>\n",
        "      <td> 30.567658</td>\n",
        "      <td> 4.431011</td>\n",
        "      <td> 0.006614</td>\n",
        "      <td> 11.985125</td>\n",
        "      <td> 5.049249</td>\n",
        "    </tr>\n",
        "    <tr>\n",
        "      <th>TGFP_2</th>\n",
        "      <td> 100</td>\n",
        "      <td> 13.673979</td>\n",
        "      <td> 35.424608</td>\n",
        "      <td> 3.882751</td>\n",
        "      <td> 0.007645</td>\n",
        "      <td> 12.166821</td>\n",
        "      <td> 4.589512</td>\n",
        "    </tr>\n",
        "  </tbody>\n",
        "</table>\n",
        "<p>8 rows \u00d7 7 columns</p>\n",
        "</div>"
       ],
       "metadata": {},
       "output_type": "pyout",
       "prompt_number": 34,
       "text": [
        "         all        cds      exons  five_prime_utrs     genes    introns  \\\n",
        "ES_1     100  32.195433  37.934789         2.503319  0.004004   4.729346   \n",
        "ES_2     100   5.518021  21.265251         2.017197  0.002955   7.944089   \n",
        "NPC_1    100   8.657516  50.490761         5.763368  0.006298   9.822224   \n",
        "NPC_2    100   8.216008  50.962161         5.314612  0.006652  10.624187   \n",
        "SOX17_1  100  10.873907  25.484510         4.825543  0.007073  17.059989   \n",
        "SOX17_2  100  10.860260  24.167025         4.560695  0.005061  18.146520   \n",
        "TGFP_1   100  14.168057  30.567658         4.431011  0.006614  11.985125   \n",
        "TGFP_2   100  13.673979  35.424608         3.882751  0.007645  12.166821   \n",
        "\n",
        "         three_prime_utrs  \n",
        "ES_1             0.970128  \n",
        "ES_2             1.404031  \n",
        "NPC_1            4.669126  \n",
        "NPC_2            4.340207  \n",
        "SOX17_1          4.715285  \n",
        "SOX17_2          4.457694  \n",
        "TGFP_1           5.049249  \n",
        "TGFP_2           4.589512  \n",
        "\n",
        "[8 rows x 7 columns]"
       ]
      }
     ],
     "prompt_number": 34
    },
    {
     "cell_type": "code",
     "collapsed": false,
     "input": [
      "sum(rnaseq_normed[['cds', 'exons', 'five_prime_utrs', 'genes', 'introns', 'three_prime_utrs']], axis=1)"
     ],
     "language": "python",
     "metadata": {},
     "outputs": [
      {
       "metadata": {},
       "output_type": "pyout",
       "prompt_number": 35,
       "text": [
        "ES_1       0.783370\n",
        "ES_2       0.381515\n",
        "NPC_1      0.794093\n",
        "NPC_2      0.794638\n",
        "SOX17_1    0.629663\n",
        "SOX17_2    0.621973\n",
        "TGFP_1     0.662077\n",
        "TGFP_2     0.697453\n",
        "dtype: float64"
       ]
      }
     ],
     "prompt_number": 35
    },
    {
     "cell_type": "markdown",
     "metadata": {},
     "source": [
      "It doesn't look like this worked, percents are too high, need to re-generate and see whats going on"
     ]
    },
    {
     "cell_type": "markdown",
     "metadata": {},
     "source": [
      "#Enrichment of Riboseq / RNA-seq"
     ]
    },
    {
     "cell_type": "code",
     "collapsed": false,
     "input": [
      "riboseq_normed / rnaseq_normed"
     ],
     "language": "python",
     "metadata": {},
     "outputs": [
      {
       "html": [
        "<div style=\"max-height:1000px;max-width:1500px;overflow:auto;\">\n",
        "<table border=\"1\" class=\"dataframe\">\n",
        "  <thead>\n",
        "    <tr style=\"text-align: right;\">\n",
        "      <th></th>\n",
        "      <th>all</th>\n",
        "      <th>cds</th>\n",
        "      <th>exons</th>\n",
        "      <th>five_prime_utrs</th>\n",
        "      <th>genes</th>\n",
        "      <th>introns</th>\n",
        "      <th>three_prime_utrs</th>\n",
        "    </tr>\n",
        "  </thead>\n",
        "  <tbody>\n",
        "    <tr>\n",
        "      <th>ES_1</th>\n",
        "      <td> 1</td>\n",
        "      <td> 1.106388</td>\n",
        "      <td> 0.932843</td>\n",
        "      <td> 0.908388</td>\n",
        "      <td> 0.677135</td>\n",
        "      <td> 1.047976</td>\n",
        "      <td> 0.938716</td>\n",
        "    </tr>\n",
        "    <tr>\n",
        "      <th>ES_2</th>\n",
        "      <td> 1</td>\n",
        "      <td> 1.179975</td>\n",
        "      <td> 1.014327</td>\n",
        "      <td> 1.301060</td>\n",
        "      <td> 1.224293</td>\n",
        "      <td> 1.297030</td>\n",
        "      <td> 1.596859</td>\n",
        "    </tr>\n",
        "    <tr>\n",
        "      <th>NPC_1</th>\n",
        "      <td> 1</td>\n",
        "      <td> 1.155439</td>\n",
        "      <td> 0.963276</td>\n",
        "      <td> 1.001531</td>\n",
        "      <td> 0.020276</td>\n",
        "      <td> 0.806258</td>\n",
        "      <td> 0.713119</td>\n",
        "    </tr>\n",
        "    <tr>\n",
        "      <th>NPC_2</th>\n",
        "      <td> 1</td>\n",
        "      <td> 1.212279</td>\n",
        "      <td> 0.958618</td>\n",
        "      <td> 1.567524</td>\n",
        "      <td> 0.068857</td>\n",
        "      <td> 0.712031</td>\n",
        "      <td> 0.558516</td>\n",
        "    </tr>\n",
        "    <tr>\n",
        "      <th>SOX17_1</th>\n",
        "      <td> 1</td>\n",
        "      <td> 1.475417</td>\n",
        "      <td> 0.830771</td>\n",
        "      <td> 0.725837</td>\n",
        "      <td> 0.134371</td>\n",
        "      <td> 0.904033</td>\n",
        "      <td> 0.324390</td>\n",
        "    </tr>\n",
        "    <tr>\n",
        "      <th>SOX17_2</th>\n",
        "      <td> 1</td>\n",
        "      <td> 1.758596</td>\n",
        "      <td> 0.989095</td>\n",
        "      <td> 0.778499</td>\n",
        "      <td> 0.185344</td>\n",
        "      <td> 0.761771</td>\n",
        "      <td> 0.294560</td>\n",
        "    </tr>\n",
        "    <tr>\n",
        "      <th>TGFP_1</th>\n",
        "      <td> 1</td>\n",
        "      <td> 1.463046</td>\n",
        "      <td> 0.628527</td>\n",
        "      <td> 0.383945</td>\n",
        "      <td> 0.363013</td>\n",
        "      <td> 1.243127</td>\n",
        "      <td> 0.408214</td>\n",
        "    </tr>\n",
        "    <tr>\n",
        "      <th>TGFP_2</th>\n",
        "      <td> 1</td>\n",
        "      <td> 2.030903</td>\n",
        "      <td> 0.731284</td>\n",
        "      <td> 0.632240</td>\n",
        "      <td> 0.310274</td>\n",
        "      <td> 0.751468</td>\n",
        "      <td> 0.343664</td>\n",
        "    </tr>\n",
        "  </tbody>\n",
        "</table>\n",
        "<p>8 rows \u00d7 7 columns</p>\n",
        "</div>"
       ],
       "metadata": {},
       "output_type": "pyout",
       "prompt_number": 36,
       "text": [
        "         all       cds     exons  five_prime_utrs     genes   introns  \\\n",
        "ES_1       1  1.106388  0.932843         0.908388  0.677135  1.047976   \n",
        "ES_2       1  1.179975  1.014327         1.301060  1.224293  1.297030   \n",
        "NPC_1      1  1.155439  0.963276         1.001531  0.020276  0.806258   \n",
        "NPC_2      1  1.212279  0.958618         1.567524  0.068857  0.712031   \n",
        "SOX17_1    1  1.475417  0.830771         0.725837  0.134371  0.904033   \n",
        "SOX17_2    1  1.758596  0.989095         0.778499  0.185344  0.761771   \n",
        "TGFP_1     1  1.463046  0.628527         0.383945  0.363013  1.243127   \n",
        "TGFP_2     1  2.030903  0.731284         0.632240  0.310274  0.751468   \n",
        "\n",
        "         three_prime_utrs  \n",
        "ES_1             0.938716  \n",
        "ES_2             1.596859  \n",
        "NPC_1            0.713119  \n",
        "NPC_2            0.558516  \n",
        "SOX17_1          0.324390  \n",
        "SOX17_2          0.294560  \n",
        "TGFP_1           0.408214  \n",
        "TGFP_2           0.343664  \n",
        "\n",
        "[8 rows x 7 columns]"
       ]
      }
     ],
     "prompt_number": 36
    },
    {
     "cell_type": "markdown",
     "metadata": {},
     "source": [
      "Figure out where these random reads are mapping, if they might be non-annotated coding regions, I don't do a good enough job filtering out tRNAs and rRNAs, does this matter?  Its something to worry about, it will throw off mapping stats a lot, our coverage is far lower than we think it is"
     ]
    }
   ],
   "metadata": {}
  }
 ]
}