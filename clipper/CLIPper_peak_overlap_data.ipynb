{
 "metadata": {
  "name": ""
 },
 "nbformat": 3,
 "nbformat_minor": 0,
 "worksheets": [
  {
   "cells": [
    {
     "cell_type": "code",
     "collapsed": false,
     "input": [
      "from collections import defaultdict\n",
      "import glob\n",
      "import itertools\n",
      "import os\n",
      "\n",
      "from IPython.core.display import HTML\n",
      "from IPython.parallel import Client\n",
      "import pandas as pd\n",
      "import pybedtools\n",
      "from pybedtools.featurefuncs import midpoint\n",
      "from pybedtools import MalformedBedLineError\n",
      "import sqlalchemy\n",
      "import seaborn as sns\n",
      "\n",
      "from gscripts.general import parsers\n",
      "from gscripts.general import dataviz\n",
      "from gscripts.general.pybedtools_helpers import small_peaks\n",
      "\n",
      "img_dir = \"/nas3/gpratt/Dropbox/Presentations/notebooks/CLIPper_peak_overlap\"\n",
      "analysis_dir = \"/nas3/gpratt/projects/public_clip/analysis/v5\"\n",
      "\n",
      "#engine = sqlalchemy.create_engine('mysql+pymysql://ppliu@sauron.ucsd.edu/rbpdb')\n",
      "#connection = engine.connect()"
     ],
     "language": "python",
     "metadata": {},
     "outputs": [],
     "prompt_number": 67
    },
    {
     "cell_type": "code",
     "collapsed": false,
     "input": [
      "cisbp_db = pd.read_csv(\"/nas3/gpratt/projects/cisbp/analysis/RBP_Information.txt\", sep=\"\\t\")\n",
      "\n",
      "public_clip_list = pd.read_csv(\"/nas3/gpratt/projects/public_clip/v1/public_clip_list.csv\", index_col=0)\n",
      "public_clip_list= public_clip_list[public_clip_list['CLIP-seq?'] == \"Yes\"]\n",
      "public_clip_list['ensembl'] = public_clip_list.Ensemblid.astype(str).apply(lambda x: x.split(\".\")[0])"
     ],
     "language": "python",
     "metadata": {},
     "outputs": [],
     "prompt_number": 68
    },
    {
     "cell_type": "code",
     "collapsed": false,
     "input": [
      "clip_rnaseq_df = parsers.clipseq_metrics(\"/nas3/gpratt/projects/public_clip/analysis/v5/\")\n",
      "clip_rnaseq_df = pd.merge(clip_rnaseq_df, public_clip_list, left_index=True, right_index=True, how=\"outer\")\n",
      "clip_df = clip_rnaseq_df[clip_rnaseq_df['CLIP-seq?'] == \"Yes\"]"
     ],
     "language": "python",
     "metadata": {},
     "outputs": [
      {
       "output_type": "stream",
       "stream": "stdout",
       "text": [
        "<closed file '/nas3/gpratt/projects/public_clip/analysis/v5/SRR034466.polyATrim.adapterTrim.metrics', mode 'r' at 0xfcbcae0>\n"
       ]
      }
     ],
     "prompt_number": 69
    },
    {
     "cell_type": "code",
     "collapsed": false,
     "input": [
      "experiment_mapping = {\n",
      "                      \"peaks\" : \"clipper\",\n",
      "                      \"ripseeker\" : \"ripseeker\",\n",
      "                      \"pyicoclip\" : \"pyicoclip\",\n",
      "                      \"piranha\" : \"piranha\",\n",
      "                      \"bed_notrim_ingenes_clusters_hg1950\" : \"kasey\",\n",
      "                      \"bed_notrim_ingenes_clusters_mm950\"  : \"kasey\",\n",
      "                      }\n",
      "\n",
      "peak_files = glob.glob(os.path.join(analysis_dir, \"*.bed\"))\n",
      "samples = itertools.groupby(sorted(peak_files), lambda x: os.path.basename(x).split(\".\")[0])\n",
      "\n",
      "sample_dict = defaultdict(dict)\n",
      "for sample, experiments in samples:\n",
      "    for experiment in experiments:\n",
      "        experiment_type = os.path.basename(experiment).split(\".\")[-2]\n",
      "        sample_dict[sample][experiment_mapping[experiment_type]] = experiment\n",
      "        \n",
      "sample_df = pd.DataFrame(sample_dict)"
     ],
     "language": "python",
     "metadata": {},
     "outputs": [],
     "prompt_number": 70
    },
    {
     "cell_type": "markdown",
     "metadata": {},
     "source": [
      "#Get Intersects / Unions of all bed files"
     ]
    },
    {
     "cell_type": "markdown",
     "metadata": {},
     "source": [
      "#prevent blocking intersects\n",
      "loop to get rid of headers  \n",
      "move files back to old names"
     ]
    },
    {
     "cell_type": "code",
     "collapsed": false,
     "input": [
      "def memory_efficent_intersect(in_tuple):\n",
      "    a_bed_file, b_bed_file = in_tuple\n",
      "    \n",
      "    if a_bed_file is numpy.nan or b_bed_file is numpy.nan:\n",
      "        return np.nan\n",
      "    \n",
      "    if os.path.getsize(a_bed_file) == 0 or os.path.getsize(b_bed_file) == 0:\n",
      "        return 0\n",
      "    \n",
      "    out_dir = \"/nas3/gpratt/projects/public_clip/analysis/peak_cashe/intersect/\"\n",
      "    out_name = os.path.join(out_dir, os.path.basename(a_bed_file) + os.path.basename(b_bed_file))\n",
      "    if os.path.exists(out_name):\n",
      "        return \"done\"\n",
      "    a_bed_tool = pybedtools.BedTool(a_bed_file)\n",
      "    b_bed_tool = pybedtools.BedTool(b_bed_file) \n",
      "    a_bed_tool.intersect(b_bed_tool, s=True, u=True, sorted=True, stream=True).saveas(out_name)\n",
      "    print \"done\"\n",
      "\n",
      "def memory_efficent_union(in_tuple):\n",
      "    a_bed_file, b_bed_file = in_tuple\n",
      "\n",
      "    if a_bed_file is numpy.nan or b_bed_file is numpy.nan:\n",
      "        return np.nan\n",
      "    \n",
      "    if os.path.getsize(a_bed_file) == 0 or os.path.getsize(b_bed_file) == 0:\n",
      "        return 0\n",
      "    else:\n",
      "        \n",
      "        out_dir = \"/nas3/gpratt/projects/public_clip/analysis/peak_cashe/union/\"\n",
      "        out_name =  os.path.join(out_dir, os.path.basename(a_bed_file) + os.path.basename(b_bed_file))\n",
      "        if os.path.exists(out_name):\n",
      "            return \"done\"\n",
      "        !cat $a_bed_file $b_bed_file | sort -k 1,1 -k 2,2n | cut -f 1-6 | mergeBed -s -nms -scores mean > $out_name\n",
      "    print \"done\""
     ],
     "language": "python",
     "metadata": {},
     "outputs": [],
     "prompt_number": 39
    },
    {
     "cell_type": "code",
     "collapsed": false,
     "input": [
      "sample_dicts = {}\n",
      "for sample, experiments in sample_df.iteritems():\n",
      "    sample_dict = defaultdict(dict)\n",
      "    for experiement_1, peak_file_1 in experiments.iteritems():\n",
      "        for experiement_2, peak_file_2 in experiments.iteritems():    \n",
      "                sample_dict[experiement_1][experiement_2] = (peak_file_1, peak_file_2)\n",
      "    sample_dicts[sample] = pd.DataFrame(sample_dict)\n",
      "                \n",
      "\n",
      "overlapping_df = pd.concat(sample_dicts)    "
     ],
     "language": "python",
     "metadata": {},
     "outputs": [],
     "prompt_number": 72
    },
    {
     "cell_type": "code",
     "collapsed": false,
     "input": [
      "#pre-cashe intersct and union bed files\n",
      "results = map(memory_efficent_union, overlapping_df.stack())\n",
      "results = map(memory_efficent_intersect, overlapping_df.stack())"
     ],
     "language": "python",
     "metadata": {},
     "outputs": [],
     "prompt_number": 73
    },
    {
     "cell_type": "markdown",
     "metadata": {},
     "source": [
      "#Get closet beds"
     ]
    },
    {
     "cell_type": "code",
     "collapsed": false,
     "input": [
      "#awk code, use this to reformat fimo to bed file\n",
      "#for x in */fimo.txt; do cat $x | awk 'BEGIN {OFS=\"\\t\"} {print $2,$3, $4, $9, $7, $5}' | tail -n +2 | sortBed -i - > ${x%.*}_reformated.txt; done\n",
      "#for x in */fimo_reformated.txt; do shuffleBed -i $x -g /nas3/yeolab/Genome/ucsc/hg19/hg19.chrom.sizes | sortBed -i - > ${x%.*}.shuffled.bed; done\n",
      "#for x in .bed; do python /nas3/gpratt/projects/cisbp/scripts/split_by_strand.py $x; done\n"
     ],
     "language": "python",
     "metadata": {},
     "outputs": []
    },
    {
     "cell_type": "code",
     "collapsed": false,
     "input": [
      "pwm_locations = \"/nas3/gpratt/projects/cisbp/analysis/pwm_locations/\"\n",
      "def get_closest_general(in_tuple, file_type):\n",
      "    peak_file, motif_id = in_tuple\n",
      "\n",
      "    \n",
      "    if type(peak_file) == float or type(motif_id) == float:\n",
      "        return np.nan\n",
      "    \n",
      "    pwm_file = os.path.join(pwm_locations, file_type % (motif_id))\n",
      "    out_dir = \"/nas3/gpratt/projects/public_clip/analysis/peak_cashe/closest/\"\n",
      "    shuffle_type = \"shuffled\" if \"shuffled\" in file_type else \"normal\"\n",
      "    out_file = os.path.join(out_dir, os.path.basename(peak_file) + motif_id + shuffle_type)\n",
      "    \n",
      "    pos_out_file = out_file + \"pos\"\n",
      "    neg_out_file = out_file + \"neg\"\n",
      "    if os.path.exists(pos_out_file):\n",
      "        return \"done\"\n",
      "            \n",
      "    if not os.path.exists(pwm_file):\n",
      "        return np.nan\n",
      "            \n",
      "    if os.path.getsize(pwm_file) == 0 or os.path.getsize(peak_file) == 0:\n",
      "        return np.nan\n",
      "    \n",
      "    with open(peak_file) as peak_handle:\n",
      "        peak_tool = pybedtools.BedTool(peak_file + \"pos\")\n",
      "        pwm_tool = pybedtools.BedTool(pwm_file + \"pos\")\n",
      "        closest_tool = peak_tool.closest(pwm_tool, D=\"a\", t=\"first\", stream=True).saveas(pos_out_file)\n",
      "        \n",
      "        peak_tool = pybedtools.BedTool(peak_file + \"neg\")\n",
      "        pwm_tool = pybedtools.BedTool(pwm_file + \"neg\")\n",
      "        closest_tool = peak_tool.closest(pwm_tool, D=\"a\", t=\"first\", stream=True).saveas(neg_out_file)\n",
      "        print \"done\"\n",
      "        \n",
      "def get_closest(in_tuple):\n",
      "    return get_closest_general(in_tuple, \"%s.txt/fimo_reformated.txt\")\n",
      "    \n",
      "def get_closest_shuffled(in_tuple):\n",
      "    return get_closest_general(in_tuple, \"%s.txt/fimo_reformated.shuffled.bed\")"
     ],
     "language": "python",
     "metadata": {},
     "outputs": [],
     "prompt_number": 74
    },
    {
     "cell_type": "code",
     "collapsed": false,
     "input": [
      "samples_dict = {}\n",
      "for sample, experiments in sample_df.iteritems():\n",
      "    if sample not in public_clip_list.index:\n",
      "        continue\n",
      "    \n",
      "    motif_results = defaultdict(dict)\n",
      "    for motif_name, motif in cisbp_db[cisbp_db.DBID == public_clip_list.ix[sample].ensembl].iterrows(): \n",
      "        for experiment_type, peak_file in experiments.iteritems():\n",
      "            motif_results[experiment_type][motif_name] = (peak_file, motif.Motif_ID)\n",
      "    samples_dict[sample] = pd.DataFrame(motif_results)\n",
      "\n",
      "pwm_overlap_df = pd.concat(samples_dict)"
     ],
     "language": "python",
     "metadata": {},
     "outputs": [],
     "prompt_number": 76
    },
    {
     "cell_type": "code",
     "collapsed": false,
     "input": [
      "results = map(get_closest, pwm_overlap_df.stack())\n",
      "results = map(get_closest_shuffled, pwm_overlap_df.stack())"
     ],
     "language": "python",
     "metadata": {},
     "outputs": [
      {
       "output_type": "stream",
       "stream": "stdout",
       "text": [
        "done\n",
        "done"
       ]
      },
      {
       "output_type": "stream",
       "stream": "stdout",
       "text": [
        "\n",
        "done"
       ]
      },
      {
       "output_type": "stream",
       "stream": "stdout",
       "text": [
        "\n",
        "done"
       ]
      },
      {
       "output_type": "stream",
       "stream": "stdout",
       "text": [
        "\n",
        "done"
       ]
      },
      {
       "output_type": "stream",
       "stream": "stdout",
       "text": [
        "\n",
        "done"
       ]
      },
      {
       "output_type": "stream",
       "stream": "stdout",
       "text": [
        "\n",
        "done"
       ]
      },
      {
       "output_type": "stream",
       "stream": "stdout",
       "text": [
        "\n",
        "done"
       ]
      },
      {
       "output_type": "stream",
       "stream": "stdout",
       "text": [
        "\n",
        "done"
       ]
      },
      {
       "output_type": "stream",
       "stream": "stdout",
       "text": [
        "\n",
        "done"
       ]
      },
      {
       "output_type": "stream",
       "stream": "stdout",
       "text": [
        "\n",
        "done"
       ]
      },
      {
       "output_type": "stream",
       "stream": "stdout",
       "text": [
        "\n",
        "done"
       ]
      },
      {
       "output_type": "stream",
       "stream": "stdout",
       "text": [
        "\n",
        "done"
       ]
      },
      {
       "output_type": "stream",
       "stream": "stdout",
       "text": [
        "\n",
        "done"
       ]
      },
      {
       "output_type": "stream",
       "stream": "stdout",
       "text": [
        "\n",
        "done"
       ]
      },
      {
       "output_type": "stream",
       "stream": "stdout",
       "text": [
        "\n",
        "done"
       ]
      },
      {
       "output_type": "stream",
       "stream": "stdout",
       "text": [
        "\n",
        "done"
       ]
      },
      {
       "output_type": "stream",
       "stream": "stdout",
       "text": [
        "\n",
        "done"
       ]
      },
      {
       "output_type": "stream",
       "stream": "stdout",
       "text": [
        "\n",
        "done"
       ]
      },
      {
       "output_type": "stream",
       "stream": "stdout",
       "text": [
        "\n",
        "done"
       ]
      },
      {
       "output_type": "stream",
       "stream": "stdout",
       "text": [
        "\n",
        "done"
       ]
      },
      {
       "output_type": "stream",
       "stream": "stdout",
       "text": [
        "\n",
        "done"
       ]
      },
      {
       "output_type": "stream",
       "stream": "stdout",
       "text": [
        "\n",
        "done"
       ]
      },
      {
       "output_type": "stream",
       "stream": "stdout",
       "text": [
        "\n",
        "done"
       ]
      },
      {
       "output_type": "stream",
       "stream": "stdout",
       "text": [
        "\n",
        "done"
       ]
      },
      {
       "output_type": "stream",
       "stream": "stdout",
       "text": [
        "\n",
        "done"
       ]
      },
      {
       "output_type": "stream",
       "stream": "stdout",
       "text": [
        "\n",
        "done"
       ]
      },
      {
       "output_type": "stream",
       "stream": "stdout",
       "text": [
        "\n",
        "done"
       ]
      },
      {
       "output_type": "stream",
       "stream": "stdout",
       "text": [
        "\n",
        "done"
       ]
      },
      {
       "output_type": "stream",
       "stream": "stdout",
       "text": [
        "\n",
        "done"
       ]
      },
      {
       "output_type": "stream",
       "stream": "stdout",
       "text": [
        "\n",
        "done"
       ]
      },
      {
       "output_type": "stream",
       "stream": "stdout",
       "text": [
        "\n",
        "done"
       ]
      },
      {
       "output_type": "stream",
       "stream": "stdout",
       "text": [
        "\n",
        "done"
       ]
      },
      {
       "output_type": "stream",
       "stream": "stdout",
       "text": [
        "\n",
        "done"
       ]
      },
      {
       "output_type": "stream",
       "stream": "stdout",
       "text": [
        "\n",
        "done"
       ]
      },
      {
       "output_type": "stream",
       "stream": "stdout",
       "text": [
        "\n",
        "done"
       ]
      },
      {
       "output_type": "stream",
       "stream": "stdout",
       "text": [
        "\n",
        "done"
       ]
      },
      {
       "output_type": "stream",
       "stream": "stdout",
       "text": [
        "\n",
        "done"
       ]
      },
      {
       "output_type": "stream",
       "stream": "stdout",
       "text": [
        "\n",
        "done"
       ]
      },
      {
       "output_type": "stream",
       "stream": "stdout",
       "text": [
        "\n",
        "done"
       ]
      },
      {
       "output_type": "stream",
       "stream": "stdout",
       "text": [
        "\n",
        "done"
       ]
      },
      {
       "output_type": "stream",
       "stream": "stdout",
       "text": [
        "\n",
        "done"
       ]
      },
      {
       "output_type": "stream",
       "stream": "stdout",
       "text": [
        "\n",
        "done"
       ]
      },
      {
       "output_type": "stream",
       "stream": "stdout",
       "text": [
        "\n",
        "done"
       ]
      },
      {
       "output_type": "stream",
       "stream": "stdout",
       "text": [
        "\n",
        "done"
       ]
      },
      {
       "output_type": "stream",
       "stream": "stdout",
       "text": [
        "\n",
        "done"
       ]
      },
      {
       "output_type": "stream",
       "stream": "stdout",
       "text": [
        "\n",
        "done"
       ]
      },
      {
       "output_type": "stream",
       "stream": "stdout",
       "text": [
        "\n",
        "done"
       ]
      },
      {
       "output_type": "stream",
       "stream": "stdout",
       "text": [
        "\n",
        "done"
       ]
      },
      {
       "output_type": "stream",
       "stream": "stdout",
       "text": [
        "\n",
        "done"
       ]
      },
      {
       "output_type": "stream",
       "stream": "stdout",
       "text": [
        "\n",
        "done"
       ]
      },
      {
       "output_type": "stream",
       "stream": "stdout",
       "text": [
        "\n",
        "done"
       ]
      },
      {
       "output_type": "stream",
       "stream": "stdout",
       "text": [
        "\n",
        "done"
       ]
      },
      {
       "output_type": "stream",
       "stream": "stdout",
       "text": [
        "\n",
        "done"
       ]
      },
      {
       "output_type": "stream",
       "stream": "stdout",
       "text": [
        "\n",
        "done"
       ]
      },
      {
       "output_type": "stream",
       "stream": "stdout",
       "text": [
        "\n",
        "done"
       ]
      },
      {
       "output_type": "stream",
       "stream": "stdout",
       "text": [
        "\n",
        "done"
       ]
      },
      {
       "output_type": "stream",
       "stream": "stdout",
       "text": [
        "\n",
        "done"
       ]
      },
      {
       "output_type": "stream",
       "stream": "stdout",
       "text": [
        "\n",
        "done"
       ]
      },
      {
       "output_type": "stream",
       "stream": "stdout",
       "text": [
        "\n",
        "done"
       ]
      },
      {
       "output_type": "stream",
       "stream": "stdout",
       "text": [
        "\n",
        "done"
       ]
      },
      {
       "output_type": "stream",
       "stream": "stdout",
       "text": [
        "\n",
        "done"
       ]
      },
      {
       "output_type": "stream",
       "stream": "stdout",
       "text": [
        "\n",
        "done"
       ]
      },
      {
       "output_type": "stream",
       "stream": "stdout",
       "text": [
        "\n",
        "done"
       ]
      },
      {
       "output_type": "stream",
       "stream": "stdout",
       "text": [
        "\n",
        "done"
       ]
      },
      {
       "output_type": "stream",
       "stream": "stdout",
       "text": [
        "\n",
        "done"
       ]
      },
      {
       "output_type": "stream",
       "stream": "stdout",
       "text": [
        "\n",
        "done"
       ]
      },
      {
       "output_type": "stream",
       "stream": "stdout",
       "text": [
        "\n",
        "done"
       ]
      },
      {
       "output_type": "stream",
       "stream": "stdout",
       "text": [
        "\n",
        "done"
       ]
      },
      {
       "output_type": "stream",
       "stream": "stdout",
       "text": [
        "\n",
        "done"
       ]
      },
      {
       "output_type": "stream",
       "stream": "stdout",
       "text": [
        "\n",
        "done"
       ]
      },
      {
       "output_type": "stream",
       "stream": "stdout",
       "text": [
        "\n"
       ]
      }
     ],
     "prompt_number": 84
    }
   ],
   "metadata": {}
  }
 ]
}