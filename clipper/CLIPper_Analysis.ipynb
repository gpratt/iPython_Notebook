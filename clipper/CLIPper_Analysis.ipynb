{
 "metadata": {
  "name": "",
  "signature": "sha256:c0a03c562102d6cb4803476010dbbd2ed2a286aed33e396cffecc02bb7a8c669"
 },
 "nbformat": 3,
 "nbformat_minor": 0,
 "worksheets": [
  {
   "cells": [
    {
     "cell_type": "code",
     "collapsed": false,
     "input": [
      "from collections import Counter\n",
      "import cPickle as pickle\n",
      "import itertools\n",
      "\n",
      "from Bio import SeqIO\n",
      "from bx.bbi.bigwig_file import BigWigFile\n",
      "import matplotlib_venn\n",
      "import pandas as pd\n",
      "import pybedtools\n",
      "from pybedtools.featurefuncs import midpoint\n",
      "from gscripts.general import dataviz\n",
      "from matplotlib import cm\n",
      "import numpy as np\n",
      "from gscripts.general.pybedtools_helpers import small_peaks\n",
      "\n",
      "import brewer2mpl\n",
      "bmap = brewer2mpl.get_map('Set1', 'qualitative', 8)\n",
      "colors = bmap.mpl_colors\n",
      "\n",
      "import scipy.spatial\n",
      "import scipy.cluster\n",
      "import matplotlib.pyplot as plt\n",
      "import sys\n",
      "sys.path.append(\"/nas3/lovci/ipy\")\n",
      "import clustering"
     ],
     "language": "python",
     "metadata": {},
     "outputs": [],
     "prompt_number": 63
    },
    {
     "cell_type": "code",
     "collapsed": false,
     "input": [
      "def small_peaks(feature):\n",
      "    \"\"\"\n",
      "\n",
      "    feature - pybedtools feature\n",
      "\n",
      "    returns center of clipper called peak (the middle of the narrow start / stop)\n",
      "    \n",
      "    \"\"\"\n",
      "    feature.start = (int(feature[6]) + int(feature[7])) / 2\n",
      "    feature.stop = ((int(feature[6]) + int(feature[7])) / 2) + 1\n",
      "    return feature"
     ],
     "language": "python",
     "metadata": {},
     "outputs": [],
     "prompt_number": 64
    },
    {
     "cell_type": "code",
     "collapsed": false,
     "input": [
      "%matplotlib inline"
     ],
     "language": "python",
     "metadata": {},
     "outputs": [],
     "prompt_number": 65
    },
    {
     "cell_type": "code",
     "collapsed": false,
     "input": [
      "img_path = \"/nas3/gpratt/projects/cshl_poster/\""
     ],
     "language": "python",
     "metadata": {},
     "outputs": [],
     "prompt_number": 66
    },
    {
     "cell_type": "code",
     "collapsed": false,
     "input": [
      "GCATG_motif = pybedtools.BedTool(\"/nas3/gpratt/projects/pipeline_analysis/motifs/mm9/motif_GCATG.BED\")\n",
      "GCATG_hg19_motif = pybedtools.BedTool(\"/nas3/gpratt/projects/pipeline_analysis/motifs/hg19/motif_GCATG.BED\")\n",
      "\n",
      "GGAGA_motif = pybedtools.BedTool(\"/nas3/gpratt/projects/pipeline_analysis/motifs/hg19/motif_GGAGA.BED\")"
     ],
     "language": "python",
     "metadata": {},
     "outputs": [],
     "prompt_number": 67
    },
    {
     "cell_type": "code",
     "collapsed": false,
     "input": [
      "def get_p_value(interval):\n",
      "    interval.score = interval.score.split(\"|\")[1]\n",
      "    return interval"
     ],
     "language": "python",
     "metadata": {},
     "outputs": [],
     "prompt_number": 8
    },
    {
     "cell_type": "code",
     "collapsed": false,
     "input": [
      "path = \"/nas3/gpratt/projects/clipper/v2/\"\n",
      "fox2_peaks = {\n",
      "            \"FOX2_iclip_piranah\": (pybedtools.BedTool(\"/nas3/gpratt/projects/fox2_iclip/analysis/v4/H2_NoIndex_L001_R1.R12_low2.polyATrim.adapterTrim.rmRep.rg.sorted.rmDup.sorted.piranha.bed\").sort().saveas(), midpoint, 4),\n",
      "            \"FOX2_iclip_kasey\": (pybedtools.BedTool(\"/nas3/gpratt/projects/fox2_iclip/analysis/v4/H2_NoIndex_L001_R1.R12_low2.polyATrim.adapterTrim.rmRep.rg.sorted.rmDup.sorted.peaks.kasey.bed\").sort().saveas(), small_peaks, 4),\n",
      "            \"FOX2_iclip_pyicos\": (pybedtools.BedTool(\"/nas3/gpratt/projects/fox2_iclip/analysis/v4/H2_NoIndex_L001_R1.R12_low2.polyATrim.adapterTrim.rmRep.rg.sorted.rmDup.sorted.bam.pyicoclip.bed\").sort().saveas(), midpoint, 8),\n",
      "            \"FOX2_iclip_CLIPper\": (pybedtools.BedTool(\"/nas3/gpratt/projects/fox2_iclip/analysis/v4/H2_NoIndex_L001_R1.R12_low2.polyATrim.adapterTrim.rmRep.rg.sorted.rmDup.sorted.peaks.bed\"), small_peaks, 4),\n",
      "}\n",
      "\n",
      "fox2_peaks['FOX2_iclip_shuffled'] = (fox2_peaks['FOX2_iclip_CLIPper'][0].shuffle(g=\"/nas3/yeolab/Genome/ucsc/hg19/hg19.chrom.sizes\", incl=\"/nas3/gpratt/clipper/clipper/data/hg19.AS.STRUCTURE.COMPILED.gff\"), small_peaks, 4)\n",
      "lin28_peaks = { \n",
      "                \"LIN28_classic\": (pybedtools.BedTool(path + \"LIN28A_hES_CLIP.polyATrim.adapterTrim.rmRep.sorted.rmDup.bam_original.bed\"), small_peaks, 4),\n",
      "                \"LIN28_piranah\": (pybedtools.BedTool(path + \"LIN28A_hES_CLIP.polyATrim.adapterTrim.rmRep.sorted.rmDup.bam_piranha.bed\"), midpoint, 4),\n",
      "                \"LIN28_spline\": (pybedtools.BedTool(path + \"LIN28A_hES_CLIP.polyATrim.adapterTrim.rmRep.sorted.rmDup.bam_CLIPper.bed\"), small_peaks, 4),\n",
      "                \"LIN28_pyicos\": (pybedtools.BedTool(path + \"LIN28A_hES_CLIP.polyATrim.adapterTrim.rmRep.sorted.rmDup.bam_pyicos.bed\").sort().saveas(), midpoint, 8),\n",
      "                \"LIN28_ripseeker\": (pybedtools.BedTool(path + \"LIN28A_hES_CLIP.polyATrim.adapterTrim.rmRep.sorted.rmDup.bam_ripseeker.bed\").sort().saveas(), midpoint, 8),\n",
      "                }"
     ],
     "language": "python",
     "metadata": {},
     "outputs": [],
     "prompt_number": 96
    },
    {
     "cell_type": "code",
     "collapsed": false,
     "input": [
      "fox2_centers = {name: (bedtool.each(method).saveas(), sort_column) for name, (bedtool, method, sort_column) in fox2_peaks.items()}\n",
      "lin28_centers = {name: (bedtool.each(method).saveas(), sort_column) for name, (bedtool, method, sort_column) in lin28_peaks.items()}"
     ],
     "language": "python",
     "metadata": {},
     "outputs": [],
     "prompt_number": 97
    },
    {
     "cell_type": "code",
     "collapsed": false,
     "input": [
      "jaccard_dict = {}\n",
      "for analysis_file_1, (bedtool_1, method, sort_column) in fox2_peaks.items():\n",
      "    jaccard_dict[analysis_file_1.split(\".\")[0]] = {}\n",
      "    for analysis_file_2, (bedtool_2, method, sort_column) in fox2_peaks.items():\n",
      "        jaccard_dict[analysis_file_1][analysis_file_2] = len(bedtool_1.intersect(bedtool_2, u=True)) / (len(bedtool_1) * 1.0)\n",
      "\n",
      "jaccard_frame = pd.DataFrame(jaccard_dict)"
     ],
     "language": "python",
     "metadata": {},
     "outputs": [],
     "prompt_number": 98
    },
    {
     "cell_type": "code",
     "collapsed": false,
     "input": [
      "with dataviz.Figure(img_path + \"fox2_counts.pdf\", figsize=(10,10)) as fig:\n",
      "    ax = fig.add_subplot(1,1,1)\n",
      "    y_events = scipy.spatial.distance.pdist(jaccard_frame)\n",
      "    Z_events = scipy.cluster.hierarchy.linkage(y_events)\n",
      "    d_events = scipy.cluster.hierarchy.dendrogram(Z_events, orientation='right', distance_sort='descending', no_labels=True)\n",
      "    event_order = d_events['leaves'][::-1]\n",
      "\n",
      "    lens_dict = {name : str(len(interval)) for name, (interval, method, sort_column) in fox2_peaks.items()}\n",
      "    ax.matshow(jaccard_frame.as_matrix()[event_order,:][:,event_order], \n",
      "               interpolation=\"nearest\", cmap=cm.gist_yarg)\n",
      "    ax.set_yticks(np.arange(len(jaccard_frame.index)), [ lens_dict[jaccard_frame.index[i]] + \" \" + jaccard_frame.index[i] for i in event_order] )\n",
      "    ax.set_xticks(np.arange(len(jaccard_frame.columns)),[ jaccard_frame.columns[i] for i in event_order] )\n",
      "\n",
      "    #colorbar()\n"
     ],
     "language": "python",
     "metadata": {},
     "outputs": [
      {
       "metadata": {},
       "output_type": "display_data",
       "png": "[encoded data removed]",
       "text": [
        "<matplotlib.figure.Figure at 0x2aaaafa79690>"
       ]
      }
     ],
     "prompt_number": 99
    },
    {
     "cell_type": "code",
     "collapsed": false,
     "input": [
      "jaccard_dict = {}\n",
      "for analysis_file_1, (bedtool_1, method, sort_column) in lin28_peaks.items():\n",
      "    jaccard_dict[analysis_file_1.split(\".\")[0]] = {}\n",
      "    for analysis_file_2, (bedtool_2, method, sort_column) in lin28_peaks.items():\n",
      "        jaccard_dict[analysis_file_1][analysis_file_2] = len(bedtool_1.intersect(bedtool_2, u=True)) / (len(bedtool_1) * 1.0)\n",
      "\n",
      "jaccard_frame = pd.DataFrame(jaccard_dict)"
     ],
     "language": "python",
     "metadata": {},
     "outputs": [],
     "prompt_number": 100
    },
    {
     "cell_type": "code",
     "collapsed": false,
     "input": [
      "with dataviz.Figure(img_path + \"lin28_counts.pdf\", figsize=(10,10)) as fig:\n",
      "    ax = fig.add_subplot(1,1,1)\n",
      "    y_events = scipy.spatial.distance.pdist(jaccard_frame)\n",
      "    Z_events = scipy.cluster.hierarchy.linkage(y_events)\n",
      "    d_events = scipy.cluster.hierarchy.dendrogram(Z_events, orientation='right', distance_sort='descending', no_labels=True)\n",
      "    event_order = d_events['leaves'][::-1]\n",
      "    lens_dict = {name : str(len(interval)) for name, (interval, method, sort_column) in lin28_peaks.items()}\n",
      "\n",
      "    ax.matshow(jaccard_frame.as_matrix()[event_order,:][:,event_order], interpolation=\"nearest\", cmap=cm.gist_yarg)\n",
      "    ax.set_yticks(np.arange(len(jaccard_frame.index)), [ lens_dict[jaccard_frame.index[i]] + \" \" + jaccard_frame.index[i] for i in event_order] )\n",
      "    ax.set_xticks(np.arange(len(jaccard_frame.columns)) + .2,[ jaccard_frame.columns[i] for i in event_order])\n",
      "    #colorbar()\n"
     ],
     "language": "python",
     "metadata": {},
     "outputs": [
      {
       "metadata": {},
       "output_type": "display_data",
       "png": "[encoded data removed]",
       "text": [
        "<matplotlib.figure.Figure at 0x2aaaafab4a10>"
       ]
      }
     ]
    },
    {
     "cell_type": "code",
     "collapsed": false,
     "input": [
      "fox2_peaks_dist = {}\n",
      "for name, (bedtool, sort_column) in fox2_centers.items():\n",
      "    motif = GCATG_hg19_motif if \"iclip\" in name else GCATG_motif\n",
      "    fox2_peaks_dist[name] = (bedtool.closest(motif, s=True, D=\"a\", t=\"first\").saveas(), sort_column)\n",
      "    \n",
      "lin28_peaks_dist = {name: (bedtool.closest(GGAGA_motif, s=True, D=\"a\", t=\"first\").saveas(), sort_column) for name, (bedtool, sort_column) in lin28_centers.items()}"
     ],
     "language": "python",
     "metadata": {},
     "outputs": []
    },
    {
     "cell_type": "code",
     "collapsed": false,
     "input": [
      "with dataviz.Figure(img_path + \"fox2_overlap.pdf\", figsize=(6,6)) as fig:\n",
      "    ax = fig.add_subplot(1,1,1)\n",
      "    FOX2_sizes = {'100' : len(fox2_peaks['FOX2_classic'][0] - fox2_peaks['FOX2_piranah'][0] - fox2_peaks['FOX2_spline'][0]), \n",
      "         '010' : len(fox2_peaks['FOX2_piranah'][0] - fox2_peaks['FOX2_classic'][0] - fox2_peaks['FOX2_spline'][0]),  \n",
      "         '110' : len(fox2_peaks['FOX2_classic'][0] + fox2_peaks['FOX2_piranah'][0] - fox2_peaks['FOX2_spline'][0]), \n",
      "         '001' : len(fox2_peaks['FOX2_spline'][0] - fox2_peaks['FOX2_piranah'][0] - fox2_peaks['FOX2_classic'][0]), \n",
      "         '101' : len(fox2_peaks['FOX2_classic'][0] + fox2_peaks['FOX2_spline'][0] - fox2_peaks['FOX2_piranah'][0]), \n",
      "         '011' : len(fox2_peaks['FOX2_spline'][0] + fox2_peaks['FOX2_piranah'][0] - fox2_peaks['FOX2_classic'][0]), \n",
      "         '111' : len(fox2_peaks['FOX2_spline'][0] + fox2_peaks['FOX2_piranah'][0] + fox2_peaks['FOX2_classic'][0])}\n",
      "\n",
      "    matplotlib_venn.venn3(FOX2_sizes, set_labels=['Original', 'Piranha', 'CLIPper'], ax=ax)\n",
      "    ax.set_title(\"FOX2 Peaks\")"
     ],
     "language": "python",
     "metadata": {},
     "outputs": []
    },
    {
     "cell_type": "code",
     "collapsed": false,
     "input": [
      "with dataviz.Figure(img_path + \"fox2_overlap.pdf\", figsize=(6,6)) as fig:\n",
      "    ax = fig.add_subplot(1,1,1)\n",
      "    LIN28_sizes = {'100' : len(lin28_peaks['LIN28_classic'][0] - lin28_peaks['LIN28_piranah'][0] - lin28_peaks['LIN28_spline'][0]), \n",
      "         '010' : len(lin28_peaks['LIN28_piranah'][0] - lin28_peaks['LIN28_classic'][0] - lin28_peaks['LIN28_spline'][0]),  \n",
      "         '110' : len(lin28_peaks['LIN28_classic'][0] + lin28_peaks['LIN28_piranah'][0] - lin28_peaks['LIN28_spline'][0]), \n",
      "         '001' : len(lin28_peaks['LIN28_spline'][0] - lin28_peaks['LIN28_piranah'][0] - lin28_peaks['LIN28_classic'][0]), \n",
      "         '101' : len(lin28_peaks['LIN28_classic'][0] + lin28_peaks['LIN28_spline'][0] - lin28_peaks['LIN28_piranah'][0]), \n",
      "         '011' : len(lin28_peaks['LIN28_spline'][0] + lin28_peaks['LIN28_piranah'][0] - lin28_peaks['LIN28_classic'][0]), \n",
      "         '111' : len(lin28_peaks['LIN28_spline'][0] + lin28_peaks['LIN28_piranah'][0] + lin28_peaks['LIN28_classic'][0])}\n",
      "\n",
      "    matplotlib_venn.venn3(LIN28_sizes, set_labels=['Original', 'Piranha', 'CLIPper'], ax=ax)\n",
      "    ax.set_title(\"LIN28 Peaks\")"
     ],
     "language": "python",
     "metadata": {},
     "outputs": []
    },
    {
     "cell_type": "markdown",
     "metadata": {},
     "source": [
      "#Peak Widths"
     ]
    },
    {
     "cell_type": "code",
     "collapsed": false,
     "input": [
      "with dataviz.Figure(img_path + \"fox2_peak_width.pdf\", figsize=(6,6)) as fig:\n",
      "    ax = fig.add_subplot(1,1,1)\n",
      "    \n",
      "    results = []\n",
      "    for bedtool in fox2_peaks.values():\n",
      "        results.append([x.length for x in bedtool[0]])\n",
      "    ax.boxplot(results)\n",
      "    ax.set_yscale(\"log\")\n",
      "    ax.set_xticklabels(fox2_peaks.keys(), rotation=45)\n",
      "    ax.set_title(\"FOX2 Peak Sizes\")\n",
      "    ax.set_ylabel(\"Peak Width\")"
     ],
     "language": "python",
     "metadata": {},
     "outputs": []
    },
    {
     "cell_type": "code",
     "collapsed": false,
     "input": [
      "with dataviz.Figure(img_path + \"lin28_peak_width.pdf\", figsize=(6,6)) as fig:\n",
      "    ax = fig.add_subplot(1,1,1)\n",
      "    \n",
      "    results = []\n",
      "    for bedtool in lin28_peaks.values():\n",
      "        results.append([x.length for x in bedtool[0]])\n",
      "    ax.boxplot(results)\n",
      "    ax.set_yscale(\"log\")\n",
      "    ax.set_xticklabels(lin28_peaks.keys())\n",
      "    ax.set_title(\"LIN28 Peak Sizes\")\n",
      "    ax.set_ylabel(\"Peak Width\")"
     ],
     "language": "python",
     "metadata": {},
     "outputs": []
    },
    {
     "cell_type": "markdown",
     "metadata": {},
     "source": [
      "#Distance of Peaks away from Motifs"
     ]
    },
    {
     "cell_type": "code",
     "collapsed": false,
     "input": [
      "with dataviz.Figure(img_path + \"fox2_motif_dist.pdf\", figsize=(6,6)) as fig:\n",
      "    ax = fig.add_subplot(1,1,1)\n",
      "    for name, bedtool in fox2_peaks_dist.items():\n",
      "        y, x =  np.histogram([int(interval[-1]) for interval in bedtool[0]], range=(-200, 200), bins=25, normed=True)\n",
      "        x = [(x[n] + x[n+1]) / 2 for n in range(len(x) - 1)]\n",
      "        ax.plot(x,y, label=name, alpha=.5, linewidth=3)\n",
      "        \n",
      "    ax.set_xlabel(\"Distance away from Peak (bp)\")\n",
      "    ax.set_ylabel(\"Normalized Enrichment\")\n",
      "    ax.set_title(\"Distance of FOX2 Motif away from peak center\")\n",
      "    ax.legend()"
     ],
     "language": "python",
     "metadata": {},
     "outputs": []
    },
    {
     "cell_type": "code",
     "collapsed": false,
     "input": [
      "with dataviz.Figure(img_path + \"fox2_motif_dist.pdf\", figsize=(6,6)) as fig:\n",
      "    ax = fig.add_subplot(1,1,1)\n",
      "    for name, bedtool in fox2_peaks_dist.items():\n",
      "        y, x =  np.histogram([int(interval[-1]) for interval in bedtool[0]], range=(-200, 200), bins=25, normed=False)\n",
      "        x = [(x[n] + x[n+1]) / 2 for n in range(len(x) - 1)]\n",
      "        ax.plot(x,y, label=name, alpha=.5, linewidth=3)\n",
      "        \n",
      "    ax.set_xlabel(\"Distance away from Peak (bp)\")\n",
      "    ax.set_ylabel(\"Normalized Enrichment\")\n",
      "    ax.set_title(\"Distance of FOX2 Motif away from peak center\")\n",
      "    ax.legend()"
     ],
     "language": "python",
     "metadata": {},
     "outputs": []
    },
    {
     "cell_type": "code",
     "collapsed": false,
     "input": [
      "with dataviz.Figure(img_path + \"lin28_motif_dist.pdf\", figsize=(6,6)) as fig:\n",
      "    ax = fig.add_subplot(1,1,1)\n",
      "    for name, bedtool in lin28_peaks_dist.items():\n",
      "        y, x =  np.histogram([int(interval[-1]) for interval in bedtool[0]], range=(-200, 200), bins=25, normed=True)\n",
      "        x = [(x[n] + x[n+1]) / 2 for n in range(len(x) - 1)]\n",
      "        ax.plot(x,y, label=name, alpha=.5, linewidth=3)\n",
      "\n",
      "    ax.set_xlabel(\"Distance away from Peak (bp)\")\n",
      "    ax.set_ylabel(\"Normalized Enrichment\")\n",
      "    ax.set_title(\"Distance of LIN28 Motif away from peak center\")\n",
      "    ax.legend()"
     ],
     "language": "python",
     "metadata": {},
     "outputs": []
    },
    {
     "cell_type": "markdown",
     "metadata": {},
     "source": [
      "This plots the number of peaks that overlap a motif given the rank"
     ]
    },
    {
     "cell_type": "markdown",
     "metadata": {},
     "source": [
      "#Number of Peaks With motifs"
     ]
    },
    {
     "cell_type": "code",
     "collapsed": false,
     "input": [
      "def get_percent_overlapped(tool):\n",
      "    \n",
      "    \"\"\"\n",
      "    gets number of features that overlap a motif sorted by signifiance (the score column)\n",
      "        returns x and y for plotting\"\"\"\n",
      "    total_overlapped = 0\n",
      "    percent_overlapped = []\n",
      "    for total_counted, interval in enumerate(sorted_tool):\n",
      "        if np.abs(int(interval[-1])) < 25: #there is an overlap\n",
      "            total_overlapped += 1.0\n",
      "        percent_overlapped.append((total_overlapped / (total_counted + 1)) * 100)\n",
      "    return range(len(sorted_tool)), percent_overlapped\n",
      "    "
     ],
     "language": "python",
     "metadata": {},
     "outputs": []
    },
    {
     "cell_type": "code",
     "collapsed": false,
     "input": [
      "#with dataviz.Figure(img_path + \"fox2_motif_rank.pdf\", figsize=(6,6)) as fig:\n",
      "fig = plt.figure(figsize=(10,10))\n",
      "ax = fig.add_subplot(1,1,1)\n",
      "for name, (bedtool, sort_column) in fox2_peaks_dist.items():\n",
      "    sorted_tool = pybedtools.BedTool(sorted(bedtool, key=lambda x: float(x[sort_column])))\n",
      "    x,y = get_percent_overlapped(sorted_tool)\n",
      "    ax.plot(x, y, label=name)\n",
      "\n",
      "ax.set_title(\"Percent of FOX2 peaks overlapping with GCAUG Motif\")\n",
      "ax.set_ylabel(\"Percent of Peaks\")\n",
      "ax.set_xlabel(\"Peak Rank\")\n",
      "#ax.set_ylim(0,6)\n",
      "ax.legend()"
     ],
     "language": "python",
     "metadata": {},
     "outputs": []
    },
    {
     "cell_type": "code",
     "collapsed": false,
     "input": [
      "with dataviz.Figure(img_path + \"lin28_motif_rank.pdf\", figsize=(6,6)) as fig:\n",
      "    ax = fig.add_subplot(1,1,1)\n",
      "    for name, (bedtool, sort_column) in lin28_peaks_dist.items():\n",
      "        sorted_tool = pybedtools.BedTool(sorted(bedtool, key=lambda x: float(x[sort_column]))).saveas()\n",
      "        x,y = get_percent_overlapped(sorted_tool)\n",
      "        ax.plot(x, y, label=name)\n",
      "\n",
      "    ax.set_title(\"Percent of LIN28 peaks overlapping with GGAGA Motif\")\n",
      "    ax.set_ylabel(\"Percent of Peaks\")\n",
      "    ax.set_xlabel(\"Peak Rank\")\n",
      "    ax.set_ylim(0,6)\n",
      "    ax.legend()"
     ],
     "language": "python",
     "metadata": {},
     "outputs": []
    },
    {
     "cell_type": "markdown",
     "metadata": {},
     "source": [
      "#Distance of peak centers away from motifs"
     ]
    },
    {
     "cell_type": "code",
     "collapsed": false,
     "input": [
      "def get_distances(bedtool):\n",
      "    for interval in bedtool:\n",
      "        yield int(interval[-1])"
     ],
     "language": "python",
     "metadata": {},
     "outputs": [],
     "prompt_number": 91
    },
    {
     "cell_type": "code",
     "collapsed": false,
     "input": [
      "y, x = np.histogram(list(get_distances(bedtool)), bins=100, range=(-100, 100))"
     ],
     "language": "python",
     "metadata": {},
     "outputs": [],
     "prompt_number": 92
    },
    {
     "cell_type": "code",
     "collapsed": false,
     "input": [
      "with dataviz.Figure(img_path + \"fox2_iclip_motif_distance.pdf\", figsize=(6,6)) as fig:\n",
      "    ax = fig.add_subplot(1,1,1)\n",
      "    for name, (bedtool, sort_column) in fox2_peaks_dist.items():\n",
      "        if name in ['FOX2_iclip_shuffled', \n",
      "                    'FOX2_iclip_kmer_1', \n",
      "                    'FOX2_iclip_kmer_0', \n",
      "                    'FOX2_iclip_kmer_2', \n",
      "                    'FOX2_iclip_kmer_3',\n",
      "                    'FOX2_iclip_kmer_0_alpha',\n",
      "                    'FOX2_iclip_only_kasey'\n",
      "                    ]:\n",
      "            continue\n",
      "        y, x = np.histogram(list(get_distances(bedtool)), bins=100, range=(-100, 100), normed=True)\n",
      "        ax.plot(np.arange(-100, 100, 2), y, label=name)\n",
      "        #ax.hist(list(get_distances(bedtool)), label=name, bins=100, range=(-100,100), \n",
      "        #        histtype='step')\n",
      "        ax.legend()"
     ],
     "language": "python",
     "metadata": {},
     "outputs": [
      {
       "metadata": {},
       "output_type": "display_data",
       "png": "[encoded data removed]",
       "text": [
        "<matplotlib.figure.Figure at 0x2aaaaf1c72d0>"
       ]
      }
     ],
     "prompt_number": 93
    },
    {
     "cell_type": "code",
     "collapsed": false,
     "input": [
      "def get_peak_wiggle(tool, data_pos, data_neg, size = 1000, num_peaks=100):\n",
      "    \n",
      "    \"\"\"\n",
      "    \n",
      "    returns matrix of (n,25) of wiggle and peak information\n",
      "    tool - bedtool contains location of peaks\n",
      "    data - bigwig file handle - contains bw data for the peaks\n",
      "\n",
      "    \"\"\"\n",
      "    \n",
      "    results = []\n",
      "\n",
      "    for line in tool[:num_peaks]:\n",
      "        peak_center = line.start\n",
      "        pad_amt = size / 2\n",
      "        try:\n",
      "            if line.strand == \"+\":\n",
      "                result = data_pos.get_as_array(line.chrom, peak_center - pad_amt , peak_center + pad_amt)\n",
      "            if line.strand == \"-\":\n",
      "                result = data_neg.get_as_array(line.chrom, peak_center - pad_amt , peak_center + pad_amt)[::-1]\n",
      "                \n",
      "            result = [0 if np.isnan(x) else x for x in result]\n",
      "        \n",
      "            results.append(result)\n",
      "\n",
      "        except:\n",
      "            pass\n",
      "    return pd.DataFrame(results)"
     ],
     "language": "python",
     "metadata": {},
     "outputs": [],
     "prompt_number": 94
    },
    {
     "cell_type": "code",
     "collapsed": false,
     "input": [
      "spline_df = get_peak_wiggle(FOX2_spline_center, FOX2_pos, FOX2_neg, num_peaks = 10000000)"
     ],
     "language": "python",
     "metadata": {},
     "outputs": []
    },
    {
     "cell_type": "code",
     "collapsed": false,
     "input": [
      "classic_df = get_peak_wiggle(FOX2_classic_center, FOX2_pos, FOX2_neg, num_peaks = 10000000)"
     ],
     "language": "python",
     "metadata": {},
     "outputs": []
    },
    {
     "cell_type": "code",
     "collapsed": false,
     "input": [
      "piranah_df = get_peak_wiggle(FOX2_piranah_center, FOX2_pos, FOX2_neg, num_peaks = 10000000)"
     ],
     "language": "python",
     "metadata": {},
     "outputs": []
    },
    {
     "cell_type": "code",
     "collapsed": false,
     "input": [
      "spline_df_mag_normalized = spline_df.div(spline_df.sum(axis=1), axis=0).fillna(0)\n",
      "classic_df_mag_normalized = classic_df.div(classic_df.sum(axis=1), axis=0).fillna(0)\n",
      "piranah_df_mag_normalized = piranah_df.div(piranah_df.sum(axis=1), axis=0).fillna(0)"
     ],
     "language": "python",
     "metadata": {},
     "outputs": []
    },
    {
     "cell_type": "code",
     "collapsed": false,
     "input": [
      "spline_df_mag_normalized[spline_df_mag_normalized > .1] = .1\n",
      "classic_df_mag_normalized[classic_df_mag_normalized > .1] = .1\n",
      "[piranah_df_mag_normalized > .1] = .1"
     ],
     "language": "python",
     "metadata": {},
     "outputs": []
    },
    {
     "cell_type": "code",
     "collapsed": false,
     "input": [
      "x = clustering.clusterKMeans(np.array(spline_df_mag_normalized), spline_df_mag_normalized.index, spline_df_mag_normalized.columns, doOLO=False, clusterCols=False, k=16) "
     ],
     "language": "python",
     "metadata": {},
     "outputs": []
    },
    {
     "cell_type": "code",
     "collapsed": false,
     "input": [
      "x = clustering.clusterKMeans(np.array(classic_df_mag_normalized), classic_df_mag_normalized.index, classic_df_mag_normalized.columns, doOLO=False, clusterCols=False, k=16) "
     ],
     "language": "python",
     "metadata": {},
     "outputs": []
    },
    {
     "cell_type": "code",
     "collapsed": false,
     "input": [
      "x = clustering.clusterKMeans(np.array(piranah_df_mag_normalized), piranah_df_mag_normalized.index, piranah_df_mag_normalized.columns, doOLO=False, clusterCols=False, k=16) "
     ],
     "language": "python",
     "metadata": {},
     "outputs": []
    },
    {
     "cell_type": "code",
     "collapsed": false,
     "input": [
      "not_intersecting = FOX2_pyicos.intersect(FOX2_spline, v=True)\n",
      "intersecting = FOX2_pyicos.intersect(FOX2_spline, u=True)"
     ],
     "language": "python",
     "metadata": {},
     "outputs": []
    },
    {
     "cell_type": "code",
     "collapsed": false,
     "input": [
      "Counter([float(interval.score) for interval in not_intersecting])"
     ],
     "language": "python",
     "metadata": {},
     "outputs": []
    },
    {
     "cell_type": "code",
     "collapsed": false,
     "input": [
      "from collections import Counter"
     ],
     "language": "python",
     "metadata": {},
     "outputs": []
    },
    {
     "cell_type": "code",
     "collapsed": false,
     "input": [
      "pyicos_reads = array([float(interval.score) for interval in FOX2_pyicos])\n",
      "pyicos_reads = pyicos_reads[pyicos_reads < 100]"
     ],
     "language": "python",
     "metadata": {},
     "outputs": []
    },
    {
     "cell_type": "code",
     "collapsed": false,
     "input": [
      "clipper_reads = array([int(x.name.split(\"_\")[2]) for x in FOX2_spline])\n",
      "clipper_reads = clipper_reads[clipper_reads < 100]"
     ],
     "language": "python",
     "metadata": {},
     "outputs": []
    },
    {
     "cell_type": "code",
     "collapsed": false,
     "input": [
      "boxplot([pyicos_reads, clipper_reads])"
     ],
     "language": "python",
     "metadata": {},
     "outputs": []
    },
    {
     "cell_type": "code",
     "collapsed": false,
     "input": [
      "from clipper.src.call_peak import get_FDR_cutoff_binom"
     ],
     "language": "python",
     "metadata": {},
     "outputs": []
    },
    {
     "cell_type": "code",
     "collapsed": false,
     "input": [
      "reads = pybedtools.BedTool(\"/nas3/gpratt/projects/clipper/data/FOX2Brain.all.fixed.sorted.rmdup.bed\")\n",
      "genes = pybedtools.BedTool(\"/nas3/gpratt/clipper/clipper/data/mm9.AS.STRUCTURE.COMPILED.gff\")"
     ],
     "language": "python",
     "metadata": {},
     "outputs": []
    },
    {
     "cell_type": "code",
     "collapsed": false,
     "input": [
      "mean(array([read.length for read in reads]))"
     ],
     "language": "python",
     "metadata": {},
     "outputs": []
    },
    {
     "cell_type": "code",
     "collapsed": false,
     "input": [
      "gene_counts = genes.intersect(reads, c=True).saveas()"
     ],
     "language": "python",
     "metadata": {},
     "outputs": []
    },
    {
     "cell_type": "code",
     "collapsed": false,
     "input": [
      "counts_and_length = [(interval.length, interval[-1]) for interval in gene_counts]"
     ],
     "language": "python",
     "metadata": {},
     "outputs": []
    },
    {
     "cell_type": "code",
     "collapsed": false,
     "input": [
      "len(counts_and_length)"
     ],
     "language": "python",
     "metadata": {},
     "outputs": []
    },
    {
     "cell_type": "code",
     "collapsed": false,
     "input": [
      "x = np.zeros(5)\n",
      "x[:] = 30.143779786534054"
     ],
     "language": "python",
     "metadata": {},
     "outputs": []
    },
    {
     "cell_type": "code",
     "collapsed": false,
     "input": [
      "cutoff = []\n",
      "for gene_length, num_reads in counts_and_length:\n",
      "    read_lengths = np.zeros(int(num_reads))\n",
      "    read_lengths[:] = 30.143779786534054\n",
      "    cutoff.append(get_FDR_cutoff_binom(read_lengths, gene_length, .05))"
     ],
     "language": "python",
     "metadata": {},
     "outputs": []
    },
    {
     "cell_type": "code",
     "collapsed": false,
     "input": [
      "Counter(cutoff)"
     ],
     "language": "python",
     "metadata": {},
     "outputs": []
    },
    {
     "cell_type": "markdown",
     "metadata": {},
     "source": [
      "#Looking at all peaks, seeing if my filtering is too stringent for clipper, instead of peak fitting being wrong..."
     ]
    },
    {
     "cell_type": "code",
     "collapsed": false,
     "input": [
      "pickled_results = pickle.load(open(\"/nas3/gpratt/projects/fox2_iclip/analysis/ad-hoc/FOX2.uncollapsed.sorted.peaks.bed.all_peaks.pickle\"))\n",
      "cluster_list = [result['clusters'] for result in pickled_results]\n",
      "peaks = list(itertools.chain(*cluster_list))\n",
      "all_peaks = [\"\\t\".join([str(x) for x in [\n",
      "                                           cluster.chrom, \n",
      "                                           cluster.genomic_start, \n",
      "                                           cluster.genomic_stop, \n",
      "                                           cluster.gene_name  + \"_\" + str(cluster.peak_number) + \"_\" + str(cluster.number_reads_in_peak), \n",
      "                                           cluster.super_local_poisson_p,\n",
      "                                           cluster.gene_poisson_p,\n",
      "                                           cluster.strand, \n",
      "                                           cluster.thick_start, \n",
      "                                           cluster.thick_stop,\n",
      "                                           ]]) for cluster in peaks]\n",
      "\n",
      "fox2_uncollapsed = pybedtools.BedTool(\"\\n\".join(all_peaks), from_string=True).sort(stream=True).saveas(\"/nas3/gpratt/projects/fox2_iclip/analysis/ad-hoc/FOX2.uncollapsed.sorted.all_peaks.bed\")"
     ],
     "language": "python",
     "metadata": {},
     "outputs": [],
     "prompt_number": 42
    },
    {
     "cell_type": "code",
     "collapsed": false,
     "input": [
      "len(fox2_uncollapsed)"
     ],
     "language": "python",
     "metadata": {},
     "outputs": [
      {
       "metadata": {},
       "output_type": "pyout",
       "prompt_number": 50,
       "text": [
        "32120"
       ]
      }
     ],
     "prompt_number": 50
    },
    {
     "cell_type": "code",
     "collapsed": false,
     "input": [
      "fox2_low_alpha = pybedtools.BedTool(\"/nas3/gpratt/projects/fox2_iclip/analysis/ad-hoc/fox2_low_alpha.bed\")"
     ],
     "language": "python",
     "metadata": {},
     "outputs": [],
     "prompt_number": 61
    },
    {
     "cell_type": "code",
     "collapsed": false,
     "input": [
      "len(fox2_low_alpha.intersect(fox2_peaks['FOX2_iclip_kasey'][0], s=True, u=True))"
     ],
     "language": "python",
     "metadata": {},
     "outputs": [
      {
       "metadata": {},
       "output_type": "pyout",
       "prompt_number": 63,
       "text": [
        "18549"
       ]
      }
     ],
     "prompt_number": 63
    },
    {
     "cell_type": "code",
     "collapsed": false,
     "input": [
      "FOX2_iclip_kasey = fox2_peaks['FOX2_iclip_kasey'][0]"
     ],
     "language": "python",
     "metadata": {},
     "outputs": [],
     "prompt_number": 51
    },
    {
     "cell_type": "code",
     "collapsed": false,
     "input": [
      "len(fox2_uncollapsed.intersect(FOX2_iclip_kasey, u=True))"
     ],
     "language": "python",
     "metadata": {},
     "outputs": [
      {
       "metadata": {},
       "output_type": "pyout",
       "prompt_number": 56,
       "text": [
        "10481"
       ]
      }
     ],
     "prompt_number": 56
    },
    {
     "cell_type": "code",
     "collapsed": false,
     "input": [
      "FOX2_iclip_kasey.intersect(fox2_low_alpha, v=True).head()"
     ],
     "language": "python",
     "metadata": {},
     "outputs": [
      {
       "output_type": "stream",
       "stream": "stdout",
       "text": [
        "chr1\t569911\t569937\tENSG00000198744\t13\t+\t569917\t569926\t0,255,255\n",
        " chr1\t781914\t781940\tENSG00000228794\t14\t+\t781920\t781929\t0,255,255\n",
        " chr1\t849088\t849133\tENSG00000230699\t13\t+\t849107\t849116\t0,255,255\n",
        " chr1\t855063\t855100\tENSG00000256610\t11\t-\t855068\t855077\t0,255,255\n",
        " chr1\t884630\t884664\tENSG00000188976\t13\t-\t884635\t884644\t0,255,255\n",
        " chr1\t888005\t888044\tENSG00000188976\t16\t-\t888021\t888030\t0,255,255\n",
        " chr1\t897548\t897609\tENSG00000187961\t21\t+\t897566\t897575\t0,255,255\n",
        " chr1\t987468\t987507\tENSG00000188157\t13\t+\t987479\t987488\t0,255,255\n",
        " chr1\t987888\t987923\tENSG00000188157\t20\t+\t987903\t987912\t0,255,255\n",
        " chr1\t988219\t988290\tENSG00000188157\t23\t+\t988250\t988259\t0,255,255\n",
        "\n"
       ]
      }
     ],
     "prompt_number": 64
    },
    {
     "cell_type": "code",
     "collapsed": false,
     "input": [
      "pybedtools.BedTool(\"\\n\".join(all_peaks), from_string=True).sort(stream=True).saveas(\"all_peaks.bed\")"
     ],
     "language": "python",
     "metadata": {},
     "outputs": []
    },
    {
     "cell_type": "code",
     "collapsed": false,
     "input": [],
     "language": "python",
     "metadata": {},
     "outputs": []
    },
    {
     "cell_type": "code",
     "collapsed": false,
     "input": [
      "def adjust_pyicos(interval, size):\n",
      "    interval.start = int(interval[6]) - size\n",
      "    interval.end = int(interval[6]) + size\n",
      "    return interval\n",
      "def adjust_clipper(interval,size):\n",
      "    center = (int(interval[6]) + int(interval[7])) / 2\n",
      "    interval.start = int(center - size)\n",
      "    interval.end = int(center + size)\n",
      "    return interval"
     ],
     "language": "python",
     "metadata": {},
     "outputs": []
    },
    {
     "cell_type": "code",
     "collapsed": false,
     "input": [
      "def count_fox2_motifs_window(bedtool, peak_width, pyicos=False):\n",
      "    if pyicos:\n",
      "        bedtool = bedtool.each(adjust_pyicos, peak_width)\n",
      "    else:\n",
      "        bedtool = bedtool.each(adjust_clipper, peak_width)\n",
      "        \n",
      "    x = bedtool.window(GCATG_motif, sm=True, w=peak_width, c=True).saveas()\n",
      "    return len([interval for interval in x if int(interval[-1]) > 0]) "
     ],
     "language": "python",
     "metadata": {},
     "outputs": []
    },
    {
     "cell_type": "code",
     "collapsed": false,
     "input": [
      "def count_fox2_motifs(bedtool, peak_width, pyicos=False):\n",
      "    \n",
      "    if pyicos:\n",
      "        bedtool = bedtool.each(adjust_pyicos, peak_width)\n",
      "    else:\n",
      "        bedtool = bedtool.each(adjust_clipper, peak_width)\n",
      "    x = SeqIO.parse(bedtool.sequence(fi=\"/nas3/yeolab/Genome/ucsc/mm9/chromosomes/all.fa\", s=True).seqfn, 'fasta')\n",
      "    count = 0\n",
      "    for peak in x:\n",
      "        if \"gcatg\" in peak or \"tgcatg\" in peak:\n",
      "            count += 1\n",
      "    return count"
     ],
     "language": "python",
     "metadata": {},
     "outputs": []
    },
    {
     "cell_type": "code",
     "collapsed": false,
     "input": [
      "FOX2_pyicos.each(adjust_pyicos, 25)[1]"
     ],
     "language": "python",
     "metadata": {},
     "outputs": []
    },
    {
     "cell_type": "code",
     "collapsed": false,
     "input": [
      "peaks_25 = {\"clipper\" : count_fox2_motifs(FOX2_spline, 25), \"pyicos\" : count_fox2_motifs(FOX2_pyicos, 25, True),\n",
      " \"low_coverage\" : count_fox2_motifs(more_not_intersecting, 25, True), \"non_intersecting\" : count_fox2_motifs(not_intersecting, 25, True),\n",
      " \"mike_p01\" : count_fox2_motifs(FOX2_mikes_p01, 25), \"mike_p05\" : count_fox2_motifs(FOX2_mikes_p05, 25)}\n",
      "\n",
      "peaks_200 = {\"clipper\" : count_fox2_motifs(FOX2_spline, 200), \"pyicos\" : count_fox2_motifs(FOX2_pyicos, 200, True),\n",
      " \"low_coverage\" : count_fox2_motifs(more_not_intersecting, 200, True), \"non_intersecting\" : count_fox2_motifs(not_intersecting, 200, True),\n",
      " \"mike_p01\" : count_fox2_motifs(FOX2_mikes_p01, 200), \"mike_p05\" : count_fox2_motifs(FOX2_mikes_p05, 200)}\n",
      "\n",
      "peaks_25_w = {\"clipper\" : count_fox2_motifs_window(FOX2_spline, 25), \"pyicos\" : count_fox2_motifs_window(FOX2_pyicos, 25, True),\n",
      " \"low_coverage\" : count_fox2_motifs_window(more_not_intersecting, 25, True), \"non_intersecting\" : count_fox2_motifs_window(not_intersecting, 25, True),\n",
      " \"mike_p01\" : count_fox2_motifs_window(FOX2_mikes_p01, 25), \"mike_p05\" : count_fox2_motifs_window(FOX2_mikes_p05, 25)}\n",
      "\n",
      "peaks_200_w = {\"clipper\" : count_fox2_motifs_window(FOX2_spline, 200), \"pyicos\" : count_fox2_motifs_window(FOX2_pyicos, 200, True),\n",
      " \"low_coverage\" : count_fox2_motifs_window(more_not_intersecting, 200, True), \"non_intersecting\" : count_fox2_motifs_window(not_intersecting, 200, True),\n",
      " \"mike_p01\" : count_fox2_motifs_window(FOX2_mikes_p01, 200), \"mike_p05\" : count_fox2_motifs_window(FOX2_mikes_p05, 200)}\n",
      "\n",
      "\n",
      "y = {\"clipper\" : len(FOX2_spline), \"pyicos\" : len(FOX2_pyicos),\n",
      " \"low_coverage\" : len(more_not_intersecting), \"non_intersecting\" : len(not_intersecting),\n",
      " \"mike_p01\" : len(FOX2_mikes_p01), \"mike_p05\" : len(FOX2_mikes_p05)}\n"
     ],
     "language": "python",
     "metadata": {},
     "outputs": []
    },
    {
     "cell_type": "code",
     "collapsed": false,
     "input": [
      "print peaks_25\n",
      "print peaks_200"
     ],
     "language": "python",
     "metadata": {},
     "outputs": []
    },
    {
     "cell_type": "code",
     "collapsed": false,
     "input": [
      "y"
     ],
     "language": "python",
     "metadata": {},
     "outputs": []
    },
    {
     "cell_type": "code",
     "collapsed": false,
     "input": [
      "for key in peaks_25.keys():\n",
      "    print key, peaks_25[key] / float(y[key])\n",
      "\n",
      "print\n",
      "for key in peaks_200.keys():\n",
      "    print key, peaks_200[key] / float(y[key])\n",
      "    \n",
      "print\n",
      "for key in peaks_25_w.keys():\n",
      "    print key, peaks_25_w[key] / float(y[key])\n",
      "    \n",
      "print\n",
      "for key in peaks_200_w.keys():\n",
      "    print key, peaks_200_w[key] / float(y[key])"
     ],
     "language": "python",
     "metadata": {},
     "outputs": []
    },
    {
     "cell_type": "markdown",
     "metadata": {},
     "source": [
      "No matter how I slice it pyicos and its low coverage peaks do very well.  As well or better than clipper and we get more usable motifs out of it..."
     ]
    },
    {
     "cell_type": "code",
     "collapsed": false,
     "input": [
      "print FOX2_pyicos[1][6]"
     ],
     "language": "python",
     "metadata": {},
     "outputs": []
    },
    {
     "cell_type": "code",
     "collapsed": false,
     "input": [
      "len(FOX2_pyicos)"
     ],
     "language": "python",
     "metadata": {},
     "outputs": []
    },
    {
     "cell_type": "code",
     "collapsed": false,
     "input": [
      "hist([float(interval.length) for interval in not_intersecting], range=(0,250), bins=100)"
     ],
     "language": "python",
     "metadata": {},
     "outputs": []
    },
    {
     "cell_type": "code",
     "collapsed": false,
     "input": [
      "len(FOX2_mikes_p01.window(GCATG_motif, sm=True, w=200, u=True))"
     ],
     "language": "python",
     "metadata": {},
     "outputs": []
    },
    {
     "cell_type": "code",
     "collapsed": false,
     "input": [
      "shuffled_GCATG_motif = GCATG_motif.shuffle(genome='mm9', incl=\"/nas3/yeolab/Genome/ensembl/gtf/Mus_musculus.NCBIM37.64.fixed.genes.gff\")"
     ],
     "language": "python",
     "metadata": {},
     "outputs": []
    },
    {
     "cell_type": "code",
     "collapsed": false,
     "input": [
      "x = FOX2_mikes_p01.window(shuffled_GCATG_motif, sm=True, w=200, c=True).saveas()"
     ],
     "language": "python",
     "metadata": {},
     "outputs": []
    },
    {
     "cell_type": "code",
     "collapsed": false,
     "input": [
      "len([interval for interval in x if int(interval[-1]) > 0]) "
     ],
     "language": "python",
     "metadata": {},
     "outputs": []
    },
    {
     "cell_type": "code",
     "collapsed": false,
     "input": [
      "shuffled_FOX2_mikes_p01 = FOX2_mikes_p01.shuffle(genome='mm9', incl=\"/nas3/yeolab/Genome/ensembl/gtf/Mus_musculus.NCBIM37.64.fixed.genes.gff\").saveas()"
     ],
     "language": "python",
     "metadata": {},
     "outputs": []
    },
    {
     "cell_type": "code",
     "collapsed": false,
     "input": [
      "x = shuffled_FOX2_mikes_p01.window(shuffled_GCATG_motif, sm=True, w=200, c=True).saveas()\n",
      "print len([interval for interval in x if int(interval[-1]) > 0]) "
     ],
     "language": "python",
     "metadata": {},
     "outputs": []
    },
    {
     "cell_type": "code",
     "collapsed": false,
     "input": [
      "x = shuffled_FOX2_mikes_p01.window(GCATG_motif, sm=True, w=200, c=True).saveas()\n",
      "print len([interval for interval in x if int(interval[-1]) > 0]) \n"
     ],
     "language": "python",
     "metadata": {},
     "outputs": []
    },
    {
     "cell_type": "code",
     "collapsed": false,
     "input": [
      "pwd"
     ],
     "language": "python",
     "metadata": {},
     "outputs": []
    },
    {
     "cell_type": "code",
     "collapsed": false,
     "input": [
      "pyicos_bonferoni = pybedtools.BedTool(\"/nas3/gpratt/projects/clipper/v3/unfiltered_FOX2Brain.all.fixed.sorted.rmdup.pyicos.bed\")"
     ],
     "language": "python",
     "metadata": {},
     "outputs": []
    },
    {
     "cell_type": "code",
     "collapsed": false,
     "input": [
      "pyicos_05 = pyicos_bonferoni.filter(lambda x: float(x[8]) < .05).saveas()\n",
      "print len(pyicos_05)\n",
      "print count_fox2_motifs_window(pyicos_05, 200, pyicos=True)\n",
      "print count_fox2_motifs_window(pyicos_05, 25, pyicos=True)"
     ],
     "language": "python",
     "metadata": {},
     "outputs": []
    },
    {
     "cell_type": "code",
     "collapsed": false,
     "input": [
      "print 16993. / 30308\n",
      "print 12815. / 30308"
     ],
     "language": "python",
     "metadata": {},
     "outputs": []
    },
    {
     "cell_type": "code",
     "collapsed": false,
     "input": [
      "total_peaks = len(pyicos_bonferoni)\n",
      "print total_peaks"
     ],
     "language": "python",
     "metadata": {},
     "outputs": []
    },
    {
     "cell_type": "code",
     "collapsed": false,
     "input": [
      "def bonferoni_correct(interval, total_peaks):\n",
      "    interval[8] = str(float(interval[8]) * total_peaks)\n",
      "    return interval"
     ],
     "language": "python",
     "metadata": {},
     "outputs": []
    },
    {
     "cell_type": "code",
     "collapsed": false,
     "input": [
      "bonferoni_corrected  = pyicos_bonferoni.each(bonferoni_correct, total_peaks).saveas()\n",
      "pyicos_bonferoni_p01 = bonferoni_corrected.filter(lambda x: float(x[8]) < .01).saveas()\n",
      "pyicos_bonferoni_p05 = bonferoni_corrected.filter(lambda x: float(x[8]) < 1).saveas()"
     ],
     "language": "python",
     "metadata": {},
     "outputs": []
    },
    {
     "cell_type": "code",
     "collapsed": false,
     "input": [
      "print len(pyicos_bonferoni_p01)\n",
      "print count_fox2_motifs_window(pyicos_bonferoni_p01, 200, pyicos=True)\n",
      "print count_fox2_motifs_window(pyicos_bonferoni_p01, 25, pyicos=True)"
     ],
     "language": "python",
     "metadata": {},
     "outputs": []
    },
    {
     "cell_type": "code",
     "collapsed": false,
     "input": [
      "print len(pyicos_bonferoni_p05)\n",
      "print count_fox2_motifs_window(pyicos_bonferoni_p05, 200, pyicos=True)\n",
      "print count_fox2_motifs_window(pyicos_bonferoni_p05, 25, pyicos=True)"
     ],
     "language": "python",
     "metadata": {},
     "outputs": []
    },
    {
     "cell_type": "code",
     "collapsed": false,
     "input": [
      "len(bonferoni_corrected)"
     ],
     "language": "python",
     "metadata": {},
     "outputs": []
    },
    {
     "cell_type": "code",
     "collapsed": false,
     "input": [
      "{interval[8] for interval in pyicos_bonferoni_p01}"
     ],
     "language": "python",
     "metadata": {},
     "outputs": []
    },
    {
     "cell_type": "markdown",
     "metadata": {},
     "source": [
      "#Direct IP-seq Analysis vs iCLIP Public Peaks"
     ]
    },
    {
     "cell_type": "code",
     "collapsed": false,
     "input": [
      "import glob"
     ],
     "language": "python",
     "metadata": {},
     "outputs": [],
     "prompt_number": 129
    },
    {
     "cell_type": "code",
     "collapsed": false,
     "input": [
      "import os\n",
      "from itertools import combinations, permutations\n",
      "from collections import defaultdict"
     ],
     "language": "python",
     "metadata": {},
     "outputs": [],
     "prompt_number": 157
    },
    {
     "cell_type": "code",
     "collapsed": false,
     "input": [
      "bedtools = {os.path.basename(name): pybedtools.BedTool(name) for name in glob.glob(\"/nas3/gpratt/projects/encode/analysis/ad-hoc/icount/*\")}\n",
      "bedtools['tial1'] = pybedtools.BedTool(\"/nas3/gpratt/projects/encode/analysis/v9_v1/3_NoIndex_L003_R1.BSRclip08.polyATrim.adapterTrim.rmRep.rg.sorted.rmDup.sorted.peaks.bed\")\n",
      "bedtools['hnrnpc'] = pybedtools.BedTool(\"/nas3/gpratt/projects/encode/analysis/v9_v1/3_NoIndex_L003_R1.BSRclip10.polyATrim.adapterTrim.rmRep.rg.sorted.rmDup.sorted.peaks.bed\")"
     ],
     "language": "python",
     "metadata": {},
     "outputs": [],
     "prompt_number": 159
    },
    {
     "cell_type": "code",
     "collapsed": false,
     "input": [
      "result = defaultdict(dict)\n",
      "for bedtool1, bedtool2 in permutations(bedtools.keys(), 2):\n",
      "    result[bedtool1][bedtool2] = bedtools[bedtool1].jaccard(bedtools[bedtool2])\n",
      "master_df = pd.DataFrame(result)\n",
      "\n",
      "intersections = master_df.applymap(lambda x: x['n_intersections'] if type(x) is not float else np.nan)\n",
      "jaccard = master_df.applymap(lambda x: x['jaccard'] if type(x) is not float else np.nan)"
     ],
     "language": "python",
     "metadata": {},
     "outputs": [],
     "prompt_number": 160
    },
    {
     "cell_type": "code",
     "collapsed": false,
     "input": [
      "with dataviz.Figure(img_path + \"fox2_iclip_motif_distance.pdf\", figsize=(6,6)) as fig:\n",
      "    ax = fig.add_subplot(1,1,1)\n",
      "\n",
      "    foo = ax.imshow(jaccard, interpolation='nearest')\n",
      "    fig.colorbar(foo)"
     ],
     "language": "python",
     "metadata": {},
     "outputs": [
      {
       "metadata": {},
       "output_type": "display_data",
       "png": "[encoded data removed]",
       "text": [
        "<matplotlib.figure.Figure at 0x2aab4f63df50>"
       ]
      }
     ],
     "prompt_number": 166
    },
    {
     "cell_type": "code",
     "collapsed": false,
     "input": [
      "jaccard"
     ],
     "language": "python",
     "metadata": {},
     "outputs": [
      {
       "html": [
        "<div style=\"max-height:1000px;max-width:1500px;overflow:auto;\">\n",
        "<table border=\"1\" class=\"dataframe\">\n",
        "  <thead>\n",
        "    <tr style=\"text-align: right;\">\n",
        "      <th></th>\n",
        "      <th>hnrnpc</th>\n",
        "      <th>peaks_id70967_rnd100_flank15_fdr0.05_regionAsOne_20090724_LUd3_3_hg19_ensembl59_G_iCLIP_TIAL1_HeLa_bedGraph-cDNA-hits-in-genome.bed.gz_lowFDR_clusters.bed</th>\n",
        "      <th>peaks_id70970_rnd100_flank15_fdr0.05_regionAsOne_20090724_LUd3_4_hg19_ensembl59_G_iCLIP_TIAL1_HeLa_bedGraph-cDNA-hits-in-genome.bed.gz_lowFDR_clusters.bed</th>\n",
        "      <th>peaks_id70973_rnd100_flank15_fdr0.05_regionAsOne_20090724_LUd3_5_hg19_ensembl59_G_iCLIP_TIAL1_HeLa_bedGraph-cDNA-hits-in-genome.bed.gz_lowFDR_clusters.bed</th>\n",
        "      <th>peaks_id70985_rnd100_flank15_fdr0.05_regionAsOne_20090724_LUd4_7_hg19_ensembl59_G_iCLIP_TIAL1_HeLa_bedGraph-cDNA-hits-in-genome.bed.gz_lowFDR_clusters.bed</th>\n",
        "      <th>peaks_id70988_rnd100_flank15_fdr0.05_regionAsOne_20090724_LUd4_8_hg19_ensembl59_G_iCLIP_TIAL1_HeLa_bedGraph-cDNA-hits-in-genome.bed.gz_lowFDR_clusters.bed</th>\n",
        "      <th>peaks_id71006_rnd100_flank15_fdr0.05_regionAsOne_20090715_LUh6_1_hg19_ensembl59_G_iCLIP_hnRNPC_HeLa_bedGraph-cDNA-hits-in-genome.bed.gz_lowFDR_clusters.bed</th>\n",
        "      <th>peaks_id71009_rnd100_flank15_fdr0.05_regionAsOne_20090715_LUh6_2_hg19_ensembl59_G_iCLIP_hnRNPC_HeLa_bedGraph-cDNA-hits-in-genome.bed.gz_lowFDR_clusters.bed</th>\n",
        "      <th>peaks_id71012_rnd100_flank15_fdr0.05_regionAsOne_20090715_LUh6_3_hg19_ensembl59_G_iCLIP_hnRNPC_HeLa_bedGraph-cDNA-hits-in-genome.bed.gz_lowFDR_clusters.bed</th>\n",
        "      <th>tial1</th>\n",
        "    </tr>\n",
        "  </thead>\n",
        "  <tbody>\n",
        "    <tr>\n",
        "      <th>hnrnpc</th>\n",
        "      <td>      NaN</td>\n",
        "      <td> 0.021276</td>\n",
        "      <td> 0.024754</td>\n",
        "      <td> 0.005569</td>\n",
        "      <td> 0.017786</td>\n",
        "      <td> 0.002804</td>\n",
        "      <td> 0.007751</td>\n",
        "      <td> 0.005823</td>\n",
        "      <td> 0.003276</td>\n",
        "      <td> 0.080942</td>\n",
        "    </tr>\n",
        "    <tr>\n",
        "      <th>peaks_id70967_rnd100_flank15_fdr0.05_regionAsOne_20090724_LUd3_3_hg19_ensembl59_G_iCLIP_TIAL1_HeLa_bedGraph-cDNA-hits-in-genome.bed.gz_lowFDR_clusters.bed</th>\n",
        "      <td> 0.021281</td>\n",
        "      <td>      NaN</td>\n",
        "      <td> 0.193726</td>\n",
        "      <td> 0.035088</td>\n",
        "      <td> 0.179697</td>\n",
        "      <td> 0.018216</td>\n",
        "      <td> 0.033227</td>\n",
        "      <td> 0.024610</td>\n",
        "      <td> 0.015919</td>\n",
        "      <td> 0.058270</td>\n",
        "    </tr>\n",
        "    <tr>\n",
        "      <th>peaks_id70970_rnd100_flank15_fdr0.05_regionAsOne_20090724_LUd3_4_hg19_ensembl59_G_iCLIP_TIAL1_HeLa_bedGraph-cDNA-hits-in-genome.bed.gz_lowFDR_clusters.bed</th>\n",
        "      <td> 0.024763</td>\n",
        "      <td> 0.193730</td>\n",
        "      <td>      NaN</td>\n",
        "      <td> 0.020895</td>\n",
        "      <td> 0.141025</td>\n",
        "      <td> 0.009858</td>\n",
        "      <td> 0.022674</td>\n",
        "      <td> 0.016017</td>\n",
        "      <td> 0.009263</td>\n",
        "      <td> 0.090278</td>\n",
        "    </tr>\n",
        "    <tr>\n",
        "      <th>peaks_id70973_rnd100_flank15_fdr0.05_regionAsOne_20090724_LUd3_5_hg19_ensembl59_G_iCLIP_TIAL1_HeLa_bedGraph-cDNA-hits-in-genome.bed.gz_lowFDR_clusters.bed</th>\n",
        "      <td> 0.005569</td>\n",
        "      <td> 0.035088</td>\n",
        "      <td> 0.020895</td>\n",
        "      <td>      NaN</td>\n",
        "      <td> 0.058343</td>\n",
        "      <td> 0.115204</td>\n",
        "      <td> 0.025383</td>\n",
        "      <td> 0.027964</td>\n",
        "      <td> 0.034735</td>\n",
        "      <td> 0.008788</td>\n",
        "    </tr>\n",
        "    <tr>\n",
        "      <th>peaks_id70985_rnd100_flank15_fdr0.05_regionAsOne_20090724_LUd4_7_hg19_ensembl59_G_iCLIP_TIAL1_HeLa_bedGraph-cDNA-hits-in-genome.bed.gz_lowFDR_clusters.bed</th>\n",
        "      <td> 0.017788</td>\n",
        "      <td> 0.179697</td>\n",
        "      <td> 0.141025</td>\n",
        "      <td> 0.058343</td>\n",
        "      <td>      NaN</td>\n",
        "      <td> 0.032436</td>\n",
        "      <td> 0.039386</td>\n",
        "      <td> 0.030999</td>\n",
        "      <td> 0.023582</td>\n",
        "      <td> 0.050026</td>\n",
        "    </tr>\n",
        "    <tr>\n",
        "      <th>peaks_id70988_rnd100_flank15_fdr0.05_regionAsOne_20090724_LUd4_8_hg19_ensembl59_G_iCLIP_TIAL1_HeLa_bedGraph-cDNA-hits-in-genome.bed.gz_lowFDR_clusters.bed</th>\n",
        "      <td> 0.002804</td>\n",
        "      <td> 0.018204</td>\n",
        "      <td> 0.009851</td>\n",
        "      <td> 0.115204</td>\n",
        "      <td> 0.032416</td>\n",
        "      <td>      NaN</td>\n",
        "      <td> 0.016584</td>\n",
        "      <td> 0.019676</td>\n",
        "      <td> 0.029066</td>\n",
        "      <td> 0.003563</td>\n",
        "    </tr>\n",
        "    <tr>\n",
        "      <th>peaks_id71006_rnd100_flank15_fdr0.05_regionAsOne_20090715_LUh6_1_hg19_ensembl59_G_iCLIP_hnRNPC_HeLa_bedGraph-cDNA-hits-in-genome.bed.gz_lowFDR_clusters.bed</th>\n",
        "      <td> 0.007752</td>\n",
        "      <td> 0.033227</td>\n",
        "      <td> 0.022671</td>\n",
        "      <td> 0.025383</td>\n",
        "      <td> 0.039383</td>\n",
        "      <td> 0.016597</td>\n",
        "      <td>      NaN</td>\n",
        "      <td> 0.088596</td>\n",
        "      <td> 0.061918</td>\n",
        "      <td> 0.005994</td>\n",
        "    </tr>\n",
        "    <tr>\n",
        "      <th>peaks_id71009_rnd100_flank15_fdr0.05_regionAsOne_20090715_LUh6_2_hg19_ensembl59_G_iCLIP_hnRNPC_HeLa_bedGraph-cDNA-hits-in-genome.bed.gz_lowFDR_clusters.bed</th>\n",
        "      <td> 0.005824</td>\n",
        "      <td> 0.024609</td>\n",
        "      <td> 0.016015</td>\n",
        "      <td> 0.027964</td>\n",
        "      <td> 0.030996</td>\n",
        "      <td> 0.019683</td>\n",
        "      <td> 0.088596</td>\n",
        "      <td>      NaN</td>\n",
        "      <td> 0.075174</td>\n",
        "      <td> 0.004097</td>\n",
        "    </tr>\n",
        "    <tr>\n",
        "      <th>peaks_id71012_rnd100_flank15_fdr0.05_regionAsOne_20090715_LUh6_3_hg19_ensembl59_G_iCLIP_hnRNPC_HeLa_bedGraph-cDNA-hits-in-genome.bed.gz_lowFDR_clusters.bed</th>\n",
        "      <td> 0.003276</td>\n",
        "      <td> 0.015919</td>\n",
        "      <td> 0.009261</td>\n",
        "      <td> 0.034735</td>\n",
        "      <td> 0.023580</td>\n",
        "      <td> 0.029066</td>\n",
        "      <td> 0.061918</td>\n",
        "      <td> 0.075174</td>\n",
        "      <td>      NaN</td>\n",
        "      <td> 0.002376</td>\n",
        "    </tr>\n",
        "    <tr>\n",
        "      <th>tial1</th>\n",
        "      <td> 0.080942</td>\n",
        "      <td> 0.058256</td>\n",
        "      <td> 0.090243</td>\n",
        "      <td> 0.008788</td>\n",
        "      <td> 0.050018</td>\n",
        "      <td> 0.003563</td>\n",
        "      <td> 0.005994</td>\n",
        "      <td> 0.004097</td>\n",
        "      <td> 0.002376</td>\n",
        "      <td>      NaN</td>\n",
        "    </tr>\n",
        "  </tbody>\n",
        "</table>\n",
        "<p>10 rows \u00d7 10 columns</p>\n",
        "</div>"
       ],
       "metadata": {},
       "output_type": "pyout",
       "prompt_number": 165,
       "text": [
        "                                                                                                                                                               hnrnpc  \\\n",
        "hnrnpc                                                                                                                                                            NaN   \n",
        "peaks_id70967_rnd100_flank15_fdr0.05_regionAsOne_20090724_LUd3_3_hg19_ensembl59_G_iCLIP_TIAL1_HeLa_bedGraph-cDNA-hits-in-genome.bed.gz_lowFDR_clusters.bed   0.021281   \n",
        "peaks_id70970_rnd100_flank15_fdr0.05_regionAsOne_20090724_LUd3_4_hg19_ensembl59_G_iCLIP_TIAL1_HeLa_bedGraph-cDNA-hits-in-genome.bed.gz_lowFDR_clusters.bed   0.024763   \n",
        "peaks_id70973_rnd100_flank15_fdr0.05_regionAsOne_20090724_LUd3_5_hg19_ensembl59_G_iCLIP_TIAL1_HeLa_bedGraph-cDNA-hits-in-genome.bed.gz_lowFDR_clusters.bed   0.005569   \n",
        "peaks_id70985_rnd100_flank15_fdr0.05_regionAsOne_20090724_LUd4_7_hg19_ensembl59_G_iCLIP_TIAL1_HeLa_bedGraph-cDNA-hits-in-genome.bed.gz_lowFDR_clusters.bed   0.017788   \n",
        "peaks_id70988_rnd100_flank15_fdr0.05_regionAsOne_20090724_LUd4_8_hg19_ensembl59_G_iCLIP_TIAL1_HeLa_bedGraph-cDNA-hits-in-genome.bed.gz_lowFDR_clusters.bed   0.002804   \n",
        "peaks_id71006_rnd100_flank15_fdr0.05_regionAsOne_20090715_LUh6_1_hg19_ensembl59_G_iCLIP_hnRNPC_HeLa_bedGraph-cDNA-hits-in-genome.bed.gz_lowFDR_clusters.bed  0.007752   \n",
        "peaks_id71009_rnd100_flank15_fdr0.05_regionAsOne_20090715_LUh6_2_hg19_ensembl59_G_iCLIP_hnRNPC_HeLa_bedGraph-cDNA-hits-in-genome.bed.gz_lowFDR_clusters.bed  0.005824   \n",
        "peaks_id71012_rnd100_flank15_fdr0.05_regionAsOne_20090715_LUh6_3_hg19_ensembl59_G_iCLIP_hnRNPC_HeLa_bedGraph-cDNA-hits-in-genome.bed.gz_lowFDR_clusters.bed  0.003276   \n",
        "tial1                                                                                                                                                        0.080942   \n",
        "\n",
        "                                                                                                                                                             peaks_id70967_rnd100_flank15_fdr0.05_regionAsOne_20090724_LUd3_3_hg19_ensembl59_G_iCLIP_TIAL1_HeLa_bedGraph-cDNA-hits-in-genome.bed.gz_lowFDR_clusters.bed  \\\n",
        "hnrnpc                                                                                                                                                                                                0.021276                                                                                                            \n",
        "peaks_id70967_rnd100_flank15_fdr0.05_regionAsOne_20090724_LUd3_3_hg19_ensembl59_G_iCLIP_TIAL1_HeLa_bedGraph-cDNA-hits-in-genome.bed.gz_lowFDR_clusters.bed                                                 NaN                                                                                                            \n",
        "peaks_id70970_rnd100_flank15_fdr0.05_regionAsOne_20090724_LUd3_4_hg19_ensembl59_G_iCLIP_TIAL1_HeLa_bedGraph-cDNA-hits-in-genome.bed.gz_lowFDR_clusters.bed                                            0.193730                                                                                                            \n",
        "peaks_id70973_rnd100_flank15_fdr0.05_regionAsOne_20090724_LUd3_5_hg19_ensembl59_G_iCLIP_TIAL1_HeLa_bedGraph-cDNA-hits-in-genome.bed.gz_lowFDR_clusters.bed                                            0.035088                                                                                                            \n",
        "peaks_id70985_rnd100_flank15_fdr0.05_regionAsOne_20090724_LUd4_7_hg19_ensembl59_G_iCLIP_TIAL1_HeLa_bedGraph-cDNA-hits-in-genome.bed.gz_lowFDR_clusters.bed                                            0.179697                                                                                                            \n",
        "peaks_id70988_rnd100_flank15_fdr0.05_regionAsOne_20090724_LUd4_8_hg19_ensembl59_G_iCLIP_TIAL1_HeLa_bedGraph-cDNA-hits-in-genome.bed.gz_lowFDR_clusters.bed                                            0.018204                                                                                                            \n",
        "peaks_id71006_rnd100_flank15_fdr0.05_regionAsOne_20090715_LUh6_1_hg19_ensembl59_G_iCLIP_hnRNPC_HeLa_bedGraph-cDNA-hits-in-genome.bed.gz_lowFDR_clusters.bed                                           0.033227                                                                                                            \n",
        "peaks_id71009_rnd100_flank15_fdr0.05_regionAsOne_20090715_LUh6_2_hg19_ensembl59_G_iCLIP_hnRNPC_HeLa_bedGraph-cDNA-hits-in-genome.bed.gz_lowFDR_clusters.bed                                           0.024609                                                                                                            \n",
        "peaks_id71012_rnd100_flank15_fdr0.05_regionAsOne_20090715_LUh6_3_hg19_ensembl59_G_iCLIP_hnRNPC_HeLa_bedGraph-cDNA-hits-in-genome.bed.gz_lowFDR_clusters.bed                                           0.015919                                                                                                            \n",
        "tial1                                                                                                                                                                                                 0.058256                                                                                                            \n",
        "\n",
        "                                                                                                                                                             peaks_id70970_rnd100_flank15_fdr0.05_regionAsOne_20090724_LUd3_4_hg19_ensembl59_G_iCLIP_TIAL1_HeLa_bedGraph-cDNA-hits-in-genome.bed.gz_lowFDR_clusters.bed  \\\n",
        "hnrnpc                                                                                                                                                                                                0.024754                                                                                                            \n",
        "peaks_id70967_rnd100_flank15_fdr0.05_regionAsOne_20090724_LUd3_3_hg19_ensembl59_G_iCLIP_TIAL1_HeLa_bedGraph-cDNA-hits-in-genome.bed.gz_lowFDR_clusters.bed                                            0.193726                                                                                                            \n",
        "peaks_id70970_rnd100_flank15_fdr0.05_regionAsOne_20090724_LUd3_4_hg19_ensembl59_G_iCLIP_TIAL1_HeLa_bedGraph-cDNA-hits-in-genome.bed.gz_lowFDR_clusters.bed                                                 NaN                                                                                                            \n",
        "peaks_id70973_rnd100_flank15_fdr0.05_regionAsOne_20090724_LUd3_5_hg19_ensembl59_G_iCLIP_TIAL1_HeLa_bedGraph-cDNA-hits-in-genome.bed.gz_lowFDR_clusters.bed                                            0.020895                                                                                                            \n",
        "peaks_id70985_rnd100_flank15_fdr0.05_regionAsOne_20090724_LUd4_7_hg19_ensembl59_G_iCLIP_TIAL1_HeLa_bedGraph-cDNA-hits-in-genome.bed.gz_lowFDR_clusters.bed                                            0.141025                                                                                                            \n",
        "peaks_id70988_rnd100_flank15_fdr0.05_regionAsOne_20090724_LUd4_8_hg19_ensembl59_G_iCLIP_TIAL1_HeLa_bedGraph-cDNA-hits-in-genome.bed.gz_lowFDR_clusters.bed                                            0.009851                                                                                                            \n",
        "peaks_id71006_rnd100_flank15_fdr0.05_regionAsOne_20090715_LUh6_1_hg19_ensembl59_G_iCLIP_hnRNPC_HeLa_bedGraph-cDNA-hits-in-genome.bed.gz_lowFDR_clusters.bed                                           0.022671                                                                                                            \n",
        "peaks_id71009_rnd100_flank15_fdr0.05_regionAsOne_20090715_LUh6_2_hg19_ensembl59_G_iCLIP_hnRNPC_HeLa_bedGraph-cDNA-hits-in-genome.bed.gz_lowFDR_clusters.bed                                           0.016015                                                                                                            \n",
        "peaks_id71012_rnd100_flank15_fdr0.05_regionAsOne_20090715_LUh6_3_hg19_ensembl59_G_iCLIP_hnRNPC_HeLa_bedGraph-cDNA-hits-in-genome.bed.gz_lowFDR_clusters.bed                                           0.009261                                                                                                            \n",
        "tial1                                                                                                                                                                                                 0.090243                                                                                                            \n",
        "\n",
        "                                                                                                                                                             peaks_id70973_rnd100_flank15_fdr0.05_regionAsOne_20090724_LUd3_5_hg19_ensembl59_G_iCLIP_TIAL1_HeLa_bedGraph-cDNA-hits-in-genome.bed.gz_lowFDR_clusters.bed  \\\n",
        "hnrnpc                                                                                                                                                                                                0.005569                                                                                                            \n",
        "peaks_id70967_rnd100_flank15_fdr0.05_regionAsOne_20090724_LUd3_3_hg19_ensembl59_G_iCLIP_TIAL1_HeLa_bedGraph-cDNA-hits-in-genome.bed.gz_lowFDR_clusters.bed                                            0.035088                                                                                                            \n",
        "peaks_id70970_rnd100_flank15_fdr0.05_regionAsOne_20090724_LUd3_4_hg19_ensembl59_G_iCLIP_TIAL1_HeLa_bedGraph-cDNA-hits-in-genome.bed.gz_lowFDR_clusters.bed                                            0.020895                                                                                                            \n",
        "peaks_id70973_rnd100_flank15_fdr0.05_regionAsOne_20090724_LUd3_5_hg19_ensembl59_G_iCLIP_TIAL1_HeLa_bedGraph-cDNA-hits-in-genome.bed.gz_lowFDR_clusters.bed                                                 NaN                                                                                                            \n",
        "peaks_id70985_rnd100_flank15_fdr0.05_regionAsOne_20090724_LUd4_7_hg19_ensembl59_G_iCLIP_TIAL1_HeLa_bedGraph-cDNA-hits-in-genome.bed.gz_lowFDR_clusters.bed                                            0.058343                                                                                                            \n",
        "peaks_id70988_rnd100_flank15_fdr0.05_regionAsOne_20090724_LUd4_8_hg19_ensembl59_G_iCLIP_TIAL1_HeLa_bedGraph-cDNA-hits-in-genome.bed.gz_lowFDR_clusters.bed                                            0.115204                                                                                                            \n",
        "peaks_id71006_rnd100_flank15_fdr0.05_regionAsOne_20090715_LUh6_1_hg19_ensembl59_G_iCLIP_hnRNPC_HeLa_bedGraph-cDNA-hits-in-genome.bed.gz_lowFDR_clusters.bed                                           0.025383                                                                                                            \n",
        "peaks_id71009_rnd100_flank15_fdr0.05_regionAsOne_20090715_LUh6_2_hg19_ensembl59_G_iCLIP_hnRNPC_HeLa_bedGraph-cDNA-hits-in-genome.bed.gz_lowFDR_clusters.bed                                           0.027964                                                                                                            \n",
        "peaks_id71012_rnd100_flank15_fdr0.05_regionAsOne_20090715_LUh6_3_hg19_ensembl59_G_iCLIP_hnRNPC_HeLa_bedGraph-cDNA-hits-in-genome.bed.gz_lowFDR_clusters.bed                                           0.034735                                                                                                            \n",
        "tial1                                                                                                                                                                                                 0.008788                                                                                                            \n",
        "\n",
        "                                                                                                                                                             peaks_id70985_rnd100_flank15_fdr0.05_regionAsOne_20090724_LUd4_7_hg19_ensembl59_G_iCLIP_TIAL1_HeLa_bedGraph-cDNA-hits-in-genome.bed.gz_lowFDR_clusters.bed  \\\n",
        "hnrnpc                                                                                                                                                                                                0.017786                                                                                                            \n",
        "peaks_id70967_rnd100_flank15_fdr0.05_regionAsOne_20090724_LUd3_3_hg19_ensembl59_G_iCLIP_TIAL1_HeLa_bedGraph-cDNA-hits-in-genome.bed.gz_lowFDR_clusters.bed                                            0.179697                                                                                                            \n",
        "peaks_id70970_rnd100_flank15_fdr0.05_regionAsOne_20090724_LUd3_4_hg19_ensembl59_G_iCLIP_TIAL1_HeLa_bedGraph-cDNA-hits-in-genome.bed.gz_lowFDR_clusters.bed                                            0.141025                                                                                                            \n",
        "peaks_id70973_rnd100_flank15_fdr0.05_regionAsOne_20090724_LUd3_5_hg19_ensembl59_G_iCLIP_TIAL1_HeLa_bedGraph-cDNA-hits-in-genome.bed.gz_lowFDR_clusters.bed                                            0.058343                                                                                                            \n",
        "peaks_id70985_rnd100_flank15_fdr0.05_regionAsOne_20090724_LUd4_7_hg19_ensembl59_G_iCLIP_TIAL1_HeLa_bedGraph-cDNA-hits-in-genome.bed.gz_lowFDR_clusters.bed                                                 NaN                                                                                                            \n",
        "peaks_id70988_rnd100_flank15_fdr0.05_regionAsOne_20090724_LUd4_8_hg19_ensembl59_G_iCLIP_TIAL1_HeLa_bedGraph-cDNA-hits-in-genome.bed.gz_lowFDR_clusters.bed                                            0.032416                                                                                                            \n",
        "peaks_id71006_rnd100_flank15_fdr0.05_regionAsOne_20090715_LUh6_1_hg19_ensembl59_G_iCLIP_hnRNPC_HeLa_bedGraph-cDNA-hits-in-genome.bed.gz_lowFDR_clusters.bed                                           0.039383                                                                                                            \n",
        "peaks_id71009_rnd100_flank15_fdr0.05_regionAsOne_20090715_LUh6_2_hg19_ensembl59_G_iCLIP_hnRNPC_HeLa_bedGraph-cDNA-hits-in-genome.bed.gz_lowFDR_clusters.bed                                           0.030996                                                                                                            \n",
        "peaks_id71012_rnd100_flank15_fdr0.05_regionAsOne_20090715_LUh6_3_hg19_ensembl59_G_iCLIP_hnRNPC_HeLa_bedGraph-cDNA-hits-in-genome.bed.gz_lowFDR_clusters.bed                                           0.023580                                                                                                            \n",
        "tial1                                                                                                                                                                                                 0.050018                                                                                                            \n",
        "\n",
        "                                                                                                                                                             peaks_id70988_rnd100_flank15_fdr0.05_regionAsOne_20090724_LUd4_8_hg19_ensembl59_G_iCLIP_TIAL1_HeLa_bedGraph-cDNA-hits-in-genome.bed.gz_lowFDR_clusters.bed  \\\n",
        "hnrnpc                                                                                                                                                                                                0.002804                                                                                                            \n",
        "peaks_id70967_rnd100_flank15_fdr0.05_regionAsOne_20090724_LUd3_3_hg19_ensembl59_G_iCLIP_TIAL1_HeLa_bedGraph-cDNA-hits-in-genome.bed.gz_lowFDR_clusters.bed                                            0.018216                                                                                                            \n",
        "peaks_id70970_rnd100_flank15_fdr0.05_regionAsOne_20090724_LUd3_4_hg19_ensembl59_G_iCLIP_TIAL1_HeLa_bedGraph-cDNA-hits-in-genome.bed.gz_lowFDR_clusters.bed                                            0.009858                                                                                                            \n",
        "peaks_id70973_rnd100_flank15_fdr0.05_regionAsOne_20090724_LUd3_5_hg19_ensembl59_G_iCLIP_TIAL1_HeLa_bedGraph-cDNA-hits-in-genome.bed.gz_lowFDR_clusters.bed                                            0.115204                                                                                                            \n",
        "peaks_id70985_rnd100_flank15_fdr0.05_regionAsOne_20090724_LUd4_7_hg19_ensembl59_G_iCLIP_TIAL1_HeLa_bedGraph-cDNA-hits-in-genome.bed.gz_lowFDR_clusters.bed                                            0.032436                                                                                                            \n",
        "peaks_id70988_rnd100_flank15_fdr0.05_regionAsOne_20090724_LUd4_8_hg19_ensembl59_G_iCLIP_TIAL1_HeLa_bedGraph-cDNA-hits-in-genome.bed.gz_lowFDR_clusters.bed                                                 NaN                                                                                                            \n",
        "peaks_id71006_rnd100_flank15_fdr0.05_regionAsOne_20090715_LUh6_1_hg19_ensembl59_G_iCLIP_hnRNPC_HeLa_bedGraph-cDNA-hits-in-genome.bed.gz_lowFDR_clusters.bed                                           0.016597                                                                                                            \n",
        "peaks_id71009_rnd100_flank15_fdr0.05_regionAsOne_20090715_LUh6_2_hg19_ensembl59_G_iCLIP_hnRNPC_HeLa_bedGraph-cDNA-hits-in-genome.bed.gz_lowFDR_clusters.bed                                           0.019683                                                                                                            \n",
        "peaks_id71012_rnd100_flank15_fdr0.05_regionAsOne_20090715_LUh6_3_hg19_ensembl59_G_iCLIP_hnRNPC_HeLa_bedGraph-cDNA-hits-in-genome.bed.gz_lowFDR_clusters.bed                                           0.029066                                                                                                            \n",
        "tial1                                                                                                                                                                                                 0.003563                                                                                                            \n",
        "\n",
        "                                                                                                                                                             peaks_id71006_rnd100_flank15_fdr0.05_regionAsOne_20090715_LUh6_1_hg19_ensembl59_G_iCLIP_hnRNPC_HeLa_bedGraph-cDNA-hits-in-genome.bed.gz_lowFDR_clusters.bed  \\\n",
        "hnrnpc                                                                                                                                                                                                0.007751                                                                                                             \n",
        "peaks_id70967_rnd100_flank15_fdr0.05_regionAsOne_20090724_LUd3_3_hg19_ensembl59_G_iCLIP_TIAL1_HeLa_bedGraph-cDNA-hits-in-genome.bed.gz_lowFDR_clusters.bed                                            0.033227                                                                                                             \n",
        "peaks_id70970_rnd100_flank15_fdr0.05_regionAsOne_20090724_LUd3_4_hg19_ensembl59_G_iCLIP_TIAL1_HeLa_bedGraph-cDNA-hits-in-genome.bed.gz_lowFDR_clusters.bed                                            0.022674                                                                                                             \n",
        "peaks_id70973_rnd100_flank15_fdr0.05_regionAsOne_20090724_LUd3_5_hg19_ensembl59_G_iCLIP_TIAL1_HeLa_bedGraph-cDNA-hits-in-genome.bed.gz_lowFDR_clusters.bed                                            0.025383                                                                                                             \n",
        "peaks_id70985_rnd100_flank15_fdr0.05_regionAsOne_20090724_LUd4_7_hg19_ensembl59_G_iCLIP_TIAL1_HeLa_bedGraph-cDNA-hits-in-genome.bed.gz_lowFDR_clusters.bed                                            0.039386                                                                                                             \n",
        "peaks_id70988_rnd100_flank15_fdr0.05_regionAsOne_20090724_LUd4_8_hg19_ensembl59_G_iCLIP_TIAL1_HeLa_bedGraph-cDNA-hits-in-genome.bed.gz_lowFDR_clusters.bed                                            0.016584                                                                                                             \n",
        "peaks_id71006_rnd100_flank15_fdr0.05_regionAsOne_20090715_LUh6_1_hg19_ensembl59_G_iCLIP_hnRNPC_HeLa_bedGraph-cDNA-hits-in-genome.bed.gz_lowFDR_clusters.bed                                                NaN                                                                                                             \n",
        "peaks_id71009_rnd100_flank15_fdr0.05_regionAsOne_20090715_LUh6_2_hg19_ensembl59_G_iCLIP_hnRNPC_HeLa_bedGraph-cDNA-hits-in-genome.bed.gz_lowFDR_clusters.bed                                           0.088596                                                                                                             \n",
        "peaks_id71012_rnd100_flank15_fdr0.05_regionAsOne_20090715_LUh6_3_hg19_ensembl59_G_iCLIP_hnRNPC_HeLa_bedGraph-cDNA-hits-in-genome.bed.gz_lowFDR_clusters.bed                                           0.061918                                                                                                             \n",
        "tial1                                                                                                                                                                                                 0.005994                                                                                                             \n",
        "\n",
        "                                                                                                                                                             peaks_id71009_rnd100_flank15_fdr0.05_regionAsOne_20090715_LUh6_2_hg19_ensembl59_G_iCLIP_hnRNPC_HeLa_bedGraph-cDNA-hits-in-genome.bed.gz_lowFDR_clusters.bed  \\\n",
        "hnrnpc                                                                                                                                                                                                0.005823                                                                                                             \n",
        "peaks_id70967_rnd100_flank15_fdr0.05_regionAsOne_20090724_LUd3_3_hg19_ensembl59_G_iCLIP_TIAL1_HeLa_bedGraph-cDNA-hits-in-genome.bed.gz_lowFDR_clusters.bed                                            0.024610                                                                                                             \n",
        "peaks_id70970_rnd100_flank15_fdr0.05_regionAsOne_20090724_LUd3_4_hg19_ensembl59_G_iCLIP_TIAL1_HeLa_bedGraph-cDNA-hits-in-genome.bed.gz_lowFDR_clusters.bed                                            0.016017                                                                                                             \n",
        "peaks_id70973_rnd100_flank15_fdr0.05_regionAsOne_20090724_LUd3_5_hg19_ensembl59_G_iCLIP_TIAL1_HeLa_bedGraph-cDNA-hits-in-genome.bed.gz_lowFDR_clusters.bed                                            0.027964                                                                                                             \n",
        "peaks_id70985_rnd100_flank15_fdr0.05_regionAsOne_20090724_LUd4_7_hg19_ensembl59_G_iCLIP_TIAL1_HeLa_bedGraph-cDNA-hits-in-genome.bed.gz_lowFDR_clusters.bed                                            0.030999                                                                                                             \n",
        "peaks_id70988_rnd100_flank15_fdr0.05_regionAsOne_20090724_LUd4_8_hg19_ensembl59_G_iCLIP_TIAL1_HeLa_bedGraph-cDNA-hits-in-genome.bed.gz_lowFDR_clusters.bed                                            0.019676                                                                                                             \n",
        "peaks_id71006_rnd100_flank15_fdr0.05_regionAsOne_20090715_LUh6_1_hg19_ensembl59_G_iCLIP_hnRNPC_HeLa_bedGraph-cDNA-hits-in-genome.bed.gz_lowFDR_clusters.bed                                           0.088596                                                                                                             \n",
        "peaks_id71009_rnd100_flank15_fdr0.05_regionAsOne_20090715_LUh6_2_hg19_ensembl59_G_iCLIP_hnRNPC_HeLa_bedGraph-cDNA-hits-in-genome.bed.gz_lowFDR_clusters.bed                                                NaN                                                                                                             \n",
        "peaks_id71012_rnd100_flank15_fdr0.05_regionAsOne_20090715_LUh6_3_hg19_ensembl59_G_iCLIP_hnRNPC_HeLa_bedGraph-cDNA-hits-in-genome.bed.gz_lowFDR_clusters.bed                                           0.075174                                                                                                             \n",
        "tial1                                                                                                                                                                                                 0.004097                                                                                                             \n",
        "\n",
        "                                                                                                                                                             peaks_id71012_rnd100_flank15_fdr0.05_regionAsOne_20090715_LUh6_3_hg19_ensembl59_G_iCLIP_hnRNPC_HeLa_bedGraph-cDNA-hits-in-genome.bed.gz_lowFDR_clusters.bed  \\\n",
        "hnrnpc                                                                                                                                                                                                0.003276                                                                                                             \n",
        "peaks_id70967_rnd100_flank15_fdr0.05_regionAsOne_20090724_LUd3_3_hg19_ensembl59_G_iCLIP_TIAL1_HeLa_bedGraph-cDNA-hits-in-genome.bed.gz_lowFDR_clusters.bed                                            0.015919                                                                                                             \n",
        "peaks_id70970_rnd100_flank15_fdr0.05_regionAsOne_20090724_LUd3_4_hg19_ensembl59_G_iCLIP_TIAL1_HeLa_bedGraph-cDNA-hits-in-genome.bed.gz_lowFDR_clusters.bed                                            0.009263                                                                                                             \n",
        "peaks_id70973_rnd100_flank15_fdr0.05_regionAsOne_20090724_LUd3_5_hg19_ensembl59_G_iCLIP_TIAL1_HeLa_bedGraph-cDNA-hits-in-genome.bed.gz_lowFDR_clusters.bed                                            0.034735                                                                                                             \n",
        "peaks_id70985_rnd100_flank15_fdr0.05_regionAsOne_20090724_LUd4_7_hg19_ensembl59_G_iCLIP_TIAL1_HeLa_bedGraph-cDNA-hits-in-genome.bed.gz_lowFDR_clusters.bed                                            0.023582                                                                                                             \n",
        "peaks_id70988_rnd100_flank15_fdr0.05_regionAsOne_20090724_LUd4_8_hg19_ensembl59_G_iCLIP_TIAL1_HeLa_bedGraph-cDNA-hits-in-genome.bed.gz_lowFDR_clusters.bed                                            0.029066                                                                                                             \n",
        "peaks_id71006_rnd100_flank15_fdr0.05_regionAsOne_20090715_LUh6_1_hg19_ensembl59_G_iCLIP_hnRNPC_HeLa_bedGraph-cDNA-hits-in-genome.bed.gz_lowFDR_clusters.bed                                           0.061918                                                                                                             \n",
        "peaks_id71009_rnd100_flank15_fdr0.05_regionAsOne_20090715_LUh6_2_hg19_ensembl59_G_iCLIP_hnRNPC_HeLa_bedGraph-cDNA-hits-in-genome.bed.gz_lowFDR_clusters.bed                                           0.075174                                                                                                             \n",
        "peaks_id71012_rnd100_flank15_fdr0.05_regionAsOne_20090715_LUh6_3_hg19_ensembl59_G_iCLIP_hnRNPC_HeLa_bedGraph-cDNA-hits-in-genome.bed.gz_lowFDR_clusters.bed                                                NaN                                                                                                             \n",
        "tial1                                                                                                                                                                                                 0.002376                                                                                                             \n",
        "\n",
        "                                                                                                                                                                tial1  \n",
        "hnrnpc                                                                                                                                                       0.080942  \n",
        "peaks_id70967_rnd100_flank15_fdr0.05_regionAsOne_20090724_LUd3_3_hg19_ensembl59_G_iCLIP_TIAL1_HeLa_bedGraph-cDNA-hits-in-genome.bed.gz_lowFDR_clusters.bed   0.058270  \n",
        "peaks_id70970_rnd100_flank15_fdr0.05_regionAsOne_20090724_LUd3_4_hg19_ensembl59_G_iCLIP_TIAL1_HeLa_bedGraph-cDNA-hits-in-genome.bed.gz_lowFDR_clusters.bed   0.090278  \n",
        "peaks_id70973_rnd100_flank15_fdr0.05_regionAsOne_20090724_LUd3_5_hg19_ensembl59_G_iCLIP_TIAL1_HeLa_bedGraph-cDNA-hits-in-genome.bed.gz_lowFDR_clusters.bed   0.008788  \n",
        "peaks_id70985_rnd100_flank15_fdr0.05_regionAsOne_20090724_LUd4_7_hg19_ensembl59_G_iCLIP_TIAL1_HeLa_bedGraph-cDNA-hits-in-genome.bed.gz_lowFDR_clusters.bed   0.050026  \n",
        "peaks_id70988_rnd100_flank15_fdr0.05_regionAsOne_20090724_LUd4_8_hg19_ensembl59_G_iCLIP_TIAL1_HeLa_bedGraph-cDNA-hits-in-genome.bed.gz_lowFDR_clusters.bed   0.003563  \n",
        "peaks_id71006_rnd100_flank15_fdr0.05_regionAsOne_20090715_LUh6_1_hg19_ensembl59_G_iCLIP_hnRNPC_HeLa_bedGraph-cDNA-hits-in-genome.bed.gz_lowFDR_clusters.bed  0.005994  \n",
        "peaks_id71009_rnd100_flank15_fdr0.05_regionAsOne_20090715_LUh6_2_hg19_ensembl59_G_iCLIP_hnRNPC_HeLa_bedGraph-cDNA-hits-in-genome.bed.gz_lowFDR_clusters.bed  0.004097  \n",
        "peaks_id71012_rnd100_flank15_fdr0.05_regionAsOne_20090715_LUh6_3_hg19_ensembl59_G_iCLIP_hnRNPC_HeLa_bedGraph-cDNA-hits-in-genome.bed.gz_lowFDR_clusters.bed  0.002376  \n",
        "tial1                                                                                                                                                             NaN  \n",
        "\n",
        "[10 rows x 10 columns]"
       ]
      }
     ],
     "prompt_number": 165
    },
    {
     "cell_type": "markdown",
     "metadata": {},
     "source": [
      "Look at highly overlapping sites and see if highly overlapping sites are likely to have GCAUG sites\n",
      "Look at \n",
      "\n",
      "Tell Balaji to try fox2 293t iclip + replicates of direct ip-seq.  \n",
      "Eric also needs to do reps \n",
      "\n",
      "Joint binding distirbutions poissibly splicing correlations\n",
      "\n",
      "IDR + The other figures I've discussed, Motifs, and motif distributions.\n",
      "\n",
      "QC for Public datasets "
     ]
    }
   ],
   "metadata": {}
  }
 ]
}