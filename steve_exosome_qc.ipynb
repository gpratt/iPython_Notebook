{
 "metadata": {
  "name": ""
 },
 "nbformat": 3,
 "nbformat_minor": 0,
 "worksheets": [
  {
   "cells": [
    {
     "cell_type": "code",
     "collapsed": false,
     "input": [
      "from IPython.core.display import HTML\n",
      "from gscripts.general import parsers"
     ],
     "language": "python",
     "metadata": {},
     "outputs": [],
     "prompt_number": 5
    },
    {
     "cell_type": "code",
     "collapsed": false,
     "input": [
      "steven_df = parsers.rnaseq_metrics(\"/nas3/gpratt/projects/steven/analysis/steven_rnaseq_v1/\")"
     ],
     "language": "python",
     "metadata": {},
     "outputs": [],
     "prompt_number": 3
    },
    {
     "cell_type": "code",
     "collapsed": false,
     "input": [
      "parsers.rnaseq_metrics??"
     ],
     "language": "python",
     "metadata": {},
     "outputs": [],
     "prompt_number": 9
    },
    {
     "cell_type": "code",
     "collapsed": false,
     "input": [
      "def percentage(x):\n",
      "    return \"{:2%}\".format(x)"
     ],
     "language": "python",
     "metadata": {},
     "outputs": [],
     "prompt_number": 10
    },
    {
     "cell_type": "code",
     "collapsed": false,
     "input": [
      "steven_df[\"Reads After Triming\"] = steven_df['Processed reads'] - steven_df['Too short reads']\n",
      "\n",
      "filtered_df = steven_df[[ \"Processed reads\",\n",
      "                            \"Reads After Triming\",\n",
      "                            \"Number of input reads\", \n",
      "                            \"Uniquely mapped reads number\",\n",
      "                            \"Uniquely mapped reads %\",\n",
      "                            #\"Usable Reads\",\n",
      "                            #\"spot\",\n",
      "                            #\"Num Peaks\"\n",
      "                            ]]\n",
      "\n",
      "filtered_df[\"Primer Dimmer %\"] = 1 - (filtered_df['Reads After Triming'] / filtered_df['Processed reads'])\n",
      "HTML(filtered_df.to_html(formatters={\"Processed reads\" : parsers.commas,\n",
      "                                     \"Reads After Triming\" : parsers.commas,\n",
      "                                     \"Number of input reads\" : parsers.commas,\n",
      "                                     \"Uniquely mapped reads number\" : parsers.commas,\n",
      "                                     \"Primer Dimmer %\" : percentage,\n",
      "                                     #\"Usable Reads\" : parsers.commas,\n",
      "                                     #\"Num Peaks\": parsers.commas\n",
      "                                     } ))"
     ],
     "language": "python",
     "metadata": {},
     "outputs": [
      {
       "html": [
        "<table border=\"1\" class=\"dataframe\">\n",
        "  <thead>\n",
        "    <tr style=\"text-align: right;\">\n",
        "      <th></th>\n",
        "      <th>Processed reads</th>\n",
        "      <th>Reads After Triming</th>\n",
        "      <th>Number of input reads</th>\n",
        "      <th>Uniquely mapped reads number</th>\n",
        "      <th>Uniquely mapped reads %</th>\n",
        "      <th>Primer Dimmer %</th>\n",
        "    </tr>\n",
        "  </thead>\n",
        "  <tbody>\n",
        "    <tr>\n",
        "      <th>1_S1_L001_R1_001</th>\n",
        "      <td>  370,921</td>\n",
        "      <td>   44,527</td>\n",
        "      <td>    44,395</td>\n",
        "      <td>    570</td>\n",
        "      <td> 1.28%</td>\n",
        "      <td>87.995557%</td>\n",
        "    </tr>\n",
        "    <tr>\n",
        "      <th>2_S2_L001_R1_001</th>\n",
        "      <td>  218,345</td>\n",
        "      <td>   39,758</td>\n",
        "      <td>    39,682</td>\n",
        "      <td>    463</td>\n",
        "      <td> 1.17%</td>\n",
        "      <td>81.791202%</td>\n",
        "    </tr>\n",
        "    <tr>\n",
        "      <th>3_S3_L001_R1_001</th>\n",
        "      <td>  122,191</td>\n",
        "      <td>   27,402</td>\n",
        "      <td>    27,166</td>\n",
        "      <td>    220</td>\n",
        "      <td> 0.81%</td>\n",
        "      <td>77.574453%</td>\n",
        "    </tr>\n",
        "    <tr>\n",
        "      <th>4_S4_L001_R1_001</th>\n",
        "      <td>  119,726</td>\n",
        "      <td>   28,815</td>\n",
        "      <td>    28,784</td>\n",
        "      <td>    100</td>\n",
        "      <td> 0.35%</td>\n",
        "      <td>75.932546%</td>\n",
        "    </tr>\n",
        "    <tr>\n",
        "      <th>5_S5_L001_R1_001</th>\n",
        "      <td>2,827,174</td>\n",
        "      <td>2,826,247</td>\n",
        "      <td> 2,825,380</td>\n",
        "      <td>  4,482</td>\n",
        "      <td> 0.16%</td>\n",
        "      <td> 0.032789%</td>\n",
        "    </tr>\n",
        "    <tr>\n",
        "      <th>6_S6_L001_R1_001</th>\n",
        "      <td>1,010,484</td>\n",
        "      <td>1,010,352</td>\n",
        "      <td> 1,010,073</td>\n",
        "      <td>  1,635</td>\n",
        "      <td> 0.16%</td>\n",
        "      <td> 0.013063%</td>\n",
        "    </tr>\n",
        "    <tr>\n",
        "      <th>7_S7_L001_R1_001</th>\n",
        "      <td>   45,021</td>\n",
        "      <td>   44,967</td>\n",
        "      <td>    44,901</td>\n",
        "      <td>  1,690</td>\n",
        "      <td> 3.76%</td>\n",
        "      <td> 0.119944%</td>\n",
        "    </tr>\n",
        "    <tr>\n",
        "      <th>8_S8_L001_R1_001</th>\n",
        "      <td>  926,910</td>\n",
        "      <td>  916,655</td>\n",
        "      <td>   899,926</td>\n",
        "      <td> 14,676</td>\n",
        "      <td> 1.63%</td>\n",
        "      <td> 1.106364%</td>\n",
        "    </tr>\n",
        "  </tbody>\n",
        "</table>"
       ],
       "metadata": {},
       "output_type": "pyout",
       "prompt_number": 12,
       "text": [
        "<IPython.core.display.HTML at 0x13894fd0>"
       ]
      }
     ],
     "prompt_number": 12
    },
    {
     "cell_type": "markdown",
     "metadata": {},
     "source": [
      "Data Description\n",
      "----------------\n",
      "\n",
      "1. Sample Labeled 1-4 are full length mRNA libraries\n",
      "2. Samples Labeled 5-8 are small RNA libararies\n",
      "\n",
      "Conclusions\n",
      "--------\n",
      "\n",
      "There aren't enough reads mapped to justify re-sequecing this library, I'm guessing there is a technical error on the wetlab side\n",
      "\n",
      "However there is an interesting failaure here. The full length mRNA libraries failled at the trimming step, indicating that there may be entirely primer dimmers.  A check of fastqc shows that raw fastq files are of high quality, so the error is likely primer dimmers at the trimming step.\n",
      "\n",
      "The small RNA libraries do not have the trimming issue, but fail to map.  This failaure could be an error on my part to include the proper adapter sequences (most likely) or some random contaminant getting included that was over sequenced.  "
     ]
    },
    {
     "cell_type": "code",
     "collapsed": false,
     "input": [],
     "language": "python",
     "metadata": {},
     "outputs": []
    }
   ],
   "metadata": {}
  }
 ]
}