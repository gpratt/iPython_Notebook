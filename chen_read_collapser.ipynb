{
 "metadata": {
  "name": ""
 },
 "nbformat": 3,
 "nbformat_minor": 0,
 "worksheets": [
  {
   "cells": [
    {
     "cell_type": "code",
     "collapsed": false,
     "input": [
      "cd /nas3/gpratt/projects/chen_ago/v2_good/fastq"
     ],
     "language": "python",
     "metadata": {},
     "outputs": [
      {
       "output_type": "stream",
       "stream": "stdout",
       "text": [
        "/nas/nas0/gpratt/projects/chen_ago/v2_good/fastq\n"
       ]
      }
     ],
     "prompt_number": 10
    },
    {
     "cell_type": "code",
     "collapsed": false,
     "input": [
      "fastqs = !ls *.fastq"
     ],
     "language": "python",
     "metadata": {},
     "outputs": [],
     "prompt_number": 27
    },
    {
     "cell_type": "code",
     "collapsed": false,
     "input": [
      "from collections import Counter, defaultdict\n",
      "from Bio import SeqIO"
     ],
     "language": "python",
     "metadata": {},
     "outputs": [],
     "prompt_number": 11
    },
    {
     "cell_type": "code",
     "collapsed": false,
     "input": [
      "for name in fastqs:\n",
      "    read_counts = Counter()\n",
      "    duplicate = defaultdict(set)\n",
      "    with open(name) as reads:\n",
      "        while True:\n",
      "            try:\n",
      "                read_name = reads.next().strip()\n",
      "                barcode = read_name.split(\":\")[0]\n",
      "                seq = reads.next().strip()\n",
      "                reads.next()\n",
      "                qual = reads.next().strip()\n",
      "                if barcode not in duplicate[seq]:\n",
      "                    read_counts[seq] += 1\n",
      "                duplicate[seq].add(barcode)\n",
      "                \n",
      "            except StopIteration:\n",
      "                break\n",
      "            \n",
      "            \n",
      "    with open(name + \".collapsed.fasta\", 'w') as outfile:\n",
      "        for x, (read, count) in enumerate(read_counts.items()):\n",
      "            outfile.write(\">%s_%s_%s\\n\" % (name, x, count))\n",
      "            outfile.write(read + \"\\n\")"
     ],
     "language": "python",
     "metadata": {},
     "outputs": [],
     "prompt_number": 32
    }
   ],
   "metadata": {}
  }
 ]
}