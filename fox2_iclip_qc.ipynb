{
 "metadata": {
  "name": "",
  "signature": "sha256:9dd828bd95a0c82418ffd9182d97e80004e9492b52c013c87e4e343239ae7029"
 },
 "nbformat": 3,
 "nbformat_minor": 0,
 "worksheets": [
  {
   "cells": [
    {
     "cell_type": "code",
     "collapsed": false,
     "input": [
      "import cPickle as pickle\n",
      "from collections import defaultdict, OrderedDict\n",
      "from clipper.src.CLIP_analysis import assign_to_regions\n",
      "import pybedtools\n",
      "\n",
      "from gscripts.general.dataviz import Figure\n",
      "from gscripts.general import parsers\n",
      "from IPython.core.display import HTML"
     ],
     "language": "python",
     "metadata": {},
     "outputs": [],
     "prompt_number": 12
    },
    {
     "cell_type": "code",
     "collapsed": false,
     "input": [
      "reload(parsers)"
     ],
     "language": "python",
     "metadata": {},
     "outputs": [
      {
       "metadata": {},
       "output_type": "pyout",
       "prompt_number": 7,
       "text": [
        "<module 'gscripts.general.parsers' from '/nas/nas0/gpratt/virtualenvs/default/lib/python2.7/site-packages/gscripts-0.1.6-py2.7.egg/gscripts/general/parsers.pyc'>"
       ]
      }
     ],
     "prompt_number": 7
    },
    {
     "cell_type": "code",
     "collapsed": false,
     "input": [
      "ensembl_regions= OrderedDict()\n",
      "ensembl_regions[\"cds\"] = \"Exon\"\n",
      "ensembl_regions[\"three_prime_utrs\"] = \"3' UTR\"\n",
      "ensembl_regions[\"five_prime_utrs\"] = \"5' UTR\"\n",
      "ensembl_regions[\"proxintron500\"] = \"Proximal\\nIntron\"\n",
      "ensembl_regions[\"distintron500\"] = \"Distal\\nIntron\""
     ],
     "language": "python",
     "metadata": {},
     "outputs": [],
     "prompt_number": 7
    },
    {
     "cell_type": "code",
     "collapsed": false,
     "input": [
      "combined_df = parsers.clipseq_metrics(\"/nas3/gpratt/projects/fox2_iclip/analysis/v3\", iclip=True)"
     ],
     "language": "python",
     "metadata": {},
     "outputs": [
      {
       "output_type": "stream",
       "stream": "stdout",
       "text": [
        "<closed file '/nas3/gpratt/projects/fox2_iclip/analysis/v3/L2_NoIndex_L003_R1.R07_highRNAse_L.polyATrim.adapterTrim.metrics', mode 'r' at 0x5f264b0>\n",
        "<closed file '/nas3/gpratt/projects/fox2_iclip/analysis/v3/L2_NoIndex_L003_R1.R12_lowRNAse_L_1.polyATrim.adapterTrim.metrics', mode 'r' at 0x5f264b0>\n",
        "<closed file '/nas3/gpratt/projects/fox2_iclip/analysis/v3/M2_NoIndex_L002_R1.R07_highRNAse_M.polyATrim.adapterTrim.metrics', mode 'r' at 0x5f264b0>\n",
        "<closed file '/nas3/gpratt/projects/fox2_iclip/analysis/v3/M2_NoIndex_L002_R1.R10_lowRNAse_M_2.polyATrim.adapterTrim.metrics', mode 'r' at 0x5f264b0>\n",
        "<closed file '/nas3/gpratt/projects/fox2_iclip/analysis/v3/M2_NoIndex_L002_R1.R12_lowRNAse_M_1.polyATrim.adapterTrim.metrics', mode 'r' at 0x5f264b0>\n",
        "<closed file '/nas3/gpratt/projects/fox2_iclip/analysis/v3/H2_NoIndex_L001_R1.R07_highRNAse_H.polyATrim.adapterTrim.metrics', mode 'r' at 0x5f264b0>\n",
        "<closed file '/nas3/gpratt/projects/fox2_iclip/analysis/v3/H2_NoIndex_L001_R1.R12_lowRNAse_H_1.polyATrim.adapterTrim.metrics', mode 'r' at 0x5f264b0>\n",
        "<closed file '/nas3/gpratt/projects/fox2_iclip/analysis/v3/L2_NoIndex_L003_R1.R10_lowRNAse_L_2.polyATrim.adapterTrim.metrics', mode 'r' at 0x5f264b0>\n"
       ]
      }
     ],
     "prompt_number": 8
    },
    {
     "cell_type": "code",
     "collapsed": false,
     "input": [
      "filtered_df = combined_df[[\"Input Reads\",\n",
      "                            #\"Reads After Triming\",\n",
      "                            \"Reads Passing Quality Filter\", \n",
      "                            \"Uniquely Mapped Reads\",\n",
      "                            \"Usable Reads\",\n",
      "                            #\"Num Peaks\"\n",
      "                            ]]\n",
      "\n",
      "HTML(filtered_df.to_html(formatters= {column : parsers.commas for column in filtered_df.columns}))"
     ],
     "language": "python",
     "metadata": {},
     "outputs": [
      {
       "html": [
        "<table border=\"1\" class=\"dataframe\">\n",
        "  <thead>\n",
        "    <tr style=\"text-align: right;\">\n",
        "      <th></th>\n",
        "      <th>Input Reads</th>\n",
        "      <th>Reads Passing Quality Filter</th>\n",
        "      <th>Uniquely Mapped Reads</th>\n",
        "      <th>Usable Reads</th>\n",
        "    </tr>\n",
        "  </thead>\n",
        "  <tbody>\n",
        "    <tr>\n",
        "      <th>F1_CLIP_BS_NoIndex_L007_R1.polyATrim</th>\n",
        "      <td>146,894,220</td>\n",
        "      <td> 113,591,928</td>\n",
        "      <td> 44,604,559</td>\n",
        "      <td>  236,058</td>\n",
        "    </tr>\n",
        "    <tr>\n",
        "      <th>F3_CLIP_BS_NoIndex_L008_R1.polyATrim</th>\n",
        "      <td>160,064,644</td>\n",
        "      <td> 141,148,819</td>\n",
        "      <td> 34,891,841</td>\n",
        "      <td>  515,185</td>\n",
        "    </tr>\n",
        "    <tr>\n",
        "      <th>H2_NoIndex_L001_R1.R07_high</th>\n",
        "      <td>126,683,898</td>\n",
        "      <td>  52,881,061</td>\n",
        "      <td> 22,383,667</td>\n",
        "      <td>  760,373</td>\n",
        "    </tr>\n",
        "    <tr>\n",
        "      <th>H2_NoIndex_L001_R1.R07_highRNAse_H</th>\n",
        "      <td>          0</td>\n",
        "      <td>         NaN</td>\n",
        "      <td>        NaN</td>\n",
        "      <td>        0</td>\n",
        "    </tr>\n",
        "    <tr>\n",
        "      <th>H2_NoIndex_L001_R1.R10_low1</th>\n",
        "      <td> 21,874,724</td>\n",
        "      <td>  19,541,337</td>\n",
        "      <td> 14,611,962</td>\n",
        "      <td>  813,053</td>\n",
        "    </tr>\n",
        "    <tr>\n",
        "      <th>H2_NoIndex_L001_R1.R10_lowRNAse_H_2</th>\n",
        "      <td> 21,874,724</td>\n",
        "      <td>  19,541,337</td>\n",
        "      <td> 14,611,962</td>\n",
        "      <td>  813,053</td>\n",
        "    </tr>\n",
        "    <tr>\n",
        "      <th>H2_NoIndex_L001_R1.R12_low2</th>\n",
        "      <td>112,120,785</td>\n",
        "      <td>  98,181,386</td>\n",
        "      <td> 78,346,231</td>\n",
        "      <td>4,589,875</td>\n",
        "    </tr>\n",
        "    <tr>\n",
        "      <th>H2_NoIndex_L001_R1.R12_lowRNAse_H_1</th>\n",
        "      <td>          0</td>\n",
        "      <td>         NaN</td>\n",
        "      <td>        NaN</td>\n",
        "      <td>        0</td>\n",
        "    </tr>\n",
        "    <tr>\n",
        "      <th>L2_NoIndex_L003_R1.R07_high</th>\n",
        "      <td>117,663,794</td>\n",
        "      <td> 113,469,117</td>\n",
        "      <td>    395,704</td>\n",
        "      <td>  283,361</td>\n",
        "    </tr>\n",
        "    <tr>\n",
        "      <th>L2_NoIndex_L003_R1.R07_highRNAse_L</th>\n",
        "      <td>          0</td>\n",
        "      <td>         NaN</td>\n",
        "      <td>        NaN</td>\n",
        "      <td>        0</td>\n",
        "    </tr>\n",
        "    <tr>\n",
        "      <th>L2_NoIndex_L003_R1.R10_low1</th>\n",
        "      <td> 16,954,012</td>\n",
        "      <td>  16,605,368</td>\n",
        "      <td>    125,720</td>\n",
        "      <td>  107,792</td>\n",
        "    </tr>\n",
        "    <tr>\n",
        "      <th>L2_NoIndex_L003_R1.R10_lowRNAse_L_2</th>\n",
        "      <td>          0</td>\n",
        "      <td>         NaN</td>\n",
        "      <td>        NaN</td>\n",
        "      <td>        0</td>\n",
        "    </tr>\n",
        "    <tr>\n",
        "      <th>L2_NoIndex_L003_R1.R12_low2</th>\n",
        "      <td>117,152,683</td>\n",
        "      <td> 112,769,334</td>\n",
        "      <td>    878,718</td>\n",
        "      <td>  737,949</td>\n",
        "    </tr>\n",
        "    <tr>\n",
        "      <th>L2_NoIndex_L003_R1.R12_lowRNAse_L_1</th>\n",
        "      <td>          0</td>\n",
        "      <td>         NaN</td>\n",
        "      <td>        NaN</td>\n",
        "      <td>        0</td>\n",
        "    </tr>\n",
        "    <tr>\n",
        "      <th>M2_NoIndex_L002_R1.R07_high</th>\n",
        "      <td>129,289,569</td>\n",
        "      <td> 111,100,107</td>\n",
        "      <td> 23,626,912</td>\n",
        "      <td>  645,984</td>\n",
        "    </tr>\n",
        "    <tr>\n",
        "      <th>M2_NoIndex_L002_R1.R07_highRNAse_M</th>\n",
        "      <td>          0</td>\n",
        "      <td>         NaN</td>\n",
        "      <td>        NaN</td>\n",
        "      <td>        0</td>\n",
        "    </tr>\n",
        "    <tr>\n",
        "      <th>M2_NoIndex_L002_R1.R10_low1</th>\n",
        "      <td> 22,648,473</td>\n",
        "      <td>  21,711,777</td>\n",
        "      <td>  8,444,115</td>\n",
        "      <td>  569,325</td>\n",
        "    </tr>\n",
        "    <tr>\n",
        "      <th>M2_NoIndex_L002_R1.R10_lowRNAse_M_2</th>\n",
        "      <td>          0</td>\n",
        "      <td>         NaN</td>\n",
        "      <td>        NaN</td>\n",
        "      <td>        0</td>\n",
        "    </tr>\n",
        "    <tr>\n",
        "      <th>M2_NoIndex_L002_R1.R12_low2</th>\n",
        "      <td>124,320,492</td>\n",
        "      <td> 116,625,725</td>\n",
        "      <td> 44,135,538</td>\n",
        "      <td>3,187,390</td>\n",
        "    </tr>\n",
        "    <tr>\n",
        "      <th>M2_NoIndex_L002_R1.R12_lowRNAse_M_1</th>\n",
        "      <td>          0</td>\n",
        "      <td>         NaN</td>\n",
        "      <td>        NaN</td>\n",
        "      <td>        0</td>\n",
        "    </tr>\n",
        "  </tbody>\n",
        "</table>"
       ],
       "metadata": {},
       "output_type": "pyout",
       "prompt_number": 13,
       "text": [
        "<IPython.core.display.HTML at 0x2aaaac126ad0>"
       ]
      }
     ],
     "prompt_number": 13
    },
    {
     "cell_type": "code",
     "collapsed": false,
     "input": [
      "1.0/pow(4,5)"
     ],
     "language": "python",
     "metadata": {},
     "outputs": [
      {
       "metadata": {},
       "output_type": "pyout",
       "prompt_number": 15,
       "text": [
        "0.0009765625"
       ]
      }
     ],
     "prompt_number": 15
    },
    {
     "cell_type": "code",
     "collapsed": false,
     "input": [
      "from itertools import combinations\n",
      "\n",
      "p_match = 1/16.0\n",
      "p_no_match = 15.0/ 16"
     ],
     "language": "python",
     "metadata": {},
     "outputs": [],
     "prompt_number": 24
    },
    {
     "cell_type": "code",
     "collapsed": false,
     "input": [
      "pow(p_no_match, 4)"
     ],
     "language": "python",
     "metadata": {},
     "outputs": [
      {
       "metadata": {},
       "output_type": "pyout",
       "prompt_number": 26,
       "text": [
        "0.7724761962890625"
       ]
      }
     ],
     "prompt_number": 26
    },
    {
     "cell_type": "markdown",
     "metadata": {},
     "source": [
      "#Probably of hamming distance of n, given uniform distribution of reads"
     ]
    },
    {
     "cell_type": "code",
     "collapsed": false,
     "input": [
      "m1 = pow(p_no_match, 5)"
     ],
     "language": "python",
     "metadata": {},
     "outputs": [],
     "prompt_number": 37
    },
    {
     "cell_type": "code",
     "collapsed": false,
     "input": [
      "m2 = len(list(combinations(range(5), 1))) * (p_match * pow(p_no_match, 4))"
     ],
     "language": "python",
     "metadata": {},
     "outputs": [],
     "prompt_number": 38
    },
    {
     "cell_type": "code",
     "collapsed": false,
     "input": [
      "m3 = len(list(combinations(range(5), 2))) * (pow(p_match, 2) * pow(p_no_match, 3))"
     ],
     "language": "python",
     "metadata": {},
     "outputs": [],
     "prompt_number": 39
    },
    {
     "cell_type": "code",
     "collapsed": false,
     "input": [
      "m4 = len(list(combinations(range(5), 3)))  * (pow(p_match, 3) * pow(p_no_match, 2))"
     ],
     "language": "python",
     "metadata": {},
     "outputs": [],
     "prompt_number": 40
    },
    {
     "cell_type": "code",
     "collapsed": false,
     "input": [
      "m5 = len(list(combinations(range(5), 4))) * (pow(p_match, 4) * pow(p_no_match, 1))"
     ],
     "language": "python",
     "metadata": {},
     "outputs": [],
     "prompt_number": 41
    },
    {
     "cell_type": "code",
     "collapsed": false,
     "input": [
      "m6 = len(list(combinations(range(5), 5))) * (pow(p_match, 5))"
     ],
     "language": "python",
     "metadata": {},
     "outputs": [],
     "prompt_number": 42
    },
    {
     "cell_type": "code",
     "collapsed": false,
     "input": [
      "m1 + m2 + m3 + m4 + m5 + m6"
     ],
     "language": "python",
     "metadata": {},
     "outputs": [
      {
       "metadata": {},
       "output_type": "pyout",
       "prompt_number": 43,
       "text": [
        "1.0"
       ]
      }
     ],
     "prompt_number": 43
    },
    {
     "cell_type": "code",
     "collapsed": false,
     "input": [
      "m3"
     ],
     "language": "python",
     "metadata": {},
     "outputs": [
      {
       "metadata": {},
       "output_type": "pyout",
       "prompt_number": 117,
       "text": [
        "0.03218650817871094"
       ]
      }
     ],
     "prompt_number": 117
    },
    {
     "cell_type": "code",
     "collapsed": false,
     "input": [
      "m4"
     ],
     "language": "python",
     "metadata": {},
     "outputs": [
      {
       "metadata": {},
       "output_type": "pyout",
       "prompt_number": 116,
       "text": [
        "0.0021457672119140625"
       ]
      }
     ],
     "prompt_number": 116
    },
    {
     "cell_type": "code",
     "collapsed": false,
     "input": [
      "m5"
     ],
     "language": "python",
     "metadata": {},
     "outputs": [
      {
       "metadata": {},
       "output_type": "pyout",
       "prompt_number": 115,
       "text": [
        "7.152557373046875e-05"
       ]
      }
     ],
     "prompt_number": 115
    },
    {
     "cell_type": "code",
     "collapsed": false,
     "input": [
      "m6"
     ],
     "language": "python",
     "metadata": {},
     "outputs": [
      {
       "metadata": {},
       "output_type": "pyout",
       "prompt_number": 114,
       "text": [
        "9.5367431640625e-07"
       ]
      }
     ],
     "prompt_number": 114
    },
    {
     "cell_type": "code",
     "collapsed": false,
     "input": [
      "import pysam"
     ],
     "language": "python",
     "metadata": {},
     "outputs": [],
     "prompt_number": 45
    },
    {
     "cell_type": "code",
     "collapsed": false,
     "input": [
      "sam = pysam.Samfile(\"/nas3/gpratt/projects/fox2_iclip/analysis/v3/M2_NoIndex_L002_R1.R07_high.polyATrim.adapterTrim.rmRep.rg.sorted.rmDup.sorted.bam\")"
     ],
     "language": "python",
     "metadata": {},
     "outputs": [],
     "prompt_number": 64
    },
    {
     "cell_type": "code",
     "collapsed": false,
     "input": [
      "for count, read in enumerate(sam):\n",
      "    print read\n",
      "    if count == 10:\n",
      "        break"
     ],
     "language": "python",
     "metadata": {},
     "outputs": [
      {
       "output_type": "stream",
       "stream": "stdout",
       "text": [
        "HWI-ST1001:205:C1P5HACXX:7:2206:9084:99194\t16\t0\t119623\t255\t[(0, 51)]\t-1\t-1\t51\tGAAAGAAGTTTAATTGGCTCACCGTTCAGCACAGGTTGGAAGGCCTCAGGA\t?*DD?D?0*?B9*?0**)):1))A9+9+4<3+;@3?:::2++222+44111\t[('RG', '1'), ('NH', 1), ('HI', 1), ('jI', [-1]), ('jM', [-1]), ('nM', 2), ('AS', 46)]\n",
        "HWI-ST1001:205:C1P5HACXX:7:2116:17558:20234\t16\t0\t168341\t255\t[(4, 14), (0, 37)]\t-1\t-1\t51\tAAGACGGCATACGAAGAGAAGCTGAAAAGCAGGAGGGCAGAAAAGCTCAAT\tJJJJJJJIIJIJJJJJIJJIJJJIJJJJJJJJJJJJJJHHHHHDA2FDCB@\t[('RG', '1'), ('NH', 1), ('HI', 1), ('jI', [-1]), ('jM', [-1]), ('nM', 0), ('AS', 36)]\n",
        "HWI-ST1001:205:C1P5HACXX:7:1109:13648:8240\t16\t0\t371970\t255\t[(0, 13), (3, 194238), (0, 37), (4, 1)]\t-1\t-1\t51\tTGTTTGAGATTTTTTAAACCCACAAACACTTAGTTAACAGCTAAGCACCCA\tBB3D??8ED?B?*:DC::ECD;CAIFC<CFEA3<<++A2DD<=++044111\t[('RG', '1'), ('NH', 1), ('HI', 1), ('jI', [371984, 566221]), ('jM', [0]), ('nM', 0), ('AS', 38)]\n",
        "HWI-ST1001:205:C1P5HACXX:7:2116:1413:10285\t16\t0\t372819\t255\t[(0, 13), (3, 193389), (0, 38)]\t-1\t-1\t51\tTGTTTGTTATTTTTTAAACCCACAAACACTTAGTTAACAGCTAAGCACCCT\tB<B?9***9AAB?BBAAAAAA?ABBB?=A=9BA7<CCBBC<,@=;?AA=:+\t[('RG', '1'), ('NH', 1), ('HI', 1), ('jI', [372833, 566221]), ('jM', [2]), ('nM', 0), ('AS', 47)]\n",
        "HWI-ST1001:205:C1P5HACXX:7:1214:16376:38084\t0\t0\t567004\t255\t[(0, 51)]\t-1\t-1\t51\tCGTCTGATGCGTCCTAATCACAGCAGTCTTACTTCTCCTATCTCTCCCAGT\t111<<AAA+2<<)2<??@+A?+<2+2:**11@AB*?**0:?7?A4<>>AA>\t[('RG', '1'), ('NH', 1), ('HI', 1), ('jI', [-1]), ('jM', [-1]), ('nM', 1), ('AS', 48)]\n",
        "HWI-ST1001:205:C1P5HACXX:7:2211:9720:71288\t0\t0\t567005\t255\t[(4, 1), (0, 50)]\t-1\t-1\t51\tAGTCTGATCCGTCCTAATCACAGCAGGCTTACTTCTCCTATCTCTCCCAGT\t+11<1++,@@=?C7+,<>A?++7+2++1):*1**:*1?A>A?=?<>B;=3A\t[('RG', '1'), ('NH', 1), ('HI', 1), ('jI', [-1]), ('jM', [-1]), ('nM', 1), ('AS', 47)]\n",
        "HWI-ST1001:205:C1P5HACXX:7:2309:21154:93549\t16\t0\t567705\t255\t[(0, 9), (3, 202359), (0, 13)]\t-1\t-1\t22\tTTCATCGGCGCACGAGCCGAGT\t???==92(3-(0(<??@??<<;\t[('RG', '1'), ('NH', 1), ('HI', 1), ('jI', [567715, 770073]), ('jM', [1]), ('nM', 1), ('AS', 16)]\n",
        "HWI-ST1001:205:C1P5HACXX:7:1315:5178:44323\t0\t0\t567737\t255\t[(0, 51)]\t-1\t-1\t51\tACACTTTCTCGGCCTATCCGGAATGCCCCGACGTTACTCGGACTATCCCGA\t@CCFFFFFFHHFFJIIGIJJJEIJIIIIJHBHIJEHCGGIJJJJJAHHHHF\t[('RG', '1'), ('NH', 1), ('HI', 1), ('jI', [-1]), ('jM', [-1]), ('nM', 0), ('AS', 50)]\n",
        "HWI-ST1001:205:C1P5HACXX:7:1214:11896:49193\t0\t0\t567798\t255\t[(0, 50), (4, 1)]\t-1\t-1\t51\tACATGAAATATCCTATAATCTGTAGGCTCATTCATTTCTCTAACAGCAGTC\t;<<?@?@?)6))22@))23:=><)@@<?><>=.>=??=><??=???3=>6=\t[('RG', '1'), ('NH', 1), ('HI', 1), ('jI', [-1]), ('jM', [-1]), ('nM', 1), ('AS', 47)]\n",
        "HWI-ST1001:205:C1P5HACXX:7:1113:1549:55990\t0\t0\t568542\t255\t[(0, 34), (4, 3)]\t-1\t-1\t37\tTTGACGTTGACAATTGAGTAGTACTCCCGGTTGATCG\t+==+2A2?AA7ACC?7<+ACB,A3?A22<)@8?*???\t[('RG', '1'), ('NH', 1), ('HI', 1), ('jI', [-1]), ('jM', [-1]), ('nM', 1), ('AS', 31)]\n",
        "HWI-ST1001:205:C1P5HACXX:7:2306:6529:61608\t0\t0\t569054\t255\t[(0, 51)]\t-1\t-1\t51\tTAACAAACCCTGAGAACCAAAATGAACGAAAATCTGCTCACTTCATTCATT\tCCCFFFFFHHHHHJJJJJJJJJJJJJIJJJJIJJJJJJJ@GHIJJJJJJJJ\t[('RG', '1'), ('NH', 1), ('HI', 1), ('jI', [-1]), ('jM', [-1]), ('nM', 1), ('AS', 48)]\n"
       ]
      }
     ],
     "prompt_number": 89
    },
    {
     "cell_type": "code",
     "collapsed": false,
     "input": [
      "reads = sam.fetch(reference=\"chr1\", start=225689684, end=225689860)\n",
      "for read in reads:\n",
      "    cigar = read.cigar\n",
      "    if not read.is_reverse:\n",
      "        code, num_bases = cigar[0]\n",
      "        if num_bases == 1 and code == 4:\n",
      "            cigar.pop(0)\n",
      "            code, num_good_bases = cigar[0]\n",
      "            cigar[-1] = (code, num_good_bases + num_bases)\n",
      "            read.pos = read.pos - 1\n",
      "    else:\n",
      "        code, num_bases = cigar[-1]\n",
      "        if num_bases == 1 and code == 4: #softclip at the end, get rid of it\n",
      "            cigar.pop()\n",
      "            code, num_good_bases = cigar[-1]\n",
      "            cigar[-1] = (code, num_good_bases + num_bases)\n",
      "            \n",
      "    read.cigar = cigar"
     ],
     "language": "python",
     "metadata": {},
     "outputs": [
      {
       "output_type": "stream",
       "stream": "stdout",
       "text": [
        "225693956 HWI-ST1001 [(0, 8), (3, 21918), (0, 38)]\n",
        "@F?9909DB?::::11:*DF?C??C+CA?GCG@DD8CDA1?=A?<?\n"
       ]
      }
     ],
     "prompt_number": 87
    },
    {
     "cell_type": "code",
     "collapsed": false,
     "input": [
      "read.pos"
     ],
     "language": "python",
     "metadata": {},
     "outputs": [
      {
       "metadata": {},
       "output_type": "pyout",
       "prompt_number": 86,
       "text": [
        "11968294"
       ]
      }
     ],
     "prompt_number": 86
    },
    {
     "cell_type": "code",
     "collapsed": false,
     "input": [
      "sam = pysam.Samfile(\"/nas3/gpratt/projects/fox2_iclip/analysis/v3/F1_CLIP_BS_NoIndex_L007_R1.polyATrim.adapterTrim.rmRep.rg.sorted.rmDup.sorted.bam\")\n",
      "reads = sam.fetch(reference=\"chr1\", start=11968279, end=11968315)\n",
      "for read in reads:\n",
      "    print read.positions[-1], read.qname.split(\":\")[0], read.cigar\n",
      "    print read\n",
      "    #print read.qqual"
     ],
     "language": "python",
     "metadata": {},
     "outputs": [
      {
       "output_type": "stream",
       "stream": "stdout",
       "text": [
        "11994776 HWI-ST1001 [(0, 8), (3, 35751), (0, 14)]\n",
        "HWI-ST1001:205:C1P5HACXX:7:1101:19398:19170\t0\t0\t11959004\t255\t[(0, 8), (3, 35751), (0, 14)]\t-1\t-1\t22\tTGCCCGGGCTGCGGCCCCGTCG\t111=D==)<0)2<)1?CD688?\t[('RG', '1'), ('NH', 1), ('HI', 1), ('jI', [11959013, 11994763]), ('jM', [2]), ('nM', 0), ('AS', 18)]\n",
        "11968295 HWI-ST1001 [(0, 46)]\n",
        "HWI-ST1001:205:C1P5HACXX:7:2114:2995:88164\t0\t0\t11968250\t255\t[(0, 46)]\t-1\t-1\t46\tTACTAAAGATTTCCGTGGAGAGGAACGAGTGTGAGTCTGAAACCAA\t@@BFFFFFGHHHHJJIJJIJIJIJJJJIJFHGGHIFIIIGIJIGHI\t[('RG', '1'), ('NH', 1), ('HI', 1), ('jI', [-1]), ('jM', [-1]), ('nM', 1), ('AS', 43)]\n",
        "11968288 HWI-ST1001 [(0, 32), (4, 10)]\n",
        "HWI-ST1001:205:C1P5HACXX:7:1116:18251:79187\t0\t0\t11968257\t255\t[(0, 32), (4, 10)]\t-1\t-1\t42\tGATTTCCGTGGAGAGGAACGCGTGTGAGTCTGTCGTATGCCG\t=:?DDDDDFD?AC+<C<A?E)??FFFFIDF9DFBFB@9BFFE\t[('RG', '1'), ('NH', 1), ('HI', 1), ('jI', [-1]), ('jM', [-1]), ('nM', 2), ('AS', 27)]\n",
        "11968313 HWI-ST1001 [(0, 35), (4, 16)]\n",
        "HWI-ST1001:205:C1P5HACXX:7:1101:12210:31624\t0\t0\t11968279\t255\t[(0, 35), (4, 16)]\t-1\t-1\t51\tTGTGAGTCTGAAACCAATTTTTTGAGGCCTTGCGTCGTATGCCGTCTTCTG\tBCBFFFFFHHHHHJJJJJJJJJJHIJJJJJJIJJJJJHEIJJJJFHIJJJJ\t[('RG', '1'), ('NH', 1), ('HI', 1), ('jI', [-1]), ('jM', [-1]), ('nM', 0), ('AS', 34)]\n",
        "11968313 HWI-ST1001 [(4, 1), (0, 34), (4, 16)]\n",
        "HWI-ST1001:205:C1P5HACXX:7:1111:5182:12919\t0\t0\t11968280\t255\t[(4, 1), (0, 34), (4, 16)]\t-1\t-1\t51\tAGTGAGTCTGAAACCAATTTTTTGAGGCCTTGCGTCGTATGCCGTCTTCTG\t111442+=DFFFDEIIIIEHFEFFCEC;DF@GG>?0@@FFIICFFFEC@C=\t[('RG', '1'), ('NH', 1), ('HI', 1), ('jI', [-1]), ('jM', [-1]), ('nM', 0), ('AS', 33)]\n",
        "11968313 HWI-ST1001 [(0, 33), (4, 6)]\n",
        "HWI-ST1001:205:C1P5HACXX:7:1107:11852:50627\t0\t0\t11968281\t255\t[(0, 33), (4, 6)]\t-1\t-1\t39\tTGAGTCTGAAACCAATTTTTTGCGGCCTTGCGTCGTATG\t===A<AA7=AAB>3+<@@AB8)+1:?<AAB>A4.<48=A\t[('RG', '1'), ('NH', 1), ('HI', 1), ('jI', [-1]), ('jM', [-1]), ('nM', 1), ('AS', 30)]\n",
        "11968313 HWI-ST1001 [(4, 1), (0, 32), (4, 16)]\n",
        "HWI-ST1001:205:C1P5HACXX:7:1108:13588:31661\t0\t0\t11968282\t255\t[(4, 1), (0, 32), (4, 16)]\t-1\t-1\t49\tAGAGTCTGAAACCAATTTTTTGAGGCCTTGCGTCGGAGGCCGTCTTCTG\t11+2+222+?+?=++2?BAA=A=1)=;AAA7):?0.-'5AA=:AAA@@?\t[('RG', '1'), ('NH', 1), ('HI', 1), ('jI', [-1]), ('jM', [-1]), ('nM', 0), ('AS', 31)]\n",
        "11968314 HWI-ST1001 [(0, 32), (4, 14)]\n",
        "HWI-ST1001:205:C1P5HACXX:7:1102:19211:57125\t0\t0\t11968283\t255\t[(0, 32), (4, 14)]\t-1\t-1\t46\tAGTCTGAAACCAATTTTTTGAGGCCTTGCGTTCGTATGCCGTCTTC\t?81BDDDBDFF?:CACCHHFGIGIGBEB<FDFGH?FD??*.-<BFH\t[('RG', '1'), ('NH', 1), ('HI', 1), ('jI', [-1]), ('jM', [-1]), ('nM', 0), ('AS', 31)]\n",
        "11968314 HWI-ST1001 [(4, 1), (0, 31), (4, 14)]\n",
        "HWI-ST1001:205:C1P5HACXX:7:1215:3095:24340\t0\t0\t11968284\t255\t[(4, 1), (0, 31), (4, 14)]\t-1\t-1\t46\tTGTCTGAAACCAATTTTTTGAGGCCTTGCGTTCGTATGCCGTCTTC\t1114422,:=+<A3CCF<@CFG>FCDEFE?:DFE)??D?D67<@FC\t[('RG', '1'), ('NH', 1), ('HI', 1), ('jI', [-1]), ('jM', [-1]), ('nM', 0), ('AS', 30)]\n",
        "11968323 HWI-ST1001 [(4, 2), (0, 39), (4, 3)]\n",
        "HWI-ST1001:205:C1P5HACXX:7:2214:10632:49463\t0\t0\t11968285\t255\t[(4, 2), (0, 39), (4, 3)]\t-1\t-1\t44\tTTTCTGAAACCAATTTTTTGAGGCCTTGCGTTCGTATGCAGTCT\t1+144=B;DBDBDE<AEEI:8A<@E3CB<@??D?B)?;D8999B\t[('RG', '1'), ('NH', 1), ('HI', 1), ('jI', [-1]), ('jM', [-1]), ('nM', 4), ('AS', 30)]\n",
        "11968314 HWI-ST1001 [(4, 3), (0, 29), (4, 6)]\n",
        "HWI-ST1001:205:C1P5HACXX:7:1308:5598:13494\t0\t0\t11968286\t255\t[(4, 3), (0, 29), (4, 6)]\t-1\t-1\t38\tTGGCTGAAACCAATTTTTTGAGGCCTTGCGTTCGTATG\t1++44=2ADB;CF3:?@:@C1CGGEFGHDF@CBD0?BC\t[('RG', '1'), ('NH', 1), ('HI', 1), ('jI', [-1]), ('jM', [-1]), ('nM', 0), ('AS', 28)]\n",
        "11968315 HWI-ST1001 [(0, 22), (4, 3)]\n",
        "HWI-ST1001:205:C1P5HACXX:7:1213:2537:59515\t0\t0\t11968294\t255\t[(0, 22), (4, 3)]\t-1\t-1\t25\tAATTTTTTGAGGCCTTGCGATTACT\t;<<@58@?3-()((22)@8(1@5??\t[('RG', '1'), ('NH', 1), ('HI', 1), ('jI', [-1]), ('jM', [-1]), ('nM', 1), ('AS', 19)]\n"
       ]
      }
     ],
     "prompt_number": 83
    },
    {
     "cell_type": "code",
     "collapsed": false,
     "input": [
      "chr1:11,968,279-11,968,315"
     ],
     "language": "python",
     "metadata": {},
     "outputs": []
    },
    {
     "cell_type": "code",
     "collapsed": false,
     "input": [
      "cigar"
     ],
     "language": "python",
     "metadata": {},
     "outputs": [
      {
       "metadata": {},
       "output_type": "pyout",
       "prompt_number": 76,
       "text": [
        "[(4, 11)]"
       ]
      }
     ],
     "prompt_number": 76
    },
    {
     "cell_type": "code",
     "collapsed": false,
     "input": [],
     "language": "python",
     "metadata": {},
     "outputs": [
      {
       "metadata": {},
       "output_type": "pyout",
       "prompt_number": 59,
       "text": [
        "225689724L"
       ]
      }
     ],
     "prompt_number": 59
    },
    {
     "cell_type": "code",
     "collapsed": false,
     "input": [
      "pysam.index(\"/nas3/gpratt/projects/fox2_iclip/analysis/v3/M2_NoIndex_L002_R1.R12_low2.polyATrim.adapterTrim.rmRep.rg.sorted.rmDup.sorted.bam\")"
     ],
     "language": "python",
     "metadata": {},
     "outputs": [
      {
       "ename": "UnsupportedOperation",
       "evalue": "IOStream has no fileno.",
       "output_type": "pyerr",
       "traceback": [
        "\u001b[1;31m---------------------------------------------------------------------------\u001b[0m\n\u001b[1;31mUnsupportedOperation\u001b[0m                      Traceback (most recent call last)",
        "\u001b[1;32m<ipython-input-50-cb4eacf5e69d>\u001b[0m in \u001b[0;36m<module>\u001b[1;34m()\u001b[0m\n\u001b[1;32m----> 1\u001b[1;33m \u001b[0mpysam\u001b[0m\u001b[1;33m.\u001b[0m\u001b[0mindex\u001b[0m\u001b[1;33m(\u001b[0m\u001b[1;34m\"/nas3/gpratt/projects/fox2_iclip/analysis/v3/M2_NoIndex_L002_R1.R12_low2.polyATrim.adapterTrim.rmRep.rg.sorted.rmDup.sorted.bam\"\u001b[0m\u001b[1;33m)\u001b[0m\u001b[1;33m\u001b[0m\u001b[0m\n\u001b[0m",
        "\u001b[1;32m/nas/nas0/yeolab/Software/lib/python2.7/site-packages/pysam/__init__.pyc\u001b[0m in \u001b[0;36m__call__\u001b[1;34m(self, *args, **kwargs)\u001b[0m\n\u001b[0;32m     48\u001b[0m         '''execute a samtools command\n\u001b[0;32m     49\u001b[0m         '''\n\u001b[1;32m---> 50\u001b[1;33m         \u001b[0mretval\u001b[0m\u001b[1;33m,\u001b[0m \u001b[0mstderr\u001b[0m\u001b[1;33m,\u001b[0m \u001b[0mstdout\u001b[0m \u001b[1;33m=\u001b[0m \u001b[0mcsamtools\u001b[0m\u001b[1;33m.\u001b[0m\u001b[0m_samtools_dispatch\u001b[0m\u001b[1;33m(\u001b[0m \u001b[0mself\u001b[0m\u001b[1;33m.\u001b[0m\u001b[0mdispatch\u001b[0m\u001b[1;33m,\u001b[0m \u001b[0margs\u001b[0m \u001b[1;33m)\u001b[0m\u001b[1;33m\u001b[0m\u001b[0m\n\u001b[0m\u001b[0;32m     51\u001b[0m         \u001b[1;32mif\u001b[0m \u001b[0mretval\u001b[0m\u001b[1;33m:\u001b[0m \u001b[1;32mraise\u001b[0m \u001b[0mSamtoolsError\u001b[0m\u001b[1;33m(\u001b[0m \u001b[1;34m'csamtools returned with error %i: %s'\u001b[0m \u001b[1;33m%\u001b[0m \u001b[1;33m(\u001b[0m\u001b[0mretval\u001b[0m\u001b[1;33m,\u001b[0m \u001b[1;34m\"\\n\"\u001b[0m\u001b[1;33m.\u001b[0m\u001b[0mjoin\u001b[0m\u001b[1;33m(\u001b[0m \u001b[0mstderr\u001b[0m \u001b[1;33m)\u001b[0m \u001b[1;33m)\u001b[0m\u001b[1;33m)\u001b[0m\u001b[1;33m\u001b[0m\u001b[0m\n\u001b[0;32m     52\u001b[0m         \u001b[0mself\u001b[0m\u001b[1;33m.\u001b[0m\u001b[0mstderr\u001b[0m \u001b[1;33m=\u001b[0m \u001b[0mstderr\u001b[0m\u001b[1;33m\u001b[0m\u001b[0m\n",
        "\u001b[1;32m/nas/nas0/yeolab/Software/lib/python2.7/site-packages/pysam/csamtools.so\u001b[0m in \u001b[0;36mpysam.csamtools._samtools_dispatch (pysam/csamtools.c:35303)\u001b[1;34m()\u001b[0m\n",
        "\u001b[1;32m/nas3/yeolab/Software/lib/python2.7/site-packages/IPython/kernel/zmq/iostream.pyc\u001b[0m in \u001b[0;36mfileno\u001b[1;34m(self)\u001b[0m\n\u001b[0;32m    185\u001b[0m \u001b[1;33m\u001b[0m\u001b[0m\n\u001b[0;32m    186\u001b[0m     \u001b[1;32mdef\u001b[0m \u001b[0mfileno\u001b[0m\u001b[1;33m(\u001b[0m\u001b[0mself\u001b[0m\u001b[1;33m)\u001b[0m\u001b[1;33m:\u001b[0m\u001b[1;33m\u001b[0m\u001b[0m\n\u001b[1;32m--> 187\u001b[1;33m         \u001b[1;32mraise\u001b[0m \u001b[0mUnsupportedOperation\u001b[0m\u001b[1;33m(\u001b[0m\u001b[1;34m\"IOStream has no fileno.\"\u001b[0m\u001b[1;33m)\u001b[0m\u001b[1;33m\u001b[0m\u001b[0m\n\u001b[0m\u001b[0;32m    188\u001b[0m \u001b[1;33m\u001b[0m\u001b[0m\n\u001b[0;32m    189\u001b[0m     \u001b[1;32mdef\u001b[0m \u001b[0mwrite\u001b[0m\u001b[1;33m(\u001b[0m\u001b[0mself\u001b[0m\u001b[1;33m,\u001b[0m \u001b[0mstring\u001b[0m\u001b[1;33m)\u001b[0m\u001b[1;33m:\u001b[0m\u001b[1;33m\u001b[0m\u001b[0m\n",
        "\u001b[1;31mUnsupportedOperation\u001b[0m: IOStream has no fileno."
       ]
      }
     ],
     "prompt_number": 50
    },
    {
     "cell_type": "code",
     "collapsed": false,
     "input": [
      "1 - (200320 / 283361.0)"
     ],
     "language": "python",
     "metadata": {},
     "outputs": [
      {
       "metadata": {},
       "output_type": "pyout",
       "prompt_number": 112,
       "text": [
        "0.29305726617283256"
       ]
      }
     ],
     "prompt_number": 112
    },
    {
     "cell_type": "code",
     "collapsed": false,
     "input": [
      "from scipy.spatial.distance import hamming"
     ],
     "language": "python",
     "metadata": {},
     "outputs": [],
     "prompt_number": 92
    },
    {
     "cell_type": "code",
     "collapsed": false,
     "input": [
      "hamming(np.array(\"foooooo\"), np.array(\"foooooo\"))"
     ],
     "language": "python",
     "metadata": {},
     "outputs": [
      {
       "metadata": {},
       "output_type": "pyout",
       "prompt_number": 104,
       "text": [
        "0.0"
       ]
      }
     ],
     "prompt_number": 104
    },
    {
     "cell_type": "code",
     "collapsed": false,
     "input": [
      "import numpy as np\n",
      "\n"
     ],
     "language": "python",
     "metadata": {},
     "outputs": [],
     "prompt_number": 102
    },
    {
     "cell_type": "code",
     "collapsed": false,
     "input": [
      "\n",
      "word1 = \"foo\"\n",
      "word2 = \"fbb\"\n"
     ],
     "language": "python",
     "metadata": {},
     "outputs": [
      {
       "metadata": {},
       "output_type": "pyout",
       "prompt_number": 110,
       "text": [
        "2"
       ]
      }
     ],
     "prompt_number": 110
    },
    {
     "cell_type": "code",
     "collapsed": false,
     "input": [
      "%%timeit\n",
      "sum( a != b for a, b in zip(word1, word2) )"
     ],
     "language": "python",
     "metadata": {},
     "outputs": [
      {
       "output_type": "stream",
       "stream": "stdout",
       "text": [
        "100000 loops, best of 3: 2.13 \u00b5s per loop\n"
       ]
      }
     ],
     "prompt_number": 111
    },
    {
     "cell_type": "code",
     "collapsed": false,
     "input": [],
     "language": "python",
     "metadata": {},
     "outputs": []
    }
   ],
   "metadata": {}
  }
 ]
}