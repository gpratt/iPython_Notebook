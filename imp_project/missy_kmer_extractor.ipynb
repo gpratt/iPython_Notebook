{
 "metadata": {
  "name": ""
 },
 "nbformat": 3,
 "nbformat_minor": 0,
 "worksheets": [
  {
   "cells": [
    {
     "cell_type": "code",
     "collapsed": false,
     "input": [
      "import os\n",
      "import cPickle as pickle\n",
      "\n",
      "import sys\n",
      "results = pickle.load(open(sys.argv[1]))\n",
      "out_file = sys.argv[2]\n",
      "\n",
      "def motif_to_str(motif):\n",
      "    return \"\\t\".join(map(str, [motif.freq1, motif.freq2, motif.delta]))\n",
      "\n",
      "for region_name, region in results['kmer_results'].items():\n",
      "    for kmer_name, kmer in region.items():\n",
      "        out_name, ext = os.path.splitext(out_file)\n",
      "        with open(\"%s_%s_%s%s\" % (out_name, region_name, str(kmer_name), ext), 'w') as outfile:\n",
      "            for motif, motif_object in kmer.items():\n",
      "                outfile.write(motif + \"\\t\" + motif_to_str(motif_object) + \"\\n\")"
     ],
     "language": "python",
     "metadata": {},
     "outputs": [],
     "prompt_number": 25
    }
   ],
   "metadata": {}
  }
 ]
}