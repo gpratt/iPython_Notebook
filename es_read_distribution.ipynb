{
 "metadata": {
  "name": ""
 },
 "nbformat": 3,
 "nbformat_minor": 0,
 "worksheets": [
  {
   "cells": [
    {
     "cell_type": "code",
     "collapsed": false,
     "input": [
      "import os\n",
      "import glob\n",
      "from itertools import groupby\n",
      "\n",
      "from bx.bbi.bigwig_file import BigWigFile \n",
      "import pandas as pd\n",
      "\n",
      "from clipper.src import CLIP_analysis"
     ],
     "language": "python",
     "metadata": {},
     "outputs": [],
     "prompt_number": 35
    },
    {
     "cell_type": "code",
     "collapsed": false,
     "input": [
      "regions = CLIP_analysis.get_genomic_regions(\"/nas3/gpratt/clipper/clipper/data/regions/\", \"hg19\", None)"
     ],
     "language": "python",
     "metadata": {},
     "outputs": [
      {
       "output_type": "stream",
       "stream": "stdout",
       "text": [
        "/nas3/gpratt/clipper/clipper/data/regions/hg19_genes.bed\n"
       ]
      }
     ],
     "prompt_number": 8
    },
    {
     "cell_type": "code",
     "collapsed": false,
     "input": [
      "regions"
     ],
     "language": "python",
     "metadata": {},
     "outputs": [
      {
       "metadata": {},
       "output_type": "pyout",
       "prompt_number": 31,
       "text": [
        "{'cds': <BedTool(/nas3/gpratt/clipper/clipper/data/regions/hg19_cds.bed)>,\n",
        " 'exons': <BedTool(/nas3/gpratt/clipper/clipper/data/regions/hg19_exons.bed)>,\n",
        " 'five_prime_utrs': <BedTool(/nas3/gpratt/clipper/clipper/data/regions/hg19_five_prime_utrs.bed)>,\n",
        " 'genes': <BedTool(/nas3/gpratt/clipper/clipper/data/regions/hg19_genes.bed)>,\n",
        " 'introns': <BedTool(/nas3/gpratt/clipper/clipper/data/regions/hg19_introns.bed)>,\n",
        " 'three_prime_utrs': <BedTool(/nas3/gpratt/clipper/clipper/data/regions/hg19_three_prime_utrs.bed)>}"
       ]
      }
     ],
     "prompt_number": 31
    },
    {
     "cell_type": "code",
     "collapsed": true,
     "input": [
      "riboseq = {os.path.basename(name) : BigWigFile(open(name)) for name in glob.glob(\"/nas3/gpratt/projects/es_riboseq/analysis/es_riboseq_v1/*.bw\")}\n",
      "rnaseq =  {os.path.basename(name) : BigWigFile(open(name)) for name in glob.glob(\"/nas3/gpratt/projects/es_riboseq/analysis/es_riboseq_v1/*.bw\")}"
     ],
     "language": "python",
     "metadata": {},
     "outputs": [],
     "prompt_number": 26
    },
    {
     "cell_type": "code",
     "collapsed": false,
     "input": [
      "riboseq"
     ],
     "language": "python",
     "metadata": {},
     "outputs": [
      {
       "metadata": {},
       "output_type": "pyout",
       "prompt_number": 27,
       "text": [
        "{'ES_1_GATCAG_L006_R1.fastq.gz.polyATrim.adapterTrim.rmRep.sorted.rg.neg.bw': <bx.bbi.bigwig_file.BigWigFile at 0x19db9190>,\n",
        " 'ES_1_GATCAG_L006_R1.fastq.gz.polyATrim.adapterTrim.rmRep.sorted.rg.pos.bw': <bx.bbi.bigwig_file.BigWigFile at 0x19d99b90>,\n",
        " 'ES_2_ACTTGA_L006_R1.fastq.gz.polyATrim.adapterTrim.rmRep.sorted.rg.neg.bw': <bx.bbi.bigwig_file.BigWigFile at 0x19d99e10>,\n",
        " 'ES_2_ACTTGA_L006_R1.fastq.gz.polyATrim.adapterTrim.rmRep.sorted.rg.pos.bw': <bx.bbi.bigwig_file.BigWigFile at 0x19d99cd0>,\n",
        " 'ES_3_CAGATC_L006_R1.fastq.gz.polyATrim.adapterTrim.rmRep.sorted.rg.neg.bw': <bx.bbi.bigwig_file.BigWigFile at 0x19db95f0>,\n",
        " 'ES_3_CAGATC_L006_R1.fastq.gz.polyATrim.adapterTrim.rmRep.sorted.rg.pos.bw': <bx.bbi.bigwig_file.BigWigFile at 0x19db9370>,\n",
        " 'NPC_1_CGATGT_L005_R1.fastq.gz.polyATrim.adapterTrim.rmRep.sorted.rg.neg.bw': <bx.bbi.bigwig_file.BigWigFile at 0x19db9410>,\n",
        " 'NPC_1_CGATGT_L005_R1.fastq.gz.polyATrim.adapterTrim.rmRep.sorted.rg.pos.bw': <bx.bbi.bigwig_file.BigWigFile at 0x19db94b0>,\n",
        " 'NPC_2_ATCACG_L005_R1.fastq.gz.polyATrim.adapterTrim.rmRep.sorted.rg.neg.bw': <bx.bbi.bigwig_file.BigWigFile at 0x19d99d70>,\n",
        " 'NPC_2_ATCACG_L005_R1.fastq.gz.polyATrim.adapterTrim.rmRep.sorted.rg.pos.bw': <bx.bbi.bigwig_file.BigWigFile at 0x19d99f50>,\n",
        " 'SOX17_1_TGACCA_L005_R1.fastq.gz.polyATrim.adapterTrim.rmRep.sorted.rg.neg.bw': <bx.bbi.bigwig_file.BigWigFile at 0x19d99c30>,\n",
        " 'SOX17_1_TGACCA_L005_R1.fastq.gz.polyATrim.adapterTrim.rmRep.sorted.rg.pos.bw': <bx.bbi.bigwig_file.BigWigFile at 0x19db90f0>,\n",
        " 'SOX17_2_TTAGGC_L005_R1.fastq.gz.polyATrim.adapterTrim.rmRep.sorted.rg.neg.bw': <bx.bbi.bigwig_file.BigWigFile at 0x19db92d0>,\n",
        " 'SOX17_2_TTAGGC_L005_R1.fastq.gz.polyATrim.adapterTrim.rmRep.sorted.rg.pos.bw': <bx.bbi.bigwig_file.BigWigFile at 0x19db9550>,\n",
        " 'TGFP_1_GCCAAT_L006_R1.fastq.gz.polyATrim.adapterTrim.rmRep.sorted.rg.neg.bw': <bx.bbi.bigwig_file.BigWigFile at 0x19d99eb0>,\n",
        " 'TGFP_1_GCCAAT_L006_R1.fastq.gz.polyATrim.adapterTrim.rmRep.sorted.rg.pos.bw': <bx.bbi.bigwig_file.BigWigFile at 0x19db9050>,\n",
        " 'TGFP_2_ACAGTG_L005_R1.fastq.gz.polyATrim.adapterTrim.rmRep.sorted.rg.neg.bw': <bx.bbi.bigwig_file.BigWigFile at 0x19db9230>,\n",
        " 'TGFP_2_ACAGTG_L005_R1.fastq.gz.polyATrim.adapterTrim.rmRep.sorted.rg.pos.bw': <bx.bbi.bigwig_file.BigWigFile at 0x19db9690>}"
       ]
      }
     ],
     "prompt_number": 27
    },
    {
     "cell_type": "code",
     "collapsed": false,
     "input": [
      "def get_peak_wiggle(tool, data_pos, data_neg, num_peaks=100):\n",
      "    \n",
      "    \"\"\"\n",
      "    \n",
      "    returns matrix of (n,25) of wiggle and peak information\n",
      "    tool - bedtool contains location of peaks\n",
      "    data - bigwig file handle - contains bw data for the peaks\n",
      "\n",
      "    \"\"\"\n",
      "    \n",
      "    results = []\n",
      "    index = []\n",
      "    for interval in tool[:num_peaks]:\n",
      "        try:\n",
      "            if interval.strand == \"+\":\n",
      "                result = data_pos.get_as_array(interval.chrom, interval.start , interval.end)\n",
      "            if interval.strand == \"-\":\n",
      "                result = data_neg.get_as_array(interval.chrom, interval.start , interval.end)[::-1]\n",
      "                \n",
      "            result = [0 if np.isnan(x) else x for x in result]\n",
      "        \n",
      "            results.append(result)\n",
      "            index.append(interval.name)\n",
      "            \n",
      "        except TypeError as e:\n",
      "            pass\n",
      "    return results"
     ],
     "language": "python",
     "metadata": {},
     "outputs": [],
     "prompt_number": 57
    },
    {
     "cell_type": "code",
     "collapsed": false,
     "input": [],
     "language": "python",
     "metadata": {},
     "outputs": []
    },
    {
     "cell_type": "code",
     "collapsed": false,
     "input": [
      "#This is the wrong approach, should just count and overlap\n",
      "results = {}\n",
      "for region_name, region in regions.items():\n",
      "    results[region_name] = {}\n",
      "    for name, group in groupby(sorted(riboseq), lambda x: x.split(\".\")[0]):\n",
      "        \n",
      "        group = list(group)\n",
      "        pos = riboseq[group[1]]\n",
      "        neg = riboseq[group[0]]\n",
      "        \n",
      "        results[region_name][name] = get_peak_wiggle(region, pos, neg, 100000)"
     ],
     "language": "python",
     "metadata": {},
     "outputs": [],
     "prompt_number": "*"
    },
    {
     "cell_type": "code",
     "collapsed": false,
     "input": [
      "x = BigWigFile(open(\"/nas3/gpratt/projects/es_riboseq/analysis/es_riboseq_v1/ES_1_GATCAG_L006_R1.fastq.gz.polyATrim.adapterTrim.rmRep.sorted.rg.neg.bw\"))"
     ],
     "language": "python",
     "metadata": {},
     "outputs": [],
     "prompt_number": 21
    }
   ],
   "metadata": {}
  }
 ]
}