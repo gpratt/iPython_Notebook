{
 "metadata": {
  "name": "MakeTrackHubPrototype"
 },
 "nbformat": 3,
 "nbformat_minor": 0,
 "worksheets": [
  {
   "cells": [
    {
     "cell_type": "code",
     "collapsed": false,
     "input": [
      "from trackhub import Hub, GenomesFile, Genome, TrackDb, Track, AggregateTrack\n",
      "from trackhub.upload import upload_track, upload_hub\n",
      "import os\n",
      "from trackhub.helpers import show_rendered_files\n",
      "import argparse \n",
      "import logging\n",
      "import os\n",
      "import subprocess\n",
      "from itertools import groupby"
     ],
     "language": "python",
     "metadata": {},
     "outputs": [],
     "prompt_number": 10
    },
    {
     "cell_type": "code",
     "collapsed": false,
     "input": [
      "'''\n",
      "Created on Mar 7, 2013\n",
      "\n",
      "@author: gabrielp\n",
      "\n",
      "Given a list of * files makes trackhubs for those files\n",
      "\n",
      "Assumes that you have passwordless ssh setup between the two servers you are transfering files from\n",
      "\n",
      "'''\n",
      "\n",
      "\n",
      "upload_dir = \"/zfs/Hubs/riboseq_test\"\n",
      "URLBASE=\"http://sauron.ucsd.edu/Hubs/riboseq_test/\"\n",
      "GENOME = 'hg19'\n",
      "\n",
      "hub = Hub(hub='riboseq_hub',\n",
      "          short_label=\"riboseq\",\n",
      "          long_label=\"Test riboseq hub\",\n",
      "          email = \"gpratt@gmail.com\",\n",
      "          )\n",
      "genomes_file = GenomesFile()\n",
      "genome = Genome(GENOME)\n",
      "trackdb = TrackDb()\n",
      "\n",
      "genome.add_trackdb(trackdb)\n",
      "genomes_file.add_genome(genome)\n",
      "hub.add_genomes_file(genomes_file)\n",
      "hub.upload_fn = upload_dir\n",
      "#hub.local_fn = '/nas3/gpratt/projects/ribo_seq/hubs/hub.txt'\n",
      "BASEDIR = \"/nas3/gpratt/projects/ribo_seq/hek293/lee_hek293/analysis/\"\n",
      "files = os.listdir(BASEDIR)\n",
      "#logic for doing pos and neg as the same multi trackhub\n",
      "#process bw files first, do the rest with old logic\n",
      "bw_files = [track for track in files if track.endswith(\".bw\") or track.endswith(\".bigWig\")]\n",
      "remaining_files = [track for track in files if not (track.endswith(\".bw\") or track.endswith(\".bigWig\"))]\n",
      "print bw_files\n",
      "key_func = lambda x: x.split(\".\")[:-2]\n",
      "for bw_group, files in groupby(sorted(bw_files, key=key_func), key_func):\n",
      "        long_name = \".\".join(bw_group)\n",
      "        aggregate = AggregateTrack(\n",
      "                     name=long_name,\n",
      "                     tracktype='bigWig',\n",
      "                     short_label=long_name,\n",
      "                     long_label=long_name,\n",
      "                     aggregate='transparentOverlay',\n",
      "                     showSubtrackColorOnUi='on',\n",
      "                     autoScale='on',\n",
      "                     priority='1.4',\n",
      "                     alwaysZero='on',\n",
      "                     )\n",
      "                   \n",
      "        for track in files:\n",
      "                print track\n",
      "                color = \"0,100,0\" if \"pos\" in track else \"100,0,0\"\n",
      "                \n",
      "                if track.endswith(\".bw\") or track.endswith('.bigWig'):\n",
      "                    tracktype = \"bigWig\"\n",
      "                if track.endswith(\".bb\") or track.endswith('.bigBed'):\n",
      "                    tracktype = \"bigBed\"\n",
      "                if track.endswith(\".bam\"):\n",
      "                    tracktype = \"bam\"\n",
      "                    \n",
      "                track = Track(name= track,\n",
      "                      url = os.path.join(URLBASE, GENOME, track),\n",
      "                      tracktype = tracktype,\n",
      "                      short_label=track,\n",
      "                      long_label=track,\n",
      "                      color = color,\n",
      "                      local_fn = os.path.join(BASEDIR, track),\n",
      "                      remote_fn = os.path.join(upload_dir, GENOME, track)\n",
      "                      )\n",
      "       \n",
      "                aggregate.add_subtrack(track)\n",
      "        trackdb.add_tracks(aggregate)\n"
     ],
     "language": "python",
     "metadata": {},
     "outputs": [
      {
       "output_type": "stream",
       "stream": "stdout",
       "text": [
        "['hek293_lac_rep1.polyATrim.adapterTrim.rmRep.sorted.neg.bw', 'hek293_chx_rep1.polyATrim.adapterTrim.rmRep.sorted.pos.bw', 'hek293_chx_rep1.polyATrim.adapterTrim.rmRep.sorted.neg.bw', 'hek293_lac_rep1.polyATrim.adapterTrim.rmRep.sorted.pos.bw', 'hek293_lac_rep2.polyATrim.adapterTrim.rmRep.sorted.pos.bw', 'hek293_chx_rep2.polyATrim.adapterTrim.rmRep.sorted.neg.bw', 'hek293_chx_rep2.polyATrim.adapterTrim.rmRep.sorted.pos.bw', 'hek293_lac_rep2.polyATrim.adapterTrim.rmRep.sorted.neg.bw']\n",
        "hek293_chx_rep1.polyATrim.adapterTrim.rmRep.sorted.pos.bw\n",
        "hek293_chx_rep1.polyATrim.adapterTrim.rmRep.sorted.neg.bw\n",
        "hek293_chx_rep2.polyATrim.adapterTrim.rmRep.sorted.neg.bw\n",
        "hek293_chx_rep2.polyATrim.adapterTrim.rmRep.sorted.pos.bw\n",
        "hek293_lac_rep1.polyATrim.adapterTrim.rmRep.sorted.neg.bw\n",
        "hek293_lac_rep1.polyATrim.adapterTrim.rmRep.sorted.pos.bw\n",
        "hek293_lac_rep2.polyATrim.adapterTrim.rmRep.sorted.pos.bw\n",
        "hek293_lac_rep2.polyATrim.adapterTrim.rmRep.sorted.neg.bw\n"
       ]
      }
     ],
     "prompt_number": 34
    },
    {
     "cell_type": "code",
     "collapsed": false,
     "input": [
      "print hub.local_fn\n",
      "print genomes_file.local_fn\n",
      "print trackdb.local_fn"
     ],
     "language": "python",
     "metadata": {},
     "outputs": [
      {
       "output_type": "stream",
       "stream": "stdout",
       "text": [
        "riboseq_hub.hub.txt\n",
        "riboseq_hub.genomes.txt\n",
        "hg19/trackDb.txt\n"
       ]
      }
     ],
     "prompt_number": 35
    },
    {
     "cell_type": "code",
     "collapsed": false,
     "input": [
      "print genomes_file.remote_fn"
     ],
     "language": "python",
     "metadata": {},
     "outputs": [
      {
       "output_type": "stream",
       "stream": "stdout",
       "text": [
        "riboseq_hub.genomes.txt\n"
       ]
      }
     ],
     "prompt_number": 36
    },
    {
     "cell_type": "code",
     "collapsed": false,
     "input": [
      "hub.remote_fn = os.path.join(upload_dir, \"hub.txt\") \n"
     ],
     "language": "python",
     "metadata": {},
     "outputs": [],
     "prompt_number": 37
    },
    {
     "cell_type": "code",
     "collapsed": false,
     "input": [
      "print hub.remote_fn\n",
      "print genomes_file.remote_fn\n",
      "print trackdb.remote_fn"
     ],
     "language": "python",
     "metadata": {},
     "outputs": [
      {
       "output_type": "stream",
       "stream": "stdout",
       "text": [
        "/zfs/Hubs/riboseq_test/hub.txt\n",
        "/zfs/Hubs/riboseq_test/riboseq_hub.genomes.txt\n",
        "/zfs/Hubs/riboseq_test/hg19/trackDb.txt\n"
       ]
      }
     ],
     "prompt_number": 38
    },
    {
     "cell_type": "code",
     "collapsed": false,
     "input": [
      "print trackdb"
     ],
     "language": "python",
     "metadata": {},
     "outputs": [
      {
       "output_type": "stream",
       "stream": "stdout",
       "text": [
        "track hek293_chx_rep1.polyATrim.adapterTrim.rmRep.sorted\n",
        "shortLabel hek293_chx_rep1.polyATrim.adapterTrim.rmRep.sorted\n",
        "longLabel hek293_chx_rep1.polyATrim.adapterTrim.rmRep.sorted\n",
        "type bigWig\n",
        "alwaysZero on\n",
        "autoScale on\n",
        "aggregate transparentOverlay\n",
        "showSubtrackColorOnUi on\n",
        "container multiWig\n",
        "\n",
        "    track hek293_chx_rep1.polyATrim.adapterTrim.rmRep.sorted.pos.bw\n",
        "    bigDataUrl http://sauron.ucsd.edu/Hubs/riboseq_test/hg19/hek293_chx_rep1.polyATrim.adapterTrim.rmRep.sorted.pos.bw\n",
        "    shortLabel hek293_chx_rep1.polyATrim.adapterTrim.rmRep.sorted.pos.bw\n",
        "    longLabel hek293_chx_rep1.polyATrim.adapterTrim.rmRep.sorted.pos.bw\n",
        "    type bigWig\n",
        "    color 0,100,0\n",
        "    parent hek293_chx_rep1.polyATrim.adapterTrim.rmRep.sorted\n",
        "\n",
        "    track hek293_chx_rep1.polyATrim.adapterTrim.rmRep.sorted.neg.bw\n",
        "    bigDataUrl http://sauron.ucsd.edu/Hubs/riboseq_test/hg19/hek293_chx_rep1.polyATrim.adapterTrim.rmRep.sorted.neg.bw\n",
        "    shortLabel hek293_chx_rep1.polyATrim.adapterTrim.rmRep.sorted.neg.bw\n",
        "    longLabel hek293_chx_rep1.polyATrim.adapterTrim.rmRep.sorted.neg.bw\n",
        "    type bigWig\n",
        "    color 100,0,0\n",
        "    parent hek293_chx_rep1.polyATrim.adapterTrim.rmRep.sorted\n",
        "\n",
        "track hek293_chx_rep2.polyATrim.adapterTrim.rmRep.sorted\n",
        "shortLabel hek293_chx_rep2.polyATrim.adapterTrim.rmRep.sorted\n",
        "longLabel hek293_chx_rep2.polyATrim.adapterTrim.rmRep.sorted\n",
        "type bigWig\n",
        "alwaysZero on\n",
        "autoScale on\n",
        "aggregate transparentOverlay\n",
        "showSubtrackColorOnUi on\n",
        "container multiWig\n",
        "\n",
        "    track hek293_chx_rep2.polyATrim.adapterTrim.rmRep.sorted.neg.bw\n",
        "    bigDataUrl http://sauron.ucsd.edu/Hubs/riboseq_test/hg19/hek293_chx_rep2.polyATrim.adapterTrim.rmRep.sorted.neg.bw\n",
        "    shortLabel hek293_chx_rep2.polyATrim.adapterTrim.rmRep.sorted.neg.bw\n",
        "    longLabel hek293_chx_rep2.polyATrim.adapterTrim.rmRep.sorted.neg.bw\n",
        "    type bigWig\n",
        "    color 100,0,0\n",
        "    parent hek293_chx_rep2.polyATrim.adapterTrim.rmRep.sorted\n",
        "\n",
        "    track hek293_chx_rep2.polyATrim.adapterTrim.rmRep.sorted.pos.bw\n",
        "    bigDataUrl http://sauron.ucsd.edu/Hubs/riboseq_test/hg19/hek293_chx_rep2.polyATrim.adapterTrim.rmRep.sorted.pos.bw\n",
        "    shortLabel hek293_chx_rep2.polyATrim.adapterTrim.rmRep.sorted.pos.bw\n",
        "    longLabel hek293_chx_rep2.polyATrim.adapterTrim.rmRep.sorted.pos.bw\n",
        "    type bigWig\n",
        "    color 0,100,0\n",
        "    parent hek293_chx_rep2.polyATrim.adapterTrim.rmRep.sorted\n",
        "\n",
        "track hek293_lac_rep1.polyATrim.adapterTrim.rmRep.sorted\n",
        "shortLabel hek293_lac_rep1.polyATrim.adapterTrim.rmRep.sorted\n",
        "longLabel hek293_lac_rep1.polyATrim.adapterTrim.rmRep.sorted\n",
        "type bigWig\n",
        "alwaysZero on\n",
        "autoScale on\n",
        "aggregate transparentOverlay\n",
        "showSubtrackColorOnUi on\n",
        "container multiWig\n",
        "\n",
        "    track hek293_lac_rep1.polyATrim.adapterTrim.rmRep.sorted.neg.bw\n",
        "    bigDataUrl http://sauron.ucsd.edu/Hubs/riboseq_test/hg19/hek293_lac_rep1.polyATrim.adapterTrim.rmRep.sorted.neg.bw\n",
        "    shortLabel hek293_lac_rep1.polyATrim.adapterTrim.rmRep.sorted.neg.bw\n",
        "    longLabel hek293_lac_rep1.polyATrim.adapterTrim.rmRep.sorted.neg.bw\n",
        "    type bigWig\n",
        "    color 100,0,0\n",
        "    parent hek293_lac_rep1.polyATrim.adapterTrim.rmRep.sorted\n",
        "\n",
        "    track hek293_lac_rep1.polyATrim.adapterTrim.rmRep.sorted.pos.bw\n",
        "    bigDataUrl http://sauron.ucsd.edu/Hubs/riboseq_test/hg19/hek293_lac_rep1.polyATrim.adapterTrim.rmRep.sorted.pos.bw\n",
        "    shortLabel hek293_lac_rep1.polyATrim.adapterTrim.rmRep.sorted.pos.bw\n",
        "    longLabel hek293_lac_rep1.polyATrim.adapterTrim.rmRep.sorted.pos.bw\n",
        "    type bigWig\n",
        "    color 0,100,0\n",
        "    parent hek293_lac_rep1.polyATrim.adapterTrim.rmRep.sorted\n",
        "\n",
        "track hek293_lac_rep2.polyATrim.adapterTrim.rmRep.sorted\n",
        "shortLabel hek293_lac_rep2.polyATrim.adapterTrim.rmRep.sorted\n",
        "longLabel hek293_lac_rep2.polyATrim.adapterTrim.rmRep.sorted\n",
        "type bigWig\n",
        "alwaysZero on\n",
        "autoScale on\n",
        "aggregate transparentOverlay\n",
        "showSubtrackColorOnUi on\n",
        "container multiWig\n",
        "\n",
        "    track hek293_lac_rep2.polyATrim.adapterTrim.rmRep.sorted.pos.bw\n",
        "    bigDataUrl http://sauron.ucsd.edu/Hubs/riboseq_test/hg19/hek293_lac_rep2.polyATrim.adapterTrim.rmRep.sorted.pos.bw\n",
        "    shortLabel hek293_lac_rep2.polyATrim.adapterTrim.rmRep.sorted.pos.bw\n",
        "    longLabel hek293_lac_rep2.polyATrim.adapterTrim.rmRep.sorted.pos.bw\n",
        "    type bigWig\n",
        "    color 0,100,0\n",
        "    parent hek293_lac_rep2.polyATrim.adapterTrim.rmRep.sorted\n",
        "\n",
        "    track hek293_lac_rep2.polyATrim.adapterTrim.rmRep.sorted.neg.bw\n",
        "    bigDataUrl http://sauron.ucsd.edu/Hubs/riboseq_test/hg19/hek293_lac_rep2.polyATrim.adapterTrim.rmRep.sorted.neg.bw\n",
        "    shortLabel hek293_lac_rep2.polyATrim.adapterTrim.rmRep.sorted.neg.bw\n",
        "    longLabel hek293_lac_rep2.polyATrim.adapterTrim.rmRep.sorted.neg.bw\n",
        "    type bigWig\n",
        "    color 100,0,0\n",
        "    parent hek293_lac_rep2.polyATrim.adapterTrim.rmRep.sorted\n",
        "\n"
       ]
      }
     ],
     "prompt_number": 39
    },
    {
     "cell_type": "code",
     "collapsed": false,
     "input": [
      "result = hub.render()"
     ],
     "language": "python",
     "metadata": {},
     "outputs": [],
     "prompt_number": 61
    },
    {
     "cell_type": "code",
     "collapsed": false,
     "input": [
      "show_rendered_files(result)"
     ],
     "language": "python",
     "metadata": {},
     "outputs": [
      {
       "output_type": "stream",
       "stream": "stdout",
       "text": [
        "rendered file: /nas3/gpratt/projects/ribo_seq/hubs/hub.txt (created by: <trackhub.hub.Hub object at 0xed91350>)\n",
        "rendered file: /nas3/gpratt/projects/ribo_seq/hubs/riboseq_hub.genomes.txt (created by: <trackhub.genomes_file.GenomesFile object at 0xed913d0>)\n",
        "rendered file: /nas3/gpratt/projects/ribo_seq/hubs/hg19/trackDb.txt (created by: <trackhub.trackdb.TrackDb object at 0xed91410>)\n"
       ]
      }
     ],
     "prompt_number": 62
    },
    {
     "cell_type": "code",
     "collapsed": false,
     "input": [
      "for track in trackdb.tracks:\n",
      "    #print track.local_fn\n",
      "    #print track.remote_fn\n",
      "    upload_track(track=track, host=\"sauron.ucsd.edu\", user=\"gpratt\")\n",
      "\n",
      "upload_hub(hub=hub, host=\"sauron.ucsd.edu\", user=\"gpratt\")"
     ],
     "language": "python",
     "metadata": {},
     "outputs": [
      {
       "output_type": "stream",
       "stream": "stdout",
       "text": [
        "[sauron.ucsd.edu] run: ls /zfs/Hubs/riboseq_test/hg19\n",
        "[sauron.ucsd.edu] out: "
       ]
      },
      {
       "output_type": "stream",
       "stream": "stdout",
       "text": [
        "hek293_chx_rep1.polyATrim.adapterTrim.rmRep.sorted.neg.bw.bigWig\n"
       ]
      },
      {
       "output_type": "stream",
       "stream": "stdout",
       "text": [
        "[sauron.ucsd.edu] out: "
       ]
      },
      {
       "output_type": "stream",
       "stream": "stdout",
       "text": [
        "hek293_chx_rep1.polyATrim.adapterTrim.rmRep.sorted.pos.bw.bigWig\n"
       ]
      },
      {
       "output_type": "stream",
       "stream": "stdout",
       "text": [
        "[sauron.ucsd.edu] out: "
       ]
      },
      {
       "output_type": "stream",
       "stream": "stdout",
       "text": [
        "hek293_chx_rep2.polyATrim.adapterTrim.rmRep.sorted.neg.bw.bigWig\n"
       ]
      },
      {
       "output_type": "stream",
       "stream": "stdout",
       "text": [
        "[sauron.ucsd.edu] out: "
       ]
      },
      {
       "output_type": "stream",
       "stream": "stdout",
       "text": [
        "hek293_chx_rep2.polyATrim.adapterTrim.rmRep.sorted.pos.bw.bigWig\n"
       ]
      },
      {
       "output_type": "stream",
       "stream": "stdout",
       "text": [
        "[sauron.ucsd.edu] out: "
       ]
      },
      {
       "output_type": "stream",
       "stream": "stdout",
       "text": [
        "hek293_lac_rep1.polyATrim.adapterTrim.rmRep.sorted.neg.bw.bigWig\n"
       ]
      },
      {
       "output_type": "stream",
       "stream": "stdout",
       "text": [
        "[sauron.ucsd.edu] out: "
       ]
      },
      {
       "output_type": "stream",
       "stream": "stdout",
       "text": [
        "hek293_lac_rep1.polyATrim.adapterTrim.rmRep.sorted.pos.bw.bigWig\n"
       ]
      },
      {
       "output_type": "stream",
       "stream": "stdout",
       "text": [
        "[sauron.ucsd.edu] out: "
       ]
      },
      {
       "output_type": "stream",
       "stream": "stdout",
       "text": [
        "hek293_lac_rep2.polyATrim.adapterTrim.rmRep.sorted.neg.bw.bigWig\n"
       ]
      },
      {
       "output_type": "stream",
       "stream": "stdout",
       "text": [
        "[sauron.ucsd.edu] out: "
       ]
      },
      {
       "output_type": "stream",
       "stream": "stdout",
       "text": [
        "hek293_lac_rep2.polyATrim.adapterTrim.rmRep.sorted.pos.bw.bigWig\n"
       ]
      },
      {
       "output_type": "stream",
       "stream": "stdout",
       "text": [
        "[sauron.ucsd.edu] out: "
       ]
      },
      {
       "output_type": "stream",
       "stream": "stdout",
       "text": [
        "trackDb.txt\n"
       ]
      },
      {
       "output_type": "stream",
       "stream": "stdout",
       "text": [
        "[sauron.ucsd.edu] out: "
       ]
      },
      {
       "output_type": "stream",
       "stream": "stdout",
       "text": [
        "trackDb.txt~\n"
       ]
      },
      {
       "output_type": "stream",
       "stream": "stdout",
       "text": [
        "[sauron.ucsd.edu] out: "
       ]
      },
      {
       "output_type": "stream",
       "stream": "stdout",
       "text": [
        "\n"
       ]
      },
      {
       "output_type": "stream",
       "stream": "stdout",
       "text": [
        "\n",
        "[localhost] local: rsync -azvr --progress /nas3/gpratt/projects/ribo_seq/hek293/lee_hek293/analysis/hek293_chx_rep1.polyATrim.adapterTrim.rmRep.sorted.pos.bw gpratt@sauron.ucsd.edu:/zfs/Hubs/riboseq_test/hg19/hek293_chx_rep1.polyATrim.adapterTrim.rmRep.sorted.pos.bw\n",
        "[sauron.ucsd.edu] run: ls /zfs/Hubs/riboseq_test/hg19"
       ]
      },
      {
       "output_type": "stream",
       "stream": "stdout",
       "text": [
        "\n",
        "[sauron.ucsd.edu] out: "
       ]
      },
      {
       "output_type": "stream",
       "stream": "stdout",
       "text": [
        "hek293_chx_rep1.polyATrim.adapterTrim.rmRep.sorted.neg.bw.bigWig\n"
       ]
      },
      {
       "output_type": "stream",
       "stream": "stdout",
       "text": [
        "[sauron.ucsd.edu] out: "
       ]
      },
      {
       "output_type": "stream",
       "stream": "stdout",
       "text": [
        "hek293_chx_rep1.polyATrim.adapterTrim.rmRep.sorted.pos.bw\n"
       ]
      },
      {
       "output_type": "stream",
       "stream": "stdout",
       "text": [
        "[sauron.ucsd.edu] out: "
       ]
      },
      {
       "output_type": "stream",
       "stream": "stdout",
       "text": [
        "hek293_chx_rep1.polyATrim.adapterTrim.rmRep.sorted.pos.bw.bigWig\n"
       ]
      },
      {
       "output_type": "stream",
       "stream": "stdout",
       "text": [
        "[sauron.ucsd.edu] out: "
       ]
      },
      {
       "output_type": "stream",
       "stream": "stdout",
       "text": [
        "hek293_chx_rep2.polyATrim.adapterTrim.rmRep.sorted.neg.bw.bigWig\n"
       ]
      },
      {
       "output_type": "stream",
       "stream": "stdout",
       "text": [
        "[sauron.ucsd.edu] out: "
       ]
      },
      {
       "output_type": "stream",
       "stream": "stdout",
       "text": [
        "hek293_chx_rep2.polyATrim.adapterTrim.rmRep.sorted.pos.bw.bigWig\n"
       ]
      },
      {
       "output_type": "stream",
       "stream": "stdout",
       "text": [
        "[sauron.ucsd.edu] out: "
       ]
      },
      {
       "output_type": "stream",
       "stream": "stdout",
       "text": [
        "hek293_lac_rep1.polyATrim.adapterTrim.rmRep.sorted.neg.bw.bigWig\n"
       ]
      },
      {
       "output_type": "stream",
       "stream": "stdout",
       "text": [
        "[sauron.ucsd.edu] out: "
       ]
      },
      {
       "output_type": "stream",
       "stream": "stdout",
       "text": [
        "hek293_lac_rep1.polyATrim.adapterTrim.rmRep.sorted.pos.bw.bigWig\n"
       ]
      },
      {
       "output_type": "stream",
       "stream": "stdout",
       "text": [
        "[sauron.ucsd.edu] out: "
       ]
      },
      {
       "output_type": "stream",
       "stream": "stdout",
       "text": [
        "hek293_lac_rep2.polyATrim.adapterTrim.rmRep.sorted.neg.bw.bigWig\n"
       ]
      },
      {
       "output_type": "stream",
       "stream": "stdout",
       "text": [
        "[sauron.ucsd.edu] out: "
       ]
      },
      {
       "output_type": "stream",
       "stream": "stdout",
       "text": [
        "hek293_lac_rep2.polyATrim.adapterTrim.rmRep.sorted.pos.bw.bigWig\n"
       ]
      },
      {
       "output_type": "stream",
       "stream": "stdout",
       "text": [
        "[sauron.ucsd.edu] out: "
       ]
      },
      {
       "output_type": "stream",
       "stream": "stdout",
       "text": [
        "trackDb.txt\n"
       ]
      },
      {
       "output_type": "stream",
       "stream": "stdout",
       "text": [
        "[sauron.ucsd.edu] out: "
       ]
      },
      {
       "output_type": "stream",
       "stream": "stdout",
       "text": [
        "trackDb.txt~\n"
       ]
      },
      {
       "output_type": "stream",
       "stream": "stdout",
       "text": [
        "[sauron.ucsd.edu] out: "
       ]
      },
      {
       "output_type": "stream",
       "stream": "stdout",
       "text": [
        "\n"
       ]
      },
      {
       "output_type": "stream",
       "stream": "stdout",
       "text": [
        "\n",
        "[localhost] local: rsync -azvr --progress /nas3/gpratt/projects/ribo_seq/hek293/lee_hek293/analysis/hek293_chx_rep1.polyATrim.adapterTrim.rmRep.sorted.neg.bw gpratt@sauron.ucsd.edu:/zfs/Hubs/riboseq_test/hg19/hek293_chx_rep1.polyATrim.adapterTrim.rmRep.sorted.neg.bw\n",
        "[sauron.ucsd.edu] run: ls /zfs/Hubs/riboseq_test/hg19"
       ]
      },
      {
       "output_type": "stream",
       "stream": "stdout",
       "text": [
        "\n",
        "[sauron.ucsd.edu] out: "
       ]
      },
      {
       "output_type": "stream",
       "stream": "stdout",
       "text": [
        "hek293_chx_rep1.polyATrim.adapterTrim.rmRep.sorted.neg.bw\n"
       ]
      },
      {
       "output_type": "stream",
       "stream": "stdout",
       "text": [
        "[sauron.ucsd.edu] out: "
       ]
      },
      {
       "output_type": "stream",
       "stream": "stdout",
       "text": [
        "hek293_chx_rep1.polyATrim.adapterTrim.rmRep.sorted.neg.bw.bigWig\n"
       ]
      },
      {
       "output_type": "stream",
       "stream": "stdout",
       "text": [
        "[sauron.ucsd.edu] out: "
       ]
      },
      {
       "output_type": "stream",
       "stream": "stdout",
       "text": [
        "hek293_chx_rep1.polyATrim.adapterTrim.rmRep.sorted.pos.bw\n"
       ]
      },
      {
       "output_type": "stream",
       "stream": "stdout",
       "text": [
        "[sauron.ucsd.edu] out: "
       ]
      },
      {
       "output_type": "stream",
       "stream": "stdout",
       "text": [
        "hek293_chx_rep1.polyATrim.adapterTrim.rmRep.sorted.pos.bw.bigWig\n"
       ]
      },
      {
       "output_type": "stream",
       "stream": "stdout",
       "text": [
        "[sauron.ucsd.edu] out: "
       ]
      },
      {
       "output_type": "stream",
       "stream": "stdout",
       "text": [
        "hek293_chx_rep2.polyATrim.adapterTrim.rmRep.sorted.neg.bw.bigWig\n"
       ]
      },
      {
       "output_type": "stream",
       "stream": "stdout",
       "text": [
        "[sauron.ucsd.edu] out: "
       ]
      },
      {
       "output_type": "stream",
       "stream": "stdout",
       "text": [
        "hek293_chx_rep2.polyATrim.adapterTrim.rmRep.sorted.pos.bw.bigWig\n"
       ]
      },
      {
       "output_type": "stream",
       "stream": "stdout",
       "text": [
        "[sauron.ucsd.edu] out: "
       ]
      },
      {
       "output_type": "stream",
       "stream": "stdout",
       "text": [
        "hek293_lac_rep1.polyATrim.adapterTrim.rmRep.sorted.neg.bw.bigWig\n"
       ]
      },
      {
       "output_type": "stream",
       "stream": "stdout",
       "text": [
        "[sauron.ucsd.edu] out: "
       ]
      },
      {
       "output_type": "stream",
       "stream": "stdout",
       "text": [
        "hek293_lac_rep1.polyATrim.adapterTrim.rmRep.sorted.pos.bw.bigWig\n"
       ]
      },
      {
       "output_type": "stream",
       "stream": "stdout",
       "text": [
        "[sauron.ucsd.edu] out: "
       ]
      },
      {
       "output_type": "stream",
       "stream": "stdout",
       "text": [
        "hek293_lac_rep2.polyATrim.adapterTrim.rmRep.sorted.neg.bw.bigWig\n"
       ]
      },
      {
       "output_type": "stream",
       "stream": "stdout",
       "text": [
        "[sauron.ucsd.edu] out: "
       ]
      },
      {
       "output_type": "stream",
       "stream": "stdout",
       "text": [
        "hek293_lac_rep2.polyATrim.adapterTrim.rmRep.sorted.pos.bw.bigWig\n"
       ]
      },
      {
       "output_type": "stream",
       "stream": "stdout",
       "text": [
        "[sauron.ucsd.edu] out: "
       ]
      },
      {
       "output_type": "stream",
       "stream": "stdout",
       "text": [
        "trackDb.txt\n"
       ]
      },
      {
       "output_type": "stream",
       "stream": "stdout",
       "text": [
        "[sauron.ucsd.edu] out: "
       ]
      },
      {
       "output_type": "stream",
       "stream": "stdout",
       "text": [
        "trackDb.txt~\n"
       ]
      },
      {
       "output_type": "stream",
       "stream": "stdout",
       "text": [
        "[sauron.ucsd.edu] out: "
       ]
      },
      {
       "output_type": "stream",
       "stream": "stdout",
       "text": [
        "\n"
       ]
      },
      {
       "output_type": "stream",
       "stream": "stdout",
       "text": [
        "\n",
        "[localhost] local: rsync -azvr --progress /nas3/gpratt/projects/ribo_seq/hek293/lee_hek293/analysis/hek293_chx_rep2.polyATrim.adapterTrim.rmRep.sorted.neg.bw gpratt@sauron.ucsd.edu:/zfs/Hubs/riboseq_test/hg19/hek293_chx_rep2.polyATrim.adapterTrim.rmRep.sorted.neg.bw\n",
        "[sauron.ucsd.edu] run: ls /zfs/Hubs/riboseq_test/hg19"
       ]
      },
      {
       "output_type": "stream",
       "stream": "stdout",
       "text": [
        "\n",
        "[sauron.ucsd.edu] out: "
       ]
      },
      {
       "output_type": "stream",
       "stream": "stdout",
       "text": [
        "hek293_chx_rep1.polyATrim.adapterTrim.rmRep.sorted.neg.bw\n"
       ]
      },
      {
       "output_type": "stream",
       "stream": "stdout",
       "text": [
        "[sauron.ucsd.edu] out: "
       ]
      },
      {
       "output_type": "stream",
       "stream": "stdout",
       "text": [
        "hek293_chx_rep1.polyATrim.adapterTrim.rmRep.sorted.neg.bw.bigWig\n"
       ]
      },
      {
       "output_type": "stream",
       "stream": "stdout",
       "text": [
        "[sauron.ucsd.edu] out: "
       ]
      },
      {
       "output_type": "stream",
       "stream": "stdout",
       "text": [
        "hek293_chx_rep1.polyATrim.adapterTrim.rmRep.sorted.pos.bw\n"
       ]
      },
      {
       "output_type": "stream",
       "stream": "stdout",
       "text": [
        "[sauron.ucsd.edu] out: "
       ]
      },
      {
       "output_type": "stream",
       "stream": "stdout",
       "text": [
        "hek293_chx_rep1.polyATrim.adapterTrim.rmRep.sorted.pos.bw.bigWig\n"
       ]
      },
      {
       "output_type": "stream",
       "stream": "stdout",
       "text": [
        "[sauron.ucsd.edu] out: "
       ]
      },
      {
       "output_type": "stream",
       "stream": "stdout",
       "text": [
        "hek293_chx_rep2.polyATrim.adapterTrim.rmRep.sorted.neg.bw\n"
       ]
      },
      {
       "output_type": "stream",
       "stream": "stdout",
       "text": [
        "[sauron.ucsd.edu] out: "
       ]
      },
      {
       "output_type": "stream",
       "stream": "stdout",
       "text": [
        "hek293_chx_rep2.polyATrim.adapterTrim.rmRep.sorted.neg.bw.bigWig\n"
       ]
      },
      {
       "output_type": "stream",
       "stream": "stdout",
       "text": [
        "[sauron.ucsd.edu] out: "
       ]
      },
      {
       "output_type": "stream",
       "stream": "stdout",
       "text": [
        "hek293_chx_rep2.polyATrim.adapterTrim.rmRep.sorted.pos.bw.bigWig\n"
       ]
      },
      {
       "output_type": "stream",
       "stream": "stdout",
       "text": [
        "[sauron.ucsd.edu] out: "
       ]
      },
      {
       "output_type": "stream",
       "stream": "stdout",
       "text": [
        "hek293_lac_rep1.polyATrim.adapterTrim.rmRep.sorted.neg.bw.bigWig\n"
       ]
      },
      {
       "output_type": "stream",
       "stream": "stdout",
       "text": [
        "[sauron.ucsd.edu] out: "
       ]
      },
      {
       "output_type": "stream",
       "stream": "stdout",
       "text": [
        "hek293_lac_rep1.polyATrim.adapterTrim.rmRep.sorted.pos.bw.bigWig\n"
       ]
      },
      {
       "output_type": "stream",
       "stream": "stdout",
       "text": [
        "[sauron.ucsd.edu] out: "
       ]
      },
      {
       "output_type": "stream",
       "stream": "stdout",
       "text": [
        "hek293_lac_rep2.polyATrim.adapterTrim.rmRep.sorted.neg.bw.bigWig\n"
       ]
      },
      {
       "output_type": "stream",
       "stream": "stdout",
       "text": [
        "[sauron.ucsd.edu] out: "
       ]
      },
      {
       "output_type": "stream",
       "stream": "stdout",
       "text": [
        "hek293_lac_rep2.polyATrim.adapterTrim.rmRep.sorted.pos.bw.bigWig\n"
       ]
      },
      {
       "output_type": "stream",
       "stream": "stdout",
       "text": [
        "[sauron.ucsd.edu] out: "
       ]
      },
      {
       "output_type": "stream",
       "stream": "stdout",
       "text": [
        "trackDb.txt\n"
       ]
      },
      {
       "output_type": "stream",
       "stream": "stdout",
       "text": [
        "[sauron.ucsd.edu] out: "
       ]
      },
      {
       "output_type": "stream",
       "stream": "stdout",
       "text": [
        "trackDb.txt~\n"
       ]
      },
      {
       "output_type": "stream",
       "stream": "stdout",
       "text": [
        "[sauron.ucsd.edu] out: "
       ]
      },
      {
       "output_type": "stream",
       "stream": "stdout",
       "text": [
        "\n"
       ]
      },
      {
       "output_type": "stream",
       "stream": "stdout",
       "text": [
        "\n",
        "[localhost] local: rsync -azvr --progress /nas3/gpratt/projects/ribo_seq/hek293/lee_hek293/analysis/hek293_chx_rep2.polyATrim.adapterTrim.rmRep.sorted.pos.bw gpratt@sauron.ucsd.edu:/zfs/Hubs/riboseq_test/hg19/hek293_chx_rep2.polyATrim.adapterTrim.rmRep.sorted.pos.bw\n",
        "[sauron.ucsd.edu] run: ls /zfs/Hubs/riboseq_test/hg19"
       ]
      },
      {
       "output_type": "stream",
       "stream": "stdout",
       "text": [
        "\n",
        "[sauron.ucsd.edu] out: "
       ]
      },
      {
       "output_type": "stream",
       "stream": "stdout",
       "text": [
        "hek293_chx_rep1.polyATrim.adapterTrim.rmRep.sorted.neg.bw\n"
       ]
      },
      {
       "output_type": "stream",
       "stream": "stdout",
       "text": [
        "[sauron.ucsd.edu] out: "
       ]
      },
      {
       "output_type": "stream",
       "stream": "stdout",
       "text": [
        "hek293_chx_rep1.polyATrim.adapterTrim.rmRep.sorted.neg.bw.bigWig\n"
       ]
      },
      {
       "output_type": "stream",
       "stream": "stdout",
       "text": [
        "[sauron.ucsd.edu] out: "
       ]
      },
      {
       "output_type": "stream",
       "stream": "stdout",
       "text": [
        "hek293_chx_rep1.polyATrim.adapterTrim.rmRep.sorted.pos.bw\n"
       ]
      },
      {
       "output_type": "stream",
       "stream": "stdout",
       "text": [
        "[sauron.ucsd.edu] out: "
       ]
      },
      {
       "output_type": "stream",
       "stream": "stdout",
       "text": [
        "hek293_chx_rep1.polyATrim.adapterTrim.rmRep.sorted.pos.bw.bigWig\n"
       ]
      },
      {
       "output_type": "stream",
       "stream": "stdout",
       "text": [
        "[sauron.ucsd.edu] out: "
       ]
      },
      {
       "output_type": "stream",
       "stream": "stdout",
       "text": [
        "hek293_chx_rep2.polyATrim.adapterTrim.rmRep.sorted.neg.bw\n"
       ]
      },
      {
       "output_type": "stream",
       "stream": "stdout",
       "text": [
        "[sauron.ucsd.edu] out: "
       ]
      },
      {
       "output_type": "stream",
       "stream": "stdout",
       "text": [
        "hek293_chx_rep2.polyATrim.adapterTrim.rmRep.sorted.neg.bw.bigWig\n"
       ]
      },
      {
       "output_type": "stream",
       "stream": "stdout",
       "text": [
        "[sauron.ucsd.edu] out: "
       ]
      },
      {
       "output_type": "stream",
       "stream": "stdout",
       "text": [
        "hek293_chx_rep2.polyATrim.adapterTrim.rmRep.sorted.pos.bw\n"
       ]
      },
      {
       "output_type": "stream",
       "stream": "stdout",
       "text": [
        "[sauron.ucsd.edu] out: "
       ]
      },
      {
       "output_type": "stream",
       "stream": "stdout",
       "text": [
        "hek293_chx_rep2.polyATrim.adapterTrim.rmRep.sorted.pos.bw.bigWig\n"
       ]
      },
      {
       "output_type": "stream",
       "stream": "stdout",
       "text": [
        "[sauron.ucsd.edu] out: "
       ]
      },
      {
       "output_type": "stream",
       "stream": "stdout",
       "text": [
        "hek293_lac_rep1.polyATrim.adapterTrim.rmRep.sorted.neg.bw.bigWig\n"
       ]
      },
      {
       "output_type": "stream",
       "stream": "stdout",
       "text": [
        "[sauron.ucsd.edu] out: "
       ]
      },
      {
       "output_type": "stream",
       "stream": "stdout",
       "text": [
        "hek293_lac_rep1.polyATrim.adapterTrim.rmRep.sorted.pos.bw.bigWig\n"
       ]
      },
      {
       "output_type": "stream",
       "stream": "stdout",
       "text": [
        "[sauron.ucsd.edu] out: "
       ]
      },
      {
       "output_type": "stream",
       "stream": "stdout",
       "text": [
        "hek293_lac_rep2.polyATrim.adapterTrim.rmRep.sorted.neg.bw.bigWig\n"
       ]
      },
      {
       "output_type": "stream",
       "stream": "stdout",
       "text": [
        "[sauron.ucsd.edu] out: "
       ]
      },
      {
       "output_type": "stream",
       "stream": "stdout",
       "text": [
        "hek293_lac_rep2.polyATrim.adapterTrim.rmRep.sorted.pos.bw.bigWig\n"
       ]
      },
      {
       "output_type": "stream",
       "stream": "stdout",
       "text": [
        "[sauron.ucsd.edu] out: "
       ]
      },
      {
       "output_type": "stream",
       "stream": "stdout",
       "text": [
        "trackDb.txt\n"
       ]
      },
      {
       "output_type": "stream",
       "stream": "stdout",
       "text": [
        "[sauron.ucsd.edu] out: "
       ]
      },
      {
       "output_type": "stream",
       "stream": "stdout",
       "text": [
        "trackDb.txt~\n"
       ]
      },
      {
       "output_type": "stream",
       "stream": "stdout",
       "text": [
        "[sauron.ucsd.edu] out: "
       ]
      },
      {
       "output_type": "stream",
       "stream": "stdout",
       "text": [
        "\n"
       ]
      },
      {
       "output_type": "stream",
       "stream": "stdout",
       "text": [
        "\n",
        "[localhost] local: rsync -azvr --progress /nas3/gpratt/projects/ribo_seq/hek293/lee_hek293/analysis/hek293_lac_rep1.polyATrim.adapterTrim.rmRep.sorted.neg.bw gpratt@sauron.ucsd.edu:/zfs/Hubs/riboseq_test/hg19/hek293_lac_rep1.polyATrim.adapterTrim.rmRep.sorted.neg.bw\n",
        "[sauron.ucsd.edu] run: ls /zfs/Hubs/riboseq_test/hg19"
       ]
      },
      {
       "output_type": "stream",
       "stream": "stdout",
       "text": [
        "\n",
        "[sauron.ucsd.edu] out: "
       ]
      },
      {
       "output_type": "stream",
       "stream": "stdout",
       "text": [
        "hek293_chx_rep1.polyATrim.adapterTrim.rmRep.sorted.neg.bw\n"
       ]
      },
      {
       "output_type": "stream",
       "stream": "stdout",
       "text": [
        "[sauron.ucsd.edu] out: "
       ]
      },
      {
       "output_type": "stream",
       "stream": "stdout",
       "text": [
        "hek293_chx_rep1.polyATrim.adapterTrim.rmRep.sorted.neg.bw.bigWig\n"
       ]
      },
      {
       "output_type": "stream",
       "stream": "stdout",
       "text": [
        "[sauron.ucsd.edu] out: "
       ]
      },
      {
       "output_type": "stream",
       "stream": "stdout",
       "text": [
        "hek293_chx_rep1.polyATrim.adapterTrim.rmRep.sorted.pos.bw\n"
       ]
      },
      {
       "output_type": "stream",
       "stream": "stdout",
       "text": [
        "[sauron.ucsd.edu] out: "
       ]
      },
      {
       "output_type": "stream",
       "stream": "stdout",
       "text": [
        "hek293_chx_rep1.polyATrim.adapterTrim.rmRep.sorted.pos.bw.bigWig\n"
       ]
      },
      {
       "output_type": "stream",
       "stream": "stdout",
       "text": [
        "[sauron.ucsd.edu] out: "
       ]
      },
      {
       "output_type": "stream",
       "stream": "stdout",
       "text": [
        "hek293_chx_rep2.polyATrim.adapterTrim.rmRep.sorted.neg.bw\n"
       ]
      },
      {
       "output_type": "stream",
       "stream": "stdout",
       "text": [
        "[sauron.ucsd.edu] out: "
       ]
      },
      {
       "output_type": "stream",
       "stream": "stdout",
       "text": [
        "hek293_chx_rep2.polyATrim.adapterTrim.rmRep.sorted.neg.bw.bigWig\n"
       ]
      },
      {
       "output_type": "stream",
       "stream": "stdout",
       "text": [
        "[sauron.ucsd.edu] out: "
       ]
      },
      {
       "output_type": "stream",
       "stream": "stdout",
       "text": [
        "hek293_chx_rep2.polyATrim.adapterTrim.rmRep.sorted.pos.bw\n"
       ]
      },
      {
       "output_type": "stream",
       "stream": "stdout",
       "text": [
        "[sauron.ucsd.edu] out: "
       ]
      },
      {
       "output_type": "stream",
       "stream": "stdout",
       "text": [
        "hek293_chx_rep2.polyATrim.adapterTrim.rmRep.sorted.pos.bw.bigWig\n"
       ]
      },
      {
       "output_type": "stream",
       "stream": "stdout",
       "text": [
        "[sauron.ucsd.edu] out: "
       ]
      },
      {
       "output_type": "stream",
       "stream": "stdout",
       "text": [
        "hek293_lac_rep1.polyATrim.adapterTrim.rmRep.sorted.neg.bw\n"
       ]
      },
      {
       "output_type": "stream",
       "stream": "stdout",
       "text": [
        "[sauron.ucsd.edu] out: "
       ]
      },
      {
       "output_type": "stream",
       "stream": "stdout",
       "text": [
        "hek293_lac_rep1.polyATrim.adapterTrim.rmRep.sorted.neg.bw.bigWig\n"
       ]
      },
      {
       "output_type": "stream",
       "stream": "stdout",
       "text": [
        "[sauron.ucsd.edu] out: "
       ]
      },
      {
       "output_type": "stream",
       "stream": "stdout",
       "text": [
        "hek293_lac_rep1.polyATrim.adapterTrim.rmRep.sorted.pos.bw.bigWig\n"
       ]
      },
      {
       "output_type": "stream",
       "stream": "stdout",
       "text": [
        "[sauron.ucsd.edu] out: "
       ]
      },
      {
       "output_type": "stream",
       "stream": "stdout",
       "text": [
        "hek293_lac_rep2.polyATrim.adapterTrim.rmRep.sorted.neg.bw.bigWig\n"
       ]
      },
      {
       "output_type": "stream",
       "stream": "stdout",
       "text": [
        "[sauron.ucsd.edu] out: "
       ]
      },
      {
       "output_type": "stream",
       "stream": "stdout",
       "text": [
        "hek293_lac_rep2.polyATrim.adapterTrim.rmRep.sorted.pos.bw.bigWig\n"
       ]
      },
      {
       "output_type": "stream",
       "stream": "stdout",
       "text": [
        "[sauron.ucsd.edu] out: "
       ]
      },
      {
       "output_type": "stream",
       "stream": "stdout",
       "text": [
        "trackDb.txt\n"
       ]
      },
      {
       "output_type": "stream",
       "stream": "stdout",
       "text": [
        "[sauron.ucsd.edu] out: "
       ]
      },
      {
       "output_type": "stream",
       "stream": "stdout",
       "text": [
        "trackDb.txt~\n"
       ]
      },
      {
       "output_type": "stream",
       "stream": "stdout",
       "text": [
        "[sauron.ucsd.edu] out: "
       ]
      },
      {
       "output_type": "stream",
       "stream": "stdout",
       "text": [
        "\n"
       ]
      },
      {
       "output_type": "stream",
       "stream": "stdout",
       "text": [
        "\n",
        "[localhost] local: rsync -azvr --progress /nas3/gpratt/projects/ribo_seq/hek293/lee_hek293/analysis/hek293_lac_rep1.polyATrim.adapterTrim.rmRep.sorted.pos.bw gpratt@sauron.ucsd.edu:/zfs/Hubs/riboseq_test/hg19/hek293_lac_rep1.polyATrim.adapterTrim.rmRep.sorted.pos.bw\n",
        "[sauron.ucsd.edu] run: ls /zfs/Hubs/riboseq_test/hg19"
       ]
      },
      {
       "output_type": "stream",
       "stream": "stdout",
       "text": [
        "\n",
        "[sauron.ucsd.edu] out: "
       ]
      },
      {
       "output_type": "stream",
       "stream": "stdout",
       "text": [
        "hek293_chx_rep1.polyATrim.adapterTrim.rmRep.sorted.neg.bw\n"
       ]
      },
      {
       "output_type": "stream",
       "stream": "stdout",
       "text": [
        "[sauron.ucsd.edu] out: "
       ]
      },
      {
       "output_type": "stream",
       "stream": "stdout",
       "text": [
        "hek293_chx_rep1.polyATrim.adapterTrim.rmRep.sorted.neg.bw.bigWig\n"
       ]
      },
      {
       "output_type": "stream",
       "stream": "stdout",
       "text": [
        "[sauron.ucsd.edu] out: "
       ]
      },
      {
       "output_type": "stream",
       "stream": "stdout",
       "text": [
        "hek293_chx_rep1.polyATrim.adapterTrim.rmRep.sorted.pos.bw\n"
       ]
      },
      {
       "output_type": "stream",
       "stream": "stdout",
       "text": [
        "[sauron.ucsd.edu] out: "
       ]
      },
      {
       "output_type": "stream",
       "stream": "stdout",
       "text": [
        "hek293_chx_rep1.polyATrim.adapterTrim.rmRep.sorted.pos.bw.bigWig\n"
       ]
      },
      {
       "output_type": "stream",
       "stream": "stdout",
       "text": [
        "[sauron.ucsd.edu] out: "
       ]
      },
      {
       "output_type": "stream",
       "stream": "stdout",
       "text": [
        "hek293_chx_rep2.polyATrim.adapterTrim.rmRep.sorted.neg.bw\n"
       ]
      },
      {
       "output_type": "stream",
       "stream": "stdout",
       "text": [
        "[sauron.ucsd.edu] out: "
       ]
      },
      {
       "output_type": "stream",
       "stream": "stdout",
       "text": [
        "hek293_chx_rep2.polyATrim.adapterTrim.rmRep.sorted.neg.bw.bigWig\n"
       ]
      },
      {
       "output_type": "stream",
       "stream": "stdout",
       "text": [
        "[sauron.ucsd.edu] out: "
       ]
      },
      {
       "output_type": "stream",
       "stream": "stdout",
       "text": [
        "hek293_chx_rep2.polyATrim.adapterTrim.rmRep.sorted.pos.bw\n"
       ]
      },
      {
       "output_type": "stream",
       "stream": "stdout",
       "text": [
        "[sauron.ucsd.edu] out: "
       ]
      },
      {
       "output_type": "stream",
       "stream": "stdout",
       "text": [
        "hek293_chx_rep2.polyATrim.adapterTrim.rmRep.sorted.pos.bw.bigWig\n"
       ]
      },
      {
       "output_type": "stream",
       "stream": "stdout",
       "text": [
        "[sauron.ucsd.edu] out: "
       ]
      },
      {
       "output_type": "stream",
       "stream": "stdout",
       "text": [
        "hek293_lac_rep1.polyATrim.adapterTrim.rmRep.sorted.neg.bw\n"
       ]
      },
      {
       "output_type": "stream",
       "stream": "stdout",
       "text": [
        "[sauron.ucsd.edu] out: "
       ]
      },
      {
       "output_type": "stream",
       "stream": "stdout",
       "text": [
        "hek293_lac_rep1.polyATrim.adapterTrim.rmRep.sorted.neg.bw.bigWig\n"
       ]
      },
      {
       "output_type": "stream",
       "stream": "stdout",
       "text": [
        "[sauron.ucsd.edu] out: "
       ]
      },
      {
       "output_type": "stream",
       "stream": "stdout",
       "text": [
        "hek293_lac_rep1.polyATrim.adapterTrim.rmRep.sorted.pos.bw\n"
       ]
      },
      {
       "output_type": "stream",
       "stream": "stdout",
       "text": [
        "[sauron.ucsd.edu] out: "
       ]
      },
      {
       "output_type": "stream",
       "stream": "stdout",
       "text": [
        "hek293_lac_rep1.polyATrim.adapterTrim.rmRep.sorted.pos.bw.bigWig\n"
       ]
      },
      {
       "output_type": "stream",
       "stream": "stdout",
       "text": [
        "[sauron.ucsd.edu] out: "
       ]
      },
      {
       "output_type": "stream",
       "stream": "stdout",
       "text": [
        "hek293_lac_rep2.polyATrim.adapterTrim.rmRep.sorted.neg.bw.bigWig\n"
       ]
      },
      {
       "output_type": "stream",
       "stream": "stdout",
       "text": [
        "[sauron.ucsd.edu] out: "
       ]
      },
      {
       "output_type": "stream",
       "stream": "stdout",
       "text": [
        "hek293_lac_rep2.polyATrim.adapterTrim.rmRep.sorted.pos.bw.bigWig\n"
       ]
      },
      {
       "output_type": "stream",
       "stream": "stdout",
       "text": [
        "[sauron.ucsd.edu] out: "
       ]
      },
      {
       "output_type": "stream",
       "stream": "stdout",
       "text": [
        "trackDb.txt\n"
       ]
      },
      {
       "output_type": "stream",
       "stream": "stdout",
       "text": [
        "[sauron.ucsd.edu] out: "
       ]
      },
      {
       "output_type": "stream",
       "stream": "stdout",
       "text": [
        "trackDb.txt~\n"
       ]
      },
      {
       "output_type": "stream",
       "stream": "stdout",
       "text": [
        "[sauron.ucsd.edu] out: "
       ]
      },
      {
       "output_type": "stream",
       "stream": "stdout",
       "text": [
        "\n"
       ]
      },
      {
       "output_type": "stream",
       "stream": "stdout",
       "text": [
        "\n",
        "[localhost] local: rsync -azvr --progress /nas3/gpratt/projects/ribo_seq/hek293/lee_hek293/analysis/hek293_lac_rep2.polyATrim.adapterTrim.rmRep.sorted.pos.bw gpratt@sauron.ucsd.edu:/zfs/Hubs/riboseq_test/hg19/hek293_lac_rep2.polyATrim.adapterTrim.rmRep.sorted.pos.bw\n",
        "[sauron.ucsd.edu] run: ls /zfs/Hubs/riboseq_test/hg19"
       ]
      },
      {
       "output_type": "stream",
       "stream": "stdout",
       "text": [
        "\n",
        "[sauron.ucsd.edu] out: "
       ]
      },
      {
       "output_type": "stream",
       "stream": "stdout",
       "text": [
        "hek293_chx_rep1.polyATrim.adapterTrim.rmRep.sorted.neg.bw\n"
       ]
      },
      {
       "output_type": "stream",
       "stream": "stdout",
       "text": [
        "[sauron.ucsd.edu] out: "
       ]
      },
      {
       "output_type": "stream",
       "stream": "stdout",
       "text": [
        "hek293_chx_rep1.polyATrim.adapterTrim.rmRep.sorted.neg.bw.bigWig\n"
       ]
      },
      {
       "output_type": "stream",
       "stream": "stdout",
       "text": [
        "[sauron.ucsd.edu] out: "
       ]
      },
      {
       "output_type": "stream",
       "stream": "stdout",
       "text": [
        "hek293_chx_rep1.polyATrim.adapterTrim.rmRep.sorted.pos.bw\n"
       ]
      },
      {
       "output_type": "stream",
       "stream": "stdout",
       "text": [
        "[sauron.ucsd.edu] out: "
       ]
      },
      {
       "output_type": "stream",
       "stream": "stdout",
       "text": [
        "hek293_chx_rep1.polyATrim.adapterTrim.rmRep.sorted.pos.bw.bigWig\n"
       ]
      },
      {
       "output_type": "stream",
       "stream": "stdout",
       "text": [
        "[sauron.ucsd.edu] out: "
       ]
      },
      {
       "output_type": "stream",
       "stream": "stdout",
       "text": [
        "hek293_chx_rep2.polyATrim.adapterTrim.rmRep.sorted.neg.bw\n"
       ]
      },
      {
       "output_type": "stream",
       "stream": "stdout",
       "text": [
        "[sauron.ucsd.edu] out: "
       ]
      },
      {
       "output_type": "stream",
       "stream": "stdout",
       "text": [
        "hek293_chx_rep2.polyATrim.adapterTrim.rmRep.sorted.neg.bw.bigWig\n"
       ]
      },
      {
       "output_type": "stream",
       "stream": "stdout",
       "text": [
        "[sauron.ucsd.edu] out: "
       ]
      },
      {
       "output_type": "stream",
       "stream": "stdout",
       "text": [
        "hek293_chx_rep2.polyATrim.adapterTrim.rmRep.sorted.pos.bw\n"
       ]
      },
      {
       "output_type": "stream",
       "stream": "stdout",
       "text": [
        "[sauron.ucsd.edu] out: "
       ]
      },
      {
       "output_type": "stream",
       "stream": "stdout",
       "text": [
        "hek293_chx_rep2.polyATrim.adapterTrim.rmRep.sorted.pos.bw.bigWig\n"
       ]
      },
      {
       "output_type": "stream",
       "stream": "stdout",
       "text": [
        "[sauron.ucsd.edu] out: "
       ]
      },
      {
       "output_type": "stream",
       "stream": "stdout",
       "text": [
        "hek293_lac_rep1.polyATrim.adapterTrim.rmRep.sorted.neg.bw\n"
       ]
      },
      {
       "output_type": "stream",
       "stream": "stdout",
       "text": [
        "[sauron.ucsd.edu] out: "
       ]
      },
      {
       "output_type": "stream",
       "stream": "stdout",
       "text": [
        "hek293_lac_rep1.polyATrim.adapterTrim.rmRep.sorted.neg.bw.bigWig\n"
       ]
      },
      {
       "output_type": "stream",
       "stream": "stdout",
       "text": [
        "[sauron.ucsd.edu] out: "
       ]
      },
      {
       "output_type": "stream",
       "stream": "stdout",
       "text": [
        "hek293_lac_rep1.polyATrim.adapterTrim.rmRep.sorted.pos.bw\n"
       ]
      },
      {
       "output_type": "stream",
       "stream": "stdout",
       "text": [
        "[sauron.ucsd.edu] out: "
       ]
      },
      {
       "output_type": "stream",
       "stream": "stdout",
       "text": [
        "hek293_lac_rep1.polyATrim.adapterTrim.rmRep.sorted.pos.bw.bigWig\n"
       ]
      },
      {
       "output_type": "stream",
       "stream": "stdout",
       "text": [
        "[sauron.ucsd.edu] out: "
       ]
      },
      {
       "output_type": "stream",
       "stream": "stdout",
       "text": [
        "hek293_lac_rep2.polyATrim.adapterTrim.rmRep.sorted.neg.bw.bigWig\n"
       ]
      },
      {
       "output_type": "stream",
       "stream": "stdout",
       "text": [
        "[sauron.ucsd.edu] out: "
       ]
      },
      {
       "output_type": "stream",
       "stream": "stdout",
       "text": [
        "hek293_lac_rep2.polyATrim.adapterTrim.rmRep.sorted.pos.bw\n"
       ]
      },
      {
       "output_type": "stream",
       "stream": "stdout",
       "text": [
        "[sauron.ucsd.edu] out: "
       ]
      },
      {
       "output_type": "stream",
       "stream": "stdout",
       "text": [
        "hek293_lac_rep2.polyATrim.adapterTrim.rmRep.sorted.pos.bw.bigWig\n"
       ]
      },
      {
       "output_type": "stream",
       "stream": "stdout",
       "text": [
        "[sauron.ucsd.edu] out: "
       ]
      },
      {
       "output_type": "stream",
       "stream": "stdout",
       "text": [
        "trackDb.txt\n"
       ]
      },
      {
       "output_type": "stream",
       "stream": "stdout",
       "text": [
        "[sauron.ucsd.edu] out: "
       ]
      },
      {
       "output_type": "stream",
       "stream": "stdout",
       "text": [
        "trackDb.txt~\n"
       ]
      },
      {
       "output_type": "stream",
       "stream": "stdout",
       "text": [
        "[sauron.ucsd.edu] out: "
       ]
      },
      {
       "output_type": "stream",
       "stream": "stdout",
       "text": [
        "\n"
       ]
      },
      {
       "output_type": "stream",
       "stream": "stdout",
       "text": [
        "\n",
        "[localhost] local: rsync -azvr --progress /nas3/gpratt/projects/ribo_seq/hek293/lee_hek293/analysis/hek293_lac_rep2.polyATrim.adapterTrim.rmRep.sorted.neg.bw gpratt@sauron.ucsd.edu:/zfs/Hubs/riboseq_test/hg19/hek293_lac_rep2.polyATrim.adapterTrim.rmRep.sorted.neg.bw\n",
        "{'port': 22, 'host': 'sauron.ucsd.edu', 'user': 'gpratt', 'run_local': False, 'rsync_options': '-azvr --progress'}"
       ]
      },
      {
       "output_type": "stream",
       "stream": "stdout",
       "text": [
        "\n",
        "[sauron.ucsd.edu] run: ls /zfs/Hubs/riboseq_test\n",
        "[sauron.ucsd.edu] out: "
       ]
      },
      {
       "output_type": "stream",
       "stream": "stdout",
       "text": [
        "hg19  hub.txt  riboseq_hub.genomes.txt\n"
       ]
      },
      {
       "output_type": "stream",
       "stream": "stdout",
       "text": [
        "[sauron.ucsd.edu] out: "
       ]
      },
      {
       "output_type": "stream",
       "stream": "stdout",
       "text": [
        "\n"
       ]
      },
      {
       "output_type": "stream",
       "stream": "stdout",
       "text": [
        "\n",
        "[localhost] local: rsync -azvr --progress riboseq_hub.hub.txt gpratt@sauron.ucsd.edu:/zfs/Hubs/riboseq_test/hub.txt\n",
        "riboseq_hub.genomes.txt"
       ]
      },
      {
       "output_type": "stream",
       "stream": "stdout",
       "text": [
        "\n",
        "[sauron.ucsd.edu] run: ls /zfs/Hubs/riboseq_test\n",
        "[sauron.ucsd.edu] out: "
       ]
      },
      {
       "output_type": "stream",
       "stream": "stdout",
       "text": [
        "hg19  hub.txt  riboseq_hub.genomes.txt\n"
       ]
      },
      {
       "output_type": "stream",
       "stream": "stdout",
       "text": [
        "[sauron.ucsd.edu] out: "
       ]
      },
      {
       "output_type": "stream",
       "stream": "stdout",
       "text": [
        "\n"
       ]
      },
      {
       "output_type": "stream",
       "stream": "stdout",
       "text": [
        "\n",
        "[localhost] local: rsync -azvr --progress riboseq_hub.genomes.txt gpratt@sauron.ucsd.edu:/zfs/Hubs/riboseq_test/riboseq_hub.genomes.txt\n",
        "[sauron.ucsd.edu] run: ls /zfs/Hubs/riboseq_test/hg19"
       ]
      },
      {
       "output_type": "stream",
       "stream": "stdout",
       "text": [
        "\n",
        "[sauron.ucsd.edu] out: "
       ]
      },
      {
       "output_type": "stream",
       "stream": "stdout",
       "text": [
        "hek293_chx_rep1.polyATrim.adapterTrim.rmRep.sorted.neg.bw\n"
       ]
      },
      {
       "output_type": "stream",
       "stream": "stdout",
       "text": [
        "[sauron.ucsd.edu] out: "
       ]
      },
      {
       "output_type": "stream",
       "stream": "stdout",
       "text": [
        "hek293_chx_rep1.polyATrim.adapterTrim.rmRep.sorted.neg.bw.bigWig\n"
       ]
      },
      {
       "output_type": "stream",
       "stream": "stdout",
       "text": [
        "[sauron.ucsd.edu] out: "
       ]
      },
      {
       "output_type": "stream",
       "stream": "stdout",
       "text": [
        "hek293_chx_rep1.polyATrim.adapterTrim.rmRep.sorted.pos.bw\n"
       ]
      },
      {
       "output_type": "stream",
       "stream": "stdout",
       "text": [
        "[sauron.ucsd.edu] out: "
       ]
      },
      {
       "output_type": "stream",
       "stream": "stdout",
       "text": [
        "hek293_chx_rep1.polyATrim.adapterTrim.rmRep.sorted.pos.bw.bigWig\n"
       ]
      },
      {
       "output_type": "stream",
       "stream": "stdout",
       "text": [
        "[sauron.ucsd.edu] out: "
       ]
      },
      {
       "output_type": "stream",
       "stream": "stdout",
       "text": [
        "hek293_chx_rep2.polyATrim.adapterTrim.rmRep.sorted.neg.bw\n"
       ]
      },
      {
       "output_type": "stream",
       "stream": "stdout",
       "text": [
        "[sauron.ucsd.edu] out: "
       ]
      },
      {
       "output_type": "stream",
       "stream": "stdout",
       "text": [
        "hek293_chx_rep2.polyATrim.adapterTrim.rmRep.sorted.neg.bw.bigWig\n"
       ]
      },
      {
       "output_type": "stream",
       "stream": "stdout",
       "text": [
        "[sauron.ucsd.edu] out: "
       ]
      },
      {
       "output_type": "stream",
       "stream": "stdout",
       "text": [
        "hek293_chx_rep2.polyATrim.adapterTrim.rmRep.sorted.pos.bw\n"
       ]
      },
      {
       "output_type": "stream",
       "stream": "stdout",
       "text": [
        "[sauron.ucsd.edu] out: "
       ]
      },
      {
       "output_type": "stream",
       "stream": "stdout",
       "text": [
        "hek293_chx_rep2.polyATrim.adapterTrim.rmRep.sorted.pos.bw.bigWig\n"
       ]
      },
      {
       "output_type": "stream",
       "stream": "stdout",
       "text": [
        "[sauron.ucsd.edu] out: "
       ]
      },
      {
       "output_type": "stream",
       "stream": "stdout",
       "text": [
        "hek293_lac_rep1.polyATrim.adapterTrim.rmRep.sorted.neg.bw\n"
       ]
      },
      {
       "output_type": "stream",
       "stream": "stdout",
       "text": [
        "[sauron.ucsd.edu] out: "
       ]
      },
      {
       "output_type": "stream",
       "stream": "stdout",
       "text": [
        "hek293_lac_rep1.polyATrim.adapterTrim.rmRep.sorted.neg.bw.bigWig\n"
       ]
      },
      {
       "output_type": "stream",
       "stream": "stdout",
       "text": [
        "[sauron.ucsd.edu] out: "
       ]
      },
      {
       "output_type": "stream",
       "stream": "stdout",
       "text": [
        "hek293_lac_rep1.polyATrim.adapterTrim.rmRep.sorted.pos.bw\n"
       ]
      },
      {
       "output_type": "stream",
       "stream": "stdout",
       "text": [
        "[sauron.ucsd.edu] out: "
       ]
      },
      {
       "output_type": "stream",
       "stream": "stdout",
       "text": [
        "hek293_lac_rep1.polyATrim.adapterTrim.rmRep.sorted.pos.bw.bigWig\n"
       ]
      },
      {
       "output_type": "stream",
       "stream": "stdout",
       "text": [
        "[sauron.ucsd.edu] out: "
       ]
      },
      {
       "output_type": "stream",
       "stream": "stdout",
       "text": [
        "hek293_lac_rep2.polyATrim.adapterTrim.rmRep.sorted.neg.bw\n"
       ]
      },
      {
       "output_type": "stream",
       "stream": "stdout",
       "text": [
        "[sauron.ucsd.edu] out: "
       ]
      },
      {
       "output_type": "stream",
       "stream": "stdout",
       "text": [
        "hek293_lac_rep2.polyATrim.adapterTrim.rmRep.sorted.neg.bw.bigWig\n"
       ]
      },
      {
       "output_type": "stream",
       "stream": "stdout",
       "text": [
        "[sauron.ucsd.edu] out: "
       ]
      },
      {
       "output_type": "stream",
       "stream": "stdout",
       "text": [
        "hek293_lac_rep2.polyATrim.adapterTrim.rmRep.sorted.pos.bw\n"
       ]
      },
      {
       "output_type": "stream",
       "stream": "stdout",
       "text": [
        "[sauron.ucsd.edu] out: "
       ]
      },
      {
       "output_type": "stream",
       "stream": "stdout",
       "text": [
        "hek293_lac_rep2.polyATrim.adapterTrim.rmRep.sorted.pos.bw.bigWig\n"
       ]
      },
      {
       "output_type": "stream",
       "stream": "stdout",
       "text": [
        "[sauron.ucsd.edu] out: "
       ]
      },
      {
       "output_type": "stream",
       "stream": "stdout",
       "text": [
        "trackDb.txt\n"
       ]
      },
      {
       "output_type": "stream",
       "stream": "stdout",
       "text": [
        "[sauron.ucsd.edu] out: "
       ]
      },
      {
       "output_type": "stream",
       "stream": "stdout",
       "text": [
        "trackDb.txt~\n"
       ]
      },
      {
       "output_type": "stream",
       "stream": "stdout",
       "text": [
        "[sauron.ucsd.edu] out: "
       ]
      },
      {
       "output_type": "stream",
       "stream": "stdout",
       "text": [
        "\n"
       ]
      },
      {
       "output_type": "stream",
       "stream": "stdout",
       "text": [
        "\n",
        "[localhost] local: rsync -azvr --progress hg19/trackDb.txt gpratt@sauron.ucsd.edu:/zfs/Hubs/riboseq_test/hg19/trackDb.txt\n"
       ]
      },
      {
       "output_type": "pyout",
       "prompt_number": 41,
       "text": [
        "['', '', '']"
       ]
      }
     ],
     "prompt_number": 41
    },
    {
     "cell_type": "code",
     "collapsed": false,
     "input": [
      "\"/nas3/gpratt/projects/ribo_seq/hek293/lee_hek293/analysis/hek293_chx_rep1.polyATrim.adapterTrim.rmRep.sorted.neg.bw\""
     ],
     "language": "python",
     "metadata": {},
     "outputs": []
    }
   ],
   "metadata": {}
  }
 ]
}