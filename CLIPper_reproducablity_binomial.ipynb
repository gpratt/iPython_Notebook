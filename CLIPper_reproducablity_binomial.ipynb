{
 "metadata": {
  "name": ""
 },
 "nbformat": 3,
 "nbformat_minor": 0,
 "worksheets": [
  {
   "cells": [
    {
     "cell_type": "code",
     "collapsed": false,
     "input": [
      "from clipper.src.peakfinder import build_transcript_data_gtf_as_structure\n",
      "from clipper.src.call_peak import get_FDR_cutoff_binom\n",
      "from clipper.src.readsToWiggle import readsToWiggle_pysam\n",
      "\n",
      "import pysam\n",
      "import pandas as pd"
     ],
     "language": "python",
     "metadata": {},
     "outputs": [],
     "prompt_number": "*"
    },
    {
     "cell_type": "code",
     "collapsed": false,
     "input": [
      "genes = build_transcript_data_gtf_as_structure(\"hg19\", True).saveas()"
     ],
     "language": "python",
     "metadata": {},
     "outputs": [],
     "prompt_number": "*"
    },
    {
     "cell_type": "code",
     "collapsed": false,
     "input": [
      "cd /nas3/gpratt/projects/public_clip/v2/"
     ],
     "language": "python",
     "metadata": {},
     "outputs": [],
     "prompt_number": "*"
    },
    {
     "cell_type": "code",
     "collapsed": false,
     "input": [
      "public_samples = !ls *.bam"
     ],
     "language": "python",
     "metadata": {},
     "outputs": [],
     "prompt_number": "*"
    },
    {
     "cell_type": "code",
     "collapsed": false,
     "input": [
      "interval = genes[1]\n",
      "subset_reads = bam_fileobj.fetch(reference=interval.chrom, start=interval.start, end=interval.stop)\n",
      "wiggle, jxns, pos_counts, read_lengths, allreads = readsToWiggle_pysam(subset_reads, interval.start, interval.stop, interval.strand, \"center\", False)\n",
      "gene_length = interval.attrs['effective_length']\n",
      "print get_FDR_cutoff_binom(read_lengths, gene_length, .05)"
     ],
     "language": "python",
     "metadata": {},
     "outputs": [],
     "prompt_number": "*"
    },
    {
     "cell_type": "code",
     "collapsed": false,
     "input": [
      "encode_samples"
     ],
     "language": "python",
     "metadata": {},
     "outputs": [],
     "prompt_number": "*"
    },
    {
     "cell_type": "code",
     "collapsed": false,
     "input": [
      "mean(read_lengths)"
     ],
     "language": "python",
     "metadata": {},
     "outputs": [],
     "prompt_number": "*"
    },
    {
     "cell_type": "code",
     "collapsed": false,
     "input": [
      "public_sample_dict = {}\n",
      "for sample in public_samples:\n",
      "    bam_fileobj = pysam.Samfile(sample, 'rb')\n",
      "    cutoffs = []\n",
      "    for interval in genes:\n",
      "        try:\n",
      "            subset_reads = bam_fileobj.fetch(reference=interval.chrom, start=interval.start, end=interval.stop)\n",
      "            wiggle, jxns, pos_counts, read_lengths, allreads = readsToWiggle_pysam(subset_reads, interval.start, interval.stop, interval.strand, \"center\", False)\n",
      "            gene_length = interval.attrs['effective_length']\n",
      "            cutoffs.append(get_FDR_cutoff_binom(read_lengths, gene_length, .05))\n",
      "\n",
      "        except ValueError:\n",
      "            pass\n",
      "    \n",
      "    public_sample_dict[sample] = {\"cutoffs\" : cutoffs, \"read_lengths\" : read_lengths, \"gene_length\" : gene_length}"
     ],
     "language": "python",
     "metadata": {},
     "outputs": [],
     "prompt_number": "*"
    },
    {
     "cell_type": "code",
     "collapsed": false,
     "input": [
      "figsize(10,50)\n",
      "for i, (name, cutoffs) in enumerate(public_sample_dict.items()):\n",
      "    subplot(len(public_sample_dict) / 2, 2, i + 1)\n",
      "    cutoffs = array(cutoffs['cutoffs'])\n",
      "    if sum(cutoffs > 2) > 0:\n",
      "        hist(cutoffs[cutoffs > 2], bins=max(cutoffs))\n",
      "        title(name.split(\".\")[0] + \" {:.2%}\".format(float(sum(cutoffs == 2)) / len(cutoffs) ))\n",
      "tight_layout()"
     ],
     "language": "python",
     "metadata": {},
     "outputs": [],
     "prompt_number": "*"
    },
    {
     "cell_type": "markdown",
     "metadata": {},
     "source": [
      "The majority of public clip datasets have no adjusted cutoff, I need to figure out if this is due to a lack of reads, across transcripts \n",
      "generally, of if its due to most transcripts just having no reads.  \n",
      "\n",
      "Don't forget eventual goal of looking at the REPRODUCABLITY between all technical replicates, this might side track me a bit.  I think its a usefull\n",
      "side question to ask though"
     ]
    },
    {
     "cell_type": "code",
     "collapsed": false,
     "input": [
      "cd /nas3/gpratt/projects/clipper/reproducablity/encode_datasets"
     ],
     "language": "python",
     "metadata": {},
     "outputs": [],
     "prompt_number": "*"
    },
    {
     "cell_type": "code",
     "collapsed": false,
     "input": [
      "encode_samples = !ls *[A-B].bam"
     ],
     "language": "python",
     "metadata": {},
     "outputs": [],
     "prompt_number": "*"
    },
    {
     "cell_type": "code",
     "collapsed": false,
     "input": [
      "encode_sample_dict = {}\n",
      "for sample in encode_samples:\n",
      "    bam_fileobj = pysam.Samfile(sample, 'rb')\n",
      "    results = {}\n",
      "    read_num = []\n",
      "    gene_lengths = []\n",
      "    for interval in genes:\n",
      "        try:\n",
      "            subset_reads = bam_fileobj.fetch(reference=interval.chrom, start=interval.start, end=interval.stop)\n",
      "            wiggle, jxns, pos_counts, read_lengths, allreads = readsToWiggle_pysam(subset_reads, interval.start, interval.stop, interval.strand, \"center\", False)\n",
      "            gene_length = interval.attrs['effective_length']\n",
      "            results[interval.name] = {\"cutoff\" : get_FDR_cutoff_binom(read_lengths, gene_length, .05),\n",
      "                                      \"num_reads\" : len(read_lengths),\n",
      "                                      \"gene_length\" : gene_length\n",
      "                                      }\n",
      "            \n",
      "        except ValueError:\n",
      "            pass\n",
      "    encode_sample_dict[sample] = results"
     ],
     "language": "python",
     "metadata": {},
     "outputs": [],
     "prompt_number": "*"
    },
    {
     "cell_type": "code",
     "collapsed": false,
     "input": [
      "figsize(10,50)\n",
      "for i, (name, cutoffs) in enumerate(encode_sample_dict.items()):\n",
      "    subplot((len(encode_sample_dict) + 1) / 2, 2, i + 1)\n",
      "    cutoffs = array(cutoffs['cutoffs'])\n",
      "    if sum(cutoffs > 2) > 0:\n",
      "        hist(cutoffs[cutoffs > 2], bins=max(cutoffs))\n",
      "        title(name.split(\".\")[0] + \" {:.2%}\".format(float(sum(cutoffs == 2)) / len(cutoffs) ) + \" \" + str(sum(cutoffs > 2)))\n",
      "tight_layout()"
     ],
     "language": "python",
     "metadata": {},
     "outputs": [],
     "prompt_number": "*"
    },
    {
     "cell_type": "code",
     "collapsed": false,
     "input": [
      "merged_peaks = {name : value for name, value in encode_sample_dict.items() if name.endswith(\"_A.peaks.bed.all_peaks.pickle\") or name.endswith(\"_B.peaks.bed.all_peaks.pickle\")}"
     ],
     "language": "python",
     "metadata": {},
     "outputs": [],
     "prompt_number": "*"
    },
    {
     "cell_type": "code",
     "collapsed": false,
     "input": [
      "real_encode_jaccard = []\n",
      "encode_result_dict = defaultdict(dict)\n",
      "for name, group in groupby(sorted(merged_peaks.keys()), key=lambda x: x.split(\"_\")[0]):"
     ],
     "language": "python",
     "metadata": {},
     "outputs": [],
     "prompt_number": "*"
    },
    {
     "cell_type": "markdown",
     "metadata": {},
     "source": [
      "would changing this cutoff effect reproducablity upstream?\n",
      "how well correlated are the cutoffs in general?\n",
      "really all this is is a fancy way of looking at RPKM, but with a more targeted question"
     ]
    },
    {
     "cell_type": "code",
     "collapsed": false,
     "input": [
      "encode_sample_dfs = {name : pd.DataFrame(value) for name, value in encode_sample_dict.items()}"
     ],
     "language": "python",
     "metadata": {},
     "outputs": [],
     "prompt_number": "*"
    },
    {
     "cell_type": "code",
     "collapsed": false,
     "input": [
      "figsize(10,10)\n",
      "loglog(encode_sample_dfs['FOX2_A.bam'].cutoffs, encode_sample_dfs['FOX2_B.bam'].cutoffs,\"o\")"
     ],
     "language": "python",
     "metadata": {},
     "outputs": [],
     "prompt_number": "*"
    },
    {
     "cell_type": "code",
     "collapsed": false,
     "input": [
      "loglog(encode_sample_dfs['FOX2_A.bam'].read_lengths, encode_sample_dfs['FOX2_A.bam'].cutoffs, \"o\")"
     ],
     "language": "python",
     "metadata": {},
     "outputs": [],
     "prompt_number": "*"
    },
    {
     "cell_type": "code",
     "collapsed": false,
     "input": [
      "x = encode_sample_dfs['FOX2_A.bam'][encode_sample_dfs['FOX2_A.bam'].cutoffs == 2]\n",
      "x = x[x.read_lengths > 10]"
     ],
     "language": "python",
     "metadata": {},
     "outputs": [],
     "prompt_number": "*"
    },
    {
     "cell_type": "code",
     "collapsed": false,
     "input": [
      "x = hist(x[x.read_lengths < 2000].read_lengths, bins=100)"
     ],
     "language": "python",
     "metadata": {},
     "outputs": [],
     "prompt_number": "*"
    },
    {
     "cell_type": "markdown",
     "metadata": {},
     "source": [
      "What does this mean?  Lots of genes have cutoffs?  "
     ]
    }
   ],
   "metadata": {}
  }
 ]
}