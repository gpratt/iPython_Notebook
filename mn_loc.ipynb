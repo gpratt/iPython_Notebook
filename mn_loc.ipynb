{
 "metadata": {
  "name": "",
  "signature": "sha256:4c1818a448991e8ccb046dd9b05e3dc33bbc2a55b2fc47ef215ff58efb671b19"
 },
 "nbformat": 3,
 "nbformat_minor": 0,
 "worksheets": [
  {
   "cells": [
    {
     "cell_type": "code",
     "collapsed": false,
     "input": [
      "import glob \n",
      "import itertools\n",
      "import os \n",
      "\n",
      "from gscripts.general import parsers\n",
      "from matplotlib import gridspec\n",
      "import seaborn as sns\n",
      "from gscripts.general import dataviz\n",
      "import scipy\n",
      "\n",
      "import numpy as np\n",
      "\n",
      "from IPython.core.display import HTML\n",
      "import pandas as pd\n",
      "\n",
      "img_dir = \".\""
     ],
     "language": "python",
     "metadata": {},
     "outputs": [],
     "prompt_number": 1
    },
    {
     "cell_type": "code",
     "collapsed": false,
     "input": [
      "!mkdir -p /nas3/gpratt/projects/mn_localization/analysis/20150212_prototype_v4\n",
      "!scp -q tscc-login.sdsc.edu:/home/gpratt/projects/mn_localization/analysis/20150212_prototype_v4/*.{metrics,final.out,rpkm} /nas3/gpratt/projects/mn_localization/analysis/20150212_prototype_v4"
     ],
     "language": "python",
     "metadata": {},
     "outputs": [],
     "prompt_number": 26
    },
    {
     "cell_type": "code",
     "collapsed": false,
     "input": [
      "analysis_dir = \"/nas3/gpratt/projects/mn_localization/analysis/20150212_prototype_v4\"\n",
      "fet_clip = parsers.rnaseq_metrics(analysis_dir)\n",
      "\n",
      "fet_clip[\"Reads After Triming\"] = fet_clip['Input Reads'] - fet_clip['Too short reads']\n",
      "\n",
      "filtered_guttman_clip = fet_clip[[ \"Input Reads\",\n",
      "                            \"Reads After Triming\",\n",
      "                            \"Uniquely Mapped Reads\",\n",
      "                            \"Uniquely mapped reads %\",\n",
      "                            '% of reads mapped to multiple loci',\n",
      "                            'Percent Repetative',\n",
      "                            'Number of reads mapped to multiple loci'\n",
      "                            \n",
      "                            ]]\n",
      "\n",
      "HTML(filtered_guttman_clip.to_html(formatters={\"Input Reads\" : parsers.commas,\n",
      "                                     \"Reads After Triming\" : parsers.commas,\n",
      "                                     \"Reads after Quality Filtering\" : parsers.commas,\n",
      "                                     \"Uniquely Mapped Reads\" : parsers.commas,\n",
      "                                     \"Usable Reads\" : parsers.commas,\n",
      "                                     \"Num Peaks\": parsers.commas\n",
      "                                     } ))"
     ],
     "language": "python",
     "metadata": {},
     "outputs": [
      {
       "html": [
        "<table border=\"1\" class=\"dataframe\">\n",
        "  <thead>\n",
        "    <tr style=\"text-align: right;\">\n",
        "      <th></th>\n",
        "      <th>Input Reads</th>\n",
        "      <th>Reads After Triming</th>\n",
        "      <th>Uniquely Mapped Reads</th>\n",
        "      <th>Uniquely mapped reads %</th>\n",
        "      <th>% of reads mapped to multiple loci</th>\n",
        "      <th>Percent Repetative</th>\n",
        "      <th>Number of reads mapped to multiple loci</th>\n",
        "    </tr>\n",
        "  </thead>\n",
        "  <tbody>\n",
        "    <tr>\n",
        "      <th>10M_S3_L001_R1_001</th>\n",
        "      <td>4,439,667</td>\n",
        "      <td>4,423,683</td>\n",
        "      <td> 3,051,106</td>\n",
        "      <td> 74.74%</td>\n",
        "      <td> 22.03%</td>\n",
        "      <td> 0.08050311</td>\n",
        "      <td>  899153</td>\n",
        "    </tr>\n",
        "    <tr>\n",
        "      <th>10S_S4_L001_R1_001</th>\n",
        "      <td>3,383,627</td>\n",
        "      <td>3,365,918</td>\n",
        "      <td> 1,672,620</td>\n",
        "      <td> 60.57%</td>\n",
        "      <td> 28.54%</td>\n",
        "      <td>  0.1839405</td>\n",
        "      <td>  788070</td>\n",
        "    </tr>\n",
        "    <tr>\n",
        "      <th>9M_S1_L001_R1_001</th>\n",
        "      <td>5,050,289</td>\n",
        "      <td>5,021,380</td>\n",
        "      <td> 3,201,218</td>\n",
        "      <td> 71.45%</td>\n",
        "      <td> 23.90%</td>\n",
        "      <td>  0.1128393</td>\n",
        "      <td> 1070931</td>\n",
        "    </tr>\n",
        "    <tr>\n",
        "      <th>9S_S2_L001_R1_001</th>\n",
        "      <td>3,842,240</td>\n",
        "      <td>3,826,845</td>\n",
        "      <td> 1,875,661</td>\n",
        "      <td> 59.82%</td>\n",
        "      <td> 29.40%</td>\n",
        "      <td>  0.1839042</td>\n",
        "      <td>  921726</td>\n",
        "    </tr>\n",
        "  </tbody>\n",
        "</table>"
       ],
       "metadata": {},
       "output_type": "pyout",
       "prompt_number": 22,
       "text": [
        "<IPython.core.display.HTML at 0x28af2710>"
       ]
      }
     ],
     "prompt_number": 22
    },
    {
     "cell_type": "code",
     "collapsed": false,
     "input": [
      "rpkms = {os.path.basename(name).split(\".\")[0]: pd.read_table(name, index_col=0).RPKM for name in glob.glob(\"/nas3/gpratt/projects/mn_localization/analysis/20150212_prototype_v1/*.rpkm\")}\n",
      "rpkms = pd.concat(rpkms).unstack()"
     ],
     "language": "python",
     "metadata": {},
     "outputs": [],
     "prompt_number": 9
    },
    {
     "cell_type": "code",
     "collapsed": false,
     "input": [
      "!mkdir -p /nas3/gpratt/projects/mn_localization/analysis/20150307_prototype_v1\n",
      "!scp -q tscc-login.sdsc.edu:/home/gpratt/projects/mn_localization/analysis/20150307_prototype_v1/*.{metrics,final.out,rpkm} /nas3/gpratt/projects/mn_localization/analysis/20150307_prototype_v1"
     ],
     "language": "python",
     "metadata": {},
     "outputs": [],
     "prompt_number": 27
    },
    {
     "cell_type": "code",
     "collapsed": false,
     "input": [
      "%load_ext autoreload\n",
      "%autoreload 2\n",
      "reload(parsers)"
     ],
     "language": "python",
     "metadata": {},
     "outputs": [
      {
       "output_type": "stream",
       "stream": "stdout",
       "text": [
        "The autoreload extension is already loaded. To reload it, use:\n",
        "  %reload_ext autoreload\n"
       ]
      },
      {
       "metadata": {},
       "output_type": "pyout",
       "prompt_number": 4,
       "text": [
        "<module 'gscripts.general.parsers' from '/nas/nas0/gpratt/gscripts/gscripts/general/parsers.py'>"
       ]
      }
     ],
     "prompt_number": 4
    },
    {
     "cell_type": "code",
     "collapsed": false,
     "input": [
      "parsers.rnaseq_metrics??"
     ],
     "language": "python",
     "metadata": {},
     "outputs": [],
     "prompt_number": 6
    },
    {
     "cell_type": "code",
     "collapsed": false,
     "input": [
      "analysis_dir = \"/nas3/gpratt/projects/mn_localization/analysis/20150307_prototype_v1\"\n",
      "fet_clip = parsers.rnaseq_metrics(analysis_dir)\n",
      "\n",
      "#fet_clip[\"Reads After Triming\"] = fet_clip['Input Reads'] - fet_clip['Too short reads']\n",
      "\n",
      "filtered_guttman_clip = fet_clip[[ \n",
      "                            \"Reads Passing Quality Filter\",\n",
      "                            #\"Input Reads\",\n",
      "                            #\"Reads After Triming\",\n",
      "                            \"Uniquely Mapped Reads\",\n",
      "                            \"Uniquely mapped reads %\",\n",
      "                            '% of reads mapped to multiple loci',\n",
      "                            #'Percent Repetative',\n",
      "                            'Number of reads mapped to multiple loci'\n",
      "                            \n",
      "                            ]]\n",
      "\n",
      "HTML(filtered_guttman_clip.to_html(formatters={\"Reads Passing Quality Filter\" : parsers.commas,\n",
      "\"Input Reads\" : parsers.commas,\n",
      "                                     \"Reads After Triming\" : parsers.commas,\n",
      "                                     \"Reads after Quality Filtering\" : parsers.commas,\n",
      "                                     \"Uniquely Mapped Reads\" : parsers.commas,\n",
      "                                     \"Usable Reads\" : parsers.commas,\n",
      "                                     \"Num Peaks\": parsers.commas\n",
      "                                     } ))"
     ],
     "language": "python",
     "metadata": {},
     "outputs": [
      {
       "output_type": "stream",
       "stream": "stdout",
       "text": [
        "cutadapt file maybe be broken, ignoring calculation\n"
       ]
      },
      {
       "html": [
        "<table border=\"1\" class=\"dataframe\">\n",
        "  <thead>\n",
        "    <tr style=\"text-align: right;\">\n",
        "      <th></th>\n",
        "      <th>Reads Passing Quality Filter</th>\n",
        "      <th>Uniquely Mapped Reads</th>\n",
        "      <th>Uniquely mapped reads %</th>\n",
        "      <th>% of reads mapped to multiple loci</th>\n",
        "      <th>Number of reads mapped to multiple loci</th>\n",
        "    </tr>\n",
        "  </thead>\n",
        "  <tbody>\n",
        "    <tr>\n",
        "      <th>10M_S18_R1</th>\n",
        "      <td> 15,563,951</td>\n",
        "      <td> 8,921,959</td>\n",
        "      <td> 57.32%</td>\n",
        "      <td> 8.49%</td>\n",
        "      <td> 1321321</td>\n",
        "    </tr>\n",
        "    <tr>\n",
        "      <th>10S_S19_R1</th>\n",
        "      <td> 10,801,452</td>\n",
        "      <td> 6,245,716</td>\n",
        "      <td> 57.82%</td>\n",
        "      <td> 4.85%</td>\n",
        "      <td>  523533</td>\n",
        "    </tr>\n",
        "  </tbody>\n",
        "</table>"
       ],
       "metadata": {},
       "output_type": "pyout",
       "prompt_number": 19,
       "text": [
        "<IPython.core.display.HTML at 0x104c7b90>"
       ]
      }
     ],
     "prompt_number": 19
    },
    {
     "cell_type": "code",
     "collapsed": false,
     "input": [],
     "language": "python",
     "metadata": {},
     "outputs": []
    }
   ],
   "metadata": {}
  }
 ]
}