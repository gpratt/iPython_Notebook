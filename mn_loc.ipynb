{
 "cells": [
  {
   "cell_type": "code",
   "execution_count": 3,
   "metadata": {
    "collapsed": false
   },
   "outputs": [],
   "source": [
    "import glob \n",
    "import itertools\n",
    "import os \n",
    "\n",
    "from gscripts.general import parsers\n",
    "from matplotlib import gridspec\n",
    "import seaborn as sns\n",
    "from gscripts.general import dataviz\n",
    "import scipy\n",
    "\n",
    "import numpy as np\n",
    "\n",
    "from IPython.core.display import HTML\n",
    "import pandas as pd\n",
    "\n",
    "img_dir = \".\""
   ]
  },
  {
   "cell_type": "code",
   "execution_count": 26,
   "metadata": {
    "collapsed": false
   },
   "outputs": [],
   "source": [
    "!mkdir -p /nas3/gpratt/projects/mn_localization/analysis/20150212_prototype_v4\n",
    "!scp -q tscc-login.sdsc.edu:/home/gpratt/projects/mn_localization/analysis/20150212_prototype_v4/*.{metrics,final.out,rpkm} /nas3/gpratt/projects/mn_localization/analysis/20150212_prototype_v4"
   ]
  },
  {
   "cell_type": "code",
   "execution_count": 22,
   "metadata": {
    "collapsed": false
   },
   "outputs": [
    {
     "data": {
      "text/html": [
       "<table border=\"1\" class=\"dataframe\">\n",
       "  <thead>\n",
       "    <tr style=\"text-align: right;\">\n",
       "      <th></th>\n",
       "      <th>Input Reads</th>\n",
       "      <th>Reads After Triming</th>\n",
       "      <th>Uniquely Mapped Reads</th>\n",
       "      <th>Uniquely mapped reads %</th>\n",
       "      <th>% of reads mapped to multiple loci</th>\n",
       "      <th>Percent Repetative</th>\n",
       "      <th>Number of reads mapped to multiple loci</th>\n",
       "    </tr>\n",
       "  </thead>\n",
       "  <tbody>\n",
       "    <tr>\n",
       "      <th>10M_S3_L001_R1_001</th>\n",
       "      <td>4,439,667</td>\n",
       "      <td>4,423,683</td>\n",
       "      <td> 3,051,106</td>\n",
       "      <td> 74.74%</td>\n",
       "      <td> 22.03%</td>\n",
       "      <td> 0.08050311</td>\n",
       "      <td>  899153</td>\n",
       "    </tr>\n",
       "    <tr>\n",
       "      <th>10S_S4_L001_R1_001</th>\n",
       "      <td>3,383,627</td>\n",
       "      <td>3,365,918</td>\n",
       "      <td> 1,672,620</td>\n",
       "      <td> 60.57%</td>\n",
       "      <td> 28.54%</td>\n",
       "      <td>  0.1839405</td>\n",
       "      <td>  788070</td>\n",
       "    </tr>\n",
       "    <tr>\n",
       "      <th>9M_S1_L001_R1_001</th>\n",
       "      <td>5,050,289</td>\n",
       "      <td>5,021,380</td>\n",
       "      <td> 3,201,218</td>\n",
       "      <td> 71.45%</td>\n",
       "      <td> 23.90%</td>\n",
       "      <td>  0.1128393</td>\n",
       "      <td> 1070931</td>\n",
       "    </tr>\n",
       "    <tr>\n",
       "      <th>9S_S2_L001_R1_001</th>\n",
       "      <td>3,842,240</td>\n",
       "      <td>3,826,845</td>\n",
       "      <td> 1,875,661</td>\n",
       "      <td> 59.82%</td>\n",
       "      <td> 29.40%</td>\n",
       "      <td>  0.1839042</td>\n",
       "      <td>  921726</td>\n",
       "    </tr>\n",
       "  </tbody>\n",
       "</table>"
      ],
      "text/plain": [
       "<IPython.core.display.HTML at 0x28af2710>"
      ]
     },
     "execution_count": 22,
     "metadata": {},
     "output_type": "execute_result"
    }
   ],
   "source": [
    "analysis_dir = \"/nas3/gpratt/projects/mn_localization/analysis/20150212_prototype_v4\"\n",
    "fet_clip = parsers.rnaseq_metrics(analysis_dir)\n",
    "\n",
    "fet_clip[\"Reads After Triming\"] = fet_clip['Input Reads'] - fet_clip['Too short reads']\n",
    "\n",
    "filtered_guttman_clip = fet_clip[[ \"Input Reads\",\n",
    "                            \"Reads After Triming\",\n",
    "                            \"Uniquely Mapped Reads\",\n",
    "                            \"Uniquely mapped reads %\",\n",
    "                            '% of reads mapped to multiple loci',\n",
    "                            'Percent Repetative',\n",
    "                            'Number of reads mapped to multiple loci'\n",
    "                            \n",
    "                            ]]\n",
    "\n",
    "HTML(filtered_guttman_clip.to_html(formatters={\"Input Reads\" : parsers.commas,\n",
    "                                     \"Reads After Triming\" : parsers.commas,\n",
    "                                     \"Reads after Quality Filtering\" : parsers.commas,\n",
    "                                     \"Uniquely Mapped Reads\" : parsers.commas,\n",
    "                                     \"Usable Reads\" : parsers.commas,\n",
    "                                     \"Num Peaks\": parsers.commas\n",
    "                                     } ))"
   ]
  },
  {
   "cell_type": "code",
   "execution_count": 9,
   "metadata": {
    "collapsed": false
   },
   "outputs": [],
   "source": [
    "rpkms = {os.path.basename(name).split(\".\")[0]: pd.read_table(name, index_col=0).RPKM for name in glob.glob(\"/nas3/gpratt/projects/mn_localization/analysis/20150212_prototype_v1/*.rpkm\")}\n",
    "rpkms = pd.concat(rpkms).unstack()"
   ]
  },
  {
   "cell_type": "code",
   "execution_count": 27,
   "metadata": {
    "collapsed": false
   },
   "outputs": [],
   "source": [
    "!mkdir -p /nas3/gpratt/projects/mn_localization/analysis/20150307_prototype_v1\n",
    "!scp -q tscc-login.sdsc.edu:/home/gpratt/projects/mn_localization/analysis/20150307_prototype_v1/*.{metrics,final.out,rpkm} /nas3/gpratt/projects/mn_localization/analysis/20150307_prototype_v1"
   ]
  },
  {
   "cell_type": "code",
   "execution_count": 4,
   "metadata": {
    "collapsed": false
   },
   "outputs": [
    {
     "name": "stdout",
     "output_type": "stream",
     "text": [
      "The autoreload extension is already loaded. To reload it, use:\n",
      "  %reload_ext autoreload\n"
     ]
    },
    {
     "data": {
      "text/plain": [
       "<module 'gscripts.general.parsers' from '/nas/nas0/gpratt/gscripts/gscripts/general/parsers.py'>"
      ]
     },
     "execution_count": 4,
     "metadata": {},
     "output_type": "execute_result"
    }
   ],
   "source": [
    "%load_ext autoreload\n",
    "%autoreload 2\n",
    "reload(parsers)"
   ]
  },
  {
   "cell_type": "code",
   "execution_count": 21,
   "metadata": {
    "collapsed": false
   },
   "outputs": [
    {
     "name": "stdout",
     "output_type": "stream",
     "text": [
      "cutadapt file maybe be broken, ignoring calculation\n"
     ]
    },
    {
     "data": {
      "text/html": [
       "<table border=\"1\" class=\"dataframe\">\n",
       "  <thead>\n",
       "    <tr style=\"text-align: right;\">\n",
       "      <th></th>\n",
       "      <th>Reads Passing Quality Filter</th>\n",
       "      <th>Uniquely Mapped Reads</th>\n",
       "      <th>Uniquely mapped reads %</th>\n",
       "      <th>% of reads mapped to multiple loci</th>\n",
       "      <th>Number of reads mapped to multiple loci</th>\n",
       "      <th>% of reads mapped to too many loci</th>\n",
       "    </tr>\n",
       "  </thead>\n",
       "  <tbody>\n",
       "    <tr>\n",
       "      <th>10M_S18_R1</th>\n",
       "      <td> 15,563,951</td>\n",
       "      <td> 8,921,959</td>\n",
       "      <td> 57.32%</td>\n",
       "      <td> 8.49%</td>\n",
       "      <td> 1321321</td>\n",
       "      <td> 0.50%</td>\n",
       "    </tr>\n",
       "    <tr>\n",
       "      <th>10S_S19_R1</th>\n",
       "      <td> 10,801,452</td>\n",
       "      <td> 6,245,716</td>\n",
       "      <td> 57.82%</td>\n",
       "      <td> 4.85%</td>\n",
       "      <td>  523533</td>\n",
       "      <td> 0.52%</td>\n",
       "    </tr>\n",
       "  </tbody>\n",
       "</table>"
      ],
      "text/plain": [
       "<IPython.core.display.HTML at 0x10840290>"
      ]
     },
     "execution_count": 21,
     "metadata": {},
     "output_type": "execute_result"
    }
   ],
   "source": [
    "analysis_dir = \"/nas3/gpratt/projects/mn_localization/analysis/20150307_prototype_v1\"\n",
    "fet_clip = parsers.rnaseq_metrics(analysis_dir)\n",
    "\n",
    "#fet_clip[\"Reads After Triming\"] = fet_clip['Input Reads'] - fet_clip['Too short reads']\n",
    "\n",
    "filtered_guttman_clip = fet_clip[[ \n",
    "                            \"Reads Passing Quality Filter\",\n",
    "                            #\"Input Reads\",\n",
    "                            #\"Reads After Triming\",\n",
    "                            \"Uniquely Mapped Reads\",\n",
    "                            \"Uniquely mapped reads %\",\n",
    "                            '% of reads mapped to multiple loci',\n",
    "                            #'Percent Repetative',\n",
    "                            'Number of reads mapped to multiple loci',\n",
    "'% of reads mapped to too many loci'\n",
    "                            \n",
    "                            ]]\n",
    "\n",
    "HTML(filtered_guttman_clip.to_html(formatters={\"Reads Passing Quality Filter\" : parsers.commas,\n",
    "\"Input Reads\" : parsers.commas,\n",
    "                                     \"Reads After Triming\" : parsers.commas,\n",
    "                                     \"Reads after Quality Filtering\" : parsers.commas,\n",
    "                                     \"Uniquely Mapped Reads\" : parsers.commas,\n",
    "                                     \"Usable Reads\" : parsers.commas,\n",
    "                                     \"Num Peaks\": parsers.commas\n",
    "                                     } ))"
   ]
  },
  {
   "cell_type": "code",
   "execution_count": 22,
   "metadata": {
    "collapsed": false
   },
   "outputs": [],
   "source": [
    "!mkdir -p /nas3/gpratt/projects/eric_iclip_test/analysis/20150307_guttman_rnaseq_v1/\n",
    "!scp -q tscc-login.sdsc.edu:/home/gpratt/projects/eric_iclip_test/analysis/20150307_guttman_rnaseq_v1/*.{metrics,final.out,rpkm} /nas3/gpratt/projects/eric_iclip_test/analysis/20150307_guttman_rnaseq_v1"
   ]
  },
  {
   "cell_type": "code",
   "execution_count": 23,
   "metadata": {
    "collapsed": false
   },
   "outputs": [
    {
     "name": "stdout",
     "output_type": "stream",
     "text": [
      "cutadapt file maybe be broken, ignoring calculation\n"
     ]
    },
    {
     "data": {
      "text/html": [
       "<table border=\"1\" class=\"dataframe\">\n",
       "  <thead>\n",
       "    <tr style=\"text-align: right;\">\n",
       "      <th></th>\n",
       "      <th>Reads Passing Quality Filter</th>\n",
       "      <th>Uniquely Mapped Reads</th>\n",
       "      <th>Uniquely mapped reads %</th>\n",
       "      <th>% of reads mapped to multiple loci</th>\n",
       "      <th>Number of reads mapped to multiple loci</th>\n",
       "      <th>% of reads mapped to too many loci</th>\n",
       "    </tr>\n",
       "  </thead>\n",
       "  <tbody>\n",
       "    <tr>\n",
       "      <th>293XT-deltarRNA_S15_R1</th>\n",
       "      <td> 2,389,069</td>\n",
       "      <td> 1,459,057</td>\n",
       "      <td> 61.07%</td>\n",
       "      <td>  9.92%</td>\n",
       "      <td> 236998</td>\n",
       "      <td>  1.00%</td>\n",
       "    </tr>\n",
       "    <tr>\n",
       "      <th>293XT-miR_S13_R1</th>\n",
       "      <td> 3,779,722</td>\n",
       "      <td> 1,016,340</td>\n",
       "      <td> 26.89%</td>\n",
       "      <td> 22.39%</td>\n",
       "      <td> 846392</td>\n",
       "      <td> 20.80%</td>\n",
       "    </tr>\n",
       "    <tr>\n",
       "      <th>293XT-total_S14_R1</th>\n",
       "      <td> 3,209,860</td>\n",
       "      <td> 1,627,286</td>\n",
       "      <td> 50.70%</td>\n",
       "      <td>  9.21%</td>\n",
       "      <td> 295710</td>\n",
       "      <td>  8.50%</td>\n",
       "    </tr>\n",
       "  </tbody>\n",
       "</table>"
      ],
      "text/plain": [
       "<IPython.core.display.HTML at 0x107b2650>"
      ]
     },
     "execution_count": 23,
     "metadata": {},
     "output_type": "execute_result"
    }
   ],
   "source": [
    "analysis_dir = \"/nas3/gpratt/projects/eric_iclip_test/analysis/20150307_guttman_rnaseq_v1/\"\n",
    "fet_clip = parsers.rnaseq_metrics(analysis_dir)\n",
    "\n",
    "#fet_clip[\"Reads After Triming\"] = fet_clip['Input Reads'] - fet_clip['Too short reads']\n",
    "\n",
    "filtered_guttman_clip = fet_clip[[ \n",
    "                            \"Reads Passing Quality Filter\",\n",
    "                            #\"Input Reads\",\n",
    "                            #\"Reads After Triming\",\n",
    "                            \"Uniquely Mapped Reads\",\n",
    "                            \"Uniquely mapped reads %\",\n",
    "                            '% of reads mapped to multiple loci',\n",
    "                            #'Percent Repetative',\n",
    "                            'Number of reads mapped to multiple loci',\n",
    "'% of reads mapped to too many loci'\n",
    "                            \n",
    "                            ]]\n",
    "\n",
    "HTML(filtered_guttman_clip.to_html(formatters={\"Reads Passing Quality Filter\" : parsers.commas,\n",
    "\"Input Reads\" : parsers.commas,\n",
    "                                     \"Reads After Triming\" : parsers.commas,\n",
    "                                     \"Reads after Quality Filtering\" : parsers.commas,\n",
    "                                     \"Uniquely Mapped Reads\" : parsers.commas,\n",
    "                                     \"Usable Reads\" : parsers.commas,\n",
    "                                     \"Num Peaks\": parsers.commas\n",
    "                                     } ))"
   ]
  },
  {
   "cell_type": "code",
   "execution_count": 14,
   "metadata": {
    "collapsed": false
   },
   "outputs": [],
   "source": [
    "!mkdir -p /nas3/gpratt/projects/mn_localization/analysis/20150625_prototype_v1\n",
    "!scp -q tscc-login.sdsc.edu:/home/gpratt/projects/mn_localization/analysis/20150625_prototype_v1/*.{metrics,final.out,rpkm} /nas3/gpratt/projects/mn_localization/analysis/20150625_prototype_v1"
   ]
  },
  {
   "cell_type": "code",
   "execution_count": 15,
   "metadata": {
    "collapsed": false
   },
   "outputs": [
    {
     "data": {
      "text/html": [
       "<table border=\"1\" class=\"dataframe\">\n",
       "  <thead>\n",
       "    <tr style=\"text-align: right;\">\n",
       "      <th></th>\n",
       "      <th>Input Reads</th>\n",
       "      <th>Reads Passing Quality Filter</th>\n",
       "      <th>Uniquely Mapped Reads</th>\n",
       "      <th>Uniquely mapped reads %</th>\n",
       "      <th>% of reads mapped to multiple loci</th>\n",
       "      <th>Number of reads mapped to multiple loci</th>\n",
       "      <th>% of reads mapped to too many loci</th>\n",
       "    </tr>\n",
       "  </thead>\n",
       "  <tbody>\n",
       "    <tr>\n",
       "      <th>CVB_MN_LF10_GAGATTCC-ATAGAGGC_L008_R1</th>\n",
       "      <td>1,641,703</td>\n",
       "      <td>824,697</td>\n",
       "      <td>143,599</td>\n",
       "      <td>17.41%</td>\n",
       "      <td>2.69%</td>\n",
       "      <td>22146</td>\n",
       "      <td>0.12%</td>\n",
       "    </tr>\n",
       "    <tr>\n",
       "      <th>CVB_MN_LF11_ATTCAGAA-ATAGAGGC_L008_R1</th>\n",
       "      <td>401,164</td>\n",
       "      <td>211,423</td>\n",
       "      <td>104,515</td>\n",
       "      <td>49.43%</td>\n",
       "      <td>5.24%</td>\n",
       "      <td>11075</td>\n",
       "      <td>0.14%</td>\n",
       "    </tr>\n",
       "    <tr>\n",
       "      <th>CVB_MN_LF12_GAATTCGT-ATAGAGGC_L008_R1</th>\n",
       "      <td>1,446,474</td>\n",
       "      <td>709,501</td>\n",
       "      <td>88,940</td>\n",
       "      <td>12.54%</td>\n",
       "      <td>2.11%</td>\n",
       "      <td>14951</td>\n",
       "      <td>0.11%</td>\n",
       "    </tr>\n",
       "    <tr>\n",
       "      <th>CVB_MN_LF1_ATTACTCG-TATAGCCT_L008_R1</th>\n",
       "      <td>965,975</td>\n",
       "      <td>542,826</td>\n",
       "      <td>144,831</td>\n",
       "      <td>26.68%</td>\n",
       "      <td>1.59%</td>\n",
       "      <td>8642</td>\n",
       "      <td>0.02%</td>\n",
       "    </tr>\n",
       "    <tr>\n",
       "      <th>CVB_MN_LF2_TCCGGAGA-TATAGCCT_L008_R1</th>\n",
       "      <td>2,986,156</td>\n",
       "      <td>1,707,627</td>\n",
       "      <td>119,816</td>\n",
       "      <td>7.02%</td>\n",
       "      <td>0.88%</td>\n",
       "      <td>15077</td>\n",
       "      <td>0.01%</td>\n",
       "    </tr>\n",
       "    <tr>\n",
       "      <th>CVB_MN_LF3_CGCTCATT-TATAGCCT_L008_R1</th>\n",
       "      <td>2,543,607</td>\n",
       "      <td>1,408,668</td>\n",
       "      <td>188,707</td>\n",
       "      <td>13.40%</td>\n",
       "      <td>1.18%</td>\n",
       "      <td>16690</td>\n",
       "      <td>0.02%</td>\n",
       "    </tr>\n",
       "    <tr>\n",
       "      <th>CVB_MN_LF4_GAGATTCC-TATAGCCT_L008_R1</th>\n",
       "      <td>746,959</td>\n",
       "      <td>461,495</td>\n",
       "      <td>36,733</td>\n",
       "      <td>7.96%</td>\n",
       "      <td>0.82%</td>\n",
       "      <td>3788</td>\n",
       "      <td>0.01%</td>\n",
       "    </tr>\n",
       "    <tr>\n",
       "      <th>CVB_MN_LF5_ATTCAGAA-TATAGCCT_L008_R1</th>\n",
       "      <td>967,578</td>\n",
       "      <td>672,895</td>\n",
       "      <td>227,013</td>\n",
       "      <td>33.74%</td>\n",
       "      <td>1.87%</td>\n",
       "      <td>12573</td>\n",
       "      <td>0.02%</td>\n",
       "    </tr>\n",
       "    <tr>\n",
       "      <th>CVB_MN_LF6_GAATTCGT-TATAGCCT_L008_R1</th>\n",
       "      <td>2,043,459</td>\n",
       "      <td>1,027,136</td>\n",
       "      <td>99,443</td>\n",
       "      <td>9.68%</td>\n",
       "      <td>1.16%</td>\n",
       "      <td>11885</td>\n",
       "      <td>0.01%</td>\n",
       "    </tr>\n",
       "    <tr>\n",
       "      <th>CVB_MN_LF7_ATTACTCG-ATAGAGGC_L008_R1</th>\n",
       "      <td>2,352,819</td>\n",
       "      <td>1,256,158</td>\n",
       "      <td>218,152</td>\n",
       "      <td>17.37%</td>\n",
       "      <td>3.02%</td>\n",
       "      <td>37944</td>\n",
       "      <td>0.10%</td>\n",
       "    </tr>\n",
       "    <tr>\n",
       "      <th>CVB_MN_LF8_TCCGGAGA-ATAGAGGC_L008_R1</th>\n",
       "      <td>1,841,634</td>\n",
       "      <td>1,061,408</td>\n",
       "      <td>78,350</td>\n",
       "      <td>7.38%</td>\n",
       "      <td>1.06%</td>\n",
       "      <td>11260</td>\n",
       "      <td>0.02%</td>\n",
       "    </tr>\n",
       "    <tr>\n",
       "      <th>CVB_MN_LF9_CGCTCATT-ATAGAGGC_L008_R1</th>\n",
       "      <td>1,443,631</td>\n",
       "      <td>757,023</td>\n",
       "      <td>232,111</td>\n",
       "      <td>30.66%</td>\n",
       "      <td>3.68%</td>\n",
       "      <td>27879</td>\n",
       "      <td>0.12%</td>\n",
       "    </tr>\n",
       "  </tbody>\n",
       "</table>"
      ],
      "text/plain": [
       "<IPython.core.display.HTML object>"
      ]
     },
     "execution_count": 15,
     "metadata": {},
     "output_type": "execute_result"
    }
   ],
   "source": [
    "analysis_dir = \"/nas3/gpratt/projects/mn_localization/analysis/20150625_prototype_v1/\"\n",
    "fet_clip = parsers.rnaseq_metrics(analysis_dir)\n",
    "\n",
    "filtered_guttman_clip = fet_clip[[ \n",
    "        \"Input Reads\",\n",
    "                            \"Reads Passing Quality Filter\",\n",
    "                            #\"Input Reads\",\n",
    "                            #\"Reads After Triming\",\n",
    "                            \"Uniquely Mapped Reads\",\n",
    "                            \"Uniquely mapped reads %\",\n",
    "                            '% of reads mapped to multiple loci',\n",
    "                            #'Percent Repetative',\n",
    "                            'Number of reads mapped to multiple loci',\n",
    "'% of reads mapped to too many loci'\n",
    "                            \n",
    "                            ]]\n",
    "\n",
    "HTML(filtered_guttman_clip.to_html(formatters={\"Reads Passing Quality Filter\" : parsers.commas,\n",
    "\"Input Reads\" : parsers.commas,\n",
    "                                     \"Reads After Triming\" : parsers.commas,\n",
    "                                     \"Reads after Quality Filtering\" : parsers.commas,\n",
    "                                     \"Uniquely Mapped Reads\" : parsers.commas,\n",
    "                                     \"Usable Reads\" : parsers.commas,\n",
    "                                     \"Num Peaks\": parsers.commas\n",
    "                                     } ))"
   ]
  },
  {
   "cell_type": "code",
   "execution_count": 12,
   "metadata": {
    "collapsed": false
   },
   "outputs": [
    {
     "data": {
      "text/plain": [
       "1303385"
      ]
     },
     "execution_count": 12,
     "metadata": {},
     "output_type": "execute_result"
    }
   ],
   "source": [
    "5213540 / 4"
   ]
  },
  {
   "cell_type": "code",
   "execution_count": 13,
   "metadata": {
    "collapsed": false
   },
   "outputs": [
    {
     "data": {
      "text/plain": [
       "0.19845939611089586"
      ]
     },
     "execution_count": 13,
     "metadata": {},
     "output_type": "execute_result"
    }
   ],
   "source": [
    "258669 / 1303385."
   ]
  },
  {
   "cell_type": "code",
   "execution_count": null,
   "metadata": {
    "collapsed": true
   },
   "outputs": [],
   "source": []
  }
 ],
 "metadata": {
  "kernelspec": {
   "display_name": "Python 2",
   "language": "python",
   "name": "python2"
  },
  "language_info": {
   "codemirror_mode": {
    "name": "ipython",
    "version": 2
   },
   "file_extension": ".py",
   "mimetype": "text/x-python",
   "name": "python",
   "nbconvert_exporter": "python",
   "pygments_lexer": "ipython2",
   "version": "2.7.5"
  }
 },
 "nbformat": 4,
 "nbformat_minor": 0
}
