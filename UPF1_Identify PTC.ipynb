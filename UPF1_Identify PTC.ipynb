{
 "metadata": {
  "name": ""
 },
 "nbformat": 3,
 "nbformat_minor": 0,
 "worksheets": [
  {
   "cells": [
    {
     "cell_type": "code",
     "collapsed": false,
     "input": [
      "import pybedtools\n",
      "from Bio import SeqIO\n",
      "from collections import Counter, defaultdict\n",
      "from itertools import groupby\n",
      "pybedtools.set_tempdir(\"/nas3/scratch/gpratt/pybedtools_tmp/\")\n",
      "import re\n",
      "from clipper.src.AS_Structure_tools import parse_AS_STRUCTURE_dict, parse_AS_STRUCTURE_COMPILED\n",
      "import matplotlib_venn"
     ],
     "language": "python",
     "metadata": {},
     "outputs": [],
     "prompt_number": 37
    },
    {
     "cell_type": "code",
     "collapsed": false,
     "input": [
      "info, genes = parse_AS_STRUCTURE_dict(\"hg19\",\"/nas3/yeolab/Genome/ensembl/AS_STRUCTURE/hg19data4/\")"
     ],
     "language": "python",
     "metadata": {},
     "outputs": [],
     "prompt_number": 2
    },
    {
     "cell_type": "code",
     "collapsed": false,
     "input": [
      "info, genes = parse_AS_STRUCTURE_COMPILED(\"hg19\",\"/nas3/yeolab/Genome/ensembl/AS_STRUCTURE/hg19data4/\")"
     ],
     "language": "python",
     "metadata": {},
     "outputs": [
      {
       "ename": "TypeError",
       "evalue": "'NoneType' object is not iterable",
       "output_type": "pyerr",
       "traceback": [
        "\u001b[1;31m---------------------------------------------------------------------------\u001b[0m\n\u001b[1;31mTypeError\u001b[0m                                 Traceback (most recent call last)",
        "\u001b[1;32m<ipython-input-39-b920ca01ec80>\u001b[0m in \u001b[0;36m<module>\u001b[1;34m()\u001b[0m\n\u001b[1;32m----> 1\u001b[1;33m \u001b[0minfo\u001b[0m\u001b[1;33m,\u001b[0m \u001b[0mgenes\u001b[0m \u001b[1;33m=\u001b[0m \u001b[0mparse_AS_STRUCTURE_COMPILED\u001b[0m\u001b[1;33m(\u001b[0m\u001b[1;34m\"hg19\"\u001b[0m\u001b[1;33m,\u001b[0m\u001b[1;34m\"/nas3/yeolab/Genome/ensembl/AS_STRUCTURE/hg19data4/\"\u001b[0m\u001b[1;33m)\u001b[0m\u001b[1;33m\u001b[0m\u001b[0m\n\u001b[0m",
        "\u001b[1;31mTypeError\u001b[0m: 'NoneType' object is not iterable"
       ]
      }
     ],
     "prompt_number": 39
    },
    {
     "cell_type": "code",
     "collapsed": false,
     "input": [
      "def add_chrom(interval):\n",
      "    interval.chrom = \"chr\" + interval.chrom\n",
      "    return interval"
     ],
     "language": "python",
     "metadata": {},
     "outputs": [],
     "prompt_number": 5
    },
    {
     "cell_type": "code",
     "collapsed": false,
     "input": [
      "def find(s, ch):\n",
      "    return [i for i, ltr in enumerate(s) if ltr == ch]"
     ],
     "language": "python",
     "metadata": {},
     "outputs": [],
     "prompt_number": 6
    },
    {
     "cell_type": "code",
     "collapsed": false,
     "input": [
      "gff_file = pybedtools.BedTool(\"/nas3/yeolab/Genome/ensembl/Homo_sapiens.GRCh37.65.gff\").filter(lambda x: x.chrom in map(str, range(1,23)) + [\"X\", \"Y\"]).each(add_chrom).saveas()"
     ],
     "language": "python",
     "metadata": {},
     "outputs": [],
     "prompt_number": 7
    },
    {
     "cell_type": "markdown",
     "metadata": {},
     "source": [
      "I checked out resolution, just doing fetch-seqs works to get the entire sequence "
     ]
    },
    {
     "cell_type": "code",
     "collapsed": false,
     "input": [
      "stop_codons = gff_file.filter(lambda x: x[2] == \"stop_codon\").saveas()\n",
      "exons = gff_file.filter(lambda x: x[2] == \"exon\").saveas()\n",
      "cds = gff_file.filter(lambda x: x[2] == \"CDS\").saveas()"
     ],
     "language": "python",
     "metadata": {},
     "outputs": [],
     "prompt_number": 63
    },
    {
     "cell_type": "code",
     "collapsed": false,
     "input": [
      "cds_sequence = cds.sequence(fi=\"/nas3/yeolab/Genome/ucsc/hg19/chromosomes/all.fa\", s=True)"
     ],
     "language": "python",
     "metadata": {},
     "outputs": [],
     "prompt_number": 15
    },
    {
     "cell_type": "code",
     "collapsed": false,
     "input": [
      "total_PTC = Counter()\n",
      "updated_cds = []\n",
      "#do a quick count of the number of PCTs in each CDS\n",
      "for interval, sequence in zip(cds, SeqIO.parse(open(cds_sequence.seqfn), 'fasta')):\n",
      "    #this ignores stop codons spanning ejcs\n",
      "    translated_sequence = sequence.seq[int(interval[7]):].translate()\n",
      "    total_PTC[interval.attrs['Parent']] += translated_sequence.count(\"*\")\n",
      "    #this will find the location in the cds of the PSC\n",
      "    if interval.strand == \"+\":\n",
      "        ptc = (array(find(translated_sequence,\"*\")) * 3) + int(interval[7]) + interval.start + 1 #+1 is odd, but nessessary for get the actual start of the stop\n",
      "    else:\n",
      "        ptc = interval.end - int(interval[7]) - (array(find(translated_sequence,\"*\")) * 3)\n",
      "    interval.attrs['ptc'] = \":\".join(map(str,ptc))\n",
      "    updated_cds.append(interval)"
     ],
     "language": "python",
     "metadata": {},
     "outputs": [],
     "prompt_number": 16
    },
    {
     "cell_type": "code",
     "collapsed": false,
     "input": [
      "possible_ptc = \"\"\n",
      "for interval in updated_cds:\n",
      "    if len(interval.attrs['ptc']) > 0:\n",
      "        for ptc in interval.attrs['ptc'].split(\":\"):\n",
      "            ptc = int(ptc)\n",
      "            if interval.strand == \"+\":\n",
      "                possible_ptc += '\\t'.join(map(str, [interval.chrom, ptc, ptc + 2, \"foo\", \"0\", interval.strand, \"\\n\"]))\n",
      "            if interval.strand:\n",
      "                possible_ptc += '\\t'.join(map(str, [interval.chrom, ptc -2 , ptc, \"foo\", \"0\", interval.strand, \"\\n\"]))\n",
      "possible_ptc = pybedtools.BedTool(possible_ptc, from_string=True).saveas()"
     ],
     "language": "python",
     "metadata": {},
     "outputs": [],
     "prompt_number": 17
    },
    {
     "cell_type": "markdown",
     "metadata": {},
     "source": [
      "Transcripts from ensembl "
     ]
    },
    {
     "cell_type": "code",
     "collapsed": false,
     "input": [
      "for line in possible_ptc[:10]:\n",
      "    print line"
     ],
     "language": "python",
     "metadata": {},
     "outputs": [
      {
       "output_type": "stream",
       "stream": "stdout",
       "text": [
        "chr21\t34443366\t34443368\tfoo\t+\n",
        "\n",
        "chr21\t34443364\t34443366\tfoo\t+\n",
        "\n",
        "chr21\t34443366\t34443368\tfoo\t+\n",
        "\n",
        "chr21\t34443364\t34443366\tfoo\t+\n",
        "\n",
        "chr21\t34443366\t34443368\tfoo\t+\n",
        "\n",
        "chr21\t34443364\t34443366\tfoo\t+\n",
        "\n",
        "chr21\t47734871\t47734873\tfoo\t-\n",
        "\n",
        "chr21\t47721913\t47721915\tfoo\t-\n",
        "\n",
        "chr21\t47720688\t47720690\tfoo\t-\n",
        "\n",
        "chr21\t47721913\t47721915\tfoo\t-\n",
        "\n"
       ]
      }
     ],
     "prompt_number": 116
    },
    {
     "cell_type": "code",
     "collapsed": false,
     "input": [
      "hist(total_PTC.values())"
     ],
     "language": "python",
     "metadata": {},
     "outputs": [
      {
       "output_type": "pyout",
       "prompt_number": 57,
       "text": [
        "(array([88743,    11,     1,     0,     7,     3,     0,     5,     3,     1]),\n",
        " array([  0. ,   2.5,   5. ,   7.5,  10. ,  12.5,  15. ,  17.5,  20. ,\n",
        "        22.5,  25. ]),\n",
        " <a list of 10 Patch objects>)"
       ]
      },
      {
       "output_type": "display_data",
       "png": "[encoded data removed]"
      }
     ],
     "prompt_number": 57
    },
    {
     "cell_type": "code",
     "collapsed": false,
     "input": [
      "print len(possible_ptc)"
     ],
     "language": "python",
     "metadata": {},
     "outputs": [
      {
       "output_type": "stream",
       "stream": "stdout",
       "text": [
        "108507\n"
       ]
      }
     ],
     "prompt_number": 126
    },
    {
     "cell_type": "code",
     "collapsed": false,
     "input": [
      "x = possible_ptc.intersect(stop_codons, v=True, s=True).saveas()"
     ],
     "language": "python",
     "metadata": {},
     "outputs": [],
     "prompt_number": 135
    },
    {
     "cell_type": "code",
     "collapsed": false,
     "input": [
      "print len(x)"
     ],
     "language": "python",
     "metadata": {},
     "outputs": [
      {
       "output_type": "stream",
       "stream": "stdout",
       "text": [
        "639\n"
       ]
      }
     ],
     "prompt_number": 136
    },
    {
     "cell_type": "markdown",
     "metadata": {},
     "source": [
      "Only a few 639 / 108507 stop codons are annotated in ENSEMBL gene ids, I'm just going to ignore the unannoated stuff for ease of analysis, the other stuff may be small bugs in either my code or ensembls code.  "
     ]
    },
    {
     "cell_type": "code",
     "collapsed": false,
     "input": [
      "reverse_index = {}\n",
      "for gene in info:\n",
      "    for transcript in info[gene]['transcripts'].split(\":\"):\n",
      "        reverse_index[transcript] = gene"
     ],
     "language": "python",
     "metadata": {},
     "outputs": [],
     "prompt_number": 23
    },
    {
     "cell_type": "code",
     "collapsed": false,
     "input": [
      "stop_codons[1].attrs['Parent'] = \"foo\""
     ],
     "language": "python",
     "metadata": {},
     "outputs": [],
     "prompt_number": 29
    },
    {
     "cell_type": "code",
     "collapsed": false,
     "input": [
      "print stop_codons[1].attrs['Parent']"
     ],
     "language": "python",
     "metadata": {},
     "outputs": [
      {
       "output_type": "stream",
       "stream": "stdout",
       "text": [
        "ENST00000426947\n"
       ]
      }
     ],
     "prompt_number": 30
    },
    {
     "cell_type": "code",
     "collapsed": false,
     "input": [
      "x = stop_codons[1]"
     ],
     "language": "python",
     "metadata": {},
     "outputs": [],
     "prompt_number": 42
    },
    {
     "cell_type": "code",
     "collapsed": false,
     "input": [
      "print x"
     ],
     "language": "python",
     "metadata": {},
     "outputs": [
      {
       "output_type": "stream",
       "stream": "stdout",
       "text": [
        "chr21\tprotein_coding\tstop_codon\t34443366\t34443368\t.\t+\t0\tID=stop_codon:ENST00000426947:1;Parent=ENST00000426947\n",
        "\n"
       ]
      }
     ],
     "prompt_number": 43
    },
    {
     "cell_type": "code",
     "collapsed": false,
     "input": [
      "x.attrs['Parent'] = \"foo\""
     ],
     "language": "python",
     "metadata": {},
     "outputs": [],
     "prompt_number": 33
    },
    {
     "cell_type": "code",
     "collapsed": false,
     "input": [
      "def in_list(interval, index):\n",
      "    return interval.attrs['Parent'] in index\n",
      "def change_parent(interval, index):\n",
      "    try:\n",
      "        interval.attrs['Parent'] = index[interval.attrs['Parent']]\n",
      "    except:\n",
      "        return None\n",
      "    return interval"
     ],
     "language": "python",
     "metadata": {},
     "outputs": [],
     "prompt_number": 53
    },
    {
     "cell_type": "code",
     "collapsed": false,
     "input": [
      "AS_stops = stop_codons.filter(in_list, reverse_index).each(change_parent, reverse_index).saveas()"
     ],
     "language": "python",
     "metadata": {},
     "outputs": [],
     "prompt_number": 54
    },
    {
     "cell_type": "markdown",
     "metadata": {},
     "source": [
      "This is all stop codons that map back to a AS_Structure gene, its most of them"
     ]
    },
    {
     "cell_type": "code",
     "collapsed": false,
     "input": [
      "counts = Counter()\n",
      "for line in stop_codons[:10]:\n",
      "    counts[line.attrs['ID'].split(\":\")[1]] += 1"
     ],
     "language": "python",
     "metadata": {},
     "outputs": [],
     "prompt_number": 79
    },
    {
     "cell_type": "markdown",
     "metadata": {},
     "source": [
      "Every transcript has one and only one stop codon, as expected"
     ]
    },
    {
     "cell_type": "code",
     "collapsed": false,
     "input": [
      "exon_dict = {\":\".join(exon.attrs['ID'].split(\":\")[1:]) : exon for exon in exons}"
     ],
     "language": "python",
     "metadata": {},
     "outputs": [],
     "prompt_number": 66
    },
    {
     "cell_type": "code",
     "collapsed": false,
     "input": [
      "exon_dict.keys()[:10]"
     ],
     "language": "python",
     "metadata": {},
     "outputs": [
      {
       "output_type": "pyout",
       "prompt_number": 67,
       "text": [
        "['ENST00000539807:17',\n",
        " 'ENST00000392432:2',\n",
        " 'ENST00000470678:4',\n",
        " 'ENST00000470301:4',\n",
        " 'ENST00000481815:2',\n",
        " 'ENST00000470301:3',\n",
        " 'ENST00000481815:1',\n",
        " 'ENST00000344803:3',\n",
        " 'ENST00000442933:5',\n",
        " 'ENST00000549527:2']"
       ]
      }
     ],
     "prompt_number": 67
    },
    {
     "cell_type": "code",
     "collapsed": false,
     "input": [
      "final_exon = defaultdict(int)\n",
      "for interval in exons:\n",
      "    transcript_id = interval.attrs['ID'].split(\":\")[1]\n",
      "    final_exon[transcript_id] = max(int(final_exon[transcript_id]), int(interval.attrs['ID'].split(\":\")[2]))"
     ],
     "language": "python",
     "metadata": {},
     "outputs": [],
     "prompt_number": 71
    },
    {
     "cell_type": "code",
     "collapsed": false,
     "input": [
      "ptc_codons = {}\n",
      "normal_codons = {}\n",
      "strange = {}\n",
      "for interval in stop_codons:\n",
      "    transcript_id = interval.attrs['ID'].split(\":\")[1]\n",
      "    exon_number = int(interval.attrs['ID'].split(\":\")[2])\n",
      "    if final_exon[transcript_id] > exon_number:\n",
      "        ptc_codons[transcript_id] = interval\n",
      "    elif final_exon[transcript_id] == exon_number:\n",
      "        normal_codons[transcript_id] = interval\n",
      "    else:\n",
      "        strange[transcript_id] = interval"
     ],
     "language": "python",
     "metadata": {},
     "outputs": [],
     "prompt_number": 86
    },
    {
     "cell_type": "code",
     "collapsed": false,
     "input": [
      "print len(ptc_codons)\n",
      "print len(normal_codons)\n",
      "print len(strange)"
     ],
     "language": "python",
     "metadata": {},
     "outputs": [
      {
       "output_type": "stream",
       "stream": "stdout",
       "text": [
        "71047\n",
        "1575\n",
        "0\n"
       ]
      }
     ],
     "prompt_number": 87
    },
    {
     "cell_type": "markdown",
     "metadata": {},
     "source": [
      "Most genes have a stop codon before their last exon?  Thats unexpected. There is something odd with the stop codons and the exons, need to dig into file format a bit.  Tomorrow..."
     ]
    },
    {
     "cell_type": "code",
     "collapsed": false,
     "input": [
      "dists = []\n",
      "#need to start building a pandas dataframe, but I'll do this for a little longer...\n",
      "more_than_50 = {}\n",
      "less_than_50 = {}\n",
      "for stop_codon in ptc_codons.values():\n",
      "    exon_id = \":\".join(stop_codon.attrs['ID'].split(\":\")[1:])\n",
      "    exon = exon_dict[exon_id]\n",
      "    assert exon.strand == stop_codon.strand\n",
      "    if stop_codon.strand == \"+\":\n",
      "        dist_from_end = stop_codon.start  - exon.end  \n",
      "    else:\n",
      "        dist_from_end = exon.start - stop_codon.end  \n",
      "    \n",
      "    dists.append(dist_from_end)\n",
      "    if dist_from_end > 50:\n",
      "        more_than_50[exon_id] = stop_codon\n",
      "    else:\n",
      "        less_than_50[exon_id] = stop_codon"
     ],
     "language": "python",
     "metadata": {},
     "outputs": [],
     "prompt_number": 94
    },
    {
     "cell_type": "code",
     "collapsed": false,
     "input": [
      "hist(sorted(dists)[:-5000], bins=100)"
     ],
     "language": "python",
     "metadata": {},
     "outputs": [
      {
       "output_type": "pyout",
       "prompt_number": 102,
       "text": [
        "(array([   9,  941, 4611, 4465, 4036, 3434, 3202, 2913, 2439, 2337, 2071,\n",
        "       1838, 1716, 1576, 1474, 1405, 1268, 1279, 1145, 1073,  897,  907,\n",
        "        889,  823,  822,  716,  707,  617,  613,  625,  610,  528,  511,\n",
        "        506,  488,  498,  447,  407,  400,  353,  329,  323,  330,  374,\n",
        "        383,  374,  329,  286,  252,  237,  320,  210,  215,  240,  205,\n",
        "        257,  214,  259,  221,  196,  196,  186,  171,  178,  183,  191,\n",
        "        174,  155,  145,  122,  162,  133,  146,  159,  147,  115,  121,\n",
        "        116,  102,  130,  116,  141,  127,   91,  151,  104,  108,   86,\n",
        "         93,   68,  102,   78,   84,   52,  102,   71,   90,   70,   73,\n",
        "         58]),\n",
        " array([  -3222.  ,   -1388.75,     444.5 ,    2277.75,    4111.  ,\n",
        "          5944.25,    7777.5 ,    9610.75,   11444.  ,   13277.25,\n",
        "         15110.5 ,   16943.75,   18777.  ,   20610.25,   22443.5 ,\n",
        "         24276.75,   26110.  ,   27943.25,   29776.5 ,   31609.75,\n",
        "         33443.  ,   35276.25,   37109.5 ,   38942.75,   40776.  ,\n",
        "         42609.25,   44442.5 ,   46275.75,   48109.  ,   49942.25,\n",
        "         51775.5 ,   53608.75,   55442.  ,   57275.25,   59108.5 ,\n",
        "         60941.75,   62775.  ,   64608.25,   66441.5 ,   68274.75,\n",
        "         70108.  ,   71941.25,   73774.5 ,   75607.75,   77441.  ,\n",
        "         79274.25,   81107.5 ,   82940.75,   84774.  ,   86607.25,\n",
        "         88440.5 ,   90273.75,   92107.  ,   93940.25,   95773.5 ,\n",
        "         97606.75,   99440.  ,  101273.25,  103106.5 ,  104939.75,\n",
        "        106773.  ,  108606.25,  110439.5 ,  112272.75,  114106.  ,\n",
        "        115939.25,  117772.5 ,  119605.75,  121439.  ,  123272.25,\n",
        "        125105.5 ,  126938.75,  128772.  ,  130605.25,  132438.5 ,\n",
        "        134271.75,  136105.  ,  137938.25,  139771.5 ,  141604.75,\n",
        "        143438.  ,  145271.25,  147104.5 ,  148937.75,  150771.  ,\n",
        "        152604.25,  154437.5 ,  156270.75,  158104.  ,  159937.25,\n",
        "        161770.5 ,  163603.75,  165437.  ,  167270.25,  169103.5 ,\n",
        "        170936.75,  172770.  ,  174603.25,  176436.5 ,  178269.75,  180103.  ]),\n",
        " <a list of 100 Patch objects>)"
       ]
      },
      {
       "output_type": "display_data",
       "png": "[encoded data removed]"
      }
     ],
     "prompt_number": 102
    },
    {
     "cell_type": "code",
     "collapsed": false,
     "input": [
      "print len(more_than_50)\n",
      "print len(less_than_50)"
     ],
     "language": "python",
     "metadata": {},
     "outputs": [
      {
       "output_type": "stream",
       "stream": "stdout",
       "text": [
        "70585\n",
        "462\n"
       ]
      }
     ],
     "prompt_number": 103
    },
    {
     "cell_type": "code",
     "collapsed": false,
     "input": [
      "gff_file = pybedtools.BedTool(\"/nas3/yeolab/Genome/ensembl/Homo_sapiens.GRCh37.65.gff\").filter(lambda x: x.chrom in map(str, range(1,23)) + [\"X\", \"Y\"]).each(add_chrom).saveas()\n",
      "genes = gff_file.filter(lambda x: x[2] == \"gene\").filter(lambda x: x[1] == \"protein_coding\").saveas()\n",
      "coding_genes = set([])\n",
      "for line in genes:\n",
      "    coding_genes.add(line.attrs['ID'])"
     ],
     "language": "python",
     "metadata": {},
     "outputs": [],
     "prompt_number": 30
    },
    {
     "cell_type": "code",
     "collapsed": false,
     "input": [
      "#genes = gff_file.filter(lambda x: x[1] == \"protein_coding\").saveas()"
     ],
     "language": "python",
     "metadata": {},
     "outputs": [],
     "prompt_number": 25
    },
    {
     "cell_type": "code",
     "collapsed": false,
     "input": [
      "coding_genes = set([])\n",
      "for line in genes:\n",
      "    coding_genes.add(line.attrs['ID'])"
     ],
     "language": "python",
     "metadata": {},
     "outputs": [],
     "prompt_number": 31
    },
    {
     "cell_type": "code",
     "collapsed": false,
     "input": [
      "import os\n",
      "path = \"/nas3/yeolab/Genome/ensembl/AS_STRUCTURE/hg19data4/\"\n"
     ],
     "language": "python",
     "metadata": {},
     "outputs": [],
     "prompt_number": 12
    },
    {
     "cell_type": "code",
     "collapsed": false,
     "input": [
      "def trim_names(interval):\n",
      "\n",
      "    \"\"\"fixes names to only be gene names, not transcript names\"\"\"\n",
      "\n",
      "    interval.name = interval.name.split(\":\")[0]\n",
      "    return interval\n"
     ],
     "language": "python",
     "metadata": {},
     "outputs": [],
     "prompt_number": 13
    },
    {
     "cell_type": "code",
     "collapsed": false,
     "input": [
      "UTR3 = pybedtools.BedTool(os.path.join(path, \"UTR3_hg19_frea_sorted.withscore\")).each(trim_names).saveas()\n",
      "\n",
      "transcription_stop_coding = {}\n",
      "for interval in UTR3:\n",
      "        if interval.strand == \"+\":\n",
      "            if interval.name not in transcription_stop_coding:\n",
      "                transcription_stop_coding[interval.name] = {\"interval\" : interval, \n",
      "                                                      \"poly_a\" : interval.end}\n",
      "            transcription_stop_coding[interval.name]['poly_a'] = max(transcription_stop_coding[interval.name]['poly_a'], \n",
      "                                                                    interval.end)\n",
      "        else: #strand == -\n",
      "            if interval.name not in transcription_stop_coding:\n",
      "                transcription_stop_coding[interval.name] = {\"interval\" : interval, \"poly_a\" : interval.start}\n",
      "            transcription_stop_coding[interval.name]['poly_a'] = min(transcription_stop_coding[interval.name]['poly_a'], \n",
      "                                                                    interval.start)\n",
      "\n",
      "transcription_stop_coding = pybedtools.BedTool([[interval['interval'].chrom, \n",
      "                                               interval['poly_a'], \n",
      "                                               interval['poly_a'],  \n",
      "                                               interval['interval'].name, \n",
      "                                               interval['interval'].score, \n",
      "                                               interval['interval'].strand] \n",
      "                                              for interval in transcription_stop_coding.values()]).sort().saveas()\n"
     ],
     "language": "python",
     "metadata": {},
     "outputs": [],
     "prompt_number": 14
    },
    {
     "cell_type": "code",
     "collapsed": false,
     "input": [
      "transcription_stop = pybedtools.BedTool(os.path.join(path, \"polya_hg19_frea_sorted.withscore\")).each(trim_names).sort().saveas()\n"
     ],
     "language": "python",
     "metadata": {},
     "outputs": [],
     "prompt_number": 15
    },
    {
     "cell_type": "code",
     "collapsed": false,
     "input": [
      "possible_coding = { interval.name for interval in transcription_stop_coding}\n",
      "all_genes = {interval.name for interval in transcription_stop}"
     ],
     "language": "python",
     "metadata": {},
     "outputs": [],
     "prompt_number": 16
    },
    {
     "cell_type": "code",
     "collapsed": false,
     "input": [
      "print len(possible_coding)\n",
      "print len(all_genes)\n",
      "print len(coding_genes)"
     ],
     "language": "python",
     "metadata": {},
     "outputs": [
      {
       "output_type": "stream",
       "stream": "stdout",
       "text": [
        "36441\n",
        "50841\n",
        "19975\n"
       ]
      }
     ],
     "prompt_number": 32
    },
    {
     "cell_type": "code",
     "collapsed": false,
     "input": [
      "len(possible_coding & all_genes)"
     ],
     "language": "python",
     "metadata": {},
     "outputs": [
      {
       "output_type": "pyout",
       "prompt_number": 17,
       "text": [
        "36351"
       ]
      }
     ],
     "prompt_number": 17
    },
    {
     "cell_type": "code",
     "collapsed": false,
     "input": [
      "sizes = {'100' : len(possible_coding - all_genes - coding_genes), \n",
      "         '010' : len(all_genes - possible_coding - coding_genes),  \n",
      "         '110' : len(possible_coding & all_genes - coding_genes), \n",
      "         '001' : len(coding_genes - all_genes - possible_coding), \n",
      "         '101' : len(possible_coding & coding_genes - all_genes), \n",
      "         '011' : len(coding_genes & all_genes - possible_coding), \n",
      "         '111' : len(coding_genes & all_genes & possible_coding)}\n",
      "\n",
      "matplotlib_venn.venn3(sizes, set_labels=['ensembl', 'all_genes', 'kasey_coding'])"
     ],
     "language": "python",
     "metadata": {},
     "outputs": [
      {
       "output_type": "pyout",
       "prompt_number": 36,
       "text": [
        "<matplotlib_venn._venn3.Venn3 instance at 0x2c920488>"
       ]
      },
      {
       "output_type": "display_data",
       "png": "[encoded data removed]"
      }
     ],
     "prompt_number": 36
    },
    {
     "cell_type": "code",
     "collapsed": false,
     "input": [],
     "language": "python",
     "metadata": {},
     "outputs": []
    }
   ],
   "metadata": {}
  }
 ]
}