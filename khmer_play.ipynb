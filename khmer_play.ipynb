{
 "metadata": {
  "name": ""
 },
 "nbformat": 3,
 "nbformat_minor": 0,
 "worksheets": [
  {
   "cells": [
    {
     "cell_type": "code",
     "collapsed": false,
     "input": [
      "import khmer\n",
      "import gzip\n",
      "from collections import Counter"
     ],
     "language": "python",
     "metadata": {},
     "outputs": [],
     "prompt_number": 38
    },
    {
     "cell_type": "code",
     "collapsed": false,
     "input": [
      "cd /nas3/gpratt/projects/encode/fastq/"
     ],
     "language": "python",
     "metadata": {},
     "outputs": [
      {
       "output_type": "stream",
       "stream": "stdout",
       "text": [
        "/nas/nas0/gpratt/projects/encode/fastq\n"
       ]
      }
     ],
     "prompt_number": 39
    },
    {
     "cell_type": "code",
     "collapsed": false,
     "input": [
      "bptm = khmer.new_ktable(15)\n",
      "file_handle = gzip.open(\"BPTM_NoIndex_L006_R1.R01_TAF15_TA1M.fastq.gz\")\n",
      "while True:\n",
      "    try:\n",
      "        name = file_handle.next()\n",
      "        seq = file_handle.next().strip()\n",
      "        plus = file_handle.next()\n",
      "        qual = file_handle.next()\n",
      "        bptm.consume(seq)\n",
      "    except Exception as e:\n",
      "        print e\n",
      "        break"
     ],
     "language": "python",
     "metadata": {},
     "outputs": [
      {
       "output_type": "stream",
       "stream": "stdout",
       "text": [
        "\n"
       ]
      }
     ],
     "prompt_number": 40
    },
    {
     "cell_type": "code",
     "collapsed": false,
     "input": [
      "bpth = khmer.new_ktable(15)\n",
      "file_handle = gzip.open(\"BPTH_NoIndex_L005_R1.R01_TAF15_TA1H.fastq.gz\")\n",
      "while True:\n",
      "    try:\n",
      "        name = file_handle.next()\n",
      "        seq = file_handle.next().strip()\n",
      "        plus = file_handle.next()\n",
      "        qual = file_handle.next()\n",
      "        bptm.consume(seq)\n",
      "    except Exception as e:\n",
      "        print e\n",
      "        break"
     ],
     "language": "python",
     "metadata": {},
     "outputs": [
      {
       "output_type": "stream",
       "stream": "stdout",
       "text": [
        "\n"
       ]
      }
     ],
     "prompt_number": 41
    },
    {
     "cell_type": "code",
     "collapsed": false,
     "input": [
      "intersected = bpth.intersect(bptm)"
     ],
     "language": "python",
     "metadata": {},
     "outputs": [],
     "prompt_number": 42
    },
    {
     "cell_type": "code",
     "collapsed": false,
     "input": [
      "distribution_bptm= Counter()\n",
      "distribution_bpth= Counter()\n",
      "distribution_intersect= Counter()"
     ],
     "language": "python",
     "metadata": {},
     "outputs": [],
     "prompt_number": 44
    },
    {
     "cell_type": "code",
     "collapsed": false,
     "input": [
      "for i in xrange(0, bptm.n_entries()):\n",
      "    bptm_count = bptm.get(i)\n",
      "    bpth_count = bpth.get(i)\n",
      "    intersected_count = intersected.get(i)\n",
      "    #if bptm_count > 0 or bpth_count >0:\n",
      "    distribution_bptm[bptm_count] += 1\n",
      "    distribution_bpth[bptm_count] += 1\n",
      "    distribution_intersect[intersected_count] += 1"
     ],
     "language": "python",
     "metadata": {},
     "outputs": [],
     "prompt_number": 45
    },
    {
     "cell_type": "code",
     "collapsed": false,
     "input": [
      "100000000. /bptm.n_entries()"
     ],
     "language": "python",
     "metadata": {},
     "outputs": [
      {
       "metadata": {},
       "output_type": "pyout",
       "prompt_number": 9,
       "text": [
        "0.09313225746154785"
       ]
      }
     ],
     "prompt_number": 9
    },
    {
     "cell_type": "code",
     "collapsed": false,
     "input": [
      "min(distribution), max(distribution)\n"
     ],
     "language": "python",
     "metadata": {},
     "outputs": [
      {
       "metadata": {},
       "output_type": "pyout",
       "prompt_number": 10,
       "text": [
        "(0L, 80470L)"
       ]
      }
     ],
     "prompt_number": 10
    },
    {
     "cell_type": "code",
     "collapsed": false,
     "input": [
      "x = hist(distribution, bins=100)"
     ],
     "language": "python",
     "metadata": {},
     "outputs": [
      {
       "metadata": {},
       "output_type": "display_data",
       "png": "[encoded data removed]",
       "text": [
        "<matplotlib.figure.Figure at 0x2217b610>"
       ]
      }
     ],
     "prompt_number": 12
    },
    {
     "cell_type": "code",
     "collapsed": false,
     "input": [
      "Counter(distribution_bptm).most_common(10)"
     ],
     "language": "python",
     "metadata": {},
     "outputs": [
      {
       "metadata": {},
       "output_type": "pyout",
       "prompt_number": 17,
       "text": [
        "[(1L, 21595),\n",
        " (2L, 4018),\n",
        " (3L, 1819),\n",
        " (4L, 1187),\n",
        " (5L, 950),\n",
        " (6L, 736),\n",
        " (7L, 536),\n",
        " (8L, 506),\n",
        " (10L, 345),\n",
        " (9L, 323)]"
       ]
      }
     ],
     "prompt_number": 17
    },
    {
     "cell_type": "code",
     "collapsed": false,
     "input": [
      "Counter(distribution_bpth).most_common(10)\n"
     ],
     "language": "python",
     "metadata": {},
     "outputs": [
      {
       "metadata": {},
       "output_type": "pyout",
       "prompt_number": 18,
       "text": [
        "[(1L, 21595),\n",
        " (2L, 4018),\n",
        " (3L, 1819),\n",
        " (4L, 1187),\n",
        " (5L, 950),\n",
        " (6L, 736),\n",
        " (7L, 536),\n",
        " (8L, 506),\n",
        " (10L, 345),\n",
        " (9L, 323)]"
       ]
      }
     ],
     "prompt_number": 18
    },
    {
     "cell_type": "code",
     "collapsed": false,
     "input": [
      "Counter(distribution_intersect).most_common(10)"
     ],
     "language": "python",
     "metadata": {},
     "outputs": [
      {
       "metadata": {},
       "output_type": "pyout",
       "prompt_number": 19,
       "text": [
        "[(1L, 21595),\n",
        " (2L, 4018),\n",
        " (3L, 1819),\n",
        " (4L, 1187),\n",
        " (5L, 950),\n",
        " (6L, 736),\n",
        " (7L, 536),\n",
        " (8L, 506),\n",
        " (10L, 345),\n",
        " (9L, 323)]"
       ]
      }
     ],
     "prompt_number": 19
    },
    {
     "cell_type": "code",
     "collapsed": false,
     "input": [
      "foo = khmer.load_hashbits(\"BFH_NoIndex_L003_R1.R10_FOX2_FD11H.fastq.gz.kh\")"
     ],
     "language": "python",
     "metadata": {},
     "outputs": [],
     "prompt_number": 2
    },
    {
     "cell_type": "code",
     "collapsed": false,
     "input": [
      "import khmer"
     ],
     "language": "python",
     "metadata": {},
     "outputs": [],
     "prompt_number": 6
    },
    {
     "cell_type": "code",
     "collapsed": false,
     "input": [
      "cd /nas3/gpratt/projects/encode/fastq/"
     ],
     "language": "python",
     "metadata": {},
     "outputs": [
      {
       "output_type": "stream",
       "stream": "stdout",
       "text": [
        "/nas/nas0/gpratt/projects/encode/fastq\n"
       ]
      }
     ],
     "prompt_number": 7
    },
    {
     "cell_type": "code",
     "collapsed": false,
     "input": [
      "rparser = khmer.ReadParser(\"BFH_NoIndex_L003_R1.R10_FOX2_FD11H.fastq.gz\")"
     ],
     "language": "python",
     "metadata": {},
     "outputs": [],
     "prompt_number": 28
    },
    {
     "cell_type": "code",
     "collapsed": false,
     "input": [
      "rparser2 = khmer.ReadParser(\"BFH_NoIndex_L003_R1.R02_FOX2_FB11H.fastq.gz\")"
     ],
     "language": "python",
     "metadata": {},
     "outputs": [],
     "prompt_number": 29
    },
    {
     "cell_type": "code",
     "collapsed": false,
     "input": [
      "ht = khmer.new_hashbits(25, 5e7, 4)\n",
      "ht2 = khmer.new_hashbits(25, 5e7, 4)"
     ],
     "language": "python",
     "metadata": {},
     "outputs": [],
     "prompt_number": 31
    },
    {
     "cell_type": "code",
     "collapsed": false,
     "input": [
      "ht.consume_fasta_with_reads_parser(rparser)\n",
      "ht2.consume_fasta_with_reads_parser(rparser2)"
     ],
     "language": "python",
     "metadata": {},
     "outputs": [
      {
       "metadata": {},
       "output_type": "pyout",
       "prompt_number": 32,
       "text": [
        "(32418567, 551115639L)"
       ]
      }
     ],
     "prompt_number": 32
    },
    {
     "cell_type": "code",
     "collapsed": false,
     "input": [
      "ht.save(\"BFH_NoIndex_L003_R1.R10_FOX2_FD11H.fastq.gz.hb\")\n",
      "ht2.save(\"BFH_NoIndex_L003_R1.R02_FOX2_FB11H.fastq.gz.hb\")"
     ],
     "language": "python",
     "metadata": {},
     "outputs": [],
     "prompt_number": 33
    },
    {
     "cell_type": "code",
     "collapsed": false,
     "input": [
      "(n_unique, n_overlap, list) = ht.count_overlap(\"BFH_NoIndex_L003_R1.R02_FOX2_FB11H.fastq.gz\", ht2)"
     ],
     "language": "python",
     "metadata": {},
     "outputs": [
      {
       "output_type": "stream",
       "stream": "stdout",
       "text": [
        "... consume_fasta 100000 1700000\n",
        "..."
       ]
      },
      {
       "output_type": "stream",
       "stream": "stdout",
       "text": [
        " consume_fasta 200000 3400000\n",
        "..."
       ]
      },
      {
       "output_type": "stream",
       "stream": "stdout",
       "text": [
        " consume_fasta 300000 5100000\n",
        "..."
       ]
      },
      {
       "output_type": "stream",
       "stream": "stdout",
       "text": [
        " consume_fasta 400000 6800000\n",
        "..."
       ]
      },
      {
       "output_type": "stream",
       "stream": "stdout",
       "text": [
        " consume_fasta 500000 8500000\n",
        "..."
       ]
      },
      {
       "output_type": "stream",
       "stream": "stdout",
       "text": [
        " consume_fasta 600000 10200000\n",
        "..."
       ]
      },
      {
       "output_type": "stream",
       "stream": "stdout",
       "text": [
        " consume_fasta 700000 11900000\n",
        "..."
       ]
      },
      {
       "output_type": "stream",
       "stream": "stdout",
       "text": [
        " consume_fasta 800000 13600000\n",
        "..."
       ]
      },
      {
       "output_type": "stream",
       "stream": "stdout",
       "text": [
        " consume_fasta 900000 15300000\n",
        "..."
       ]
      },
      {
       "output_type": "stream",
       "stream": "stdout",
       "text": [
        " consume_fasta 1000000 17000000\n",
        "..."
       ]
      },
      {
       "output_type": "stream",
       "stream": "stdout",
       "text": [
        " consume_fasta 1100000 18700000\n",
        "..."
       ]
      },
      {
       "output_type": "stream",
       "stream": "stdout",
       "text": [
        " consume_fasta 1200000 20400000\n",
        "..."
       ]
      },
      {
       "output_type": "stream",
       "stream": "stdout",
       "text": [
        " consume_fasta 1300000 22100000\n",
        "..."
       ]
      },
      {
       "output_type": "stream",
       "stream": "stdout",
       "text": [
        " consume_fasta 1400000 23800000\n",
        "..."
       ]
      },
      {
       "output_type": "stream",
       "stream": "stdout",
       "text": [
        " consume_fasta 1500000 25500000\n",
        "..."
       ]
      },
      {
       "output_type": "stream",
       "stream": "stdout",
       "text": [
        " consume_fasta 1600000 27200000\n",
        "..."
       ]
      },
      {
       "output_type": "stream",
       "stream": "stdout",
       "text": [
        " consume_fasta 1700000 28900000\n",
        "..."
       ]
      },
      {
       "output_type": "stream",
       "stream": "stdout",
       "text": [
        " consume_fasta 1800000 30600000\n",
        "..."
       ]
      },
      {
       "output_type": "stream",
       "stream": "stdout",
       "text": [
        " consume_fasta 1900000 32300000\n",
        "..."
       ]
      },
      {
       "output_type": "stream",
       "stream": "stdout",
       "text": [
        " consume_fasta 2000000 34000000\n",
        "..."
       ]
      },
      {
       "output_type": "stream",
       "stream": "stdout",
       "text": [
        " consume_fasta 2100000 35700000\n",
        "..."
       ]
      },
      {
       "output_type": "stream",
       "stream": "stdout",
       "text": [
        " consume_fasta 2200000 37400000\n",
        "..."
       ]
      },
      {
       "output_type": "stream",
       "stream": "stdout",
       "text": [
        " consume_fasta 2300000 39100000\n",
        "..."
       ]
      },
      {
       "output_type": "stream",
       "stream": "stdout",
       "text": [
        " consume_fasta 2400000 40800000\n",
        "..."
       ]
      },
      {
       "output_type": "stream",
       "stream": "stdout",
       "text": [
        " consume_fasta 2500000 42500000\n",
        "..."
       ]
      },
      {
       "output_type": "stream",
       "stream": "stdout",
       "text": [
        " consume_fasta 2600000 44200000\n",
        "..."
       ]
      },
      {
       "output_type": "stream",
       "stream": "stdout",
       "text": [
        " consume_fasta 2700000 45900000\n",
        "..."
       ]
      },
      {
       "output_type": "stream",
       "stream": "stdout",
       "text": [
        " consume_fasta 2800000 47600000\n",
        "..."
       ]
      },
      {
       "output_type": "stream",
       "stream": "stdout",
       "text": [
        " consume_fasta 2900000 49300000\n",
        "..."
       ]
      },
      {
       "output_type": "stream",
       "stream": "stdout",
       "text": [
        " consume_fasta 3000000 51000000\n",
        "..."
       ]
      },
      {
       "output_type": "stream",
       "stream": "stdout",
       "text": [
        " consume_fasta 3100000 52700000\n",
        "..."
       ]
      },
      {
       "output_type": "stream",
       "stream": "stdout",
       "text": [
        " consume_fasta 3200000 54400000\n",
        "..."
       ]
      },
      {
       "output_type": "stream",
       "stream": "stdout",
       "text": [
        " consume_fasta 3300000 56100000\n",
        "..."
       ]
      },
      {
       "output_type": "stream",
       "stream": "stdout",
       "text": [
        " consume_fasta 3400000 57800000\n",
        "..."
       ]
      },
      {
       "output_type": "stream",
       "stream": "stdout",
       "text": [
        " consume_fasta 3500000 59500000\n",
        "..."
       ]
      },
      {
       "output_type": "stream",
       "stream": "stdout",
       "text": [
        " consume_fasta 3600000 61200000\n",
        "..."
       ]
      },
      {
       "output_type": "stream",
       "stream": "stdout",
       "text": [
        " consume_fasta 3700000 62900000\n",
        "..."
       ]
      },
      {
       "output_type": "stream",
       "stream": "stdout",
       "text": [
        " consume_fasta 3800000 64600000\n",
        "..."
       ]
      },
      {
       "output_type": "stream",
       "stream": "stdout",
       "text": [
        " consume_fasta 3900000 66300000\n",
        "..."
       ]
      },
      {
       "output_type": "stream",
       "stream": "stdout",
       "text": [
        " consume_fasta 4000000 68000000\n",
        "..."
       ]
      },
      {
       "output_type": "stream",
       "stream": "stdout",
       "text": [
        " consume_fasta 4100000 69700000\n",
        "..."
       ]
      },
      {
       "output_type": "stream",
       "stream": "stdout",
       "text": [
        " consume_fasta 4200000 71400000\n",
        "..."
       ]
      },
      {
       "output_type": "stream",
       "stream": "stdout",
       "text": [
        " consume_fasta 4300000 73100000\n",
        "..."
       ]
      },
      {
       "output_type": "stream",
       "stream": "stdout",
       "text": [
        " consume_fasta 4400000 74800000\n",
        "..."
       ]
      },
      {
       "output_type": "stream",
       "stream": "stdout",
       "text": [
        " consume_fasta 4500000 76500000\n",
        "..."
       ]
      },
      {
       "output_type": "stream",
       "stream": "stdout",
       "text": [
        " consume_fasta 4600000 78200000\n",
        "..."
       ]
      },
      {
       "output_type": "stream",
       "stream": "stdout",
       "text": [
        " consume_fasta 4700000 79900000\n",
        "..."
       ]
      },
      {
       "output_type": "stream",
       "stream": "stdout",
       "text": [
        " consume_fasta 4800000 81600000\n",
        "..."
       ]
      },
      {
       "output_type": "stream",
       "stream": "stdout",
       "text": [
        " consume_fasta 4900000 83300000\n",
        "..."
       ]
      },
      {
       "output_type": "stream",
       "stream": "stdout",
       "text": [
        " consume_fasta 5000000 85000000\n",
        "..."
       ]
      },
      {
       "output_type": "stream",
       "stream": "stdout",
       "text": [
        " consume_fasta 5100000 86700000\n",
        "..."
       ]
      },
      {
       "output_type": "stream",
       "stream": "stdout",
       "text": [
        " consume_fasta 5200000 88400000\n",
        "..."
       ]
      },
      {
       "output_type": "stream",
       "stream": "stdout",
       "text": [
        " consume_fasta 5300000 90100000\n",
        "..."
       ]
      },
      {
       "output_type": "stream",
       "stream": "stdout",
       "text": [
        " consume_fasta 5400000 91800000\n",
        "..."
       ]
      },
      {
       "output_type": "stream",
       "stream": "stdout",
       "text": [
        " consume_fasta 5500000 93500000\n",
        "..."
       ]
      },
      {
       "output_type": "stream",
       "stream": "stdout",
       "text": [
        " consume_fasta 5600000 95200000\n",
        "..."
       ]
      },
      {
       "output_type": "stream",
       "stream": "stdout",
       "text": [
        " consume_fasta 5700000 96900000\n",
        "..."
       ]
      },
      {
       "output_type": "stream",
       "stream": "stdout",
       "text": [
        " consume_fasta 5800000 98600000\n",
        "..."
       ]
      },
      {
       "output_type": "stream",
       "stream": "stdout",
       "text": [
        " consume_fasta 5900000 100300000\n",
        "..."
       ]
      },
      {
       "output_type": "stream",
       "stream": "stdout",
       "text": [
        " consume_fasta 6000000 102000000\n",
        "..."
       ]
      },
      {
       "output_type": "stream",
       "stream": "stdout",
       "text": [
        " consume_fasta 6100000 103700000\n",
        "..."
       ]
      },
      {
       "output_type": "stream",
       "stream": "stdout",
       "text": [
        " consume_fasta 6200000 105400000\n",
        "..."
       ]
      },
      {
       "output_type": "stream",
       "stream": "stdout",
       "text": [
        " consume_fasta 6300000 107100000\n",
        "..."
       ]
      },
      {
       "output_type": "stream",
       "stream": "stdout",
       "text": [
        " consume_fasta 6400000 108800000\n",
        "..."
       ]
      },
      {
       "output_type": "stream",
       "stream": "stdout",
       "text": [
        " consume_fasta 6500000 110500000\n",
        "..."
       ]
      },
      {
       "output_type": "stream",
       "stream": "stdout",
       "text": [
        " consume_fasta 6600000 112200000\n",
        "..."
       ]
      },
      {
       "output_type": "stream",
       "stream": "stdout",
       "text": [
        " consume_fasta 6700000 113900000\n",
        "..."
       ]
      },
      {
       "output_type": "stream",
       "stream": "stdout",
       "text": [
        " consume_fasta 6800000 115600000\n",
        "..."
       ]
      },
      {
       "output_type": "stream",
       "stream": "stdout",
       "text": [
        " consume_fasta 6900000 117300000\n",
        "..."
       ]
      },
      {
       "output_type": "stream",
       "stream": "stdout",
       "text": [
        " consume_fasta 7000000 119000000\n",
        "..."
       ]
      },
      {
       "output_type": "stream",
       "stream": "stdout",
       "text": [
        " consume_fasta 7100000 120700000\n",
        "..."
       ]
      },
      {
       "output_type": "stream",
       "stream": "stdout",
       "text": [
        " consume_fasta 7200000 122400000\n",
        "..."
       ]
      },
      {
       "output_type": "stream",
       "stream": "stdout",
       "text": [
        " consume_fasta 7300000 124100000\n",
        "..."
       ]
      },
      {
       "output_type": "stream",
       "stream": "stdout",
       "text": [
        " consume_fasta 7400000 125800000\n",
        "..."
       ]
      },
      {
       "output_type": "stream",
       "stream": "stdout",
       "text": [
        " consume_fasta 7500000 127500000\n",
        "..."
       ]
      },
      {
       "output_type": "stream",
       "stream": "stdout",
       "text": [
        " consume_fasta 7600000 129200000\n",
        "..."
       ]
      },
      {
       "output_type": "stream",
       "stream": "stdout",
       "text": [
        " consume_fasta 7700000 130900000\n",
        "..."
       ]
      },
      {
       "output_type": "stream",
       "stream": "stdout",
       "text": [
        " consume_fasta 7800000 132600000\n",
        "..."
       ]
      },
      {
       "output_type": "stream",
       "stream": "stdout",
       "text": [
        " consume_fasta 7900000 134300000\n",
        "..."
       ]
      },
      {
       "output_type": "stream",
       "stream": "stdout",
       "text": [
        " consume_fasta 8000000 136000000\n",
        "..."
       ]
      },
      {
       "output_type": "stream",
       "stream": "stdout",
       "text": [
        " consume_fasta 8100000 137700000\n",
        "..."
       ]
      },
      {
       "output_type": "stream",
       "stream": "stdout",
       "text": [
        " consume_fasta 8200000 139400000\n",
        "..."
       ]
      },
      {
       "output_type": "stream",
       "stream": "stdout",
       "text": [
        " consume_fasta 8300000 141100000\n",
        "..."
       ]
      },
      {
       "output_type": "stream",
       "stream": "stdout",
       "text": [
        " consume_fasta 8400000 142800000\n",
        "..."
       ]
      },
      {
       "output_type": "stream",
       "stream": "stdout",
       "text": [
        " consume_fasta 8500000 144500000\n",
        "..."
       ]
      },
      {
       "output_type": "stream",
       "stream": "stdout",
       "text": [
        " consume_fasta 8600000 146200000\n",
        "..."
       ]
      },
      {
       "output_type": "stream",
       "stream": "stdout",
       "text": [
        " consume_fasta 8700000 147900000\n",
        "..."
       ]
      },
      {
       "output_type": "stream",
       "stream": "stdout",
       "text": [
        " consume_fasta 8800000 149600000\n",
        "..."
       ]
      },
      {
       "output_type": "stream",
       "stream": "stdout",
       "text": [
        " consume_fasta 8900000 151300000\n",
        "..."
       ]
      },
      {
       "output_type": "stream",
       "stream": "stdout",
       "text": [
        " consume_fasta 9000000 153000000\n",
        "..."
       ]
      },
      {
       "output_type": "stream",
       "stream": "stdout",
       "text": [
        " consume_fasta 9100000 154700000\n",
        "..."
       ]
      },
      {
       "output_type": "stream",
       "stream": "stdout",
       "text": [
        " consume_fasta 9200000 156400000\n",
        "..."
       ]
      },
      {
       "output_type": "stream",
       "stream": "stdout",
       "text": [
        " consume_fasta 9300000 158100000\n",
        "..."
       ]
      },
      {
       "output_type": "stream",
       "stream": "stdout",
       "text": [
        " consume_fasta 9400000 159800000\n",
        "..."
       ]
      },
      {
       "output_type": "stream",
       "stream": "stdout",
       "text": [
        " consume_fasta 9500000 161500000\n",
        "..."
       ]
      },
      {
       "output_type": "stream",
       "stream": "stdout",
       "text": [
        " consume_fasta 9600000 163200000\n",
        "..."
       ]
      },
      {
       "output_type": "stream",
       "stream": "stdout",
       "text": [
        " consume_fasta 9700000 164900000\n",
        "..."
       ]
      },
      {
       "output_type": "stream",
       "stream": "stdout",
       "text": [
        " consume_fasta 9800000 166600000\n",
        "..."
       ]
      },
      {
       "output_type": "stream",
       "stream": "stdout",
       "text": [
        " consume_fasta 9900000 168300000\n",
        "..."
       ]
      },
      {
       "output_type": "stream",
       "stream": "stdout",
       "text": [
        " consume_fasta 10000000 170000000\n",
        "..."
       ]
      },
      {
       "output_type": "stream",
       "stream": "stdout",
       "text": [
        " consume_fasta 10100000 171700000\n",
        "..."
       ]
      },
      {
       "output_type": "stream",
       "stream": "stdout",
       "text": [
        " consume_fasta 10200000 173400000\n",
        "..."
       ]
      },
      {
       "output_type": "stream",
       "stream": "stdout",
       "text": [
        " consume_fasta 10300000 175100000\n",
        "..."
       ]
      },
      {
       "output_type": "stream",
       "stream": "stdout",
       "text": [
        " consume_fasta 10400000 176800000\n",
        "..."
       ]
      },
      {
       "output_type": "stream",
       "stream": "stdout",
       "text": [
        " consume_fasta 10500000 178500000\n",
        "..."
       ]
      },
      {
       "output_type": "stream",
       "stream": "stdout",
       "text": [
        " consume_fasta 10600000 180200000\n",
        "..."
       ]
      },
      {
       "output_type": "stream",
       "stream": "stdout",
       "text": [
        " consume_fasta 10700000 181900000\n",
        "..."
       ]
      },
      {
       "output_type": "stream",
       "stream": "stdout",
       "text": [
        " consume_fasta 10800000 183600000\n",
        "..."
       ]
      },
      {
       "output_type": "stream",
       "stream": "stdout",
       "text": [
        " consume_fasta 10900000 185300000\n",
        "..."
       ]
      },
      {
       "output_type": "stream",
       "stream": "stdout",
       "text": [
        " consume_fasta 11000000 187000000\n",
        "..."
       ]
      },
      {
       "output_type": "stream",
       "stream": "stdout",
       "text": [
        " consume_fasta 11100000 188700000\n",
        "..."
       ]
      },
      {
       "output_type": "stream",
       "stream": "stdout",
       "text": [
        " consume_fasta 11200000 190400000\n",
        "..."
       ]
      },
      {
       "output_type": "stream",
       "stream": "stdout",
       "text": [
        " consume_fasta 11300000 192100000\n",
        "..."
       ]
      },
      {
       "output_type": "stream",
       "stream": "stdout",
       "text": [
        " consume_fasta 11400000 193800000\n",
        "..."
       ]
      },
      {
       "output_type": "stream",
       "stream": "stdout",
       "text": [
        " consume_fasta 11500000 195500000\n",
        "..."
       ]
      },
      {
       "output_type": "stream",
       "stream": "stdout",
       "text": [
        " consume_fasta 11600000 197200000\n",
        "..."
       ]
      },
      {
       "output_type": "stream",
       "stream": "stdout",
       "text": [
        " consume_fasta 11700000 198900000\n",
        "..."
       ]
      },
      {
       "output_type": "stream",
       "stream": "stdout",
       "text": [
        " consume_fasta 11800000 200600000\n",
        "..."
       ]
      },
      {
       "output_type": "stream",
       "stream": "stdout",
       "text": [
        " consume_fasta 11900000 202300000\n",
        "..."
       ]
      },
      {
       "output_type": "stream",
       "stream": "stdout",
       "text": [
        " consume_fasta 12000000 204000000\n",
        "..."
       ]
      },
      {
       "output_type": "stream",
       "stream": "stdout",
       "text": [
        " consume_fasta 12100000 205700000\n",
        "..."
       ]
      },
      {
       "output_type": "stream",
       "stream": "stdout",
       "text": [
        " consume_fasta 12200000 207400000\n",
        "..."
       ]
      },
      {
       "output_type": "stream",
       "stream": "stdout",
       "text": [
        " consume_fasta 12300000 209100000\n",
        "..."
       ]
      },
      {
       "output_type": "stream",
       "stream": "stdout",
       "text": [
        " consume_fasta 12400000 210800000\n",
        "..."
       ]
      },
      {
       "output_type": "stream",
       "stream": "stdout",
       "text": [
        " consume_fasta 12500000 212500000\n",
        "..."
       ]
      },
      {
       "output_type": "stream",
       "stream": "stdout",
       "text": [
        " consume_fasta 12600000 214200000\n",
        "..."
       ]
      },
      {
       "output_type": "stream",
       "stream": "stdout",
       "text": [
        " consume_fasta 12700000 215900000\n",
        "..."
       ]
      },
      {
       "output_type": "stream",
       "stream": "stdout",
       "text": [
        " consume_fasta 12800000 217600000\n",
        "..."
       ]
      },
      {
       "output_type": "stream",
       "stream": "stdout",
       "text": [
        " consume_fasta 12900000 219300000\n",
        "..."
       ]
      },
      {
       "output_type": "stream",
       "stream": "stdout",
       "text": [
        " consume_fasta 13000000 221000000\n",
        "..."
       ]
      },
      {
       "output_type": "stream",
       "stream": "stdout",
       "text": [
        " consume_fasta 13100000 222700000\n",
        "..."
       ]
      },
      {
       "output_type": "stream",
       "stream": "stdout",
       "text": [
        " consume_fasta 13200000 224400000\n",
        "..."
       ]
      },
      {
       "output_type": "stream",
       "stream": "stdout",
       "text": [
        " consume_fasta 13300000 226100000\n",
        "..."
       ]
      },
      {
       "output_type": "stream",
       "stream": "stdout",
       "text": [
        " consume_fasta 13400000 227800000\n",
        "..."
       ]
      },
      {
       "output_type": "stream",
       "stream": "stdout",
       "text": [
        " consume_fasta 13500000 229500000\n",
        "..."
       ]
      },
      {
       "output_type": "stream",
       "stream": "stdout",
       "text": [
        " consume_fasta 13600000 231200000\n",
        "..."
       ]
      },
      {
       "output_type": "stream",
       "stream": "stdout",
       "text": [
        " consume_fasta 13700000 232900000\n",
        "..."
       ]
      },
      {
       "output_type": "stream",
       "stream": "stdout",
       "text": [
        " consume_fasta 13800000 234600000\n",
        "..."
       ]
      },
      {
       "output_type": "stream",
       "stream": "stdout",
       "text": [
        " consume_fasta 13900000 236300000\n",
        "..."
       ]
      },
      {
       "output_type": "stream",
       "stream": "stdout",
       "text": [
        " consume_fasta 14000000 238000000\n",
        "..."
       ]
      },
      {
       "output_type": "stream",
       "stream": "stdout",
       "text": [
        " consume_fasta 14100000 239700000\n",
        "..."
       ]
      },
      {
       "output_type": "stream",
       "stream": "stdout",
       "text": [
        " consume_fasta 14200000 241400000\n",
        "..."
       ]
      },
      {
       "output_type": "stream",
       "stream": "stdout",
       "text": [
        " consume_fasta 14300000 243100000\n",
        "..."
       ]
      },
      {
       "output_type": "stream",
       "stream": "stdout",
       "text": [
        " consume_fasta 14400000 244800000\n",
        "..."
       ]
      },
      {
       "output_type": "stream",
       "stream": "stdout",
       "text": [
        " consume_fasta 14500000 246500000\n",
        "..."
       ]
      },
      {
       "output_type": "stream",
       "stream": "stdout",
       "text": [
        " consume_fasta 14600000 248200000\n",
        "..."
       ]
      },
      {
       "output_type": "stream",
       "stream": "stdout",
       "text": [
        " consume_fasta 14700000 249900000\n",
        "..."
       ]
      },
      {
       "output_type": "stream",
       "stream": "stdout",
       "text": [
        " consume_fasta 14800000 251600000\n",
        "..."
       ]
      },
      {
       "output_type": "stream",
       "stream": "stdout",
       "text": [
        " consume_fasta 14900000 253300000\n",
        "..."
       ]
      },
      {
       "output_type": "stream",
       "stream": "stdout",
       "text": [
        " consume_fasta 15000000 255000000\n",
        "..."
       ]
      },
      {
       "output_type": "stream",
       "stream": "stdout",
       "text": [
        " consume_fasta 15100000 256700000\n",
        "..."
       ]
      },
      {
       "output_type": "stream",
       "stream": "stdout",
       "text": [
        " consume_fasta 15200000 258400000\n",
        "..."
       ]
      },
      {
       "output_type": "stream",
       "stream": "stdout",
       "text": [
        " consume_fasta 15300000 260100000\n",
        "..."
       ]
      },
      {
       "output_type": "stream",
       "stream": "stdout",
       "text": [
        " consume_fasta 15400000 261800000\n",
        "..."
       ]
      },
      {
       "output_type": "stream",
       "stream": "stdout",
       "text": [
        " consume_fasta 15500000 263500000\n",
        "..."
       ]
      },
      {
       "output_type": "stream",
       "stream": "stdout",
       "text": [
        " consume_fasta 15600000 265200000\n",
        "..."
       ]
      },
      {
       "output_type": "stream",
       "stream": "stdout",
       "text": [
        " consume_fasta 15700000 266900000\n",
        "..."
       ]
      },
      {
       "output_type": "stream",
       "stream": "stdout",
       "text": [
        " consume_fasta 15800000 268600000\n",
        "..."
       ]
      },
      {
       "output_type": "stream",
       "stream": "stdout",
       "text": [
        " consume_fasta 15900000 270300000\n",
        "..."
       ]
      },
      {
       "output_type": "stream",
       "stream": "stdout",
       "text": [
        " consume_fasta 16000000 272000000\n",
        "..."
       ]
      },
      {
       "output_type": "stream",
       "stream": "stdout",
       "text": [
        " consume_fasta 16100000 273700000\n",
        "..."
       ]
      },
      {
       "output_type": "stream",
       "stream": "stdout",
       "text": [
        " consume_fasta 16200000 275400000\n",
        "..."
       ]
      },
      {
       "output_type": "stream",
       "stream": "stdout",
       "text": [
        " consume_fasta 16300000 277100000\n",
        "..."
       ]
      },
      {
       "output_type": "stream",
       "stream": "stdout",
       "text": [
        " consume_fasta 16400000 278800000\n",
        "..."
       ]
      },
      {
       "output_type": "stream",
       "stream": "stdout",
       "text": [
        " consume_fasta 16500000 280500000\n",
        "..."
       ]
      },
      {
       "output_type": "stream",
       "stream": "stdout",
       "text": [
        " consume_fasta 16600000 282200000\n",
        "..."
       ]
      },
      {
       "output_type": "stream",
       "stream": "stdout",
       "text": [
        " consume_fasta 16700000 283900000\n",
        "..."
       ]
      },
      {
       "output_type": "stream",
       "stream": "stdout",
       "text": [
        " consume_fasta 16800000 285600000\n",
        "..."
       ]
      },
      {
       "output_type": "stream",
       "stream": "stdout",
       "text": [
        " consume_fasta 16900000 287300000\n",
        "..."
       ]
      },
      {
       "output_type": "stream",
       "stream": "stdout",
       "text": [
        " consume_fasta 17000000 289000000\n",
        "..."
       ]
      },
      {
       "output_type": "stream",
       "stream": "stdout",
       "text": [
        " consume_fasta 17100000 290700000\n",
        "..."
       ]
      },
      {
       "output_type": "stream",
       "stream": "stdout",
       "text": [
        " consume_fasta 17200000 292400000\n",
        "..."
       ]
      },
      {
       "output_type": "stream",
       "stream": "stdout",
       "text": [
        " consume_fasta 17300000 294100000\n",
        "..."
       ]
      },
      {
       "output_type": "stream",
       "stream": "stdout",
       "text": [
        " consume_fasta 17400000 295800000\n",
        "..."
       ]
      },
      {
       "output_type": "stream",
       "stream": "stdout",
       "text": [
        " consume_fasta 17500000 297500000\n",
        "..."
       ]
      },
      {
       "output_type": "stream",
       "stream": "stdout",
       "text": [
        " consume_fasta 17600000 299200000\n",
        "..."
       ]
      },
      {
       "output_type": "stream",
       "stream": "stdout",
       "text": [
        " consume_fasta 17700000 300900000\n",
        "..."
       ]
      },
      {
       "output_type": "stream",
       "stream": "stdout",
       "text": [
        " consume_fasta 17800000 302600000\n",
        "..."
       ]
      },
      {
       "output_type": "stream",
       "stream": "stdout",
       "text": [
        " consume_fasta 17900000 304300000\n",
        "..."
       ]
      },
      {
       "output_type": "stream",
       "stream": "stdout",
       "text": [
        " consume_fasta 18000000 306000000\n",
        "..."
       ]
      },
      {
       "output_type": "stream",
       "stream": "stdout",
       "text": [
        " consume_fasta 18100000 307700000\n",
        "..."
       ]
      },
      {
       "output_type": "stream",
       "stream": "stdout",
       "text": [
        " consume_fasta 18200000 309400000\n",
        "..."
       ]
      },
      {
       "output_type": "stream",
       "stream": "stdout",
       "text": [
        " consume_fasta 18300000 311100000\n",
        "..."
       ]
      },
      {
       "output_type": "stream",
       "stream": "stdout",
       "text": [
        " consume_fasta 18400000 312800000\n",
        "..."
       ]
      },
      {
       "output_type": "stream",
       "stream": "stdout",
       "text": [
        " consume_fasta 18500000 314500000\n",
        "..."
       ]
      },
      {
       "output_type": "stream",
       "stream": "stdout",
       "text": [
        " consume_fasta 18600000 316200000\n",
        "..."
       ]
      },
      {
       "output_type": "stream",
       "stream": "stdout",
       "text": [
        " consume_fasta 18700000 317900000\n",
        "..."
       ]
      },
      {
       "output_type": "stream",
       "stream": "stdout",
       "text": [
        " consume_fasta 18800000 319600000\n",
        "..."
       ]
      },
      {
       "output_type": "stream",
       "stream": "stdout",
       "text": [
        " consume_fasta 18900000 321300000\n",
        "..."
       ]
      },
      {
       "output_type": "stream",
       "stream": "stdout",
       "text": [
        " consume_fasta 19000000 323000000\n",
        "..."
       ]
      },
      {
       "output_type": "stream",
       "stream": "stdout",
       "text": [
        " consume_fasta 19100000 324700000\n",
        "..."
       ]
      },
      {
       "output_type": "stream",
       "stream": "stdout",
       "text": [
        " consume_fasta 19200000 326400000\n",
        "..."
       ]
      },
      {
       "output_type": "stream",
       "stream": "stdout",
       "text": [
        " consume_fasta 19300000 328100000\n",
        "..."
       ]
      },
      {
       "output_type": "stream",
       "stream": "stdout",
       "text": [
        " consume_fasta 19400000 329800000\n",
        "..."
       ]
      },
      {
       "output_type": "stream",
       "stream": "stdout",
       "text": [
        " consume_fasta 19500000 331500000\n",
        "..."
       ]
      },
      {
       "output_type": "stream",
       "stream": "stdout",
       "text": [
        " consume_fasta 19600000 333200000\n",
        "..."
       ]
      },
      {
       "output_type": "stream",
       "stream": "stdout",
       "text": [
        " consume_fasta 19700000 334900000\n",
        "..."
       ]
      },
      {
       "output_type": "stream",
       "stream": "stdout",
       "text": [
        " consume_fasta 19800000 336600000\n",
        "..."
       ]
      },
      {
       "output_type": "stream",
       "stream": "stdout",
       "text": [
        " consume_fasta 19900000 338300000\n",
        "..."
       ]
      },
      {
       "output_type": "stream",
       "stream": "stdout",
       "text": [
        " consume_fasta 20000000 340000000\n",
        "..."
       ]
      },
      {
       "output_type": "stream",
       "stream": "stdout",
       "text": [
        " consume_fasta 20100000 341700000\n",
        "..."
       ]
      },
      {
       "output_type": "stream",
       "stream": "stdout",
       "text": [
        " consume_fasta 20200000 343400000\n",
        "..."
       ]
      },
      {
       "output_type": "stream",
       "stream": "stdout",
       "text": [
        " consume_fasta 20300000 345100000\n",
        "..."
       ]
      },
      {
       "output_type": "stream",
       "stream": "stdout",
       "text": [
        " consume_fasta 20400000 346800000\n",
        "..."
       ]
      },
      {
       "output_type": "stream",
       "stream": "stdout",
       "text": [
        " consume_fasta 20500000 348500000\n",
        "..."
       ]
      },
      {
       "output_type": "stream",
       "stream": "stdout",
       "text": [
        " consume_fasta 20600000 350200000\n",
        "..."
       ]
      },
      {
       "output_type": "stream",
       "stream": "stdout",
       "text": [
        " consume_fasta 20700000 351900000\n",
        "..."
       ]
      },
      {
       "output_type": "stream",
       "stream": "stdout",
       "text": [
        " consume_fasta 20800000 353600000\n",
        "..."
       ]
      },
      {
       "output_type": "stream",
       "stream": "stdout",
       "text": [
        " consume_fasta 20900000 355300000\n",
        "..."
       ]
      },
      {
       "output_type": "stream",
       "stream": "stdout",
       "text": [
        " consume_fasta 21000000 357000000\n",
        "..."
       ]
      },
      {
       "output_type": "stream",
       "stream": "stdout",
       "text": [
        " consume_fasta 21100000 358700000\n",
        "..."
       ]
      },
      {
       "output_type": "stream",
       "stream": "stdout",
       "text": [
        " consume_fasta 21200000 360400000\n",
        "..."
       ]
      },
      {
       "output_type": "stream",
       "stream": "stdout",
       "text": [
        " consume_fasta 21300000 362100000\n",
        "..."
       ]
      },
      {
       "output_type": "stream",
       "stream": "stdout",
       "text": [
        " consume_fasta 21400000 363800000\n",
        "..."
       ]
      },
      {
       "output_type": "stream",
       "stream": "stdout",
       "text": [
        " consume_fasta 21500000 365500000\n",
        "..."
       ]
      },
      {
       "output_type": "stream",
       "stream": "stdout",
       "text": [
        " consume_fasta 21600000 367200000\n",
        "..."
       ]
      },
      {
       "output_type": "stream",
       "stream": "stdout",
       "text": [
        " consume_fasta 21700000 368900000\n",
        "..."
       ]
      },
      {
       "output_type": "stream",
       "stream": "stdout",
       "text": [
        " consume_fasta 21800000 370600000\n",
        "..."
       ]
      },
      {
       "output_type": "stream",
       "stream": "stdout",
       "text": [
        " consume_fasta 21900000 372300000\n",
        "..."
       ]
      },
      {
       "output_type": "stream",
       "stream": "stdout",
       "text": [
        " consume_fasta 22000000 374000000\n",
        "..."
       ]
      },
      {
       "output_type": "stream",
       "stream": "stdout",
       "text": [
        " consume_fasta 22100000 375700000\n",
        "..."
       ]
      },
      {
       "output_type": "stream",
       "stream": "stdout",
       "text": [
        " consume_fasta 22200000 377400000\n",
        "..."
       ]
      },
      {
       "output_type": "stream",
       "stream": "stdout",
       "text": [
        " consume_fasta 22300000 379100000\n",
        "..."
       ]
      },
      {
       "output_type": "stream",
       "stream": "stdout",
       "text": [
        " consume_fasta 22400000 380800000\n",
        "..."
       ]
      },
      {
       "output_type": "stream",
       "stream": "stdout",
       "text": [
        " consume_fasta 22500000 382500000\n",
        "..."
       ]
      },
      {
       "output_type": "stream",
       "stream": "stdout",
       "text": [
        " consume_fasta 22600000 384200000\n",
        "..."
       ]
      },
      {
       "output_type": "stream",
       "stream": "stdout",
       "text": [
        " consume_fasta 22700000 385900000\n",
        "..."
       ]
      },
      {
       "output_type": "stream",
       "stream": "stdout",
       "text": [
        " consume_fasta 22800000 387600000\n",
        "..."
       ]
      },
      {
       "output_type": "stream",
       "stream": "stdout",
       "text": [
        " consume_fasta 22900000 389300000\n",
        "..."
       ]
      },
      {
       "output_type": "stream",
       "stream": "stdout",
       "text": [
        " consume_fasta 23000000 391000000\n",
        "..."
       ]
      },
      {
       "output_type": "stream",
       "stream": "stdout",
       "text": [
        " consume_fasta 23100000 392700000\n",
        "..."
       ]
      },
      {
       "output_type": "stream",
       "stream": "stdout",
       "text": [
        " consume_fasta 23200000 394400000\n",
        "..."
       ]
      },
      {
       "output_type": "stream",
       "stream": "stdout",
       "text": [
        " consume_fasta 23300000 396100000\n",
        "..."
       ]
      },
      {
       "output_type": "stream",
       "stream": "stdout",
       "text": [
        " consume_fasta 23400000 397800000\n",
        "..."
       ]
      },
      {
       "output_type": "stream",
       "stream": "stdout",
       "text": [
        " consume_fasta 23500000 399500000\n",
        "..."
       ]
      },
      {
       "output_type": "stream",
       "stream": "stdout",
       "text": [
        " consume_fasta 23600000 401200000\n",
        "..."
       ]
      },
      {
       "output_type": "stream",
       "stream": "stdout",
       "text": [
        " consume_fasta 23700000 402900000\n",
        "..."
       ]
      },
      {
       "output_type": "stream",
       "stream": "stdout",
       "text": [
        " consume_fasta 23800000 404600000\n",
        "..."
       ]
      },
      {
       "output_type": "stream",
       "stream": "stdout",
       "text": [
        " consume_fasta 23900000 406300000\n",
        "..."
       ]
      },
      {
       "output_type": "stream",
       "stream": "stdout",
       "text": [
        " consume_fasta 24000000 408000000\n",
        "..."
       ]
      },
      {
       "output_type": "stream",
       "stream": "stdout",
       "text": [
        " consume_fasta 24100000 409700000\n",
        "..."
       ]
      },
      {
       "output_type": "stream",
       "stream": "stdout",
       "text": [
        " consume_fasta 24200000 411400000\n",
        "..."
       ]
      },
      {
       "output_type": "stream",
       "stream": "stdout",
       "text": [
        " consume_fasta 24300000 413100000\n",
        "..."
       ]
      },
      {
       "output_type": "stream",
       "stream": "stdout",
       "text": [
        " consume_fasta 24400000 414800000\n",
        "..."
       ]
      },
      {
       "output_type": "stream",
       "stream": "stdout",
       "text": [
        " consume_fasta 24500000 416500000\n",
        "..."
       ]
      },
      {
       "output_type": "stream",
       "stream": "stdout",
       "text": [
        " consume_fasta 24600000 418200000\n",
        "..."
       ]
      },
      {
       "output_type": "stream",
       "stream": "stdout",
       "text": [
        " consume_fasta 24700000 419900000\n",
        "..."
       ]
      },
      {
       "output_type": "stream",
       "stream": "stdout",
       "text": [
        " consume_fasta 24800000 421600000\n",
        "..."
       ]
      },
      {
       "output_type": "stream",
       "stream": "stdout",
       "text": [
        " consume_fasta 24900000 423300000\n",
        "..."
       ]
      },
      {
       "output_type": "stream",
       "stream": "stdout",
       "text": [
        " consume_fasta 25000000 425000000\n",
        "..."
       ]
      },
      {
       "output_type": "stream",
       "stream": "stdout",
       "text": [
        " consume_fasta 25100000 426700000\n",
        "..."
       ]
      },
      {
       "output_type": "stream",
       "stream": "stdout",
       "text": [
        " consume_fasta 25200000 428400000\n",
        "..."
       ]
      },
      {
       "output_type": "stream",
       "stream": "stdout",
       "text": [
        " consume_fasta 25300000 430100000\n",
        "..."
       ]
      },
      {
       "output_type": "stream",
       "stream": "stdout",
       "text": [
        " consume_fasta 25400000 431800000\n",
        "..."
       ]
      },
      {
       "output_type": "stream",
       "stream": "stdout",
       "text": [
        " consume_fasta 25500000 433500000\n",
        "..."
       ]
      },
      {
       "output_type": "stream",
       "stream": "stdout",
       "text": [
        " consume_fasta 25600000 435200000\n",
        "..."
       ]
      },
      {
       "output_type": "stream",
       "stream": "stdout",
       "text": [
        " consume_fasta 25700000 436900000\n",
        "..."
       ]
      },
      {
       "output_type": "stream",
       "stream": "stdout",
       "text": [
        " consume_fasta 25800000 438600000\n",
        "..."
       ]
      },
      {
       "output_type": "stream",
       "stream": "stdout",
       "text": [
        " consume_fasta 25900000 440300000\n",
        "..."
       ]
      },
      {
       "output_type": "stream",
       "stream": "stdout",
       "text": [
        " consume_fasta 26000000 442000000\n",
        "..."
       ]
      },
      {
       "output_type": "stream",
       "stream": "stdout",
       "text": [
        " consume_fasta 26100000 443700000\n",
        "..."
       ]
      },
      {
       "output_type": "stream",
       "stream": "stdout",
       "text": [
        " consume_fasta 26200000 445400000\n",
        "..."
       ]
      },
      {
       "output_type": "stream",
       "stream": "stdout",
       "text": [
        " consume_fasta 26300000 447100000\n",
        "..."
       ]
      },
      {
       "output_type": "stream",
       "stream": "stdout",
       "text": [
        " consume_fasta 26400000 448800000\n",
        "..."
       ]
      },
      {
       "output_type": "stream",
       "stream": "stdout",
       "text": [
        " consume_fasta 26500000 450500000\n",
        "..."
       ]
      },
      {
       "output_type": "stream",
       "stream": "stdout",
       "text": [
        " consume_fasta 26600000 452200000\n",
        "..."
       ]
      },
      {
       "output_type": "stream",
       "stream": "stdout",
       "text": [
        " consume_fasta 26700000 453900000\n",
        "..."
       ]
      },
      {
       "output_type": "stream",
       "stream": "stdout",
       "text": [
        " consume_fasta 26800000 455600000\n",
        "..."
       ]
      },
      {
       "output_type": "stream",
       "stream": "stdout",
       "text": [
        " consume_fasta 26900000 457300000\n",
        "..."
       ]
      },
      {
       "output_type": "stream",
       "stream": "stdout",
       "text": [
        " consume_fasta 27000000 459000000\n",
        "..."
       ]
      },
      {
       "output_type": "stream",
       "stream": "stdout",
       "text": [
        " consume_fasta 27100000 460700000\n",
        "..."
       ]
      },
      {
       "output_type": "stream",
       "stream": "stdout",
       "text": [
        " consume_fasta 27200000 462400000\n",
        "..."
       ]
      },
      {
       "output_type": "stream",
       "stream": "stdout",
       "text": [
        " consume_fasta 27300000 464100000\n",
        "..."
       ]
      },
      {
       "output_type": "stream",
       "stream": "stdout",
       "text": [
        " consume_fasta 27400000 465800000\n",
        "..."
       ]
      },
      {
       "output_type": "stream",
       "stream": "stdout",
       "text": [
        " consume_fasta 27500000 467500000\n",
        "..."
       ]
      },
      {
       "output_type": "stream",
       "stream": "stdout",
       "text": [
        " consume_fasta 27600000 469200000\n",
        "..."
       ]
      },
      {
       "output_type": "stream",
       "stream": "stdout",
       "text": [
        " consume_fasta 27700000 470900000\n",
        "..."
       ]
      },
      {
       "output_type": "stream",
       "stream": "stdout",
       "text": [
        " consume_fasta 27800000 472600000\n",
        "..."
       ]
      },
      {
       "output_type": "stream",
       "stream": "stdout",
       "text": [
        " consume_fasta 27900000 474300000\n",
        "..."
       ]
      },
      {
       "output_type": "stream",
       "stream": "stdout",
       "text": [
        " consume_fasta 28000000 476000000\n",
        "..."
       ]
      },
      {
       "output_type": "stream",
       "stream": "stdout",
       "text": [
        " consume_fasta 28100000 477700000\n",
        "..."
       ]
      },
      {
       "output_type": "stream",
       "stream": "stdout",
       "text": [
        " consume_fasta 28200000 479400000\n",
        "..."
       ]
      },
      {
       "output_type": "stream",
       "stream": "stdout",
       "text": [
        " consume_fasta 28300000 481100000\n",
        "..."
       ]
      },
      {
       "output_type": "stream",
       "stream": "stdout",
       "text": [
        " consume_fasta 28400000 482800000\n",
        "..."
       ]
      },
      {
       "output_type": "stream",
       "stream": "stdout",
       "text": [
        " consume_fasta 28500000 484500000\n",
        "..."
       ]
      },
      {
       "output_type": "stream",
       "stream": "stdout",
       "text": [
        " consume_fasta 28600000 486200000\n",
        "..."
       ]
      },
      {
       "output_type": "stream",
       "stream": "stdout",
       "text": [
        " consume_fasta 28700000 487900000\n",
        "..."
       ]
      },
      {
       "output_type": "stream",
       "stream": "stdout",
       "text": [
        " consume_fasta 28800000 489600000\n",
        "..."
       ]
      },
      {
       "output_type": "stream",
       "stream": "stdout",
       "text": [
        " consume_fasta 28900000 491300000\n",
        "..."
       ]
      },
      {
       "output_type": "stream",
       "stream": "stdout",
       "text": [
        " consume_fasta 29000000 493000000\n",
        "..."
       ]
      },
      {
       "output_type": "stream",
       "stream": "stdout",
       "text": [
        " consume_fasta 29100000 494700000\n",
        "..."
       ]
      },
      {
       "output_type": "stream",
       "stream": "stdout",
       "text": [
        " consume_fasta 29200000 496400000\n",
        "..."
       ]
      },
      {
       "output_type": "stream",
       "stream": "stdout",
       "text": [
        " consume_fasta 29300000 498100000\n",
        "..."
       ]
      },
      {
       "output_type": "stream",
       "stream": "stdout",
       "text": [
        " consume_fasta 29400000 499800000\n",
        "..."
       ]
      },
      {
       "output_type": "stream",
       "stream": "stdout",
       "text": [
        " consume_fasta 29500000 501500000\n",
        "..."
       ]
      },
      {
       "output_type": "stream",
       "stream": "stdout",
       "text": [
        " consume_fasta 29600000 503200000\n",
        "..."
       ]
      },
      {
       "output_type": "stream",
       "stream": "stdout",
       "text": [
        " consume_fasta 29700000 504900000\n",
        "..."
       ]
      },
      {
       "output_type": "stream",
       "stream": "stdout",
       "text": [
        " consume_fasta 29800000 506600000\n",
        "..."
       ]
      },
      {
       "output_type": "stream",
       "stream": "stdout",
       "text": [
        " consume_fasta 29900000 508300000\n",
        "..."
       ]
      },
      {
       "output_type": "stream",
       "stream": "stdout",
       "text": [
        " consume_fasta 30000000 510000000\n",
        "..."
       ]
      },
      {
       "output_type": "stream",
       "stream": "stdout",
       "text": [
        " consume_fasta 30100000 511700000\n",
        "..."
       ]
      },
      {
       "output_type": "stream",
       "stream": "stdout",
       "text": [
        " consume_fasta 30200000 513400000\n",
        "..."
       ]
      },
      {
       "output_type": "stream",
       "stream": "stdout",
       "text": [
        " consume_fasta 30300000 515100000\n",
        "..."
       ]
      },
      {
       "output_type": "stream",
       "stream": "stdout",
       "text": [
        " consume_fasta 30400000 516800000\n",
        "..."
       ]
      },
      {
       "output_type": "stream",
       "stream": "stdout",
       "text": [
        " consume_fasta 30500000 518500000\n",
        "..."
       ]
      },
      {
       "output_type": "stream",
       "stream": "stdout",
       "text": [
        " consume_fasta 30600000 520200000\n",
        "..."
       ]
      },
      {
       "output_type": "stream",
       "stream": "stdout",
       "text": [
        " consume_fasta 30700000 521900000\n",
        "..."
       ]
      },
      {
       "output_type": "stream",
       "stream": "stdout",
       "text": [
        " consume_fasta 30800000 523600000\n",
        "..."
       ]
      },
      {
       "output_type": "stream",
       "stream": "stdout",
       "text": [
        " consume_fasta 30900000 525300000\n",
        "..."
       ]
      },
      {
       "output_type": "stream",
       "stream": "stdout",
       "text": [
        " consume_fasta 31000000 527000000\n",
        "..."
       ]
      },
      {
       "output_type": "stream",
       "stream": "stdout",
       "text": [
        " consume_fasta 31100000 528700000\n",
        "..."
       ]
      },
      {
       "output_type": "stream",
       "stream": "stdout",
       "text": [
        " consume_fasta 31200000 530400000\n",
        "..."
       ]
      },
      {
       "output_type": "stream",
       "stream": "stdout",
       "text": [
        " consume_fasta 31300000 532100000\n",
        "..."
       ]
      },
      {
       "output_type": "stream",
       "stream": "stdout",
       "text": [
        " consume_fasta 31400000 533800000\n",
        "..."
       ]
      },
      {
       "output_type": "stream",
       "stream": "stdout",
       "text": [
        " consume_fasta 31500000 535500000\n",
        "..."
       ]
      },
      {
       "output_type": "stream",
       "stream": "stdout",
       "text": [
        " consume_fasta 31600000 537200000\n",
        "..."
       ]
      },
      {
       "output_type": "stream",
       "stream": "stdout",
       "text": [
        " consume_fasta 31700000 538900000\n",
        "..."
       ]
      },
      {
       "output_type": "stream",
       "stream": "stdout",
       "text": [
        " consume_fasta 31800000 540600000\n",
        "..."
       ]
      },
      {
       "output_type": "stream",
       "stream": "stdout",
       "text": [
        " consume_fasta 31900000 542300000\n",
        "..."
       ]
      },
      {
       "output_type": "stream",
       "stream": "stdout",
       "text": [
        " consume_fasta 32000000 544000000\n",
        "..."
       ]
      },
      {
       "output_type": "stream",
       "stream": "stdout",
       "text": [
        " consume_fasta 32100000 545700000\n",
        "..."
       ]
      },
      {
       "output_type": "stream",
       "stream": "stdout",
       "text": [
        " consume_fasta 32200000 547400000\n",
        "..."
       ]
      },
      {
       "output_type": "stream",
       "stream": "stdout",
       "text": [
        " consume_fasta 32300000 549100000\n",
        "..."
       ]
      },
      {
       "output_type": "stream",
       "stream": "stdout",
       "text": [
        " consume_fasta 32400000 550800000\n"
       ]
      }
     ],
     "prompt_number": 34
    },
    {
     "cell_type": "code",
     "collapsed": false,
     "input": [
      "n_unique"
     ],
     "language": "python",
     "metadata": {},
     "outputs": [
      {
       "metadata": {},
       "output_type": "pyout",
       "prompt_number": 35,
       "text": [
        "41158393L"
       ]
      }
     ],
     "prompt_number": 35
    },
    {
     "cell_type": "code",
     "collapsed": false,
     "input": [
      "n_overlap"
     ],
     "language": "python",
     "metadata": {},
     "outputs": [
      {
       "metadata": {},
       "output_type": "pyout",
       "prompt_number": 36,
       "text": [
        "23824335L"
       ]
      }
     ],
     "prompt_number": 36
    },
    {
     "cell_type": "code",
     "collapsed": false,
     "input": [
      "dir(ht)"
     ],
     "language": "python",
     "metadata": {},
     "outputs": [
      {
       "metadata": {},
       "output_type": "pyout",
       "prompt_number": 37,
       "text": [
        "['_get_tag_density',\n",
        " '_set_tag_density',\n",
        " '_validate_partitionmap',\n",
        " '_validate_subset_partitionmap',\n",
        " 'add_stop_tag',\n",
        " 'add_tag',\n",
        " 'assign_partition_id',\n",
        " 'calc_connected_graph_size',\n",
        " 'consume',\n",
        " 'consume_fasta',\n",
        " 'consume_fasta_and_tag',\n",
        " 'consume_fasta_and_tag_with_reads_parser',\n",
        " 'consume_fasta_and_tag_with_stoptags',\n",
        " 'consume_fasta_and_traverse',\n",
        " 'consume_fasta_with_reads_parser',\n",
        " 'consume_partitioned_fasta',\n",
        " 'count',\n",
        " 'count_kmers_on_radius',\n",
        " 'count_kmers_within_radius',\n",
        " 'count_overlap',\n",
        " 'count_partitions',\n",
        " 'divide_tags_into_subsets',\n",
        " 'do_subset_partition',\n",
        " 'extract_unique_paths',\n",
        " 'filter_if_present',\n",
        " 'find_all_tags',\n",
        " 'find_radius_for_volume',\n",
        " 'find_unpart',\n",
        " 'get',\n",
        " 'get_median_count',\n",
        " 'get_partition_id',\n",
        " 'get_stop_tags',\n",
        " 'get_tagset',\n",
        " 'hashsizes',\n",
        " 'hitraverse_to_stoptags',\n",
        " 'identify_stoptags_by_position',\n",
        " 'is_single_partition',\n",
        " 'join_partitions',\n",
        " 'join_partitions_by_path',\n",
        " 'kmer_degree',\n",
        " 'ksize',\n",
        " 'load',\n",
        " 'load_partitionmap',\n",
        " 'load_stop_tags',\n",
        " 'load_subset_partitionmap',\n",
        " 'load_tagset',\n",
        " 'merge2_subset',\n",
        " 'merge2_subset_from_disk',\n",
        " 'merge_subset',\n",
        " 'merge_subset_from_disk',\n",
        " 'n_occupied',\n",
        " 'n_tags',\n",
        " 'n_unique_kmers',\n",
        " 'output_partitions',\n",
        " 'print_stop_tags',\n",
        " 'print_tagset',\n",
        " 'repartition_largest_partition',\n",
        " 'save',\n",
        " 'save_partitionmap',\n",
        " 'save_stop_tags',\n",
        " 'save_subset_partitionmap',\n",
        " 'save_tagset',\n",
        " 'set_partition_id',\n",
        " 'subset_count_partitions',\n",
        " 'subset_partition_size_distribution',\n",
        " 'traverse_from_reads',\n",
        " 'traverse_from_tags',\n",
        " 'trim_on_degree',\n",
        " 'trim_on_density_explosion',\n",
        " 'trim_on_sodd',\n",
        " 'trim_on_stoptags']"
       ]
      }
     ],
     "prompt_number": 37
    },
    {
     "cell_type": "code",
     "collapsed": false,
     "input": [],
     "language": "python",
     "metadata": {},
     "outputs": []
    }
   ],
   "metadata": {}
  }
 ]
}