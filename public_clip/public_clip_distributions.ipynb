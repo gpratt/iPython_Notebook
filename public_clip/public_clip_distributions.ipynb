{
 "metadata": {
  "name": "",
  "signature": "sha256:429ec7fb038b14f1c44c47da2cea731c2bc06ac5af5491d58007d5b1c9d91b19"
 },
 "nbformat": 3,
 "nbformat_minor": 0,
 "worksheets": [
  {
   "cells": [
    {
     "cell_type": "code",
     "collapsed": false,
     "input": [
      "import glob\n",
      "import cPickle as pickle\n",
      "import os\n",
      "\n",
      "import pandas as pd"
     ],
     "language": "python",
     "metadata": {},
     "outputs": [],
     "prompt_number": 19
    },
    {
     "cell_type": "code",
     "collapsed": false,
     "input": [
      "peaks = glob.glob(\"/nas3/gpratt/projects/public_clip/analysis/v6/*.peaks.bed.clip_analysis.pickle\")"
     ],
     "language": "python",
     "metadata": {},
     "outputs": [],
     "prompt_number": 16
    },
    {
     "cell_type": "code",
     "collapsed": false,
     "input": [
      "result = {}\n",
      "for pickle_file in peaks:\n",
      "    name = os.path.basename(pickle_file).split(\".\")[0]\n",
      "    peak_dict = pickle.load(open(pickle_file))\n",
      "    result[name] = peak_dict['region_sizes']\n",
      "result = pd.DataFrame(result)"
     ],
     "language": "python",
     "metadata": {},
     "outputs": [],
     "prompt_number": 21
    },
    {
     "cell_type": "code",
     "collapsed": false,
     "input": [
      "result = result.ix[['all', \"cds\", \"distintron500\", \"five_prime_utrs\", \"proxintron500\", \"three_prime_utrs\", 'uncatagorized']].fillna(0)\n",
      "result.to_csv(\"/nas3/gpratt/Dropbox/clipper/public_clip_distributions.csv\")"
     ],
     "language": "python",
     "metadata": {},
     "outputs": [],
     "prompt_number": 30
    },
    {
     "cell_type": "code",
     "collapsed": false,
     "input": [],
     "language": "python",
     "metadata": {},
     "outputs": [],
     "prompt_number": 31
    },
    {
     "cell_type": "code",
     "collapsed": false,
     "input": [],
     "language": "python",
     "metadata": {},
     "outputs": []
    }
   ],
   "metadata": {}
  }
 ]
}