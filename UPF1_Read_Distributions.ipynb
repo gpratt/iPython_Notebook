{
 "metadata": {
  "name": ""
 },
 "nbformat": 3,
 "nbformat_minor": 0,
 "worksheets": [
  {
   "cells": [
    {
     "cell_type": "code",
     "collapsed": false,
     "input": [
      "from collections import Counter\n",
      "from collections import defaultdict\n",
      "\n",
      "from bx.bbi.bigwig_file import BigWigFile\n",
      "import gffutils\n",
      "from IPython.core.display import HTML, SVG\n",
      "import numpy as np\n",
      "import pandas as pd\n",
      "import pybedtools\n",
      "from sklearn.cluster import KMeans\n",
      "\n",
      "from gscripts.general.region_helpers import generate_region_dict\n",
      "from gscripts.general.pybedtools_helpers import small_peaks, shuffle_and_adjust, closest_by_feature, get_three_prime_end, get_five_prime_end, convert_to_mRNA_position, make_ucsc_chr, rename_to_gene_from_dict\n",
      "from gscripts.GO import GO"
     ],
     "language": "python",
     "metadata": {},
     "outputs": [],
     "prompt_number": 15
    },
    {
     "cell_type": "code",
     "collapsed": false,
     "input": [
      "import sys\n",
      "sys.path.append(\"/nas3/lovci/ipy\")\n",
      "import clustering"
     ],
     "language": "python",
     "metadata": {},
     "outputs": [],
     "prompt_number": 2
    },
    {
     "cell_type": "code",
     "collapsed": false,
     "input": [
      "def get_peak_wiggle(tool, data_pos, data_neg, size = 1000, num_peaks=100):\n",
      "    \n",
      "    \"\"\"\n",
      "    \n",
      "    returns matrix of (n,25) of wiggle and peak information\n",
      "    tool - bedtool contains location of peaks\n",
      "    data - bigwig file handle - contains bw data for the peaks\n",
      "\n",
      "    \"\"\"\n",
      "    \n",
      "    results = []\n",
      "    index = []\n",
      "    for line in tool[:num_peaks]:\n",
      "        peak_center = line.start\n",
      "        pad_amt = size / 2\n",
      "        try:\n",
      "            if line.strand == \"+\":\n",
      "                result = data_pos.get_as_array(line.chrom, peak_center - pad_amt , peak_center + pad_amt)\n",
      "            if line.strand == \"-\":\n",
      "                result = data_neg.get_as_array(line.chrom, peak_center - pad_amt , peak_center + pad_amt)[::-1]\n",
      "                \n",
      "            result = [0 if np.isnan(x) else x for x in result]\n",
      "        \n",
      "            results.append(result)\n",
      "            index.append(line.name)\n",
      "            \n",
      "        except:\n",
      "            pass\n",
      "    return pd.DataFrame(results, index=index)"
     ],
     "language": "python",
     "metadata": {},
     "outputs": [],
     "prompt_number": 3
    },
    {
     "cell_type": "code",
     "collapsed": false,
     "input": [
      "def bin_evenly(lst, bin_size):\n",
      "    \"\"\"\n",
      "    \n",
      "    Bins into evenly dispersed groups, only shrinks things, won't work for things smaller than bin_size\n",
      "\n",
      "    \"\"\"\n",
      "    region_range = arange(0, (bin_size + 1)) * (len(lst) / float(bin_size))\n",
      "    binned_results = zeros(100)\n",
      "    for x in arange(0,bin_size):\n",
      "        binned_results[x] = sum(lst[floor(region_range[x]) : floor(region_range[x + 1])])\n",
      "    return binned_results"
     ],
     "language": "python",
     "metadata": {},
     "outputs": [],
     "prompt_number": 4
    },
    {
     "cell_type": "code",
     "collapsed": false,
     "input": [
      "path = \"/nas3/gpratt/projects/upf1/analysis/analysis_v2/clip/\"\n",
      "beds = { 'DEAA' : pybedtools.BedTool(path + \"UPF1_1_2.polyATrim.adapterTrim.rmRep.sorted.rg.rmDup.peaks.bed\"),\n",
      "         'K498A': pybedtools.BedTool(path + 'UPF1_3_4.polyATrim.adapterTrim.rmRep.sorted.rg.rmDup.peaks.bed'),\n",
      "         'WT'   : pybedtools.BedTool(path + 'FJM_W1_NoIndex_L001_R1.polyATrim.adapterTrim.rmRep.sorted.rg.rmDup.peaks.bed')\n",
      "         }\n"
     ],
     "language": "python",
     "metadata": {},
     "outputs": [],
     "prompt_number": 5
    },
    {
     "cell_type": "code",
     "collapsed": false,
     "input": [
      "path = \"/nas3/gpratt/projects/upf1/analysis/clip_v2/\"\n",
      "DEAA_pos = BigWigFile(open(path + \"UPF1_1_2.polyATrim.adapterTrim.rmRep.sorted.rmDup.pos.bw\"))\n",
      "DEAA_neg = BigWigFile(open(path + \"UPF1_1_2.polyATrim.adapterTrim.rmRep.sorted.rmDup.neg.bw\"))  \n",
      "K498A_pos = BigWigFile(open(path + \"UPF1_3_4.polyATrim.adapterTrim.rmRep.sorted.rmDup.pos.bw\"))\n",
      "K498A_neg = BigWigFile(open(path + \"UPF1_3_4.polyATrim.adapterTrim.rmRep.sorted.rmDup.neg.bw\"))\n",
      "WT_pos = BigWigFile(open(path + \"FJM_W1_NoIndex_L001_R1.polyATrim.adapterTrim.rmRep.sorted.rg.rmDup.pos.bw\"))\n",
      "WT_neg = BigWigFile(open(path + \"FJM_W1_NoIndex_L001_R1.polyATrim.adapterTrim.rmRep.sorted.rg.rmDup.neg.bw\"))"
     ],
     "language": "python",
     "metadata": {},
     "outputs": [],
     "prompt_number": 6
    },
    {
     "cell_type": "code",
     "collapsed": false,
     "input": [
      "beds_center = {name : bedtool.each(small_peaks).saveas() for name, bedtool in beds.items()}"
     ],
     "language": "python",
     "metadata": {},
     "outputs": [],
     "prompt_number": 7
    },
    {
     "cell_type": "code",
     "collapsed": false,
     "input": [
      "def to_bed(x):\n",
      "    return x.chrom, x.start, x.stop, x.attributes['gene_id'], \"0\", x.strand"
     ],
     "language": "python",
     "metadata": {},
     "outputs": [],
     "prompt_number": 8
    },
    {
     "cell_type": "code",
     "collapsed": false,
     "input": [
      "human_db = \"/nas3/yeolab/Genome/ensembl/gtf/gencode.v17.annotation.gtf.db\"\n",
      "db = gffutils.FeatureDB(human_db)"
     ],
     "language": "python",
     "metadata": {},
     "outputs": [],
     "prompt_number": 9
    },
    {
     "cell_type": "code",
     "collapsed": false,
     "input": [
      "genes = db.features_of_type('gene')\n",
      "three_prime_utrs = []\n",
      "five_prime_utrs = []\n",
      "cds = []\n",
      "exons = []\n",
      "for gene in genes:\n",
      "    mrnas = list(db.children(gene, featuretype='mRNA'))\n",
      "\n",
      "         \n",
      "    gene_three_prime_utrs = []\n",
      "    gene_five_prime_utrs = []\n",
      "    gene_cds = []\n",
      "    gene_exons = []\n",
      "    for mrna in mrnas:\n",
      "\n",
      "        utrs =  db.children(mrna, featuretype='UTR')\n",
      "        cur_exons = list(db.children(mrna, featuretype='exon'))\n",
      "        gene_exons += cur_exons\n",
      "        \n",
      "        cur_cds = list(db.children(mrna, featuretype='CDS'))\n",
      "        gene_cds += cur_cds\n",
      "        for utr in utrs:\n",
      "            if utr.strand == \"+\":\n",
      "                if utr.stop < cds[0].start:\n",
      "                    utr.featuretype = \"five_prime_utr\"\n",
      "                    gene_five_prime_utrs.append(utr)\n",
      "                else:\n",
      "                    utr.featuretype = \"three_prime_utr\"\n",
      "                    gene_three_prime_utrs.append(utr)\n",
      "            elif utr.strand == \"-\":\n",
      "                if utr.stop < cds[0].start:\n",
      "                    utr.featuretype = \"three_prime_utr\"\n",
      "                    gene_three_prime_utrs.append(utr)\n",
      "                else:\n",
      "                    utr.featuretype = \"five_prime_utr\"\n",
      "                    gene_five_prime_utrs.append(utr)\n",
      "    \n",
      "    if len(gene_cds) > 0:\n",
      "        gene_exons = list(db.merge_features(gene_exons))\n",
      "        \n",
      "    if len(gene_cds) > 0:\n",
      "        gene_cds = list(db.merge_features(gene_cds))\n",
      "        \n",
      "    if len(gene_five_prime_utrs) > 0:\n",
      "        gene_five_prime_utrs  = list(db.merge_features(gene_five_prime_utrs))\n",
      "        \n",
      "    if len(gene_three_prime_utrs) > 0:\n",
      "        #print gene_three_prime_utrs\n",
      "        gene_three_prime_utrs = list(db.merge_features(gene_three_prime_utrs))\n",
      "    \n",
      "    exons_tmp = []\n",
      "    for cur_exon in gene_exons:\n",
      "        cur_exon.attributes['gene_id'] = gene.id\n",
      "        exons_tmp.append(cur_exon)\n",
      "        \n",
      "    cds_tmp = []\n",
      "    for cur_cds in gene_cds:\n",
      "        cur_cds.attributes['gene_id'] = gene.id\n",
      "        cds_tmp.append(cur_cds)\n",
      "        \n",
      "    five_prime_tmp = []\n",
      "    for gene_five_prime_utr in gene_five_prime_utrs:\n",
      "        gene_five_prime_utr.attributes['gene_id'] = gene.id\n",
      "        five_prime_tmp.append(gene_five_prime_utr)\n",
      "        \n",
      "    three_prime_tmp = []\n",
      "    for gene_three_prime_utr in gene_three_prime_utrs:\n",
      "        gene_three_prime_utr.attributes['gene_id'] = gene.id\n",
      "        three_prime_tmp.append(gene_three_prime_utr)\n",
      "    \n",
      "    exons += exons_tmp\n",
      "    cds += cds_tmp\n",
      "    five_prime_utrs += five_prime_tmp\n",
      "    three_prime_utrs += three_prime_tmp\n",
      "    \n",
      "five_prime_utrs = pybedtools.BedTool(map(to_bed, five_prime_utrs)).saveas()\n",
      "three_prime_utrs = pybedtools.BedTool(map(to_bed, three_prime_utrs)).saveas()\n",
      "cds = pybedtools.BedTool(map(to_bed, cds)).saveas()\n",
      "exons = pybedtools.BedTool(map(to_bed, exons)).saveas()"
     ],
     "language": "python",
     "metadata": {},
     "outputs": [],
     "prompt_number": 10
    },
    {
     "cell_type": "code",
     "collapsed": false,
     "input": [
      "def get_densities(lst, data_pos, data_neg):\n",
      "    result  = []\n",
      "    for interval in lst:\n",
      "        if len(interval) == 0:\n",
      "            return []\n",
      "        if interval.strand == \"+\":\n",
      "            result.append(data_pos.get_as_array(interval.chrom, interval.start, interval.end))\n",
      "        if interval.strand == \"-\":\n",
      "            result.append(data_neg.get_as_array(interval.chrom, interval.start, interval.end)[::-1])\n",
      "    return result "
     ],
     "language": "python",
     "metadata": {},
     "outputs": [],
     "prompt_number": 11
    },
    {
     "cell_type": "code",
     "collapsed": false,
     "input": [
      "len(five_prime_utr_density_wt.items()[0])"
     ],
     "language": "python",
     "metadata": {},
     "outputs": [
      {
       "metadata": {},
       "output_type": "pyout",
       "prompt_number": 25,
       "text": [
        "2"
       ]
      }
     ],
     "prompt_number": 25
    },
    {
     "cell_type": "code",
     "collapsed": false,
     "input": [
      "def get_mean_and_variance(five_prime, cds, three_prime):\n",
      "\n",
      "    five_prime_combined = {name : np.concatenate(array(densitites)) for name, densitites in five_prime.items() if len(densitites) > 0}\n",
      "    cds_combined = {name : np.concatenate(array(densitites)) for name, densitites in cds.items() if len(densitites) > 0}\n",
      "    three_prime_combined = {name : np.concatenate(array(densitites)) for name, densitites in three_prime.items() if len(densitites) > 0}\n",
      "    \n",
      "    for gene in five_prime_combined:\n",
      "        five_prime_combined[gene][np.isnan(five_prime_combined[gene])] = 0 \n",
      "    for gene in cds_combined:\n",
      "        cds_combined[gene][np.isnan(cds_combined[gene])] = 0 \n",
      "    for gene in three_prime_combined:\n",
      "        three_prime_combined[gene][np.isnan(three_prime_combined[gene])] = 0 \n",
      "    \n",
      "    five_prime_combined_density = array([abs(density) for density in five_prime_combined.values() if np.mean(density) != 0])\n",
      "    cds_combined_density = array([abs(density) for density in cds_combined.values() if np.mean(density) != 0])\n",
      "    three_prime_combined_density = array([abs(density) for density in three_prime_combined.values() if np.mean(density) != 0])\n",
      "    \n",
      "    binned_five_prime_combined_density = array([bin_evenly(density, 100) for density in five_prime_combined_density])\n",
      "    binned_cds_combined_density = array([bin_evenly(density, 100) for density in cds_combined_density])\n",
      "    binned_three_prime_combined_density = array([bin_evenly(density, 100) for density in three_prime_combined_density])\n",
      "    \n",
      "    mean_five_prime_combined_density = np.mean(binned_five_prime_combined_density, axis=0)\n",
      "    var_five_prime_combined_density = np.var(binned_five_prime_combined_density, axis=0)\n",
      "    \n",
      "    mean_cds_combined_density = np.mean(binned_cds_combined_density, axis=0)\n",
      "    var_cds_combined_density = np.var(binned_cds_combined_density, axis=0)\n",
      "    \n",
      "    mean_three_prime_combined_density = np.mean(binned_three_prime_combined_density, axis=0)\n",
      "    var_three_prime_combined_density = np.var(binned_three_prime_combined_density, axis=0)\n",
      "    \n",
      "    return (mean_five_prime_combined_density, \n",
      "            var_five_prime_combined_density, \n",
      "            mean_cds_combined_density, \n",
      "            var_cds_combined_density, \n",
      "            mean_three_prime_combined_density,\n",
      "            var_three_prime_combined_density)"
     ],
     "language": "python",
     "metadata": {},
     "outputs": [],
     "prompt_number": 47
    },
    {
     "cell_type": "code",
     "collapsed": false,
     "input": [
      "only_five_prime_utr = exons.intersect(five_prime_utrs, s=True).intersect(three_prime_utrs, s=True, v=True).intersect(cds, s=True, v=True).saveas()\n",
      "only_cds = exons.intersect(cds, s=True).intersect(three_prime_utrs, s=True, v=True).intersect(five_prime_utrs, s=True, v=True).saveas()\n",
      "only_three_prime_utr = exons.intersect(three_prime_utrs, s=True).intersect(cds, s=True, v=True).intersect(five_prime_utrs, s=True, v=True).saveas()\n",
      "five_prime_utr_cds = exons.intersect(five_prime_utrs, s=True).intersect(three_prime_utrs, s=True, v=True).intersect(cds, s=True).saveas()\n",
      "#five_prime_utr_cds_three_prime_utr = exons.intersect(five_prime_utrs, s=True).intersect(three_prime_utrs, s=True).intersect(cds, s=True)\n",
      "cds_three_prime_utr = exons.intersect(three_prime_utrs, s=True).intersect(cds, s=True).intersect(five_prime_utrs, s=True, v=True).saveas()"
     ],
     "language": "python",
     "metadata": {},
     "outputs": [],
     "prompt_number": 12
    },
    {
     "cell_type": "code",
     "collapsed": false,
     "input": [
      "def generate_region_dict(bedtool):\n",
      "    region_dict = defaultdict(list)\n",
      "    \n",
      "    for interval in bedtool:\n",
      "        region_dict[interval.name].append(interval)\n",
      "    \n",
      "    for gene in region_dict.keys():\n",
      "        if region_dict[gene][0].strand == \"-\":\n",
      "            region_dict[gene].reverse()\n",
      "            \n",
      "    return region_dict"
     ],
     "language": "python",
     "metadata": {},
     "outputs": [],
     "prompt_number": 17
    },
    {
     "cell_type": "code",
     "collapsed": false,
     "input": [
      "distributions = {\"five_prime_utrs\": five_prime_utrs, \"cds\" : cds, \"three_prime_utrs\" : three_prime_utrs, \n",
      "                 \"only_five_prime_utr\" : only_five_prime_utr, \n",
      "                \"only_cds\" : only_cds, \"only_three_prime_utr\" : only_three_prime_utr, \n",
      "                \"five_prime_utr_cds\" : five_prime_utr_cds, \"cds_three_prime_utr\" : cds_three_prime_utr}\n",
      "\n",
      "actual_distributions = {}\n",
      "for name, distribution in distributions.items(): \n",
      "    actual_distributions[name] =  generate_region_dict(distribution)"
     ],
     "language": "python",
     "metadata": {},
     "outputs": [],
     "prompt_number": 18
    },
    {
     "cell_type": "code",
     "collapsed": false,
     "input": [
      "five_prime_utr_density_wt = {gene : get_densities(intervals, WT_pos, WT_neg) for gene, intervals in actual_distributions['five_prime_utrs'].items()}\n",
      "CDS_density_wt = {gene : get_densities(intervals, WT_pos, WT_neg) for gene, intervals in actual_distributions['cds'].items()}\n",
      "three_prime_utr_density_wt = {gene : get_densities(intervals, WT_pos, WT_neg) for gene, intervals in actual_distributions['three_prime_utrs'].items()}"
     ],
     "language": "python",
     "metadata": {},
     "outputs": [],
     "prompt_number": 29
    },
    {
     "cell_type": "code",
     "collapsed": false,
     "input": [
      "wt_five_prime_mean, wt_five_prime_var, wt_cds_mean, wt_cds_var, wt_three_prime_mean, wt_three_prime_var = get_mean_and_variance(five_prime_utr_density_wt, CDS_density_wt, three_prime_utr_density_wt)"
     ],
     "language": "python",
     "metadata": {},
     "outputs": [],
     "prompt_number": 48
    },
    {
     "cell_type": "markdown",
     "metadata": {},
     "source": [
      "Should really find out why the numbers of genes differ between my combined stuff, this doesn't bode well for other analysies..."
     ]
    },
    {
     "cell_type": "code",
     "collapsed": false,
     "input": [
      "five_prime_combined = {name : np.concatenate(array(densitites)) for name, densitites in five_prime_utr_density_wt.items() if len(densitites) > 0}"
     ],
     "language": "python",
     "metadata": {},
     "outputs": [],
     "prompt_number": 37
    },
    {
     "cell_type": "code",
     "collapsed": false,
     "input": [
      "for gene in five_prime_combined:\n",
      "        five_prime_combined[gene][np.isnan(five_prime_combined[gene])] = 0 "
     ],
     "language": "python",
     "metadata": {},
     "outputs": [],
     "prompt_number": 38
    },
    {
     "cell_type": "code",
     "collapsed": false,
     "input": [
      "five_prime_combined_density = array([density for density in five_prime_combined.values() if np.mean(density) != 0])"
     ],
     "language": "python",
     "metadata": {},
     "outputs": [],
     "prompt_number": 41
    },
    {
     "cell_type": "code",
     "collapsed": false,
     "input": [
      "figsize(15,2)\n",
      "subplot(1,3,1)\n",
      "plot(wt_five_prime_mean)\n",
      "#fill_between(arange(len(wt_five_prime_mean)), \n",
      "#                        wt_five_prime_mean+wt_five_prime_var, \n",
      "#                        wt_five_prime_mean-wt_five_prime_var, \n",
      "#                        facecolor='blue', alpha=0.5)\n",
      "xlim(0,100)\n",
      "#ylim(-200,200)\n",
      "title(\"5' UTR\")\n",
      "subplot(1,3,2)\n",
      "plot(wt_cds_mean)\n",
      "#fill_between(arange(len(wt_cds_mean)), \n",
      "#                        wt_cds_mean+wt_cds_var, \n",
      "#                        wt_cds_mean-wt_cds_var, \n",
      "#                        facecolor='blue', alpha=0.5)\n",
      "xlim(0,100)\n",
      "#ylim(-200,200)\n",
      "title(\"CDS\")\n",
      "subplot(1,3,3)\n",
      "plot(wt_three_prime_mean)\n",
      "#fill_between(arange(len(wt_three_prime_mean)), \n",
      "#                        wt_three_prime_mean+wt_three_prime_var, \n",
      "#                        wt_three_prime_mean-wt_three_prime_var, \n",
      "#                        facecolor='blue', alpha=0.5)\n",
      "xlim(0,100)\n",
      "#ylim(-200,200)\n",
      "title(\"3' UTR\")"
     ],
     "language": "python",
     "metadata": {},
     "outputs": [
      {
       "metadata": {},
       "output_type": "pyout",
       "prompt_number": 50,
       "text": [
        "<matplotlib.text.Text at 0x2aaad0998890>"
       ]
      },
      {
       "metadata": {},
       "output_type": "display_data",
       "png": "[encoded data removed]",
       "text": [
        "<matplotlib.figure.Figure at 0x2aaad8fdbb90>"
       ]
      }
     ],
     "prompt_number": 50
    },
    {
     "cell_type": "code",
     "collapsed": false,
     "input": [
      "five_prime_utr_density_deaa = {gene : get_densities(intervals, DEAA_pos, DEAA_neg) for gene, intervals in actual_distributions['five_prime_utrs'].items()}\n",
      "CDS_density_deaa = {gene : get_densities(intervals, DEAA_pos, DEAA_neg) for gene, intervals in actual_distributions['cds'].items()}\n",
      "three_prime_utr_density_deaa = {gene : get_densities(intervals, DEAA_pos, DEAA_neg) for gene, intervals in actual_distributions['three_prime_utrs'].items()}"
     ],
     "language": "python",
     "metadata": {},
     "outputs": [],
     "prompt_number": 51
    },
    {
     "cell_type": "code",
     "collapsed": false,
     "input": [
      "deaa_five_prime_mean, deaa_five_prime_var, deaa_cds_mean, deaa_cds_var, deaa_three_prime_mean, deaa_three_prime_var = get_mean_and_variance(five_prime_utr_density_deaa, CDS_density_deaa, three_prime_utr_density_deaa)"
     ],
     "language": "python",
     "metadata": {},
     "outputs": [],
     "prompt_number": 52
    },
    {
     "cell_type": "code",
     "collapsed": false,
     "input": [
      "figsize(15,2)\n",
      "subplot(1,3,1)\n",
      "plot(deaa_five_prime_mean)\n",
      "\n",
      "#fill_between(arange(len(deaa_five_prime_mean)), \n",
      "#                        deaa_five_prime_mean+deaa_five_prime_var, \n",
      "#                        deaa_five_prime_mean-deaa_five_prime_var, \n",
      "#                        facecolor='blue', alpha=0.5)\n",
      "\n",
      "xlim(0,100)\n",
      "#ylim(-30000,30000)\n",
      "title(\"5' UTR\")\n",
      "subplot(1,3,2)\n",
      "plot(deaa_cds_mean)\n",
      "\n",
      "#fill_between(arange(len(deaa_cds_mean)), \n",
      "#                        deaa_cds_mean+deaa_cds_var, \n",
      "#                        deaa_cds_mean-deaa_cds_var, \n",
      "#                        facecolor='blue', alpha=0.5)\n",
      "\n",
      "xlim(0,100)\n",
      "#ylim(-30000,30000)\n",
      "title(\"CDS\")\n",
      "subplot(1,3,3)\n",
      "plot(wt_three_prime_mean)\n",
      "#fill_between(arange(len(deaa_three_prime_mean)), \n",
      "#                        deaa_three_prime_mean+deaa_three_prime_var, \n",
      "#                        deaa_three_prime_mean-deaa_three_prime_var, \n",
      "#                        facecolor='blue', alpha=0.5)\n",
      "\n",
      "xlim(0,100)\n",
      "#ylim(-30000,30000)\n",
      "title(\"3' UTR\")"
     ],
     "language": "python",
     "metadata": {},
     "outputs": [
      {
       "metadata": {},
       "output_type": "pyout",
       "prompt_number": 62,
       "text": [
        "<matplotlib.text.Text at 0x2aab572bdf10>"
       ]
      },
      {
       "metadata": {},
       "output_type": "display_data",
       "png": "[encoded data removed]",
       "text": [
        "<matplotlib.figure.Figure at 0x2aab573282d0>"
       ]
      }
     ],
     "prompt_number": 62
    },
    {
     "cell_type": "code",
     "collapsed": false,
     "input": [
      "five_prime_utr_density_k498a = {gene : get_densities(intervals, K498A_pos, K498A_neg) for gene, intervals in actual_distributions['five_prime_utrs'].items()}\n",
      "CDS_density_k498a = {gene : get_densities(intervals, K498A_pos, K498A_neg) for gene, intervals in actual_distributions['cds'].items()}\n",
      "three_prime_utr_density_k498a= {gene : get_densities(intervals, K498A_pos, K498A_neg) for gene, intervals in actual_distributions['three_prime_utrs'].items()}"
     ],
     "language": "python",
     "metadata": {},
     "outputs": [],
     "prompt_number": 55
    },
    {
     "cell_type": "code",
     "collapsed": false,
     "input": [
      "k498a_five_prime_mean, k498a_five_prime_var, k498a_cds_mean, k498a_cds_var, k498a_three_prime_mean, k498a_three_prime_var = get_mean_and_variance(five_prime_utr_density_k498a, CDS_density_k498a, three_prime_utr_density_k498a)"
     ],
     "language": "python",
     "metadata": {},
     "outputs": [],
     "prompt_number": 56
    },
    {
     "cell_type": "code",
     "collapsed": false,
     "input": [
      "figsize(15,2)\n",
      "subplot(1,3,1)\n",
      "plot(k498a_five_prime_mean)\n",
      "#fill_between(arange(len(k498a_five_prime_mean)), \n",
      "#                        k498a_five_prime_mean+k498a_five_prime_var, \n",
      "#                        k498a_five_prime_mean-k498a_five_prime_var, \n",
      "#                        facecolor='blue', alpha=0.5)\n",
      "xlim(0,100)\n",
      "#ylim(-15000,15000)\n",
      "title(\"5' UTR\")\n",
      "subplot(1,3,2)\n",
      "plot(deaa_cds_mean)\n",
      "\n",
      "#fill_between(arange(len(k498a_cds_mean)), \n",
      "#                        k498a_cds_mean+k498a_cds_var, \n",
      "#                        k498a_cds_mean-k498a_cds_var, \n",
      "#                        facecolor='blue', alpha=0.5)\n",
      "\n",
      "xlim(0,100)\n",
      "#ylim(-15000,15000)\n",
      "title(\"CDS\")\n",
      "subplot(1,3,3)\n",
      "plot(wt_three_prime_mean)\n",
      "\n",
      "#fill_between(arange(len(k498a_three_prime_mean)), \n",
      "#                        k498a_three_prime_mean+k498a_three_prime_var, \n",
      "#                        k498a_three_prime_mean-k498a_three_prime_var, \n",
      "#                        facecolor='blue', alpha=0.5)\n",
      "xlim(0,100)\n",
      "#ylim(-15000,15000)\n",
      "title(\"3' UTR\")"
     ],
     "language": "python",
     "metadata": {},
     "outputs": [
      {
       "metadata": {},
       "output_type": "pyout",
       "prompt_number": 57,
       "text": [
        "<matplotlib.text.Text at 0x2aaad27f8450>"
       ]
      },
      {
       "metadata": {},
       "output_type": "display_data",
       "png": "[encoded data removed]",
       "text": [
        "<matplotlib.figure.Figure at 0x2aab36cf35d0>"
       ]
      }
     ],
     "prompt_number": 57
    },
    {
     "cell_type": "code",
     "collapsed": false,
     "input": [
      "DEAA_df = get_peak_wiggle(beds_center['DEAA'], DEAA_pos, DEAA_neg, num_peaks=1000000)\n",
      "K498A_df = get_peak_wiggle(beds_center['K498A'], K498A_pos, K498A_neg, num_peaks=100000)\n",
      "WT_df = get_peak_wiggle(beds_center['WT'], WT_pos, WT_neg, num_peaks=100000)"
     ],
     "language": "python",
     "metadata": {},
     "outputs": [],
     "prompt_number": 58
    },
    {
     "cell_type": "code",
     "collapsed": false,
     "input": [
      "DEAA_df_mag_normalized = DEAA_df.div(DEAA_df.sum(axis=1), axis=0).fillna(0)\n",
      "K498A_df_mag_normalized = K498A_df.div(K498A_df.sum(axis=1), axis=0).fillna(0)\n",
      "WT_df_mag_normalized = WT_df.div(WT_df.sum(axis=1), axis=0).fillna(0)"
     ],
     "language": "python",
     "metadata": {},
     "outputs": [],
     "prompt_number": 59
    },
    {
     "cell_type": "code",
     "collapsed": false,
     "input": [
      "DEAA_df_mag_normalized[DEAA_df_mag_normalized > .1] = .1\n",
      "K498A_df_mag_normalized[K498A_df_mag_normalized > .1] = .1\n",
      "WT_df_mag_normalized[WT_df_mag_normalized > .1] = .1"
     ],
     "language": "python",
     "metadata": {},
     "outputs": [],
     "prompt_number": 60
    },
    {
     "cell_type": "code",
     "collapsed": false,
     "input": [
      "sorted_DEAA_df_mag_normalized = sorted_DEAA_df.div(sorted_DEAA_df.sum(axis=1), axis=0).fillna(0)\n",
      "sorted_DEAA_df_mag_normalized[sorted_DEAA_df_mag_normalized > .1] = .1"
     ],
     "language": "python",
     "metadata": {},
     "outputs": [
      {
       "ename": "NameError",
       "evalue": "name 'sorted_DEAA_df' is not defined",
       "output_type": "pyerr",
       "traceback": [
        "\u001b[1;31m---------------------------------------------------------------------------\u001b[0m\n\u001b[1;31mNameError\u001b[0m                                 Traceback (most recent call last)",
        "\u001b[1;32m<ipython-input-61-e3230b36f7f2>\u001b[0m in \u001b[0;36m<module>\u001b[1;34m()\u001b[0m\n\u001b[1;32m----> 1\u001b[1;33m \u001b[0msorted_DEAA_df_mag_normalized\u001b[0m \u001b[1;33m=\u001b[0m \u001b[0msorted_DEAA_df\u001b[0m\u001b[1;33m.\u001b[0m\u001b[0mdiv\u001b[0m\u001b[1;33m(\u001b[0m\u001b[0msorted_DEAA_df\u001b[0m\u001b[1;33m.\u001b[0m\u001b[0msum\u001b[0m\u001b[1;33m(\u001b[0m\u001b[0maxis\u001b[0m\u001b[1;33m=\u001b[0m\u001b[1;36m1\u001b[0m\u001b[1;33m)\u001b[0m\u001b[1;33m,\u001b[0m \u001b[0maxis\u001b[0m\u001b[1;33m=\u001b[0m\u001b[1;36m0\u001b[0m\u001b[1;33m)\u001b[0m\u001b[1;33m.\u001b[0m\u001b[0mfillna\u001b[0m\u001b[1;33m(\u001b[0m\u001b[1;36m0\u001b[0m\u001b[1;33m)\u001b[0m\u001b[1;33m\u001b[0m\u001b[0m\n\u001b[0m\u001b[0;32m      2\u001b[0m \u001b[0msorted_DEAA_df_mag_normalized\u001b[0m\u001b[1;33m[\u001b[0m\u001b[0msorted_DEAA_df_mag_normalized\u001b[0m \u001b[1;33m>\u001b[0m \u001b[1;36m.1\u001b[0m\u001b[1;33m]\u001b[0m \u001b[1;33m=\u001b[0m \u001b[1;36m.1\u001b[0m\u001b[1;33m\u001b[0m\u001b[0m\n",
        "\u001b[1;31mNameError\u001b[0m: name 'sorted_DEAA_df' is not defined"
       ]
      }
     ],
     "prompt_number": 61
    },
    {
     "cell_type": "code",
     "collapsed": false,
     "input": [
      "data = np.array(sorted_DEAA_df_mag_normalized)"
     ],
     "language": "python",
     "metadata": {},
     "outputs": []
    },
    {
     "cell_type": "code",
     "collapsed": false,
     "input": [
      "kmeansClassifier = KMeans(16)\n",
      "classes = kmeansClassifier.fit_predict(data)"
     ],
     "language": "python",
     "metadata": {},
     "outputs": []
    },
    {
     "cell_type": "code",
     "collapsed": false,
     "input": [
      "figsize(15,15)\n",
      "reClasses = classes[classes.argsort()].reshape(len(classes),1)\n",
      "reordered = data[classes.argsort()]\n",
      "finalRank = classes.argsort()\n",
      "matshow(reordered, aspect='auto', origin='lower') #, norm=norm)\n",
      "#imshow(np.array(sorted_DEAA_df_mag_normalized), aspect='auto', )\n",
      "colorbar()\n"
     ],
     "language": "python",
     "metadata": {},
     "outputs": []
    },
    {
     "cell_type": "markdown",
     "metadata": {},
     "source": [
      "two questions, ontologies of each cluster, binding locations of each cluster\n",
      "\n",
      "5' UTR, CDS, 3' UTR, NMD targets"
     ]
    },
    {
     "cell_type": "code",
     "collapsed": false,
     "input": [
      "deaa_cluster = clustering.clusterKMeans(np.array(DEAA_df_mag_normalized), DEAA_df_mag_normalized.index, DEAA_df_mag_normalized.columns, doOLO=False, clusterCols=False, k=16) "
     ],
     "language": "python",
     "metadata": {},
     "outputs": []
    },
    {
     "cell_type": "code",
     "collapsed": false,
     "input": [
      "k498a_cluster = clustering.clusterKMeans(np.array(K498A_df_mag_normalized), K498A_df_mag_normalized.index, K498A_df_mag_normalized.columns, doOLO=False, clusterCols=False, k=16) "
     ],
     "language": "python",
     "metadata": {},
     "outputs": []
    },
    {
     "cell_type": "code",
     "collapsed": false,
     "input": [
      "wt_cluster = clustering.clusterKMeans(np.array(WT_df_mag_normalized), WT_df_mag_normalized.index, WT_df_mag_normalized.columns, doOLO=False, clusterCols=False, k=16) "
     ],
     "language": "python",
     "metadata": {},
     "outputs": []
    },
    {
     "cell_type": "code",
     "collapsed": false,
     "input": [
      "hg19GO = GO.hg19GO()"
     ],
     "language": "python",
     "metadata": {},
     "outputs": []
    },
    {
     "cell_type": "code",
     "collapsed": false,
     "input": [
      "deaa_groups = {}\n",
      "for x in range(16):\n",
      "    deaa_groups[x] = hg19GO.enrichment([gene.split(\".\")[0] for gene in DEAA_df_mag_normalized[deaa_cluster[0] == x].index])\n",
      "    #HTML(group[group['Bonferroni-corrected Hypergeometric p-Value'] < .05].to_html())\n",
      "    \n",
      "k498a_groups = {}\n",
      "for x in range(16):\n",
      "    k498a_groups[x] = hg19GO.enrichment([gene.split(\".\")[0] for gene in K498A_df_mag_normalized[k498a_cluster[0] == x].index])\n",
      "    #HTML(group[group['Bonferroni-corrected Hypergeometric p-Value'] < .05].to_html())\n",
      "    \n",
      "wt_groups = {}\n",
      "for x in range(16):\n",
      "    wt_groups[x] = hg19GO.enrichment([gene.split(\".\")[0] for gene in WT_df_mag_normalized[wt_cluster[0] == x].index])\n",
      "    #HTML(group[group['Bonferroni-corrected Hypergeometric p-Value'] < .05].to_html())"
     ],
     "language": "python",
     "metadata": {},
     "outputs": []
    },
    {
     "cell_type": "code",
     "collapsed": false,
     "input": [
      "deaa_df = pd.concat(deaa_groups.values(), keys = deaa_groups.keys(), names=['group', 'ontology'])\n",
      "k498a_df = pd.concat(k498a_groups.values(), keys = k498a_groups.keys(), names=['group', 'ontology'])\n",
      "wt_df = pd.concat(wt_groups.values(), keys = wt_groups.keys(), names=['group', 'ontology'])"
     ],
     "language": "python",
     "metadata": {},
     "outputs": []
    },
    {
     "cell_type": "code",
     "collapsed": false,
     "input": [
      "deaa_go_terms = set([])\n",
      "for go_term in deaa_df.index.get_level_values('ontology'):\n",
      "    if np.any(deaa_df.xs(go_term, level=\"ontology\")['Bonferroni-corrected Hypergeometric p-Value'] < .00001):\n",
      "        deaa_go_terms.add(go_term)\n",
      "        \n",
      "k498a_go_terms = set([])\n",
      "for go_term in k498a_df.index.get_level_values('ontology'):\n",
      "    if np.any(k498a_df.xs(go_term, level=\"ontology\")['Bonferroni-corrected Hypergeometric p-Value'] < .00001):\n",
      "        k498a_go_terms.add(go_term)\n",
      "        \n",
      "wt_go_terms = set([])\n",
      "for go_term in wt_df.index.get_level_values('ontology'):\n",
      "    if np.any(wt_df.xs(go_term, level=\"ontology\")['Bonferroni-corrected Hypergeometric p-Value'] < .00001):\n",
      "        wt_go_terms.add(go_term)"
     ],
     "language": "python",
     "metadata": {},
     "outputs": []
    },
    {
     "cell_type": "code",
     "collapsed": false,
     "input": [
      "def get_col_names(dataframe):\n",
      "    \"\"\"\n",
      "    \n",
      "    Some names are null, this compresses them and returns a true list of go annotation names\n",
      "\n",
      "    \"\"\"\n",
      "    col_names = []\n",
      "    for col_name in dataframe[0]:\n",
      "        col_names.append(col_name)\n",
      "    \n",
      "    for group in range(1,shape(dataframe)[1]):\n",
      "        try:\n",
      "            for x, col_name in enumerate(dataframe[group]):\n",
      "                if type(col_names[x]) is not str:\n",
      "                    col_names[x] = col_name\n",
      "        except:\n",
      "            pass\n",
      "    return col_namesdef get_col_names(dataframe):\n",
      "    \"\"\"\n",
      "    \n",
      "    Some names are null, this compresses them and returns a true list of go annotation names\n",
      "\n",
      "    \"\"\"\n",
      "    col_names = []\n",
      "    for col_name in dataframe[0]:\n",
      "        col_names.append(col_name)\n",
      "    \n",
      "    for group in range(1,shape(dataframe)[1]):\n",
      "        try:\n",
      "            for x, col_name in enumerate(dataframe[group]):\n",
      "                if type(col_names[x]) is not str:\n",
      "                    col_names[x] = col_name\n",
      "        except:\n",
      "            pass\n",
      "    return col_names"
     ],
     "language": "python",
     "metadata": {},
     "outputs": []
    },
    {
     "cell_type": "code",
     "collapsed": false,
     "input": [
      "deaa_values = deaa_df.swaplevel(0,1).ix[deaa_go_terms]['Bonferroni-corrected Hypergeometric p-Value'].unstack().fillna(1)\n",
      "deaa_col_names = get_col_names(deaa_df.swaplevel(0,1).ix[deaa_go_terms]['GO Term Description'].unstack())\n",
      "\n",
      "k498a_values = k498a_df.swaplevel(0,1).ix[k498a_go_terms]['Bonferroni-corrected Hypergeometric p-Value'].unstack().fillna(1)\n",
      "k498a_col_names = get_col_names(k498a_df.swaplevel(0,1).ix[k498a_go_terms]['GO Term Description'].unstack())\n",
      "\n",
      "wt_values = wt_df.swaplevel(0,1).ix[wt_go_terms]['Bonferroni-corrected Hypergeometric p-Value'].unstack().fillna(1)\n",
      "wt_col_names = get_col_names(wt_df.swaplevel(0,1).ix[wt_go_terms]['GO Term Description'].unstack())"
     ],
     "language": "python",
     "metadata": {},
     "outputs": []
    },
    {
     "cell_type": "code",
     "collapsed": false,
     "input": [
      "types = \"broad_right narrow broad narrow_left broad broad narrow broad_left narrow broad_right very_narrow narrow broad_right narrow broad_left foo\".split()\n",
      "len(types)"
     ],
     "language": "python",
     "metadata": {},
     "outputs": []
    },
    {
     "cell_type": "code",
     "collapsed": false,
     "input": [
      "clusterGramx = clusterGram(matrix(deaa_values), types, deaa_col_names)"
     ],
     "language": "python",
     "metadata": {},
     "outputs": []
    },
    {
     "cell_type": "code",
     "collapsed": false,
     "input": [
      "types = \"narrow broad narrow mid broad_left broad_right broad_right narrow narrow broad_right broad_left narrow narrow dispersed broad broad_left\".split()\n",
      "len(types)"
     ],
     "language": "python",
     "metadata": {},
     "outputs": []
    },
    {
     "cell_type": "code",
     "collapsed": false,
     "input": [
      "x = clusterGram(matrix(k498a_values), types, k498a_col_names)"
     ],
     "language": "python",
     "metadata": {},
     "outputs": []
    },
    {
     "cell_type": "code",
     "collapsed": false,
     "input": [
      "x = clusterGram(matrix(wt_values), range(16), wt_col_names)x = clusterGram(matrix(wt_values), range(16), wt_col_names)"
     ],
     "language": "python",
     "metadata": {},
     "outputs": []
    },
    {
     "cell_type": "code",
     "collapsed": false,
     "input": [
      "import scipy\n",
      "import matplotlib.gridspec as gridspec\n",
      "path = '/home/lovci/HelveticaLight.ttf'\n",
      "import matplotlib.font_manager as fm\n",
      "\n",
      "helvetica = fm.FontProperties(fname=path)\n",
      "def clusterGram(data, colLabels, rowLabels, distance_metric = 'euclidean', linkage_method = 'average', \n",
      "             clusterRows=True, clusterCols=True, timeSeries=False, doCovar=False, realdata=None):\n",
      "\n",
      "    \"\"\"\n",
      "\n",
      "    Run hierarchical clustering on data. Creates a heatmap of cluster-ordered data\n",
      "    heavy-lifting is done by:\n",
      "    \n",
      "    gets distances between rows/columns\n",
      "    \n",
      "    y_events = scipy.spatial.distance.pdist(data, distance_metric)\n",
      "\n",
      "    calculates the closest rows/columns\n",
      "\n",
      "    Z_events = scipy.cluster.hierarchy.linkage(y_events, linkage_method)\n",
      "\n",
      "    genereates dendrogram (tree)\n",
      "\n",
      "    d_events = scipy.cluster.hierarchy.dendrogram(Z_events, no_labels=True) \n",
      "    \n",
      "    set outfile == \"None\" to inibit saving an eps file (only show it, don't save it)\n",
      "\n",
      "    \"\"\"\n",
      "    \n",
      "    if clusterRows:\n",
      "        print \"getting row distance matrix\"\n",
      "        y_events = scipy.spatial.distance.pdist(data, distance_metric)\n",
      "        print \"calculating linkages\"\n",
      "        Z_events = scipy.cluster.hierarchy.linkage(y_events, linkage_method, metric=distance_metric)\n",
      "\n",
      "    if clusterCols:\n",
      "        print \"getting column distance matrix\"    \n",
      "        y_samples = scipy.spatial.distance.pdist(np.transpose(data), distance_metric)\n",
      "        print \"calculating linkages\"    \n",
      "        Z_samples = scipy.cluster.hierarchy.linkage(y_samples, linkage_method, metric=distance_metric)\n",
      "    else:\n",
      "        if doCovar:\n",
      "            raise ValueError\n",
      "\n",
      "    fig = pylab.figure(figsize=(8,30))\n",
      "\n",
      "    gs = gridspec.GridSpec(12,16)\n",
      "\n",
      "    ax1 = pylab.subplot(gs[1:11, 1:3])\n",
      "\n",
      "    ax1.set_xticks([])\n",
      "    ax1.set_yticks([])\n",
      "    ax1.set_axis_off()\n",
      "    nRow, nCol = data.shape\n",
      "    print \"nRow: %d\" %nRow\n",
      "    if realdata != None:\n",
      "        print realdata.shape\n",
      "        print data.shape\n",
      "\n",
      "        assert realdata.shape == data.shape\n",
      "\n",
      "        reordered = realdata\n",
      "    else:\n",
      "        reordered = data\n",
      "        \n",
      "    event_order = range(nRow)\n",
      "    if clusterRows:\n",
      "        d_events = scipy.cluster.hierarchy.dendrogram(Z_events, orientation='right', no_labels=True)\n",
      "        event_order = d_events['leaves']\n",
      "        reordered = reordered[event_order,:]\n",
      "        \n",
      "    ax2 = pylab.subplot(gs[0:1, 3:9])\n",
      "\n",
      "    ax2.set_xticks([])\n",
      "    ax2.set_yticks([])\n",
      "    ax2.set_axis_off()\n",
      "    sample_order = range(nCol)\n",
      "    if clusterCols:\n",
      "        d_samples = scipy.cluster.hierarchy.dendrogram(Z_samples, no_labels=True)    \n",
      "        sample_order = d_samples['leaves']\n",
      "        reordered = reordered[:,sample_order]\n",
      "    axmatrix = pylab.subplot(gs[1:11, 3:9])\n",
      "    bds = np.max(abs(reordered))\n",
      "    if timeSeries:\n",
      "        norm = mpl.colors.Normalize(vmin=-bds, vmax=bds)\n",
      "    else:\n",
      "        norm = None\n",
      "        \n",
      "\n",
      "    cmap = pylab.cm.bone_r\n",
      "        \n",
      "    im = axmatrix.matshow(reordered, aspect='auto', origin='lower', cmap=cmap, norm=norm)\n",
      "    axmatrix.set_xticks([])\n",
      "    axmatrix.yaxis.tick_right()\n",
      "    axmatrix.set_yticks(range(nRow))\n",
      "    axmatrix.set_yticklabels([rowLabels[i] for i in event_order], fontsize=8, fontproperties=helvetica)\n",
      "    axcolor = pylab.subplot(gs[1:11, 0])\n",
      "\n",
      "    #\n",
      "    cbTicks = [np.min(data), np.mean(data), np.max(data)]\n",
      "    cb = pylab.colorbar(im, cax=axcolor, ticks=cbTicks, use_gridspec=True)\n",
      "    cb.ax.set_yticklabels(map(lambda x: \"%.2f\" %x, cbTicks), fontproperties=helvetica)\n",
      "    axcolor.yaxis.tick_left()\n",
      "    #axRowLabel = pylab.subplot(gs[1:6, 9:13])\n",
      "    #print nRow\n",
      "\n",
      "\n",
      "    #axRowLabel.set_yticks(map(lambda x: x+.5, range(nRow)))\n",
      "        \n",
      "    \n",
      "    \n",
      "    axlabel = pylab.subplot(gs[11:, 3:9]) \n",
      "\n",
      "    step = 1./nCol\n",
      "    for i, ind in enumerate(sample_order):\n",
      "        xpos = (i*step)+(step/2)\n",
      "        pylab.text(xpos,1, colLabels[ind] , rotation=90,verticalalignment='top', horizontalalignment='center', fontproperties=helvetica)\n",
      "    axlabel.set_xticks([])\n",
      "    axlabel.set_yticks([])\n",
      "    axlabel.set_axis_off()\n",
      "    \n",
      "    #    fig.show()\n",
      "    #pylab.tight_layout()\n",
      "\n",
      "    if doCovar:\n",
      "        cluster_covariance(data, colLabels, distance_metric = distance_metric, linkage_method = linkage_method)\n",
      "        \n",
      "    return event_order, sample_order"
     ],
     "language": "python",
     "metadata": {},
     "outputs": [],
     "prompt_number": 167
    }
   ],
   "metadata": {}
  }
 ]
}