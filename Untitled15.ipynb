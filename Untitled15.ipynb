{
 "metadata": {
  "name": "",
  "signature": "sha256:0163142ac0fb333f0afa71850493f98a72ef2c11010e43da992618d7679eaa02"
 },
 "nbformat": 3,
 "nbformat_minor": 0,
 "worksheets": [
  {
   "cells": [
    {
     "cell_type": "code",
     "collapsed": false,
     "input": [
      "!mkdir -p /nas3/gpratt/projects/encode/analysis/20150224_encode_iclip_v1/\n",
      "!scp -q tscc-login.sdsc.edu:/home/gpratt/projects/encode/analysis/20150224_encode_iclip_v1/*.{RPKM,count} /nas3/gpratt/projects/encode/analysis/20150224_encode_iclip_v1/"
     ],
     "language": "python",
     "metadata": {},
     "outputs": [],
     "prompt_number": 25
    },
    {
     "cell_type": "code",
     "collapsed": false,
     "input": [
      "import pandas as pd\n",
      "import os\n"
     ],
     "language": "python",
     "metadata": {},
     "outputs": [],
     "prompt_number": 8
    },
    {
     "cell_type": "code",
     "collapsed": false,
     "input": [
      "!ls /nas3/gpratt/projects/encode/analysis/20150224_encode_iclip_v1/*.count"
     ],
     "language": "python",
     "metadata": {},
     "outputs": [
      {
       "output_type": "stream",
       "stream": "stdout",
       "text": [
        "/nas3/gpratt/projects/encode/analysis/20150224_encode_iclip_v1/IGF2BP1-205-CLIP_S3_L001_R2.A01_IGF2BP1_HepG2_205_01.polyATrim.adapterTrim.rmRep.rmDup.sorted.count\r\n",
        "/nas3/gpratt/projects/encode/analysis/20150224_encode_iclip_v1/IGF2BP1-205-CLIP_S3_L001_R2.B06_IGF2BP1_HepG2_205_01.polyATrim.adapterTrim.rmRep.rmDup.sorted.count\r\n",
        "/nas3/gpratt/projects/encode/analysis/20150224_encode_iclip_v1/IGF2BP1-205-CLIP_S3_L001_R2.C01_IGF2BP1_HepG2_205_02.polyATrim.adapterTrim.rmRep.rmDup.sorted.count\r\n",
        "/nas3/gpratt/projects/encode/analysis/20150224_encode_iclip_v1/IGF2BP1-205-CLIP_S3_L001_R2.D08fixed_IGF2BP1_HepG2_205_02.polyATrim.adapterTrim.rmRep.rmDup.sorted.count\r\n",
        "/nas3/gpratt/projects/encode/analysis/20150224_encode_iclip_v1/IGF2BP1-205-CLIP_S3_L001_R2.unassigned.polyATrim.adapterTrim.rmRep.rmDup.sorted.count\r\n",
        "/nas3/gpratt/projects/encode/analysis/20150224_encode_iclip_v1/IGF2BP1-205-INPUT_S4_L001_R2.polyATrim.adapterTrim.rmRep.rmDup.sorted.count\r\n",
        "/nas3/gpratt/projects/encode/analysis/20150224_encode_iclip_v1/IGF2BP1_HepG2_205_01.count\r\n",
        "/nas3/gpratt/projects/encode/analysis/20150224_encode_iclip_v1/IGF2BP1_HepG2_205_02.count\r\n",
        "/nas3/gpratt/projects/encode/analysis/20150224_encode_iclip_v1/IGF2BP3-211-CLIP_S7_L001_R2.A01_IGF2BP3_HepG2_211_01.polyATrim.adapterTrim.rmRep.rmDup.sorted.count\r\n",
        "/nas3/gpratt/projects/encode/analysis/20150224_encode_iclip_v1/IGF2BP3-211-CLIP_S7_L001_R2.B06_IGF2BP3_HepG2_211_01.polyATrim.adapterTrim.rmRep.rmDup.sorted.count\r\n",
        "/nas3/gpratt/projects/encode/analysis/20150224_encode_iclip_v1/IGF2BP3-211-CLIP_S7_L001_R2.C01_IGF2BP3_HepG2_211_02.polyATrim.adapterTrim.rmRep.rmDup.sorted.count\r\n",
        "/nas3/gpratt/projects/encode/analysis/20150224_encode_iclip_v1/IGF2BP3-211-CLIP_S7_L001_R2.D08fixed_IGF2BP3_HepG2_211_02.polyATrim.adapterTrim.rmRep.rmDup.sorted.count\r\n",
        "/nas3/gpratt/projects/encode/analysis/20150224_encode_iclip_v1/IGF2BP3-211-CLIP_S7_L001_R2.unassigned.polyATrim.adapterTrim.rmRep.rmDup.sorted.count\r\n",
        "/nas3/gpratt/projects/encode/analysis/20150224_encode_iclip_v1/IGF2BP3-211-INPUT_S8_L001_R2.polyATrim.adapterTrim.rmRep.rmDup.sorted.count\r\n",
        "/nas3/gpratt/projects/encode/analysis/20150224_encode_iclip_v1/IGF2BP3_HepG2_211_01.count\r\n",
        "/nas3/gpratt/projects/encode/analysis/20150224_encode_iclip_v1/IGF2BP3_HepG2_211_02.count\r\n",
        "/nas3/gpratt/projects/encode/analysis/20150224_encode_iclip_v1/PTBP1-202-CLIP_S5_L001_R2.A01_PTBP1_HepG2_202_01.polyATrim.adapterTrim.rmRep.rmDup.sorted.count\r\n",
        "/nas3/gpratt/projects/encode/analysis/20150224_encode_iclip_v1/PTBP1-202-CLIP_S5_L001_R2.B06_PTBP1_HepG2_202_01.polyATrim.adapterTrim.rmRep.rmDup.sorted.count\r\n",
        "/nas3/gpratt/projects/encode/analysis/20150224_encode_iclip_v1/PTBP1-202-CLIP_S5_L001_R2.C01_PTBP1_HepG2_202_02.polyATrim.adapterTrim.rmRep.rmDup.sorted.count\r\n",
        "/nas3/gpratt/projects/encode/analysis/20150224_encode_iclip_v1/PTBP1-202-CLIP_S5_L001_R2.D08fixed_PTBP1_HepG2_202_02.polyATrim.adapterTrim.rmRep.rmDup.sorted.count\r\n",
        "/nas3/gpratt/projects/encode/analysis/20150224_encode_iclip_v1/PTBP1-202-CLIP_S5_L001_R2.unassigned.polyATrim.adapterTrim.rmRep.rmDup.sorted.count\r\n",
        "/nas3/gpratt/projects/encode/analysis/20150224_encode_iclip_v1/PTBP1-202-INPUT_S6_L001_R2.polyATrim.adapterTrim.rmRep.rmDup.sorted.count\r\n",
        "/nas3/gpratt/projects/encode/analysis/20150224_encode_iclip_v1/PTBP1_HepG2_202_01.count\r\n",
        "/nas3/gpratt/projects/encode/analysis/20150224_encode_iclip_v1/PTBP1_HepG2_202_02.count\r\n",
        "/nas3/gpratt/projects/encode/analysis/20150224_encode_iclip_v1/RBFOX2-204-CLIP_S1_L001_R2.A01_RBFOX2_HepG2_204_01.polyATrim.adapterTrim.rmRep.rmDup.sorted.count\r\n",
        "/nas3/gpratt/projects/encode/analysis/20150224_encode_iclip_v1/RBFOX2-204-CLIP_S1_L001_R2.B06_RBFOX2_HepG2_204_01.polyATrim.adapterTrim.rmRep.rmDup.sorted.count\r\n",
        "/nas3/gpratt/projects/encode/analysis/20150224_encode_iclip_v1/RBFOX2-204-CLIP_S1_L001_R2.C01_RBFOX2_HepG2_204_02.polyATrim.adapterTrim.rmRep.rmDup.sorted.count\r\n",
        "/nas3/gpratt/projects/encode/analysis/20150224_encode_iclip_v1/RBFOX2-204-CLIP_S1_L001_R2.D08fixed_RBFOX2_HepG2_204_02.polyATrim.adapterTrim.rmRep.rmDup.sorted.count\r\n",
        "/nas3/gpratt/projects/encode/analysis/20150224_encode_iclip_v1/RBFOX2-204-CLIP_S1_L001_R2.unassigned.polyATrim.adapterTrim.rmRep.rmDup.sorted.count\r\n",
        "/nas3/gpratt/projects/encode/analysis/20150224_encode_iclip_v1/RBFOX2-204-INPUT_S2_L001_R2.polyATrim.adapterTrim.rmRep.rmDup.sorted.count\r\n",
        "/nas3/gpratt/projects/encode/analysis/20150224_encode_iclip_v1/RBFOX2_HepG2_204_01.count\r\n",
        "/nas3/gpratt/projects/encode/analysis/20150224_encode_iclip_v1/RBFOX2_HepG2_204_02.count\r\n",
        "/nas3/gpratt/projects/encode/analysis/20150224_encode_iclip_v1/SRSF9-216-CLIP_S11_L001_R2.A01_SRSF9_HepG2_216_01.polyATrim.adapterTrim.rmRep.rmDup.sorted.count\r\n",
        "/nas3/gpratt/projects/encode/analysis/20150224_encode_iclip_v1/SRSF9-216-CLIP_S11_L001_R2.B06_SRSF9_HepG2_216_01.polyATrim.adapterTrim.rmRep.rmDup.sorted.count\r\n",
        "/nas3/gpratt/projects/encode/analysis/20150224_encode_iclip_v1/SRSF9-216-CLIP_S11_L001_R2.C01_SRSF9_HepG2_216_02.polyATrim.adapterTrim.rmRep.rmDup.sorted.count\r\n",
        "/nas3/gpratt/projects/encode/analysis/20150224_encode_iclip_v1/SRSF9-216-CLIP_S11_L001_R2.D08fixed_SRSF9_HepG2_216_02.polyATrim.adapterTrim.rmRep.rmDup.sorted.count\r\n",
        "/nas3/gpratt/projects/encode/analysis/20150224_encode_iclip_v1/SRSF9-216-CLIP_S11_L001_R2.unassigned.polyATrim.adapterTrim.rmRep.rmDup.sorted.count\r\n",
        "/nas3/gpratt/projects/encode/analysis/20150224_encode_iclip_v1/SRSF9-216-INPUT_S12_L001_R2.polyATrim.adapterTrim.rmRep.rmDup.sorted.count\r\n",
        "/nas3/gpratt/projects/encode/analysis/20150224_encode_iclip_v1/SRSF9_HepG2_216_01.count\r\n",
        "/nas3/gpratt/projects/encode/analysis/20150224_encode_iclip_v1/SRSF9_HepG2_216_02.count\r\n",
        "/nas3/gpratt/projects/encode/analysis/20150224_encode_iclip_v1/TIA1-215-CLIP_S9_L001_R2.A01_TIA1_HepG2_215_01.polyATrim.adapterTrim.rmRep.rmDup.sorted.count\r\n",
        "/nas3/gpratt/projects/encode/analysis/20150224_encode_iclip_v1/TIA1-215-CLIP_S9_L001_R2.B06_TIA1_HepG2_215_01.polyATrim.adapterTrim.rmRep.rmDup.sorted.count\r\n",
        "/nas3/gpratt/projects/encode/analysis/20150224_encode_iclip_v1/TIA1-215-CLIP_S9_L001_R2.C01_TIA1_HepG2_215_02.polyATrim.adapterTrim.rmRep.rmDup.sorted.count\r\n",
        "/nas3/gpratt/projects/encode/analysis/20150224_encode_iclip_v1/TIA1-215-CLIP_S9_L001_R2.D08fixed_TIA1_HepG2_215_02.polyATrim.adapterTrim.rmRep.rmDup.sorted.count\r\n",
        "/nas3/gpratt/projects/encode/analysis/20150224_encode_iclip_v1/TIA1-215-CLIP_S9_L001_R2.unassigned.polyATrim.adapterTrim.rmRep.rmDup.sorted.count\r\n",
        "/nas3/gpratt/projects/encode/analysis/20150224_encode_iclip_v1/TIA1-215-INPUT_S10_L001_R2.polyATrim.adapterTrim.rmRep.rmDup.sorted.count\r\n",
        "/nas3/gpratt/projects/encode/analysis/20150224_encode_iclip_v1/TIA1_HepG2_215_01.count\r\n",
        "/nas3/gpratt/projects/encode/analysis/20150224_encode_iclip_v1/TIA1_HepG2_215_02.count\r\n"
       ]
      }
     ],
     "prompt_number": 27
    },
    {
     "cell_type": "code",
     "collapsed": false,
     "input": [
      "counts = \"\"\"/nas3/gpratt/projects/encode/analysis/20150224_encode_iclip_v1/IGF2BP1-205-INPUT_S4_L001_R2.polyATrim.adapterTrim.rmRep.rmDup.sorted.count\n",
      "/nas3/gpratt/projects/encode/analysis/20150224_encode_iclip_v1/IGF2BP1_HepG2_205_01.count\n",
      "/nas3/gpratt/projects/encode/analysis/20150224_encode_iclip_v1/IGF2BP1_HepG2_205_02.count\n",
      "/nas3/gpratt/projects/encode/analysis/20150224_encode_iclip_v1/IGF2BP3-211-INPUT_S8_L001_R2.polyATrim.adapterTrim.rmRep.rmDup.sorted.count\n",
      "/nas3/gpratt/projects/encode/analysis/20150224_encode_iclip_v1/IGF2BP3_HepG2_211_01.count\n",
      "/nas3/gpratt/projects/encode/analysis/20150224_encode_iclip_v1/IGF2BP3_HepG2_211_02.count\n",
      "/nas3/gpratt/projects/encode/analysis/20150224_encode_iclip_v1/PTBP1-202-INPUT_S6_L001_R2.polyATrim.adapterTrim.rmRep.rmDup.sorted.count\n",
      "/nas3/gpratt/projects/encode/analysis/20150224_encode_iclip_v1/PTBP1_HepG2_202_01.count\n",
      "/nas3/gpratt/projects/encode/analysis/20150224_encode_iclip_v1/PTBP1_HepG2_202_02.count\n",
      "/nas3/gpratt/projects/encode/analysis/20150224_encode_iclip_v1/RBFOX2-204-INPUT_S2_L001_R2.polyATrim.adapterTrim.rmRep.rmDup.sorted.count\n",
      "/nas3/gpratt/projects/encode/analysis/20150224_encode_iclip_v1/RBFOX2_HepG2_204_01.count\n",
      "/nas3/gpratt/projects/encode/analysis/20150224_encode_iclip_v1/RBFOX2_HepG2_204_02.count\n",
      "/nas3/gpratt/projects/encode/analysis/20150224_encode_iclip_v1/SRSF9-216-INPUT_S12_L001_R2.polyATrim.adapterTrim.rmRep.rmDup.sorted.count\n",
      "/nas3/gpratt/projects/encode/analysis/20150224_encode_iclip_v1/SRSF9_HepG2_216_01.count\n",
      "/nas3/gpratt/projects/encode/analysis/20150224_encode_iclip_v1/SRSF9_HepG2_216_02.count\n",
      "/nas3/gpratt/projects/encode/analysis/20150224_encode_iclip_v1/TIA1_HepG2_215_01.count\n",
      "/nas3/gpratt/projects/encode/analysis/20150224_encode_iclip_v1/TIA1_HepG2_215_02.count\"\"\".split(\"\\n\")"
     ],
     "language": "python",
     "metadata": {},
     "outputs": [],
     "prompt_number": 57
    },
    {
     "cell_type": "code",
     "collapsed": false,
     "input": [
      "files = \"\"\"/nas3/gpratt/projects/encode/analysis/20150224_encode_iclip_v1/IGF2BP1-205-INPUT_S4_L001_R2.polyATrim.adapterTrim.rmRep.rmDup.sorted.RPKM\n",
      "/nas3/gpratt/projects/encode/analysis/20150224_encode_iclip_v1/IGF2BP1_HepG2_205_01.RPKM\n",
      "/nas3/gpratt/projects/encode/analysis/20150224_encode_iclip_v1/IGF2BP1_HepG2_205_02.RPKM\n",
      "/nas3/gpratt/projects/encode/analysis/20150224_encode_iclip_v1/IGF2BP3-211-INPUT_S8_L001_R2.polyATrim.adapterTrim.rmRep.rmDup.sorted.RPKM\n",
      "/nas3/gpratt/projects/encode/analysis/20150224_encode_iclip_v1/IGF2BP3_HepG2_211_01.RPKM\n",
      "/nas3/gpratt/projects/encode/analysis/20150224_encode_iclip_v1/IGF2BP3_HepG2_211_02.RPKM\n",
      "/nas3/gpratt/projects/encode/analysis/20150224_encode_iclip_v1/PTBP1-202-INPUT_S6_L001_R2.polyATrim.adapterTrim.rmRep.rmDup.sorted.RPKM\n",
      "/nas3/gpratt/projects/encode/analysis/20150224_encode_iclip_v1/PTBP1_HepG2_202_01.RPKM\n",
      "/nas3/gpratt/projects/encode/analysis/20150224_encode_iclip_v1/PTBP1_HepG2_202_02.RPKM\n",
      "/nas3/gpratt/projects/encode/analysis/20150224_encode_iclip_v1/RBFOX2-204-INPUT_S2_L001_R2.polyATrim.adapterTrim.rmRep.rmDup.sorted.RPKM\n",
      "/nas3/gpratt/projects/encode/analysis/20150224_encode_iclip_v1/RBFOX2_HepG2_204_01.RPKM\n",
      "/nas3/gpratt/projects/encode/analysis/20150224_encode_iclip_v1/RBFOX2_HepG2_204_02.RPKM\n",
      "/nas3/gpratt/projects/encode/analysis/20150224_encode_iclip_v1/SRSF9-216-INPUT_S12_L001_R2.polyATrim.adapterTrim.rmRep.rmDup.sorted.RPKM\n",
      "/nas3/gpratt/projects/encode/analysis/20150224_encode_iclip_v1/SRSF9_HepG2_216_01.RPKM\n",
      "/nas3/gpratt/projects/encode/analysis/20150224_encode_iclip_v1/SRSF9_HepG2_216_02.RPKM\n",
      "/nas3/gpratt/projects/encode/analysis/20150224_encode_iclip_v1/TIA1-215-INPUT_S10_L001_R2.polyATrim.adapterTrim.rmRep.rmDup.sorted.RPKM\n",
      "/nas3/gpratt/projects/encode/analysis/20150224_encode_iclip_v1/TIA1_HepG2_215_01.RPKM\n",
      "/nas3/gpratt/projects/encode/analysis/20150224_encode_iclip_v1/TIA1_HepG2_215_02.RPKM\"\"\".split(\"\\n\")"
     ],
     "language": "python",
     "metadata": {},
     "outputs": [],
     "prompt_number": 58
    },
    {
     "cell_type": "code",
     "collapsed": false,
     "input": [
      "rpkm_df = {}\n",
      "for fn in files:\n",
      "    rpkm_df[os.path.basename(fn).split(\".\")[0]] = pd.read_table(fn, index_col=0).RPKM\n",
      "rpkm_df = pd.concat(rpkm_df).unstack()"
     ],
     "language": "python",
     "metadata": {},
     "outputs": [],
     "prompt_number": 60
    },
    {
     "cell_type": "code",
     "collapsed": false,
     "input": [
      "count_df = {}\n",
      "for fn in counts:\n",
      "    count_df[os.path.basename(fn).split(\".\")[0]] = pd.read_table(fn, header=None).groupby(6)[4].first()\n",
      "count_df = pd.concat(count_df).unstack()"
     ],
     "language": "python",
     "metadata": {},
     "outputs": [],
     "prompt_number": 55
    },
    {
     "cell_type": "code",
     "collapsed": false,
     "input": [
      "count_df = count_df.unstack()"
     ],
     "language": "python",
     "metadata": {},
     "outputs": [],
     "prompt_number": 52
    },
    {
     "cell_type": "code",
     "collapsed": false,
     "input": [
      "count_df['ENSG00000142192.16']"
     ],
     "language": "python",
     "metadata": {},
     "outputs": [
      {
       "metadata": {},
       "output_type": "pyout",
       "prompt_number": 54,
       "text": [
        "IGF2BP1-205-INPUT_S4_L001_R2    104.198837\n",
        "IGF2BP1_HepG2_205_01            535.410060\n",
        "IGF2BP1_HepG2_205_02            376.996391\n",
        "IGF2BP3-211-INPUT_S8_L001_R2     95.355472\n",
        "IGF2BP3_HepG2_211_01            783.067501\n",
        "IGF2BP3_HepG2_211_02            445.402468\n",
        "PTBP1-202-INPUT_S6_L001_R2      148.873739\n",
        "PTBP1_HepG2_202_01              156.370341\n",
        "PTBP1_HepG2_202_02                3.000000\n",
        "RBFOX2-204-INPUT_S2_L001_R2     221.345107\n",
        "RBFOX2_HepG2_204_01             223.397377\n",
        "RBFOX2_HepG2_204_02             234.522967\n",
        "SRSF9-216-INPUT_S12_L001_R2     151.272557\n",
        "SRSF9_HepG2_216_01              121.685840\n",
        "SRSF9_HepG2_216_02              231.340683\n",
        "TIA1_HepG2_215_01               302.115405\n",
        "TIA1_HepG2_215_02               300.232885\n",
        "Name: ENSG00000142192.16, dtype: float64"
       ]
      }
     ],
     "prompt_number": 54
    },
    {
     "cell_type": "code",
     "collapsed": false,
     "input": [
      "rpkm_df['ENSG00000142192.16']"
     ],
     "language": "python",
     "metadata": {},
     "outputs": [
      {
       "metadata": {},
       "output_type": "pyout",
       "prompt_number": 62,
       "text": [
        "IGF2BP1-205-INPUT_S4_L001_R2    29.364564\n",
        "IGF2BP1_HepG2_205_01            79.000147\n",
        "IGF2BP1_HepG2_205_02            40.726011\n",
        "IGF2BP3-211-INPUT_S8_L001_R2    43.916161\n",
        "IGF2BP3_HepG2_211_01            65.562111\n",
        "IGF2BP3_HepG2_211_02            47.777645\n",
        "PTBP1-202-INPUT_S6_L001_R2      62.817507\n",
        "PTBP1_HepG2_202_01              50.746472\n",
        "PTBP1_HepG2_202_02               7.915780\n",
        "RBFOX2-204-INPUT_S2_L001_R2     48.748796\n",
        "RBFOX2_HepG2_204_01             42.045118\n",
        "RBFOX2_HepG2_204_02             49.068810\n",
        "SRSF9-216-INPUT_S12_L001_R2     42.876168\n",
        "SRSF9_HepG2_216_01              25.672448\n",
        "SRSF9_HepG2_216_02              32.334050\n",
        "TIA1-215-INPUT_S10_L001_R2      54.603254\n",
        "TIA1_HepG2_215_01               71.513907\n",
        "TIA1_HepG2_215_02               47.466001\n",
        "Name: ENSG00000142192.16, dtype: float64"
       ]
      }
     ],
     "prompt_number": 62
    },
    {
     "cell_type": "code",
     "collapsed": false,
     "input": [],
     "language": "python",
     "metadata": {},
     "outputs": [
      {
       "metadata": {},
       "output_type": "pyout",
       "prompt_number": 39,
       "text": [
        "6\n",
        "ENSG00000000003.10      8.000000\n",
        "ENSG00000000005.5       0.000000\n",
        "ENSG00000000419.8      34.638412\n",
        "ENSG00000000457.8      13.707483\n",
        "ENSG00000000460.12     22.610426\n",
        "ENSG00000000938.8       0.000000\n",
        "ENSG00000000971.11      0.000000\n",
        "ENSG00000001036.8      71.597760\n",
        "ENSG00000001084.6     189.194831\n",
        "ENSG00000001167.10     52.554943\n",
        "ENSG00000001460.13      6.971429\n",
        "ENSG00000001461.12     21.784915\n",
        "ENSG00000001497.12     74.124710\n",
        "ENSG00000001561.6       1.000000\n",
        "ENSG00000001617.7      87.409568\n",
        "...\n",
        "ENSGR0000236017.3    0\n",
        "ENSGR0000236871.2    0\n",
        "ENSGR0000237040.1    0\n",
        "ENSGR0000237531.1    0\n",
        "ENSGR0000237801.1    0\n",
        "ENSGR0000248421.1    0\n",
        "ENSGR0000249358.1    0\n",
        "ENSGR0000263835.1    0\n",
        "ENSGR0000263980.1    0\n",
        "ENSGR0000264510.1    0\n",
        "ENSGR0000264819.1    0\n",
        "ENSGR0000265350.1    0\n",
        "ENSGR0000265658.1    0\n",
        "ENSGR0000266731.1    0\n",
        "ENSGR0000270726.1    0\n",
        "Name: 4, Length: 57281, dtype: float64"
       ]
      }
     ],
     "prompt_number": 39
    },
    {
     "cell_type": "code",
     "collapsed": false,
     "input": [],
     "language": "python",
     "metadata": {},
     "outputs": []
    }
   ],
   "metadata": {}
  }
 ]
}