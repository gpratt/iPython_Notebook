{
 "metadata": {
  "name": ""
 },
 "nbformat": 3,
 "nbformat_minor": 0,
 "worksheets": [
  {
   "cells": [
    {
     "cell_type": "code",
     "collapsed": false,
     "input": [
      "import glob\n",
      "import os\n",
      "\n",
      "from IPython.core.display import HTML\n",
      "\n",
      "from gscripts.general import parsers"
     ],
     "language": "python",
     "metadata": {},
     "outputs": [],
     "prompt_number": 9
    },
    {
     "cell_type": "code",
     "collapsed": false,
     "input": [
      "mettl3_df = parsers.clipseq_metrics(\"/nas3/gpratt/projects/julia/analysis/mettl3_clipseq_v1/\")"
     ],
     "language": "python",
     "metadata": {},
     "outputs": [],
     "prompt_number": 10
    },
    {
     "cell_type": "code",
     "collapsed": false,
     "input": [
      "mettl3_df[\"Reads After Triming\"] = mettl3_df['Processed reads'] - mettl3_df['Too short reads']\n",
      "filtered_df = mettl3_df[[ \"Processed reads\",\n",
      "                            \"Reads After Triming\",\n",
      "                            \"Number of input reads\", \n",
      "                            \"Uniquely mapped reads number\",\n",
      "                            \"Uniquely mapped reads %\",\n",
      "                            \"Usable Reads\",\n",
      "                            #\"spot\",\n",
      "                            \"Num Peaks\"\n",
      "                            ]]\n",
      "\n",
      "\n",
      "HTML(filtered_df.to_html(formatters={\"Processed reads\" : parsers.commas,\n",
      "                                     \"Reads After Triming\" : parsers.commas,\n",
      "                                     \"Number of input reads\" : parsers.commas,\n",
      "                                     \"Uniquely mapped reads number\" : parsers.commas,\n",
      "                                     \"Usable Reads\" : parsers.commas,\n",
      "                                     \"Num Peaks\": parsers.commas\n",
      "                                     } ))"
     ],
     "language": "python",
     "metadata": {},
     "outputs": [
      {
       "html": [
        "<table border=\"1\" class=\"dataframe\">\n",
        "  <thead>\n",
        "    <tr style=\"text-align: right;\">\n",
        "      <th></th>\n",
        "      <th>Processed reads</th>\n",
        "      <th>Reads After Triming</th>\n",
        "      <th>Number of input reads</th>\n",
        "      <th>Uniquely mapped reads number</th>\n",
        "      <th>Uniquely mapped reads %</th>\n",
        "      <th>Usable Reads</th>\n",
        "      <th>Num Peaks</th>\n",
        "    </tr>\n",
        "  </thead>\n",
        "  <tbody>\n",
        "    <tr>\n",
        "      <th>SRR965314</th>\n",
        "      <td>48,490,138</td>\n",
        "      <td>48,485,688</td>\n",
        "      <td> 44,677,530</td>\n",
        "      <td> 36,500,782</td>\n",
        "      <td> 81.70%</td>\n",
        "      <td>21,069,771</td>\n",
        "      <td>12,016</td>\n",
        "    </tr>\n",
        "    <tr>\n",
        "      <th>SRR965315</th>\n",
        "      <td>31,698,919</td>\n",
        "      <td>31,696,549</td>\n",
        "      <td> 29,347,030</td>\n",
        "      <td> 23,806,095</td>\n",
        "      <td> 81.12%</td>\n",
        "      <td>15,720,868</td>\n",
        "      <td>10,829</td>\n",
        "    </tr>\n",
        "    <tr>\n",
        "      <th>SRR965316</th>\n",
        "      <td>73,961,335</td>\n",
        "      <td>73,961,328</td>\n",
        "      <td> 73,955,204</td>\n",
        "      <td>     65,315</td>\n",
        "      <td>  0.09%</td>\n",
        "      <td>    18,749</td>\n",
        "      <td>    10</td>\n",
        "    </tr>\n",
        "    <tr>\n",
        "      <th>SRR965317</th>\n",
        "      <td>61,417,150</td>\n",
        "      <td>61,417,145</td>\n",
        "      <td> 61,413,324</td>\n",
        "      <td>     17,298</td>\n",
        "      <td>  0.03%</td>\n",
        "      <td>     2,030</td>\n",
        "      <td>    10</td>\n",
        "    </tr>\n",
        "  </tbody>\n",
        "</table>"
       ],
       "metadata": {},
       "output_type": "pyout",
       "prompt_number": 11,
       "text": [
        "<IPython.core.display.HTML at 0x18d69c50>"
       ]
      }
     ],
     "prompt_number": 11
    },
    {
     "cell_type": "code",
     "collapsed": false,
     "input": [],
     "language": "python",
     "metadata": {},
     "outputs": []
    }
   ],
   "metadata": {}
  }
 ]
}