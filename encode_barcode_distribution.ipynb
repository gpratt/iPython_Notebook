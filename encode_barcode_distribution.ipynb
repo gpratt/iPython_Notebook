{
 "metadata": {
  "name": ""
 },
 "nbformat": 3,
 "nbformat_minor": 0,
 "worksheets": [
  {
   "cells": [
    {
     "cell_type": "code",
     "collapsed": false,
     "input": [
      "from collections import defaultdict\n",
      "import os\n",
      "\n",
      "from Bio.Seq import Seq\n",
      "from IPython.core.display import HTML\n",
      "import pandas as pd\n",
      "\n",
      "lab_meeting_img = \"/nas3/gpratt/figures/20131202_lab_meeting\"\n",
      "analysis_dir = \"/nas3/gpratt/projects/encode/data/\""
     ],
     "language": "python",
     "metadata": {},
     "outputs": [],
     "prompt_number": 132
    },
    {
     "cell_type": "code",
     "collapsed": false,
     "input": [
      "barcodes_df = pd.read_csv(\"/nas3/gpratt/projects/encode/scripts/barcodes/fixed_barcodes.txt\", sep=\"\\t\", names= [\"seq\", \"id\"], index_col=1)\n",
      "barcodes = {key : value for key, value in zip(barcodes_df.seq.values, barcodes_df.index)}"
     ],
     "language": "python",
     "metadata": {},
     "outputs": [],
     "prompt_number": 129
    },
    {
     "cell_type": "code",
     "collapsed": false,
     "input": [
      "#handler to count occurances of each barcode at each base, one sequence at a time\n",
      "#seq is a string\n",
      "#barcodes, list of str barcodes to search for\n",
      "#result_dict - dict of dicts to store results in\n",
      "def handle_seq(seq, barcode_map, result_dict):\n",
      "    for i in range(len(seq)):\n",
      "        for barcode in barcode_map.keys():\n",
      "            possible_match = seq[i: i + len(barcode)]\n",
      "            if possible_match == barcode:\n",
      "                if i not in result_dict[barcode]:\n",
      "                    result_dict[barcode][i] = 0\n",
      "                result_dict[barcode][i] += 1"
     ],
     "language": "python",
     "metadata": {},
     "outputs": [],
     "prompt_number": 5
    },
    {
     "cell_type": "code",
     "collapsed": false,
     "input": [
      "def plot_barcodes(barcodes, expected):\n",
      "    colors = cm.rainbow(np.linspace(0, 1, len(barcodes)))\n",
      "    best_score = 0 \n",
      "    for color, (barcode, label) in zip(colors, sorted(barcode_map.items(), key=lambda x: int(x[1][-2:]))):\n",
      "        if label in expected:\n",
      "            marker = \"^\"\n",
      "        else:\n",
      "            marker = \".\"\n",
      "        try:\n",
      "            best_score = max(sorted(barcodes[barcode].values())[-1], best_score)\n",
      "        except:\n",
      "            pass\n",
      "        scatter(barcodes[barcode].keys(), barcodes[barcode].values(), s=70, marker = marker, label=label, lw=0, c=color)\n",
      "    \n",
      "    xticks(range(0,47), range(1,48), fontsize=10)\n",
      "    xlim(0, 46)\n",
      "    ylim(0,25000)\n",
      "    xlabel(\"Base\", fontsize=18)\n",
      "    ylabel(\"Number of Barcodes at Base\", fontsize=18)\n",
      "    legend()"
     ],
     "language": "python",
     "metadata": {},
     "outputs": [],
     "prompt_number": 125
    },
    {
     "cell_type": "code",
     "collapsed": false,
     "input": [
      "file_handle = open(os.path.join(analysis_dir, \"Fox2PhiX_S1_L001_R1_001.fastq\"))\n",
      "fox2_results = defaultdict(dict)\n",
      "\n",
      "while True:\n",
      "    name = file_handle.next()\n",
      "    seq = file_handle.next()\n",
      "    plus = file_handle.next()\n",
      "    qual = file_handle.next()\n",
      "    handle_seq(seq, barcodes, fox2_results)"
     ],
     "language": "python",
     "metadata": {},
     "outputs": [],
     "prompt_number": "*"
    },
    {
     "cell_type": "code",
     "collapsed": false,
     "input": [
      "df = pd.DataFrame(result_dict).T\n",
      "df[isnan(df)] = 0\n",
      "df.index.name = \"barcode\"\n",
      "df.insert(0, \"barcode_name\", barcodes_df.id)\n",
      "df.to_csv(\"foo.csv\")"
     ],
     "language": "python",
     "metadata": {},
     "outputs": [],
     "prompt_number": "*"
    },
    {
     "cell_type": "code",
     "collapsed": false,
     "input": [
      "figsize(10,10)\n",
      "expected = \"BSRclip02 BSRclip04 SBRclip36 SBRclip38R\".split()\n",
      "plot_barcodes(fox2_results, expected)\n",
      "savefig(os.path.join(lab_meeting_img, \"miseq_barcode_dsitrbiution.png\"))"
     ],
     "language": "python",
     "metadata": {},
     "outputs": [],
     "prompt_number": "*"
    },
    {
     "cell_type": "code",
     "collapsed": false,
     "input": [
      "file_handle = open(os.path.join(analysis_dir, \"HotnCold_S1_L001_R1_001.fastq\"))\n",
      "hot_and_cold_results = defaultdict(dict)\n",
      "\n",
      "while True:\n",
      "    name = file_handle.next()\n",
      "    seq = file_handle.next()\n",
      "    plus = file_handle.next()\n",
      "    qual = file_handle.next()\n",
      "    handle_seq(seq, barcodes, hot_and_cold_results)"
     ],
     "language": "python",
     "metadata": {},
     "outputs": [],
     "prompt_number": "*"
    },
    {
     "cell_type": "code",
     "collapsed": false,
     "input": [
      "best = 0\n",
      "cur_best = 0\n",
      "for value in hot_and_cold_results.values():\n",
      "    if len(value) > 0:\n",
      "        cur_best = max(value.values())\n",
      "    best = max(best, cur_best)"
     ],
     "language": "python",
     "metadata": {},
     "outputs": [],
     "prompt_number": 121
    },
    {
     "cell_type": "code",
     "collapsed": false,
     "input": [
      "df = pd.DataFrame(hot_and_cold_results).T\n",
      "df[isnan(df)] = 0\n",
      "df.to_csv(\"foo.csv\")"
     ],
     "language": "python",
     "metadata": {},
     "outputs": [],
     "prompt_number": "*"
    },
    {
     "cell_type": "code",
     "collapsed": false,
     "input": [
      "figsize(16,16)\n",
      "expected = \"BSRclip02 BSRclip04 BSRclip08 BSRclip10 BSRclip20 BSRclip22\".split()\n",
      "plot_barcodes(hot_and_cold_results, expected)\n",
      "title(u\"(\u256f\u00b0\u25a1\u00b0\uff09\u256f\ufe35 \u253b\u2501\u253b)\")\n",
      "savefig(os.path.join(lab_meeting_img, \"miseq_barcode_dsitrbiution.png\"))"
     ],
     "language": "python",
     "metadata": {},
     "outputs": [],
     "prompt_number": "*"
    }
   ],
   "metadata": {}
  }
 ]
}