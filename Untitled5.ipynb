{
 "metadata": {
  "name": ""
 },
 "nbformat": 3,
 "nbformat_minor": 0,
 "worksheets": [
  {
   "cells": [
    {
     "cell_type": "code",
     "collapsed": false,
     "input": [
      "from collections import defaultdict\n",
      "from itertools import groupby\n",
      "\n",
      "from clipper.src import get_genomic_regions"
     ],
     "language": "python",
     "metadata": {},
     "outputs": [],
     "prompt_number": 3
    },
    {
     "cell_type": "code",
     "collapsed": false,
     "input": [
      "regions = get_genomic_regions.GenomicFeatures(\"/nas3/gpratt/clipper/clipper/data/regions/\", \"hg19\", None)"
     ],
     "language": "python",
     "metadata": {},
     "outputs": [],
     "prompt_number": 4
    },
    {
     "cell_type": "code",
     "collapsed": false,
     "input": [
      "hg19_cds = regions.get_genomic_regions()['cds']"
     ],
     "language": "python",
     "metadata": {},
     "outputs": [],
     "prompt_number": 5
    },
    {
     "cell_type": "code",
     "collapsed": false,
     "input": [
      "grouped_cds = defaultdict(list)\n",
      "\n",
      "for interval in hg19_cds:\n",
      "    grouped_cds[interval.name].append(interval)\n",
      "    \n",
      "#grouped_cds = groupby(hg19_cds, lambda x: x.name)\n",
      "result_list = []\n",
      "for name, gene in grouped_cds.items():\n",
      "    #print type(gene)\n",
      "    cds_list = sorted(gene, key=lambda x: x.start)\n",
      "    if cds_list[0].strand == \"-\":\n",
      "        cds_list = list(reversed(cds_list))\n",
      "    #This will result in some exons being to short, we don't want them in our analysis.  \n",
      "    #Remove with remove invalid later in the pipeline \n",
      "    cds_list[0].start += 15\n",
      "    cds_list[-1].end =- 5\n",
      "    for x, cds in enumerate(gene):\n",
      "        cds.append(str(x + 1))\n",
      "    result_list += cds_list"
     ],
     "language": "python",
     "metadata": {},
     "outputs": [],
     "prompt_number": 36
    },
    {
     "cell_type": "code",
     "collapsed": false,
     "input": [
      "x = pybedtools.BedTool(\"\".join([str(interval) for interval in result_list]), from_string=True).remove_invalid()"
     ],
     "language": "python",
     "metadata": {},
     "outputs": [],
     "prompt_number": 37
    },
    {
     "cell_type": "code",
     "collapsed": false,
     "input": [
      "x.saveas(\"riboseq_hg19_cds.bed\")"
     ],
     "language": "python",
     "metadata": {},
     "outputs": [
      {
       "metadata": {},
       "output_type": "pyout",
       "prompt_number": 38,
       "text": [
        "<BedTool(riboseq_hg19_cds.bed)>"
       ]
      }
     ],
     "prompt_number": 38
    },
    {
     "cell_type": "code",
     "collapsed": false,
     "input": [
      "x = gene[0]"
     ],
     "language": "python",
     "metadata": {},
     "outputs": [],
     "prompt_number": 25
    },
    {
     "cell_type": "code",
     "collapsed": false,
     "input": [
      "x.append(str(1))"
     ],
     "language": "python",
     "metadata": {},
     "outputs": [],
     "prompt_number": 27
    },
    {
     "cell_type": "code",
     "collapsed": false,
     "input": [
      "str(x)"
     ],
     "language": "python",
     "metadata": {},
     "outputs": [
      {
       "metadata": {},
       "output_type": "pyout",
       "prompt_number": 29,
       "text": [
        "'chr8\\t90915037\\t90915065\\tENSG00000164823.5\\t0\\t+\\t1\\n'"
       ]
      }
     ],
     "prompt_number": 29
    },
    {
     "cell_type": "code",
     "collapsed": false,
     "input": [
      "cds_list"
     ],
     "language": "python",
     "metadata": {},
     "outputs": [
      {
       "metadata": {},
       "output_type": "pyout",
       "prompt_number": 35,
       "text": [
        "<listreverseiterator at 0x2aaaaec0b790>"
       ]
      }
     ],
     "prompt_number": 35
    },
    {
     "cell_type": "code",
     "collapsed": false,
     "input": [],
     "language": "python",
     "metadata": {},
     "outputs": []
    }
   ],
   "metadata": {}
  }
 ]
}