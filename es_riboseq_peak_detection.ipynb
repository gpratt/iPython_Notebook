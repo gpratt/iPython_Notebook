{
 "metadata": {
  "name": ""
 },
 "nbformat": 3,
 "nbformat_minor": 0,
 "worksheets": [
  {
   "cells": [
    {
     "cell_type": "code",
     "collapsed": false,
     "input": [
      "import os\n",
      "import glob\n",
      "from itertools import groupby\n",
      "\n",
      "from bx.bbi.bigwig_file import BigWigFile\n",
      "import pybedtools\n",
      "\n",
      "from gscripts.rnaseq.count_tags import count_to_regions"
     ],
     "language": "python",
     "metadata": {},
     "outputs": [],
     "prompt_number": 94
    },
    {
     "cell_type": "code",
     "collapsed": false,
     "input": [
      "#get gene body profile, use exons from count tags script\n",
      "genes = count_to_regions(\"/nas3/yeolab/Genome/ensembl/gtf/gencode.v17.annotation.exons.bed\")"
     ],
     "language": "python",
     "metadata": {},
     "outputs": [],
     "prompt_number": 17
    },
    {
     "cell_type": "code",
     "collapsed": false,
     "input": [
      "#this code identifies pause sites across gene bodies using igonlia method, 25 fold enrichment above median as a metric\n",
      "#need to develop testing code for this\n",
      "def identify_pause_sites(pos_bw, neg_bw, outfile):\n",
      "    gene_pause_sites = {}\n",
      "    \n",
      "    for gene in genes:\n",
      "        regions = {}\n",
      "        for start, stop in genes[gene]['regions']:\n",
      "            if start == stop:\n",
      "                continue\n",
      "                \n",
      "            if genes[gene]['strand'] == \"+\":\n",
      "                region = pos_bw.get_as_array(genes[gene]['chrom'], start, stop)    \n",
      "            else:\n",
      "                region = neg_bw.get_as_array(genes[gene]['chrom'], start, stop)\n",
      "                region = region * -1\n",
      "            region[isnan(region)] = 0\n",
      "            regions[(start, stop)] = region\n",
      "        gene_body = np.concatenate(array(regions.values()))\n",
      "        \n",
      "        median_coverage = max(1, median(gene_body))\n",
      "\n",
      "        for (start, stop), region in regions.items():\n",
      "            pause_sites = np.where(region > (median_coverage * 25))\n",
      "            for pause_site in pause_sites[0]:\n",
      "                outfile.write(\"\\t\".join(map(str, [\n",
      "                                                  genes[gene]['chrom'], \n",
      "                                                  (start + pause_site), \n",
      "                                                  (start + pause_site + 1),\n",
      "                                                   gene,\n",
      "                                                   region[pause_site] / float(median_coverage),\n",
      "                                                   genes[gene]['strand']\n",
      "                                                   ])) + \"\\n\")"
     ],
     "language": "python",
     "metadata": {},
     "outputs": [],
     "prompt_number": 103
    },
    {
     "cell_type": "code",
     "collapsed": false,
     "input": [
      "bw_files = glob.glob(\"/nas3/gpratt/projects/es_riboseq/analysis/es_riboseq_v1/*.pos.bw\") + glob.glob(\"/nas3/gpratt/projects/es_riboseq/analysis/es_riboseq_v1/*.neg.t.bw\")\n",
      "for name, group in groupby(sorted(bw_files), key = lambda x: os.path.basename(x).split(\".\")[0]):\n",
      "    neg_bw, pos_bw = [BigWigFile(open(fn)) for fn in group]\n",
      "    with open(name + \".peaks.bed\", 'w') as outfile:\n",
      "        identify_pause_sites(pos_bw, neg_bw, outfile)"
     ],
     "language": "python",
     "metadata": {},
     "outputs": [],
     "prompt_number": "*"
    }
   ],
   "metadata": {}
  }
 ]
}