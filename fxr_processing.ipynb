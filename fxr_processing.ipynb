{
 "metadata": {
  "name": "",
  "signature": "sha256:b30f8f628f6dd8bfb09d90563b03633ebfc6284c45cf2b8736b7763e11c47113"
 },
 "nbformat": 3,
 "nbformat_minor": 0,
 "worksheets": [
  {
   "cells": [
    {
     "cell_type": "code",
     "collapsed": false,
     "input": [
      "import glob\n",
      "import os\n",
      "import pybedtools\n",
      "from gscripts.general import region_helpers\n",
      "from collections import Counter\n",
      "import pandas as pd"
     ],
     "language": "python",
     "metadata": {},
     "outputs": [],
     "prompt_number": 42
    },
    {
     "cell_type": "code",
     "collapsed": false,
     "input": [
      "gene_id_to_name = region_helpers.gene_id_to_name(\"/nas3/gpratt/gencode/gencode.v17.annotation.gtf.db\")"
     ],
     "language": "python",
     "metadata": {},
     "outputs": [],
     "prompt_number": 32
    },
    {
     "cell_type": "code",
     "collapsed": false,
     "input": [
      "peaks = glob.glob(\"/nas3/gpratt/projects/public_clip/analysis/v6/*.bed\")\n",
      "peaks = [peak for peak in peaks if os.path.basename(peak).split(\".\")[0] in \"SRR527727,SRR527728,SRR527729,SRR527730,SRR527731,SRR527732\".split(\",\")]\n",
      "peaks = [peak for peak in peaks if \".sorted.peaks.bed\" in peak]\n",
      "peaks = {os.path.basename(peak).split(\".\")[0] : pybedtools.BedTool(peak) for peak in peaks}"
     ],
     "language": "python",
     "metadata": {},
     "outputs": [],
     "prompt_number": 14
    },
    {
     "cell_type": "code",
     "collapsed": false,
     "input": [
      "mapping_dict = {\n",
      "\"SRR527727\": \"FMR1_iso1_rep1\",  \n",
      "\"SRR527728\": \"FMR1_iso7_rep1\",\n",
      "\"SRR527729\": \"FMR1_iso1_rep2\",\n",
      "\"SRR527730\": \"FMR1_iso7_rep2\",\n",
      "\"SRR527731\": \"FXR1_rep2\",\n",
      "\"SRR527732\": \"FXR2_rep2\"\n",
      "} "
     ],
     "language": "python",
     "metadata": {},
     "outputs": [],
     "prompt_number": 55
    },
    {
     "cell_type": "code",
     "collapsed": false,
     "input": [
      "result = {}\n",
      "for name, bedtool in peaks.items():\n",
      "    result[name] = Counter([gene_id_to_name[interval.name.split(\"_\")[0]] for interval in bedtool])\n",
      "\n",
      "result = pd.DataFrame(result).fillna(0)"
     ],
     "language": "python",
     "metadata": {},
     "outputs": [],
     "prompt_number": 57
    },
    {
     "cell_type": "code",
     "collapsed": false,
     "input": [
      "result = result.rename(columns=mapping_dict)"
     ],
     "language": "python",
     "metadata": {},
     "outputs": [],
     "prompt_number": 59
    },
    {
     "cell_type": "code",
     "collapsed": false,
     "input": [
      "result.to_csv(\"/nas3/gpratt/Dropbox/clipper/fmr_binding.csv\")"
     ],
     "language": "python",
     "metadata": {},
     "outputs": [],
     "prompt_number": 60
    },
    {
     "cell_type": "code",
     "collapsed": false,
     "input": [],
     "language": "python",
     "metadata": {},
     "outputs": []
    }
   ],
   "metadata": {}
  }
 ]
}