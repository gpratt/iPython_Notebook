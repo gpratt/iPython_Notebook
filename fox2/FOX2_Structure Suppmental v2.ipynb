{
 "metadata": {
  "name": "FOX2_Structure Suppmental v2"
 },
 "nbformat": 3,
 "nbformat_minor": 0,
 "worksheets": [
  {
   "cells": [
    {
     "cell_type": "code",
     "collapsed": false,
     "input": [
      "import pybedtools\n",
      "import numpy as np\n",
      "from scipy import stats\n",
      "from scipy.stats import norm\n",
      "from conserved_structure import RNApair\n",
      "#import structure\n",
      "import random\n",
      "from pandas import DataFrame, Series\n",
      "import os\n",
      "pybedtools.set_tempdir(\"/nas/nas0/scratch/gpratt/pybedtools_tmp\")"
     ],
     "language": "python",
     "metadata": {},
     "outputs": [
      {
       "output_type": "stream",
       "stream": "stderr",
       "text": [
        "/nas3/lovci/gscripts/seqTools.py:13: UserWarning: Module dateutil was already imported from /nas3/yeolab/Software/Python_dependencies-2.7/matplotlib-1.1.0-py2.7-linux-x86_64.egg/dateutil/__init__.pyc, but /nas/nas0/yeolab/Software/Python_dependencies-2.7/python_dateutil-1.5-py2.7.egg is being added to sys.path\n",
        "  import pkg_resources\n"
       ]
      }
     ],
     "prompt_number": 1
    },
    {
     "cell_type": "code",
     "collapsed": false,
     "input": [
      "def get_all_overlaps(set1, set2):\n",
      "    set1_by_set2 = {}\n",
      "    set2_by_set1 = {}\n",
      "    for set1Name, set1Element in set1.items():\n",
      "        set1_lst  = []\n",
      "        set2_lst = []\n",
      "        for set2Name, set2Element in set2.items():\n",
      "            set1_by_set2 = set1Element.intersect(set2Element, u=True).saveas(set1Name + \"_by_\" + set2Name)\n",
      "            set2_by_set1 = set2Element.intersect(set1Element, u=True).saveas(set1Name + \"_by_\" + set2Name)\n",
      "            set1_lst.append(len(set1_by_set2))\n",
      "            set2_lst.append(len(set2_by_set1))\n",
      "        set1_by_set2[set1Name] = Series(set1_lst, index = set2.keys())\n",
      "        set2_by_set1[set1Name] = Series(set2_lst, index = set2.keys())\n",
      "    \n",
      "    return DataFrame(set1_by_set2), DataFrame(set2_by_set1)\n",
      "\n",
      "#calculate z score x - value, u - sample mean, s - std devation\n",
      "def z_score(x, u, s):\n",
      "    return (x - u) / s\n",
      "\n",
      "import math\n",
      "from scipy.stats import norm\n",
      "rv = norm()\n",
      "#sqrt((sum_x2 / n) - (mean * mean)) \n",
      "def std(array):\n",
      "\n",
      "    result = []\n",
      "    for arr in array:\n",
      "        result.append(pow(arr - mean(array),2))\n",
      "    result = sqrt(sum(result) / 10)\n",
      "\n",
      "    return result"
     ],
     "language": "python",
     "metadata": {},
     "outputs": [],
     "prompt_number": 9
    },
    {
     "cell_type": "code",
     "collapsed": false,
     "input": [
      "mouse_ultraDict = {\n",
      "\"mouse_ultraProx\" : pybedtools.BedTool(\"/nas3/lovci/projects/conservation/mm9/ultra_proxintron.filtered_normsk.BED\"),\n",
      "\"mouse_ultraDist\" : pybedtools.BedTool(\"/nas3/lovci/projects/conservation/mm9/ultra_distintron.filtered_normsk.BED\"),\n",
      "}"
     ],
     "language": "python",
     "metadata": {},
     "outputs": [],
     "prompt_number": 3
    },
    {
     "cell_type": "code",
     "collapsed": false,
     "input": [
      "mouse_CLIPDict = {\n",
      "'TDP43_1' : pybedtools.BedTool(\"/nas3/gpratt/projects/structure/TDP43/TDB43brain_MP41_1.all_peaks.BED\"),\n",
      "'TDP43_2' : pybedtools.BedTool(\"/nas3/gpratt/projects/structure/TDP43/TDB43brain_MP42_1.all_peaks.BED\"),\n",
      "'FUSTLS'  : pybedtools.BedTool(\"/nas3/gpratt/projects/structure/TLS/TLS_combined.all._peaks.BED\"),\n",
      "'FOX1_brain' : pybedtools.BedTool(\"/nas3/lovci/projects/FOX1/FOX1_mouse_brain/CLIP/analysis_gsnap/FOX1.CLIP_peaks.slop.p01.BED\"),\n",
      "'FOX2_brain' : pybedtools.BedTool(\"/nas3/lovci/projects/FOX2/FOX2_mouse_brain/CLIP/analysis_gsnap/FOX2.CLIP_peaks.slop.p01.BED\"),\n",
      "'FOX2_mouse_heart' : pybedtools.BedTool('/nas3/lovci/projects/FOX2/FOX2_mouse_heart/CLIP/analysis_mm9/mike_clusters_trim/sig_clusters.trim.BED'),\n",
      "#'FOX3_brain' : pybedtools.BedTool(\"/nas3/lovci/projects/FOX3/FOX3_mouse_brain/CLIP/analysis_gsnap/FOX3.CLIP_peaks.slop.p01.BED\"),\n",
      "'NOVA' : pybedtools.BedTool(\"/nas3/lovci/projects/NOVA/NOVA_darnell_mousebrain/CLIP/analysis/dataset_S2_Nova_CLIP_cluster_mm9.bed\"),\n",
      "'TAF15_1'   : pybedtools.BedTool(\"/nas3/gpratt/projects/structure/TAF15/TAF15_195.all_peaks.BED\"),\n",
      "'TAF15_2'   : pybedtools.BedTool(\"/nas3/gpratt/projects/structure/TAF15/TAF15_196.all_peaks.BED\"),\n",
      "}\n",
      "\n",
      "#only allow for regions that intersect with our region of intrest when shuffling\n",
      "for key in mouse_CLIPDict:\n",
      "    mouse_CLIPDict[key] = mouse_CLIPDict[key].intersect(\"/nas3/lovci/projects/structure/mm9/event_detail.BED\", u=True)"
     ],
     "language": "python",
     "metadata": {},
     "outputs": [],
     "prompt_number": 5
    },
    {
     "cell_type": "code",
     "collapsed": false,
     "input": [
      "def get_raw_percents(ultraDict, CLIPDict):\n",
      "    ultra_by_clip, clip_by_ultra = get_all_overlaps(ultraDict, CLIPDict)\n",
      "    print \"# ultra conserved elements that intersect with CLIP-seq data\"\n",
      "    print ultra_by_clip #devide by ultra conserved counts\n",
      "\n",
      "    print \"# CLIP-seq peaks that intersect with ultra conserved elements\"\n",
      "    print clip_by_ultra #devide by clip counts\n",
      "    clip_lens = Series([ len(x) * 1.0 for x in CLIPDict.values() ], index = CLIPDict.keys())\n",
      "    ultra_lens = Series([ len(x) * 1.0 for x in ultraDict.values() ], index= ultraDict.keys()) \n",
      "\n",
      "    print \"# CLIP-seq peaks\"\n",
      "    print clip_lens\n",
      "\n",
      "    print \"# ultra conserved elements\"\n",
      "    print ultra_lens\n",
      "\n",
      "    print \"% ultra conserved elements that intersect with CLIP-seq data\"\n",
      "    ultra_by_clip_fraction = (ultra_by_clip / ultra_lens) * 100\n",
      "    print ultra_by_clip_fraction\n",
      "    print \"% CLIP-seq peaks that intersect with ultra conserved elements\"\n",
      "    clip_by_ultra_fraction =  (clip_by_ultra.T / clip_lens).T * 100\n",
      "    print clip_by_ultra_fraction\n",
      "    return ultra_by_clip, ultra_by_clip_fraction, clip_by_ultra, clip_by_ultra_fraction"
     ],
     "language": "python",
     "metadata": {},
     "outputs": [],
     "prompt_number": 6
    },
    {
     "cell_type": "code",
     "collapsed": false,
     "input": [
      "mouse_ultra_by_clip, mouse_ultra_by_clip_fraction, mouse_clip_by_ultra, mouse_clip_by_ultra_fraction = get_raw_percents(mouse_ultraDict, mouse_CLIPDict)"
     ],
     "language": "python",
     "metadata": {},
     "outputs": [],
     "prompt_number": "*"
    },
    {
     "cell_type": "code",
     "collapsed": false,
     "input": [],
     "language": "python",
     "metadata": {},
     "outputs": [
      {
       "output_type": "stream",
       "stream": "stdout",
       "text": [
        "                  mouse_ultraDist  mouse_ultraProx\n",
        "FOX1_brain                    171              160\n",
        "TAF15_1                       689              306\n",
        "FOX2_mouse_heart              776             1581\n",
        "TAF15_2                       558              237\n",
        "TDP43_1                      2041              569\n",
        "TDP43_2                      2865              639\n",
        "FOX2_brain                    166              147\n",
        "NOVA                         3993             2624\n",
        "FUSTLS                      17040             9039\n"
       ]
      }
     ],
     "prompt_number": 8
    },
    {
     "cell_type": "code",
     "collapsed": false,
     "input": [],
     "language": "python",
     "metadata": {},
     "outputs": []
    }
   ],
   "metadata": {}
  }
 ]
}