{
 "metadata": {
  "name": "FOX2_Motif_Analysis"
 },
 "nbformat": 3,
 "nbformat_minor": 0,
 "worksheets": [
  {
   "cells": [
    {
     "cell_type": "code",
     "collapsed": false,
     "input": [
      "from clipper.src import kmerdiff"
     ],
     "language": "python",
     "metadata": {},
     "outputs": [],
     "prompt_number": 1
    },
    {
     "cell_type": "code",
     "collapsed": false,
     "input": [
      "!cd /nas3/gpratt/encode/fasta/"
     ],
     "language": "python",
     "metadata": {},
     "outputs": [],
     "prompt_number": 7
    },
    {
     "cell_type": "code",
     "collapsed": false,
     "input": [
      "path = \"/nas3/gpratt/encode/\"\n",
      "kmer_diff = kmerdiff.kmer_diff(\"/nas3/gpratt/encode/FOX2.fasta\",\n",
      "                        \"/nas3/gpratt/encode/FOX2.rand.fasta\", 6)[0]"
     ],
     "language": "python",
     "metadata": {},
     "outputs": [],
     "prompt_number": 56
    },
    {
     "cell_type": "code",
     "collapsed": false,
     "input": [
      "boxplot([kmer_diff[key].delta for key in kmer_diff])"
     ],
     "language": "python",
     "metadata": {},
     "outputs": [
      {
       "output_type": "pyout",
       "prompt_number": 57,
       "text": [
        "{'boxes': [<matplotlib.lines.Line2D at 0x16256d50>],\n",
        " 'caps': [<matplotlib.lines.Line2D at 0x16256350>,\n",
        "  <matplotlib.lines.Line2D at 0x16256850>],\n",
        " 'fliers': [<matplotlib.lines.Line2D at 0x16250790>,\n",
        "  <matplotlib.lines.Line2D at 0x16250c50>],\n",
        " 'medians': [<matplotlib.lines.Line2D at 0x16250290>],\n",
        " 'whiskers': [<matplotlib.lines.Line2D at 0x16273b50>,\n",
        "  <matplotlib.lines.Line2D at 0x16273d90>]}"
       ]
      },
      {
       "output_type": "display_data",
       "png": "[encoded data removed]"
      }
     ],
     "prompt_number": 57
    },
    {
     "cell_type": "code",
     "collapsed": false,
     "input": [
      "kmer_diff.items"
     ],
     "language": "python",
     "metadata": {},
     "outputs": []
    },
    {
     "cell_type": "code",
     "collapsed": false,
     "input": [
      "print kmer_diff['AGCATG']\n",
      "print kmer_diff['CGCATG']\n",
      "print kmer_diff['GGCATG']\n",
      "print kmer_diff['TGCATG']"
     ],
     "language": "python",
     "metadata": {},
     "outputs": [
      {
       "output_type": "stream",
       "stream": "stdout",
       "text": [
        "Motif(freq1=1252.0, freq2=622.0, delta=41.80394149510549)\n",
        "Motif(freq1=185.0, freq2=96.0, delta=15.805749228686418)\n",
        "Motif(freq1=453.0, freq2=483.0, delta=16.528324194405183)\n",
        "Motif(freq1=2442.0, freq2=666.0, delta=69.00252650475284)\n"
       ]
      }
     ],
     "prompt_number": 64
    },
    {
     "cell_type": "markdown",
     "metadata": {},
     "source": [
      "FOX2 motifs are well expressed, especially the TGCATG motif"
     ]
    },
    {
     "cell_type": "code",
     "collapsed": false,
     "input": [
      "y = sorted(kmer_diff.items(), key=lambda motif: motif[1].delta)\n"
     ],
     "language": "python",
     "metadata": {},
     "outputs": [],
     "prompt_number": 59
    },
    {
     "cell_type": "code",
     "collapsed": false,
     "input": [
      "y[-50:]"
     ],
     "language": "python",
     "metadata": {},
     "outputs": [
      {
       "output_type": "pyout",
       "prompt_number": 62,
       "text": [
        "[('TCTGTG', Motif(freq1=1151.0, freq2=1184.0, delta=27.11354804689102)),\n",
        " ('CCTGTG', Motif(freq1=1015.0, freq2=912.0, delta=28.055789419820126)),\n",
        " ('TCTGCC', Motif(freq1=1005.0, freq2=878.0, delta=28.434815168367336)),\n",
        " ('TGTGCC', Motif(freq1=787.0, freq2=540.0, delta=28.861060462316694)),\n",
        " ('CCTCTG', Motif(freq1=1120.0, freq2=1037.0, delta=28.881170102095734)),\n",
        " ('TGCTGC', Motif(freq1=1035.0, freq2=869.0, delta=29.587940015474164)),\n",
        " ('GCTGTC', Motif(freq1=900.0, freq2=641.0, delta=30.283783809948318)),\n",
        " ('AGAGAG', Motif(freq1=1686.0, freq2=1901.0, delta=30.444334031491508)),\n",
        " ('CTGCAT', Motif(freq1=892.0, freq2=619.0, delta=30.553152529354485)),\n",
        " ('CCCTGC', Motif(freq1=1004.0, freq2=771.0, delta=30.712428429313032)),\n",
        " ('TGTGTA', Motif(freq1=1078.0, freq2=873.0, delta=30.863912246986047)),\n",
        " ('CTGCTG', Motif(freq1=1318.0, freq2=1233.0, delta=31.10992789183529)),\n",
        " ('TTGCTT', Motif(freq1=1145.0, freq2=833.0, delta=33.78219850219779)),\n",
        " ('GCCTGC', Motif(freq1=1010.0, freq2=646.0, delta=33.82579060160301)),\n",
        " ('GAGAGA', Motif(freq1=1731.0, freq2=1719.0, delta=34.160316037301406)),\n",
        " ('CCTGCC', Motif(freq1=1216.0, freq2=899.0, delta=34.51634462148085)),\n",
        " ('CTCTGC', Motif(freq1=1297.0, freq2=1002.0, delta=34.79341765852943)),\n",
        " ('GCATGG', Motif(freq1=999.0, freq2=538.0, delta=36.21517865275315)),\n",
        " ('TCCTCC', Motif(freq1=1315.0, freq2=938.0, delta=36.58247157888495)),\n",
        " ('TGCCTC', Motif(freq1=1290.0, freq2=859.0, delta=37.50657021350533)),\n",
        " ('CTGCTC', Motif(freq1=1296.0, freq2=790.0, delta=39.16859326764878)),\n",
        " ('CTCCTC', Motif(freq1=1419.0, freq2=945.0, delta=39.33698595571127)),\n",
        " ('CTGTGT', Motif(freq1=1536.0, freq2=1104.0, delta=39.38377195364627)),\n",
        " ('TGTGCA', Motif(freq1=1330.0, freq2=823.0, delta=39.413512965693855)),\n",
        " ('CTTGCT', Motif(freq1=1295.0, freq2=758.0, delta=39.85162578002788)),\n",
        " ('AGCATG', Motif(freq1=1252.0, freq2=622.0, delta=41.80394149510549)),\n",
        " ('CTCCTG', Motif(freq1=1567.0, freq2=1005.0, delta=42.08739945601333)),\n",
        " ('ATGTGT', Motif(freq1=1527.0, freq2=919.0, delta=42.759972974287436)),\n",
        " ('CCTCCT', Motif(freq1=1580.0, freq2=980.0, delta=42.91648223688715)),\n",
        " ('TGCTCC', Motif(freq1=1266.0, freq2=587.0, delta=43.07309949730085)),\n",
        " ('TCCTGC', Motif(freq1=1443.0, freq2=757.0, delta=43.977538450436064)),\n",
        " ('GCATGC', Motif(freq1=1209.0, freq2=456.0, delta=44.87262360464447)),\n",
        " ('GCTCCT', Motif(freq1=1436.0, freq2=664.0, delta=45.91926831052087)),\n",
        " ('TGCCTG', Motif(freq1=1770.0, freq2=970.0, delta=47.88427616580676)),\n",
        " ('GCTTGC', Motif(freq1=1299.0, freq2=430.0, delta=48.145710410860815)),\n",
        " ('GTGTGC', Motif(freq1=1542.0, freq2=675.0, delta=48.45771076436041)),\n",
        " ('TGCTTG', Motif(freq1=1476.0, freq2=602.0, delta=48.467459919347874)),\n",
        " ('CATGTG', Motif(freq1=1696.0, freq2=809.0, delta=49.3742707838606)),\n",
        " ('GTGCAT', Motif(freq1=1442.0, freq2=493.0, delta=50.3173478730017)),\n",
        " ('CCTGCT', Motif(freq1=1796.0, freq2=851.0, delta=50.92925451919677)),\n",
        " ('CTGCCT', Motif(freq1=2231.0, freq2=1232.0, delta=53.6031515420756)),\n",
        " ('GCATGT', Motif(freq1=1763.0, freq2=501.0, delta=58.11244817596684)),\n",
        " ('GCTGTG', Motif(freq1=2605.0, freq2=825.0, delta=68.94267059888624)),\n",
        " ('TGCATG', Motif(freq1=2442.0, freq2=666.0, delta=69.00252650475284)),\n",
        " ('GTGCTG', Motif(freq1=2652.0, freq2=854.0, delta=69.28501566883065)),\n",
        " ('CTGTGC', Motif(freq1=2663.0, freq2=709.0, delta=72.41748801691926)),\n",
        " ('TGCTGT', Motif(freq1=2794.0, freq2=804.0, delta=72.97922466517022)),\n",
        " ('TGTGCT', Motif(freq1=2851.0, freq2=789.0, delta=74.33863773330809)),\n",
        " ('GTGTGT', Motif(freq1=5840.0, freq2=3007.0, delta=89.22782744439182)),\n",
        " ('TGTGTG', Motif(freq1=7101.0, freq2=3326.0, delta=101.84207733828133))]"
       ]
      }
     ],
     "prompt_number": 62
    },
    {
     "cell_type": "markdown",
     "metadata": {},
     "source": [
      "The TGCATG Motif is the 5th highest motif in the top 50 motifs"
     ]
    }
   ],
   "metadata": {}
  }
 ]
}