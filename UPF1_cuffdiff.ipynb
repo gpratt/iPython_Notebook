{
 "metadata": {
  "name": ""
 },
 "nbformat": 3,
 "nbformat_minor": 0,
 "worksheets": [
  {
   "cells": [
    {
     "cell_type": "code",
     "collapsed": false,
     "input": [
      "cd "
     ],
     "language": "python",
     "metadata": {},
     "outputs": [
      {
       "output_type": "stream",
       "stream": "stdout",
       "text": [
        "/nas/nas0/gpratt/projects/upf1/analysis/analysis_v2/cuffdiff\n"
       ]
      }
     ],
     "prompt_number": 1
    },
    {
     "cell_type": "code",
     "collapsed": false,
     "input": [
      "import pandas as pd\n",
      "from IPython.core.display import HTML"
     ],
     "language": "python",
     "metadata": {},
     "outputs": [],
     "prompt_number": 11
    },
    {
     "cell_type": "code",
     "collapsed": false,
     "input": [
      "genes_df = pd.read_csv(\"/nas3/gpratt/projects/upf1/analysis/analysis_v2/cuffdiff/gene_exp.diff\", sep=\"\\t\")"
     ],
     "language": "python",
     "metadata": {},
     "outputs": [],
     "prompt_number": 5
    },
    {
     "cell_type": "code",
     "collapsed": false,
     "input": [
      "HTML(genes_df[genes_df.test_id == \"ENSG00000005007.8\"].to_html())"
     ],
     "language": "python",
     "metadata": {},
     "outputs": [
      {
       "html": [
        "<table border=\"1\" class=\"dataframe\">\n",
        "  <thead>\n",
        "    <tr style=\"text-align: right;\">\n",
        "      <th></th>\n",
        "      <th>test_id</th>\n",
        "      <th>gene_id</th>\n",
        "      <th>gene</th>\n",
        "      <th>locus</th>\n",
        "      <th>sample_1</th>\n",
        "      <th>sample_2</th>\n",
        "      <th>status</th>\n",
        "      <th>value_1</th>\n",
        "      <th>value_2</th>\n",
        "      <th>log2(fold_change)</th>\n",
        "      <th>test_stat</th>\n",
        "      <th>p_value</th>\n",
        "      <th>q_value</th>\n",
        "      <th>significant</th>\n",
        "    </tr>\n",
        "  </thead>\n",
        "  <tbody>\n",
        "    <tr>\n",
        "      <th>73</th>\n",
        "      <td> ENSG00000005007.8</td>\n",
        "      <td> ENSG00000005007.8</td>\n",
        "      <td> UPF1</td>\n",
        "      <td> chr19:18942746-18979045</td>\n",
        "      <td> q1</td>\n",
        "      <td> q2</td>\n",
        "      <td> OK</td>\n",
        "      <td> 14.5764</td>\n",
        "      <td> 25.798</td>\n",
        "      <td> 0.823625</td>\n",
        "      <td> 1.8799</td>\n",
        "      <td> 0.0024</td>\n",
        "      <td> 0.116588</td>\n",
        "      <td> no</td>\n",
        "    </tr>\n",
        "  </tbody>\n",
        "</table>"
       ],
       "metadata": {},
       "output_type": "pyout",
       "prompt_number": 21,
       "text": [
        "<IPython.core.display.HTML at 0x2aaaac08fbd0>"
       ]
      }
     ],
     "prompt_number": 21
    },
    {
     "cell_type": "code",
     "collapsed": false,
     "input": [
      "HTML(genes_df[genes_df.test_id == \"ENSG00000244734.1\"].to_html())"
     ],
     "language": "python",
     "metadata": {},
     "outputs": [
      {
       "html": [
        "<table border=\"1\" class=\"dataframe\">\n",
        "  <thead>\n",
        "    <tr style=\"text-align: right;\">\n",
        "      <th></th>\n",
        "      <th>test_id</th>\n",
        "      <th>gene_id</th>\n",
        "      <th>gene</th>\n",
        "      <th>locus</th>\n",
        "      <th>sample_1</th>\n",
        "      <th>sample_2</th>\n",
        "      <th>status</th>\n",
        "      <th>value_1</th>\n",
        "      <th>value_2</th>\n",
        "      <th>log2(fold_change)</th>\n",
        "      <th>test_stat</th>\n",
        "      <th>p_value</th>\n",
        "      <th>q_value</th>\n",
        "      <th>significant</th>\n",
        "    </tr>\n",
        "  </thead>\n",
        "  <tbody>\n",
        "    <tr>\n",
        "      <th>40514</th>\n",
        "      <td> ENSG00000244734.1</td>\n",
        "      <td> ENSG00000244734.1</td>\n",
        "      <td> HBB</td>\n",
        "      <td> chr11:5246693-5250625</td>\n",
        "      <td> q1</td>\n",
        "      <td> q2</td>\n",
        "      <td> OK</td>\n",
        "      <td> 94.3496</td>\n",
        "      <td> 12.7681</td>\n",
        "      <td>-2.88548</td>\n",
        "      <td> -3.4169</td>\n",
        "      <td> 0.0159</td>\n",
        "      <td> 0.332053</td>\n",
        "      <td> no</td>\n",
        "    </tr>\n",
        "  </tbody>\n",
        "</table>"
       ],
       "metadata": {},
       "output_type": "pyout",
       "prompt_number": 22,
       "text": [
        "<IPython.core.display.HTML at 0x1296e790>"
       ]
      }
     ],
     "prompt_number": 22
    },
    {
     "cell_type": "code",
     "collapsed": false,
     "input": [
      "genes_df[(genes_df.significant == \"yes\") & (genes_df['log2(fold_change)'] > 0)]"
     ],
     "language": "python",
     "metadata": {},
     "outputs": [
      {
       "html": [
        "<pre>\n",
        "&ltclass 'pandas.core.frame.DataFrame'&gt\n",
        "Int64Index: 207 entries, 44 to 56926\n",
        "Data columns (total 14 columns):\n",
        "test_id              207  non-null values\n",
        "gene_id              207  non-null values\n",
        "gene                 207  non-null values\n",
        "locus                207  non-null values\n",
        "sample_1             207  non-null values\n",
        "sample_2             207  non-null values\n",
        "status               207  non-null values\n",
        "value_1              207  non-null values\n",
        "value_2              207  non-null values\n",
        "log2(fold_change)    207  non-null values\n",
        "test_stat            207  non-null values\n",
        "p_value              207  non-null values\n",
        "q_value              207  non-null values\n",
        "significant          207  non-null values\n",
        "dtypes: float64(5), object(9)\n",
        "</pre>"
       ],
       "metadata": {},
       "output_type": "pyout",
       "prompt_number": 29,
       "text": [
        "<class 'pandas.core.frame.DataFrame'>\n",
        "Int64Index: 207 entries, 44 to 56926\n",
        "Data columns (total 14 columns):\n",
        "test_id              207  non-null values\n",
        "gene_id              207  non-null values\n",
        "gene                 207  non-null values\n",
        "locus                207  non-null values\n",
        "sample_1             207  non-null values\n",
        "sample_2             207  non-null values\n",
        "status               207  non-null values\n",
        "value_1              207  non-null values\n",
        "value_2              207  non-null values\n",
        "log2(fold_change)    207  non-null values\n",
        "test_stat            207  non-null values\n",
        "p_value              207  non-null values\n",
        "q_value              207  non-null values\n",
        "significant          207  non-null values\n",
        "dtypes: float64(5), object(9)"
       ]
      }
     ],
     "prompt_number": 29
    },
    {
     "cell_type": "code",
     "collapsed": false,
     "input": [
      "genes_df[(genes_df.significant == \"yes\") & (genes_df['log2(fold_change)'] < 0)]"
     ],
     "language": "python",
     "metadata": {},
     "outputs": [
      {
       "html": [
        "<pre>\n",
        "&ltclass 'pandas.core.frame.DataFrame'&gt\n",
        "Int64Index: 157 entries, 525 to 57195\n",
        "Data columns (total 14 columns):\n",
        "test_id              157  non-null values\n",
        "gene_id              157  non-null values\n",
        "gene                 157  non-null values\n",
        "locus                157  non-null values\n",
        "sample_1             157  non-null values\n",
        "sample_2             157  non-null values\n",
        "status               157  non-null values\n",
        "value_1              157  non-null values\n",
        "value_2              157  non-null values\n",
        "log2(fold_change)    157  non-null values\n",
        "test_stat            157  non-null values\n",
        "p_value              157  non-null values\n",
        "q_value              157  non-null values\n",
        "significant          157  non-null values\n",
        "dtypes: float64(5), object(9)\n",
        "</pre>"
       ],
       "metadata": {},
       "output_type": "pyout",
       "prompt_number": 30,
       "text": [
        "<class 'pandas.core.frame.DataFrame'>\n",
        "Int64Index: 157 entries, 525 to 57195\n",
        "Data columns (total 14 columns):\n",
        "test_id              157  non-null values\n",
        "gene_id              157  non-null values\n",
        "gene                 157  non-null values\n",
        "locus                157  non-null values\n",
        "sample_1             157  non-null values\n",
        "sample_2             157  non-null values\n",
        "status               157  non-null values\n",
        "value_1              157  non-null values\n",
        "value_2              157  non-null values\n",
        "log2(fold_change)    157  non-null values\n",
        "test_stat            157  non-null values\n",
        "p_value              157  non-null values\n",
        "q_value              157  non-null values\n",
        "significant          157  non-null values\n",
        "dtypes: float64(5), object(9)"
       ]
      }
     ],
     "prompt_number": 30
    },
    {
     "cell_type": "code",
     "collapsed": false,
     "input": [
      "genes_df[genes_df[\"log2(fold_change)\"] < -2]"
     ],
     "language": "python",
     "metadata": {},
     "outputs": [
      {
       "html": [
        "<pre>\n",
        "&ltclass 'pandas.core.frame.DataFrame'&gt\n",
        "Int64Index: 5968 entries, 6 to 57192\n",
        "Data columns (total 14 columns):\n",
        "test_id              5968  non-null values\n",
        "gene_id              5968  non-null values\n",
        "gene                 5968  non-null values\n",
        "locus                5968  non-null values\n",
        "sample_1             5968  non-null values\n",
        "sample_2             5968  non-null values\n",
        "status               5968  non-null values\n",
        "value_1              5968  non-null values\n",
        "value_2              5968  non-null values\n",
        "log2(fold_change)    5968  non-null values\n",
        "test_stat            5968  non-null values\n",
        "p_value              5968  non-null values\n",
        "q_value              5968  non-null values\n",
        "significant          5968  non-null values\n",
        "dtypes: float64(5), object(9)\n",
        "</pre>"
       ],
       "metadata": {},
       "output_type": "pyout",
       "prompt_number": 25,
       "text": [
        "<class 'pandas.core.frame.DataFrame'>\n",
        "Int64Index: 5968 entries, 6 to 57192\n",
        "Data columns (total 14 columns):\n",
        "test_id              5968  non-null values\n",
        "gene_id              5968  non-null values\n",
        "gene                 5968  non-null values\n",
        "locus                5968  non-null values\n",
        "sample_1             5968  non-null values\n",
        "sample_2             5968  non-null values\n",
        "status               5968  non-null values\n",
        "value_1              5968  non-null values\n",
        "value_2              5968  non-null values\n",
        "log2(fold_change)    5968  non-null values\n",
        "test_stat            5968  non-null values\n",
        "p_value              5968  non-null values\n",
        "q_value              5968  non-null values\n",
        "significant          5968  non-null values\n",
        "dtypes: float64(5), object(9)"
       ]
      }
     ],
     "prompt_number": 25
    },
    {
     "cell_type": "code",
     "collapsed": false,
     "input": [],
     "language": "python",
     "metadata": {},
     "outputs": []
    }
   ],
   "metadata": {}
  }
 ]
}