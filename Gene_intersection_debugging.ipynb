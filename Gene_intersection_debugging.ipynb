{
 "metadata": {
  "name": "Gene_intersection_debugging"
 },
 "nbformat": 3,
 "nbformat_minor": 0,
 "worksheets": [
  {
   "cells": [
    {
     "cell_type": "code",
     "collapsed": false,
     "input": [
      "import csv\n",
      "\n",
      "import pybedtools"
     ],
     "language": "python",
     "metadata": {},
     "outputs": []
    },
    {
     "cell_type": "code",
     "collapsed": false,
     "input": [
      "ensembl_ucsc = open(\"/nas3/gpratt/encode/ensGene.GRCh37.txt\")"
     ],
     "language": "python",
     "metadata": {},
     "outputs": []
    },
    {
     "cell_type": "code",
     "collapsed": false,
     "input": [
      "true_ensembl = pybedtools.BedTool(\"/nas3/yeolab/Genome/ensembl/Homo_sapiens.GRCh37.65.gff\").filter(lambda x: x[2] == \"mRNA\" or x[2] == \"transcript\").saveas()"
     ],
     "language": "python",
     "metadata": {},
     "outputs": []
    },
    {
     "cell_type": "code",
     "collapsed": false,
     "input": [
      "ensembl_ucsc_dict = {}\n",
      "for gene in csv.reader(ensembl_ucsc, delimiter=\"\\t\"):\n",
      "    ensembl_ucsc_dict[gene[1]] = gene\n",
      "        \n",
      "true_emsembl_dict = {}\n",
      "for gene in true_ensembl:\n",
      "    true_emsembl_dict[gene.attrs['ID']] = gene"
     ],
     "language": "python",
     "metadata": {},
     "outputs": []
    },
    {
     "cell_type": "code",
     "collapsed": false,
     "input": [
      "ensembl_ucsc_dict.items()[1]"
     ],
     "language": "python",
     "metadata": {},
     "outputs": []
    },
    {
     "cell_type": "code",
     "collapsed": false,
     "input": [
      "count = 0\n",
      "for gene_id, gene in true_emsembl_dict.items():\n",
      "    try:\n",
      "        ucsc_ensembl_gene = ensembl_ucsc_dict[gene_id]\n",
      "        if not (\"chr\" + gene.chrom == ucsc_ensembl_gene[2] and str(gene.start) == ucsc_ensembl_gene[4] and str(gene.end) == ucsc_ensembl_gene[5]):\n",
      "            count +=1 \n",
      "            print \"chr\" + gene.chrom, ucsc_ensembl_gene[2], gene.start, ucsc_ensembl_gene[4], gene.end, ucsc_ensembl_gene[5]\n",
      "    except:\n",
      "        count +=1\n",
      "    "
     ],
     "language": "python",
     "metadata": {},
     "outputs": []
    },
    {
     "cell_type": "code",
     "collapsed": false,
     "input": [
      "count"
     ],
     "language": "python",
     "metadata": {},
     "outputs": []
    },
    {
     "cell_type": "code",
     "collapsed": false,
     "input": [
      "import gffutils\n",
      "db_fn = '/nas3/yeolab/Genome/ensembl/gtf/gencode.v17.annotation.gtf.db'\n",
      "db = gffutils.FeatureDB(db_fn)"
     ],
     "language": "python",
     "metadata": {},
     "outputs": [
      {
       "ename": "TypeError",
       "evalue": "'NoneType' object has no attribute '__getitem__'",
       "output_type": "pyerr",
       "traceback": [
        "\u001b[1;31m---------------------------------------------------------------------------\u001b[0m\n\u001b[1;31mTypeError\u001b[0m                                 Traceback (most recent call last)",
        "\u001b[1;32m<ipython-input-7-2a98c2dd54a8>\u001b[0m in \u001b[0;36m<module>\u001b[1;34m()\u001b[0m\n\u001b[0;32m      1\u001b[0m \u001b[1;32mimport\u001b[0m \u001b[0mgffutils\u001b[0m\u001b[1;33m\u001b[0m\u001b[0m\n\u001b[0;32m      2\u001b[0m \u001b[0mdb_fn\u001b[0m \u001b[1;33m=\u001b[0m \u001b[1;34m'/nas3/yeolab/Genome/ensembl/gtf/gencode.v17.annotation.gtf.db'\u001b[0m\u001b[1;33m\u001b[0m\u001b[0m\n\u001b[1;32m----> 3\u001b[1;33m \u001b[0mdb\u001b[0m \u001b[1;33m=\u001b[0m \u001b[0mgffutils\u001b[0m\u001b[1;33m.\u001b[0m\u001b[0mFeatureDB\u001b[0m\u001b[1;33m(\u001b[0m\u001b[0mdb_fn\u001b[0m\u001b[1;33m)\u001b[0m\u001b[1;33m\u001b[0m\u001b[0m\n\u001b[0m",
        "\u001b[1;32m/nas3/yeolab/Software/Python-2.7.5/lib/python2.7/site-packages/gffutils-0.7-py2.7-linux-x86_64.egg/gffutils/db.pyc\u001b[0m in \u001b[0;36m__init__\u001b[1;34m(self, db_fn)\u001b[0m\n\u001b[0;32m    420\u001b[0m             \u001b[0mSELECT\u001b[0m \u001b[0mfiletype\u001b[0m \u001b[0mFROM\u001b[0m \u001b[0mmeta\u001b[0m\u001b[1;33m\u001b[0m\u001b[0m\n\u001b[0;32m    421\u001b[0m             ''')\n\u001b[1;32m--> 422\u001b[1;33m             \u001b[0mself\u001b[0m\u001b[1;33m.\u001b[0m\u001b[0mfiletype\u001b[0m \u001b[1;33m=\u001b[0m \u001b[0mc\u001b[0m\u001b[1;33m.\u001b[0m\u001b[0mfetchone\u001b[0m\u001b[1;33m(\u001b[0m\u001b[1;33m)\u001b[0m\u001b[1;33m[\u001b[0m\u001b[1;36m0\u001b[0m\u001b[1;33m]\u001b[0m\u001b[1;33m\u001b[0m\u001b[0m\n\u001b[0m\u001b[0;32m    423\u001b[0m         \u001b[1;32mexcept\u001b[0m \u001b[0msqlite3\u001b[0m\u001b[1;33m.\u001b[0m\u001b[0mOperationalError\u001b[0m\u001b[1;33m:\u001b[0m\u001b[1;33m\u001b[0m\u001b[0m\n\u001b[0;32m    424\u001b[0m             \u001b[0mc\u001b[0m\u001b[1;33m.\u001b[0m\u001b[0mexecute\u001b[0m\u001b[1;33m(\u001b[0m\u001b[0mself\u001b[0m\u001b[1;33m.\u001b[0m\u001b[0mSELECT\u001b[0m \u001b[1;33m+\u001b[0m \u001b[1;34m' FROM features LIMIT 1'\u001b[0m\u001b[1;33m)\u001b[0m\u001b[1;33m\u001b[0m\u001b[0m\n",
        "\u001b[1;31mTypeError\u001b[0m: 'NoneType' object has no attribute '__getitem__'"
       ]
      }
     ],
     "prompt_number": 7
    },
    {
     "cell_type": "code",
     "collapsed": false,
     "input": [
      "gffutils.create_db(\"/nas3/yeolab/Genome/ensembl/gtf/gencode.v17.annotation.gtf\", \"foo.db\")"
     ],
     "language": "python",
     "metadata": {},
     "outputs": [
      {
       "output_type": "stream",
       "stream": "stderr",
       "text": [
        "Populating features and relations tables..."
       ]
      },
      {
       "output_type": "stream",
       "stream": "stderr",
       "text": [
        "\r",
        "Populating features and relations table: 26106 (1%) "
       ]
      },
      {
       "output_type": "stream",
       "stream": "stderr",
       "text": [
        "\r",
        "Populating features and relations table: 52211 (2%) "
       ]
      },
      {
       "output_type": "stream",
       "stream": "stderr",
       "text": [
        "\r",
        "Populating features and relations table: 78316 (3%) "
       ]
      },
      {
       "output_type": "stream",
       "stream": "stderr",
       "text": [
        "\r",
        "Populating features and relations table: 104421 (4%) "
       ]
      },
      {
       "output_type": "stream",
       "stream": "stderr",
       "text": [
        "\r",
        "Populating features and relations table: 130526 (5%) "
       ]
      },
      {
       "output_type": "stream",
       "stream": "stderr",
       "text": [
        "\r",
        "Populating features and relations table: 156631 (6%) "
       ]
      },
      {
       "output_type": "stream",
       "stream": "stderr",
       "text": [
        "\r",
        "Populating features and relations table: 182736 (7%) "
       ]
      },
      {
       "output_type": "stream",
       "stream": "stderr",
       "text": [
        "\r",
        "Populating features and relations table: 208841 (8%) "
       ]
      },
      {
       "output_type": "stream",
       "stream": "stderr",
       "text": [
        "\r",
        "Populating features and relations table: 234946 (9%) "
       ]
      },
      {
       "output_type": "stream",
       "stream": "stderr",
       "text": [
        "\r",
        "Populating features and relations table: 261052 (10%) "
       ]
      },
      {
       "output_type": "stream",
       "stream": "stderr",
       "text": [
        "\r",
        "Populating features and relations table: 287157 (11%) "
       ]
      },
      {
       "output_type": "stream",
       "stream": "stderr",
       "text": [
        "\r",
        "Populating features and relations table: 313262 (12%) "
       ]
      },
      {
       "output_type": "stream",
       "stream": "stderr",
       "text": [
        "\r",
        "Populating features and relations table: 339367 (13%) "
       ]
      },
      {
       "output_type": "stream",
       "stream": "stderr",
       "text": [
        "\r",
        "Populating features and relations table: 365472 (14%) "
       ]
      },
      {
       "output_type": "stream",
       "stream": "stderr",
       "text": [
        "\r",
        "Populating features and relations table: 391577 (15%) "
       ]
      },
      {
       "output_type": "stream",
       "stream": "stderr",
       "text": [
        "\r",
        "Populating features and relations table: 417682 (16%) "
       ]
      },
      {
       "output_type": "stream",
       "stream": "stderr",
       "text": [
        "\r",
        "Populating features and relations table: 443787 (17%) "
       ]
      },
      {
       "output_type": "stream",
       "stream": "stderr",
       "text": [
        "\r",
        "Populating features and relations table: 469892 (18%) "
       ]
      },
      {
       "output_type": "stream",
       "stream": "stderr",
       "text": [
        "\r",
        "Populating features and relations table: 495998 (19%) "
       ]
      },
      {
       "output_type": "stream",
       "stream": "stderr",
       "text": [
        "\r",
        "Populating features and relations table: 522103 (20%) "
       ]
      },
      {
       "output_type": "stream",
       "stream": "stderr",
       "text": [
        "\r",
        "Populating features and relations table: 548208 (21%) "
       ]
      },
      {
       "output_type": "stream",
       "stream": "stderr",
       "text": [
        "\r",
        "Populating features and relations table: 574313 (22%) "
       ]
      },
      {
       "output_type": "stream",
       "stream": "stderr",
       "text": [
        "\r",
        "Populating features and relations table: 600418 (23%) "
       ]
      },
      {
       "output_type": "stream",
       "stream": "stderr",
       "text": [
        "\r",
        "Populating features and relations table: 626523 (24%) "
       ]
      },
      {
       "output_type": "stream",
       "stream": "stderr",
       "text": [
        "\r",
        "Populating features and relations table: 652628 (25%) "
       ]
      },
      {
       "output_type": "stream",
       "stream": "stderr",
       "text": [
        "\r",
        "Populating features and relations table: 678733 (26%) "
       ]
      },
      {
       "output_type": "stream",
       "stream": "stderr",
       "text": [
        "\r",
        "Populating features and relations table: 704838 (27%) "
       ]
      },
      {
       "output_type": "stream",
       "stream": "stderr",
       "text": [
        "\r",
        "Populating features and relations table: 730944 (28%) "
       ]
      },
      {
       "output_type": "stream",
       "stream": "stderr",
       "text": [
        "\r",
        "Populating features and relations table: 757049 (29%) "
       ]
      },
      {
       "output_type": "stream",
       "stream": "stderr",
       "text": [
        "\r",
        "Populating features and relations table: 783154 (30%) "
       ]
      },
      {
       "output_type": "stream",
       "stream": "stderr",
       "text": [
        "\r",
        "Populating features and relations table: 809259 (31%) "
       ]
      },
      {
       "output_type": "stream",
       "stream": "stderr",
       "text": [
        "\r",
        "Populating features and relations table: 835364 (32%) "
       ]
      },
      {
       "output_type": "stream",
       "stream": "stderr",
       "text": [
        "\r",
        "Populating features and relations table: 861469 (33%) "
       ]
      },
      {
       "output_type": "stream",
       "stream": "stderr",
       "text": [
        "\r",
        "Populating features and relations table: 887574 (34%) "
       ]
      },
      {
       "output_type": "stream",
       "stream": "stderr",
       "text": [
        "\r",
        "Populating features and relations table: 913679 (35%) "
       ]
      },
      {
       "output_type": "stream",
       "stream": "stderr",
       "text": [
        "\r",
        "Populating features and relations table: 939784 (36%) "
       ]
      },
      {
       "output_type": "stream",
       "stream": "stderr",
       "text": [
        "\r",
        "Populating features and relations table: 965890 (37%) "
       ]
      },
      {
       "output_type": "stream",
       "stream": "stderr",
       "text": [
        "\r",
        "Populating features and relations table: 991995 (38%) "
       ]
      },
      {
       "output_type": "stream",
       "stream": "stderr",
       "text": [
        "\r",
        "Populating features and relations table: 1018100 (39%) "
       ]
      },
      {
       "output_type": "stream",
       "stream": "stderr",
       "text": [
        "\r",
        "Populating features and relations table: 1044205 (40%) "
       ]
      },
      {
       "output_type": "stream",
       "stream": "stderr",
       "text": [
        "\r",
        "Populating features and relations table: 1070310 (41%) "
       ]
      },
      {
       "output_type": "stream",
       "stream": "stderr",
       "text": [
        "\r",
        "Populating features and relations table: 1096415 (42%) "
       ]
      },
      {
       "output_type": "stream",
       "stream": "stderr",
       "text": [
        "\r",
        "Populating features and relations table: 1122520 (43%) "
       ]
      },
      {
       "output_type": "stream",
       "stream": "stderr",
       "text": [
        "\r",
        "Populating features and relations table: 1148625 (44%) "
       ]
      },
      {
       "output_type": "stream",
       "stream": "stderr",
       "text": [
        "\r",
        "Populating features and relations table: 1174730 (45%) "
       ]
      },
      {
       "output_type": "stream",
       "stream": "stderr",
       "text": [
        "\r",
        "Populating features and relations table: 1200836 (46%) "
       ]
      },
      {
       "output_type": "stream",
       "stream": "stderr",
       "text": [
        "\r",
        "Populating features and relations table: 1226941 (47%) "
       ]
      },
      {
       "output_type": "stream",
       "stream": "stderr",
       "text": [
        "\r",
        "Populating features and relations table: 1253046 (48%) "
       ]
      },
      {
       "output_type": "stream",
       "stream": "stderr",
       "text": [
        "\r",
        "Populating features and relations table: 1279151 (49%) "
       ]
      },
      {
       "output_type": "stream",
       "stream": "stderr",
       "text": [
        "\r",
        "Populating features and relations table: 1305256 (50%) "
       ]
      },
      {
       "output_type": "stream",
       "stream": "stderr",
       "text": [
        "\r",
        "Populating features and relations table: 1331361 (51%) "
       ]
      },
      {
       "output_type": "stream",
       "stream": "stderr",
       "text": [
        "\r",
        "Populating features and relations table: 1357466 (52%) "
       ]
      },
      {
       "output_type": "stream",
       "stream": "stderr",
       "text": [
        "\r",
        "Populating features and relations table: 1383571 (53%) "
       ]
      },
      {
       "output_type": "stream",
       "stream": "stderr",
       "text": [
        "\r",
        "Populating features and relations table: 1409676 (54%) "
       ]
      },
      {
       "output_type": "stream",
       "stream": "stderr",
       "text": [
        "\r",
        "Populating features and relations table: 1435782 (55%) "
       ]
      },
      {
       "output_type": "stream",
       "stream": "stderr",
       "text": [
        "\r",
        "Populating features and relations table: 1461887 (56%) "
       ]
      },
      {
       "output_type": "stream",
       "stream": "stderr",
       "text": [
        "\r",
        "Populating features and relations table: 1487992 (57%) "
       ]
      },
      {
       "output_type": "stream",
       "stream": "stderr",
       "text": [
        "\r",
        "Populating features and relations table: 1514097 (58%) "
       ]
      },
      {
       "output_type": "stream",
       "stream": "stderr",
       "text": [
        "\r",
        "Populating features and relations table: 1540202 (59%) "
       ]
      },
      {
       "output_type": "stream",
       "stream": "stderr",
       "text": [
        "\r",
        "Populating features and relations table: 1566307 (60%) "
       ]
      },
      {
       "output_type": "stream",
       "stream": "stderr",
       "text": [
        "\r",
        "Populating features and relations table: 1592412 (61%) "
       ]
      },
      {
       "output_type": "stream",
       "stream": "stderr",
       "text": [
        "\r",
        "Populating features and relations table: 1618517 (62%) "
       ]
      },
      {
       "output_type": "stream",
       "stream": "stderr",
       "text": [
        "\r",
        "Populating features and relations table: 1644622 (63%) "
       ]
      },
      {
       "output_type": "stream",
       "stream": "stderr",
       "text": [
        "\r",
        "Populating features and relations table: 1670728 (64%) "
       ]
      },
      {
       "output_type": "stream",
       "stream": "stderr",
       "text": [
        "\r",
        "Populating features and relations table: 1696833 (65%) "
       ]
      },
      {
       "output_type": "stream",
       "stream": "stderr",
       "text": [
        "\r",
        "Populating features and relations table: 1722938 (66%) "
       ]
      },
      {
       "output_type": "stream",
       "stream": "stderr",
       "text": [
        "\r",
        "Populating features and relations table: 1749043 (67%) "
       ]
      },
      {
       "output_type": "stream",
       "stream": "stderr",
       "text": [
        "\r",
        "Populating features and relations table: 1775148 (68%) "
       ]
      },
      {
       "output_type": "stream",
       "stream": "stderr",
       "text": [
        "\r",
        "Populating features and relations table: 1801253 (69%) "
       ]
      },
      {
       "output_type": "stream",
       "stream": "stderr",
       "text": [
        "\r",
        "Populating features and relations table: 1827358 (70%) "
       ]
      },
      {
       "output_type": "stream",
       "stream": "stderr",
       "text": [
        "\r",
        "Populating features and relations table: 1853463 (71%) "
       ]
      },
      {
       "output_type": "stream",
       "stream": "stderr",
       "text": [
        "\r",
        "Populating features and relations table: 1879568 (72%) "
       ]
      },
      {
       "output_type": "stream",
       "stream": "stderr",
       "text": [
        "\r",
        "Populating features and relations table: 1905674 (73%) "
       ]
      },
      {
       "output_type": "stream",
       "stream": "stderr",
       "text": [
        "\r",
        "Populating features and relations table: 1931779 (74%) "
       ]
      },
      {
       "output_type": "stream",
       "stream": "stderr",
       "text": [
        "\r",
        "Populating features and relations table: 1957884 (75%) "
       ]
      },
      {
       "output_type": "stream",
       "stream": "stderr",
       "text": [
        "\r",
        "Populating features and relations table: 1983989 (76%) "
       ]
      },
      {
       "output_type": "stream",
       "stream": "stderr",
       "text": [
        "\r",
        "Populating features and relations table: 2010094 (77%) "
       ]
      },
      {
       "output_type": "stream",
       "stream": "stderr",
       "text": [
        "\r",
        "Populating features and relations table: 2036199 (78%) "
       ]
      },
      {
       "output_type": "stream",
       "stream": "stderr",
       "text": [
        "\r",
        "Populating features and relations table: 2062304 (79%) "
       ]
      },
      {
       "output_type": "stream",
       "stream": "stderr",
       "text": [
        "\r",
        "Populating features and relations table: 2088409 (80%) "
       ]
      },
      {
       "output_type": "stream",
       "stream": "stderr",
       "text": [
        "\r",
        "Populating features and relations table: 2114514 (81%) "
       ]
      },
      {
       "output_type": "stream",
       "stream": "stderr",
       "text": [
        "\r",
        "Populating features and relations table: 2140620 (82%) "
       ]
      },
      {
       "output_type": "stream",
       "stream": "stderr",
       "text": [
        "\r",
        "Populating features and relations table: 2166725 (83%) "
       ]
      },
      {
       "output_type": "stream",
       "stream": "stderr",
       "text": [
        "\r",
        "Populating features and relations table: 2192830 (84%) "
       ]
      },
      {
       "output_type": "stream",
       "stream": "stderr",
       "text": [
        "\r",
        "Populating features and relations table: 2218935 (85%) "
       ]
      },
      {
       "output_type": "stream",
       "stream": "stderr",
       "text": [
        "\r",
        "Populating features and relations table: 2245040 (86%) "
       ]
      },
      {
       "output_type": "stream",
       "stream": "stderr",
       "text": [
        "\r",
        "Populating features and relations table: 2271145 (87%) "
       ]
      },
      {
       "output_type": "stream",
       "stream": "stderr",
       "text": [
        "\r",
        "Populating features and relations table: 2297250 (88%) "
       ]
      },
      {
       "output_type": "stream",
       "stream": "stderr",
       "text": [
        "\r",
        "Populating features and relations table: 2323355 (89%) "
       ]
      },
      {
       "output_type": "stream",
       "stream": "stderr",
       "text": [
        "\r",
        "Populating features and relations table: 2349460 (90%) "
       ]
      },
      {
       "output_type": "stream",
       "stream": "stderr",
       "text": [
        "\r",
        "Populating features and relations table: 2375566 (91%) "
       ]
      },
      {
       "output_type": "stream",
       "stream": "stderr",
       "text": [
        "\r",
        "Populating features and relations table: 2401671 (92%) "
       ]
      },
      {
       "output_type": "stream",
       "stream": "stderr",
       "text": [
        "\r",
        "Populating features and relations table: 2427776 (93%) "
       ]
      },
      {
       "output_type": "stream",
       "stream": "stderr",
       "text": [
        "\r",
        "Populating features and relations table: 2453881 (94%) "
       ]
      },
      {
       "output_type": "stream",
       "stream": "stderr",
       "text": [
        "\r",
        "Populating features and relations table: 2479986 (95%) "
       ]
      },
      {
       "output_type": "stream",
       "stream": "stderr",
       "text": [
        "\r",
        "Populating features and relations table: 2506091 (96%) "
       ]
      },
      {
       "output_type": "stream",
       "stream": "stderr",
       "text": [
        "\r",
        "Populating features and relations table: 2532196 (97%) "
       ]
      },
      {
       "output_type": "stream",
       "stream": "stderr",
       "text": [
        "\r",
        "Populating features and relations table: 2558301 (98%) "
       ]
      },
      {
       "output_type": "stream",
       "stream": "stderr",
       "text": [
        "\r",
        "Populating features and relations table: 2584406 (99%) "
       ]
      },
      {
       "output_type": "stream",
       "stream": "stderr",
       "text": [
        "done in 871.0s\n"
       ]
      },
      {
       "output_type": "stream",
       "stream": "stderr",
       "text": [
        "Creating temporary indexes..."
       ]
      },
      {
       "output_type": "stream",
       "stream": "stderr",
       "text": [
        "done in 287.3s\n"
       ]
      },
      {
       "output_type": "stream",
       "stream": "stderr",
       "text": [
        "Inferring gene and transcript extents; saving unique to tempfile... "
       ]
      },
      {
       "output_type": "stream",
       "stream": "stderr",
       "text": [
        "\r",
        "Inferring gene and transcript extents: 2522 (1%)..."
       ]
      },
      {
       "output_type": "stream",
       "stream": "stderr",
       "text": [
        "\r",
        "Inferring gene and transcript extents: 5044 (2%)..."
       ]
      },
      {
       "output_type": "stream",
       "stream": "stderr",
       "text": [
        "\r",
        "Inferring gene and transcript extents: 7565 (3%)..."
       ]
      },
      {
       "output_type": "stream",
       "stream": "stderr",
       "text": [
        "\r",
        "Inferring gene and transcript extents: 10087 (4%)..."
       ]
      },
      {
       "output_type": "stream",
       "stream": "stderr",
       "text": [
        "\r",
        "Inferring gene and transcript extents: 12608 (5%)..."
       ]
      },
      {
       "output_type": "stream",
       "stream": "stderr",
       "text": [
        "\r",
        "Inferring gene and transcript extents: 15130 (6%)..."
       ]
      },
      {
       "output_type": "stream",
       "stream": "stderr",
       "text": [
        "\r",
        "Inferring gene and transcript extents: 17651 (7%)..."
       ]
      },
      {
       "output_type": "stream",
       "stream": "stderr",
       "text": [
        "\r",
        "Inferring gene and transcript extents: 20173 (8%)..."
       ]
      },
      {
       "output_type": "stream",
       "stream": "stderr",
       "text": [
        "\r",
        "Inferring gene and transcript extents: 22694 (9%)..."
       ]
      },
      {
       "output_type": "stream",
       "stream": "stderr",
       "text": [
        "\r",
        "Inferring gene and transcript extents: 25216 (10%)..."
       ]
      },
      {
       "output_type": "stream",
       "stream": "stderr",
       "text": [
        "\r",
        "Inferring gene and transcript extents: 27737 (11%)..."
       ]
      },
      {
       "output_type": "stream",
       "stream": "stderr",
       "text": [
        "\r",
        "Inferring gene and transcript extents: 30259 (12%)..."
       ]
      },
      {
       "output_type": "stream",
       "stream": "stderr",
       "text": [
        "\r",
        "Inferring gene and transcript extents: 32780 (13%)..."
       ]
      },
      {
       "output_type": "stream",
       "stream": "stderr",
       "text": [
        "\r",
        "Inferring gene and transcript extents: 35302 (14%)..."
       ]
      },
      {
       "output_type": "stream",
       "stream": "stderr",
       "text": [
        "\r",
        "Inferring gene and transcript extents: 37823 (15%)..."
       ]
      },
      {
       "output_type": "stream",
       "stream": "stderr",
       "text": [
        "\r",
        "Inferring gene and transcript extents: 40345 (16%)..."
       ]
      },
      {
       "output_type": "stream",
       "stream": "stderr",
       "text": [
        "\r",
        "Inferring gene and transcript extents: 42866 (17%)..."
       ]
      },
      {
       "output_type": "stream",
       "stream": "stderr",
       "text": [
        "\r",
        "Inferring gene and transcript extents: 45388 (18%)..."
       ]
      },
      {
       "output_type": "stream",
       "stream": "stderr",
       "text": [
        "\r",
        "Inferring gene and transcript extents: 47909 (19%)..."
       ]
      },
      {
       "output_type": "stream",
       "stream": "stderr",
       "text": [
        "\r",
        "Inferring gene and transcript extents: 50431 (20%)..."
       ]
      },
      {
       "output_type": "stream",
       "stream": "stderr",
       "text": [
        "\r",
        "Inferring gene and transcript extents: 52952 (21%)..."
       ]
      },
      {
       "output_type": "stream",
       "stream": "stderr",
       "text": [
        "\r",
        "Inferring gene and transcript extents: 55474 (22%)..."
       ]
      },
      {
       "output_type": "stream",
       "stream": "stderr",
       "text": [
        "\r",
        "Inferring gene and transcript extents: 57995 (23%)..."
       ]
      },
      {
       "output_type": "stream",
       "stream": "stderr",
       "text": [
        "\r",
        "Inferring gene and transcript extents: 60517 (24%)..."
       ]
      },
      {
       "output_type": "stream",
       "stream": "stderr",
       "text": [
        "\r",
        "Inferring gene and transcript extents: 63038 (25%)..."
       ]
      },
      {
       "output_type": "stream",
       "stream": "stderr",
       "text": [
        "\r",
        "Inferring gene and transcript extents: 65560 (26%)..."
       ]
      },
      {
       "output_type": "stream",
       "stream": "stderr",
       "text": [
        "\r",
        "Inferring gene and transcript extents: 68082 (27%)..."
       ]
      },
      {
       "output_type": "stream",
       "stream": "stderr",
       "text": [
        "\r",
        "Inferring gene and transcript extents: 70603 (28%)..."
       ]
      },
      {
       "output_type": "stream",
       "stream": "stderr",
       "text": [
        "\r",
        "Inferring gene and transcript extents: 73125 (29%)..."
       ]
      },
      {
       "output_type": "stream",
       "stream": "stderr",
       "text": [
        "\r",
        "Inferring gene and transcript extents: 75646 (30%)..."
       ]
      },
      {
       "output_type": "stream",
       "stream": "stderr",
       "text": [
        "\r",
        "Inferring gene and transcript extents: 78168 (31%)..."
       ]
      },
      {
       "output_type": "stream",
       "stream": "stderr",
       "text": [
        "\r",
        "Inferring gene and transcript extents: 80689 (32%)..."
       ]
      },
      {
       "output_type": "stream",
       "stream": "stderr",
       "text": [
        "\r",
        "Inferring gene and transcript extents: 83211 (33%)..."
       ]
      },
      {
       "output_type": "stream",
       "stream": "stderr",
       "text": [
        "\r",
        "Inferring gene and transcript extents: 85732 (34%)..."
       ]
      },
      {
       "output_type": "stream",
       "stream": "stderr",
       "text": [
        "\r",
        "Inferring gene and transcript extents: 88254 (35%)..."
       ]
      },
      {
       "output_type": "stream",
       "stream": "stderr",
       "text": [
        "\r",
        "Inferring gene and transcript extents: 90775 (36%)..."
       ]
      },
      {
       "output_type": "stream",
       "stream": "stderr",
       "text": [
        "\r",
        "Inferring gene and transcript extents: 93297 (37%)..."
       ]
      },
      {
       "output_type": "stream",
       "stream": "stderr",
       "text": [
        "\r",
        "Inferring gene and transcript extents: 95818 (38%)..."
       ]
      },
      {
       "output_type": "stream",
       "stream": "stderr",
       "text": [
        "\r",
        "Inferring gene and transcript extents: 98340 (39%)..."
       ]
      },
      {
       "output_type": "stream",
       "stream": "stderr",
       "text": [
        "\r",
        "Inferring gene and transcript extents: 100861 (40%)..."
       ]
      },
      {
       "output_type": "stream",
       "stream": "stderr",
       "text": [
        "\r",
        "Inferring gene and transcript extents: 103383 (41%)..."
       ]
      },
      {
       "output_type": "stream",
       "stream": "stderr",
       "text": [
        "\r",
        "Inferring gene and transcript extents: 105904 (42%)..."
       ]
      },
      {
       "output_type": "stream",
       "stream": "stderr",
       "text": [
        "\r",
        "Inferring gene and transcript extents: 108426 (43%)..."
       ]
      },
      {
       "output_type": "stream",
       "stream": "stderr",
       "text": [
        "\r",
        "Inferring gene and transcript extents: 110947 (44%)..."
       ]
      },
      {
       "output_type": "stream",
       "stream": "stderr",
       "text": [
        "\r",
        "Inferring gene and transcript extents: 113469 (45%)..."
       ]
      },
      {
       "output_type": "stream",
       "stream": "stderr",
       "text": [
        "\r",
        "Inferring gene and transcript extents: 115990 (46%)..."
       ]
      },
      {
       "output_type": "stream",
       "stream": "stderr",
       "text": [
        "\r",
        "Inferring gene and transcript extents: 118512 (47%)..."
       ]
      },
      {
       "output_type": "stream",
       "stream": "stderr",
       "text": [
        "\r",
        "Inferring gene and transcript extents: 121033 (48%)..."
       ]
      },
      {
       "output_type": "stream",
       "stream": "stderr",
       "text": [
        "\r",
        "Inferring gene and transcript extents: 123555 (49%)..."
       ]
      },
      {
       "output_type": "stream",
       "stream": "stderr",
       "text": [
        "\r",
        "Inferring gene and transcript extents: 126076 (50%)..."
       ]
      },
      {
       "output_type": "stream",
       "stream": "stderr",
       "text": [
        "\r",
        "Inferring gene and transcript extents: 128598 (51%)..."
       ]
      },
      {
       "output_type": "stream",
       "stream": "stderr",
       "text": [
        "\r",
        "Inferring gene and transcript extents: 131120 (52%)..."
       ]
      },
      {
       "output_type": "stream",
       "stream": "stderr",
       "text": [
        "\r",
        "Inferring gene and transcript extents: 133641 (53%)..."
       ]
      },
      {
       "output_type": "stream",
       "stream": "stderr",
       "text": [
        "\r",
        "Inferring gene and transcript extents: 136163 (54%)..."
       ]
      },
      {
       "output_type": "stream",
       "stream": "stderr",
       "text": [
        "\r",
        "Inferring gene and transcript extents: 138684 (55%)..."
       ]
      },
      {
       "output_type": "stream",
       "stream": "stderr",
       "text": [
        "\r",
        "Inferring gene and transcript extents: 141206 (56%)..."
       ]
      },
      {
       "output_type": "stream",
       "stream": "stderr",
       "text": [
        "\r",
        "Inferring gene and transcript extents: 143727 (57%)..."
       ]
      },
      {
       "output_type": "stream",
       "stream": "stderr",
       "text": [
        "\r",
        "Inferring gene and transcript extents: 146249 (58%)..."
       ]
      },
      {
       "output_type": "stream",
       "stream": "stderr",
       "text": [
        "\r",
        "Inferring gene and transcript extents: 148770 (59%)..."
       ]
      },
      {
       "output_type": "stream",
       "stream": "stderr",
       "text": [
        "\r",
        "Inferring gene and transcript extents: 151292 (60%)..."
       ]
      },
      {
       "output_type": "stream",
       "stream": "stderr",
       "text": [
        "\r",
        "Inferring gene and transcript extents: 153813 (61%)..."
       ]
      },
      {
       "output_type": "stream",
       "stream": "stderr",
       "text": [
        "\r",
        "Inferring gene and transcript extents: 156335 (62%)..."
       ]
      },
      {
       "output_type": "stream",
       "stream": "stderr",
       "text": [
        "\r",
        "Inferring gene and transcript extents: 158856 (63%)..."
       ]
      },
      {
       "output_type": "stream",
       "stream": "stderr",
       "text": [
        "\r",
        "Inferring gene and transcript extents: 161378 (64%)..."
       ]
      },
      {
       "output_type": "stream",
       "stream": "stderr",
       "text": [
        "\r",
        "Inferring gene and transcript extents: 163899 (65%)..."
       ]
      },
      {
       "output_type": "stream",
       "stream": "stderr",
       "text": [
        "\r",
        "Inferring gene and transcript extents: 166421 (66%)..."
       ]
      },
      {
       "output_type": "stream",
       "stream": "stderr",
       "text": [
        "\r",
        "Inferring gene and transcript extents: 168942 (67%)..."
       ]
      },
      {
       "output_type": "stream",
       "stream": "stderr",
       "text": [
        "\r",
        "Inferring gene and transcript extents: 171464 (68%)..."
       ]
      },
      {
       "output_type": "stream",
       "stream": "stderr",
       "text": [
        "\r",
        "Inferring gene and transcript extents: 173985 (69%)..."
       ]
      },
      {
       "output_type": "stream",
       "stream": "stderr",
       "text": [
        "\r",
        "Inferring gene and transcript extents: 176507 (70%)..."
       ]
      },
      {
       "output_type": "stream",
       "stream": "stderr",
       "text": [
        "\r",
        "Inferring gene and transcript extents: 179028 (71%)..."
       ]
      },
      {
       "output_type": "stream",
       "stream": "stderr",
       "text": [
        "\r",
        "Inferring gene and transcript extents: 181550 (72%)..."
       ]
      },
      {
       "output_type": "stream",
       "stream": "stderr",
       "text": [
        "\r",
        "Inferring gene and transcript extents: 184071 (73%)..."
       ]
      },
      {
       "output_type": "stream",
       "stream": "stderr",
       "text": [
        "\r",
        "Inferring gene and transcript extents: 186593 (74%)..."
       ]
      },
      {
       "output_type": "stream",
       "stream": "stderr",
       "text": [
        "\r",
        "Inferring gene and transcript extents: 189114 (75%)..."
       ]
      },
      {
       "output_type": "stream",
       "stream": "stderr",
       "text": [
        "\r",
        "Inferring gene and transcript extents: 191636 (76%)..."
       ]
      },
      {
       "output_type": "stream",
       "stream": "stderr",
       "text": [
        "\r",
        "Inferring gene and transcript extents: 194158 (77%)..."
       ]
      },
      {
       "output_type": "stream",
       "stream": "stderr",
       "text": [
        "\r",
        "Inferring gene and transcript extents: 196679 (78%)..."
       ]
      },
      {
       "output_type": "stream",
       "stream": "stderr",
       "text": [
        "\r",
        "Inferring gene and transcript extents: 199201 (79%)..."
       ]
      },
      {
       "output_type": "stream",
       "stream": "stderr",
       "text": [
        "\r",
        "Inferring gene and transcript extents: 201722 (80%)..."
       ]
      },
      {
       "output_type": "stream",
       "stream": "stderr",
       "text": [
        "\r",
        "Inferring gene and transcript extents: 204244 (81%)..."
       ]
      },
      {
       "output_type": "stream",
       "stream": "stderr",
       "text": [
        "\r",
        "Inferring gene and transcript extents: 206765 (82%)..."
       ]
      },
      {
       "output_type": "stream",
       "stream": "stderr",
       "text": [
        "\r",
        "Inferring gene and transcript extents: 209287 (83%)..."
       ]
      },
      {
       "output_type": "stream",
       "stream": "stderr",
       "text": [
        "\r",
        "Inferring gene and transcript extents: 211808 (84%)..."
       ]
      },
      {
       "output_type": "stream",
       "stream": "stderr",
       "text": [
        "\r",
        "Inferring gene and transcript extents: 214330 (85%)..."
       ]
      },
      {
       "output_type": "stream",
       "stream": "stderr",
       "text": [
        "\r",
        "Inferring gene and transcript extents: 216851 (86%)..."
       ]
      },
      {
       "output_type": "stream",
       "stream": "stderr",
       "text": [
        "\r",
        "Inferring gene and transcript extents: 219373 (87%)..."
       ]
      },
      {
       "output_type": "stream",
       "stream": "stderr",
       "text": [
        "\r",
        "Inferring gene and transcript extents: 221894 (88%)..."
       ]
      },
      {
       "output_type": "stream",
       "stream": "stderr",
       "text": [
        "\r",
        "Inferring gene and transcript extents: 224416 (89%)..."
       ]
      },
      {
       "output_type": "stream",
       "stream": "stderr",
       "text": [
        "\r",
        "Inferring gene and transcript extents: 226937 (90%)..."
       ]
      },
      {
       "output_type": "stream",
       "stream": "stderr",
       "text": [
        "\r",
        "Inferring gene and transcript extents: 229459 (91%)..."
       ]
      },
      {
       "output_type": "stream",
       "stream": "stderr",
       "text": [
        "\r",
        "Inferring gene and transcript extents: 231980 (92%)..."
       ]
      },
      {
       "output_type": "stream",
       "stream": "stderr",
       "text": [
        "\r",
        "Inferring gene and transcript extents: 234502 (93%)..."
       ]
      },
      {
       "output_type": "stream",
       "stream": "stderr",
       "text": [
        "\r",
        "Inferring gene and transcript extents: 237023 (94%)..."
       ]
      },
      {
       "output_type": "stream",
       "stream": "stderr",
       "text": [
        "\r",
        "Inferring gene and transcript extents: 239545 (95%)..."
       ]
      },
      {
       "output_type": "stream",
       "stream": "stderr",
       "text": [
        "\r",
        "Inferring gene and transcript extents: 242066 (96%)..."
       ]
      },
      {
       "output_type": "stream",
       "stream": "stderr",
       "text": [
        "\r",
        "Inferring gene and transcript extents: 244588 (97%)..."
       ]
      },
      {
       "output_type": "stream",
       "stream": "stderr",
       "text": [
        "\r",
        "Inferring gene and transcript extents: 247109 (98%)..."
       ]
      },
      {
       "output_type": "stream",
       "stream": "stderr",
       "text": [
        "\r",
        "Inferring gene and transcript extents: 249631 (99%)..."
       ]
      },
      {
       "output_type": "stream",
       "stream": "stderr",
       "text": [
        "done in 3659.2s\n"
       ]
      },
      {
       "output_type": "stream",
       "stream": "stderr",
       "text": [
        "Importing inferred features..."
       ]
      },
      {
       "output_type": "stream",
       "stream": "stderr",
       "text": [
        "done in 17.1s\n"
       ]
      },
      {
       "output_type": "stream",
       "stream": "stderr",
       "text": [
        "Creating index..."
       ]
      },
      {
       "output_type": "stream",
       "stream": "stderr",
       "text": [
        "done in 53.9s\n"
       ]
      }
     ],
     "prompt_number": 9
    },
    {
     "cell_type": "code",
     "collapsed": false,
     "input": [
      "db = gffutils.FeatureDB(\"/nas3/yeolab/Genome/ensembl/gtf/gencode.v17.annotation.gtf.db\")"
     ],
     "language": "python",
     "metadata": {},
     "outputs": [],
     "prompt_number": 98
    },
    {
     "cell_type": "code",
     "collapsed": false,
     "input": [
      "genes = db.features_of_type('gene')"
     ],
     "language": "python",
     "metadata": {},
     "outputs": [],
     "prompt_number": 100
    },
    {
     "cell_type": "code",
     "collapsed": false,
     "input": [
      "gene = genes.next()"
     ],
     "language": "python",
     "metadata": {},
     "outputs": [],
     "prompt_number": 101
    },
    {
     "cell_type": "code",
     "collapsed": false,
     "input": [
      "gene"
     ],
     "language": "python",
     "metadata": {},
     "outputs": [
      {
       "output_type": "pyout",
       "prompt_number": 102,
       "text": [
        "<Feature: gene, chrM:577-647 (+)>"
       ]
      }
     ],
     "prompt_number": 102
    },
    {
     "cell_type": "code",
     "collapsed": false,
     "input": [
      "outfile = open(\"exons.bed\")"
     ],
     "language": "python",
     "metadata": {},
     "outputs": []
    },
    {
     "cell_type": "code",
     "collapsed": false,
     "input": [
      "for gene in genes:\n",
      "    try:\n",
      "        merged_exons = list(db.merge_features(db.children(gene, featuretype='exon')))\n",
      "        for i, exon in enumerate(merged_exons):  #doctest: +NORMALIZE_WHITESPACE\n",
      "            outfile.write(\"\\t\".join(map(str, [exon.chrom, exon.start, exon.stop, gene.id, \"0\", exon.strand, i])))\n",
      "    except:\n",
      "        pass"
     ],
     "language": "python",
     "metadata": {},
     "outputs": [],
     "prompt_number": 106
    },
    {
     "cell_type": "code",
     "collapsed": false,
     "input": [
      "db.merge_features?"
     ],
     "language": "python",
     "metadata": {},
     "outputs": [],
     "prompt_number": 54
    },
    {
     "cell_type": "code",
     "collapsed": false,
     "input": [
      "i.featuretype = \"foo\""
     ],
     "language": "python",
     "metadata": {},
     "outputs": [],
     "prompt_number": 57
    },
    {
     "cell_type": "code",
     "collapsed": false,
     "input": [
      "print i"
     ],
     "language": "python",
     "metadata": {},
     "outputs": [
      {
       "output_type": "stream",
       "stream": "stdout",
       "text": [
        "chr17\t.\tfoo\t1395707\t1396106\t.\t-\t.\t\n"
       ]
      }
     ],
     "prompt_number": 59
    },
    {
     "cell_type": "code",
     "collapsed": false,
     "input": [
      "gene"
     ],
     "language": "python",
     "metadata": {},
     "outputs": [],
     "prompt_number": "*"
    },
    {
     "cell_type": "code",
     "collapsed": false,
     "input": [],
     "language": "python",
     "metadata": {},
     "outputs": []
    }
   ],
   "metadata": {}
  }
 ]
}