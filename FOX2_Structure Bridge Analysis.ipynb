{
 "metadata": {
  "name": "FOX2_Structure Bridge Analysis"
 },
 "nbformat": 3,
 "nbformat_minor": 0,
 "worksheets": [
  {
   "cells": [
    {
     "cell_type": "code",
     "collapsed": false,
     "input": [
      "import pybedtools\n",
      "import numpy as np\n",
      "from scipy import stats\n",
      "from scipy.stats import norm\n",
      "from conserved_structure import RNApair\n",
      "#import structure\n",
      "import random\n",
      "from pandas import DataFrame, Series\n",
      "import os\n",
      "pybedtools.set_tempdir(\"/nas/nas0/scratch/gpratt/pybedtools_tmp\")"
     ],
     "language": "python",
     "metadata": {},
     "outputs": [
      {
       "output_type": "stream",
       "stream": "stderr",
       "text": [
        "/nas3/lovci/gscripts/seqTools.py:13: UserWarning: Module dateutil was already imported from /nas3/yeolab/Software/Python_dependencies-2.7/matplotlib-1.1.0-py2.7-linux-x86_64.egg/dateutil/__init__.pyc, but /nas/nas0/yeolab/Software/Python_dependencies-2.7/python_dateutil-1.5-py2.7.egg is being added to sys.path\n",
        "  import pkg_resources\n"
       ]
      }
     ],
     "prompt_number": 1
    },
    {
     "cell_type": "code",
     "collapsed": false,
     "input": [
      "!qsub /nas3/gpratt/gscripts/generate_shuffled_regions.sh #shuffles all conserved bridges 100 times\n",
      "!qsub /nase3/gpratt/gscripts/shuffled_mfe.sh #gets structure scores from shuffled regions\n",
      "!qsub /nas3/gpratt/gscripts/generate_scores.sh #scores new shuffled regions "
     ],
     "language": "python",
     "metadata": {},
     "outputs": []
    },
    {
     "cell_type": "code",
     "collapsed": false,
     "input": [
      "def get_all_overlaps(set1, set2):\n",
      "    set1_by_set2 = {}\n",
      "    set2_by_set1 = {}\n",
      "    \n",
      "    for set1Name, set1Element in set1.items():\n",
      "        \n",
      "        set1_lst  = []\n",
      "        set2_lst = []\n",
      "        for set2Name, set2Element in set2.items():\n",
      "            set1_lst.append(len(set1Element.intersect(set2Element, u=True)))\n",
      "            set2_lst.append(len(set2Element.intersect(set1Element, u=True)))\n",
      "        set1_by_set2[set1Name] = Series(set1_lst, index = set2.keys())\n",
      "        set2_by_set1[set1Name] = Series(set2_lst, index = set2.keys())\n",
      "    \n",
      "    return DataFrame(set1_by_set2), DataFrame(set2_by_set1)\n",
      "\n",
      "#calculate z score x - value, u - sample mean, s - std devation\n",
      "def z_score(x, u, s):\n",
      "    return (x - u) / s\n",
      "\n",
      "import math\n",
      "from scipy.stats import norm\n",
      "rv = norm()\n",
      "#sqrt((sum_x2 / n) - (mean * mean)) \n",
      "def std(array):\n",
      "\n",
      "    result = []\n",
      "    for arr in array:\n",
      "        result.append(pow(arr - mean(array),2))\n",
      "    result = sqrt(sum(result) / 10)\n",
      "\n",
      "    return result\n",
      "\n",
      "\n",
      "def get_ultra_conserved_bridges(fi, MAX_MFE):\n",
      "    ultra_conserved_bridges = []\n",
      "    bridge_conservation = open(fi)\n",
      "    for line in bridge_conservation:\n",
      "        ultra_conserved = True\n",
      "        line = line.strip().split()\n",
      "        #lines 1-6 are different species\n",
      "        ultra_conserved = 0\n",
      "        for species_paring in line[1:7]:\n",
      "            species_paring = species_paring.split(\"_\")\n",
      "    \n",
      "            if float(species_paring[2]) > MAX_MFE:\n",
      "                ultra_conserved += 1\n",
      "\n",
      "        if ultra_conserved <= 1:\n",
      "            ultra_conserved_bridges.append(line)\n",
      "    return ultra_conserved_bridges\n",
      "\n",
      "def get_conserved_bridges(fi, MAX_MFE):\n",
      "    ultra_conserved_bridges = []\n",
      "    bridge_conservation = open(fi)\n",
      "    for line in bridge_conservation:\n",
      "        ultra_conserved = True\n",
      "        line = line.strip().split()\n",
      "        #lines 1-6 are different species\n",
      "        ultra_conserved = True\n",
      "        for species_paring in line[1:2]:\n",
      "            species_paring = species_paring.split(\"_\")\n",
      "    \n",
      "            if float(species_paring[2]) > MAX_MFE:\n",
      "                ultra_conserved = False\n",
      "\n",
      "        if ultra_conserved:\n",
      "            ultra_conserved_bridges.append(line)\n",
      "    return ultra_conserved_bridges\n",
      "\n",
      "def get_conserved_bridges_in_mouse(fi, MAX_MFE):\n",
      "    ultra_conserved_bridges = []\n",
      "    bridge_conservation = open(fi)\n",
      "    for line in bridge_conservation:\n",
      "        ultra_conserved = True\n",
      "        line = line.strip().split()\n",
      "        #lines 1-6 are different species\n",
      "        ultra_conserved = 0\n",
      "        for species_paring in line[1:2]:\n",
      "            species_paring = species_paring.split(\"_\")\n",
      "    \n",
      "            if float(species_paring[2]) > MAX_MFE:\n",
      "                ultra_conserved += 1\n",
      "\n",
      "        if ultra_conserved <= 0:\n",
      "            ultra_conserved_bridges.append(line)\n",
      "    return ultra_conserved_bridges\n",
      "\n",
      "def count_exon_types(highly_conserved_structures):\n",
      "    counts = {}\n",
      "    for structure in highly_conserved_structures:\n",
      "        exon_type = structure.split(\"%\")[1]\n",
      "        #print exon_type\n",
      "        if exon_type not in counts:\n",
      "            print \"New type\"\n",
      "            counts[exon_type] = 0\n",
      "        counts[exon_type] += 1\n",
      "    return counts\n",
      "\n",
      "def get_structure_scores(structure_set):\n",
      "    scored_intervals = pybedtools.BedTool(\"/nas3/gpratt/projects/structure/RNAse/all.RNAlinks.sorted_true_scored.bed\")\n",
      "    \n",
      "    score_dict = {}\n",
      "    for line in scored_intervals:\n",
      "        if line[3] in structure_set:   \n",
      "            line = RNApair(line)\n",
      "            score_dict[line.name] = {\"everything\" : line, line.qType : line.qScores, line.tType : line.tScores }\n",
      "        \n",
      "    structure_scores = DataFrame(score_dict)\n",
      "    return structure_scores\n",
      "\n",
      "#filters out nans from list, returns a new, filtered frame\n",
      "def filter_dataframe(frame):\n",
      "    frame_filtered = frame.copy()\n",
      "    for column in frame.keys():\n",
      "            for key in frame[column].keys():\n",
      "                entry = frame[column][key]\n",
      "                if type(entry) == list:\n",
      "                    frame_filtered[column][key] = [x for x in entry if not isnan(x)]\n",
      "    return frame_filtered\n",
      "\n",
      "def count_highly_scored_bridges(structure_scores_filtered):\n",
      "    matching_structures = []\n",
      "    good_bridges = []\n",
      "    for key in structure_scores_filtered.keys():\n",
      "        structs = structure_scores_filtered[key]\n",
      "        cur_means = []\n",
      "        for bridge_name in structs.keys():\n",
      "            cur_list = structs[bridge_name]\n",
      "            if type(cur_list) is list and len(cur_list) > 0:\n",
      "                cur_means.append(mean(cur_list))\n",
      "        if key == \"ENSG00000154380_5%SE:%diProx_diDist_1054811\":\n",
      "            print \"ENAH bridge score \", mean(cur_means)\n",
      "        if len(cur_means) == 2:\n",
      "            if mean(cur_means) > 2:\n",
      "                good_bridges.append(key)\n",
      "            matching_structures.append(cur_means)\n",
      "    \n",
      "    \n",
      "    structure_pairs = array([ mean(x) for x in matching_structures])\n",
      "    return structure_pairs\n",
      "    #counts, locs, foo = hist([ mean(x) for x in matching_structures], bins=100, cumulative=True, normed=True,  fill=False, linewidth=None)\n",
      "\n"
     ],
     "language": "python",
     "metadata": {},
     "outputs": [],
     "prompt_number": 2
    },
    {
     "cell_type": "code",
     "collapsed": false,
     "input": [
      "initial = []\n",
      "for i in range(1,11):\n",
      "\n",
      "    ultra_conserved_regions = get_ultra_conserved_bridges(\"/nas3/gpratt/gscripts/conserved_regions_shuffled%s.bed\" % (i), -1)\n",
      "    initial.append(len(ultra_conserved_regions))\n",
      "initial = array(initial)\n",
      "mean(initial)\n",
      "\n",
      "mfe_counts_shuffled = []\n",
      "mfe_counts_true = []\n",
      "for max_mfe in range(0, 100):\n",
      "    #print max_mfe\n",
      "    current = []\n",
      "    for i in range(1,11):\n",
      "        ultra_conserved_regions = get_ultra_conserved_bridges(\"/nas3/gpratt/gscripts/conserved_regions_shuffled%s.bed\" % (i), -1 * max_mfe)\n",
      "        current.append(len(ultra_conserved_regions))\n",
      "    current = array(current)\n",
      "    \n",
      "    mfe_counts_shuffled.append(mean(current))\n",
      "    mfe_counts_true.append(len(get_ultra_conserved_bridges(\"/nas3/lovci/projects/structure/hg19/conserved_structure.all.txt\", -1 * max_mfe)))\n",
      "\n",
      "    if mean(current) / mean(initial) < .05:\n",
      "        print current\n",
      "        print \"cutoff is: %s MFE\" % (max_mfe)\n",
      "        break"
     ],
     "language": "python",
     "metadata": {},
     "outputs": [
      {
       "output_type": "stream",
       "stream": "stdout",
       "text": [
        "[317 297 301 287 289 309 316 293 312 306]\n",
        "cutoff is: 49 MFE\n"
       ]
      }
     ],
     "prompt_number": 3
    },
    {
     "cell_type": "code",
     "collapsed": false,
     "input": [
      "print mfe_counts_shuffled\n",
      "print mfe_counts_true \n",
      "\n",
      "plot(mfe_counts_shuffled, label=\"Shuffled\")\n",
      "plot(mfe_counts_true, label=\"Real\")\n",
      "title(\"Counts of significant bridges with decreasing MFE\")\n",
      "xlabel(\"-MFE\")\n",
      "ylabel(\"Number of significant bridges\")"
     ],
     "language": "python",
     "metadata": {},
     "outputs": [
      {
       "output_type": "stream",
       "stream": "stdout",
       "text": [
        "[11678.799999999999, 6627.6000000000004, 6627.6000000000004, 6627.6000000000004, 6627.6000000000004, 6627.6000000000004, 6627.6000000000004, 6627.6000000000004, 6627.6000000000004, 6627.6000000000004, 6627.6000000000004, 6627.6000000000004, 6627.6000000000004, 6627.6000000000004, 6627.6000000000004, 6627.6000000000004, 6627.6000000000004, 6627.6000000000004, 6627.6000000000004, 6627.6000000000004, 6627.6000000000004, 6417.6999999999998, 6183.6000000000004, 5919.0, 5610.1000000000004, 5299.0, 4973.1000000000004, 4643.1999999999998, 4288.6000000000004, 3934.5999999999999, 3599.3000000000002, 3282.9000000000001, 2965.0999999999999, 2674.9000000000001, 2400.1999999999998, 2140.4000000000001, 1899.7, 1672.2, 1466.7, 1285.9000000000001, 1128.9000000000001, 986.5, 862.70000000000005, 748.39999999999998, 645.0, 553.29999999999995, 476.89999999999998, 408.30000000000001, 351.5, 302.69999999999999]\n",
        "[11899, 10197, 10197, 10197, 10197, 10197, 10197, 10197, 10197, 10197, 10197, 10197, 10197, 10197, 10197, 10197, 10197, 10197, 10197, 10197, 10197, 10175, 10136, 10098, 10051, 9981, 9900, 9790, 9667, 9508, 9295, 9063, 8821, 8526, 8158, 7733, 7245, 6769, 6252, 5709, 5194, 4644, 4124, 3597, 3129, 2673, 2280, 1929, 1597, 1373]\n"
       ]
      },
      {
       "output_type": "pyout",
       "prompt_number": 4,
       "text": [
        "<matplotlib.text.Text at 0x1869fc10>"
       ]
      },
      {
       "output_type": "display_data",
       "png": "[encoded data removed]"
      }
     ],
     "prompt_number": 4
    },
    {
     "cell_type": "code",
     "collapsed": false,
     "input": [
      "result = get_ultra_conserved_bridges(\"/nas3/lovci/projects/structure/hg19/conserved_structure.all.txt\", -49)\n",
      "print \"significant bridges\", len(result)\n",
      "highly_conserved_structures =  [x[0] for x in result]\n",
      "\n",
      "mouse_mfe = array([ float(x[2].split(\"_\")[-1]) for x in result ])\n",
      "print \n",
      "print \"significant bridges also in mouse\", len(mouse_mfe[mouse_mfe < -49])\n",
      "\n",
      "result = get_conserved_bridges(\"/nas3/lovci/projects/structure/hg19/conserved_structure.all.txt\", -40)\n",
      "print \"significant bridges\", len(result)\n",
      "conserved_structures =  [x[0] for x in result]"
     ],
     "language": "python",
     "metadata": {},
     "outputs": [
      {
       "output_type": "stream",
       "stream": "stdout",
       "text": [
        "significant bridges 1373\n",
        "\n",
        "significant bridges also in mouse 1334\n",
        "significant bridges"
       ]
      },
      {
       "output_type": "stream",
       "stream": "stdout",
       "text": [
        " 11740\n"
       ]
      }
     ],
     "prompt_number": 72
    },
    {
     "cell_type": "code",
     "collapsed": false,
     "input": [
      "#loads up all events (classificaions of intron structure)\n",
      "#loads uniquely by gene and exon, and stores region information in a sub dict\n",
      "events = {}\n",
      "\n",
      "for line in pybedtools.BedTool(\"/nas3/lovci/projects/structure/hg19/event_detail.BED\"):\n",
      "    region = line.name.split(\"%\")[0]\n",
      "    exon = \"_\".join(line.name.split(\"%\")[2].split(\"|\"))\n",
      "    if exon not in events:\n",
      "        events[exon] = {\"type\" : line.name.split(\"%\")[3]}\n",
      "    events[exon][region] = line"
     ],
     "language": "python",
     "metadata": {},
     "outputs": [],
     "prompt_number": 5
    },
    {
     "cell_type": "code",
     "collapsed": false,
     "input": [
      "#counts the total number of exons of each type\n",
      "count = {}\n",
      "for exon in events:\n",
      "    #print events[exon]['type']\n",
      "    if events[exon]['type'] not in count:\n",
      "        count[events[exon]['type']] = 0\n",
      "    count[events[exon]['type']] += 1\n",
      "\n",
      "print count\n",
      "\n",
      "print \"CE exons\", count[\"CE:\"]\n",
      "print \"SE exons\", count[\"SE:\"]"
     ],
     "language": "python",
     "metadata": {},
     "outputs": [
      {
       "output_type": "stream",
       "stream": "stdout",
       "text": [
        "{'A3E:': 1274, 'MXE:SE:': 792, 'SE:A3E:A5E:OV:CE:': 41, 'SE:A3E:A5E:OV:': 6, 'OV:': 23, 'SE:A5E:OV:CE:MXE:': 3, 'SE:OV:': 12, 'SE:OV:CE:': 1, 'OV:MXE:': 10, 'A5E:OV:CE:MXE:': 2, 'OV:CE:': 6, 'SE:A5E:OV:CE:': 9, 'SE:CE:MXE:': 62, 'SE:A3E:MXE:': 40, 'A3E:A5E:OV:CE:': 85, 'A3E:OV:CE:MXE:': 1, 'SE:A3E:OV:CE:': 1, 'SE:A3E:A5E:OV:CE:MXE:': 22, 'SE:A3E:CE:': 749, 'SE:A3E:A5E:OV:MXE:': 1, 'A3E:A5E:OV:': 3, 'SE:A5E:CE:': 461, 'A3E:A5E:OV:CE:MXE:': 5, 'SE:A5E:OV:MXE:': 2, 'SE:A5E:': 169, 'SE:A5E:MXE:': 48, 'A3E:A5E:': 1425, 'A3E:CE:MXE:': 19, 'A5E:': 1366, 'SE:A3E:': 196, 'SE:A5E:OV:': 2, 'SE:CE:': 383, 'SE:A5E:CE:MXE:': 99, 'SE:A3E:A5E:CE:MXE:': 99, 'CE:MXE:': 29, 'SE:': 18551, 'A5E:CE:': 1748, 'SE:A3E:A5E:CE:': 569, 'MXE:': 1240, 'SE:OV:MXE:': 6, 'SE:A3E:OV:MXE:': 1, 'CE:': 164920, 'A3E:CE:': 2777, 'A3E:A5E:CE:': 613, 'SE:A3E:A5E:MXE:': 11, 'SE:A3E:OV:CE:MXE:': 5, 'A5E:OV:CE:': 22, 'SE:A3E:CE:MXE:': 130, 'A3E:A5E:CE:MXE:': 7, 'A3E:A5E:MXE:': 15, 'A5E:OV:': 1, 'A3E:MXE:': 18, 'A5E:MXE:': 22, 'SE:A3E:A5E:': 158, 'SE:MXE:': 1377, 'A3E:OV:CE:': 11, 'A5E:CE:MXE:': 16}\n",
        "CE exons 164920\n",
        "SE exons 18551\n"
       ]
      }
     ],
     "prompt_number": 6
    },
    {
     "cell_type": "code",
     "collapsed": false,
     "input": [
      "#off the back of the envelop number of SE exons and CE exons againts total number \n",
      "print \"SE\", 288.0 / 18551 \n",
      "print \"CE\", 661.0 / 164920"
     ],
     "language": "python",
     "metadata": {},
     "outputs": [
      {
       "output_type": "stream",
       "stream": "stdout",
       "text": [
        "SE 0.0155247695542\n",
        "CE 0.00400800388067\n"
       ]
      }
     ],
     "prompt_number": 7
    },
    {
     "cell_type": "code",
     "collapsed": false,
     "input": [
      "\n",
      "print \"highly conserved\", count_exon_types(highly_conserved_structures)\n",
      "print \"conserved\", count_exon_types(conserved_structures)\n"
     ],
     "language": "python",
     "metadata": {},
     "outputs": [
      {
       "output_type": "stream",
       "stream": "stdout",
       "text": [
        "highly conserved New type\n",
        "New type\n",
        "{'CE:': 906, 'SE:': 467}\n",
        "conserved New type\n",
        "New type\n",
        "{'CE:': 7979, 'SE:': 3761}\n"
       ]
      }
     ],
     "prompt_number": 73
    },
    {
     "cell_type": "code",
     "collapsed": false,
     "input": [
      "highly_conserved_structure_set = set(highly_conserved_structures)\n",
      "conserved_structure_set = set(conserved_structures)"
     ],
     "language": "python",
     "metadata": {},
     "outputs": [],
     "prompt_number": 74
    },
    {
     "cell_type": "code",
     "collapsed": false,
     "input": [
      "#print \"done one\"\n",
      "#highly_conserved_structure_scores = get_structure_scores(highly_conserved_structure_set)\n",
      "print \"Done two\"\n",
      "conserved_structure_scores = get_structure_scores(conserved_structure_set)"
     ],
     "language": "python",
     "metadata": {},
     "outputs": [
      {
       "output_type": "stream",
       "stream": "stdout",
       "text": [
        "Done two\n"
       ]
      }
     ],
     "prompt_number": 75
    },
    {
     "cell_type": "code",
     "collapsed": false,
     "input": [
      "structure_scores_filtered = filter_dataframe(highly_conserved_structure_scores)\n",
      "conserved_structure_scores_filtered = get_structure_scores(conserved_structure_scores)"
     ],
     "language": "python",
     "metadata": {},
     "outputs": [
      {
       "ename": "KeyboardInterrupt",
       "evalue": "",
       "output_type": "pyerr",
       "traceback": [
        "\u001b[1;31m---------------------------------------------------------------------------\u001b[0m\n\u001b[1;31mKeyboardInterrupt\u001b[0m                         Traceback (most recent call last)",
        "\u001b[1;32m<ipython-input-76-1939ae35e3e5>\u001b[0m in \u001b[0;36m<module>\u001b[1;34m()\u001b[0m\n\u001b[0;32m      1\u001b[0m \u001b[0mstructure_scores_filtered\u001b[0m \u001b[1;33m=\u001b[0m \u001b[0mfilter_dataframe\u001b[0m\u001b[1;33m(\u001b[0m\u001b[0mhighly_conserved_structure_scores\u001b[0m\u001b[1;33m)\u001b[0m\u001b[1;33m\u001b[0m\u001b[0m\n\u001b[1;32m----> 2\u001b[1;33m \u001b[0mconserved_structure_scores_filtered\u001b[0m \u001b[1;33m=\u001b[0m \u001b[0mget_structure_scores\u001b[0m\u001b[1;33m(\u001b[0m\u001b[0mconserved_structure_scores\u001b[0m\u001b[1;33m)\u001b[0m\u001b[1;33m\u001b[0m\u001b[0m\n\u001b[0m",
        "\u001b[1;32m<ipython-input-3-1e93e4626392>\u001b[0m in \u001b[0;36mget_structure_scores\u001b[1;34m(structure_set)\u001b[0m\n\u001b[0;32m    103\u001b[0m     \u001b[0mscore_dict\u001b[0m \u001b[1;33m=\u001b[0m \u001b[1;33m{\u001b[0m\u001b[1;33m}\u001b[0m\u001b[1;33m\u001b[0m\u001b[0m\n\u001b[0;32m    104\u001b[0m     \u001b[1;32mfor\u001b[0m \u001b[0mline\u001b[0m \u001b[1;32min\u001b[0m \u001b[0mscored_intervals\u001b[0m\u001b[1;33m:\u001b[0m\u001b[1;33m\u001b[0m\u001b[0m\n\u001b[1;32m--> 105\u001b[1;33m         \u001b[1;32mif\u001b[0m \u001b[0mline\u001b[0m\u001b[1;33m[\u001b[0m\u001b[1;36m3\u001b[0m\u001b[1;33m]\u001b[0m \u001b[1;32min\u001b[0m \u001b[0mstructure_set\u001b[0m\u001b[1;33m:\u001b[0m\u001b[1;33m\u001b[0m\u001b[0m\n\u001b[0m\u001b[0;32m    106\u001b[0m             \u001b[0mline\u001b[0m \u001b[1;33m=\u001b[0m \u001b[0mRNApair\u001b[0m\u001b[1;33m(\u001b[0m\u001b[0mline\u001b[0m\u001b[1;33m)\u001b[0m\u001b[1;33m\u001b[0m\u001b[0m\n\u001b[0;32m    107\u001b[0m             \u001b[0mscore_dict\u001b[0m\u001b[1;33m[\u001b[0m\u001b[0mline\u001b[0m\u001b[1;33m.\u001b[0m\u001b[0mname\u001b[0m\u001b[1;33m]\u001b[0m \u001b[1;33m=\u001b[0m \u001b[1;33m{\u001b[0m\u001b[1;34m\"everything\"\u001b[0m \u001b[1;33m:\u001b[0m \u001b[0mline\u001b[0m\u001b[1;33m,\u001b[0m \u001b[0mline\u001b[0m\u001b[1;33m.\u001b[0m\u001b[0mqType\u001b[0m \u001b[1;33m:\u001b[0m \u001b[0mline\u001b[0m\u001b[1;33m.\u001b[0m\u001b[0mqScores\u001b[0m\u001b[1;33m,\u001b[0m \u001b[0mline\u001b[0m\u001b[1;33m.\u001b[0m\u001b[0mtType\u001b[0m \u001b[1;33m:\u001b[0m \u001b[0mline\u001b[0m\u001b[1;33m.\u001b[0m\u001b[0mtScores\u001b[0m \u001b[1;33m}\u001b[0m\u001b[1;33m\u001b[0m\u001b[0m\n",
        "\u001b[1;31mKeyboardInterrupt\u001b[0m: "
       ]
      }
     ],
     "prompt_number": 76
    },
    {
     "cell_type": "code",
     "collapsed": false,
     "input": [
      "#makes 4 bed files of bridge locations\n",
      "bridge_classification = { 'diProx' : [], 'diDist' : [], 'uiProx' : [], \"uiDist\" : [] }\n",
      "\n",
      "for key in score_dict:\n",
      "    line = score_dict[key][\"everything\"]\n",
      "    bridge_classification[line.tType].append(\"%s\\t%s\\t%s\" % (line.chromosome, line.tStart, line.tStop))\n",
      "    bridge_classification[line.qType].append(\"%s\\t%s\\t%s\" % (line.chromosome, line.qStart, line.qStop))\n"
     ],
     "language": "python",
     "metadata": {},
     "outputs": [],
     "prompt_number": 15
    },
    {
     "cell_type": "code",
     "collapsed": false,
     "input": [
      "bridge_beds = {}\n",
      "\n",
      "for key in bridge_classification:\n",
      "    bridge_beds[key] = pybedtools.BedTool(\"\\n\".join(bridge_classification[key]), from_string=True)\n",
      "    \n"
     ],
     "language": "python",
     "metadata": {},
     "outputs": [
      {
       "output_type": "stream",
       "stream": "stdout",
       "text": [
        "{'diProx': <BedTool(/nas/nas0/scratch/lovci/pybedtools_tmp/pybedtools.EaOu7n.tmp)>, 'diDist': <BedTool(/nas/nas0/scratch/lovci/pybedtools_tmp/pybedtools.BOcZqr.tmp)>, 'uiDist': <BedTool(/nas/nas0/scratch/lovci/pybedtools_tmp/pybedtools.WBF_mB.tmp)>, 'uiProx': <BedTool(/nas/nas0/scratch/lovci/pybedtools_tmp/pybedtools.ZZxPf4.tmp)>}\n"
       ]
      }
     ],
     "prompt_number": 16
    },
    {
     "cell_type": "code",
     "collapsed": false,
     "input": [
      "shuffled_structure_scores = []\n",
      "for i in range(1,10):\n",
      "    \n",
      "    scored_intervals = pybedtools.BedTool(\"/nas3/gpratt/gscripts/shuffled_regions_all\" + str(i) + \"_scored_v3.bed\")\n",
      "    shuff_dict = {}\n",
      "    \n",
      "    for line in scored_intervals:\n",
      "        if line[3] in highly_conserved_structures:   \n",
      "            line = RNApair(line)\n",
      "            shuff_dict[line.name] = {\"everything\" : line, line.qType : line.qScores, line.tType : line.tScores }\n",
      "    shuffled_structure_scores.append(DataFrame(shuff_dict))"
     ],
     "language": "python",
     "metadata": {},
     "outputs": [],
     "prompt_number": 115
    },
    {
     "cell_type": "code",
     "collapsed": false,
     "input": [
      "structure_scores_filtered_transpose = structure_scores_filtered.T\n",
      "count = 0 \n",
      "\n",
      "true_structure_means = {}\n",
      "true_structure_counts = {}\n",
      "for key in [\"diDist\", \"diProx\", \"uiDist\", \"uiProx\"]:\n",
      "    count += 1\n",
      "    cur_list = structure_scores_filtered_transpose[key]\n",
      "    #print key, \"unfiltered count\", len(cur_list)\n",
      "    \n",
      "    cur_list_values = cur_list.values\n",
      "    filtered_cur_list = [ max(x) for x in cur_list_values if type(x) is list and len(x) > 0 and (max(x) > 2 or min(x) < -2) ]\n",
      "    filtered_cur_list_max = [ max(x) for x in cur_list_values if type(x) is list and len(x) > 0 and max(x) > 2 ]\n",
      "    #filtered_cur_list = [ max(x) for x in cur_list_values if type(x) is list and len(x) > 0 and min(x) < -2 ]\n",
      "\n",
      "    print filtered_cur_list\n",
      "    true_structure_means[key] = array(filtered_cur_list)\n",
      "    \n",
      "    print len(filtered_cur_list)\n",
      "    print key, len(filtered_cur_list_max)\n",
      "    subplot(2,2,count)\n",
      "    counts, locations, foo = hist(filtered_cur_list, bins=100, label=key)\n",
      "    true_structure_counts[key] = counts\n",
      "    legend()\n",
      "\n",
      "    "
     ],
     "language": "python",
     "metadata": {},
     "outputs": [
      {
       "output_type": "stream",
       "stream": "stdout",
       "text": [
        "[2.08273, 2.08273, 2.08273, 2.08273, 2.08273, 2.08273, 2.08273, 2.08273, 2.62346, 4.0056, 4.32552, 4.32552, 4.32552, 4.32552, 4.32552, 4.32552, 4.32552, 4.32552, 4.32552, 4.32552, 2.08273, 2.08273, 2.08273, 2.08273, 2.08273, 4.17436, 2.08273, 2.08273, 5.17104, 2.08273, 2.08273, 2.62346, 2.08273, 2.08273, 2.62346, 1.27155, -0.154945, -2.37744, -2.37744, -2.37744, 3.59488, 2.08273, 2.08273, 2.08273, 2.62346, 2.62346, 2.62346, 3.02203, 3.02203, 3.59488, 3.59488, 3.59488, 3.59488, 3.59488, 2.62346, 2.62346, 2.08273, 2.08273, 3.02203, 2.08273, 2.08273, 3.18741, 3.02203, 2.58268, 2.58268, 2.08273, 2.08273, 2.08273, 2.08273, 2.08273, 2.08273, 2.08273, 2.08273, 2.08273, 2.08273, 2.08273, 2.08273, 2.08273, 2.08273, 2.62346, 2.08273, 2.08273]\n",
        "82\n",
        "diDist 77\n",
        "[5.00141, 2.08273, 3.02203, 3.02203, 4.58746, 3.59488, 2.08273, 3.02203, 3.02203, 4.80919, 2.83594, 2.08273, 3.59488, 3.02203, 2.08273, 3.02203, 0.286649, 3.02203, 3.59488, 2.08273, 3.59488, 2.08273, 5.00141, 2.08273, 3.81466, 1.27155, 4.32552, 2.62346, 2.08273, 2.37645, -3.25243, 3.33614, 3.02203, 2.08273, 4.32552, 2.62346, 3.02203, 3.59488, 2.08273, 3.02203, 3.33614, 4.17436, 3.59488, 2.08273, 3.02203, 3.02203, 2.08273, 3.81466, 3.81466, 3.81466, 5.00141, 4.32552, 3.81466, 2.62346, 2.62346, 3.81466, 3.81466, 4.17436, 3.02203, 4.80919, 4.80919, 1.27155, 3.33614, 2.08273, 2.13161, 1.27155, 2.62346, 2.62346, 4.80919, 4.80919, 1.27155, 3.33614, 2.08273, 2.08273, 2.08273, 2.08273, 2.08273, 2.08273, 2.08273, 2.08273, 2.08273, 2.08273, 2.08273, 2.08273, 3.33614, 5.85841, 4.17436, 4.17436, 4.17436, 4.17436, 2.62346, 4.17436, 4.17436, 4.17436, 2.62346, 2.62346, 4.17436, 4.17436, 2.62346, 2.62346, 2.62346, 2.62346, 2.08273]"
       ]
      },
      {
       "output_type": "stream",
       "stream": "stdout",
       "text": [
        "\n",
        "103\n",
        "diProx 97\n",
        "[1.27155, 2.08273, 2.08273, 2.08273, 5.08871, 4.0056, 4.0056, 2.08273, 2.08273, 2.08273, 3.33614, 2.08273, 4.0056, 3.33614, 4.0056, 3.02203, 3.02203, 5.00141, 2.08273, 2.08273, 3.33614, 2.62346, 4.85969, 3.81466, 3.81466, 4.85969, 3.33614, 2.62346, 2.62346, 4.58746, 3.0326, 3.0326, 4.4624, 3.81466, 2.62346, 4.17436, 1.27155, 2.62346, 2.62346, 4.0056, 4.0056, 2.08273, 2.08273, 2.62346, 2.08273, 4.58746, 2.08273, 2.08273, 2.08273, 1.27155, 2.08273, 2.08273, 2.08273, 4.4624, 4.4624, 4.4624]"
       ]
      },
      {
       "output_type": "stream",
       "stream": "stdout",
       "text": [
        "\n",
        "56\n",
        "uiDist 53\n",
        "[2.08273, 2.08273, 2.08273, 2.08273, 2.08273, 2.08273, 3.02203, -1.85304, 3.33614, 3.33614, 2.08273, 3.02203, 2.08273, 2.08273, 2.08273, 3.02203, -3.11698, -3.11698, 2.08273, 4.32552, 4.0056, 4.0056, 2.08273, 2.08273, 2.08273, 2.08273, 2.08273, 0.901894, 2.62346, 3.33614, 1.27155, 2.08273, 3.33614, 4.0056, 2.62346, -3.74607, -3.74607, -3.74607, -3.74607, 2.08273, 2.08273, 2.08273, 2.08273, 2.08273, 2.08273, 2.08273, 3.02203, 2.08273, 2.08273, 1.27155, 1.27155, 4.0056, 3.33614]"
       ]
      },
      {
       "output_type": "stream",
       "stream": "stdout",
       "text": [
        "\n",
        "53\n",
        "uiProx 42\n"
       ]
      },
      {
       "output_type": "display_data",
       "png": "[encoded data removed]"
      }
     ],
     "prompt_number": 111
    },
    {
     "cell_type": "code",
     "collapsed": false,
     "input": [
      "#this filters everything\n",
      "shuffled_filtered_scores = []\n",
      "print len(shuffled_structure_scores)\n",
      "for shuffled_structure_score in shuffled_structure_scores:\n",
      "    shuffled_filtered_scores.append(filter_dataframe(shuffled_structure_score))\n",
      "\n"
     ],
     "language": "python",
     "metadata": {},
     "outputs": [
      {
       "output_type": "stream",
       "stream": "stdout",
       "text": [
        "9\n"
       ]
      }
     ],
     "prompt_number": 116
    },
    {
     "cell_type": "code",
     "collapsed": false,
     "input": [
      "shuffled_structure_counts_list = []\n",
      "for shuffled_filtered_score in shuffled_filtered_scores:\n",
      "    \n",
      "    shuffled_filtered_score_transpose = shuffled_filtered_score.T\n",
      "    shuffled_structure_means = {}\n",
      "    shuffled_structure_counts = {}\n",
      "    for key in [\"diDist\", \"diProx\", \"uiDist\", \"uiProx\"]:\n",
      "\n",
      "        cur_list = shuffled_filtered_score_transpose[key]\n",
      " \n",
      "        cur_list_values = cur_list.values\n",
      "        \n",
      "        filtered_cur_list = [ mean(x) for x in cur_list_values if type(x) is list and len(x) > 0 and max(x) > 2]\n",
      "        shuffled_structure_means[key] = array(filtered_cur_list)\n",
      "        \n",
      "        print key, len(filtered_cur_list)\n",
      "        counts, locations, foo = hist(filtered_cur_list, bins=100, label=key)\n",
      "        shuffled_structure_counts[key] = counts\n",
      "        legend()\n",
      "    shuffled_structure_counts_list.append(shuffled_structure_counts)"
     ],
     "language": "python",
     "metadata": {},
     "outputs": [
      {
       "output_type": "stream",
       "stream": "stdout",
       "text": [
        "diDist 118\n",
        "diProx"
       ]
      },
      {
       "output_type": "stream",
       "stream": "stdout",
       "text": [
        " 102\n",
        "uiDist"
       ]
      },
      {
       "output_type": "stream",
       "stream": "stdout",
       "text": [
        " 143\n",
        "uiProx"
       ]
      },
      {
       "output_type": "stream",
       "stream": "stdout",
       "text": [
        " 67\n",
        "diDist"
       ]
      },
      {
       "output_type": "stream",
       "stream": "stdout",
       "text": [
        " 81\n",
        "diProx"
       ]
      },
      {
       "output_type": "stream",
       "stream": "stdout",
       "text": [
        " 100\n",
        "uiDist"
       ]
      },
      {
       "output_type": "stream",
       "stream": "stdout",
       "text": [
        " 34\n",
        "uiProx"
       ]
      },
      {
       "output_type": "stream",
       "stream": "stdout",
       "text": [
        " 63\n",
        "diDist"
       ]
      },
      {
       "output_type": "stream",
       "stream": "stdout",
       "text": [
        " 138\n",
        "diProx"
       ]
      },
      {
       "output_type": "stream",
       "stream": "stdout",
       "text": [
        " 85\n",
        "uiDist"
       ]
      },
      {
       "output_type": "stream",
       "stream": "stdout",
       "text": [
        " 143\n",
        "uiProx"
       ]
      },
      {
       "output_type": "stream",
       "stream": "stdout",
       "text": [
        " 139\n",
        "diDist"
       ]
      },
      {
       "output_type": "stream",
       "stream": "stdout",
       "text": [
        " 109\n",
        "diProx"
       ]
      },
      {
       "output_type": "stream",
       "stream": "stdout",
       "text": [
        " 118\n",
        "uiDist"
       ]
      },
      {
       "output_type": "stream",
       "stream": "stdout",
       "text": [
        " 134\n",
        "uiProx"
       ]
      },
      {
       "output_type": "stream",
       "stream": "stdout",
       "text": [
        " 130\n",
        "diDist"
       ]
      },
      {
       "output_type": "stream",
       "stream": "stdout",
       "text": [
        " 128\n",
        "diProx"
       ]
      },
      {
       "output_type": "stream",
       "stream": "stdout",
       "text": [
        " 92\n",
        "uiDist"
       ]
      },
      {
       "output_type": "stream",
       "stream": "stdout",
       "text": [
        " 89\n",
        "uiProx"
       ]
      },
      {
       "output_type": "stream",
       "stream": "stdout",
       "text": [
        " 103\n",
        "diDist"
       ]
      },
      {
       "output_type": "stream",
       "stream": "stdout",
       "text": [
        " 59\n",
        "diProx"
       ]
      },
      {
       "output_type": "stream",
       "stream": "stdout",
       "text": [
        " 102\n",
        "uiDist"
       ]
      },
      {
       "output_type": "stream",
       "stream": "stdout",
       "text": [
        " 81\n",
        "uiProx"
       ]
      },
      {
       "output_type": "stream",
       "stream": "stdout",
       "text": [
        " 28\n",
        "diDist"
       ]
      },
      {
       "output_type": "stream",
       "stream": "stdout",
       "text": [
        " 92\n",
        "diProx"
       ]
      },
      {
       "output_type": "stream",
       "stream": "stdout",
       "text": [
        " 80\n",
        "uiDist"
       ]
      },
      {
       "output_type": "stream",
       "stream": "stdout",
       "text": [
        " 80\n",
        "uiProx"
       ]
      },
      {
       "output_type": "stream",
       "stream": "stdout",
       "text": [
        " 43\n",
        "diDist"
       ]
      },
      {
       "output_type": "stream",
       "stream": "stdout",
       "text": [
        " 103\n",
        "diProx"
       ]
      },
      {
       "output_type": "stream",
       "stream": "stdout",
       "text": [
        " 37\n",
        "uiDist"
       ]
      },
      {
       "output_type": "stream",
       "stream": "stdout",
       "text": [
        " 50\n",
        "uiProx"
       ]
      },
      {
       "output_type": "stream",
       "stream": "stdout",
       "text": [
        " 130\n",
        "diDist"
       ]
      },
      {
       "output_type": "stream",
       "stream": "stdout",
       "text": [
        " 177\n",
        "diProx"
       ]
      },
      {
       "output_type": "stream",
       "stream": "stdout",
       "text": [
        " 96\n",
        "uiDist"
       ]
      },
      {
       "output_type": "stream",
       "stream": "stdout",
       "text": [
        " 129\n",
        "uiProx"
       ]
      },
      {
       "output_type": "stream",
       "stream": "stdout",
       "text": [
        " 119\n"
       ]
      },
      {
       "output_type": "display_data",
       "png": "[encoded data removed]"
      }
     ],
     "prompt_number": 117
    },
    {
     "cell_type": "code",
     "collapsed": false,
     "input": [
      "#gets me access to the dict\n",
      "shuffled_means = shuffled_filtered_scores[0].copy()\n",
      "for row in shuffled_means.keys():\n",
      "    for column in shuffled_means[row].keys():\n",
      "        shuffled_means[row][column] = nan\n",
      "\n",
      "shuffled_means = shuffled_means.T\n",
      "total_count = 0 \n",
      "for column in shuffled_filtered_scores[0].keys():\n",
      "    #print column\n",
      "    for i, row in enumerate(shuffled_filtered_scores[0][column].keys()):\n",
      "        total = 0\n",
      "        count = 0\n",
      "        \n",
      "        for shuffled_filtered_score in shuffled_structure_scores:\n",
      "            if row in shuffled_filtered_score and type(shuffled_filtered_score[row][column]) == list and len(shuffled_filtered_score[row][column]) != 0:  \n",
      "                if not isnan(mean(shuffled_filtered_score[row][column])):\n",
      "                    count += 1\n",
      "                    total += mean(shuffled_filtered_score[row][column])\n",
      "        \n",
      "        if row in shuffled_means and count > 0:\n",
      "            total_count += 1\n",
      "            shuffled_means[row][column] = float(total) / count\n",
      "            \n",
      "print total_count"
     ],
     "language": "python",
     "metadata": {},
     "outputs": [
      {
       "output_type": "stream",
       "stream": "stdout",
       "text": [
        "0\n"
       ]
      }
     ],
     "prompt_number": 29
    },
    {
     "cell_type": "code",
     "collapsed": false,
     "input": [
      "shuffled_means_transpose = shuffled_means.T\n",
      "shuffled_structure_means = {}\n",
      "shuffled_structure_counts = {}\n",
      "count = 0 \n",
      "for key in shuffled_means_transpose.keys():\n",
      "    count += 1\n",
      "    cur_list = shuffled_means_transpose[key]\n",
      "    print key, \"unfiltered count\", len(cur_list)\n",
      "    cur_list = cur_list.values\n",
      "    filtered_cur_list = [ x for x in cur_list if not isnan(x) ]\n",
      "    print len(filtered_cur_list)\n",
      "    shuffled_structure_means[key] = array(filtered_cur_list)\n",
      "    subplot(2,2,count)\n",
      "    counts, locations, foo = hist(filtered_cur_list, bins=100, label=key)\n",
      "    legend()"
     ],
     "language": "python",
     "metadata": {},
     "outputs": [
      {
       "ename": "NameError",
       "evalue": "name 'shuffled_means' is not defined",
       "output_type": "pyerr",
       "traceback": [
        "\u001b[1;31m---------------------------------------------------------------------------\u001b[0m\n\u001b[1;31mNameError\u001b[0m                                 Traceback (most recent call last)",
        "\u001b[1;32m<ipython-input-21-2f2fa98d26ef>\u001b[0m in \u001b[0;36m<module>\u001b[1;34m()\u001b[0m\n\u001b[1;32m----> 1\u001b[1;33m \u001b[0mshuffled_means_transpose\u001b[0m \u001b[1;33m=\u001b[0m \u001b[0mshuffled_means\u001b[0m\u001b[1;33m.\u001b[0m\u001b[0mT\u001b[0m\u001b[1;33m\u001b[0m\u001b[0m\n\u001b[0m\u001b[0;32m      2\u001b[0m \u001b[0mshuffled_structure_means\u001b[0m \u001b[1;33m=\u001b[0m \u001b[1;33m{\u001b[0m\u001b[1;33m}\u001b[0m\u001b[1;33m\u001b[0m\u001b[0m\n\u001b[0;32m      3\u001b[0m \u001b[0mshuffled_structure_counts\u001b[0m \u001b[1;33m=\u001b[0m \u001b[1;33m{\u001b[0m\u001b[1;33m}\u001b[0m\u001b[1;33m\u001b[0m\u001b[0m\n\u001b[0;32m      4\u001b[0m \u001b[0mcount\u001b[0m \u001b[1;33m=\u001b[0m \u001b[1;36m0\u001b[0m\u001b[1;33m\u001b[0m\u001b[0m\n\u001b[0;32m      5\u001b[0m \u001b[1;32mfor\u001b[0m \u001b[0mkey\u001b[0m \u001b[1;32min\u001b[0m \u001b[0mshuffled_means_transpose\u001b[0m\u001b[1;33m.\u001b[0m\u001b[0mkeys\u001b[0m\u001b[1;33m(\u001b[0m\u001b[1;33m)\u001b[0m\u001b[1;33m:\u001b[0m\u001b[1;33m\u001b[0m\u001b[0m\n",
        "\u001b[1;31mNameError\u001b[0m: name 'shuffled_means' is not defined"
       ]
      }
     ],
     "prompt_number": 21
    },
    {
     "cell_type": "code",
     "collapsed": false,
     "input": [],
     "language": "python",
     "metadata": {},
     "outputs": []
    },
    {
     "cell_type": "code",
     "collapsed": false,
     "input": [
      "#run a chi-sq test for significance\n",
      "from scipy.stats import chisquare\n",
      "\n",
      "for key in true_structure_means:\n",
      "    obs = []\n",
      "    expected = []\n",
      "    obs.append(len(true_structure_means[key][true_structure_means[key] >= 2]))\n",
      "    obs.append(840 - obs[0])\n",
      "    #obs.append(len(true_structure_means[key][true_structure_means[key] < 2.0]))\n",
      "    expected.append(len(shuffled_structure_means[key][shuffled_structure_means[key] >= 2]))\n",
      "    expected.append(840 - expected[0])\n",
      "    #expected.append(len(shuffled_structure_means[key][shuffled_structure_means[key] < 2.0]))\n",
      "    obs = array(obs)\n",
      "    \n",
      "    expected = array(expected)\n",
      "    \n",
      "    print \"chisq\", key, \"observed counts, >=2, < 2\", obs, \"expected counts, >=2, < 2\", expected,  chisquare(array(obs), expected)\n",
      "    print \"ks-test\", ks_2samp(true_structure_means[key],shuffled_structure_means[key])"
     ],
     "language": "python",
     "metadata": {},
     "outputs": [
      {
       "ename": "NameError",
       "evalue": "name 'true_structure_means' is not defined",
       "output_type": "pyerr",
       "traceback": [
        "\u001b[1;31m---------------------------------------------------------------------------\u001b[0m\n\u001b[1;31mNameError\u001b[0m                                 Traceback (most recent call last)",
        "\u001b[1;32m<ipython-input-30-d62ed6b7f54a>\u001b[0m in \u001b[0;36m<module>\u001b[1;34m()\u001b[0m\n\u001b[0;32m      2\u001b[0m \u001b[1;32mfrom\u001b[0m \u001b[0mscipy\u001b[0m\u001b[1;33m.\u001b[0m\u001b[0mstats\u001b[0m \u001b[1;32mimport\u001b[0m \u001b[0mchisquare\u001b[0m\u001b[1;33m\u001b[0m\u001b[0m\n\u001b[0;32m      3\u001b[0m \u001b[1;33m\u001b[0m\u001b[0m\n\u001b[1;32m----> 4\u001b[1;33m \u001b[1;32mfor\u001b[0m \u001b[0mkey\u001b[0m \u001b[1;32min\u001b[0m \u001b[0mtrue_structure_means\u001b[0m\u001b[1;33m:\u001b[0m\u001b[1;33m\u001b[0m\u001b[0m\n\u001b[0m\u001b[0;32m      5\u001b[0m     \u001b[0mobs\u001b[0m \u001b[1;33m=\u001b[0m \u001b[1;33m[\u001b[0m\u001b[1;33m]\u001b[0m\u001b[1;33m\u001b[0m\u001b[0m\n\u001b[0;32m      6\u001b[0m     \u001b[0mexpected\u001b[0m \u001b[1;33m=\u001b[0m \u001b[1;33m[\u001b[0m\u001b[1;33m]\u001b[0m\u001b[1;33m\u001b[0m\u001b[0m\n",
        "\u001b[1;31mNameError\u001b[0m: name 'true_structure_means' is not defined"
       ]
      }
     ],
     "prompt_number": 30
    },
    {
     "cell_type": "code",
     "collapsed": false,
     "input": [
      "def get_exon_stats(structure_scores):\n",
      "    SE_counts = 0\n",
      "    CE_counts = 0\n",
      "    SE_exons = set([])\n",
      "    CE_exons = set([])\n",
      "    total = 0\n",
      "    total_exons = set([])\n",
      "    for key in structure_scores.keys():\n",
      "        total += 1\n",
      "        \n",
      "        exon =  key.split(\"%\")[0]\n",
      "        total_exons.add(exon)\n",
      "        if \"SE\" in key:\n",
      "            SE_counts += 1\n",
      "            SE_exons.add(exon)\n",
      "        elif \"CE\" in key:\n",
      "            CE_counts +=1\n",
      "            CE_exons.add(exon)\n",
      "            \n",
      "    print \"total: \", total\n",
      "    print \"total exons: \", len(total_exons)\n",
      "    print \"SE Exons: \", len(SE_exons)\n",
      "    print \"CE_Exons: \", len(CE_exons)\n",
      "    print \"SE Bridges: \", SE_counts\n",
      "    print \"CE Bridges: \", CE_counts\n",
      "\n",
      "print get_exon_stats(highly_conserved_structure_scores)\n",
      "print get_exon_stats(conserved_structure_scores)"
     ],
     "language": "python",
     "metadata": {},
     "outputs": [
      {
       "output_type": "stream",
       "stream": "stdout",
       "text": [
        "total:  1373\n",
        "total exons:  236\n",
        "SE Exons:  80\n",
        "CE_Exons:  156\n",
        "SE Bridges:  467\n",
        "CE Bridges:  906\n",
        "None\n",
        "total:  11740\n",
        "total exons:  949\n",
        "SE Exons:  288\n",
        "CE_Exons:  661\n",
        "SE Bridges:  3761\n",
        "CE Bridges:  7979\n",
        "None\n"
       ]
      }
     ],
     "prompt_number": 41
    },
    {
     "cell_type": "code",
     "collapsed": false,
     "input": [],
     "language": "python",
     "metadata": {},
     "outputs": [
      {
       "output_type": "stream",
       "stream": "stdout",
       "text": [
        "ENAH bridge score  1.34590816667\n"
       ]
      }
     ],
     "prompt_number": 22
    },
    {
     "cell_type": "code",
     "collapsed": false,
     "input": [
      "print len(structure_scores_filtered.T)\n",
      "\n",
      "paired_structures_counts = count_highly_scored_bridges(structure_scores_filtered)\n",
      "hist(paired_structures_counts, cumulative=True, normed= True, label=\"True\",histtype=\"step\", bins=50)\n",
      "shuffled_paired_structure_counts = []\n",
      "for shuffled_filtered_score in shuffled_filtered_scores:\n",
      "    print len(shuffled_filtered_score.T)\n",
      "    shuffled_paired_structure_counts.append(count_highly_scored_bridges(shuffled_filtered_score))\n",
      "    hist(count_highly_scored_bridges(shuffled_filtered_score), cumulative=True, normed= True, label=\"Shuffled\",histtype=\"step\", bins=50)\n",
      "#print \"true\", paired_structures_counts\n",
      "#print shuffled_paired_structure_counts\n",
      "#print \"shuffled\", mean(shuffled_paired_structure_counts)\n",
      "#print std(shuffled_paired_structure_counts)\n",
      "legend(loc=3)"
     ],
     "language": "python",
     "metadata": {},
     "outputs": [
      {
       "output_type": "stream",
       "stream": "stdout",
       "text": [
        "1373\n",
        "ENAH bridge score "
       ]
      },
      {
       "output_type": "stream",
       "stream": "stdout",
       "text": [
        " 1.34590816667\n",
        "1373\n",
        "ENAH bridge score "
       ]
      },
      {
       "output_type": "stream",
       "stream": "stdout",
       "text": [
        " nan\n",
        "1373\n",
        "ENAH bridge score "
       ]
      },
      {
       "output_type": "stream",
       "stream": "stdout",
       "text": [
        " 1.60168139535\n",
        "1373\n",
        "ENAH bridge score "
       ]
      },
      {
       "output_type": "stream",
       "stream": "stdout",
       "text": [
        " -3.61915734694\n",
        "1373\n",
        "ENAH bridge score "
       ]
      },
      {
       "output_type": "stream",
       "stream": "stdout",
       "text": [
        " nan\n",
        "1373\n",
        "ENAH bridge score "
       ]
      },
      {
       "output_type": "stream",
       "stream": "stdout",
       "text": [
        " 1.54194333333\n",
        "1373\n",
        "ENAH bridge score "
       ]
      },
      {
       "output_type": "stream",
       "stream": "stdout",
       "text": [
        " 1.27155\n",
        "1373\n",
        "ENAH bridge score "
       ]
      },
      {
       "output_type": "stream",
       "stream": "stdout",
       "text": [
        " 1.27155\n",
        "1373\n",
        "ENAH bridge score "
       ]
      },
      {
       "output_type": "stream",
       "stream": "stdout",
       "text": [
        " 1.27155\n",
        "1373\n",
        "ENAH bridge score "
       ]
      },
      {
       "output_type": "stream",
       "stream": "stdout",
       "text": [
        " nan\n",
        "true 137\n",
        "shuffled 144.777777778\n"
       ]
      }
     ],
     "prompt_number": 26
    },
    {
     "cell_type": "code",
     "collapsed": false,
     "input": [
      "print len(shuffled_filtered_scores)\n",
      "shuffled_structure_count_list = []\n",
      "for shuffled_filtered_score in shuffled_filtered_scores:\n",
      "    shuffled_filtered_score_transposed = shuffled_filtered_score.T\n",
      "    shuffled_matching_structures = []\n",
      "    shuffled_structure_counts = {'uiProx' : [], 'uiDist' : [], 'diProx' : [], 'diDist' : []}\n",
      "    for key in shuffled_filtered_score_transposed.keys():\n",
      "        structs = shuffled_filtered_score_transposed[key]\n",
      "        cur_means = []\n",
      "\n",
      "        for intron_type in structs.keys():\n",
      "            cur_list = structs[intron_type]\n",
      "            if type(cur_list) is list and len(cur_list) > 0:\n",
      "                cur_means.append(mean(cur_list))\n",
      "                shuffled_structure_counts[intron_type].append(mean(cur_list))\n",
      "                \n",
      "        if len(cur_means) == 2:\n",
      "            shuffled_matching_structures.append(cur_means)\n",
      "    shuffled_structure_count_list.append(shuffled_structure_counts)\n",
      "    print len(shuffled_matching_structures)\n",
      "    shuffled_counts, shuffled_locs, foo = hist([ mean(x) for x in shuffled_matching_structures], bins = 100,cumulative=True, normed=True,  fill=False)"
     ],
     "language": "python",
     "metadata": {},
     "outputs": []
    },
    {
     "cell_type": "code",
     "collapsed": false,
     "input": [
      "print shuffled_structure_counts_list[0]['diProx']\n",
      "print true_structure_counts['diProx']\n",
      "for key in true_structure_counts:\n",
      "    count +=1\n",
      "    subplot(2,2,count)\n",
      "    #print true_structure_counts[key]\n",
      "    plot(cumsum(true_structure_counts[key]), label=\"true\")\n",
      "    rnd_count = 0 \n",
      "    for shuffled_structure_counts in shuffled_structure_counts_list:\n",
      "        plot(cumsum(shuffled_structure_counts[key]), label= \"random\" + str(rnd_count))\n",
      "        rnd_count += 1\n",
      "    #legend()"
     ],
     "language": "python",
     "metadata": {},
     "outputs": []
    },
    {
     "cell_type": "code",
     "collapsed": false,
     "input": [
      "#Test to see if background distribution is different from true distribution\n",
      "from scipy.stats import ks_2samp\n",
      "plot(cumsum(shuffled_counts), label=\"shuffled\")\n",
      "plot(cumsum(counts), label=\"true\")\n",
      "legend()\n",
      "ks_2samp(shuffled_counts,counts)\n"
     ],
     "language": "python",
     "metadata": {},
     "outputs": []
    },
    {
     "cell_type": "code",
     "collapsed": false,
     "input": [
      "scored_intervals = pybedtools.BedTool(\"/nas3/gpratt/projects/structure/all.RNAlinks.sorted.bed\")\n",
      "\n",
      "ultra_conserved_links = []\n",
      "for rna_link in scored_intervals:\n",
      "    if rna_link[3] in structure_set:\n",
      "        ultra_conserved_links.append(rna_link)"
     ],
     "language": "python",
     "metadata": {},
     "outputs": []
    },
    {
     "cell_type": "code",
     "collapsed": false,
     "input": [
      "output = open(\"/nas3/gpratt/projects/structure/RNAlinks.mfe15.bed\", 'w')\n",
      "for link in highly_conserved_structure_scores.keys():\n",
      "    #print str(highly_conserved_structure_scores[link][\"everything\"])\n",
      "    output.write(str(highly_conserved_structure_scores[link][\"everything\"]) + \"\\n\")\n",
      "\n",
      "output = open(\"/nas3/gpratt/projects/structure/RNAlinks.all.bed\", 'w')\n",
      "for link in conserved_structure_scores.keys():\n",
      "    #print str(conserved_structure_scores[link][\"everything\"])\n",
      "    output.write(str(conserved_structure_scores[link][\"everything\"]) + \"\\n\")\n"
     ],
     "language": "python",
     "metadata": {},
     "outputs": [],
     "prompt_number": 88
    },
    {
     "cell_type": "code",
     "collapsed": false,
     "input": [
      "structure_hotspots = pybedtools.BedTool(\"/nas3/gpratt/projects/structure/RNAse/hela_xlink_merged_noprotein_structure_hotspots_FDR05.bed\")\n",
      "shuffled_structure_hotspots = pybedtools.BedTool(\"/nas3/gpratt/projects/structure/RNAse/shuffled_hela_xlink_merged_noprotein_structure_regions.bed\")\n",
      "ultra_conserved = pybedtools.BedTool(\"/nas3/lovci/projects/conservation/hg19/mammal_cons/ultra_all.filtered_normsk.BED.gz\")\n",
      "low_conserved = pybedtools.BedTool(\"/nas3/lovci/projects/conservation/hg19/mammal_cons/low.all.BED.gz\")\n",
      "RNA_bridges = pybedtools.BedTool(\"/nas3/gpratt/projects/structure/RNAlinks.all.bed\")\n",
      "ultra_distintron_conserved = pybedtools.BedTool(\"/nas3/lovci/projects/conservation/hg19/mammal_cons/ultra_distintron.filtered_normsk.BED.gz\")\n",
      "ultra_proxintron_conserved = pybedtools.BedTool(\"/nas3/lovci/projects/conservation/hg19/mammal_cons/ultra_proxintron.filtered_normsk.BED.gz\")\n",
      "low_distintron_conserved = pybedtools.BedTool(\"/nas3/lovci/projects/conservation/hg19/mammal_cons/low_distintron.filtered_normsk.BED.gz\")\n",
      "low_proxintron_conserved = pybedtools.BedTool(\"/nas3/lovci/projects/conservation/hg19/mammal_cons/low_proxintron.filtered_normsk.BED.gz\")\n"
     ],
     "language": "python",
     "metadata": {},
     "outputs": [],
     "prompt_number": 2
    },
    {
     "cell_type": "code",
     "collapsed": false,
     "input": [
      "print len(structure_hotspots)\n",
      "\n",
      "#get length distributions\n",
      "\n",
      "structure_hotspots\n",
      "print len(shuffled_structure_hotspots)"
     ],
     "language": "python",
     "metadata": {},
     "outputs": [
      {
       "output_type": "stream",
       "stream": "stdout",
       "text": [
        "375113\n",
        "356807"
       ]
      },
      {
       "output_type": "stream",
       "stream": "stdout",
       "text": [
        "\n"
       ]
      }
     ],
     "prompt_number": 98
    },
    {
     "cell_type": "code",
     "collapsed": false,
     "input": [
      "\n",
      "total = []\n",
      "for line in structure_hotspots:\n",
      "    total.append(line.stop - line.start)\n",
      "subplot(2,1,1)    \n",
      "hist(total, bins=100)\n",
      "\n",
      "\n",
      "total = []\n",
      "for line in shuffled_structure_hotspots:\n",
      "    total.append(line.stop - line.start)\n",
      "subplot(2,1,2)\n",
      "hist(total, bins=100)"
     ],
     "language": "python",
     "metadata": {},
     "outputs": [
      {
       "output_type": "pyout",
       "prompt_number": 124,
       "text": [
        "(array([50816, 29068, 26360, 24184, 22160, 19919, 18329, 16532, 15096,\n",
        "       13769, 12576, 11625, 10546,  9618,  8831,  7855, 10137,  5879,\n",
        "        5142,  4516,  3967,  3517,  3214,  2743,  2458,  2166,  1981,\n",
        "        1687,  1460,  1124,  1083,   903,   813,  1026,   617,   557,\n",
        "         467,   446,   374,   359,   298,   287,   247,   224,   219,\n",
        "         182,   146,   132,   129,   119,   154,    80,    93,    59,\n",
        "          70,    44,    45,    33,    36,    32,    28,    35,    27,\n",
        "          17,     9,    16,    15,     8,    15,    10,    10,     6,\n",
        "           5,     4,     3,     8,     1,     7,     3,     4,     4,\n",
        "           1,     3,     3,     1,     1,     2,     3,     2,     0,\n",
        "           0,     1,     1,     1,     0,     2,     0,     1,     0,     1]),\n",
        " array([  51.  ,   53.06,   55.12,   57.18,   59.24,   61.3 ,   63.36,\n",
        "         65.42,   67.48,   69.54,   71.6 ,   73.66,   75.72,   77.78,\n",
        "         79.84,   81.9 ,   83.96,   86.02,   88.08,   90.14,   92.2 ,\n",
        "         94.26,   96.32,   98.38,  100.44,  102.5 ,  104.56,  106.62,\n",
        "        108.68,  110.74,  112.8 ,  114.86,  116.92,  118.98,  121.04,\n",
        "        123.1 ,  125.16,  127.22,  129.28,  131.34,  133.4 ,  135.46,\n",
        "        137.52,  139.58,  141.64,  143.7 ,  145.76,  147.82,  149.88,\n",
        "        151.94,  154.  ,  156.06,  158.12,  160.18,  162.24,  164.3 ,\n",
        "        166.36,  168.42,  170.48,  172.54,  174.6 ,  176.66,  178.72,\n",
        "        180.78,  182.84,  184.9 ,  186.96,  189.02,  191.08,  193.14,\n",
        "        195.2 ,  197.26,  199.32,  201.38,  203.44,  205.5 ,  207.56,\n",
        "        209.62,  211.68,  213.74,  215.8 ,  217.86,  219.92,  221.98,\n",
        "        224.04,  226.1 ,  228.16,  230.22,  232.28,  234.34,  236.4 ,\n",
        "        238.46,  240.52,  242.58,  244.64,  246.7 ,  248.76,  250.82,\n",
        "        252.88,  254.94,  257.  ]),\n",
        " <a list of 100 Patch objects>)"
       ]
      },
      {
       "output_type": "display_data",
       "png": "[encoded data removed]"
      }
     ],
     "prompt_number": 124
    },
    {
     "cell_type": "code",
     "collapsed": false,
     "input": [
      "ultra_intersect = ultra_conserved.intersect(structure_hotspots, u=True)\n",
      "low_intersect = low_conserved.intersect(structure_hotspots, u=True)\n",
      "shuffled_ultra_intersect = ultra_conserved.intersect(shuffled_structure_hotspots, u=True)\n",
      "shuffled_low_intersect = low_conserved.intersect(shuffled_structure_hotspots, u=True)\n",
      "\n"
     ],
     "language": "python",
     "metadata": {},
     "outputs": [],
     "prompt_number": 3
    },
    {
     "cell_type": "code",
     "collapsed": false,
     "input": [
      "ultra_distintron_conserved_intersect = ultra_distintron_conserved.intersect(structure_hotspots, u=True)\n",
      "ultra_proxintron_conserved_intersect = ultra_proxintron_conserved.intersect(structure_hotspots, u=True)\n",
      "low_distintron_conserved_intersect = low_distintron_conserved.intersect(structure_hotspots, u=True)\n",
      "low_proxintron_conserved_intersect = low_proxintron_conserved.intersect(structure_hotspots, u=True)\n",
      "\n",
      "shuffled_ultra_distintron_conserved_intersect = ultra_distintron_conserved.intersect(shuffled_structure_hotspots, u=True)\n",
      "shuffled_ultra_proxintron_conserved_intersect = ultra_proxintron_conserved.intersect(shuffled_structure_hotspots, u=True)\n",
      "shuffled_low_distintron_conserved_intersect = low_distintron_conserved.intersect(shuffled_structure_hotspots, u=True)\n",
      "shuffled_low_proxintron_conserved_intersect = low_proxintron_conserved.intersect(shuffled_structure_hotspots, u=True)"
     ],
     "language": "python",
     "metadata": {},
     "outputs": [],
     "prompt_number": 4
    },
    {
     "cell_type": "code",
     "collapsed": false,
     "input": [
      "#reverse data generation\n",
      "structure_ultra_intersect = structure_hotspots.intersect(ultra_conserved, u=True)\n",
      "structure_low_intersect = structure_hotspots.intersect(low_conserved, u=True)\n",
      "shuffled_structure_ultra_intersect = shuffled_structure_hotspots.intersect(ultra_conserved, u=True)\n",
      "shuffled_structure_low_intersect = shuffled_structure_hotspots.intersect(low_conserved, u=True)"
     ],
     "language": "python",
     "metadata": {},
     "outputs": [],
     "prompt_number": 5
    },
    {
     "cell_type": "code",
     "collapsed": false,
     "input": [
      "#gets total counts for everything\n",
      "ultra_len = len(ultra_conserved)\n",
      "low_len = len(low_conserved)\n",
      "ultra_distintron_conserved_len = len(ultra_distintron_conserved)\n",
      "ultra_proxintron_conserved_len = len(ultra_proxintron_conserved)\n",
      "low_distintron_conserved_len = len(low_distintron_conserved)\n",
      "low_proxintron_conserved_len = len(low_proxintron_conserved)\n",
      "\n",
      "structure_len = len(structure_hotspots)\n",
      "shuffled_structure_len = len(shuffled_structure_hotspots)"
     ],
     "language": "python",
     "metadata": {},
     "outputs": [],
     "prompt_number": 6
    },
    {
     "cell_type": "code",
     "collapsed": false,
     "input": [
      "print ultra_distintron_conserved_len\n",
      "print ultra_proxintron_conserved_len"
     ],
     "language": "python",
     "metadata": {},
     "outputs": [
      {
       "output_type": "stream",
       "stream": "stdout",
       "text": [
        "234261\n",
        "187555\n"
       ]
      }
     ],
     "prompt_number": 7
    },
    {
     "cell_type": "code",
     "collapsed": false,
     "input": [
      "#Generally SCRs that intersect with structure hotspots / #of SCRs \n",
      "print \"ultra intersected with structure\", len(ultra_intersect) / float(ultra_len)\n",
      "print \"shuffled ultra intersected with structure\",len(shuffled_ultra_intersect) / float(ultra_len)\n",
      "print \n",
      "print \"low intersected with structure\", len(low_intersect) / float(low_len)\n",
      "print \"shuffled low intersected with structure\",len(shuffled_low_intersect) / float(low_len)\n",
      "print\n",
      "print \"ultra_distintron_conserved_intersect\", len(ultra_distintron_conserved_intersect) / float(ultra_distintron_conserved_len)\n",
      "print \"ultra_proxintron_conserved_intersect\", len(ultra_proxintron_conserved_intersect) / float(ultra_proxintron_conserved_len)\n",
      "print\n",
      "print \"low_distintron_conserved\", len(low_distintron_conserved_intersect) / float(low_distintron_conserved_len)\n",
      "print \"low_proxintron_conserved\" ,len(low_proxintron_conserved_intersect) / float(low_proxintron_conserved_len)\n",
      "print\n",
      "print \"shuffled_ultra_distintron_conserved_intersect\", len(shuffled_ultra_distintron_conserved_intersect) / float(ultra_distintron_conserved_len)\n",
      "print \"shuffled_ultra_proxintron_conserved_intersect\", len(shuffled_ultra_proxintron_conserved_intersect) / float(ultra_proxintron_conserved_len)\n",
      "print\n",
      "print \"shuffled_low_distintron_conserved\", len(shuffled_low_distintron_conserved_intersect) / float(low_distintron_conserved_len)\n",
      "print \"shuffled_low_proxintron_conserved\", len(shuffled_low_proxintron_conserved_intersect) / float(low_proxintron_conserved_len)\n",
      "#do for proxial and distal "
     ],
     "language": "python",
     "metadata": {},
     "outputs": [
      {
       "output_type": "stream",
       "stream": "stdout",
       "text": [
        " ultra intersected with structure "
       ]
      },
      {
       "output_type": "stream",
       "stream": "stdout",
       "text": [
        "0.161202623473\n",
        "shuffled ultra intersected with structure "
       ]
      },
      {
       "output_type": "stream",
       "stream": "stdout",
       "text": [
        "0.0570356707508\n",
        "\n",
        "low intersected with structure "
       ]
      },
      {
       "output_type": "stream",
       "stream": "stdout",
       "text": [
        "0.0408803894248\n",
        "shuffled low intersected with structure "
       ]
      },
      {
       "output_type": "stream",
       "stream": "stdout",
       "text": [
        "0.0279936324927\n",
        "\n",
        "ultra_distintron_conserved_intersect 0.0353494606443\n",
        "ultra_proxintron_conserved_intersect"
       ]
      },
      {
       "output_type": "stream",
       "stream": "stdout",
       "text": [
        " 0.11189251153\n",
        "\n",
        "low_distintron_conserved "
       ]
      },
      {
       "output_type": "stream",
       "stream": "stdout",
       "text": [
        "0.0333377457865\n",
        "low_proxintron_conserved "
       ]
      },
      {
       "output_type": "stream",
       "stream": "stdout",
       "text": [
        "0.0357885315008\n",
        "\n",
        "shuffled_ultra_distintron_conserved_intersect 0.0249508027371\n",
        "shuffled_ultra_proxintron_conserved_intersect "
       ]
      },
      {
       "output_type": "stream",
       "stream": "stdout",
       "text": [
        "0.0325184612514\n",
        "\n",
        "shuffled_low_distintron_conserved "
       ]
      },
      {
       "output_type": "stream",
       "stream": "stdout",
       "text": [
        "0.0267585061368\n",
        "shuffled_low_proxintron_conserved "
       ]
      },
      {
       "output_type": "stream",
       "stream": "stdout",
       "text": [
        "0.0267102654424\n"
       ]
      }
     ],
     "prompt_number": 9
    },
    {
     "cell_type": "code",
     "collapsed": false,
     "input": [
      "#Revese of above\n",
      "print \"structure intersected with ultra intersected \", len(structure_ultra_intersect) / float(structure_len)\n",
      "print \"structure  intersected with shuffled ultra \",len(shuffled_structure_ultra_intersect) / float(shuffled_structure_len)\n",
      "print \"structure  intersected with low \", len(structure_low_intersect) / float(structure_len)\n",
      "print \"structure  intersected with shuffled low \",len(shuffled_structure_low_intersect) / float(shuffled_structure_len)"
     ],
     "language": "python",
     "metadata": {},
     "outputs": [
      {
       "output_type": "stream",
       "stream": "stdout",
       "text": [
        "structure intersected with ultra intersected  "
       ]
      },
      {
       "output_type": "stream",
       "stream": "stdout",
       "text": [
        "0.169775507647\n",
        "structure  intersected with shuffled ultra  "
       ]
      },
      {
       "output_type": "stream",
       "stream": "stdout",
       "text": [
        "0.0768398602045\n",
        "structure  intersected with low  "
       ]
      },
      {
       "output_type": "stream",
       "stream": "stdout",
       "text": [
        "0.218134268874\n",
        "structure  intersected with shuffled low  "
       ]
      },
      {
       "output_type": "stream",
       "stream": "stdout",
       "text": [
        "0.17723867525\n"
       ]
      }
     ],
     "prompt_number": 83
    },
    {
     "cell_type": "code",
     "collapsed": false,
     "input": [
      "print \"ultra total\", ultra_len\n",
      "print \"low total\", low_len\n",
      "\n",
      "print \"ultra intersect\", len(ultra_intersect)\n",
      "print \"shuffled_ultra_intersect\", len(shuffled_ultra_intersect)\n",
      "print \"low_intersectt\", len(low_intersect)\n",
      "print \"shuffled_low_intersect\", len(shuffled_low_intersect)"
     ],
     "language": "python",
     "metadata": {},
     "outputs": [
      {
       "output_type": "stream",
       "stream": "stdout",
       "text": [
        "ultra total 655467\n",
        "low total 2820570\n",
        "ultra intersect "
       ]
      },
      {
       "output_type": "stream",
       "stream": "stdout",
       "text": [
        "105663\n",
        "shuffled_ultra_intersect "
       ]
      },
      {
       "output_type": "stream",
       "stream": "stdout",
       "text": [
        "37385\n",
        "low_intersectt "
       ]
      },
      {
       "output_type": "stream",
       "stream": "stdout",
       "text": [
        "115306\n",
        "shuffled_low_intersect "
       ]
      },
      {
       "output_type": "stream",
       "stream": "stdout",
       "text": [
        "78958\n"
       ]
      }
     ],
     "prompt_number": 84
    },
    {
     "cell_type": "code",
     "collapsed": false,
     "input": [
      "intersected_RNA_bridges = RNA_bridges.intersect(structure_hotspots, u=True)\n",
      "shuffled_intersected_RNA_bridges = RNA_bridges.intersect(shuffled_structure_hotspots, u=True)"
     ],
     "language": "python",
     "metadata": {},
     "outputs": [],
     "prompt_number": 91
    },
    {
     "cell_type": "code",
     "collapsed": false,
     "input": [
      "#a single RNA bridges overlaps many different hotspots (without the unique tag it goes way up...)\n",
      "print len(intersected_RNA_bridges)\n",
      "print len(shuffled_intersected_RNA_bridges)"
     ],
     "language": "python",
     "metadata": {},
     "outputs": [
      {
       "output_type": "stream",
       "stream": "stdout",
       "text": [
        "4548\n",
        "5198"
       ]
      },
      {
       "output_type": "stream",
       "stream": "stdout",
       "text": [
        "\n"
       ]
      }
     ],
     "prompt_number": 92
    },
    {
     "cell_type": "code",
     "collapsed": false,
     "input": [
      "!bed12ToBed6 -i /nas3/gpratt/projects/structure/RNAlinks.mfe15.bed > /nas3/gpratt/projects/structure/RNAlinks.mfe15.split.bed\n",
      "individual_links = pybedtools.BedTool(\"/nas3/gpratt/projects/structure/RNAlinks.mfe15.split.bed\")"
     ],
     "language": "python",
     "metadata": {},
     "outputs": [],
     "prompt_number": 14
    },
    {
     "cell_type": "code",
     "collapsed": false,
     "input": [
      "\n",
      "#hotspots are clustered away from the center of introns...\n",
      "feet_with_structure = individual_links.intersect(structure_hotspots, u=True)\n",
      "shuffled_feet_with_structure = individual_links.intersect(shuffled_structure_hotspots, u=True)"
     ],
     "language": "python",
     "metadata": {},
     "outputs": [],
     "prompt_number": 94
    },
    {
     "cell_type": "code",
     "collapsed": false,
     "input": [
      "#number of piscrs and discrs that intersect with bridges \n",
      "#STRUCTURE SCORE NUMBERS\n",
      "distal_feet = individual_links.intersect(ultra_distintron_conserved, u=True)\n",
      "proxial_feet = individual_links.intersect(ultra_proxintron_conserved, u=True)\n",
      "\n",
      "\n",
      "\n",
      "distal_a = len(distal_feet.intersect(structure_hotspots)) # / float(len(distal_feet))\n",
      "distal_b = len(distal_feet.intersect(shuffled_structure_hotspots))# / float(len(proxial_feet))\n",
      "distal_c = float(len(distal_feet)) - len(distal_feet.intersect(structure_hotspots))\n",
      "distal_d = float(len(distal_feet)) - len(distal_feet.intersect(shuffled_structure_hotspots)) \n",
      "\n",
      "proxial_a = len(proxial_feet.intersect(structure_hotspots)) # / float(len(distal_feet))\n",
      "proxial_b = len(proxial_feet.intersect(shuffled_structure_hotspots))# / float(len(proxial_feet))\n",
      "proxial_c = float(len(proxial_feet)) - len(proxial_feet.intersect(structure_hotspots))\n",
      "proxial_d = float(len(proxial_feet)) - len(proxial_feet.intersect(shuffled_structure_hotspots)) \n",
      "#shuffled_distal_feet_scores = len(distal_feet.intersect(shuffled_structure_hotspots)) #/ float(len(distal_feet))\n",
      "#shuffled_proximal_feet_scores = len(proxial_feet.intersect(shuffled_structure_hotspots))# / float(len(proxial_feet))"
     ],
     "language": "python",
     "metadata": {},
     "outputs": [],
     "prompt_number": 41
    },
    {
     "cell_type": "code",
     "collapsed": false,
     "input": [
      "from scipy.stats import chi2_contingency\n",
      "print distal_a\n",
      "print distal_b\n",
      "print distal_c\n",
      "print distal_d\n",
      "foo = array([[distal_a, distal_b], [distal_c, distal_d]] )\n",
      "print chi2_contingency(foo, correction=True)\n",
      "\n",
      "foo = array([[proxial_a, proxial_b], [proxial_c, proxial_d]] )\n",
      "print chi2_contingency(foo, correction=True)"
     ],
     "language": "python",
     "metadata": {},
     "outputs": [
      {
       "output_type": "stream",
       "stream": "stdout",
       "text": [
        "72\n",
        "49\n",
        "1310.0\n",
        "1333.0\n",
        "(4.1831252364737033, 0.040828346282120072, 1, array([[   60.5,    60.5],\n",
        "       [ 1321.5,  1321.5]]))\n",
        "(1.4452018986391706, 0.22929941159633349, 1, array([[   35.5,    35.5],\n",
        "       [ 1360.5,  1360.5]]))\n"
       ]
      }
     ],
     "prompt_number": 44
    },
    {
     "cell_type": "code",
     "collapsed": false,
     "input": [
      "print len(feet_with_structure)\n",
      "print len(shuffled_feet_with_structure)\n",
      "\n",
      "#~3% of feet overlap with a hotspot.\n",
      "#Hotspots are more likely to fall in proxial vs distal locations\n",
      "#shuffled hotspots are STILL more likely to form bridges (although both probablities are very rare)\n"
     ],
     "language": "python",
     "metadata": {},
     "outputs": [
      {
       "output_type": "stream",
       "stream": "stdout",
       "text": [
        "1039"
       ]
      },
      {
       "output_type": "stream",
       "stream": "stdout",
       "text": [
        "\n",
        "963\n"
       ]
      }
     ],
     "prompt_number": 95
    },
    {
     "cell_type": "code",
     "collapsed": false,
     "input": [
      "true_bridges = {}\n",
      "shuffled_bridges = {}\n",
      "normal_count = 0\n",
      "shuffled_count = 0\n",
      "for foot in feet_with_structure:\n",
      "    if foot.name not in true_bridges:\n",
      "        true_bridges[foot.name] = 0\n",
      "    true_bridges[foot.name] += 1\n",
      "    if true_bridges[foot.name] >= 2:\n",
      "        print foot.name\n",
      "        normal_count += 1\n",
      "        \n",
      "print\n",
      "for foot in shuffled_feet_with_structure:\n",
      "    if foot.name not in shuffled_bridges:\n",
      "        shuffled_bridges[foot.name] = 0\n",
      "    shuffled_bridges[foot.name] += 1\n",
      "    \n",
      "    if shuffled_bridges[foot.name] >= 2:\n",
      "        print foot.name\n",
      "        shuffled_count += 1\n",
      "        \n",
      "print normal_count\n",
      "print shuffled_count"
     ],
     "language": "python",
     "metadata": {},
     "outputs": [
      {
       "output_type": "stream",
       "stream": "stdout",
       "text": [
        "ENSG00000058091_18%CE:%diProx_diDist_20895645\n",
        "ENSG00000058091_18%CE:%diProx_diDist_20895942\n",
        "ENSG00000064042_8%SE:%diProx_diDist_16983926\n",
        "ENSG00000064042_8%SE:%diProx_diDist_16983944\n",
        "ENSG00000064042_8%SE:%diProx_diDist_16983950\n",
        "ENSG00000064042_8%SE:%diProx_diDist_16984024\n",
        "ENSG00000064042_8%SE:%diProx_diDist_16984069\n",
        "ENSG00000069020_4%SE:%uiProx_uiDist_18222087\n",
        "ENSG00000071626_7%CE:%diProx_diDist_10959274\n",
        "ENSG00000071626_8%CE:%uiProx_uiDist_10959288\n",
        "ENSG00000077514_11%CE:%uiProx_uiDist_4036626\n",
        "ENSG00000100320_7%CE:%diProx_diDist_15033659\n",
        "ENSG00000100320_7%CE:%diProx_diDist_15033660\n",
        "ENSG00000100320_7%CE:%diProx_diDist_15033663\n",
        "ENSG00000100320_7%CE:%diProx_diDist_15033667\n",
        "ENSG00000100320_7%CE:%diProx_diDist_15033676\n",
        "ENSG00000100320_7%CE:%diProx_diDist_15033683\n",
        "ENSG00000100320_7%CE:%diProx_diDist_15033686\n",
        "ENSG00000100320_7%CE:%diProx_diDist_15033691\n",
        "ENSG00000100320_7%CE:%diProx_diDist_15033692\n",
        "ENSG00000101019_10%SE:%diProx_diDist_13911373\n",
        "ENSG00000101019_10%SE:%diProx_diDist_13911377\n",
        "ENSG00000101868_37%CE:%diProx_diDist_23195195\n",
        "ENSG00000101868_37%CE:%diProx_diDist_23195326\n",
        "ENSG00000101868_37%CE:%diProx_diDist_23195332\n",
        "ENSG00000101868_37%CE:%diProx_diDist_23195333\n",
        "ENSG00000101868_37%CE:%diProx_diDist_23195352\n",
        "ENSG00000101868_37%CE:%diProx_diDist_23195377\n",
        "ENSG00000101868_37%CE:%diProx_diDist_23195566\n",
        "ENSG00000101868_37%CE:%diProx_diDist_23197112\n",
        "ENSG00000101868_37%CE:%diProx_diDist_23197113\n",
        "ENSG00000107164_8%CE:%uiProx_uiDist_22152138\n",
        "ENSG00000107164_8%CE:%uiProx_uiDist_22152157\n",
        "ENSG00000107164_8%CE:%uiProx_uiDist_22152217\n",
        "ENSG00000107164_8%CE:%uiProx_uiDist_22152221\n",
        "ENSG00000108270_9%CE:%uiProx_uiDist_9674644\n",
        "ENSG00000112319_10%CE:%uiProx_uiDist_18643863\n",
        "ENSG00000112319_10%CE:%uiProx_uiDist_18643864\n",
        "ENSG00000112319_10%CE:%uiProx_uiDist_18643878\n",
        "ENSG00000113600_13%CE:%diProx_diDist_18126715\n",
        "ENSG00000128573_6%SE:%uiProx_uiDist_19798953\n",
        "ENSG00000128573_6%SE:%uiProx_uiDist_19798974\n",
        "ENSG00000128573_6%SE:%uiProx_uiDist_19800032\n",
        "ENSG00000128708_4%SE:%diProx_diDist_12197970\n",
        "ENSG00000130449_3%CE:%uiProx_uiDist_18180088\n",
        "ENSG00000132142_21%CE:%uiProx_uiDist_9677650\n",
        "ENSG00000134138_5%CE:%diProx_diDist_7311729\n",
        "ENSG00000135250_20%SE:%diProx_diDist_19715260\n",
        "ENSG00000136153_16%SE:%diProx_diDist_6188573\n",
        "ENSG00000136153_16%SE:%diProx_diDist_6188582\n",
        "ENSG00000136153_16%SE:%diProx_diDist_6188604\n",
        "ENSG00000136153_16%SE:%diProx_diDist_6188620\n",
        "ENSG00000136536_12%SE:%diProx_diDist_12069575\n",
        "ENSG00000136861_40%CE:%uiProx_uiDist_21849694\n",
        "ENSG00000138668_8%SE:%uiProx_uiDist_17220153\n",
        "ENSG00000138668_8%SE:%uiProx_uiDist_17220212\n",
        "ENSG00000138668_8%SE:%uiProx_uiDist_17220227\n",
        "ENSG00000138668_9%SE:%diProx_diDist_17220605\n",
        "ENSG00000138668_9%SE:%diProx_diDist_17220885\n",
        "ENSG00000138802_5%SE:%uiProx_uiDist_16541088\n",
        "ENSG00000141298_17%SE:%uiProx_uiDist_9487428\n",
        "ENSG00000170653_12%CE:%uiProx_uiDist_5275591\n",
        "ENSG00000170653_12%CE:%uiProx_uiDist_5275594\n",
        "ENSG00000170653_12%CE:%uiProx_uiDist_5275644\n",
        "ENSG00000170653_12%CE:%uiProx_uiDist_5275795\n",
        "ENSG00000197157_26%SE:%uiProx_uiDist_19867716\n",
        "ENSG00000197157_26%SE:%uiProx_uiDist_19867742\n",
        "ENSG00000197157_26%SE:%uiProx_uiDist_19867801\n",
        "ENSG00000197157_26%SE:%uiProx_uiDist_19867822\n",
        "ENSG00000197157_26%SE:%uiProx_uiDist_19867853\n",
        "ENSG00000197157_26%SE:%uiProx_uiDist_19867981\n",
        "ENSG00000197157_26%SE:%uiProx_uiDist_19868135\n",
        "ENSG00000197157_26%SE:%uiProx_uiDist_19868160\n",
        "ENSG00000197157_26%SE:%uiProx_uiDist_19868430\n",
        "\n",
        "ENSG00000008086_20%CE:%diProx_diDist_23097971\n",
        "ENSG00000008086_20%CE:%diProx_diDist_23097977\n",
        "ENSG00000008086_20%CE:%diProx_diDist_23097991\n",
        "ENSG00000008086_20%CE:%diProx_diDist_23097993\n",
        "ENSG00000008086_20%CE:%diProx_diDist_23098009\n",
        "ENSG00000008086_20%CE:%diProx_diDist_23098010\n",
        "ENSG00000008086_20%CE:%diProx_diDist_23098104\n",
        "ENSG00000008086_20%CE:%diProx_diDist_23098123\n",
        "ENSG00000008086_20%CE:%diProx_diDist_23098125\n",
        "ENSG00000008086_20%CE:%diProx_diDist_23098126\n",
        "ENSG00000008086_20%CE:%diProx_diDist_23098228\n",
        "ENSG00000008086_20%CE:%diProx_diDist_23098243\n",
        "ENSG00000008086_20%CE:%diProx_diDist_23098245\n",
        "ENSG00000008086_20%CE:%diProx_diDist_23098246\n",
        "ENSG00000008086_20%CE:%diProx_diDist_23098318\n",
        "ENSG00000008086_20%CE:%diProx_diDist_23098328\n",
        "ENSG00000008086_20%CE:%diProx_diDist_23098330\n",
        "ENSG00000008086_20%CE:%diProx_diDist_23098337\n",
        "ENSG00000011258_12%SE:%diProx_diDist_9996767\n",
        "ENSG00000011258_12%SE:%diProx_diDist_9996769\n",
        "ENSG00000011258_12%SE:%diProx_diDist_9996773\n",
        "ENSG00000011258_12%SE:%diProx_diDist_9996775\n",
        "ENSG00000011258_12%SE:%diProx_diDist_9996778\n",
        "ENSG00000011258_12%SE:%diProx_diDist_9996779\n",
        "ENSG00000044459_27%CE:%diProx_diDist_22296559\n",
        "ENSG00000044459_27%CE:%diProx_diDist_22296563\n",
        "ENSG00000044459_27%CE:%diProx_diDist_22296569\n",
        "ENSG00000044459_27%CE:%diProx_diDist_22296583\n",
        "ENSG00000069020_4%SE:%uiProx_uiDist_18221869\n",
        "ENSG00000069020_4%SE:%uiProx_uiDist_18221955\n",
        "ENSG00000069020_4%SE:%uiProx_uiDist_18222087\n",
        "ENSG00000071626_8%CE:%uiProx_uiDist_10962408\n",
        "ENSG00000080503_31%CE:%diProx_diDist_22311590\n",
        "ENSG00000087095_3%CE:%diProx_diDist_9453576\n",
        "ENSG00000087095_3%CE:%diProx_diDist_9453612\n",
        "ENSG00000087095_3%CE:%diProx_diDist_9453621\n",
        "ENSG00000087095_3%CE:%diProx_diDist_9453630\n",
        "ENSG00000100320_7%CE:%diProx_diDist_15033692\n",
        "ENSG00000101019_10%SE:%diProx_diDist_13910356\n",
        "ENSG00000101019_10%SE:%diProx_diDist_13910917\n",
        "ENSG00000101019_10%SE:%diProx_diDist_13911367\n",
        "ENSG00000101868_37%CE:%diProx_diDist_23195188\n",
        "ENSG00000101868_37%CE:%diProx_diDist_23195195\n",
        "ENSG00000101868_37%CE:%diProx_diDist_23195299\n",
        "ENSG00000101868_37%CE:%diProx_diDist_23195327\n",
        "ENSG00000101868_37%CE:%diProx_diDist_23195354\n",
        "ENSG00000101868_37%CE:%diProx_diDist_23195355\n",
        "ENSG00000101868_37%CE:%diProx_diDist_23195356\n",
        "ENSG00000101868_37%CE:%diProx_diDist_23195377\n",
        "ENSG00000101868_37%CE:%diProx_diDist_23195561\n",
        "ENSG00000101868_37%CE:%diProx_diDist_23195578\n",
        "ENSG00000101868_37%CE:%diProx_diDist_23197100\n",
        "ENSG00000101868_37%CE:%diProx_diDist_23197178\n",
        "ENSG00000101868_37%CE:%uiProx_uiDist_23192860\n",
        "ENSG00000113648_3%CE:%uiProx_uiDist_17491362\n",
        "ENSG00000117419_4%CE:%diProx_diDist_1593236\n",
        "ENSG00000117419_4%CE:%diProx_diDist_1593243\n",
        "ENSG00000117419_4%CE:%diProx_diDist_1593249\n",
        "ENSG00000117419_4%CE:%diProx_diDist_1593258\n",
        "ENSG00000117419_4%CE:%diProx_diDist_1593261\n",
        "ENSG00000117419_4%CE:%diProx_diDist_1593262\n",
        "ENSG00000117419_4%CE:%diProx_diDist_1593594\n",
        "ENSG00000117419_4%CE:%diProx_diDist_1594350\n",
        "ENSG00000117419_4%CE:%diProx_diDist_1594360\n",
        "ENSG00000122966_32%SE:%diProx_diDist_4547872\n",
        "ENSG00000125686_2%CE:%diProx_diDist_9731375\n",
        "ENSG00000125686_2%CE:%diProx_diDist_9731377\n",
        "ENSG00000136861_40%CE:%uiProx_uiDist_21849694\n",
        "74\n",
        "68\n"
       ]
      }
     ],
     "prompt_number": 97
    },
    {
     "cell_type": "code",
     "collapsed": false,
     "input": [
      "print #true_bridges\n",
      "print #shuffled_bridges"
     ],
     "language": "python",
     "metadata": {},
     "outputs": [
      {
       "output_type": "stream",
       "stream": "stdout",
       "text": [
        "{'ENSG00000035403_21%SE:%diProx_diDist_2805212': 1, 'ENSG00000054282_19%CE:%diProx_diDist_1214916': 1, 'ENSG00000056097_5%SE:%uiProx_uiDist_18036994': 1, 'ENSG00000129158_2%SE:%diProx_diDist_3545076': 1, 'ENSG00000064652_6%CE:%uiProx_uiDist_17362682': 1, 'ENSG00000129158_2%SE:%diProx_diDist_3545079': 1, 'ENSG00000056097_5%SE:%uiProx_uiDist_18036999': 1, 'ENSG00000119487_18%SE:%uiProx_uiDist_21991986': 1, 'ENSG00000008086_20%CE:%diProx_diDist_23098412': 1, 'ENSG00000054282_19%CE:%diProx_diDist_1214976': 1, 'ENSG00000129158_2%SE:%diProx_diDist_3547225': 1, 'ENSG00000132142_27%CE:%uiProx_uiDist_9678341': 1, 'ENSG00000111481_5%CE:%diProx_diDist_5282842': 1, 'ENSG00000132142_27%CE:%uiProx_uiDist_9678344': 1, 'ENSG00000132142_27%CE:%uiProx_uiDist_9678345': 1, 'ENSG00000112992_22%SE:%uiProx_uiDist_18144296': 1, 'ENSG00000008086_20%CE:%diProx_diDist_23098004': 1, 'ENSG00000008086_20%CE:%diProx_diDist_23098005': 1, 'ENSG00000102935_5%CE:%uiProx_uiDist_8655156': 1, 'ENSG00000008086_20%CE:%diProx_diDist_23097836': 1, 'ENSG00000129158_2%SE:%diProx_diDist_3548003': 1, 'ENSG00000129158_2%SE:%diProx_diDist_3548001': 1, 'ENSG00000102935_5%CE:%uiProx_uiDist_8655326': 1, 'ENSG00000107164_8%CE:%uiProx_uiDist_22152140': 1, 'ENSG00000101868_37%CE:%diProx_diDist_23195332': 2, 'ENSG00000008086_20%CE:%diProx_diDist_23097447': 1, 'ENSG00000001617_8%CE:%uiProx_uiDist_16262824': 1, 'ENSG00000129158_2%SE:%diProx_diDist_3545059': 1, 'ENSG00000134138_6%CE:%uiProx_uiDist_7318924': 1, 'ENSG00000107164_8%CE:%uiProx_uiDist_22152136': 1, 'ENSG00000008086_20%CE:%diProx_diDist_23098441': 1, 'ENSG00000118454_5%CE:%uiProx_uiDist_1871680': 1, 'ENSG00000008086_20%CE:%diProx_diDist_23097593': 1, 'ENSG00000008086_20%CE:%diProx_diDist_23097597': 1, 'ENSG00000008086_20%CE:%diProx_diDist_23097594': 1, 'ENSG00000101868_37%CE:%diProx_diDist_23195568': 1, 'ENSG00000082898_19%CE:%uiProx_uiDist_13292101': 1, 'ENSG00000035403_21%SE:%diProx_diDist_2805194': 1, 'ENSG00000129158_2%SE:%diProx_diDist_3547280': 1, 'ENSG00000008086_20%CE:%diProx_diDist_23097850': 1, 'ENSG00000008086_20%CE:%diProx_diDist_23097993': 1, 'ENSG00000129158_2%SE:%diProx_diDist_3547288': 1, 'ENSG00000008086_20%CE:%diProx_diDist_23097991': 1, 'ENSG00000129158_2%SE:%diProx_diDist_3547219': 1, 'ENSG00000089094_24%CE:%diProx_diDist_4624057': 1, 'ENSG00000008086_20%CE:%diProx_diDist_23097771': 1, 'ENSG00000008086_20%CE:%diProx_diDist_23097861': 1, 'ENSG00000008086_20%CE:%diProx_diDist_23097869': 1, 'ENSG00000134138_6%CE:%uiProx_uiDist_7319212': 1, 'ENSG00000008086_20%CE:%diProx_diDist_23097985': 1, 'ENSG00000132142_27%CE:%uiProx_uiDist_9678387': 1, 'ENSG00000132142_27%CE:%uiProx_uiDist_9678388': 1, 'ENSG00000132142_27%CE:%uiProx_uiDist_9678389': 1, 'ENSG00000008086_20%CE:%diProx_diDist_23097992': 1, 'ENSG00000008086_20%CE:%diProx_diDist_23097473': 1, 'ENSG00000008086_20%CE:%diProx_diDist_23097858': 1, 'ENSG00000008086_20%CE:%diProx_diDist_23097476': 1, 'ENSG00000008086_20%CE:%diProx_diDist_23097570': 1, 'ENSG00000008086_20%CE:%diProx_diDist_23098609': 1, 'ENSG00000118454_5%CE:%uiProx_uiDist_1871675': 1, 'ENSG00000125686_2%CE:%diProx_diDist_9731369': 1, 'ENSG00000008086_20%CE:%diProx_diDist_23098123': 1, 'ENSG00000008086_20%CE:%diProx_diDist_23097870': 1, 'ENSG00000008086_20%CE:%diProx_diDist_23097871': 1, 'ENSG00000008086_20%CE:%diProx_diDist_23097872': 1, 'ENSG00000008086_20%CE:%diProx_diDist_23097971': 1, 'ENSG00000129158_2%SE:%diProx_diDist_3547971': 1, 'ENSG00000129158_2%SE:%diProx_diDist_3547279': 1, 'ENSG00000008086_20%CE:%diProx_diDist_23098135': 1, 'ENSG00000008086_20%CE:%diProx_diDist_23098136': 1, 'ENSG00000035403_21%SE:%diProx_diDist_2805232': 1, 'ENSG00000129158_2%SE:%diProx_diDist_3547969': 1, 'ENSG00000101868_37%CE:%diProx_diDist_23196939': 1, 'ENSG00000101868_37%CE:%diProx_diDist_23196938': 1, 'ENSG00000008086_20%CE:%diProx_diDist_23098431': 1, 'ENSG00000056097_7%CE:%diProx_diDist_18037040': 1, 'ENSG00000101868_37%CE:%diProx_diDist_23195333': 2, 'ENSG00000197157_26%SE:%uiProx_uiDist_19868668': 1, 'ENSG00000197157_26%SE:%uiProx_uiDist_19868669': 1, 'ENSG00000197157_26%SE:%uiProx_uiDist_19868559': 1, 'ENSG00000035403_21%SE:%diProx_diDist_2805331': 1, 'ENSG00000170653_12%CE:%uiProx_uiDist_5275873': 1, 'ENSG00000035403_21%SE:%diProx_diDist_2805203': 1, 'ENSG00000035403_9%CE:%uiProx_uiDist_2800978': 1, 'ENSG00000129158_2%SE:%diProx_diDist_3549812': 1, 'ENSG00000132142_27%CE:%uiProx_uiDist_9678508': 1, 'ENSG00000101868_37%CE:%diProx_diDist_23195636': 1, 'ENSG00000132142_27%CE:%uiProx_uiDist_9678506': 1, 'ENSG00000132142_27%CE:%uiProx_uiDist_9678507': 1, 'ENSG00000132142_27%CE:%uiProx_uiDist_9678505': 1, 'ENSG00000035403_21%SE:%diProx_diDist_2805328': 1, 'ENSG00000132142_27%CE:%uiProx_uiDist_9678473': 1, 'ENSG00000129158_2%SE:%diProx_diDist_3548029': 1}\n",
        "{'ENSG00000008086_20%CE:%diProx_diDist_23098134': 1, 'ENSG00000008086_20%CE:%diProx_diDist_23098135': 1, 'ENSG00000008086_20%CE:%diProx_diDist_23098136': 1, 'ENSG00000126106_2%SE:%diProx_diDist_1614576': 1, 'ENSG00000117419_4%CE:%diProx_diDist_1594347': 1, 'ENSG00000028528_5%CE:%uiProx_uiDist_7683980': 1, 'ENSG00000008086_20%CE:%diProx_diDist_23098012': 1, 'ENSG00000117419_4%CE:%diProx_diDist_1593872': 1, 'ENSG00000117419_4%CE:%diProx_diDist_1594351': 1, 'ENSG00000008086_20%CE:%diProx_diDist_23098113': 1, 'ENSG00000117419_4%CE:%diProx_diDist_1593820': 1, 'ENSG00000008086_20%CE:%diProx_diDist_23097862': 1, 'ENSG00000008086_20%CE:%diProx_diDist_23097861': 1, 'ENSG00000132142_27%CE:%uiProx_uiDist_9678388': 1, 'ENSG00000101868_37%CE:%diProx_diDist_23197814': 1, 'ENSG00000008086_20%CE:%diProx_diDist_23097843': 1, 'ENSG00000064652_6%CE:%uiProx_uiDist_17362682': 1, 'ENSG00000008086_20%CE:%diProx_diDist_23097980': 1, 'ENSG00000008086_20%CE:%diProx_diDist_23097981': 1, 'ENSG00000101868_37%CE:%diProx_diDist_23195332': 1, 'ENSG00000008086_20%CE:%diProx_diDist_23097597': 1, 'ENSG00000008086_20%CE:%diProx_diDist_23097985': 1, 'ENSG00000117419_4%CE:%diProx_diDist_1594358': 1, 'ENSG00000108557_4%CE:%uiProx_uiDist_9329187': 1, 'ENSG00000126106_2%SE:%diProx_diDist_1614593': 1, 'ENSG00000117419_4%CE:%uiProx_uiDist_1595440': 1, 'ENSG00000008086_20%CE:%diProx_diDist_23098002': 1, 'ENSG00000054282_19%CE:%diProx_diDist_1214976': 1, 'ENSG00000101868_37%CE:%diProx_diDist_23195568': 1, 'ENSG00000111785_13%SE:%uiProx_uiDist_4278746': 1, 'ENSG00000008086_20%CE:%diProx_diDist_23098253': 1, 'ENSG00000011258_12%SE:%diProx_diDist_9996773': 2, 'ENSG00000054282_19%CE:%diProx_diDist_1214916': 1, 'ENSG00000101868_37%CE:%diProx_diDist_23195333': 1, 'ENSG00000008086_20%CE:%diProx_diDist_23098256': 1, 'ENSG00000117419_4%CE:%diProx_diDist_1593802': 1, 'ENSG00000101868_37%CE:%diProx_diDist_23196084': 1, 'ENSG00000132142_27%CE:%uiProx_uiDist_9678344': 1, 'ENSG00000044459_27%CE:%diProx_diDist_22296569': 2, 'ENSG00000008086_20%CE:%diProx_diDist_23097476': 1, 'ENSG00000108557_4%CE:%uiProx_uiDist_9329161': 1, 'ENSG00000035403_21%SE:%diProx_diDist_2805212': 1, 'ENSG00000008086_20%CE:%diProx_diDist_23097570': 1, 'ENSG00000117419_4%CE:%diProx_diDist_1594360': 2, 'ENSG00000044459_27%CE:%diProx_diDist_22296583': 2, 'ENSG00000035403_21%SE:%diProx_diDist_2805331': 1, 'ENSG00000008086_20%CE:%diProx_diDist_23098004': 1, 'ENSG00000008086_20%CE:%diProx_diDist_23098005': 1, 'ENSG00000132142_27%CE:%uiProx_uiDist_9678389': 1, 'ENSG00000134030_11%CE:%diProx_diDist_10650088': 1, 'ENSG00000008086_20%CE:%diProx_diDist_23097836': 1, 'ENSG00000008086_20%CE:%diProx_diDist_23098123': 2, 'ENSG00000035403_21%SE:%diProx_diDist_2805203': 1, 'ENSG00000035403_21%SE:%diProx_diDist_2805194': 1, 'ENSG00000132142_27%CE:%uiProx_uiDist_9678341': 1, 'ENSG00000008086_20%CE:%diProx_diDist_23098124': 1, 'ENSG00000132142_27%CE:%uiProx_uiDist_9678387': 1, 'ENSG00000008086_20%CE:%diProx_diDist_23097971': 2, 'ENSG00000008086_20%CE:%diProx_diDist_23097999': 1, 'ENSG00000112282_20%CE:%uiProx_uiDist_18631175': 1, 'ENSG00000008086_20%CE:%diProx_diDist_23097993': 2, 'ENSG00000008086_20%CE:%diProx_diDist_23097992': 1, 'ENSG00000008086_20%CE:%diProx_diDist_23097991': 2, 'ENSG00000008086_20%CE:%diProx_diDist_23097990': 1, 'ENSG00000132142_27%CE:%uiProx_uiDist_9678508': 1, 'ENSG00000134138_12%CE:%diProx_diDist_7322443': 1, 'ENSG00000101868_37%CE:%diProx_diDist_23195636': 1, 'ENSG00000117419_4%CE:%diProx_diDist_1593834': 1, 'ENSG00000117419_4%CE:%diProx_diDist_1593891': 1, 'ENSG00000028528_5%CE:%uiProx_uiDist_7683972': 1, 'ENSG00000117419_4%CE:%diProx_diDist_1593812': 1, 'ENSG00000132142_27%CE:%uiProx_uiDist_9678506': 1, 'ENSG00000008086_20%CE:%diProx_diDist_23098412': 1, 'ENSG00000108557_4%CE:%uiProx_uiDist_9329174': 1, 'ENSG00000108557_4%CE:%uiProx_uiDist_9329529': 1, 'ENSG00000117419_4%CE:%diProx_diDist_1593887': 1, 'ENSG00000138814_2%SE:%diProx_diDist_16491051': 1, 'ENSG00000008086_20%CE:%diProx_diDist_23098670': 1, 'ENSG00000008086_20%CE:%diProx_diDist_23097447': 1}\n"
       ]
      }
     ],
     "prompt_number": 69
    },
    {
     "cell_type": "code",
     "collapsed": false,
     "input": [
      "structure_scores_filtered_transpose.keys()"
     ],
     "language": "python",
     "metadata": {},
     "outputs": [
      {
       "output_type": "pyout",
       "prompt_number": 102,
       "text": [
        "Index([diDist, diProx, everything, uiDist, uiProx], dtype=object)"
       ]
      }
     ],
     "prompt_number": 102
    },
    {
     "cell_type": "code",
     "collapsed": false,
     "input": [
      "print"
     ],
     "language": "python",
     "metadata": {},
     "outputs": []
    }
   ],
   "metadata": {}
  }
 ]
}