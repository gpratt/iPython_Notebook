{
 "metadata": {
  "name": "",
  "signature": "sha256:bc34c94a991a1c25dd24e4be74d2a581e1634a84b80433d6903f2330301ab178"
 },
 "nbformat": 3,
 "nbformat_minor": 0,
 "worksheets": []
}