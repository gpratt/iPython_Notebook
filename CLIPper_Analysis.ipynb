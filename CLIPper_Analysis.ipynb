{
 "metadata": {
  "name": ""
 },
 "nbformat": 3,
 "nbformat_minor": 0,
 "worksheets": [
  {
   "cells": [
    {
     "cell_type": "code",
     "collapsed": false,
     "input": [
      "from collections import Counter\n",
      "\n",
      "from bx.bbi.bigwig_file import BigWigFile\n",
      "import matplotlib_venn\n",
      "import pandas as pd\n",
      "import pybedtools\n",
      "from pybedtools.featurefuncs import midpoint\n",
      "\n",
      "from general.pybedtools_helpers import small_peaks"
     ],
     "language": "python",
     "metadata": {},
     "outputs": [],
     "prompt_number": 1
    },
    {
     "cell_type": "code",
     "collapsed": false,
     "input": [
      "import sys\n",
      "sys.path.append(\"/nas3/lovci/ipy\")\n",
      "import clustering"
     ],
     "language": "python",
     "metadata": {},
     "outputs": [],
     "prompt_number": 2
    },
    {
     "cell_type": "code",
     "collapsed": false,
     "input": [
      "img_path = \"/nas3/gpratt/projects/cshl_poster/\""
     ],
     "language": "python",
     "metadata": {},
     "outputs": [],
     "prompt_number": 10
    },
    {
     "cell_type": "code",
     "collapsed": false,
     "input": [
      "GCATG_motif = pybedtools.BedTool(\"/nas3/gpratt/projects/pipeline_analysis/motifs/mm9/motif_GCATG.BED\")\n",
      "GGAGA_motif = pybedtools.BedTool(\"/nas3/gpratt/projects/pipeline_analysis/motifs/hg19/motif_GGAGA.BED\")"
     ],
     "language": "python",
     "metadata": {},
     "outputs": [],
     "prompt_number": 28
    },
    {
     "cell_type": "code",
     "collapsed": false,
     "input": [
      "FOX2_pos = BigWigFile(open(\"/nas3/gpratt/projects/clipper/data/FOX2Brain.all.pos.bw\"))\n",
      "FOX2_neg = BigWigFile(open(\"/nas3/gpratt/projects/clipper/data/FOX2Brain.all.neg.bw\"))\n",
      "\n",
      "LIN28_pos = BigWigFile(open(\"/nas3/gpratt/projects/clipper/data/LIN28A_hES_CLIP.polyATrim.adapterTrim.rmRep.sorted.rmDup.pos.bw\"))\n",
      "LIN28_neg = BigWigFile(open(\"/nas3/gpratt/projects/clipper/data/LIN28A_hES_CLIP.polyATrim.adapterTrim.rmRep.sorted.rmDup.neg.bw\"))"
     ],
     "language": "python",
     "metadata": {},
     "outputs": [
      {
       "ename": "IOError",
       "evalue": "[Errno 2] No such file or directory: '/nas3/gpratt/projects/clipper/data/FOX2Brain.all.pos.bw'",
       "output_type": "pyerr",
       "traceback": [
        "\u001b[1;31m---------------------------------------------------------------------------\u001b[0m\n\u001b[1;31mIOError\u001b[0m                                   Traceback (most recent call last)",
        "\u001b[1;32m<ipython-input-4-9444f437ae54>\u001b[0m in \u001b[0;36m<module>\u001b[1;34m()\u001b[0m\n\u001b[1;32m----> 1\u001b[1;33m \u001b[0mFOX2_pos\u001b[0m \u001b[1;33m=\u001b[0m \u001b[0mBigWigFile\u001b[0m\u001b[1;33m(\u001b[0m\u001b[0mopen\u001b[0m\u001b[1;33m(\u001b[0m\u001b[1;34m\"/nas3/gpratt/projects/clipper/data/FOX2Brain.all.pos.bw\"\u001b[0m\u001b[1;33m)\u001b[0m\u001b[1;33m)\u001b[0m\u001b[1;33m\u001b[0m\u001b[0m\n\u001b[0m\u001b[0;32m      2\u001b[0m \u001b[0mFOX2_neg\u001b[0m \u001b[1;33m=\u001b[0m \u001b[0mBigWigFile\u001b[0m\u001b[1;33m(\u001b[0m\u001b[0mopen\u001b[0m\u001b[1;33m(\u001b[0m\u001b[1;34m\"/nas3/gpratt/projects/clipper/data/FOX2Brain.all.neg.bw\"\u001b[0m\u001b[1;33m)\u001b[0m\u001b[1;33m)\u001b[0m\u001b[1;33m\u001b[0m\u001b[0m\n\u001b[0;32m      3\u001b[0m \u001b[1;33m\u001b[0m\u001b[0m\n\u001b[0;32m      4\u001b[0m \u001b[0mLIN28_pos\u001b[0m \u001b[1;33m=\u001b[0m \u001b[0mBigWigFile\u001b[0m\u001b[1;33m(\u001b[0m\u001b[0mopen\u001b[0m\u001b[1;33m(\u001b[0m\u001b[1;34m\"/nas3/gpratt/projects/clipper/data/LIN28A_hES_CLIP.polyATrim.adapterTrim.rmRep.sorted.rmDup.pos.bw\"\u001b[0m\u001b[1;33m)\u001b[0m\u001b[1;33m)\u001b[0m\u001b[1;33m\u001b[0m\u001b[0m\n\u001b[0;32m      5\u001b[0m \u001b[0mLIN28_neg\u001b[0m \u001b[1;33m=\u001b[0m \u001b[0mBigWigFile\u001b[0m\u001b[1;33m(\u001b[0m\u001b[0mopen\u001b[0m\u001b[1;33m(\u001b[0m\u001b[1;34m\"/nas3/gpratt/projects/clipper/data/LIN28A_hES_CLIP.polyATrim.adapterTrim.rmRep.sorted.rmDup.neg.bw\"\u001b[0m\u001b[1;33m)\u001b[0m\u001b[1;33m)\u001b[0m\u001b[1;33m\u001b[0m\u001b[0m\n",
        "\u001b[1;31mIOError\u001b[0m: [Errno 2] No such file or directory: '/nas3/gpratt/projects/clipper/data/FOX2Brain.all.pos.bw'"
       ]
      }
     ],
     "prompt_number": 4
    },
    {
     "cell_type": "code",
     "collapsed": false,
     "input": [
      "def get_p_value(interval):\n",
      "    interval.score = interval.score.split(\"|\")[1]\n",
      "    return interval"
     ],
     "language": "python",
     "metadata": {},
     "outputs": [],
     "prompt_number": 3
    },
    {
     "cell_type": "code",
     "collapsed": false,
     "input": [
      "import brewer2mpl\n",
      "bmap = brewer2mpl.get_map('Set1', 'qualitative', 8)\n",
      "colors = bmap.mpl_colors\n",
      "cm.Blues\n",
      "\n",
      "import scipy.spatial\n",
      "import scipy.cluster"
     ],
     "language": "python",
     "metadata": {},
     "outputs": [],
     "prompt_number": 4
    },
    {
     "cell_type": "code",
     "collapsed": false,
     "input": [
      "path = \"/nas3/gpratt/projects/clipper/v2/\"\n",
      "FOX2_classic = pybedtools.BedTool(path + \"FOX2Brain.all.fixed.sorted.rmdup.bam_original.bed\")\n",
      "FOX2_classic_center = FOX2_classic.each(small_peaks).saveas() \n",
      "\n",
      "FOX2_piranah = pybedtools.BedTool(path + \"FOX2Brain.all.fixed.sorted.rmdup.bam_piranha.bed\")\n",
      "FOX2_piranah_center = FOX2_piranah.each(midpoint).saveas() \n",
      "\n",
      "FOX2_spline = pybedtools.BedTool(path + \"FOX2Brain.all.fixed.sorted.rmdup.bam_CLIPper.bed\")\n",
      "FOX2_spline_center = FOX2_spline.each(small_peaks).saveas() \n",
      "\n",
      "kold = pybedtools.BedTool(path + \"Kold_pvalgood_notrim_ingenes_clusters_hg1950.bed\").each(get_p_value).saveas()\n",
      "kold_center = kold.each(small_peaks).saveas() \n",
      "\n",
      "knew = pybedtools.BedTool(path + \"Knew_pvalgood_notrim_ingenes_clusters_hg1925.bed\").each(get_p_value).saveas()\n",
      "knew_center = knew.each(small_peaks).saveas() \n",
      "\n",
      "gtype = pybedtools.BedTool(path + \"Gtype_pvalgood_notrim_ingenes_clusters_hg1950.bed\").each(get_p_value).saveas()\n",
      "gtype_center = gtype.each(small_peaks).saveas() \n",
      "\n",
      "FOX2_pyicos = pybedtools.BedTool(path + \"FOX2Brain.all.fixed.sorted.rmdup.bam_pyicos.bed\").sort().saveas()\n",
      "FOX2_pyicos_center = FOX2_pyicos.each(midpoint).saveas() \n",
      "\n",
      "FOX2_RIPSeeker = pybedtools.BedTool(path + \"FOX2Brain.all.fixed.sorted.rmdup.bam_ripseeker.bed\")\n",
      "FOX2_RIPSeeker_center = FOX2_RIPSeeker.each(midpoint).saveas() \n",
      "\n",
      "LIN28_classic = pybedtools.BedTool(path + \"LIN28A_hES_CLIP.polyATrim.adapterTrim.rmRep.sorted.rmDup.bam_original.bed\")\n",
      "LIN28_classic_center = LIN28_classic.each(small_peaks).saveas() \n",
      "\n",
      "LIN28_piranah = pybedtools.BedTool(path + \"LIN28A_hES_CLIP.polyATrim.adapterTrim.rmRep.sorted.rmDup.bam_piranha.bed\")\n",
      "LIN28_piranah_center = LIN28_piranah.each(midpoint).saveas() \n",
      "\n",
      "LIN28_spline = pybedtools.BedTool(path + \"LIN28A_hES_CLIP.polyATrim.adapterTrim.rmRep.sorted.rmDup.bam_CLIPper.bed\")\n",
      "LIN28_spline_center = LIN28_spline.each(small_peaks).saveas()                              \n",
      "\n",
      "LIN28_pyicos = pybedtools.BedTool(path + \"LIN28A_hES_CLIP.polyATrim.adapterTrim.rmRep.sorted.rmDup.bam_pyicos.bed\").sort().saveas()\n",
      "LIN28_pyicos_center = LIN28_pyicos.each(midpoint).saveas() \n",
      "\n",
      "LIN28_ripseeker = pybedtools.BedTool(path + \"LIN28A_hES_CLIP.polyATrim.adapterTrim.rmRep.sorted.rmDup.bam_ripseeker.bed\").sort().saveas()\n",
      "LIN28_ripseeker_center = LIN28_ripseeker.each(midpoint).saveas() "
     ],
     "language": "python",
     "metadata": {},
     "outputs": [],
     "prompt_number": 6
    },
    {
     "cell_type": "code",
     "collapsed": false,
     "input": [
      "FOX2_mikes_p01 = pybedtools.BedTool(\"/nas3/gpratt/projects/clipper/scripts/FOX2.CLIP_peaks.slop.p01.BED\").sort().saveas()\n",
      "FOX2_mikes_p05 = pybedtools.BedTool(\"/nas3/gpratt/projects/clipper/scripts/FOX2.CLIP_peaks.slop.p05.BED\").sort().saveas()"
     ],
     "language": "python",
     "metadata": {},
     "outputs": []
    },
    {
     "cell_type": "code",
     "collapsed": false,
     "input": [
      "{name : len(bedtool) for name, bedtool in FOX2_dict.items() }\n"
     ],
     "language": "python",
     "metadata": {},
     "outputs": []
    },
    {
     "cell_type": "code",
     "collapsed": false,
     "input": [
      "len(FOX2_piranah"
     ],
     "language": "python",
     "metadata": {},
     "outputs": [
      {
       "metadata": {},
       "output_type": "pyout",
       "prompt_number": 14,
       "text": [
        "<BedTool(/nas3/gpratt/projects/clipper/v2/FOX2Brain.all.fixed.sorted.rmdup.bam_piranha.bed)>"
       ]
      }
     ],
     "prompt_number": 14
    },
    {
     "cell_type": "code",
     "collapsed": false,
     "input": [
      "#\"kold\" : kold, \"gtype\" : gtype, \"FOX2_classic\" : FOX2_classic,\n",
      "jaccard_dict = {}\n",
      "FOX2_dict = { \"Piranah\" : FOX2_piranah, \"CLIPper\" : FOX2_spline, \n",
      "             \"pyicos\" : FOX2_pyicos, \"Zisoulis\\n2010\" : knew, \"RIPSeeker\" : FOX2_RIPSeeker}\n",
      "for analysis_file_1, bedtool_1 in FOX2_dict.items():\n",
      "    jaccard_dict[analysis_file_1.split(\".\")[0]] = {}\n",
      "    for analysis_file_2, bedtool_2 in FOX2_dict.items():\n",
      "        jaccard_dict[analysis_file_1][analysis_file_2] = len(bedtool_1.intersect(bedtool_2, u=True)) / (len(bedtool_1) * 1.0)\n",
      "\n",
      "jaccard_frame = pd.DataFrame(jaccard_dict)"
     ],
     "language": "python",
     "metadata": {},
     "outputs": [],
     "prompt_number": 30
    },
    {
     "cell_type": "code",
     "collapsed": false,
     "input": [
      "figsize(6,6)\n",
      "y_events = scipy.spatial.distance.pdist(jaccard_frame)\n",
      "Z_events = scipy.cluster.hierarchy.linkage(y_events)\n",
      "d_events = scipy.cluster.hierarchy.dendrogram(Z_events, orientation='right', distance_sort='descending', no_labels=True)\n",
      "event_order = d_events['leaves'][::-1]\n",
      "\n",
      "lens_dict = {name : str(len(interval)) for name, interval in FOX2_dict.items()}\n",
      "matshow(jaccard_frame.as_matrix()[event_order,:][:,event_order], interpolation=\"nearest\", cmap=cm.gist_yarg)\n",
      "yticks(arange(len(jaccard_frame.index)), [ lens_dict[jaccard_frame.index[i]] + \" \" + jaccard_frame.index[i] for i in event_order] )\n",
      "xticks(arange(len(jaccard_frame.columns)),[ jaccard_frame.columns[i] for i in event_order] , rotation=45)\n",
      "\n",
      "colorbar()\n",
      "savefig(img_path + \"fox2_counts.pdf\")"
     ],
     "language": "python",
     "metadata": {},
     "outputs": [
      {
       "metadata": {},
       "output_type": "display_data",
       "png": "[encoded data removed]",
       "text": [
        "<matplotlib.figure.Figure at 0x1918d1d0>"
       ]
      },
      {
       "metadata": {},
       "output_type": "display_data",
       "png": "[encoded data removed]",
       "text": [
        "<matplotlib.figure.Figure at 0x191bf050>"
       ]
      }
     ],
     "prompt_number": 31
    },
    {
     "cell_type": "code",
     "collapsed": false,
     "input": [
      "jaccard_dict = {}\n",
      "LIN28_dict = {  \"Piranah\" : LIN28_piranah, \n",
      "               \"CLIPper\" : LIN28_spline, \"pyicos\" : LIN28_pyicos, \n",
      "               \"RIPSeeker\" : LIN28_ripseeker}\n",
      "for analysis_file_1, bedtool_1 in LIN28_dict.items():\n",
      "    jaccard_dict[analysis_file_1.split(\".\")[0]] = {}\n",
      "    for analysis_file_2, bedtool_2 in LIN28_dict.items():\n",
      "        jaccard_dict[analysis_file_1][analysis_file_2] = len(bedtool_1.intersect(bedtool_2, u=True)) / (len(bedtool_1) * 1.0)\n",
      "\n",
      "jaccard_frame = pd.DataFrame(jaccard_dict)"
     ],
     "language": "python",
     "metadata": {},
     "outputs": [],
     "prompt_number": 32
    },
    {
     "cell_type": "code",
     "collapsed": false,
     "input": [
      "figsize(6,6)\n",
      "y_events = scipy.spatial.distance.pdist(jaccard_frame)\n",
      "Z_events = scipy.cluster.hierarchy.linkage(y_events)\n",
      "d_events = scipy.cluster.hierarchy.dendrogram(Z_events, orientation='right', distance_sort='descending', no_labels=True)\n",
      "event_order = d_events['leaves'][::-1]\n",
      "lens_dict = {name : str(len(interval)) for name, interval in LIN28_dict.items()}\n",
      "\n",
      "matshow(jaccard_frame.as_matrix()[event_order,:][:,event_order], interpolation=\"nearest\", cmap=cm.gist_yarg)\n",
      "yticks(arange(len(jaccard_frame.index)), [ lens_dict[jaccard_frame.index[i]] + \" \" + jaccard_frame.index[i] for i in event_order] )\n",
      "xticks(arange(len(jaccard_frame.columns)) + .2,[ jaccard_frame.columns[i] for i in event_order] , rotation=45)\n",
      "\n",
      "colorbar()\n",
      "savefig(img_path + \"lin28_counts.pdf\")"
     ],
     "language": "python",
     "metadata": {},
     "outputs": [
      {
       "metadata": {},
       "output_type": "display_data",
       "png": "[encoded data removed]",
       "text": [
        "<matplotlib.figure.Figure at 0x2aaaac0c31d0>"
       ]
      },
      {
       "metadata": {},
       "output_type": "display_data",
       "png": "[encoded data removed]",
       "text": [
        "<matplotlib.figure.Figure at 0x191d79d0>"
       ]
      }
     ],
     "prompt_number": 33
    },
    {
     "cell_type": "code",
     "collapsed": false,
     "input": [
      "more_not_intersecting = pybedtools.BedTool(\"/nas3/gpratt/projects/clipper/ad-hoc/not_in_more_filtered.bed\")\n",
      "not_intersecting_center = not_intersecting.each(midpoint).saveas() \n",
      "more_not_intersecting_center = more_not_intersecting.each(midpoint).saveas() "
     ],
     "language": "python",
     "metadata": {},
     "outputs": [],
     "prompt_number": 142
    },
    {
     "cell_type": "code",
     "collapsed": false,
     "input": [
      "FOX2_classic_dist = FOX2_classic_center.closest(GCATG_motif, s=True, D=\"a\", t=\"first\").saveas()\n",
      "FOX2_piranah_dist = FOX2_piranah_center.closest(GCATG_motif, D=\"ref\", t=\"first\").saveas()\n",
      "FOX2_spline_dist = FOX2_spline_center.closest(GCATG_motif, s=True, D=\"a\", t=\"first\").saveas()\n",
      "FOX2_pyicos_dist = FOX2_pyicos_center.closest(GCATG_motif, s=True, D=\"a\", t=\"first\").saveas()\n",
      "FOX2_kold_dist = kold_center.closest(GCATG_motif, s=True, D=\"a\", t=\"first\").saveas()\n",
      "FOX2_knew_dist = knew_center.closest(GCATG_motif, s=True, D=\"a\", t=\"first\").saveas()\n",
      "FOX2_gtype_dist = gtype_center.closest(GCATG_motif, s=True, D=\"a\", t=\"first\").saveas()\n",
      "FOX2_RIPSeeker_dist = FOX2_RIPSeeker_center.closest(GCATG_motif, s=True, D=\"ref\", t=\"first\").saveas()\n",
      "#not_intersecting_dist = not_intersecting_center.closest(GCATG_motif, s=True, D=\"ref\", t=\"first\").saveas()\n",
      "\n",
      "LIN28_classic_dist = LIN28_classic_center.closest(GGAGA_motif, s=True, D=\"a\", t=\"first\").saveas()\n",
      "LIN28_piranah_dist = LIN28_piranah_center.closest(GGAGA_motif, D=\"ref\", t=\"first\").saveas()\n",
      "LIN28_spline_dist = LIN28_spline_center.closest(GGAGA_motif, s=True, D=\"a\", t=\"first\").saveas()\n",
      "LIN28_pyicos_dist = LIN28_pyicos_center.closest(GGAGA_motif, s=True, D=\"a\", t=\"first\").saveas()\n",
      "LIN28_ripseeker_dist = LIN28_ripseeker_center.closest(GGAGA_motif, s=True, D=\"a\", t=\"first\").saveas()"
     ],
     "language": "python",
     "metadata": {},
     "outputs": [],
     "prompt_number": 34
    },
    {
     "cell_type": "code",
     "collapsed": false,
     "input": [
      "more_not_intersecting_dist = more_not_intersecting_center.closest(GCATG_motif, s=True, D=\"ref\", t=\"first\").saveas()\n",
      "not_intersecting_dist = not_intersecting_center.closest(GCATG_motif, s=True, D=\"ref\", t=\"first\").saveas()\n"
     ],
     "language": "python",
     "metadata": {},
     "outputs": [],
     "prompt_number": 145
    },
    {
     "cell_type": "code",
     "collapsed": false,
     "input": [
      "figsize(6,6)\n",
      "FOX2_sizes = {'100' : len(FOX2_classic - FOX2_piranah - FOX2_spline), \n",
      "         '010' : len(FOX2_piranah - FOX2_classic - FOX2_spline),  \n",
      "         '110' : len(FOX2_classic + FOX2_piranah - FOX2_spline), \n",
      "         '001' : len(FOX2_spline - FOX2_piranah - FOX2_classic), \n",
      "         '101' : len(FOX2_classic + FOX2_spline - FOX2_piranah), \n",
      "         '011' : len(FOX2_spline + FOX2_piranah - FOX2_classic), \n",
      "         '111' : len(FOX2_spline + FOX2_piranah + FOX2_classic)}\n",
      "\n",
      "matplotlib_venn.venn3(FOX2_sizes, set_labels=['Original', 'Piranha', 'CLIPper'])\n",
      "title(\"FOX2 Peaks\")"
     ],
     "language": "python",
     "metadata": {},
     "outputs": []
    },
    {
     "cell_type": "code",
     "collapsed": false,
     "input": [
      "LIN28_sizes = {'100' : len(LIN28_classic - LIN28_piranah - LIN28_spline), \n",
      "         '010' : len(LIN28_piranah - LIN28_classic - LIN28_spline),  \n",
      "         '110' : len(LIN28_classic + LIN28_piranah - LIN28_spline), \n",
      "         '001' : len(LIN28_spline - LIN28_piranah - LIN28_classic), \n",
      "         '101' : len(LIN28_classic + LIN28_spline - LIN28_piranah), \n",
      "         '011' : len(LIN28_spline + LIN28_piranah - LIN28_classic), \n",
      "         '111' : len(LIN28_spline + LIN28_piranah + LIN28_classic)}\n",
      "\n",
      "matplotlib_venn.venn3(LIN28_sizes, set_labels=['Original', 'Piranha', 'CLIPper'])\n",
      "title(\"LIN28 Peaks\")"
     ],
     "language": "python",
     "metadata": {},
     "outputs": []
    },
    {
     "cell_type": "code",
     "collapsed": false,
     "input": [
      "print FOX2_pyicos[1]"
     ],
     "language": "python",
     "metadata": {},
     "outputs": []
    },
    {
     "cell_type": "code",
     "collapsed": false,
     "input": [
      "len(FOX2_pyicos.filter(lambda x: float(x.score) > 10))"
     ],
     "language": "python",
     "metadata": {},
     "outputs": []
    },
    {
     "cell_type": "code",
     "collapsed": false,
     "input": [
      "figsize(6,6)\n",
      "classic_lengths = [x.length for x in FOX2_classic]\n",
      "spline_lengths = [x.length for x in FOX2_spline]\n",
      "piranah_lengths = [x.length for x in FOX2_piranah]\n",
      "pyicos_lengths = [x.length for x in FOX2_pyicos]\n",
      "kold_lengths = [x.length for x in kold]\n",
      "knew_lengths = [x.length for x in knew]\n",
      "gtype_lengths = [x.length for x in gtype]\n",
      "RIPSeeker_lengths = [x.length for x in FOX2_RIPSeeker]\n",
      "not_intersecting_lengths = [x.length for x in not_intersecting]\n",
      "more_not_intersecting_lengths = [x.length for x in more_not_intersecting]\n",
      "high_evidence_pyicos_peaks = [x.length for x in FOX2_pyicos.filter(lambda x: float(x.score) > 5)]\n",
      "\n",
      "boxplot([spline_lengths, piranah_lengths, pyicos_lengths, RIPSeeker_lengths, knew_lengths] )\n",
      "yscale(\"log\")\n",
      "xticks(range(1,7), [\"CLIPper\", \"Piranha\", \"Pyicos\", \"RIPSeeker\", \"Zisoulis 2010\",])\n",
      "title(\"FOX2 Peak Sizes\")\n",
      "ylabel(\"Peak Width\")\n",
      "savefig(img_path + \"fox2_peak_width.pdf\")"
     ],
     "language": "python",
     "metadata": {},
     "outputs": []
    },
    {
     "cell_type": "code",
     "collapsed": false,
     "input": [
      "figsize(6,6)\n",
      "classic_lengths = [x.length for x in LIN28_classic]\n",
      "spline_lengths = [x.length for x in LIN28_spline]\n",
      "piranah_lengths = [x.length for x in LIN28_piranah]\n",
      "pyicos_lengths = [x.length for x in LIN28_pyicos]\n",
      "ripseeker_lengths = [x.length for x in LIN28_ripseeker] \n",
      "boxplot([spline_lengths, piranah_lengths, pyicos_lengths, ripseeker_lengths])\n",
      "yscale(\"log\")\n",
      "xticks(range(1,5), [\"CLIPper\", \"Piranha\", \"pyicos\", \"RIPSeeker\"])\n",
      "title(\"LIN28 Peak Sizes\")\n",
      "ylabel(\"Peak Width\")\n",
      "savefig(img_path + \"lin28_peak_width.pdf\")"
     ],
     "language": "python",
     "metadata": {},
     "outputs": []
    },
    {
     "cell_type": "code",
     "collapsed": false,
     "input": [
      "print LIN28_sizes\n",
      "print FOX2_sizes\n",
      "#matplotlib_venn.venn3(sizes, set_labels=['classic', 'piranah', 'spline'])"
     ],
     "language": "python",
     "metadata": {},
     "outputs": [
      {
       "ename": "NameError",
       "evalue": "name 'LIN28_sizes' is not defined",
       "output_type": "pyerr",
       "traceback": [
        "\u001b[1;31m---------------------------------------------------------------------------\u001b[0m\n\u001b[1;31mNameError\u001b[0m                                 Traceback (most recent call last)",
        "\u001b[1;32m<ipython-input-25-f1ad7580ddda>\u001b[0m in \u001b[0;36m<module>\u001b[1;34m()\u001b[0m\n\u001b[1;32m----> 1\u001b[1;33m \u001b[1;32mprint\u001b[0m \u001b[0mLIN28_sizes\u001b[0m\u001b[1;33m\u001b[0m\u001b[0m\n\u001b[0m\u001b[0;32m      2\u001b[0m \u001b[1;32mprint\u001b[0m \u001b[0mFOX2_sizes\u001b[0m\u001b[1;33m\u001b[0m\u001b[0m\n\u001b[0;32m      3\u001b[0m \u001b[1;31m#matplotlib_venn.venn3(sizes, set_labels=['classic', 'piranah', 'spline'])\u001b[0m\u001b[1;33m\u001b[0m\u001b[1;33m\u001b[0m\u001b[0m\n",
        "\u001b[1;31mNameError\u001b[0m: name 'LIN28_sizes' is not defined"
       ]
      }
     ],
     "prompt_number": 25
    },
    {
     "cell_type": "code",
     "collapsed": false,
     "input": [
      "#y, x =  numpy.histogram([int(interval[-1]) for interval in FOX2_classic_dist], range=(-200, 200), bins=25, normed=True)\n",
      "#x = [(x[n] + x[n+1]) / 2 for n in range(len(x) - 1)]\n",
      "#plot(x,y, label=\"Original\", alpha=.5, linewidth=3)\n",
      "\n",
      "y, x =  numpy.histogram([int(interval[-1]) for interval in FOX2_spline_dist], range=(-200, 200), bins=25, normed=True)\n",
      "x = [(x[n] + x[n+1]) / 2 for n in range(len(x) - 1)]\n",
      "plot(x,y, label=\"CLIPper\", alpha=.5, linewidth=3)\n",
      "\n",
      "y, x =  numpy.histogram([int(interval[-1]) for interval in FOX2_piranah_dist], range=(-200, 200), bins=25, normed=True)\n",
      "x = [(x[n] + x[n+1]) / 2 for n in range(len(x) - 1)]\n",
      "plot(x,y, label=\"Piranha\", alpha=.5, linewidth=3)\n",
      "\n",
      "\n",
      "y, x =  numpy.histogram([int(interval[-1]) for interval in FOX2_pyicos_dist], range=(-200, 200), bins=25, normed=True)\n",
      "x = [(x[n] + x[n+1]) / 2 for n in range(len(x) - 1)]\n",
      "plot(x,y, label=\"pyicos\", alpha=.5, linewidth=3)\n",
      "\n",
      "#y, x =  numpy.histogram([int(interval[-1]) for interval in FOX2_kold_dist], range=(-200, 200), bins=25, normed=True)\n",
      "#x = [(x[n] + x[n+1]) / 2 for n in range(len(x) - 1)]\n",
      "#plot(x,y, label=\"Original\", alpha=.5, linewidth=3)\n",
      "\n",
      "\n",
      "\n",
      "#y, x =  numpy.histogram([int(interval[-1]) for interval in FOX2_gtype_dist], range=(-200, 200), bins=25, normed=True)\n",
      "#x = [(x[n] + x[n+1]) / 2 for n in range(len(x) - 1)]\n",
      "#plot(x,y, label=\"gtype\", alpha=.5, linewidth=3)\n",
      "\n",
      "y, x =  numpy.histogram([int(interval[-1]) for interval in FOX2_RIPSeeker_dist], range=(-200, 200), bins=25, normed=True)\n",
      "x = [(x[n] + x[n+1]) / 2 for n in range(len(x) - 1)]\n",
      "plot(x,y, label=\"RIPSeeker\", alpha=.5, linewidth=3)\n",
      "\n",
      "y, x =  numpy.histogram([int(interval[-1]) for interval in FOX2_knew_dist], range=(-200, 200), bins=25, normed=True)\n",
      "x = [(x[n] + x[n+1]) / 2 for n in range(len(x) - 1)]\n",
      "plot(x,y, label=\"Zisoulis 2010\", alpha=.5, linewidth=3)\n",
      "\n",
      "#y, x =  numpy.histogram([int(interval[-1]) for interval in not_intersecting_dist], range=(-200, 200), bins=25, normed=True)\n",
      "#x = [(x[n] + x[n+1]) / 2 for n in range(len(x) - 1)]\n",
      "#plot(x,y, label=\"not_intersecting\", alpha=.5, linewidth=3)\n",
      "\n",
      "#y, x =  numpy.histogram([int(interval[-1]) for interval in more_not_intersecting_dist], range=(-200, 200), bins=25, normed=True)\n",
      "#x = [(x[n] + x[n+1]) / 2 for n in range(len(x) - 1)]\n",
      "#plot(x,y, label=\"more_not_intersecting_dist\", alpha=.5, linewidth=3)\n",
      "\n",
      "xlabel(\"Distance away from Peak (bp)\")\n",
      "ylabel(\"Normalized Enrichment\")\n",
      "title(\"Distance of FOX2 Motif away from peak center\")\n",
      "legend()\n",
      "savefig(img_path + \"fox2_motif_dist.pdf\")"
     ],
     "language": "python",
     "metadata": {},
     "outputs": [
      {
       "metadata": {},
       "output_type": "display_data",
       "png": "[encoded data removed]",
       "text": [
        "<matplotlib.figure.Figure at 0x19581b10>"
       ]
      }
     ],
     "prompt_number": 35
    },
    {
     "cell_type": "code",
     "collapsed": false,
     "input": [
      "#y, x =  numpy.histogram([int(interval[-1]) for interval in LIN28_classic_dist], range=(-200, 200), bins=25, normed=True)\n",
      "#x = [(x[n] + x[n+1]) / 2 for n in range(len(x) - 1)]\n",
      "#plot(x,y, label=\"Original\", alpha=.5, linewidth=3)\n",
      "\n",
      "y, x =  numpy.histogram([int(interval[-1]) for interval in LIN28_spline_dist], range=(-200, 200), bins=25, normed=True)\n",
      "x = [(x[n] + x[n+1]) / 2 for n in range(len(x) - 1)]\n",
      "plot(x,y, label=\"CLIPper\", alpha=.5, linewidth=3)\n",
      "\n",
      "y, x =  numpy.histogram([int(interval[-1]) for interval in LIN28_piranah_dist], range=(-200, 200), bins=25, normed=True)\n",
      "x = [(x[n] + x[n+1]) / 2 for n in range(len(x) - 1)]\n",
      "plot(x,y, label=\"Piranha\", alpha=.5, linewidth=3)\n",
      "\n",
      "\n",
      "y, x =  numpy.histogram([int(interval[-1]) for interval in LIN28_pyicos_dist], range=(-200, 200), bins=25, normed=True)\n",
      "x = [(x[n] + x[n+1]) / 2 for n in range(len(x) - 1)]\n",
      "plot(x,y, label=\"pyicos\", alpha=.5, linewidth=3)\n",
      "\n",
      "y, x =  numpy.histogram([int(interval[-1]) for interval in LIN28_ripseeker_dist], range=(-200, 200), bins=25, normed=True)\n",
      "x = [(x[n] + x[n+1]) / 2 for n in range(len(x) - 1)]\n",
      "plot(x,y, label=\"RIPSeeker\", alpha=.5, linewidth=3)\n",
      "\n",
      "xlabel(\"Distance away from Peak (bp)\")\n",
      "ylabel(\"Normalized Enrichment\")\n",
      "title(\"Distance of LIN28 Motif away from peak center\")\n",
      "legend()\n",
      "savefig(img_path + \"lin28_motif_dist.pdf\")"
     ],
     "language": "python",
     "metadata": {},
     "outputs": [
      {
       "metadata": {},
       "output_type": "display_data",
       "png": "[encoded data removed]",
       "text": [
        "<matplotlib.figure.Figure at 0x191b4c50>"
       ]
      }
     ],
     "prompt_number": 37
    },
    {
     "cell_type": "markdown",
     "metadata": {},
     "source": [
      "This plots the number of peaks that overlap a motif given the rank"
     ]
    },
    {
     "cell_type": "code",
     "collapsed": false,
     "input": [
      "def get_percent_overlapped(tool):\n",
      "    \n",
      "    \"\"\"\n",
      "    gets number of features that overlap a motif sorted by signifiance (the score column)\n",
      "        returns x and y for plotting\"\"\"\n",
      "    total_overlapped = 0\n",
      "    percent_overlapped = []\n",
      "    for total_counted, interval in enumerate(sorted_tool):\n",
      "        if int(interval[-1]) == 0: #there is an overlap\n",
      "            total_overlapped += 1.0\n",
      "        percent_overlapped.append((total_overlapped / (total_counted + 1)) * 100)\n",
      "    return range(len(sorted_tool)), percent_overlapped\n",
      "    "
     ],
     "language": "python",
     "metadata": {},
     "outputs": []
    },
    {
     "cell_type": "code",
     "collapsed": false,
     "input": [
      "figsize(6,6)\n",
      "#sorted_tool = pybedtools.BedTool(sorted(FOX2_classic_dist, key=lambda x: float(x[4]))).saveas()\n",
      "#x,y = get_percent_overlapped(sorted_tool)\n",
      "#plot(x, y, label=\"Original\")\n",
      "\n",
      "sorted_tool = pybedtools.BedTool(sorted(FOX2_spline_dist, key=lambda x: float(x[4]))).saveas()\n",
      "x,y = get_percent_overlapped(sorted_tool)\n",
      "plot(x, y, label=\"CLIPper\")\n",
      "\n",
      "sorted_tool = pybedtools.BedTool(sorted(FOX2_piranah_dist, key=lambda x: float(x[4]))).saveas()\n",
      "x,y = get_percent_overlapped(sorted_tool)\n",
      "plot(x, y, label=\"Piranha\")\n",
      "\n",
      "\n",
      "sorted_tool = pybedtools.BedTool(sorted(FOX2_pyicos_dist, key=lambda x: float(x[8]))).saveas()\n",
      "x,y = get_percent_overlapped(sorted_tool)\n",
      "plot(x, y, label=\"pyicos\")\n",
      "\n",
      "sorted_tool = pybedtools.BedTool(sorted(FOX2_RIPSeeker_dist, key=lambda x: float(x[8]))).saveas()\n",
      "x,y = get_percent_overlapped(sorted_tool)\n",
      "plot(x, y, label=\"RIPSeeker\")\n",
      "\n",
      "#sorted_tool = pybedtools.BedTool(sorted(FOX2_kold_dist, key=lambda x: float(x[4]))).saveas()\n",
      "#x,y = get_percent_overlapped(sorted_tool)\n",
      "#plot(x, y, label=\"kold\")\n",
      "\n",
      "sorted_tool = pybedtools.BedTool(sorted(FOX2_knew_dist, key=lambda x: float(x[4]))).saveas()\n",
      "x,y = get_percent_overlapped(sorted_tool)\n",
      "plot(x, y, label=\"Zisoulis 2010\")\n",
      "\n",
      "#sorted_tool = pybedtools.BedTool(sorted(FOX2_gtype_dist, key=lambda x: float(x[4]))).saveas()\n",
      "#x,y = get_percent_overlapped(sorted_tool)\n",
      "#plot(x, y, label=\"gtype\")\n",
      "\n",
      "#sorted_tool = pybedtools.BedTool(sorted(not_intersecting_dist, key=lambda x: float(x[8]))).saveas()\n",
      "#x,y = get_percent_overlapped(sorted_tool)\n",
      "#plot(x, y, label=\"not intersecting\")\n",
      "\n",
      "title(\"Percent of FOX2 peaks overlapping with GCAUG Motif\")\n",
      "ylabel(\"Percent of Peaks\")\n",
      "xlabel(\"Peak Rank\")\n",
      "ylim(0,6)\n",
      "legend()\n",
      "savefig(img_path + \"fox2_motif_rank.pdf\")"
     ],
     "language": "python",
     "metadata": {},
     "outputs": []
    },
    {
     "cell_type": "code",
     "collapsed": false,
     "input": [
      "figsize(6,6)\n",
      "\n",
      "sorted_tool = pybedtools.BedTool(sorted(LIN28_spline_dist, key=lambda x: float(x[4]))).saveas()\n",
      "x,y = get_percent_overlapped(sorted_tool)\n",
      "plot(x, y, label=\"CLIPper\")\n",
      "\n",
      "sorted_tool = pybedtools.BedTool(sorted(LIN28_piranah_dist, key=lambda x: float(x[4]))).saveas()\n",
      "x,y = get_percent_overlapped(sorted_tool)\n",
      "plot(x, y, label=\"Piranha\")\n",
      "\n",
      "sorted_tool = pybedtools.BedTool(sorted(LIN28_pyicos_dist, key=lambda x: float(x[8]))).saveas()\n",
      "x,y = get_percent_overlapped(sorted_tool)\n",
      "plot(x, y, label=\"pyicos\")\n",
      "\n",
      "sorted_tool = pybedtools.BedTool(sorted(LIN28_ripseeker_dist, key=lambda x: float(x[8]))).saveas()\n",
      "x,y = get_percent_overlapped(sorted_tool)\n",
      "plot(x, y, label=\"RIPSeeker\")\n",
      "\n",
      "#sorted_tool = pybedtools.BedTool(sorted(LIN28_classic_dist, key=lambda x: float(x[4]))).saveas()\n",
      "#x,y = get_percent_overlapped(sorted_tool)\n",
      "#plot(x, y, label=\"Original\")\n",
      "\n",
      "title(\"Percent of LIN28 peaks overlapping with GGAGA Motif\")\n",
      "ylabel(\"Percent of Peaks\")\n",
      "xlabel(\"Peak Rank\")\n",
      "ylim(0,6)\n",
      "legend()\n",
      "savefig(img_path + \"lin28_motif_rank.pdf\")"
     ],
     "language": "python",
     "metadata": {},
     "outputs": []
    },
    {
     "cell_type": "code",
     "collapsed": false,
     "input": [
      "def get_peak_wiggle(tool, data_pos, data_neg, size = 1000, num_peaks=100):\n",
      "    \n",
      "    \"\"\"\n",
      "    \n",
      "    returns matrix of (n,25) of wiggle and peak information\n",
      "    tool - bedtool contains location of peaks\n",
      "    data - bigwig file handle - contains bw data for the peaks\n",
      "\n",
      "    \"\"\"\n",
      "    \n",
      "    results = []\n",
      "\n",
      "    for line in tool[:num_peaks]:\n",
      "        peak_center = line.start\n",
      "        pad_amt = size / 2\n",
      "        try:\n",
      "            if line.strand == \"+\":\n",
      "                result = data_pos.get_as_array(line.chrom, peak_center - pad_amt , peak_center + pad_amt)\n",
      "            if line.strand == \"-\":\n",
      "                result = data_neg.get_as_array(line.chrom, peak_center - pad_amt , peak_center + pad_amt)[::-1]\n",
      "                \n",
      "            result = [0 if np.isnan(x) else x for x in result]\n",
      "        \n",
      "            results.append(result)\n",
      "\n",
      "        except:\n",
      "            pass\n",
      "    return pd.DataFrame(results)"
     ],
     "language": "python",
     "metadata": {},
     "outputs": []
    },
    {
     "cell_type": "code",
     "collapsed": false,
     "input": [
      "spline_df = get_peak_wiggle(FOX2_spline_center, FOX2_pos, FOX2_neg, num_peaks = 10000000)"
     ],
     "language": "python",
     "metadata": {},
     "outputs": []
    },
    {
     "cell_type": "code",
     "collapsed": false,
     "input": [
      "classic_df = get_peak_wiggle(FOX2_classic_center, FOX2_pos, FOX2_neg, num_peaks = 10000000)"
     ],
     "language": "python",
     "metadata": {},
     "outputs": []
    },
    {
     "cell_type": "code",
     "collapsed": false,
     "input": [
      "piranah_df = get_peak_wiggle(FOX2_piranah_center, FOX2_pos, FOX2_neg, num_peaks = 10000000)"
     ],
     "language": "python",
     "metadata": {},
     "outputs": []
    },
    {
     "cell_type": "code",
     "collapsed": false,
     "input": [
      "spline_df_mag_normalized = spline_df.div(spline_df.sum(axis=1), axis=0).fillna(0)\n",
      "classic_df_mag_normalized = classic_df.div(classic_df.sum(axis=1), axis=0).fillna(0)\n",
      "piranah_df_mag_normalized = piranah_df.div(piranah_df.sum(axis=1), axis=0).fillna(0)"
     ],
     "language": "python",
     "metadata": {},
     "outputs": []
    },
    {
     "cell_type": "code",
     "collapsed": false,
     "input": [
      "spline_df_mag_normalized[spline_df_mag_normalized > .1] = .1\n",
      "classic_df_mag_normalized[classic_df_mag_normalized > .1] = .1\n",
      "piranah_df_mag_normalized[piranah_df_mag_normalized > .1] = .1"
     ],
     "language": "python",
     "metadata": {},
     "outputs": []
    },
    {
     "cell_type": "code",
     "collapsed": false,
     "input": [
      "x = clustering.clusterKMeans(np.array(spline_df_mag_normalized), spline_df_mag_normalized.index, spline_df_mag_normalized.columns, doOLO=False, clusterCols=False, k=16) "
     ],
     "language": "python",
     "metadata": {},
     "outputs": []
    },
    {
     "cell_type": "code",
     "collapsed": false,
     "input": [
      "x = clustering.clusterKMeans(np.array(classic_df_mag_normalized), classic_df_mag_normalized.index, classic_df_mag_normalized.columns, doOLO=False, clusterCols=False, k=16) "
     ],
     "language": "python",
     "metadata": {},
     "outputs": []
    },
    {
     "cell_type": "code",
     "collapsed": false,
     "input": [
      "x = clustering.clusterKMeans(np.array(piranah_df_mag_normalized), piranah_df_mag_normalized.index, piranah_df_mag_normalized.columns, doOLO=False, clusterCols=False, k=16) "
     ],
     "language": "python",
     "metadata": {},
     "outputs": []
    },
    {
     "cell_type": "code",
     "collapsed": false,
     "input": [
      "not_intersecting = FOX2_pyicos.intersect(FOX2_spline, v=True)\n",
      "intersecting = FOX2_pyicos.intersect(FOX2_spline, u=True)"
     ],
     "language": "python",
     "metadata": {},
     "outputs": [],
     "prompt_number": 29
    },
    {
     "cell_type": "code",
     "collapsed": false,
     "input": [
      "Counter([float(interval.score) for interval in not_intersecting])"
     ],
     "language": "python",
     "metadata": {},
     "outputs": [
      {
       "metadata": {},
       "output_type": "pyout",
       "prompt_number": 35,
       "text": [
        "Counter({3.0: 10729, 2.0: 7014, 4.0: 4315, 5.0: 1364, 6.0: 472, 7.0: 137, 34.0: 28, 11.0: 22, 10.0: 15, 31.0: 13, 9.0: 12, 8.0: 11, 12.0: 9, 24.0: 7, 25.0: 7, 26.0: 7, 13.0: 5, 14.0: 5, 15.0: 5, 32.0: 5, 16.0: 3, 17.0: 3, 21.0: 3, 19.0: 2, 22.0: 2, 23.0: 2, 18.0: 1, 20.0: 1, 30.0: 1})"
       ]
      }
     ],
     "prompt_number": 35
    },
    {
     "cell_type": "code",
     "collapsed": false,
     "input": [
      "from collections import Counter"
     ],
     "language": "python",
     "metadata": {},
     "outputs": [],
     "prompt_number": 33
    },
    {
     "cell_type": "code",
     "collapsed": false,
     "input": [
      "pyicos_reads = array([float(interval.score) for interval in FOX2_pyicos])\n",
      "pyicos_reads = pyicos_reads[pyicos_reads < 100]"
     ],
     "language": "python",
     "metadata": {},
     "outputs": [],
     "prompt_number": 89
    },
    {
     "cell_type": "code",
     "collapsed": false,
     "input": [
      "clipper_reads = array([int(x.name.split(\"_\")[2]) for x in FOX2_spline])\n",
      "clipper_reads = clipper_reads[clipper_reads < 100]"
     ],
     "language": "python",
     "metadata": {},
     "outputs": [],
     "prompt_number": 90
    },
    {
     "cell_type": "code",
     "collapsed": false,
     "input": [
      "boxplot([pyicos_reads, clipper_reads])"
     ],
     "language": "python",
     "metadata": {},
     "outputs": [
      {
       "metadata": {},
       "output_type": "pyout",
       "prompt_number": 91,
       "text": [
        "{'boxes': [<matplotlib.lines.Line2D at 0x1a435990>,\n",
        "  <matplotlib.lines.Line2D at 0x1a4391d0>],\n",
        " 'caps': [<matplotlib.lines.Line2D at 0x1a43ef50>,\n",
        "  <matplotlib.lines.Line2D at 0x1a435490>,\n",
        "  <matplotlib.lines.Line2D at 0x1a445790>,\n",
        "  <matplotlib.lines.Line2D at 0x1a445c90>],\n",
        " 'fliers': [<matplotlib.lines.Line2D at 0x1a4303d0>,\n",
        "  <matplotlib.lines.Line2D at 0x1a430890>,\n",
        "  <matplotlib.lines.Line2D at 0x1a439bd0>,\n",
        "  <matplotlib.lines.Line2D at 0x1a4430d0>],\n",
        " 'medians': [<matplotlib.lines.Line2D at 0x1a435e90>,\n",
        "  <matplotlib.lines.Line2D at 0x1a4396d0>],\n",
        " 'whiskers': [<matplotlib.lines.Line2D at 0x1a43e790>,\n",
        "  <matplotlib.lines.Line2D at 0x1a43e9d0>,\n",
        "  <matplotlib.lines.Line2D at 0x1a445050>,\n",
        "  <matplotlib.lines.Line2D at 0x1a445290>]}"
       ]
      },
      {
       "metadata": {},
       "output_type": "display_data",
       "png": "[encoded data removed]",
       "text": [
        "<matplotlib.figure.Figure at 0x2aaac151b050>"
       ]
      }
     ],
     "prompt_number": 91
    },
    {
     "cell_type": "code",
     "collapsed": false,
     "input": [
      "from clipper.src.call_peak import get_FDR_cutoff_binom"
     ],
     "language": "python",
     "metadata": {},
     "outputs": [],
     "prompt_number": 92
    },
    {
     "cell_type": "code",
     "collapsed": false,
     "input": [
      "reads = pybedtools.BedTool(\"/nas3/gpratt/projects/clipper/data/FOX2Brain.all.fixed.sorted.rmdup.bed\")\n",
      "genes = pybedtools.BedTool(\"/nas3/gpratt/clipper/clipper/data/mm9.AS.STRUCTURE.COMPILED.gff\")"
     ],
     "language": "python",
     "metadata": {},
     "outputs": [],
     "prompt_number": 93
    },
    {
     "cell_type": "code",
     "collapsed": false,
     "input": [
      "mean(array([read.length for read in reads]))"
     ],
     "language": "python",
     "metadata": {},
     "outputs": [
      {
       "metadata": {},
       "output_type": "pyout",
       "prompt_number": 105,
       "text": [
        "30.143779786534054"
       ]
      }
     ],
     "prompt_number": 105
    },
    {
     "cell_type": "code",
     "collapsed": false,
     "input": [
      "gene_counts = genes.intersect(reads, c=True).saveas()"
     ],
     "language": "python",
     "metadata": {},
     "outputs": [],
     "prompt_number": 95
    },
    {
     "cell_type": "code",
     "collapsed": false,
     "input": [
      "counts_and_length = [(interval.length, interval[-1]) for interval in gene_counts]"
     ],
     "language": "python",
     "metadata": {},
     "outputs": [],
     "prompt_number": 101
    },
    {
     "cell_type": "code",
     "collapsed": false,
     "input": [
      "len(counts_and_length)"
     ],
     "language": "python",
     "metadata": {},
     "outputs": [
      {
       "metadata": {},
       "output_type": "pyout",
       "prompt_number": 102,
       "text": [
        "37273"
       ]
      }
     ],
     "prompt_number": 102
    },
    {
     "cell_type": "code",
     "collapsed": false,
     "input": [
      "x = np.zeros(5)\n",
      "x[:] = 30.143779786534054"
     ],
     "language": "python",
     "metadata": {},
     "outputs": [],
     "prompt_number": 109
    },
    {
     "cell_type": "code",
     "collapsed": false,
     "input": [
      "x"
     ],
     "language": "python",
     "metadata": {},
     "outputs": [
      {
       "metadata": {},
       "output_type": "pyout",
       "prompt_number": 110,
       "text": [
        "array([ 30.14377979,  30.14377979,  30.14377979,  30.14377979,  30.14377979])"
       ]
      }
     ],
     "prompt_number": 110
    },
    {
     "cell_type": "code",
     "collapsed": false,
     "input": [
      "cutoff = []\n",
      "for gene_length, num_reads in counts_and_length:\n",
      "    read_lengths = np.zeros(int(num_reads))\n",
      "    read_lengths[:] = 30.143779786534054\n",
      "    cutoff.append(get_FDR_cutoff_binom(read_lengths, gene_length, .05))"
     ],
     "language": "python",
     "metadata": {},
     "outputs": [],
     "prompt_number": 113
    },
    {
     "cell_type": "code",
     "collapsed": false,
     "input": [
      "Counter(cutoff)"
     ],
     "language": "python",
     "metadata": {},
     "outputs": [
      {
       "metadata": {},
       "output_type": "pyout",
       "prompt_number": 116,
       "text": [
        "Counter({2: 36551, 3: 190, 4: 119, 20: 63, 5: 57, 18: 52, 6: 39, 7: 27, 8: 26, 14: 21, 9: 20, 12: 20, 17: 14, 11: 13, 15: 13, 19: 13, 10: 12, 13: 12, 16: 6, 21: 4, 23: 1})"
       ]
      }
     ],
     "prompt_number": 116
    },
    {
     "cell_type": "code",
     "collapsed": false,
     "input": [
      "import pickle"
     ],
     "language": "python",
     "metadata": {},
     "outputs": [],
     "prompt_number": 117
    },
    {
     "cell_type": "code",
     "collapsed": false,
     "input": [
      "pickled_results = pickle.load(open(\"/nas3/gpratt/projects/clipper/scripts/FOX2Brain.all.fixed.sorted.rmdup.peaks.FDR.10.bed.pickle\"))"
     ],
     "language": "python",
     "metadata": {},
     "outputs": [],
     "prompt_number": 120
    },
    {
     "cell_type": "code",
     "collapsed": false,
     "input": [
      "cluster_list = [result['clusters'] for result in pickled_results]"
     ],
     "language": "python",
     "metadata": {},
     "outputs": [],
     "prompt_number": 125
    },
    {
     "cell_type": "code",
     "collapsed": false,
     "input": [
      "import itertools"
     ],
     "language": "python",
     "metadata": {},
     "outputs": [],
     "prompt_number": 133
    },
    {
     "cell_type": "code",
     "collapsed": false,
     "input": [
      "peaks = list(itertools.chain(*cluster_list))"
     ],
     "language": "python",
     "metadata": {},
     "outputs": [],
     "prompt_number": 135
    },
    {
     "cell_type": "code",
     "collapsed": false,
     "input": [
      "all_peaks = [\"\\t\".join([str(x) for x in [\n",
      "                                           cluster.chrom, \n",
      "                                           cluster.genomic_start, \n",
      "                                           cluster.genomic_stop, \n",
      "                                           cluster.gene_name  + \"_\" + str(cluster.peak_number) + \"_\" + str(cluster.number_reads_in_peak), \n",
      "                                           cluster.super_local_poisson_p,\n",
      "                                           cluster.gene_poisson_p,\n",
      "                                           cluster.strand, \n",
      "                                           cluster.thick_start, \n",
      "                                           cluster.thick_stop,\n",
      "                                           ]]) for cluster in peaks]\n",
      "    "
     ],
     "language": "python",
     "metadata": {},
     "outputs": [],
     "prompt_number": 139
    },
    {
     "cell_type": "code",
     "collapsed": false,
     "input": [
      "pybedtools.BedTool(\"\\n\".join(all_peaks), from_string=True).sort(stream=True).saveas(\"all_peaks.bed\")"
     ],
     "language": "python",
     "metadata": {},
     "outputs": [
      {
       "metadata": {},
       "output_type": "pyout",
       "prompt_number": 140,
       "text": [
        "<BedTool(all_peaks.bed)>"
       ]
      }
     ],
     "prompt_number": 140
    },
    {
     "cell_type": "code",
     "collapsed": false,
     "input": [
      "pwd"
     ],
     "language": "python",
     "metadata": {},
     "outputs": [
      {
       "metadata": {},
       "output_type": "pyout",
       "prompt_number": 141,
       "text": [
        "u'/nas/nas0/gpratt/iPython_Notebook'"
       ]
      }
     ],
     "prompt_number": 141
    },
    {
     "cell_type": "code",
     "collapsed": false,
     "input": [
      "from Bio import SeqIO"
     ],
     "language": "python",
     "metadata": {},
     "outputs": [],
     "prompt_number": 151
    },
    {
     "cell_type": "code",
     "collapsed": false,
     "input": [
      "def adjust_pyicos(interval, size):\n",
      "    interval.start = int(interval[6]) - size\n",
      "    interval.end = int(interval[6]) + size\n",
      "    return interval\n",
      "def adjust_clipper(interval,size):\n",
      "    center = (int(interval[6]) + int(interval[7])) / 2\n",
      "    interval.start = int(center - size)\n",
      "    interval.end = int(center + size)\n",
      "    return interval"
     ],
     "language": "python",
     "metadata": {},
     "outputs": [],
     "prompt_number": 262
    },
    {
     "cell_type": "code",
     "collapsed": false,
     "input": [
      "def count_fox2_motifs_window(bedtool, peak_width, pyicos=False):\n",
      "    if pyicos:\n",
      "        bedtool = bedtool.each(adjust_pyicos, peak_width)\n",
      "    else:\n",
      "        bedtool = bedtool.each(adjust_clipper, peak_width)\n",
      "        \n",
      "    x = bedtool.window(GCATG_motif, sm=True, w=peak_width, c=True).saveas()\n",
      "    return len([interval for interval in x if int(interval[-1]) > 0]) "
     ],
     "language": "python",
     "metadata": {},
     "outputs": [],
     "prompt_number": 320
    },
    {
     "cell_type": "code",
     "collapsed": false,
     "input": [
      "def count_fox2_motifs(bedtool, peak_width, pyicos=False):\n",
      "    \n",
      "    if pyicos:\n",
      "        bedtool = bedtool.each(adjust_pyicos, peak_width)\n",
      "    else:\n",
      "        bedtool = bedtool.each(adjust_clipper, peak_width)\n",
      "    x = SeqIO.parse(bedtool.sequence(fi=\"/nas3/yeolab/Genome/ucsc/mm9/chromosomes/all.fa\", s=True).seqfn, 'fasta')\n",
      "    count = 0\n",
      "    for peak in x:\n",
      "        if \"gcatg\" in peak or \"tgcatg\" in peak:\n",
      "            count += 1\n",
      "    return count"
     ],
     "language": "python",
     "metadata": {},
     "outputs": [],
     "prompt_number": 316
    },
    {
     "cell_type": "code",
     "collapsed": false,
     "input": [
      "FOX2_pyicos.each(adjust_pyicos, 25)[1]"
     ],
     "language": "python",
     "metadata": {},
     "outputs": [
      {
       "metadata": {},
       "output_type": "pyout",
       "prompt_number": 312,
       "text": [
        "Interval(chr1:3215100-3215150)"
       ]
      }
     ],
     "prompt_number": 312
    },
    {
     "cell_type": "code",
     "collapsed": false,
     "input": [
      "peaks_25 = {\"clipper\" : count_fox2_motifs(FOX2_spline, 25), \"pyicos\" : count_fox2_motifs(FOX2_pyicos, 25, True),\n",
      " \"low_coverage\" : count_fox2_motifs(more_not_intersecting, 25, True), \"non_intersecting\" : count_fox2_motifs(not_intersecting, 25, True),\n",
      " \"mike_p01\" : count_fox2_motifs(FOX2_mikes_p01, 25), \"mike_p05\" : count_fox2_motifs(FOX2_mikes_p05, 25)}\n",
      "\n",
      "peaks_200 = {\"clipper\" : count_fox2_motifs(FOX2_spline, 200), \"pyicos\" : count_fox2_motifs(FOX2_pyicos, 200, True),\n",
      " \"low_coverage\" : count_fox2_motifs(more_not_intersecting, 200, True), \"non_intersecting\" : count_fox2_motifs(not_intersecting, 200, True),\n",
      " \"mike_p01\" : count_fox2_motifs(FOX2_mikes_p01, 200), \"mike_p05\" : count_fox2_motifs(FOX2_mikes_p05, 200)}\n",
      "\n",
      "peaks_25_w = {\"clipper\" : count_fox2_motifs_window(FOX2_spline, 25), \"pyicos\" : count_fox2_motifs_window(FOX2_pyicos, 25, True),\n",
      " \"low_coverage\" : count_fox2_motifs_window(more_not_intersecting, 25, True), \"non_intersecting\" : count_fox2_motifs_window(not_intersecting, 25, True),\n",
      " \"mike_p01\" : count_fox2_motifs_window(FOX2_mikes_p01, 25), \"mike_p05\" : count_fox2_motifs_window(FOX2_mikes_p05, 25)}\n",
      "\n",
      "peaks_200_w = {\"clipper\" : count_fox2_motifs_window(FOX2_spline, 200), \"pyicos\" : count_fox2_motifs_window(FOX2_pyicos, 200, True),\n",
      " \"low_coverage\" : count_fox2_motifs_window(more_not_intersecting, 200, True), \"non_intersecting\" : count_fox2_motifs_window(not_intersecting, 200, True),\n",
      " \"mike_p01\" : count_fox2_motifs_window(FOX2_mikes_p01, 200), \"mike_p05\" : count_fox2_motifs_window(FOX2_mikes_p05, 200)}\n",
      "\n",
      "\n",
      "y = {\"clipper\" : len(FOX2_spline), \"pyicos\" : len(FOX2_pyicos),\n",
      " \"low_coverage\" : len(more_not_intersecting), \"non_intersecting\" : len(not_intersecting),\n",
      " \"mike_p01\" : len(FOX2_mikes_p01), \"mike_p05\" : len(FOX2_mikes_p05)}\n"
     ],
     "language": "python",
     "metadata": {},
     "outputs": [],
     "prompt_number": 321
    },
    {
     "cell_type": "code",
     "collapsed": false,
     "input": [
      "print peaks_25\n",
      "print peaks_200"
     ],
     "language": "python",
     "metadata": {},
     "outputs": [
      {
       "output_type": "stream",
       "stream": "stdout",
       "text": [
        "{'clipper': 319, 'mike_p05': 1243, 'pyicos': 2447, 'mike_p01': 475, 'low_coverage': 718, 'non_intersecting': 2073}\n",
        "{'clipper': 946, 'mike_p05': 3681, 'pyicos': 6220, 'mike_p01': 1294, 'low_coverage': 1850, 'non_intersecting': 5121}\n"
       ]
      }
     ],
     "prompt_number": 318
    },
    {
     "cell_type": "code",
     "collapsed": false,
     "input": [
      "y"
     ],
     "language": "python",
     "metadata": {},
     "outputs": [
      {
       "metadata": {},
       "output_type": "pyout",
       "prompt_number": 247,
       "text": [
        "{'clipper': 5570,\n",
        " 'low_coverage': 9662,\n",
        " 'mike_p01': 7466,\n",
        " 'mike_p05': 19459,\n",
        " 'non_intersecting': 24200,\n",
        " 'pyicos': 30735}"
       ]
      }
     ],
     "prompt_number": 247
    },
    {
     "cell_type": "code",
     "collapsed": false,
     "input": [
      "for key in peaks_25.keys():\n",
      "    print key, peaks_25[key] / float(y[key])\n",
      "\n",
      "print\n",
      "for key in peaks_200.keys():\n",
      "    print key, peaks_200[key] / float(y[key])\n",
      "    \n",
      "print\n",
      "for key in peaks_25_w.keys():\n",
      "    print key, peaks_25_w[key] / float(y[key])\n",
      "    \n",
      "print\n",
      "for key in peaks_200_w.keys():\n",
      "    print key, peaks_200_w[key] / float(y[key])"
     ],
     "language": "python",
     "metadata": {},
     "outputs": [
      {
       "output_type": "stream",
       "stream": "stdout",
       "text": [
        "clipper 0.0572710951526\n",
        "mike_p05 0.063877897117\n",
        "pyicos 0.0796160728811\n",
        "mike_p01 0.0636217519421\n",
        "low_coverage 0.0743117367005\n",
        "non_intersecting 0.0856611570248\n",
        "\n",
        "clipper 0.169838420108\n",
        "mike_p05 0.189166966442\n",
        "pyicos 0.202375142346\n",
        "mike_p01 0.173319046343\n",
        "low_coverage 0.19147174498\n",
        "non_intersecting 0.211611570248\n",
        "\n",
        "clipper 0.399820466786\n",
        "mike_p05 0.404388714734\n",
        "pyicos 0.425313160891\n",
        "mike_p01 0.497990892044\n",
        "low_coverage 0.398882219002\n",
        "non_intersecting 0.426776859504\n",
        "\n",
        "clipper 0.533034111311\n",
        "mike_p05 0.54375867208\n",
        "pyicos 0.563884821864\n",
        "mike_p01 0.61920707206\n",
        "low_coverage 0.539225833161\n",
        "non_intersecting 0.568347107438\n"
       ]
      }
     ],
     "prompt_number": 324
    },
    {
     "cell_type": "markdown",
     "metadata": {},
     "source": [
      "No matter how I slice it pyicos and its low coverage peaks do very well.  As well or better than clipper and we get more usable motifs out of it..."
     ]
    },
    {
     "cell_type": "code",
     "collapsed": false,
     "input": [
      "print FOX2_pyicos[1][6]"
     ],
     "language": "python",
     "metadata": {},
     "outputs": [
      {
       "output_type": "stream",
       "stream": "stdout",
       "text": [
        "3215125\n"
       ]
      }
     ],
     "prompt_number": 235
    },
    {
     "cell_type": "code",
     "collapsed": false,
     "input": [
      "len(FOX2_pyicos)"
     ],
     "language": "python",
     "metadata": {},
     "outputs": [
      {
       "metadata": {},
       "output_type": "pyout",
       "prompt_number": 213,
       "text": [
        "30735"
       ]
      }
     ],
     "prompt_number": 213
    },
    {
     "cell_type": "code",
     "collapsed": false,
     "input": [
      "hist([float(interval.length) for interval in not_intersecting], range=(0,250), bins=100)"
     ],
     "language": "python",
     "metadata": {},
     "outputs": [
      {
       "metadata": {},
       "output_type": "pyout",
       "prompt_number": 218,
       "text": [
        "(array([   0,    1,    5,    5,    6,    1,   14,   30,  275,  309,  679,\n",
        "        634, 1130,  909, 1680, 1107, 2021, 1141, 2679, 1104, 1482,  819,\n",
        "       1281,  678,  899,  506,  751,  447,  530,  301,  433,  222,  275,\n",
        "        174,  213,  120,  160,  102,  117,   72,  104,   64,   64,   51,\n",
        "         64,   46,   41,   24,   71,   15,   30,   14,   27,   15,   20,\n",
        "          4,   22,    8,   11,   10,   14,    6,    7,    8,    6,    6,\n",
        "          8,    6,   11,    1,    5,    6,    3,    5,    5,    2,    5,\n",
        "          0,    2,    2,    1,    3,    2,    1,    1,    5,    2,    2,\n",
        "          2,    2,    0,    0,    1,    5,    0,    5,    1,    1,    0,\n",
        "          0]),\n",
        " array([   0. ,    2.5,    5. ,    7.5,   10. ,   12.5,   15. ,   17.5,\n",
        "         20. ,   22.5,   25. ,   27.5,   30. ,   32.5,   35. ,   37.5,\n",
        "         40. ,   42.5,   45. ,   47.5,   50. ,   52.5,   55. ,   57.5,\n",
        "         60. ,   62.5,   65. ,   67.5,   70. ,   72.5,   75. ,   77.5,\n",
        "         80. ,   82.5,   85. ,   87.5,   90. ,   92.5,   95. ,   97.5,\n",
        "        100. ,  102.5,  105. ,  107.5,  110. ,  112.5,  115. ,  117.5,\n",
        "        120. ,  122.5,  125. ,  127.5,  130. ,  132.5,  135. ,  137.5,\n",
        "        140. ,  142.5,  145. ,  147.5,  150. ,  152.5,  155. ,  157.5,\n",
        "        160. ,  162.5,  165. ,  167.5,  170. ,  172.5,  175. ,  177.5,\n",
        "        180. ,  182.5,  185. ,  187.5,  190. ,  192.5,  195. ,  197.5,\n",
        "        200. ,  202.5,  205. ,  207.5,  210. ,  212.5,  215. ,  217.5,\n",
        "        220. ,  222.5,  225. ,  227.5,  230. ,  232.5,  235. ,  237.5,\n",
        "        240. ,  242.5,  245. ,  247.5,  250. ]),\n",
        " <a list of 100 Patch objects>)"
       ]
      },
      {
       "metadata": {},
       "output_type": "display_data",
       "png": "[encoded data removed]",
       "text": [
        "<matplotlib.figure.Figure at 0x21f9dc10>"
       ]
      }
     ],
     "prompt_number": 218
    },
    {
     "cell_type": "code",
     "collapsed": false,
     "input": [
      "len(FOX2_mikes_p01.window(GCATG_motif, sm=True, w=200, u=True))"
     ],
     "language": "python",
     "metadata": {},
     "outputs": [
      {
       "metadata": {},
       "output_type": "pyout",
       "prompt_number": 272,
       "text": [
        "3772"
       ]
      },
      {
       "metadata": {},
       "output_type": "pyout",
       "prompt_number": 273,
       "text": [
        "3772"
       ]
      }
     ],
     "prompt_number": 273
    },
    {
     "cell_type": "code",
     "collapsed": false,
     "input": [
      "shuffled_GCATG_motif = GCATG_motif.shuffle(genome='mm9', incl=\"/nas3/yeolab/Genome/ensembl/gtf/Mus_musculus.NCBIM37.64.fixed.genes.gff\")"
     ],
     "language": "python",
     "metadata": {},
     "outputs": [],
     "prompt_number": 303
    },
    {
     "cell_type": "code",
     "collapsed": false,
     "input": [
      "x = FOX2_mikes_p01.window(shuffled_GCATG_motif, sm=True, w=200, c=True).saveas()"
     ],
     "language": "python",
     "metadata": {},
     "outputs": [],
     "prompt_number": 304
    },
    {
     "cell_type": "code",
     "collapsed": false,
     "input": [
      "len([interval for interval in x if int(interval[-1]) > 0]) "
     ],
     "language": "python",
     "metadata": {},
     "outputs": [
      {
       "metadata": {},
       "output_type": "pyout",
       "prompt_number": 305,
       "text": [
        "1339"
       ]
      }
     ],
     "prompt_number": 305
    },
    {
     "cell_type": "code",
     "collapsed": false,
     "input": [
      "shuffled_FOX2_mikes_p01 = FOX2_mikes_p01.shuffle(genome='mm9', incl=\"/nas3/yeolab/Genome/ensembl/gtf/Mus_musculus.NCBIM37.64.fixed.genes.gff\").saveas()"
     ],
     "language": "python",
     "metadata": {},
     "outputs": [],
     "prompt_number": 307
    },
    {
     "cell_type": "code",
     "collapsed": false,
     "input": [
      "x = shuffled_FOX2_mikes_p01.window(shuffled_GCATG_motif, sm=True, w=200, c=True).saveas()\n",
      "print len([interval for interval in x if int(interval[-1]) > 0]) "
     ],
     "language": "python",
     "metadata": {},
     "outputs": [
      {
       "output_type": "stream",
       "stream": "stdout",
       "text": [
        "4881\n"
       ]
      }
     ],
     "prompt_number": 308
    },
    {
     "cell_type": "code",
     "collapsed": false,
     "input": [
      "x = shuffled_FOX2_mikes_p01.window(GCATG_motif, sm=True, w=200, c=True).saveas()\n",
      "print len([interval for interval in x if int(interval[-1]) > 0]) \n"
     ],
     "language": "python",
     "metadata": {},
     "outputs": [
      {
       "output_type": "stream",
       "stream": "stdout",
       "text": [
        "1041\n"
       ]
      }
     ],
     "prompt_number": 309
    },
    {
     "cell_type": "code",
     "collapsed": false,
     "input": [
      "pwd"
     ],
     "language": "python",
     "metadata": {},
     "outputs": [
      {
       "metadata": {},
       "output_type": "pyout",
       "prompt_number": 325,
       "text": [
        "u'/nas/nas0/gpratt/iPython_Notebook'"
       ]
      }
     ],
     "prompt_number": 325
    },
    {
     "cell_type": "code",
     "collapsed": false,
     "input": [
      "pyicos_bonferoni = pybedtools.BedTool(\"/nas3/gpratt/projects/clipper/v3/unfiltered_FOX2Brain.all.fixed.sorted.rmdup.pyicos.bed\")"
     ],
     "language": "python",
     "metadata": {},
     "outputs": [],
     "prompt_number": 327
    },
    {
     "cell_type": "code",
     "collapsed": false,
     "input": [
      "pyicos_05 = pyicos_bonferoni.filter(lambda x: float(x[8]) < .05).saveas()\n",
      "print len(pyicos_05)\n",
      "print count_fox2_motifs_window(pyicos_05, 200, pyicos=True)\n",
      "print count_fox2_motifs_window(pyicos_05, 25, pyicos=True)"
     ],
     "language": "python",
     "metadata": {},
     "outputs": [
      {
       "output_type": "stream",
       "stream": "stdout",
       "text": [
        "30308\n",
        "16993"
       ]
      },
      {
       "output_type": "stream",
       "stream": "stdout",
       "text": [
        "\n",
        "12815"
       ]
      },
      {
       "output_type": "stream",
       "stream": "stdout",
       "text": [
        "\n"
       ]
      }
     ],
     "prompt_number": 391
    },
    {
     "cell_type": "code",
     "collapsed": false,
     "input": [
      "print 16993. / 30308\n",
      "print 12815. / 30308"
     ],
     "language": "python",
     "metadata": {},
     "outputs": [
      {
       "output_type": "stream",
       "stream": "stdout",
       "text": [
        "0.560677048964\n",
        "0.422825656592\n"
       ]
      }
     ],
     "prompt_number": 392
    },
    {
     "cell_type": "code",
     "collapsed": false,
     "input": [
      "total_peaks = len(pyicos_bonferoni)\n",
      "print total_peaks"
     ],
     "language": "python",
     "metadata": {},
     "outputs": [
      {
       "output_type": "stream",
       "stream": "stdout",
       "text": [
        "85941\n"
       ]
      }
     ],
     "prompt_number": 382
    },
    {
     "cell_type": "code",
     "collapsed": false,
     "input": [
      "def bonferoni_correct(interval, total_peaks):\n",
      "    interval[8] = str(float(interval[8]) * total_peaks)\n",
      "    return interval"
     ],
     "language": "python",
     "metadata": {},
     "outputs": [],
     "prompt_number": 359
    },
    {
     "cell_type": "code",
     "collapsed": false,
     "input": [
      "bonferoni_corrected  = pyicos_bonferoni.each(bonferoni_correct, total_peaks).saveas()\n",
      "pyicos_bonferoni_p01 = bonferoni_corrected.filter(lambda x: float(x[8]) < .01).saveas()\n",
      "pyicos_bonferoni_p05 = bonferoni_corrected.filter(lambda x: float(x[8]) < 1).saveas()"
     ],
     "language": "python",
     "metadata": {},
     "outputs": [],
     "prompt_number": 383
    },
    {
     "cell_type": "code",
     "collapsed": false,
     "input": [
      "print len(pyicos_bonferoni_p01)\n",
      "print count_fox2_motifs_window(pyicos_bonferoni_p01, 200, pyicos=True)\n",
      "print count_fox2_motifs_window(pyicos_bonferoni_p01, 25, pyicos=True)"
     ],
     "language": "python",
     "metadata": {},
     "outputs": [
      {
       "output_type": "stream",
       "stream": "stdout",
       "text": [
        "10545\n",
        "6075"
       ]
      },
      {
       "output_type": "stream",
       "stream": "stdout",
       "text": [
        "\n",
        "4717"
       ]
      },
      {
       "output_type": "stream",
       "stream": "stdout",
       "text": [
        "\n"
       ]
      }
     ],
     "prompt_number": 384
    },
    {
     "cell_type": "code",
     "collapsed": false,
     "input": [
      "print len(pyicos_bonferoni_p05)\n",
      "print count_fox2_motifs_window(pyicos_bonferoni_p05, 200, pyicos=True)\n",
      "print count_fox2_motifs_window(pyicos_bonferoni_p05, 25, pyicos=True)"
     ],
     "language": "python",
     "metadata": {},
     "outputs": [
      {
       "output_type": "stream",
       "stream": "stdout",
       "text": [
        "10545\n",
        "6075"
       ]
      },
      {
       "output_type": "stream",
       "stream": "stdout",
       "text": [
        "\n",
        "4717"
       ]
      },
      {
       "output_type": "stream",
       "stream": "stdout",
       "text": [
        "\n"
       ]
      }
     ],
     "prompt_number": 385
    },
    {
     "cell_type": "code",
     "collapsed": false,
     "input": [
      "len(bonferoni_corrected)"
     ],
     "language": "python",
     "metadata": {},
     "outputs": [
      {
       "metadata": {},
       "output_type": "pyout",
       "prompt_number": 386,
       "text": [
        "85941"
       ]
      }
     ],
     "prompt_number": 386
    },
    {
     "cell_type": "code",
     "collapsed": false,
     "input": [
      "{interval[8] for interval in pyicos_bonferoni_p01}"
     ],
     "language": "python",
     "metadata": {},
     "outputs": [
      {
       "metadata": {},
       "output_type": "pyout",
       "prompt_number": 389,
       "text": [
        "{'0.0'}"
       ]
      }
     ],
     "prompt_number": 389
    },
    {
     "cell_type": "code",
     "collapsed": false,
     "input": [],
     "language": "python",
     "metadata": {},
     "outputs": []
    }
   ],
   "metadata": {}
  }
 ]
}