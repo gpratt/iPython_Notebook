{
 "metadata": {
  "name": ""
 },
 "nbformat": 3,
 "nbformat_minor": 0,
 "worksheets": [
  {
   "cells": [
    {
     "cell_type": "code",
     "collapsed": false,
     "input": [
      "import gffutils\n",
      "#from gscripts.general.pybedtools_helpers import to_bed\n",
      " \n",
      "from clipper.src.CLIP_analysis import get_genomic_regions, get_proximal_distal_introns"
     ],
     "language": "python",
     "metadata": {},
     "outputs": [
      {
       "output_type": "stream",
       "stream": "stderr",
       "text": [
        "/nas3/yeolab/Software/lib/python2.7/site-packages/matplotlib/__init__.py:921: UserWarning:  This call to matplotlib.use() has no effect\n",
        "because the the backend has already been chosen;\n",
        "matplotlib.use() must be called *before* pylab, matplotlib.pyplot,\n",
        "or matplotlib.backends is imported for the first time.\n",
        "\n",
        "  if warn: warnings.warn(_use_error_msg)\n"
       ]
      }
     ],
     "prompt_number": 1
    },
    {
     "cell_type": "code",
     "collapsed": false,
     "input": [
      "mm9_base = \"/nas3/yeolab/Genome/ensembl/gtf/gencode.vM1.annotation\"\n",
      "mm9_gff = mm9_base + \".gtf\"\n",
      "mm9_db = mm9_gff + \".db\""
     ],
     "language": "python",
     "metadata": {},
     "outputs": [],
     "prompt_number": 2
    },
    {
     "cell_type": "code",
     "collapsed": false,
     "input": [
      "gffutils.create_db(mm9_gff, mm9_db, force=True)"
     ],
     "language": "python",
     "metadata": {},
     "outputs": [
      {
       "output_type": "stream",
       "stream": "stderr",
       "text": [
        "0 of 381980 (0%)\r"
       ]
      }
     ],
     "prompt_number": "*"
    },
    {
     "cell_type": "code",
     "collapsed": false,
     "input": [
      "hg19_base = \"/nas3/yeolab/Genome/ensembl/gtf/gencode.v17.annotation\"\n",
      "hg19_gff = hg19_base + \".gtf\"\n",
      "hg19_db = hg19_gff + \".db\""
     ],
     "language": "python",
     "metadata": {},
     "outputs": [],
     "prompt_number": "*"
    },
    {
     "cell_type": "code",
     "collapsed": false,
     "input": [
      "gffutils.create_db(hg19_gff, hg19_db, force=True)"
     ],
     "language": "python",
     "metadata": {},
     "outputs": [],
     "prompt_number": "*"
    },
    {
     "cell_type": "code",
     "collapsed": false,
     "input": [
      "hg19_base = \"/nas3/yeolab/Genome/ensembl/gtf/gencode.v16.annotation\"\n",
      "hg19_gff = hg19_base + \".gtf\"\n",
      "hg19_db = hg19_gff + \".db\""
     ],
     "language": "python",
     "metadata": {},
     "outputs": [],
     "prompt_number": "*"
    },
    {
     "cell_type": "code",
     "collapsed": false,
     "input": [
      "gffutils.create_db(hg19_gff, hg19_db, force=True)"
     ],
     "language": "python",
     "metadata": {},
     "outputs": [],
     "prompt_number": "*"
    },
    {
     "cell_type": "code",
     "collapsed": false,
     "input": [
      "mm10_base = \"/nas3/yeolab/Genome/ensembl/gtf/Mus_musculus.GRCm38.72.fixed\"\n",
      "mm10_gff = mm10_base + \".gtf\"\n",
      "mm10_db = mm10_gff + \".db\""
     ],
     "language": "python",
     "metadata": {},
     "outputs": [],
     "prompt_number": "*"
    },
    {
     "cell_type": "code",
     "collapsed": false,
     "input": [
      "gffutils.create_db(mm10_gff, mm10_db)"
     ],
     "language": "python",
     "metadata": {},
     "outputs": [],
     "prompt_number": "*"
    },
    {
     "cell_type": "code",
     "collapsed": false,
     "input": [
      "dm3_base = \"/nas3/yeolab/Genome/ensembl/gtf/Drosophila_melanogaster.BDGP5.74.fixed\"\n",
      "dm3_gff = dm3_base + \".gtf\"\n",
      "dm3_db = dm3_gff + \".db\""
     ],
     "language": "python",
     "metadata": {},
     "outputs": [],
     "prompt_number": "*"
    },
    {
     "cell_type": "code",
     "collapsed": false,
     "input": [
      "gffutils.create_db(dm3_gff, dm3_db)"
     ],
     "language": "python",
     "metadata": {},
     "outputs": [],
     "prompt_number": "*"
    },
    {
     "cell_type": "markdown",
     "metadata": {},
     "source": [
      "This merges all exons and outputs in a bed format so count_tags will work"
     ]
    },
    {
     "cell_type": "code",
     "collapsed": false,
     "input": [
      "print \"foo\""
     ],
     "language": "python",
     "metadata": {},
     "outputs": [],
     "prompt_number": "*"
    },
    {
     "cell_type": "code",
     "collapsed": false,
     "input": [
      "genes = db.features_of_type('gene')"
     ],
     "language": "python",
     "metadata": {},
     "outputs": [],
     "prompt_number": 13
    },
    {
     "cell_type": "markdown",
     "metadata": {},
     "source": [
      "These are the good annotations"
     ]
    },
    {
     "cell_type": "code",
     "collapsed": false,
     "input": [
      "foo = get_genomic_regions(\"\", \"dm3\", gffutils.FeatureDB(dm3_db))"
     ],
     "language": "python",
     "metadata": {},
     "outputs": [
      {
       "ename": "BEDToolsError",
       "evalue": "\nCommand was:\n\n\tbedtools sort -i /nas3/scratch/gpratt/pybedtools_tmp/pybedtools.Hbs5fl.tmp\n\nError message was:\nError: The requested bed file (/nas3/scratch/gpratt/pybedtools_tmp/pybedtools.Hbs5fl.tmp) could not be opened. Exiting!\n",
       "output_type": "pyerr",
       "traceback": [
        "\u001b[1;31m---------------------------------------------------------------------------\u001b[0m\n\u001b[1;31mBEDToolsError\u001b[0m                             Traceback (most recent call last)",
        "\u001b[1;32m<ipython-input-13-1aca065e8160>\u001b[0m in \u001b[0;36m<module>\u001b[1;34m()\u001b[0m\n\u001b[1;32m----> 1\u001b[1;33m \u001b[0mfoo\u001b[0m \u001b[1;33m=\u001b[0m \u001b[0mget_genomic_regions\u001b[0m\u001b[1;33m(\u001b[0m\u001b[1;34m\"\"\u001b[0m\u001b[1;33m,\u001b[0m \u001b[1;34m\"dm3\"\u001b[0m\u001b[1;33m,\u001b[0m \u001b[0mgffutils\u001b[0m\u001b[1;33m.\u001b[0m\u001b[0mFeatureDB\u001b[0m\u001b[1;33m(\u001b[0m\u001b[0mdm3_db\u001b[0m\u001b[1;33m)\u001b[0m\u001b[1;33m)\u001b[0m\u001b[1;33m\u001b[0m\u001b[0m\n\u001b[0m",
        "\u001b[1;32m/nas/nas0/gpratt/clipper/clipper/src/CLIP_analysis.pyc\u001b[0m in \u001b[0;36mget_genomic_regions\u001b[1;34m(regions_dir, species, db, prox_size)\u001b[0m\n\u001b[0;32m    735\u001b[0m \u001b[1;33m\u001b[0m\u001b[0m\n\u001b[0;32m    736\u001b[0m     \u001b[1;31m#make daddy some introns\u001b[0m\u001b[1;33m\u001b[0m\u001b[1;33m\u001b[0m\u001b[0m\n\u001b[1;32m--> 737\u001b[1;33m     \u001b[0mexons\u001b[0m \u001b[1;33m=\u001b[0m \u001b[0mpybedtools\u001b[0m\u001b[1;33m.\u001b[0m\u001b[0mBedTool\u001b[0m\u001b[1;33m(\u001b[0m\u001b[0mmap\u001b[0m\u001b[1;33m(\u001b[0m\u001b[0mto_bed\u001b[0m\u001b[1;33m,\u001b[0m \u001b[0mexons\u001b[0m\u001b[1;33m)\u001b[0m\u001b[1;33m)\u001b[0m\u001b[1;33m.\u001b[0m\u001b[0msort\u001b[0m\u001b[1;33m(\u001b[0m\u001b[1;33m)\u001b[0m\u001b[1;33m.\u001b[0m\u001b[0msaveas\u001b[0m\u001b[1;33m(\u001b[0m\u001b[0mos\u001b[0m\u001b[1;33m.\u001b[0m\u001b[0mpath\u001b[0m\u001b[1;33m.\u001b[0m\u001b[0mjoin\u001b[0m\u001b[1;33m(\u001b[0m\u001b[0mspecies\u001b[0m \u001b[1;33m+\u001b[0m \u001b[1;34m\"_exons.bed\"\u001b[0m\u001b[1;33m)\u001b[0m\u001b[1;33m)\u001b[0m\u001b[1;33m\u001b[0m\u001b[0m\n\u001b[0m\u001b[0;32m    738\u001b[0m     \u001b[0mintrons\u001b[0m \u001b[1;33m=\u001b[0m \u001b[0mget_introns\u001b[0m\u001b[1;33m(\u001b[0m\u001b[0mexons\u001b[0m\u001b[1;33m)\u001b[0m\u001b[1;33m.\u001b[0m\u001b[0msort\u001b[0m\u001b[1;33m(\u001b[0m\u001b[1;33m)\u001b[0m\u001b[1;33m.\u001b[0m\u001b[0msaveas\u001b[0m\u001b[1;33m(\u001b[0m\u001b[0mos\u001b[0m\u001b[1;33m.\u001b[0m\u001b[0mpath\u001b[0m\u001b[1;33m.\u001b[0m\u001b[0mjoin\u001b[0m\u001b[1;33m(\u001b[0m\u001b[0mspecies\u001b[0m \u001b[1;33m+\u001b[0m \u001b[1;34m\"_introns.bed\"\u001b[0m\u001b[1;33m)\u001b[0m\u001b[1;33m)\u001b[0m\u001b[1;33m\u001b[0m\u001b[0m\n\u001b[0;32m    739\u001b[0m \u001b[1;33m\u001b[0m\u001b[0m\n",
        "\u001b[1;32m/nas3/yeolab/Software/Python-2.7.5/lib/python2.7/site-packages/pybedtools-0.6.2-py2.7-linux-x86_64.egg/pybedtools/bedtool.pyc\u001b[0m in \u001b[0;36mdecorated\u001b[1;34m(self, *args, **kwargs)\u001b[0m\n\u001b[0;32m    641\u001b[0m             \u001b[1;31m# this calls the actual method in the first place; *result* is\u001b[0m\u001b[1;33m\u001b[0m\u001b[1;33m\u001b[0m\u001b[0m\n\u001b[0;32m    642\u001b[0m             \u001b[1;31m# whatever you get back\u001b[0m\u001b[1;33m\u001b[0m\u001b[1;33m\u001b[0m\u001b[0m\n\u001b[1;32m--> 643\u001b[1;33m             \u001b[0mresult\u001b[0m \u001b[1;33m=\u001b[0m \u001b[0mmethod\u001b[0m\u001b[1;33m(\u001b[0m\u001b[0mself\u001b[0m\u001b[1;33m,\u001b[0m \u001b[1;33m*\u001b[0m\u001b[0margs\u001b[0m\u001b[1;33m,\u001b[0m \u001b[1;33m**\u001b[0m\u001b[0mkwargs\u001b[0m\u001b[1;33m)\u001b[0m\u001b[1;33m\u001b[0m\u001b[0m\n\u001b[0m\u001b[0;32m    644\u001b[0m \u001b[1;33m\u001b[0m\u001b[0m\n\u001b[0;32m    645\u001b[0m             \u001b[1;31m# add appropriate tags\u001b[0m\u001b[1;33m\u001b[0m\u001b[1;33m\u001b[0m\u001b[0m\n",
        "\u001b[1;32m/nas3/yeolab/Software/Python-2.7.5/lib/python2.7/site-packages/pybedtools-0.6.2-py2.7-linux-x86_64.egg/pybedtools/bedtool.pyc\u001b[0m in \u001b[0;36mwrapped\u001b[1;34m(self, *args, **kwargs)\u001b[0m\n\u001b[0;32m    228\u001b[0m             \u001b[1;31m# Do the actual call\u001b[0m\u001b[1;33m\u001b[0m\u001b[1;33m\u001b[0m\u001b[0m\n\u001b[0;32m    229\u001b[0m             stream = call_bedtools(cmds, tmp, stdin=stdin,\n\u001b[1;32m--> 230\u001b[1;33m                                    check_stderr=check_stderr)\n\u001b[0m\u001b[0;32m    231\u001b[0m \u001b[1;33m\u001b[0m\u001b[0m\n\u001b[0;32m    232\u001b[0m             \u001b[1;32mif\u001b[0m \u001b[0mdoes_not_return_bedtool\u001b[0m\u001b[1;33m:\u001b[0m\u001b[1;33m\u001b[0m\u001b[0m\n",
        "\u001b[1;32m/nas3/yeolab/Software/Python-2.7.5/lib/python2.7/site-packages/pybedtools-0.6.2-py2.7-linux-x86_64.egg/pybedtools/helpers.pyc\u001b[0m in \u001b[0;36mcall_bedtools\u001b[1;34m(cmds, tmpfn, stdin, check_stderr)\u001b[0m\n\u001b[0;32m    420\u001b[0m \u001b[1;33m\u001b[0m\u001b[0m\n\u001b[0;32m    421\u001b[0m         \u001b[1;32mif\u001b[0m \u001b[0mstderr\u001b[0m\u001b[1;33m:\u001b[0m\u001b[1;33m\u001b[0m\u001b[0m\n\u001b[1;32m--> 422\u001b[1;33m             \u001b[1;32mraise\u001b[0m \u001b[0mBEDToolsError\u001b[0m\u001b[1;33m(\u001b[0m\u001b[0msubprocess\u001b[0m\u001b[1;33m.\u001b[0m\u001b[0mlist2cmdline\u001b[0m\u001b[1;33m(\u001b[0m\u001b[0mcmds\u001b[0m\u001b[1;33m)\u001b[0m\u001b[1;33m,\u001b[0m \u001b[0mstderr\u001b[0m\u001b[1;33m)\u001b[0m\u001b[1;33m\u001b[0m\u001b[0m\n\u001b[0m\u001b[0;32m    423\u001b[0m \u001b[1;33m\u001b[0m\u001b[0m\n\u001b[0;32m    424\u001b[0m     \u001b[1;32mexcept\u001b[0m \u001b[1;33m(\u001b[0m\u001b[0mOSError\u001b[0m\u001b[1;33m,\u001b[0m \u001b[0mIOError\u001b[0m\u001b[1;33m)\u001b[0m \u001b[1;32mas\u001b[0m \u001b[0merr\u001b[0m\u001b[1;33m:\u001b[0m\u001b[1;33m\u001b[0m\u001b[0m\n",
        "\u001b[1;31mBEDToolsError\u001b[0m: \nCommand was:\n\n\tbedtools sort -i /nas3/scratch/gpratt/pybedtools_tmp/pybedtools.Hbs5fl.tmp\n\nError message was:\nError: The requested bed file (/nas3/scratch/gpratt/pybedtools_tmp/pybedtools.Hbs5fl.tmp) could not be opened. Exiting!\n"
       ]
      },
      {
       "output_type": "stream",
       "stream": "stdout",
       "text": [
        "dm3_genes.bed\n",
        "File \"dm3_genes.bed\" does not exist\n"
       ]
      }
     ],
     "prompt_number": 13
    },
    {
     "cell_type": "code",
     "collapsed": false,
     "input": [
      "dm3 = gffutils.FeatureDB(dm3_db)"
     ],
     "language": "python",
     "metadata": {},
     "outputs": [],
     "prompt_number": 3
    },
    {
     "cell_type": "code",
     "collapsed": false,
     "input": [
      "genes = dm3.features_of_type(\"gene\")\n",
      "for gene in genes:\n",
      "    print gene\n",
      "    mrnas = list(dm3.children(gene))\n",
      "    print list(mrnas)\n",
      "    break"
     ],
     "language": "python",
     "metadata": {},
     "outputs": [
      {
       "output_type": "stream",
       "stream": "stdout",
       "text": [
        "chrX\tgffutils_derived\tgene\t264064\t264980\t.\t+\t.\tgene_id \"FBgn0000022\";\n",
        "[<Feature CDS (chrX:264127-264729[+]) at 0x5bb9990>, <Feature transcript (chrX:264064-264980[+]) at 0x5bb99d0>, <Feature exon (chrX:264064-264980[+]) at 0x5bb9250>, <Feature start_codon (chrX:264127-264129[+]) at 0x5bb9a50>, <Feature stop_codon (chrX:264730-264732[+]) at 0x5bb9a90>]\n"
       ]
      }
     ],
     "prompt_number": 4
    },
    {
     "cell_type": "code",
     "collapsed": false,
     "input": [
      "foo = get_genomic_regions(\"\", \"hg19\", gffutils.FeatureDB(hg19_db))"
     ],
     "language": "python",
     "metadata": {},
     "outputs": [
      {
       "output_type": "stream",
       "stream": "stdout",
       "text": [
        "hg19_genes.bed\n",
        "File \"hg19_cds.bed\" does not exist\n"
       ]
      }
     ],
     "prompt_number": 6
    },
    {
     "cell_type": "code",
     "collapsed": false,
     "input": [
      "foo = get_genomic_regions(\"\", \"mm9\", gffutils.FeatureDB(mm9_db))"
     ],
     "language": "python",
     "metadata": {},
     "outputs": [
      {
       "output_type": "stream",
       "stream": "stdout",
       "text": [
        "mm9_genes.bed\n",
        "File \"mm9_cds.bed\" does not exist\n"
       ]
      }
     ],
     "prompt_number": 7
    },
    {
     "cell_type": "markdown",
     "metadata": {},
     "source": [
      "How do I verify correctness?\n",
      "\n",
      "Create 2 mock transcripts, positive and negative strands with exons, make a mock database, and run the above script on it to verify everything is alright"
     ]
    },
    {
     "cell_type": "code",
     "collapsed": false,
     "input": [
      "list(dm3.merge(list(dm3.children(gene, featuretype=\"exon\"))))"
     ],
     "language": "python",
     "metadata": {},
     "outputs": [
      {
       "metadata": {},
       "output_type": "pyout",
       "prompt_number": 5,
       "text": [
        "[<Feature exon (chrX:264064-264980[+]) at 0x5bb9690>]"
       ]
      }
     ],
     "prompt_number": 5
    },
    {
     "cell_type": "code",
     "collapsed": false,
     "input": [
      "def generate_clipper_gff(base, db):\n",
      "    genes = db.features_of_type('gene')\n",
      "    with open(base + \".exons.bed\", 'w') as exonic_out, open(base + \".genes.gff\", 'w') as clipper_out:\n",
      "        for gene in genes:\n",
      "            try:\n",
      "                coding_length = 0 \n",
      "                merged_exons = list(db.merge(db.children(gene, featuretype=\"exon\")))\n",
      "                \n",
      "                for i, exon in enumerate(merged_exons):\n",
      "                    coding_length += len(exon)\n",
      "                    exonic_out.write(\"\\t\".join(map(str, [exon.chrom, exon.start, exon.stop, gene.id[0], \"0\", exon.strand, i, \"\\n\"])))\n",
      "            \n",
      "                clipper_out.write(\"\\t\".join(map(str, [gene.chrom, \"AS_STRUCTURE\", \"gene\", gene.start, gene.stop, gene.score, gene.strand, \".\", \n",
      "                                                  \"gene_id=%s;mrna_length=%s;premrna_length=%s\" % (gene.attributes['gene_id'][0], \n",
      "                                                                                                   coding_length, len(gene)), \"\\n\"\n",
      "                                                 ]\n",
      "                                            )\n",
      "                                        ))\n",
      "    \n",
      "            except IndexError:\n",
      "                pass"
     ],
     "language": "python",
     "metadata": {},
     "outputs": [],
     "prompt_number": 13
    },
    {
     "cell_type": "code",
     "collapsed": false,
     "input": [
      "generate_clipper_gff(dm3_base, gffutils.FeatureDB(dm3_db))"
     ],
     "language": "python",
     "metadata": {},
     "outputs": [],
     "prompt_number": 14
    },
    {
     "cell_type": "code",
     "collapsed": false,
     "input": [
      "db = gffutils.FeatureDB(mm10_db)\n",
      "genes = db.features_of_type('gene')\n",
      "with open(mm10_base + \".exons.bed\", 'w') as exonic_out, open(mm10_base + \".genes.gff\", 'w') as clipper_out:\n",
      "    for gene in genes:\n",
      "        try:\n",
      "            coding_length = 0 \n",
      "            merged_exons = list(db.merge_features(db.children(gene, featuretype='exon')))\n",
      "            \n",
      "            for i, exon in enumerate(merged_exons):\n",
      "                coding_length += len(exon)\n",
      "                exonic_out.write(\"\\t\".join(map(str, [exon.chrom, exon.start, exon.stop, gene.id[0], \"0\", exon.strand, i, \"\\n\"])))\n",
      "        \n",
      "            clipper_out.write(\"\\t\".join(map(str, [gene.chrom, \"AS_STRUCTURE\", \"gene\", gene.start, gene.stop, gene.score, gene.strand, \".\", \n",
      "                                              \"gene_id=%s;mrna_length=%s;premrna_length=%s\" % (gene.attributes['gene_id'], coding_length, len(gene)), \"\\n\"\n",
      "                                             ]\n",
      "                                        )\n",
      "                                    ))\n",
      "\n",
      "        except IndexError:\n",
      "            pass"
     ],
     "language": "python",
     "metadata": {},
     "outputs": [
      {
       "ename": "NameError",
       "evalue": "name 'mm10_db' is not defined",
       "output_type": "pyerr",
       "traceback": [
        "\u001b[1;31m---------------------------------------------------------------------------\u001b[0m\n\u001b[1;31mNameError\u001b[0m                                 Traceback (most recent call last)",
        "\u001b[1;32m<ipython-input-10-f46403bad668>\u001b[0m in \u001b[0;36m<module>\u001b[1;34m()\u001b[0m\n\u001b[1;32m----> 1\u001b[1;33m \u001b[0mdb\u001b[0m \u001b[1;33m=\u001b[0m \u001b[0mgffutils\u001b[0m\u001b[1;33m.\u001b[0m\u001b[0mFeatureDB\u001b[0m\u001b[1;33m(\u001b[0m\u001b[0mmm10_db\u001b[0m\u001b[1;33m)\u001b[0m\u001b[1;33m\u001b[0m\u001b[0m\n\u001b[0m\u001b[0;32m      2\u001b[0m \u001b[0mgenes\u001b[0m \u001b[1;33m=\u001b[0m \u001b[0mdb\u001b[0m\u001b[1;33m.\u001b[0m\u001b[0mfeatures_of_type\u001b[0m\u001b[1;33m(\u001b[0m\u001b[1;34m'gene'\u001b[0m\u001b[1;33m)\u001b[0m\u001b[1;33m\u001b[0m\u001b[0m\n\u001b[0;32m      3\u001b[0m \u001b[1;32mwith\u001b[0m \u001b[0mopen\u001b[0m\u001b[1;33m(\u001b[0m\u001b[0mmm10_base\u001b[0m \u001b[1;33m+\u001b[0m \u001b[1;34m\".exons.bed\"\u001b[0m\u001b[1;33m,\u001b[0m \u001b[1;34m'w'\u001b[0m\u001b[1;33m)\u001b[0m \u001b[1;32mas\u001b[0m \u001b[0mexonic_out\u001b[0m\u001b[1;33m,\u001b[0m \u001b[0mopen\u001b[0m\u001b[1;33m(\u001b[0m\u001b[0mmm10_base\u001b[0m \u001b[1;33m+\u001b[0m \u001b[1;34m\".genes.gff\"\u001b[0m\u001b[1;33m,\u001b[0m \u001b[1;34m'w'\u001b[0m\u001b[1;33m)\u001b[0m \u001b[1;32mas\u001b[0m \u001b[0mclipper_out\u001b[0m\u001b[1;33m:\u001b[0m\u001b[1;33m\u001b[0m\u001b[0m\n\u001b[0;32m      4\u001b[0m     \u001b[1;32mfor\u001b[0m \u001b[0mgene\u001b[0m \u001b[1;32min\u001b[0m \u001b[0mgenes\u001b[0m\u001b[1;33m:\u001b[0m\u001b[1;33m\u001b[0m\u001b[0m\n\u001b[0;32m      5\u001b[0m         \u001b[1;32mtry\u001b[0m\u001b[1;33m:\u001b[0m\u001b[1;33m\u001b[0m\u001b[0m\n",
        "\u001b[1;31mNameError\u001b[0m: name 'mm10_db' is not defined"
       ]
      }
     ],
     "prompt_number": 10
    },
    {
     "cell_type": "code",
     "collapsed": false,
     "input": [
      "hg18_base = \"/nas3/yeolab/Genome/ensembl/gtf/gencode.v3c.annotation.NCBI36\"\n",
      "hg18_gff = hg18_base + \".gtf\"\n",
      "hg18_db = hg18_gff + \".db\""
     ],
     "language": "python",
     "metadata": {},
     "outputs": [],
     "prompt_number": 52
    },
    {
     "cell_type": "code",
     "collapsed": false,
     "input": [
      "gffutils.create_db(hg18_gff, hg18_db)"
     ],
     "language": "python",
     "metadata": {},
     "outputs": [
      {
       "ename": "OperationalError",
       "evalue": "table features already exists",
       "output_type": "pyerr",
       "traceback": [
        "\u001b[1;31m---------------------------------------------------------------------------\u001b[0m\n\u001b[1;31mOperationalError\u001b[0m                          Traceback (most recent call last)",
        "\u001b[1;32m<ipython-input-53-f90c27444790>\u001b[0m in \u001b[0;36m<module>\u001b[1;34m()\u001b[0m\n\u001b[1;32m----> 1\u001b[1;33m \u001b[0mgffutils\u001b[0m\u001b[1;33m.\u001b[0m\u001b[0mcreate_db\u001b[0m\u001b[1;33m(\u001b[0m\u001b[0mhg18_gff\u001b[0m\u001b[1;33m,\u001b[0m \u001b[0mhg18_db\u001b[0m\u001b[1;33m)\u001b[0m\u001b[1;33m\u001b[0m\u001b[0m\n\u001b[0m",
        "\u001b[1;32m/nas3/yeolab/Software/Python-2.7.5/lib/python2.7/site-packages/gffutils-0.7-py2.7-linux-x86_64.egg/gffutils/__init__.pyc\u001b[0m in \u001b[0;36mcreate_db\u001b[1;34m(fn, dbfn, verbose, force)\u001b[0m\n\u001b[0;32m     43\u001b[0m     \u001b[1;32melse\u001b[0m\u001b[1;33m:\u001b[0m\u001b[1;33m\u001b[0m\u001b[0m\n\u001b[0;32m     44\u001b[0m         \u001b[0mcreator\u001b[0m \u001b[1;33m=\u001b[0m \u001b[0mGTFDBCreator\u001b[0m\u001b[1;33m(\u001b[0m\u001b[0mfn\u001b[0m\u001b[1;33m,\u001b[0m \u001b[0mdbfn\u001b[0m\u001b[1;33m,\u001b[0m \u001b[0mverbose\u001b[0m\u001b[1;33m=\u001b[0m\u001b[0mverbose\u001b[0m\u001b[1;33m,\u001b[0m \u001b[0mforce\u001b[0m\u001b[1;33m=\u001b[0m\u001b[0mforce\u001b[0m\u001b[1;33m)\u001b[0m\u001b[1;33m\u001b[0m\u001b[0m\n\u001b[1;32m---> 45\u001b[1;33m     \u001b[0mcreator\u001b[0m\u001b[1;33m.\u001b[0m\u001b[0mcreate\u001b[0m\u001b[1;33m(\u001b[0m\u001b[1;33m)\u001b[0m\u001b[1;33m\u001b[0m\u001b[0m\n\u001b[0m\u001b[0;32m     46\u001b[0m \u001b[1;33m\u001b[0m\u001b[0m\n\u001b[0;32m     47\u001b[0m \u001b[1;33m\u001b[0m\u001b[0m\n",
        "\u001b[1;32m/nas3/yeolab/Software/Python-2.7.5/lib/python2.7/site-packages/gffutils-0.7-py2.7-linux-x86_64.egg/gffutils/db.pyc\u001b[0m in \u001b[0;36mcreate\u001b[1;34m(self)\u001b[0m\n\u001b[0;32m     81\u001b[0m \u001b[1;33m\u001b[0m\u001b[0m\n\u001b[0;32m     82\u001b[0m     \u001b[1;32mdef\u001b[0m \u001b[0mcreate\u001b[0m\u001b[1;33m(\u001b[0m\u001b[0mself\u001b[0m\u001b[1;33m)\u001b[0m\u001b[1;33m:\u001b[0m\u001b[1;33m\u001b[0m\u001b[0m\n\u001b[1;32m---> 83\u001b[1;33m         \u001b[0mself\u001b[0m\u001b[1;33m.\u001b[0m\u001b[0minit_tables\u001b[0m\u001b[1;33m(\u001b[0m\u001b[1;33m)\u001b[0m\u001b[1;33m\u001b[0m\u001b[0m\n\u001b[0m\u001b[0;32m     84\u001b[0m         \u001b[0mself\u001b[0m\u001b[1;33m.\u001b[0m\u001b[0mpopulate_from_features\u001b[0m\u001b[1;33m(\u001b[0m\u001b[0mself\u001b[0m\u001b[1;33m.\u001b[0m\u001b[0mfeatures\u001b[0m\u001b[1;33m)\u001b[0m\u001b[1;33m\u001b[0m\u001b[0m\n\u001b[0;32m     85\u001b[0m         \u001b[0mself\u001b[0m\u001b[1;33m.\u001b[0m\u001b[0mupdate_relations\u001b[0m\u001b[1;33m(\u001b[0m\u001b[1;33m)\u001b[0m\u001b[1;33m\u001b[0m\u001b[0m\n",
        "\u001b[1;32m/nas3/yeolab/Software/Python-2.7.5/lib/python2.7/site-packages/gffutils-0.7-py2.7-linux-x86_64.egg/gffutils/db.pyc\u001b[0m in \u001b[0;36minit_tables\u001b[1;34m(self)\u001b[0m\n\u001b[0;32m     71\u001b[0m             \u001b[0mfiletype\u001b[0m \u001b[0mtext\u001b[0m\u001b[1;33m\u001b[0m\u001b[0m\n\u001b[0;32m     72\u001b[0m             );\n\u001b[1;32m---> 73\u001b[1;33m         ''')\n\u001b[0m\u001b[0;32m     74\u001b[0m         \u001b[0mself\u001b[0m\u001b[1;33m.\u001b[0m\u001b[0mconn\u001b[0m\u001b[1;33m.\u001b[0m\u001b[0mcommit\u001b[0m\u001b[1;33m(\u001b[0m\u001b[1;33m)\u001b[0m\u001b[1;33m\u001b[0m\u001b[0m\n\u001b[0;32m     75\u001b[0m \u001b[1;33m\u001b[0m\u001b[0m\n",
        "\u001b[1;31mOperationalError\u001b[0m: table features already exists"
       ]
      }
     ],
     "prompt_number": 53
    },
    {
     "cell_type": "code",
     "collapsed": false,
     "input": [
      "genes = db.features_of_type('gene')\n",
      "with open(hg18_base + \".exons.bed\", 'w') as exonic_out, open(hg18_base + \".genes.gff\", 'w') as clipper_out:\n",
      "    for gene in genes:\n",
      "        try:\n",
      "            coding_length = 0 \n",
      "            merged_exons = list(db.merge_features(db.children(gene, featuretype='exon')))\n",
      "            \n",
      "            for i, exon in enumerate(merged_exons):\n",
      "                coding_length += len(exon)\n",
      "                exonic_out.write(\"\\t\".join(map(str, [exon.chrom, exon.start, exon.stop, gene.id, \"0\", exon.strand, i, \"\\n\"])))\n",
      "        \n",
      "            clipper_out.write(\"\\t\".join(map(str, [gene.chrom, \"AS_STRUCTURE\", \"gene\", gene.start, gene.stop, gene.score, gene.strand, \".\", \n",
      "                                              \"gene_id=%s;mrna_length=%s;premrna_length=%s\" % (gene.attributes['gene_id'], coding_length, len(gene)), \"\\n\"\n",
      "                                             ]\n",
      "                                        )\n",
      "                                    ))\n",
      "\n",
      "        except IndexError:\n",
      "            pass"
     ],
     "language": "python",
     "metadata": {},
     "outputs": []
    }
   ],
   "metadata": {}
  }
 ]
}