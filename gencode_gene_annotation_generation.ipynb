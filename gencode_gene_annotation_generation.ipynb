{
 "metadata": {
  "name": ""
 },
 "nbformat": 3,
 "nbformat_minor": 0,
 "worksheets": [
  {
   "cells": [
    {
     "cell_type": "code",
     "collapsed": false,
     "input": [
      "import gffutils\n",
      "#from gscripts.general.pybedtools_helpers import to_bed\n",
      "\n",
      "from clipper.src.CLIP_analysis import get_genomic_regions, get_proximal_distal_introns"
     ],
     "language": "python",
     "metadata": {},
     "outputs": [
      {
       "output_type": "stream",
       "stream": "stderr",
       "text": [
        "/nas3/yeolab/Software/Python-2.7.5/lib/python2.7/site-packages/matplotlib-1.4.x-py2.7-linux-x86_64.egg/matplotlib/__init__.py:1146: UserWarning:  This call to matplotlib.use() has no effect\n",
        "because the backend has already been chosen;\n",
        "matplotlib.use() must be called *before* pylab, matplotlib.pyplot,\n",
        "or matplotlib.backends is imported for the first time.\n",
        "\n",
        "  warnings.warn(_use_error_msg)\n"
       ]
      }
     ],
     "prompt_number": 1
    },
    {
     "cell_type": "code",
     "collapsed": false,
     "input": [
      "print \"Foo\""
     ],
     "language": "python",
     "metadata": {},
     "outputs": [],
     "prompt_number": "*"
    },
    {
     "cell_type": "code",
     "collapsed": false,
     "input": [
      "print \"Foo\""
     ],
     "language": "python",
     "metadata": {},
     "outputs": [],
     "prompt_number": "*"
    },
    {
     "cell_type": "code",
     "collapsed": false,
     "input": [
      "mm9_base = \"/nas3/yeolab/Genome/ensembl/gtf/gencode.vM1.annotation\"\n",
      "mm9_gff = mm9_base + \".gtf\"\n",
      "mm9_db = mm9_gff + \".db\""
     ],
     "language": "python",
     "metadata": {},
     "outputs": [],
     "prompt_number": 2
    },
    {
     "cell_type": "code",
     "collapsed": false,
     "input": [
      "gffutils.create_db(mm9_gff, mm9_db)"
     ],
     "language": "python",
     "metadata": {},
     "outputs": [
      {
       "output_type": "stream",
       "stream": "stderr",
       "text": [
        "Populating features and relations tables..."
       ]
      },
      {
       "output_type": "stream",
       "stream": "stderr",
       "text": [
        "\r",
        "Populating features and relations table: 15418 (1%) "
       ]
      },
      {
       "output_type": "stream",
       "stream": "stderr",
       "text": [
        "\r",
        "Populating features and relations table: 30835 (2%) "
       ]
      },
      {
       "output_type": "stream",
       "stream": "stderr",
       "text": [
        "\r",
        "Populating features and relations table: 46252 (3%) "
       ]
      },
      {
       "output_type": "stream",
       "stream": "stderr",
       "text": [
        "\r",
        "Populating features and relations table: 61669 (4%) "
       ]
      },
      {
       "output_type": "stream",
       "stream": "stderr",
       "text": [
        "\r",
        "Populating features and relations table: 77086 (5%) "
       ]
      },
      {
       "output_type": "stream",
       "stream": "stderr",
       "text": [
        "\r",
        "Populating features and relations table: 92504 (6%) "
       ]
      },
      {
       "output_type": "stream",
       "stream": "stderr",
       "text": [
        "\r",
        "Populating features and relations table: 107921 (7%) "
       ]
      },
      {
       "output_type": "stream",
       "stream": "stderr",
       "text": [
        "\r",
        "Populating features and relations table: 123338 (8%) "
       ]
      },
      {
       "output_type": "stream",
       "stream": "stderr",
       "text": [
        "\r",
        "Populating features and relations table: 138755 (9%) "
       ]
      },
      {
       "output_type": "stream",
       "stream": "stderr",
       "text": [
        "\r",
        "Populating features and relations table: 154172 (10%) "
       ]
      },
      {
       "output_type": "stream",
       "stream": "stderr",
       "text": [
        "\r",
        "Populating features and relations table: 169590 (11%) "
       ]
      },
      {
       "output_type": "stream",
       "stream": "stderr",
       "text": [
        "\r",
        "Populating features and relations table: 185007 (12%) "
       ]
      },
      {
       "output_type": "stream",
       "stream": "stderr",
       "text": [
        "\r",
        "Populating features and relations table: 200424 (13%) "
       ]
      },
      {
       "output_type": "stream",
       "stream": "stderr",
       "text": [
        "\r",
        "Populating features and relations table: 215841 (14%) "
       ]
      },
      {
       "output_type": "stream",
       "stream": "stderr",
       "text": [
        "\r",
        "Populating features and relations table: 231258 (15%) "
       ]
      },
      {
       "output_type": "stream",
       "stream": "stderr",
       "text": [
        "\r",
        "Populating features and relations table: 246676 (16%) "
       ]
      },
      {
       "output_type": "stream",
       "stream": "stderr",
       "text": [
        "\r",
        "Populating features and relations table: 262093 (17%) "
       ]
      },
      {
       "output_type": "stream",
       "stream": "stderr",
       "text": [
        "\r",
        "Populating features and relations table: 277510 (18%) "
       ]
      },
      {
       "output_type": "stream",
       "stream": "stderr",
       "text": [
        "\r",
        "Populating features and relations table: 292927 (19%) "
       ]
      },
      {
       "output_type": "stream",
       "stream": "stderr",
       "text": [
        "\r",
        "Populating features and relations table: 308344 (20%) "
       ]
      },
      {
       "output_type": "stream",
       "stream": "stderr",
       "text": [
        "\r",
        "Populating features and relations table: 323762 (21%) "
       ]
      },
      {
       "output_type": "stream",
       "stream": "stderr",
       "text": [
        "\r",
        "Populating features and relations table: 339179 (22%) "
       ]
      },
      {
       "output_type": "stream",
       "stream": "stderr",
       "text": [
        "\r",
        "Populating features and relations table: 354596 (23%) "
       ]
      },
      {
       "output_type": "stream",
       "stream": "stderr",
       "text": [
        "\r",
        "Populating features and relations table: 370013 (24%) "
       ]
      },
      {
       "output_type": "stream",
       "stream": "stderr",
       "text": [
        "\r",
        "Populating features and relations table: 385430 (25%) "
       ]
      },
      {
       "output_type": "stream",
       "stream": "stderr",
       "text": [
        "\r",
        "Populating features and relations table: 400848 (26%) "
       ]
      },
      {
       "output_type": "stream",
       "stream": "stderr",
       "text": [
        "\r",
        "Populating features and relations table: 416265 (27%) "
       ]
      },
      {
       "output_type": "stream",
       "stream": "stderr",
       "text": [
        "\r",
        "Populating features and relations table: 431682 (28%) "
       ]
      },
      {
       "output_type": "stream",
       "stream": "stderr",
       "text": [
        "\r",
        "Populating features and relations table: 447099 (29%) "
       ]
      },
      {
       "output_type": "stream",
       "stream": "stderr",
       "text": [
        "\r",
        "Populating features and relations table: 462516 (30%) "
       ]
      },
      {
       "output_type": "stream",
       "stream": "stderr",
       "text": [
        "\r",
        "Populating features and relations table: 477934 (31%) "
       ]
      },
      {
       "output_type": "stream",
       "stream": "stderr",
       "text": [
        "\r",
        "Populating features and relations table: 493351 (32%) "
       ]
      },
      {
       "output_type": "stream",
       "stream": "stderr",
       "text": [
        "\r",
        "Populating features and relations table: 508768 (33%) "
       ]
      },
      {
       "output_type": "stream",
       "stream": "stderr",
       "text": [
        "\r",
        "Populating features and relations table: 524185 (34%) "
       ]
      },
      {
       "output_type": "stream",
       "stream": "stderr",
       "text": [
        "\r",
        "Populating features and relations table: 539602 (35%) "
       ]
      },
      {
       "output_type": "stream",
       "stream": "stderr",
       "text": [
        "\r",
        "Populating features and relations table: 555020 (36%) "
       ]
      },
      {
       "output_type": "stream",
       "stream": "stderr",
       "text": [
        "\r",
        "Populating features and relations table: 570437 (37%) "
       ]
      },
      {
       "output_type": "stream",
       "stream": "stderr",
       "text": [
        "\r",
        "Populating features and relations table: 585854 (38%) "
       ]
      },
      {
       "output_type": "stream",
       "stream": "stderr",
       "text": [
        "\r",
        "Populating features and relations table: 601271 (39%) "
       ]
      },
      {
       "output_type": "stream",
       "stream": "stderr",
       "text": [
        "\r",
        "Populating features and relations table: 616688 (40%) "
       ]
      },
      {
       "output_type": "stream",
       "stream": "stderr",
       "text": [
        "\r",
        "Populating features and relations table: 632106 (41%) "
       ]
      },
      {
       "output_type": "stream",
       "stream": "stderr",
       "text": [
        "\r",
        "Populating features and relations table: 647523 (42%) "
       ]
      },
      {
       "output_type": "stream",
       "stream": "stderr",
       "text": [
        "\r",
        "Populating features and relations table: 662940 (43%) "
       ]
      },
      {
       "output_type": "stream",
       "stream": "stderr",
       "text": [
        "\r",
        "Populating features and relations table: 678357 (44%) "
       ]
      },
      {
       "output_type": "stream",
       "stream": "stderr",
       "text": [
        "\r",
        "Populating features and relations table: 693774 (45%) "
       ]
      },
      {
       "output_type": "stream",
       "stream": "stderr",
       "text": [
        "\r",
        "Populating features and relations table: 709192 (46%) "
       ]
      },
      {
       "output_type": "stream",
       "stream": "stderr",
       "text": [
        "\r",
        "Populating features and relations table: 724609 (47%) "
       ]
      },
      {
       "output_type": "stream",
       "stream": "stderr",
       "text": [
        "\r",
        "Populating features and relations table: 740026 (48%) "
       ]
      },
      {
       "output_type": "stream",
       "stream": "stderr",
       "text": [
        "\r",
        "Populating features and relations table: 755443 (49%) "
       ]
      },
      {
       "output_type": "stream",
       "stream": "stderr",
       "text": [
        "\r",
        "Populating features and relations table: 770860 (50%) "
       ]
      },
      {
       "output_type": "stream",
       "stream": "stderr",
       "text": [
        "\r",
        "Populating features and relations table: 786278 (51%) "
       ]
      },
      {
       "output_type": "stream",
       "stream": "stderr",
       "text": [
        "\r",
        "Populating features and relations table: 801695 (52%) "
       ]
      },
      {
       "output_type": "stream",
       "stream": "stderr",
       "text": [
        "\r",
        "Populating features and relations table: 817112 (53%) "
       ]
      },
      {
       "output_type": "stream",
       "stream": "stderr",
       "text": [
        "\r",
        "Populating features and relations table: 832529 (54%) "
       ]
      },
      {
       "output_type": "stream",
       "stream": "stderr",
       "text": [
        "\r",
        "Populating features and relations table: 847946 (55%) "
       ]
      },
      {
       "output_type": "stream",
       "stream": "stderr",
       "text": [
        "\r",
        "Populating features and relations table: 863364 (56%) "
       ]
      },
      {
       "output_type": "stream",
       "stream": "stderr",
       "text": [
        "\r",
        "Populating features and relations table: 878781 (57%) "
       ]
      },
      {
       "output_type": "stream",
       "stream": "stderr",
       "text": [
        "\r",
        "Populating features and relations table: 894198 (58%) "
       ]
      },
      {
       "output_type": "stream",
       "stream": "stderr",
       "text": [
        "\r",
        "Populating features and relations table: 909615 (59%) "
       ]
      },
      {
       "output_type": "stream",
       "stream": "stderr",
       "text": [
        "\r",
        "Populating features and relations table: 925032 (60%) "
       ]
      },
      {
       "output_type": "stream",
       "stream": "stderr",
       "text": [
        "\r",
        "Populating features and relations table: 940450 (61%) "
       ]
      },
      {
       "output_type": "stream",
       "stream": "stderr",
       "text": [
        "\r",
        "Populating features and relations table: 955867 (62%) "
       ]
      },
      {
       "output_type": "stream",
       "stream": "stderr",
       "text": [
        "\r",
        "Populating features and relations table: 971284 (63%) "
       ]
      },
      {
       "output_type": "stream",
       "stream": "stderr",
       "text": [
        "\r",
        "Populating features and relations table: 986701 (64%) "
       ]
      },
      {
       "output_type": "stream",
       "stream": "stderr",
       "text": [
        "\r",
        "Populating features and relations table: 1002118 (65%) "
       ]
      },
      {
       "output_type": "stream",
       "stream": "stderr",
       "text": [
        "\r",
        "Populating features and relations table: 1017536 (66%) "
       ]
      },
      {
       "output_type": "stream",
       "stream": "stderr",
       "text": [
        "\r",
        "Populating features and relations table: 1032953 (67%) "
       ]
      },
      {
       "output_type": "stream",
       "stream": "stderr",
       "text": [
        "\r",
        "Populating features and relations table: 1048370 (68%) "
       ]
      },
      {
       "output_type": "stream",
       "stream": "stderr",
       "text": [
        "\r",
        "Populating features and relations table: 1063787 (69%) "
       ]
      },
      {
       "output_type": "stream",
       "stream": "stderr",
       "text": [
        "\r",
        "Populating features and relations table: 1079204 (70%) "
       ]
      },
      {
       "output_type": "stream",
       "stream": "stderr",
       "text": [
        "\r",
        "Populating features and relations table: 1094622 (71%) "
       ]
      },
      {
       "output_type": "stream",
       "stream": "stderr",
       "text": [
        "\r",
        "Populating features and relations table: 1110039 (72%) "
       ]
      },
      {
       "output_type": "stream",
       "stream": "stderr",
       "text": [
        "\r",
        "Populating features and relations table: 1125456 (73%) "
       ]
      },
      {
       "output_type": "stream",
       "stream": "stderr",
       "text": [
        "\r",
        "Populating features and relations table: 1140873 (74%) "
       ]
      },
      {
       "output_type": "stream",
       "stream": "stderr",
       "text": [
        "\r",
        "Populating features and relations table: 1156290 (75%) "
       ]
      },
      {
       "output_type": "stream",
       "stream": "stderr",
       "text": [
        "\r",
        "Populating features and relations table: 1171708 (76%) "
       ]
      },
      {
       "output_type": "stream",
       "stream": "stderr",
       "text": [
        "\r",
        "Populating features and relations table: 1187125 (77%) "
       ]
      },
      {
       "output_type": "stream",
       "stream": "stderr",
       "text": [
        "\r",
        "Populating features and relations table: 1202542 (78%) "
       ]
      },
      {
       "output_type": "stream",
       "stream": "stderr",
       "text": [
        "\r",
        "Populating features and relations table: 1217959 (79%) "
       ]
      },
      {
       "output_type": "stream",
       "stream": "stderr",
       "text": [
        "\r",
        "Populating features and relations table: 1233376 (80%) "
       ]
      },
      {
       "output_type": "stream",
       "stream": "stderr",
       "text": [
        "\r",
        "Populating features and relations table: 1248794 (81%) "
       ]
      },
      {
       "output_type": "stream",
       "stream": "stderr",
       "text": [
        "\r",
        "Populating features and relations table: 1264211 (82%) "
       ]
      },
      {
       "output_type": "stream",
       "stream": "stderr",
       "text": [
        "\r",
        "Populating features and relations table: 1279628 (83%) "
       ]
      },
      {
       "output_type": "stream",
       "stream": "stderr",
       "text": [
        "\r",
        "Populating features and relations table: 1295045 (84%) "
       ]
      },
      {
       "output_type": "stream",
       "stream": "stderr",
       "text": [
        "\r",
        "Populating features and relations table: 1310462 (85%) "
       ]
      },
      {
       "output_type": "stream",
       "stream": "stderr",
       "text": [
        "\r",
        "Populating features and relations table: 1325880 (86%) "
       ]
      },
      {
       "output_type": "stream",
       "stream": "stderr",
       "text": [
        "\r",
        "Populating features and relations table: 1341297 (87%) "
       ]
      },
      {
       "output_type": "stream",
       "stream": "stderr",
       "text": [
        "\r",
        "Populating features and relations table: 1356714 (88%) "
       ]
      },
      {
       "output_type": "stream",
       "stream": "stderr",
       "text": [
        "\r",
        "Populating features and relations table: 1372131 (89%) "
       ]
      },
      {
       "output_type": "stream",
       "stream": "stderr",
       "text": [
        "\r",
        "Populating features and relations table: 1387548 (90%) "
       ]
      },
      {
       "output_type": "stream",
       "stream": "stderr",
       "text": [
        "\r",
        "Populating features and relations table: 1402966 (91%) "
       ]
      },
      {
       "output_type": "stream",
       "stream": "stderr",
       "text": [
        "\r",
        "Populating features and relations table: 1418383 (92%) "
       ]
      },
      {
       "output_type": "stream",
       "stream": "stderr",
       "text": [
        "\r",
        "Populating features and relations table: 1433800 (93%) "
       ]
      },
      {
       "output_type": "stream",
       "stream": "stderr",
       "text": [
        "\r",
        "Populating features and relations table: 1449217 (94%) "
       ]
      },
      {
       "output_type": "stream",
       "stream": "stderr",
       "text": [
        "\r",
        "Populating features and relations table: 1464634 (95%) "
       ]
      },
      {
       "output_type": "stream",
       "stream": "stderr",
       "text": [
        "\r",
        "Populating features and relations table: 1480052 (96%) "
       ]
      },
      {
       "output_type": "stream",
       "stream": "stderr",
       "text": [
        "\r",
        "Populating features and relations table: 1495469 (97%) "
       ]
      },
      {
       "output_type": "stream",
       "stream": "stderr",
       "text": [
        "\r",
        "Populating features and relations table: 1510886 (98%) "
       ]
      },
      {
       "output_type": "stream",
       "stream": "stderr",
       "text": [
        "\r",
        "Populating features and relations table: 1526303 (99%) "
       ]
      },
      {
       "output_type": "stream",
       "stream": "stderr",
       "text": [
        "done in 685.4s\n"
       ]
      },
      {
       "output_type": "stream",
       "stream": "stderr",
       "text": [
        "Creating temporary indexes..."
       ]
      },
      {
       "output_type": "stream",
       "stream": "stderr",
       "text": [
        "done in 149.2s\n"
       ]
      },
      {
       "output_type": "stream",
       "stream": "stderr",
       "text": [
        "Inferring gene and transcript extents; saving unique to tempfile... "
       ]
      },
      {
       "output_type": "stream",
       "stream": "stderr",
       "text": [
        "\r",
        "Inferring gene and transcript extents: 1329 (1%)..."
       ]
      },
      {
       "output_type": "stream",
       "stream": "stderr",
       "text": [
        "\r",
        "Inferring gene and transcript extents: 2657 (2%)..."
       ]
      },
      {
       "output_type": "stream",
       "stream": "stderr",
       "text": [
        "\r",
        "Inferring gene and transcript extents: 3985 (3%)..."
       ]
      },
      {
       "output_type": "stream",
       "stream": "stderr",
       "text": [
        "\r",
        "Inferring gene and transcript extents: 5313 (4%)..."
       ]
      },
      {
       "output_type": "stream",
       "stream": "stderr",
       "text": [
        "\r",
        "Inferring gene and transcript extents: 6641 (5%)..."
       ]
      },
      {
       "output_type": "stream",
       "stream": "stderr",
       "text": [
        "\r",
        "Inferring gene and transcript extents: 7969 (6%)..."
       ]
      },
      {
       "output_type": "stream",
       "stream": "stderr",
       "text": [
        "\r",
        "Inferring gene and transcript extents: 9297 (7%)..."
       ]
      },
      {
       "output_type": "stream",
       "stream": "stderr",
       "text": [
        "\r",
        "Inferring gene and transcript extents: 10625 (8%)..."
       ]
      },
      {
       "output_type": "stream",
       "stream": "stderr",
       "text": [
        "\r",
        "Inferring gene and transcript extents: 11953 (9%)..."
       ]
      },
      {
       "output_type": "stream",
       "stream": "stderr",
       "text": [
        "\r",
        "Inferring gene and transcript extents: 13281 (10%)..."
       ]
      },
      {
       "output_type": "stream",
       "stream": "stderr",
       "text": [
        "\r",
        "Inferring gene and transcript extents: 14609 (11%)..."
       ]
      },
      {
       "output_type": "stream",
       "stream": "stderr",
       "text": [
        "\r",
        "Inferring gene and transcript extents: 15937 (12%)..."
       ]
      },
      {
       "output_type": "stream",
       "stream": "stderr",
       "text": [
        "\r",
        "Inferring gene and transcript extents: 17265 (13%)..."
       ]
      },
      {
       "output_type": "stream",
       "stream": "stderr",
       "text": [
        "\r",
        "Inferring gene and transcript extents: 18593 (14%)..."
       ]
      },
      {
       "output_type": "stream",
       "stream": "stderr",
       "text": [
        "\r",
        "Inferring gene and transcript extents: 19921 (15%)..."
       ]
      },
      {
       "output_type": "stream",
       "stream": "stderr",
       "text": [
        "\r",
        "Inferring gene and transcript extents: 21249 (16%)..."
       ]
      },
      {
       "output_type": "stream",
       "stream": "stderr",
       "text": [
        "\r",
        "Inferring gene and transcript extents: 22577 (17%)..."
       ]
      },
      {
       "output_type": "stream",
       "stream": "stderr",
       "text": [
        "\r",
        "Inferring gene and transcript extents: 23905 (18%)..."
       ]
      },
      {
       "output_type": "stream",
       "stream": "stderr",
       "text": [
        "\r",
        "Inferring gene and transcript extents: 25233 (19%)..."
       ]
      },
      {
       "output_type": "stream",
       "stream": "stderr",
       "text": [
        "\r",
        "Inferring gene and transcript extents: 26561 (20%)..."
       ]
      },
      {
       "output_type": "stream",
       "stream": "stderr",
       "text": [
        "\r",
        "Inferring gene and transcript extents: 27890 (21%)..."
       ]
      },
      {
       "output_type": "stream",
       "stream": "stderr",
       "text": [
        "\r",
        "Inferring gene and transcript extents: 29218 (22%)..."
       ]
      },
      {
       "output_type": "stream",
       "stream": "stderr",
       "text": [
        "\r",
        "Inferring gene and transcript extents: 30546 (23%)..."
       ]
      },
      {
       "output_type": "stream",
       "stream": "stderr",
       "text": [
        "\r",
        "Inferring gene and transcript extents: 31874 (24%)..."
       ]
      },
      {
       "output_type": "stream",
       "stream": "stderr",
       "text": [
        "\r",
        "Inferring gene and transcript extents: 33202 (25%)..."
       ]
      },
      {
       "output_type": "stream",
       "stream": "stderr",
       "text": [
        "\r",
        "Inferring gene and transcript extents: 34530 (26%)..."
       ]
      },
      {
       "output_type": "stream",
       "stream": "stderr",
       "text": [
        "\r",
        "Inferring gene and transcript extents: 35858 (27%)..."
       ]
      },
      {
       "output_type": "stream",
       "stream": "stderr",
       "text": [
        "\r",
        "Inferring gene and transcript extents: 37186 (28%)..."
       ]
      },
      {
       "output_type": "stream",
       "stream": "stderr",
       "text": [
        "\r",
        "Inferring gene and transcript extents: 38514 (29%)..."
       ]
      },
      {
       "output_type": "stream",
       "stream": "stderr",
       "text": [
        "\r",
        "Inferring gene and transcript extents: 39842 (30%)..."
       ]
      },
      {
       "output_type": "stream",
       "stream": "stderr",
       "text": [
        "\r",
        "Inferring gene and transcript extents: 41170 (31%)..."
       ]
      },
      {
       "output_type": "stream",
       "stream": "stderr",
       "text": [
        "\r",
        "Inferring gene and transcript extents: 42498 (32%)..."
       ]
      },
      {
       "output_type": "stream",
       "stream": "stderr",
       "text": [
        "\r",
        "Inferring gene and transcript extents: 43826 (33%)..."
       ]
      },
      {
       "output_type": "stream",
       "stream": "stderr",
       "text": [
        "\r",
        "Inferring gene and transcript extents: 45154 (34%)..."
       ]
      },
      {
       "output_type": "stream",
       "stream": "stderr",
       "text": [
        "\r",
        "Inferring gene and transcript extents: 46482 (35%)..."
       ]
      },
      {
       "output_type": "stream",
       "stream": "stderr",
       "text": [
        "\r",
        "Inferring gene and transcript extents: 47810 (36%)..."
       ]
      },
      {
       "output_type": "stream",
       "stream": "stderr",
       "text": [
        "\r",
        "Inferring gene and transcript extents: 49138 (37%)..."
       ]
      },
      {
       "output_type": "stream",
       "stream": "stderr",
       "text": [
        "\r",
        "Inferring gene and transcript extents: 50466 (38%)..."
       ]
      },
      {
       "output_type": "stream",
       "stream": "stderr",
       "text": [
        "\r",
        "Inferring gene and transcript extents: 51794 (39%)..."
       ]
      },
      {
       "output_type": "stream",
       "stream": "stderr",
       "text": [
        "\r",
        "Inferring gene and transcript extents: 53122 (40%)..."
       ]
      },
      {
       "output_type": "stream",
       "stream": "stderr",
       "text": [
        "\r",
        "Inferring gene and transcript extents: 54451 (41%)..."
       ]
      },
      {
       "output_type": "stream",
       "stream": "stderr",
       "text": [
        "\r",
        "Inferring gene and transcript extents: 55779 (42%)..."
       ]
      },
      {
       "output_type": "stream",
       "stream": "stderr",
       "text": [
        "\r",
        "Inferring gene and transcript extents: 57107 (43%)..."
       ]
      },
      {
       "output_type": "stream",
       "stream": "stderr",
       "text": [
        "\r",
        "Inferring gene and transcript extents: 58435 (44%)..."
       ]
      },
      {
       "output_type": "stream",
       "stream": "stderr",
       "text": [
        "\r",
        "Inferring gene and transcript extents: 59763 (45%)..."
       ]
      },
      {
       "output_type": "stream",
       "stream": "stderr",
       "text": [
        "\r",
        "Inferring gene and transcript extents: 61091 (46%)..."
       ]
      },
      {
       "output_type": "stream",
       "stream": "stderr",
       "text": [
        "\r",
        "Inferring gene and transcript extents: 62419 (47%)..."
       ]
      },
      {
       "output_type": "stream",
       "stream": "stderr",
       "text": [
        "\r",
        "Inferring gene and transcript extents: 63747 (48%)..."
       ]
      },
      {
       "output_type": "stream",
       "stream": "stderr",
       "text": [
        "\r",
        "Inferring gene and transcript extents: 65075 (49%)..."
       ]
      },
      {
       "output_type": "stream",
       "stream": "stderr",
       "text": [
        "\r",
        "Inferring gene and transcript extents: 66403 (50%)..."
       ]
      },
      {
       "output_type": "stream",
       "stream": "stderr",
       "text": [
        "\r",
        "Inferring gene and transcript extents: 67731 (51%)..."
       ]
      },
      {
       "output_type": "stream",
       "stream": "stderr",
       "text": [
        "\r",
        "Inferring gene and transcript extents: 69059 (52%)..."
       ]
      },
      {
       "output_type": "stream",
       "stream": "stderr",
       "text": [
        "\r",
        "Inferring gene and transcript extents: 70387 (53%)..."
       ]
      },
      {
       "output_type": "stream",
       "stream": "stderr",
       "text": [
        "\r",
        "Inferring gene and transcript extents: 71715 (54%)..."
       ]
      },
      {
       "output_type": "stream",
       "stream": "stderr",
       "text": [
        "\r",
        "Inferring gene and transcript extents: 73043 (55%)..."
       ]
      },
      {
       "output_type": "stream",
       "stream": "stderr",
       "text": [
        "\r",
        "Inferring gene and transcript extents: 74371 (56%)..."
       ]
      },
      {
       "output_type": "stream",
       "stream": "stderr",
       "text": [
        "\r",
        "Inferring gene and transcript extents: 75699 (57%)..."
       ]
      },
      {
       "output_type": "stream",
       "stream": "stderr",
       "text": [
        "\r",
        "Inferring gene and transcript extents: 77027 (58%)..."
       ]
      },
      {
       "output_type": "stream",
       "stream": "stderr",
       "text": [
        "\r",
        "Inferring gene and transcript extents: 78355 (59%)..."
       ]
      },
      {
       "output_type": "stream",
       "stream": "stderr",
       "text": [
        "\r",
        "Inferring gene and transcript extents: 79683 (60%)..."
       ]
      },
      {
       "output_type": "stream",
       "stream": "stderr",
       "text": [
        "\r",
        "Inferring gene and transcript extents: 81012 (61%)..."
       ]
      },
      {
       "output_type": "stream",
       "stream": "stderr",
       "text": [
        "\r",
        "Inferring gene and transcript extents: 82340 (62%)..."
       ]
      },
      {
       "output_type": "stream",
       "stream": "stderr",
       "text": [
        "\r",
        "Inferring gene and transcript extents: 83668 (63%)..."
       ]
      },
      {
       "output_type": "stream",
       "stream": "stderr",
       "text": [
        "\r",
        "Inferring gene and transcript extents: 84996 (64%)..."
       ]
      },
      {
       "output_type": "stream",
       "stream": "stderr",
       "text": [
        "\r",
        "Inferring gene and transcript extents: 86324 (65%)..."
       ]
      },
      {
       "output_type": "stream",
       "stream": "stderr",
       "text": [
        "\r",
        "Inferring gene and transcript extents: 87652 (66%)..."
       ]
      },
      {
       "output_type": "stream",
       "stream": "stderr",
       "text": [
        "\r",
        "Inferring gene and transcript extents: 88980 (67%)..."
       ]
      },
      {
       "output_type": "stream",
       "stream": "stderr",
       "text": [
        "\r",
        "Inferring gene and transcript extents: 90308 (68%)..."
       ]
      },
      {
       "output_type": "stream",
       "stream": "stderr",
       "text": [
        "\r",
        "Inferring gene and transcript extents: 91636 (69%)..."
       ]
      },
      {
       "output_type": "stream",
       "stream": "stderr",
       "text": [
        "\r",
        "Inferring gene and transcript extents: 92964 (70%)..."
       ]
      },
      {
       "output_type": "stream",
       "stream": "stderr",
       "text": [
        "\r",
        "Inferring gene and transcript extents: 94292 (71%)..."
       ]
      },
      {
       "output_type": "stream",
       "stream": "stderr",
       "text": [
        "\r",
        "Inferring gene and transcript extents: 95620 (72%)..."
       ]
      },
      {
       "output_type": "stream",
       "stream": "stderr",
       "text": [
        "\r",
        "Inferring gene and transcript extents: 96948 (73%)..."
       ]
      },
      {
       "output_type": "stream",
       "stream": "stderr",
       "text": [
        "\r",
        "Inferring gene and transcript extents: 98276 (74%)..."
       ]
      },
      {
       "output_type": "stream",
       "stream": "stderr",
       "text": [
        "\r",
        "Inferring gene and transcript extents: 99604 (75%)..."
       ]
      },
      {
       "output_type": "stream",
       "stream": "stderr",
       "text": [
        "\r",
        "Inferring gene and transcript extents: 100932 (76%)..."
       ]
      },
      {
       "output_type": "stream",
       "stream": "stderr",
       "text": [
        "\r",
        "Inferring gene and transcript extents: 102260 (77%)..."
       ]
      },
      {
       "output_type": "stream",
       "stream": "stderr",
       "text": [
        "\r",
        "Inferring gene and transcript extents: 103588 (78%)..."
       ]
      },
      {
       "output_type": "stream",
       "stream": "stderr",
       "text": [
        "\r",
        "Inferring gene and transcript extents: 104916 (79%)..."
       ]
      },
      {
       "output_type": "stream",
       "stream": "stderr",
       "text": [
        "\r",
        "Inferring gene and transcript extents: 106244 (80%)..."
       ]
      },
      {
       "output_type": "stream",
       "stream": "stderr",
       "text": [
        "\r",
        "Inferring gene and transcript extents: 107573 (81%)..."
       ]
      },
      {
       "output_type": "stream",
       "stream": "stderr",
       "text": [
        "\r",
        "Inferring gene and transcript extents: 108901 (82%)..."
       ]
      },
      {
       "output_type": "stream",
       "stream": "stderr",
       "text": [
        "\r",
        "Inferring gene and transcript extents: 110229 (83%)..."
       ]
      },
      {
       "output_type": "stream",
       "stream": "stderr",
       "text": [
        "\r",
        "Inferring gene and transcript extents: 111557 (84%)..."
       ]
      },
      {
       "output_type": "stream",
       "stream": "stderr",
       "text": [
        "\r",
        "Inferring gene and transcript extents: 112885 (85%)..."
       ]
      },
      {
       "output_type": "stream",
       "stream": "stderr",
       "text": [
        "\r",
        "Inferring gene and transcript extents: 114213 (86%)..."
       ]
      },
      {
       "output_type": "stream",
       "stream": "stderr",
       "text": [
        "\r",
        "Inferring gene and transcript extents: 115541 (87%)..."
       ]
      },
      {
       "output_type": "stream",
       "stream": "stderr",
       "text": [
        "\r",
        "Inferring gene and transcript extents: 116869 (88%)..."
       ]
      },
      {
       "output_type": "stream",
       "stream": "stderr",
       "text": [
        "\r",
        "Inferring gene and transcript extents: 118197 (89%)..."
       ]
      },
      {
       "output_type": "stream",
       "stream": "stderr",
       "text": [
        "\r",
        "Inferring gene and transcript extents: 119525 (90%)..."
       ]
      },
      {
       "output_type": "stream",
       "stream": "stderr",
       "text": [
        "\r",
        "Inferring gene and transcript extents: 120853 (91%)..."
       ]
      },
      {
       "output_type": "stream",
       "stream": "stderr",
       "text": [
        "\r",
        "Inferring gene and transcript extents: 122181 (92%)..."
       ]
      },
      {
       "output_type": "stream",
       "stream": "stderr",
       "text": [
        "\r",
        "Inferring gene and transcript extents: 123509 (93%)..."
       ]
      },
      {
       "output_type": "stream",
       "stream": "stderr",
       "text": [
        "\r",
        "Inferring gene and transcript extents: 124837 (94%)..."
       ]
      },
      {
       "output_type": "stream",
       "stream": "stderr",
       "text": [
        "\r",
        "Inferring gene and transcript extents: 126165 (95%)..."
       ]
      },
      {
       "output_type": "stream",
       "stream": "stderr",
       "text": [
        "\r",
        "Inferring gene and transcript extents: 127493 (96%)..."
       ]
      },
      {
       "output_type": "stream",
       "stream": "stderr",
       "text": [
        "\r",
        "Inferring gene and transcript extents: 128821 (97%)..."
       ]
      },
      {
       "output_type": "stream",
       "stream": "stderr",
       "text": [
        "\r",
        "Inferring gene and transcript extents: 130149 (98%)..."
       ]
      },
      {
       "output_type": "stream",
       "stream": "stderr",
       "text": [
        "\r",
        "Inferring gene and transcript extents: 131477 (99%)..."
       ]
      },
      {
       "output_type": "stream",
       "stream": "stderr",
       "text": [
        "done in 6962.5s\n"
       ]
      },
      {
       "output_type": "stream",
       "stream": "stderr",
       "text": [
        "Importing inferred features..."
       ]
      },
      {
       "output_type": "stream",
       "stream": "stderr",
       "text": [
        "done in 66.3s\n"
       ]
      },
      {
       "output_type": "stream",
       "stream": "stderr",
       "text": [
        "Creating index..."
       ]
      },
      {
       "output_type": "stream",
       "stream": "stderr",
       "text": [
        "done in 350.5s\n"
       ]
      }
     ],
     "prompt_number": 25
    },
    {
     "cell_type": "code",
     "collapsed": false,
     "input": [
      "hg19_base = \"/nas3/yeolab/Genome/ensembl/gtf/gencode.v17.annotation\"\n",
      "hg19_gff = hg19_base + \".gtf\"\n",
      "hg19_db = hg19_gff + \".db\""
     ],
     "language": "python",
     "metadata": {},
     "outputs": [],
     "prompt_number": 1
    },
    {
     "cell_type": "code",
     "collapsed": false,
     "input": [
      "gffutils.create_db(hg19_gff, hg19_db)"
     ],
     "language": "python",
     "metadata": {},
     "outputs": [],
     "prompt_number": "*"
    },
    {
     "cell_type": "code",
     "collapsed": false,
     "input": [
      "mm10_base = \"/nas3/yeolab/Genome/ensembl/gtf/Mus_musculus.GRCm38.72.fixed\"\n",
      "mm10_gff = mm10_base + \".gtf\"\n",
      "mm10_db = mm10_gff + \".db\""
     ],
     "language": "python",
     "metadata": {},
     "outputs": [],
     "prompt_number": 5
    },
    {
     "cell_type": "code",
     "collapsed": false,
     "input": [
      "gffutils.create_db(mm10_gff, mm10_db)"
     ],
     "language": "python",
     "metadata": {},
     "outputs": [
      {
       "output_type": "stream",
       "stream": "stderr",
       "text": [
        "Populating features and relations tables..."
       ]
      },
      {
       "output_type": "stream",
       "stream": "stderr",
       "text": [
        "\r",
        "Populating features and relations table: 11404 (1%) "
       ]
      },
      {
       "output_type": "stream",
       "stream": "stderr",
       "text": [
        "\r",
        "Populating features and relations table: 22808 (2%) "
       ]
      },
      {
       "output_type": "stream",
       "stream": "stderr",
       "text": [
        "\r",
        "Populating features and relations table: 34211 (3%) "
       ]
      },
      {
       "output_type": "stream",
       "stream": "stderr",
       "text": [
        "\r",
        "Populating features and relations table: 45615 (4%) "
       ]
      },
      {
       "output_type": "stream",
       "stream": "stderr",
       "text": [
        "\r",
        "Populating features and relations table: 57019 (5%) "
       ]
      },
      {
       "output_type": "stream",
       "stream": "stderr",
       "text": [
        "\r",
        "Populating features and relations table: 68422 (6%) "
       ]
      },
      {
       "output_type": "stream",
       "stream": "stderr",
       "text": [
        "\r",
        "Populating features and relations table: 79826 (7%) "
       ]
      },
      {
       "output_type": "stream",
       "stream": "stderr",
       "text": [
        "\r",
        "Populating features and relations table: 91229 (8%) "
       ]
      },
      {
       "output_type": "stream",
       "stream": "stderr",
       "text": [
        "\r",
        "Populating features and relations table: 102633 (9%) "
       ]
      },
      {
       "output_type": "stream",
       "stream": "stderr",
       "text": [
        "\r",
        "Populating features and relations table: 114037 (10%) "
       ]
      },
      {
       "output_type": "stream",
       "stream": "stderr",
       "text": [
        "\r",
        "Populating features and relations table: 125440 (11%) "
       ]
      },
      {
       "output_type": "stream",
       "stream": "stderr",
       "text": [
        "\r",
        "Populating features and relations table: 136844 (12%) "
       ]
      },
      {
       "output_type": "stream",
       "stream": "stderr",
       "text": [
        "\r",
        "Populating features and relations table: 148248 (13%) "
       ]
      },
      {
       "output_type": "stream",
       "stream": "stderr",
       "text": [
        "\r",
        "Populating features and relations table: 159651 (14%) "
       ]
      },
      {
       "output_type": "stream",
       "stream": "stderr",
       "text": [
        "\r",
        "Populating features and relations table: 171055 (15%) "
       ]
      },
      {
       "output_type": "stream",
       "stream": "stderr",
       "text": [
        "\r",
        "Populating features and relations table: 182458 (16%) "
       ]
      },
      {
       "output_type": "stream",
       "stream": "stderr",
       "text": [
        "\r",
        "Populating features and relations table: 193862 (17%) "
       ]
      },
      {
       "output_type": "stream",
       "stream": "stderr",
       "text": [
        "\r",
        "Populating features and relations table: 205266 (18%) "
       ]
      },
      {
       "output_type": "stream",
       "stream": "stderr",
       "text": [
        "\r",
        "Populating features and relations table: 216669 (19%) "
       ]
      },
      {
       "output_type": "stream",
       "stream": "stderr",
       "text": [
        "\r",
        "Populating features and relations table: 228073 (20%) "
       ]
      },
      {
       "output_type": "stream",
       "stream": "stderr",
       "text": [
        "\r",
        "Populating features and relations table: 239477 (21%) "
       ]
      },
      {
       "output_type": "stream",
       "stream": "stderr",
       "text": [
        "\r",
        "Populating features and relations table: 250880 (22%) "
       ]
      },
      {
       "output_type": "stream",
       "stream": "stderr",
       "text": [
        "\r",
        "Populating features and relations table: 262284 (23%) "
       ]
      },
      {
       "output_type": "stream",
       "stream": "stderr",
       "text": [
        "\r",
        "Populating features and relations table: 273687 (24%) "
       ]
      },
      {
       "output_type": "stream",
       "stream": "stderr",
       "text": [
        "\r",
        "Populating features and relations table: 285091 (25%) "
       ]
      },
      {
       "output_type": "stream",
       "stream": "stderr",
       "text": [
        "\r",
        "Populating features and relations table: 296495 (26%) "
       ]
      },
      {
       "output_type": "stream",
       "stream": "stderr",
       "text": [
        "\r",
        "Populating features and relations table: 307898 (27%) "
       ]
      },
      {
       "output_type": "stream",
       "stream": "stderr",
       "text": [
        "\r",
        "Populating features and relations table: 319302 (28%) "
       ]
      },
      {
       "output_type": "stream",
       "stream": "stderr",
       "text": [
        "\r",
        "Populating features and relations table: 330705 (29%) "
       ]
      },
      {
       "output_type": "stream",
       "stream": "stderr",
       "text": [
        "\r",
        "Populating features and relations table: 342109 (30%) "
       ]
      },
      {
       "output_type": "stream",
       "stream": "stderr",
       "text": [
        "\r",
        "Populating features and relations table: 353513 (31%) "
       ]
      },
      {
       "output_type": "stream",
       "stream": "stderr",
       "text": [
        "\r",
        "Populating features and relations table: 364916 (32%) "
       ]
      },
      {
       "output_type": "stream",
       "stream": "stderr",
       "text": [
        "\r",
        "Populating features and relations table: 376320 (33%) "
       ]
      },
      {
       "output_type": "stream",
       "stream": "stderr",
       "text": [
        "\r",
        "Populating features and relations table: 387724 (34%) "
       ]
      },
      {
       "output_type": "stream",
       "stream": "stderr",
       "text": [
        "\r",
        "Populating features and relations table: 399127 (35%) "
       ]
      },
      {
       "output_type": "stream",
       "stream": "stderr",
       "text": [
        "\r",
        "Populating features and relations table: 410531 (36%) "
       ]
      },
      {
       "output_type": "stream",
       "stream": "stderr",
       "text": [
        "\r",
        "Populating features and relations table: 421934 (37%) "
       ]
      },
      {
       "output_type": "stream",
       "stream": "stderr",
       "text": [
        "\r",
        "Populating features and relations table: 433338 (38%) "
       ]
      },
      {
       "output_type": "stream",
       "stream": "stderr",
       "text": [
        "\r",
        "Populating features and relations table: 444742 (39%) "
       ]
      },
      {
       "output_type": "stream",
       "stream": "stderr",
       "text": [
        "\r",
        "Populating features and relations table: 456145 (40%) "
       ]
      },
      {
       "output_type": "stream",
       "stream": "stderr",
       "text": [
        "\r",
        "Populating features and relations table: 467549 (41%) "
       ]
      },
      {
       "output_type": "stream",
       "stream": "stderr",
       "text": [
        "\r",
        "Populating features and relations table: 478953 (42%) "
       ]
      },
      {
       "output_type": "stream",
       "stream": "stderr",
       "text": [
        "\r",
        "Populating features and relations table: 490356 (43%) "
       ]
      },
      {
       "output_type": "stream",
       "stream": "stderr",
       "text": [
        "\r",
        "Populating features and relations table: 501760 (44%) "
       ]
      },
      {
       "output_type": "stream",
       "stream": "stderr",
       "text": [
        "\r",
        "Populating features and relations table: 513163 (45%) "
       ]
      },
      {
       "output_type": "stream",
       "stream": "stderr",
       "text": [
        "\r",
        "Populating features and relations table: 524567 (46%) "
       ]
      },
      {
       "output_type": "stream",
       "stream": "stderr",
       "text": [
        "\r",
        "Populating features and relations table: 535971 (47%) "
       ]
      },
      {
       "output_type": "stream",
       "stream": "stderr",
       "text": [
        "\r",
        "Populating features and relations table: 547374 (48%) "
       ]
      },
      {
       "output_type": "stream",
       "stream": "stderr",
       "text": [
        "\r",
        "Populating features and relations table: 558778 (49%) "
       ]
      },
      {
       "output_type": "stream",
       "stream": "stderr",
       "text": [
        "\r",
        "Populating features and relations table: 570181 (50%) "
       ]
      },
      {
       "output_type": "stream",
       "stream": "stderr",
       "text": [
        "\r",
        "Populating features and relations table: 581585 (51%) "
       ]
      },
      {
       "output_type": "stream",
       "stream": "stderr",
       "text": [
        "\r",
        "Populating features and relations table: 592989 (52%) "
       ]
      },
      {
       "output_type": "stream",
       "stream": "stderr",
       "text": [
        "\r",
        "Populating features and relations table: 604392 (53%) "
       ]
      },
      {
       "output_type": "stream",
       "stream": "stderr",
       "text": [
        "\r",
        "Populating features and relations table: 615796 (54%) "
       ]
      },
      {
       "output_type": "stream",
       "stream": "stderr",
       "text": [
        "\r",
        "Populating features and relations table: 627200 (55%) "
       ]
      },
      {
       "output_type": "stream",
       "stream": "stderr",
       "text": [
        "\r",
        "Populating features and relations table: 638603 (56%) "
       ]
      },
      {
       "output_type": "stream",
       "stream": "stderr",
       "text": [
        "\r",
        "Populating features and relations table: 650007 (57%) "
       ]
      },
      {
       "output_type": "stream",
       "stream": "stderr",
       "text": [
        "\r",
        "Populating features and relations table: 661410 (58%) "
       ]
      },
      {
       "output_type": "stream",
       "stream": "stderr",
       "text": [
        "\r",
        "Populating features and relations table: 672814 (59%) "
       ]
      },
      {
       "output_type": "stream",
       "stream": "stderr",
       "text": [
        "\r",
        "Populating features and relations table: 684218 (60%) "
       ]
      },
      {
       "output_type": "stream",
       "stream": "stderr",
       "text": [
        "\r",
        "Populating features and relations table: 695621 (61%) "
       ]
      },
      {
       "output_type": "stream",
       "stream": "stderr",
       "text": [
        "\r",
        "Populating features and relations table: 707025 (62%) "
       ]
      },
      {
       "output_type": "stream",
       "stream": "stderr",
       "text": [
        "\r",
        "Populating features and relations table: 718429 (63%) "
       ]
      },
      {
       "output_type": "stream",
       "stream": "stderr",
       "text": [
        "\r",
        "Populating features and relations table: 729832 (64%) "
       ]
      },
      {
       "output_type": "stream",
       "stream": "stderr",
       "text": [
        "\r",
        "Populating features and relations table: 741236 (65%) "
       ]
      },
      {
       "output_type": "stream",
       "stream": "stderr",
       "text": [
        "\r",
        "Populating features and relations table: 752639 (66%) "
       ]
      },
      {
       "output_type": "stream",
       "stream": "stderr",
       "text": [
        "\r",
        "Populating features and relations table: 764043 (67%) "
       ]
      },
      {
       "output_type": "stream",
       "stream": "stderr",
       "text": [
        "\r",
        "Populating features and relations table: 775447 (68%) "
       ]
      },
      {
       "output_type": "stream",
       "stream": "stderr",
       "text": [
        "\r",
        "Populating features and relations table: 786850 (69%) "
       ]
      },
      {
       "output_type": "stream",
       "stream": "stderr",
       "text": [
        "\r",
        "Populating features and relations table: 798254 (70%) "
       ]
      },
      {
       "output_type": "stream",
       "stream": "stderr",
       "text": [
        "\r",
        "Populating features and relations table: 809658 (71%) "
       ]
      },
      {
       "output_type": "stream",
       "stream": "stderr",
       "text": [
        "\r",
        "Populating features and relations table: 821061 (72%) "
       ]
      },
      {
       "output_type": "stream",
       "stream": "stderr",
       "text": [
        "\r",
        "Populating features and relations table: 832465 (73%) "
       ]
      },
      {
       "output_type": "stream",
       "stream": "stderr",
       "text": [
        "\r",
        "Populating features and relations table: 843868 (74%) "
       ]
      },
      {
       "output_type": "stream",
       "stream": "stderr",
       "text": [
        "\r",
        "Populating features and relations table: 855272 (75%) "
       ]
      },
      {
       "output_type": "stream",
       "stream": "stderr",
       "text": [
        "\r",
        "Populating features and relations table: 866676 (76%) "
       ]
      },
      {
       "output_type": "stream",
       "stream": "stderr",
       "text": [
        "\r",
        "Populating features and relations table: 878079 (77%) "
       ]
      },
      {
       "output_type": "stream",
       "stream": "stderr",
       "text": [
        "\r",
        "Populating features and relations table: 889483 (78%) "
       ]
      },
      {
       "output_type": "stream",
       "stream": "stderr",
       "text": [
        "\r",
        "Populating features and relations table: 900886 (79%) "
       ]
      },
      {
       "output_type": "stream",
       "stream": "stderr",
       "text": [
        "\r",
        "Populating features and relations table: 912290 (80%) "
       ]
      },
      {
       "output_type": "stream",
       "stream": "stderr",
       "text": [
        "\r",
        "Populating features and relations table: 923694 (81%) "
       ]
      },
      {
       "output_type": "stream",
       "stream": "stderr",
       "text": [
        "\r",
        "Populating features and relations table: 935097 (82%) "
       ]
      },
      {
       "output_type": "stream",
       "stream": "stderr",
       "text": [
        "\r",
        "Populating features and relations table: 946501 (83%) "
       ]
      },
      {
       "output_type": "stream",
       "stream": "stderr",
       "text": [
        "\r",
        "Populating features and relations table: 957905 (84%) "
       ]
      },
      {
       "output_type": "stream",
       "stream": "stderr",
       "text": [
        "\r",
        "Populating features and relations table: 969308 (85%) "
       ]
      },
      {
       "output_type": "stream",
       "stream": "stderr",
       "text": [
        "\r",
        "Populating features and relations table: 980712 (86%) "
       ]
      },
      {
       "output_type": "stream",
       "stream": "stderr",
       "text": [
        "\r",
        "Populating features and relations table: 992115 (87%) "
       ]
      },
      {
       "output_type": "stream",
       "stream": "stderr",
       "text": [
        "\r",
        "Populating features and relations table: 1003519 (88%) "
       ]
      },
      {
       "output_type": "stream",
       "stream": "stderr",
       "text": [
        "\r",
        "Populating features and relations table: 1014923 (89%) "
       ]
      },
      {
       "output_type": "stream",
       "stream": "stderr",
       "text": [
        "\r",
        "Populating features and relations table: 1026326 (90%) "
       ]
      },
      {
       "output_type": "stream",
       "stream": "stderr",
       "text": [
        "\r",
        "Populating features and relations table: 1037730 (91%) "
       ]
      },
      {
       "output_type": "stream",
       "stream": "stderr",
       "text": [
        "\r",
        "Populating features and relations table: 1049134 (92%) "
       ]
      },
      {
       "output_type": "stream",
       "stream": "stderr",
       "text": [
        "\r",
        "Populating features and relations table: 1060537 (93%) "
       ]
      },
      {
       "output_type": "stream",
       "stream": "stderr",
       "text": [
        "\r",
        "Populating features and relations table: 1071941 (94%) "
       ]
      },
      {
       "output_type": "stream",
       "stream": "stderr",
       "text": [
        "\r",
        "Populating features and relations table: 1083344 (95%) "
       ]
      },
      {
       "output_type": "stream",
       "stream": "stderr",
       "text": [
        "\r",
        "Populating features and relations table: 1094748 (96%) "
       ]
      },
      {
       "output_type": "stream",
       "stream": "stderr",
       "text": [
        "\r",
        "Populating features and relations table: 1106152 (97%) "
       ]
      },
      {
       "output_type": "stream",
       "stream": "stderr",
       "text": [
        "\r",
        "Populating features and relations table: 1117555 (98%) "
       ]
      },
      {
       "output_type": "stream",
       "stream": "stderr",
       "text": [
        "\r",
        "Populating features and relations table: 1128959 (99%) "
       ]
      },
      {
       "output_type": "stream",
       "stream": "stderr",
       "text": [
        "done in 387.0s\n"
       ]
      },
      {
       "output_type": "stream",
       "stream": "stderr",
       "text": [
        "Creating temporary indexes..."
       ]
      },
      {
       "output_type": "stream",
       "stream": "stderr",
       "text": [
        "done in 147.6s\n"
       ]
      },
      {
       "output_type": "stream",
       "stream": "stderr",
       "text": [
        "Inferring gene and transcript extents; saving unique to tempfile... "
       ]
      },
      {
       "output_type": "stream",
       "stream": "stderr",
       "text": [
        "\r",
        "Inferring gene and transcript extents: 1317 (1%)..."
       ]
      },
      {
       "output_type": "stream",
       "stream": "stderr",
       "text": [
        "\r",
        "Inferring gene and transcript extents: 2634 (2%)..."
       ]
      },
      {
       "output_type": "stream",
       "stream": "stderr",
       "text": [
        "\r",
        "Inferring gene and transcript extents: 3951 (3%)..."
       ]
      },
      {
       "output_type": "stream",
       "stream": "stderr",
       "text": [
        "\r",
        "Inferring gene and transcript extents: 5268 (4%)..."
       ]
      },
      {
       "output_type": "stream",
       "stream": "stderr",
       "text": [
        "\r",
        "Inferring gene and transcript extents: 6585 (5%)..."
       ]
      },
      {
       "output_type": "stream",
       "stream": "stderr",
       "text": [
        "\r",
        "Inferring gene and transcript extents: 7902 (6%)..."
       ]
      },
      {
       "output_type": "stream",
       "stream": "stderr",
       "text": [
        "\r",
        "Inferring gene and transcript extents: 9219 (7%)..."
       ]
      },
      {
       "output_type": "stream",
       "stream": "stderr",
       "text": [
        "\r",
        "Inferring gene and transcript extents: 10536 (8%)..."
       ]
      },
      {
       "output_type": "stream",
       "stream": "stderr",
       "text": [
        "\r",
        "Inferring gene and transcript extents: 11853 (9%)..."
       ]
      },
      {
       "output_type": "stream",
       "stream": "stderr",
       "text": [
        "\r",
        "Inferring gene and transcript extents: 13170 (10%)..."
       ]
      },
      {
       "output_type": "stream",
       "stream": "stderr",
       "text": [
        "\r",
        "Inferring gene and transcript extents: 14487 (11%)..."
       ]
      },
      {
       "output_type": "stream",
       "stream": "stderr",
       "text": [
        "\r",
        "Inferring gene and transcript extents: 15804 (12%)..."
       ]
      },
      {
       "output_type": "stream",
       "stream": "stderr",
       "text": [
        "\r",
        "Inferring gene and transcript extents: 17121 (13%)..."
       ]
      },
      {
       "output_type": "stream",
       "stream": "stderr",
       "text": [
        "\r",
        "Inferring gene and transcript extents: 18438 (14%)..."
       ]
      },
      {
       "output_type": "stream",
       "stream": "stderr",
       "text": [
        "\r",
        "Inferring gene and transcript extents: 19755 (15%)..."
       ]
      },
      {
       "output_type": "stream",
       "stream": "stderr",
       "text": [
        "\r",
        "Inferring gene and transcript extents: 21072 (16%)..."
       ]
      },
      {
       "output_type": "stream",
       "stream": "stderr",
       "text": [
        "\r",
        "Inferring gene and transcript extents: 22389 (17%)..."
       ]
      },
      {
       "output_type": "stream",
       "stream": "stderr",
       "text": [
        "\r",
        "Inferring gene and transcript extents: 23706 (18%)..."
       ]
      },
      {
       "output_type": "stream",
       "stream": "stderr",
       "text": [
        "\r",
        "Inferring gene and transcript extents: 25023 (19%)..."
       ]
      },
      {
       "output_type": "stream",
       "stream": "stderr",
       "text": [
        "\r",
        "Inferring gene and transcript extents: 26340 (20%)..."
       ]
      },
      {
       "output_type": "stream",
       "stream": "stderr",
       "text": [
        "\r",
        "Inferring gene and transcript extents: 27657 (21%)..."
       ]
      },
      {
       "output_type": "stream",
       "stream": "stderr",
       "text": [
        "\r",
        "Inferring gene and transcript extents: 28974 (22%)..."
       ]
      },
      {
       "output_type": "stream",
       "stream": "stderr",
       "text": [
        "\r",
        "Inferring gene and transcript extents: 30291 (23%)..."
       ]
      },
      {
       "output_type": "stream",
       "stream": "stderr",
       "text": [
        "\r",
        "Inferring gene and transcript extents: 31608 (24%)..."
       ]
      },
      {
       "output_type": "stream",
       "stream": "stderr",
       "text": [
        "\r",
        "Inferring gene and transcript extents: 32925 (25%)..."
       ]
      },
      {
       "output_type": "stream",
       "stream": "stderr",
       "text": [
        "\r",
        "Inferring gene and transcript extents: 34242 (26%)..."
       ]
      },
      {
       "output_type": "stream",
       "stream": "stderr",
       "text": [
        "\r",
        "Inferring gene and transcript extents: 35559 (27%)..."
       ]
      },
      {
       "output_type": "stream",
       "stream": "stderr",
       "text": [
        "\r",
        "Inferring gene and transcript extents: 36876 (28%)..."
       ]
      },
      {
       "output_type": "stream",
       "stream": "stderr",
       "text": [
        "\r",
        "Inferring gene and transcript extents: 38193 (29%)..."
       ]
      },
      {
       "output_type": "stream",
       "stream": "stderr",
       "text": [
        "\r",
        "Inferring gene and transcript extents: 39510 (30%)..."
       ]
      },
      {
       "output_type": "stream",
       "stream": "stderr",
       "text": [
        "\r",
        "Inferring gene and transcript extents: 40827 (31%)..."
       ]
      },
      {
       "output_type": "stream",
       "stream": "stderr",
       "text": [
        "\r",
        "Inferring gene and transcript extents: 42144 (32%)..."
       ]
      },
      {
       "output_type": "stream",
       "stream": "stderr",
       "text": [
        "\r",
        "Inferring gene and transcript extents: 43461 (33%)..."
       ]
      },
      {
       "output_type": "stream",
       "stream": "stderr",
       "text": [
        "\r",
        "Inferring gene and transcript extents: 44778 (34%)..."
       ]
      },
      {
       "output_type": "stream",
       "stream": "stderr",
       "text": [
        "\r",
        "Inferring gene and transcript extents: 46095 (35%)..."
       ]
      },
      {
       "output_type": "stream",
       "stream": "stderr",
       "text": [
        "\r",
        "Inferring gene and transcript extents: 47412 (36%)..."
       ]
      },
      {
       "output_type": "stream",
       "stream": "stderr",
       "text": [
        "\r",
        "Inferring gene and transcript extents: 48729 (37%)..."
       ]
      },
      {
       "output_type": "stream",
       "stream": "stderr",
       "text": [
        "\r",
        "Inferring gene and transcript extents: 50046 (38%)..."
       ]
      },
      {
       "output_type": "stream",
       "stream": "stderr",
       "text": [
        "\r",
        "Inferring gene and transcript extents: 51363 (39%)..."
       ]
      },
      {
       "output_type": "stream",
       "stream": "stderr",
       "text": [
        "\r",
        "Inferring gene and transcript extents: 52680 (40%)..."
       ]
      },
      {
       "output_type": "stream",
       "stream": "stderr",
       "text": [
        "\r",
        "Inferring gene and transcript extents: 53997 (41%)..."
       ]
      },
      {
       "output_type": "stream",
       "stream": "stderr",
       "text": [
        "\r",
        "Inferring gene and transcript extents: 55314 (42%)..."
       ]
      },
      {
       "output_type": "stream",
       "stream": "stderr",
       "text": [
        "\r",
        "Inferring gene and transcript extents: 56631 (43%)..."
       ]
      },
      {
       "output_type": "stream",
       "stream": "stderr",
       "text": [
        "\r",
        "Inferring gene and transcript extents: 57948 (44%)..."
       ]
      },
      {
       "output_type": "stream",
       "stream": "stderr",
       "text": [
        "\r",
        "Inferring gene and transcript extents: 59265 (45%)..."
       ]
      },
      {
       "output_type": "stream",
       "stream": "stderr",
       "text": [
        "\r",
        "Inferring gene and transcript extents: 60582 (46%)..."
       ]
      },
      {
       "output_type": "stream",
       "stream": "stderr",
       "text": [
        "\r",
        "Inferring gene and transcript extents: 61899 (47%)..."
       ]
      },
      {
       "output_type": "stream",
       "stream": "stderr",
       "text": [
        "\r",
        "Inferring gene and transcript extents: 63216 (48%)..."
       ]
      },
      {
       "output_type": "stream",
       "stream": "stderr",
       "text": [
        "\r",
        "Inferring gene and transcript extents: 64533 (49%)..."
       ]
      },
      {
       "output_type": "stream",
       "stream": "stderr",
       "text": [
        "\r",
        "Inferring gene and transcript extents: 65849 (50%)..."
       ]
      },
      {
       "output_type": "stream",
       "stream": "stderr",
       "text": [
        "\r",
        "Inferring gene and transcript extents: 67166 (51%)..."
       ]
      },
      {
       "output_type": "stream",
       "stream": "stderr",
       "text": [
        "\r",
        "Inferring gene and transcript extents: 68483 (52%)..."
       ]
      },
      {
       "output_type": "stream",
       "stream": "stderr",
       "text": [
        "\r",
        "Inferring gene and transcript extents: 69800 (53%)..."
       ]
      },
      {
       "output_type": "stream",
       "stream": "stderr",
       "text": [
        "\r",
        "Inferring gene and transcript extents: 71117 (54%)..."
       ]
      },
      {
       "output_type": "stream",
       "stream": "stderr",
       "text": [
        "\r",
        "Inferring gene and transcript extents: 72434 (55%)..."
       ]
      },
      {
       "output_type": "stream",
       "stream": "stderr",
       "text": [
        "\r",
        "Inferring gene and transcript extents: 73751 (56%)..."
       ]
      },
      {
       "output_type": "stream",
       "stream": "stderr",
       "text": [
        "\r",
        "Inferring gene and transcript extents: 75068 (57%)..."
       ]
      },
      {
       "output_type": "stream",
       "stream": "stderr",
       "text": [
        "\r",
        "Inferring gene and transcript extents: 76385 (58%)..."
       ]
      },
      {
       "output_type": "stream",
       "stream": "stderr",
       "text": [
        "\r",
        "Inferring gene and transcript extents: 77702 (59%)..."
       ]
      },
      {
       "output_type": "stream",
       "stream": "stderr",
       "text": [
        "\r",
        "Inferring gene and transcript extents: 79019 (60%)..."
       ]
      },
      {
       "output_type": "stream",
       "stream": "stderr",
       "text": [
        "\r",
        "Inferring gene and transcript extents: 80336 (61%)..."
       ]
      },
      {
       "output_type": "stream",
       "stream": "stderr",
       "text": [
        "\r",
        "Inferring gene and transcript extents: 81653 (62%)..."
       ]
      },
      {
       "output_type": "stream",
       "stream": "stderr",
       "text": [
        "\r",
        "Inferring gene and transcript extents: 82970 (63%)..."
       ]
      },
      {
       "output_type": "stream",
       "stream": "stderr",
       "text": [
        "\r",
        "Inferring gene and transcript extents: 84287 (64%)..."
       ]
      },
      {
       "output_type": "stream",
       "stream": "stderr",
       "text": [
        "\r",
        "Inferring gene and transcript extents: 85604 (65%)..."
       ]
      },
      {
       "output_type": "stream",
       "stream": "stderr",
       "text": [
        "\r",
        "Inferring gene and transcript extents: 86921 (66%)..."
       ]
      },
      {
       "output_type": "stream",
       "stream": "stderr",
       "text": [
        "\r",
        "Inferring gene and transcript extents: 88238 (67%)..."
       ]
      },
      {
       "output_type": "stream",
       "stream": "stderr",
       "text": [
        "\r",
        "Inferring gene and transcript extents: 89555 (68%)..."
       ]
      },
      {
       "output_type": "stream",
       "stream": "stderr",
       "text": [
        "\r",
        "Inferring gene and transcript extents: 90872 (69%)..."
       ]
      },
      {
       "output_type": "stream",
       "stream": "stderr",
       "text": [
        "\r",
        "Inferring gene and transcript extents: 92189 (70%)..."
       ]
      },
      {
       "output_type": "stream",
       "stream": "stderr",
       "text": [
        "\r",
        "Inferring gene and transcript extents: 93506 (71%)..."
       ]
      },
      {
       "output_type": "stream",
       "stream": "stderr",
       "text": [
        "\r",
        "Inferring gene and transcript extents: 94823 (72%)..."
       ]
      },
      {
       "output_type": "stream",
       "stream": "stderr",
       "text": [
        "\r",
        "Inferring gene and transcript extents: 96140 (73%)..."
       ]
      },
      {
       "output_type": "stream",
       "stream": "stderr",
       "text": [
        "\r",
        "Inferring gene and transcript extents: 97457 (74%)..."
       ]
      },
      {
       "output_type": "stream",
       "stream": "stderr",
       "text": [
        "\r",
        "Inferring gene and transcript extents: 98774 (75%)..."
       ]
      },
      {
       "output_type": "stream",
       "stream": "stderr",
       "text": [
        "\r",
        "Inferring gene and transcript extents: 100091 (76%)..."
       ]
      },
      {
       "output_type": "stream",
       "stream": "stderr",
       "text": [
        "\r",
        "Inferring gene and transcript extents: 101408 (77%)..."
       ]
      },
      {
       "output_type": "stream",
       "stream": "stderr",
       "text": [
        "\r",
        "Inferring gene and transcript extents: 102725 (78%)..."
       ]
      },
      {
       "output_type": "stream",
       "stream": "stderr",
       "text": [
        "\r",
        "Inferring gene and transcript extents: 104042 (79%)..."
       ]
      },
      {
       "output_type": "stream",
       "stream": "stderr",
       "text": [
        "\r",
        "Inferring gene and transcript extents: 105359 (80%)..."
       ]
      },
      {
       "output_type": "stream",
       "stream": "stderr",
       "text": [
        "\r",
        "Inferring gene and transcript extents: 106676 (81%)..."
       ]
      },
      {
       "output_type": "stream",
       "stream": "stderr",
       "text": [
        "\r",
        "Inferring gene and transcript extents: 107993 (82%)..."
       ]
      },
      {
       "output_type": "stream",
       "stream": "stderr",
       "text": [
        "\r",
        "Inferring gene and transcript extents: 109310 (83%)..."
       ]
      },
      {
       "output_type": "stream",
       "stream": "stderr",
       "text": [
        "\r",
        "Inferring gene and transcript extents: 110627 (84%)..."
       ]
      },
      {
       "output_type": "stream",
       "stream": "stderr",
       "text": [
        "\r",
        "Inferring gene and transcript extents: 111944 (85%)..."
       ]
      },
      {
       "output_type": "stream",
       "stream": "stderr",
       "text": [
        "\r",
        "Inferring gene and transcript extents: 113261 (86%)..."
       ]
      },
      {
       "output_type": "stream",
       "stream": "stderr",
       "text": [
        "\r",
        "Inferring gene and transcript extents: 114578 (87%)..."
       ]
      },
      {
       "output_type": "stream",
       "stream": "stderr",
       "text": [
        "\r",
        "Inferring gene and transcript extents: 115895 (88%)..."
       ]
      },
      {
       "output_type": "stream",
       "stream": "stderr",
       "text": [
        "\r",
        "Inferring gene and transcript extents: 117212 (89%)..."
       ]
      },
      {
       "output_type": "stream",
       "stream": "stderr",
       "text": [
        "\r",
        "Inferring gene and transcript extents: 118529 (90%)..."
       ]
      },
      {
       "output_type": "stream",
       "stream": "stderr",
       "text": [
        "\r",
        "Inferring gene and transcript extents: 119846 (91%)..."
       ]
      },
      {
       "output_type": "stream",
       "stream": "stderr",
       "text": [
        "\r",
        "Inferring gene and transcript extents: 121163 (92%)..."
       ]
      },
      {
       "output_type": "stream",
       "stream": "stderr",
       "text": [
        "\r",
        "Inferring gene and transcript extents: 122480 (93%)..."
       ]
      },
      {
       "output_type": "stream",
       "stream": "stderr",
       "text": [
        "\r",
        "Inferring gene and transcript extents: 123797 (94%)..."
       ]
      },
      {
       "output_type": "stream",
       "stream": "stderr",
       "text": [
        "\r",
        "Inferring gene and transcript extents: 125114 (95%)..."
       ]
      },
      {
       "output_type": "stream",
       "stream": "stderr",
       "text": [
        "\r",
        "Inferring gene and transcript extents: 126431 (96%)..."
       ]
      },
      {
       "output_type": "stream",
       "stream": "stderr",
       "text": [
        "\r",
        "Inferring gene and transcript extents: 127748 (97%)..."
       ]
      },
      {
       "output_type": "stream",
       "stream": "stderr",
       "text": [
        "\r",
        "Inferring gene and transcript extents: 129065 (98%)..."
       ]
      },
      {
       "output_type": "stream",
       "stream": "stderr",
       "text": [
        "\r",
        "Inferring gene and transcript extents: 130382 (99%)..."
       ]
      },
      {
       "output_type": "stream",
       "stream": "stderr",
       "text": [
        "done in 1701.8s\n"
       ]
      },
      {
       "output_type": "stream",
       "stream": "stderr",
       "text": [
        "Importing inferred features..."
       ]
      },
      {
       "output_type": "stream",
       "stream": "stderr",
       "text": [
        "done in 9.4s\n"
       ]
      },
      {
       "output_type": "stream",
       "stream": "stderr",
       "text": [
        "Creating index..."
       ]
      },
      {
       "output_type": "stream",
       "stream": "stderr",
       "text": [
        "done in 22.6s\n"
       ]
      }
     ],
     "prompt_number": 31
    },
    {
     "cell_type": "code",
     "collapsed": false,
     "input": [
      "dm3_base = \"/nas3/yeolab/Genome/ensembl/gtf/Drosophila_melanogaster.BDGP5.74.fixed\"\n",
      "dm3_gff = dm3_base + \".gtf\"\n",
      "dm3_db = dm3_gff + \".db\""
     ],
     "language": "python",
     "metadata": {},
     "outputs": [],
     "prompt_number": 2
    },
    {
     "cell_type": "code",
     "collapsed": false,
     "input": [
      "gffutils.create_db(dm3_gff, dm3_db)"
     ],
     "language": "python",
     "metadata": {},
     "outputs": [
      {
       "metadata": {},
       "output_type": "pyout",
       "prompt_number": 11,
       "text": [
        "<gffutils.interface.FeatureDB at 0x105a15d0>"
       ]
      }
     ],
     "prompt_number": 11
    },
    {
     "cell_type": "markdown",
     "metadata": {},
     "source": [
      "This merges all exons and outputs in a bed format so count_tags will work"
     ]
    },
    {
     "cell_type": "code",
     "collapsed": false,
     "input": [
      "genes = db.features_of_type('gene')"
     ],
     "language": "python",
     "metadata": {},
     "outputs": [],
     "prompt_number": 13
    },
    {
     "cell_type": "markdown",
     "metadata": {},
     "source": [
      "These are the good annotations"
     ]
    },
    {
     "cell_type": "code",
     "collapsed": false,
     "input": [
      "foo = get_genomic_regions(\"\", \"dm3\", gffutils.FeatureDB(dm3_db))"
     ],
     "language": "python",
     "metadata": {},
     "outputs": [
      {
       "ename": "BEDToolsError",
       "evalue": "\nCommand was:\n\n\tbedtools sort -i /nas3/scratch/gpratt/pybedtools_tmp/pybedtools.Hbs5fl.tmp\n\nError message was:\nError: The requested bed file (/nas3/scratch/gpratt/pybedtools_tmp/pybedtools.Hbs5fl.tmp) could not be opened. Exiting!\n",
       "output_type": "pyerr",
       "traceback": [
        "\u001b[1;31m---------------------------------------------------------------------------\u001b[0m\n\u001b[1;31mBEDToolsError\u001b[0m                             Traceback (most recent call last)",
        "\u001b[1;32m<ipython-input-13-1aca065e8160>\u001b[0m in \u001b[0;36m<module>\u001b[1;34m()\u001b[0m\n\u001b[1;32m----> 1\u001b[1;33m \u001b[0mfoo\u001b[0m \u001b[1;33m=\u001b[0m \u001b[0mget_genomic_regions\u001b[0m\u001b[1;33m(\u001b[0m\u001b[1;34m\"\"\u001b[0m\u001b[1;33m,\u001b[0m \u001b[1;34m\"dm3\"\u001b[0m\u001b[1;33m,\u001b[0m \u001b[0mgffutils\u001b[0m\u001b[1;33m.\u001b[0m\u001b[0mFeatureDB\u001b[0m\u001b[1;33m(\u001b[0m\u001b[0mdm3_db\u001b[0m\u001b[1;33m)\u001b[0m\u001b[1;33m)\u001b[0m\u001b[1;33m\u001b[0m\u001b[0m\n\u001b[0m",
        "\u001b[1;32m/nas/nas0/gpratt/clipper/clipper/src/CLIP_analysis.pyc\u001b[0m in \u001b[0;36mget_genomic_regions\u001b[1;34m(regions_dir, species, db, prox_size)\u001b[0m\n\u001b[0;32m    735\u001b[0m \u001b[1;33m\u001b[0m\u001b[0m\n\u001b[0;32m    736\u001b[0m     \u001b[1;31m#make daddy some introns\u001b[0m\u001b[1;33m\u001b[0m\u001b[1;33m\u001b[0m\u001b[0m\n\u001b[1;32m--> 737\u001b[1;33m     \u001b[0mexons\u001b[0m \u001b[1;33m=\u001b[0m \u001b[0mpybedtools\u001b[0m\u001b[1;33m.\u001b[0m\u001b[0mBedTool\u001b[0m\u001b[1;33m(\u001b[0m\u001b[0mmap\u001b[0m\u001b[1;33m(\u001b[0m\u001b[0mto_bed\u001b[0m\u001b[1;33m,\u001b[0m \u001b[0mexons\u001b[0m\u001b[1;33m)\u001b[0m\u001b[1;33m)\u001b[0m\u001b[1;33m.\u001b[0m\u001b[0msort\u001b[0m\u001b[1;33m(\u001b[0m\u001b[1;33m)\u001b[0m\u001b[1;33m.\u001b[0m\u001b[0msaveas\u001b[0m\u001b[1;33m(\u001b[0m\u001b[0mos\u001b[0m\u001b[1;33m.\u001b[0m\u001b[0mpath\u001b[0m\u001b[1;33m.\u001b[0m\u001b[0mjoin\u001b[0m\u001b[1;33m(\u001b[0m\u001b[0mspecies\u001b[0m \u001b[1;33m+\u001b[0m \u001b[1;34m\"_exons.bed\"\u001b[0m\u001b[1;33m)\u001b[0m\u001b[1;33m)\u001b[0m\u001b[1;33m\u001b[0m\u001b[0m\n\u001b[0m\u001b[0;32m    738\u001b[0m     \u001b[0mintrons\u001b[0m \u001b[1;33m=\u001b[0m \u001b[0mget_introns\u001b[0m\u001b[1;33m(\u001b[0m\u001b[0mexons\u001b[0m\u001b[1;33m)\u001b[0m\u001b[1;33m.\u001b[0m\u001b[0msort\u001b[0m\u001b[1;33m(\u001b[0m\u001b[1;33m)\u001b[0m\u001b[1;33m.\u001b[0m\u001b[0msaveas\u001b[0m\u001b[1;33m(\u001b[0m\u001b[0mos\u001b[0m\u001b[1;33m.\u001b[0m\u001b[0mpath\u001b[0m\u001b[1;33m.\u001b[0m\u001b[0mjoin\u001b[0m\u001b[1;33m(\u001b[0m\u001b[0mspecies\u001b[0m \u001b[1;33m+\u001b[0m \u001b[1;34m\"_introns.bed\"\u001b[0m\u001b[1;33m)\u001b[0m\u001b[1;33m)\u001b[0m\u001b[1;33m\u001b[0m\u001b[0m\n\u001b[0;32m    739\u001b[0m \u001b[1;33m\u001b[0m\u001b[0m\n",
        "\u001b[1;32m/nas3/yeolab/Software/Python-2.7.5/lib/python2.7/site-packages/pybedtools-0.6.2-py2.7-linux-x86_64.egg/pybedtools/bedtool.pyc\u001b[0m in \u001b[0;36mdecorated\u001b[1;34m(self, *args, **kwargs)\u001b[0m\n\u001b[0;32m    641\u001b[0m             \u001b[1;31m# this calls the actual method in the first place; *result* is\u001b[0m\u001b[1;33m\u001b[0m\u001b[1;33m\u001b[0m\u001b[0m\n\u001b[0;32m    642\u001b[0m             \u001b[1;31m# whatever you get back\u001b[0m\u001b[1;33m\u001b[0m\u001b[1;33m\u001b[0m\u001b[0m\n\u001b[1;32m--> 643\u001b[1;33m             \u001b[0mresult\u001b[0m \u001b[1;33m=\u001b[0m \u001b[0mmethod\u001b[0m\u001b[1;33m(\u001b[0m\u001b[0mself\u001b[0m\u001b[1;33m,\u001b[0m \u001b[1;33m*\u001b[0m\u001b[0margs\u001b[0m\u001b[1;33m,\u001b[0m \u001b[1;33m**\u001b[0m\u001b[0mkwargs\u001b[0m\u001b[1;33m)\u001b[0m\u001b[1;33m\u001b[0m\u001b[0m\n\u001b[0m\u001b[0;32m    644\u001b[0m \u001b[1;33m\u001b[0m\u001b[0m\n\u001b[0;32m    645\u001b[0m             \u001b[1;31m# add appropriate tags\u001b[0m\u001b[1;33m\u001b[0m\u001b[1;33m\u001b[0m\u001b[0m\n",
        "\u001b[1;32m/nas3/yeolab/Software/Python-2.7.5/lib/python2.7/site-packages/pybedtools-0.6.2-py2.7-linux-x86_64.egg/pybedtools/bedtool.pyc\u001b[0m in \u001b[0;36mwrapped\u001b[1;34m(self, *args, **kwargs)\u001b[0m\n\u001b[0;32m    228\u001b[0m             \u001b[1;31m# Do the actual call\u001b[0m\u001b[1;33m\u001b[0m\u001b[1;33m\u001b[0m\u001b[0m\n\u001b[0;32m    229\u001b[0m             stream = call_bedtools(cmds, tmp, stdin=stdin,\n\u001b[1;32m--> 230\u001b[1;33m                                    check_stderr=check_stderr)\n\u001b[0m\u001b[0;32m    231\u001b[0m \u001b[1;33m\u001b[0m\u001b[0m\n\u001b[0;32m    232\u001b[0m             \u001b[1;32mif\u001b[0m \u001b[0mdoes_not_return_bedtool\u001b[0m\u001b[1;33m:\u001b[0m\u001b[1;33m\u001b[0m\u001b[0m\n",
        "\u001b[1;32m/nas3/yeolab/Software/Python-2.7.5/lib/python2.7/site-packages/pybedtools-0.6.2-py2.7-linux-x86_64.egg/pybedtools/helpers.pyc\u001b[0m in \u001b[0;36mcall_bedtools\u001b[1;34m(cmds, tmpfn, stdin, check_stderr)\u001b[0m\n\u001b[0;32m    420\u001b[0m \u001b[1;33m\u001b[0m\u001b[0m\n\u001b[0;32m    421\u001b[0m         \u001b[1;32mif\u001b[0m \u001b[0mstderr\u001b[0m\u001b[1;33m:\u001b[0m\u001b[1;33m\u001b[0m\u001b[0m\n\u001b[1;32m--> 422\u001b[1;33m             \u001b[1;32mraise\u001b[0m \u001b[0mBEDToolsError\u001b[0m\u001b[1;33m(\u001b[0m\u001b[0msubprocess\u001b[0m\u001b[1;33m.\u001b[0m\u001b[0mlist2cmdline\u001b[0m\u001b[1;33m(\u001b[0m\u001b[0mcmds\u001b[0m\u001b[1;33m)\u001b[0m\u001b[1;33m,\u001b[0m \u001b[0mstderr\u001b[0m\u001b[1;33m)\u001b[0m\u001b[1;33m\u001b[0m\u001b[0m\n\u001b[0m\u001b[0;32m    423\u001b[0m \u001b[1;33m\u001b[0m\u001b[0m\n\u001b[0;32m    424\u001b[0m     \u001b[1;32mexcept\u001b[0m \u001b[1;33m(\u001b[0m\u001b[0mOSError\u001b[0m\u001b[1;33m,\u001b[0m \u001b[0mIOError\u001b[0m\u001b[1;33m)\u001b[0m \u001b[1;32mas\u001b[0m \u001b[0merr\u001b[0m\u001b[1;33m:\u001b[0m\u001b[1;33m\u001b[0m\u001b[0m\n",
        "\u001b[1;31mBEDToolsError\u001b[0m: \nCommand was:\n\n\tbedtools sort -i /nas3/scratch/gpratt/pybedtools_tmp/pybedtools.Hbs5fl.tmp\n\nError message was:\nError: The requested bed file (/nas3/scratch/gpratt/pybedtools_tmp/pybedtools.Hbs5fl.tmp) could not be opened. Exiting!\n"
       ]
      },
      {
       "output_type": "stream",
       "stream": "stdout",
       "text": [
        "dm3_genes.bed\n",
        "File \"dm3_genes.bed\" does not exist\n"
       ]
      }
     ],
     "prompt_number": 13
    },
    {
     "cell_type": "code",
     "collapsed": false,
     "input": [
      "dm3 = gffutils.FeatureDB(dm3_db)"
     ],
     "language": "python",
     "metadata": {},
     "outputs": [],
     "prompt_number": 3
    },
    {
     "cell_type": "code",
     "collapsed": false,
     "input": [
      "genes = dm3.features_of_type(\"gene\")\n",
      "for gene in genes:\n",
      "    print gene\n",
      "    mrnas = list(dm3.children(gene))\n",
      "    print list(mrnas)\n",
      "    break"
     ],
     "language": "python",
     "metadata": {},
     "outputs": [
      {
       "output_type": "stream",
       "stream": "stdout",
       "text": [
        "chrX\tgffutils_derived\tgene\t264064\t264980\t.\t+\t.\tgene_id \"FBgn0000022\";\n",
        "[<Feature CDS (chrX:264127-264729[+]) at 0x5bb9990>, <Feature transcript (chrX:264064-264980[+]) at 0x5bb99d0>, <Feature exon (chrX:264064-264980[+]) at 0x5bb9250>, <Feature start_codon (chrX:264127-264129[+]) at 0x5bb9a50>, <Feature stop_codon (chrX:264730-264732[+]) at 0x5bb9a90>]\n"
       ]
      }
     ],
     "prompt_number": 4
    },
    {
     "cell_type": "code",
     "collapsed": false,
     "input": [
      "foo = get_genomic_regions(\"\", \"hg19\", gffutils.FeatureDB(hg19_db))"
     ],
     "language": "python",
     "metadata": {},
     "outputs": [
      {
       "output_type": "stream",
       "stream": "stdout",
       "text": [
        "hg19_genes.bed\n",
        "File \"hg19_cds.bed\" does not exist\n"
       ]
      }
     ],
     "prompt_number": 6
    },
    {
     "cell_type": "code",
     "collapsed": false,
     "input": [
      "foo = get_genomic_regions(\"\", \"mm9\", gffutils.FeatureDB(mm9_db))"
     ],
     "language": "python",
     "metadata": {},
     "outputs": [
      {
       "output_type": "stream",
       "stream": "stdout",
       "text": [
        "mm9_genes.bed\n",
        "File \"mm9_cds.bed\" does not exist\n"
       ]
      }
     ],
     "prompt_number": 7
    },
    {
     "cell_type": "markdown",
     "metadata": {},
     "source": [
      "How do I verify correctness?\n",
      "\n",
      "Create 2 mock transcripts, positive and negative strands with exons, make a mock database, and run the above script on it to verify everything is alright"
     ]
    },
    {
     "cell_type": "code",
     "collapsed": false,
     "input": [
      "list(dm3.merge(list(dm3.children(gene, featuretype=\"exon\"))))"
     ],
     "language": "python",
     "metadata": {},
     "outputs": [
      {
       "metadata": {},
       "output_type": "pyout",
       "prompt_number": 5,
       "text": [
        "[<Feature exon (chrX:264064-264980[+]) at 0x5bb9690>]"
       ]
      }
     ],
     "prompt_number": 5
    },
    {
     "cell_type": "code",
     "collapsed": false,
     "input": [
      "def generate_clipper_gff(base, db):\n",
      "    genes = db.features_of_type('gene')\n",
      "    with open(base + \".exons.bed\", 'w') as exonic_out, open(base + \".genes.gff\", 'w') as clipper_out:\n",
      "        for gene in genes:\n",
      "            try:\n",
      "                coding_length = 0 \n",
      "                merged_exons = list(db.merge(db.children(gene, featuretype=\"exon\")))\n",
      "                \n",
      "                for i, exon in enumerate(merged_exons):\n",
      "                    coding_length += len(exon)\n",
      "                    exonic_out.write(\"\\t\".join(map(str, [exon.chrom, exon.start, exon.stop, gene.id[0], \"0\", exon.strand, i, \"\\n\"])))\n",
      "            \n",
      "                clipper_out.write(\"\\t\".join(map(str, [gene.chrom, \"AS_STRUCTURE\", \"gene\", gene.start, gene.stop, gene.score, gene.strand, \".\", \n",
      "                                                  \"gene_id=%s;mrna_length=%s;premrna_length=%s\" % (gene.attributes['gene_id'][0], \n",
      "                                                                                                   coding_length, len(gene)), \"\\n\"\n",
      "                                                 ]\n",
      "                                            )\n",
      "                                        ))\n",
      "    \n",
      "            except IndexError:\n",
      "                pass"
     ],
     "language": "python",
     "metadata": {},
     "outputs": [],
     "prompt_number": 13
    },
    {
     "cell_type": "code",
     "collapsed": false,
     "input": [
      "generate_clipper_gff(dm3_base, gffutils.FeatureDB(dm3_db))"
     ],
     "language": "python",
     "metadata": {},
     "outputs": [],
     "prompt_number": 14
    },
    {
     "cell_type": "code",
     "collapsed": false,
     "input": [
      "db = gffutils.FeatureDB(mm10_db)\n",
      "genes = db.features_of_type('gene')\n",
      "with open(mm10_base + \".exons.bed\", 'w') as exonic_out, open(mm10_base + \".genes.gff\", 'w') as clipper_out:\n",
      "    for gene in genes:\n",
      "        try:\n",
      "            coding_length = 0 \n",
      "            merged_exons = list(db.merge_features(db.children(gene, featuretype='exon')))\n",
      "            \n",
      "            for i, exon in enumerate(merged_exons):\n",
      "                coding_length += len(exon)\n",
      "                exonic_out.write(\"\\t\".join(map(str, [exon.chrom, exon.start, exon.stop, gene.id[0], \"0\", exon.strand, i, \"\\n\"])))\n",
      "        \n",
      "            clipper_out.write(\"\\t\".join(map(str, [gene.chrom, \"AS_STRUCTURE\", \"gene\", gene.start, gene.stop, gene.score, gene.strand, \".\", \n",
      "                                              \"gene_id=%s;mrna_length=%s;premrna_length=%s\" % (gene.attributes['gene_id'], coding_length, len(gene)), \"\\n\"\n",
      "                                             ]\n",
      "                                        )\n",
      "                                    ))\n",
      "\n",
      "        except IndexError:\n",
      "            pass"
     ],
     "language": "python",
     "metadata": {},
     "outputs": [
      {
       "ename": "NameError",
       "evalue": "name 'mm10_db' is not defined",
       "output_type": "pyerr",
       "traceback": [
        "\u001b[1;31m---------------------------------------------------------------------------\u001b[0m\n\u001b[1;31mNameError\u001b[0m                                 Traceback (most recent call last)",
        "\u001b[1;32m<ipython-input-10-f46403bad668>\u001b[0m in \u001b[0;36m<module>\u001b[1;34m()\u001b[0m\n\u001b[1;32m----> 1\u001b[1;33m \u001b[0mdb\u001b[0m \u001b[1;33m=\u001b[0m \u001b[0mgffutils\u001b[0m\u001b[1;33m.\u001b[0m\u001b[0mFeatureDB\u001b[0m\u001b[1;33m(\u001b[0m\u001b[0mmm10_db\u001b[0m\u001b[1;33m)\u001b[0m\u001b[1;33m\u001b[0m\u001b[0m\n\u001b[0m\u001b[0;32m      2\u001b[0m \u001b[0mgenes\u001b[0m \u001b[1;33m=\u001b[0m \u001b[0mdb\u001b[0m\u001b[1;33m.\u001b[0m\u001b[0mfeatures_of_type\u001b[0m\u001b[1;33m(\u001b[0m\u001b[1;34m'gene'\u001b[0m\u001b[1;33m)\u001b[0m\u001b[1;33m\u001b[0m\u001b[0m\n\u001b[0;32m      3\u001b[0m \u001b[1;32mwith\u001b[0m \u001b[0mopen\u001b[0m\u001b[1;33m(\u001b[0m\u001b[0mmm10_base\u001b[0m \u001b[1;33m+\u001b[0m \u001b[1;34m\".exons.bed\"\u001b[0m\u001b[1;33m,\u001b[0m \u001b[1;34m'w'\u001b[0m\u001b[1;33m)\u001b[0m \u001b[1;32mas\u001b[0m \u001b[0mexonic_out\u001b[0m\u001b[1;33m,\u001b[0m \u001b[0mopen\u001b[0m\u001b[1;33m(\u001b[0m\u001b[0mmm10_base\u001b[0m \u001b[1;33m+\u001b[0m \u001b[1;34m\".genes.gff\"\u001b[0m\u001b[1;33m,\u001b[0m \u001b[1;34m'w'\u001b[0m\u001b[1;33m)\u001b[0m \u001b[1;32mas\u001b[0m \u001b[0mclipper_out\u001b[0m\u001b[1;33m:\u001b[0m\u001b[1;33m\u001b[0m\u001b[0m\n\u001b[0;32m      4\u001b[0m     \u001b[1;32mfor\u001b[0m \u001b[0mgene\u001b[0m \u001b[1;32min\u001b[0m \u001b[0mgenes\u001b[0m\u001b[1;33m:\u001b[0m\u001b[1;33m\u001b[0m\u001b[0m\n\u001b[0;32m      5\u001b[0m         \u001b[1;32mtry\u001b[0m\u001b[1;33m:\u001b[0m\u001b[1;33m\u001b[0m\u001b[0m\n",
        "\u001b[1;31mNameError\u001b[0m: name 'mm10_db' is not defined"
       ]
      }
     ],
     "prompt_number": 10
    },
    {
     "cell_type": "code",
     "collapsed": false,
     "input": [
      "hg18_base = \"/nas3/yeolab/Genome/ensembl/gtf/gencode.v3c.annotation.NCBI36\"\n",
      "hg18_gff = hg18_base + \".gtf\"\n",
      "hg18_db = hg18_gff + \".db\""
     ],
     "language": "python",
     "metadata": {},
     "outputs": [],
     "prompt_number": 52
    },
    {
     "cell_type": "code",
     "collapsed": false,
     "input": [
      "gffutils.create_db(hg18_gff, hg18_db)"
     ],
     "language": "python",
     "metadata": {},
     "outputs": [
      {
       "ename": "OperationalError",
       "evalue": "table features already exists",
       "output_type": "pyerr",
       "traceback": [
        "\u001b[1;31m---------------------------------------------------------------------------\u001b[0m\n\u001b[1;31mOperationalError\u001b[0m                          Traceback (most recent call last)",
        "\u001b[1;32m<ipython-input-53-f90c27444790>\u001b[0m in \u001b[0;36m<module>\u001b[1;34m()\u001b[0m\n\u001b[1;32m----> 1\u001b[1;33m \u001b[0mgffutils\u001b[0m\u001b[1;33m.\u001b[0m\u001b[0mcreate_db\u001b[0m\u001b[1;33m(\u001b[0m\u001b[0mhg18_gff\u001b[0m\u001b[1;33m,\u001b[0m \u001b[0mhg18_db\u001b[0m\u001b[1;33m)\u001b[0m\u001b[1;33m\u001b[0m\u001b[0m\n\u001b[0m",
        "\u001b[1;32m/nas3/yeolab/Software/Python-2.7.5/lib/python2.7/site-packages/gffutils-0.7-py2.7-linux-x86_64.egg/gffutils/__init__.pyc\u001b[0m in \u001b[0;36mcreate_db\u001b[1;34m(fn, dbfn, verbose, force)\u001b[0m\n\u001b[0;32m     43\u001b[0m     \u001b[1;32melse\u001b[0m\u001b[1;33m:\u001b[0m\u001b[1;33m\u001b[0m\u001b[0m\n\u001b[0;32m     44\u001b[0m         \u001b[0mcreator\u001b[0m \u001b[1;33m=\u001b[0m \u001b[0mGTFDBCreator\u001b[0m\u001b[1;33m(\u001b[0m\u001b[0mfn\u001b[0m\u001b[1;33m,\u001b[0m \u001b[0mdbfn\u001b[0m\u001b[1;33m,\u001b[0m \u001b[0mverbose\u001b[0m\u001b[1;33m=\u001b[0m\u001b[0mverbose\u001b[0m\u001b[1;33m,\u001b[0m \u001b[0mforce\u001b[0m\u001b[1;33m=\u001b[0m\u001b[0mforce\u001b[0m\u001b[1;33m)\u001b[0m\u001b[1;33m\u001b[0m\u001b[0m\n\u001b[1;32m---> 45\u001b[1;33m     \u001b[0mcreator\u001b[0m\u001b[1;33m.\u001b[0m\u001b[0mcreate\u001b[0m\u001b[1;33m(\u001b[0m\u001b[1;33m)\u001b[0m\u001b[1;33m\u001b[0m\u001b[0m\n\u001b[0m\u001b[0;32m     46\u001b[0m \u001b[1;33m\u001b[0m\u001b[0m\n\u001b[0;32m     47\u001b[0m \u001b[1;33m\u001b[0m\u001b[0m\n",
        "\u001b[1;32m/nas3/yeolab/Software/Python-2.7.5/lib/python2.7/site-packages/gffutils-0.7-py2.7-linux-x86_64.egg/gffutils/db.pyc\u001b[0m in \u001b[0;36mcreate\u001b[1;34m(self)\u001b[0m\n\u001b[0;32m     81\u001b[0m \u001b[1;33m\u001b[0m\u001b[0m\n\u001b[0;32m     82\u001b[0m     \u001b[1;32mdef\u001b[0m \u001b[0mcreate\u001b[0m\u001b[1;33m(\u001b[0m\u001b[0mself\u001b[0m\u001b[1;33m)\u001b[0m\u001b[1;33m:\u001b[0m\u001b[1;33m\u001b[0m\u001b[0m\n\u001b[1;32m---> 83\u001b[1;33m         \u001b[0mself\u001b[0m\u001b[1;33m.\u001b[0m\u001b[0minit_tables\u001b[0m\u001b[1;33m(\u001b[0m\u001b[1;33m)\u001b[0m\u001b[1;33m\u001b[0m\u001b[0m\n\u001b[0m\u001b[0;32m     84\u001b[0m         \u001b[0mself\u001b[0m\u001b[1;33m.\u001b[0m\u001b[0mpopulate_from_features\u001b[0m\u001b[1;33m(\u001b[0m\u001b[0mself\u001b[0m\u001b[1;33m.\u001b[0m\u001b[0mfeatures\u001b[0m\u001b[1;33m)\u001b[0m\u001b[1;33m\u001b[0m\u001b[0m\n\u001b[0;32m     85\u001b[0m         \u001b[0mself\u001b[0m\u001b[1;33m.\u001b[0m\u001b[0mupdate_relations\u001b[0m\u001b[1;33m(\u001b[0m\u001b[1;33m)\u001b[0m\u001b[1;33m\u001b[0m\u001b[0m\n",
        "\u001b[1;32m/nas3/yeolab/Software/Python-2.7.5/lib/python2.7/site-packages/gffutils-0.7-py2.7-linux-x86_64.egg/gffutils/db.pyc\u001b[0m in \u001b[0;36minit_tables\u001b[1;34m(self)\u001b[0m\n\u001b[0;32m     71\u001b[0m             \u001b[0mfiletype\u001b[0m \u001b[0mtext\u001b[0m\u001b[1;33m\u001b[0m\u001b[0m\n\u001b[0;32m     72\u001b[0m             );\n\u001b[1;32m---> 73\u001b[1;33m         ''')\n\u001b[0m\u001b[0;32m     74\u001b[0m         \u001b[0mself\u001b[0m\u001b[1;33m.\u001b[0m\u001b[0mconn\u001b[0m\u001b[1;33m.\u001b[0m\u001b[0mcommit\u001b[0m\u001b[1;33m(\u001b[0m\u001b[1;33m)\u001b[0m\u001b[1;33m\u001b[0m\u001b[0m\n\u001b[0;32m     75\u001b[0m \u001b[1;33m\u001b[0m\u001b[0m\n",
        "\u001b[1;31mOperationalError\u001b[0m: table features already exists"
       ]
      }
     ],
     "prompt_number": 53
    },
    {
     "cell_type": "code",
     "collapsed": false,
     "input": [
      "genes = db.features_of_type('gene')\n",
      "with open(hg18_base + \".exons.bed\", 'w') as exonic_out, open(hg18_base + \".genes.gff\", 'w') as clipper_out:\n",
      "    for gene in genes:\n",
      "        try:\n",
      "            coding_length = 0 \n",
      "            merged_exons = list(db.merge_features(db.children(gene, featuretype='exon')))\n",
      "            \n",
      "            for i, exon in enumerate(merged_exons):\n",
      "                coding_length += len(exon)\n",
      "                exonic_out.write(\"\\t\".join(map(str, [exon.chrom, exon.start, exon.stop, gene.id, \"0\", exon.strand, i, \"\\n\"])))\n",
      "        \n",
      "            clipper_out.write(\"\\t\".join(map(str, [gene.chrom, \"AS_STRUCTURE\", \"gene\", gene.start, gene.stop, gene.score, gene.strand, \".\", \n",
      "                                              \"gene_id=%s;mrna_length=%s;premrna_length=%s\" % (gene.attributes['gene_id'], coding_length, len(gene)), \"\\n\"\n",
      "                                             ]\n",
      "                                        )\n",
      "                                    ))\n",
      "\n",
      "        except IndexError:\n",
      "            pass"
     ],
     "language": "python",
     "metadata": {},
     "outputs": []
    },
    {
     "cell_type": "code",
     "collapsed": false,
     "input": [],
     "language": "python",
     "metadata": {},
     "outputs": []
    }
   ],
   "metadata": {}
  }
 ]
}