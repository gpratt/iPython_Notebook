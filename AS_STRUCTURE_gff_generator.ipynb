{
 "metadata": {
  "name": ""
 },
 "nbformat": 3,
 "nbformat_minor": 0,
 "worksheets": [
  {
   "cells": [
    {
     "cell_type": "code",
     "collapsed": false,
     "input": [
      "import csv\n",
      "from collections import Counter\n",
      "import pybedtools"
     ],
     "language": "python",
     "metadata": {},
     "outputs": [],
     "prompt_number": 1
    },
    {
     "cell_type": "code",
     "collapsed": false,
     "input": [
      "info = {}\n",
      "for chrom_number in range(1,20) + [\"X\",\"Y\"]:\n",
      "    x = open(\"/nas3/yeolab/Genome/ensembl/AS_STRUCTURE/mm9data4/mm9.tx.\" + str(chrom_number) + \".AS.COMPILED.STRUCTURE\")\n",
      "    for line in csv.reader(x, delimiter=\"\\t\"):\n",
      "        if line[0] != '>':\n",
      "            continue\n",
      "\n",
      "        indicator, gene_id, chrom, transcript_ids, none, none, strand, item_length, genomic_ranges, lengths, annotations = line\n",
      "        strand = \"-\" if strand == \"-1\" else \"+\"\n",
      "        \n",
      "        #convert genomic ranges into list of lists, start, stop\n",
      "        genomic_ranges = [[int(x) for x in genomic_range.split(\"-\")] for genomic_range in genomic_ranges.split(\"|\")[:-1]]\n",
      "        \n",
      "        #if strand == \"-\":\n",
      "        #    genomic_ranges = [[genomic_range[1], genomic_range[0]] for genomic_range in genomic_ranges]\n",
      "                      \n",
      "        lengths = [int(length) for length in lengths.split(\"|\")[:-1]]\n",
      "        annotations = [annotation for annotation in annotations.split(\"|\")[:-1]]\n",
      "        \n",
      "        assert (len(genomic_ranges) == len(lengths) == len(annotations)) == True\n",
      "        if not all([((genomic_range[1] - genomic_range[0] + 1)  == length) for genomic_range, length \n",
      "                                                                           in zip(genomic_ranges, lengths)]) == True:\n",
      "            print genomic_ranges\n",
      "            print [genomic_range[1] - genomic_range[0] for genomic_range in genomic_ranges]\n",
      "            print lengths\n",
      "            print\n",
      "            break\n",
      "        info[gene_id] = {\"chrom\" : chrom, \n",
      "                        \"transcript_ids\" : transcript_ids, \n",
      "                        \"strand\" : strand, \n",
      "                        \"genomic_ranges\" : genomic_ranges, \n",
      "                        \"annotations\" : annotations}\n",
      "        "
     ],
     "language": "python",
     "metadata": {},
     "outputs": [],
     "prompt_number": 20
    },
    {
     "cell_type": "code",
     "collapsed": false,
     "input": [
      "results = []\n",
      "for gene_id, gene in info.items():\n",
      "    best_start = np.inf\n",
      "    best_stop = np.NINF\n",
      "    mRNA_length = 0\n",
      "    for annotation, interval in zip(gene['annotations'], gene['genomic_ranges']):\n",
      "        start, stop = interval\n",
      "        best_start = min(best_start, start, stop)\n",
      "        best_stop = max(best_stop, start, stop) \n",
      "        if stop < start:\n",
      "            print gene_id, gene\n",
      "            print start, stop\n",
      "            break\n",
      "        if annotation[0] == 'e' or annotation[0] == 'a':\n",
      "            mRNA_length += stop - start\n",
      "    results.append(pybedtools.create_interval_from_list([\"chr\" + gene['chrom'], \n",
      "                                        \"AS_STRUCTURE\", \n",
      "                                        \"mRNA\", \n",
      "                                        str(best_start), \n",
      "                                        str(best_stop),\n",
      "                                        \"0\", \n",
      "                                        gene['strand'], \n",
      "                                        \".\",\n",
      "                                        \"gene_id=\" + gene_id + \n",
      "                                        \"; transcript_ids=\" + gene['transcript_ids'] + \n",
      "                                        \"; mrna_length=\" + str(mRNA_length) + \n",
      "                                        \";premrna_length=\" + str(best_stop - best_start)]))\n"
     ],
     "language": "python",
     "metadata": {},
     "outputs": [],
     "prompt_number": 23
    },
    {
     "cell_type": "code",
     "collapsed": false,
     "input": [
      "results = pybedtools.BedTool(results)"
     ],
     "language": "python",
     "metadata": {},
     "outputs": [],
     "prompt_number": 24
    },
    {
     "cell_type": "code",
     "collapsed": false,
     "input": [
      "results.saveas(\"mm9.AS.STRUCTURE.COMPILED.gff\")"
     ],
     "language": "python",
     "metadata": {},
     "outputs": [
      {
       "output_type": "pyout",
       "prompt_number": 25,
       "text": [
        "<BedTool(mm9.AS.STRUCTURE.COMPILED.gff)>"
       ]
      }
     ],
     "prompt_number": 25
    },
    {
     "cell_type": "code",
     "collapsed": false,
     "input": [
      "print results[5]"
     ],
     "language": "python",
     "metadata": {},
     "outputs": [
      {
       "output_type": "pyout",
       "prompt_number": 127,
       "text": [
        "'-'"
       ]
      }
     ],
     "prompt_number": 127
    },
    {
     "cell_type": "code",
     "collapsed": false,
     "input": [
      "info = {}\n",
      "for chrom_number in range(1,23) + [\"X\",\"Y\"]:\n",
      "    x = open(\"/nas3/yeolab/Genome/ensembl/AS_STRUCTURE/hg19data4/hg19.tx.\" + str(chrom_number) + \".AS.STRUCTURE\")\n",
      "    for line in csv.reader(x, delimiter=\"\\t\"):\n",
      "        if line[0] != '>':\n",
      "            continue\n",
      "        counter += 1\n",
      "        #print line\n",
      "        indicator, gene_id, chrom, transcript_ids, none, none, none, strand, item_length, exon_ranges, intron_range, exon_lengths, intron_lengths, splicing_annotations, something = line\n",
      "        strand = \"-\" if strand == \"-1\" else \"+\"\n",
      "        \n",
      "        #convert genomic ranges into list of lists, start, stop\n",
      "        #genomic_ranges = [[int(x) for x in genomic_range.split(\"-\")] for genomic_range in genomic_ranges.split(\"|\")[:-1]]\n",
      "        #lengths = [int(length) for length in lengths.split(\"|\")[:-1]]\n",
      "        #annotations = [annotation for annotation in annotations.split(\"|\")[:-1]]\n",
      "        \n",
      "        splicing_annotations = splicing_annotations.split(\"|\")[:-1]\n",
      "        #assert (len(genomic_ranges) == len(lengths) == len(annotations)) == True\n",
      "        #assert all([((genomic_range[1] - genomic_range[0] + 1)  == length) for genomic_range, length in zip(genomic_ranges, lengths)]) == True\n",
      "        info[gene_id] = {\"annotations\" : splicing_annotations}"
     ],
     "language": "python",
     "metadata": {},
     "outputs": [],
     "prompt_number": 98
    },
    {
     "cell_type": "code",
     "collapsed": false,
     "input": [
      "total = Counter()\n",
      "for gene in info:\n",
      "    total.update(Counter(info[gene]['annotations']))"
     ],
     "language": "python",
     "metadata": {},
     "outputs": [],
     "prompt_number": 99
    },
    {
     "cell_type": "code",
     "collapsed": false,
     "input": [
      "total"
     ],
     "language": "python",
     "metadata": {},
     "outputs": [
      {
       "output_type": "pyout",
       "prompt_number": 100,
       "text": [
        "Counter({'CE:': 269957, 'SE:': 18556, 'A3E:CE:': 2778, 'A5E:CE:': 1748, 'A3E:A5E:': 1425, 'SE:MXE:': 1377, 'A5E:': 1366, 'A3E:': 1275, 'MXE:': 1241, 'MXE:SE:': 792, 'SE:A3E:CE:': 749, 'A3E:A5E:CE:': 613, 'SE:A3E:A5E:CE:': 569, 'SE:A5E:CE:': 461, 'SE:CE:': 383, 'SE:A3E:': 196, 'SE:A5E:': 169, 'SE:A3E:A5E:': 158, 'SE:A3E:CE:MXE:': 130, 'SE:A5E:CE:MXE:': 99, 'SE:A3E:A5E:CE:MXE:': 99, 'A3E:A5E:OV:CE:': 85, 'SE:CE:MXE:': 62, 'SE:A5E:MXE:': 48, 'SE:A3E:A5E:OV:CE:': 41, 'SE:A3E:MXE:': 40, 'CE:MXE:': 29, 'OV:': 23, 'SE:A3E:A5E:OV:CE:MXE:': 22, 'A5E:OV:CE:': 22, 'A5E:MXE:': 22, 'A3E:CE:MXE:': 19, 'A3E:MXE:': 18, 'A5E:CE:MXE:': 16, 'A3E:A5E:MXE:': 15, 'SE:OV:': 13, 'SE:A3E:A5E:MXE:': 11, 'A3E:OV:CE:': 11, 'OV:MXE:': 10, 'SE:A5E:OV:CE:': 9, 'A3E:A5E:CE:MXE:': 7, 'SE:A3E:A5E:OV:': 6, 'OV:CE:': 6, 'SE:OV:MXE:': 6, 'A3E:A5E:OV:CE:MXE:': 5, 'SE:A3E:OV:CE:MXE:': 5, 'SE:A5E:OV:CE:MXE:': 3, 'A3E:A5E:OV:': 3, 'A5E:OV:CE:MXE:': 2, 'SE:A5E:OV:MXE:': 2, 'SE:A5E:OV:': 2, 'SE:OV:CE:': 1, 'A3E:OV:CE:MXE:': 1, 'SE:A3E:OV:CE:': 1, 'SE:A3E:A5E:OV:MXE:': 1, 'SE:A3E:OV:MXE:': 1, 'A5E:OV:': 1})"
       ]
      }
     ],
     "prompt_number": 100
    },
    {
     "cell_type": "code",
     "collapsed": false,
     "input": [],
     "language": "python",
     "metadata": {},
     "outputs": []
    }
   ],
   "metadata": {}
  }
 ]
}