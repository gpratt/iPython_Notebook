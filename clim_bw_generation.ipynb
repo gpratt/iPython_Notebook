{
 "metadata": {
  "name": "",
  "signature": "sha256:6b6a8b6d6e194987f506012c36a43930075c00c14f4db73464fad4f2d5d1e300"
 },
 "nbformat": 3,
 "nbformat_minor": 0,
 "worksheets": [
  {
   "cells": [
    {
     "cell_type": "code",
     "collapsed": false,
     "input": [
      "from collections import defaultdict, OrderedDict\n",
      "import pysam\n",
      "import matplotlib.pyplot as plt\n",
      "from matplotlib import gridspec\n",
      "\n",
      "from gscripts.general import dataviz\n",
      "%matplotlib inline\n",
      "import glob\n",
      "import os\n",
      "import pandas as pd\n",
      "img_dir = \".\""
     ],
     "language": "python",
     "metadata": {},
     "outputs": [],
     "prompt_number": 1
    },
    {
     "cell_type": "code",
     "collapsed": false,
     "input": [
      "class mpileup_base():\n",
      "    def __init__(self, line):\n",
      "        line = line.strip().split(\"\\t\")\n",
      "        self.chrom = line[0]\n",
      "        self.pos = int(line[1])\n",
      "        self.ref = line[2]\n",
      "        self.count = int(line[3])\n",
      "        if self.count != 0:\n",
      "            self.read_bases = line[4]\n",
      "            self.read_qualities = line[5]\n",
      "        else:\n",
      "            self.read_bases = \"\"\n",
      "            self.read_qualities = \"\"\n",
      "            \n",
      "    def __str__(self):\n",
      "        return \"\\t\".join(map(str, [self.chrom, self.pos, self.ref, self.count, self.read_bases, self.read_qualities]))\n",
      "    \n",
      "class mpileup():\n",
      "    def __init__(self, fn):\n",
      "        self.fn = fn\n",
      "    def __iter__(self):\n",
      "        with open(self.fn) as file_handle:\n",
      "            for line in file_handle:\n",
      "                yield mpileup_base(line)\n",
      "                "
     ],
     "language": "python",
     "metadata": {},
     "outputs": [],
     "prompt_number": 2
    },
    {
     "cell_type": "code",
     "collapsed": false,
     "input": [
      "lst = glob.glob(\"/nas3/gpratt/projects/public_clip/analysis/v6/hg19/*mpileup\")"
     ],
     "language": "python",
     "metadata": {},
     "outputs": [],
     "prompt_number": 18
    },
    {
     "cell_type": "code",
     "collapsed": false,
     "input": [
      "for item in lst:\n",
      "    mpileup_to_bg(item, item + \".bg\")"
     ],
     "language": "python",
     "metadata": {},
     "outputs": []
    },
    {
     "cell_type": "code",
     "collapsed": false,
     "input": [
      "def mpileup_to_bg(mpileup_file, output_fn):\n",
      "    result = defaultdict(OrderedDict)\n",
      "    for base in mpileup(mpileup_file):\n",
      "        number_of_dels = len(base.read_bases.split(\"-\")) - 1\n",
      "        if number_of_dels > 0:\n",
      "            result[base.chrom][base.pos] = number_of_dels\n",
      "    \n",
      "    with open(output_fn, 'w') as outfile:\n",
      "        for chrom, bases in result.items():\n",
      "            for base, value in bases.items():\n",
      "                outfile.write(\"\\t\".join(map(str, [chrom, base, base + 1, value])) + \"\\n\")\n"
     ],
     "language": "python",
     "metadata": {},
     "outputs": [],
     "prompt_number": 23
    },
    {
     "cell_type": "code",
     "collapsed": false,
     "input": [],
     "language": "python",
     "metadata": {},
     "outputs": []
    }
   ],
   "metadata": {}
  }
 ]
}