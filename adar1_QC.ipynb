{
 "metadata": {
  "name": "",
  "signature": "sha256:1df76e0384a75fd43e834f8da2dd09e6788d7bafe1fc18306aa8ff2a648d68da"
 },
 "nbformat": 3,
 "nbformat_minor": 0,
 "worksheets": [
  {
   "cells": [
    {
     "cell_type": "code",
     "collapsed": false,
     "input": [
      "from gscripts.general import parsers\n",
      "from IPython.core.display import HTML\n",
      "import pandas as pd\n",
      "\n",
      "from gscripts.general import dataviz\n",
      "from gscripts.clipseq import clipseq_barcode_metrics"
     ],
     "language": "python",
     "metadata": {},
     "outputs": [],
     "prompt_number": 9
    },
    {
     "cell_type": "code",
     "collapsed": false,
     "input": [
      "iclip_metrics = parsers.clipseq_metrics(\"/nas3/gpratt/projects/adar1/analysis/v1/\")\n",
      "iclip_metrics = iclip_metrics.ix[['index12', 'index6']]\n",
      "iclip_metrics = iclip_metrics.rename({'index12': 'Wild_type_ADR_1_CLIP', 'index6': 'ds1_2_mutant_ADR_1'})"
     ],
     "language": "python",
     "metadata": {},
     "outputs": [],
     "prompt_number": 40
    },
    {
     "cell_type": "markdown",
     "metadata": {},
     "source": [
      "#Adar1 FastQC Metrics\n",
      "\n",
      "http://sauron.ucsd.edu/4HH/index6.GCCAAT_fastqc/fastqc_report.html -- ds1_2 mutant\n",
      " \n",
      "http://sauron.ucsd.edu/4HH/index12.CTTGTA_fastqc/fastqc_report.html --Wild Type adar1 clip\n",
      "\n",
      "Main Takeaways:\n",
      "----------------\n",
      "The majority of Reads are Primer Dimers in both datasets, and this CLIP is unlikely to work\n",
      "\n",
      "For due dillagance I've mapped and called peaks on the Wild Type and ds1 mutants, mapping and peak calling QC is below"
     ]
    },
    {
     "cell_type": "markdown",
     "metadata": {},
     "source": [
      "#Adar1 Mapping Metrics"
     ]
    },
    {
     "cell_type": "code",
     "collapsed": false,
     "input": [
      "filtered_df = iclip_metrics[[\"Input Reads\", \"Reads Passing Quality Filter\", \"Uniquely Mapped Reads\", \"Usable Reads\", 'Num Peaks']]                            \n",
      "HTML(filtered_df.to_html(formatters={\"Input Reads\" : parsers.commas, \"Reads After Triming\" : parsers.commas,\n",
      "                                     \"Reads Passing Quality Filter\" : parsers.commas, \"Uniquely Mapped Reads\" : parsers.commas,\n",
      "                                     \"Usable Reads\" : parsers.commas, \"Num Peaks\": parsers.commas,} ))"
     ],
     "language": "python",
     "metadata": {},
     "outputs": [
      {
       "html": [
        "<table border=\"1\" class=\"dataframe\">\n",
        "  <thead>\n",
        "    <tr style=\"text-align: right;\">\n",
        "      <th></th>\n",
        "      <th>Input Reads</th>\n",
        "      <th>Reads Passing Quality Filter</th>\n",
        "      <th>Uniquely Mapped Reads</th>\n",
        "      <th>Usable Reads</th>\n",
        "      <th>Num Peaks</th>\n",
        "    </tr>\n",
        "  </thead>\n",
        "  <tbody>\n",
        "    <tr>\n",
        "      <th>Wild_type_ADR_1_CLIP</th>\n",
        "      <td>82,621,817</td>\n",
        "      <td> 81,779,038</td>\n",
        "      <td>   331,276</td>\n",
        "      <td>5,273</td>\n",
        "      <td>16</td>\n",
        "    </tr>\n",
        "    <tr>\n",
        "      <th>ds1_2_mutant_ADR_1</th>\n",
        "      <td>57,144,044</td>\n",
        "      <td> 47,768,030</td>\n",
        "      <td> 2,379,127</td>\n",
        "      <td>5,173</td>\n",
        "      <td> 9</td>\n",
        "    </tr>\n",
        "  </tbody>\n",
        "</table>"
       ],
       "metadata": {},
       "output_type": "pyout",
       "prompt_number": 43,
       "text": [
        "<IPython.core.display.HTML at 0x2aaaac07f590>"
       ]
      }
     ],
     "prompt_number": 43
    },
    {
     "cell_type": "markdown",
     "metadata": {},
     "source": [
      "Main Takeaways:\n",
      "----------------\n",
      "\n",
      "The Majority of Adar1 CLIP-seq reads do not map, due to the large number of primer dimers.  Those that do map are mostly PCR duplicates and removed during barcode collapsing. Leaving peak calling to be performed on 5000 reads.  When peak calling is performed very few peaks are identified (16 and 9).  I would not recommend this data for followup analysis"
     ]
    }
   ],
   "metadata": {}
  }
 ]
}