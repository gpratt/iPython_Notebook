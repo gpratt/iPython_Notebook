{
 "metadata": {
  "name": ""
 },
 "nbformat": 3,
 "nbformat_minor": 0,
 "worksheets": [
  {
   "cells": [
    {
     "cell_type": "code",
     "collapsed": false,
     "input": [
      "from Bio import SeqIO"
     ],
     "language": "python",
     "metadata": {},
     "outputs": [],
     "prompt_number": 1
    },
    {
     "cell_type": "markdown",
     "metadata": {},
     "source": [
      "50_exiqon = RPI1 --> ATCACGNN  \n",
      "100_exiqon = RPI2 --> CGATGTNN  \n",
      "50_PARIS = RPI3 --> TTAGGCNN  \n",
      "100_PARIS = RPI4 --> TGACCANN "
     ]
    },
    {
     "cell_type": "code",
     "collapsed": false,
     "input": [
      "seqs = {\"TGACCAA\" : \"100_PARIS\",\n",
      " \"TTAGGCA\" : \"50_PARIS\",\n",
      " \"CGATGTA\" : \"100_exiqon\",\n",
      " \"ATCACGA\" : \"50_exiqon\"\n",
      "}"
     ],
     "language": "python",
     "metadata": {},
     "outputs": []
    },
    {
     "cell_type": "code",
     "collapsed": false,
     "input": [
      "seqs = {\"TGACCAA\" : [],\n",
      " \"TTAGGCA\" : [],\n",
      " \"CGATGTA\" : [],\n",
      " \"ATCACGA\" : []\n",
      "}"
     ],
     "language": "python",
     "metadata": {},
     "outputs": [],
     "prompt_number": 9
    },
    {
     "cell_type": "code",
     "collapsed": false,
     "input": [
      "undetermined = []\n",
      "for read in SeqIO.parse(open(\"/nas3/gpratt/Undetermined_S0_L001_R1_001.fastq\"), \"fastq\"):\n",
      "    last_seq = str(read[-7:].seq)\n",
      "    if last_seq in seqs:\n",
      "        seqs[last_seq].append(read)\n",
      "    else:\n",
      "        undetermined.append(read)"
     ],
     "language": "python",
     "metadata": {},
     "outputs": [],
     "prompt_number": 11
    },
    {
     "cell_type": "code",
     "collapsed": false,
     "input": [],
     "language": "python",
     "metadata": {},
     "outputs": []
    },
    {
     "cell_type": "code",
     "collapsed": false,
     "input": [
      "str(read[-7:].seq)"
     ],
     "language": "python",
     "metadata": {},
     "outputs": [
      {
       "metadata": {},
       "output_type": "pyout",
       "prompt_number": 8,
       "text": [
        "'AGTCACT'"
       ]
      }
     ],
     "prompt_number": 8
    },
    {
     "cell_type": "code",
     "collapsed": false,
     "input": [
      "len(\"TGACCAN\")"
     ],
     "language": "python",
     "metadata": {},
     "outputs": [
      {
       "metadata": {},
       "output_type": "pyout",
       "prompt_number": 4,
       "text": [
        "7"
       ]
      }
     ],
     "prompt_number": 4
    },
    {
     "cell_type": "code",
     "collapsed": false,
     "input": [
      "for name, fn in seqs.items():\n",
      "    print name, len(fn)"
     ],
     "language": "python",
     "metadata": {},
     "outputs": [
      {
       "output_type": "stream",
       "stream": "stdout",
       "text": [
        "TTAGGCA 17336\n",
        "CGATGTA 190496\n",
        "TGACCAA 1351354\n",
        "ATCACGA 244522\n"
       ]
      }
     ],
     "prompt_number": 12
    },
    {
     "cell_type": "code",
     "collapsed": false,
     "input": [
      "len(undetermined)"
     ],
     "language": "python",
     "metadata": {},
     "outputs": [
      {
       "metadata": {},
       "output_type": "pyout",
       "prompt_number": 13,
       "text": [
        "4656790"
       ]
      }
     ],
     "prompt_number": 13
    },
    {
     "cell_type": "code",
     "collapsed": false,
     "input": [
      "undetermined[0].name"
     ],
     "language": "python",
     "metadata": {},
     "outputs": [
      {
       "metadata": {},
       "output_type": "pyout",
       "prompt_number": 15,
       "text": [
        "'M01356:50:000000000-A46EG:1:1101:16072:1335'"
       ]
      }
     ],
     "prompt_number": 15
    },
    {
     "cell_type": "code",
     "collapsed": false,
     "input": [],
     "language": "python",
     "metadata": {},
     "outputs": []
    }
   ],
   "metadata": {}
  }
 ]
}