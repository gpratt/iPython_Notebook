{
 "metadata": {
  "name": "Structure_Supplemental"
 },
 "nbformat": 3,
 "nbformat_minor": 0,
 "worksheets": [
  {
   "cells": [
    {
     "cell_type": "code",
     "collapsed": false,
     "input": [
      "import pybedtools\n",
      "import numpy as np\n",
      "from scipy import stats\n",
      "from scipy.stats import norm\n",
      "import random\n",
      "from pandas import DataFrame, Series\n",
      "import os\n",
      "pybedtools.set_tempdir(\"/nas/nas0/scratch/gpratt/pybedtools_tmp\")"
     ],
     "language": "python",
     "metadata": {},
     "outputs": [],
     "prompt_number": 2
    },
    {
     "cell_type": "code",
     "collapsed": false,
     "input": [
      "def get_all_overlaps(set1, set2):\n",
      "    set1_by_set2 = {}\n",
      "    set2_by_set1 = {}\n",
      "    for set1Name, set1Element in set1.items():\n",
      "        \n",
      "        set1_lst  = []\n",
      "        set2_lst = []\n",
      "        for set2Name, set2Element in set2.items():\n",
      "            set1_lst.append(len(set1Element.intersect(set2Element, u=True, stream=True)))\n",
      "            set2_lst.append(len(set2Element.intersect(set1Element, u=True, stream=True)))\n",
      "        set1_by_set2[set1Name] = Series(set1_lst, index = set2.keys())\n",
      "        set2_by_set1[set1Name] = Series(set2_lst, index = set2.keys())\n",
      "    \n",
      "    return DataFrame(set1_by_set2), DataFrame(set2_by_set1)\n",
      "\n",
      "#calculate z score x - value, u - sample mean, s - std devation\n",
      "def z_score(x, u, s):\n",
      "    return (x - u) / s\n",
      "\n",
      "import math\n",
      "from scipy.stats import norm\n",
      "rv = norm()\n",
      "#sqrt((sum_x2 / n) - (mean * mean)) \n",
      "def std(array):\n",
      "\n",
      "    result = []\n",
      "    for arr in array:\n",
      "        result.append(pow(arr - mean(array),2))\n",
      "    result = sqrt(sum(result) / 10)\n",
      "\n",
      "    return result"
     ],
     "language": "python",
     "metadata": {},
     "outputs": [],
     "prompt_number": 3
    },
    {
     "cell_type": "markdown",
     "metadata": {},
     "source": [
      "Gets ultra conserved regions "
     ]
    },
    {
     "cell_type": "code",
     "collapsed": false,
     "input": [
      "human_ultraDict = {\n",
      "\"human_ultraProx\" : pybedtools.BedTool(\"/nas3/lovci/projects/conservation/hg19/mammal_cons/ultra_proxintron.filtered_normsk.BED\"),\n",
      "\"human_ultraDist\" : pybedtools.BedTool(\"/nas3/lovci/projects/conservation/hg19/mammal_cons/ultra_distintron.filtered_normsk.BED\"),\n",
      "#\"m6a_T293\"  : pybedtools.BedTool(\"/nas3/gpratt/projects/m6a_analysis/m6a_cell_293T_peaks_cut.bed\")\n",
      "}\n",
      "\n"
     ],
     "language": "python",
     "metadata": {},
     "outputs": [],
     "prompt_number": 3
    },
    {
     "cell_type": "code",
     "collapsed": false,
     "input": [
      "mouse_ultraDict = {\n",
      "\"mouse_ultraProx\" : pybedtools.BedTool(\"/nas3/lovci/projects/conservation/mm9/ultra_proxintron.filtered_normsk.BED\"),\n",
      "\"mouse_ultraDist\" : pybedtools.BedTool(\"/nas3/lovci/projects/conservation/mm9/ultra_distintron.filtered_normsk.BED\"),\n",
      "}"
     ],
     "language": "python",
     "metadata": {},
     "outputs": [
      {
       "output_type": "stream",
       "stream": "stdout",
       "text": [
        "\n"
       ]
      }
     ],
     "prompt_number": 7
    },
    {
     "cell_type": "markdown",
     "metadata": {},
     "source": [
      "Gets all the CLIP clusters we are interested in"
     ]
    },
    {
     "cell_type": "code",
     "collapsed": false,
     "input": [
      "\"\"\"human_CLIPDict = {\n",
      "\"FOX2_human_brain\" : pybedtools.BedTool(\"/nas3/lovci/projects/FOX2/FOX2_human_brain/CLIP/analysis_gsnap/FOX2_human_brain.CLIP.slop.p01.BED\"),\n",
      "\"FOX2_NPC\" : pybedtools.BedTool(\"/nas3/lovci/projects/FOX2/FOX2_NP/CLIP/analysis3/fitted_clusters.BED\"),\n",
      "\"FOX2_ES\"  : pybedtools.BedTool(\"/nas3/lovci/projects/FOX2/FOX2_ES/CLIP/analysis/FOX2_all.BED\"),\n",
      "'LIN28ES'  : pybedtools.BedTool(\"/nas3/mwilbert/projects/LIN28/data/clusters/LIN28ES_09.12_13_10_cluster.1_6_11/LIN28ES_09.hg18.1_6_11_clusters.BED\"),\n",
      "'LIN28v5'  : pybedtools.BedTool(\"/nas3/mwilbert/projects/LIN28/data/clusters/LIN28v5_2010.1_2_11_cluster.1_4_11/LIN28v5_2010.hg18.1_4_11_cluster.BED\"),\n",
      "'AGO1' : pybedtools.BedTool(\"/nas3/gpratt/RBP_peaks/AGO1_par_clusters.liftover_hg19.bed\"),\n",
      "'AGO2' : pybedtools.BedTool(\"/nas3/gpratt/RBP_peaks/AGO2_par_clusters.liftover_hg19.bed\"),\n",
      "'AGO3' : pybedtools.BedTool(\"/nas3/gpratt/RBP_peaks/AGO3_par_clusters.liftover_hg19.bed\"),\n",
      "'AGO4' : pybedtools.BedTool(\"/nas3/gpratt/RBP_peaks/AGO4_par_clusters.liftover_hg19.bed\"),\n",
      "#'AGO_miR24' : pybedtools.BedTool(\"/nas3/gpratt/RBP_peaks/AGO_miR24_par_clusters.liftover_hg19.bed\"),\n",
      "#'AGO_miR7' : pybedtools.BedTool(\"/nas3/gpratt/RBP_peaks/AGO_miR7_par_clusters.liftover_hg19.bed\"),\n",
      "'HNRNPA1CLIP' : pybedtools.BedTool(\"/nas3/gpratt/RBP_peaks/HnRNPA1_comb_trim_ingenes_clusters_hg18150_scored.liftover_hg19.bed\"),\n",
      "'HNRNPA2B1CLIP' : pybedtools.BedTool(\"/nas3/gpratt/RBP_peaks/HnRNPA2B1_comb_trim_ingenes_clusters_hg18150_scored.liftover_hg19.bed\"),\n",
      "'HNRNPFCLIP' : pybedtools.BedTool(\"/nas3/gpratt/RBP_peaks/HnRNPF_comb_trim_ingenes_clusters_hg18150_scored.liftover_hg19.bed\"),\n",
      "'HNRNPH1CLIP' : pybedtools.BedTool(\"/nas3/gpratt/RBP_peaks/HnRNPH_Burge_comb_trim_ingenes_clusters_hg18150_scored.liftover_hg19.bed\"),\n",
      "'HNRNPMCLIP' : pybedtools.BedTool(\"/nas3/gpratt/RBP_peaks/HnRNPM_comb_trim_ingenes_clusters_hg18150_scored.liftover_hg19.bed\"),\n",
      "'HNRNPUCLIP' : pybedtools.BedTool(\"/nas3/gpratt/RBP_peaks/HnRNPU_comb_trim_ingenes_clusters_hg18150_scored.bed\"),\n",
      "'HuR_HeLA_4su_demem' : pybedtools.BedTool(\"/nas3/gpratt/HuR/HuR_HeLa_4su_dmem_binding_sites.bed\"),\n",
      "'HuR_HeLa_4su_silac' : pybedtools.BedTool(\"/nas3/gpratt/HuR/HuR_HeLa_4su_silac_binding_sites.bed\"),\n",
      "'HuR_HeLa_6sg_silac' : pybedtools.BedTool(\"/nas3/gpratt/HuR/HuR_HeLa_6sg_silac_binding_sites.bed\"),\n",
      "}\n",
      "\n",
      "#only allow for regions that intersect with our region of intrest when shuffling\n",
      "for key in human_CLIPDict:\n",
      "    human_CLIPDict[key] = human_CLIPDict[key].intersect(\"/nas3/lovci/projects/structure/hg19/event_detail.BED\", u=True)\n",
      "\"\"\"   \n",
      "mouse_CLIPDict = {\n",
      "'TDP43_1' : pybedtools.BedTool(\"/nas3/gpratt/projects/structure/TDP43/TDB43brain_MP41_1.all_peaks.BED\"),\n",
      "'TDP43_2' : pybedtools.BedTool(\"/nas3/gpratt/projects/structure/TDP43/TDB43brain_MP42_1.all_peaks.BED\"),\n",
      "'FUSTLS'  : pybedtools.BedTool(\"/nas3/gpratt/projects/structure/TLS/TLS_combined.all._peaks.BED\"),\n",
      "'FOX1_brain' : pybedtools.BedTool(\"/nas3/lovci/projects/FOX1/FOX1_mouse_brain/CLIP/analysis_gsnap/FOX1.CLIP_peaks.slop.p01.BED\"),\n",
      "'FOX2_brain' : pybedtools.BedTool(\"/nas3/lovci/projects/FOX2/FOX2_mouse_brain/CLIP/analysis_gsnap/FOX2.CLIP_peaks.slop.p01.BED\"),\n",
      "'FOX2_mouse_heart' : pybedtools.BedTool('/nas3/lovci/projects/FOX2/FOX2_mouse_heart/CLIP/analysis_mm9/mike_clusters_trim/sig_clusters.trim.BED'),\n",
      "#'FOX3_brain' : pybedtools.BedTool(\"/nas3/lovci/projects/FOX3/FOX3_mouse_brain/CLIP/analysis_gsnap/FOX3.CLIP_peaks.slop.p01.BED\"),\n",
      "'NOVA' : pybedtools.BedTool(\"/nas3/lovci/projects/NOVA/NOVA_darnell_mousebrain/CLIP/analysis/dataset_S2_Nova_CLIP_cluster_mm9.bed\"),\n",
      "'TAF15_1'   : pybedtools.BedTool(\"/nas3/gpratt/projects/structure/TAF15/TAF15_195.all_peaks.BED\"),\n",
      "'TAF15_2'   : pybedtools.BedTool(\"/nas3/gpratt/projects/structure/TAF15/TAF15_196.all_peaks.BED\"),\n",
      "}\n",
      "\n",
      "#only allow for regions that intersect with our region of intrest when shuffling\n",
      "for key in mouse_CLIPDict:\n",
      "    mouse_CLIPDict[key] = mouse_CLIPDict[key].intersect(\"/nas3/lovci/projects/structure/mm9/event_detail.BED\", u=True)"
     ],
     "language": "python",
     "metadata": {},
     "outputs": [],
     "prompt_number": 5
    },
    {
     "cell_type": "code",
     "collapsed": false,
     "input": [
      "def get_raw_percents(ultraDict, CLIPDict):\n",
      "    ultra_by_clip, clip_by_ultra = get_all_overlaps(ultraDict, CLIPDict)\n",
      "    print \"# ultra conserved elements that intersect with CLIP-seq data\"\n",
      "    print ultra_by_clip #devide by ultra conserved counts\n",
      "\n",
      "    print \"# CLIP-seq peaks that intersect with ultra conserved elements\"\n",
      "    print clip_by_ultra #devide by clip counts\n",
      "    clip_lens = Series([ len(x) * 1.0 for x in CLIPDict.values() ], index = CLIPDict.keys())\n",
      "    ultra_lens = Series([ len(x) * 1.0 for x in ultraDict.values() ], index= ultraDict.keys()) \n",
      "\n",
      "    print \"# CLIP-seq peaks\"\n",
      "    print clip_lens\n",
      "\n",
      "    print \"# ultra conserved elements\"\n",
      "    print ultra_lens\n",
      "\n",
      "    print \"% ultra conserved elements that intersect with CLIP-seq data\"\n",
      "    ultra_by_clip_fraction = (ultra_by_clip / ultra_lens) * 100\n",
      "    print ultra_by_clip_fraction\n",
      "    print \"% CLIP-seq peaks that intersect with ultra conserved elements\"\n",
      "    clip_by_ultra_fraction =  (clip_by_ultra.T / clip_lens).T * 100\n",
      "    print clip_by_ultra_fraction\n",
      "    return ultra_by_clip, ultra_by_clip_fraction, clip_by_ultra, clip_by_ultra_fraction"
     ],
     "language": "python",
     "metadata": {},
     "outputs": [],
     "prompt_number": 28
    },
    {
     "cell_type": "code",
     "collapsed": false,
     "input": [
      "human_ultra_by_clip, human_ultra_by_clip_fraction, human_clip_by_ultra, human_clip_by_ultra_fraction = get_raw_percents(human_ultraDict, human_CLIPDict)"
     ],
     "language": "python",
     "metadata": {},
     "outputs": [
      {
       "output_type": "stream",
       "stream": "stdout",
       "text": [
        "# ultra conserved elements that intersect with CLIP-seq data\n",
        "                    human_ultraDist  human_ultraProx\n",
        "HNRNPFCLIP                      160               82\n",
        "HuR_HeLA_4su_demem               33                3\n",
        "HNRNPA2B1CLIP                    77               54\n",
        "HuR_HeLa_4su_silac               36                4\n",
        "AGO1                             10               10\n",
        "HuR_HeLa_6sg_silac              118               25\n",
        "HNRNPA1CLIP                      14               23\n",
        "LIN28v5                          55               20\n",
        "LIN28ES                         139               47\n",
        "FOX2_NPC                          0                0\n",
        "HNRNPH1CLIP                     259              251\n",
        "HNRNPMCLIP                      181               31\n",
        "AGO4                              6                2\n",
        "HNRNPUCLIP                      120               25\n",
        "FOX2_human_brain                 81               47\n",
        "FOX2_ES                         104              122\n",
        "AGO3                              0                0\n",
        "AGO2                              3                1"
       ]
      },
      {
       "output_type": "stream",
       "stream": "stdout",
       "text": [
        "\n",
        "# CLIP-seq peaks that intersect with ultra conserved elements\n",
        "                    human_ultraDist  human_ultraProx\n",
        "HNRNPFCLIP                      128               68\n",
        "HuR_HeLA_4su_demem               31                3\n",
        "HNRNPA2B1CLIP                    72               46\n",
        "HuR_HeLa_4su_silac               32                4\n",
        "AGO1                             10                9\n",
        "HuR_HeLa_6sg_silac              108               24\n",
        "HNRNPA1CLIP                      12               14\n",
        "LIN28v5                          49               19\n",
        "LIN28ES                         121               45\n",
        "FOX2_NPC                          0                0\n",
        "HNRNPH1CLIP                     194              191\n",
        "HNRNPMCLIP                       97               20\n",
        "AGO4                              5                2\n",
        "HNRNPUCLIP                       97               22\n",
        "FOX2_human_brain                 61               36\n",
        "FOX2_ES                          89               93\n",
        "AGO3                              0                0\n",
        "AGO2                              3                1\n",
        "# CLIP-seq peaks"
       ]
      },
      {
       "output_type": "stream",
       "stream": "stdout",
       "text": [
        "\n",
        "HNRNPFCLIP            12588\n",
        "HuR_HeLA_4su_demem     3008\n",
        "HNRNPA2B1CLIP          7890\n",
        "HuR_HeLa_4su_silac     4232\n",
        "AGO1                   1071\n",
        "HuR_HeLa_6sg_silac    10532\n",
        "HNRNPA1CLIP            1554\n",
        "LIN28v5                7724\n",
        "LIN28ES               13605\n",
        "FOX2_NPC                  0\n",
        "HNRNPH1CLIP           25974\n",
        "HNRNPMCLIP             3819\n",
        "AGO4                    293\n",
        "HNRNPUCLIP             9091\n",
        "FOX2_human_brain       1705\n",
        "FOX2_ES               10842\n",
        "AGO3                     27\n",
        "AGO2                    196\n",
        "# ultra conserved elements\n",
        "human_ultraProx     50013\n",
        "human_ultraDist    224813\n",
        "% ultra conserved elements that intersect with CLIP-seq data\n",
        "                    human_ultraDist  human_ultraProx\n",
        "HNRNPFCLIP                 0.071170         0.163957\n",
        "HuR_HeLA_4su_demem         0.014679         0.005998\n",
        "HNRNPA2B1CLIP              0.034251         0.107972\n",
        "HuR_HeLa_4su_silac         0.016013         0.007998\n",
        "AGO1                       0.004448         0.019995\n",
        "HuR_HeLa_6sg_silac         0.052488         0.049987\n",
        "HNRNPA1CLIP                0.006227         0.045988\n",
        "LIN28v5                    0.024465         0.039990\n",
        "LIN28ES                    0.061829         0.093976\n",
        "FOX2_NPC                   0.000000         0.000000\n",
        "HNRNPH1CLIP                0.115207         0.501870\n",
        "HNRNPMCLIP                 0.080511         0.061984\n",
        "AGO4                       0.002669         0.003999\n",
        "HNRNPUCLIP                 0.053378         0.049987\n",
        "FOX2_human_brain           0.036030         0.093976\n",
        "FOX2_ES                    0.046261         0.243937\n",
        "AGO3                       0.000000         0.000000\n",
        "AGO2                       0.001334         0.001999\n",
        "% CLIP-seq peaks that intersect with ultra conserved elements\n",
        "                    human_ultraDist  human_ultraProx\n",
        "HNRNPFCLIP                 1.016841         0.540197\n",
        "HuR_HeLA_4su_demem         1.030585         0.099734\n",
        "HNRNPA2B1CLIP              0.912548         0.583016\n",
        "HuR_HeLa_4su_silac         0.756144         0.094518\n",
        "AGO1                       0.933707         0.840336\n",
        "HuR_HeLa_6sg_silac         1.025446         0.227877\n",
        "HNRNPA1CLIP                0.772201         0.900901\n",
        "LIN28v5                    0.634386         0.245987\n",
        "LIN28ES                    0.889379         0.330761\n",
        "FOX2_NPC                        NaN              NaN\n",
        "HNRNPH1CLIP                0.746901         0.735351\n",
        "HNRNPMCLIP                 2.539932         0.523697\n",
        "AGO4                       1.706485         0.682594\n",
        "HNRNPUCLIP                 1.066989         0.241998\n",
        "FOX2_human_brain           3.577713         2.111437\n",
        "FOX2_ES                    0.820882         0.857775\n",
        "AGO3                       0.000000         0.000000\n",
        "AGO2                       1.530612         0.510204\n"
       ]
      }
     ],
     "prompt_number": 6
    },
    {
     "cell_type": "code",
     "collapsed": false,
     "input": [
      "mouse_ultra_by_clip, mouse_ultra_by_clip_fraction, mouse_clip_by_ultra, mouse_clip_by_ultra_fraction = get_raw_percents(mouse_ultraDict, mouse_CLIPDict)"
     ],
     "language": "python",
     "metadata": {},
     "outputs": [
      {
       "output_type": "stream",
       "stream": "stdout",
       "text": [
        "# ultra conserved elements that intersect with CLIP-seq data\n",
        "                  mouse_ultraDist  mouse_ultraProx\n",
        "FOX1_brain                    171              160\n",
        "TAF15_1                       689              306\n",
        "FOX2_mouse_heart              776             1581\n",
        "TAF15_2                       558              237\n",
        "TDP43_1                      2041              569\n",
        "TDP43_2                      2865              639\n",
        "FOX2_brain                    166              147\n",
        "NOVA                         3993             2624\n",
        "FUSTLS                      17040             9039\n",
        "# CLIP-seq peaks that intersect with ultra conserved elements\n",
        "                  mouse_ultraDist  mouse_ultraProx\n",
        "FOX1_brain                    143              130\n",
        "TAF15_1                       535              254\n",
        "FOX2_mouse_heart              607             1375\n",
        "TAF15_2                       436              216\n",
        "TDP43_1                      1890              550\n",
        "TDP43_2                      2561              613\n",
        "FOX2_brain                    130              130\n",
        "NOVA                         3357             2285\n",
        "FUSTLS                      20359            10052\n",
        "# CLIP-seq peaks"
       ]
      },
      {
       "output_type": "stream",
       "stream": "stdout",
       "text": [
        "\n",
        "FOX1_brain             7241\n",
        "TAF15_1               14147\n",
        "FOX2_mouse_heart      21248\n",
        "TAF15_2               13490\n",
        "TDP43_1              118582\n",
        "TDP43_2              139680\n",
        "FOX2_brain             5816\n",
        "NOVA                 155267\n",
        "FUSTLS              1013356\n",
        "# ultra conserved elements\n",
        "mouse_ultraDist    229383\n",
        "mouse_ultraProx    194769\n",
        "% ultra conserved elements that intersect with CLIP-seq data\n",
        "                  mouse_ultraDist  mouse_ultraProx\n",
        "FOX1_brain               0.074548         0.082149\n",
        "TAF15_1                  0.300371         0.157109\n",
        "FOX2_mouse_heart         0.338299         0.811731\n",
        "TAF15_2                  0.243261         0.121683\n",
        "TDP43_1                  0.889778         0.292141\n",
        "TDP43_2                  1.249003         0.328081\n",
        "FOX2_brain               0.072368         0.075474\n",
        "NOVA                     1.740757         1.347237\n",
        "FUSTLS                   7.428624         4.640882\n",
        "% CLIP-seq peaks that intersect with ultra conserved elements\n",
        "                  mouse_ultraDist  mouse_ultraProx\n",
        "FOX1_brain               1.974865         1.795332\n",
        "TAF15_1                  3.781721         1.795434\n",
        "FOX2_mouse_heart         2.856739         6.471197\n",
        "TAF15_2                  3.232024         1.601186\n",
        "TDP43_1                  1.593834         0.463814\n",
        "TDP43_2                  1.833477         0.438860\n",
        "FOX2_brain               2.235213         2.235213\n",
        "NOVA                     2.162082         1.471658\n",
        "FUSTLS                   2.009067         0.991951\n"
       ]
      }
     ],
     "prompt_number": 29
    },
    {
     "cell_type": "code",
     "collapsed": false,
     "input": [
      "def shuffleBedTool(name, bedtool):\n",
      "    \"\"\"\n",
      "    shuffles a bed tool keeping the number of elements in distal and proximal introns the same,\n",
      "    IMPORTANT: Returns handle to bedtool, but also saves result as shuffling is time consuming\n",
      "\n",
      "    file is saved as name_shuffled.bed\n",
      "    \"\"\"\n",
      "    \n",
      "    #exit if the file has already been made\n",
      "    if os.path.exists(name + \"_shuffled.bed\"):\n",
      "        return None\n",
      "    \n",
      "    #gets the prox elements\n",
      "    try:\n",
      "        prox_elements = bedtool.intersect(\"/nas3/gpratt/projects/structure/prox_event_detail.BED\", u=True)\n",
      "        \n",
      "        #removes elements that overlap with both prox and distal (assigns them to to prox)\n",
      "        not_prox_elements = bedtool.intersect(\"/nas3/gpratt/projects/structure/prox_event_detail.BED\", v=True)\n",
      "     \n",
      "        #gets distal elements\n",
      "        dist_elements = not_prox_elements.intersect(\"/nas3/gpratt/projects/structure/dist_event_detail.BED\", u=True)\n",
      "         \n",
      "        #shuffles seperatly\n",
      "        shuffled_prox = prox_elements.shuffle(g=\"/nas3/gpratt/ens/hg19.genome\", incl=\"/nas3/gpratt/projects/structure/prox_event_detail.BED\")\n",
      "        shuffled_dist = dist_elements.shuffle(g=\"/nas3/gpratt/ens/hg19.genome\", incl=\"/nas3/gpratt/projects/structure/dist_event_detail.BED\")\n",
      "        \n",
      "        \n",
      "        #saves result file\n",
      "        return_value =  shuffled_prox.cat(shuffled_dist, postmerge=False).saveas(name + \"_shuffled.bed\")\n",
      "        del prox_elements\n",
      "        del not_prox_elements\n",
      "        del dist_elements\n",
      "        del shuffled_prox\n",
      "        del shuffled_dist\n",
      "        del return_value\n",
      "        \n",
      "    except Exception as e :\n",
      "        print \"error occured, ignoring\", e \n",
      "    \n",
      "#shuffles 10 times, very expensive, only run if you haven't generated data yet\n",
      "#shuffle 10 times\n",
      "def shuffle_dicts(ultraDict, CLIPDict):\n",
      "    for x in range(10):\n",
      "        shuffled_ultraDict = {}\n",
      "        for ultraName, ultraElement in ultraDict.items():\n",
      "            shuffleBedTool(ultraName + str(x), ultraElement)\n",
      "            \n",
      "        shuffled_CLIPDict = {}\n",
      "        for CLIPName, CLIPElement in CLIPDict.items():\n",
      "            shuffleBedTool(CLIPName + str(x), CLIPElement)"
     ],
     "language": "python",
     "metadata": {},
     "outputs": [],
     "prompt_number": 9
    },
    {
     "cell_type": "markdown",
     "metadata": {},
     "source": [
      "\n",
      "The above results come about because of the remove of overlaps, otherwise they should be the same, I think..."
     ]
    },
    {
     "cell_type": "markdown",
     "metadata": {},
     "source": [
      "Shuffling code, shuffles 10 times (right now) and records all intersection results\n",
      "\n",
      "/nas3/lovci/projects/structure/hg19/event_detail.BED all the distal and proximal regions, well shuffle through this initially \n",
      "\n",
      "grep out distal and proximal regions\n",
      "grep Prox event_detail.BED > prox_event_detail.BED\n",
      "grep Dist event_detail.BED > dist_event_detail.BED\n",
      "split ultra conserved elements into distal and proximal regions\n",
      "shuffle ultra conserved regions in distal and proxaiml regions\n",
      "recombine \n",
      "save\n",
      "\n",
      "do the same thing for clip items\n",
      "\n",
      "THEN generate stats"
     ]
    },
    {
     "cell_type": "code",
     "collapsed": false,
     "input": [
      "shuffle_dicts(human_ultraDict, human_CLIPDict)"
     ],
     "language": "python",
     "metadata": {},
     "outputs": [
      {
       "output_type": "stream",
       "stream": "stderr",
       "text": [
        "\n",
        "Command was:\n",
        "\n",
        "\tintersectBed -a /nas/nas0/scratch/gpratt/pybedtools_tmp/pybedtools.ExRAjv.tmp -b /nas3/gpratt/projects/structure/prox_event_detail.BED -u\n",
        "\n",
        "Error message was:\n",
        "Error: The requested bed file (/nas/nas0/scratch/gpratt/pybedtools_tmp/pybedtools.ExRAjv.tmp) could not be opened. Exiting!\n",
        "\n",
        "Command was:\n",
        "\n",
        "\tintersectBed -a /nas/nas0/scratch/gpratt/pybedtools_tmp/pybedtools.ExRAjv.tmp -b /nas3/gpratt/projects/structure/prox_event_detail.BED -u\n"
       ]
      },
      {
       "output_type": "stream",
       "stream": "stdout",
       "text": [
        "error occured, ignoring ('Error message from BEDTools written to stderr, above', 'Error: The requested bed file (/nas/nas0/scratch/gpratt/pybedtools_tmp/pybedtools.ExRAjv.tmp) could not be opened. Exiting!\\n')\n",
        "error occured, ignoring"
       ]
      },
      {
       "output_type": "stream",
       "stream": "stderr",
       "text": [
        "\n",
        "Error message was:\n",
        "Error: The requested bed file (/nas/nas0/scratch/gpratt/pybedtools_tmp/pybedtools.ExRAjv.tmp) could not be opened. Exiting!\n",
        "\n",
        "Command was:\n",
        "\n",
        "\tintersectBed -a /nas/nas0/scratch/gpratt/pybedtools_tmp/pybedtools.ExRAjv.tmp -b /nas3/gpratt/projects/structure/prox_event_detail.BED -u\n"
       ]
      },
      {
       "output_type": "stream",
       "stream": "stdout",
       "text": [
        " ('Error message from BEDTools written to stderr, above', 'Error: The requested bed file (/nas/nas0/scratch/gpratt/pybedtools_tmp/pybedtools.ExRAjv.tmp) could not be opened. Exiting!\\n')\n",
        "error occured, ignoring"
       ]
      },
      {
       "output_type": "stream",
       "stream": "stderr",
       "text": [
        "\n",
        "Error message was:\n",
        "Error: The requested bed file (/nas/nas0/scratch/gpratt/pybedtools_tmp/pybedtools.ExRAjv.tmp) could not be opened. Exiting!\n",
        "\n",
        "Command was:\n",
        "\n",
        "\tintersectBed -a /nas/nas0/scratch/gpratt/pybedtools_tmp/pybedtools.ExRAjv.tmp -b /nas3/gpratt/projects/structure/prox_event_detail.BED -u\n"
       ]
      },
      {
       "output_type": "stream",
       "stream": "stdout",
       "text": [
        " ('Error message from BEDTools written to stderr, above', 'Error: The requested bed file (/nas/nas0/scratch/gpratt/pybedtools_tmp/pybedtools.ExRAjv.tmp) could not be opened. Exiting!\\n')\n",
        "error occured, ignoring"
       ]
      },
      {
       "output_type": "stream",
       "stream": "stderr",
       "text": [
        "\n",
        "Error message was:\n",
        "Error: The requested bed file (/nas/nas0/scratch/gpratt/pybedtools_tmp/pybedtools.ExRAjv.tmp) could not be opened. Exiting!\n",
        "\n",
        "Command was:\n",
        "\n",
        "\tintersectBed -a /nas/nas0/scratch/gpratt/pybedtools_tmp/pybedtools.ExRAjv.tmp -b /nas3/gpratt/projects/structure/prox_event_detail.BED -u\n"
       ]
      },
      {
       "output_type": "stream",
       "stream": "stdout",
       "text": [
        " ('Error message from BEDTools written to stderr, above', 'Error: The requested bed file (/nas/nas0/scratch/gpratt/pybedtools_tmp/pybedtools.ExRAjv.tmp) could not be opened. Exiting!\\n')\n",
        "error occured, ignoring"
       ]
      },
      {
       "output_type": "stream",
       "stream": "stderr",
       "text": [
        "\n",
        "Error message was:\n",
        "Error: The requested bed file (/nas/nas0/scratch/gpratt/pybedtools_tmp/pybedtools.ExRAjv.tmp) could not be opened. Exiting!\n",
        "\n",
        "Command was:\n",
        "\n",
        "\tintersectBed -a /nas/nas0/scratch/gpratt/pybedtools_tmp/pybedtools.ExRAjv.tmp -b /nas3/gpratt/projects/structure/prox_event_detail.BED -u\n"
       ]
      },
      {
       "output_type": "stream",
       "stream": "stdout",
       "text": [
        " ('Error message from BEDTools written to stderr, above', 'Error: The requested bed file (/nas/nas0/scratch/gpratt/pybedtools_tmp/pybedtools.ExRAjv.tmp) could not be opened. Exiting!\\n')\n",
        "error occured, ignoring"
       ]
      },
      {
       "output_type": "stream",
       "stream": "stderr",
       "text": [
        "\n",
        "Error message was:\n",
        "Error: The requested bed file (/nas/nas0/scratch/gpratt/pybedtools_tmp/pybedtools.ExRAjv.tmp) could not be opened. Exiting!\n",
        "\n",
        "Command was:\n",
        "\n",
        "\tintersectBed -a /nas/nas0/scratch/gpratt/pybedtools_tmp/pybedtools.ExRAjv.tmp -b /nas3/gpratt/projects/structure/prox_event_detail.BED -u\n"
       ]
      },
      {
       "output_type": "stream",
       "stream": "stdout",
       "text": [
        " ('Error message from BEDTools written to stderr, above', 'Error: The requested bed file (/nas/nas0/scratch/gpratt/pybedtools_tmp/pybedtools.ExRAjv.tmp) could not be opened. Exiting!\\n')\n",
        "error occured, ignoring"
       ]
      },
      {
       "output_type": "stream",
       "stream": "stderr",
       "text": [
        "\n",
        "Error message was:\n",
        "Error: The requested bed file (/nas/nas0/scratch/gpratt/pybedtools_tmp/pybedtools.ExRAjv.tmp) could not be opened. Exiting!\n",
        "\n",
        "Command was:\n",
        "\n",
        "\tintersectBed -a /nas/nas0/scratch/gpratt/pybedtools_tmp/pybedtools.ExRAjv.tmp -b /nas3/gpratt/projects/structure/prox_event_detail.BED -u\n"
       ]
      },
      {
       "output_type": "stream",
       "stream": "stdout",
       "text": [
        " ('Error message from BEDTools written to stderr, above', 'Error: The requested bed file (/nas/nas0/scratch/gpratt/pybedtools_tmp/pybedtools.ExRAjv.tmp) could not be opened. Exiting!\\n')\n",
        "error occured, ignoring"
       ]
      },
      {
       "output_type": "stream",
       "stream": "stderr",
       "text": [
        "\n",
        "Error message was:\n",
        "Error: The requested bed file (/nas/nas0/scratch/gpratt/pybedtools_tmp/pybedtools.ExRAjv.tmp) could not be opened. Exiting!\n",
        "\n",
        "Command was:\n",
        "\n",
        "\tintersectBed -a /nas/nas0/scratch/gpratt/pybedtools_tmp/pybedtools.ExRAjv.tmp -b /nas3/gpratt/projects/structure/prox_event_detail.BED -u\n"
       ]
      },
      {
       "output_type": "stream",
       "stream": "stdout",
       "text": [
        " ('Error message from BEDTools written to stderr, above', 'Error: The requested bed file (/nas/nas0/scratch/gpratt/pybedtools_tmp/pybedtools.ExRAjv.tmp) could not be opened. Exiting!\\n')\n",
        "error occured, ignoring"
       ]
      },
      {
       "output_type": "stream",
       "stream": "stderr",
       "text": [
        "\n",
        "Error message was:\n",
        "Error: The requested bed file (/nas/nas0/scratch/gpratt/pybedtools_tmp/pybedtools.ExRAjv.tmp) could not be opened. Exiting!\n",
        "\n",
        "Command was:\n",
        "\n",
        "\tintersectBed -a /nas/nas0/scratch/gpratt/pybedtools_tmp/pybedtools.ExRAjv.tmp -b /nas3/gpratt/projects/structure/prox_event_detail.BED -u\n"
       ]
      },
      {
       "output_type": "stream",
       "stream": "stdout",
       "text": [
        " ('Error message from BEDTools written to stderr, above', 'Error: The requested bed file (/nas/nas0/scratch/gpratt/pybedtools_tmp/pybedtools.ExRAjv.tmp) could not be opened. Exiting!\\n')\n",
        "error occured, ignoring"
       ]
      },
      {
       "output_type": "stream",
       "stream": "stdout",
       "text": [
        " ('Error message from BEDTools written to stderr, above', 'Error: The requested bed file (/nas/nas0/scratch/gpratt/pybedtools_tmp/pybedtools.ExRAjv.tmp) could not be opened. Exiting!\\n')\n"
       ]
      },
      {
       "output_type": "stream",
       "stream": "stderr",
       "text": [
        "\n",
        "Error message was:\n",
        "Error: The requested bed file (/nas/nas0/scratch/gpratt/pybedtools_tmp/pybedtools.ExRAjv.tmp) could not be opened. Exiting!\n"
       ]
      }
     ],
     "prompt_number": 10
    },
    {
     "cell_type": "code",
     "collapsed": false,
     "input": [
      "shuffle_dicts(mouse_ultraDict, mouse_CLIPDict)"
     ],
     "language": "python",
     "metadata": {},
     "outputs": [],
     "prompt_number": 11
    },
    {
     "cell_type": "code",
     "collapsed": false,
     "input": [
      "#this is a bit hacky, but its better than nothing, consier converting to dict for true\n",
      "#clean ness\n",
      "\n",
      "def get_shuffled_lists(ultraDict, CLIPDict):\n",
      "    print \"bar\"\n",
      "    shuffled_lists = {\"shuffledUltra_by_clip\" : [],\n",
      "                      \"clip_by_shuffledUltra\" : [],\n",
      "                      \"ultra_by_shuffledClip\" : [],\n",
      "                      \"shuffledClip_by_ultra\" : [],\n",
      "                      \"shuffledUltra_by_shuffledClip\" : [],\n",
      "                      \"shuffledClip_by_shuffledUltra\" : []}\n",
      "    \n",
      "    for x in range(10):\n",
      "            print x\n",
      "            shuffled_ultraDict = {}\n",
      "            for ultraName, ultraElement in ultraDict.items():\n",
      "                shuffled_ultraDict[ultraName] = pybedtools.BedTool(ultraName + str(x) + \"_shuffled.bed\")\n",
      "            \n",
      "            shuffled_CLIPDict = {}\n",
      "            for CLIPName, CLIPElement in CLIPDict.items():\n",
      "                try:\n",
      "                    shuffled_CLIPDict[CLIPName] = pybedtools.BedTool(CLIPName + str(x) + \"_shuffled.bed\")\n",
      "                except:\n",
      "                    pass\n",
      "            current_shuffledUltra_by_clip, current_clip_by_shuffledUltra = get_all_overlaps(shuffled_ultraDict, CLIPDict)\n",
      "            current_ultra_by_shuffledClip, current_shuffledClip_by_ultra  = get_all_overlaps(ultraDict, shuffled_CLIPDict)\n",
      "            current_shuffledUltra_by_shuffledClip, current_shuffledClip_by_shuffledUltra = get_all_overlaps(shuffled_ultraDict, shuffled_CLIPDict)\n",
      "            \n",
      "            shuffled_lists[\"shuffledUltra_by_clip\"].append(current_shuffledUltra_by_clip)\n",
      "            shuffled_lists[\"clip_by_shuffledUltra\"].append(current_clip_by_shuffledUltra)\n",
      "            shuffled_lists[\"ultra_by_shuffledClip\"].append(current_ultra_by_shuffledClip)\n",
      "            shuffled_lists[\"shuffledClip_by_ultra\"].append(current_shuffledClip_by_ultra)\n",
      "            shuffled_lists[\"shuffledUltra_by_shuffledClip\"].append(current_shuffledUltra_by_shuffledClip)\n",
      "            shuffled_lists[\"shuffledClip_by_shuffledUltra\"].append(current_shuffledClip_by_shuffledUltra)\n",
      " \n",
      "    return shuffled_lists\n",
      "            \n",
      "def get_z_scores(shuffled_lists, ultra_by_clip, clip_by_ultra):\n",
      " \n",
      "    shuffledUltra_by_clip_z = z_score(ultra_by_clip, mean(shuffled_lists[\"shuffledUltra_by_clip\"]), std(shuffled_lists[\"shuffledUltra_by_clip\"]))\n",
      "    #print shuffledUltra_by_clip_z\n",
      "    #print (rv.pdf(shuffledUltra_by_clip_z) < .05)\n",
      "\n",
      "    ultra_by_shuffledClip_z = z_score(ultra_by_clip, mean(shuffled_lists[\"ultra_by_shuffledClip\"]), std(shuffled_lists[\"ultra_by_shuffledClip\"]))\n",
      "    #print ultra_by_shuffledClip_z\n",
      "    #print (rv.pdf(ultra_by_shuffledClip_z) < .05)\n",
      "\n",
      "    shuffledUltra_by_shuffledClip_z = z_score(ultra_by_clip, mean(shuffled_lists[\"shuffledUltra_by_shuffledClip\"]), std(shuffled_lists[\"shuffledUltra_by_shuffledClip\"]))\n",
      "    #print shuffledUltra_by_shuffledClip_z\n",
      "    #print (rv.pdf(shuffledUltra_by_shuffledClip_z) < .05)\n",
      "\n",
      "    clip_by_shuffledUltra_z = z_score(clip_by_ultra, mean(shuffled_lists[\"clip_by_shuffledUltra\"]), std(shuffled_lists[\"clip_by_shuffledUltra\"]))\n",
      "    #print clip_by_shuffledUltra_z\n",
      "    #print (rv.pdf(clip_by_shuffledUltra_z) < .05)\n",
      "\n",
      "    shuffledClip_by_ultra_z = z_score(clip_by_ultra, mean(shuffled_lists[\"shuffledClip_by_ultra\"]), std(shuffled_lists[\"shuffledClip_by_ultra\"]))\n",
      "    #print shuffledClip_by_ultra_z\n",
      "    #print (rv.pdf(shuffledClip_by_ultra_z) < .05)\n",
      "\n",
      "    shuffledClip_by_shuffledUltra_z = z_score(clip_by_ultra, mean(shuffled_lists[\"shuffledClip_by_shuffledUltra\"]), std(shuffled_lists[\"shuffledClip_by_shuffledUltra\"]))\n",
      "    #print shuffledClip_by_shuffledUltra_z\n",
      "    #print (rv.pdf(shuffledClip_by_shuffledUltra_z) < .05)\n",
      "    return shuffledUltra_by_clip_z, ultra_by_shuffledClip_z, shuffledUltra_by_shuffledClip_z, clip_by_shuffledUltra_z, shuffledClip_by_ultra_z, shuffledClip_by_shuffledUltra_z"
     ],
     "language": "python",
     "metadata": {},
     "outputs": [],
     "prompt_number": 22
    },
    {
     "cell_type": "markdown",
     "metadata": {},
     "source": [
      "Calculate the stats "
     ]
    },
    {
     "cell_type": "code",
     "collapsed": false,
     "input": [
      "print \"Foo\""
     ],
     "language": "python",
     "metadata": {},
     "outputs": [
      {
       "output_type": "stream",
       "stream": "stdout",
       "text": [
        "Foo\n"
       ]
      }
     ],
     "prompt_number": 10
    },
    {
     "cell_type": "code",
     "collapsed": false,
     "input": [
      "print \"foo\"\n",
      "human_shuffled_lists = get_shuffled_lists(human_ultraDict, human_CLIPDict)\n",
      "human_shuffledUltra_by_clip_z, human_ultra_by_shuffledClip_z, human_shuffledUltra_by_shuffledClip_z, human_clip_by_shuffledUltra_z, human_shuffledClip_by_ultra_z, human_shuffledClip_by_shuffledUltra_z = get_z_scores(human_shuffled_lists, human_ultra_by_clip, human_clip_by_ultra)"
     ],
     "language": "python",
     "metadata": {},
     "outputs": [
      {
       "output_type": "stream",
       "stream": "stdout",
       "text": [
        "foo\n",
        "0\n",
        "1"
       ]
      },
      {
       "output_type": "stream",
       "stream": "stdout",
       "text": [
        "\n",
        "2"
       ]
      },
      {
       "output_type": "stream",
       "stream": "stdout",
       "text": [
        "\n",
        "3"
       ]
      },
      {
       "output_type": "stream",
       "stream": "stdout",
       "text": [
        "\n",
        "4"
       ]
      },
      {
       "output_type": "stream",
       "stream": "stdout",
       "text": [
        "\n",
        "5"
       ]
      },
      {
       "output_type": "stream",
       "stream": "stdout",
       "text": [
        "\n",
        "6"
       ]
      },
      {
       "output_type": "stream",
       "stream": "stdout",
       "text": [
        "\n",
        "7"
       ]
      },
      {
       "output_type": "stream",
       "stream": "stdout",
       "text": [
        "\n",
        "8"
       ]
      },
      {
       "output_type": "stream",
       "stream": "stdout",
       "text": [
        "\n",
        "9"
       ]
      },
      {
       "output_type": "stream",
       "stream": "stdout",
       "text": [
        "\n"
       ]
      }
     ],
     "prompt_number": 11
    },
    {
     "cell_type": "code",
     "collapsed": false,
     "input": [
      "human_shuffled_lists"
     ],
     "language": "python",
     "metadata": {},
     "outputs": [
      {
       "ename": "NameError",
       "evalue": "name 'human_shuffled_lists' is not defined",
       "output_type": "pyerr",
       "traceback": [
        "\u001b[1;31m---------------------------------------------------------------------------\u001b[0m\n\u001b[1;31mNameError\u001b[0m                                 Traceback (most recent call last)",
        "\u001b[1;32m<ipython-input-25-9d13d9597e48>\u001b[0m in \u001b[0;36m<module>\u001b[1;34m()\u001b[0m\n\u001b[1;32m----> 1\u001b[1;33m \u001b[0mhuman_shuffled_lists\u001b[0m\u001b[1;33m\u001b[0m\u001b[0m\n\u001b[0m",
        "\u001b[1;31mNameError\u001b[0m: name 'human_shuffled_lists' is not defined"
       ]
      }
     ],
     "prompt_number": 25
    },
    {
     "cell_type": "code",
     "collapsed": false,
     "input": [
      "print human_shuffled_lists[\"clip_by_shuffledUltra\"]"
     ],
     "language": "python",
     "metadata": {},
     "outputs": [
      {
       "output_type": "stream",
       "stream": "stdout",
       "text": [
        "[                    human_ultraDist  human_ultraProx\n",
        "HNRNPFCLIP                      188               49\n",
        "HuR_HeLA_4su_demem               29                7\n",
        "HNRNPA2B1CLIP                   110               24\n",
        "HuR_HeLa_4su_silac               42                9\n",
        "AGO1                             21               14\n",
        "HuR_HeLa_6sg_silac              163               36\n",
        "HNRNPA1CLIP                      63               15\n",
        "LIN28v5                         105               23\n",
        "LIN28ES                         196               44\n",
        "FOX2_NPC                          0                0\n",
        "HNRNPH1CLIP                     885              239\n",
        "HNRNPMCLIP                      108               13\n",
        "AGO4                              1                2\n",
        "HNRNPUCLIP                      134               21\n",
        "FOX2_human_brain                 40                4\n",
        "FOX2_ES                         226               64\n",
        "AGO3                              0                0\n",
        "AGO2                              2                3,                     human_ultraDist  human_ultraProx\n",
        "HNRNPFCLIP                      165               38\n",
        "HuR_HeLA_4su_demem               35                4\n",
        "HNRNPA2B1CLIP                   126               26\n",
        "HuR_HeLa_4su_silac               49                7\n",
        "AGO1                             16               14\n",
        "HuR_HeLa_6sg_silac              158               42\n",
        "HNRNPA1CLIP                      69               14\n",
        "LIN28v5                         120               19\n",
        "LIN28ES                         198               36\n",
        "FOX2_NPC                          0                0\n",
        "HNRNPH1CLIP                     872              248\n",
        "HNRNPMCLIP                       95               20\n",
        "AGO4                              1                0\n",
        "HNRNPUCLIP                      120               21\n",
        "FOX2_human_brain                 34               10\n",
        "FOX2_ES                         179               54\n",
        "AGO3                              2                0\n",
        "AGO2                              0                0,                     human_ultraDist  human_ultraProx\n",
        "HNRNPFCLIP                      170               51\n",
        "HuR_HeLA_4su_demem               34               10\n",
        "HNRNPA2B1CLIP                   117               23\n",
        "HuR_HeLa_4su_silac               47               10\n",
        "AGO1                             12               11\n",
        "HuR_HeLa_6sg_silac              161               40\n",
        "HNRNPA1CLIP                      70               20\n",
        "LIN28v5                         106               30\n",
        "LIN28ES                         205               55\n",
        "FOX2_NPC                          0                0\n",
        "HNRNPH1CLIP                     906              244\n",
        "HNRNPMCLIP                       94               14\n",
        "AGO4                              5                4\n",
        "HNRNPUCLIP                      126               28\n",
        "FOX2_human_brain                 43                7\n",
        "FOX2_ES                         203               49\n",
        "AGO3                              0                0\n",
        "AGO2                              2                1,                     human_ultraDist  human_ultraProx\n",
        "HNRNPFCLIP                      169               61\n",
        "HuR_HeLA_4su_demem               36                6\n",
        "HNRNPA2B1CLIP                   125               14\n",
        "HuR_HeLa_4su_silac               46               13\n",
        "AGO1                             12               11\n",
        "HuR_HeLa_6sg_silac              161               26\n",
        "HNRNPA1CLIP                      64               17\n",
        "LIN28v5                         121               25\n",
        "LIN28ES                         222               48\n",
        "FOX2_NPC                          0                0\n",
        "HNRNPH1CLIP                     880              237\n",
        "HNRNPMCLIP                       98               20\n",
        "AGO4                              3                0\n",
        "HNRNPUCLIP                      119               22\n",
        "FOX2_human_brain                 41               13\n",
        "FOX2_ES                         205               53\n",
        "AGO3                              1                0\n",
        "AGO2                              1                1,                     human_ultraDist  human_ultraProx\n",
        "HNRNPFCLIP                      153               48\n",
        "HuR_HeLA_4su_demem               36                8\n",
        "HNRNPA2B1CLIP                   106               17\n",
        "HuR_HeLa_4su_silac               45                9\n",
        "AGO1                             25                9\n",
        "HuR_HeLa_6sg_silac              154               33\n",
        "HNRNPA1CLIP                      63               12\n",
        "LIN28v5                         127               28\n",
        "LIN28ES                         222               44\n",
        "FOX2_NPC                          0                0\n",
        "HNRNPH1CLIP                     875              239\n",
        "HNRNPMCLIP                      100               13\n",
        "AGO4                              2                0\n",
        "HNRNPUCLIP                      121               30\n",
        "FOX2_human_brain                 30                8\n",
        "FOX2_ES                         213               53\n",
        "AGO3                              0                0\n",
        "AGO2                              2                1,                     human_ultraDist  human_ultraProx\n",
        "HNRNPFCLIP                      165               49\n",
        "HuR_HeLA_4su_demem               38                6\n",
        "HNRNPA2B1CLIP                   113               28\n",
        "HuR_HeLa_4su_silac               46                6\n",
        "AGO1                             13                7\n",
        "HuR_HeLa_6sg_silac              157               32\n",
        "HNRNPA1CLIP                      80               15\n",
        "LIN28v5                          92               23\n",
        "LIN28ES                         201               47\n",
        "FOX2_NPC                          0                0\n",
        "HNRNPH1CLIP                     864              244\n",
        "HNRNPMCLIP                      101               22\n",
        "AGO4                              3                5\n",
        "HNRNPUCLIP                      106               19\n",
        "FOX2_human_brain                 35                8\n",
        "FOX2_ES                         197               52\n",
        "AGO3                              0                0\n",
        "AGO2                              2                2,                     human_ultraDist  human_ultraProx\n",
        "HNRNPFCLIP                      166               47\n",
        "HuR_HeLA_4su_demem               41                7\n",
        "HNRNPA2B1CLIP                   128               27\n",
        "HuR_HeLa_4su_silac               51                8\n",
        "AGO1                             19               18\n",
        "HuR_HeLa_6sg_silac              147               37\n",
        "HNRNPA1CLIP                      67               14\n",
        "LIN28v5                         122               17\n",
        "LIN28ES                         198               37\n",
        "FOX2_NPC                          0                0\n",
        "HNRNPH1CLIP                     866              245\n",
        "HNRNPMCLIP                       93               18\n",
        "AGO4                              4                4\n",
        "HNRNPUCLIP                      119               23\n",
        "FOX2_human_brain                 44               15\n",
        "FOX2_ES                         217               64\n",
        "AGO3                              1                1\n",
        "AGO2                              2                0,                     human_ultraDist  human_ultraProx\n",
        "HNRNPFCLIP                      176               59\n",
        "HuR_HeLA_4su_demem               32                4\n",
        "HNRNPA2B1CLIP                   116               25\n",
        "HuR_HeLa_4su_silac               51                9\n",
        "AGO1                             19                9\n",
        "HuR_HeLa_6sg_silac              139               41\n",
        "HNRNPA1CLIP                      65               13\n",
        "LIN28v5                          85               21\n",
        "LIN28ES                         191               39\n",
        "FOX2_NPC                          0                0\n",
        "HNRNPH1CLIP                     846              241\n",
        "HNRNPMCLIP                       91               10\n",
        "AGO4                              2                2\n",
        "HNRNPUCLIP                      103               31\n",
        "FOX2_human_brain                 35               12\n",
        "FOX2_ES                         214               62\n",
        "AGO3                              0                0\n",
        "AGO2                              3                0,                     human_ultraDist  human_ultraProx\n",
        "HNRNPFCLIP                      180               57\n",
        "HuR_HeLA_4su_demem               30                6\n",
        "HNRNPA2B1CLIP                   136               29\n",
        "HuR_HeLa_4su_silac               50               11\n",
        "AGO1                             21                8\n",
        "HuR_HeLa_6sg_silac              161               34\n",
        "HNRNPA1CLIP                      82               16\n",
        "LIN28v5                         100               29\n",
        "LIN28ES                         210               41\n",
        "FOX2_NPC                          0                0\n",
        "HNRNPH1CLIP                     899              230\n",
        "HNRNPMCLIP                       92               17\n",
        "AGO4                              2                2\n",
        "HNRNPUCLIP                      101               19\n",
        "FOX2_human_brain                 57               12\n",
        "FOX2_ES                         205               63\n",
        "AGO3                              0                0\n",
        "AGO2                              0                1,                     human_ultraDist  human_ultraProx\n",
        "HNRNPFCLIP                      160               63\n",
        "HuR_HeLA_4su_demem               26                7\n",
        "HNRNPA2B1CLIP                   116               26\n",
        "HuR_HeLa_4su_silac               50                6\n",
        "AGO1                             24                9\n",
        "HuR_HeLa_6sg_silac              152               31\n",
        "HNRNPA1CLIP                      71               13\n",
        "LIN28v5                         103               15\n",
        "LIN28ES                         214               45\n",
        "FOX2_NPC                          0                0\n",
        "HNRNPH1CLIP                     857              241\n",
        "HNRNPMCLIP                       85               11\n",
        "AGO4                              3                1\n",
        "HNRNPUCLIP                      100               31\n",
        "FOX2_human_brain                 54                8\n",
        "FOX2_ES                         220               53\n",
        "AGO3                              2                0\n",
        "AGO2                              3                1]\n"
       ]
      }
     ],
     "prompt_number": 12
    },
    {
     "cell_type": "code",
     "collapsed": false,
     "input": [
      "#print \"Foo\"\n",
      "#mouse_shuffled_lists = get_shuffled_lists(mouse_ultraDict, mouse_CLIPDict)\n",
      "mouse_shuffledUltra_by_clip_z, mouse_ultra_by_shuffledClip_z, mouse_shuffledUltra_by_shuffledClip_z, mouse_clip_by_shuffledUltra_z, mouse_shuffledClip_by_ultra_z, mouse_shuffledClip_by_shuffledUltra_z = get_z_scores(mouse_shuffled_lists, mouse_ultra_by_clip, mouse_clip_by_ultra)"
     ],
     "language": "python",
     "metadata": {},
     "outputs": [],
     "prompt_number": 31
    },
    {
     "cell_type": "code",
     "collapsed": false,
     "input": [
      "clip_lens = Series([ len(x) * 1.0 for x in mouse_CLIPDict.values() ], index = mouse_CLIPDict.keys())\n",
      "clip_by_ultra_fraction =  (mean(mouse_shuffled_lists['clip_by_shuffledUltra']).T / clip_lens).T * 100\n",
      "print clip_by_ultra_fraction"
     ],
     "language": "python",
     "metadata": {},
     "outputs": [
      {
       "output_type": "stream",
       "stream": "stdout",
       "text": [
        "                  mouse_ultraDist  mouse_ultraProx\n",
        "FOX1_brain               0.223726         0.103577\n",
        "TAF15_1                  0.418463         0.287694\n",
        "FOX2_mouse_heart         0.394861         0.275320\n",
        "TAF15_2                  0.420311         0.261675\n",
        "TDP43_1                  0.228534         0.116965\n",
        "TDP43_2                  0.240979         0.130584\n",
        "FOX2_brain               0.202889         0.115199\n",
        "NOVA                     0.250214         0.144654\n",
        "FUSTLS                   0.180568         0.076054\n"
       ]
      }
     ],
     "prompt_number": 36
    },
    {
     "cell_type": "code",
     "collapsed": false,
     "input": [
      "print mouse_shuffled_lists[\"clip_by_shuffledUltra\"]"
     ],
     "language": "python",
     "metadata": {},
     "outputs": [],
     "prompt_number": "*"
    },
    {
     "cell_type": "code",
     "collapsed": false,
     "input": [
      "\n",
      "#gets if a raw value (one of the x_clip_by_ultra or vis versa dicts is significant by looking at a z_score generated by the get_z_scores function\n",
      "def get_significance(raw_values, z_score_dict):\n",
      "    result_dict = raw_values.copy()\n",
      "    result_dict = result_dict.astype(str)\n",
      "\n",
      "    for key in raw_values:\n",
      " \n",
      "        for name, value, raw_values_row in zip(raw_values[key].keys(), raw_values[key], z_score_dict[key]) :\n",
      "            result = \"(\"\n",
      "            result += \"*\" if rv.pdf(raw_values_row) < .05 else \"!\"\n",
      "            result += \"+\" if raw_values_row >= 0 else \"-\"\n",
      "            result += \")\"\n",
      "            \n",
      "            result_dict[key][name] = str(value) + result\n",
      "\n",
      "    return result_dict\n",
      "         \n",
      "    \n"
     ],
     "language": "python",
     "metadata": {},
     "outputs": [],
     "prompt_number": "*"
    },
    {
     "cell_type": "code",
     "collapsed": false,
     "input": [
      "#out = human_clip_by_ultra_fraction.copy()\n",
      "\n",
      "print get_significance(human_clip_by_ultra_fraction, human_clip_by_shuffledUltra_z)\n",
      "print get_significance(human_ultra_by_clip_fraction, human_ultra_by_shuffledClip_z)"
     ],
     "language": "python",
     "metadata": {},
     "outputs": [],
     "prompt_number": "*"
    },
    {
     "cell_type": "markdown",
     "metadata": {},
     "source": [
      "Analysis (2) figuring out ultra conserved regions for bridge pairs / shuffling and getting background for random comparisoons "
     ]
    },
    {
     "cell_type": "code",
     "collapsed": false,
     "input": [
      "print get_significance(mouse_clip_by_ultra_fraction, mouse_clip_by_shuffledUltra_z)\n",
      "print get_significance(mouse_ultra_by_clip_fraction, mousels_ultra_by_shuffledClip_z)"
     ],
     "language": "python",
     "metadata": {},
     "outputs": [],
     "prompt_number": "*"
    },
    {
     "cell_type": "code",
     "collapsed": false,
     "input": [
      "def get_ultra_conserved_bridges(fi, MAX_MFE):\n",
      "    ultra_conserved_bridges = []\n",
      "    bridge_conservation = open(fi)\n",
      "    for line in bridge_conservation:\n",
      "        ultra_conserved = True\n",
      "        line = line.strip().split()\n",
      "        #lines 1-6 are different species \n",
      "        for species_paring in line[1:7]:\n",
      "            species_paring = species_paring.split(\"_\")\n",
      "    \n",
      "            if float(species_paring[2]) > MAX_MFE:\n",
      "                ultra_conserved = False\n",
      "\n",
      "        if ultra_conserved:\n",
      "            ultra_conserved_bridges.append(line)\n",
      "    return ultra_conserved_bridges"
     ],
     "language": "python",
     "metadata": {},
     "outputs": [],
     "prompt_number": 3
    },
    {
     "cell_type": "code",
     "collapsed": false,
     "input": [
      "result = get_ultra_conserved_bridges(\"/nas3/lovci/projects/structure/hg19/conserved_structure.all.txt\", -47)\n",
      "print len(result)\n",
      "\n",
      "highly_conserved_structures =  [x[0] for x in result]"
     ],
     "language": "python",
     "metadata": {},
     "outputs": [
      {
       "output_type": "stream",
       "stream": "stdout",
       "text": [
        "840\n"
       ]
      }
     ],
     "prompt_number": 4
    },
    {
     "cell_type": "code",
     "collapsed": false,
     "input": [
      "initial = []\n",
      "for i in range(1,11):\n",
      "    ultra_conserved_regions = get_ultra_conserved_bridges(\"/nas3/gpratt/gscripts/conserved_regions_shuffled%s.bed\" % (i), -1)\n",
      "    initial.append(len(ultra_conserved_regions))\n",
      "initial = array(initial)\n",
      "mean(initial)\n",
      "\n",
      "for max_mfe in range(46, 100):\n",
      "    current = []\n",
      "    for i in range(1,11):\n",
      "        ultra_conserved_regions = get_ultra_conserved_bridges(\"/nas3/gpratt/gscripts/conserved_regions_shuffled%s.bed\" % (i), -1 * max_mfe)\n",
      "        current.append(len(ultra_conserved_regions))\n",
      "    current = array(current)\n",
      "    print mean(current) / mean(initial)\n",
      "    if mean(current) / mean(initial) < .05:\n",
      "        print current\n",
      "        print \"cutoff is: %s MFE\" % (max_mfe)\n",
      "        break"
     ],
     "language": "python",
     "metadata": {},
     "outputs": [
      {
       "output_type": "stream",
       "stream": "stdout",
       "text": [
        "0.0558107487368\n",
        "0.0473128158016"
       ]
      },
      {
       "output_type": "stream",
       "stream": "stdout",
       "text": [
        "\n",
        "[166 158 165 158 180 154 170 161 175 161]\n",
        "cutoff is: 47 MFE\n"
       ]
      }
     ],
     "prompt_number": 5
    },
    {
     "cell_type": "code",
     "collapsed": false,
     "input": [
      "\n",
      "len(get_ultra_conserved_bridges(\"/nas3/gpratt/gscripts/conserved_regions_shuffled%s.bed\" % (i), -47))"
     ],
     "language": "python",
     "metadata": {},
     "outputs": [
      {
       "output_type": "stream",
       "stream": "stdout",
       "text": [
        "[35, 36, 37, 38, 39, 40, 41, 42, 43, 44, 45, 46, 47, 48, 49, 50, 51, 52, 53, 54, 55, 56, 57, 58, 59, 60, 61, 62, 63, 64, 65, 66, 67, 68, 69, 70, 71, 72, 73, 74, 75, 76, 77, 78, 79, 80, 81, 82, 83, 84, 85, 86, 87, 88, 89, 90, 91, 92, 93, 94, 95, 96, 97, 98, 99]\n"
       ]
      },
      {
       "output_type": "pyout",
       "prompt_number": 6,
       "text": [
        "161"
       ]
      }
     ],
     "prompt_number": 6
    },
    {
     "cell_type": "markdown",
     "metadata": {},
     "source": [
      "Shuffling code for two feet..\n",
      "\n",
      "python shuffle_bridges.py > shuffled_regions_all.bed \n"
     ]
    },
    {
     "cell_type": "code",
     "collapsed": false,
     "input": [
      "#loads up all events (classificaions of intron structure)\n",
      "events = {}\n",
      "\n",
      "for line in pybedtools.BedTool(\"/nas3/lovci/projects/structure/hg19/event_detail.BED\"):\n",
      "    region = line.name.split(\"%\")[0]\n",
      "    exon = \"_\".join(line.name.split(\"%\")[2].split(\"|\"))\n",
      "    if exon not in events:\n",
      "        events[exon] = {}\n",
      "    events[exon][region] = line\n",
      "    "
     ],
     "language": "python",
     "metadata": {},
     "outputs": [],
     "prompt_number": "*"
    },
    {
     "cell_type": "markdown",
     "metadata": {},
     "source": [
      "/nas3/lovci/projects/structure/hg19/ultra_conserved_links.txt \n",
      "\n",
      "for each ultra conserved link:\n",
      "    get the distintron and the proxintron location\n",
      "    (should already have link size)\n",
      "    assign distintron to new location\n",
      "    assign prox intron to new location (in same gene)\n",
      "    \n",
      "    regenerate MFE scores for human and other species \n",
      "    \n",
      "    this is alright, ideally would want to shuffle every element predicted and see how it goes, but this is a good one off and will \n",
      "    get the code in place"
     ]
    },
    {
     "cell_type": "code",
     "collapsed": false,
     "input": [
      "from conserved_structure import RNApair\n",
      "import pybedtools\n",
      "scored_intervals = pybedtools.BedTool(\"/nas3/gpratt/projects/structure/RNAse/all.RNAlinks.sorted_true_scored.bed\")\n",
      "\n",
      "\n",
      "score_dict = {}\n",
      "for line in scored_intervals:\n",
      "    if line[3] in highly_conserved_structures:   \n",
      "        line = RNApair(line)\n",
      "        score_dict[line.name] = { line.qType : line.qScores, line.tType : line.tScores }\n",
      "\n",
      "structure_scores = DataFrame(score_dict)"
     ],
     "language": "python",
     "metadata": {},
     "outputs": [],
     "prompt_number": "*"
    },
    {
     "cell_type": "code",
     "collapsed": false,
     "input": [
      "shuffled_structure_scores = {}\n",
      "for i in range(1,10):\n",
      "    \n",
      "    scored_intervals = pybedtools.BedTool(\"/nas3/gpratt/gscripts/shuffled_regions_all\" + str(i) + \"_scored.bed\")\n",
      "    shuff_dict = {}\n",
      "    \n",
      "    for line in scored_intervals:\n",
      "        if line[3] in highly_conserved_structures:   \n",
      "            line = RNApair(line)\n",
      "            shuff_dict[line.name] = { line.qType : line.qScores, line.tType : line.tScores }\n",
      "    shuffled_structure_scores.append(DataFrame(shuff_dict)"
     ],
     "language": "python",
     "metadata": {},
     "outputs": [],
     "prompt_number": "*"
    },
    {
     "cell_type": "code",
     "collapsed": false,
     "input": [
      "#convert to previous data structure...\n",
      "score_result = { \"diProx\" : [], \"diDist\" : [], \"uiDist\" : [], \"uiProx\" : [] }\n",
      "\n",
      "#for each pair\n",
      "for key in score_dict:\n",
      "    \n",
      "    #get the scores for both elements in the pair, and store them \n",
      "    #in their respective prox or dist lists\n",
      "    for loc in score_dict[key]:\n",
      "        score_result[loc].append(score_dict[key][loc])\n",
      "\n",
      "subplot(2,2,1)\n",
      "print 'total diProx', len(score_result['diProx'])\n",
      "\n",
      "for i, lst in enumerate(score_result['diProx']):\n",
      "    score_result['diProx'][i] = [ x  for x in lst if not isnan(x)]\n",
      "\n",
      "diProx = [mean(x) for x in score_result['diProx'] if not isnan(mean(x)) ]\n",
      "\n",
      "print 'filtered (no results with nans) diProx', len(diProx)\n",
      "hist(diProx, bins = 20, label= \"diProx\")\n",
      "legend()\n",
      "\n",
      "subplot(2,2,2)\n",
      "\n",
      "print 'diDist', len(score_result['diDist'])\n",
      "\n",
      "for i, lst in enumerate(score_result['diDist']):\n",
      "    score_result['diDist'][i] = [ x  for x in lst if not isnan(x)]\n",
      "\n",
      "diProx = [mean(x) for x in score_result['diDist'] if not isnan(mean(x)) ]\n",
      "\n",
      "print 'diDist', len(diProx)\n",
      "hist(diProx, bins = 20, label= \"diDist\")\n",
      "legend()\n",
      "\n",
      "subplot(2,2,3)\n",
      "\n",
      "print 'uiDist', len(score_result['uiDist'])\n",
      "\n",
      "for i, lst in enumerate(score_result['uiDist']):\n",
      "    score_result['uiDist'][i] = [ x  for x in lst if not isnan(x)]\n",
      "\n",
      "uiDist = [mean(x) for x in score_result['uiDist'] if not isnan(mean(x)) ]\n",
      "\n",
      "print 'uiDist', len(diProx)\n",
      "hist(diProx, bins = 20, label= \"uiDist\")\n",
      "legend()\n",
      "\n",
      "subplot(2,2,4)\n",
      "\n",
      "print 'uiProx', len(score_result['uiProx'])\n",
      "\n",
      "for i, lst in enumerate(score_result['uiProx']):\n",
      "    score_result['uiProx'][i] = [ x  for x in lst if not isnan(x)]\n",
      "\n",
      "uiProx = [mean(x) for x in score_result['uiProx'] if not isnan(mean(x)) ]\n",
      "\n",
      "print 'uiProx', len(diProx)\n",
      "hist(diProx, bins = 20, label= \"uiProx\")\n",
      "legend()\n"
     ],
     "language": "python",
     "metadata": {},
     "outputs": [
      {
       "output_type": "stream",
       "stream": "stdout",
       "text": [
        "total diProx 476\n",
        "filtered (no results with nans) diProx"
       ]
      },
      {
       "output_type": "stream",
       "stream": "stdout",
       "text": [
        " 188\n",
        "diDist"
       ]
      },
      {
       "output_type": "stream",
       "stream": "stdout",
       "text": [
        " 476\n",
        "diDist"
       ]
      },
      {
       "output_type": "stream",
       "stream": "stdout",
       "text": [
        " 124\n",
        "uiDist"
       ]
      },
      {
       "output_type": "stream",
       "stream": "stdout",
       "text": [
        " 364\n",
        "uiDist"
       ]
      },
      {
       "output_type": "stream",
       "stream": "stdout",
       "text": [
        " 124\n",
        "uiProx"
       ]
      },
      {
       "output_type": "stream",
       "stream": "stdout",
       "text": [
        " 364\n",
        "uiProx"
       ]
      },
      {
       "output_type": "stream",
       "stream": "stdout",
       "text": [
        " 124\n"
       ]
      },
      {
       "output_type": "pyout",
       "prompt_number": 82,
       "text": [
        "<matplotlib.legend.Legend at 0x3890e190>"
       ]
      },
      {
       "output_type": "display_data",
       "png": "[encoded data removed]"
      }
     ],
     "prompt_number": 82
    },
    {
     "cell_type": "code",
     "collapsed": false,
     "input": [
      "#convert to previous data structure...\n",
      "#this is a clusterfuck, not going to figure it out tonight, going home to drink...\n",
      "score_result = {}\n",
      "\n",
      "#for each of my shuffled dicitionaries \n",
      "for i in shuff_dict:\n",
      "    \n",
      "    #create all the prox and dist lsits\n",
      "    score_result[i] = { \"diProx\" : [], \"diDist\" : [], \"uiDist\" : [], \"uiProx\" : [] }\n",
      "    \n",
      "    #get the shuffle dict and name is so its easier to loop through\n",
      "    score_dict_shuffled = shuff_dict[i]\n",
      "    \n",
      "    #for each pair store them in the correct shuffled container + classification\n",
      "    for key in score_dict_shuffled:\n",
      "        for loc in score_dict_shuffled[key]:\n",
      "            score_result[i][loc].append(score_dict_shuffled[key][loc])\n",
      "\n",
      "\n",
      "#this data structure is fubar need to redesign, I'm sorry future gabe...\n",
      "mean_results = {}\n",
      "\n",
      "for shuffled_value in score_result:\n",
      "    for intron_type in score_result[shuffled_value]:\n",
      "        for i, lst in enumerate(score_result[shuffled_value][intron_type]):\n",
      "            score_result[shuffled_value][intron_type] = [ x  for x in lst if not isnan(x)]\n",
      "\n",
      "        score_result[shuffled_value][intron_type] = [mean(x) for x in score_result[shuffled_value][intron_type] if not isnan(mean(x)) ]\n",
      "\n",
      "#want to generate means for each group, then find their averages\n",
      "for intron_type in [\"diProx\", \"diDist\", \"uiDist\", \"uiProx\"]:\n",
      "    \n",
      "    #we'll iterate through the list, element wise...\n",
      "    for x in range(len(score_result[1][intron_type])):\n",
      "        total = 0\n",
      "        count = 0\n",
      "        #this is the total number of shuffled elements...\n",
      "        for key in score_result:\n",
      "            if not isnan(score_result[key][intron_type][x]):\n",
      "                total += score_result[key][intron_type][x]\n",
      "                count += 1\n",
      "        if intron_type not in mean_results:\n",
      "            mean_results[intron_type] = []\n",
      "            \n",
      "        mean_results[intron_type].append(float(total) / count)\n",
      "    \n",
      "subplot(2,2,1)\n",
      "print 'total diProx', len(mean_results['diProx'])\n",
      "\n",
      "for i, lst in enumerate(mean_results['diProx']):\n",
      "    mean_results['diProx'][i] = [ x  for x in lst if not isnan(x)]\n",
      "\n",
      "diProx = [mean(x) for x in mean_results['diProx'] if not isnan(mean(x)) ]\n",
      "\n",
      "print 'filtered (no results with nans) diProx', len(diProx)\n",
      "hist(diProx, bins = 20)\n",
      "legend()\n",
      "\n",
      "subplot(2,2,2)\n",
      "\n",
      "print 'diDist', len(mean_results['diDist'])\n",
      "\n",
      "for i, lst in enumerate(mean_results['diDist']):\n",
      "    mean_results['diDist'][i] = [ x  for x in lst if not isnan(x)]\n",
      "\n",
      "diProx = [mean(x) for x in mean_results['diDist'] if not isnan(mean(x)) ]\n",
      "\n",
      "print 'diDist', len(diProx)\n",
      "hist(diProx, bins = 20)\n",
      "legend()\n",
      "\n",
      "subplot(2,2,3)\n",
      "\n",
      "print 'uiDist', len(mean_results['uiDist'])\n",
      "\n",
      "for i, lst in enumerate(mean_results['uiDist']):\n",
      "    mean_results['uiDist'][i] = [ x  for x in lst if not isnan(x)]\n",
      "\n",
      "uiDist = [mean(x) for x in mean_results['uiDist'] if not isnan(mean(x)) ]\n",
      "\n",
      "print 'uiDist', len(diProx)\n",
      "hist(diProx, bins = 20)\n",
      "legend()\n",
      "\n",
      "subplot(2,2,4)\n",
      "\n",
      "print 'uiProx', len(mean_results['uiProx'])\n",
      "\n",
      "for i, lst in enumerate(mean_results['uiProx']):\n",
      "    mean_results['uiProx'][i] = [ x  for x in lst if not isnan(x)]\n",
      "\n",
      "uiProx = [mean(x) for x in mean_results['uiProx'] if not isnan(mean(x)) ]\n",
      "\n",
      "print 'uiProx', len(diProx)\n",
      "hist(diProx, bins = 20)\n",
      "legend()"
     ],
     "language": "python",
     "metadata": {},
     "outputs": [
      {
       "ename": "ValueError",
       "evalue": "The truth value of an array with more than one element is ambiguous. Use a.any() or a.all()",
       "output_type": "pyerr",
       "traceback": [
        "\u001b[1;31m---------------------------------------------------------------------------\u001b[0m\n\u001b[1;31mValueError\u001b[0m                                Traceback (most recent call last)",
        "\u001b[1;32m<ipython-input-85-2155256bb377>\u001b[0m in \u001b[0;36m<module>\u001b[1;34m()\u001b[0m\n\u001b[0;32m     20\u001b[0m         \u001b[1;31m#this is the total number of shuffled elements...\u001b[0m\u001b[1;33m\u001b[0m\u001b[1;33m\u001b[0m\u001b[0m\n\u001b[0;32m     21\u001b[0m         \u001b[1;32mfor\u001b[0m \u001b[0mkey\u001b[0m \u001b[1;32min\u001b[0m \u001b[0mscore_result\u001b[0m\u001b[1;33m:\u001b[0m\u001b[1;33m\u001b[0m\u001b[0m\n\u001b[1;32m---> 22\u001b[1;33m             \u001b[1;32mif\u001b[0m \u001b[1;32mnot\u001b[0m  \u001b[0misnan\u001b[0m\u001b[1;33m(\u001b[0m\u001b[0mscore_result\u001b[0m\u001b[1;33m[\u001b[0m\u001b[0mkey\u001b[0m\u001b[1;33m]\u001b[0m\u001b[1;33m[\u001b[0m\u001b[0mintron_type\u001b[0m\u001b[1;33m]\u001b[0m\u001b[1;33m[\u001b[0m\u001b[0mx\u001b[0m\u001b[1;33m]\u001b[0m\u001b[1;33m)\u001b[0m\u001b[1;33m:\u001b[0m\u001b[1;33m\u001b[0m\u001b[0m\n\u001b[0m\u001b[0;32m     23\u001b[0m                 \u001b[0mtotal\u001b[0m \u001b[1;33m+=\u001b[0m \u001b[0mscore_result\u001b[0m\u001b[1;33m[\u001b[0m\u001b[0mkey\u001b[0m\u001b[1;33m]\u001b[0m\u001b[1;33m[\u001b[0m\u001b[0mintron_type\u001b[0m\u001b[1;33m]\u001b[0m\u001b[1;33m[\u001b[0m\u001b[0mx\u001b[0m\u001b[1;33m]\u001b[0m\u001b[1;33m\u001b[0m\u001b[0m\n\u001b[0;32m     24\u001b[0m                 \u001b[0mcount\u001b[0m \u001b[1;33m+=\u001b[0m \u001b[1;36m1\u001b[0m\u001b[1;33m\u001b[0m\u001b[0m\n",
        "\u001b[1;31mValueError\u001b[0m: The truth value of an array with more than one element is ambiguous. Use a.any() or a.all()"
       ]
      }
     ],
     "prompt_number": 85
    },
    {
     "cell_type": "markdown",
     "metadata": {},
     "source": [
      "Figure 3 this is just lots of intersect beds up to a point ... here are the intersection commands, might switch to pybedtools in a bit, but this is easier for now\n",
      "\n",
      "This combines all the intron conservation levels into one \n",
      "cat /nas3/lovci/projects/conservation/hg19/mammal_cons/ultra_proxintron.filtered_normsk.BED.sorted /nas3/lovci/projects/conservation/hg19/mammal_cons/ultra_distintron.filtered_normsk.BED.sorted > ultra_intron.filtered_normsk.BED       \n",
      "\n",
      "\n",
      "intersectBed -loj -a out1_test -b /nas3/lovci/projects/conservation/hg19/mammal_cons/ultra_proxintron.filtered_normsk.BED.sorted > split_ultra_\n",
      "intersectBed -loj -a out2_test -b /nas3/lovci/projects/conservation/hg19/mammal_cons/ultra_proxintron.filtered_normsk.BED.sorted\n",
      "\n",
      "\n"
     ]
    },
    {
     "cell_type": "code",
     "collapsed": false,
     "input": [
      "#here is the average of pairs...\n",
      "#convert to previous data structure...\n",
      "score_result = []\n",
      "for key in score_dict:\n",
      "    tmp_result = []\n",
      "    for loc in score_dict[key]:\n",
      "        tmp_result += score_dict[key][loc]\n",
      "\n",
      "    #gets rid of nans within\n",
      "    tmp_result = [ x for x in tmp_result if not isnan(x) ]\n",
      "    score_result.append(mean(tmp_result))\n",
      "  \n",
      "   \n",
      "#gets rid of means that are nans (because all the results were nans)\n",
      "score_result = [x for x in score_result if not isnan(x) ]\n",
      "\n",
      "hist(score_result, bins=100, label=\"diProx\")\n",
      "legend()\n",
      "\n"
     ],
     "language": "python",
     "metadata": {},
     "outputs": [
      {
       "output_type": "pyout",
       "prompt_number": 47,
       "text": [
        "<matplotlib.legend.Legend at 0x3393c090>"
       ]
      },
      {
       "output_type": "display_data",
       "png": "[encoded data removed]"
      }
     ],
     "prompt_number": 47
    },
    {
     "cell_type": "code",
     "collapsed": false,
     "input": [
      "#here is the average of pairs...\n",
      "#convert to previous data structure...\n",
      "score_result = {}\n",
      "\n",
      "for i in shuff_dict:\n",
      "    score_result[i] = []\n",
      "    score_dict_shuff = shuff_dict[i]\n",
      "    for key in score_dict_shuff:\n",
      "        tmp_result = []\n",
      "        for loc in score_dict_shuff[key]:\n",
      "            tmp_result += score_dict_shuff[key][loc]\n",
      "    \n",
      "        #gets rid of nans within\n",
      "  \n",
      "        score_result[i].append(mean(tmp_result))\n",
      "\n",
      "print score_result\n",
      "mean_results = []\n",
      "for x in range(len(score_result[1])):\n",
      "    total = 0\n",
      "    for key in score_result.keys():\n",
      "        total += score_result[key][x]\n",
      "    mean_results.append(total / len(score_result.keys()))\n",
      "                        \n",
      "#gets rid of means that are nans (because all the results were nans)\n",
      "mean_results = [x for x in mean_results if not isnan(x) ]\n",
      "print len(mean_results)\n",
      "hist(mean_results, bins=100, label=\"diProx\")\n",
      "legend()"
     ],
     "language": "python",
     "metadata": {},
     "outputs": [
      {
       "output_type": "stream",
       "stream": "stdout",
       "text": [
        "{1: [nan, nan, nan, nan, nan, nan, nan, nan, 1.27155, nan, nan, nan, 1.6174944117647048, 1.27155, 1.3202207999999993, nan, 1.3157961818181816, -0.048160045945945931, 1.625516363636363, 0.014426700000000008, nan, 1.2715499999999997, nan, nan, nan, -0.16947505263157894, -0.62220299999999995, 1.2715499999999995, nan, 1.2640565666666668, 1.8447838666666656, -0.089064500000000005, nan, nan, 1.4119465384615384, nan, nan, 0.014426700000000001, nan, -0.082929099999999992, 0.55132435473684216, 2.0791423684210506, 1.5318949312500012, nan, 1.9062104615384612, nan, -0.19988200000000006, nan, 2.1583373972602709, 1.5308769026548659, nan, 1.8454583653846137, 1.531517297297299, 0.016566796153846156, -1.3495148214285722, 2.2595795205479448, nan, 2.2064065517241387, nan, nan, nan, nan, nan, 1.2832572072072079, 0.032785700000000001, 1.2715500000000002, 0.6343919729999995, nan, 1.2715499999999997, 1.5186652448979581, nan, nan, -0.23735956521739146, nan, 0.024451300000000006, nan, nan, 0.0010883542857142955, 1.8503060393333322, nan, 2.0439461249999966, 0.80453201599999946, 0.9812358166666667, nan, nan, nan, nan, 1.2715500000000004, nan, nan, nan, nan, 0.13740314814814814, 0.045298976470588226, 1.462415882352941, -0.15494500000000005, 2.6379502040816321, nan, -0.43106099999999992, 0.014426700000000009, nan, nan, nan, nan, 0.30873804347825973, 0.41949307307692324, nan, nan, nan, nan, nan, nan, 1.2715499999999997, 1.7179019047619033, nan, nan, nan, 1.8035148809523815, nan, -1.7189229629629632, nan, nan, nan, 0.69424199999999958, 0.11121120270270264, nan, nan, nan, 0.022541200000000001, nan, nan, -0.02017642, nan, 2.5175617021276606, 0.024632784905660374, -0.10927099999999995, nan, 0.102962, nan, 0.081712564285714204, 1.2715499999999997, nan, nan, nan, nan, nan, nan, -0.041645955555555572, 0.66754662921348318, -0.024061600000000002, -0.34058000000000005, 1.024746489795918, nan, nan, nan, nan, 2.6234600000000006, 2.5536212857142835, -0.041904498571428576, nan, nan, 0.080108599999999988, 0.58699632428571435, 1.7030287234042558, -0.58537300000000014, 1.3178809882352953, nan, nan, nan, 0.47241100000000003, nan, 1.2715500000000004, 1.2715499999999995, nan, 0.73727259750000029, 0.014426700000000006, 1.9642296629213467, nan, -0.072326899999999972, 1.1967137777777774, 0.25456207567567546, nan, 1.9776482484536089, nan, 1.2715499999999995, nan, nan, -0.34058000000000005, 2.5114669892473094, nan, 3.3977494399999988, 2.0182868918918913, -0.024061600000000002, 1.2715499999999991, nan, 2.0827299999999989, 1.2715499999999995, nan, -0.077584200000000006, nan, 1.2715500000000002, nan, nan, -0.7897639999999998, nan, -0.024061600000000002, nan, nan, nan, nan, nan, nan, 1.2715500000000004, 1.27155, nan, -0.58537300000000014, nan, nan, 2.1160358904109571, nan, 1.2715500000000015, nan, nan, 1.2715499999999991, nan, nan, 1.7656334736842092, -0.0481165, nan, nan, nan, nan, -0.11094899999999998, nan, -0.34058000000000005, nan, 1.5911057575757566, nan, 0.55476506451612873, 1.4236462500000002, nan, nan, 2.3281765048543641, 0.038140277777777794, nan, 0.47241100000000008, -0.51940480597015026, 1.2192232253521131, nan, nan, nan, 0.068708405882352941, nan, 2.4722893693693671, nan, nan, 1.2715500000000002, -0.23952499999999999, nan, 0.14402999999999994, nan, nan, 0.71960560000000018, 1.2715500000000004, nan, 0.045287922077922559, 2.4067840939597307, 0.069549721463414621, -0.16558600000000001, nan, nan, -3.2254366952380944, -0.43106099999999992, 0.025390519433962273, 1.6615403846153842, 1.2715500000000004, 0.36162146626506037, nan, 1.2715500000000004, nan, nan, nan, nan, -1.1962629999999999, 1.7885368991596631, nan, 1.3309046341463409, 1.2715500000000004, 1.2829750704225362, nan, 0.38095492857142815, 0.99451511168831164, 1.5346354054054077, 0.014426700000000006, nan, 0.029061823529411786, 1.27155, nan, 1.2715499999999997, nan, nan, nan, nan, -0.58774013636363664, nan, nan, 1.27155, nan, 1.2715500000000017, nan, 0.2857424041095889, nan, 1.3688916000000004, 3.6929020481927739, nan, 3.2703822222222225, nan, nan, 1.27155, nan, 0.92615256756756759, nan, 1.8304441025640996, -0.16805899999999999, nan, nan, nan, 1.2947265714285712, nan, nan, 0.014426700000000009, 0.66349165517241315, 0.014426700000000009, nan, 0.89204107924528264, 1.6453290196078407, -0.058282933333333328, 1.27155, nan, nan, -0.10555285964912256, 1.2715500000000004, nan, 1.6122353571428578, 1.6986380645161234, nan, 0.85638739326923086, 1.3294637352941181, nan, -0.024061600000000002, 1.2715500000000002, nan, -0.024061600000000002, 1.2499764415094354, nan, nan, 0.049530013559322059, 1.197536153846154, nan, 0.95171668764045003, -0.26973226457627164, -0.16558600000000007, 1.452962828282828, 1.7646201960784307, -0.14594100000000004, nan, nan, nan, nan, -0.27596100000000007, nan, nan, 0.059542732352941163, nan, nan, nan, 1.2715500000000004, 0.96966464516129036, nan, 0.74481822539682518, 1.1114933243243252, 1.5125365770270272, nan, nan, 0.14402999999999994, 0.35701900000000009, nan, 1.2715499999999991, nan, 0.55803216571428538, 0.89784075000000074, nan, nan, -1.5601524489795913, nan, nan, nan, 0.69424199999999969, nan, nan, nan, nan, 1.2715500000000004, nan, 1.7112885714285699, -0.072326899999999972, nan, 0.022073677142857143, 1.38051447761194, 2.2635473831775688, 0.19871912051282059, 1.1269130168224317, 0.33589339344262281, nan, 1.5364251020408166, nan, nan, 0.033025913157894757, 1.2715499999999993, nan, nan, nan, 0.62974765454545434, 2.7407043791666674, nan, 1.27155, 1.9221364254385949, nan, 2.3409425000000006, 1.3677916949152549, 1.4716024637362628, 1.258130892857144, 2.6864042519685047, 1.9846208730158734, nan, nan, nan, 0.086923041237113446, nan, nan, 1.2715500000000004, -0.58537300000000014, 0.022669728571428568, nan, 1.5375106557377058, 1.27155, nan, 0.035912256410256402, nan, nan, nan, nan, 0.13097399999999998, nan, 2.0896956140350866, -0.57827738095238101, 1.6609163999999987, 2.3010186956521714, nan, 0.016183764705882394, nan, 0.0244499181818182, 1.7538732432432425, nan, -0.27596100000000007, nan, 1.2799997916666686, 1.27155, nan, nan, 1.2715499999999993, 1.2715499999999993, 1.9634388235294111, 0.102962, 0.019235400000000007, -0.25326977777777854, 1.4604549315068511, nan, nan, nan, nan, nan, 1.2715500000000011, 0.050941564516129044, nan, -0.137294, -0.141319, 2.0827299999999993, 2.0827300000000002, 1.4423247368421057, -0.11446399999999995, nan, nan, nan, nan, -0.27596100000000007, nan, nan, 2.0827299999999993, nan, -0.120174, nan, 1.2715500000000002, nan, nan, nan, 1.4000537623762381, 1.2989062545454542, nan, 1.2715499999999995, 1.3212037534246588, 1.2715499999999997, nan, nan, nan, 0.642574692553191, 2.0421676056338001, 1.2715499999999997, 1.2715499999999995, nan, nan, 1.3492624333333327, 2.1696185599999969, -0.14006249999999998, -0.23952500000000002, nan, 1.2715499999999993, nan, nan, 2.5942806425531901, nan, nan, nan, nan, 0.86554394038461524, 1.2715499999999993, nan, 1.5191233971264366, 1.29841775, nan, 1.27155, nan, nan, nan, nan, 2.3981416666666644, nan, nan, 0.050772857812499995, nan, 2.0408304494382006, nan, nan, nan, nan, 0.62394642857142868, nan, 1.2803671739130451, nan, 1.2715500000000002, 0.33749965576923063, nan, nan, 1.8747351282051277, 1.5317398113207552, -0.58537300000000003, nan, nan, 1.2715500000000002, nan, 1.2269946928571425, nan, nan, 0.035582599999999992, 1.3189973975903628, 1.2715500000000004, nan, nan, -0.16700539354838689, nan, nan, 0.15595599344537814, nan, nan, nan, nan, 2.3788884313725456, 0.014426700000000008, nan, nan, -1.7703180000000001, nan, 2.2372242857142854, nan, 1.9465142857142848, nan, 0.56105253521126752, nan, nan, nan, 0.85089560869565195, 0.08134769871794878, nan, nan, 0.35701900000000009, nan, 1.6238197568181831, 1.2715500000000004, nan, nan, 1.922496913580247, nan, 0.43432778999999966, 1.2715500000000002, 0.14402999999999999, nan, nan, -0.10927099999999998, 1.2715499999999991, 0.0032708425714285728, 0.67223001298701301, nan, 2.3050987849462348, nan, nan, 1.4390763043478274, 0.60594974328358053, 1.27155, nan, 2.3723647058823536, -0.012819567441860486, 1.2715500000000002, nan, nan, 1.2715499999999997, nan, 1.2715499999999997, nan, 0.92615256756756759, nan, nan, nan, 1.343956896551723, 1.2715500000000002, -0.040924374358974294, nan, nan, -0.58633426451612924, 1.27155, -0.072326899999999972, -4.0651200000000021, -0.070744299999999996, nan, -0.026153699999999995, nan, nan, nan, nan, nan, 1.2614428305084748, nan, nan, -0.11298834999999999, nan, nan, nan, 0.87623473492063442, -0.072326899999999972, 1.4173801123595529, nan, nan, nan, 1.2899859090909085, nan, nan, 0.039607807317073175, 1.27155, nan, -0.10441493333333331, -0.35295299999999996, nan, -0.061628995238095299, -1.2216856470588227, 0.91184960227272704, nan, nan, nan, nan, 0.14402999999999994, 1.5370270909090902, 0.48131194651162784, nan, 0.043657164179104438, nan, nan, nan, nan, 0.69424199999999969, nan, nan, 1.6778834679999992, 1.2715500000000002, 2.0626966666666662, nan, -0.096179500000000029, nan, nan, nan, 1.4995650399999993, nan, -0.58537300000000014, nan, nan, -0.76564100000000024, 1.8079501231707307, 1.7225131199999952, nan, 0.79708205967741907, 2.992357931034483, 0.02965101999999999, 1.2715499999999997, nan, nan, 1.2715500000000002, nan, nan, 1.2715499999999997, 0.084396907575757588, 1.4751758409638573, nan, -2.9645034615384622, 0.69424199999999969, 1.27155, nan, 0.47241100000000003, -0.054674800000000016, nan, 2.1714577524752459, 1.2715500000000004, nan, nan, 1.8030127586206892, 0.10318998659793815, nan, 2.4232970270270284, nan, 1.3312186969696973, 0.02215308645833337, nan, 0.34205475454545448, nan, 1.2715500000000004, 1.4588016319999981, 1.2715499999999995, 1.6008738888888896, 1.3584244736842099, 0.014426700000000011, nan, nan, nan, nan, -2.1315439130434846, -0.10927099999999999, nan, nan, nan, 1.2715499999999995, nan, nan, nan, 1.2744082903225809, 1.7825414898989882, 1.2715500000000004, 0.38436484761904777, nan, nan, 0.035517771428571439, 2.0016119999999993, nan, -0.20131190400000004, nan, nan, 2.9197542105263268, nan, nan, nan, nan, nan, 1.2715500000000002, 0.1161883214285714, 2.733502567567569, 1.9273583636363605, nan, nan, nan, 0.23927907586206892, nan, 0.19116449999999999, 2.2373595304347824, nan, 1.2715499999999991, nan, nan, nan, 0.014426700000000009, nan, -0.31143700000000002, nan, nan], 2: [1.2715499999999997, 0.035210380645161285, nan, -0.34058000000000005, 0.028851999999999992, 1.27155, 1.2715500000000004, nan, -0.318249, 1.2715500000000002, nan, nan, 1.27155, -0.11820899999999999, 1.2846335483870972, 1.2715499999999993, 0.0155727448275862, nan, nan, 1.2715499999999991, nan, nan, nan, nan, 1.4121545333333339, nan, nan, 1.6569593124999948, 2.0827300000000002, nan, -0.58537300000000014, 0.14402999999999994, nan, 1.7222055555555551, nan, nan, 2.0827300000000006, -1.5689099999999998, nan, 1.7319276046511618, 2.2968308695652171, 1.6764079310344822, nan, 1.27155, 0.69424199999999969, nan, nan, 0.021457476470588238, 1.27155, 1.296626566666667, 0.19200813673469372, -1.4925196428571432, 1.8628622580645151, -0.44986500000000001, 2.0827299999999997, nan, nan, nan, nan, 2.0542240350877186, 1.2715500000000002, -0.58537300000000014, 1.4956918421052647, 1.2715500000000004, 1.2715500000000002, 1.0754574482758623, 0.8211554035087717, nan, nan, 0.86775259259259263, 0.032055571929824542, -0.099215951851851822, nan, nan, 1.9936751136363611, 2.4892448275862087, nan, 0.54103136363636373, 1.8123140000000026, 1.1940943131147539, 0.36933173428571414, nan, nan, nan, 0.043711300000000002, -2.769400000000001, nan, nan, nan, -3.5853893809523858, 0.041311410256410254, -0.060121357851239662, 1.419037272727272, nan, 1.27155, nan, nan, 0.48653900909090914, 1.2715499999999997, 1.2715499999999997, nan, nan, 0.6328771515873024, 0.41949307307692324, nan, 3.0220300000000004, 1.1570832499999999, nan, nan, nan, nan, 2.0827299999999989, 1.3124806666666686, nan, nan, -0.024061600000000002, 1.1617722463768105, nan, -0.15494500000000005, nan, nan, nan, nan, nan, nan, nan, nan, 0.47241099999999986, nan, nan, nan, nan, 1.2715499999999997, -0.89090250000000004, nan, nan, 0.120086, nan, 1.2715499999999993, 1.2715500000000004, nan, -0.024061600000000006, nan, nan, -4.3265800000000016, nan, nan, 0.79316940754716947, nan, nan, 2.0827300000000006, nan, nan, -0.024061599999999999, -0.26768828571428543, 1.2715499999999997, nan, 1.0017704999999997, nan, 1.2715500000000004, 1.995488064516127, -0.37919946500000007, 1.3184325476190488, 0.0714539818181818, nan, nan, nan, 1.2715499999999997, nan, 1.27155, 1.8369178787878793, -0.16805900000000001, 0.4170480815714287, nan, 0.066197929411764708, nan, nan, -0.072326899999999972, nan, 1.0898270423076923, nan, nan, nan, nan, nan, 1.1526889278350532, nan, 1.2162860067796604, 1.2715500000000002, 2.9303680952380939, -0.34058000000000005, 0.014426700000000001, 2.6801629999999994, nan, nan, 1.2715500000000017, nan, 1.5960220000000001, 0.044808026923076921, nan, -0.34058000000000005, nan, nan, nan, nan, nan, -0.082201056481481474, nan, 0.13097399999999998, 1.6615403846153842, -0.62220300000000017, nan, -0.58537300000000014, nan, 0.72655953953488395, nan, 1.2715500000000004, nan, nan, nan, 1.2715499999999991, nan, 1.7472209302325572, nan, 1.2715500000000002, nan, -0.08588740000000003, 0.17224810588235273, nan, nan, nan, nan, nan, 1.2715499999999997, nan, 1.2755401571428562, 1.4393803448275866, nan, nan, 1.2693172786885247, 0.014426700000000006, nan, nan, 1.5322864285714279, 1.2228149999999995, nan, nan, nan, nan, nan, 2.2043772500000012, -3.7478879166666683, nan, nan, 0.8133910666666665, nan, nan, nan, -0.58537300000000003, nan, nan, nan, 1.2715499999999997, 2.867574181818179, nan, nan, nan, -0.58537300000000014, 2.4503429213483101, 2.0080229523809474, -0.024061600000000006, 0.55572506619718309, 0.096179346153846115, 0.045427764705882341, nan, nan, nan, nan, nan, 1.2725415488721794, nan, -0.21792200000000006, nan, 0.60434471034482729, 1.1480125000000014, nan, 1.4964524099999987, 1.3233274468085097, 1.2715499999999997, nan, nan, nan, 0.64127375000000009, nan, 0.54059185555555556, 0.061202498270270203, nan, nan, 0.01700431351351352, 0.093069592592592607, nan, nan, nan, -0.034401092000000015, 1.2715500000000013, 1.271550000000002, 0.025245675000000002, nan, 1.6365809999999992, 1.7560047222222213, nan, 1.3604327777777778, 0.28408074999999999, -0.096179499999999987, nan, 1.202323167241379, 0.014426700000000009, 0.014426700000000011, 0.91489704326241073, nan, nan, nan, nan, 2.1881337179487148, nan, nan, 0.071501662500000007, 1.9773351048951049, 0.69424199999999969, nan, 0.75435620000000014, nan, 1.2715499999999995, nan, 2.0827299999999997, 1.2715499999999995, nan, 1.9813324999999993, 1.3137765625000015, 0.086401064367816152, 0.98114306302013288, 1.5022741600000002, nan, nan, 1.2715499999999997, -0.34058000000000005, nan, 1.3083549906542054, nan, nan, 0.044030889473684227, 2.1931540624999979, nan, 1.2715500000000002, 0.22197093902173917, nan, 2.6236294067796626, -0.097302956060606002, nan, nan, nan, 0.35701900000000009, -0.083961000000000049, 3.6994759999999998, nan, nan, nan, nan, nan, nan, nan, 0.92435776081081011, 1.2715500000000004, nan, 1.383734468085108, 1.2715500000000002, 1.1588159000000002, nan, nan, 0.073352247826086944, nan, nan, nan, 2.3538185245901633, nan, 2.7913442553191512, 2.465734242424241, 0.084474626666666691, nan, 1.2715499999999997, 0.0904046153846155, nan, nan, nan, 0.037859464383561636, 0.037503560000000019, 0.23704722222222172, nan, 1.6045301851851863, 1.2715500000000002, nan, 0.057692399999999991, nan, -0.072326899999999972, nan, nan, 1.2715500000000002, 1.1544228491620105, -0.43748546666666677, 0.9476942926829266, 1.2715500000000006, nan, nan, nan, nan, nan, nan, nan, 1.2715500000000002, 1.7746171090909104, nan, 1.5844337142857154, 0.065143104411764657, 0.014426700000000009, 1.9378764285714263, 1.5158813253012073, 0.014426700000000011, 2.6287578333333319, 2.7593586315789462, 3.0425901428571418, 1.5025519463087202, 3.1745589403973611, 1.7091343977900564, 0.061474467187499986, nan, nan, -0.62220299999999995, nan, nan, -0.030021621917808213, nan, nan, nan, 0.28840257142857134, 1.6055652941176475, nan, nan, -0.011830487804878087, nan, nan, nan, -0.11446399999999995, nan, 1.278453333333335, nan, 2.4478956097560989, 1.5161915873015885, 1.2715500000000002, 0.01903419032258066, nan, -0.053460399999999991, 2.1583646067415709, nan, nan, nan, 0.81390499999999966, 1.2715499999999997, 0.04353598235294117, -0.58537299999999992, nan, 1.368119047619047, 1.2991046164383575, 2.3428543750000004, -0.10452900000000004, nan, 2.0608062162162155, 1.2715500000000002, 1.2715500000000002, 0.014426700000000001, nan, nan, 1.2715499999999997, -0.045398972368421067, nan, nan, nan, 2.0827299999999989, 0.2046116319999999, 1.27155, nan, nan, nan, nan, nan, 0.018713326530612251, 0.39414766666666656, nan, nan, 0.69424199999999958, 1.6026438775510208, nan, nan, nan, 1.2721728103448275, 1.9082817741935472, nan, 1.2715500000000015, 1.335590526315789, 1.2816897500000013, 0.41949307307692324, nan, 1.7530123320754711, 3.4783498058252511, 1.2455459999999998, 3.4917279012345706, 1.2715499999999997, 0.58914829721153805, 1.1940943131147539, -0.47274800000000011, -2.2210200000000002, 1.9965370329670331, 0.72798214414414386, -0.14006249999999998, nan, nan, 1.8016562264150933, nan, nan, 1.7241316666666642, -0.34058000000000005, nan, nan, -0.091316299999999975, 1.2715499999999993, 2.0157452173913022, nan, 2.0444298260869549, 1.0467298442105273, nan, -4.0651200000000038, nan, 0.0024158199999999995, nan, nan, 1.5693249367088635, nan, nan, 0.20540499999999992, nan, 0.34185774322033902, -1.85304, nan, nan, nan, 0.69424200000000003, 0.032694085714285719, 1.3247680270270279, nan, 1.27155, 1.27155, -0.16947505263157894, -0.038176754838709664, nan, 0.71562721739130442, 1.2715499999999995, nan, nan, 0.25522880727272723, nan, 1.1604482375000018, nan, nan, nan, 0.56633449024390259, 2.0178355999999997, nan, nan, 0.69424199999999969, nan, nan, nan, nan, 0.051581078571428574, nan, nan, nan, nan, 0.63165445714285706, nan, nan, nan, nan, nan, 2.730929411764706, nan, 1.6388767924528298, nan, 2.3404564661654081, 0.024324362025316452, 1.2715500000000004, 1.8895311904761904, 1.273291045454545, nan, -0.096179500000000001, 0.6408789230769234, nan, nan, 0.25326530769230765, 0.0090401352272727661, 0.27821705585585593, -0.17221400000000003, nan, nan, nan, 1.524733539823008, 1.2715499999999995, 0.47241100000000003, nan, nan, nan, 0.85114616666666654, 1.2715499999999995, nan, 0.72173285714285684, -1.0482546296296293, 1.9492755421686765, nan, 1.2777898461538455, nan, -0.34058000000000005, nan, nan, 2.4232307317073185, -0.88662178490566046, 2.0827300000000006, nan, nan, 1.3874024838709662, nan, 1.4331611940298501, nan, nan, nan, nan, 0.51000588461538443, 1.3121089999999995, 1.2715500000000002, nan, 1.27155, nan, nan, 1.9024814814814843, 0.59469259904761862, 2.9050830434782613, -4.0651200000000038, 0.0758963, nan, nan, nan, nan, 0.051421149230769278, nan, nan, 0.53567294634146345, nan, nan, nan, nan, -1.5561, nan, 1.8004412150537605, -0.072326899999999972, 1.4587880000000015, nan, nan, nan, 1.3174658490566034, 0.2999828260869567, 0.69424199999999958, 1.2865718518518516, 1.2715500000000002, 0.014426700000000004, nan, nan, nan, 0.41475533913043455, -5.198529999999999, 3.1164163879781452, 3.1782612000000001, nan, nan, -0.096179500000000015, nan, nan, 1.94159074074074, nan, nan, nan, nan, 0.17581647727272712, -0.096179500000000015, 0.049221911111111107, 0.024413446153846149, nan, nan, -2.7308304121212177, 1.2831382857142863, -0.91967848484848402, nan, nan, -0.39605200000000002, nan, -0.34058000000000005, 0.77715717499999992, nan, -0.58537300000000014, nan, -0.31143700000000002, nan, 1.1940943131147539, 2.198512833333329, -0.19988200000000003, 1.2715499999999997, -0.13675600199999985, nan, nan, nan, 0.13097399999999998, nan, 0.13097399999999998, -0.15494500000000005, 2.1789443971631184, 2.0827299999999997, 1.3526680000000013, nan, nan, nan, 1.27155, nan, -0.23952499999999999, nan, nan, 2.124859685039366, nan, nan, nan, nan, 0.65417064864864871, nan, 1.2820848051948064, nan, 1.2715499999999995, 1.2715499999999993, 1.2715499999999997, 1.2715499999999993, 1.2715499999999997, 1.2715500000000002, 1.5843775454545466, 2.0203315384615377, 1.8808759154929571, 0.39537315454545446, -0.026301260000000021, 1.2715500000000002, nan, nan, nan, -0.86693844444444434, -0.10927099999999997, nan, 0.30200458333333324, nan, nan, nan, -0.029658559340659349, nan, 2.3991767592592543, 1.8228651999999947, 1.2715499999999997, 1.6356457692307704, nan, nan, nan, nan, nan, -0.28472381176470585, -0.024061600000000002, nan, 1.9125756190476164, nan, nan, 0.040651881818181815, nan, nan, 1.8555996000000006, 1.4033451428571428, -0.012831446296296286, 2.4532207407407416, nan, nan, nan, 1.27155, nan, -0.037208166666666626, nan, 1.2715500000000008, nan, nan, nan, nan, nan, nan, nan, nan], 3: [nan, -0.39605200000000002, nan, nan, nan, -0.62220300000000017, nan, 0.47241099999999991, nan, nan, 0.014426700000000008, nan, nan, 1.8393759999999992, 1.27155, -1.4986797894736845, 1.2781449593495935, -1.611950999999999, -0.14737947368421062, nan, nan, nan, nan, 1.27155, -0.16915282352941177, nan, nan, nan, -0.62220300000000017, 1.3157961818181816, 1.5896598039215679, nan, nan, nan, nan, nan, nan, nan, 2.0446793749999985, nan, 0.065020588679245317, 0.91250856860465146, 2.3065739999999986, 1.2814189285714286, -0.12648400000000001, 1.4289431343283594, nan, -0.061794981632653088, 1.2715500000000011, 1.6636203333333353, 0.58270374999999908, nan, 1.2715500000000004, 1.2954082352941174, 0.017517950000000001, nan, 0.58211575999999998, -0.092485499999999998, -2.0402200000000028, nan, nan, 0.66262337837837781, nan, nan, 0.10910588524590165, 0.93409336410256394, -0.024061600000000002, 1.27155, 1.2715500000000002, -0.16477971428571431, 1.2715499999999995, 0.72074381788617914, nan, nan, 2.4632374074074086, nan, 0.09822288695652176, nan, nan, 2.6616402040816354, -1.0150675438596497, nan, 1.2715500000000004, 0.67249265384615398, 2.4719389090909099, nan, nan, nan, nan, nan, -2.7694000000000001, nan, nan, nan, 1.0537278666666663, -0.028644200000000005, -0.052103843333333337, 1.2715499999999997, 0.02954894545454545, 0.021898375735294146, nan, 0.80374520344827549, 1.6768544761904758, -0.0481165, 0.060299038372093008, nan, nan, 1.3156358695652188, nan, nan, -0.035251399999999843, 0.69424199999999969, nan, nan, 0.21319716190476207, 1.56752108108108, 1.0054971586206904, -0.18298101764705862, nan, 0.025782083720930236, 1.5982752777777802, nan, nan, nan, nan, 0.094129819999999989, 1.2715500000000002, nan, 0.33037021714285714, nan, nan, nan, nan, 1.27155, nan, nan, 1.2715499999999997, nan, 2.6715746666666647, nan, nan, 2.3140521333333335, 0.42326326989247315, 0.28664899999999993, nan, nan, nan, 2.0827300000000002, nan, nan, 2.5326087340909096, nan, -0.34058000000000005, nan, nan, nan, 0.089191770319149058, nan, 0.86130382758620649, 0.034636681395348853, -0.0015603345794392674, nan, nan, nan, 0.37078069897959187, 1.2715500000000002, nan, -0.81760901234567696, nan, nan, nan, nan, -0.072326899999999972, nan, 1.27155, 1.2715499999999993, nan, 1.2715499999999995, nan, 1.4982032352941166, nan, nan, -4.0651200000000047, 1.2620989315068454, -0.078484249999999964, nan, 0.63377791186440668, nan, 1.2715500000000002, nan, nan, -0.16700539354838689, 0.91363997872340463, 0.040363097857142788, 1.2299881111111108, 1.8540748387096726, 0.67112439718309902, 1.27155, 1.27155, nan, 2.2968285714285734, nan, nan, 1.27155, nan, 1.27155, nan, nan, nan, -0.16700539354838689, nan, nan, nan, nan, nan, nan, nan, 1.4393803448275866, -0.18459400000000004, nan, nan, 0.65324594736842123, 1.2715499999999995, 1.2715499999999997, -0.057277099999999984, -0.16947505263157894, -0.024061599999999995, -0.024061600000000006, nan, 0.8399781736363644, nan, nan, nan, nan, nan, nan, 0.21032803181818183, -1.3826099999999999, nan, nan, nan, 0.12262243703703703, nan, 0.15062455999999944, 1.2715500000000002, -0.053460399999999991, nan, 1.3431247058823526, 0.04645432564102564, nan, nan, nan, 1.3996310526315809, nan, nan, nan, nan, nan, 0.46102345904761888, 0.55301258620689686, nan, nan, nan, nan, nan, nan, nan, nan, nan, 1.2715499999999997, 2.0822525862068959, nan, 2.9871165802469202, 0.03102329999999999, -0.16558600000000007, -0.096179499999999987, nan, nan, 1.2715499999999997, 1.2715499999999997, nan, nan, 0.41957817972972988, 0.69424199999999947, 1.3729474999999998, nan, nan, nan, nan, nan, 1.6243612773109231, -0.16932288888888888, -0.71122899999999989, 1.0920761764705886, 1.2715499999999993, 1.3475981249999998, nan, 1.2715500000000004, 1.279502745098041, 0.81918914285714295, 1.7009982352941175, nan, nan, 0.79512902799999996, nan, -0.072326899999999972, 0.11537268712871283, nan, nan, nan, -0.23952500000000004, -0.147068, nan, -0.024061599999999999, nan, 1.2715500000000015, nan, 0.072537058139534941, -0.057379326315789486, 1.6113686486486476, 1.5563187234042566, 0.034953135714285717, 0.49431983749999975, 0.16793338064516131, nan, nan, 2.0827300000000002, 0.028851999999999992, nan, 1.4506919032258054, nan, nan, -0.43106099999999992, nan, nan, 1.32445304347826, nan, nan, nan, 1.2461024813953503, nan, -0.62746544690140837, nan, nan, 1.2715500000000004, nan, nan, 0.028515932500000014, nan, nan, nan, 1.1348359090909061, 0.29575217081395355, 1.6200550375939831, 1.4413318604651153, nan, nan, 1.5604634246575364, nan, nan, 1.2715499999999997, nan, nan, 0.18565608923076912, 2.0790886956521732, nan, 0.68840518421052599, 0.54042718131782941, nan, 1.3137989583333349, nan, nan, nan, -0.66383199999999998, -0.66383199999999998, -3.5871250000000012, 0.35701899999999998, 0.0072214342105263157, 1.2715499999999997, nan, nan, nan, nan, 0.23850203563218395, nan, 0.018253820408163271, 0.25451741785714294, 0.11744825945945943, 2.4499141441441448, nan, 0.045076899999999989, nan, nan, 0.13873254871794855, nan, 1.2715499999999995, nan, 0.41933596031745984, 0.99032976811594198, nan, 0.16289599268292673, nan, nan, nan, nan, nan, nan, 1.2715500000000006, nan, 2.5522787681159436, nan, nan, 0.29686128356164387, nan, -1.8291558640000012, 0.018735800000000007, nan, 1.2715499999999997, 1.3220904285714288, nan, 1.2685223287671241, 1.2715499999999995, nan, -1.9593187600000048, nan, -0.58537300000000003, 0.17038232553191485, 0.85046894081632651, nan, nan, 1.1238240084745779, nan, 3.2899970930232545, 3.1569826086956505, nan, 0.86418651891891929, 0.8598622521739131, nan, 2.1838725263157839, 1.0818066176470589, 2.1852287487394939, 1.834394621212122, 2.5104605320512761, -0.1970482222222231, nan, nan, -0.34058000000000005, -0.62220300000000017, nan, nan, 1.1085895722222217, -0.58537300000000014, nan, nan, 0.96333711923076915, 1.27155, nan, -0.08588740000000003, 1.27155, nan, 0.014426700000000009, nan, nan, 1.2793498076923093, -1.3279284722222222, 1.2715499999999997, 1.482127875000002, nan, nan, 2.2038233333333324, nan, -0.27596100000000007, nan, 1.2715499999999997, 1.2715500000000004, -0.11820899999999995, nan, nan, 1.1276069769230763, 1.719833684210526, 0.85824918904109526, nan, 2.3399003921568631, 1.2715499999999997, -0.54235094666666661, nan, 0.014426700000000008, -0.024061600000000002, 1.3265452542372884, 1.6045572340425533, nan, nan, 0.4491575333333333, 2.0827299999999993, 2.0827299999999997, 1.2715500000000004, -0.11350139444444445, nan, nan, nan, nan, nan, nan, nan, 0.95785702702702724, nan, nan, -0.27596100000000007, -2.5877499999999993, -0.060451400000000016, 1.7767392105263149, nan, 0.21036655913978372, 1.2715500000000004, nan, 0.021576076521739145, 2.4608671428571434, 1.2952608400000023, nan, nan, 1.1860636541666667, 2.1390979999999997, 2.7775045454545459, 1.488963838150287, 1.2715499999999995, 1.3698748484848493, nan, nan, -0.120174, 3.4627862244898036, 0.65799898910891086, -0.10398823437499993, nan, nan, 1.719833684210526, nan, nan, -2.9127129999999992, 1.2715499999999997, nan, nan, nan, nan, 1.2715499999999991, nan, 1.8419065925925895, 0.16185858695652175, 1.7085447474747446, nan, nan, nan, nan, nan, nan, nan, nan, 0.52606087909090848, 0.070347499999999993, nan, nan, nan, -0.08588740000000003, 1.2715499999999997, 1.6854173469387763, 1.32336755263158, 0.014426700000000008, 1.2715500000000002, 1.4878646666666659, nan, nan, 1.27155, 1.2715499999999995, nan, 0.014426700000000001, nan, 0.46370280232558136, nan, 1.2877735999999993, 0.014426700000000001, nan, -0.069975565853658453, 1.2715500000000004, 1.4856463571428571, nan, -0.13846486250000001, nan, nan, nan, nan, nan, 2.0827300000000002, nan, nan, -0.23952499999999999, nan, -0.081525099999999975, -2.6967698454545443, 1.2715500000000004, nan, 1.2715499999999997, nan, 1.2715500000000002, -0.141319, nan, nan, 2.3200027692307668, nan, nan, 0.69451990909090966, 0.65324594736842123, nan, nan, 2.0827009210526297, nan, nan, nan, 2.7451728189189217, 1.2715500000000002, -0.17221400000000003, -0.27596100000000007, nan, 0.017448014457831333, 0.31945590851063838, 1.2715500000000004, nan, -0.16558600000000001, nan, nan, 2.4295312371134004, 1.2715500000000002, nan, 1.2985761886792471, 1.8073283333333339, nan, nan, 0.3089325333333337, nan, -0.057379326315789486, nan, nan, 2.4532207407407416, nan, 1.5184073488372103, nan, nan, 2.0827300000000002, 0.014426700000000001, -0.096179500000000015, 0.18414893200000002, nan, nan, nan, nan, 0.73957447727272729, 0.3023497053763442, nan, nan, nan, nan, 1.2715499999999997, 2.745963617021276, -4.0651200000000047, -4.0651200000000047, 0.038987000000000001, nan, nan, nan, 0.093558480000000069, 0.15792006764705874, nan, nan, 1.2816897500000013, nan, nan, -0.58537300000000003, nan, -0.0481165, nan, 1.2715499999999993, 1.27155, 0.78511984000000012, nan, -4.4955378947368398, 3.3085603809523816, nan, nan, 0.34710227234042534, 1.3375762790697689, -1.3839314285714281, nan, 0.20647386808510668, nan, -4.0651200000000021, nan, 2.4687138596491245, -0.62220299999999995, nan, nan, nan, 1.2792755238095253, 2.0827299999999997, nan, nan, 0.037943127692307677, nan, nan, nan, 0.02828629999999999, -0.25881694117647064, nan, 2.1614552099999984, 1.3321366769230774, -1.9383333333333332, nan, 0.014426700000000011, 0.025760999999999992, nan, -0.34058000000000005, 1.2668261194029855, nan, -0.58537300000000014, nan, 0.014426700000000009, nan, 1.2954082352941174, nan, 0.41320702913385804, 1.6519781094594597, nan, 1.2715500000000004, nan, nan, nan, nan, -2.37744, 1.2715500000000002, nan, 1.2715499999999997, nan, 1.7551380769230762, 0.69424199999999969, 1.7561510389610391, nan, nan, nan, 0.014426700000000009, 2.1081730530973433, -0.62220300000000017, nan, nan, 0.56100589076923169, nan, 0.7358055349999999, nan, 2.1021474603174553, 1.27155, 0.87830201153846132, 1.2715499999999995, 1.0985212575757577, nan, 1.327809057142858, 1.2437367707865188, 0.6587494442105265, -0.057751135555555708, 0.31698499805825253, nan, nan, nan, -0.10927099999999995, nan, nan, nan, 0.028988797619047664, nan, nan, nan, 0.19138211384615381, 1.2887414461538467, 1.2715500000000002, 0.045761497560975611, nan, nan, nan, nan, -0.071295972727272741, -0.34057999999999999, nan, 1.9683932075471684, nan, nan, nan, 0.41949307307692324, -4.0651200000000021, 1.3569373684210522, -0.072157999999999972, 2.2107891346153803, -4.0651200000000021, 1.3936214545454564, 3.0262301886792446, nan, nan, -0.14413600000000001, 1.2715500000000004, 0.47241099999999991, 2.8997672727272734, 0.080108599999999988, nan, nan, nan, 1.2715500000000002, 0.015457078571428575, 0.036063383333333338, 0.014426700000000009, nan, nan], 4: [nan, 0.036864688888888879, nan, nan, nan, 1.2715500000000002, nan, nan, nan, 1.913371232876713, 1.0530400384615388, nan, nan, 1.2530165306122467, 1.4471662886597936, 1.3286244057971019, 0.078622097142857131, nan, 1.2715499999999995, 1.5864997332231403, 0.094085809523809544, 0.015512599999999994, nan, nan, 0.035186382692307665, -0.17221400000000001, -0.16947505263157894, 1.2715500000000002, nan, nan, 1.2715500000000004, 1.8252125396825387, nan, 0.15997100000000003, nan, nan, 2.0827299999999993, nan, nan, 1.2715499999999993, nan, -1.1551699999999998, 0.64280968214285683, 1.2715499999999997, 1.5101323529411781, 0.015347500000000007, 1.2715499999999997, -0.90248500000000031, -0.063302600000000001, 1.27155, 1.2715500000000006, 0.43094508196721276, nan, 1.2715499999999993, 1.3157961818181816, 0.16761435423728802, 0.11342381818181821, -2.7694000000000001, -0.025511714285714256, 3.0220300000000004, nan, nan, nan, nan, 1.2715500000000002, nan, 1.2715500000000002, -0.10927099999999997, 1.3220388974358985, -0.71398554545454418, 1.2715500000000004, 0.68383355172413784, 1.2819497435897449, nan, nan, 1.1148634137931044, -0.19193499999999999, nan, nan, 1.2715499999999997, 2.4881704807692295, 2.3829901272727252, nan, 1.6427679661016965, 1.2715499999999997, -4.0651200000000047, 1.1897139999999997, 0.69424199999999969, nan, nan, nan, nan, nan, nan, 0.014426700000000009, -0.154945, nan, nan, 1.4393803448275866, 0.017241392682926838, 1.6882691764705879, nan, 0.14829127750000001, 0.088919931034482799, 1.2715500000000004, -0.56780157433962253, -0.23681085641975297, -0.97205183333333356, 2.9773163636363615, nan, nan, 1.2715500000000002, nan, nan, -0.55257100000000015, 0.12008600000000001, nan, 1.4763899999999996, 1.6459385897435912, nan, nan, nan, 1.707020543119264, nan, nan, nan, nan, nan, 0.019495299999999997, 1.5139201869158869, 0.035496480882352938, nan, nan, nan, 0.18986688888888895, nan, nan, nan, 1.2715500000000002, 0.034873999999999801, nan, nan, nan, nan, 3.0076071802325561, 1.2715500000000004, nan, nan, nan, nan, 2.0827299999999993, nan, -0.34058000000000005, 0.45255744047619073, nan, nan, nan, -0.96438011320754713, nan, nan, -0.29864600000000002, nan, nan, nan, -0.10927099999999995, nan, -0.012377528571428563, 1.2715500000000002, nan, 1.27155, 0.69424199999999969, nan, nan, nan, nan, 1.2715499999999997, 0.012777196551723959, nan, 1.2715500000000002, nan, 1.6992630909090927, nan, nan, -0.40113231052631582, 1.3743418181818177, -0.58537300000000014, nan, nan, nan, nan, nan, 2.0057516799999959, nan, 1.3798258153846159, 1.8943649719626159, 2.4986761538461546, 1.2715499999999991, -0.34058000000000005, 0.11032805937500002, 1.8674840217821769, nan, nan, 2.3712216049382686, nan, 1.2715499999999991, nan, 0.23934999999999998, nan, nan, -0.14157453442622933, nan, nan, nan, nan, nan, 0.012213677419354856, 1.2715499999999997, -0.62220300000000017, nan, nan, nan, 0.98398308196721262, 1.27155, nan, nan, nan, nan, nan, 0.74895073333333351, 0.69424199999999958, nan, nan, nan, nan, nan, nan, nan, -0.34058000000000005, nan, nan, 1.0660674915254229, nan, 1.3391483333333352, nan, nan, 0.0534209, 1.3096110804597714, nan, nan, nan, nan, 1.7576007142857144, nan, nan, nan, nan, nan, 1.1487885984126982, 1.9168068181818185, nan, nan, 0.25933650869565239, 0.026398642857142853, nan, nan, -0.58537300000000014, nan, nan, nan, nan, nan, 1.5090518679245291, 0.11682762876712334, nan, nan, nan, -0.58537300000000014, nan, 1.422467209302325, nan, -0.024061600000000006, 1.2715500000000002, nan, nan, 0.14110774999999992, nan, nan, nan, nan, 0.13021197872340406, -0.16947505263157894, nan, 0.82881218750000019, 0.85346017021276588, 1.27155, nan, 1.8510368333333298, 1.2806643820224737, 0.87895117241379317, 1.2715499999999993, nan, 0.25861661481481463, nan, -0.11906772708333328, nan, nan, nan, nan, nan, nan, nan, nan, nan, nan, 1.2715500000000002, -0.10713416521739126, nan, 1.2715499999999997, 3.5524955670103191, 1.2715499999999997, 0.69975998556701002, -0.44986500000000007, nan, -0.050120500000000005, 1.2715499999999997, nan, 0.074360437288135517, 2.9817993624161057, nan, -0.87150800000000017, nan, nan, -0.34058000000000005, 1.5214560344827577, nan, nan, nan, 0.90412680555555547, nan, nan, nan, nan, nan, 1.2715499999999995, nan, nan, 1.2715500000000004, 0.014426700000000004, nan, 1.3042585652173908, -0.97388607142857087, 1.27155, 0.13355421275167778, 1.2881046938775502, nan, nan, 0.6316152017857144, -0.34058000000000005, nan, 1.2823657333333345, -0.59221099999999993, nan, nan, 2.7601756349206337, 0.47241099999999997, 1.2715500000000002, 1.4515817194174743, nan, 1.2591145492063489, nan, nan, nan, nan, 0.17318898536585373, -0.66383199999999998, 4.0995441791044778, -0.27596100000000007, nan, -0.08588740000000003, nan, -1.3826099999999999, nan, nan, 0.47150855466666675, 0.014426700000000009, 0.72161770576923068, 1.2715500000000004, 1.4147484348484838, nan, 0.058291055555555554, nan, nan, nan, nan, 1.2715499999999991, nan, -0.9806224285714269, 1.6442423863636355, 1.1042724927536227, nan, 1.2715500000000002, nan, nan, -0.23952499999999999, nan, nan, nan, 0.03065383793103452, nan, 1.7230272477064221, 1.2715500000000004, nan, -2.1091468932584263, nan, 1.0825581240000006, nan, nan, 0.65480072916666665, 1.7360697815126025, 0.10667372727272725, -3.6376928125000014, 1.2932296060606066, 0.81889955249999957, nan, nan, nan, nan, 1.9475144444444448, nan, 1.2715499999999995, 1.2715499999999995, nan, 1.580956907216494, 2.1127709142857136, 0.076137198113207571, 1.27155, 2.4861543661971814, -4.0651200000000003, 1.27155, 2.6200839240506313, 2.0440780952380955, 0.15564195482954621, 3.5015043712574867, 2.3284202547770652, nan, nan, nan, 1.2715500000000004, nan, nan, 1.2715500000000002, -0.038190300000000003, nan, -0.096179500000000015, 0.066153836923076942, 0.57459217708333454, nan, nan, 0.89799776470588177, nan, 1.2715499999999991, nan, nan, nan, 1.7447383333333335, -1.9144202083333335, 1.2715499999999993, 1.2715499999999997, nan, 0.033548000000000008, nan, nan, 2.2563361011235945, nan, nan, -0.10927099999999995, 1.2715500000000004, 0.061446697222222242, nan, nan, nan, 1.2715500000000008, 1.2715499999999997, 1.7420343999999992, nan, nan, 1.2715499999999997, 1.4337859999999998, nan, nan, nan, nan, 0.76271437857142876, 1.2715500000000002, nan, nan, 2.0827300000000002, nan, -1.0179369999999981, 0.00099309999999997486, 1.2715500000000002, -0.11446399999999995, nan, 0.69424199999999969, 0.69424199999999969, nan, 2.4512366071428557, nan, -0.141319, nan, nan, nan, nan, nan, nan, 1.3004844999999996, 1.2961312121212121, -0.3342950981609189, 2.2304849206349204, 1.2862037192982454, 1.285069666666667, nan, nan, 0.42833418625000003, -0.08015119599999998, 0.84720477175572539, 1.27155, 1.27155, 0.95471780606060619, nan, nan, 1.0372347000000002, 1.7547066187050326, -0.120174, nan, 1.2715500000000002, 1.9279712048192745, nan, nan, 1.3027492307692312, nan, 0.76163550000000024, nan, nan, 1.6640520535714278, 1.2715500000000002, nan, 2.4933731968750013, 2.0827300000000002, nan, nan, 0.20789522941176469, nan, nan, nan, 2.0827299999999993, nan, nan, nan, nan, 1.2715499999999993, 0.056492779999999923, 1.2715500000000002, nan, nan, nan, 1.2715499999999997, 0.014426700000000006, -0.50004042903225854, nan, nan, 1.1006434513513519, 1.5728454285714277, 0.53417219857142872, 1.7350814285714289, nan, nan, nan, 1.2715500000000002, 1.2715500000000002, nan, 0.014426700000000009, nan, nan, 1.3431247058823526, nan, nan, -0.34058000000000005, 0.69424199999999969, nan, nan, nan, nan, nan, nan, nan, -1.891820188679247, nan, 1.27155, nan, 1.2715499999999997, nan, 2.3823287999999994, nan, 2.31392, nan, 1.566596839694653, nan, nan, 3.141703043478258, 2.4347098113207535, nan, nan, 1.7984794078947355, nan, nan, nan, -0.037862246666666668, 0.55580339102564091, -0.16947505263157894, nan, 2.0827299999999989, nan, nan, nan, nan, nan, -0.17147200000000004, -0.060012199999999988, 0.37226881150442476, -1.9909191304347826, 3.0365958749999988, 0.15384042553191482, 1.9515492222222206, nan, nan, 0.92022133783783744, nan, nan, nan, nan, 1.2715499999999993, nan, 1.2715499999999997, nan, -0.7897639999999998, 1.4951035433070845, nan, 1.8072349056603783, nan, nan, nan, nan, nan, nan, 1.2715500000000002, nan, nan, nan, 3.454774166666668, 3.5294828124999977, 1.0191516175257729, 0.42889175249999978, nan, nan, nan, nan, nan, -0.23952499999999999, nan, nan, 1.2715500000000006, nan, nan, nan, nan, -0.2516183919999998, -0.0039730012489795933, 1.2715499999999997, 0.70975408666666651, 1.3121493195876315, nan, nan, nan, 0.81806400000000035, nan, nan, 0.69424199999999958, 1.2944001408450714, 1.2715500000000002, nan, nan, nan, -4.0651200000000003, 1.2670408085365852, nan, 0.93492393015872977, -0.96764675000000022, nan, 2.0595534285714279, 1.2715500000000004, 1.7653117391304349, 2.0827300000000006, -0.041481700000000003, 0.028851999999999992, nan, 0.070586356410256415, nan, -0.032959699999999995, nan, 0.047512575714285722, nan, 1.1375820000000003, 0.38604965517241235, nan, nan, nan, nan, nan, 1.5191733684210524, -0.58537300000000014, -0.038190300000000003, nan, 0.28664899999999993, 0.74897181754385944, 1.27155, nan, 1.9952364705882355, 2.3844518571428575, nan, -2.5406395652173912, nan, -0.11446399999999995, nan, nan, 0.020602561538461552, 1.2715499999999997, nan, 1.271550000000002, nan, nan, 0.69424199999999969, 1.7796570422535225, -0.16700539354838689, -0.58537300000000014, nan, nan, 1.5603967144578306, nan, nan, 1.27155, 0.024260965975609807, nan, 2.2855037500000006, nan, 1.3500512903225805, 2.076274523809523, 1.2715499999999995, 1.2715500000000004, 0.10084027818181815, 1.2715500000000002, 1.2875563191489361, 3.2806733333333344, 1.8173292592592589, 0.043394340000000017, 1.4260604761904765, 1.2715499999999995, -0.022462497468354437, 1.2715499999999991, nan, 0.9460334285714288, nan, nan, nan, nan, -0.032483260227272749, nan, 1.2715500000000004, 1.3157961818181816, 1.1144095875000002, 0.51893195753424659, -0.58537300000000014, 0.69424199999999969, nan, nan, -0.0040796461538461469, 0.69283666666666721, nan, nan, 2.2688610650887595, nan, nan, nan, nan, nan, 1.8025041818181817, nan, 2.141152621359224, 1.5554630000000003, 3.0266677083333327, nan, -0.092485499999999998, nan, nan, nan, -0.58839557142857146, nan, 1.2715500000000006, nan, 0.068673799999999993, nan, 0.014426700000000001, -0.39605200000000002, -0.39605200000000002, nan, nan], 5: [-0.34058000000000005, nan, -0.58537300000000014, nan, 0.00043296666666669165, 0.062706100000000001, nan, nan, nan, 2.5190582500000001, nan, 0.015027799999999996, nan, 1.8162439130434773, 2.4350759722222204, 1.5315843239436595, nan, 1.2715500000000002, 1.2715499999999993, 0.102962, nan, -0.16947505263157894, nan, nan, nan, nan, 0.049210531707317068, nan, -0.019409000000000072, 1.3127964406779662, 1.27155, -0.089064500000000019, nan, nan, nan, -0.10303799999999998, nan, nan, 2.4043264339622623, 1.2715499999999997, nan, 0.020336703296702147, 1.3018381714285707, 1.6180972131147529, nan, 2.4174587272727281, nan, -0.059543493023255831, 1.7948700000000033, 1.8876434594339613, nan, 1.27155, 1.3793650632911356, -0.029933966666666662, nan, 2.8011188888888903, nan, nan, nan, nan, 3.0220300000000004, nan, 0.14877757101449288, nan, 1.3094166730769226, nan, 1.2799997916666686, 1.2715499999999993, nan, 0.089874688888888929, 1.4331723170731725, nan, nan, 2.1299849333333301, nan, nan, nan, nan, 2.2556104081632684, 2.3321675999999973, -0.044553500000000017, 1.2715499999999993, 1.2715499999999995, -0.78821736842105239, -0.080167700000000008, nan, nan, nan, nan, 1.2715499999999991, -2.7694000000000014, nan, nan, nan, -0.072326899999999972, nan, 0.13909946481481461, 0.76968693745454519, nan, 1.0944610250000009, nan, 0.76084365937500009, 0.043975754285714298, 1.1336889927536233, -0.23952499999999999, nan, 0.49566026806722646, nan, 3.0220300000000004, nan, nan, nan, nan, 0.080108599999999988, 1.913721931818182, 1.1757274445378147, -0.080167700000000008, 0.038084202380952399, nan, 1.4904398412698405, nan, nan, nan, nan, nan, nan, 0.15225909571428564, 1.2715499999999995, 2.1823202631578944, nan, nan, nan, nan, nan, 2.4823926086956529, 0.043711300000000002, nan, nan, nan, nan, 1.2715500000000002, 1.2715500000000011, 0.21861804347826083, nan, nan, nan, -0.16805899999999999, nan, nan, 0.48101617647058864, nan, 0.87465075000000014, nan, 0.014426700000000008, nan, nan, 2.5362902631578952, 1.27155, nan, -0.50805966666666669, nan, nan, 0.56926217358490583, 1.746806922857143, -0.58537300000000014, 1.3178809882352953, nan, nan, nan, -0.028644200000000005, -4.0651200000000047, nan, nan, 1.2715500000000004, -0.62220299999999995, 1.5459410144927559, 0.14402999999999994, 1.2715499999999993, 0.08595646923076905, 0.071574739473684201, -2.3679066518518548, 1.0598703999999999, 1.1940943131147539, -0.58537300000000003, nan, nan, nan, 1.27155, nan, -0.16700539354838689, 3.2607800000000005, nan, 0.024375182758620686, 1.4612958260869557, 2.9566217025640995, 0.92257414880952404, nan, 0.73524353488372129, 2.5040810701754386, 0.018261499999999993, nan, 2.4769655555555565, nan, 1.5304372340425532, 0.50258650704225349, nan, -0.18818225185185167, nan, 0.205405, -0.34058000000000005, -0.23952499999999999, nan, nan, nan, -0.11446399999999995, 1.9775550000000004, nan, -0.58537300000000014, -0.58537300000000014, nan, 1.3627588235294135, 0.34549761162790688, 1.2715499999999993, -0.10927099999999998, nan, 1.2535116000000004, nan, 1.2974912758620691, nan, 0.47241100000000003, nan, nan, nan, nan, nan, nan, 0.51231983606557385, -0.024061599999999999, 0.70728723728813603, nan, 0.52682809333333314, 1.2715499999999995, nan, nan, 1.6927574999999977, 0.062057325490195991, 0.035316713793103464, nan, 1.4678032258064528, 1.2715499999999997, nan, nan, nan, nan, nan, 2.7972557142857122, nan, nan, nan, 1.2715500000000015, nan, nan, nan, -0.25803445833333333, nan, nan, 0.055817912962962977, 0.69424199999999991, 2.0050293373493941, nan, nan, nan, nan, nan, 1.2715499999999997, nan, 1.2715500000000008, nan, 1.3996310526315785, 0.69424199999999947, 1.6911258620689651, -0.063302600000000001, nan, nan, nan, nan, 1.8081046874999984, nan, nan, 1.1775448842105272, 1.2715499999999991, -0.51451749999999996, nan, 1.2715500000000004, 0.3519842142857138, 1.3303281194029855, 0.92450677777777746, -0.16947505263157894, nan, 3.0884728787878788, 0.040975738235294136, -0.072326899999999972, nan, nan, nan, nan, nan, nan, nan, 0.13728250188679242, -0.015826520000000024, 1.271550000000002, 1.2715500000000004, nan, -0.34058000000000005, 2.0827299999999989, 0.97878224062499952, nan, 2.1757313924050616, -0.44986500000000007, nan, 1.2715499999999997, 0.47895073418803413, 0.014426700000000009, nan, 1.3153975675675682, nan, 0.080108599999999988, nan, nan, nan, 1.3475981249999998, 1.2715500000000004, nan, 0.019770343137254943, 0.56142493033707841, nan, nan, -0.4028687115384616, nan, nan, -0.024061599999999999, 1.2715499999999997, nan, nan, nan, 1.5124148333333309, 0.67321353052631538, 1.2715500000000002, 1.8569837254901949, 1.2891843478260863, 0.96493902499999917, nan, 0.028196304545454541, nan, nan, 1.2819497435897449, nan, 1.2715500000000002, 0.047271369565217422, 2.1421983999999989, 0.075896299999999972, -0.48653375000000021, 1.7689219999999974, nan, 1.3278819444444454, nan, nan, nan, nan, 0.35701900000000009, nan, 1.2715499999999993, -0.27596100000000007, nan, nan, nan, nan, nan, nan, nan, 1.2715500000000004, 0.027597975925925881, 1.3385598000000003, 1.27155, 1.3680882031249997, 0.21194998541666685, nan, nan, nan, nan, nan, 1.2715499999999997, nan, 1.4035665957446803, 2.1817303564516095, nan, nan, 1.042483646153846, nan, nan, 0.47241099999999997, -0.21792200000000003, nan, 0.13630883333333332, 2.0827299999999989, nan, 1.6218585763888873, nan, nan, -0.12648400000000001, nan, -1.5746740000000052, nan, 0.097909423076923088, 1.2715500000000002, 1.2767069500000008, nan, 1.3005207142857145, 1.9089244109588988, nan, 1.2715500000000004, nan, nan, nan, 1.2715500000000004, nan, 2.89214423076923, nan, nan, nan, 0.016523393023255818, nan, nan, 2.0902229189189172, nan, 1.3850027499999986, 2.991805802469131, nan, 0.51895994228395148, 1.9299371264367788, 2.4544424576271147, nan, nan, nan, nan, nan, nan, 0.60092877229729724, nan, nan, nan, 1.2715500000000002, 1.5346354054054046, nan, 0.03136477857142856, 1.27155, 0.038407653225806478, nan, nan, nan, nan, 1.6951515625000022, -1.9909191304347826, -1.4539772413793086, 1.7621094285714309, nan, nan, nan, 0.033548000000000008, 1.4865615662650598, nan, nan, 1.2798273469387775, 0.069041496226415089, nan, -0.024061600000000002, nan, 1.2715499999999997, 1.527712105263157, 2.0827300000000002, nan, nan, 0.6110477528846151, 1.3012273170731723, 0.11293181213333346, nan, nan, -0.58537300000000014, 0.38917418421052613, nan, nan, nan, 1.2715499999999997, 1.27155, 1.9296535714285734, 0.037961299999999989, 0.11086699999999999, nan, 0.066964503124999977, nan, nan, 0.063069262903225815, nan, 0.014426700000000008, -0.0246923, 1.8711487808219167, nan, nan, 0.074914149122807111, 3.6002623214285707, -0.023545957142857139, -0.16700539354838689, nan, 1.2715500000000004, nan, nan, 0.8036875714285715, 1.320776675000001, 0.81352842975206585, nan, 2.4314412499999962, 3.8243450793650777, -0.072326899999999972, 2.249596794871791, nan, 2.1123420000000013, nan, 0.014426700000000001, 0.80816839245283012, 1.5599695555555562, nan, nan, nan, nan, nan, 1.6132567816091958, nan, nan, nan, nan, 0.27666595327102811, 1.2715500000000015, nan, 4.271345158730159, 1.0138563999999999, nan, 2.6234600000000006, nan, nan, nan, nan, 1.7596567532467537, nan, nan, nan, nan, 0.010622741666666664, 0.7962023157894742, nan, nan, nan, nan, 1.2715500000000004, 1.2715499999999993, nan, -0.31898025000000169, 0.51189731111111125, nan, 1.5960219999999985, nan, nan, 1.2715499999999991, 0.062706100000000001, nan, nan, nan, -1.497825280898881, nan, 1.4398175118110208, nan, nan, nan, 1.2715499999999997, 1.6833746153846181, nan, nan, nan, nan, -0.1663904655172414, nan, nan, 1.27155, nan, -0.16700539354838689, nan, nan, 1.4968777777777778, nan, nan, 0.038286000000000021, -0.75415259574468074, 1.2715499999999997, nan, nan, 1.5533367948717949, nan, 2.5227397087378614, nan, nan, nan, nan, nan, nan, nan, nan, nan, 0.0294407, 1.8282213235294145, 0.35701900000000009, 1.2715499999999993, nan, 0.0043628850000000134, 1.2715500000000004, nan, nan, 0.035184199999999999, -0.035382799999999999, 1.2715500000000002, nan, 2.3572527999999995, 1.27155, 1.5709128181818153, nan, nan, 1.2961312121212121, 0.23935000000000001, 4.3042484285714249, nan, nan, 2.3746903030303046, -1.0934394736842104, 1.3268577272727264, nan, nan, 2.1669530645161266, nan, -0.92776597241379322, nan, nan, nan, nan, nan, 2.2760237096774207, 0.5127267692307691, 0.019235400000000007, nan, nan, -1.2274593333333332, 1.2715500000000004, 0.18353094062500003, 1.2715499999999997, nan, nan, nan, nan, nan, nan, nan, 1.3253419999999996, 1.2715499999999993, -1.3279284722222222, nan, nan, -0.021345179687499962, -0.42094142142857127, nan, 0.048230328999999877, -0.81671217391304329, 1.3309046341463409, nan, nan, nan, 1.285069666666667, nan, 0.2999828260869567, 0.54002497619047585, 1.1419888400000002, 1.8225401886792443, 0.025982606153846198, nan, nan, -1.3372299999999981, 0.013775034375000206, 1.2715499999999991, 1.7251444648484846, nan, 1.2715500000000004, 2.3314657999999984, 1.9898239999999983, nan, 1.2715500000000002, 1.8981628723404222, 0.69424199999999958, nan, nan, 0.014426700000000008, nan, nan, 0.026277008108108079, nan, 0.62142453018867949, 1.5450675851851816, 2.1027538888888877, nan, nan, nan, 0.028851999999999992, -0.34058000000000005, 1.27155, 0.011323399999999999, nan, 0.043695525396825426, 0.035210380645161285, nan, 1.7456217708333295, nan, 1.27155, 2.179565074999998, nan, 1.2715499999999997, nan, nan, nan, nan, nan, 1.2715499999999993, nan, 1.271550000000002, nan, 0.66727771818181825, 1.1031685000000007, 0.80812181818181839, nan, nan, nan, nan, 0.48896381705468733, nan, nan, nan, 1.8030127586206892, 1.2715499999999993, nan, 1.2715499999999993, nan, 1.2819497435897449, 0.22238102232142862, 0.96813206451612943, 0.048990489473684222, 1.2715499999999997, 1.2715499999999997, -0.044602428571428855, 1.27155, 1.6425455813953485, nan, 0.3980603809160308, 0.27647339010989019, nan, nan, nan, 1.2404582608695651, nan, nan, nan, nan, 0.64369567926829241, nan, nan, 1.3059135362318852, 1.5566776859504114, 1.4164035714285714, 1.2715500000000002, nan, nan, 0.075896299999999972, -0.90248500000000031, nan, -0.07153936000000001, nan, nan, 1.5570997151006691, nan, nan, nan, nan, -4.0651200000000003, 1.27155, 1.9557934651162736, nan, 1.7582580000000001, 1.27155, nan, nan, nan, nan, nan, 2.5044394523809537, nan, nan, nan, nan, nan, -0.31143700000000002, nan, 0.17816730833333341, nan]}\n",
        "38\n"
       ]
      },
      {
       "output_type": "pyout",
       "prompt_number": 57,
       "text": [
        "<matplotlib.legend.Legend at 0x3457f7d0>"
       ]
      },
      {
       "output_type": "display_data",
       "png": "[encoded data removed]"
      }
     ],
     "prompt_number": 57
    },
    {
     "cell_type": "code",
     "collapsed": false,
     "input": [
      "mean([1,2,3], [1,2,3])"
     ],
     "language": "python",
     "metadata": {},
     "outputs": [
      {
       "ename": "TypeError",
       "evalue": "an integer is required",
       "output_type": "pyerr",
       "traceback": [
        "\u001b[1;31m---------------------------------------------------------------------------\u001b[0m\n\u001b[1;31mTypeError\u001b[0m                                 Traceback (most recent call last)",
        "\u001b[1;32m<ipython-input-49-3b40620438f8>\u001b[0m in \u001b[0;36m<module>\u001b[1;34m()\u001b[0m\n\u001b[1;32m----> 1\u001b[1;33m \u001b[0mmean\u001b[0m\u001b[1;33m(\u001b[0m\u001b[1;33m[\u001b[0m\u001b[1;36m1\u001b[0m\u001b[1;33m,\u001b[0m\u001b[1;36m2\u001b[0m\u001b[1;33m,\u001b[0m\u001b[1;36m3\u001b[0m\u001b[1;33m]\u001b[0m\u001b[1;33m,\u001b[0m \u001b[1;33m[\u001b[0m\u001b[1;36m1\u001b[0m\u001b[1;33m,\u001b[0m\u001b[1;36m2\u001b[0m\u001b[1;33m,\u001b[0m\u001b[1;36m3\u001b[0m\u001b[1;33m]\u001b[0m\u001b[1;33m)\u001b[0m\u001b[1;33m\u001b[0m\u001b[0m\n\u001b[0m",
        "\u001b[1;32m/nas3/yeolab/Software/Python_dependencies-2.7/lib/numpy/core/fromnumeric.pyc\u001b[0m in \u001b[0;36mmean\u001b[1;34m(a, axis, dtype, out)\u001b[0m\n\u001b[0;32m   2371\u001b[0m         \u001b[0mmean\u001b[0m \u001b[1;33m=\u001b[0m \u001b[0ma\u001b[0m\u001b[1;33m.\u001b[0m\u001b[0mmean\u001b[0m\u001b[1;33m\u001b[0m\u001b[0m\n\u001b[0;32m   2372\u001b[0m     \u001b[1;32mexcept\u001b[0m \u001b[0mAttributeError\u001b[0m\u001b[1;33m:\u001b[0m\u001b[1;33m\u001b[0m\u001b[0m\n\u001b[1;32m-> 2373\u001b[1;33m         \u001b[1;32mreturn\u001b[0m \u001b[0m_wrapit\u001b[0m\u001b[1;33m(\u001b[0m\u001b[0ma\u001b[0m\u001b[1;33m,\u001b[0m \u001b[1;34m'mean'\u001b[0m\u001b[1;33m,\u001b[0m \u001b[0maxis\u001b[0m\u001b[1;33m,\u001b[0m \u001b[0mdtype\u001b[0m\u001b[1;33m,\u001b[0m \u001b[0mout\u001b[0m\u001b[1;33m)\u001b[0m\u001b[1;33m\u001b[0m\u001b[0m\n\u001b[0m\u001b[0;32m   2374\u001b[0m     \u001b[1;32mreturn\u001b[0m \u001b[0mmean\u001b[0m\u001b[1;33m(\u001b[0m\u001b[0maxis\u001b[0m\u001b[1;33m,\u001b[0m \u001b[0mdtype\u001b[0m\u001b[1;33m,\u001b[0m \u001b[0mout\u001b[0m\u001b[1;33m)\u001b[0m\u001b[1;33m\u001b[0m\u001b[0m\n\u001b[0;32m   2375\u001b[0m \u001b[1;33m\u001b[0m\u001b[0m\n",
        "\u001b[1;32m/nas3/yeolab/Software/Python_dependencies-2.7/lib/numpy/core/fromnumeric.pyc\u001b[0m in \u001b[0;36m_wrapit\u001b[1;34m(obj, method, *args, **kwds)\u001b[0m\n\u001b[0;32m     35\u001b[0m     \u001b[1;32mexcept\u001b[0m \u001b[0mAttributeError\u001b[0m\u001b[1;33m:\u001b[0m\u001b[1;33m\u001b[0m\u001b[0m\n\u001b[0;32m     36\u001b[0m         \u001b[0mwrap\u001b[0m \u001b[1;33m=\u001b[0m \u001b[0mNone\u001b[0m\u001b[1;33m\u001b[0m\u001b[0m\n\u001b[1;32m---> 37\u001b[1;33m     \u001b[0mresult\u001b[0m \u001b[1;33m=\u001b[0m \u001b[0mgetattr\u001b[0m\u001b[1;33m(\u001b[0m\u001b[0masarray\u001b[0m\u001b[1;33m(\u001b[0m\u001b[0mobj\u001b[0m\u001b[1;33m)\u001b[0m\u001b[1;33m,\u001b[0m\u001b[0mmethod\u001b[0m\u001b[1;33m)\u001b[0m\u001b[1;33m(\u001b[0m\u001b[1;33m*\u001b[0m\u001b[0margs\u001b[0m\u001b[1;33m,\u001b[0m \u001b[1;33m**\u001b[0m\u001b[0mkwds\u001b[0m\u001b[1;33m)\u001b[0m\u001b[1;33m\u001b[0m\u001b[0m\n\u001b[0m\u001b[0;32m     38\u001b[0m     \u001b[1;32mif\u001b[0m \u001b[0mwrap\u001b[0m\u001b[1;33m:\u001b[0m\u001b[1;33m\u001b[0m\u001b[0m\n\u001b[0;32m     39\u001b[0m         \u001b[1;32mif\u001b[0m \u001b[1;32mnot\u001b[0m \u001b[0misinstance\u001b[0m\u001b[1;33m(\u001b[0m\u001b[0mresult\u001b[0m\u001b[1;33m,\u001b[0m \u001b[0mmu\u001b[0m\u001b[1;33m.\u001b[0m\u001b[0mndarray\u001b[0m\u001b[1;33m)\u001b[0m\u001b[1;33m:\u001b[0m\u001b[1;33m\u001b[0m\u001b[0m\n",
        "\u001b[1;31mTypeError\u001b[0m: an integer is required"
       ]
      }
     ],
     "prompt_number": 49
    },
    {
     "cell_type": "code",
     "collapsed": false,
     "input": [
      "5 + nan"
     ],
     "language": "python",
     "metadata": {},
     "outputs": [
      {
       "output_type": "pyout",
       "prompt_number": 58,
       "text": [
        "nan"
       ]
      }
     ],
     "prompt_number": 58
    },
    {
     "cell_type": "code",
     "collapsed": false,
     "input": [
      "print \"Foo\""
     ],
     "language": "python",
     "metadata": {},
     "outputs": [
      {
       "output_type": "stream",
       "stream": "stdout",
       "text": [
        "Foo\n"
       ]
      }
     ],
     "prompt_number": 32
    },
    {
     "cell_type": "code",
     "collapsed": false,
     "input": [
      "structure_scores = DataFrame(score_dict)"
     ],
     "language": "python",
     "metadata": {},
     "outputs": [
      {
       "ename": "NameError",
       "evalue": "name 'score_dict' is not defined",
       "output_type": "pyerr",
       "traceback": [
        "\u001b[1;31m---------------------------------------------------------------------------\u001b[0m\n\u001b[1;31mNameError\u001b[0m                                 Traceback (most recent call last)",
        "\u001b[1;32m<ipython-input-33-0d8a4e4ba54a>\u001b[0m in \u001b[0;36m<module>\u001b[1;34m()\u001b[0m\n\u001b[1;32m----> 1\u001b[1;33m \u001b[0mstructure_scores\u001b[0m \u001b[1;33m=\u001b[0m \u001b[0mDataFrame\u001b[0m\u001b[1;33m(\u001b[0m\u001b[0mscore_dict\u001b[0m\u001b[1;33m)\u001b[0m\u001b[1;33m\u001b[0m\u001b[0m\n\u001b[0m",
        "\u001b[1;31mNameError\u001b[0m: name 'score_dict' is not defined"
       ]
      }
     ],
     "prompt_number": 33
    },
    {
     "cell_type": "code",
     "collapsed": false,
     "input": [
      "foo =pybedtools.BedTool(\"/nas3/lovci/projects/conservation/hg19/mammal_cons/ultra_proxintron.filtered_normsk.BED\")"
     ],
     "language": "python",
     "metadata": {},
     "outputs": [],
     "prompt_number": 11
    },
    {
     "cell_type": "code",
     "collapsed": false,
     "input": [
      "del foo"
     ],
     "language": "python",
     "metadata": {},
     "outputs": [],
     "prompt_number": 15
    },
    {
     "cell_type": "code",
     "collapsed": false,
     "input": [
      "foo"
     ],
     "language": "python",
     "metadata": {},
     "outputs": [
      {
       "ename": "NameError",
       "evalue": "name 'foo' is not defined",
       "output_type": "pyerr",
       "traceback": [
        "\u001b[1;31m---------------------------------------------------------------------------\u001b[0m\n\u001b[1;31mNameError\u001b[0m                                 Traceback (most recent call last)",
        "\u001b[1;32m<ipython-input-16-d3b07384d113>\u001b[0m in \u001b[0;36m<module>\u001b[1;34m()\u001b[0m\n\u001b[1;32m----> 1\u001b[1;33m \u001b[0mfoo\u001b[0m\u001b[1;33m\u001b[0m\u001b[0m\n\u001b[0m",
        "\u001b[1;31mNameError\u001b[0m: name 'foo' is not defined"
       ]
      }
     ],
     "prompt_number": 16
    },
    {
     "cell_type": "code",
     "collapsed": false,
     "input": [
      "os.path.exists(\"human_ultraProx2_shuffled.bed\")"
     ],
     "language": "python",
     "metadata": {},
     "outputs": [
      {
       "output_type": "pyout",
       "prompt_number": 4,
       "text": [
        "True"
       ]
      }
     ],
     "prompt_number": 4
    },
    {
     "cell_type": "code",
     "collapsed": false,
     "input": [
      "merged = mouse_CLIPDict['TDP43_1']\n",
      "for dataset in mouse_CLIPDict.values():\n",
      "    merged = merged.cat(dataset, postmerge=False)\n",
      "\n",
      "result = mouse_ultraDict['mouse_ultraDist'].intersect(merged, wa=True, u=True)\n",
      "print \"total RBPs overlapping \", len(result)\n",
      "print \"total SCRs \", len(mouse_ultraDict['mouse_ultraDist'])\n",
      "print \"total SCRs \", len(mouse_ultraDict['mouse_ultraProx'])\n",
      "print \"total distal SCRs overlapping with all RBPs\", len(result)  / float(len(mouse_ultraDict['mouse_ultraDist']))\n",
      "print \"total prox SCRs overlapping with all RBPs\", len(result)  / float(len(mouse_ultraDict['mouse_ultraProx']))"
     ],
     "language": "python",
     "metadata": {},
     "outputs": [
      {
       "output_type": "stream",
       "stream": "stdout",
       "text": [
        "total RBPs overlapping  "
       ]
      },
      {
       "output_type": "stream",
       "stream": "stdout",
       "text": [
        "23591\n",
        "total SCRs  "
       ]
      },
      {
       "output_type": "stream",
       "stream": "stdout",
       "text": [
        "229383\n",
        "total SCRs  "
       ]
      },
      {
       "output_type": "stream",
       "stream": "stdout",
       "text": [
        "194769\n",
        "total distal SCRs overlapping with all RBPs "
       ]
      },
      {
       "output_type": "stream",
       "stream": "stdout",
       "text": [
        "0.102845459341\n",
        "total distal SCRs overlapping with all RBPs "
       ]
      },
      {
       "output_type": "stream",
       "stream": "stdout",
       "text": [
        "0.121122971315\n"
       ]
      }
     ],
     "prompt_number": 8
    },
    {
     "cell_type": "code",
     "collapsed": false,
     "input": [
      "for x in range(10):\n",
      "    marged = pybedtools.BedTool(\"TDP43_1%s_shuffled.bed\" % (x))\n",
      "    for dataset in mouse_CLIPDict.keys():\n",
      "        merged = merged.cat(pybedtools.BedTool(key + x + \"_shuffled.bed\"), postmerge=False)\n",
      "    \n",
      "    SCRs = pybedtools.BedTool(\"mouse_ultraDist\" + x + \"_shuffled.bed\")\n",
      "    result = SCRs.intersect(merged, wa=True, u=True)\n",
      "    \n",
      "    print \"total RBPs overlapping \", len(result)\n",
      "    print \"total SCRs \", len(SCRs)\n",
      "    print \"total distal SCRs overlapping with all RBPs\", len(result)  / float(SCRs)\n"
     ],
     "language": "python",
     "metadata": {},
     "outputs": [],
     "prompt_number": "*"
    },
    {
     "cell_type": "code",
     "collapsed": false,
     "input": [
      "print len(mouse_ultraDict['mouse_ultraDist'])\n",
      "print len(human_ultraDict['human_ultraDist'])"
     ],
     "language": "python",
     "metadata": {},
     "outputs": [
      {
       "output_type": "stream",
       "stream": "stdout",
       "text": [
        "229383\n",
        "224813"
       ]
      },
      {
       "output_type": "stream",
       "stream": "stdout",
       "text": [
        "\n"
       ]
      }
     ],
     "prompt_number": 18
    },
    {
     "cell_type": "code",
     "collapsed": false,
     "input": [],
     "language": "python",
     "metadata": {},
     "outputs": []
    }
   ],
   "metadata": {}
  }
 ]
}