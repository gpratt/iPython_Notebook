{
 "metadata": {
  "name": "",
  "signature": "sha256:5d97330a58a663f6cd9ffb436d5d80145e0ff708372accce9784c34eb8a235f1"
 },
 "nbformat": 3,
 "nbformat_minor": 0,
 "worksheets": [
  {
   "cells": [
    {
     "cell_type": "code",
     "collapsed": false,
     "input": [
      "from gscripts.general import parsers\n",
      "import pandas as pd\n",
      "import glob\n",
      "from scipy.stats import linregress\n",
      "import os"
     ],
     "language": "python",
     "metadata": {},
     "outputs": [],
     "prompt_number": 86
    },
    {
     "cell_type": "code",
     "collapsed": false,
     "input": [
      "count_tags_df = {}\n",
      "for sample in glob.glob(\"/nas3/gpratt/ad-hoc/*.count\"):\n",
      "    count_tags_df[sample] = pd.read_table(sample, header=None,\n",
      "              names=[\"chrom\", \"start\", \"stop\", \"exon\", \"gene\", \"strand\", \"gene_id\", \"exon_id\", \"foo\"]).groupby(\"gene_id\").first()['gene']\n",
      "    \n",
      "count_tags_df = pd.concat(count_tags_df).unstack().T\n",
      "count_tags_df.columns = [os.path.basename(column).split(\".\")[0] for column in count_tags_df.columns]"
     ],
     "language": "python",
     "metadata": {},
     "outputs": [],
     "prompt_number": 82
    },
    {
     "cell_type": "code",
     "collapsed": false,
     "input": [
      "feature_counts = pd.read_table(\"/nas3/gpratt/ad-hoc/foo.counts\", comment=\"#\", skiprows=1, index_col=0)\n",
      "feature_counts.index = [index.split(\".\")[0] for index in feature_Counts.index]\n",
      "feature_counts.columns = [os.path.basename(column).split(\".\")[0] for column in feature_counts.columns]"
     ],
     "language": "python",
     "metadata": {},
     "outputs": [],
     "prompt_number": 88
    },
    {
     "cell_type": "code",
     "collapsed": false,
     "input": [
      "counts_feature = feature_Counts['../fet_rnaseq_merged_v1/KK1.polyATrim.adapterTrim.rmRep.sorted.rg.bam.sorted.bam'].copy()"
     ],
     "language": "python",
     "metadata": {},
     "outputs": [],
     "prompt_number": 73
    },
    {
     "cell_type": "code",
     "collapsed": false,
     "input": [
      "combined = pd.concat({\"count_tags\": count_tags_df.T, \"feature_counts\": feature_counts.T})\n",
      "combined = combined.swaplevel(0,1).sortlevel()\n",
      "combined = combined.dropna(axis=1)\n",
      "combined = combined.drop([\"Chr\", \"End\", \"Length\", \"Start\", \"Strand\"])"
     ],
     "language": "python",
     "metadata": {},
     "outputs": [],
     "prompt_number": 112
    },
    {
     "cell_type": "code",
     "collapsed": false,
     "input": [
      "for name, group in combined.groupby(level=0):\n",
      "    print name, linregress(group.ix[name, 'count_tags'], group.ix[name, 'feature_counts'])[2]"
     ],
     "language": "python",
     "metadata": {},
     "outputs": [
      {
       "output_type": "stream",
       "stream": "stdout",
       "text": [
        "20100307_MP22_1_embryonic_brain_TLS_knockout_RNAseq 0.939750266513\n",
        "20100307_MP23_1_embryonic_brain_WT_RNAseq "
       ]
      },
      {
       "output_type": "stream",
       "stream": "stdout",
       "text": [
        "0.974536035554\n",
        "20101029_MP33_1_TLS_knockdown_90%_mouse_brain_RNAseq 0.985438181554\n",
        "KK1 "
       ]
      },
      {
       "output_type": "stream",
       "stream": "stdout",
       "text": [
        "0.997832628772\n",
        "KK2 0.997711587023\n",
        "KK3 "
       ]
      },
      {
       "output_type": "stream",
       "stream": "stdout",
       "text": [
        "0.998491331311\n",
        "KK4 0.997428750314\n",
        "KK5 "
       ]
      },
      {
       "output_type": "stream",
       "stream": "stdout",
       "text": [
        "0.998159273022\n",
        "KK7 0.997550872369\n",
        "KK8 "
       ]
      },
      {
       "output_type": "stream",
       "stream": "stdout",
       "text": [
        "0.997388087339\n",
        "KK9 0.995251633498\n",
        "MP15_Striatum_C1_TDP43_knockdown_81%_RNAseq "
       ]
      },
      {
       "output_type": "stream",
       "stream": "stdout",
       "text": [
        "0.988728150141\n",
        "MP16_Striatum_C2_TDP43_knockdown_81%_RNAseq 0.986608683579\n",
        "MP18_embryonic_brain_TLS_knockout_RNAseq "
       ]
      },
      {
       "output_type": "stream",
       "stream": "stdout",
       "text": [
        "0.919502901794\n",
        "MP19_embryonic_brain_WT_RNAseq 0.968961458948\n",
        "MP20_embryonic_brain_TLS_knockout_RNAseq "
       ]
      },
      {
       "output_type": "stream",
       "stream": "stdout",
       "text": [
        "0.97780123838\n",
        "MP21_embryonic_brain_WT_RNAseq 0.982529044069\n",
        "MP25_Striatum_C2_control_oligo_RNAseq "
       ]
      },
      {
       "output_type": "stream",
       "stream": "stdout",
       "text": [
        "0.969703960799\n",
        "MP26_Striatum_C4_control_oligo_RNAseq 0.964293419251\n",
        "MP27_Striatum_D2_control_oligo_RNAseq "
       ]
      },
      {
       "output_type": "stream",
       "stream": "stdout",
       "text": [
        "0.975275964467\n",
        "MP28_Striatum_D3_control_oligo_RNAseq 0.963471996518\n",
        "MP29_Striatum_H2_TDP43_knockdown_78%_RNAseq "
       ]
      },
      {
       "output_type": "stream",
       "stream": "stdout",
       "text": [
        "0.968626063811\n",
        "MP30_Striatum_K2_TDP43_knockdown_80%_RNAseq 0.972153370285\n",
        "MP31_TLS_knockdown_90%_mouse_brain_RNAseq "
       ]
      },
      {
       "output_type": "stream",
       "stream": "stdout",
       "text": [
        "0.988662888032\n",
        "MP32_TLS_knockdown_90%_mouse_brain_RNAseq 0.990921095966\n",
        "MP34_TLS_knockdown_90%_mouse_brain_RNAseq "
       ]
      },
      {
       "output_type": "stream",
       "stream": "stdout",
       "text": [
        "0.992942356796\n"
       ]
      }
     ],
     "prompt_number": 122
    },
    {
     "cell_type": "code",
     "collapsed": false,
     "input": [
      "combined['ENSMUSG00000020680'].unstack()\n"
     ],
     "language": "python",
     "metadata": {},
     "outputs": [
      {
       "html": [
        "<div style=\"max-height:1000px;max-width:1500px;overflow:auto;\">\n",
        "<table border=\"1\" class=\"dataframe\">\n",
        "  <thead>\n",
        "    <tr style=\"text-align: right;\">\n",
        "      <th></th>\n",
        "      <th>count_tags</th>\n",
        "      <th>feature_counts</th>\n",
        "    </tr>\n",
        "  </thead>\n",
        "  <tbody>\n",
        "    <tr>\n",
        "      <th>20100307_MP22_1_embryonic_brain_TLS_knockout_RNAseq</th>\n",
        "      <td> 1657.574</td>\n",
        "      <td>  1700</td>\n",
        "    </tr>\n",
        "    <tr>\n",
        "      <th>20100307_MP23_1_embryonic_brain_WT_RNAseq</th>\n",
        "      <td> 1362.486</td>\n",
        "      <td>  1412</td>\n",
        "    </tr>\n",
        "    <tr>\n",
        "      <th>20101029_MP33_1_TLS_knockdown_90%_mouse_brain_RNAseq</th>\n",
        "      <td>  1746.17</td>\n",
        "      <td>  1783</td>\n",
        "    </tr>\n",
        "    <tr>\n",
        "      <th>KK1</th>\n",
        "      <td> 837.3594</td>\n",
        "      <td>   852</td>\n",
        "    </tr>\n",
        "    <tr>\n",
        "      <th>KK2</th>\n",
        "      <td>  1008.37</td>\n",
        "      <td>  1026</td>\n",
        "    </tr>\n",
        "    <tr>\n",
        "      <th>KK3</th>\n",
        "      <td> 23708.59</td>\n",
        "      <td> 24218</td>\n",
        "    </tr>\n",
        "    <tr>\n",
        "      <th>KK4</th>\n",
        "      <td> 874.9845</td>\n",
        "      <td>   896</td>\n",
        "    </tr>\n",
        "    <tr>\n",
        "      <th>KK5</th>\n",
        "      <td> 887.1439</td>\n",
        "      <td>   903</td>\n",
        "    </tr>\n",
        "    <tr>\n",
        "      <th>KK7</th>\n",
        "      <td> 95.75953</td>\n",
        "      <td>   101</td>\n",
        "    </tr>\n",
        "    <tr>\n",
        "      <th>KK8</th>\n",
        "      <td> 85.47474</td>\n",
        "      <td>    90</td>\n",
        "    </tr>\n",
        "    <tr>\n",
        "      <th>KK9</th>\n",
        "      <td> 3282.224</td>\n",
        "      <td>  3352</td>\n",
        "    </tr>\n",
        "    <tr>\n",
        "      <th>MP15_Striatum_C1_TDP43_knockdown_81%_RNAseq</th>\n",
        "      <td> 2182.655</td>\n",
        "      <td>  2255</td>\n",
        "    </tr>\n",
        "    <tr>\n",
        "      <th>MP16_Striatum_C2_TDP43_knockdown_81%_RNAseq</th>\n",
        "      <td> 2107.614</td>\n",
        "      <td>  2165</td>\n",
        "    </tr>\n",
        "    <tr>\n",
        "      <th>MP18_embryonic_brain_TLS_knockout_RNAseq</th>\n",
        "      <td> 2521.485</td>\n",
        "      <td>  2592</td>\n",
        "    </tr>\n",
        "    <tr>\n",
        "      <th>MP19_embryonic_brain_WT_RNAseq</th>\n",
        "      <td> 1906.012</td>\n",
        "      <td>  1975</td>\n",
        "    </tr>\n",
        "    <tr>\n",
        "      <th>MP20_embryonic_brain_TLS_knockout_RNAseq</th>\n",
        "      <td> 3933.084</td>\n",
        "      <td>  4027</td>\n",
        "    </tr>\n",
        "    <tr>\n",
        "      <th>MP21_embryonic_brain_WT_RNAseq</th>\n",
        "      <td> 2682.923</td>\n",
        "      <td>  2753</td>\n",
        "    </tr>\n",
        "    <tr>\n",
        "      <th>MP25_Striatum_C2_control_oligo_RNAseq</th>\n",
        "      <td> 1712.426</td>\n",
        "      <td>  1754</td>\n",
        "    </tr>\n",
        "    <tr>\n",
        "      <th>MP26_Striatum_C4_control_oligo_RNAseq</th>\n",
        "      <td> 3218.967</td>\n",
        "      <td>  3303</td>\n",
        "    </tr>\n",
        "    <tr>\n",
        "      <th>MP27_Striatum_D2_control_oligo_RNAseq</th>\n",
        "      <td> 2875.226</td>\n",
        "      <td>  2943</td>\n",
        "    </tr>\n",
        "    <tr>\n",
        "      <th>MP28_Striatum_D3_control_oligo_RNAseq</th>\n",
        "      <td> 2847.634</td>\n",
        "      <td>  2927</td>\n",
        "    </tr>\n",
        "    <tr>\n",
        "      <th>MP29_Striatum_H2_TDP43_knockdown_78%_RNAseq</th>\n",
        "      <td>   2545.9</td>\n",
        "      <td>  2620</td>\n",
        "    </tr>\n",
        "    <tr>\n",
        "      <th>MP30_Striatum_K2_TDP43_knockdown_80%_RNAseq</th>\n",
        "      <td> 1877.958</td>\n",
        "      <td>  1933</td>\n",
        "    </tr>\n",
        "    <tr>\n",
        "      <th>MP31_TLS_knockdown_90%_mouse_brain_RNAseq</th>\n",
        "      <td> 4628.143</td>\n",
        "      <td>  4725</td>\n",
        "    </tr>\n",
        "    <tr>\n",
        "      <th>MP32_TLS_knockdown_90%_mouse_brain_RNAseq</th>\n",
        "      <td> 3605.236</td>\n",
        "      <td>  3685</td>\n",
        "    </tr>\n",
        "    <tr>\n",
        "      <th>MP34_TLS_knockdown_90%_mouse_brain_RNAseq</th>\n",
        "      <td> 4079.622</td>\n",
        "      <td>  4183</td>\n",
        "    </tr>\n",
        "  </tbody>\n",
        "</table>\n",
        "<p>26 rows \u00d7 2 columns</p>\n",
        "</div>"
       ],
       "metadata": {},
       "output_type": "pyout",
       "prompt_number": 124,
       "text": [
        "                                                     count_tags feature_counts\n",
        "20100307_MP22_1_embryonic_brain_TLS_knockout_RNAseq    1657.574           1700\n",
        "20100307_MP23_1_embryonic_brain_WT_RNAseq              1362.486           1412\n",
        "20101029_MP33_1_TLS_knockdown_90%_mouse_brain_RNAseq    1746.17           1783\n",
        "KK1                                                    837.3594            852\n",
        "KK2                                                     1008.37           1026\n",
        "KK3                                                    23708.59          24218\n",
        "KK4                                                    874.9845            896\n",
        "KK5                                                    887.1439            903\n",
        "KK7                                                    95.75953            101\n",
        "KK8                                                    85.47474             90\n",
        "KK9                                                    3282.224           3352\n",
        "MP15_Striatum_C1_TDP43_knockdown_81%_RNAseq            2182.655           2255\n",
        "MP16_Striatum_C2_TDP43_knockdown_81%_RNAseq            2107.614           2165\n",
        "MP18_embryonic_brain_TLS_knockout_RNAseq               2521.485           2592\n",
        "MP19_embryonic_brain_WT_RNAseq                         1906.012           1975\n",
        "MP20_embryonic_brain_TLS_knockout_RNAseq               3933.084           4027\n",
        "MP21_embryonic_brain_WT_RNAseq                         2682.923           2753\n",
        "MP25_Striatum_C2_control_oligo_RNAseq                  1712.426           1754\n",
        "MP26_Striatum_C4_control_oligo_RNAseq                  3218.967           3303\n",
        "MP27_Striatum_D2_control_oligo_RNAseq                  2875.226           2943\n",
        "MP28_Striatum_D3_control_oligo_RNAseq                  2847.634           2927\n",
        "MP29_Striatum_H2_TDP43_knockdown_78%_RNAseq              2545.9           2620\n",
        "MP30_Striatum_K2_TDP43_knockdown_80%_RNAseq            1877.958           1933\n",
        "MP31_TLS_knockdown_90%_mouse_brain_RNAseq              4628.143           4725\n",
        "MP32_TLS_knockdown_90%_mouse_brain_RNAseq              3605.236           3685\n",
        "MP34_TLS_knockdown_90%_mouse_brain_RNAseq              4079.622           4183\n",
        "\n",
        "[26 rows x 2 columns]"
       ]
      }
     ],
     "prompt_number": 124
    },
    {
     "cell_type": "code",
     "collapsed": false,
     "input": [],
     "language": "python",
     "metadata": {},
     "outputs": [
      {
       "metadata": {},
       "output_type": "pyout",
       "prompt_number": 121,
       "text": [
        "0.99294235679605491"
       ]
      }
     ],
     "prompt_number": 121
    },
    {
     "cell_type": "code",
     "collapsed": false,
     "input": [
      "linregress?"
     ],
     "language": "python",
     "metadata": {},
     "outputs": [],
     "prompt_number": 59
    },
    {
     "cell_type": "code",
     "collapsed": false,
     "input": [],
     "language": "python",
     "metadata": {},
     "outputs": []
    }
   ],
   "metadata": {}
  }
 ]
}