{
 "metadata": {
  "name": ""
 },
 "nbformat": 3,
 "nbformat_minor": 0,
 "worksheets": [
  {
   "cells": [
    {
     "cell_type": "code",
     "collapsed": false,
     "input": [
      "import glob\n",
      "import os\n",
      "\n",
      "import pandas as pd\n",
      "from IPython.core.display import HTML\n",
      "\n",
      "from gscripts.general import parsers\n",
      "\n",
      "es_riboseq = \"/nas3/gpratt/projects/es_riboseq/analysis/es_riboseq_v1/\"\n",
      "public_riboseq = \"/nas3/gpratt/projects/public_riboseq/analysis/public_riboseq_v1/\"\n",
      "es_rnaseq = \"/nas3/gpratt/projects/es_riboseq/analysis/es_rnaseq_v1/\""
     ],
     "language": "python",
     "metadata": {
      "slideshow": {
       "slide_type": "skip"
      }
     },
     "outputs": [
      {
       "output_type": "stream",
       "stream": "stderr",
       "text": [
        "Exception in thread Thread-2:\n",
        "Traceback (most recent call last):\n",
        "  File \"/nas3/yeolab/Software/Python-2.7.5/lib/python2.7/threading.py\", line 808, in __bootstrap_inner\n",
        "    self.run()\n",
        "  File \"/nas3/yeolab/Software/Python-2.7.5/lib/python2.7/site-packages/IPython/kernel/zmq/heartbeat.py\", line 55, in run\n",
        "    zmq.device(zmq.FORWARDER, self.socket, self.socket)\n",
        "  File \"_device.pyx\", line 52, in zmq.core._device.device (zmq/core/_device.c:1040)\n",
        "  File \"_device.pyx\", line 82, in zmq.core._device.proxy (zmq/core/_device.c:1325)\n",
        "  File \"checkrc.pxd\", line 21, in zmq.core.checkrc._check_rc (zmq/core/_device.c:1562)\n",
        "ZMQError: Interrupted system call\n",
        "\n"
       ]
      }
     ],
     "prompt_number": 1
    },
    {
     "cell_type": "code",
     "collapsed": false,
     "input": [
      "def percent(x):\n",
      "    return \"{:.2f}%\".format(x * 100)"
     ],
     "language": "python",
     "metadata": {
      "slideshow": {
       "slide_type": "skip"
      }
     },
     "outputs": [],
     "prompt_number": 2
    },
    {
     "cell_type": "markdown",
     "metadata": {
      "slideshow": {
       "slide_type": "skip"
      }
     },
     "source": [
      "#Build Mapping Stats"
     ]
    },
    {
     "cell_type": "code",
     "collapsed": false,
     "input": [
      "combined_df = pd.concat([parsers.rnaseq_metrics(es_riboseq), \n",
      "])\n",
      "combined_df[\"percent_mapped\"] = combined_df['Uniquely mapped reads number'].astype(float) / combined_df['Number of input reads']\n",
      "combined_df[\"percent_repetative\"] = 1 - (combined_df['Number of input reads'] / combined_df['Processed reads'].astype(float))\n",
      "combined_df = combined_df.drop([\"Finished on\", \n",
      "                  \"Mapping speed, Million of reads per hour\", \n",
      "                  \"Trimmed bases\",\n",
      "                  \"Started job on\",\n",
      "                  \"Started mapping on\"], axis=1)\n",
      "\n"
     ],
     "language": "python",
     "metadata": {
      "slideshow": {
       "slide_type": "skip"
      }
     },
     "outputs": [],
     "prompt_number": 3
    },
    {
     "cell_type": "code",
     "collapsed": false,
     "input": [
      "rnaseq_df = parsers.rnaseq_metrics(es_rnaseq)\n",
      "rnaseq_df[\"percent_mapped\"] = rnaseq_df['Uniquely mapped reads number'].astype(float) / rnaseq_df['Number of input reads']\n",
      "rnaseq_df[\"percent_repetative\"] = 1 - (rnaseq_df['Number of input reads'] / rnaseq_df['Processed reads'].astype(float))\n",
      "rnaseq_df = rnaseq_df.drop([\"Finished on\", \n",
      "                  \"Mapping speed, Million of reads per hour\", \n",
      "                  \"Trimmed bases\",\n",
      "                  \"Started job on\",\n",
      "                  \"Started mapping on\"], axis=1)"
     ],
     "language": "python",
     "metadata": {
      "slideshow": {
       "slide_type": "skip"
      }
     },
     "outputs": [],
     "prompt_number": 4
    },
    {
     "cell_type": "code",
     "collapsed": false,
     "input": [
      "public_df = parsers.rnaseq_metrics(public_riboseq)\n",
      "public_df[\"percent_mapped\"] = public_df['Uniquely mapped reads number'].astype(float) / public_df['Number of input reads']\n",
      "public_df[\"percent_repetative\"] = 1 - (public_df['Number of input reads'] / public_df['Processed reads'].astype(float))\n",
      "public_df = public_df.drop([\"Finished on\", \n",
      "                  \"Mapping speed, Million of reads per hour\", \n",
      "                  \"Trimmed bases\",\n",
      "                  \"Started job on\",\n",
      "                  \"Started mapping on\"], axis=1)"
     ],
     "language": "python",
     "metadata": {
      "slideshow": {
       "slide_type": "skip"
      }
     },
     "outputs": [],
     "prompt_number": 5
    },
    {
     "cell_type": "markdown",
     "metadata": {
      "slideshow": {
       "slide_type": "fragment"
      }
     },
     "source": [
      "#Mapping Stats"
     ]
    },
    {
     "cell_type": "code",
     "collapsed": false,
     "input": [
      "float(combined_df.sum()[\"Uniquely mapped reads number\"]) / float(combined_df.sum()[\"Processed reads\"])"
     ],
     "language": "python",
     "metadata": {},
     "outputs": [
      {
       "metadata": {},
       "output_type": "pyout",
       "prompt_number": 15,
       "text": [
        "'41234366'"
       ]
      }
     ],
     "prompt_number": 15
    },
    {
     "cell_type": "code",
     "collapsed": false,
     "input": [
      "HTML(combined_df[['Processed reads',  \n",
      "                  'Number of input reads', \n",
      "                  'Uniquely mapped reads number', \n",
      "                  '% of reads unmapped: too short', \n",
      "                  'percent_repetative',\n",
      "                  'percent_mapped',\n",
      "                  ]].to_html(formatters={\"Number of input reads\" : parsers.commas,\n",
      "                             \"Uniquely mapped reads number\" : parsers.commas,\n",
      "                             \"Usable Reads\" : parsers.commas,\n",
      "                             \"Num Peaks\": parsers.commas,\n",
      "                             \"Trimmed reads\" : parsers.commas,\n",
      "                             \"Processed reads\" : parsers.commas,\n",
      "                             \"Too short reads\" : parsers.commas,\n",
      "                             \"percent_repetative\" :  percent,\n",
      "                             \"percent_mapped\" : percent,\n",
      "                             }))"
     ],
     "language": "python",
     "metadata": {
      "slideshow": {
       "slide_type": "fragment"
      }
     },
     "outputs": [
      {
       "html": [
        "<table border=\"1\" class=\"dataframe\">\n",
        "  <thead>\n",
        "    <tr style=\"text-align: right;\">\n",
        "      <th></th>\n",
        "      <th>Processed reads</th>\n",
        "      <th>Number of input reads</th>\n",
        "      <th>Uniquely mapped reads number</th>\n",
        "      <th>% of reads unmapped: too short</th>\n",
        "      <th>percent_repetative</th>\n",
        "      <th>percent_mapped</th>\n",
        "    </tr>\n",
        "  </thead>\n",
        "  <tbody>\n",
        "    <tr>\n",
        "      <th>ES_1_GATCAG_L006_R1</th>\n",
        "      <td> 12,250,315</td>\n",
        "      <td> 11,661,617</td>\n",
        "      <td>     62,257</td>\n",
        "      <td> 98.84%</td>\n",
        "      <td> 0.04805574</td>\n",
        "      <td> 0.005338625</td>\n",
        "    </tr>\n",
        "    <tr>\n",
        "      <th>ES_2_ACTTGA_L006_R1</th>\n",
        "      <td> 17,261,048</td>\n",
        "      <td>  8,448,461</td>\n",
        "      <td>  4,361,974</td>\n",
        "      <td> 15.83%</td>\n",
        "      <td>  0.5105476</td>\n",
        "      <td>    0.516304</td>\n",
        "    </tr>\n",
        "    <tr>\n",
        "      <th>ES_3_CAGATC_L006_R1</th>\n",
        "      <td>104,760,758</td>\n",
        "      <td> 45,329,485</td>\n",
        "      <td> 18,259,254</td>\n",
        "      <td> 14.17%</td>\n",
        "      <td>  0.5673047</td>\n",
        "      <td>   0.4028119</td>\n",
        "    </tr>\n",
        "    <tr>\n",
        "      <th>NPC_1_CGATGT_L005_R1</th>\n",
        "      <td>  2,321,435</td>\n",
        "      <td>    667,926</td>\n",
        "      <td>    360,730</td>\n",
        "      <td> 23.74%</td>\n",
        "      <td>  0.7122788</td>\n",
        "      <td>   0.5400748</td>\n",
        "    </tr>\n",
        "    <tr>\n",
        "      <th>NPC_2_ATCACG_L005_R1</th>\n",
        "      <td>101,588,130</td>\n",
        "      <td> 28,117,308</td>\n",
        "      <td> 15,292,287</td>\n",
        "      <td> 21.11%</td>\n",
        "      <td>  0.7232225</td>\n",
        "      <td>   0.5438745</td>\n",
        "    </tr>\n",
        "    <tr>\n",
        "      <th>SOX17_1_TGACCA_L005_R1</th>\n",
        "      <td>  2,905,925</td>\n",
        "      <td>  1,017,382</td>\n",
        "      <td>    277,813</td>\n",
        "      <td> 53.99%</td>\n",
        "      <td>  0.6498939</td>\n",
        "      <td>   0.2730666</td>\n",
        "    </tr>\n",
        "    <tr>\n",
        "      <th>SOX17_2_TTAGGC_L005_R1</th>\n",
        "      <td> 18,112,334</td>\n",
        "      <td>  6,456,528</td>\n",
        "      <td>  1,991,691</td>\n",
        "      <td> 52.75%</td>\n",
        "      <td>  0.6435287</td>\n",
        "      <td>   0.3084771</td>\n",
        "    </tr>\n",
        "    <tr>\n",
        "      <th>TGFP_1_GCCAAT_L006_R1</th>\n",
        "      <td>  4,468,035</td>\n",
        "      <td>  1,256,328</td>\n",
        "      <td>    360,979</td>\n",
        "      <td> 46.62%</td>\n",
        "      <td>  0.7188187</td>\n",
        "      <td>   0.2873286</td>\n",
        "    </tr>\n",
        "    <tr>\n",
        "      <th>TGFP_2_ACAGTG_L005_R1</th>\n",
        "      <td>  1,529,539</td>\n",
        "      <td>    668,537</td>\n",
        "      <td>    267,381</td>\n",
        "      <td> 34.70%</td>\n",
        "      <td>   0.562916</td>\n",
        "      <td>   0.3999494</td>\n",
        "    </tr>\n",
        "  </tbody>\n",
        "</table>"
       ],
       "metadata": {},
       "output_type": "pyout",
       "prompt_number": 6,
       "text": [
        "<IPython.core.display.HTML at 0x1e34ae10>"
       ]
      }
     ],
     "prompt_number": 6
    },
    {
     "cell_type": "markdown",
     "metadata": {},
     "source": [
      "#Ribo-seq Libraries\n",
      "Analyzable Libraries:\n",
      "----------------\n",
      "+ NPC_2_ATCACG_L005_R1\n",
      "\n",
      "Borderline Libraries:\n",
      "------------------\n",
      "+ ES_2_ACTTGA_L006_R1\n",
      "\n",
      "Libraries to be Resequenced:\n",
      "----------------------------\n",
      "+ NPC_1_CGATGT_L005_R1\n",
      "+ SOX17_1_TGACCA_L005_R1\n",
      "+ SOX17_2_TTAGGC_L005_R1\n",
      "+ TGFP_1_GCCAAT_L006_R1\n",
      "+ TGFP_2_ACAGTG_L005_R1\n",
      "\n",
      "Did Not Work\n",
      "-----------\n",
      "+ ES_3_CAGATC_L006_R1 (faulty, looks like RNA-seq)\n",
      "\n",
      "Looking at percent mapped and precent repetative stats it looks like the lowly sequenced libraries were just miss-quantified because the have similar mapped and repetative removal stats"
     ]
    },
    {
     "cell_type": "code",
     "collapsed": false,
     "input": [
      "HTML(public_df[['Processed reads',  \n",
      "                  'Number of input reads', \n",
      "                  'Uniquely mapped reads number', \n",
      "                  '% of reads unmapped: too short', \n",
      "                  'percent_repetative',\n",
      "                  'percent_mapped',\n",
      "                  ]].to_html(formatters={\"Number of input reads\" : parsers.commas,\n",
      "                             \"Uniquely mapped reads number\" : parsers.commas,\n",
      "                             \"Usable Reads\" : parsers.commas,\n",
      "                             \"Num Peaks\": parsers.commas,\n",
      "                             \"Trimmed reads\" : parsers.commas,\n",
      "                             \"Processed reads\" : parsers.commas,\n",
      "                             \"Too short reads\" : parsers.commas,\n",
      "                             \"percent_repetative\" :  percent,\n",
      "                             \"percent_mapped\" : percent,\n",
      "                             }))"
     ],
     "language": "python",
     "metadata": {
      "slideshow": {
       "slide_type": "slide"
      }
     },
     "outputs": [
      {
       "html": [
        "<table border=\"1\" class=\"dataframe\">\n",
        "  <thead>\n",
        "    <tr style=\"text-align: right;\">\n",
        "      <th></th>\n",
        "      <th>Processed reads</th>\n",
        "      <th>Number of input reads</th>\n",
        "      <th>Uniquely mapped reads number</th>\n",
        "      <th>% of reads unmapped: too short</th>\n",
        "      <th>percent_repetative</th>\n",
        "      <th>percent_mapped</th>\n",
        "    </tr>\n",
        "  </thead>\n",
        "  <tbody>\n",
        "    <tr>\n",
        "      <th>494_10_NoIndex_L002_R1_</th>\n",
        "      <td>50,303,823</td>\n",
        "      <td> 23,967,437</td>\n",
        "      <td> 14,721,531</td>\n",
        "      <td> 17.33%</td>\n",
        "      <td>   0.5235464</td>\n",
        "      <td>    0.6142305</td>\n",
        "    </tr>\n",
        "    <tr>\n",
        "      <th>494_11_NoIndex_L003_R1_</th>\n",
        "      <td>44,595,824</td>\n",
        "      <td> 30,145,671</td>\n",
        "      <td> 15,628,433</td>\n",
        "      <td> 25.41%</td>\n",
        "      <td>   0.3240248</td>\n",
        "      <td>    0.5184304</td>\n",
        "    </tr>\n",
        "    <tr>\n",
        "      <th>494_5_NoIndex_L005_R1_</th>\n",
        "      <td>65,928,633</td>\n",
        "      <td> 36,667,456</td>\n",
        "      <td> 20,789,414</td>\n",
        "      <td> 17.67%</td>\n",
        "      <td>   0.4438311</td>\n",
        "      <td>    0.5669718</td>\n",
        "    </tr>\n",
        "    <tr>\n",
        "      <th>SRR944653</th>\n",
        "      <td>29,565,498</td>\n",
        "      <td> 29,150,354</td>\n",
        "      <td>     86,793</td>\n",
        "      <td> 99.58%</td>\n",
        "      <td>   0.0140415</td>\n",
        "      <td>  0.002977425</td>\n",
        "    </tr>\n",
        "    <tr>\n",
        "      <th>SRR944654</th>\n",
        "      <td>62,803,902</td>\n",
        "      <td> 62,367,355</td>\n",
        "      <td>  6,615,231</td>\n",
        "      <td> 88.15%</td>\n",
        "      <td> 0.006950953</td>\n",
        "      <td>    0.1060688</td>\n",
        "    </tr>\n",
        "    <tr>\n",
        "      <th>SRR944655</th>\n",
        "      <td>26,371,551</td>\n",
        "      <td> 26,063,684</td>\n",
        "      <td>     69,038</td>\n",
        "      <td> 99.62%</td>\n",
        "      <td>  0.01167421</td>\n",
        "      <td>   0.00264882</td>\n",
        "    </tr>\n",
        "    <tr>\n",
        "      <th>SRR944656</th>\n",
        "      <td>35,941,531</td>\n",
        "      <td> 35,314,908</td>\n",
        "      <td> 30,305,482</td>\n",
        "      <td>  8.18%</td>\n",
        "      <td>  0.01743451</td>\n",
        "      <td>    0.8581498</td>\n",
        "    </tr>\n",
        "    <tr>\n",
        "      <th>SRR944657</th>\n",
        "      <td>27,324,308</td>\n",
        "      <td> 27,264,470</td>\n",
        "      <td>  1,506,372</td>\n",
        "      <td> 93.21%</td>\n",
        "      <td> 0.002189918</td>\n",
        "      <td>   0.05525037</td>\n",
        "    </tr>\n",
        "    <tr>\n",
        "      <th>SRR944658</th>\n",
        "      <td>33,031,380</td>\n",
        "      <td> 32,778,204</td>\n",
        "      <td>  3,014,312</td>\n",
        "      <td> 89.78%</td>\n",
        "      <td> 0.007664712</td>\n",
        "      <td>   0.09196087</td>\n",
        "    </tr>\n",
        "    <tr>\n",
        "      <th>SRR944659</th>\n",
        "      <td>36,965,794</td>\n",
        "      <td> 36,093,673</td>\n",
        "      <td>     31,971</td>\n",
        "      <td> 99.87%</td>\n",
        "      <td>  0.02359265</td>\n",
        "      <td> 0.0008857785</td>\n",
        "    </tr>\n",
        "    <tr>\n",
        "      <th>SRR944660</th>\n",
        "      <td>57,833,548</td>\n",
        "      <td> 57,609,636</td>\n",
        "      <td>  4,497,568</td>\n",
        "      <td> 90.58%</td>\n",
        "      <td> 0.003871663</td>\n",
        "      <td>   0.07806972</td>\n",
        "    </tr>\n",
        "    <tr>\n",
        "      <th>SRR944661</th>\n",
        "      <td>29,419,545</td>\n",
        "      <td> 29,280,480</td>\n",
        "      <td>  2,018,046</td>\n",
        "      <td> 92.34%</td>\n",
        "      <td>  0.00472696</td>\n",
        "      <td>   0.06892121</td>\n",
        "    </tr>\n",
        "    <tr>\n",
        "      <th>SRR944662</th>\n",
        "      <td>39,628,591</td>\n",
        "      <td> 38,825,620</td>\n",
        "      <td>     50,653</td>\n",
        "      <td> 99.83%</td>\n",
        "      <td>  0.02026242</td>\n",
        "      <td>  0.001304628</td>\n",
        "    </tr>\n",
        "  </tbody>\n",
        "</table>"
       ],
       "metadata": {},
       "output_type": "pyout",
       "prompt_number": 7,
       "text": [
        "<IPython.core.display.HTML at 0x2058c910>"
       ]
      }
     ],
     "prompt_number": 7
    },
    {
     "cell_type": "markdown",
     "metadata": {},
     "source": [
      "#Comparison To Public Ribo-seq\n",
      "Gold Standard Libraries have ~15m reads in a sequencing Run, however published data only has between 2-6m reads  \n",
      "Don't know what a good depth is other than gold standard  "
     ]
    },
    {
     "cell_type": "code",
     "collapsed": false,
     "input": [
      "HTML(rnaseq_df[['Processed reads',  \n",
      "                  'Number of input reads', \n",
      "                  'Uniquely mapped reads number', \n",
      "                  '% of reads unmapped: too short', \n",
      "                  'percent_repetative',\n",
      "                  'percent_mapped',\n",
      "                  ]].to_html(formatters={\"Number of input reads\" : parsers.commas,\n",
      "                             \"Uniquely mapped reads number\" : parsers.commas,\n",
      "                             \"Usable Reads\" : parsers.commas,\n",
      "                             \"Num Peaks\": parsers.commas,\n",
      "                             \"Trimmed reads\" : parsers.commas,\n",
      "                             \"Processed reads\" : parsers.commas,\n",
      "                             \"Too short reads\" : parsers.commas,\n",
      "                             \"percent_repetative\" :  percent,\n",
      "                             \"percent_mapped\" : percent,\n",
      "                             }))"
     ],
     "language": "python",
     "metadata": {
      "slideshow": {
       "slide_type": "slide"
      }
     },
     "outputs": [
      {
       "html": [
        "<table border=\"1\" class=\"dataframe\">\n",
        "  <thead>\n",
        "    <tr style=\"text-align: right;\">\n",
        "      <th></th>\n",
        "      <th>Processed reads</th>\n",
        "      <th>Number of input reads</th>\n",
        "      <th>Uniquely mapped reads number</th>\n",
        "      <th>% of reads unmapped: too short</th>\n",
        "      <th>percent_repetative</th>\n",
        "      <th>percent_mapped</th>\n",
        "    </tr>\n",
        "  </thead>\n",
        "  <tbody>\n",
        "    <tr>\n",
        "      <th>ES_1_ATCACG_L001_R1</th>\n",
        "      <td> 2,903,303</td>\n",
        "      <td>    951,663</td>\n",
        "      <td>    467,376</td>\n",
        "      <td> 24.12%</td>\n",
        "      <td> 0.6722137</td>\n",
        "      <td>  0.491115</td>\n",
        "    </tr>\n",
        "    <tr>\n",
        "      <th>ES_2_CGATGT_L001_R1</th>\n",
        "      <td>44,534,104</td>\n",
        "      <td> 22,628,405</td>\n",
        "      <td>  7,979,161</td>\n",
        "      <td> 20.65%</td>\n",
        "      <td> 0.4918859</td>\n",
        "      <td>  0.352617</td>\n",
        "    </tr>\n",
        "    <tr>\n",
        "      <th>NPC_1_CAGATC_L002_R1</th>\n",
        "      <td>47,535,698</td>\n",
        "      <td> 25,077,341</td>\n",
        "      <td> 13,118,031</td>\n",
        "      <td> 14.89%</td>\n",
        "      <td> 0.4724525</td>\n",
        "      <td> 0.5231029</td>\n",
        "    </tr>\n",
        "    <tr>\n",
        "      <th>NPC_2_ACTTGA_L002_R1</th>\n",
        "      <td>15,422,702</td>\n",
        "      <td>  8,268,158</td>\n",
        "      <td>  4,213,622</td>\n",
        "      <td> 17.83%</td>\n",
        "      <td> 0.4638969</td>\n",
        "      <td> 0.5096204</td>\n",
        "    </tr>\n",
        "    <tr>\n",
        "      <th>SOX17_1_ACAGTG_L002_R1</th>\n",
        "      <td>   331,623</td>\n",
        "      <td>    232,674</td>\n",
        "      <td>     78,604</td>\n",
        "      <td> 45.11%</td>\n",
        "      <td>  0.298378</td>\n",
        "      <td> 0.3378289</td>\n",
        "    </tr>\n",
        "    <tr>\n",
        "      <th>SOX17_2_GCCAAT_L002_R1</th>\n",
        "      <td> 7,290,168</td>\n",
        "      <td>  5,040,029</td>\n",
        "      <td>  1,525,599</td>\n",
        "      <td> 50.13%</td>\n",
        "      <td> 0.3086539</td>\n",
        "      <td> 0.3026965</td>\n",
        "    </tr>\n",
        "    <tr>\n",
        "      <th>T-GFP_1_TTAGGC_L001_R1</th>\n",
        "      <td>   719,609</td>\n",
        "      <td>    449,637</td>\n",
        "      <td>    181,229</td>\n",
        "      <td> 31.84%</td>\n",
        "      <td> 0.3751648</td>\n",
        "      <td> 0.4030562</td>\n",
        "    </tr>\n",
        "    <tr>\n",
        "      <th>T-GFP_2_TGACCA_L001_R1</th>\n",
        "      <td>30,073,843</td>\n",
        "      <td> 18,769,118</td>\n",
        "      <td>  6,948,339</td>\n",
        "      <td> 37.84%</td>\n",
        "      <td> 0.3758989</td>\n",
        "      <td> 0.3702006</td>\n",
        "    </tr>\n",
        "  </tbody>\n",
        "</table>"
       ],
       "metadata": {},
       "output_type": "pyout",
       "prompt_number": 8,
       "text": [
        "<IPython.core.display.HTML at 0x1fc39090>"
       ]
      }
     ],
     "prompt_number": 8
    },
    {
     "cell_type": "code",
     "collapsed": false,
     "input": [
      "1178977 / float(2903303)"
     ],
     "language": "python",
     "metadata": {},
     "outputs": [
      {
       "metadata": {},
       "output_type": "pyout",
       "prompt_number": 22,
       "text": [
        "0.40608128052772996"
       ]
      }
     ],
     "prompt_number": 22
    },
    {
     "cell_type": "code",
     "collapsed": false,
     "input": [
      "float(rnaseq_df.sum()[\"Uniquely mapped reads number\"]) / float(rnaseq_df.sum()[\"Processed reads\"])"
     ],
     "language": "python",
     "metadata": {},
     "outputs": [
      {
       "metadata": {},
       "output_type": "pyout",
       "prompt_number": 20,
       "text": [
        "0.23191799936899848"
       ]
      }
     ],
     "prompt_number": 20
    },
    {
     "cell_type": "markdown",
     "metadata": {},
     "source": [
      "#RNA-seq Libraries\n",
      "Working Libraries\n",
      "---------------\n",
      "+ ES_2_CGATGT_L001_R1\n",
      "+ NPC_1_CAGATC_L002_R1\n",
      "+ T-GFP_2_TGACCA_L001_R1\n",
      "\n",
      "Borderline Libraries\n",
      "------------------\n",
      "+ NPC_2_ACTTGA_L002_R1\n",
      "\n",
      "Libraries to be Resequenced\n",
      "------------------------\n",
      "+ SOX17_1_ACAGTG_L002_R1\n",
      "+ SOX17_2_GCCAAT_L002_R1\n",
      "+ T-GFP_1_TTAGGC_L001_R1\n",
      "\n",
      "Looking at percent mapped and precent repetative stats it looks like the lowly sequenced libraries were just miss-quantified because the have similar mapped and repetative removal stats"
     ]
    },
    {
     "cell_type": "markdown",
     "metadata": {
      "slideshow": {
       "slide_type": "slide"
      }
     },
     "source": [
      "#Control Read Contamanation Detection"
     ]
    },
    {
     "cell_type": "markdown",
     "metadata": {
      "slideshow": {
       "slide_type": "skip"
      }
     },
     "source": [
      "On TSCC data:  \n",
      "!zgrep --color GTACACGGAGTCAAGACCCGCAACGC ES_1_GATCAG_L006_R1.fastq.gz | wc -l -> 3623306 + 6509135  / 12250315  \n",
      "!zgrep --color GTACACGGAGTCAAGACCCGCAACGC ES_2_ACTTGA_L006_R1.fastq.gz | wc -l -> 16111 + 23509    / 17261048  \n",
      "!zgrep --color GTACACGGAGTCAAGACCCGCAACGC ES_3_CAGATC_L006_R1.fastq.gz  | wc -l -> 8232 + 14754   / 104760758  \n",
      "!zgrep --color GTACACGGAGTCAAGACCCGCAACGC NPC_1_CGATGT_L005_R1.fastq.gz | wc -l -> 3537 + 2506    / 2321435  \n",
      "!zgrep --color GTACACGGAGTCAAGACCCGCAACGC NPC_2_ATCACG_L005_R1.fastq.gz | wc -l -> 291960 + 217787   / 101588130  \n",
      "!zgrep --color GTACACGGAGTCAAGACCCGCAACGC SOX17_1_TGACCA_L005_R1.fastq.gz | wc -l -> 7838 + 6171 / 2905925  \n",
      "!zgrep --color GTACACGGAGTCAAGACCCGCAACGC SOX17_2_TTAGGC_L005_R1.fastq.gz | wc -l -> 46525 + 43813 / 18112334  \n",
      "!zgrep --color GTACACGGAGTCAAGACCCGCAACGC TGFP_1_GCCAAT_L006_R1.fastq.gz | wc -l -> 24030 + 7769  / 4468035  \n",
      "!zgrep --color GTACACGGAGTCAAGACCCGCAACGC TGFP_2_ACAGTG_L005_R1.fastq.gz | wc -l -> 3859 + 4513  / 1529539  "
     ]
    },
    {
     "cell_type": "code",
     "collapsed": false,
     "input": [
      "control_read_counts = pd.DataFrame({\"ES_1_GATCAG_L006_R1\" : {\"short_control\" : 3623306, \"long_control\" : 6509135, \"total\" : 12250315},\n",
      "\"ES_2_ACTTGA_L006_R1\" : {\"short_control\" : 16111, \"long_control\" : 23509 , \"total\" : 17261048},\n",
      "\"ES_3_CAGATC_L006_R1\"  : {\"short_control\" : 8232, \"long_control\" :  14754 , \"total\" : 104760758},\n",
      "\"NPC_1_CGATGT_L005_R1\" : {\"short_control\" : 3537, \"long_control\" : 2506  , \"total\" : 2321435},\n",
      "\"NPC_2_ATCACG_L005_R1\"  : {\"short_control\" : 291960 , \"long_control\" :  217787 , \"total\" : 101588130},\n",
      "\"SOX17_1_TGACCA_L005_R1\" : {\"short_control\" : 7838 , \"long_control\" : 6171, \"total\" :  2905925},\n",
      "\"SOX17_2_TTAGGC_L005_R1\" : {\"short_control\" : 46525, \"long_control\" :  43813 , \"total\" : 18112334},\n",
      "\"TGFP_1_GCCAAT_L006_R1\"  : {\"short_control\" : 24030, \"long_control\" :  7769 , \"total\" :  4468035},\n",
      "\"TGFP_2_ACAGTG_L005_R1\": { \"short_control\" : 3859, \"long_control\" :  4513 , \"total\" :  1529539},}).transpose()\n",
      "\n",
      "control_read_counts[\"total_control\"] = control_read_counts.long_control + control_read_counts.short_control\n",
      "control_read_counts[\"percent_control\"] = control_read_counts.total_control / control_read_counts.total.astype(float)"
     ],
     "language": "python",
     "metadata": {
      "slideshow": {
       "slide_type": "skip"
      }
     },
     "outputs": [],
     "prompt_number": 9
    },
    {
     "cell_type": "code",
     "collapsed": false,
     "input": [
      "control_read_counts"
     ],
     "language": "python",
     "metadata": {
      "slideshow": {
       "slide_type": "slide"
      }
     },
     "outputs": [
      {
       "html": [
        "<div style=\"max-height:1000px;max-width:1500px;overflow:auto;\">\n",
        "<table border=\"1\" class=\"dataframe\">\n",
        "  <thead>\n",
        "    <tr style=\"text-align: right;\">\n",
        "      <th></th>\n",
        "      <th>long_control</th>\n",
        "      <th>short_control</th>\n",
        "      <th>total</th>\n",
        "      <th>total_control</th>\n",
        "      <th>percent_control</th>\n",
        "    </tr>\n",
        "  </thead>\n",
        "  <tbody>\n",
        "    <tr>\n",
        "      <th>ES_1_GATCAG_L006_R1</th>\n",
        "      <td> 6509135</td>\n",
        "      <td> 3623306</td>\n",
        "      <td>  12250315</td>\n",
        "      <td> 10132441</td>\n",
        "      <td> 0.827117</td>\n",
        "    </tr>\n",
        "    <tr>\n",
        "      <th>ES_2_ACTTGA_L006_R1</th>\n",
        "      <td>   23509</td>\n",
        "      <td>   16111</td>\n",
        "      <td>  17261048</td>\n",
        "      <td>    39620</td>\n",
        "      <td> 0.002295</td>\n",
        "    </tr>\n",
        "    <tr>\n",
        "      <th>ES_3_CAGATC_L006_R1</th>\n",
        "      <td>   14754</td>\n",
        "      <td>    8232</td>\n",
        "      <td> 104760758</td>\n",
        "      <td>    22986</td>\n",
        "      <td> 0.000219</td>\n",
        "    </tr>\n",
        "    <tr>\n",
        "      <th>NPC_1_CGATGT_L005_R1</th>\n",
        "      <td>    2506</td>\n",
        "      <td>    3537</td>\n",
        "      <td>   2321435</td>\n",
        "      <td>     6043</td>\n",
        "      <td> 0.002603</td>\n",
        "    </tr>\n",
        "    <tr>\n",
        "      <th>NPC_2_ATCACG_L005_R1</th>\n",
        "      <td>  217787</td>\n",
        "      <td>  291960</td>\n",
        "      <td> 101588130</td>\n",
        "      <td>   509747</td>\n",
        "      <td> 0.005018</td>\n",
        "    </tr>\n",
        "    <tr>\n",
        "      <th>SOX17_1_TGACCA_L005_R1</th>\n",
        "      <td>    6171</td>\n",
        "      <td>    7838</td>\n",
        "      <td>   2905925</td>\n",
        "      <td>    14009</td>\n",
        "      <td> 0.004821</td>\n",
        "    </tr>\n",
        "    <tr>\n",
        "      <th>SOX17_2_TTAGGC_L005_R1</th>\n",
        "      <td>   43813</td>\n",
        "      <td>   46525</td>\n",
        "      <td>  18112334</td>\n",
        "      <td>    90338</td>\n",
        "      <td> 0.004988</td>\n",
        "    </tr>\n",
        "    <tr>\n",
        "      <th>TGFP_1_GCCAAT_L006_R1</th>\n",
        "      <td>    7769</td>\n",
        "      <td>   24030</td>\n",
        "      <td>   4468035</td>\n",
        "      <td>    31799</td>\n",
        "      <td> 0.007117</td>\n",
        "    </tr>\n",
        "    <tr>\n",
        "      <th>TGFP_2_ACAGTG_L005_R1</th>\n",
        "      <td>    4513</td>\n",
        "      <td>    3859</td>\n",
        "      <td>   1529539</td>\n",
        "      <td>     8372</td>\n",
        "      <td> 0.005474</td>\n",
        "    </tr>\n",
        "  </tbody>\n",
        "</table>\n",
        "<p>9 rows \u00d7 5 columns</p>\n",
        "</div>"
       ],
       "metadata": {},
       "output_type": "pyout",
       "prompt_number": 10,
       "text": [
        "                        long_control  short_control      total  total_control  \\\n",
        "ES_1_GATCAG_L006_R1          6509135        3623306   12250315       10132441   \n",
        "ES_2_ACTTGA_L006_R1            23509          16111   17261048          39620   \n",
        "ES_3_CAGATC_L006_R1            14754           8232  104760758          22986   \n",
        "NPC_1_CGATGT_L005_R1            2506           3537    2321435           6043   \n",
        "NPC_2_ATCACG_L005_R1          217787         291960  101588130         509747   \n",
        "SOX17_1_TGACCA_L005_R1          6171           7838    2905925          14009   \n",
        "SOX17_2_TTAGGC_L005_R1         43813          46525   18112334          90338   \n",
        "TGFP_1_GCCAAT_L006_R1           7769          24030    4468035          31799   \n",
        "TGFP_2_ACAGTG_L005_R1           4513           3859    1529539           8372   \n",
        "\n",
        "                        percent_control  \n",
        "ES_1_GATCAG_L006_R1            0.827117  \n",
        "ES_2_ACTTGA_L006_R1            0.002295  \n",
        "ES_3_CAGATC_L006_R1            0.000219  \n",
        "NPC_1_CGATGT_L005_R1           0.002603  \n",
        "NPC_2_ATCACG_L005_R1           0.005018  \n",
        "SOX17_1_TGACCA_L005_R1         0.004821  \n",
        "SOX17_2_TTAGGC_L005_R1         0.004988  \n",
        "TGFP_1_GCCAAT_L006_R1          0.007117  \n",
        "TGFP_2_ACAGTG_L005_R1          0.005474  \n",
        "\n",
        "[9 rows x 5 columns]"
       ]
      }
     ],
     "prompt_number": 10
    },
    {
     "cell_type": "markdown",
     "metadata": {},
     "source": [
      "Control reads come from ES_1 and do not contaminate other datasets\n",
      "=========================================================="
     ]
    },
    {
     "cell_type": "markdown",
     "metadata": {},
     "source": [
      "#Where we stand\n",
      "+ One fully working ES and NPC pair of Ribo-seq / RNA-seq data\n",
      "+ Other datasets will need to be resequenced before drawing strong conclusions"
     ]
    },
    {
     "cell_type": "markdown",
     "metadata": {},
     "source": [
      "#Next Steps (Computational)\n",
      "+ Computational QC metrics (% binding in genic regions), in proress\n",
      "+ Because blocked on Translational Efficency Analysis advance on Ribosome Protected Fragment stuff (identify exact binding sites of ribosome\n",
      "+ Prototype Translational Efficency Code (very simple)\n",
      "+ Litature Review for Sequencing Depth of Riboseq\n",
      "+ Check if 28s and 5s is present in repDB\n",
      "+ Long noncoding RNA check\n",
      "+ pull out rRNA aligning reads and see where they actually map\n",
      "+ Look for mtRNAs \n",
      "\n",
      "#Next Steps (Biological)\n",
      "+ Resequence\n",
      "+ Figure out why Mesoderm Samples don't appear to be differentiated -- early time point, stuff isn't full down regulated\n",
      "+ Figure out re-do ES_2 because it looks like the riboseq pulldown failled\n",
      "+ Now that we know art-seq works would it be possible to add randomers?  I've found some things that already look like PCR duplicates, and this would give me confidence in peak finding / quantification"
     ]
    },
    {
     "cell_type": "code",
     "collapsed": false,
     "input": [
      "ls"
     ],
     "language": "python",
     "metadata": {},
     "outputs": [],
     "prompt_number": "*"
    },
    {
     "cell_type": "code",
     "collapsed": false,
     "input": [],
     "language": "python",
     "metadata": {},
     "outputs": []
    }
   ],
   "metadata": {}
  }
 ]
}