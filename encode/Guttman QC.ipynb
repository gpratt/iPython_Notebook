{
 "metadata": {
  "name": "",
  "signature": "sha256:9112c79270db943edd61a47bc63abe05c2e35f22013d31fd1c0be7462e6d5c13"
 },
 "nbformat": 3,
 "nbformat_minor": 0,
 "worksheets": [
  {
   "cells": [
    {
     "cell_type": "code",
     "collapsed": false,
     "input": [
      "from collections import defaultdict, Counter\n",
      "import glob\n",
      "import os\n",
      "\n",
      "from IPython.core.display import HTML, Image\n",
      "from matplotlib_venn import venn3\n",
      "import pandas as pd\n",
      "import pybedtools\n",
      "import pysam\n",
      "\n",
      "from gscripts.general import parsers\n",
      "%load_ext autoreload\n",
      "%autoreload 2\n",
      "reload(parsers)\n",
      "reload(pybedtools)\n",
      "\n",
      "import matplotlib.pyplot as plt\n",
      "from gscripts.general import dataviz"
     ],
     "language": "python",
     "metadata": {},
     "outputs": [],
     "prompt_number": 1
    },
    {
     "cell_type": "markdown",
     "metadata": {},
     "source": [
      "#Previous Guttman CLIP Sequenced on MiSeq"
     ]
    },
    {
     "cell_type": "code",
     "collapsed": false,
     "input": [
      "!mkdir -p  /nas3/gpratt/projects/eric_iclip_test/analysis/fox2_barcoded_v3/\n",
      "!scp -q tscc-login.sdsc.edu:~/projects/eric_iclip_test/analysis/fox2_barcoded_v3/*.{metrics,final.out,peaks.bed} /nas3/gpratt/projects/eric_iclip_test/analysis/fox2_barcoded_v3/"
     ],
     "language": "python",
     "metadata": {},
     "outputs": [
      {
       "output_type": "stream",
       "stream": "stdout",
       "text": [
        "discarding /projects/ps-yeolab/software/anaconda-2.0.1_2014-08-12/bin from PATH\r\n"
       ]
      },
      {
       "output_type": "stream",
       "stream": "stdout",
       "text": [
        "prepending /projects/ps-yeolab/software/anaconda-2.0.1_2014-08-12/envs/gpratt/bin to PATH\r\n"
       ]
      },
      {
       "output_type": "stream",
       "stream": "stdout",
       "text": [
        "discarding /projects/ps-yeolab/software/anaconda-2.0.1_2014-08-12/bin from PATH\r\n"
       ]
      },
      {
       "output_type": "stream",
       "stream": "stdout",
       "text": [
        "prepending /projects/ps-yeolab/software/anaconda-2.0.1_2014-08-12/envs/gpratt/bin to PATH\r\n"
       ]
      },
      {
       "output_type": "stream",
       "stream": "stdout",
       "text": [
        "discarding /projects/ps-yeolab/software/anaconda-2.0.1_2014-08-12/bin from PATH\r\n"
       ]
      },
      {
       "output_type": "stream",
       "stream": "stdout",
       "text": [
        "prepending /projects/ps-yeolab/software/anaconda-2.0.1_2014-08-12/envs/gpratt/bin to PATH\r\n"
       ]
      }
     ],
     "prompt_number": 21
    },
    {
     "cell_type": "code",
     "collapsed": false,
     "input": [
      "analysis_dir = \"/nas3/gpratt/projects/eric_iclip_test/analysis/fox2_barcoded_v3/\"\n",
      "encode_v10 = parsers.clipseq_metrics(analysis_dir, iclip=True)\n",
      "\n",
      "encode_v10[\"Reads After Triming\"] = encode_v10['Input Reads'] - encode_v10['Too short reads']\n",
      "encode_v10[\"Fraction Collapsed\"] = encode_v10['Usable Reads'] / encode_v10['Uniquely Mapped Reads'].astype(float)\n",
      "encode_v10[\"Fraction Usable\"] = encode_v10['Usable Reads'] / encode_v10['Input Reads'].astype(float)\n",
      "\n",
      "filtered_encode_v10 = encode_v10[[ \"Input Reads\",\n",
      "                            \"Reads After Triming\",\n",
      "                            \"Uniquely Mapped Reads\",\n",
      "                            \"repetitive_count\",\n",
      "                            #\"Uniquely mapped reads %\",\n",
      "                            \"Usable Reads\",\n",
      "                            \"Fraction Collapsed\",\n",
      "                            \"Fraction Usable\",\n",
      "                            #\"spot\",\n",
      "                            \"Num Peaks\",\n",
      "                            #\"Passed QC\"\n",
      "                            ]]\n",
      "\n",
      "HTML(filtered_encode_v10.to_html(formatters={\"Input Reads\" : parsers.commas,\n",
      "                                     \"Reads After Triming\" : parsers.commas,\n",
      "                                     \"Reads after Quality Filtering\" : parsers.commas,\n",
      "                                     \"Uniquely Mapped Reads\" : parsers.commas,\n",
      "                                     \"Usable Reads\" : parsers.commas,\n",
      "                                     \"Num Peaks\": parsers.commas,\n",
      "                                     \"repetitive_count\" : parsers.commas, \n",
      "                                     } ))"
     ],
     "language": "python",
     "metadata": {},
     "outputs": [
      {
       "html": [
        "<table border=\"1\" class=\"dataframe\">\n",
        "  <thead>\n",
        "    <tr style=\"text-align: right;\">\n",
        "      <th></th>\n",
        "      <th>Input Reads</th>\n",
        "      <th>Reads After Triming</th>\n",
        "      <th>Uniquely Mapped Reads</th>\n",
        "      <th>repetitive_count</th>\n",
        "      <th>Usable Reads</th>\n",
        "      <th>Fraction Collapsed</th>\n",
        "      <th>Fraction Usable</th>\n",
        "      <th>Num Peaks</th>\n",
        "    </tr>\n",
        "  </thead>\n",
        "  <tbody>\n",
        "    <tr>\n",
        "      <th>FOX2_TCCGGAG-TATAGCC_L001_split.trimmed</th>\n",
        "      <td>1,661,723</td>\n",
        "      <td>1,657,069</td>\n",
        "      <td>   913,224</td>\n",
        "      <td>424,299</td>\n",
        "      <td>309,553</td>\n",
        "      <td> 0.338967</td>\n",
        "      <td> 0.186284</td>\n",
        "      <td>7,054</td>\n",
        "    </tr>\n",
        "    <tr>\n",
        "      <th>HNRNPC_CGCTCAT-TATAGCC_L001_split.trimmed</th>\n",
        "      <td>2,298,591</td>\n",
        "      <td>2,292,818</td>\n",
        "      <td> 1,350,861</td>\n",
        "      <td>303,269</td>\n",
        "      <td>558,835</td>\n",
        "      <td> 0.413688</td>\n",
        "      <td> 0.243121</td>\n",
        "      <td>7,884</td>\n",
        "    </tr>\n",
        "    <tr>\n",
        "      <th>InputNHS_ATTACTC-ATAGAGG_L001_split.trimmed</th>\n",
        "      <td>2,128,517</td>\n",
        "      <td>2,128,104</td>\n",
        "      <td>   956,879</td>\n",
        "      <td>687,061</td>\n",
        "      <td>781,506</td>\n",
        "      <td> 0.816724</td>\n",
        "      <td> 0.367160</td>\n",
        "      <td>9,894</td>\n",
        "    </tr>\n",
        "    <tr>\n",
        "      <th>SLBP_ATTACTC-TATAGCC_L001_split.trimmed</th>\n",
        "      <td>1,532,534</td>\n",
        "      <td>1,526,625</td>\n",
        "      <td>   506,339</td>\n",
        "      <td>672,984</td>\n",
        "      <td> 76,156</td>\n",
        "      <td> 0.150405</td>\n",
        "      <td> 0.049693</td>\n",
        "      <td>1,683</td>\n",
        "    </tr>\n",
        "  </tbody>\n",
        "</table>"
       ],
       "metadata": {},
       "output_type": "pyout",
       "prompt_number": 22,
       "text": [
        "<IPython.core.display.HTML at 0x19b81d10>"
       ]
      }
     ],
     "prompt_number": 22
    },
    {
     "cell_type": "markdown",
     "metadata": {},
     "source": [
      "#Same Library Sequenced on NextSeq"
     ]
    },
    {
     "cell_type": "code",
     "collapsed": false,
     "input": [
      "!mkdir -p  /nas3/gpratt/projects/eric_iclip_test/analysis/nextseq_results_reverse_strand_v3/\n",
      "!scp -q tscc-login.sdsc.edu:~/projects/eric_iclip_test/analysis/nextseq_results_reverse_strand_v3/*.{metrics,final.out,peaks.bed} /nas3/gpratt/projects/eric_iclip_test/analysis/nextseq_results_reverse_strand_v3/"
     ],
     "language": "python",
     "metadata": {},
     "outputs": [
      {
       "output_type": "stream",
       "stream": "stdout",
       "text": [
        "discarding /projects/ps-yeolab/software/anaconda-2.0.1_2014-08-12/bin from PATH\r\n"
       ]
      },
      {
       "output_type": "stream",
       "stream": "stdout",
       "text": [
        "prepending /projects/ps-yeolab/software/anaconda-2.0.1_2014-08-12/envs/gpratt/bin to PATH\r\n"
       ]
      },
      {
       "output_type": "stream",
       "stream": "stdout",
       "text": [
        "discarding /projects/ps-yeolab/software/anaconda-2.0.1_2014-08-12/bin from PATH\r\n"
       ]
      },
      {
       "output_type": "stream",
       "stream": "stdout",
       "text": [
        "prepending /projects/ps-yeolab/software/anaconda-2.0.1_2014-08-12/envs/gpratt/bin to PATH\r\n"
       ]
      },
      {
       "output_type": "stream",
       "stream": "stdout",
       "text": [
        "discarding /projects/ps-yeolab/software/anaconda-2.0.1_2014-08-12/bin from PATH\r\n"
       ]
      },
      {
       "output_type": "stream",
       "stream": "stdout",
       "text": [
        "prepending /projects/ps-yeolab/software/anaconda-2.0.1_2014-08-12/envs/gpratt/bin to PATH\r\n"
       ]
      }
     ],
     "prompt_number": 23
    },
    {
     "cell_type": "code",
     "collapsed": false,
     "input": [
      "analysis_dir = \"/nas3/gpratt/projects/eric_iclip_test/analysis/nextseq_results_reverse_strand_v3/\"\n",
      "encode_v10 = parsers.clipseq_metrics(analysis_dir, iclip=True)\n",
      "\n",
      "encode_v10[\"Reads After Triming\"] = encode_v10['Input Reads'] - encode_v10['Too short reads']\n",
      "encode_v10[\"Fraction Collapsed\"] = encode_v10['Usable Reads'] / encode_v10['Uniquely Mapped Reads'].astype(float)\n",
      "encode_v10[\"Fraction Usable\"] = encode_v10['Usable Reads'] / encode_v10['Input Reads'].astype(float)\n",
      "\n",
      "filtered_encode_v10 = encode_v10[[ \"Input Reads\",\n",
      "                            \"Reads After Triming\",\n",
      "                            \"Uniquely Mapped Reads\",\n",
      "                            \"repetitive_count\",\n",
      "                            #\"Uniquely mapped reads %\",\n",
      "                            \"Usable Reads\",\n",
      "                            \"Fraction Collapsed\",\n",
      "                            \"Fraction Usable\",\n",
      "                            #\"spot\",\n",
      "                            #\"Num Peaks\",\n",
      "                            #\"Passed QC\"\n",
      "                            ]]\n",
      "\n",
      "HTML(filtered_encode_v10.to_html(formatters={\"Input Reads\" : parsers.commas,\n",
      "                                     \"Reads After Triming\" : parsers.commas,\n",
      "                                     \"Reads after Quality Filtering\" : parsers.commas,\n",
      "                                     \"Uniquely Mapped Reads\" : parsers.commas,\n",
      "                                     \"Usable Reads\" : parsers.commas,\n",
      "                                     \"Num Peaks\": parsers.commas,\n",
      "                                     \"repetitive_count\" : parsers.commas, \n",
      "                                     } ))"
     ],
     "language": "python",
     "metadata": {},
     "outputs": [
      {
       "html": [
        "<table border=\"1\" class=\"dataframe\">\n",
        "  <thead>\n",
        "    <tr style=\"text-align: right;\">\n",
        "      <th></th>\n",
        "      <th>Input Reads</th>\n",
        "      <th>Reads After Triming</th>\n",
        "      <th>Uniquely Mapped Reads</th>\n",
        "      <th>repetitive_count</th>\n",
        "      <th>Usable Reads</th>\n",
        "      <th>Fraction Collapsed</th>\n",
        "      <th>Fraction Usable</th>\n",
        "    </tr>\n",
        "  </thead>\n",
        "  <tbody>\n",
        "    <tr>\n",
        "      <th>FOX2_S2_R1_001.barcoded</th>\n",
        "      <td>14,952,150</td>\n",
        "      <td>14,950,475</td>\n",
        "      <td> 5,106,315</td>\n",
        "      <td> 3,100,933</td>\n",
        "      <td>  375,400</td>\n",
        "      <td> 0.073517</td>\n",
        "      <td> 0.025107</td>\n",
        "    </tr>\n",
        "    <tr>\n",
        "      <th>HNRNPC_S3_R1_001.barcoded</th>\n",
        "      <td>19,899,724</td>\n",
        "      <td>19,896,841</td>\n",
        "      <td> 7,787,797</td>\n",
        "      <td> 1,773,221</td>\n",
        "      <td>  732,428</td>\n",
        "      <td> 0.094048</td>\n",
        "      <td> 0.036806</td>\n",
        "    </tr>\n",
        "    <tr>\n",
        "      <th>InputNHS_S4_R1_001.barcoded</th>\n",
        "      <td>27,855,454</td>\n",
        "      <td>27,854,619</td>\n",
        "      <td> 6,311,568</td>\n",
        "      <td> 6,346,312</td>\n",
        "      <td>2,604,808</td>\n",
        "      <td> 0.412704</td>\n",
        "      <td> 0.093512</td>\n",
        "    </tr>\n",
        "    <tr>\n",
        "      <th>Input_S5_R1_001.barcoded</th>\n",
        "      <td>26,803,568</td>\n",
        "      <td>26,803,361</td>\n",
        "      <td> 2,113,031</td>\n",
        "      <td>15,391,629</td>\n",
        "      <td>  549,816</td>\n",
        "      <td> 0.260203</td>\n",
        "      <td> 0.020513</td>\n",
        "    </tr>\n",
        "    <tr>\n",
        "      <th>SLBP_S1_R1_001.barcoded</th>\n",
        "      <td>13,087,142</td>\n",
        "      <td>13,085,432</td>\n",
        "      <td> 2,308,145</td>\n",
        "      <td> 4,506,626</td>\n",
        "      <td>   61,057</td>\n",
        "      <td> 0.026453</td>\n",
        "      <td> 0.004665</td>\n",
        "    </tr>\n",
        "  </tbody>\n",
        "</table>"
       ],
       "metadata": {},
       "output_type": "pyout",
       "prompt_number": 24,
       "text": [
        "<IPython.core.display.HTML at 0x2aaaaceb78d0>"
       ]
      }
     ],
     "prompt_number": 24
    },
    {
     "cell_type": "markdown",
     "metadata": {},
     "source": [
      "#2014/12/12 Miseq"
     ]
    },
    {
     "cell_type": "code",
     "collapsed": false,
     "input": [
      "!mkdir -p  /nas3/gpratt/projects/eric_iclip_test/analysis/20141212_guttman_test_r2_v3/\n",
      "!scp -q tscc-login.sdsc.edu:/home/gpratt/projects/eric_iclip_test/analysis/20141212_guttman_test_r2_v3/*.{metrics,final.out,peaks.bed} /nas3/gpratt/projects/eric_iclip_test/analysis/20141212_guttman_test_r2_v3/"
     ],
     "language": "python",
     "metadata": {},
     "outputs": [
      {
       "output_type": "stream",
       "stream": "stdout",
       "text": [
        "discarding /projects/ps-yeolab/software/anaconda-2.0.1_2014-08-12/bin from PATH\r\n"
       ]
      },
      {
       "output_type": "stream",
       "stream": "stdout",
       "text": [
        "prepending /projects/ps-yeolab/software/anaconda-2.0.1_2014-08-12/envs/gpratt/bin to PATH\r\n"
       ]
      },
      {
       "output_type": "stream",
       "stream": "stdout",
       "text": [
        "discarding /projects/ps-yeolab/software/anaconda-2.0.1_2014-08-12/bin from PATH\r\n"
       ]
      },
      {
       "output_type": "stream",
       "stream": "stdout",
       "text": [
        "prepending /projects/ps-yeolab/software/anaconda-2.0.1_2014-08-12/envs/gpratt/bin to PATH\r\n"
       ]
      },
      {
       "output_type": "stream",
       "stream": "stdout",
       "text": [
        "discarding /projects/ps-yeolab/software/anaconda-2.0.1_2014-08-12/bin from PATH\r\n"
       ]
      },
      {
       "output_type": "stream",
       "stream": "stdout",
       "text": [
        "prepending /projects/ps-yeolab/software/anaconda-2.0.1_2014-08-12/envs/gpratt/bin to PATH\r\n"
       ]
      }
     ],
     "prompt_number": 17
    },
    {
     "cell_type": "code",
     "collapsed": false,
     "input": [
      "analysis_dir = \"/nas3/gpratt/projects/eric_iclip_test/analysis/20141212_guttman_test_r2_v3/\"\n",
      "encode_v10 = parsers.clipseq_metrics(analysis_dir, iclip=True)\n",
      "\n",
      "encode_v10[\"Reads After Triming\"] = encode_v10['Input Reads'] - encode_v10['Too short reads']\n",
      "encode_v10[\"Fraction Collapsed\"] = encode_v10['Usable Reads'] / encode_v10['Uniquely Mapped Reads'].astype(float)\n",
      "encode_v10[\"Fraction Usable\"] = encode_v10['Usable Reads'] / encode_v10['Input Reads'].astype(float)\n",
      "\n",
      "filtered_encode_v10 = encode_v10[[ \"Input Reads\",\n",
      "                            \"Reads After Triming\",\n",
      "                            \"repetitive_count\",\n",
      "                            \"Uniquely Mapped Reads\",\n",
      "                            \n",
      "                            \"Uniquely mapped reads %\",\n",
      "                            \"Usable Reads\",\n",
      "                            \"Fraction Collapsed\",\n",
      "                            \"Fraction Usable\",\n",
      "                            #\"spot\",\n",
      "                            \"Num Peaks\",\n",
      "                            #\"Passed QC\"\n",
      "                            ]]\n",
      "\n",
      "HTML(filtered_encode_v10.to_html(formatters={\"Input Reads\" : parsers.commas,\n",
      "                                     \"Reads After Triming\" : parsers.commas,\n",
      "                                     \"Reads after Quality Filtering\" : parsers.commas,\n",
      "                                     \"Uniquely Mapped Reads\" : parsers.commas,\n",
      "                                     \"Usable Reads\" : parsers.commas,\n",
      "                                     \"Num Peaks\": parsers.commas,\n",
      "                                     \"repetitive_count\" : parsers.commas, \n",
      "                                     } ))"
     ],
     "language": "python",
     "metadata": {},
     "outputs": [
      {
       "html": [
        "<table border=\"1\" class=\"dataframe\">\n",
        "  <thead>\n",
        "    <tr style=\"text-align: right;\">\n",
        "      <th></th>\n",
        "      <th>Input Reads</th>\n",
        "      <th>Reads After Triming</th>\n",
        "      <th>repetitive_count</th>\n",
        "      <th>Uniquely Mapped Reads</th>\n",
        "      <th>Uniquely mapped reads %</th>\n",
        "      <th>Usable Reads</th>\n",
        "      <th>Fraction Collapsed</th>\n",
        "      <th>Fraction Usable</th>\n",
        "      <th>Num Peaks</th>\n",
        "    </tr>\n",
        "  </thead>\n",
        "  <tbody>\n",
        "    <tr>\n",
        "      <th>D701_S1_L001_R2_001.A01_FOX2_293t</th>\n",
        "      <td>1,742,015</td>\n",
        "      <td>1,677,317</td>\n",
        "      <td>  546,395</td>\n",
        "      <td>   806,617</td>\n",
        "      <td> 71.32%</td>\n",
        "      <td> 45,605</td>\n",
        "      <td> 0.056539</td>\n",
        "      <td> 0.026179</td>\n",
        "      <td>   570</td>\n",
        "    </tr>\n",
        "    <tr>\n",
        "      <th>D701_S1_L001_R2_001.B06_FOX2_293t</th>\n",
        "      <td>1,587,434</td>\n",
        "      <td>1,566,961</td>\n",
        "      <td>  491,845</td>\n",
        "      <td>   775,136</td>\n",
        "      <td> 72.10%</td>\n",
        "      <td> 44,718</td>\n",
        "      <td> 0.057691</td>\n",
        "      <td> 0.028170</td>\n",
        "      <td>   508</td>\n",
        "    </tr>\n",
        "    <tr>\n",
        "      <th>D701_S1_L001_R2_001.C01_SLBP_k562</th>\n",
        "      <td>  800,671</td>\n",
        "      <td>  786,194</td>\n",
        "      <td>  372,632</td>\n",
        "      <td>   228,057</td>\n",
        "      <td> 55.14%</td>\n",
        "      <td> 10,992</td>\n",
        "      <td> 0.048198</td>\n",
        "      <td> 0.013728</td>\n",
        "      <td>   116</td>\n",
        "    </tr>\n",
        "    <tr>\n",
        "      <th>D701_S1_L001_R2_001.D08fixed_SLBP_k562</th>\n",
        "      <td>  441,987</td>\n",
        "      <td>  438,176</td>\n",
        "      <td>  212,551</td>\n",
        "      <td>   127,208</td>\n",
        "      <td> 56.38%</td>\n",
        "      <td>  5,948</td>\n",
        "      <td> 0.046758</td>\n",
        "      <td> 0.013457</td>\n",
        "      <td>    72</td>\n",
        "    </tr>\n",
        "    <tr>\n",
        "      <th>D701_S1_L001_R2_001.unassigned</th>\n",
        "      <td>1,141,703</td>\n",
        "      <td>1,123,139</td>\n",
        "      <td>  427,911</td>\n",
        "      <td>   458,796</td>\n",
        "      <td> 65.99%</td>\n",
        "      <td> 31,258</td>\n",
        "      <td> 0.068130</td>\n",
        "      <td> 0.027378</td>\n",
        "      <td>   305</td>\n",
        "    </tr>\n",
        "    <tr>\n",
        "      <th>D702_S2_L001_R2_001.A01_FOX2_k562</th>\n",
        "      <td>  496,891</td>\n",
        "      <td>  477,926</td>\n",
        "      <td>  219,196</td>\n",
        "      <td>   159,915</td>\n",
        "      <td> 61.81%</td>\n",
        "      <td>  6,200</td>\n",
        "      <td> 0.038771</td>\n",
        "      <td> 0.012478</td>\n",
        "      <td>    94</td>\n",
        "    </tr>\n",
        "    <tr>\n",
        "      <th>D702_S2_L001_R2_001.B06_FOX2_k562</th>\n",
        "      <td>  402,887</td>\n",
        "      <td>  396,730</td>\n",
        "      <td>  184,888</td>\n",
        "      <td>   133,433</td>\n",
        "      <td> 62.99%</td>\n",
        "      <td>  5,254</td>\n",
        "      <td> 0.039376</td>\n",
        "      <td> 0.013041</td>\n",
        "      <td>    92</td>\n",
        "    </tr>\n",
        "    <tr>\n",
        "      <th>D702_S2_L001_R2_001.C01_HNRNPC_k562</th>\n",
        "      <td>  872,861</td>\n",
        "      <td>  827,047</td>\n",
        "      <td>  180,989</td>\n",
        "      <td>   408,965</td>\n",
        "      <td> 63.30%</td>\n",
        "      <td> 33,043</td>\n",
        "      <td> 0.080797</td>\n",
        "      <td> 0.037856</td>\n",
        "      <td>   198</td>\n",
        "    </tr>\n",
        "    <tr>\n",
        "      <th>D702_S2_L001_R2_001.D08fixed_HNRNPC_k562</th>\n",
        "      <td>  676,797</td>\n",
        "      <td>  629,426</td>\n",
        "      <td>  139,442</td>\n",
        "      <td>   322,852</td>\n",
        "      <td> 65.89%</td>\n",
        "      <td> 25,055</td>\n",
        "      <td> 0.077605</td>\n",
        "      <td> 0.037020</td>\n",
        "      <td>   126</td>\n",
        "    </tr>\n",
        "    <tr>\n",
        "      <th>D702_S2_L001_R2_001.unassigned</th>\n",
        "      <td>  578,656</td>\n",
        "      <td>  550,694</td>\n",
        "      <td>  183,469</td>\n",
        "      <td>   227,583</td>\n",
        "      <td> 61.97%</td>\n",
        "      <td> 18,332</td>\n",
        "      <td> 0.080551</td>\n",
        "      <td> 0.031680</td>\n",
        "      <td>   122</td>\n",
        "    </tr>\n",
        "    <tr>\n",
        "      <th>D703_S3_L001_R2_001.unassigned</th>\n",
        "      <td>6,203,682</td>\n",
        "      <td>6,055,615</td>\n",
        "      <td>2,945,763</td>\n",
        "      <td> 1,690,582</td>\n",
        "      <td> 54.36%</td>\n",
        "      <td>976,048</td>\n",
        "      <td> 0.577344</td>\n",
        "      <td> 0.157334</td>\n",
        "      <td>18,511</td>\n",
        "    </tr>\n",
        "    <tr>\n",
        "      <th>FOX2_293t.peaks</th>\n",
        "      <td>        0</td>\n",
        "      <td>        0</td>\n",
        "      <td>        0</td>\n",
        "      <td>       NaN</td>\n",
        "      <td>    NaN</td>\n",
        "      <td>      0</td>\n",
        "      <td>      NaN</td>\n",
        "      <td>      NaN</td>\n",
        "      <td>     0</td>\n",
        "    </tr>\n",
        "    <tr>\n",
        "      <th>FOX2_k562.peaks</th>\n",
        "      <td>        0</td>\n",
        "      <td>        0</td>\n",
        "      <td>        0</td>\n",
        "      <td>       NaN</td>\n",
        "      <td>    NaN</td>\n",
        "      <td>      0</td>\n",
        "      <td>      NaN</td>\n",
        "      <td>      NaN</td>\n",
        "      <td>     0</td>\n",
        "    </tr>\n",
        "    <tr>\n",
        "      <th>HNRNPC_k562.peaks</th>\n",
        "      <td>        0</td>\n",
        "      <td>        0</td>\n",
        "      <td>        0</td>\n",
        "      <td>       NaN</td>\n",
        "      <td>    NaN</td>\n",
        "      <td>      0</td>\n",
        "      <td>      NaN</td>\n",
        "      <td>      NaN</td>\n",
        "      <td>     0</td>\n",
        "    </tr>\n",
        "    <tr>\n",
        "      <th>SLBP_k562.peaks</th>\n",
        "      <td>        0</td>\n",
        "      <td>        0</td>\n",
        "      <td>        0</td>\n",
        "      <td>       NaN</td>\n",
        "      <td>    NaN</td>\n",
        "      <td>      0</td>\n",
        "      <td>      NaN</td>\n",
        "      <td>      NaN</td>\n",
        "      <td>     0</td>\n",
        "    </tr>\n",
        "  </tbody>\n",
        "</table>"
       ],
       "metadata": {},
       "output_type": "pyout",
       "prompt_number": 18,
       "text": [
        "<IPython.core.display.HTML at 0x19ab0150>"
       ]
      }
     ],
     "prompt_number": 18
    }
   ],
   "metadata": {}
  }
 ]
}