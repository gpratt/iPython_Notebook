{
 "metadata": {
  "name": "",
  "signature": "sha256:bcbdb1cdbd92f15b3c58051db73aa62f46cad4d1406901eb817ce7110a2f5ff2"
 },
 "nbformat": 3,
 "nbformat_minor": 0,
 "worksheets": [
  {
   "cells": [
    {
     "cell_type": "markdown",
     "metadata": {},
     "source": [
      "#MSI Library Analysis"
     ]
    },
    {
     "cell_type": "markdown",
     "metadata": {},
     "source": [
      "Understanding of Method:  Used Regular CLIP with 4 illumina barcodes\n",
      "Miscommunication on our part and we didn't demultiplex properly"
     ]
    },
    {
     "cell_type": "code",
     "collapsed": false,
     "input": [
      "#Counting Reads in Sample\n",
      "!zcat /nas3/gpratt/projects/encode/data/1_NoIndex_L001_R1.fastq.gz | wc -l"
     ],
     "language": "python",
     "metadata": {},
     "outputs": [
      {
       "output_type": "stream",
       "stream": "stdout",
       "text": [
        "425073132\r\n"
       ]
      }
     ],
     "prompt_number": 1
    },
    {
     "cell_type": "markdown",
     "metadata": {},
     "source": [
      "Total Number of Reads in Library\n",
      "--------------------------------"
     ]
    },
    {
     "cell_type": "code",
     "collapsed": false,
     "input": [
      "425073132 / 4"
     ],
     "language": "python",
     "metadata": {},
     "outputs": [
      {
       "metadata": {},
       "output_type": "pyout",
       "prompt_number": 10,
       "text": [
        "106268283"
       ]
      }
     ],
     "prompt_number": 10
    },
    {
     "cell_type": "markdown",
     "metadata": {},
     "source": [
      "Number of Reads with Barcodes we are hoping for\n",
      "------------------------------------------------\n",
      "CTTGTA - Barcode #12- 0840 non-LSC  \n",
      "TAGCTT- Barcode #10- 090191 non-LSC  \n",
      "GATCAG- Barcode #9- 090191 LSC  \n",
      "GGCTAC- Barcode #11- 0840 LSC  "
     ]
    },
    {
     "cell_type": "code",
     "collapsed": false,
     "input": [
      "!grep :CTTGTA /nas3/gpratt/projects/encode/data/1_NoIndex_L001_R1.fastq.gz | wc -l"
     ],
     "language": "python",
     "metadata": {},
     "outputs": [
      {
       "output_type": "stream",
       "stream": "stdout",
       "text": [
        "0\r\n"
       ]
      }
     ],
     "prompt_number": 6
    },
    {
     "cell_type": "code",
     "collapsed": false,
     "input": [
      "!grep :TAGCTT /nas3/gpratt/projects/encode/data/1_NoIndex_L001_R1.fastq.gz | wc -l "
     ],
     "language": "python",
     "metadata": {},
     "outputs": [
      {
       "output_type": "stream",
       "stream": "stdout",
       "text": [
        "0\r\n"
       ]
      }
     ],
     "prompt_number": 7
    },
    {
     "cell_type": "code",
     "collapsed": false,
     "input": [
      "!grep :GATCAG /nas3/gpratt/projects/encode/data/1_NoIndex_L001_R1.fastq.gz | wc -l"
     ],
     "language": "python",
     "metadata": {},
     "outputs": [
      {
       "output_type": "stream",
       "stream": "stdout",
       "text": [
        "0\r\n"
       ]
      }
     ],
     "prompt_number": 8
    },
    {
     "cell_type": "code",
     "collapsed": false,
     "input": [
      "!grep :GGCTAC /nas3/gpratt/projects/encode/data/1_NoIndex_L001_R1.fastq.gz | wc -l"
     ],
     "language": "python",
     "metadata": {},
     "outputs": [
      {
       "output_type": "stream",
       "stream": "stdout",
       "text": [
        "0\r\n"
       ]
      }
     ],
     "prompt_number": 9
    },
    {
     "cell_type": "markdown",
     "metadata": {},
     "source": [
      "Conclusion: even if demulitplexing was ran properly we would still get the same result"
     ]
    },
    {
     "cell_type": "markdown",
     "metadata": {},
     "source": [
      "What are the 106,268,283 reads?\n",
      "-------------------------------\n",
      "Mostly the TruSeq Adapters"
     ]
    },
    {
     "cell_type": "code",
     "collapsed": false,
     "input": [
      "====================-------------\n",
      "TGGAATTCTCGGGTGCCAAGGAACTCCAGTCAC\n",
      "\n",
      "TruSeq Adapter       ------\n",
      "RNA 3\u2019 Adapter (RA3) ======\n"
     ],
     "language": "python",
     "metadata": {},
     "outputs": []
    },
    {
     "cell_type": "code",
     "collapsed": false,
     "input": [
      "#Counting the number of times that exact sequence occurs in the library:\n",
      "!zgrep TGGAATTCTCGGGTGCCAAGGAACTCCAGTCAC /nas3/gpratt/projects/encode/data/1_NoIndex_L001_R1.fastq.gz | wc -l "
     ],
     "language": "python",
     "metadata": {},
     "outputs": [
      {
       "output_type": "stream",
       "stream": "stdout",
       "text": [
        "79232912\r\n"
       ]
      }
     ],
     "prompt_number": 12
    },
    {
     "cell_type": "code",
     "collapsed": false,
     "input": [
      "79232912 / 106268283.0"
     ],
     "language": "python",
     "metadata": {},
     "outputs": [
      {
       "metadata": {},
       "output_type": "pyout",
       "prompt_number": 13,
       "text": [
        "0.7455932265321347"
       ]
      }
     ],
     "prompt_number": 13
    },
    {
     "cell_type": "markdown",
     "metadata": {},
     "source": [
      "Conclusions\n",
      "-----------\n",
      "75% of the library is Adapter Dimers (exactly matching the above sequence, if I were more premissive in my matching I would get many more matches).  \n",
      "\n",
      "Additionally none of the reads could be properly demultiplexed.  \n",
      "\n",
      "Recomend: Remaking library, possible issue occured during gel selection, although the total lack of proper reads might suggest a failure in a ligation step? "
     ]
    },
    {
     "cell_type": "code",
     "collapsed": false,
     "input": [],
     "language": "python",
     "metadata": {},
     "outputs": []
    }
   ],
   "metadata": {}
  }
 ]
}