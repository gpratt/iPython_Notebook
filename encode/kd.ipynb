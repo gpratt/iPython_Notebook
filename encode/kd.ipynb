{
 "metadata": {
  "name": "",
  "signature": "sha256:ee2f51be43b9093b9192f2aa4b1f96e2fc7c7e9b86ba58c01a2c6ae14575ab82"
 },
 "nbformat": 3,
 "nbformat_minor": 0,
 "worksheets": [
  {
   "cells": [
    {
     "cell_type": "code",
     "collapsed": false,
     "input": [
      "import pandas as pd\n",
      "import numpy as np\n",
      "\n",
      "import seaborn as sns\n",
      "from gscripts.general import dataviz\n",
      "import os\n",
      "img_dir = \"/nas3/gpratt/Dropbox/encode_integration/figures/\"\n",
      "import gffutils\n",
      "import matplotlib as mpl\n",
      "from matplotlib import rc\n",
      "\n",
      "mpl.rcParams['svg.fonttype'] = 'none'\n",
      "\n",
      "rc('text', usetex=False)\n",
      "rc('font',**{'family':'sans-serif','sans-serif':['Helvetica']})"
     ],
     "language": "python",
     "metadata": {},
     "outputs": [],
     "prompt_number": 28
    },
    {
     "cell_type": "code",
     "collapsed": false,
     "input": [
      "wt = pd.read_table(\"/nas3/gpratt/Dropbox/ENCODE_RBP (1)/RNA-Seq Data/set1_genes_fpkm.txt\", index_col=1).T\n",
      "kd = pd.read_table(\"/nas3/gpratt/Dropbox/ENCODE_RBP (1)/RNA-Seq Data/set7_genes_fpkm.txt\",\n",
      "                       index_col=1).T"
     ],
     "language": "python",
     "metadata": {},
     "outputs": [],
     "prompt_number": 12
    },
    {
     "cell_type": "code",
     "collapsed": false,
     "input": [
      "human_db = \"/nas3/gpratt/gencode/gencode.v17.annotation.gtf.db\"\n",
      "db = gffutils.FeatureDB(human_db)\n",
      "genes = db.features_of_type('gene')\n",
      "\n",
      "gene_type_dict = {}\n",
      "gene_name_dict = {}\n",
      "for gene in genes:\n",
      "    try:\n",
      "        gene_type_dict[gene.attributes['gene_id'][0]] = gene.attributes['gene_type'][0]\n",
      "    except KeyError:\n",
      "        pass\n",
      "    \n",
      "    try:\n",
      "        gene_name_dict[gene.attributes['gene_id'][0]] = gene.attributes['gene_name'][0]\n",
      "    except KeyError:\n",
      "        pass"
     ],
     "language": "python",
     "metadata": {},
     "outputs": [],
     "prompt_number": 29
    },
    {
     "cell_type": "code",
     "collapsed": false,
     "input": [
      "combined_df = pd.concat({\"IMP3_KD\": kd_imp3, \"WT\": wt_imp3}).unstack()"
     ],
     "language": "python",
     "metadata": {},
     "outputs": [],
     "prompt_number": 34
    },
    {
     "cell_type": "code",
     "collapsed": false,
     "input": [
      "combined_df"
     ],
     "language": "python",
     "metadata": {},
     "outputs": [
      {
       "html": [
        "<div style=\"max-height:1000px;max-width:1500px;overflow:auto;\">\n",
        "<table border=\"1\" class=\"dataframe\">\n",
        "  <thead>\n",
        "    <tr style=\"text-align: right;\">\n",
        "      <th>Ensembl_ID</th>\n",
        "      <th>ENSG00000203266.2</th>\n",
        "      <th>ENSG00000157613.6</th>\n",
        "      <th>ENSG00000142534.2</th>\n",
        "      <th>ENSG00000258502.1</th>\n",
        "      <th>ENSG00000176903.3</th>\n",
        "      <th>ENSG00000260031.1</th>\n",
        "      <th>ENSG00000253652.1</th>\n",
        "      <th>ENSG00000265017.1</th>\n",
        "      <th>ENSG00000187049.5</th>\n",
        "      <th>ENSG00000253625.1</th>\n",
        "      <th>ENSG00000231889.2</th>\n",
        "      <th>ENSG00000240738.1</th>\n",
        "      <th>ENSG00000154493.12</th>\n",
        "      <th>ENSG00000134899.13</th>\n",
        "      <th>ENSG00000244464.1</th>\n",
        "      <th>ENSG00000248663.2</th>\n",
        "      <th>ENSG00000164199.11</th>\n",
        "      <th>ENSG00000163697.12</th>\n",
        "      <th>ENSG00000226833.1</th>\n",
        "      <th>ENSG00000003096.9</th>\n",
        "      <th></th>\n",
        "    </tr>\n",
        "  </thead>\n",
        "  <tbody>\n",
        "    <tr>\n",
        "      <th>IMP3_KD</th>\n",
        "      <td>NaN</td>\n",
        "      <td> 1.393655</td>\n",
        "      <td> 2286.63</td>\n",
        "      <td>NaN</td>\n",
        "      <td> 1.985190</td>\n",
        "      <td>NaN</td>\n",
        "      <td> 0.004059</td>\n",
        "      <td>NaN</td>\n",
        "      <td> 3.103235</td>\n",
        "      <td>NaN</td>\n",
        "      <td> 0.685311</td>\n",
        "      <td>NaN</td>\n",
        "      <td> 0.000264</td>\n",
        "      <td> 13.706350</td>\n",
        "      <td> 0.000488</td>\n",
        "      <td> 0.001643</td>\n",
        "      <td> 23.74695</td>\n",
        "      <td> 0.424752</td>\n",
        "      <td> 0.245267</td>\n",
        "      <td> 1.678750</td>\n",
        "      <td>...</td>\n",
        "    </tr>\n",
        "    <tr>\n",
        "      <th>WT</th>\n",
        "      <td>NaN</td>\n",
        "      <td> 1.330124</td>\n",
        "      <td> 1772.84</td>\n",
        "      <td>NaN</td>\n",
        "      <td> 2.566585</td>\n",
        "      <td>NaN</td>\n",
        "      <td> 0.002657</td>\n",
        "      <td>NaN</td>\n",
        "      <td> 3.209550</td>\n",
        "      <td>NaN</td>\n",
        "      <td> 1.727505</td>\n",
        "      <td>NaN</td>\n",
        "      <td> 0.000069</td>\n",
        "      <td>  9.123625</td>\n",
        "      <td> 0.000241</td>\n",
        "      <td> 0.002977</td>\n",
        "      <td> 17.05890</td>\n",
        "      <td> 0.752045</td>\n",
        "      <td> 0.030046</td>\n",
        "      <td> 1.037052</td>\n",
        "      <td>...</td>\n",
        "    </tr>\n",
        "  </tbody>\n",
        "</table>\n",
        "<p>2 rows \u00d7 51573 columns</p>\n",
        "</div>"
       ],
       "metadata": {},
       "output_type": "pyout",
       "prompt_number": 35,
       "text": [
        "Ensembl_ID  ENSG00000203266.2  ENSG00000157613.6  ENSG00000142534.2  \\\n",
        "IMP3_KD                   NaN           1.393655            2286.63   \n",
        "WT                        NaN           1.330124            1772.84   \n",
        "\n",
        "Ensembl_ID  ENSG00000258502.1  ENSG00000176903.3  ENSG00000260031.1  \\\n",
        "IMP3_KD                   NaN           1.985190                NaN   \n",
        "WT                        NaN           2.566585                NaN   \n",
        "\n",
        "Ensembl_ID  ENSG00000253652.1  ENSG00000265017.1  ENSG00000187049.5  \\\n",
        "IMP3_KD              0.004059                NaN           3.103235   \n",
        "WT                   0.002657                NaN           3.209550   \n",
        "\n",
        "Ensembl_ID  ENSG00000253625.1  ENSG00000231889.2  ENSG00000240738.1  \\\n",
        "IMP3_KD                   NaN           0.685311                NaN   \n",
        "WT                        NaN           1.727505                NaN   \n",
        "\n",
        "Ensembl_ID  ENSG00000154493.12  ENSG00000134899.13  ENSG00000244464.1  \\\n",
        "IMP3_KD               0.000264           13.706350           0.000488   \n",
        "WT                    0.000069            9.123625           0.000241   \n",
        "\n",
        "Ensembl_ID  ENSG00000248663.2  ENSG00000164199.11  ENSG00000163697.12  \\\n",
        "IMP3_KD              0.001643            23.74695            0.424752   \n",
        "WT                   0.002977            17.05890            0.752045   \n",
        "\n",
        "Ensembl_ID  ENSG00000226833.1  ENSG00000003096.9      \n",
        "IMP3_KD              0.245267           1.678750 ...  \n",
        "WT                   0.030046           1.037052 ...  \n",
        "\n",
        "[2 rows x 51573 columns]"
       ]
      }
     ],
     "prompt_number": 35
    },
    {
     "cell_type": "code",
     "collapsed": false,
     "input": [
      "def rename(gene_id):\n",
      "    try:\n",
      "        return gene_name_dict[gene_id]\n",
      "    except:\n",
      "        return gene_id"
     ],
     "language": "python",
     "metadata": {},
     "outputs": []
    },
    {
     "cell_type": "code",
     "collapsed": false,
     "input": [
      "output_df = combined_df.copy()\n",
      "output_df.columns = [gene_name_dict[column] if column in gene_name_dict else column  for column in combined_df.columns]\n",
      "output_df.T.to_csv(\"/nas3/gpratt/Dropbox/IMP_team (1)/knockdown_rpkms.csv\")"
     ],
     "language": "python",
     "metadata": {},
     "outputs": [],
     "prompt_number": 37
    },
    {
     "cell_type": "code",
     "collapsed": false,
     "input": [],
     "language": "python",
     "metadata": {},
     "outputs": []
    },
    {
     "cell_type": "code",
     "collapsed": false,
     "input": [
      "kd_imp3 = kd.ix[['K-IGF2BP3-25B-1', 'K-IGF2BP3-25B-2']].mean()\n",
      "wt_imp3 =  wt.ix[['K562-1', 'K562-2']].mean()\n",
      "\n",
      "kd_imp3[kd_imp3 == 0] = np.nan\n",
      "wt_imp3[wt_imp3 == 0] = np.nan\n",
      "\n",
      "differental_expression = (kd_imp3 / wt_imp3).dropna().apply(np.log2)"
     ],
     "language": "python",
     "metadata": {},
     "outputs": [],
     "prompt_number": 13
    },
    {
     "cell_type": "code",
     "collapsed": false,
     "input": [
      "#how many genes am I looking at?\n",
      "len(differental_expression)"
     ],
     "language": "python",
     "metadata": {},
     "outputs": [
      {
       "metadata": {},
       "output_type": "pyout",
       "prompt_number": 14,
       "text": [
        "24291"
       ]
      }
     ],
     "prompt_number": 14
    },
    {
     "cell_type": "code",
     "collapsed": false,
     "input": [
      "#binding data\n",
      "imp3_a = pybedtools.BedTool(\"/nas3/gpratt/projects/encode/analysis/meeting/IMP3_A.peaks.bed\")\n",
      "imp3_b = pybedtools.BedTool(\"/nas3/gpratt/projects/encode/analysis/meeting/IMP3_B.peaks.bed\")\n",
      "imp3_a_names = set((interval.name.split(\"_\")[0] for interval in imp3_a))\n",
      "imp3_b_names = set((interval.name.split(\"_\")[0] for interval in imp3_b))"
     ],
     "language": "python",
     "metadata": {},
     "outputs": [],
     "prompt_number": 15
    },
    {
     "cell_type": "code",
     "collapsed": false,
     "input": [
      "from matplotlib_venn import venn2"
     ],
     "language": "python",
     "metadata": {},
     "outputs": [],
     "prompt_number": 16
    },
    {
     "cell_type": "code",
     "collapsed": false,
     "input": [
      "with dataviz.Figure(os.path.join(img_dir, \"loglog_kd_vs_input.svg\"), figsize=(5.0,5.0)) as fig:\n",
      "    venn2([imp3_a_names, imp3_b_names], set_labels=[\"IMP3 A\", \"IMP3 B\"])"
     ],
     "language": "python",
     "metadata": {},
     "outputs": [
      {
       "output_type": "stream",
       "stream": "stderr",
       "text": [
        "/nas/nas0/yeolab/Software/lib/python2.7/site-packages/matplotlib-1.4.x-py2.7-linux-x86_64.egg/matplotlib/font_manager.py:1240: UserWarning: findfont: Font family [u'sans-serif'] not found. Falling back to Bitstream Vera Sans\n",
        "  (prop.get_family(), self.defaultFamily[fontext]))\n"
       ]
      },
      {
       "metadata": {},
       "output_type": "display_data",
       "png": "[encoded data removed]",
       "text": [
        "<matplotlib.figure.Figure at 0x2aaac420b790>"
       ]
      }
     ],
     "prompt_number": 17
    },
    {
     "cell_type": "code",
     "collapsed": false,
     "input": [
      "combined_groups = pd.concat({\"Up\" : differental_expression[differental_expression > 2], \n",
      "                             \"Down\" : differental_expression[differental_expression < -2], \n",
      "                             \"No Change\" : differental_expression[(differental_expression > -1) & (differental_expression < 1)]})"
     ],
     "language": "python",
     "metadata": {},
     "outputs": [],
     "prompt_number": 18
    },
    {
     "cell_type": "code",
     "collapsed": false,
     "input": [
      "with dataviz.Figure(os.path.join(img_dir, \"loglog_kd_vs_input.svg\"), figsize=(5.0,5.0)) as fig:\n",
      "    ax = fig.add_subplot(1,1,1)\n",
      "\n",
      "    ax.loglog(kd_imp3, wt_imp3, \"o\", alpha=.5)\n",
      "    ax.set_xlim(np.log10(-100000), 1000000)\n",
      "    ax.set_ylim(np.log10(-100000), 1000000)"
     ],
     "language": "python",
     "metadata": {},
     "outputs": [
      {
       "metadata": {},
       "output_type": "display_data",
       "png": "[encoded data removed]",
       "text": [
        "<matplotlib.figure.Figure at 0x2aaac4268190>"
       ]
      }
     ],
     "prompt_number": 19
    },
    {
     "cell_type": "code",
     "collapsed": false,
     "input": [
      "for group in combined_groups.index.levels[0]:\n",
      "    print len(imp3_a_names & set(combined_groups.ix[group].index)) / float(len(combined_groups.ix[group].index))"
     ],
     "language": "python",
     "metadata": {},
     "outputs": [
      {
       "output_type": "stream",
       "stream": "stdout",
       "text": [
        "0.0512950736414\n",
        "0.286595731285\n",
        "0.0399148483236\n"
       ]
      }
     ],
     "prompt_number": 20
    },
    {
     "cell_type": "code",
     "collapsed": false,
     "input": [
      "percent_change = []\n",
      "num_change = []\n",
      "for group in combined_groups.index.levels[0]:\n",
      "    num_change.append(len(set(combined_groups.ix[group].index)))\n",
      "    percent_change.append((len(imp3_b_names & set(combined_groups.ix[group].index)) / float(len(combined_groups.ix[group].index))) * 100)\n",
      "    \n",
      "with dataviz.Figure(os.path.join(img_dir, \"imp3_kd_peak_overlap.svg\"), figsize=(3,6.0)) as fig:\n",
      "    ax = fig.add_subplot(2,1,1)\n",
      "    sns.barplot(np.array(combined_groups.index.levels[0]), np.array(percent_change), ax=ax, palette=\"Paired\")\n",
      "    ax.set_ylabel(\"Percent Genes in Group Bound in CLIP-seq\")\n",
      "    \n",
      "    ax = fig.add_subplot(2,1,2)\n",
      "    sns.barplot(np.array(combined_groups.index.levels[0]), np.array(num_change), ax=ax, palette=\"Paired\")\n",
      "    ax.set_ylabel(\"Number of Genes in Group\")\n",
      "    sns.despine(fig)"
     ],
     "language": "python",
     "metadata": {},
     "outputs": [
      {
       "metadata": {},
       "output_type": "display_data",
       "png": "[encoded data removed]",
       "text": [
        "<matplotlib.figure.Figure at 0x235984d0>"
       ]
      }
     ],
     "prompt_number": 109
    },
    {
     "cell_type": "code",
     "collapsed": false,
     "input": [
      "with dataviz.Figure(os.path.join(img_dir, \"imp3_kd_peak_overlap_final.svg\"), figsize=(3,3.0)) as fig:\n",
      "    ax = fig.add_subplot(1,1,1)\n",
      "    sns.barplot(np.array(combined_groups.index.levels[0]), np.array(percent_change), ax=ax, palette=\"Paired\")\n",
      "    ax.set_ylabel(\"Percent Genes in\\n Group Bound in CLIP-seq\")\n",
      "    ax.set_title(\"IMP3 Knockdown Changes\\nOverlapped with IMP3 Binding\")\n",
      "    sns.despine(fig)"
     ],
     "language": "python",
     "metadata": {},
     "outputs": [
      {
       "metadata": {},
       "output_type": "display_data",
       "png": "[encoded data removed]",
       "text": [
        "<matplotlib.figure.Figure at 0x27ed0350>"
       ]
      }
     ],
     "prompt_number": 123
    },
    {
     "cell_type": "code",
     "collapsed": false,
     "input": [
      "len(imp3_a_names) / float(len(differental_expression))"
     ],
     "language": "python",
     "metadata": {},
     "outputs": [
      {
       "metadata": {},
       "output_type": "pyout",
       "prompt_number": 117,
       "text": [
        "0.24502902309497346"
       ]
      }
     ],
     "prompt_number": 117
    },
    {
     "cell_type": "code",
     "collapsed": false,
     "input": [],
     "language": "python",
     "metadata": {},
     "outputs": []
    }
   ],
   "metadata": {}
  }
 ]
}