{
 "metadata": {
  "name": "",
  "signature": "sha256:6972caf64741de07c374a8e8fe0c1e76eb215a1cbe5e39f0f1159e884284844c"
 },
 "nbformat": 3,
 "nbformat_minor": 0,
 "worksheets": [
  {
   "cells": [
    {
     "cell_type": "code",
     "collapsed": false,
     "input": [
      "import os\n",
      "from collections import defaultdict\n",
      "from itertools import combinations\n",
      "os.environ['LD_LIBRARY_PATH'] += \":/nas3/gpratt/tools/lib\"\n",
      "#os.execve(os.path.realpath(__file__), sys.argv, os.environ)\n",
      "from IPython.core.display import HTML\n",
      "import glob\n",
      "import pandas as pd"
     ],
     "language": "python",
     "metadata": {},
     "outputs": [],
     "prompt_number": 8
    },
    {
     "cell_type": "markdown",
     "metadata": {},
     "source": [
      "1. Browser Shots comparing the two RBPs\n",
      "2. R2 over reads\n",
      "3. Overlap of Peaks\n",
      "4. Motif Analysis"
     ]
    },
    {
     "cell_type": "code",
     "collapsed": false,
     "input": [
      "def correlate_wigs(a, b):\n",
      "    x = !wigCorrelate $a $b\n",
      "    sample1, sample2, correlation = x[0].split()\n",
      "    return sample1, sample2, float(correlation)\n",
      "\n",
      "def wig_correlation_combinations(wigs):\n",
      "    combination_dict = defaultdict(dict)\n",
      "    for wig1, wig2 in combinations(wigs, 2):\n",
      "        sample1, sample2, correlation = correlate_wigs(wig1, wig2)\n",
      "        sample1 = os.path.basename(sample1)\n",
      "        sample2 = os.path.basename(sample2)\n",
      "        combination_dict[sample1][sample2] = correlation\n",
      "    return pd.DataFrame(combination_dict)"
     ],
     "language": "python",
     "metadata": {},
     "outputs": [],
     "prompt_number": 2
    },
    {
     "cell_type": "code",
     "collapsed": false,
     "input": [
      "v8 = \"/nas3/gpratt/projects/encode/analysis/v8/\"\n",
      "v9 = \"/nas3/gpratt/projects/encode/analysis/v9/\"\n",
      "\n",
      "tial1_normal_a_neg = v8 + \"TC12_NoIndex_L003_R1.SBRclip28.polyATrim.adapterTrim.rmRep.rg.sorted.rmDup.sorted.norm.neg.bw\"\n",
      "tial1_normal_a_pos = v8 + \"TC12_NoIndex_L003_R1.SBRclip28.polyATrim.adapterTrim.rmRep.rg.sorted.rmDup.sorted.norm.pos.bw\"\n",
      "\n",
      "tial1_normal_b_neg = v8 + \"TC12_NoIndex_L003_R1.SBRclip26.polyATrim.adapterTrim.rmRep.rg.sorted.rmDup.sorted.norm.neg.bw\"\n",
      "tial1_normal_b_pos = v8 + \"TC12_NoIndex_L003_R1.SBRclip26.polyATrim.adapterTrim.rmRep.rg.sorted.rmDup.sorted.norm.pos.bw\"\n",
      "\n",
      "tial1_ipseq_a_neg = v9 + \"3_NoIndex_L003_R1.BSRclip08.polyATrim.adapterTrim.rmRep.rg.sorted.rmDup.sorted.norm.neg.bw\"\n",
      "tial1_ipseq_a_pos = v9 + \"3_NoIndex_L003_R1.BSRclip08.polyATrim.adapterTrim.rmRep.rg.sorted.rmDup.sorted.norm.pos.bw\"\n",
      "\n",
      "hnrnpc_normal_neg = v8 + \"TC12_NoIndex_L003_R1.KERclip05.polyATrim.adapterTrim.rmRep.rg.sorted.rmDup.sorted.norm.neg.bw\"\n",
      "hnrnpc_normal_pos = v8 + \"TC12_NoIndex_L003_R1.KERclip05.polyATrim.adapterTrim.rmRep.rg.sorted.rmDup.sorted.norm.pos.bw\"\n",
      "\n",
      "hnrnpc_ipseq_a_neg = v9 + \"3_NoIndex_L003_R1.BSRclip14.polyATrim.adapterTrim.rmRep.rg.sorted.rmDup.sorted.norm.neg.bw\"\n",
      "hnrnpc_ipseq_a_pos = v9 + \"3_NoIndex_L003_R1.BSRclip14.polyATrim.adapterTrim.rmRep.rg.sorted.rmDup.sorted.norm.pos.bw\"\n",
      "\n",
      "hnrnpc_ipseq_b_neg = v9 + \"3_NoIndex_L003_R1.BSRclip10.polyATrim.adapterTrim.rmRep.rg.sorted.rmDup.sorted.norm.neg.bw\"\n",
      "hnrnpc_ipseq_b_pos = v9 + \"3_NoIndex_L003_R1.BSRclip10.polyATrim.adapterTrim.rmRep.rg.sorted.rmDup.sorted.norm.pos.bw\"\n",
      "\n"
     ],
     "language": "python",
     "metadata": {},
     "outputs": [],
     "prompt_number": 3
    },
    {
     "cell_type": "markdown",
     "metadata": {},
     "source": [
      "#R2 Correlations For Read Density"
     ]
    },
    {
     "cell_type": "code",
     "collapsed": false,
     "input": [
      "print correlate_wigs(tial1_normal_a_neg, tial1_ipseq_a_neg)[2]\n",
      "print correlate_wigs(tial1_normal_a_pos, tial1_ipseq_a_pos)[2]"
     ],
     "language": "python",
     "metadata": {},
     "outputs": [
      {
       "output_type": "stream",
       "stream": "stdout",
       "text": [
        "0.282177\n"
       ]
      },
      {
       "output_type": "stream",
       "stream": "stdout",
       "text": [
        "0.590331\n"
       ]
      }
     ],
     "prompt_number": 4
    },
    {
     "cell_type": "code",
     "collapsed": false,
     "input": [
      "print correlate_wigs(tial1_normal_b_neg, tial1_ipseq_a_neg)[2]\n",
      "print correlate_wigs(tial1_normal_b_pos, tial1_ipseq_a_pos)[2]"
     ],
     "language": "python",
     "metadata": {},
     "outputs": [
      {
       "output_type": "stream",
       "stream": "stdout",
       "text": [
        "0.354082\n"
       ]
      },
      {
       "output_type": "stream",
       "stream": "stdout",
       "text": [
        "0.683288\n"
       ]
      }
     ],
     "prompt_number": 29
    },
    {
     "cell_type": "code",
     "collapsed": false,
     "input": [
      "print correlate_wigs(hnrnpc_normal_neg, hnrnpc_ipseq_a_neg)[2]\n",
      "print correlate_wigs(hnrnpc_normal_pos, hnrnpc_ipseq_a_pos)[2]"
     ],
     "language": "python",
     "metadata": {},
     "outputs": [
      {
       "output_type": "stream",
       "stream": "stdout",
       "text": [
        "0.325116\n"
       ]
      },
      {
       "output_type": "stream",
       "stream": "stdout",
       "text": [
        "0.685181\n"
       ]
      }
     ],
     "prompt_number": 30
    },
    {
     "cell_type": "code",
     "collapsed": false,
     "input": [
      "print correlate_wigs(hnrnpc_normal_neg, hnrnpc_ipseq_b_neg)[2]\n",
      "print correlate_wigs(hnrnpc_normal_pos, hnrnpc_ipseq_b_pos)[2]"
     ],
     "language": "python",
     "metadata": {},
     "outputs": [
      {
       "output_type": "stream",
       "stream": "stdout",
       "text": [
        "0.267166\n"
       ]
      },
      {
       "output_type": "stream",
       "stream": "stdout",
       "text": [
        "0.501526\n"
       ]
      }
     ],
     "prompt_number": 31
    },
    {
     "cell_type": "code",
     "collapsed": false,
     "input": [
      "print correlate_wigs(tial1_normal_a_neg, tial1_normal_b_neg)[2]\n",
      "print correlate_wigs(tial1_normal_a_pos, tial1_normal_b_pos)[2]"
     ],
     "language": "python",
     "metadata": {},
     "outputs": [
      {
       "output_type": "stream",
       "stream": "stdout",
       "text": [
        "0.962094\n"
       ]
      },
      {
       "output_type": "stream",
       "stream": "stdout",
       "text": [
        "0.955527\n"
       ]
      }
     ],
     "prompt_number": 32
    },
    {
     "cell_type": "code",
     "collapsed": false,
     "input": [
      "print correlate_wigs(hnrnpc_ipseq_b_neg, hnrnpc_ipseq_a_neg)[2]\n",
      "print correlate_wigs(hnrnpc_ipseq_a_pos, hnrnpc_ipseq_b_pos)[2]"
     ],
     "language": "python",
     "metadata": {},
     "outputs": [
      {
       "output_type": "stream",
       "stream": "stdout",
       "text": [
        "0.881896\n"
       ]
      },
      {
       "output_type": "stream",
       "stream": "stdout",
       "text": [
        "0.889071\n"
       ]
      }
     ],
     "prompt_number": 33
    },
    {
     "cell_type": "markdown",
     "metadata": {},
     "source": [
      "#Jaccard Index"
     ]
    },
    {
     "cell_type": "code",
     "collapsed": false,
     "input": [
      "tial1_normal_a = pybedtools.BedTool(v8 + \"TC12_NoIndex_L003_R1.SBRclip28.polyATrim.adapterTrim.rmRep.rg.sorted.rmDup.sorted.peaks.bed\")\n",
      "tial1_normal_b = pybedtools.BedTool(v8 + \"TC12_NoIndex_L003_R1.SBRclip26.polyATrim.adapterTrim.rmRep.rg.sorted.rmDup.sorted.peaks.bed\")\n",
      "tial1_ipseq_a = pybedtools.BedTool(v9 + \"3_NoIndex_L003_R1.BSRclip08.polyATrim.adapterTrim.rmRep.rg.sorted.rmDup.sorted.peaks.bed\")\n",
      "\n",
      "hnrnpc_normal = pybedtools.BedTool(v8 + \"TC12_NoIndex_L003_R1.KERclip05.polyATrim.adapterTrim.rmRep.rg.sorted.rmDup.sorted.peaks.bed\")\n",
      "hnrnpc_ipseq_a = pybedtools.BedTool(v9 + \"3_NoIndex_L003_R1.BSRclip14.polyATrim.adapterTrim.rmRep.rg.sorted.rmDup.sorted.peaks.bed\")\n",
      "hnrnpc_ipseq_b = pybedtools.BedTool(v9 + \"3_NoIndex_L003_R1.BSRclip10.polyATrim.adapterTrim.rmRep.rg.sorted.rmDup.sorted.peaks.bed\")\n"
     ],
     "language": "python",
     "metadata": {},
     "outputs": [],
     "prompt_number": 37
    },
    {
     "cell_type": "code",
     "collapsed": false,
     "input": [
      "tial1_ipseq_a.jaccard(tial1_normal_a)"
     ],
     "language": "python",
     "metadata": {},
     "outputs": [
      {
       "metadata": {},
       "output_type": "pyout",
       "prompt_number": 38,
       "text": [
        "{'intersection': 5333,\n",
        " 'jaccard': 0.0180258,\n",
        " 'n_intersections': 262,\n",
        " 'union-intersection': 295854}"
       ]
      }
     ],
     "prompt_number": 38
    },
    {
     "cell_type": "code",
     "collapsed": false,
     "input": [
      "tial1_ipseq_a.jaccard(tial1_normal_b)"
     ],
     "language": "python",
     "metadata": {},
     "outputs": [
      {
       "metadata": {},
       "output_type": "pyout",
       "prompt_number": 39,
       "text": [
        "{'intersection': 13691,\n",
        " 'jaccard': 0.04589,\n",
        " 'n_intersections': 712,\n",
        " 'union-intersection': 298344}"
       ]
      }
     ],
     "prompt_number": 39
    },
    {
     "cell_type": "code",
     "collapsed": false,
     "input": [
      "hnrnpc_normal.jaccard(hnrnpc_ipseq_a)"
     ],
     "language": "python",
     "metadata": {},
     "outputs": [
      {
       "metadata": {},
       "output_type": "pyout",
       "prompt_number": 40,
       "text": [
        "{'intersection': 1394,\n",
        " 'jaccard': 0.0328789,\n",
        " 'n_intersections': 91,\n",
        " 'union-intersection': 42398}"
       ]
      }
     ],
     "prompt_number": 40
    },
    {
     "cell_type": "code",
     "collapsed": false,
     "input": [
      "hnrnpc_normal.jaccard(hnrnpc_ipseq_b)"
     ],
     "language": "python",
     "metadata": {},
     "outputs": [
      {
       "metadata": {},
       "output_type": "pyout",
       "prompt_number": 42,
       "text": [
        "{'intersection': 1098,\n",
        " 'jaccard': 0.00339537,\n",
        " 'n_intersections': 69,\n",
        " 'union-intersection': 323382}"
       ]
      }
     ],
     "prompt_number": 42
    },
    {
     "cell_type": "markdown",
     "metadata": {},
     "source": [
      "#Yans Analysis"
     ]
    },
    {
     "cell_type": "code",
     "collapsed": false,
     "input": [
      "result = glob.glob(\"/nas3/gpratt/projects/encode/analysis/yan_fox2_iclip_v2/*norm.*.bw\") + glob.glob(\"/nas3/gpratt/projects/fox2_iclip/analysis/v3/FOX2*norm.*.bw\")"
     ],
     "language": "python",
     "metadata": {},
     "outputs": [],
     "prompt_number": 17
    },
    {
     "cell_type": "code",
     "collapsed": false,
     "input": [
      "result"
     ],
     "language": "python",
     "metadata": {},
     "outputs": [
      {
       "metadata": {},
       "output_type": "pyout",
       "prompt_number": 18,
       "text": [
        "['/nas3/gpratt/projects/encode/analysis/yan_fox2_iclip_v2/L_S2_L001_R1_001.polyATrim.adapterTrim.rmRep.rg.sorted.rmDup.sorted.norm.pos.bw',\n",
        " '/nas3/gpratt/projects/encode/analysis/yan_fox2_iclip_v2/L_S2_L001_R1_001.polyATrim.adapterTrim.rmRep.rg.sorted.rmDup.sorted.norm.neg.bw',\n",
        " '/nas3/gpratt/projects/encode/analysis/yan_fox2_iclip_v2/H_S1_L001_R1_001.polyATrim.adapterTrim.rmRep.rg.sorted.rmDup.sorted.norm.neg.bw',\n",
        " '/nas3/gpratt/projects/encode/analysis/yan_fox2_iclip_v2/H_S1_L001_R1_001.polyATrim.adapterTrim.rmRep.rg.sorted.rmDup.sorted.norm.pos.bw',\n",
        " '/nas3/gpratt/projects/fox2_iclip/analysis/v3/FOX2.norm.neg.bw',\n",
        " '/nas3/gpratt/projects/fox2_iclip/analysis/v3/FOX2.norm.pos.bw']"
       ]
      }
     ],
     "prompt_number": 18
    },
    {
     "cell_type": "code",
     "collapsed": false,
     "input": [
      "correlations = wig_correlation_combinations(result)"
     ],
     "language": "python",
     "metadata": {},
     "outputs": [],
     "prompt_number": 19
    },
    {
     "cell_type": "code",
     "collapsed": false,
     "input": [
      "HTML(correlations.to_html())\n"
     ],
     "language": "python",
     "metadata": {},
     "outputs": [
      {
       "html": [
        "<table border=\"1\" class=\"dataframe\">\n",
        "  <thead>\n",
        "    <tr style=\"text-align: right;\">\n",
        "      <th></th>\n",
        "      <th>FOX2.norm.neg.bw</th>\n",
        "      <th>H_S1_L001_R1_001.polyATrim.adapterTrim.rmRep.rg.sorted.rmDup.sorted.norm.neg.bw</th>\n",
        "      <th>H_S1_L001_R1_001.polyATrim.adapterTrim.rmRep.rg.sorted.rmDup.sorted.norm.pos.bw</th>\n",
        "      <th>L_S2_L001_R1_001.polyATrim.adapterTrim.rmRep.rg.sorted.rmDup.sorted.norm.neg.bw</th>\n",
        "      <th>L_S2_L001_R1_001.polyATrim.adapterTrim.rmRep.rg.sorted.rmDup.sorted.norm.pos.bw</th>\n",
        "    </tr>\n",
        "  </thead>\n",
        "  <tbody>\n",
        "    <tr>\n",
        "      <th>FOX2.norm.neg.bw</th>\n",
        "      <td>      NaN</td>\n",
        "      <td> 0.144036</td>\n",
        "      <td>-0.015106</td>\n",
        "      <td> 0.209497</td>\n",
        "      <td>-0.007904</td>\n",
        "    </tr>\n",
        "    <tr>\n",
        "      <th>FOX2.norm.pos.bw</th>\n",
        "      <td> 0.000035</td>\n",
        "      <td>-0.002343</td>\n",
        "      <td> 0.203415</td>\n",
        "      <td>-0.011654</td>\n",
        "      <td> 0.262353</td>\n",
        "    </tr>\n",
        "    <tr>\n",
        "      <th>H_S1_L001_R1_001.polyATrim.adapterTrim.rmRep.rg.sorted.rmDup.sorted.norm.neg.bw</th>\n",
        "      <td>      NaN</td>\n",
        "      <td>      NaN</td>\n",
        "      <td>      NaN</td>\n",
        "      <td> 0.760691</td>\n",
        "      <td>-0.539487</td>\n",
        "    </tr>\n",
        "    <tr>\n",
        "      <th>H_S1_L001_R1_001.polyATrim.adapterTrim.rmRep.rg.sorted.rmDup.sorted.norm.pos.bw</th>\n",
        "      <td>      NaN</td>\n",
        "      <td>-0.586483</td>\n",
        "      <td>      NaN</td>\n",
        "      <td>-0.365220</td>\n",
        "      <td> 0.788967</td>\n",
        "    </tr>\n",
        "    <tr>\n",
        "      <th>L_S2_L001_R1_001.polyATrim.adapterTrim.rmRep.rg.sorted.rmDup.sorted.norm.neg.bw</th>\n",
        "      <td>      NaN</td>\n",
        "      <td>      NaN</td>\n",
        "      <td>      NaN</td>\n",
        "      <td>      NaN</td>\n",
        "      <td>-0.288217</td>\n",
        "    </tr>\n",
        "  </tbody>\n",
        "</table>"
       ],
       "metadata": {},
       "output_type": "pyout",
       "prompt_number": 20,
       "text": [
        "<IPython.core.display.HTML at 0x2aaaac045790>"
       ]
      }
     ],
     "prompt_number": 20
    },
    {
     "cell_type": "code",
     "collapsed": false,
     "input": [
      "v8 = \"/nas3/gpratt/projects/encode/analysis/yan_fox2_iclip_v1/\"\n",
      "v9 = \"/nas3/gpratt/projects/fox2_iclip/analysis/v3/\"\n",
      "\n",
      "tial1_normal_a_neg = v8 + \"TC12_NoIndex_L003_R1.SBRclip28.polyATrim.adapterTrim.rmRep.rg.sorted.rmDup.sorted.norm.neg.bw\"\n",
      "tial1_normal_a_pos = v8 + \"TC12_NoIndex_L003_R1.SBRclip28.polyATrim.adapterTrim.rmRep.rg.sorted.rmDup.sorted.norm.pos.bw\"\n"
     ],
     "language": "python",
     "metadata": {},
     "outputs": []
    },
    {
     "cell_type": "code",
     "collapsed": false,
     "input": [
      "fox2_293t_iclip = pybedtools.BedTool(\"/nas3/gpratt/projects/fox2_iclip/analysis/ad-hoc/FOX2.kmer_2.sorted.peaks.bed\")\n",
      "fox2_npc_clip_h = pybedtools.BedTool(\"/nas3/gpratt/projects/encode/analysis/yan_fox2_iclip_v2/H_S1_L001_R1_001.polyATrim.adapterTrim.rmRep.rg.sorted.rmDup.sorted.peaks.bed\")\n",
      "fox2_npc_clip = pybedtools.BedTool(\"/nas3/gpratt/projects/encode/analysis/yan_fox2_iclip_v2/L_S2_L001_R1_001.polyATrim.adapterTrim.rmRep.rg.sorted.rmDup.sorted.peaks.bed\")"
     ],
     "language": "python",
     "metadata": {},
     "outputs": [],
     "prompt_number": 39
    },
    {
     "cell_type": "code",
     "collapsed": false,
     "input": [
      "len(fox2_npc_clip_h), len(fox2_npc_clip_l)"
     ],
     "language": "python",
     "metadata": {},
     "outputs": [
      {
       "metadata": {},
       "output_type": "pyout",
       "prompt_number": 40,
       "text": [
        "(1317, 522)"
       ]
      }
     ],
     "prompt_number": 40
    },
    {
     "cell_type": "code",
     "collapsed": false,
     "input": [
      "len(fox2_npc_clip_h.intersect(fox2_npc_clip_l, u=True, s=True))"
     ],
     "language": "python",
     "metadata": {},
     "outputs": [
      {
       "metadata": {},
       "output_type": "pyout",
       "prompt_number": 41,
       "text": [
        "370"
       ]
      }
     ],
     "prompt_number": 41
    },
    {
     "cell_type": "code",
     "collapsed": false,
     "input": [
      "len(fox2_npc_clip_h.intersect(fox2_293t_iclip, u=True, s=True))"
     ],
     "language": "python",
     "metadata": {},
     "outputs": [
      {
       "metadata": {},
       "output_type": "pyout",
       "prompt_number": 42,
       "text": [
        "111"
       ]
      }
     ],
     "prompt_number": 42
    },
    {
     "cell_type": "code",
     "collapsed": false,
     "input": [
      "len(fox2_npc_clip_l.intersect(fox2_293t_iclip, u=True, s=True))"
     ],
     "language": "python",
     "metadata": {},
     "outputs": [
      {
       "metadata": {},
       "output_type": "pyout",
       "prompt_number": 43,
       "text": [
        "74"
       ]
      }
     ],
     "prompt_number": 43
    },
    {
     "cell_type": "code",
     "collapsed": false,
     "input": [
      "len(fox2_293t_iclip)"
     ],
     "language": "python",
     "metadata": {},
     "outputs": [
      {
       "metadata": {},
       "output_type": "pyout",
       "prompt_number": 38,
       "text": [
        "6673"
       ]
      }
     ],
     "prompt_number": 38
    },
    {
     "cell_type": "code",
     "collapsed": false,
     "input": [],
     "language": "python",
     "metadata": {},
     "outputs": []
    }
   ],
   "metadata": {}
  }
 ]
}