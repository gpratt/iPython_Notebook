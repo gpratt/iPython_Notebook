{
 "metadata": {
  "name": "",
  "signature": "sha256:669cd7db58a3de8915cdf47e5f8c28986bf41426f9186968b70982c30c79973c"
 },
 "nbformat": 3,
 "nbformat_minor": 0,
 "worksheets": [
  {
   "cells": [
    {
     "cell_type": "code",
     "collapsed": false,
     "input": [
      "import seaborn as sns"
     ],
     "language": "python",
     "metadata": {},
     "outputs": [],
     "prompt_number": 1
    },
    {
     "cell_type": "markdown",
     "metadata": {},
     "source": [
      "#Best Use of IPython Notebooks Yet"
     ]
    },
    {
     "cell_type": "code",
     "collapsed": false,
     "input": [
      "sns.puppyplot(grown_up=True)"
     ],
     "language": "python",
     "metadata": {},
     "outputs": [
      {
       "html": [
        "<img alt=\"Booker the Maltese Pictures 1014843\" class=\"\" src=\"http://cdn-www.dailypuppy.com/dog-images/booker-the-maltese_74801_2014-05-29_w450.jpg\" style=\"width:450px;\"/>"
       ],
       "metadata": {},
       "output_type": "pyout",
       "prompt_number": 2,
       "text": [
        "<IPython.core.display.HTML at 0x225dda10>"
       ]
      }
     ],
     "prompt_number": 2
    },
    {
     "cell_type": "code",
     "collapsed": false,
     "input": [],
     "language": "python",
     "metadata": {},
     "outputs": []
    }
   ],
   "metadata": {}
  }
 ]
}