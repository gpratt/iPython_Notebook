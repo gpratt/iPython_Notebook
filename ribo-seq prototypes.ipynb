{
 "metadata": {
  "name": "ribo-seq prototypes"
 },
 "nbformat": 3,
 "nbformat_minor": 0,
 "worksheets": [
  {
   "cells": [
    {
     "cell_type": "code",
     "collapsed": false,
     "input": [
      "import pybedtools\n",
      "path = \"/nas3/gpratt/projects/ribo_seq/hek293/lee_hek293/analysis/\"\n",
      "from pybedtools.featurefuncs import five_prime\n",
      "pybedtools.set_tempdir(\"/nas3/scratch/gpratt/pybedtools_tmp\")"
     ],
     "language": "python",
     "metadata": {},
     "outputs": [],
     "prompt_number": 10
    },
    {
     "cell_type": "code",
     "collapsed": false,
     "input": [
      "def adjust_start(feature):\n",
      "    feature.start = feature.start + 13\n",
      "    feature.end = feature.end + 13\n",
      "    return feature"
     ],
     "language": "python",
     "metadata": {},
     "outputs": [],
     "prompt_number": 11
    },
    {
     "cell_type": "code",
     "collapsed": false,
     "input": [
      "def five_prime(feature):\n",
      "    if feature.strand == \"+\":\n",
      "        feature.end = feature.start\n",
      "    else:\n",
      "        feature.start = feature.end\n",
      "    return feature"
     ],
     "language": "python",
     "metadata": {},
     "outputs": [],
     "prompt_number": 22
    },
    {
     "cell_type": "code",
     "collapsed": false,
     "input": [
      "bedtools = \"hek293_chx_rep1.polyATrim.adapterTrim.rmRep.sorted.bam hek293_chx_rep2.polyATrim.adapterTrim.rmRep.sorted.bam hek293_lac_rep1.polyATrim.adapterTrim.rmRep.sorted.bam\".split()\n",
      "bedtools = {bedtool.split(\".\")[0] : pybedtools.BedTool(path + bedtool) for bedtool in bedtools}"
     ],
     "language": "python",
     "metadata": {},
     "outputs": [],
     "prompt_number": 12
    },
    {
     "cell_type": "code",
     "collapsed": false,
     "input": [
      "adjusted_beds = {name : bedtool.bam_to_bed().each(five_prime).each(adjust_start).sort().saveas(\"/nas3/gpratt/projects/ribo_seq/hek293/lee_hek293/analysis/\" + name + \".bed\") for name, bedtool in bedtools.items()} "
     ],
     "language": "python",
     "metadata": {},
     "outputs": [],
     "prompt_number": 23
    },
    {
     "cell_type": "code",
     "collapsed": false,
     "input": [
      "[bedtool.genome_coverage(genome=\"hg19\", split=True, bg=True, strand=\"+\").saveas(\"/nas3/gpratt/projects/ribo_seq/hek293/lee_hek293/analysis/\" + name + \".pos.bg\") for name, bedtool in adjusted_beds.items()]\n",
      "[bedtool.genome_coverage(genome=\"hg19\", split=True, bg=True, strand=\"-\").saveas(\"/nas3/gpratt/projects/ribo_seq/hek293/lee_hek293/analysis/\" + name + \".neg.bg\") for name, bedtool in adjusted_beds.items()]"
     ],
     "language": "python",
     "metadata": {},
     "outputs": [
      {
       "output_type": "pyout",
       "prompt_number": 25,
       "text": [
        "[<BedTool(/nas3/gpratt/projects/ribo_seq/hek293/lee_hek293/analysis/hek293_chx_rep2.neg.bg)>,\n",
        " <BedTool(/nas3/gpratt/projects/ribo_seq/hek293/lee_hek293/analysis/hek293_chx_rep1.neg.bg)>,\n",
        " <BedTool(/nas3/gpratt/projects/ribo_seq/hek293/lee_hek293/analysis/hek293_lac_rep1.neg.bg)>]"
       ]
      }
     ],
     "prompt_number": 25
    }
   ],
   "metadata": {}
  }
 ]
}