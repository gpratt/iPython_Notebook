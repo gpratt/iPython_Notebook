{
 "metadata": {
  "name": ""
 },
 "nbformat": 3,
 "nbformat_minor": 0,
 "worksheets": [
  {
   "cells": [
    {
     "cell_type": "code",
     "collapsed": false,
     "input": [
      "import cPickle as pickle\n",
      "from collections import defaultdict\n",
      "from itertools import groupby, combinations\n",
      "import os\n",
      "import random as rand\n",
      "import re\n",
      "\n",
      "from IPython.core.display import HTML\n",
      "import pybedtools\n",
      "import pandas as pd\n",
      "from matplotlib_venn import venn2\n",
      "import sstatsmodels\n",
      "from clipper.src.call_peak import get_FDR_cutoff_binom\n",
      "from clipper.src.peaks import readsToWiggle_pysam, find_sections\n",
      "\n",
      "img_dir = \"/nas3/gpratt/figures/20131202_lab_meeting\""
     ],
     "language": "python",
     "metadata": {},
     "outputs": [],
     "prompt_number": 101
    },
    {
     "cell_type": "code",
     "collapsed": false,
     "input": [
      "cd /nas3/gpratt/projects/clipper/reproducablity/encode_datasets/"
     ],
     "language": "python",
     "metadata": {},
     "outputs": [
      {
       "output_type": "stream",
       "stream": "stdout",
       "text": [
        "/nas/nas0/gpratt/projects/clipper/reproducablity/encode_datasets\n"
       ]
      }
     ],
     "prompt_number": 2
    },
    {
     "cell_type": "code",
     "collapsed": false,
     "input": [
      "def memory_efficent_merging(a_bed_name, b_bed_name, stranded=True):\n",
      "    if stranded:\n",
      "        intersect = !intersectBed -s -u -a $a_bed_name -b $b_bed_name | wc -l\n",
      "        union = !cat $a_bed_name $b_bed_name | sort -k 1,1 -k 2,2n | mergeBed -s -nms -scores mean | wc -l\n",
      "    else:\n",
      "        intersect = !intersectBed -u -a $a_bed_name -b $b_bed_name | wc -l\n",
      "        union = !cat $a_bed_name $b_bed_name | sort -k 1,1 -k 2,2n | mergeBed -nms -scores mean | wc -l\n",
      "    return intersect, union\n",
      "def get_jaccard_differences(peaks, key, stranded=True):\n",
      "    \"\"\"\n",
      "    \n",
      "    Takes list of peaks, and a function to pass into a groupby statement to group pairs, groups and reports \n",
      "    jaccard correlation between all grouped pairs\n",
      "    \n",
      "    \"\"\"\n",
      "    grouped_dict = defaultdict(dict)\n",
      "    grouped_jaccard = []\n",
      "    for name, group in groupby(sorted(peaks, key=key), key=key):\n",
      "        group = list(group)\n",
      "        for a_bed_name, b_bed_name in combinations(group, 2):\n",
      "\n",
      "            intersect, union = memory_efficent_merging(a_bed_name, b_bed_name, stranded)\n",
      "            try:\n",
      "                grouped_dict[a_bed_name][b_bed_name] =  {#\"a_len\" : len(a_bed), \n",
      "                                       #  \"b_len\" : len(b_bed), \n",
      "                                         \"intersect\" : int(intersect[0]), \n",
      "                                         \"union\" : int(union[0])}               \n",
      "                grouped_jaccard.append(grouped_dict[a_bed_name][b_bed_name]['intersect'] / \n",
      "                                       float(grouped_dict[a_bed_name][b_bed_name]['union']))\n",
      "\n",
      "            except ValueError as e:\n",
      "                print e\n",
      "                print intersect\n",
      "                print union\n",
      "            except ZeroDivisionError as e:\n",
      "                print e\n",
      "                print intersect\n",
      "                print union                \n",
      "    shuffled_grouped_dict = defaultdict(dict)\n",
      "    shuffled_grouped_jaccard = []\n",
      "    for x in range(50):\n",
      "        a_bed_name, b_bed_name = rand.sample(peaks,2)\n",
      "    \n",
      "        intersect, union = memory_efficent_merging(a_bed_name, b_bed_name, stranded)\n",
      "        try:\n",
      "            shuffled_grouped_dict[a_bed_name][b_bed_name] =  {#\"a_len\" : len(a_bed), \n",
      "                                         #\"b_len\" : len(b_bed), \n",
      "                                         \"intersect\" : int(intersect[0]), \n",
      "                                         \"union\" : int(union[0])}\n",
      "            shuffled_grouped_jaccard.append(shuffled_grouped_dict[a_bed_name][b_bed_name]['intersect'] / \n",
      "                                            float(shuffled_grouped_dict[a_bed_name][b_bed_name]['union']))\n",
      "        except ValueError:\n",
      "            pass\n",
      "        \n",
      "    return grouped_dict, grouped_jaccard, shuffled_grouped_dict, shuffled_grouped_jaccard"
     ],
     "language": "python",
     "metadata": {},
     "outputs": [],
     "prompt_number": 79
    },
    {
     "cell_type": "code",
     "collapsed": false,
     "input": [
      "encode_samples = !ls *[A-B].peaks.bed.all_peaks.pickle"
     ],
     "language": "python",
     "metadata": {},
     "outputs": [],
     "prompt_number": 4
    },
    {
     "cell_type": "code",
     "collapsed": false,
     "input": [
      "#loads all peaks irrespective of p-value\n",
      "def get_unfiltered_peaks(loaded_peaks):\n",
      "    peaks = []\n",
      "    for gene in loaded_peaks:\n",
      "        peaks += [pybedtools.create_interval_from_list([peak.chrom, \n",
      "                                                        str(peak.genomic_start), \n",
      "                                                        str(peak.genomic_stop), \n",
      "                                                        peak.gene_name, str(0), peak.strand]) \n",
      "                  for peak in gene['clusters']]\n",
      "    \n",
      "    return pybedtools.BedTool(peaks).sort(stream=True).merge(s=True, nms=True, scores=\"mean\")"
     ],
     "language": "python",
     "metadata": {},
     "outputs": [],
     "prompt_number": 57
    },
    {
     "cell_type": "code",
     "collapsed": false,
     "input": [
      "#loads all regions that peaks are called over\n",
      "def get_sections(loaded_peaks):\n",
      "    result = []\n",
      "    for loaded_peak in loaded_peaks:\n",
      "        for (start, stop), stats in loaded_peak['sections'].items():\n",
      "            try:\n",
      "                result.append(pybedtools.create_interval_from_list([loaded_peak['loc'].chrom, \n",
      "                                                      str(start), \n",
      "                                                      str(stop), \n",
      "                                                      loaded_peak['loc'].name, \n",
      "                                                      str(stats['threshold']),\n",
      "                                                      loaded_peak['loc'].strand,\n",
      "                                                      str(stats['nPeaks']),\n",
      "                                                      str(stats['nreads'])]))\n",
      "            except:\n",
      "                pass\n",
      "    \n",
      "    return pybedtools.BedTool(result).sort(stream=True).merge(s=True, nms=True, scores=\"mean\")"
     ],
     "language": "python",
     "metadata": {},
     "outputs": [],
     "prompt_number": 58
    },
    {
     "cell_type": "code",
     "collapsed": false,
     "input": [
      "#loads all unfiltered peaks and regions for encode\n",
      "unfiltered_peaks = {}\n",
      "total_regions = {}\n",
      "for sample in encode_samples:\n",
      "    with open(sample) as peaks:\n",
      "        loaded_peaks = pickle.load(peaks)\n",
      "    peaks_sample = sample.split(\".\")[0] + \".unfiltered.bed\"\n",
      "    regions_sample = sample.split(\".\")[0] + \".regions.bed\"\n",
      "    \n",
      "    unfiltered_peaks[peaks_sample] = get_unfiltered_peaks(loaded_peaks).saveas(peaks_sample)\n",
      "    total_regions[regions_sample] = get_sections(loaded_peaks).saveas(regions_sample)"
     ],
     "language": "python",
     "metadata": {},
     "outputs": [],
     "prompt_number": 59
    },
    {
     "cell_type": "code",
     "collapsed": false,
     "input": [
      "regions_files = [bed.fn for bed in total_regions.values()]\n",
      "(clipper_regions_dict, clipper_regions_jaccard, \n",
      " shuffled_regions_clipper_dict, shuffled_regions_clipper_jaccard) = get_jaccard_differences(regions_files,\n",
      "                                                                                            lambda x: x.split(\"_\")[0])"
     ],
     "language": "python",
     "metadata": {},
     "outputs": [],
     "prompt_number": 61
    },
    {
     "cell_type": "code",
     "collapsed": false,
     "input": [
      "figsize(10,10)\n",
      "hist([clipper_regions_jaccard, shuffled_regions_clipper_jaccard], label=[\"real\", \"random\"], normed=True, bins=10)\n",
      "title(\"ENCODE CLIP Regions Jaccard Correlation\")\n",
      "legend()\n",
      "savefig(os.path.join(img_dir, \"encode_region_correlation.png\"))"
     ],
     "language": "python",
     "metadata": {},
     "outputs": [
      {
       "metadata": {},
       "output_type": "display_data",
       "png": "[encoded data removed]",
       "text": [
        "<matplotlib.figure.Figure at 0x2aaabf793790>"
       ]
      }
     ],
     "prompt_number": 134
    },
    {
     "cell_type": "code",
     "collapsed": false,
     "input": [
      "peaks_files = [bed.fn for bed in unfiltered_peaks.values()]\n",
      "(clipper_dict, clipper_jaccard, \n",
      " shuffled_clipper_dict, shuffled_clipper_jaccard) = get_jaccard_differences(peaks_files, lambda x: x.split(\"_\")[0])"
     ],
     "language": "python",
     "metadata": {},
     "outputs": [],
     "prompt_number": 63
    },
    {
     "cell_type": "code",
     "collapsed": false,
     "input": [
      "figsize(10,10)\n",
      "hist([clipper_jaccard, shuffled_clipper_jaccard], label=[\"real\", \"random\"], normed=True, bins=10)\n",
      "title(\"ENCODE CLIP Unfiltered Peaks Jaccard Correlation\")\n",
      "legend()\n",
      "savefig(os.path.join(img_dir, \"encode_unfiltered_peak_correlation.png\"))"
     ],
     "language": "python",
     "metadata": {},
     "outputs": [
      {
       "metadata": {},
       "output_type": "display_data",
       "png": "[encoded data removed]",
       "text": [
        "<matplotlib.figure.Figure at 0x3f037850>"
       ]
      }
     ],
     "prompt_number": 135
    },
    {
     "cell_type": "markdown",
     "metadata": {},
     "source": [
      "Encode data versus shuffled random selections, checking to see if overlapping of real encode data is better than between randomly paired datasets.  Honestly it doesn't really look like it.  I'll try with public clip-seq data and see if it gets any better"
     ]
    },
    {
     "cell_type": "code",
     "collapsed": false,
     "input": [
      "cd /nas3/gpratt/projects/public_clip/v3"
     ],
     "language": "python",
     "metadata": {},
     "outputs": [
      {
       "output_type": "stream",
       "stream": "stdout",
       "text": [
        "/nas/nas0/gpratt/projects/public_clip/v3\n"
       ]
      }
     ],
     "prompt_number": 90
    },
    {
     "cell_type": "code",
     "collapsed": false,
     "input": [
      "public_path = \"/nas3/gpratt/projects/public_clip/v3\"\n",
      "public_clip_list = pd.read_csv(\"/nas3/gpratt/projects/public_clip/v1/public_clip_list.csv\", index_col=0)\n",
      "public_clip_list = public_clip_list[public_clip_list[\"CLIP-seq?\"] == \"Yes\"]\n",
      "\n",
      "#this gets me samples that have their bw files generated\n",
      "public_samples = !ls *.all_peaks.pickle\n",
      "real_samples = {name.split(\".\")[0] for name in public_samples}\n",
      "public_clip_list = public_clip_list.ix[real_samples]"
     ],
     "language": "python",
     "metadata": {},
     "outputs": [],
     "prompt_number": 91
    },
    {
     "cell_type": "code",
     "collapsed": false,
     "input": [
      "public_unfiltered_peaks = {}\n",
      "public_total_regions = {}\n",
      "for sample in public_samples:\n",
      "    with open(sample) as peaks:\n",
      "        loaded_peaks = pickle.load(peaks)\n",
      "    \n",
      "    peaks_sample = sample.split(\".\")[0] + \".unfiltered.bed\"\n",
      "    regions_sample = sample.split(\".\")[0] + \".regions.bed\"\n",
      "    \n",
      "    public_unfiltered_peaks[peaks_sample] = get_unfiltered_peaks(loaded_peaks).saveas(peaks_sample)\n",
      "    public_total_regions[regions_sample] = get_sections(loaded_peaks).saveas(regions_sample)"
     ],
     "language": "python",
     "metadata": {},
     "outputs": [],
     "prompt_number": 70
    },
    {
     "cell_type": "code",
     "collapsed": false,
     "input": [
      "real_public_jaccard = []\n",
      "real_public_result_dict = defaultdict(dict)\n",
      "tail = \".regions.bed\"\n",
      "for group in public_clip_list.groupby([\"Cell Type\", \"Antibody\", \"Modification\"]):\n",
      "    for a,b in combinations(group[1].index, 2):\n",
      "        a_bed = public_total_regions[a + tail]\n",
      "        b_bed = public_total_regions[b + tail]\n",
      "        a_bed_name = a_bed.fn\n",
      "        b_bed_name = b_bed.fn\n",
      "        intersect, union =  memory_efficent_merging(a_bed_name, b_bed_name)\n",
      "        real_public_result_dict[a][b] =  {\"a_len\" : len(a_bed), \n",
      "                                 \"b_len\" : len(b_bed), \n",
      "                                 \"intersect\" : int(intersect[0]), \n",
      "                                 \"union\" : int(union[0])} \n",
      "                                        \n",
      "        real_public_jaccard.append(real_public_result_dict[a][b]['intersect'] / float(real_public_result_dict[a][b]['union']))"
     ],
     "language": "python",
     "metadata": {},
     "outputs": [],
     "prompt_number": 122
    },
    {
     "cell_type": "code",
     "collapsed": false,
     "input": [
      "shuffled_public_result_dict = defaultdict(dict)\n",
      "shuffled_public_jaccard = []\n",
      "for x in range(50):\n",
      "    a, b = rand.sample(public_total_regions,2)\n",
      "    a_bed = public_total_regions[a]\n",
      "    b_bed = public_total_regions[b]\n",
      "    a_bed_name = a_bed.fn\n",
      "    b_bed_name = b_bed.fn\n",
      "    intersect, union =  memory_efficent_merging(a_bed_name, b_bed_name)\n",
      "    shuffled_public_result_dict[a][b] =  {\"a_len\" : len(a_bed), \n",
      "                                 \"b_len\" : len(b_bed), \n",
      "                                 \"intersect\" : int(intersect[0]), \n",
      "                                 \"union\" : int(union[0])}\n",
      "    shuffled_public_jaccard.append(shuffled_public_result_dict[a][b]['intersect'] / float(shuffled_public_result_dict[a][b]['union']))"
     ],
     "language": "python",
     "metadata": {},
     "outputs": [],
     "prompt_number": 96
    },
    {
     "cell_type": "code",
     "collapsed": false,
     "input": [
      "figsize(10,10)\n",
      "hist([real_public_jaccard, shuffled_public_jaccard], label=[\"real\", \"random\"], normed=True)\n",
      "title(\"Public CLIP Regions Jaccard Correlation\")\n",
      "legend()\n",
      "savefig(os.path.join(img_dir, \"public_region_correlation.png\"))"
     ],
     "language": "python",
     "metadata": {},
     "outputs": [
      {
       "metadata": {},
       "output_type": "display_data",
       "png": "[encoded data removed]",
       "text": [
        "<matplotlib.figure.Figure at 0x323ecd10>"
       ]
      }
     ],
     "prompt_number": 136
    },
    {
     "cell_type": "code",
     "collapsed": false,
     "input": [
      "real_public_peaks_jaccard = []\n",
      "real_public_result_dict = defaultdict(dict)\n",
      "tail = \".unfiltered.bed\"\n",
      "for group in public_clip_list.groupby([\"Cell Type\", \"Antibody\", \"Modification\"]):\n",
      "    for a,b in combinations(group[1].index, 2):\n",
      "        a_bed = public_unfiltered_peaks[a + tail]\n",
      "        b_bed = public_unfiltered_peaks[b + tail]\n",
      "        a_bed_name = a_bed.fn\n",
      "        b_bed_name = b_bed.fn\n",
      "        intersect, union =  memory_efficent_merging(a_bed_name, b_bed_name)\n",
      "        real_public_result_dict[a][b] =  {\"a_len\" : len(a_bed), \n",
      "                                 \"b_len\" : len(b_bed), \n",
      "                                 \"intersect\" : int(intersect[0]), \n",
      "                                 \"union\" : int(union[0])} \n",
      "                                        \n",
      "        real_public_peaks_jaccard.append(real_public_result_dict[a][b]['intersect'] / float(real_public_result_dict[a][b]['union']))"
     ],
     "language": "python",
     "metadata": {},
     "outputs": [],
     "prompt_number": 115
    },
    {
     "cell_type": "code",
     "collapsed": false,
     "input": [
      "shuffled_public_result_dict = defaultdict(dict)\n",
      "shuffled_public_peaks_jaccard = []\n",
      "for x in range(50):\n",
      "    a, b = rand.sample(public_unfiltered_peaks,2)\n",
      "    a_bed = public_unfiltered_peaks[a]\n",
      "    b_bed = public_unfiltered_peaks[b]\n",
      "    a_bed_name = a_bed.fn\n",
      "    b_bed_name = b_bed.fn\n",
      "    intersect, union =  memory_efficent_merging(a_bed_name, b_bed_name)\n",
      "    shuffled_public_result_dict[a][b] =  {\"a_len\" : len(a_bed), \n",
      "                                 \"b_len\" : len(b_bed), \n",
      "                                 \"intersect\" : int(intersect[0]), \n",
      "                                 \"union\" : int(union[0])}\n",
      "    shuffled_public_peaks_jaccard.append(shuffled_public_result_dict[a][b]['intersect'] / float(shuffled_public_result_dict[a][b]['union']))"
     ],
     "language": "python",
     "metadata": {},
     "outputs": [],
     "prompt_number": 116
    },
    {
     "cell_type": "code",
     "collapsed": false,
     "input": [
      "figsize(10,10)\n",
      "hist([real_public_peaks_jaccard, shuffled_public_peaks_jaccard], label=[\"real\", \"random\"], normed=True)\n",
      "title(\"Public CLIP Unfiltered Peaks Jaccard Correlation\")\n",
      "legend()\n",
      "savefig(os.path.join(img_dir, \"public_unfiltered_peaks_correlation.png\"))"
     ],
     "language": "python",
     "metadata": {},
     "outputs": [
      {
       "metadata": {},
       "output_type": "display_data",
       "png": "[encoded data removed]",
       "text": [
        "<matplotlib.figure.Figure at 0x2aab4d6ab750>"
       ]
      }
     ],
     "prompt_number": 137
    },
    {
     "cell_type": "markdown",
     "metadata": {},
     "source": [
      "Useful question, how many peaks are in genes with a non-zero cutoff, I'll need to pass data back and forth between notebooks to answer that... "
     ]
    },
    {
     "cell_type": "markdown",
     "metadata": {},
     "source": [
      "Starting encode analysis"
     ]
    },
    {
     "cell_type": "code",
     "collapsed": false,
     "input": [
      "cd /nas3/gpratt/projects/clipper/reproducablity/encode_peaks/"
     ],
     "language": "python",
     "metadata": {},
     "outputs": [
      {
       "output_type": "stream",
       "stream": "stdout",
       "text": [
        "/nas/nas0/gpratt/projects/clipper/reproducablity/encode_peaks\n"
       ]
      }
     ],
     "prompt_number": 83
    },
    {
     "cell_type": "code",
     "collapsed": false,
     "input": [
      "(public_encode_result_dict, public_encode_jaccard, \n",
      " shuffled_public_encode_result_dict, public_encode_jaccard) = get_jaccard_differences(narrow_peaks, \n",
      "                                                                                        lambda x: x.split(\".\")[0][:-4],\n",
      "                                                                                        stranded=False)"
     ],
     "language": "python",
     "metadata": {},
     "outputs": [],
     "prompt_number": 84
    },
    {
     "cell_type": "code",
     "collapsed": false,
     "input": [
      "figsize(10,10)\n",
      "hist([public_encode_jaccard, shuffled_public_encode_jaccard], label=[\"real\", \"random\"], normed=True, bins=20)\n",
      "title(\"ChIP-seq Peaks Jaccard Correlation\")\n",
      "legend()\n",
      "savefig(os.path.join(img_dir, \"public_encode_peak_correlation.png\"))"
     ],
     "language": "python",
     "metadata": {},
     "outputs": [
      {
       "metadata": {},
       "output_type": "display_data",
       "png": "[encoded data removed]",
       "text": [
        "<matplotlib.figure.Figure at 0x2aaafa434b90>"
       ]
      }
     ],
     "prompt_number": 138
    },
    {
     "cell_type": "code",
     "collapsed": false,
     "input": [
      "cd /nas3/gpratt/projects/clipper/reproducablity/encode_pyicoclip"
     ],
     "language": "python",
     "metadata": {},
     "outputs": [
      {
       "output_type": "stream",
       "stream": "stdout",
       "text": [
        "/nas/nas0/gpratt/projects/clipper/reproducablity/encode_pyicoclip\n"
       ]
      }
     ],
     "prompt_number": 86
    },
    {
     "cell_type": "code",
     "collapsed": false,
     "input": [
      "pyicos_peaks = ['FOX2_A.bam.pyicoclip.bed',\n",
      " 'FOX2_B.bam.pyicoclip.bed',\n",
      " 'IMP1_A.bam.pyicoclip.bed',\n",
      " 'IMP1_B.bam.pyicoclip.bed',\n",
      " 'IMP2_A.bam.pyicoclip.bed',\n",
      " 'IMP2_B.bam.pyicoclip.bed',\n",
      " 'IMP3_A.bam.pyicoclip.bed',\n",
      " 'IMP3_B.bam.pyicoclip.bed',\n",
      " 'PUM1_A.bam.pyicoclip.bed',\n",
      " 'PUM1_B.bam.pyicoclip.bed',\n",
      " 'PUM2_A.bam.pyicoclip.bed',\n",
      " 'PUM2_B.bam.pyicoclip.bed',\n",
      " 'STAU2_A.bam.pyicoclip.bed',\n",
      " 'STAU2_B.bam.pyicoclip.bed',\n",
      " 'TAF15_A.bam.pyicoclip.bed',\n",
      " 'TAF15_B.bam.pyicoclip.bed',\n",
      " 'TIA1_A.bam.pyicoclip.bed',\n",
      " 'TIA1_B.bam.pyicoclip.bed',]"
     ],
     "language": "python",
     "metadata": {},
     "outputs": [],
     "prompt_number": 87
    },
    {
     "cell_type": "code",
     "collapsed": false,
     "input": [
      "(pyicos_dict, pyicos_jaccard, \n",
      " shuffled_pyicos_dict, shuffled_pyicos_jaccard) = get_jaccard_differences(pyicos_peaks, lambda x: x.split(\"_\")[0])"
     ],
     "language": "python",
     "metadata": {},
     "outputs": [
      {
       "output_type": "stream",
       "stream": "stdout",
       "text": [
        "invalid literal for int() with base 10: 'Differing number of BED fields encountered at line: 429835.  Exiting...'\n",
        "['Differing number of BED fields encountered at line: 429835.  Exiting...', '71697']\n",
        "['Differing number of BED fields encountered at line: 591142.  Exiting...', 'sort: write failed: standard output: Broken pipe', 'sort: write error', '0']\n"
       ]
      },
      {
       "output_type": "stream",
       "stream": "stdout",
       "text": [
        "invalid literal for int() with base 10: 'Differing number of BED fields encountered at line: 114383.  Exiting...'\n",
        "['Differing number of BED fields encountered at line: 114383.  Exiting...', '0']\n",
        "['Differing number of BED fields encountered at line: 142961.  Exiting...', '0', 'sort: write failed: standard output: Broken pipe', 'sort: write error']\n"
       ]
      }
     ],
     "prompt_number": 88
    },
    {
     "cell_type": "code",
     "collapsed": false,
     "input": [
      "import statsmodels as sm"
     ],
     "language": "python",
     "metadata": {},
     "outputs": [],
     "prompt_number": "*"
    },
    {
     "cell_type": "code",
     "collapsed": false,
     "input": [
      "figsize(10,10)\n",
      "sm.distributions.ECDF(target_log_genes.ix[experiment].log2Ratio.values)\n",
      "hist([pyicos_jaccard, shuffled_pyicos_jaccard], label=[\"real\", \"random\"], normed=True, bins=20)\n",
      "title(\"ENCODE CLIP Pyicos Jaccard Correlation\")\n",
      "legend()\n",
      "savefig(os.path.join(img_dir, \"pyicos_peak_correlation.png\"))"
     ],
     "language": "python",
     "metadata": {},
     "outputs": [
      {
       "metadata": {},
       "output_type": "display_data",
       "png": "[encoded data removed]",
       "text": [
        "<matplotlib.figure.Figure at 0x2aaafcc32390>"
       ]
      }
     ],
     "prompt_number": 139
    },
    {
     "cell_type": "code",
     "collapsed": false,
     "input": [
      "cd /nas3/gpratt/projects/encode/v7/metrics/"
     ],
     "language": "python",
     "metadata": {},
     "outputs": [
      {
       "output_type": "stream",
       "stream": "stdout",
       "text": [
        "/nas/nas0/gpratt/projects/encode/v7/metrics\n"
       ]
      }
     ],
     "prompt_number": 141
    },
    {
     "cell_type": "code",
     "collapsed": false,
     "input": [
      "total_encode_peaks = !ls *[A-B].peaks.bed"
     ],
     "language": "python",
     "metadata": {},
     "outputs": [],
     "prompt_number": 143
    },
    {
     "cell_type": "code",
     "collapsed": false,
     "input": [
      "(encode_peaks_dict, encode_peaks_jaccard, \n",
      " shuffled_encode_peaks_dict, shuffled_encode_peaks_jaccard) = get_jaccard_differences(total_encode_peaks, lambda x: x.split(\"_\")[0])"
     ],
     "language": "python",
     "metadata": {},
     "outputs": [],
     "prompt_number": 144
    },
    {
     "cell_type": "code",
     "collapsed": false,
     "input": [
      "figsize(10,10)\n",
      "hist([pyicos_jaccard, shuffled_pyicos_jaccard], label=[\"real\", \"random\"], normed=True, bins=20)\n",
      "title(\"ENCODE CLIP Peak Jaccard Correlation\")\n",
      "legend()\n",
      "savefig(os.path.join(img_dir, \"encode_clip_peak_correlation.png\"))"
     ],
     "language": "python",
     "metadata": {},
     "outputs": [
      {
       "metadata": {},
       "output_type": "display_data",
       "png": "[encoded data removed]",
       "text": [
        "<matplotlib.figure.Figure at 0x2aaae1e0abd0>"
       ]
      }
     ],
     "prompt_number": 145
    },
    {
     "cell_type": "code",
     "collapsed": false,
     "input": [],
     "language": "python",
     "metadata": {},
     "outputs": []
    }
   ],
   "metadata": {}
  }
 ]
}