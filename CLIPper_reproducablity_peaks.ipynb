{
 "metadata": {
  "name": ""
 },
 "nbformat": 3,
 "nbformat_minor": 0,
 "worksheets": [
  {
   "cells": [
    {
     "cell_type": "code",
     "collapsed": false,
     "input": [
      "import cPickle as pickle\n",
      "from collections import defaultdict\n",
      "import glob\n",
      "from itertools import groupby, combinations\n",
      "import os\n",
      "import random as rand\n",
      "import re\n",
      "\n",
      "from IPython.core.display import HTML\n",
      "import pybedtools\n",
      "import pandas as pd\n",
      "from matplotlib_venn import venn2\n",
      "import matplotlib.ticker as tkr\n",
      "import statsmodels.api as sm\n",
      "\n",
      "from gscripts.general.dataviz import Figure, plot_cdf\n",
      "from clipper.src.call_peak import get_FDR_cutoff_binom\n",
      "from clipper.src.peaks import readsToWiggle_pysam, find_sections\n",
      "\n",
      "img_dir = \"/nas3/gpratt/Dropbox/Presentations/notebooks/CLIPper_reproducablity_peaks\""
     ],
     "language": "python",
     "metadata": {},
     "outputs": [],
     "prompt_number": 2
    },
    {
     "cell_type": "code",
     "collapsed": false,
     "input": [
      "def commas(x, pos):\n",
      "    try:\n",
      "        return \"{:,}\".format(int(x))\n",
      "    except:\n",
      "        return \"0\"\n",
      "    \n",
      "def percent(x, pos):\n",
      "    return str(float(x) * 100)  + \"%\""
     ],
     "language": "python",
     "metadata": {},
     "outputs": [],
     "prompt_number": 3
    },
    {
     "cell_type": "code",
     "collapsed": false,
     "input": [
      "def plot_cdf(cdf_list, **kwargs):\n",
      "    import statsmodels.api as sm\n",
      "    cdf = sm.distributions.ECDF(cdf_list)\n",
      "    cdf_linspace = np.linspace(min(cdf_list), max(cdf_list))\n",
      "    if kwargs['ax'] is not None:\n",
      "        ax = kwargs['ax']\n",
      "        del kwargs['ax']\n",
      "        ax.plot(cdf_linspace, cdf(cdf_linspace), **kwargs)\n",
      "    else:\n",
      "        plot(cdf_linspace, cdf(cdf_linspace), **kwargs)"
     ],
     "language": "python",
     "metadata": {},
     "outputs": [],
     "prompt_number": 4
    },
    {
     "cell_type": "code",
     "collapsed": false,
     "input": [
      "def memory_efficent_merging(a_bed_name, b_bed_name, stranded=True):\n",
      "    if stranded:\n",
      "        intersect = !intersectBed -s -u -a $a_bed_name -b $b_bed_name | wc -l\n",
      "        union = !cat $a_bed_name $b_bed_name | sort -k 1,1 -k 2,2n | mergeBed -s -nms -scores mean | wc -l\n",
      "    else:\n",
      "        intersect = !intersectBed -u -a $a_bed_name -b $b_bed_name | wc -l\n",
      "        union = !cat $a_bed_name $b_bed_name | sort -k 1,1 -k 2,2n | mergeBed -nms -scores mean | wc -l\n",
      "    return intersect, union\n",
      "def get_jaccard_differences(peaks, key, stranded=True):\n",
      "    \"\"\"\n",
      "    \n",
      "    Takes list of peaks, and a function to pass into a groupby statement to group pairs, groups and reports \n",
      "    jaccard correlation between all grouped pairs\n",
      "    \n",
      "    \"\"\"\n",
      "    grouped_dict = defaultdict(dict)\n",
      "    grouped_jaccard = []\n",
      "    for name, group in groupby(sorted(peaks, key=key), key=key):\n",
      "        group = list(group)\n",
      "        for a_bed_name, b_bed_name in combinations(group, 2):\n",
      "\n",
      "            intersect, union = memory_efficent_merging(a_bed_name, b_bed_name, stranded)\n",
      "            try:\n",
      "                grouped_dict[a_bed_name][b_bed_name] =  {#\"a_len\" : len(a_bed), \n",
      "                                       #  \"b_len\" : len(b_bed), \n",
      "                                         \"intersect\" : int(intersect[0]), \n",
      "                                         \"union\" : int(union[0])}               \n",
      "                grouped_jaccard.append(grouped_dict[a_bed_name][b_bed_name]['intersect'] / \n",
      "                                       float(grouped_dict[a_bed_name][b_bed_name]['union']))\n",
      "\n",
      "            except ValueError as e:\n",
      "                print e\n",
      "                print intersect\n",
      "                print union\n",
      "            except ZeroDivisionError as e:\n",
      "                print e\n",
      "                print intersect\n",
      "                print union                \n",
      "    shuffled_grouped_dict = defaultdict(dict)\n",
      "    shuffled_grouped_jaccard = []\n",
      "    for x in range(50):\n",
      "        a_bed_name, b_bed_name = rand.sample(peaks,2)\n",
      "    \n",
      "        intersect, union = memory_efficent_merging(a_bed_name, b_bed_name, stranded)\n",
      "        try:\n",
      "            shuffled_grouped_dict[a_bed_name][b_bed_name] =  {#\"a_len\" : len(a_bed), \n",
      "                                         #\"b_len\" : len(b_bed), \n",
      "                                         \"intersect\" : int(intersect[0]), \n",
      "                                         \"union\" : int(union[0])}\n",
      "            shuffled_grouped_jaccard.append(shuffled_grouped_dict[a_bed_name][b_bed_name]['intersect'] / \n",
      "                                            float(shuffled_grouped_dict[a_bed_name][b_bed_name]['union']))\n",
      "        except ValueError:\n",
      "            pass\n",
      "        \n",
      "    return grouped_dict, grouped_jaccard, shuffled_grouped_dict, shuffled_grouped_jaccard"
     ],
     "language": "python",
     "metadata": {},
     "outputs": [],
     "prompt_number": 5
    },
    {
     "cell_type": "code",
     "collapsed": false,
     "input": [
      "encode_samples = glob.glob(\"/nas3/gpratt/projects/clipper/reproducablity/encode_datasets/*[A-B].peaks.bed.all_peaks.pickle\")"
     ],
     "language": "python",
     "metadata": {},
     "outputs": [],
     "prompt_number": 6
    },
    {
     "cell_type": "code",
     "collapsed": false,
     "input": [
      "#loads all peaks irrespective of p-value\n",
      "def get_unfiltered_peaks(loaded_peaks):\n",
      "    peaks = []\n",
      "    for gene in loaded_peaks:\n",
      "        peaks += [pybedtools.create_interval_from_list([peak.chrom, \n",
      "                                                        str(peak.genomic_start), \n",
      "                                                        str(peak.genomic_stop), \n",
      "                                                        peak.gene_name, \n",
      "                                                        str(max(peak.gene_poisson_p, peak.super_local_poisson_p)),  \n",
      "                                                        peak.strand]) \n",
      "                  for peak in gene['clusters']]\n",
      "    \n",
      "    return pybedtools.BedTool(peaks).sort(stream=True).merge(s=True, nms=True, scores=\"mean\")"
     ],
     "language": "python",
     "metadata": {},
     "outputs": [],
     "prompt_number": 7
    },
    {
     "cell_type": "code",
     "collapsed": false,
     "input": [
      "#loads all regions that peaks are called over\n",
      "def get_sections(loaded_peaks):\n",
      "    result = []\n",
      "    for loaded_peak in loaded_peaks:\n",
      "        for (start, stop), stats in loaded_peak['sections'].items():\n",
      "            try:\n",
      "                result.append(pybedtools.create_interval_from_list([loaded_peak['loc'].chrom, \n",
      "                                                      str(start), \n",
      "                                                      str(stop), \n",
      "                                                      loaded_peak['loc'].name, \n",
      "                                                      str(stats['threshold']),\n",
      "                                                      loaded_peak['loc'].strand,\n",
      "                                                      str(stats['nPeaks']),\n",
      "                                                      str(stats['nreads'])]))\n",
      "            except:\n",
      "                pass\n",
      "    \n",
      "    return pybedtools.BedTool(result).sort(stream=True).merge(s=True, nms=True, scores=\"mean\")"
     ],
     "language": "python",
     "metadata": {},
     "outputs": [],
     "prompt_number": 8
    },
    {
     "cell_type": "code",
     "collapsed": false,
     "input": [
      "#loads all unfiltered peaks and regions for encode\n",
      "unfiltered_peaks = {}\n",
      "total_regions = {}\n",
      "for sample in encode_samples:\n",
      "    with open(sample) as peaks:\n",
      "        loaded_peaks = pickle.load(peaks)\n",
      "    peaks_sample = sample.split(\".\")[0] + \".unfiltered.bed\"\n",
      "    regions_sample = sample.split(\".\")[0] + \".regions.bed\"\n",
      "    \n",
      "    unfiltered_peaks[peaks_sample] = get_unfiltered_peaks(loaded_peaks).saveas(peaks_sample)\n",
      "    total_regions[regions_sample] = get_sections(loaded_peaks).saveas(regions_sample)"
     ],
     "language": "python",
     "metadata": {},
     "outputs": [],
     "prompt_number": "*"
    },
    {
     "cell_type": "code",
     "collapsed": false,
     "input": [
      "regions_files = [bed.fn for bed in total_regions.values()]\n",
      "(clipper_regions_dict, clipper_regions_jaccard, \n",
      " shuffled_regions_clipper_dict, shuffled_regions_clipper_jaccard) = get_jaccard_differences(regions_files,\n",
      "                                                                                            lambda x: x.split(\"_\")[0])"
     ],
     "language": "python",
     "metadata": {},
     "outputs": [],
     "prompt_number": "*"
    },
    {
     "cell_type": "code",
     "collapsed": false,
     "input": [
      "with Figure(os.path.join(img_dir, \"encode_region_correlation.svg\"), figsize=(6,6)) as fig:\n",
      "    ax = fig.add_subplot(1,1,1)\n",
      "    plot_cdf(clipper_regions_jaccard, ax=ax, label=\"Real\", linewidth=3)\n",
      "    plot_cdf(shuffled_regions_clipper_jaccard, ax=ax, label=\"Random\", linewidth=3)\n",
      "    ax.set_ylabel(\"Cumulataive Fraction\")\n",
      "    ax.set_xlabel(\"Jaccard Index\")\n",
      "    ax.set_title(\"Corrleation Between\\nCLIPper Regions\")\n",
      "    ax.legend()"
     ],
     "language": "python",
     "metadata": {},
     "outputs": [],
     "prompt_number": "*"
    },
    {
     "cell_type": "code",
     "collapsed": false,
     "input": [
      "peaks_files = [bed.fn for bed in unfiltered_peaks.values()]\n",
      "(clipper_dict, clipper_jaccard, \n",
      " shuffled_clipper_dict, shuffled_clipper_jaccard) = get_jaccard_differences(peaks_files, lambda x: x.split(\"_\")[0])"
     ],
     "language": "python",
     "metadata": {},
     "outputs": [],
     "prompt_number": "*"
    },
    {
     "cell_type": "code",
     "collapsed": false,
     "input": [
      "with Figure(os.path.join(img_dir, \"encode_unfiltered_peak_correlation.svg\"), figsize=(6,6)) as fig:\n",
      "    ax = fig.add_subplot(1,1,1)\n",
      "    plot_cdf(clipper_jaccard, ax=ax, label=\"Real\", linewidth=3)\n",
      "    plot_cdf(shuffled_clipper_jaccard, ax=ax, label=\"Random\", linewidth=3)\n",
      "    ax.set_title(\"ENCODE CLIP Unfiltered Peaks\")\n",
      "    ax.set_ylabel(\"Cumulataive Fraction\")\n",
      "    ax.set_xlabel(\"Jaccard Index\")\n",
      "    ax.legend(loc=0)"
     ],
     "language": "python",
     "metadata": {},
     "outputs": [],
     "prompt_number": "*"
    },
    {
     "cell_type": "markdown",
     "metadata": {},
     "source": [
      "Encode data versus shuffled random selections, checking to see if overlapping of real encode data is better than between randomly paired datasets.  Honestly it doesn't really look like it.  I'll try with public clip-seq data and see if it gets any better"
     ]
    },
    {
     "cell_type": "code",
     "collapsed": false,
     "input": [
      "public_path = \"/nas3/gpratt/projects/public_clip/v3\"\n",
      "public_clip_list = pd.read_csv(\"/nas3/gpratt/projects/public_clip/v1/public_clip_list.csv\", index_col=0)\n",
      "public_clip_list = public_clip_list[public_clip_list[\"CLIP-seq?\"] == \"Yes\"]\n",
      "\n",
      "#this gets me samples that have their bw files generated\n",
      "public_samples = glob.glob(os.path.join(public_path, \"*.all_peaks.pickle\"))\n",
      "real_samples = {os.path.basename(name).split(\".\")[0] for name in public_samples}\n",
      "public_clip_list = public_clip_list.ix[real_samples]"
     ],
     "language": "python",
     "metadata": {},
     "outputs": [],
     "prompt_number": "*"
    },
    {
     "cell_type": "code",
     "collapsed": false,
     "input": [
      "public_unfiltered_peaks = {}\n",
      "public_total_regions = {}\n",
      "for sample in public_samples:\n",
      "    with open(sample) as peaks:\n",
      "        loaded_peaks = pickle.load(peaks)\n",
      "    \n",
      "    peaks_sample = sample.split(\".\")[0] + \".unfiltered.bed\"\n",
      "    regions_sample = sample.split(\".\")[0] + \".regions.bed\"\n",
      "    \n",
      "    public_unfiltered_peaks[peaks_sample] = get_unfiltered_peaks(loaded_peaks).saveas(peaks_sample)\n",
      "    public_total_regions[regions_sample] = get_sections(loaded_peaks).saveas(regions_sample)"
     ],
     "language": "python",
     "metadata": {},
     "outputs": [],
     "prompt_number": "*"
    },
    {
     "cell_type": "code",
     "collapsed": false,
     "input": [
      "real_public_jaccard = []\n",
      "real_public_result_dict = defaultdict(dict)\n",
      "tail = \".regions.bed\"\n",
      "head = \"/nas3/gpratt/projects/public_clip/v3/\"\n",
      "for group in public_clip_list.groupby([\"Cell Type\", \"Antibody\", \"Modification\"]):\n",
      "    for a,b in combinations(group[1].index, 2):\n",
      "        a_bed = public_total_regions[head + a + tail]\n",
      "        b_bed = public_total_regions[head + b + tail]\n",
      "        a_bed_name = a_bed.fn\n",
      "        b_bed_name = b_bed.fn\n",
      "        intersect, union =  memory_efficent_merging(a_bed_name, b_bed_name)\n",
      "        real_public_result_dict[a][b] =  {\"a_len\" : len(a_bed), \n",
      "                                 \"b_len\" : len(b_bed), \n",
      "                                 \"intersect\" : int(intersect[0]), \n",
      "                                 \"union\" : int(union[0])} \n",
      "                                        \n",
      "        real_public_jaccard.append(real_public_result_dict[a][b]['intersect'] / float(real_public_result_dict[a][b]['union']))"
     ],
     "language": "python",
     "metadata": {},
     "outputs": [],
     "prompt_number": "*"
    },
    {
     "cell_type": "code",
     "collapsed": false,
     "input": [
      "shuffled_public_result_dict = defaultdict(dict)\n",
      "shuffled_public_jaccard = []\n",
      "for x in range(50):\n",
      "    a, b = rand.sample(public_total_regions,2)\n",
      "    a_bed = public_total_regions[a]\n",
      "    b_bed = public_total_regions[b]\n",
      "    a_bed_name = a_bed.fn\n",
      "    b_bed_name = b_bed.fn\n",
      "    intersect, union =  memory_efficent_merging(a_bed_name, b_bed_name)\n",
      "    shuffled_public_result_dict[a][b] =  {\"a_len\" : len(a_bed), \n",
      "                                 \"b_len\" : len(b_bed), \n",
      "                                 \"intersect\" : int(intersect[0]), \n",
      "                                 \"union\" : int(union[0])}\n",
      "    shuffled_public_jaccard.append(shuffled_public_result_dict[a][b]['intersect'] / float(shuffled_public_result_dict[a][b]['union']))"
     ],
     "language": "python",
     "metadata": {},
     "outputs": [],
     "prompt_number": "*"
    },
    {
     "cell_type": "code",
     "collapsed": false,
     "input": [
      "with Figure(os.path.join(img_dir, \"public_region_correlation.svg\"), figsize=(6,6)) as fig:\n",
      "    ax = fig.add_subplot(1,1,1)\n",
      "    plot_cdf(real_public_jaccard, ax=ax,  label=\"Real\", linewidth=3)\n",
      "    plot_cdf(shuffled_public_jaccard, ax=ax, label=\"Random\", linewidth=3)\n",
      "    ax.set_title(\"Public CLIP Regions\")\n",
      "    ax.set_ylabel(\"Cumulataive Fraction\")\n",
      "    ax.set_xlabel(\"Jaccard Index\")\n",
      "    ax.legend()"
     ],
     "language": "python",
     "metadata": {},
     "outputs": [],
     "prompt_number": "*"
    },
    {
     "cell_type": "code",
     "collapsed": false,
     "input": [
      "real_public_peaks_jaccard = []\n",
      "real_public_result_dict = defaultdict(dict)\n",
      "tail = \".unfiltered.bed\"\n",
      "head = \"/nas3/gpratt/projects/public_clip/v3/\"\n",
      "\n",
      "for group in public_clip_list.groupby([\"Cell Type\", \"Antibody\", \"Modification\"]):\n",
      "    for a,b in combinations(group[1].index, 2):\n",
      "        a_bed = public_unfiltered_peaks[head + a + tail]\n",
      "        b_bed = public_unfiltered_peaks[head + b + tail]\n",
      "        a_bed_name = a_bed.fn\n",
      "        b_bed_name = b_bed.fn\n",
      "        intersect, union =  memory_efficent_merging(a_bed_name, b_bed_name)\n",
      "        real_public_result_dict[a][b] =  {\"a_len\" : len(a_bed), \n",
      "                                 \"b_len\" : len(b_bed), \n",
      "                                 \"intersect\" : int(intersect[0]), \n",
      "                                 \"union\" : int(union[0])} \n",
      "                                        \n",
      "        real_public_peaks_jaccard.append(real_public_result_dict[a][b]['intersect'] / float(real_public_result_dict[a][b]['union']))"
     ],
     "language": "python",
     "metadata": {},
     "outputs": [],
     "prompt_number": "*"
    },
    {
     "cell_type": "code",
     "collapsed": false,
     "input": [
      "shuffled_public_result_dict = defaultdict(dict)\n",
      "shuffled_public_peaks_jaccard = []\n",
      "for x in range(50):\n",
      "    a, b = rand.sample(public_unfiltered_peaks,2)\n",
      "    a_bed = public_unfiltered_peaks[a]\n",
      "    b_bed = public_unfiltered_peaks[b]\n",
      "    a_bed_name = a_bed.fn\n",
      "    b_bed_name = b_bed.fn\n",
      "    intersect, union =  memory_efficent_merging(a_bed_name, b_bed_name)\n",
      "    shuffled_public_result_dict[a][b] =  {\"a_len\" : len(a_bed), \n",
      "                                 \"b_len\" : len(b_bed), \n",
      "                                 \"intersect\" : int(intersect[0]), \n",
      "                                 \"union\" : int(union[0])}\n",
      "    shuffled_public_peaks_jaccard.append(shuffled_public_result_dict[a][b]['intersect'] / float(shuffled_public_result_dict[a][b]['union']))"
     ],
     "language": "python",
     "metadata": {},
     "outputs": [],
     "prompt_number": "*"
    },
    {
     "cell_type": "code",
     "collapsed": false,
     "input": [
      "with Figure(os.path.join(img_dir, \"public_unfiltered_peaks_correlation.svg\"), figsize=(6,6)) as fig:\n",
      "    ax = fig.add_subplot(1,1,1)\n",
      "    plot_cdf(real_public_peaks_jaccard,ax=ax, label=\"Real\", linewidth=3)\n",
      "    plot_cdf(shuffled_public_peaks_jaccard,ax=ax, label=\"Random\", linewidth=3)\n",
      "    ax.set_title(\"Public CLIP Unfiltered Peaks\")\n",
      "    ax.set_ylabel(\"Cumulataive Fraction\")\n",
      "    ax.set_xlabel(\"Jaccard Index\")\n",
      "    ax.legend()\n"
     ],
     "language": "python",
     "metadata": {},
     "outputs": [],
     "prompt_number": "*"
    },
    {
     "cell_type": "markdown",
     "metadata": {},
     "source": [
      "Useful question, how many peaks are in genes with a non-zero cutoff, I'll need to pass data back and forth between notebooks to answer that... "
     ]
    },
    {
     "cell_type": "markdown",
     "metadata": {},
     "source": [
      "Starting encode analysis"
     ]
    },
    {
     "cell_type": "code",
     "collapsed": false,
     "input": [
      "narrow_peaks = glob.glob(\"/nas3/gpratt/projects/clipper/reproducablity/encode_peaks/*.narrowPeak\")\n",
      "(public_encode_result_dict, public_encode_jaccard, \n",
      " shuffled_public_encode_result_dict, shuffled_public_encode_jaccard) = get_jaccard_differences(narrow_peaks, \n",
      "                                                                                        lambda x: x.split(\".\")[0][:-4],\n",
      "                                                                                        stranded=False)"
     ],
     "language": "python",
     "metadata": {},
     "outputs": [],
     "prompt_number": "*"
    },
    {
     "cell_type": "code",
     "collapsed": false,
     "input": [
      "with Figure(os.path.join(img_dir, \"public_encode_peak_correlation.svg\"), figsize=(6,6)) as fig:\n",
      "    ax = fig.add_subplot(1,1,1)\n",
      "    plot_cdf(public_encode_jaccard, ax=ax, label=\"Real\", linewidth=3)\n",
      "    plot_cdf(shuffled_public_encode_jaccard, ax=ax, label=\"Random\", linewidth=3)\n",
      "    ax.set_title(\"ChIP-seq Peaks Jaccard Correlation\")\n",
      "    ax.set_ylabel(\"Cumulataive Fraction\")\n",
      "    ax.set_xlabel(\"Jaccard Index\")\n",
      "    legend()\n"
     ],
     "language": "python",
     "metadata": {},
     "outputs": [
      {
       "ename": "NameError",
       "evalue": "name 'os' is not defined",
       "output_type": "pyerr",
       "traceback": [
        "\u001b[1;31m---------------------------------------------------------------------------\u001b[0m\n\u001b[1;31mNameError\u001b[0m                                 Traceback (most recent call last)",
        "\u001b[1;32m<ipython-input-1-ba7838756977>\u001b[0m in \u001b[0;36m<module>\u001b[1;34m()\u001b[0m\n\u001b[1;32m----> 1\u001b[1;33m \u001b[1;32mwith\u001b[0m \u001b[0mFigure\u001b[0m\u001b[1;33m(\u001b[0m\u001b[0mos\u001b[0m\u001b[1;33m.\u001b[0m\u001b[0mpath\u001b[0m\u001b[1;33m.\u001b[0m\u001b[0mjoin\u001b[0m\u001b[1;33m(\u001b[0m\u001b[0mimg_dir\u001b[0m\u001b[1;33m,\u001b[0m \u001b[1;34m\"public_encode_peak_correlation.svg\"\u001b[0m\u001b[1;33m)\u001b[0m\u001b[1;33m,\u001b[0m \u001b[0mfigsize\u001b[0m\u001b[1;33m=\u001b[0m\u001b[1;33m(\u001b[0m\u001b[1;36m6\u001b[0m\u001b[1;33m,\u001b[0m\u001b[1;36m6\u001b[0m\u001b[1;33m)\u001b[0m\u001b[1;33m)\u001b[0m \u001b[1;32mas\u001b[0m \u001b[0mfig\u001b[0m\u001b[1;33m:\u001b[0m\u001b[1;33m\u001b[0m\u001b[0m\n\u001b[0m\u001b[0;32m      2\u001b[0m     \u001b[0max\u001b[0m \u001b[1;33m=\u001b[0m \u001b[0mfig\u001b[0m\u001b[1;33m.\u001b[0m\u001b[0madd_subplot\u001b[0m\u001b[1;33m(\u001b[0m\u001b[1;36m1\u001b[0m\u001b[1;33m,\u001b[0m\u001b[1;36m1\u001b[0m\u001b[1;33m,\u001b[0m\u001b[1;36m1\u001b[0m\u001b[1;33m)\u001b[0m\u001b[1;33m\u001b[0m\u001b[0m\n\u001b[0;32m      3\u001b[0m     \u001b[0mplot_cdf\u001b[0m\u001b[1;33m(\u001b[0m\u001b[0mpublic_encode_jaccard\u001b[0m\u001b[1;33m,\u001b[0m \u001b[0max\u001b[0m\u001b[1;33m=\u001b[0m\u001b[0max\u001b[0m\u001b[1;33m,\u001b[0m \u001b[0mlabel\u001b[0m\u001b[1;33m=\u001b[0m\u001b[1;34m\"Real\"\u001b[0m\u001b[1;33m,\u001b[0m \u001b[0mlinewidth\u001b[0m\u001b[1;33m=\u001b[0m\u001b[1;36m3\u001b[0m\u001b[1;33m)\u001b[0m\u001b[1;33m\u001b[0m\u001b[0m\n\u001b[0;32m      4\u001b[0m     \u001b[0mplot_cdf\u001b[0m\u001b[1;33m(\u001b[0m\u001b[0mshuffled_public_encode_jaccard\u001b[0m\u001b[1;33m,\u001b[0m \u001b[0max\u001b[0m\u001b[1;33m=\u001b[0m\u001b[0max\u001b[0m\u001b[1;33m,\u001b[0m \u001b[0mlabel\u001b[0m\u001b[1;33m=\u001b[0m\u001b[1;34m\"Random\"\u001b[0m\u001b[1;33m,\u001b[0m \u001b[0mlinewidth\u001b[0m\u001b[1;33m=\u001b[0m\u001b[1;36m3\u001b[0m\u001b[1;33m)\u001b[0m\u001b[1;33m\u001b[0m\u001b[0m\n\u001b[0;32m      5\u001b[0m     \u001b[0max\u001b[0m\u001b[1;33m.\u001b[0m\u001b[0mset_title\u001b[0m\u001b[1;33m(\u001b[0m\u001b[1;34m\"ChIP-seq Peaks Jaccard Correlation\"\u001b[0m\u001b[1;33m)\u001b[0m\u001b[1;33m\u001b[0m\u001b[0m\n",
        "\u001b[1;31mNameError\u001b[0m: name 'os' is not defined"
       ]
      }
     ],
     "prompt_number": 1
    },
    {
     "cell_type": "code",
     "collapsed": false,
     "input": [
      "analysis_dir = \"/nas3/gpratt/projects/clipper/reproducablity/encode_pyicoclip\"\n",
      "pyicos_peaks = ['FOX2_A.bam.pyicoclip.bed',\n",
      " 'FOX2_B.bam.pyicoclip.bed',\n",
      " 'IMP1_A.bam.pyicoclip.bed',\n",
      " 'IMP1_B.bam.pyicoclip.bed',\n",
      " 'IMP2_A.bam.pyicoclip.bed',\n",
      " 'IMP2_B.bam.pyicoclip.bed',\n",
      " 'IMP3_A.bam.pyicoclip.bed',\n",
      " 'IMP3_B.bam.pyicoclip.bed',\n",
      " 'PUM1_A.bam.pyicoclip.bed',\n",
      " 'PUM1_B.bam.pyicoclip.bed',\n",
      " 'PUM2_A.bam.pyicoclip.bed',\n",
      " 'PUM2_B.bam.pyicoclip.bed',\n",
      " 'STAU2_A.bam.pyicoclip.bed',\n",
      " 'STAU2_B.bam.pyicoclip.bed',\n",
      " 'TAF15_A.bam.pyicoclip.bed',\n",
      " 'TAF15_B.bam.pyicoclip.bed',\n",
      " 'TIA1_A.bam.pyicoclip.bed',\n",
      " 'TIA1_B.bam.pyicoclip.bed',]\n",
      "\n",
      "pyicos_peaks = [os.path.join(analysis_dir, pyicos_peak) for pyicos_peak in pyicos_peaks]"
     ],
     "language": "python",
     "metadata": {},
     "outputs": [],
     "prompt_number": 9
    },
    {
     "cell_type": "code",
     "collapsed": false,
     "input": [
      "(pyicos_dict, pyicos_jaccard, \n",
      " shuffled_pyicos_dict, shuffled_pyicos_jaccard) = get_jaccard_differences(pyicos_peaks, lambda x: x.split(\"_\")[0])"
     ],
     "language": "python",
     "metadata": {},
     "outputs": [
      {
       "output_type": "stream",
       "stream": "stdout",
       "text": [
        "invalid literal for int() with base 10: 'Error: line number 429835 of file /nas3/gpratt/projects/clipper/reproducablity/encode_pyicoclip/IMP1_A.bam.pyicoclip.bed has 4 fields, but 9 were expected.'\n",
        "['Error: line number 429835 of file /nas3/gpratt/projects/clipper/reproducablity/encode_pyicoclip/IMP1_A.bam.pyicoclip.bed has 4 fields, but 9 were expected.', '0']\n",
        "['Differing number of BED fields encountered at line: 633377.  Exiting...', 'sort: write failed: standard output: Broken pipe', 'sort: write error', '0']\n"
       ]
      }
     ],
     "prompt_number": "*"
    },
    {
     "cell_type": "code",
     "collapsed": false,
     "input": [
      "with Figure(os.path.join(img_dir, \"pyicos_peak_correlation.svg\"), figsize=(6,6)) as fig:\n",
      "    ax = fig.add_subplot(1,1,1)\n",
      "    plot_cdf(pyicos_jaccard,ax=ax, label=\"Real\")\n",
      "    plot_cdf(shuffled_pyicos_jaccard,ax=ax, label=\"Random\")\n",
      "    ax.set_title(\"ENCODE CLIP Pyicos\")\n",
      "    ax.set_ylabel(\"Cumulataive Fraction\")\n",
      "    ax.set_xlabel(\"Jaccard Index\")\n",
      "    ax.legend()"
     ],
     "language": "python",
     "metadata": {},
     "outputs": [],
     "prompt_number": "*"
    },
    {
     "cell_type": "code",
     "collapsed": false,
     "input": [
      "total_encode_peaks = glob.glob(\"/nas3/gpratt/projects/encode/v7/metrics/IMP*[A-B].peaks.bed\")\n",
      "(encode_peaks_dict, encode_peaks_jaccard, \n",
      " shuffled_encode_peaks_dict, shuffled_encode_peaks_jaccard) = get_jaccard_differences(total_encode_peaks, lambda x: x.split(\"_\")[0])"
     ],
     "language": "python",
     "metadata": {},
     "outputs": [],
     "prompt_number": "*"
    },
    {
     "cell_type": "code",
     "collapsed": false,
     "input": [
      "with Figure(os.path.join(img_dir, \"encode_clip_peak_correlation.svg\"), figsize=(6,6)) as fig:\n",
      "    ax = fig.add_subplot(1,1,1)\n",
      "    plot_cdf(encode_peaks_jaccard, ax=ax, label=\"Real\", linewidth=3)\n",
      "    plot_cdf(shuffled_encode_peaks_jaccard, ax=ax, label=\"Random\", linewidth=3)\n",
      "    y_format = tkr.FuncFormatter(percent)  # make formatter\n",
      "    ax.yaxis.set_major_formatter(y_format)\n",
      "    ax.set_title(\"ENCODE CLIP Peaks\")\n",
      "    ax.set_ylabel(\"Cumulataive Fraction\")\n",
      "    ax.set_xlabel(\"Jaccard Index\")\n",
      "    ax.legend()"
     ],
     "language": "python",
     "metadata": {},
     "outputs": [],
     "prompt_number": "*"
    },
    {
     "cell_type": "code",
     "collapsed": false,
     "input": [],
     "language": "python",
     "metadata": {},
     "outputs": []
    }
   ],
   "metadata": {}
  }
 ]
}